{
  "cells": [
    {
      "cell_type": "markdown",
      "metadata": {
        "id": "view-in-github",
        "colab_type": "text"
      },
      "source": [
        "<a href=\"https://colab.research.google.com/github/n-vit/YaP_Projects/blob/main/5_%D0%90%D0%BD%D0%B0%D0%BB%D0%B8%D0%B7_%D0%B4%D0%B0%D0%BD%D0%BD%D1%8B%D1%85.ipynb\" target=\"_parent\"><img src=\"https://colab.research.google.com/assets/colab-badge.svg\" alt=\"Open In Colab\"/></a>"
      ]
    },
    {
      "cell_type": "markdown",
      "metadata": {
        "id": "7YtdioQ15iST"
      },
      "source": [
        "# 0. Цель проекта\n",
        "Провести анализ ретроспективных данных о продажах компьютерных игр, выявить определяющие успешность игры закономерности. \n",
        "\n",
        "Предложить характеристики потенциально популярного продукта на год, следующий за датасетом"
      ]
    },
    {
      "cell_type": "markdown",
      "metadata": {
        "id": "YTxygpk8K1uu"
      },
      "source": [
        "# **ВЫВОДЫ ПРОЕКТА:**\n",
        "\n",
        "1. **Общие выводы по сету**\n",
        "Игровая индустрия постоянно меняется. В периоде отраженном в сете можно выделить отдельные эпохи:\n",
        "- до 2003-2005 г.г. Эпоха локальных игр. В это время мало кроссплатформенных игр, технологии платформ разрознены, часто игры определяют успех платформы. \n",
        "- 2003-2010 г.г. - Эпоха сетевых консолей. Высокое проникновение интернета, игры становятся кроссплатформенными и сетевыми, а борьба платформ сосредотачивается в \"железе\"\n",
        "- 2011-2016 г.г.- Эпоха мобайл. Многие жанры консольных игр полностью переходят в мобильные, но некоторые даже наращивают обороты. \n",
        "Для задач на 2017 год имеет смысл анализировать последние пять лет - эпоху мобильных платформ. Для отслеживания детальной динамики - будем смотреть на последние два года. \n",
        "\n",
        "2. **Жанры и игры**\n",
        "~- наиболее стабильные жанры по количеству проданных игр за последние пять лет - **Приключения, Спорт и Шутеры**~. \n",
        "\n",
        "<div class=\"alert alert-info\", style=\"color:brown\">\n",
        "    \n",
        "**корректировка вывода**:    \n",
        "- наиболее стабильные жанры по количеству проданных игр за последние пять лет: Shooter, \n",
        "Platform, \n",
        "Sports, \n",
        "Role-Playing, \n",
        "Racing\n",
        "</div>\n",
        "    \n",
        "К Приключениям (Adventure)стоит присмотреться подробнее - этот жанр не потерял среднегодовые объемы продаж за последние два года, а даже немного нарастил, в отличии от всех остальных. \n",
        "\n",
        "**Продажи сосредоточены во франшизах**. \n",
        "\n",
        "Наиболее интересные бенчмарки франшиз, выявленные при анализе жанров и игр:\n",
        "\n",
        "GTA, FIFA, Call of duty\n",
        "\n",
        "3. **Платформы**\n",
        "- Самая живая платформа на момент анализа - Х360. Там наибольшее статистически значимое количество игр и самая высокая медиана количества продаж каждой игры, а значит на этой платформе уже сидит наибольшее количетсво пользователей, но есть одно НО - большая часть пользователей - в Северной Америке.  \n",
        "- **лучшие перспективы на 2017 у PS4** - она уже обходит основного конкурента XOne,хотя Microsoft на старте располагал лучшей базой за счет успеха Х360 в Штатах.\n",
        "\n",
        "<div class=\"alert alert-info\", style=\"color:brown\">\n",
        "\n",
        "срок жизни наиболее популярных платформ за весь период исследования - 7-10 лет, при этом отчетливо прослеживается преемственность поколений в рамках одного семейства (Sony, MS, Nintendo)\n",
        "    \n",
        "</div>\n",
        "\n",
        "~Если мы ориентируемся на рынок Европы и РФ - то значимость платформ Microsoft еще меньше. Промо стоит ориентировать на пользователей PS4~\n",
        "\n",
        "<div class=\"alert alert-info\", style=\"color:brown\">\n",
        "\n",
        "но не стоит списывать со счетов XOne, при ближайшем рассмотрении оказалось, что по состоянию на 2016 она сопоставима с PS4 по основным параметрам (статистически значимые продажи, медиана продаж на игру). \n",
        "Так что в рекомендациях на 2017 остаются последние два поколения консолей от MS и Sony\n",
        "\n",
        "</div>\n",
        "      \n",
        "- платформы nintendo (Wii и 3DS) локальные, популярны только на Японском рынке и на них не стоит делать ставки\n",
        "\n",
        "4. **Отзывы** критиков сильнее коррелируют с продажами, чем отзывы пользователей. На отзывы критиков можно ориентироваться при выборе продуктов для промо. ТОП 10 продуктов указан в исследовании \n",
        "\n",
        "5. **Портрет пользователя** на разных рынках\n",
        "\n",
        "На самом деле рынок глобализован, и за исключением некоторых национальных особенностей пользователи играют в одни и те же игрушки:\n",
        "- в Северной Америке Х360 популярнее чем PS, но продажи вполне сопоставимы\n",
        "- Японский рынок стоит особняком по платформам, играм и жанрам и возрастным рейтингам. Возможно они инопланетяне. По крайней мере рассчитывать на долю в японском рынке ориентируясь на глобальный точно не стоит.\n",
        "- пользователи глобальных рынков предпочитают игры с рейтингом М и Е\n",
        "\n",
        "<div class=\"alert alert-info\", style=\"color:brown\">\n",
        "\n",
        "Можно отметить, что на японском рынке больше половины игр вообще без рейтинга, \n",
        "а самые внимательные к возрастым ограничениям - европейцы. \n",
        "</div>\n",
        "\n",
        "6. ~**Обе предложенные гипотезы подтвердились**~:\n",
        "\n",
        "<div class=\"alert alert-info\", style=\"color:brown\">\n",
        "\n",
        "**Обе предложенные гипотезы не могут быть отвергнуты:**\n",
        "    \n",
        "</div>\n",
        "\n",
        "\n",
        "- пользовательские рейтинги на PC и XOne одинаковы.\n",
        "- Средние пользовательские рейтинги жанров Action  Sports - разные \n",
        "\n",
        "\n",
        "**ИТОГО**\n",
        "В 2017 году наибольшей популярностью будут пользоваться игры в жанрах:\n",
        "\n",
        "<div class=\"alert alert-info\", style=\"color:brown\">\n",
        "    \n",
        "**Shooter, \n",
        "Platform, \n",
        "Sports, \n",
        "Role-Playing, \n",
        "Racing**, \n",
        "    \n",
        "</div>   \n",
        "\n",
        "выпущенные на платформе **PS4**, предыдущая версия PS3 и продукты Xbox360 и One будут занимать так же значительную долю рынка. \n",
        "В оперативных решениях стоит ориентироваться на **глобальные рынки Северной Америки и Европы**, в т.ч. на объемы продаж в сегментах и **оценки критиков**, т.к. они имеют умеренную положительную корреляцию с продажами. \n",
        "\n",
        "Рекомендуется так же более глубокий анализ в разделах:\n",
        "- жизненной модели новых релизов популярных франшиз (запуск-развитие-спад-выход с рынка)\n",
        "- сезонность в продажах\n",
        "- модели монетизации (P2P и F2P)\n",
        "- аналитика растущего сегмента мобильных игр. \n",
        "\n"
      ]
    },
    {
      "cell_type": "code",
      "execution_count": null,
      "metadata": {
        "id": "YKNDCEZ95R7X"
      },
      "outputs": [],
      "source": [
        "import pandas as pd\n",
        "import numpy as np\n",
        "import matplotlib.pyplot as plt\n",
        "import seaborn as sns\n",
        "import math\n",
        "import datetime\n",
        "from scipy import stats as st\n",
        "from itertools import combinations\n",
        "from matplotlib import rc\n",
        "import re"
      ]
    },
    {
      "cell_type": "code",
      "execution_count": null,
      "metadata": {
        "id": "CxWGzt-06S2n"
      },
      "outputs": [],
      "source": [
        "try: # if the project is opened in Collab use a 'try' block, if it opened in simulator Yandex, or Jupiter, use an 'except' block\n",
        "    from google.colab import drive\n",
        "    drive.mount('/content/drive')\n",
        "    games = pd.read_csv('/content/drive/MyDrive/Colab Notebooks/yap6_S1/games.csv')\n",
        "\n",
        "\n",
        "except:\n",
        "    games = pd.read_csv('/datasets/games.csv')\n"
      ]
    },
    {
      "cell_type": "markdown",
      "metadata": {
        "id": "P7QJYefU85sy"
      },
      "source": [
        "# 1. Обзор и предобработка данных\n",
        "**Описание датасета**\n",
        "\n",
        "- [x] Name — название игрыя\n",
        "- [x] Platform — платформа\n",
        "- [x] Year_of_Release — год выпуска (перевести в формат даты, посмотреть на пропуски)\n",
        "- [x] Genre — жанр игры \n",
        "- [x] NA_sales — продажи в Северной Америке (миллионы проданных копий)\n",
        "- [x] EU_sales — продажи в Европе (миллионы проданных копий)\n",
        "- [x] JP_sales — продажи в Японии (миллионы проданных копий)\n",
        "- [x] Other_sales — продажи в других странах (миллионы проданных копий)\n",
        "- [x] Critic_Score — оценка критиков (максимум 100)\n",
        "- [x] User_Score — оценка пользователей (максимум 10) (переести в числовой)\n",
        "- [x] Rating — рейтинг от организации ESRB (англ. - Entertainment Software Rating\n",
        "Board). Эта ассоциация определяет рейтинг компьютерных игр и присваивает\n",
        "им подходящую возрастную категорию."
      ]
    },
    {
      "cell_type": "code",
      "execution_count": null,
      "metadata": {
        "colab": {
          "base_uri": "https://localhost:8080/",
          "height": 744
        },
        "id": "M1KFU8Kl9bvx",
        "outputId": "5a40ebee-c85a-4122-886a-4b2e234cde88"
      },
      "outputs": [
        {
          "data": {
            "text/html": [
              "<div>\n",
              "<style scoped>\n",
              "    .dataframe tbody tr th:only-of-type {\n",
              "        vertical-align: middle;\n",
              "    }\n",
              "\n",
              "    .dataframe tbody tr th {\n",
              "        vertical-align: top;\n",
              "    }\n",
              "\n",
              "    .dataframe thead th {\n",
              "        text-align: right;\n",
              "    }\n",
              "</style>\n",
              "<table border=\"1\" class=\"dataframe\">\n",
              "  <thead>\n",
              "    <tr style=\"text-align: right;\">\n",
              "      <th></th>\n",
              "      <th>Name</th>\n",
              "      <th>Platform</th>\n",
              "      <th>Year_of_Release</th>\n",
              "      <th>Genre</th>\n",
              "      <th>NA_sales</th>\n",
              "      <th>EU_sales</th>\n",
              "      <th>JP_sales</th>\n",
              "      <th>Other_sales</th>\n",
              "      <th>Critic_Score</th>\n",
              "      <th>User_Score</th>\n",
              "      <th>Rating</th>\n",
              "    </tr>\n",
              "  </thead>\n",
              "  <tbody>\n",
              "    <tr>\n",
              "      <th>0</th>\n",
              "      <td>Wii Sports</td>\n",
              "      <td>Wii</td>\n",
              "      <td>2006.0</td>\n",
              "      <td>Sports</td>\n",
              "      <td>41.36</td>\n",
              "      <td>28.96</td>\n",
              "      <td>3.77</td>\n",
              "      <td>8.45</td>\n",
              "      <td>76.0</td>\n",
              "      <td>8</td>\n",
              "      <td>E</td>\n",
              "    </tr>\n",
              "    <tr>\n",
              "      <th>1</th>\n",
              "      <td>Super Mario Bros.</td>\n",
              "      <td>NES</td>\n",
              "      <td>1985.0</td>\n",
              "      <td>Platform</td>\n",
              "      <td>29.08</td>\n",
              "      <td>3.58</td>\n",
              "      <td>6.81</td>\n",
              "      <td>0.77</td>\n",
              "      <td>NaN</td>\n",
              "      <td>NaN</td>\n",
              "      <td>NaN</td>\n",
              "    </tr>\n",
              "    <tr>\n",
              "      <th>2</th>\n",
              "      <td>Mario Kart Wii</td>\n",
              "      <td>Wii</td>\n",
              "      <td>2008.0</td>\n",
              "      <td>Racing</td>\n",
              "      <td>15.68</td>\n",
              "      <td>12.76</td>\n",
              "      <td>3.79</td>\n",
              "      <td>3.29</td>\n",
              "      <td>82.0</td>\n",
              "      <td>8.3</td>\n",
              "      <td>E</td>\n",
              "    </tr>\n",
              "    <tr>\n",
              "      <th>3</th>\n",
              "      <td>Wii Sports Resort</td>\n",
              "      <td>Wii</td>\n",
              "      <td>2009.0</td>\n",
              "      <td>Sports</td>\n",
              "      <td>15.61</td>\n",
              "      <td>10.93</td>\n",
              "      <td>3.28</td>\n",
              "      <td>2.95</td>\n",
              "      <td>80.0</td>\n",
              "      <td>8</td>\n",
              "      <td>E</td>\n",
              "    </tr>\n",
              "    <tr>\n",
              "      <th>4</th>\n",
              "      <td>Pokemon Red/Pokemon Blue</td>\n",
              "      <td>GB</td>\n",
              "      <td>1996.0</td>\n",
              "      <td>Role-Playing</td>\n",
              "      <td>11.27</td>\n",
              "      <td>8.89</td>\n",
              "      <td>10.22</td>\n",
              "      <td>1.00</td>\n",
              "      <td>NaN</td>\n",
              "      <td>NaN</td>\n",
              "      <td>NaN</td>\n",
              "    </tr>\n",
              "  </tbody>\n",
              "</table>\n",
              "</div>"
            ],
            "text/plain": [
              "                       Name Platform  Year_of_Release         Genre  NA_sales  \\\n",
              "0                Wii Sports      Wii           2006.0        Sports     41.36   \n",
              "1         Super Mario Bros.      NES           1985.0      Platform     29.08   \n",
              "2            Mario Kart Wii      Wii           2008.0        Racing     15.68   \n",
              "3         Wii Sports Resort      Wii           2009.0        Sports     15.61   \n",
              "4  Pokemon Red/Pokemon Blue       GB           1996.0  Role-Playing     11.27   \n",
              "\n",
              "   EU_sales  JP_sales  Other_sales  Critic_Score User_Score Rating  \n",
              "0     28.96      3.77         8.45          76.0          8      E  \n",
              "1      3.58      6.81         0.77           NaN        NaN    NaN  \n",
              "2     12.76      3.79         3.29          82.0        8.3      E  \n",
              "3     10.93      3.28         2.95          80.0          8      E  \n",
              "4      8.89     10.22         1.00           NaN        NaN    NaN  "
            ]
          },
          "metadata": {},
          "output_type": "display_data"
        },
        {
          "name": "stdout",
          "output_type": "stream",
          "text": [
            "<class 'pandas.core.frame.DataFrame'>\n",
            "RangeIndex: 16715 entries, 0 to 16714\n",
            "Data columns (total 11 columns):\n",
            " #   Column           Non-Null Count  Dtype  \n",
            "---  ------           --------------  -----  \n",
            " 0   Name             16713 non-null  object \n",
            " 1   Platform         16715 non-null  object \n",
            " 2   Year_of_Release  16446 non-null  float64\n",
            " 3   Genre            16713 non-null  object \n",
            " 4   NA_sales         16715 non-null  float64\n",
            " 5   EU_sales         16715 non-null  float64\n",
            " 6   JP_sales         16715 non-null  float64\n",
            " 7   Other_sales      16715 non-null  float64\n",
            " 8   Critic_Score     8137 non-null   float64\n",
            " 9   User_Score       10014 non-null  object \n",
            " 10  Rating           9949 non-null   object \n",
            "dtypes: float64(6), object(5)\n",
            "memory usage: 1.4+ MB\n"
          ]
        },
        {
          "data": {
            "text/plain": [
              "None"
            ]
          },
          "metadata": {},
          "output_type": "display_data"
        },
        {
          "data": {
            "text/plain": [
              "Name                  2\n",
              "Platform              0\n",
              "Year_of_Release     269\n",
              "Genre                 2\n",
              "NA_sales              0\n",
              "EU_sales              0\n",
              "JP_sales              0\n",
              "Other_sales           0\n",
              "Critic_Score       8578\n",
              "User_Score         6701\n",
              "Rating             6766\n",
              "dtype: int64"
            ]
          },
          "metadata": {},
          "output_type": "display_data"
        }
      ],
      "source": [
        "display(games.head(5))\n",
        "display(games.info())\n",
        "display(games.isna().sum())"
      ]
    },
    {
      "cell_type": "code",
      "execution_count": null,
      "metadata": {
        "colab": {
          "base_uri": "https://localhost:8080/",
          "height": 300
        },
        "id": "QShKoFylTOwQ",
        "outputId": "67fd783f-04c7-409a-d9a1-1913f35c80b7"
      },
      "outputs": [
        {
          "data": {
            "text/html": [
              "<div>\n",
              "<style scoped>\n",
              "    .dataframe tbody tr th:only-of-type {\n",
              "        vertical-align: middle;\n",
              "    }\n",
              "\n",
              "    .dataframe tbody tr th {\n",
              "        vertical-align: top;\n",
              "    }\n",
              "\n",
              "    .dataframe thead th {\n",
              "        text-align: right;\n",
              "    }\n",
              "</style>\n",
              "<table border=\"1\" class=\"dataframe\">\n",
              "  <thead>\n",
              "    <tr style=\"text-align: right;\">\n",
              "      <th></th>\n",
              "      <th>Year_of_Release</th>\n",
              "      <th>NA_sales</th>\n",
              "      <th>EU_sales</th>\n",
              "      <th>JP_sales</th>\n",
              "      <th>Other_sales</th>\n",
              "      <th>Critic_Score</th>\n",
              "    </tr>\n",
              "  </thead>\n",
              "  <tbody>\n",
              "    <tr>\n",
              "      <th>count</th>\n",
              "      <td>16446.000000</td>\n",
              "      <td>16715.000000</td>\n",
              "      <td>16715.000000</td>\n",
              "      <td>16715.000000</td>\n",
              "      <td>16715.000000</td>\n",
              "      <td>8137.000000</td>\n",
              "    </tr>\n",
              "    <tr>\n",
              "      <th>mean</th>\n",
              "      <td>2006.484616</td>\n",
              "      <td>0.263377</td>\n",
              "      <td>0.145060</td>\n",
              "      <td>0.077617</td>\n",
              "      <td>0.047342</td>\n",
              "      <td>68.967679</td>\n",
              "    </tr>\n",
              "    <tr>\n",
              "      <th>std</th>\n",
              "      <td>5.877050</td>\n",
              "      <td>0.813604</td>\n",
              "      <td>0.503339</td>\n",
              "      <td>0.308853</td>\n",
              "      <td>0.186731</td>\n",
              "      <td>13.938165</td>\n",
              "    </tr>\n",
              "    <tr>\n",
              "      <th>min</th>\n",
              "      <td>1980.000000</td>\n",
              "      <td>0.000000</td>\n",
              "      <td>0.000000</td>\n",
              "      <td>0.000000</td>\n",
              "      <td>0.000000</td>\n",
              "      <td>13.000000</td>\n",
              "    </tr>\n",
              "    <tr>\n",
              "      <th>25%</th>\n",
              "      <td>2003.000000</td>\n",
              "      <td>0.000000</td>\n",
              "      <td>0.000000</td>\n",
              "      <td>0.000000</td>\n",
              "      <td>0.000000</td>\n",
              "      <td>60.000000</td>\n",
              "    </tr>\n",
              "    <tr>\n",
              "      <th>50%</th>\n",
              "      <td>2007.000000</td>\n",
              "      <td>0.080000</td>\n",
              "      <td>0.020000</td>\n",
              "      <td>0.000000</td>\n",
              "      <td>0.010000</td>\n",
              "      <td>71.000000</td>\n",
              "    </tr>\n",
              "    <tr>\n",
              "      <th>75%</th>\n",
              "      <td>2010.000000</td>\n",
              "      <td>0.240000</td>\n",
              "      <td>0.110000</td>\n",
              "      <td>0.040000</td>\n",
              "      <td>0.030000</td>\n",
              "      <td>79.000000</td>\n",
              "    </tr>\n",
              "    <tr>\n",
              "      <th>max</th>\n",
              "      <td>2016.000000</td>\n",
              "      <td>41.360000</td>\n",
              "      <td>28.960000</td>\n",
              "      <td>10.220000</td>\n",
              "      <td>10.570000</td>\n",
              "      <td>98.000000</td>\n",
              "    </tr>\n",
              "  </tbody>\n",
              "</table>\n",
              "</div>"
            ],
            "text/plain": [
              "       Year_of_Release      NA_sales      EU_sales      JP_sales  \\\n",
              "count     16446.000000  16715.000000  16715.000000  16715.000000   \n",
              "mean       2006.484616      0.263377      0.145060      0.077617   \n",
              "std           5.877050      0.813604      0.503339      0.308853   \n",
              "min        1980.000000      0.000000      0.000000      0.000000   \n",
              "25%        2003.000000      0.000000      0.000000      0.000000   \n",
              "50%        2007.000000      0.080000      0.020000      0.000000   \n",
              "75%        2010.000000      0.240000      0.110000      0.040000   \n",
              "max        2016.000000     41.360000     28.960000     10.220000   \n",
              "\n",
              "        Other_sales  Critic_Score  \n",
              "count  16715.000000   8137.000000  \n",
              "mean       0.047342     68.967679  \n",
              "std        0.186731     13.938165  \n",
              "min        0.000000     13.000000  \n",
              "25%        0.000000     60.000000  \n",
              "50%        0.010000     71.000000  \n",
              "75%        0.030000     79.000000  \n",
              "max       10.570000     98.000000  "
            ]
          },
          "execution_count": 4,
          "metadata": {},
          "output_type": "execute_result"
        }
      ],
      "source": [
        "games.describe()"
      ]
    },
    {
      "cell_type": "code",
      "execution_count": null,
      "metadata": {
        "colab": {
          "base_uri": "https://localhost:8080/"
        },
        "id": "B10ljfZtCQdr",
        "outputId": "5308c3cd-be87-4ac7-df9c-9d9dedfda84e"
      },
      "outputs": [
        {
          "data": {
            "text/plain": [
              "0"
            ]
          },
          "execution_count": 5,
          "metadata": {},
          "output_type": "execute_result"
        }
      ],
      "source": [
        "games.duplicated().sum()"
      ]
    },
    {
      "cell_type": "code",
      "execution_count": null,
      "metadata": {
        "colab": {
          "base_uri": "https://localhost:8080/"
        },
        "id": "s3qy2pcfB6Tl",
        "outputId": "b7fce4d6-58d0-4ecb-c628-8e85d3f8f421"
      },
      "outputs": [
        {
          "data": {
            "text/plain": [
              "array(['Sports', 'Platform', 'Racing', 'Role-Playing', 'Puzzle', 'Misc',\n",
              "       'Shooter', 'Simulation', 'Action', 'Fighting', 'Adventure',\n",
              "       'Strategy', nan], dtype=object)"
            ]
          },
          "execution_count": 6,
          "metadata": {},
          "output_type": "execute_result"
        }
      ],
      "source": [
        "games['Genre'].unique()"
      ]
    },
    {
      "cell_type": "markdown",
      "metadata": {
        "id": "zC36fhJUMRbF"
      },
      "source": [
        "## 1.1 Предобработка данных\n",
        "\n",
        "Предобработка будет состоять в:\n",
        "- изменение формата для оценок пользователей (число) \n",
        "- оптимизация разрядности числовых данных\n",
        "- анализ пропущенных значений и заполнение при необходимости"
      ]
    },
    {
      "cell_type": "code",
      "execution_count": null,
      "metadata": {
        "id": "cOX-ZD83DiLS"
      },
      "outputs": [],
      "source": [
        "games.columns = games.columns.str.lower() # converting column headers to lowercase"
      ]
    },
    {
      "cell_type": "code",
      "execution_count": null,
      "metadata": {
        "colab": {
          "base_uri": "https://localhost:8080/"
        },
        "id": "AJfNpSPacpCz",
        "outputId": "8d16d5d9-c537-4755-eb0c-f93f2b1d2a97"
      },
      "outputs": [
        {
          "data": {
            "text/plain": [
              "array(['8', nan, '8.3', '8.5', '6.6', '8.4', '8.6', '7.7', '6.3', '7.4',\n",
              "       '8.2', '9', '7.9', '8.1', '8.7', '7.1', '3.4', '5.3', '4.8', '3.2',\n",
              "       '8.9', '6.4', '7.8', '7.5', '2.6', '7.2', '9.2', '7', '7.3', '4.3',\n",
              "       '7.6', '5.7', '5', '9.1', '6.5', 'tbd', '8.8', '6.9', '9.4', '6.8',\n",
              "       '6.1', '6.7', '5.4', '4', '4.9', '4.5', '9.3', '6.2', '4.2', '6',\n",
              "       '3.7', '4.1', '5.8', '5.6', '5.5', '4.4', '4.6', '5.9', '3.9',\n",
              "       '3.1', '2.9', '5.2', '3.3', '4.7', '5.1', '3.5', '2.5', '1.9', '3',\n",
              "       '2.7', '2.2', '2', '9.5', '2.1', '3.6', '2.8', '1.8', '3.8', '0',\n",
              "       '1.6', '9.6', '2.4', '1.7', '1.1', '0.3', '1.5', '0.7', '1.2',\n",
              "       '2.3', '0.5', '1.3', '0.2', '0.6', '1.4', '0.9', '1', '9.7'],\n",
              "      dtype=object)"
            ]
          },
          "execution_count": 8,
          "metadata": {},
          "output_type": "execute_result"
        }
      ],
      "source": [
        "games['user_score'].unique()"
      ]
    },
    {
      "cell_type": "markdown",
      "metadata": {
        "id": "1zeQmstu-4NE"
      },
      "source": [
        "Столбец с данными об оценках пользователей кроме оценок содержит пропуски и строки \"tbd\". Из-за них столбец нельзя перевести в числовой тип и обрабатывать оценки. Обычно этой аббривиатурой обозначают значения, которые будут заполнены позднее (to be determined). заменим эти значения пропусками"
      ]
    },
    {
      "cell_type": "code",
      "execution_count": null,
      "metadata": {
        "id": "x_2Zb_bJ_pjW"
      },
      "outputs": [],
      "source": [
        "games['user_score'] = games['user_score'].replace('tbd', np.nan)\n",
        "games['user_score'] = games['user_score'].astype(float)"
      ]
    },
    {
      "cell_type": "markdown",
      "metadata": {
        "id": "eI6EeTnNB_sY"
      },
      "source": [
        "оптимизируем разрядность данных\n"
      ]
    },
    {
      "cell_type": "code",
      "execution_count": null,
      "metadata": {
        "colab": {
          "base_uri": "https://localhost:8080/"
        },
        "id": "xWH01xyUBoUj",
        "outputId": "a8e8e830-65aa-4ad6-81e5-295d3edea662"
      },
      "outputs": [
        {
          "name": "stdout",
          "output_type": "stream",
          "text": [
            "<class 'pandas.core.frame.DataFrame'>\n",
            "RangeIndex: 16715 entries, 0 to 16714\n",
            "Data columns (total 11 columns):\n",
            " #   Column           Non-Null Count  Dtype  \n",
            "---  ------           --------------  -----  \n",
            " 0   name             16713 non-null  object \n",
            " 1   platform         16715 non-null  object \n",
            " 2   year_of_release  16446 non-null  float64\n",
            " 3   genre            16713 non-null  object \n",
            " 4   na_sales         16715 non-null  float64\n",
            " 5   eu_sales         16715 non-null  float64\n",
            " 6   jp_sales         16715 non-null  float64\n",
            " 7   other_sales      16715 non-null  float64\n",
            " 8   critic_score     8137 non-null   float64\n",
            " 9   user_score       7590 non-null   float64\n",
            " 10  rating           9949 non-null   object \n",
            "dtypes: float64(7), object(4)\n",
            "memory usage: 1.4+ MB\n"
          ]
        }
      ],
      "source": [
        "#games_float = games.select_dtypes(include=['float']) # selecting 'float' data\n",
        "#games_float = games_float.apply(pd.to_numeric,downcast='float') # lowering the bit depth to acceptable\n",
        "#games[games_float.columns] = games_float # replacing the data in the original frame with optimized ones\n",
        "\n",
        "games.info()"
      ]
    },
    {
      "cell_type": "markdown",
      "metadata": {
        "id": "SuRWGiQYJrmC"
      },
      "source": [
        "**Пропуски в годе релиза**. Скорее всего игры выпускают одновременно для разных платформ, или разница в сроках релиза невелика, так затраты на промо будут оптимальными. Но для этого нужно быть уверенным, что в нашем фрейме год запуска для одной и той же игры на разных платформах - одинаковый (стандартное отклонение в годах релиза одной и той же игры на разных платформах = 0). Звучит как нулевая гипотеза. \n",
        "\n",
        "**Гипотеза 0** - Стандартное отклонение в датах релиза для одной игры на разных платформах равно нулю. (Каждая игра выходит на разных платформах в одном году)\n",
        "\n",
        "**Альтернативная гипотеза** - Игры выходят на разных платформах в разные годы\n",
        "\n",
        "Чтобы проверить гипотезу соберем в сводную таблицу для каждой игры - количество релизов и стандартнондартное отклонение в годах релиза (не включая пропуски в годах). Используем метод проверки гипотез `ttest_1samp` и `alpha=0.05`\n"
      ]
    },
    {
      "cell_type": "code",
      "execution_count": null,
      "metadata": {
        "colab": {
          "base_uri": "https://localhost:8080/",
          "height": 241
        },
        "id": "Bx8u_1E0JvcX",
        "outputId": "f1adc8ca-0ed3-4595-f501-74fd2fc43680"
      },
      "outputs": [
        {
          "data": {
            "text/html": [
              "<div>\n",
              "<style scoped>\n",
              "    .dataframe tbody tr th:only-of-type {\n",
              "        vertical-align: middle;\n",
              "    }\n",
              "\n",
              "    .dataframe tbody tr th {\n",
              "        vertical-align: top;\n",
              "    }\n",
              "\n",
              "    .dataframe thead th {\n",
              "        text-align: right;\n",
              "    }\n",
              "</style>\n",
              "<table border=\"1\" class=\"dataframe\">\n",
              "  <thead>\n",
              "    <tr style=\"text-align: right;\">\n",
              "      <th></th>\n",
              "      <th>name</th>\n",
              "      <th>year_std</th>\n",
              "      <th>year_count</th>\n",
              "    </tr>\n",
              "  </thead>\n",
              "  <tbody>\n",
              "    <tr>\n",
              "      <th>2</th>\n",
              "      <td>Frozen: Olaf's Quest</td>\n",
              "      <td>0.000000</td>\n",
              "      <td>2</td>\n",
              "    </tr>\n",
              "    <tr>\n",
              "      <th>17</th>\n",
              "      <td>007: Quantum of Solace</td>\n",
              "      <td>0.000000</td>\n",
              "      <td>6</td>\n",
              "    </tr>\n",
              "    <tr>\n",
              "      <th>18</th>\n",
              "      <td>007: The World is not Enough</td>\n",
              "      <td>0.000000</td>\n",
              "      <td>2</td>\n",
              "    </tr>\n",
              "    <tr>\n",
              "      <th>33</th>\n",
              "      <td>11eyes: CrossOver</td>\n",
              "      <td>0.707107</td>\n",
              "      <td>2</td>\n",
              "    </tr>\n",
              "    <tr>\n",
              "      <th>39</th>\n",
              "      <td>18 Wheeler: American Pro Trucker</td>\n",
              "      <td>0.707107</td>\n",
              "      <td>2</td>\n",
              "    </tr>\n",
              "  </tbody>\n",
              "</table>\n",
              "</div>"
            ],
            "text/plain": [
              "                                name  year_std  year_count\n",
              "2               Frozen: Olaf's Quest  0.000000           2\n",
              "17            007: Quantum of Solace  0.000000           6\n",
              "18      007: The World is not Enough  0.000000           2\n",
              "33                 11eyes: CrossOver  0.707107           2\n",
              "39  18 Wheeler: American Pro Trucker  0.707107           2"
            ]
          },
          "metadata": {},
          "output_type": "display_data"
        },
        {
          "name": "stdout",
          "output_type": "stream",
          "text": [
            "p-значение: 2.1226546726718736e-63\n",
            "Отвергаем нулевую гипотезу\n"
          ]
        }
      ],
      "source": [
        "game_year = games.query('year_of_release >=1900')\n",
        "game_cnt = game_year.groupby('name').agg({'year_of_release':'count'}).reset_index()\n",
        "game_cnt.columns = ['name', 'year_count']\n",
        "game_std = game_year.groupby('name').agg({'year_of_release':'std'}).reset_index()\n",
        "game_std.columns = ['name', 'year_std']\n",
        "df_y = game_std.merge(game_cnt, how='outer', on='name')\n",
        "df_y = df_y.query('year_count >1')\n",
        "display(df_y.head(5))\n",
        "\n",
        "alpha = 0.05\n",
        "results = st.ttest_1samp(df_y['year_std'], 0)\n",
        "\n",
        "print('p-значение:', results.pvalue)\n",
        "\n",
        "if results.pvalue < alpha:\n",
        "    print(\"Отвергаем нулевую гипотезу\")\n",
        "else:\n",
        "    print(\"Не получилось отвергнуть нулевую гипотезу\")"
      ]
    },
    {
      "cell_type": "code",
      "execution_count": null,
      "metadata": {
        "id": "R18MZ934r3tW"
      },
      "outputs": [],
      "source": [
        "df_y = df_y.query('year_std > 1')\n",
        "df_y = df_y.drop(columns='year_count')\n",
        "df_y = games.merge(df_y, how='inner', on='name')\n"
      ]
    },
    {
      "cell_type": "code",
      "execution_count": null,
      "metadata": {
        "colab": {
          "base_uri": "https://localhost:8080/"
        },
        "id": "-2eyLqCFth77",
        "outputId": "3133cfad-2b29-4bc1-c7ef-2364630d4f3d"
      },
      "outputs": [
        {
          "name": "stdout",
          "output_type": "stream",
          "text": [
            "Количество пропусков в дате релиза для игр, релизы которых вызходили на нескольких других площадках в один год: 0\n"
          ]
        }
      ],
      "source": [
        "df_y= df_y.query('year_std == 0')\n",
        "print('Количество пропусков в дате релиза для игр, релизы которых вызходили на нескольких других площадках в один год:', df_y['year_of_release'].isna().sum())"
      ]
    },
    {
      "cell_type": "markdown",
      "metadata": {
        "id": "6mqiE68sdxwe"
      },
      "source": [
        "Релизы игр на разных платформах со значительной вероятностью могут выпускаться в разные годы.\n",
        "\n",
        "Для игр, которые выпускались в один год на разных платформах - нет пропущенных значений в дате релиза \n",
        "\n",
        "Восстановление пропусков по известной дате релиза игры на другой платформе может негативно повлиять на результат исследования. Оставим значения незаполненными\n"
      ]
    },
    {
      "cell_type": "code",
      "execution_count": null,
      "metadata": {
        "scrolled": true,
        "id": "nXV55i57P-m6",
        "outputId": "c94639ea-3418-49f6-8f8e-1fc0168d09db"
      },
      "outputs": [
        {
          "name": "stdout",
          "output_type": "stream",
          "text": [
            "Количество строк, с пропущенным годом релиза до обработки: 269\n",
            "Установленные из названий годы релиза: [  nan 2015. 2004. 2005. 2007. 2003. 2012. 2008. 2014. 2002. 2006. 2009.\n",
            " 2013. 2011. 2010. 2000. 2001. 2016. 1999. 1996.]\n"
          ]
        },
        {
          "data": {
            "text/plain": [
              "'Удалось востановить строк:'"
            ]
          },
          "metadata": {},
          "output_type": "display_data"
        },
        {
          "data": {
            "text/plain": [
              "18"
            ]
          },
          "metadata": {},
          "output_type": "display_data"
        }
      ],
      "source": [
        "а = games['year_of_release'].isna().sum()\n",
        "print('Количество строк, с пропущенным годом релиза до обработки:', а)\n",
        "\n",
        "def year_recovery(row): #функция принимает строку и возвращает год, если он в списке между 1980 и 2017\n",
        "    \n",
        "    name = row['name']\n",
        "    year = row['year_of_release']\n",
        "    try:\n",
        "        result = int(\"\".join(re.findall(r'\\d+', name))) # извлекает int число из строки, если оно там есть\n",
        "    except:\n",
        "        result = 0\n",
        "    if result in list(range(1980,2017)):    \n",
        "        return result\n",
        "\n",
        "games['year_recovery'] = games.apply(year_recovery, axis=1)\n",
        "\n",
        "print('Установленные из названий годы релиза:', games['year_recovery'].unique())\n",
        "games['year_of_release'] = games['year_of_release'].fillna(games.apply(year_recovery, axis=1))\n",
        "\n",
        "\n",
        "display('Удалось востановить строк:', а - games['year_of_release'].isna().sum())\n",
        "games = games.drop(columns = ['year_recovery'])\n"
      ]
    },
    {
      "cell_type": "code",
      "execution_count": null,
      "metadata": {
        "id": "rUUuD3ZrP-m7"
      },
      "outputs": [],
      "source": [
        "games_float = games.select_dtypes(include=['float']) # selecting 'float' data\n",
        "games_float = games_float.apply(pd.to_numeric,downcast='float') # lowering the bit depth to acceptable\n",
        "games[games_float.columns] = games_float # replacing the data in the original frame with optimized ones"
      ]
    },
    {
      "cell_type": "markdown",
      "metadata": {
        "id": "Q475YP0TP-m7"
      },
      "source": [
        "<div class=\"alert alert-info\", style=\"color:brown\">\n",
        "Попытка восстановить год через `findall` привела к конфликту типов данных из-за разной разрядности \n",
        "    \n",
        "    (`TypeError: Cannot cast array data from dtype('float64') to dtype('float32') according to the rule 'safe'`)\n",
        "\n",
        "Поэтому пришлось закомментировать код оптимизирующий разрядность выше, и поставить его после восстановления года релиза. \n",
        "    \n",
        "   \n",
        "Оставшиеся строки с пропусками в годах удалим ниже"
      ]
    },
    {
      "cell_type": "markdown",
      "metadata": {
        "id": "JjRVNSuy66qd"
      },
      "source": [
        "**Пропуски в оценках пользователей и экспертов**\n",
        "\n",
        "Тут ситуация немного другая. Пользователи на разных платформах играют в одну и ту же игру, а значит пропуски в оценках экспертов или пользователей на одной из платформ можно восстановить по оценкам той же игры на другой платформе. "
      ]
    },
    {
      "cell_type": "code",
      "execution_count": null,
      "metadata": {
        "colab": {
          "base_uri": "https://localhost:8080/"
        },
        "id": "VocjX8JG7cJZ",
        "outputId": "7404ae30-9e3d-4edb-87e4-70c4291b2a69"
      },
      "outputs": [
        {
          "data": {
            "text/plain": [
              "name                  2\n",
              "platform              0\n",
              "year_of_release     251\n",
              "genre                 2\n",
              "na_sales              0\n",
              "eu_sales              0\n",
              "jp_sales              0\n",
              "other_sales           0\n",
              "critic_score       7617\n",
              "user_score         8026\n",
              "rating             6766\n",
              "dtype: int64"
            ]
          },
          "execution_count": 16,
          "metadata": {},
          "output_type": "execute_result"
        }
      ],
      "source": [
        "games['critic_score'] = games.groupby(['name'])['critic_score'].transform('mean')\n",
        "games['user_score'] = games.groupby(['name'])['user_score'].transform('mean')\n",
        "#games['rating'] = games.groupby(['name'])['rating'].transform('max') # эта штука должна возвращать первое по алфавиту значение рейтинга для этой игры из имеющихся, но не работает. как иначе?. \n",
        "games.isna().sum()"
      ]
    },
    {
      "cell_type": "markdown",
      "metadata": {
        "id": "bl9hGNJ_Bs_C"
      },
      "source": [
        "Большую часть пропусков заполнить не удалось, но удалять эти данные из фрейма тоже не стоит. это повлияет на результат"
      ]
    },
    {
      "cell_type": "code",
      "execution_count": null,
      "metadata": {
        "scrolled": true,
        "id": "iLKu4FA-P-m_",
        "outputId": "4cc8887e-266e-4d98-a2b2-f99bb082f920"
      },
      "outputs": [
        {
          "data": {
            "text/plain": [
              "name                  0\n",
              "platform              0\n",
              "year_of_release       0\n",
              "genre                 0\n",
              "na_sales              0\n",
              "eu_sales              0\n",
              "jp_sales              0\n",
              "other_sales           0\n",
              "critic_score       7520\n",
              "user_score         7915\n",
              "rating             6682\n",
              "dtype: int64"
            ]
          },
          "execution_count": 17,
          "metadata": {},
          "output_type": "execute_result"
        }
      ],
      "source": [
        "games = games.dropna(subset=['name', 'genre', 'year_of_release'])\n",
        "games.isna().sum()"
      ]
    },
    {
      "cell_type": "markdown",
      "metadata": {
        "id": "DAHP1ICiP-m_"
      },
      "source": [
        "<div class=\"alert alert-info\">\n",
        "<span style=\"color:brown\"\n",
        "\n",
        "Посмотрим на рейтинг - там 6,7 тыс строк с пропуском. **Заменим пропуски на заглушку** `without rating`, она пригодится нам при анализе влияния рейтинга на продажи"
      ]
    },
    {
      "cell_type": "code",
      "execution_count": null,
      "metadata": {
        "id": "AtHGI2XhP-nA"
      },
      "outputs": [],
      "source": [
        "games['rating'] = games['rating'].fillna('without rating')"
      ]
    },
    {
      "cell_type": "markdown",
      "metadata": {
        "id": "O8oRSiVaxaLs"
      },
      "source": [
        "# 2. Исследовательский анализ"
      ]
    },
    {
      "cell_type": "markdown",
      "metadata": {
        "id": "mc6-yCQgxmq1"
      },
      "source": [
        "Добавим данные об общих продажах"
      ]
    },
    {
      "cell_type": "code",
      "execution_count": null,
      "metadata": {
        "id": "FlUn-KgOxVc7"
      },
      "outputs": [],
      "source": [
        "games['ttl_sales'] = games['na_sales'] + games['eu_sales'] + games['jp_sales'] + games['other_sales']"
      ]
    },
    {
      "cell_type": "markdown",
      "metadata": {
        "id": "S53vX8QKJ2Z4"
      },
      "source": [
        "## 2.1. Определим **актуальный период**, который стоит использовать для анализа:"
      ]
    },
    {
      "cell_type": "code",
      "execution_count": null,
      "metadata": {
        "colab": {
          "base_uri": "https://localhost:8080/",
          "height": 301
        },
        "id": "64W23Dkm9_qH",
        "outputId": "1f55b911-a34d-4dc0-e237-9157480100f7"
      },
      "outputs": [
        {
          "data": {
            "image/png": "[encoded data removed]",
            "text/plain": [
              "<Figure size 432x288 with 1 Axes>"
            ]
          },
          "metadata": {},
          "output_type": "display_data"
        }
      ],
      "source": [
        "sns.set(style=\"darkgrid\")\n",
        "sns.histplot(data=games, x= 'year_of_release', bins=37)\n",
        "plt.title('Изменение количества релизов новых игр')\n",
        "plt.xlabel('Год релиза')\n",
        "plt.ylabel('Количество релизов')\n",
        "plt.show()\n"
      ]
    },
    {
      "cell_type": "markdown",
      "metadata": {
        "id": "IBe0ByMII9oD"
      },
      "source": [
        "Пик количества релизов на платформах из датасета приходится на 2005 - 2011 г.г. далее идет резкий спад, вероятно из-за того что наш сет не учитывает мобильные платформы, которые стали активно развиваться как раз в \"десятых\". Рынок игр очень динамичный, поэтому ставить оперативные задачи (на следующий год) на данных о релизах, выпущенных до эпохи mobile - не будет верным решением. \n",
        "\n",
        "Сравним ТОП 10 жанров по объемам продаж на пике эпохи консолей (2007-2011) и мобайла (2012-2016):"
      ]
    },
    {
      "cell_type": "code",
      "execution_count": null,
      "metadata": {
        "colab": {
          "base_uri": "https://localhost:8080/",
          "height": 394
        },
        "id": "MC0hq4uzLR0m",
        "outputId": "a055dff8-8f0d-4da2-e17d-95e417b5282e"
      },
      "outputs": [
        {
          "data": {
            "text/html": [
              "<div>\n",
              "<style scoped>\n",
              "    .dataframe tbody tr th:only-of-type {\n",
              "        vertical-align: middle;\n",
              "    }\n",
              "\n",
              "    .dataframe tbody tr th {\n",
              "        vertical-align: top;\n",
              "    }\n",
              "\n",
              "    .dataframe thead th {\n",
              "        text-align: right;\n",
              "    }\n",
              "</style>\n",
              "<table border=\"1\" class=\"dataframe\">\n",
              "  <thead>\n",
              "    <tr style=\"text-align: right;\">\n",
              "      <th></th>\n",
              "      <th>ttl_sales</th>\n",
              "    </tr>\n",
              "    <tr>\n",
              "      <th>genre</th>\n",
              "      <th></th>\n",
              "    </tr>\n",
              "  </thead>\n",
              "  <tbody>\n",
              "    <tr>\n",
              "      <th>Action</th>\n",
              "      <td>609.469971</td>\n",
              "    </tr>\n",
              "    <tr>\n",
              "      <th>Sports</th>\n",
              "      <td>477.830017</td>\n",
              "    </tr>\n",
              "    <tr>\n",
              "      <th>Misc</th>\n",
              "      <td>402.850006</td>\n",
              "    </tr>\n",
              "    <tr>\n",
              "      <th>Shooter</th>\n",
              "      <td>374.070007</td>\n",
              "    </tr>\n",
              "    <tr>\n",
              "      <th>Role-Playing</th>\n",
              "      <td>272.230011</td>\n",
              "    </tr>\n",
              "    <tr>\n",
              "      <th>Racing</th>\n",
              "      <td>211.740005</td>\n",
              "    </tr>\n",
              "    <tr>\n",
              "      <th>Platform</th>\n",
              "      <td>169.449997</td>\n",
              "    </tr>\n",
              "    <tr>\n",
              "      <th>Simulation</th>\n",
              "      <td>164.009995</td>\n",
              "    </tr>\n",
              "    <tr>\n",
              "      <th>Fighting</th>\n",
              "      <td>121.510002</td>\n",
              "    </tr>\n",
              "    <tr>\n",
              "      <th>Adventure</th>\n",
              "      <td>100.559998</td>\n",
              "    </tr>\n",
              "  </tbody>\n",
              "</table>\n",
              "</div>"
            ],
            "text/plain": [
              "               ttl_sales\n",
              "genre                   \n",
              "Action        609.469971\n",
              "Sports        477.830017\n",
              "Misc          402.850006\n",
              "Shooter       374.070007\n",
              "Role-Playing  272.230011\n",
              "Racing        211.740005\n",
              "Platform      169.449997\n",
              "Simulation    164.009995\n",
              "Fighting      121.510002\n",
              "Adventure     100.559998"
            ]
          },
          "metadata": {},
          "output_type": "display_data"
        }
      ],
      "source": [
        "display(games.query('2006 < year_of_release < 2012').groupby('genre').agg({'ttl_sales':'sum'}).sort_values(by='ttl_sales', ascending=False).head(10))\n"
      ]
    },
    {
      "cell_type": "code",
      "execution_count": null,
      "metadata": {
        "colab": {
          "base_uri": "https://localhost:8080/",
          "height": 394
        },
        "id": "oGY47HAPOTAV",
        "outputId": "913983f3-7d0e-4bfe-8eb8-90f008196426",
        "scrolled": true
      },
      "outputs": [
        {
          "data": {
            "text/html": [
              "<div>\n",
              "<style scoped>\n",
              "    .dataframe tbody tr th:only-of-type {\n",
              "        vertical-align: middle;\n",
              "    }\n",
              "\n",
              "    .dataframe tbody tr th {\n",
              "        vertical-align: top;\n",
              "    }\n",
              "\n",
              "    .dataframe thead th {\n",
              "        text-align: right;\n",
              "    }\n",
              "</style>\n",
              "<table border=\"1\" class=\"dataframe\">\n",
              "  <thead>\n",
              "    <tr style=\"text-align: right;\">\n",
              "      <th></th>\n",
              "      <th>ttl_sales</th>\n",
              "    </tr>\n",
              "    <tr>\n",
              "      <th>genre</th>\n",
              "      <th></th>\n",
              "    </tr>\n",
              "  </thead>\n",
              "  <tbody>\n",
              "    <tr>\n",
              "      <th>Action</th>\n",
              "      <td>558.150024</td>\n",
              "    </tr>\n",
              "    <tr>\n",
              "      <th>Shooter</th>\n",
              "      <td>402.910004</td>\n",
              "    </tr>\n",
              "    <tr>\n",
              "      <th>Role-Playing</th>\n",
              "      <td>245.630005</td>\n",
              "    </tr>\n",
              "    <tr>\n",
              "      <th>Sports</th>\n",
              "      <td>237.149994</td>\n",
              "    </tr>\n",
              "    <tr>\n",
              "      <th>Misc</th>\n",
              "      <td>139.419998</td>\n",
              "    </tr>\n",
              "    <tr>\n",
              "      <th>Platform</th>\n",
              "      <td>88.680000</td>\n",
              "    </tr>\n",
              "    <tr>\n",
              "      <th>Racing</th>\n",
              "      <td>88.360001</td>\n",
              "    </tr>\n",
              "    <tr>\n",
              "      <th>Fighting</th>\n",
              "      <td>66.900002</td>\n",
              "    </tr>\n",
              "    <tr>\n",
              "      <th>Simulation</th>\n",
              "      <td>50.259998</td>\n",
              "    </tr>\n",
              "    <tr>\n",
              "      <th>Adventure</th>\n",
              "      <td>45.040001</td>\n",
              "    </tr>\n",
              "  </tbody>\n",
              "</table>\n",
              "</div>"
            ],
            "text/plain": [
              "               ttl_sales\n",
              "genre                   \n",
              "Action        558.150024\n",
              "Shooter       402.910004\n",
              "Role-Playing  245.630005\n",
              "Sports        237.149994\n",
              "Misc          139.419998\n",
              "Platform       88.680000\n",
              "Racing         88.360001\n",
              "Fighting       66.900002\n",
              "Simulation     50.259998\n",
              "Adventure      45.040001"
            ]
          },
          "metadata": {},
          "output_type": "display_data"
        }
      ],
      "source": [
        "display(games.query('2010 < year_of_release < 2017').groupby('genre').agg({'ttl_sales':'sum'}).sort_values(by='ttl_sales', ascending=False).head(10))"
      ]
    },
    {
      "cell_type": "markdown",
      "metadata": {
        "id": "K9wXCFGoOwlZ"
      },
      "source": [
        "Мы видим, что хотя состав ТОПа не изменился - продажи изменились значительно, и неравномерно: \n",
        "\n",
        "Некоторые жанры - Экшны, Шутеры, Ролевики и Спорт несмотря на развитие мобайла почти не потеряли своих позиций в продажах, \n",
        "\n",
        "А другие - например гонки, симуляторы, приключения - упали за пятилетку в несколько раз.\n",
        "\n",
        "Это значит, что **падение продаж в консолях по времени происходит неравномерно, строить дальнейшую аналитику нужно на наиболее актуальных данных - с 2012 года**, а жанр имеет определяющее значение для наших платформ"
      ]
    },
    {
      "cell_type": "markdown",
      "metadata": {
        "id": "ey7lYg3aP-nE"
      },
      "source": [
        "<div class=\"alert alert-success\">\n",
        "<b font-size: 24pt>Успех</b><br /><br />\n",
        "Отличный комплексный комментарии.\n",
        "</div>"
      ]
    },
    {
      "cell_type": "code",
      "execution_count": null,
      "metadata": {
        "colab": {
          "base_uri": "https://localhost:8080/",
          "height": 536
        },
        "id": "nKNc3Z4mDSZY",
        "outputId": "4a479b1f-2885-4644-9655-3da2473983dc"
      },
      "outputs": [
        {
          "data": {
            "text/html": [
              "<div>\n",
              "<style scoped>\n",
              "    .dataframe tbody tr th:only-of-type {\n",
              "        vertical-align: middle;\n",
              "    }\n",
              "\n",
              "    .dataframe tbody tr th {\n",
              "        vertical-align: top;\n",
              "    }\n",
              "\n",
              "    .dataframe thead th {\n",
              "        text-align: right;\n",
              "    }\n",
              "</style>\n",
              "<table border=\"1\" class=\"dataframe\">\n",
              "  <thead>\n",
              "    <tr style=\"text-align: right;\">\n",
              "      <th></th>\n",
              "      <th>name</th>\n",
              "      <th>platform</th>\n",
              "      <th>year_of_release</th>\n",
              "      <th>genre</th>\n",
              "      <th>na_sales</th>\n",
              "      <th>eu_sales</th>\n",
              "      <th>jp_sales</th>\n",
              "      <th>other_sales</th>\n",
              "      <th>critic_score</th>\n",
              "      <th>user_score</th>\n",
              "      <th>rating</th>\n",
              "      <th>ttl_sales</th>\n",
              "    </tr>\n",
              "  </thead>\n",
              "  <tbody>\n",
              "    <tr>\n",
              "      <th>0</th>\n",
              "      <td>Grand Theft Auto V</td>\n",
              "      <td>PS3</td>\n",
              "      <td>2013.0</td>\n",
              "      <td>Action</td>\n",
              "      <td>7.02</td>\n",
              "      <td>9.09</td>\n",
              "      <td>0.98</td>\n",
              "      <td>3.96</td>\n",
              "      <td>96.800003</td>\n",
              "      <td>8.08</td>\n",
              "      <td>M</td>\n",
              "      <td>21.049999</td>\n",
              "    </tr>\n",
              "    <tr>\n",
              "      <th>1</th>\n",
              "      <td>Grand Theft Auto V</td>\n",
              "      <td>X360</td>\n",
              "      <td>2013.0</td>\n",
              "      <td>Action</td>\n",
              "      <td>9.66</td>\n",
              "      <td>5.14</td>\n",
              "      <td>0.06</td>\n",
              "      <td>1.41</td>\n",
              "      <td>96.800003</td>\n",
              "      <td>8.08</td>\n",
              "      <td>M</td>\n",
              "      <td>16.270000</td>\n",
              "    </tr>\n",
              "    <tr>\n",
              "      <th>2</th>\n",
              "      <td>Call of Duty: Black Ops 3</td>\n",
              "      <td>PS4</td>\n",
              "      <td>2015.0</td>\n",
              "      <td>Shooter</td>\n",
              "      <td>6.03</td>\n",
              "      <td>5.86</td>\n",
              "      <td>0.36</td>\n",
              "      <td>2.38</td>\n",
              "      <td>NaN</td>\n",
              "      <td>NaN</td>\n",
              "      <td>without rating</td>\n",
              "      <td>14.630000</td>\n",
              "    </tr>\n",
              "    <tr>\n",
              "      <th>3</th>\n",
              "      <td>Pokemon X/Pokemon Y</td>\n",
              "      <td>3DS</td>\n",
              "      <td>2013.0</td>\n",
              "      <td>Role-Playing</td>\n",
              "      <td>5.28</td>\n",
              "      <td>4.19</td>\n",
              "      <td>4.35</td>\n",
              "      <td>0.78</td>\n",
              "      <td>NaN</td>\n",
              "      <td>NaN</td>\n",
              "      <td>without rating</td>\n",
              "      <td>14.599999</td>\n",
              "    </tr>\n",
              "    <tr>\n",
              "      <th>4</th>\n",
              "      <td>Call of Duty: Black Ops II</td>\n",
              "      <td>PS3</td>\n",
              "      <td>2012.0</td>\n",
              "      <td>Shooter</td>\n",
              "      <td>4.99</td>\n",
              "      <td>5.73</td>\n",
              "      <td>0.65</td>\n",
              "      <td>2.42</td>\n",
              "      <td>80.250000</td>\n",
              "      <td>5.30</td>\n",
              "      <td>M</td>\n",
              "      <td>13.789999</td>\n",
              "    </tr>\n",
              "  </tbody>\n",
              "</table>\n",
              "</div>"
            ],
            "text/plain": [
              "                         name platform  year_of_release         genre  \\\n",
              "0          Grand Theft Auto V      PS3           2013.0        Action   \n",
              "1          Grand Theft Auto V     X360           2013.0        Action   \n",
              "2   Call of Duty: Black Ops 3      PS4           2015.0       Shooter   \n",
              "3         Pokemon X/Pokemon Y      3DS           2013.0  Role-Playing   \n",
              "4  Call of Duty: Black Ops II      PS3           2012.0       Shooter   \n",
              "\n",
              "   na_sales  eu_sales  jp_sales  other_sales  critic_score  user_score  \\\n",
              "0      7.02      9.09      0.98         3.96     96.800003        8.08   \n",
              "1      9.66      5.14      0.06         1.41     96.800003        8.08   \n",
              "2      6.03      5.86      0.36         2.38           NaN         NaN   \n",
              "3      5.28      4.19      4.35         0.78           NaN         NaN   \n",
              "4      4.99      5.73      0.65         2.42     80.250000        5.30   \n",
              "\n",
              "           rating  ttl_sales  \n",
              "0               M  21.049999  \n",
              "1               M  16.270000  \n",
              "2  without rating  14.630000  \n",
              "3  without rating  14.599999  \n",
              "4               M  13.789999  "
            ]
          },
          "metadata": {},
          "output_type": "display_data"
        },
        {
          "name": "stdout",
          "output_type": "stream",
          "text": [
            "<class 'pandas.core.frame.DataFrame'>\n",
            "RangeIndex: 2887 entries, 0 to 2886\n",
            "Data columns (total 12 columns):\n",
            " #   Column           Non-Null Count  Dtype  \n",
            "---  ------           --------------  -----  \n",
            " 0   name             2887 non-null   object \n",
            " 1   platform         2887 non-null   object \n",
            " 2   year_of_release  2887 non-null   float32\n",
            " 3   genre            2887 non-null   object \n",
            " 4   na_sales         2887 non-null   float32\n",
            " 5   eu_sales         2887 non-null   float32\n",
            " 6   jp_sales         2887 non-null   float32\n",
            " 7   other_sales      2887 non-null   float32\n",
            " 8   critic_score     1693 non-null   float32\n",
            " 9   user_score       1743 non-null   float32\n",
            " 10  rating           2887 non-null   object \n",
            " 11  ttl_sales        2887 non-null   float32\n",
            "dtypes: float32(8), object(4)\n",
            "memory usage: 180.6+ KB\n"
          ]
        }
      ],
      "source": [
        "new_games = games.query('year_of_release > 2011').reset_index(drop= True)\n",
        "display(new_games.head(5))\n",
        "new_games.info()"
      ]
    },
    {
      "cell_type": "markdown",
      "metadata": {
        "id": "arkuq42q6I49"
      },
      "source": [
        "Новый сет имеет чуть меньше трех тысяч строк, и значительное количество пропусков в данных об оценках критиков и пользователей и в рейтинге"
      ]
    },
    {
      "cell_type": "code",
      "execution_count": null,
      "metadata": {
        "id": "ce-eHEI2cPhu"
      },
      "outputs": [],
      "source": [
        "new_games['year_of_release'] = new_games['year_of_release'].astype(int)"
      ]
    },
    {
      "cell_type": "code",
      "execution_count": null,
      "metadata": {
        "colab": {
          "base_uri": "https://localhost:8080/",
          "height": 300
        },
        "id": "gHVrNb-BbrcY",
        "outputId": "b52e30ed-d7b1-4610-c8c8-e87f166c3a43"
      },
      "outputs": [
        {
          "data": {
            "text/html": [
              "<div>\n",
              "<style scoped>\n",
              "    .dataframe tbody tr th:only-of-type {\n",
              "        vertical-align: middle;\n",
              "    }\n",
              "\n",
              "    .dataframe tbody tr th {\n",
              "        vertical-align: top;\n",
              "    }\n",
              "\n",
              "    .dataframe thead th {\n",
              "        text-align: right;\n",
              "    }\n",
              "</style>\n",
              "<table border=\"1\" class=\"dataframe\">\n",
              "  <thead>\n",
              "    <tr style=\"text-align: right;\">\n",
              "      <th></th>\n",
              "      <th>year_of_release</th>\n",
              "      <th>na_sales</th>\n",
              "      <th>eu_sales</th>\n",
              "      <th>jp_sales</th>\n",
              "      <th>other_sales</th>\n",
              "      <th>critic_score</th>\n",
              "      <th>user_score</th>\n",
              "      <th>ttl_sales</th>\n",
              "    </tr>\n",
              "  </thead>\n",
              "  <tbody>\n",
              "    <tr>\n",
              "      <th>count</th>\n",
              "      <td>2887.000000</td>\n",
              "      <td>2887.000000</td>\n",
              "      <td>2887.000000</td>\n",
              "      <td>2887.000000</td>\n",
              "      <td>2887.000000</td>\n",
              "      <td>1693.000000</td>\n",
              "      <td>1743.000000</td>\n",
              "      <td>2887.000000</td>\n",
              "    </tr>\n",
              "    <tr>\n",
              "      <th>mean</th>\n",
              "      <td>2013.916522</td>\n",
              "      <td>0.204721</td>\n",
              "      <td>0.175639</td>\n",
              "      <td>0.066706</td>\n",
              "      <td>0.054105</td>\n",
              "      <td>72.190376</td>\n",
              "      <td>6.656898</td>\n",
              "      <td>0.501171</td>\n",
              "    </tr>\n",
              "    <tr>\n",
              "      <th>std</th>\n",
              "      <td>1.411624</td>\n",
              "      <td>0.566604</td>\n",
              "      <td>0.505260</td>\n",
              "      <td>0.241536</td>\n",
              "      <td>0.164611</td>\n",
              "      <td>12.899220</td>\n",
              "      <td>1.447580</td>\n",
              "      <td>1.248944</td>\n",
              "    </tr>\n",
              "    <tr>\n",
              "      <th>min</th>\n",
              "      <td>2012.000000</td>\n",
              "      <td>0.000000</td>\n",
              "      <td>0.000000</td>\n",
              "      <td>0.000000</td>\n",
              "      <td>0.000000</td>\n",
              "      <td>16.000000</td>\n",
              "      <td>1.150000</td>\n",
              "      <td>0.010000</td>\n",
              "    </tr>\n",
              "    <tr>\n",
              "      <th>25%</th>\n",
              "      <td>2013.000000</td>\n",
              "      <td>0.000000</td>\n",
              "      <td>0.000000</td>\n",
              "      <td>0.000000</td>\n",
              "      <td>0.000000</td>\n",
              "      <td>66.500000</td>\n",
              "      <td>5.787500</td>\n",
              "      <td>0.040000</td>\n",
              "    </tr>\n",
              "    <tr>\n",
              "      <th>50%</th>\n",
              "      <td>2014.000000</td>\n",
              "      <td>0.030000</td>\n",
              "      <td>0.030000</td>\n",
              "      <td>0.010000</td>\n",
              "      <td>0.010000</td>\n",
              "      <td>74.500000</td>\n",
              "      <td>6.950000</td>\n",
              "      <td>0.120000</td>\n",
              "    </tr>\n",
              "    <tr>\n",
              "      <th>75%</th>\n",
              "      <td>2015.000000</td>\n",
              "      <td>0.170000</td>\n",
              "      <td>0.140000</td>\n",
              "      <td>0.050000</td>\n",
              "      <td>0.040000</td>\n",
              "      <td>81.000000</td>\n",
              "      <td>7.775000</td>\n",
              "      <td>0.430000</td>\n",
              "    </tr>\n",
              "    <tr>\n",
              "      <th>max</th>\n",
              "      <td>2016.000000</td>\n",
              "      <td>9.660000</td>\n",
              "      <td>9.090000</td>\n",
              "      <td>4.390000</td>\n",
              "      <td>3.960000</td>\n",
              "      <td>96.800003</td>\n",
              "      <td>9.233334</td>\n",
              "      <td>21.049999</td>\n",
              "    </tr>\n",
              "  </tbody>\n",
              "</table>\n",
              "</div>"
            ],
            "text/plain": [
              "       year_of_release     na_sales     eu_sales     jp_sales  other_sales  \\\n",
              "count      2887.000000  2887.000000  2887.000000  2887.000000  2887.000000   \n",
              "mean       2013.916522     0.204721     0.175639     0.066706     0.054105   \n",
              "std           1.411624     0.566604     0.505260     0.241536     0.164611   \n",
              "min        2012.000000     0.000000     0.000000     0.000000     0.000000   \n",
              "25%        2013.000000     0.000000     0.000000     0.000000     0.000000   \n",
              "50%        2014.000000     0.030000     0.030000     0.010000     0.010000   \n",
              "75%        2015.000000     0.170000     0.140000     0.050000     0.040000   \n",
              "max        2016.000000     9.660000     9.090000     4.390000     3.960000   \n",
              "\n",
              "       critic_score   user_score    ttl_sales  \n",
              "count   1693.000000  1743.000000  2887.000000  \n",
              "mean      72.190376     6.656898     0.501171  \n",
              "std       12.899220     1.447580     1.248944  \n",
              "min       16.000000     1.150000     0.010000  \n",
              "25%       66.500000     5.787500     0.040000  \n",
              "50%       74.500000     6.950000     0.120000  \n",
              "75%       81.000000     7.775000     0.430000  \n",
              "max       96.800003     9.233334    21.049999  "
            ]
          },
          "execution_count": 25,
          "metadata": {},
          "output_type": "execute_result"
        }
      ],
      "source": [
        "new_games.describe()"
      ]
    },
    {
      "cell_type": "markdown",
      "metadata": {
        "id": "6pknmnMHO8Lo"
      },
      "source": [
        "## 2.2. Продолжим разбираться с жанрами. \n",
        "Мы уже видели, что несмотря на то что одни и те же жанры попадают в ТОП10 на протяжении 10 лет динамика количества релизов в каждом из жанров очень отличается. \n",
        "\n",
        "Определим ТОП 5 жанров по объему продаж во всем мире и ТОП 5 самых растущих жанров по объему продаж. "
      ]
    },
    {
      "cell_type": "code",
      "execution_count": null,
      "metadata": {
        "colab": {
          "base_uri": "https://localhost:8080/",
          "height": 238
        },
        "id": "kteCjvaASb8G",
        "outputId": "51a0af9e-d98f-443d-9241-a2e7bbd6c228"
      },
      "outputs": [
        {
          "data": {
            "text/html": [
              "<div>\n",
              "<style scoped>\n",
              "    .dataframe tbody tr th:only-of-type {\n",
              "        vertical-align: middle;\n",
              "    }\n",
              "\n",
              "    .dataframe tbody tr th {\n",
              "        vertical-align: top;\n",
              "    }\n",
              "\n",
              "    .dataframe thead th {\n",
              "        text-align: right;\n",
              "    }\n",
              "</style>\n",
              "<table border=\"1\" class=\"dataframe\">\n",
              "  <thead>\n",
              "    <tr style=\"text-align: right;\">\n",
              "      <th></th>\n",
              "      <th>ttl_sales</th>\n",
              "    </tr>\n",
              "    <tr>\n",
              "      <th>genre</th>\n",
              "      <th></th>\n",
              "    </tr>\n",
              "  </thead>\n",
              "  <tbody>\n",
              "    <tr>\n",
              "      <th>Shooter</th>\n",
              "      <td>6.732543</td>\n",
              "    </tr>\n",
              "    <tr>\n",
              "      <th>Platform</th>\n",
              "      <td>3.913385</td>\n",
              "    </tr>\n",
              "    <tr>\n",
              "      <th>Sports</th>\n",
              "      <td>3.357815</td>\n",
              "    </tr>\n",
              "    <tr>\n",
              "      <th>Role-Playing</th>\n",
              "      <td>2.559282</td>\n",
              "    </tr>\n",
              "    <tr>\n",
              "      <th>Racing</th>\n",
              "      <td>2.408412</td>\n",
              "    </tr>\n",
              "  </tbody>\n",
              "</table>\n",
              "</div>"
            ],
            "text/plain": [
              "              ttl_sales\n",
              "genre                  \n",
              "Shooter        6.732543\n",
              "Platform       3.913385\n",
              "Sports         3.357815\n",
              "Role-Playing   2.559282\n",
              "Racing         2.408412"
            ]
          },
          "metadata": {},
          "output_type": "display_data"
        }
      ],
      "source": [
        "genres = new_games.groupby(['genre', 'year_of_release']).agg({'ttl_sales':'mean'}).reset_index()\n",
        "genres.columns = ['genre', 'year_of_release', 'ttl_sales']\n",
        "display(genres.pivot_table(index='genre', values='ttl_sales', aggfunc='sum').sort_values(by='ttl_sales', ascending=False).head(5))"
      ]
    },
    {
      "cell_type": "markdown",
      "metadata": {
        "id": "EhpYcJPuP-nM"
      },
      "source": [
        "<div class=\"alert alert-info\">\n",
        "<span style=\"color:brown\"\n",
        "\n",
        "**Я заменил сумму продаж на средние продажи в каждом жарне и картинка поменялась:**\n",
        "      \n",
        "В ТОП попали шутеры, платформы, Спорт, Ролевки и Гонки. В отличии от суммарных продаж - в ТОП5 не вошли Экшны и Миск (т.к. их успех был обусловлен отдельными успешными играми, напр. Майнкрафт, и хоть и тянул среднее вверх, но остальные игры жанра продавались значительно слабее)"
      ]
    },
    {
      "cell_type": "markdown",
      "metadata": {
        "id": "USLtjb7-4mZS"
      },
      "source": [
        "~В первой пятерке с большим отрывом Экшны и Шутеры, далее Ролевки, Спорт и Миск (в основном из-за майнкрафта). Выберем лучшие игры последних двух лет в ТОП 5 жанрах~\n",
        "\n",
        "**ТОП5 игр по объемам продаж в ТОП 5 лучших жанров**\n",
        "Посмотрим сразу в динамике:\n",
        "1. за 2012-2014 г.г.\n",
        "\n",
        "<div class=\"alert alert-info\">\n",
        "<span style=\"color:brown\"\n",
        "      \n",
        "я заменил в коде самые популярные жанры на новые, определенные по средним продажам, но при выборке ТОП лучших ИГР ориентировался на суммарные продажи, т.к. тут ресь о конкретных продуктах"
      ]
    },
    {
      "cell_type": "code",
      "execution_count": null,
      "metadata": {
        "colab": {
          "base_uri": "https://localhost:8080/",
          "height": 238
        },
        "id": "jbzlN50mCvbs",
        "outputId": "95a6ae93-80c3-4d89-b32b-c8e1b1767fcf"
      },
      "outputs": [
        {
          "data": {
            "text/html": [
              "<div>\n",
              "<style scoped>\n",
              "    .dataframe tbody tr th:only-of-type {\n",
              "        vertical-align: middle;\n",
              "    }\n",
              "\n",
              "    .dataframe tbody tr th {\n",
              "        vertical-align: top;\n",
              "    }\n",
              "\n",
              "    .dataframe thead th {\n",
              "        text-align: right;\n",
              "    }\n",
              "</style>\n",
              "<table border=\"1\" class=\"dataframe\">\n",
              "  <thead>\n",
              "    <tr style=\"text-align: right;\">\n",
              "      <th></th>\n",
              "      <th></th>\n",
              "      <th>ttl_sales</th>\n",
              "    </tr>\n",
              "    <tr>\n",
              "      <th>name</th>\n",
              "      <th>year_of_release</th>\n",
              "      <th></th>\n",
              "    </tr>\n",
              "  </thead>\n",
              "  <tbody>\n",
              "    <tr>\n",
              "      <th>Call of Duty: Black Ops II</th>\n",
              "      <th>2012</th>\n",
              "      <td>29.399998</td>\n",
              "    </tr>\n",
              "    <tr>\n",
              "      <th>Call of Duty: Ghosts</th>\n",
              "      <th>2013</th>\n",
              "      <td>27.389999</td>\n",
              "    </tr>\n",
              "    <tr>\n",
              "      <th>Call of Duty: Advanced Warfare</th>\n",
              "      <th>2014</th>\n",
              "      <td>21.969999</td>\n",
              "    </tr>\n",
              "    <tr>\n",
              "      <th>FIFA 15</th>\n",
              "      <th>2014</th>\n",
              "      <td>17.370001</td>\n",
              "    </tr>\n",
              "    <tr>\n",
              "      <th>FIFA 14</th>\n",
              "      <th>2013</th>\n",
              "      <td>16.459999</td>\n",
              "    </tr>\n",
              "  </tbody>\n",
              "</table>\n",
              "</div>"
            ],
            "text/plain": [
              "                                                ttl_sales\n",
              "name                           year_of_release           \n",
              "Call of Duty: Black Ops II     2012             29.399998\n",
              "Call of Duty: Ghosts           2013             27.389999\n",
              "Call of Duty: Advanced Warfare 2014             21.969999\n",
              "FIFA 15                        2014             17.370001\n",
              "FIFA 14                        2013             16.459999"
            ]
          },
          "metadata": {},
          "output_type": "display_data"
        }
      ],
      "source": [
        "top_genres = new_games.query('(genre == \"Shooter\" | genre == \"Platform\" | genre == \"Sports\"\t | genre == \"Role-Playing\" | genre == \"Racing\") &  year_of_release < 2015')\n",
        "display(top_genres.pivot_table(index=['name', 'year_of_release'], values='ttl_sales', aggfunc='sum').sort_values(by='ttl_sales', ascending=False).head(5))"
      ]
    },
    {
      "cell_type": "markdown",
      "metadata": {
        "id": "k3yeh-MYDVY7"
      },
      "source": [
        "В ТОП 5 разные версии франшиз всего двух игр, сопоставимых по общим продажам - \n",
        "GTA и Call of Duty"
      ]
    },
    {
      "cell_type": "markdown",
      "metadata": {
        "id": "-3jM0MxoDQ9A"
      },
      "source": [
        "2. За 2015-2016 г.г."
      ]
    },
    {
      "cell_type": "code",
      "execution_count": null,
      "metadata": {
        "colab": {
          "base_uri": "https://localhost:8080/",
          "height": 238
        },
        "id": "nQuXusm03KPh",
        "outputId": "41414cae-ebf1-482b-ace7-69e98f833b4a"
      },
      "outputs": [
        {
          "data": {
            "text/html": [
              "<div>\n",
              "<style scoped>\n",
              "    .dataframe tbody tr th:only-of-type {\n",
              "        vertical-align: middle;\n",
              "    }\n",
              "\n",
              "    .dataframe tbody tr th {\n",
              "        vertical-align: top;\n",
              "    }\n",
              "\n",
              "    .dataframe thead th {\n",
              "        text-align: right;\n",
              "    }\n",
              "</style>\n",
              "<table border=\"1\" class=\"dataframe\">\n",
              "  <thead>\n",
              "    <tr style=\"text-align: right;\">\n",
              "      <th></th>\n",
              "      <th></th>\n",
              "      <th>ttl_sales</th>\n",
              "    </tr>\n",
              "    <tr>\n",
              "      <th>name</th>\n",
              "      <th>year_of_release</th>\n",
              "      <th></th>\n",
              "    </tr>\n",
              "  </thead>\n",
              "  <tbody>\n",
              "    <tr>\n",
              "      <th>Call of Duty: Black Ops 3</th>\n",
              "      <th>2015</th>\n",
              "      <td>25.670000</td>\n",
              "    </tr>\n",
              "    <tr>\n",
              "      <th>FIFA 16</th>\n",
              "      <th>2015</th>\n",
              "      <td>16.299999</td>\n",
              "    </tr>\n",
              "    <tr>\n",
              "      <th>Fallout 4</th>\n",
              "      <th>2015</th>\n",
              "      <td>12.670000</td>\n",
              "    </tr>\n",
              "    <tr>\n",
              "      <th>Star Wars Battlefront (2015)</th>\n",
              "      <th>2015</th>\n",
              "      <td>12.190000</td>\n",
              "    </tr>\n",
              "    <tr>\n",
              "      <th>FIFA 17</th>\n",
              "      <th>2016</th>\n",
              "      <td>11.480000</td>\n",
              "    </tr>\n",
              "  </tbody>\n",
              "</table>\n",
              "</div>"
            ],
            "text/plain": [
              "                                              ttl_sales\n",
              "name                         year_of_release           \n",
              "Call of Duty: Black Ops 3    2015             25.670000\n",
              "FIFA 16                      2015             16.299999\n",
              "Fallout 4                    2015             12.670000\n",
              "Star Wars Battlefront (2015) 2015             12.190000\n",
              "FIFA 17                      2016             11.480000"
            ]
          },
          "metadata": {},
          "output_type": "display_data"
        }
      ],
      "source": [
        "top_genres = new_games.query('(genre == \"Shooter\" | genre == \"Platform\" | genre == \"Sports\"\t | genre == \"Role-Playing\" | genre == \"Racing\") &  year_of_release > 2014')\n",
        "display(top_genres.pivot_table(index=['name', 'year_of_release'], values='ttl_sales', aggfunc='sum').sort_values(by='ttl_sales', ascending=False).head(5))"
      ]
    },
    {
      "cell_type": "markdown",
      "metadata": {
        "id": "QZJFI8xo4fuO"
      },
      "source": [
        "C большим отрывом в наиболее стабильных по релизам жанрах последние два года лидируют франшиза Call of Duty2015 и FIFA (обе версии вместе), причем у футбола высокий потенциал, т.к. новинка FIFA17 вышла не в начале года и уже попала в ТОП. И похоже франшизы правят миром\n",
        "\n",
        "<div class=\"alert alert-info\">\n",
        "<span style=\"color:brown\"\n",
        "             \n",
        "             \n",
        "Интересно, что этот вывод подтвердился и при измененом списке жанров, рассчитанных по средним продажам игры, а не тоталу. Значит важность принадлежности к франшизе может иметь еще большее (возможно решающее) значение, чем рейтинг, или платформа, и если мы выстраиваем стратегию промо на следующий год нам нужно знать план выхода новых игр по ТОП франшизам 2016. Но с выделением франшизы из названий я пока не разобрался даже с подсказкой. Оставил в план самостоятельного обучения\n"
      ]
    },
    {
      "cell_type": "markdown",
      "metadata": {
        "id": "E3_15RkjLhoU"
      },
      "source": [
        "**ТОП наиболее растущих жанров 2015-2016**\n"
      ]
    },
    {
      "cell_type": "code",
      "execution_count": null,
      "metadata": {
        "colab": {
          "base_uri": "https://localhost:8080/",
          "height": 206
        },
        "id": "yw_rrfBBtQPK",
        "outputId": "24f4c372-3a6f-42f4-ada2-bd409997795f"
      },
      "outputs": [
        {
          "data": {
            "text/html": [
              "<div>\n",
              "<style scoped>\n",
              "    .dataframe tbody tr th:only-of-type {\n",
              "        vertical-align: middle;\n",
              "    }\n",
              "\n",
              "    .dataframe tbody tr th {\n",
              "        vertical-align: top;\n",
              "    }\n",
              "\n",
              "    .dataframe thead th {\n",
              "        text-align: right;\n",
              "    }\n",
              "</style>\n",
              "<table border=\"1\" class=\"dataframe\">\n",
              "  <thead>\n",
              "    <tr style=\"text-align: right;\">\n",
              "      <th></th>\n",
              "      <th>genre</th>\n",
              "      <th>ttl_old</th>\n",
              "      <th>ttl_new</th>\n",
              "      <th>grow</th>\n",
              "    </tr>\n",
              "  </thead>\n",
              "  <tbody>\n",
              "    <tr>\n",
              "      <th>1</th>\n",
              "      <td>Adventure</td>\n",
              "      <td>0.092449</td>\n",
              "      <td>0.109663</td>\n",
              "      <td>1.186203</td>\n",
              "    </tr>\n",
              "    <tr>\n",
              "      <th>8</th>\n",
              "      <td>Shooter</td>\n",
              "      <td>1.311255</td>\n",
              "      <td>1.399390</td>\n",
              "      <td>1.067214</td>\n",
              "    </tr>\n",
              "    <tr>\n",
              "      <th>10</th>\n",
              "      <td>Sports</td>\n",
              "      <td>0.725412</td>\n",
              "      <td>0.590789</td>\n",
              "      <td>0.814418</td>\n",
              "    </tr>\n",
              "    <tr>\n",
              "      <th>2</th>\n",
              "      <td>Fighting</td>\n",
              "      <td>0.453394</td>\n",
              "      <td>0.327783</td>\n",
              "      <td>0.722953</td>\n",
              "    </tr>\n",
              "    <tr>\n",
              "      <th>7</th>\n",
              "      <td>Role-Playing</td>\n",
              "      <td>0.580017</td>\n",
              "      <td>0.409615</td>\n",
              "      <td>0.706213</td>\n",
              "    </tr>\n",
              "  </tbody>\n",
              "</table>\n",
              "</div>"
            ],
            "text/plain": [
              "           genre   ttl_old   ttl_new      grow\n",
              "1      Adventure  0.092449  0.109663  1.186203\n",
              "8        Shooter  1.311255  1.399390  1.067214\n",
              "10        Sports  0.725412  0.590789  0.814418\n",
              "2       Fighting  0.453394  0.327783  0.722953\n",
              "7   Role-Playing  0.580017  0.409615  0.706213"
            ]
          },
          "metadata": {},
          "output_type": "display_data"
        }
      ],
      "source": [
        "genres_old = genres.query('year_of_release < 2015').groupby('genre').agg({'ttl_sales':'mean'}).reset_index()\n",
        "genres_old.columns = ['genre','ttl_old']\n",
        "genres_new = genres.query('year_of_release > 2014').groupby('genre').agg({'ttl_sales':'mean'}).reset_index()\n",
        "genres_new.columns = ['genre','ttl_new']\n",
        "genres_grow = genres_old.merge(genres_new, how='inner', on='genre')\n",
        "genres_grow['grow'] = genres_grow['ttl_new'] / genres_grow['ttl_old']\n",
        "display(genres_grow.sort_values(by='grow', ascending=False).head(5))\n"
      ]
    },
    {
      "cell_type": "markdown",
      "metadata": {
        "id": "m5xJk1_J6hK_"
      },
      "source": [
        "Выросла, а точнее остановила падение объемов продаж за последние пять лет категория приключения (Adventure). Остальные жанры продолжают \"валиться\" вниз. Посмотрим, какие игры удерживают продажи приключенческого жанра: \n",
        "\n",
        "**ТОП 5 приключенческих игр в продажах 2015-2016 г.г.**"
      ]
    },
    {
      "cell_type": "code",
      "execution_count": null,
      "metadata": {
        "colab": {
          "base_uri": "https://localhost:8080/",
          "height": 238
        },
        "id": "L22V_Ir21XoH",
        "outputId": "5d6ef096-181c-418f-9901-826fa6dbf86c"
      },
      "outputs": [
        {
          "data": {
            "text/html": [
              "<div>\n",
              "<style scoped>\n",
              "    .dataframe tbody tr th:only-of-type {\n",
              "        vertical-align: middle;\n",
              "    }\n",
              "\n",
              "    .dataframe tbody tr th {\n",
              "        vertical-align: top;\n",
              "    }\n",
              "\n",
              "    .dataframe thead th {\n",
              "        text-align: right;\n",
              "    }\n",
              "</style>\n",
              "<table border=\"1\" class=\"dataframe\">\n",
              "  <thead>\n",
              "    <tr style=\"text-align: right;\">\n",
              "      <th></th>\n",
              "      <th>ttl_sales</th>\n",
              "    </tr>\n",
              "    <tr>\n",
              "      <th>name</th>\n",
              "      <th></th>\n",
              "    </tr>\n",
              "  </thead>\n",
              "  <tbody>\n",
              "    <tr>\n",
              "      <th>Minecraft: Story Mode</th>\n",
              "      <td>2.92</td>\n",
              "    </tr>\n",
              "    <tr>\n",
              "      <th>Rise of the Tomb Raider</th>\n",
              "      <td>2.76</td>\n",
              "    </tr>\n",
              "    <tr>\n",
              "      <th>Until Dawn</th>\n",
              "      <td>1.66</td>\n",
              "    </tr>\n",
              "    <tr>\n",
              "      <th>Life is Strange</th>\n",
              "      <td>0.57</td>\n",
              "    </tr>\n",
              "    <tr>\n",
              "      <th>Until Dawn: Rush of Blood</th>\n",
              "      <td>0.40</td>\n",
              "    </tr>\n",
              "  </tbody>\n",
              "</table>\n",
              "</div>"
            ],
            "text/plain": [
              "                           ttl_sales\n",
              "name                                \n",
              "Minecraft: Story Mode           2.92\n",
              "Rise of the Tomb Raider         2.76\n",
              "Until Dawn                      1.66\n",
              "Life is Strange                 0.57\n",
              "Until Dawn: Rush of Blood       0.40"
            ]
          },
          "metadata": {},
          "output_type": "display_data"
        }
      ],
      "source": [
        "advntr_games = new_games.query('genre == \"Adventure\" & year_of_release > 2014')\n",
        "display(advntr_games.pivot_table(index='name', values='ttl_sales', aggfunc='sum').sort_values(by='ttl_sales', ascending=False).head(5))"
      ]
    },
    {
      "cell_type": "markdown",
      "metadata": {
        "id": "CfCAbJ1k709W"
      },
      "source": [
        "Приключения тоже держатся на франшизах: Minecraft, Tomb Raider, Until Dawn - каждая из них продавалась в 4-6 раз больше чем оригинальная Life is Strange от французов из Dontnod Entertainment \n"
      ]
    },
    {
      "cell_type": "markdown",
      "metadata": {
        "id": "ySBDkc-U8dtg"
      },
      "source": [
        "_в этом месте нужно бы выделить из столбца \"name\" название франшизы (оно будет повторяться несколько раз в разных ячейках), в отдельный столбец. И проанализировать успешность франшиз и индивидуальных проектов отдельно, но я не соображу как..._\n"
      ]
    },
    {
      "cell_type": "markdown",
      "metadata": {
        "id": "qmgZYN25P-nQ"
      },
      "source": [
        "<div class=\"alert alert-info\">\n",
        "<span style=\"color:brown\"\n",
        "      \n",
        "После того как разобрались с общими продажами, заменив их на средние - и выводы, и результаты действительно изменились\n",
        "      "
      ]
    },
    {
      "cell_type": "markdown",
      "metadata": {
        "id": "5QDZdfm-Htz3"
      },
      "source": [
        "## 2.3. Анализ игровых платформ:\n",
        "- выберем ТОП платформ и определим какие из них растут:\n"
      ]
    },
    {
      "cell_type": "code",
      "execution_count": null,
      "metadata": {
        "colab": {
          "base_uri": "https://localhost:8080/",
          "height": 394
        },
        "id": "BpGQC2BKLaLe",
        "outputId": "ecec6a95-30c8-4402-a765-0562d6dbec90"
      },
      "outputs": [
        {
          "data": {
            "text/html": [
              "<div>\n",
              "<style scoped>\n",
              "    .dataframe tbody tr th:only-of-type {\n",
              "        vertical-align: middle;\n",
              "    }\n",
              "\n",
              "    .dataframe tbody tr th {\n",
              "        vertical-align: top;\n",
              "    }\n",
              "\n",
              "    .dataframe thead th {\n",
              "        text-align: right;\n",
              "    }\n",
              "</style>\n",
              "<table border=\"1\" class=\"dataframe\">\n",
              "  <thead>\n",
              "    <tr style=\"text-align: right;\">\n",
              "      <th></th>\n",
              "      <th>ttl_sales</th>\n",
              "    </tr>\n",
              "    <tr>\n",
              "      <th>platform</th>\n",
              "      <th></th>\n",
              "    </tr>\n",
              "  </thead>\n",
              "  <tbody>\n",
              "    <tr>\n",
              "      <th>PS4</th>\n",
              "      <td>314.140015</td>\n",
              "    </tr>\n",
              "    <tr>\n",
              "      <th>PS3</th>\n",
              "      <td>288.790009</td>\n",
              "    </tr>\n",
              "    <tr>\n",
              "      <th>X360</th>\n",
              "      <td>236.540009</td>\n",
              "    </tr>\n",
              "    <tr>\n",
              "      <th>3DS</th>\n",
              "      <td>194.610001</td>\n",
              "    </tr>\n",
              "    <tr>\n",
              "      <th>XOne</th>\n",
              "      <td>159.320007</td>\n",
              "    </tr>\n",
              "    <tr>\n",
              "      <th>WiiU</th>\n",
              "      <td>82.190002</td>\n",
              "    </tr>\n",
              "    <tr>\n",
              "      <th>PC</th>\n",
              "      <td>63.000000</td>\n",
              "    </tr>\n",
              "    <tr>\n",
              "      <th>PSV</th>\n",
              "      <td>49.180000</td>\n",
              "    </tr>\n",
              "    <tr>\n",
              "      <th>Wii</th>\n",
              "      <td>35.370003</td>\n",
              "    </tr>\n",
              "    <tr>\n",
              "      <th>DS</th>\n",
              "      <td>12.550000</td>\n",
              "    </tr>\n",
              "  </tbody>\n",
              "</table>\n",
              "</div>"
            ],
            "text/plain": [
              "           ttl_sales\n",
              "platform            \n",
              "PS4       314.140015\n",
              "PS3       288.790009\n",
              "X360      236.540009\n",
              "3DS       194.610001\n",
              "XOne      159.320007\n",
              "WiiU       82.190002\n",
              "PC         63.000000\n",
              "PSV        49.180000\n",
              "Wii        35.370003\n",
              "DS         12.550000"
            ]
          },
          "metadata": {},
          "output_type": "display_data"
        }
      ],
      "source": [
        "platforms = new_games.groupby(['platform', 'year_of_release']).agg({'ttl_sales':'sum'}).reset_index()\n",
        "platforms.columns = ['platform', 'year_of_release', 'ttl_sales']\n",
        "display(platforms.pivot_table(index='platform', values='ttl_sales', aggfunc='sum').sort_values(by='ttl_sales', ascending=False).head(10))"
      ]
    },
    {
      "cell_type": "markdown",
      "metadata": {
        "id": "griIV2e-LuP6"
      },
      "source": [
        "Вот и большая тройка разработчиков игровых платформ: с хорошим отрывом три релиза Sony PlayStation, следом Microsoft XBOX One и 360, третье уверенное место у Nintendo c 3DS и двумя платформами Wii\n",
        "\n",
        "большую тройку разбавляет только PC\n",
        "\n",
        "Посмотрим на них в динамике:"
      ]
    },
    {
      "cell_type": "code",
      "execution_count": null,
      "metadata": {
        "colab": {
          "base_uri": "https://localhost:8080/",
          "height": 363
        },
        "id": "-fE135xTIYKZ",
        "outputId": "20497a2c-d695-4518-e13f-94607122d605"
      },
      "outputs": [
        {
          "data": {
            "text/html": [
              "<div>\n",
              "<style scoped>\n",
              "    .dataframe tbody tr th:only-of-type {\n",
              "        vertical-align: middle;\n",
              "    }\n",
              "\n",
              "    .dataframe tbody tr th {\n",
              "        vertical-align: top;\n",
              "    }\n",
              "\n",
              "    .dataframe thead th {\n",
              "        text-align: right;\n",
              "    }\n",
              "</style>\n",
              "<table border=\"1\" class=\"dataframe\">\n",
              "  <thead>\n",
              "    <tr style=\"text-align: right;\">\n",
              "      <th></th>\n",
              "      <th>platform</th>\n",
              "      <th>ttl_old</th>\n",
              "      <th>ttl_new</th>\n",
              "      <th>grow</th>\n",
              "    </tr>\n",
              "  </thead>\n",
              "  <tbody>\n",
              "    <tr>\n",
              "      <th>3</th>\n",
              "      <td>PS4</td>\n",
              "      <td>62.994999</td>\n",
              "      <td>94.074997</td>\n",
              "      <td>1.493372</td>\n",
              "    </tr>\n",
              "    <tr>\n",
              "      <th>9</th>\n",
              "      <td>XOne</td>\n",
              "      <td>36.514999</td>\n",
              "      <td>43.145000</td>\n",
              "      <td>1.181569</td>\n",
              "    </tr>\n",
              "    <tr>\n",
              "      <th>7</th>\n",
              "      <td>WiiU</td>\n",
              "      <td>20.413334</td>\n",
              "      <td>10.475000</td>\n",
              "      <td>0.513145</td>\n",
              "    </tr>\n",
              "    <tr>\n",
              "      <th>0</th>\n",
              "      <td>3DS</td>\n",
              "      <td>50.563332</td>\n",
              "      <td>21.460001</td>\n",
              "      <td>0.424418</td>\n",
              "    </tr>\n",
              "    <tr>\n",
              "      <th>1</th>\n",
              "      <td>PC</td>\n",
              "      <td>16.410000</td>\n",
              "      <td>6.885000</td>\n",
              "      <td>0.419561</td>\n",
              "    </tr>\n",
              "    <tr>\n",
              "      <th>5</th>\n",
              "      <td>PSV</td>\n",
              "      <td>12.893333</td>\n",
              "      <td>5.250000</td>\n",
              "      <td>0.407187</td>\n",
              "    </tr>\n",
              "    <tr>\n",
              "      <th>2</th>\n",
              "      <td>PS3</td>\n",
              "      <td>89.456665</td>\n",
              "      <td>10.210000</td>\n",
              "      <td>0.114133</td>\n",
              "    </tr>\n",
              "    <tr>\n",
              "      <th>8</th>\n",
              "      <td>X360</td>\n",
              "      <td>74.353333</td>\n",
              "      <td>6.740000</td>\n",
              "      <td>0.090648</td>\n",
              "    </tr>\n",
              "    <tr>\n",
              "      <th>6</th>\n",
              "      <td>Wii</td>\n",
              "      <td>11.350000</td>\n",
              "      <td>0.660000</td>\n",
              "      <td>0.058150</td>\n",
              "    </tr>\n",
              "    <tr>\n",
              "      <th>4</th>\n",
              "      <td>PSP</td>\n",
              "      <td>3.690000</td>\n",
              "      <td>0.120000</td>\n",
              "      <td>0.032520</td>\n",
              "    </tr>\n",
              "  </tbody>\n",
              "</table>\n",
              "</div>"
            ],
            "text/plain": [
              "  platform    ttl_old    ttl_new      grow\n",
              "3      PS4  62.994999  94.074997  1.493372\n",
              "9     XOne  36.514999  43.145000  1.181569\n",
              "7     WiiU  20.413334  10.475000  0.513145\n",
              "0      3DS  50.563332  21.460001  0.424418\n",
              "1       PC  16.410000   6.885000  0.419561\n",
              "5      PSV  12.893333   5.250000  0.407187\n",
              "2      PS3  89.456665  10.210000  0.114133\n",
              "8     X360  74.353333   6.740000  0.090648\n",
              "6      Wii  11.350000   0.660000  0.058150\n",
              "4      PSP   3.690000   0.120000  0.032520"
            ]
          },
          "metadata": {},
          "output_type": "display_data"
        }
      ],
      "source": [
        "platform_old = platforms.query('year_of_release < 2015').groupby('platform').agg({'ttl_sales':'mean'}).reset_index()\n",
        "platform_old.columns = ['platform','ttl_old']\n",
        "platform_new = platforms.query('year_of_release > 2014').groupby('platform').agg({'ttl_sales':'mean'}).reset_index()\n",
        "platform_new.columns = ['platform','ttl_new']\n",
        "platform_grow = platform_old.merge(platform_new, how='inner', on='platform')\n",
        "platform_grow['grow'] = platform_grow['ttl_new'] / platform_grow['ttl_old']\n",
        "display(platform_grow.sort_values(by='grow', ascending=False).head(10))"
      ]
    },
    {
      "cell_type": "markdown",
      "metadata": {
        "id": "s7qHDVL9PN1h"
      },
      "source": [
        "PS4 и XOne успешно делят рынок, остальные платформы снизили среднегодовые продажи в последние два года, как минимум наполовину. "
      ]
    },
    {
      "cell_type": "markdown",
      "metadata": {
        "id": "wJ5B8fOMQaID"
      },
      "source": [
        "- Посмотрим на статистические параметры на графиках boxplot по глобальным продажам игр в разбивке по\n",
        "платформам."
      ]
    },
    {
      "cell_type": "code",
      "execution_count": null,
      "metadata": {
        "colab": {
          "base_uri": "https://localhost:8080/",
          "height": 699
        },
        "id": "cNCGsBak3Xgv",
        "outputId": "b578e908-cb3d-4495-943b-a493b22883e1",
        "scrolled": true
      },
      "outputs": [
        {
          "data": {
            "text/plain": [
              "<function matplotlib.pyplot.show(close=None, block=None)>"
            ]
          },
          "execution_count": 33,
          "metadata": {},
          "output_type": "execute_result"
        },
        {
          "data": {
            "image/png": "[encoded data removed]",
            "text/plain": [
              "<Figure size 3300x1500 with 1 Axes>"
            ]
          },
          "metadata": {},
          "output_type": "display_data"
        }
      ],
      "source": [
        "plt.figure(figsize=(22,10), dpi=150)\n",
        "plt.grid(True)\n",
        "sns.boxplot(data=new_games[new_games['platform'].isin(platform_new['platform'])],\n",
        "            y='platform',\n",
        "            x='ttl_sales')\n",
        "plt.title('Распределение игр по продажам за период 2012-2016 г.г. для современных платформ (с 2015 г.) ')\n",
        "plt.xlabel('Продажи игры')\n",
        "plt.ylabel('Платформа')\n",
        "plt.show"
      ]
    },
    {
      "cell_type": "code",
      "execution_count": null,
      "metadata": {
        "id": "iW5yzj1vP-nU",
        "outputId": "759209db-18c9-4785-8ec4-71dbabcfa68f"
      },
      "outputs": [
        {
          "data": {
            "text/plain": [
              "<function matplotlib.pyplot.show(close=None, block=None)>"
            ]
          },
          "execution_count": 34,
          "metadata": {},
          "output_type": "execute_result"
        },
        {
          "data": {
            "image/png": "[encoded data removed]",
            "text/plain": [
              "<Figure size 3300x1500 with 1 Axes>"
            ]
          },
          "metadata": {},
          "output_type": "display_data"
        }
      ],
      "source": [
        "plt.figure(figsize=(22,10), dpi=150)\n",
        "plt.grid(True)\n",
        "sns.boxplot(data=new_games[new_games['platform'].isin(platform_new['platform'])],\n",
        "            y='platform',\n",
        "            x='ttl_sales')\n",
        "plt.title('Распределение игр по продажам за период 2012-2016 г.г. для современных платформ (с 2015 г.) ')\n",
        "plt.xlabel('Продажи игры')\n",
        "plt.ylabel('Платформа')\n",
        "plt.xlim([0,2])\n",
        "plt.show"
      ]
    },
    {
      "cell_type": "markdown",
      "metadata": {
        "id": "Gn2ybjljP-nU"
      },
      "source": [
        "Теперь гораздо удобнее. \n",
        "ТОП платформ состоит из PS и Xbox двух последних поколений. Лидирует Х360, а вот мой вывод ниже о том что PS4 по медиане превосходит Xone при ближайшем рассмотрении оказался ошибочным. поэтому **наиболее перспективные платформы на 2016 год - PS4 и Xone, без явных предпочтений. Х360 точно не стоит сбрасывать со счетов - там самое большое количество игр и самая высокая медиана продаж на игру, а значит основная масса пользователей**\n",
        "    \n",
        "Вполне сопоставимые показатели у wii но во-первых платформа довольно старая, на момент анализа ей уже 10 лет, во-вторых следующее поколение Nintendo wiiu вышедшее в 2011 заметно уступает свежим Sony и MS. Ну и в-третьих, поди-разбери этих японцев, но об этом будет ниже. \n"
      ]
    },
    {
      "cell_type": "markdown",
      "metadata": {
        "id": "d6HIh0Dt5pBf"
      },
      "source": [
        "- Боксплоты подтверждают, что самые продаваемые игры продаются на платформах PS и XBOX\n",
        "- Медиана X360 на графике правее остальных, размах \"усов\" ящика для этой платформы тоже самый большой из всех вариантов. Это значтит, что на платформе X360 продается наибольшее количество различных игр, и каждая из этих игр продается лучше чем на других платформах. \n",
        "\n",
        "Стоит обратить внимание, что следующая платформа семейства - XOne несмотря на лучшие стартовые параметры по количеству пользователей, чем PS4 (за счет успеха Х360) - показывает худшие параметры и по размаху \"усов\", и по размеру \"ящика\", и по медиане, поэтому самой перспективной платформой 2017 я бы назвал PS4."
      ]
    },
    {
      "cell_type": "markdown",
      "metadata": {
        "id": "1wEilnIaP-nW"
      },
      "source": [
        "<div class=\"alert alert-info\">\n",
        "<span style=\"color:brown\"\n",
        "<font size=\"5\"><b>Изменения продаж по платформам</b></font>\n",
        "    \n",
        "Выберем ТОП 10 платформ по общему объему продаж, и посмотрим на него через хитмап (с поиском этого решения пришлось повозиться, зато получилось довольно наглядно):"
      ]
    },
    {
      "cell_type": "code",
      "execution_count": null,
      "metadata": {
        "id": "4RtTB3tIP-nW",
        "outputId": "0cd50bae-9426-4a00-9d5a-2c31e465c477"
      },
      "outputs": [
        {
          "data": {
            "text/plain": [
              "platform\n",
              "PS2     1248.119995\n",
              "X360     961.299988\n",
              "PS3      931.339966\n",
              "Wii      891.179993\n",
              "DS       802.789978\n",
              "PS       727.580017\n",
              "PS4      314.140015\n",
              "GBA      312.880005\n",
              "PSP      290.339996\n",
              "3DS      257.809998\n",
              "Name: ttl_sales, dtype: float32"
            ]
          },
          "metadata": {},
          "output_type": "display_data"
        }
      ],
      "source": [
        "display(games.groupby('platform')['ttl_sales'].agg('sum').sort_values(ascending=False).head(10))\n",
        "pop_p = ['PS2', 'X360', 'PS3', 'Wii', 'DS', 'PS4', 'GBA', 'PSP', '3DS']\n",
        "top_platforms = games[games.platform.isin(pop_p)].copy()"
      ]
    },
    {
      "cell_type": "code",
      "execution_count": null,
      "metadata": {
        "id": "i_HNZ54rP-nW",
        "outputId": "7b12e32b-d81a-45e3-91be-04a728df6f6f"
      },
      "outputs": [
        {
          "data": {
            "text/plain": [
              "<AxesSubplot:xlabel='platform', ylabel='year_of_release'>"
            ]
          },
          "execution_count": 36,
          "metadata": {},
          "output_type": "execute_result"
        },
        {
          "data": {
            "image/png": "[encoded data removed]",
            "text/plain": [
              "<Figure size 432x288 with 2 Axes>"
            ]
          },
          "metadata": {},
          "output_type": "display_data"
        }
      ],
      "source": [
        "sns.heatmap(pd.crosstab(top_platforms['year_of_release'], top_platforms['platform']))"
      ]
    },
    {
      "cell_type": "markdown",
      "metadata": {
        "id": "ac7Reve-P-nX"
      },
      "source": [
        "<div class=\"alert alert-info\">\n",
        "<span style=\"color:brown\"\n",
        "\n",
        "Мы видим, что срок жизни наиболее популярных платформ - 7-10 лет, и пик популярности приходится на середину срока жизни (продажи в жизненном цикле близки к нормальному распределению). Так же на примере платформы PS отлично прослеживается преемственность поколений в рамках одной компании. Один график, много выводов. "
      ]
    },
    {
      "cell_type": "markdown",
      "metadata": {
        "id": "UmsnlqfbL89r"
      },
      "source": [
        "## 2.4 Посмотрим, влияют ли отзывы пользователей и критиков на продажи на примере самой популярной платформы за последние пять лет (Х360)"
      ]
    },
    {
      "cell_type": "code",
      "execution_count": null,
      "metadata": {
        "colab": {
          "base_uri": "https://localhost:8080/",
          "height": 318
        },
        "id": "Bx_EJJyfu7Sg",
        "outputId": "9175ff59-6078-4ace-9ff4-21e7959bc42d"
      },
      "outputs": [
        {
          "data": {
            "text/plain": [
              "<function matplotlib.pyplot.show(close=None, block=None)>"
            ]
          },
          "execution_count": 37,
          "metadata": {},
          "output_type": "execute_result"
        },
        {
          "data": {
            "image/png": "[encoded data removed]",
            "text/plain": [
              "<Figure size 432x288 with 1 Axes>"
            ]
          },
          "metadata": {},
          "output_type": "display_data"
        }
      ],
      "source": [
        "sns.scatterplot(data=new_games.query('platform ==\"X360\"'),\n",
        "                x='ttl_sales',\n",
        "                y='user_score')\n",
        "plt.title('Рассеяние игр по общим продажам и оценкам пользователей')\n",
        "plt.xlabel('Продажи игры')\n",
        "plt.ylabel('Оценки пользователей')\n",
        "plt.show"
      ]
    },
    {
      "cell_type": "code",
      "execution_count": null,
      "metadata": {
        "colab": {
          "base_uri": "https://localhost:8080/",
          "height": 318
        },
        "id": "qa9ik4M6zGCo",
        "outputId": "162011c8-7fd9-4fd2-d4fa-d2f428443259"
      },
      "outputs": [
        {
          "data": {
            "text/plain": [
              "<function matplotlib.pyplot.show(close=None, block=None)>"
            ]
          },
          "execution_count": 38,
          "metadata": {},
          "output_type": "execute_result"
        },
        {
          "data": {
            "image/png": "[encoded data removed]",
            "text/plain": [
              "<Figure size 432x288 with 1 Axes>"
            ]
          },
          "metadata": {},
          "output_type": "display_data"
        }
      ],
      "source": [
        "sns.scatterplot(data=new_games.query('platform ==\"X360\"'),\n",
        "                x='ttl_sales',\n",
        "                y='critic_score')\n",
        "plt.title('Рассеяние игр по общим продажам и оценкам критиков')\n",
        "plt.xlabel('Продажи игры')\n",
        "plt.ylabel('Оценки критиков')\n",
        "plt.show"
      ]
    },
    {
      "cell_type": "markdown",
      "metadata": {
        "id": "CUAApkemzc_s"
      },
      "source": [
        "Визуально график с оценками критиков более плотный, и у игр с высокими продажами - высокие оценки. Сегмент графика с количеством продаж менее 2 млн и оценкками критиков менее 70 - вообще пустой. \n",
        "\n",
        "Оценки пользователей рассеяны заметно сильнее. \n",
        "Посмотрим на цифры:"
      ]
    },
    {
      "cell_type": "code",
      "execution_count": null,
      "metadata": {
        "colab": {
          "base_uri": "https://localhost:8080/"
        },
        "id": "h1mr6SKYnAfa",
        "outputId": "5eccd3d4-0857-44c1-898b-661f50ec3064",
        "scrolled": true
      },
      "outputs": [
        {
          "name": "stdout",
          "output_type": "stream",
          "text": [
            "Между оценками пользователей и количеством продаж корреляция составляет: 0.028\n",
            "Между оценками критиков и количеством продаж корреляция составляет: 0.311\n"
          ]
        }
      ],
      "source": [
        "print('Между оценками пользователей и количеством продаж корреляция составляет:', \n",
        "      round(new_games.query('platform == \"X360\"')['user_score'].corr(new_games.query('platform == \"X360\"')['ttl_sales']), 3))\n",
        "print('Между оценками критиков и количеством продаж корреляция составляет:', \n",
        "      round(new_games.query('platform == \"X360\"')['critic_score'].corr(new_games.query('platform == \"X360\"')['ttl_sales']), 3))"
      ]
    },
    {
      "cell_type": "markdown",
      "metadata": {
        "id": "vNASPj1toBkj"
      },
      "source": [
        "Корреляция продаж с оценками критиков - умеренно положительная, и она на порядок выше корреляции продаж с пользовательской оценкой. Значит нам **стоит ориентироваться в большей степени на оценки критиков**. \n",
        "\n",
        "Определим ТОП игр 2016 года по оценкам критиков по всем платформам:\n"
      ]
    },
    {
      "cell_type": "code",
      "execution_count": null,
      "metadata": {
        "colab": {
          "base_uri": "https://localhost:8080/",
          "height": 394
        },
        "id": "9lifp2g3tT69",
        "outputId": "54610a56-dc9a-40c0-f855-12e875516561",
        "scrolled": true
      },
      "outputs": [
        {
          "data": {
            "text/html": [
              "<div>\n",
              "<style scoped>\n",
              "    .dataframe tbody tr th:only-of-type {\n",
              "        vertical-align: middle;\n",
              "    }\n",
              "\n",
              "    .dataframe tbody tr th {\n",
              "        vertical-align: top;\n",
              "    }\n",
              "\n",
              "    .dataframe thead th {\n",
              "        text-align: right;\n",
              "    }\n",
              "</style>\n",
              "<table border=\"1\" class=\"dataframe\">\n",
              "  <thead>\n",
              "    <tr style=\"text-align: right;\">\n",
              "      <th></th>\n",
              "      <th>critic_score</th>\n",
              "    </tr>\n",
              "    <tr>\n",
              "      <th>name</th>\n",
              "      <th></th>\n",
              "    </tr>\n",
              "  </thead>\n",
              "  <tbody>\n",
              "    <tr>\n",
              "      <th>The Elder Scrolls V: Skyrim</th>\n",
              "      <td>94.000000</td>\n",
              "    </tr>\n",
              "    <tr>\n",
              "      <th>Uncharted 4: A Thief's End</th>\n",
              "      <td>93.000000</td>\n",
              "    </tr>\n",
              "    <tr>\n",
              "      <th>Forza Horizon 3</th>\n",
              "      <td>91.000000</td>\n",
              "    </tr>\n",
              "    <tr>\n",
              "      <th>Overwatch</th>\n",
              "      <td>90.666664</td>\n",
              "    </tr>\n",
              "    <tr>\n",
              "      <th>Odin Sphere: Leifthrasir</th>\n",
              "      <td>90.000000</td>\n",
              "    </tr>\n",
              "    <tr>\n",
              "      <th>NBA 2K17</th>\n",
              "      <td>89.333336</td>\n",
              "    </tr>\n",
              "    <tr>\n",
              "      <th>Dark Souls III</th>\n",
              "      <td>88.333336</td>\n",
              "    </tr>\n",
              "    <tr>\n",
              "      <th>World of Warcraft: Legion</th>\n",
              "      <td>88.000000</td>\n",
              "    </tr>\n",
              "    <tr>\n",
              "      <th>Sid Meier's Civilization VI</th>\n",
              "      <td>88.000000</td>\n",
              "    </tr>\n",
              "    <tr>\n",
              "      <th>XCOM 2</th>\n",
              "      <td>87.666664</td>\n",
              "    </tr>\n",
              "  </tbody>\n",
              "</table>\n",
              "</div>"
            ],
            "text/plain": [
              "                             critic_score\n",
              "name                                     \n",
              "The Elder Scrolls V: Skyrim     94.000000\n",
              "Uncharted 4: A Thief's End      93.000000\n",
              "Forza Horizon 3                 91.000000\n",
              "Overwatch                       90.666664\n",
              "Odin Sphere: Leifthrasir        90.000000\n",
              "NBA 2K17                        89.333336\n",
              "Dark Souls III                  88.333336\n",
              "World of Warcraft: Legion       88.000000\n",
              "Sid Meier's Civilization VI     88.000000\n",
              "XCOM 2                          87.666664"
            ]
          },
          "execution_count": 40,
          "metadata": {},
          "output_type": "execute_result"
        }
      ],
      "source": [
        "new_games.query('year_of_release == 2016').groupby(by='name').agg({'critic_score':'mean'}).sort_values(by='critic_score', ascending=False).head(10)"
      ]
    },
    {
      "cell_type": "code",
      "execution_count": null,
      "metadata": {
        "id": "YucTQEAZP-na",
        "outputId": "4546ab19-dd7e-4752-9284-9c697f226dfd"
      },
      "outputs": [
        {
          "data": {
            "text/html": [
              "<div>\n",
              "<style scoped>\n",
              "    .dataframe tbody tr th:only-of-type {\n",
              "        vertical-align: middle;\n",
              "    }\n",
              "\n",
              "    .dataframe tbody tr th {\n",
              "        vertical-align: top;\n",
              "    }\n",
              "\n",
              "    .dataframe thead th {\n",
              "        text-align: right;\n",
              "    }\n",
              "</style>\n",
              "<table border=\"1\" class=\"dataframe\">\n",
              "  <thead>\n",
              "    <tr style=\"text-align: right;\">\n",
              "      <th></th>\n",
              "      <th>critic_score</th>\n",
              "    </tr>\n",
              "    <tr>\n",
              "      <th>platform</th>\n",
              "      <th></th>\n",
              "    </tr>\n",
              "  </thead>\n",
              "  <tbody>\n",
              "    <tr>\n",
              "      <th>PC</th>\n",
              "      <td>76.048149</td>\n",
              "    </tr>\n",
              "    <tr>\n",
              "      <th>PS3</th>\n",
              "      <td>74.550003</td>\n",
              "    </tr>\n",
              "    <tr>\n",
              "      <th>3DS</th>\n",
              "      <td>74.157738</td>\n",
              "    </tr>\n",
              "    <tr>\n",
              "      <th>X360</th>\n",
              "      <td>74.022728</td>\n",
              "    </tr>\n",
              "    <tr>\n",
              "      <th>Wii</th>\n",
              "      <td>74.000000</td>\n",
              "    </tr>\n",
              "    <tr>\n",
              "      <th>XOne</th>\n",
              "      <td>73.494286</td>\n",
              "    </tr>\n",
              "    <tr>\n",
              "      <th>WiiU</th>\n",
              "      <td>73.213295</td>\n",
              "    </tr>\n",
              "    <tr>\n",
              "      <th>PSV</th>\n",
              "      <td>72.455132</td>\n",
              "    </tr>\n",
              "    <tr>\n",
              "      <th>PS4</th>\n",
              "      <td>71.904808</td>\n",
              "    </tr>\n",
              "  </tbody>\n",
              "</table>\n",
              "</div>"
            ],
            "text/plain": [
              "          critic_score\n",
              "platform              \n",
              "PC           76.048149\n",
              "PS3          74.550003\n",
              "3DS          74.157738\n",
              "X360         74.022728\n",
              "Wii          74.000000\n",
              "XOne         73.494286\n",
              "WiiU         73.213295\n",
              "PSV          72.455132\n",
              "PS4          71.904808"
            ]
          },
          "execution_count": 41,
          "metadata": {},
          "output_type": "execute_result"
        }
      ],
      "source": [
        "new_games.query('year_of_release == 2016').groupby(by='platform').agg({'critic_score':'mean'}).sort_values(by='critic_score', ascending=False).head(10)"
      ]
    },
    {
      "cell_type": "markdown",
      "metadata": {
        "id": "_ixDCifYP-na"
      },
      "source": [
        "<div class=\"alert alert-info\">\n",
        "<span style=\"color:brown\"\n",
        "\n",
        "**Посмотрел на оценки критиков в разрезе разных платформ:**\n",
        "\n",
        "Оценки лучших игр отличаются незначительно, и в ТОП 10 вошли представители всех платформенных семейств, включая PC, поэтому на выбор платформы оценка критиков значительно не влияет"
      ]
    },
    {
      "cell_type": "markdown",
      "metadata": {
        "id": "SVgz0IXw3HQ7"
      },
      "source": [
        "## 2.5 Портреты пользователя на различных рынках\n",
        "- для начала определим размеры рынков по количеству продаж за последние пять лет:"
      ]
    },
    {
      "cell_type": "code",
      "execution_count": null,
      "metadata": {
        "colab": {
          "base_uri": "https://localhost:8080/",
          "height": 406
        },
        "id": "v33w1zT-GVfN",
        "outputId": "49b70e06-b7e9-4893-eb22-e82388875a69"
      },
      "outputs": [
        {
          "data": {
            "image/png": "[encoded data removed]",
            "text/plain": [
              "<Figure size 432x288 with 1 Axes>"
            ]
          },
          "metadata": {},
          "output_type": "display_data"
        },
        {
          "data": {
            "text/html": [
              "<div>\n",
              "<style scoped>\n",
              "    .dataframe tbody tr th:only-of-type {\n",
              "        vertical-align: middle;\n",
              "    }\n",
              "\n",
              "    .dataframe tbody tr th {\n",
              "        vertical-align: top;\n",
              "    }\n",
              "\n",
              "    .dataframe thead th {\n",
              "        text-align: right;\n",
              "    }\n",
              "</style>\n",
              "<table border=\"1\" class=\"dataframe\">\n",
              "  <thead>\n",
              "    <tr style=\"text-align: right;\">\n",
              "      <th></th>\n",
              "      <th>0</th>\n",
              "    </tr>\n",
              "  </thead>\n",
              "  <tbody>\n",
              "    <tr>\n",
              "      <th>Европа</th>\n",
              "      <td>507.070007</td>\n",
              "    </tr>\n",
              "    <tr>\n",
              "      <th>Америка</th>\n",
              "      <td>591.029968</td>\n",
              "    </tr>\n",
              "    <tr>\n",
              "      <th>Япония</th>\n",
              "      <td>192.579987</td>\n",
              "    </tr>\n",
              "    <tr>\n",
              "      <th>Прочие</th>\n",
              "      <td>156.200012</td>\n",
              "    </tr>\n",
              "  </tbody>\n",
              "</table>\n",
              "</div>"
            ],
            "text/plain": [
              "                  0\n",
              "Европа   507.070007\n",
              "Америка  591.029968\n",
              "Япония   192.579987\n",
              "Прочие   156.200012"
            ]
          },
          "metadata": {},
          "output_type": "display_data"
        }
      ],
      "source": [
        "size_of_groups = [new_games['eu_sales'].sum(), \n",
        "                  new_games['na_sales'].sum(),\n",
        "                  new_games['jp_sales'].sum(),\n",
        "                  new_games['other_sales'].sum()]\n",
        "names = ['Европа', 'Америка', 'Япония', 'Прочие']\n",
        "plt.pie(size_of_groups,\n",
        "        labels=names)\n",
        "my_circle=plt.Circle( (0,0), 0.6, color='white')\n",
        "p=plt.gcf()\n",
        "p.gca().add_artist(my_circle)\n",
        "\n",
        "# show the graph\n",
        "plt.show()\n",
        "display(pd.DataFrame(data=size_of_groups, index=names))"
      ]
    },
    {
      "cell_type": "markdown",
      "metadata": {
        "id": "UaAnF0gjJb-f"
      },
      "source": [
        "Приоритетные рынки - Северная Америка и Европа. Вместе за пять лет они продали больше 1 млрд копий. На третьем месте со значительным отставанием Японский рынок, затем прочие. "
      ]
    },
    {
      "cell_type": "markdown",
      "metadata": {
        "id": "DBuIzolwC_dV"
      },
      "source": [
        "- посмотрим на ТОП 5 игровых жанров для каждого региона"
      ]
    },
    {
      "cell_type": "code",
      "execution_count": null,
      "metadata": {
        "colab": {
          "base_uri": "https://localhost:8080/",
          "height": 899
        },
        "id": "7dKjU3gY6irV",
        "outputId": "224fbc33-067e-459d-99ad-ebc7f35cfbfe"
      },
      "outputs": [
        {
          "data": {
            "text/html": [
              "<div>\n",
              "<style scoped>\n",
              "    .dataframe tbody tr th:only-of-type {\n",
              "        vertical-align: middle;\n",
              "    }\n",
              "\n",
              "    .dataframe tbody tr th {\n",
              "        vertical-align: top;\n",
              "    }\n",
              "\n",
              "    .dataframe thead th {\n",
              "        text-align: right;\n",
              "    }\n",
              "</style>\n",
              "<table border=\"1\" class=\"dataframe\">\n",
              "  <thead>\n",
              "    <tr style=\"text-align: right;\">\n",
              "      <th></th>\n",
              "      <th>jp_sales</th>\n",
              "    </tr>\n",
              "    <tr>\n",
              "      <th>genre</th>\n",
              "      <th></th>\n",
              "    </tr>\n",
              "  </thead>\n",
              "  <tbody>\n",
              "    <tr>\n",
              "      <th>Role-Playing</th>\n",
              "      <td>65.440002</td>\n",
              "    </tr>\n",
              "    <tr>\n",
              "      <th>Action</th>\n",
              "      <td>52.799999</td>\n",
              "    </tr>\n",
              "    <tr>\n",
              "      <th>Misc</th>\n",
              "      <td>12.860000</td>\n",
              "    </tr>\n",
              "    <tr>\n",
              "      <th>Simulation</th>\n",
              "      <td>10.410000</td>\n",
              "    </tr>\n",
              "    <tr>\n",
              "      <th>Fighting</th>\n",
              "      <td>9.440000</td>\n",
              "    </tr>\n",
              "  </tbody>\n",
              "</table>\n",
              "</div>"
            ],
            "text/plain": [
              "               jp_sales\n",
              "genre                  \n",
              "Role-Playing  65.440002\n",
              "Action        52.799999\n",
              "Misc          12.860000\n",
              "Simulation    10.410000\n",
              "Fighting       9.440000"
            ]
          },
          "metadata": {},
          "output_type": "display_data"
        },
        {
          "data": {
            "text/html": [
              "<div>\n",
              "<style scoped>\n",
              "    .dataframe tbody tr th:only-of-type {\n",
              "        vertical-align: middle;\n",
              "    }\n",
              "\n",
              "    .dataframe tbody tr th {\n",
              "        vertical-align: top;\n",
              "    }\n",
              "\n",
              "    .dataframe thead th {\n",
              "        text-align: right;\n",
              "    }\n",
              "</style>\n",
              "<table border=\"1\" class=\"dataframe\">\n",
              "  <thead>\n",
              "    <tr style=\"text-align: right;\">\n",
              "      <th></th>\n",
              "      <th>eu_sales</th>\n",
              "    </tr>\n",
              "    <tr>\n",
              "      <th>genre</th>\n",
              "      <th></th>\n",
              "    </tr>\n",
              "  </thead>\n",
              "  <tbody>\n",
              "    <tr>\n",
              "      <th>Action</th>\n",
              "      <td>159.589996</td>\n",
              "    </tr>\n",
              "    <tr>\n",
              "      <th>Shooter</th>\n",
              "      <td>113.470001</td>\n",
              "    </tr>\n",
              "    <tr>\n",
              "      <th>Sports</th>\n",
              "      <td>69.089996</td>\n",
              "    </tr>\n",
              "    <tr>\n",
              "      <th>Role-Playing</th>\n",
              "      <td>48.529999</td>\n",
              "    </tr>\n",
              "    <tr>\n",
              "      <th>Racing</th>\n",
              "      <td>27.290001</td>\n",
              "    </tr>\n",
              "  </tbody>\n",
              "</table>\n",
              "</div>"
            ],
            "text/plain": [
              "                eu_sales\n",
              "genre                   \n",
              "Action        159.589996\n",
              "Shooter       113.470001\n",
              "Sports         69.089996\n",
              "Role-Playing   48.529999\n",
              "Racing         27.290001"
            ]
          },
          "metadata": {},
          "output_type": "display_data"
        },
        {
          "data": {
            "text/html": [
              "<div>\n",
              "<style scoped>\n",
              "    .dataframe tbody tr th:only-of-type {\n",
              "        vertical-align: middle;\n",
              "    }\n",
              "\n",
              "    .dataframe tbody tr th {\n",
              "        vertical-align: top;\n",
              "    }\n",
              "\n",
              "    .dataframe thead th {\n",
              "        text-align: right;\n",
              "    }\n",
              "</style>\n",
              "<table border=\"1\" class=\"dataframe\">\n",
              "  <thead>\n",
              "    <tr style=\"text-align: right;\">\n",
              "      <th></th>\n",
              "      <th>na_sales</th>\n",
              "    </tr>\n",
              "    <tr>\n",
              "      <th>genre</th>\n",
              "      <th></th>\n",
              "    </tr>\n",
              "  </thead>\n",
              "  <tbody>\n",
              "    <tr>\n",
              "      <th>Action</th>\n",
              "      <td>177.899994</td>\n",
              "    </tr>\n",
              "    <tr>\n",
              "      <th>Shooter</th>\n",
              "      <td>144.770004</td>\n",
              "    </tr>\n",
              "    <tr>\n",
              "      <th>Sports</th>\n",
              "      <td>81.529999</td>\n",
              "    </tr>\n",
              "    <tr>\n",
              "      <th>Role-Playing</th>\n",
              "      <td>64.000000</td>\n",
              "    </tr>\n",
              "    <tr>\n",
              "      <th>Misc</th>\n",
              "      <td>38.189999</td>\n",
              "    </tr>\n",
              "  </tbody>\n",
              "</table>\n",
              "</div>"
            ],
            "text/plain": [
              "                na_sales\n",
              "genre                   \n",
              "Action        177.899994\n",
              "Shooter       144.770004\n",
              "Sports         81.529999\n",
              "Role-Playing   64.000000\n",
              "Misc           38.189999"
            ]
          },
          "metadata": {},
          "output_type": "display_data"
        },
        {
          "data": {
            "text/html": [
              "<div>\n",
              "<style scoped>\n",
              "    .dataframe tbody tr th:only-of-type {\n",
              "        vertical-align: middle;\n",
              "    }\n",
              "\n",
              "    .dataframe tbody tr th {\n",
              "        vertical-align: top;\n",
              "    }\n",
              "\n",
              "    .dataframe thead th {\n",
              "        text-align: right;\n",
              "    }\n",
              "</style>\n",
              "<table border=\"1\" class=\"dataframe\">\n",
              "  <thead>\n",
              "    <tr style=\"text-align: right;\">\n",
              "      <th></th>\n",
              "      <th>other_sales</th>\n",
              "    </tr>\n",
              "    <tr>\n",
              "      <th>genre</th>\n",
              "      <th></th>\n",
              "    </tr>\n",
              "  </thead>\n",
              "  <tbody>\n",
              "    <tr>\n",
              "      <th>Action</th>\n",
              "      <td>51.180000</td>\n",
              "    </tr>\n",
              "    <tr>\n",
              "      <th>Shooter</th>\n",
              "      <td>37.260002</td>\n",
              "    </tr>\n",
              "    <tr>\n",
              "      <th>Sports</th>\n",
              "      <td>22.440001</td>\n",
              "    </tr>\n",
              "    <tr>\n",
              "      <th>Role-Playing</th>\n",
              "      <td>14.830000</td>\n",
              "    </tr>\n",
              "    <tr>\n",
              "      <th>Misc</th>\n",
              "      <td>7.670000</td>\n",
              "    </tr>\n",
              "  </tbody>\n",
              "</table>\n",
              "</div>"
            ],
            "text/plain": [
              "              other_sales\n",
              "genre                    \n",
              "Action          51.180000\n",
              "Shooter         37.260002\n",
              "Sports          22.440001\n",
              "Role-Playing    14.830000\n",
              "Misc             7.670000"
            ]
          },
          "metadata": {},
          "output_type": "display_data"
        }
      ],
      "source": [
        "display(new_games.groupby('genre').agg({'jp_sales':sum}).sort_values(by='jp_sales', ascending=False).head(5))\n",
        "display(new_games.groupby('genre').agg({'eu_sales':sum}).sort_values(by='eu_sales', ascending=False).head(5))\n",
        "display(new_games.groupby('genre').agg({'na_sales':sum}).sort_values(by='na_sales', ascending=False).head(5))\n",
        "display(new_games.groupby('genre').agg({'other_sales':sum}).sort_values(by='other_sales', ascending=False).head(5))"
      ]
    },
    {
      "cell_type": "markdown",
      "metadata": {
        "id": "NqAWnScrFPDN"
      },
      "source": [
        "Мы видим что японский рынок сильно отличается от остальных: там не в почете Шутеры и Спорт, зато в ТОП попали Симуляторы и Драки. Остальные рынки с точки зрения жанров представляют единый глобальный рынок. \n"
      ]
    },
    {
      "cell_type": "code",
      "execution_count": null,
      "metadata": {
        "id": "q23fc4YgP-ne",
        "outputId": "e73ce3ac-0f93-4bb3-a7b6-0bae5b7b8a57"
      },
      "outputs": [
        {
          "data": {
            "image/png": "[encoded data removed]",
            "text/plain": [
              "<Figure size 432x288 with 1 Axes>"
            ]
          },
          "metadata": {},
          "output_type": "display_data"
        },
        {
          "data": {
            "image/png": "[encoded data removed]",
            "text/plain": [
              "<Figure size 432x288 with 1 Axes>"
            ]
          },
          "metadata": {},
          "output_type": "display_data"
        },
        {
          "data": {
            "image/png": "[encoded data removed]",
            "text/plain": [
              "<Figure size 432x288 with 1 Axes>"
            ]
          },
          "metadata": {},
          "output_type": "display_data"
        },
        {
          "data": {
            "image/png": "[encoded data removed]",
            "text/plain": [
              "<Figure size 432x288 with 1 Axes>"
            ]
          },
          "metadata": {},
          "output_type": "display_data"
        }
      ],
      "source": [
        "jp = new_games.groupby('genre').agg({'jp_sales':sum}).sort_values(by='jp_sales', ascending=False).head(5)\n",
        "eu = new_games.groupby('genre').agg({'eu_sales':sum}).sort_values(by='eu_sales', ascending=False).head(5)\n",
        "na = new_games.groupby('genre').agg({'na_sales':sum}).sort_values(by='na_sales', ascending=False).head(5)\n",
        "other = new_games.groupby('genre').agg({'other_sales':sum}).sort_values(by='other_sales', ascending=False).head(5)\n",
        "\n",
        "ax = jp.T.plot(kind='bar')\n",
        "ylab = ax.set_ylabel('sales')\n",
        "\n",
        "ax = eu.T.plot(kind='bar')\n",
        "ylab = ax.set_ylabel('sales')\n",
        "\n",
        "ax = na.T.plot(kind='bar')\n",
        "ylab = ax.set_ylabel('sales')\n",
        "\n",
        "ax = other.T.plot(kind='bar')\n",
        "ylab = ax.set_ylabel('sales')"
      ]
    },
    {
      "cell_type": "markdown",
      "metadata": {
        "id": "5x3ZfwgqFtFk"
      },
      "source": [
        "- ТОП игровых платформ для каждого региона:"
      ]
    },
    {
      "cell_type": "code",
      "execution_count": null,
      "metadata": {
        "colab": {
          "base_uri": "https://localhost:8080/",
          "height": 899
        },
        "id": "MXmf0n03F4Vr",
        "outputId": "6bac4505-9d5d-4727-cfb5-467450caeae5"
      },
      "outputs": [
        {
          "data": {
            "text/html": [
              "<div>\n",
              "<style scoped>\n",
              "    .dataframe tbody tr th:only-of-type {\n",
              "        vertical-align: middle;\n",
              "    }\n",
              "\n",
              "    .dataframe tbody tr th {\n",
              "        vertical-align: top;\n",
              "    }\n",
              "\n",
              "    .dataframe thead th {\n",
              "        text-align: right;\n",
              "    }\n",
              "</style>\n",
              "<table border=\"1\" class=\"dataframe\">\n",
              "  <thead>\n",
              "    <tr style=\"text-align: right;\">\n",
              "      <th></th>\n",
              "      <th>jp_sales</th>\n",
              "    </tr>\n",
              "    <tr>\n",
              "      <th>platform</th>\n",
              "      <th></th>\n",
              "    </tr>\n",
              "  </thead>\n",
              "  <tbody>\n",
              "    <tr>\n",
              "      <th>3DS</th>\n",
              "      <td>87.790001</td>\n",
              "    </tr>\n",
              "    <tr>\n",
              "      <th>PS3</th>\n",
              "      <td>35.290001</td>\n",
              "    </tr>\n",
              "    <tr>\n",
              "      <th>PSV</th>\n",
              "      <td>21.039999</td>\n",
              "    </tr>\n",
              "    <tr>\n",
              "      <th>PS4</th>\n",
              "      <td>15.960000</td>\n",
              "    </tr>\n",
              "    <tr>\n",
              "      <th>WiiU</th>\n",
              "      <td>13.010000</td>\n",
              "    </tr>\n",
              "  </tbody>\n",
              "</table>\n",
              "</div>"
            ],
            "text/plain": [
              "           jp_sales\n",
              "platform           \n",
              "3DS       87.790001\n",
              "PS3       35.290001\n",
              "PSV       21.039999\n",
              "PS4       15.960000\n",
              "WiiU      13.010000"
            ]
          },
          "metadata": {},
          "output_type": "display_data"
        },
        {
          "data": {
            "text/html": [
              "<div>\n",
              "<style scoped>\n",
              "    .dataframe tbody tr th:only-of-type {\n",
              "        vertical-align: middle;\n",
              "    }\n",
              "\n",
              "    .dataframe tbody tr th {\n",
              "        vertical-align: top;\n",
              "    }\n",
              "\n",
              "    .dataframe thead th {\n",
              "        text-align: right;\n",
              "    }\n",
              "</style>\n",
              "<table border=\"1\" class=\"dataframe\">\n",
              "  <thead>\n",
              "    <tr style=\"text-align: right;\">\n",
              "      <th></th>\n",
              "      <th>eu_sales</th>\n",
              "    </tr>\n",
              "    <tr>\n",
              "      <th>platform</th>\n",
              "      <th></th>\n",
              "    </tr>\n",
              "  </thead>\n",
              "  <tbody>\n",
              "    <tr>\n",
              "      <th>PS4</th>\n",
              "      <td>141.089996</td>\n",
              "    </tr>\n",
              "    <tr>\n",
              "      <th>PS3</th>\n",
              "      <td>106.860001</td>\n",
              "    </tr>\n",
              "    <tr>\n",
              "      <th>X360</th>\n",
              "      <td>74.519997</td>\n",
              "    </tr>\n",
              "    <tr>\n",
              "      <th>XOne</th>\n",
              "      <td>51.590000</td>\n",
              "    </tr>\n",
              "    <tr>\n",
              "      <th>3DS</th>\n",
              "      <td>42.639999</td>\n",
              "    </tr>\n",
              "  </tbody>\n",
              "</table>\n",
              "</div>"
            ],
            "text/plain": [
              "            eu_sales\n",
              "platform            \n",
              "PS4       141.089996\n",
              "PS3       106.860001\n",
              "X360       74.519997\n",
              "XOne       51.590000\n",
              "3DS        42.639999"
            ]
          },
          "metadata": {},
          "output_type": "display_data"
        },
        {
          "data": {
            "text/html": [
              "<div>\n",
              "<style scoped>\n",
              "    .dataframe tbody tr th:only-of-type {\n",
              "        vertical-align: middle;\n",
              "    }\n",
              "\n",
              "    .dataframe tbody tr th {\n",
              "        vertical-align: top;\n",
              "    }\n",
              "\n",
              "    .dataframe thead th {\n",
              "        text-align: right;\n",
              "    }\n",
              "</style>\n",
              "<table border=\"1\" class=\"dataframe\">\n",
              "  <thead>\n",
              "    <tr style=\"text-align: right;\">\n",
              "      <th></th>\n",
              "      <th>na_sales</th>\n",
              "    </tr>\n",
              "    <tr>\n",
              "      <th>platform</th>\n",
              "      <th></th>\n",
              "    </tr>\n",
              "  </thead>\n",
              "  <tbody>\n",
              "    <tr>\n",
              "      <th>X360</th>\n",
              "      <td>140.050003</td>\n",
              "    </tr>\n",
              "    <tr>\n",
              "      <th>PS4</th>\n",
              "      <td>108.739998</td>\n",
              "    </tr>\n",
              "    <tr>\n",
              "      <th>PS3</th>\n",
              "      <td>103.379997</td>\n",
              "    </tr>\n",
              "    <tr>\n",
              "      <th>XOne</th>\n",
              "      <td>93.120003</td>\n",
              "    </tr>\n",
              "    <tr>\n",
              "      <th>3DS</th>\n",
              "      <td>55.310001</td>\n",
              "    </tr>\n",
              "  </tbody>\n",
              "</table>\n",
              "</div>"
            ],
            "text/plain": [
              "            na_sales\n",
              "platform            \n",
              "X360      140.050003\n",
              "PS4       108.739998\n",
              "PS3       103.379997\n",
              "XOne       93.120003\n",
              "3DS        55.310001"
            ]
          },
          "metadata": {},
          "output_type": "display_data"
        },
        {
          "data": {
            "text/html": [
              "<div>\n",
              "<style scoped>\n",
              "    .dataframe tbody tr th:only-of-type {\n",
              "        vertical-align: middle;\n",
              "    }\n",
              "\n",
              "    .dataframe tbody tr th {\n",
              "        vertical-align: top;\n",
              "    }\n",
              "\n",
              "    .dataframe thead th {\n",
              "        text-align: right;\n",
              "    }\n",
              "</style>\n",
              "<table border=\"1\" class=\"dataframe\">\n",
              "  <thead>\n",
              "    <tr style=\"text-align: right;\">\n",
              "      <th></th>\n",
              "      <th>other_sales</th>\n",
              "    </tr>\n",
              "    <tr>\n",
              "      <th>platform</th>\n",
              "      <th></th>\n",
              "    </tr>\n",
              "  </thead>\n",
              "  <tbody>\n",
              "    <tr>\n",
              "      <th>PS4</th>\n",
              "      <td>48.349998</td>\n",
              "    </tr>\n",
              "    <tr>\n",
              "      <th>PS3</th>\n",
              "      <td>43.259998</td>\n",
              "    </tr>\n",
              "    <tr>\n",
              "      <th>X360</th>\n",
              "      <td>20.400000</td>\n",
              "    </tr>\n",
              "    <tr>\n",
              "      <th>XOne</th>\n",
              "      <td>14.270000</td>\n",
              "    </tr>\n",
              "    <tr>\n",
              "      <th>3DS</th>\n",
              "      <td>8.870000</td>\n",
              "    </tr>\n",
              "  </tbody>\n",
              "</table>\n",
              "</div>"
            ],
            "text/plain": [
              "          other_sales\n",
              "platform             \n",
              "PS4         48.349998\n",
              "PS3         43.259998\n",
              "X360        20.400000\n",
              "XOne        14.270000\n",
              "3DS          8.870000"
            ]
          },
          "metadata": {},
          "output_type": "display_data"
        }
      ],
      "source": [
        "display(new_games.groupby('platform').agg({'jp_sales':sum}).sort_values(by='jp_sales', ascending=False).head(5))\n",
        "display(new_games.groupby('platform').agg({'eu_sales':sum}).sort_values(by='eu_sales', ascending=False).head(5))\n",
        "display(new_games.groupby('platform').agg({'na_sales':sum}).sort_values(by='na_sales', ascending=False).head(5))\n",
        "display(new_games.groupby('platform').agg({'other_sales':sum}).sort_values(by='other_sales', ascending=False).head(5))"
      ]
    },
    {
      "cell_type": "markdown",
      "metadata": {
        "id": "B8Dcs00ZLtt7"
      },
      "source": [
        "по ТОПу платформ ситуация похожа - на глобальном рынке в топе одни и те же платформы, особенность только в том, что в Северной Америке Х360 пользуется большей популярностью чем PS. \n",
        "В Европе и на прочих рынках лидирует PS4\n",
        "\n",
        "А вот Япония снова стоит особняком: платформы Microsoft вообще не вошли в ТОП, а Sony уступила лидерство Nintendo "
      ]
    },
    {
      "cell_type": "markdown",
      "metadata": {
        "id": "FkI3ROI2OmWI"
      },
      "source": [
        "## 2.6 Влияние возрастного рейтинга на продажи в разных регионах"
      ]
    },
    {
      "cell_type": "code",
      "execution_count": null,
      "metadata": {
        "colab": {
          "base_uri": "https://localhost:8080/",
          "height": 261
        },
        "id": "a-Nm3nBdLN-Q",
        "outputId": "990331b3-f897-4d68-f799-b0250e34514b"
      },
      "outputs": [
        {
          "name": "stderr",
          "output_type": "stream",
          "text": [
            "/tmp/ipykernel_190/2677840768.py:4: UserWarning: Pandas doesn't allow columns to be created via a new attribute name - see https://pandas.pydata.org/pandas-docs/stable/indexing.html#attribute-access\n",
            "  rating.column = ['rating', 'na_sales', 'eu_sales', 'jp_sales', 'other_sales', 'ttl_sales']\n"
          ]
        },
        {
          "data": {
            "text/html": [
              "<div>\n",
              "<style scoped>\n",
              "    .dataframe tbody tr th:only-of-type {\n",
              "        vertical-align: middle;\n",
              "    }\n",
              "\n",
              "    .dataframe tbody tr th {\n",
              "        vertical-align: top;\n",
              "    }\n",
              "\n",
              "    .dataframe thead th {\n",
              "        text-align: right;\n",
              "    }\n",
              "</style>\n",
              "<table border=\"1\" class=\"dataframe\">\n",
              "  <thead>\n",
              "    <tr style=\"text-align: right;\">\n",
              "      <th></th>\n",
              "      <th>eu_sales</th>\n",
              "      <th>jp_sales</th>\n",
              "      <th>na_sales</th>\n",
              "      <th>other_sales</th>\n",
              "      <th>ttl_sales</th>\n",
              "    </tr>\n",
              "    <tr>\n",
              "      <th>rating</th>\n",
              "      <th></th>\n",
              "      <th></th>\n",
              "      <th></th>\n",
              "      <th></th>\n",
              "      <th></th>\n",
              "    </tr>\n",
              "  </thead>\n",
              "  <tbody>\n",
              "    <tr>\n",
              "      <th>M</th>\n",
              "      <td>194.210007</td>\n",
              "      <td>21.200001</td>\n",
              "      <td>231.630005</td>\n",
              "      <td>63.419998</td>\n",
              "      <td>510.459991</td>\n",
              "    </tr>\n",
              "    <tr>\n",
              "      <th>without rating</th>\n",
              "      <td>91.500000</td>\n",
              "      <td>108.839996</td>\n",
              "      <td>103.309998</td>\n",
              "      <td>27.170000</td>\n",
              "      <td>330.820007</td>\n",
              "    </tr>\n",
              "    <tr>\n",
              "      <th>E</th>\n",
              "      <td>113.029999</td>\n",
              "      <td>28.330000</td>\n",
              "      <td>114.370003</td>\n",
              "      <td>31.440001</td>\n",
              "      <td>287.170013</td>\n",
              "    </tr>\n",
              "    <tr>\n",
              "      <th>T</th>\n",
              "      <td>52.959999</td>\n",
              "      <td>26.020000</td>\n",
              "      <td>66.019997</td>\n",
              "      <td>17.940001</td>\n",
              "      <td>162.940002</td>\n",
              "    </tr>\n",
              "    <tr>\n",
              "      <th>E10+</th>\n",
              "      <td>55.369999</td>\n",
              "      <td>8.190000</td>\n",
              "      <td>75.699997</td>\n",
              "      <td>16.230000</td>\n",
              "      <td>155.490005</td>\n",
              "    </tr>\n",
              "  </tbody>\n",
              "</table>\n",
              "</div>"
            ],
            "text/plain": [
              "                  eu_sales    jp_sales    na_sales  other_sales   ttl_sales\n",
              "rating                                                                     \n",
              "M               194.210007   21.200001  231.630005    63.419998  510.459991\n",
              "without rating   91.500000  108.839996  103.309998    27.170000  330.820007\n",
              "E               113.029999   28.330000  114.370003    31.440001  287.170013\n",
              "T                52.959999   26.020000   66.019997    17.940001  162.940002\n",
              "E10+             55.369999    8.190000   75.699997    16.230000  155.490005"
            ]
          },
          "metadata": {},
          "output_type": "display_data"
        }
      ],
      "source": [
        "rating=new_games.pivot_table(index='rating',\n",
        "                               values=['na_sales', 'eu_sales', 'jp_sales', 'other_sales', 'ttl_sales'],\n",
        "                               aggfunc='sum')\n",
        "rating.column = ['rating', 'na_sales', 'eu_sales', 'jp_sales', 'other_sales', 'ttl_sales']\n",
        "display(rating.sort_values(by='ttl_sales', ascending=False))"
      ]
    },
    {
      "cell_type": "markdown",
      "metadata": {
        "id": "izKBX8bJUxVa"
      },
      "source": [
        "В распределени продаж игр в разных регионах по возрастному рейтингу прослеживается та же тенденция, что и в игровых жанрах. \n",
        "\n",
        "На трех сегментах глобального рынка от трети до половины продаж обеспечивают игры с рейтингом M (Mature) - для взрослых. На втором месте игры для всех - E (Everyone). \n",
        "\n",
        "Исключение снова на японском рынке. Там большинсво игры для взрослых продаются меньше чем общий рейтинг или игры для подростков. \n",
        "Так же в Японии игр для возраста 10+ продается значительно меньше чем для подросков (Teens), хотя в остальном мире эти рейтинги сопоставимы по объемам. "
      ]
    },
    {
      "cell_type": "code",
      "execution_count": null,
      "metadata": {
        "id": "QenpqReZP-nj",
        "outputId": "6707900e-7fc7-42f8-87aa-ad21c42979a1"
      },
      "outputs": [
        {
          "data": {
            "image/png": "[encoded data removed]",
            "text/plain": [
              "<Figure size 432x288 with 1 Axes>"
            ]
          },
          "metadata": {},
          "output_type": "display_data"
        }
      ],
      "source": [
        "ax = rating.T.plot(kind='bar')\n",
        "ylab = ax.set_ylabel('rating')\n",
        "\n"
      ]
    },
    {
      "cell_type": "markdown",
      "metadata": {
        "id": "Df2E0wy_P-nk"
      },
      "source": [
        "<div class=\"alert alert-info\">\n",
        "<span style=\"color:brown\"\n",
        "<font size=\"5\"><b>Скорректированный вывод</b></font>\n",
        "\n",
        "В дополнение к выводу выше можно отметить, что на японском рынке больше половины игр вообще без рейтинга, \n",
        "а самые внимательные к возрастым ограничениям - европейцы. "
      ]
    },
    {
      "cell_type": "markdown",
      "metadata": {
        "id": "pah-k0W_YN-V"
      },
      "source": [
        "#3. Проверка гипотез\n",
        "##3.1. Средние пользовательские рейтинги платформ Xbox One и PC одинаковые \n",
        "поскольку мы сравниваем две независимые генеральные совокупности с нормальным распределением, по  количественным данным, для проверки гипотези используем Т-критерий Стьюдента для независимых выборок. Примем `alpha = 0.05`, т.к. мы сравниваем маркетинговые параметры и 5% вероятности ошибки в принятии гипотезы допустима. \n",
        "\n",
        "**Гипотеза 0:** средний пользовательский рейтинг платформы Xbox One равен среднему пользовательскому рейтингу платфорым РС\n",
        "\n",
        "**Альтернативная гипотеза**: средние пользовательские рейтинги платформ Xbox One и PC различаются\n",
        "\n"
      ]
    },
    {
      "cell_type": "code",
      "execution_count": null,
      "metadata": {
        "colab": {
          "base_uri": "https://localhost:8080/"
        },
        "id": "tIb_Ftrm6eTA",
        "outputId": "15fd9269-2068-488c-8954-50f8017945ac"
      },
      "outputs": [
        {
          "name": "stdout",
          "output_type": "stream",
          "text": [
            "Размер выборки Экшн равен: 206\n",
            "Размер выборки Спорт равен: 211\n",
            "p-значение:  0.3026153691208608\n",
            "Не получилось отвергнуть нулевую гипотезу\n"
          ]
        }
      ],
      "source": [
        "print('Размер выборки Экшн равен:', new_games.query('platform == \"XOne\"')['user_score'].dropna().shape[0])\n",
        "print('Размер выборки Спорт равен:', new_games.query('platform == \"PC\"')['user_score'].dropna().shape[0])\n",
        "\n",
        "alpha = 0.05\n",
        "results = st.ttest_ind(\n",
        "    new_games.query('platform == \"XOne\"')['user_score'].dropna(), \n",
        "    new_games.query('platform == \"PC\"')['user_score'].dropna())\n",
        "\n",
        "print('p-значение: ', results.pvalue)\n",
        "\n",
        "if results.pvalue < alpha:\n",
        "    print(\"Отвергаем нулевую гипотезу\")\n",
        "else:\n",
        "    print(\"Не получилось отвергнуть нулевую гипотезу\") "
      ]
    },
    {
      "cell_type": "code",
      "execution_count": null,
      "metadata": {
        "id": "2xynfQ2QP-nm",
        "outputId": "72e59622-4ea6-49bf-ce1a-b93b1d06d729"
      },
      "outputs": [
        {
          "data": {
            "text/plain": [
              "12346"
            ]
          },
          "metadata": {},
          "output_type": "display_data"
        }
      ],
      "source": [
        "name1 = 'asdf12346'\n",
        "result1 = int(\"\".join(re.findall(r'\\d+', name1)))\n",
        "display(result1)"
      ]
    },
    {
      "cell_type": "markdown",
      "metadata": {
        "id": "89lvhgXncUD8"
      },
      "source": [
        "Выборки сопоставимы, гипотеза полностью подтвердилась - **Средние пользовательские рейтинги платформ Xbox One и PC за актуальный период одинаковые**"
      ]
    },
    {
      "cell_type": "markdown",
      "metadata": {
        "id": "yhIndaC9P-no"
      },
      "source": [
        "<div class=\"alert alert-info\">\n",
        "<span style=\"color:brown\"\n",
        "<font size=\"5\"><b>Скорректированный вывод</b></font>\n",
        "    \n",
        "Мы не можем отвергнуть альтернативную гипотезу, а значит принимаем нулевую гипотезу и считаем, что **Средние пользовательские рейтинги платформ Xbox One и PC за актуальный период одинаковые**"
      ]
    },
    {
      "cell_type": "markdown",
      "metadata": {
        "id": "apttKcJpdh9e"
      },
      "source": [
        "## 3.2. Средние пользовательские рейтинги жанров Action и Sports  разные.\n",
        "мы снова сравниваем две независимые генеральные совокупности с нормальным распределением по количественным данным, и будем использовать Т-критерий Стьюдента для независимых выборок\n",
        "\n",
        "Примем alpha = 0.05, т.к. мы сравниваем маркетинговые параметры и 5% вероятности ошибки в принятии гипотезы допустима\n",
        "\n",
        "**Гипотеза 0:** средний пользовательский рейтинг жанра  Action равен среднему пользовательскому рейтингу жанра Sports\n",
        "\n",
        "**Альтернативная гипотеза**: средние пользовательские рейтинги жанров Action и Sports различаются"
      ]
    },
    {
      "cell_type": "code",
      "execution_count": null,
      "metadata": {
        "colab": {
          "base_uri": "https://localhost:8080/"
        },
        "id": "I208odC2edKP",
        "outputId": "b3646080-a52e-496c-9d6c-5153bdf1e9c7"
      },
      "outputs": [
        {
          "name": "stdout",
          "output_type": "stream",
          "text": [
            "Размер выборки Экшн равен: 601\n",
            "Размер выборки Спорт равен: 221\n",
            "p-значение:  3.0172535840392124e-32\n",
            "Отвергаем нулевую гипотезу\n"
          ]
        }
      ],
      "source": [
        "print('Размер выборки Экшн равен:', new_games.query('genre == \"Action\"')['user_score'].dropna().shape[0])\n",
        "print('Размер выборки Спорт равен:', new_games.query('genre == \"Sports\"')['user_score'].dropna().shape[0])\n",
        "alpha = 0.05\n",
        "results = st.ttest_ind(\n",
        "    new_games.query('genre == \"Action\"')['user_score'].dropna(), \n",
        "    new_games.query('genre == \"Sports\"')['user_score'].dropna(),\n",
        "    equal_var=False)\n",
        "\n",
        "print('p-значение: ', results.pvalue)\n",
        "\n",
        "if results.pvalue < alpha:\n",
        "    print(\"Отвергаем нулевую гипотезу\")\n",
        "else:\n",
        "    print(\"Не получилось отвергнуть нулевую гипотезу\") "
      ]
    },
    {
      "cell_type": "markdown",
      "metadata": {
        "id": "iRd6-9Jmfis8"
      },
      "source": [
        "Нулевая гипотеза отвергнута, а значит **средние пользовательские рейтинги жанров Action и Sports  разные**\n",
        "\n",
        "Количество игр жанра Экшн в три раза больше чем Спортс, поэтому я проверил гипотезу с разными параметрами `equal_var` и убедился что нулевая гипотеза отвергается как при равной так и при различающейся дисперсии выборок"
      ]
    },
    {
      "cell_type": "markdown",
      "metadata": {
        "id": "Iyo8TwSeP-np"
      },
      "source": [
        "<div class=\"alert alert-info\">\n",
        "<span style=\"color:brown\"\n",
        "<font size=\"5\"><b>Скорректированный вывод</b></font>\n",
        "    \n",
        "Нулевая гипотеза отвергнута, значит будем считать, что **средние пользовательские рейтинги жанров Action и Sports разные**"
      ]
    },
    {
      "cell_type": "code",
      "execution_count": null,
      "metadata": {
        "id": "YQw4yjCpP-nq"
      },
      "outputs": [],
      "source": []
    }
  ],
  "metadata": {
    "ExecuteTimeLog": [
      {
        "duration": 147,
        "start_time": "2022-03-29T14:29:46.776Z"
      },
      {
        "duration": 141,
        "start_time": "2022-03-29T14:34:39.788Z"
      },
      {
        "duration": 186,
        "start_time": "2022-03-29T14:37:47.856Z"
      },
      {
        "duration": 126,
        "start_time": "2022-03-29T14:42:48.607Z"
      },
      {
        "duration": 142,
        "start_time": "2022-03-29T15:22:32.794Z"
      },
      {
        "duration": 189,
        "start_time": "2022-03-29T15:30:04.509Z"
      },
      {
        "duration": 50,
        "start_time": "2022-03-29T20:27:37.271Z"
      },
      {
        "duration": 1320,
        "start_time": "2022-03-29T20:27:48.425Z"
      },
      {
        "duration": 40,
        "start_time": "2022-03-29T20:27:49.748Z"
      },
      {
        "duration": 45,
        "start_time": "2022-03-29T20:27:49.789Z"
      },
      {
        "duration": 26,
        "start_time": "2022-03-29T20:27:49.836Z"
      },
      {
        "duration": 15,
        "start_time": "2022-03-29T20:27:49.864Z"
      },
      {
        "duration": 5,
        "start_time": "2022-03-29T20:27:49.880Z"
      },
      {
        "duration": 5,
        "start_time": "2022-03-29T20:27:49.886Z"
      },
      {
        "duration": 8,
        "start_time": "2022-03-29T20:27:49.892Z"
      },
      {
        "duration": 38,
        "start_time": "2022-03-29T20:27:49.902Z"
      },
      {
        "duration": 23,
        "start_time": "2022-03-29T20:27:49.943Z"
      },
      {
        "duration": 72,
        "start_time": "2022-03-29T20:27:49.968Z"
      },
      {
        "duration": 14,
        "start_time": "2022-03-29T20:27:50.041Z"
      },
      {
        "duration": 11,
        "start_time": "2022-03-29T20:27:50.057Z"
      },
      {
        "duration": 43,
        "start_time": "2022-03-29T20:27:50.069Z"
      },
      {
        "duration": 20,
        "start_time": "2022-03-29T20:27:50.114Z"
      },
      {
        "duration": 224,
        "start_time": "2022-03-29T20:27:50.136Z"
      },
      {
        "duration": 15,
        "start_time": "2022-03-29T20:27:50.362Z"
      },
      {
        "duration": 18,
        "start_time": "2022-03-29T20:27:50.378Z"
      },
      {
        "duration": 43,
        "start_time": "2022-03-29T20:27:50.397Z"
      },
      {
        "duration": 3,
        "start_time": "2022-03-29T20:27:50.442Z"
      },
      {
        "duration": 37,
        "start_time": "2022-03-29T20:27:50.446Z"
      },
      {
        "duration": 16,
        "start_time": "2022-03-29T20:27:50.484Z"
      },
      {
        "duration": 35,
        "start_time": "2022-03-29T20:27:50.502Z"
      },
      {
        "duration": 19,
        "start_time": "2022-03-29T20:27:50.539Z"
      },
      {
        "duration": 26,
        "start_time": "2022-03-29T20:27:50.559Z"
      },
      {
        "duration": 14,
        "start_time": "2022-03-29T20:27:50.587Z"
      },
      {
        "duration": 42,
        "start_time": "2022-03-29T20:27:50.603Z"
      },
      {
        "duration": 28,
        "start_time": "2022-03-29T20:27:50.649Z"
      },
      {
        "duration": 610,
        "start_time": "2022-03-29T20:27:50.679Z"
      },
      {
        "duration": 490,
        "start_time": "2022-03-29T20:27:51.291Z"
      },
      {
        "duration": 0,
        "start_time": "2022-03-29T20:27:51.783Z"
      },
      {
        "duration": 0,
        "start_time": "2022-03-29T20:27:51.785Z"
      },
      {
        "duration": 0,
        "start_time": "2022-03-29T20:27:51.786Z"
      },
      {
        "duration": 0,
        "start_time": "2022-03-29T20:27:51.787Z"
      },
      {
        "duration": 0,
        "start_time": "2022-03-29T20:27:51.788Z"
      },
      {
        "duration": 0,
        "start_time": "2022-03-29T20:27:51.789Z"
      },
      {
        "duration": 0,
        "start_time": "2022-03-29T20:27:51.790Z"
      },
      {
        "duration": 0,
        "start_time": "2022-03-29T20:27:51.791Z"
      },
      {
        "duration": 0,
        "start_time": "2022-03-29T20:27:51.792Z"
      },
      {
        "duration": 0,
        "start_time": "2022-03-29T20:27:51.793Z"
      },
      {
        "duration": 503,
        "start_time": "2022-03-29T20:28:41.063Z"
      },
      {
        "duration": 517,
        "start_time": "2022-03-29T20:29:45.232Z"
      },
      {
        "duration": 580,
        "start_time": "2022-03-29T20:29:55.877Z"
      },
      {
        "duration": 526,
        "start_time": "2022-03-29T20:30:14.020Z"
      },
      {
        "duration": 554,
        "start_time": "2022-03-29T20:31:39.924Z"
      },
      {
        "duration": 568,
        "start_time": "2022-03-29T20:31:52.459Z"
      },
      {
        "duration": 1467,
        "start_time": "2022-03-30T08:28:06.734Z"
      },
      {
        "duration": 47,
        "start_time": "2022-03-30T08:28:08.204Z"
      },
      {
        "duration": 52,
        "start_time": "2022-03-30T08:28:08.254Z"
      },
      {
        "duration": 31,
        "start_time": "2022-03-30T08:28:08.309Z"
      },
      {
        "duration": 18,
        "start_time": "2022-03-30T08:28:08.342Z"
      },
      {
        "duration": 5,
        "start_time": "2022-03-30T08:28:08.362Z"
      },
      {
        "duration": 35,
        "start_time": "2022-03-30T08:28:08.369Z"
      },
      {
        "duration": 22,
        "start_time": "2022-03-30T08:28:08.406Z"
      },
      {
        "duration": 11,
        "start_time": "2022-03-30T08:28:08.430Z"
      },
      {
        "duration": 24,
        "start_time": "2022-03-30T08:28:08.444Z"
      },
      {
        "duration": 63,
        "start_time": "2022-03-30T08:28:08.470Z"
      },
      {
        "duration": 14,
        "start_time": "2022-03-30T08:28:08.534Z"
      },
      {
        "duration": 9,
        "start_time": "2022-03-30T08:28:08.550Z"
      },
      {
        "duration": 60,
        "start_time": "2022-03-30T08:28:08.561Z"
      },
      {
        "duration": 15,
        "start_time": "2022-03-30T08:28:08.623Z"
      },
      {
        "duration": 5,
        "start_time": "2022-03-30T08:28:08.640Z"
      },
      {
        "duration": 254,
        "start_time": "2022-03-30T08:28:08.647Z"
      },
      {
        "duration": 16,
        "start_time": "2022-03-30T08:28:08.903Z"
      },
      {
        "duration": 16,
        "start_time": "2022-03-30T08:28:08.921Z"
      },
      {
        "duration": 27,
        "start_time": "2022-03-30T08:28:08.939Z"
      },
      {
        "duration": 34,
        "start_time": "2022-03-30T08:28:08.968Z"
      },
      {
        "duration": 32,
        "start_time": "2022-03-30T08:28:09.004Z"
      },
      {
        "duration": 20,
        "start_time": "2022-03-30T08:28:09.038Z"
      },
      {
        "duration": 47,
        "start_time": "2022-03-30T08:28:09.060Z"
      },
      {
        "duration": 22,
        "start_time": "2022-03-30T08:28:09.109Z"
      },
      {
        "duration": 24,
        "start_time": "2022-03-30T08:28:09.133Z"
      },
      {
        "duration": 45,
        "start_time": "2022-03-30T08:28:09.159Z"
      },
      {
        "duration": 19,
        "start_time": "2022-03-30T08:28:09.208Z"
      },
      {
        "duration": 25,
        "start_time": "2022-03-30T08:28:09.229Z"
      },
      {
        "duration": 647,
        "start_time": "2022-03-30T08:28:09.255Z"
      },
      {
        "duration": 638,
        "start_time": "2022-03-30T08:28:09.904Z"
      },
      {
        "duration": 228,
        "start_time": "2022-03-30T08:28:10.544Z"
      },
      {
        "duration": 219,
        "start_time": "2022-03-30T08:28:10.774Z"
      },
      {
        "duration": 23,
        "start_time": "2022-03-30T08:28:11.000Z"
      },
      {
        "duration": 23,
        "start_time": "2022-03-30T08:28:11.026Z"
      },
      {
        "duration": 104,
        "start_time": "2022-03-30T08:28:11.051Z"
      },
      {
        "duration": 129,
        "start_time": "2022-03-30T08:28:11.157Z"
      },
      {
        "duration": 43,
        "start_time": "2022-03-30T08:28:11.288Z"
      },
      {
        "duration": 19,
        "start_time": "2022-03-30T08:28:11.333Z"
      },
      {
        "duration": 55,
        "start_time": "2022-03-30T08:28:11.354Z"
      },
      {
        "duration": 18,
        "start_time": "2022-03-30T08:28:11.410Z"
      },
      {
        "duration": 1674,
        "start_time": "2022-04-01T09:42:20.167Z"
      },
      {
        "duration": 44,
        "start_time": "2022-04-01T09:42:21.844Z"
      },
      {
        "duration": 49,
        "start_time": "2022-04-01T09:42:21.891Z"
      },
      {
        "duration": 32,
        "start_time": "2022-04-01T09:42:21.942Z"
      },
      {
        "duration": 24,
        "start_time": "2022-04-01T09:42:22.001Z"
      },
      {
        "duration": 16,
        "start_time": "2022-04-01T09:42:22.027Z"
      },
      {
        "duration": 9,
        "start_time": "2022-04-01T09:42:22.044Z"
      },
      {
        "duration": 9,
        "start_time": "2022-04-01T09:42:22.056Z"
      },
      {
        "duration": 14,
        "start_time": "2022-04-01T09:42:22.067Z"
      },
      {
        "duration": 38,
        "start_time": "2022-04-01T09:42:22.084Z"
      },
      {
        "duration": 57,
        "start_time": "2022-04-01T09:42:22.124Z"
      },
      {
        "duration": 14,
        "start_time": "2022-04-01T09:42:22.201Z"
      },
      {
        "duration": 18,
        "start_time": "2022-04-01T09:42:22.217Z"
      },
      {
        "duration": 159,
        "start_time": "2022-04-01T09:42:22.237Z"
      },
      {
        "duration": 0,
        "start_time": "2022-04-01T09:42:22.399Z"
      },
      {
        "duration": 0,
        "start_time": "2022-04-01T09:42:22.400Z"
      },
      {
        "duration": 0,
        "start_time": "2022-04-01T09:42:22.402Z"
      },
      {
        "duration": 0,
        "start_time": "2022-04-01T09:42:22.403Z"
      },
      {
        "duration": 0,
        "start_time": "2022-04-01T09:42:22.405Z"
      },
      {
        "duration": 0,
        "start_time": "2022-04-01T09:42:22.406Z"
      },
      {
        "duration": 0,
        "start_time": "2022-04-01T09:42:22.407Z"
      },
      {
        "duration": 0,
        "start_time": "2022-04-01T09:42:22.408Z"
      },
      {
        "duration": 0,
        "start_time": "2022-04-01T09:42:22.409Z"
      },
      {
        "duration": 0,
        "start_time": "2022-04-01T09:42:22.411Z"
      },
      {
        "duration": 0,
        "start_time": "2022-04-01T09:42:22.412Z"
      },
      {
        "duration": 0,
        "start_time": "2022-04-01T09:42:22.413Z"
      },
      {
        "duration": 0,
        "start_time": "2022-04-01T09:42:22.414Z"
      },
      {
        "duration": 0,
        "start_time": "2022-04-01T09:42:22.415Z"
      },
      {
        "duration": 0,
        "start_time": "2022-04-01T09:42:22.416Z"
      },
      {
        "duration": 0,
        "start_time": "2022-04-01T09:42:22.417Z"
      },
      {
        "duration": 0,
        "start_time": "2022-04-01T09:42:22.418Z"
      },
      {
        "duration": 0,
        "start_time": "2022-04-01T09:42:22.419Z"
      },
      {
        "duration": 0,
        "start_time": "2022-04-01T09:42:22.420Z"
      },
      {
        "duration": 0,
        "start_time": "2022-04-01T09:42:22.421Z"
      },
      {
        "duration": 0,
        "start_time": "2022-04-01T09:42:22.422Z"
      },
      {
        "duration": 0,
        "start_time": "2022-04-01T09:42:22.423Z"
      },
      {
        "duration": 0,
        "start_time": "2022-04-01T09:42:22.425Z"
      },
      {
        "duration": 0,
        "start_time": "2022-04-01T09:42:22.426Z"
      },
      {
        "duration": 0,
        "start_time": "2022-04-01T09:42:22.427Z"
      },
      {
        "duration": 0,
        "start_time": "2022-04-01T09:42:22.428Z"
      },
      {
        "duration": 0,
        "start_time": "2022-04-01T09:42:22.429Z"
      },
      {
        "duration": 0,
        "start_time": "2022-04-01T09:42:22.431Z"
      },
      {
        "duration": 4,
        "start_time": "2022-04-01T09:44:57.472Z"
      },
      {
        "duration": 5,
        "start_time": "2022-04-01T09:50:45.947Z"
      },
      {
        "duration": 184,
        "start_time": "2022-04-01T11:23:28.473Z"
      },
      {
        "duration": 6,
        "start_time": "2022-04-01T11:24:00.558Z"
      },
      {
        "duration": 730,
        "start_time": "2022-04-01T11:26:49.651Z"
      },
      {
        "duration": 11,
        "start_time": "2022-04-01T11:27:02.355Z"
      },
      {
        "duration": 625,
        "start_time": "2022-04-01T11:29:48.053Z"
      },
      {
        "duration": 633,
        "start_time": "2022-04-01T11:30:33.939Z"
      },
      {
        "duration": 35,
        "start_time": "2022-04-01T11:31:22.149Z"
      },
      {
        "duration": 222,
        "start_time": "2022-04-01T11:36:10.724Z"
      },
      {
        "duration": 155,
        "start_time": "2022-04-01T11:37:00.465Z"
      },
      {
        "duration": 27,
        "start_time": "2022-04-01T11:43:13.558Z"
      },
      {
        "duration": 1246,
        "start_time": "2022-04-01T11:43:23.870Z"
      },
      {
        "duration": 42,
        "start_time": "2022-04-01T11:43:25.118Z"
      },
      {
        "duration": 48,
        "start_time": "2022-04-01T11:43:25.162Z"
      },
      {
        "duration": 30,
        "start_time": "2022-04-01T11:43:25.212Z"
      },
      {
        "duration": 18,
        "start_time": "2022-04-01T11:43:25.244Z"
      },
      {
        "duration": 6,
        "start_time": "2022-04-01T11:43:25.264Z"
      },
      {
        "duration": 33,
        "start_time": "2022-04-01T11:43:25.271Z"
      },
      {
        "duration": 14,
        "start_time": "2022-04-01T11:43:25.306Z"
      },
      {
        "duration": 12,
        "start_time": "2022-04-01T11:43:25.322Z"
      },
      {
        "duration": 23,
        "start_time": "2022-04-01T11:43:25.338Z"
      },
      {
        "duration": 78,
        "start_time": "2022-04-01T11:43:25.363Z"
      },
      {
        "duration": 15,
        "start_time": "2022-04-01T11:43:25.443Z"
      },
      {
        "duration": 9,
        "start_time": "2022-04-01T11:43:25.460Z"
      },
      {
        "duration": 147,
        "start_time": "2022-04-01T11:43:25.471Z"
      },
      {
        "duration": 0,
        "start_time": "2022-04-01T11:43:25.620Z"
      },
      {
        "duration": 0,
        "start_time": "2022-04-01T11:43:25.622Z"
      },
      {
        "duration": 0,
        "start_time": "2022-04-01T11:43:25.623Z"
      },
      {
        "duration": 0,
        "start_time": "2022-04-01T11:43:25.624Z"
      },
      {
        "duration": 0,
        "start_time": "2022-04-01T11:43:25.625Z"
      },
      {
        "duration": 0,
        "start_time": "2022-04-01T11:43:25.626Z"
      },
      {
        "duration": 0,
        "start_time": "2022-04-01T11:43:25.627Z"
      },
      {
        "duration": 0,
        "start_time": "2022-04-01T11:43:25.628Z"
      },
      {
        "duration": 0,
        "start_time": "2022-04-01T11:43:25.629Z"
      },
      {
        "duration": 0,
        "start_time": "2022-04-01T11:43:25.630Z"
      },
      {
        "duration": 0,
        "start_time": "2022-04-01T11:43:25.631Z"
      },
      {
        "duration": 0,
        "start_time": "2022-04-01T11:43:25.632Z"
      },
      {
        "duration": 0,
        "start_time": "2022-04-01T11:43:25.633Z"
      },
      {
        "duration": 0,
        "start_time": "2022-04-01T11:43:25.634Z"
      },
      {
        "duration": 0,
        "start_time": "2022-04-01T11:43:25.636Z"
      },
      {
        "duration": 0,
        "start_time": "2022-04-01T11:43:25.637Z"
      },
      {
        "duration": 1,
        "start_time": "2022-04-01T11:43:25.640Z"
      },
      {
        "duration": 0,
        "start_time": "2022-04-01T11:43:25.642Z"
      },
      {
        "duration": 0,
        "start_time": "2022-04-01T11:43:25.643Z"
      },
      {
        "duration": 0,
        "start_time": "2022-04-01T11:43:25.644Z"
      },
      {
        "duration": 0,
        "start_time": "2022-04-01T11:43:25.645Z"
      },
      {
        "duration": 0,
        "start_time": "2022-04-01T11:43:25.646Z"
      },
      {
        "duration": 0,
        "start_time": "2022-04-01T11:43:25.648Z"
      },
      {
        "duration": 0,
        "start_time": "2022-04-01T11:43:25.649Z"
      },
      {
        "duration": 0,
        "start_time": "2022-04-01T11:43:25.650Z"
      },
      {
        "duration": 0,
        "start_time": "2022-04-01T11:43:25.651Z"
      },
      {
        "duration": 0,
        "start_time": "2022-04-01T11:43:25.701Z"
      },
      {
        "duration": 0,
        "start_time": "2022-04-01T11:43:25.703Z"
      },
      {
        "duration": 0,
        "start_time": "2022-04-01T11:43:25.705Z"
      },
      {
        "duration": 25,
        "start_time": "2022-04-01T11:58:19.174Z"
      },
      {
        "duration": 27,
        "start_time": "2022-04-01T12:00:32.885Z"
      },
      {
        "duration": 34,
        "start_time": "2022-04-01T12:02:26.708Z"
      },
      {
        "duration": 31,
        "start_time": "2022-04-01T13:22:09.930Z"
      },
      {
        "duration": 1168,
        "start_time": "2022-04-01T13:22:20.243Z"
      },
      {
        "duration": 41,
        "start_time": "2022-04-01T13:22:21.415Z"
      },
      {
        "duration": 57,
        "start_time": "2022-04-01T13:22:21.459Z"
      },
      {
        "duration": 29,
        "start_time": "2022-04-01T13:22:21.518Z"
      },
      {
        "duration": 17,
        "start_time": "2022-04-01T13:22:21.549Z"
      },
      {
        "duration": 6,
        "start_time": "2022-04-01T13:22:21.568Z"
      },
      {
        "duration": 4,
        "start_time": "2022-04-01T13:22:21.602Z"
      },
      {
        "duration": 14,
        "start_time": "2022-04-01T13:22:21.607Z"
      },
      {
        "duration": 10,
        "start_time": "2022-04-01T13:22:21.624Z"
      },
      {
        "duration": 26,
        "start_time": "2022-04-01T13:22:21.636Z"
      },
      {
        "duration": 79,
        "start_time": "2022-04-01T13:22:21.664Z"
      },
      {
        "duration": 15,
        "start_time": "2022-04-01T13:22:21.744Z"
      },
      {
        "duration": 9,
        "start_time": "2022-04-01T13:22:21.761Z"
      },
      {
        "duration": 159,
        "start_time": "2022-04-01T13:22:21.772Z"
      },
      {
        "duration": 0,
        "start_time": "2022-04-01T13:22:21.933Z"
      },
      {
        "duration": 0,
        "start_time": "2022-04-01T13:22:21.935Z"
      },
      {
        "duration": 0,
        "start_time": "2022-04-01T13:22:21.936Z"
      },
      {
        "duration": 0,
        "start_time": "2022-04-01T13:22:21.937Z"
      },
      {
        "duration": 1,
        "start_time": "2022-04-01T13:22:21.938Z"
      },
      {
        "duration": 0,
        "start_time": "2022-04-01T13:22:21.939Z"
      },
      {
        "duration": 0,
        "start_time": "2022-04-01T13:22:21.940Z"
      },
      {
        "duration": 0,
        "start_time": "2022-04-01T13:22:21.942Z"
      },
      {
        "duration": 0,
        "start_time": "2022-04-01T13:22:21.942Z"
      },
      {
        "duration": 0,
        "start_time": "2022-04-01T13:22:21.943Z"
      },
      {
        "duration": 0,
        "start_time": "2022-04-01T13:22:21.944Z"
      },
      {
        "duration": 0,
        "start_time": "2022-04-01T13:22:21.946Z"
      },
      {
        "duration": 0,
        "start_time": "2022-04-01T13:22:21.946Z"
      },
      {
        "duration": 0,
        "start_time": "2022-04-01T13:22:21.947Z"
      },
      {
        "duration": 0,
        "start_time": "2022-04-01T13:22:21.949Z"
      },
      {
        "duration": 1,
        "start_time": "2022-04-01T13:22:21.949Z"
      },
      {
        "duration": 0,
        "start_time": "2022-04-01T13:22:21.951Z"
      },
      {
        "duration": 0,
        "start_time": "2022-04-01T13:22:21.952Z"
      },
      {
        "duration": 0,
        "start_time": "2022-04-01T13:22:21.953Z"
      },
      {
        "duration": 0,
        "start_time": "2022-04-01T13:22:21.954Z"
      },
      {
        "duration": 0,
        "start_time": "2022-04-01T13:22:21.955Z"
      },
      {
        "duration": 0,
        "start_time": "2022-04-01T13:22:21.956Z"
      },
      {
        "duration": 0,
        "start_time": "2022-04-01T13:22:21.957Z"
      },
      {
        "duration": 0,
        "start_time": "2022-04-01T13:22:21.958Z"
      },
      {
        "duration": 0,
        "start_time": "2022-04-01T13:22:21.959Z"
      },
      {
        "duration": 0,
        "start_time": "2022-04-01T13:22:22.001Z"
      },
      {
        "duration": 0,
        "start_time": "2022-04-01T13:22:22.004Z"
      },
      {
        "duration": 0,
        "start_time": "2022-04-01T13:22:22.005Z"
      },
      {
        "duration": 0,
        "start_time": "2022-04-01T13:22:22.006Z"
      },
      {
        "duration": 35,
        "start_time": "2022-04-01T13:23:19.907Z"
      },
      {
        "duration": 4,
        "start_time": "2022-04-01T14:19:47.884Z"
      },
      {
        "duration": 29,
        "start_time": "2022-04-01T14:20:29.180Z"
      },
      {
        "duration": 5,
        "start_time": "2022-04-01T14:21:05.826Z"
      },
      {
        "duration": 29,
        "start_time": "2022-04-01T14:21:08.331Z"
      },
      {
        "duration": 11,
        "start_time": "2022-04-01T14:24:30.429Z"
      },
      {
        "duration": 5,
        "start_time": "2022-04-01T14:26:51.176Z"
      },
      {
        "duration": 32,
        "start_time": "2022-04-01T14:28:15.776Z"
      },
      {
        "duration": 25,
        "start_time": "2022-04-01T14:28:34.201Z"
      },
      {
        "duration": 24,
        "start_time": "2022-04-01T14:28:46.352Z"
      },
      {
        "duration": 24,
        "start_time": "2022-04-01T14:29:47.833Z"
      },
      {
        "duration": 174,
        "start_time": "2022-04-01T14:30:58.225Z"
      },
      {
        "duration": 133,
        "start_time": "2022-04-01T14:31:06.201Z"
      },
      {
        "duration": 23,
        "start_time": "2022-04-01T14:31:13.819Z"
      },
      {
        "duration": 5,
        "start_time": "2022-04-01T14:31:28.002Z"
      },
      {
        "duration": 4,
        "start_time": "2022-04-01T14:31:31.946Z"
      },
      {
        "duration": 4,
        "start_time": "2022-04-01T14:32:32.938Z"
      },
      {
        "duration": 37,
        "start_time": "2022-04-01T14:32:36.921Z"
      },
      {
        "duration": 22,
        "start_time": "2022-04-01T14:35:18.635Z"
      },
      {
        "duration": 4,
        "start_time": "2022-04-01T14:36:21.510Z"
      },
      {
        "duration": 15,
        "start_time": "2022-04-01T14:39:54.957Z"
      },
      {
        "duration": 1318,
        "start_time": "2022-04-01T14:40:01.226Z"
      },
      {
        "duration": 44,
        "start_time": "2022-04-01T14:40:02.547Z"
      },
      {
        "duration": 48,
        "start_time": "2022-04-01T14:40:02.594Z"
      },
      {
        "duration": 54,
        "start_time": "2022-04-01T14:40:02.645Z"
      },
      {
        "duration": 39,
        "start_time": "2022-04-01T14:40:02.701Z"
      },
      {
        "duration": 14,
        "start_time": "2022-04-01T14:40:02.742Z"
      },
      {
        "duration": 23,
        "start_time": "2022-04-01T14:40:02.758Z"
      },
      {
        "duration": 24,
        "start_time": "2022-04-01T14:40:02.783Z"
      },
      {
        "duration": 21,
        "start_time": "2022-04-01T14:40:02.809Z"
      },
      {
        "duration": 42,
        "start_time": "2022-04-01T14:40:02.833Z"
      },
      {
        "duration": 59,
        "start_time": "2022-04-01T14:40:02.877Z"
      },
      {
        "duration": 125,
        "start_time": "2022-04-01T14:40:02.938Z"
      },
      {
        "duration": 14,
        "start_time": "2022-04-01T14:40:03.066Z"
      },
      {
        "duration": 146,
        "start_time": "2022-04-01T14:40:03.082Z"
      },
      {
        "duration": 0,
        "start_time": "2022-04-01T14:40:03.230Z"
      },
      {
        "duration": 0,
        "start_time": "2022-04-01T14:40:03.232Z"
      },
      {
        "duration": 0,
        "start_time": "2022-04-01T14:40:03.233Z"
      },
      {
        "duration": 0,
        "start_time": "2022-04-01T14:40:03.234Z"
      },
      {
        "duration": 0,
        "start_time": "2022-04-01T14:40:03.235Z"
      },
      {
        "duration": 0,
        "start_time": "2022-04-01T14:40:03.237Z"
      },
      {
        "duration": 0,
        "start_time": "2022-04-01T14:40:03.238Z"
      },
      {
        "duration": 0,
        "start_time": "2022-04-01T14:40:03.240Z"
      },
      {
        "duration": 0,
        "start_time": "2022-04-01T14:40:03.241Z"
      },
      {
        "duration": 0,
        "start_time": "2022-04-01T14:40:03.242Z"
      },
      {
        "duration": 0,
        "start_time": "2022-04-01T14:40:03.245Z"
      },
      {
        "duration": 0,
        "start_time": "2022-04-01T14:40:03.246Z"
      },
      {
        "duration": 0,
        "start_time": "2022-04-01T14:40:03.247Z"
      },
      {
        "duration": 0,
        "start_time": "2022-04-01T14:40:03.249Z"
      },
      {
        "duration": 0,
        "start_time": "2022-04-01T14:40:03.250Z"
      },
      {
        "duration": 0,
        "start_time": "2022-04-01T14:40:03.250Z"
      },
      {
        "duration": 0,
        "start_time": "2022-04-01T14:40:03.251Z"
      },
      {
        "duration": 0,
        "start_time": "2022-04-01T14:40:03.253Z"
      },
      {
        "duration": 0,
        "start_time": "2022-04-01T14:40:03.254Z"
      },
      {
        "duration": 0,
        "start_time": "2022-04-01T14:40:03.255Z"
      },
      {
        "duration": 0,
        "start_time": "2022-04-01T14:40:03.257Z"
      },
      {
        "duration": 0,
        "start_time": "2022-04-01T14:40:03.258Z"
      },
      {
        "duration": 0,
        "start_time": "2022-04-01T14:40:03.301Z"
      },
      {
        "duration": 0,
        "start_time": "2022-04-01T14:40:03.302Z"
      },
      {
        "duration": 0,
        "start_time": "2022-04-01T14:40:03.304Z"
      },
      {
        "duration": 0,
        "start_time": "2022-04-01T14:40:03.305Z"
      },
      {
        "duration": 0,
        "start_time": "2022-04-01T14:40:03.306Z"
      },
      {
        "duration": 0,
        "start_time": "2022-04-01T14:40:03.307Z"
      },
      {
        "duration": 0,
        "start_time": "2022-04-01T14:40:03.309Z"
      },
      {
        "duration": 5,
        "start_time": "2022-04-01T14:40:35.448Z"
      },
      {
        "duration": 35,
        "start_time": "2022-04-01T14:40:40.830Z"
      },
      {
        "duration": 6,
        "start_time": "2022-04-01T14:41:31.150Z"
      },
      {
        "duration": 8,
        "start_time": "2022-04-01T14:41:45.903Z"
      },
      {
        "duration": 1967,
        "start_time": "2022-04-06T07:54:21.328Z"
      },
      {
        "duration": 54,
        "start_time": "2022-04-06T07:54:23.298Z"
      },
      {
        "duration": 63,
        "start_time": "2022-04-06T07:54:23.355Z"
      },
      {
        "duration": 68,
        "start_time": "2022-04-06T07:54:23.421Z"
      },
      {
        "duration": 25,
        "start_time": "2022-04-06T07:54:23.491Z"
      },
      {
        "duration": 8,
        "start_time": "2022-04-06T07:54:23.518Z"
      },
      {
        "duration": 5,
        "start_time": "2022-04-06T07:54:23.529Z"
      },
      {
        "duration": 10,
        "start_time": "2022-04-06T07:54:23.575Z"
      },
      {
        "duration": 17,
        "start_time": "2022-04-06T07:54:23.589Z"
      },
      {
        "duration": 65,
        "start_time": "2022-04-06T07:54:23.610Z"
      },
      {
        "duration": 78,
        "start_time": "2022-04-06T07:54:23.678Z"
      },
      {
        "duration": 38,
        "start_time": "2022-04-06T07:54:23.758Z"
      },
      {
        "duration": 12,
        "start_time": "2022-04-06T07:54:23.798Z"
      },
      {
        "duration": 197,
        "start_time": "2022-04-06T07:54:23.812Z"
      },
      {
        "duration": 0,
        "start_time": "2022-04-06T07:54:24.011Z"
      },
      {
        "duration": 0,
        "start_time": "2022-04-06T07:54:24.014Z"
      },
      {
        "duration": 0,
        "start_time": "2022-04-06T07:54:24.015Z"
      },
      {
        "duration": 0,
        "start_time": "2022-04-06T07:54:24.017Z"
      },
      {
        "duration": 0,
        "start_time": "2022-04-06T07:54:24.019Z"
      },
      {
        "duration": 0,
        "start_time": "2022-04-06T07:54:24.020Z"
      },
      {
        "duration": 0,
        "start_time": "2022-04-06T07:54:24.023Z"
      },
      {
        "duration": 1,
        "start_time": "2022-04-06T07:54:24.024Z"
      },
      {
        "duration": 0,
        "start_time": "2022-04-06T07:54:24.026Z"
      },
      {
        "duration": 0,
        "start_time": "2022-04-06T07:54:24.028Z"
      },
      {
        "duration": 0,
        "start_time": "2022-04-06T07:54:24.029Z"
      },
      {
        "duration": 0,
        "start_time": "2022-04-06T07:54:24.031Z"
      },
      {
        "duration": 0,
        "start_time": "2022-04-06T07:54:24.032Z"
      },
      {
        "duration": 0,
        "start_time": "2022-04-06T07:54:24.075Z"
      },
      {
        "duration": 0,
        "start_time": "2022-04-06T07:54:24.076Z"
      },
      {
        "duration": 0,
        "start_time": "2022-04-06T07:54:24.079Z"
      },
      {
        "duration": 0,
        "start_time": "2022-04-06T07:54:24.081Z"
      },
      {
        "duration": 0,
        "start_time": "2022-04-06T07:54:24.083Z"
      },
      {
        "duration": 0,
        "start_time": "2022-04-06T07:54:24.085Z"
      },
      {
        "duration": 0,
        "start_time": "2022-04-06T07:54:24.088Z"
      },
      {
        "duration": 0,
        "start_time": "2022-04-06T07:54:24.090Z"
      },
      {
        "duration": 0,
        "start_time": "2022-04-06T07:54:24.093Z"
      },
      {
        "duration": 1,
        "start_time": "2022-04-06T07:54:24.094Z"
      },
      {
        "duration": 0,
        "start_time": "2022-04-06T07:54:24.096Z"
      },
      {
        "duration": 0,
        "start_time": "2022-04-06T07:54:24.098Z"
      },
      {
        "duration": 0,
        "start_time": "2022-04-06T07:54:24.100Z"
      },
      {
        "duration": 0,
        "start_time": "2022-04-06T07:54:24.103Z"
      },
      {
        "duration": 0,
        "start_time": "2022-04-06T07:54:24.104Z"
      },
      {
        "duration": 0,
        "start_time": "2022-04-06T07:54:24.107Z"
      },
      {
        "duration": 5,
        "start_time": "2022-04-06T07:55:09.712Z"
      },
      {
        "duration": 18,
        "start_time": "2022-04-06T07:56:12.649Z"
      },
      {
        "duration": 110,
        "start_time": "2022-04-06T10:57:37.754Z"
      },
      {
        "duration": 31,
        "start_time": "2022-04-06T10:57:49.520Z"
      },
      {
        "duration": 33,
        "start_time": "2022-04-06T10:58:43.905Z"
      },
      {
        "duration": 18,
        "start_time": "2022-04-06T10:59:12.177Z"
      },
      {
        "duration": 32,
        "start_time": "2022-04-06T10:59:16.729Z"
      },
      {
        "duration": 34,
        "start_time": "2022-04-06T11:01:57.091Z"
      },
      {
        "duration": 6,
        "start_time": "2022-04-06T11:02:57.628Z"
      },
      {
        "duration": 96,
        "start_time": "2022-04-06T11:05:34.876Z"
      },
      {
        "duration": 106,
        "start_time": "2022-04-06T11:07:58.046Z"
      },
      {
        "duration": 35,
        "start_time": "2022-04-06T11:08:44.175Z"
      },
      {
        "duration": 11,
        "start_time": "2022-04-06T11:09:16.571Z"
      },
      {
        "duration": 6,
        "start_time": "2022-04-06T11:09:26.054Z"
      },
      {
        "duration": 35,
        "start_time": "2022-04-06T11:10:28.480Z"
      },
      {
        "duration": 246,
        "start_time": "2022-04-06T11:11:51.224Z"
      },
      {
        "duration": 260,
        "start_time": "2022-04-06T11:12:24.457Z"
      },
      {
        "duration": 63,
        "start_time": "2022-04-06T11:13:22.345Z"
      },
      {
        "duration": 250,
        "start_time": "2022-04-06T11:15:04.346Z"
      },
      {
        "duration": 108,
        "start_time": "2022-04-06T11:19:40.891Z"
      },
      {
        "duration": 159,
        "start_time": "2022-04-06T11:19:48.043Z"
      },
      {
        "duration": 362,
        "start_time": "2022-04-06T11:19:55.347Z"
      },
      {
        "duration": 481,
        "start_time": "2022-04-06T11:22:15.621Z"
      },
      {
        "duration": 1520,
        "start_time": "2022-04-06T11:24:53.677Z"
      },
      {
        "duration": 54,
        "start_time": "2022-04-06T11:24:55.199Z"
      },
      {
        "duration": 61,
        "start_time": "2022-04-06T11:24:55.255Z"
      },
      {
        "duration": 77,
        "start_time": "2022-04-06T11:24:55.320Z"
      },
      {
        "duration": 21,
        "start_time": "2022-04-06T11:24:55.399Z"
      },
      {
        "duration": 13,
        "start_time": "2022-04-06T11:24:55.422Z"
      },
      {
        "duration": 11,
        "start_time": "2022-04-06T11:24:55.437Z"
      },
      {
        "duration": 32,
        "start_time": "2022-04-06T11:24:55.450Z"
      },
      {
        "duration": 13,
        "start_time": "2022-04-06T11:24:55.486Z"
      },
      {
        "duration": 28,
        "start_time": "2022-04-06T11:24:55.503Z"
      },
      {
        "duration": 91,
        "start_time": "2022-04-06T11:24:55.534Z"
      },
      {
        "duration": 21,
        "start_time": "2022-04-06T11:24:55.628Z"
      },
      {
        "duration": 29,
        "start_time": "2022-04-06T11:24:55.651Z"
      },
      {
        "duration": 8,
        "start_time": "2022-04-06T11:24:55.682Z"
      },
      {
        "duration": 396,
        "start_time": "2022-04-06T11:24:55.692Z"
      },
      {
        "duration": 42,
        "start_time": "2022-04-06T11:24:56.090Z"
      },
      {
        "duration": 18,
        "start_time": "2022-04-06T11:24:56.134Z"
      },
      {
        "duration": 6,
        "start_time": "2022-04-06T11:24:56.174Z"
      },
      {
        "duration": 372,
        "start_time": "2022-04-06T11:24:56.182Z"
      },
      {
        "duration": 25,
        "start_time": "2022-04-06T11:24:56.557Z"
      },
      {
        "duration": 19,
        "start_time": "2022-04-06T11:24:56.584Z"
      },
      {
        "duration": 72,
        "start_time": "2022-04-06T11:24:56.605Z"
      },
      {
        "duration": 6,
        "start_time": "2022-04-06T11:24:56.680Z"
      },
      {
        "duration": 57,
        "start_time": "2022-04-06T11:24:56.688Z"
      },
      {
        "duration": 40,
        "start_time": "2022-04-06T11:24:56.747Z"
      },
      {
        "duration": 30,
        "start_time": "2022-04-06T11:24:56.789Z"
      },
      {
        "duration": 54,
        "start_time": "2022-04-06T11:24:56.821Z"
      },
      {
        "duration": 35,
        "start_time": "2022-04-06T11:24:56.881Z"
      },
      {
        "duration": 56,
        "start_time": "2022-04-06T11:24:56.919Z"
      },
      {
        "duration": 28,
        "start_time": "2022-04-06T11:24:56.978Z"
      },
      {
        "duration": 34,
        "start_time": "2022-04-06T11:24:57.009Z"
      },
      {
        "duration": 1217,
        "start_time": "2022-04-06T11:24:57.045Z"
      },
      {
        "duration": 1185,
        "start_time": "2022-04-06T11:24:58.265Z"
      },
      {
        "duration": 337,
        "start_time": "2022-04-06T11:24:59.452Z"
      },
      {
        "duration": 344,
        "start_time": "2022-04-06T11:24:59.792Z"
      },
      {
        "duration": 37,
        "start_time": "2022-04-06T11:25:00.139Z"
      },
      {
        "duration": 26,
        "start_time": "2022-04-06T11:25:00.179Z"
      },
      {
        "duration": 144,
        "start_time": "2022-04-06T11:25:00.208Z"
      },
      {
        "duration": 153,
        "start_time": "2022-04-06T11:25:00.354Z"
      },
      {
        "duration": 73,
        "start_time": "2022-04-06T11:25:00.510Z"
      },
      {
        "duration": 27,
        "start_time": "2022-04-06T11:25:00.585Z"
      },
      {
        "duration": 25,
        "start_time": "2022-04-06T11:25:00.614Z"
      },
      {
        "duration": 51,
        "start_time": "2022-04-06T11:25:00.641Z"
      },
      {
        "duration": 1450,
        "start_time": "2022-04-06T11:29:08.191Z"
      },
      {
        "duration": 49,
        "start_time": "2022-04-06T11:29:09.643Z"
      },
      {
        "duration": 50,
        "start_time": "2022-04-06T11:29:09.695Z"
      },
      {
        "duration": 59,
        "start_time": "2022-04-06T11:29:09.748Z"
      },
      {
        "duration": 21,
        "start_time": "2022-04-06T11:29:09.809Z"
      },
      {
        "duration": 7,
        "start_time": "2022-04-06T11:29:09.832Z"
      },
      {
        "duration": 34,
        "start_time": "2022-04-06T11:29:09.840Z"
      },
      {
        "duration": 6,
        "start_time": "2022-04-06T11:29:09.876Z"
      },
      {
        "duration": 14,
        "start_time": "2022-04-06T11:29:09.884Z"
      },
      {
        "duration": 17,
        "start_time": "2022-04-06T11:29:09.902Z"
      },
      {
        "duration": 101,
        "start_time": "2022-04-06T11:29:09.921Z"
      },
      {
        "duration": 17,
        "start_time": "2022-04-06T11:29:10.024Z"
      },
      {
        "duration": 18,
        "start_time": "2022-04-06T11:29:10.043Z"
      },
      {
        "duration": 6,
        "start_time": "2022-04-06T11:29:10.074Z"
      },
      {
        "duration": 7,
        "start_time": "2022-04-06T11:29:10.082Z"
      },
      {
        "duration": 0,
        "start_time": "2022-04-06T11:29:10.092Z"
      },
      {
        "duration": 0,
        "start_time": "2022-04-06T11:29:10.094Z"
      },
      {
        "duration": 0,
        "start_time": "2022-04-06T11:29:10.095Z"
      },
      {
        "duration": 0,
        "start_time": "2022-04-06T11:29:10.097Z"
      },
      {
        "duration": 0,
        "start_time": "2022-04-06T11:29:10.099Z"
      },
      {
        "duration": 0,
        "start_time": "2022-04-06T11:29:10.100Z"
      },
      {
        "duration": 0,
        "start_time": "2022-04-06T11:29:10.101Z"
      },
      {
        "duration": 0,
        "start_time": "2022-04-06T11:29:10.102Z"
      },
      {
        "duration": 0,
        "start_time": "2022-04-06T11:29:10.104Z"
      },
      {
        "duration": 0,
        "start_time": "2022-04-06T11:29:10.105Z"
      },
      {
        "duration": 0,
        "start_time": "2022-04-06T11:29:10.107Z"
      },
      {
        "duration": 0,
        "start_time": "2022-04-06T11:29:10.108Z"
      },
      {
        "duration": 0,
        "start_time": "2022-04-06T11:29:10.110Z"
      },
      {
        "duration": 0,
        "start_time": "2022-04-06T11:29:10.112Z"
      },
      {
        "duration": 0,
        "start_time": "2022-04-06T11:29:10.113Z"
      },
      {
        "duration": 0,
        "start_time": "2022-04-06T11:29:10.115Z"
      },
      {
        "duration": 0,
        "start_time": "2022-04-06T11:29:10.116Z"
      },
      {
        "duration": 0,
        "start_time": "2022-04-06T11:29:10.175Z"
      },
      {
        "duration": 0,
        "start_time": "2022-04-06T11:29:10.176Z"
      },
      {
        "duration": 0,
        "start_time": "2022-04-06T11:29:10.178Z"
      },
      {
        "duration": 0,
        "start_time": "2022-04-06T11:29:10.179Z"
      },
      {
        "duration": 0,
        "start_time": "2022-04-06T11:29:10.181Z"
      },
      {
        "duration": 1,
        "start_time": "2022-04-06T11:29:10.182Z"
      },
      {
        "duration": 0,
        "start_time": "2022-04-06T11:29:10.184Z"
      },
      {
        "duration": 0,
        "start_time": "2022-04-06T11:29:10.186Z"
      },
      {
        "duration": 0,
        "start_time": "2022-04-06T11:29:10.187Z"
      },
      {
        "duration": 0,
        "start_time": "2022-04-06T11:29:10.189Z"
      },
      {
        "duration": 0,
        "start_time": "2022-04-06T11:29:10.191Z"
      },
      {
        "duration": 733,
        "start_time": "2022-04-06T11:29:50.465Z"
      },
      {
        "duration": 736,
        "start_time": "2022-04-06T11:34:45.147Z"
      },
      {
        "duration": 1460,
        "start_time": "2022-04-06T11:34:56.289Z"
      },
      {
        "duration": 54,
        "start_time": "2022-04-06T11:34:57.752Z"
      },
      {
        "duration": 48,
        "start_time": "2022-04-06T11:34:57.809Z"
      },
      {
        "duration": 37,
        "start_time": "2022-04-06T11:34:57.873Z"
      },
      {
        "duration": 21,
        "start_time": "2022-04-06T11:34:57.913Z"
      },
      {
        "duration": 7,
        "start_time": "2022-04-06T11:34:57.936Z"
      },
      {
        "duration": 5,
        "start_time": "2022-04-06T11:34:57.973Z"
      },
      {
        "duration": 12,
        "start_time": "2022-04-06T11:34:57.980Z"
      },
      {
        "duration": 14,
        "start_time": "2022-04-06T11:34:57.994Z"
      },
      {
        "duration": 21,
        "start_time": "2022-04-06T11:34:58.013Z"
      },
      {
        "duration": 90,
        "start_time": "2022-04-06T11:34:58.036Z"
      },
      {
        "duration": 19,
        "start_time": "2022-04-06T11:34:58.128Z"
      },
      {
        "duration": 33,
        "start_time": "2022-04-06T11:34:58.149Z"
      },
      {
        "duration": 17,
        "start_time": "2022-04-06T11:34:58.184Z"
      },
      {
        "duration": 741,
        "start_time": "2022-04-06T11:34:58.203Z"
      },
      {
        "duration": 50,
        "start_time": "2022-04-06T11:34:58.946Z"
      },
      {
        "duration": 18,
        "start_time": "2022-04-06T11:34:58.999Z"
      },
      {
        "duration": 6,
        "start_time": "2022-04-06T11:34:59.019Z"
      },
      {
        "duration": 388,
        "start_time": "2022-04-06T11:34:59.027Z"
      },
      {
        "duration": 22,
        "start_time": "2022-04-06T11:34:59.418Z"
      },
      {
        "duration": 39,
        "start_time": "2022-04-06T11:34:59.442Z"
      },
      {
        "duration": 36,
        "start_time": "2022-04-06T11:34:59.484Z"
      },
      {
        "duration": 4,
        "start_time": "2022-04-06T11:34:59.523Z"
      },
      {
        "duration": 79,
        "start_time": "2022-04-06T11:34:59.531Z"
      },
      {
        "duration": 27,
        "start_time": "2022-04-06T11:34:59.613Z"
      },
      {
        "duration": 53,
        "start_time": "2022-04-06T11:34:59.643Z"
      },
      {
        "duration": 31,
        "start_time": "2022-04-06T11:34:59.698Z"
      },
      {
        "duration": 65,
        "start_time": "2022-04-06T11:34:59.736Z"
      },
      {
        "duration": 30,
        "start_time": "2022-04-06T11:34:59.804Z"
      },
      {
        "duration": 46,
        "start_time": "2022-04-06T11:34:59.836Z"
      },
      {
        "duration": 33,
        "start_time": "2022-04-06T11:34:59.885Z"
      },
      {
        "duration": 1233,
        "start_time": "2022-04-06T11:34:59.921Z"
      },
      {
        "duration": 1241,
        "start_time": "2022-04-06T11:35:01.158Z"
      },
      {
        "duration": 342,
        "start_time": "2022-04-06T11:35:02.402Z"
      },
      {
        "duration": 330,
        "start_time": "2022-04-06T11:35:02.747Z"
      },
      {
        "duration": 20,
        "start_time": "2022-04-06T11:35:03.079Z"
      },
      {
        "duration": 28,
        "start_time": "2022-04-06T11:35:03.101Z"
      },
      {
        "duration": 151,
        "start_time": "2022-04-06T11:35:03.131Z"
      },
      {
        "duration": 148,
        "start_time": "2022-04-06T11:35:03.284Z"
      },
      {
        "duration": 61,
        "start_time": "2022-04-06T11:35:03.434Z"
      },
      {
        "duration": 29,
        "start_time": "2022-04-06T11:35:03.497Z"
      },
      {
        "duration": 61,
        "start_time": "2022-04-06T11:35:03.529Z"
      },
      {
        "duration": 48,
        "start_time": "2022-04-06T11:35:03.593Z"
      },
      {
        "duration": 1542,
        "start_time": "2022-04-06T11:43:44.444Z"
      },
      {
        "duration": 56,
        "start_time": "2022-04-06T11:43:45.989Z"
      },
      {
        "duration": 64,
        "start_time": "2022-04-06T11:43:46.047Z"
      },
      {
        "duration": 60,
        "start_time": "2022-04-06T11:43:46.115Z"
      },
      {
        "duration": 21,
        "start_time": "2022-04-06T11:43:46.177Z"
      },
      {
        "duration": 6,
        "start_time": "2022-04-06T11:43:46.200Z"
      },
      {
        "duration": 6,
        "start_time": "2022-04-06T11:43:46.208Z"
      },
      {
        "duration": 9,
        "start_time": "2022-04-06T11:43:46.216Z"
      },
      {
        "duration": 47,
        "start_time": "2022-04-06T11:43:46.227Z"
      },
      {
        "duration": 19,
        "start_time": "2022-04-06T11:43:46.280Z"
      },
      {
        "duration": 96,
        "start_time": "2022-04-06T11:43:46.302Z"
      },
      {
        "duration": 20,
        "start_time": "2022-04-06T11:43:46.401Z"
      },
      {
        "duration": 12,
        "start_time": "2022-04-06T11:43:46.423Z"
      },
      {
        "duration": 811,
        "start_time": "2022-04-06T11:43:46.438Z"
      },
      {
        "duration": 55,
        "start_time": "2022-04-06T11:43:47.251Z"
      },
      {
        "duration": 20,
        "start_time": "2022-04-06T11:43:47.308Z"
      },
      {
        "duration": 6,
        "start_time": "2022-04-06T11:43:47.330Z"
      },
      {
        "duration": 412,
        "start_time": "2022-04-06T11:43:47.337Z"
      },
      {
        "duration": 28,
        "start_time": "2022-04-06T11:43:47.752Z"
      },
      {
        "duration": 21,
        "start_time": "2022-04-06T11:43:47.783Z"
      },
      {
        "duration": 69,
        "start_time": "2022-04-06T11:43:47.807Z"
      },
      {
        "duration": 6,
        "start_time": "2022-04-06T11:43:47.879Z"
      },
      {
        "duration": 55,
        "start_time": "2022-04-06T11:43:47.887Z"
      },
      {
        "duration": 49,
        "start_time": "2022-04-06T11:43:47.945Z"
      },
      {
        "duration": 30,
        "start_time": "2022-04-06T11:43:47.997Z"
      },
      {
        "duration": 54,
        "start_time": "2022-04-06T11:43:48.030Z"
      },
      {
        "duration": 35,
        "start_time": "2022-04-06T11:43:48.086Z"
      },
      {
        "duration": 49,
        "start_time": "2022-04-06T11:43:48.128Z"
      },
      {
        "duration": 30,
        "start_time": "2022-04-06T11:43:48.180Z"
      },
      {
        "duration": 65,
        "start_time": "2022-04-06T11:43:48.213Z"
      },
      {
        "duration": 1466,
        "start_time": "2022-04-06T11:43:48.280Z"
      },
      {
        "duration": 1230,
        "start_time": "2022-04-06T11:43:49.774Z"
      },
      {
        "duration": 335,
        "start_time": "2022-04-06T11:43:51.007Z"
      },
      {
        "duration": 329,
        "start_time": "2022-04-06T11:43:51.345Z"
      },
      {
        "duration": 20,
        "start_time": "2022-04-06T11:43:51.676Z"
      },
      {
        "duration": 20,
        "start_time": "2022-04-06T11:43:51.699Z"
      },
      {
        "duration": 163,
        "start_time": "2022-04-06T11:43:51.721Z"
      },
      {
        "duration": 139,
        "start_time": "2022-04-06T11:43:51.886Z"
      },
      {
        "duration": 63,
        "start_time": "2022-04-06T11:43:52.027Z"
      },
      {
        "duration": 25,
        "start_time": "2022-04-06T11:43:52.092Z"
      },
      {
        "duration": 22,
        "start_time": "2022-04-06T11:43:52.119Z"
      },
      {
        "duration": 49,
        "start_time": "2022-04-06T11:43:52.143Z"
      },
      {
        "duration": 1550,
        "start_time": "2022-04-06T11:47:01.244Z"
      },
      {
        "duration": 53,
        "start_time": "2022-04-06T11:47:02.797Z"
      },
      {
        "duration": 62,
        "start_time": "2022-04-06T11:47:02.852Z"
      },
      {
        "duration": 66,
        "start_time": "2022-04-06T11:47:02.917Z"
      },
      {
        "duration": 27,
        "start_time": "2022-04-06T11:47:02.985Z"
      },
      {
        "duration": 7,
        "start_time": "2022-04-06T11:47:03.014Z"
      },
      {
        "duration": 8,
        "start_time": "2022-04-06T11:47:03.023Z"
      },
      {
        "duration": 42,
        "start_time": "2022-04-06T11:47:03.033Z"
      },
      {
        "duration": 10,
        "start_time": "2022-04-06T11:47:03.078Z"
      },
      {
        "duration": 32,
        "start_time": "2022-04-06T11:47:03.094Z"
      },
      {
        "duration": 132,
        "start_time": "2022-04-06T11:47:03.129Z"
      },
      {
        "duration": 28,
        "start_time": "2022-04-06T11:47:03.264Z"
      },
      {
        "duration": 12,
        "start_time": "2022-04-06T11:47:03.294Z"
      },
      {
        "duration": 1098,
        "start_time": "2022-04-06T11:47:03.309Z"
      },
      {
        "duration": 0,
        "start_time": "2022-04-06T11:47:04.410Z"
      },
      {
        "duration": 0,
        "start_time": "2022-04-06T11:47:04.411Z"
      },
      {
        "duration": 0,
        "start_time": "2022-04-06T11:47:04.414Z"
      },
      {
        "duration": 0,
        "start_time": "2022-04-06T11:47:04.416Z"
      },
      {
        "duration": 0,
        "start_time": "2022-04-06T11:47:04.418Z"
      },
      {
        "duration": 0,
        "start_time": "2022-04-06T11:47:04.419Z"
      },
      {
        "duration": 0,
        "start_time": "2022-04-06T11:47:04.421Z"
      },
      {
        "duration": 0,
        "start_time": "2022-04-06T11:47:04.423Z"
      },
      {
        "duration": 0,
        "start_time": "2022-04-06T11:47:04.425Z"
      },
      {
        "duration": 0,
        "start_time": "2022-04-06T11:47:04.427Z"
      },
      {
        "duration": 0,
        "start_time": "2022-04-06T11:47:04.428Z"
      },
      {
        "duration": 0,
        "start_time": "2022-04-06T11:47:04.430Z"
      },
      {
        "duration": 0,
        "start_time": "2022-04-06T11:47:04.431Z"
      },
      {
        "duration": 0,
        "start_time": "2022-04-06T11:47:04.433Z"
      },
      {
        "duration": 0,
        "start_time": "2022-04-06T11:47:04.434Z"
      },
      {
        "duration": 0,
        "start_time": "2022-04-06T11:47:04.436Z"
      },
      {
        "duration": 0,
        "start_time": "2022-04-06T11:47:04.437Z"
      },
      {
        "duration": 0,
        "start_time": "2022-04-06T11:47:04.438Z"
      },
      {
        "duration": 0,
        "start_time": "2022-04-06T11:47:04.475Z"
      },
      {
        "duration": 0,
        "start_time": "2022-04-06T11:47:04.477Z"
      },
      {
        "duration": 0,
        "start_time": "2022-04-06T11:47:04.479Z"
      },
      {
        "duration": 0,
        "start_time": "2022-04-06T11:47:04.480Z"
      },
      {
        "duration": 0,
        "start_time": "2022-04-06T11:47:04.482Z"
      },
      {
        "duration": 0,
        "start_time": "2022-04-06T11:47:04.483Z"
      },
      {
        "duration": 0,
        "start_time": "2022-04-06T11:47:04.484Z"
      },
      {
        "duration": 1,
        "start_time": "2022-04-06T11:47:04.485Z"
      },
      {
        "duration": 0,
        "start_time": "2022-04-06T11:47:04.487Z"
      },
      {
        "duration": 0,
        "start_time": "2022-04-06T11:47:04.488Z"
      },
      {
        "duration": 1515,
        "start_time": "2022-04-06T12:00:37.080Z"
      },
      {
        "duration": 56,
        "start_time": "2022-04-06T12:00:38.598Z"
      },
      {
        "duration": 55,
        "start_time": "2022-04-06T12:00:38.656Z"
      },
      {
        "duration": 60,
        "start_time": "2022-04-06T12:00:38.714Z"
      },
      {
        "duration": 25,
        "start_time": "2022-04-06T12:00:38.776Z"
      },
      {
        "duration": 7,
        "start_time": "2022-04-06T12:00:38.804Z"
      },
      {
        "duration": 6,
        "start_time": "2022-04-06T12:00:38.814Z"
      },
      {
        "duration": 10,
        "start_time": "2022-04-06T12:00:38.822Z"
      },
      {
        "duration": 12,
        "start_time": "2022-04-06T12:00:38.875Z"
      },
      {
        "duration": 19,
        "start_time": "2022-04-06T12:00:38.893Z"
      },
      {
        "duration": 103,
        "start_time": "2022-04-06T12:00:38.915Z"
      },
      {
        "duration": 19,
        "start_time": "2022-04-06T12:00:39.020Z"
      },
      {
        "duration": 10,
        "start_time": "2022-04-06T12:00:39.041Z"
      },
      {
        "duration": 1067,
        "start_time": "2022-04-06T12:00:39.073Z"
      },
      {
        "duration": 33,
        "start_time": "2022-04-06T12:00:40.143Z"
      },
      {
        "duration": 95,
        "start_time": "2022-04-06T12:00:40.179Z"
      },
      {
        "duration": 29,
        "start_time": "2022-04-06T12:00:40.277Z"
      },
      {
        "duration": 8,
        "start_time": "2022-04-06T12:00:40.309Z"
      },
      {
        "duration": 409,
        "start_time": "2022-04-06T12:00:40.319Z"
      },
      {
        "duration": 23,
        "start_time": "2022-04-06T12:00:40.730Z"
      },
      {
        "duration": 33,
        "start_time": "2022-04-06T12:00:40.755Z"
      },
      {
        "duration": 38,
        "start_time": "2022-04-06T12:00:40.790Z"
      },
      {
        "duration": 5,
        "start_time": "2022-04-06T12:00:40.830Z"
      },
      {
        "duration": 46,
        "start_time": "2022-04-06T12:00:40.874Z"
      },
      {
        "duration": 25,
        "start_time": "2022-04-06T12:00:40.922Z"
      },
      {
        "duration": 51,
        "start_time": "2022-04-06T12:00:40.949Z"
      },
      {
        "duration": 29,
        "start_time": "2022-04-06T12:00:41.003Z"
      },
      {
        "duration": 59,
        "start_time": "2022-04-06T12:00:41.037Z"
      },
      {
        "duration": 31,
        "start_time": "2022-04-06T12:00:41.098Z"
      },
      {
        "duration": 47,
        "start_time": "2022-04-06T12:00:41.132Z"
      },
      {
        "duration": 36,
        "start_time": "2022-04-06T12:00:41.181Z"
      },
      {
        "duration": 1255,
        "start_time": "2022-04-06T12:00:41.219Z"
      },
      {
        "duration": 1240,
        "start_time": "2022-04-06T12:00:42.477Z"
      },
      {
        "duration": 330,
        "start_time": "2022-04-06T12:00:43.720Z"
      },
      {
        "duration": 324,
        "start_time": "2022-04-06T12:00:44.053Z"
      },
      {
        "duration": 20,
        "start_time": "2022-04-06T12:00:44.379Z"
      },
      {
        "duration": 17,
        "start_time": "2022-04-06T12:00:44.401Z"
      },
      {
        "duration": 156,
        "start_time": "2022-04-06T12:00:44.421Z"
      },
      {
        "duration": 139,
        "start_time": "2022-04-06T12:00:44.580Z"
      },
      {
        "duration": 63,
        "start_time": "2022-04-06T12:00:44.722Z"
      },
      {
        "duration": 26,
        "start_time": "2022-04-06T12:00:44.787Z"
      },
      {
        "duration": 21,
        "start_time": "2022-04-06T12:00:44.815Z"
      },
      {
        "duration": 51,
        "start_time": "2022-04-06T12:00:44.838Z"
      },
      {
        "duration": 23,
        "start_time": "2022-04-06T12:02:34.660Z"
      },
      {
        "duration": 23,
        "start_time": "2022-04-06T12:02:56.668Z"
      },
      {
        "duration": 23,
        "start_time": "2022-04-06T12:04:23.859Z"
      },
      {
        "duration": 20,
        "start_time": "2022-04-06T12:06:51.637Z"
      },
      {
        "duration": 20,
        "start_time": "2022-04-06T12:10:26.824Z"
      },
      {
        "duration": 21,
        "start_time": "2022-04-06T12:11:20.490Z"
      },
      {
        "duration": 6,
        "start_time": "2022-04-06T12:21:24.465Z"
      },
      {
        "duration": 2207,
        "start_time": "2022-04-06T12:21:30.265Z"
      },
      {
        "duration": 80,
        "start_time": "2022-04-06T12:21:32.475Z"
      },
      {
        "duration": 84,
        "start_time": "2022-04-06T12:21:32.558Z"
      },
      {
        "duration": 78,
        "start_time": "2022-04-06T12:21:32.646Z"
      },
      {
        "duration": 53,
        "start_time": "2022-04-06T12:21:32.726Z"
      },
      {
        "duration": 8,
        "start_time": "2022-04-06T12:21:32.782Z"
      },
      {
        "duration": 7,
        "start_time": "2022-04-06T12:21:32.793Z"
      },
      {
        "duration": 12,
        "start_time": "2022-04-06T12:21:32.803Z"
      },
      {
        "duration": 19,
        "start_time": "2022-04-06T12:21:32.818Z"
      },
      {
        "duration": 25,
        "start_time": "2022-04-06T12:21:32.874Z"
      },
      {
        "duration": 87,
        "start_time": "2022-04-06T12:21:32.901Z"
      },
      {
        "duration": 19,
        "start_time": "2022-04-06T12:21:32.991Z"
      },
      {
        "duration": 12,
        "start_time": "2022-04-06T12:21:33.013Z"
      },
      {
        "duration": 857,
        "start_time": "2022-04-06T12:21:33.027Z"
      },
      {
        "duration": 16,
        "start_time": "2022-04-06T12:21:33.886Z"
      },
      {
        "duration": 71,
        "start_time": "2022-04-06T12:21:33.904Z"
      },
      {
        "duration": 20,
        "start_time": "2022-04-06T12:21:33.977Z"
      },
      {
        "duration": 6,
        "start_time": "2022-04-06T12:21:33.999Z"
      },
      {
        "duration": 15,
        "start_time": "2022-04-06T12:21:34.007Z"
      },
      {
        "duration": 395,
        "start_time": "2022-04-06T12:21:34.024Z"
      },
      {
        "duration": 20,
        "start_time": "2022-04-06T12:21:34.421Z"
      },
      {
        "duration": 40,
        "start_time": "2022-04-06T12:21:34.443Z"
      },
      {
        "duration": 53,
        "start_time": "2022-04-06T12:21:34.485Z"
      },
      {
        "duration": 6,
        "start_time": "2022-04-06T12:21:34.540Z"
      },
      {
        "duration": 71,
        "start_time": "2022-04-06T12:21:34.549Z"
      },
      {
        "duration": 53,
        "start_time": "2022-04-06T12:21:34.623Z"
      },
      {
        "duration": 32,
        "start_time": "2022-04-06T12:21:34.679Z"
      },
      {
        "duration": 73,
        "start_time": "2022-04-06T12:21:34.719Z"
      },
      {
        "duration": 36,
        "start_time": "2022-04-06T12:21:34.794Z"
      },
      {
        "duration": 43,
        "start_time": "2022-04-06T12:21:34.832Z"
      },
      {
        "duration": 33,
        "start_time": "2022-04-06T12:21:34.878Z"
      },
      {
        "duration": 35,
        "start_time": "2022-04-06T12:21:34.914Z"
      },
      {
        "duration": 1211,
        "start_time": "2022-04-06T12:21:34.975Z"
      },
      {
        "duration": 1215,
        "start_time": "2022-04-06T12:21:36.189Z"
      },
      {
        "duration": 333,
        "start_time": "2022-04-06T12:21:37.407Z"
      },
      {
        "duration": 337,
        "start_time": "2022-04-06T12:21:37.742Z"
      },
      {
        "duration": 22,
        "start_time": "2022-04-06T12:21:38.082Z"
      },
      {
        "duration": 21,
        "start_time": "2022-04-06T12:21:38.106Z"
      },
      {
        "duration": 161,
        "start_time": "2022-04-06T12:21:38.130Z"
      },
      {
        "duration": 150,
        "start_time": "2022-04-06T12:21:38.294Z"
      },
      {
        "duration": 67,
        "start_time": "2022-04-06T12:21:38.446Z"
      },
      {
        "duration": 26,
        "start_time": "2022-04-06T12:21:38.516Z"
      },
      {
        "duration": 26,
        "start_time": "2022-04-06T12:21:38.576Z"
      },
      {
        "duration": 6,
        "start_time": "2022-04-06T12:21:38.605Z"
      },
      {
        "duration": 61,
        "start_time": "2022-04-06T12:21:38.614Z"
      },
      {
        "duration": 139,
        "start_time": "2022-04-06T12:25:23.304Z"
      },
      {
        "duration": 316,
        "start_time": "2022-04-06T12:33:00.043Z"
      },
      {
        "duration": 165,
        "start_time": "2022-04-06T12:36:11.095Z"
      },
      {
        "duration": 111,
        "start_time": "2022-04-06T12:36:24.181Z"
      },
      {
        "duration": 152,
        "start_time": "2022-04-06T12:36:31.790Z"
      },
      {
        "duration": 1668,
        "start_time": "2022-04-06T12:36:42.013Z"
      },
      {
        "duration": 297,
        "start_time": "2022-04-06T12:38:40.787Z"
      },
      {
        "duration": 13,
        "start_time": "2022-04-06T12:39:33.815Z"
      },
      {
        "duration": 325,
        "start_time": "2022-04-06T12:39:41.856Z"
      },
      {
        "duration": 12,
        "start_time": "2022-04-06T12:39:52.481Z"
      },
      {
        "duration": 340,
        "start_time": "2022-04-06T12:40:09.577Z"
      },
      {
        "duration": 286,
        "start_time": "2022-04-06T12:42:41.434Z"
      },
      {
        "duration": 14,
        "start_time": "2022-04-06T12:42:56.985Z"
      },
      {
        "duration": 325,
        "start_time": "2022-04-06T12:43:06.274Z"
      },
      {
        "duration": 441,
        "start_time": "2022-04-06T12:44:01.557Z"
      },
      {
        "duration": 339,
        "start_time": "2022-04-06T12:46:45.782Z"
      },
      {
        "duration": 22,
        "start_time": "2022-04-06T12:55:26.057Z"
      },
      {
        "duration": 20,
        "start_time": "2022-04-06T12:55:40.027Z"
      },
      {
        "duration": 407,
        "start_time": "2022-04-06T12:55:47.769Z"
      },
      {
        "duration": 314,
        "start_time": "2022-04-06T12:58:31.738Z"
      },
      {
        "duration": 317,
        "start_time": "2022-04-06T13:00:45.333Z"
      },
      {
        "duration": 313,
        "start_time": "2022-04-06T13:00:53.804Z"
      },
      {
        "duration": 412,
        "start_time": "2022-04-06T13:01:03.780Z"
      },
      {
        "duration": 6,
        "start_time": "2022-04-06T13:03:44.015Z"
      },
      {
        "duration": 259,
        "start_time": "2022-04-06T13:03:51.212Z"
      },
      {
        "duration": 8,
        "start_time": "2022-04-06T13:05:38.127Z"
      },
      {
        "duration": 949,
        "start_time": "2022-04-06T13:05:50.182Z"
      },
      {
        "duration": 1862,
        "start_time": "2022-04-08T13:06:36.558Z"
      },
      {
        "duration": 51,
        "start_time": "2022-04-08T13:06:38.423Z"
      },
      {
        "duration": 56,
        "start_time": "2022-04-08T13:06:38.476Z"
      },
      {
        "duration": 63,
        "start_time": "2022-04-08T13:06:38.535Z"
      },
      {
        "duration": 21,
        "start_time": "2022-04-08T13:06:38.600Z"
      },
      {
        "duration": 6,
        "start_time": "2022-04-08T13:06:38.623Z"
      },
      {
        "duration": 7,
        "start_time": "2022-04-08T13:06:38.631Z"
      },
      {
        "duration": 44,
        "start_time": "2022-04-08T13:06:38.640Z"
      },
      {
        "duration": 9,
        "start_time": "2022-04-08T13:06:38.686Z"
      },
      {
        "duration": 21,
        "start_time": "2022-04-08T13:06:38.699Z"
      },
      {
        "duration": 92,
        "start_time": "2022-04-08T13:06:38.722Z"
      },
      {
        "duration": 18,
        "start_time": "2022-04-08T13:06:38.816Z"
      },
      {
        "duration": 14,
        "start_time": "2022-04-08T13:06:38.836Z"
      },
      {
        "duration": 838,
        "start_time": "2022-04-08T13:06:38.853Z"
      },
      {
        "duration": 16,
        "start_time": "2022-04-08T13:06:39.694Z"
      },
      {
        "duration": 74,
        "start_time": "2022-04-08T13:06:39.713Z"
      },
      {
        "duration": 20,
        "start_time": "2022-04-08T13:06:39.789Z"
      },
      {
        "duration": 6,
        "start_time": "2022-04-08T13:06:39.811Z"
      },
      {
        "duration": 11,
        "start_time": "2022-04-08T13:06:39.819Z"
      },
      {
        "duration": 400,
        "start_time": "2022-04-08T13:06:39.832Z"
      },
      {
        "duration": 22,
        "start_time": "2022-04-08T13:06:40.234Z"
      },
      {
        "duration": 39,
        "start_time": "2022-04-08T13:06:40.259Z"
      },
      {
        "duration": 40,
        "start_time": "2022-04-08T13:06:40.302Z"
      },
      {
        "duration": 42,
        "start_time": "2022-04-08T13:06:40.345Z"
      },
      {
        "duration": 54,
        "start_time": "2022-04-08T13:06:40.390Z"
      },
      {
        "duration": 46,
        "start_time": "2022-04-08T13:06:40.446Z"
      },
      {
        "duration": 31,
        "start_time": "2022-04-08T13:06:40.495Z"
      },
      {
        "duration": 58,
        "start_time": "2022-04-08T13:06:40.530Z"
      },
      {
        "duration": 34,
        "start_time": "2022-04-08T13:06:40.590Z"
      },
      {
        "duration": 55,
        "start_time": "2022-04-08T13:06:40.628Z"
      },
      {
        "duration": 28,
        "start_time": "2022-04-08T13:06:40.686Z"
      },
      {
        "duration": 36,
        "start_time": "2022-04-08T13:06:40.717Z"
      },
      {
        "duration": 1239,
        "start_time": "2022-04-08T13:06:40.785Z"
      },
      {
        "duration": 1317,
        "start_time": "2022-04-08T13:06:42.027Z"
      },
      {
        "duration": 343,
        "start_time": "2022-04-08T13:06:43.347Z"
      },
      {
        "duration": 341,
        "start_time": "2022-04-08T13:06:43.693Z"
      },
      {
        "duration": 21,
        "start_time": "2022-04-08T13:06:44.036Z"
      },
      {
        "duration": 36,
        "start_time": "2022-04-08T13:06:44.059Z"
      },
      {
        "duration": 136,
        "start_time": "2022-04-08T13:06:44.097Z"
      },
      {
        "duration": 149,
        "start_time": "2022-04-08T13:06:44.236Z"
      },
      {
        "duration": 980,
        "start_time": "2022-04-08T13:06:44.387Z"
      },
      {
        "duration": 50,
        "start_time": "2022-04-08T13:06:45.369Z"
      },
      {
        "duration": 24,
        "start_time": "2022-04-08T13:06:45.421Z"
      },
      {
        "duration": 352,
        "start_time": "2022-04-08T13:06:45.447Z"
      },
      {
        "duration": 21,
        "start_time": "2022-04-08T13:06:45.801Z"
      },
      {
        "duration": 29,
        "start_time": "2022-04-08T13:06:45.825Z"
      },
      {
        "duration": 33,
        "start_time": "2022-04-08T13:06:45.857Z"
      },
      {
        "duration": 24,
        "start_time": "2022-04-08T13:27:55.929Z"
      },
      {
        "duration": 105,
        "start_time": "2022-04-08T13:29:14.173Z"
      },
      {
        "duration": 114,
        "start_time": "2022-04-08T13:29:37.834Z"
      },
      {
        "duration": 1508,
        "start_time": "2022-04-08T13:29:45.724Z"
      },
      {
        "duration": 58,
        "start_time": "2022-04-08T13:29:47.235Z"
      },
      {
        "duration": 54,
        "start_time": "2022-04-08T13:29:47.295Z"
      },
      {
        "duration": 64,
        "start_time": "2022-04-08T13:29:47.351Z"
      },
      {
        "duration": 23,
        "start_time": "2022-04-08T13:29:47.417Z"
      },
      {
        "duration": 7,
        "start_time": "2022-04-08T13:29:47.442Z"
      },
      {
        "duration": 8,
        "start_time": "2022-04-08T13:29:47.451Z"
      },
      {
        "duration": 7,
        "start_time": "2022-04-08T13:29:47.485Z"
      },
      {
        "duration": 10,
        "start_time": "2022-04-08T13:29:47.494Z"
      },
      {
        "duration": 19,
        "start_time": "2022-04-08T13:29:47.508Z"
      },
      {
        "duration": 105,
        "start_time": "2022-04-08T13:29:47.529Z"
      },
      {
        "duration": 20,
        "start_time": "2022-04-08T13:29:47.636Z"
      },
      {
        "duration": 30,
        "start_time": "2022-04-08T13:29:47.658Z"
      },
      {
        "duration": 808,
        "start_time": "2022-04-08T13:29:47.691Z"
      },
      {
        "duration": 14,
        "start_time": "2022-04-08T13:29:48.501Z"
      },
      {
        "duration": 68,
        "start_time": "2022-04-08T13:29:48.517Z"
      },
      {
        "duration": 19,
        "start_time": "2022-04-08T13:29:48.587Z"
      },
      {
        "duration": 7,
        "start_time": "2022-04-08T13:29:48.608Z"
      },
      {
        "duration": 9,
        "start_time": "2022-04-08T13:29:48.618Z"
      },
      {
        "duration": 405,
        "start_time": "2022-04-08T13:29:48.630Z"
      },
      {
        "duration": 22,
        "start_time": "2022-04-08T13:29:49.038Z"
      },
      {
        "duration": 39,
        "start_time": "2022-04-08T13:29:49.062Z"
      },
      {
        "duration": 41,
        "start_time": "2022-04-08T13:29:49.103Z"
      },
      {
        "duration": 5,
        "start_time": "2022-04-08T13:29:49.146Z"
      },
      {
        "duration": 50,
        "start_time": "2022-04-08T13:29:49.185Z"
      },
      {
        "duration": 57,
        "start_time": "2022-04-08T13:29:49.238Z"
      },
      {
        "duration": 37,
        "start_time": "2022-04-08T13:29:49.297Z"
      },
      {
        "duration": 46,
        "start_time": "2022-04-08T13:29:49.339Z"
      },
      {
        "duration": 34,
        "start_time": "2022-04-08T13:29:49.388Z"
      },
      {
        "duration": 25,
        "start_time": "2022-04-08T13:29:49.424Z"
      },
      {
        "duration": 54,
        "start_time": "2022-04-08T13:29:49.451Z"
      },
      {
        "duration": 34,
        "start_time": "2022-04-08T13:29:49.508Z"
      },
      {
        "duration": 1256,
        "start_time": "2022-04-08T13:29:49.544Z"
      },
      {
        "duration": 1224,
        "start_time": "2022-04-08T13:29:50.803Z"
      },
      {
        "duration": 21,
        "start_time": "2022-04-08T13:29:52.029Z"
      },
      {
        "duration": 97,
        "start_time": "2022-04-08T13:29:52.052Z"
      },
      {
        "duration": 0,
        "start_time": "2022-04-08T13:29:52.152Z"
      },
      {
        "duration": 0,
        "start_time": "2022-04-08T13:29:52.154Z"
      },
      {
        "duration": 0,
        "start_time": "2022-04-08T13:29:52.156Z"
      },
      {
        "duration": 0,
        "start_time": "2022-04-08T13:29:52.157Z"
      },
      {
        "duration": 0,
        "start_time": "2022-04-08T13:29:52.159Z"
      },
      {
        "duration": 0,
        "start_time": "2022-04-08T13:29:52.161Z"
      },
      {
        "duration": 0,
        "start_time": "2022-04-08T13:29:52.162Z"
      },
      {
        "duration": 0,
        "start_time": "2022-04-08T13:29:52.164Z"
      },
      {
        "duration": 0,
        "start_time": "2022-04-08T13:29:52.165Z"
      },
      {
        "duration": 0,
        "start_time": "2022-04-08T13:29:52.166Z"
      },
      {
        "duration": 0,
        "start_time": "2022-04-08T13:29:52.168Z"
      },
      {
        "duration": 0,
        "start_time": "2022-04-08T13:29:52.170Z"
      },
      {
        "duration": 0,
        "start_time": "2022-04-08T13:29:52.171Z"
      },
      {
        "duration": 125,
        "start_time": "2022-04-08T13:55:03.364Z"
      },
      {
        "duration": 215,
        "start_time": "2022-04-08T13:55:33.253Z"
      },
      {
        "duration": 20,
        "start_time": "2022-04-08T13:55:45.294Z"
      },
      {
        "duration": 134,
        "start_time": "2022-04-08T13:55:59.766Z"
      },
      {
        "duration": 102,
        "start_time": "2022-04-08T13:57:50.811Z"
      },
      {
        "duration": 148,
        "start_time": "2022-04-08T13:58:02.911Z"
      },
      {
        "duration": 100,
        "start_time": "2022-04-08T13:58:21.209Z"
      },
      {
        "duration": 255,
        "start_time": "2022-04-08T14:04:33.352Z"
      },
      {
        "duration": 1295,
        "start_time": "2022-04-09T05:11:57.850Z"
      },
      {
        "duration": 35,
        "start_time": "2022-04-09T05:11:59.147Z"
      },
      {
        "duration": 31,
        "start_time": "2022-04-09T05:11:59.184Z"
      },
      {
        "duration": 23,
        "start_time": "2022-04-09T05:11:59.217Z"
      },
      {
        "duration": 29,
        "start_time": "2022-04-09T05:11:59.242Z"
      },
      {
        "duration": 4,
        "start_time": "2022-04-09T05:11:59.272Z"
      },
      {
        "duration": 5,
        "start_time": "2022-04-09T05:11:59.278Z"
      },
      {
        "duration": 8,
        "start_time": "2022-04-09T05:11:59.284Z"
      },
      {
        "duration": 7,
        "start_time": "2022-04-09T05:11:59.293Z"
      },
      {
        "duration": 11,
        "start_time": "2022-04-09T05:11:59.303Z"
      },
      {
        "duration": 63,
        "start_time": "2022-04-09T05:11:59.315Z"
      },
      {
        "duration": 11,
        "start_time": "2022-04-09T05:11:59.380Z"
      },
      {
        "duration": 6,
        "start_time": "2022-04-09T05:11:59.392Z"
      },
      {
        "duration": 416,
        "start_time": "2022-04-09T05:11:59.399Z"
      },
      {
        "duration": 9,
        "start_time": "2022-04-09T05:11:59.816Z"
      },
      {
        "duration": 27,
        "start_time": "2022-04-09T05:11:59.827Z"
      },
      {
        "duration": 11,
        "start_time": "2022-04-09T05:11:59.871Z"
      },
      {
        "duration": 4,
        "start_time": "2022-04-09T05:11:59.884Z"
      },
      {
        "duration": 6,
        "start_time": "2022-04-09T05:11:59.889Z"
      },
      {
        "duration": 208,
        "start_time": "2022-04-09T05:11:59.896Z"
      },
      {
        "duration": 14,
        "start_time": "2022-04-09T05:12:00.105Z"
      },
      {
        "duration": 17,
        "start_time": "2022-04-09T05:12:00.120Z"
      },
      {
        "duration": 39,
        "start_time": "2022-04-09T05:12:00.138Z"
      },
      {
        "duration": 3,
        "start_time": "2022-04-09T05:12:00.178Z"
      },
      {
        "duration": 29,
        "start_time": "2022-04-09T05:12:00.183Z"
      },
      {
        "duration": 16,
        "start_time": "2022-04-09T05:12:00.213Z"
      },
      {
        "duration": 17,
        "start_time": "2022-04-09T05:12:00.230Z"
      },
      {
        "duration": 16,
        "start_time": "2022-04-09T05:12:00.273Z"
      },
      {
        "duration": 18,
        "start_time": "2022-04-09T05:12:00.291Z"
      },
      {
        "duration": 16,
        "start_time": "2022-04-09T05:12:00.311Z"
      },
      {
        "duration": 14,
        "start_time": "2022-04-09T05:12:00.328Z"
      },
      {
        "duration": 42,
        "start_time": "2022-04-09T05:12:00.343Z"
      },
      {
        "duration": 533,
        "start_time": "2022-04-09T05:12:00.386Z"
      },
      {
        "duration": 535,
        "start_time": "2022-04-09T05:12:00.921Z"
      },
      {
        "duration": 17,
        "start_time": "2022-04-09T05:12:01.457Z"
      },
      {
        "duration": 23,
        "start_time": "2022-04-09T05:12:01.475Z"
      },
      {
        "duration": 172,
        "start_time": "2022-04-09T05:12:01.500Z"
      },
      {
        "duration": 174,
        "start_time": "2022-04-09T05:12:01.673Z"
      },
      {
        "duration": 11,
        "start_time": "2022-04-09T05:12:01.849Z"
      },
      {
        "duration": 14,
        "start_time": "2022-04-09T05:12:01.871Z"
      },
      {
        "duration": 66,
        "start_time": "2022-04-09T05:12:01.887Z"
      },
      {
        "duration": 122,
        "start_time": "2022-04-09T05:12:01.955Z"
      },
      {
        "duration": 517,
        "start_time": "2022-04-09T05:12:02.078Z"
      },
      {
        "duration": 24,
        "start_time": "2022-04-09T05:12:02.597Z"
      },
      {
        "duration": 15,
        "start_time": "2022-04-09T05:12:02.622Z"
      },
      {
        "duration": 179,
        "start_time": "2022-04-09T05:12:02.639Z"
      },
      {
        "duration": 13,
        "start_time": "2022-04-09T05:12:02.819Z"
      },
      {
        "duration": 18,
        "start_time": "2022-04-09T05:12:02.833Z"
      },
      {
        "duration": 19,
        "start_time": "2022-04-09T05:12:02.852Z"
      },
      {
        "duration": 133,
        "start_time": "2022-04-09T05:15:13.970Z"
      },
      {
        "duration": 311,
        "start_time": "2022-04-09T05:15:30.353Z"
      },
      {
        "duration": 56,
        "start_time": "2022-04-09T05:16:59.939Z"
      },
      {
        "duration": 663,
        "start_time": "2022-04-09T05:20:08.427Z"
      },
      {
        "duration": 23,
        "start_time": "2022-04-09T05:22:03.596Z"
      },
      {
        "duration": 39,
        "start_time": "2022-04-09T05:22:17.864Z"
      },
      {
        "duration": 298,
        "start_time": "2022-04-09T05:23:28.117Z"
      },
      {
        "duration": 15,
        "start_time": "2022-04-09T05:24:55.514Z"
      },
      {
        "duration": 1368,
        "start_time": "2022-04-11T13:00:06.192Z"
      },
      {
        "duration": 46,
        "start_time": "2022-04-11T13:00:07.562Z"
      },
      {
        "duration": 36,
        "start_time": "2022-04-11T13:00:07.610Z"
      },
      {
        "duration": 41,
        "start_time": "2022-04-11T13:00:07.649Z"
      },
      {
        "duration": 17,
        "start_time": "2022-04-11T13:00:07.692Z"
      },
      {
        "duration": 5,
        "start_time": "2022-04-11T13:00:07.711Z"
      },
      {
        "duration": 8,
        "start_time": "2022-04-11T13:00:07.717Z"
      },
      {
        "duration": 17,
        "start_time": "2022-04-11T13:00:07.727Z"
      },
      {
        "duration": 30,
        "start_time": "2022-04-11T13:00:07.745Z"
      },
      {
        "duration": 12,
        "start_time": "2022-04-11T13:00:07.777Z"
      },
      {
        "duration": 52,
        "start_time": "2022-04-11T13:00:07.791Z"
      },
      {
        "duration": 32,
        "start_time": "2022-04-11T13:00:07.844Z"
      },
      {
        "duration": 14,
        "start_time": "2022-04-11T13:00:07.878Z"
      },
      {
        "duration": 455,
        "start_time": "2022-04-11T13:00:07.894Z"
      },
      {
        "duration": 20,
        "start_time": "2022-04-11T13:00:08.350Z"
      },
      {
        "duration": 29,
        "start_time": "2022-04-11T13:00:08.372Z"
      },
      {
        "duration": 12,
        "start_time": "2022-04-11T13:00:08.402Z"
      },
      {
        "duration": 5,
        "start_time": "2022-04-11T13:00:08.415Z"
      },
      {
        "duration": 11,
        "start_time": "2022-04-11T13:00:08.422Z"
      },
      {
        "duration": 220,
        "start_time": "2022-04-11T13:00:08.435Z"
      },
      {
        "duration": 18,
        "start_time": "2022-04-11T13:00:08.656Z"
      },
      {
        "duration": 31,
        "start_time": "2022-04-11T13:00:08.676Z"
      },
      {
        "duration": 35,
        "start_time": "2022-04-11T13:00:08.709Z"
      },
      {
        "duration": 3,
        "start_time": "2022-04-11T13:00:08.746Z"
      },
      {
        "duration": 42,
        "start_time": "2022-04-11T13:00:08.751Z"
      },
      {
        "duration": 16,
        "start_time": "2022-04-11T13:00:08.794Z"
      },
      {
        "duration": 17,
        "start_time": "2022-04-11T13:00:08.812Z"
      },
      {
        "duration": 39,
        "start_time": "2022-04-11T13:00:08.832Z"
      },
      {
        "duration": 22,
        "start_time": "2022-04-11T13:00:08.873Z"
      },
      {
        "duration": 25,
        "start_time": "2022-04-11T13:00:08.897Z"
      },
      {
        "duration": 18,
        "start_time": "2022-04-11T13:00:08.923Z"
      },
      {
        "duration": 36,
        "start_time": "2022-04-11T13:00:08.943Z"
      },
      {
        "duration": 686,
        "start_time": "2022-04-11T13:00:08.981Z"
      },
      {
        "duration": 601,
        "start_time": "2022-04-11T13:00:09.669Z"
      },
      {
        "duration": 15,
        "start_time": "2022-04-11T13:00:10.272Z"
      },
      {
        "duration": 107,
        "start_time": "2022-04-11T13:00:10.289Z"
      },
      {
        "duration": 0,
        "start_time": "2022-04-11T13:00:10.398Z"
      },
      {
        "duration": 0,
        "start_time": "2022-04-11T13:00:10.399Z"
      },
      {
        "duration": 0,
        "start_time": "2022-04-11T13:00:10.400Z"
      },
      {
        "duration": 0,
        "start_time": "2022-04-11T13:00:10.401Z"
      },
      {
        "duration": 0,
        "start_time": "2022-04-11T13:00:10.402Z"
      },
      {
        "duration": 0,
        "start_time": "2022-04-11T13:00:10.404Z"
      },
      {
        "duration": 0,
        "start_time": "2022-04-11T13:00:10.405Z"
      },
      {
        "duration": 0,
        "start_time": "2022-04-11T13:00:10.406Z"
      },
      {
        "duration": 0,
        "start_time": "2022-04-11T13:00:10.407Z"
      },
      {
        "duration": 0,
        "start_time": "2022-04-11T13:00:10.408Z"
      },
      {
        "duration": 0,
        "start_time": "2022-04-11T13:00:10.409Z"
      },
      {
        "duration": 0,
        "start_time": "2022-04-11T13:00:10.409Z"
      },
      {
        "duration": 0,
        "start_time": "2022-04-11T13:00:10.411Z"
      },
      {
        "duration": 0,
        "start_time": "2022-04-11T13:00:10.412Z"
      },
      {
        "duration": 1209,
        "start_time": "2022-04-11T13:02:39.926Z"
      },
      {
        "duration": 34,
        "start_time": "2022-04-11T13:02:41.137Z"
      },
      {
        "duration": 33,
        "start_time": "2022-04-11T13:02:41.173Z"
      },
      {
        "duration": 26,
        "start_time": "2022-04-11T13:02:41.209Z"
      },
      {
        "duration": 35,
        "start_time": "2022-04-11T13:02:41.236Z"
      },
      {
        "duration": 5,
        "start_time": "2022-04-11T13:02:41.273Z"
      },
      {
        "duration": 4,
        "start_time": "2022-04-11T13:02:41.280Z"
      },
      {
        "duration": 7,
        "start_time": "2022-04-11T13:02:41.286Z"
      },
      {
        "duration": 9,
        "start_time": "2022-04-11T13:02:41.295Z"
      },
      {
        "duration": 12,
        "start_time": "2022-04-11T13:02:41.307Z"
      },
      {
        "duration": 77,
        "start_time": "2022-04-11T13:02:41.320Z"
      },
      {
        "duration": 12,
        "start_time": "2022-04-11T13:02:41.399Z"
      },
      {
        "duration": 6,
        "start_time": "2022-04-11T13:02:41.413Z"
      },
      {
        "duration": 413,
        "start_time": "2022-04-11T13:02:41.420Z"
      },
      {
        "duration": 8,
        "start_time": "2022-04-11T13:02:41.835Z"
      },
      {
        "duration": 38,
        "start_time": "2022-04-11T13:02:41.844Z"
      },
      {
        "duration": 12,
        "start_time": "2022-04-11T13:02:41.883Z"
      },
      {
        "duration": 4,
        "start_time": "2022-04-11T13:02:41.896Z"
      },
      {
        "duration": 6,
        "start_time": "2022-04-11T13:02:41.902Z"
      },
      {
        "duration": 215,
        "start_time": "2022-04-11T13:02:41.909Z"
      },
      {
        "duration": 13,
        "start_time": "2022-04-11T13:02:42.126Z"
      },
      {
        "duration": 11,
        "start_time": "2022-04-11T13:02:42.141Z"
      },
      {
        "duration": 38,
        "start_time": "2022-04-11T13:02:42.153Z"
      },
      {
        "duration": 3,
        "start_time": "2022-04-11T13:02:42.192Z"
      },
      {
        "duration": 28,
        "start_time": "2022-04-11T13:02:42.197Z"
      },
      {
        "duration": 15,
        "start_time": "2022-04-11T13:02:42.227Z"
      },
      {
        "duration": 43,
        "start_time": "2022-04-11T13:02:42.244Z"
      },
      {
        "duration": 16,
        "start_time": "2022-04-11T13:02:42.290Z"
      },
      {
        "duration": 20,
        "start_time": "2022-04-11T13:02:42.308Z"
      },
      {
        "duration": 15,
        "start_time": "2022-04-11T13:02:42.331Z"
      },
      {
        "duration": 38,
        "start_time": "2022-04-11T13:02:42.348Z"
      },
      {
        "duration": 20,
        "start_time": "2022-04-11T13:02:42.388Z"
      },
      {
        "duration": 561,
        "start_time": "2022-04-11T13:02:42.410Z"
      },
      {
        "duration": 545,
        "start_time": "2022-04-11T13:02:42.973Z"
      },
      {
        "duration": 13,
        "start_time": "2022-04-11T13:02:43.519Z"
      },
      {
        "duration": 100,
        "start_time": "2022-04-11T13:02:43.533Z"
      },
      {
        "duration": 0,
        "start_time": "2022-04-11T13:02:43.635Z"
      },
      {
        "duration": 0,
        "start_time": "2022-04-11T13:02:43.636Z"
      },
      {
        "duration": 0,
        "start_time": "2022-04-11T13:02:43.637Z"
      },
      {
        "duration": 0,
        "start_time": "2022-04-11T13:02:43.638Z"
      },
      {
        "duration": 0,
        "start_time": "2022-04-11T13:02:43.639Z"
      },
      {
        "duration": 0,
        "start_time": "2022-04-11T13:02:43.639Z"
      },
      {
        "duration": 0,
        "start_time": "2022-04-11T13:02:43.641Z"
      },
      {
        "duration": 0,
        "start_time": "2022-04-11T13:02:43.641Z"
      },
      {
        "duration": 0,
        "start_time": "2022-04-11T13:02:43.643Z"
      },
      {
        "duration": 0,
        "start_time": "2022-04-11T13:02:43.643Z"
      },
      {
        "duration": 0,
        "start_time": "2022-04-11T13:02:43.644Z"
      },
      {
        "duration": 0,
        "start_time": "2022-04-11T13:02:43.645Z"
      },
      {
        "duration": 0,
        "start_time": "2022-04-11T13:02:43.646Z"
      },
      {
        "duration": 0,
        "start_time": "2022-04-11T13:02:43.647Z"
      },
      {
        "duration": 20,
        "start_time": "2022-04-11T13:11:22.928Z"
      },
      {
        "duration": 21,
        "start_time": "2022-04-11T13:11:38.740Z"
      },
      {
        "duration": 16,
        "start_time": "2022-04-11T13:11:57.430Z"
      },
      {
        "duration": 21,
        "start_time": "2022-04-11T13:17:04.496Z"
      },
      {
        "duration": 21,
        "start_time": "2022-04-11T13:17:18.335Z"
      },
      {
        "duration": 19,
        "start_time": "2022-04-11T13:18:14.242Z"
      },
      {
        "duration": 19,
        "start_time": "2022-04-11T13:19:50.030Z"
      },
      {
        "duration": 37,
        "start_time": "2022-04-11T13:35:02.964Z"
      },
      {
        "duration": 59,
        "start_time": "2022-04-11T13:45:25.423Z"
      },
      {
        "duration": 18,
        "start_time": "2022-04-11T13:45:51.402Z"
      },
      {
        "duration": 24,
        "start_time": "2022-04-11T14:07:53.403Z"
      },
      {
        "duration": 2451,
        "start_time": "2022-04-11T14:13:54.705Z"
      },
      {
        "duration": 11,
        "start_time": "2022-04-11T14:14:18.163Z"
      },
      {
        "duration": 2398,
        "start_time": "2022-04-11T14:14:42.380Z"
      },
      {
        "duration": 11,
        "start_time": "2022-04-11T14:15:06.828Z"
      },
      {
        "duration": 11,
        "start_time": "2022-04-11T14:15:31.877Z"
      },
      {
        "duration": 688,
        "start_time": "2022-04-11T14:16:45.693Z"
      },
      {
        "duration": 1335,
        "start_time": "2022-04-12T08:01:00.462Z"
      },
      {
        "duration": 44,
        "start_time": "2022-04-12T08:01:01.799Z"
      },
      {
        "duration": 38,
        "start_time": "2022-04-12T08:01:01.845Z"
      },
      {
        "duration": 43,
        "start_time": "2022-04-12T08:01:01.885Z"
      },
      {
        "duration": 17,
        "start_time": "2022-04-12T08:01:01.930Z"
      },
      {
        "duration": 5,
        "start_time": "2022-04-12T08:01:01.948Z"
      },
      {
        "duration": 11,
        "start_time": "2022-04-12T08:01:01.954Z"
      },
      {
        "duration": 21,
        "start_time": "2022-04-12T08:01:01.966Z"
      },
      {
        "duration": 20,
        "start_time": "2022-04-12T08:01:01.989Z"
      },
      {
        "duration": 13,
        "start_time": "2022-04-12T08:01:02.012Z"
      },
      {
        "duration": 51,
        "start_time": "2022-04-12T08:01:02.027Z"
      },
      {
        "duration": 30,
        "start_time": "2022-04-12T08:01:02.079Z"
      },
      {
        "duration": 26,
        "start_time": "2022-04-12T08:01:02.110Z"
      },
      {
        "duration": 459,
        "start_time": "2022-04-12T08:01:02.138Z"
      },
      {
        "duration": 10,
        "start_time": "2022-04-12T08:01:02.608Z"
      },
      {
        "duration": 34,
        "start_time": "2022-04-12T08:01:02.620Z"
      },
      {
        "duration": 24,
        "start_time": "2022-04-12T08:01:02.655Z"
      },
      {
        "duration": 4,
        "start_time": "2022-04-12T08:01:02.681Z"
      },
      {
        "duration": 22,
        "start_time": "2022-04-12T08:01:02.687Z"
      },
      {
        "duration": 250,
        "start_time": "2022-04-12T08:01:02.711Z"
      },
      {
        "duration": 15,
        "start_time": "2022-04-12T08:01:02.963Z"
      },
      {
        "duration": 13,
        "start_time": "2022-04-12T08:01:02.979Z"
      },
      {
        "duration": 41,
        "start_time": "2022-04-12T08:01:02.994Z"
      },
      {
        "duration": 4,
        "start_time": "2022-04-12T08:01:03.037Z"
      },
      {
        "duration": 34,
        "start_time": "2022-04-12T08:01:03.043Z"
      },
      {
        "duration": 43,
        "start_time": "2022-04-12T08:01:03.078Z"
      },
      {
        "duration": 19,
        "start_time": "2022-04-12T08:01:03.123Z"
      },
      {
        "duration": 22,
        "start_time": "2022-04-12T08:01:03.146Z"
      },
      {
        "duration": 41,
        "start_time": "2022-04-12T08:01:03.170Z"
      },
      {
        "duration": 19,
        "start_time": "2022-04-12T08:01:03.213Z"
      },
      {
        "duration": 17,
        "start_time": "2022-04-12T08:01:03.234Z"
      },
      {
        "duration": 22,
        "start_time": "2022-04-12T08:01:03.253Z"
      },
      {
        "duration": 628,
        "start_time": "2022-04-12T08:01:03.277Z"
      },
      {
        "duration": 626,
        "start_time": "2022-04-12T08:01:03.907Z"
      },
      {
        "duration": 116,
        "start_time": "2022-04-12T08:01:04.535Z"
      },
      {
        "duration": 0,
        "start_time": "2022-04-12T08:01:04.653Z"
      },
      {
        "duration": 0,
        "start_time": "2022-04-12T08:01:04.655Z"
      },
      {
        "duration": 0,
        "start_time": "2022-04-12T08:01:04.657Z"
      },
      {
        "duration": 0,
        "start_time": "2022-04-12T08:01:04.658Z"
      },
      {
        "duration": 0,
        "start_time": "2022-04-12T08:01:04.660Z"
      },
      {
        "duration": 0,
        "start_time": "2022-04-12T08:01:04.661Z"
      },
      {
        "duration": 0,
        "start_time": "2022-04-12T08:01:04.662Z"
      },
      {
        "duration": 0,
        "start_time": "2022-04-12T08:01:04.663Z"
      },
      {
        "duration": 0,
        "start_time": "2022-04-12T08:01:04.664Z"
      },
      {
        "duration": 0,
        "start_time": "2022-04-12T08:01:04.665Z"
      },
      {
        "duration": 0,
        "start_time": "2022-04-12T08:01:04.666Z"
      },
      {
        "duration": 0,
        "start_time": "2022-04-12T08:01:04.667Z"
      },
      {
        "duration": 0,
        "start_time": "2022-04-12T08:01:04.668Z"
      },
      {
        "duration": 0,
        "start_time": "2022-04-12T08:01:04.670Z"
      },
      {
        "duration": 0,
        "start_time": "2022-04-12T08:01:04.671Z"
      },
      {
        "duration": 2367,
        "start_time": "2022-04-12T10:55:49.552Z"
      },
      {
        "duration": 61,
        "start_time": "2022-04-12T10:55:51.923Z"
      },
      {
        "duration": 56,
        "start_time": "2022-04-12T10:55:51.987Z"
      },
      {
        "duration": 43,
        "start_time": "2022-04-12T10:55:52.070Z"
      },
      {
        "duration": 24,
        "start_time": "2022-04-12T10:55:52.115Z"
      },
      {
        "duration": 34,
        "start_time": "2022-04-12T10:55:52.141Z"
      },
      {
        "duration": 16,
        "start_time": "2022-04-12T10:55:52.182Z"
      },
      {
        "duration": 12,
        "start_time": "2022-04-12T10:55:52.200Z"
      },
      {
        "duration": 11,
        "start_time": "2022-04-12T10:55:52.214Z"
      },
      {
        "duration": 44,
        "start_time": "2022-04-12T10:55:52.229Z"
      },
      {
        "duration": 74,
        "start_time": "2022-04-12T10:55:52.275Z"
      },
      {
        "duration": 36,
        "start_time": "2022-04-12T10:55:52.351Z"
      },
      {
        "duration": 10,
        "start_time": "2022-04-12T10:55:52.390Z"
      },
      {
        "duration": 1114,
        "start_time": "2022-04-12T10:55:52.403Z"
      },
      {
        "duration": 13,
        "start_time": "2022-04-12T10:55:53.519Z"
      },
      {
        "duration": 79,
        "start_time": "2022-04-12T10:55:53.535Z"
      },
      {
        "duration": 19,
        "start_time": "2022-04-12T10:55:53.617Z"
      },
      {
        "duration": 6,
        "start_time": "2022-04-12T10:55:53.638Z"
      },
      {
        "duration": 25,
        "start_time": "2022-04-12T10:55:53.646Z"
      },
      {
        "duration": 491,
        "start_time": "2022-04-12T10:55:53.673Z"
      },
      {
        "duration": 28,
        "start_time": "2022-04-12T10:55:54.167Z"
      },
      {
        "duration": 23,
        "start_time": "2022-04-12T10:55:54.197Z"
      },
      {
        "duration": 77,
        "start_time": "2022-04-12T10:55:54.223Z"
      },
      {
        "duration": 6,
        "start_time": "2022-04-12T10:55:54.303Z"
      },
      {
        "duration": 71,
        "start_time": "2022-04-12T10:55:54.311Z"
      },
      {
        "duration": 28,
        "start_time": "2022-04-12T10:55:54.385Z"
      },
      {
        "duration": 61,
        "start_time": "2022-04-12T10:55:54.416Z"
      },
      {
        "duration": 31,
        "start_time": "2022-04-12T10:55:54.483Z"
      },
      {
        "duration": 57,
        "start_time": "2022-04-12T10:55:54.516Z"
      },
      {
        "duration": 28,
        "start_time": "2022-04-12T10:55:54.576Z"
      },
      {
        "duration": 25,
        "start_time": "2022-04-12T10:55:54.606Z"
      },
      {
        "duration": 67,
        "start_time": "2022-04-12T10:55:54.633Z"
      },
      {
        "duration": 1294,
        "start_time": "2022-04-12T10:55:54.703Z"
      },
      {
        "duration": 1222,
        "start_time": "2022-04-12T10:55:55.999Z"
      },
      {
        "duration": 248,
        "start_time": "2022-04-12T10:55:57.224Z"
      },
      {
        "duration": 0,
        "start_time": "2022-04-12T10:55:57.475Z"
      },
      {
        "duration": 0,
        "start_time": "2022-04-12T10:55:57.477Z"
      },
      {
        "duration": 0,
        "start_time": "2022-04-12T10:55:57.479Z"
      },
      {
        "duration": 0,
        "start_time": "2022-04-12T10:55:57.481Z"
      },
      {
        "duration": 0,
        "start_time": "2022-04-12T10:55:57.482Z"
      },
      {
        "duration": 0,
        "start_time": "2022-04-12T10:55:57.484Z"
      },
      {
        "duration": 0,
        "start_time": "2022-04-12T10:55:57.486Z"
      },
      {
        "duration": 0,
        "start_time": "2022-04-12T10:55:57.491Z"
      },
      {
        "duration": 0,
        "start_time": "2022-04-12T10:55:57.492Z"
      },
      {
        "duration": 1,
        "start_time": "2022-04-12T10:55:57.493Z"
      },
      {
        "duration": 0,
        "start_time": "2022-04-12T10:55:57.495Z"
      },
      {
        "duration": 0,
        "start_time": "2022-04-12T10:55:57.497Z"
      },
      {
        "duration": 0,
        "start_time": "2022-04-12T10:55:57.499Z"
      },
      {
        "duration": 0,
        "start_time": "2022-04-12T10:55:57.500Z"
      },
      {
        "duration": 0,
        "start_time": "2022-04-12T10:55:57.501Z"
      },
      {
        "duration": 4,
        "start_time": "2022-04-12T10:56:29.450Z"
      },
      {
        "duration": 24,
        "start_time": "2022-04-12T10:56:59.405Z"
      },
      {
        "duration": 48,
        "start_time": "2022-04-12T10:57:01.488Z"
      },
      {
        "duration": 452,
        "start_time": "2022-04-12T13:42:02.825Z"
      },
      {
        "duration": 6,
        "start_time": "2022-04-12T13:43:17.919Z"
      },
      {
        "duration": 27,
        "start_time": "2022-04-12T13:43:37.142Z"
      },
      {
        "duration": 579,
        "start_time": "2022-04-12T13:45:08.423Z"
      },
      {
        "duration": 485,
        "start_time": "2022-04-12T13:50:10.329Z"
      },
      {
        "duration": 26,
        "start_time": "2022-04-12T13:50:27.686Z"
      },
      {
        "duration": 8,
        "start_time": "2022-04-12T13:55:59.124Z"
      },
      {
        "duration": 9,
        "start_time": "2022-04-12T13:56:04.710Z"
      },
      {
        "duration": 9,
        "start_time": "2022-04-12T13:57:58.832Z"
      },
      {
        "duration": 8,
        "start_time": "2022-04-12T13:58:02.598Z"
      },
      {
        "duration": 9,
        "start_time": "2022-04-12T13:58:30.375Z"
      },
      {
        "duration": 8,
        "start_time": "2022-04-12T13:58:49.208Z"
      },
      {
        "duration": 7,
        "start_time": "2022-04-12T13:59:47.208Z"
      },
      {
        "duration": 6,
        "start_time": "2022-04-12T13:59:49.736Z"
      },
      {
        "duration": 7,
        "start_time": "2022-04-12T14:00:08.223Z"
      },
      {
        "duration": 12,
        "start_time": "2022-04-12T14:00:10.784Z"
      },
      {
        "duration": 15,
        "start_time": "2022-04-12T14:00:26.400Z"
      },
      {
        "duration": 26,
        "start_time": "2022-04-12T14:01:27.916Z"
      },
      {
        "duration": 9,
        "start_time": "2022-04-12T14:01:55.879Z"
      },
      {
        "duration": 14,
        "start_time": "2022-04-12T14:08:12.884Z"
      },
      {
        "duration": 8,
        "start_time": "2022-04-12T14:08:17.453Z"
      },
      {
        "duration": 11,
        "start_time": "2022-04-12T14:08:36.996Z"
      },
      {
        "duration": 13,
        "start_time": "2022-04-12T14:08:45.071Z"
      },
      {
        "duration": 10,
        "start_time": "2022-04-12T14:09:13.503Z"
      },
      {
        "duration": 11,
        "start_time": "2022-04-12T14:09:17.318Z"
      },
      {
        "duration": 20,
        "start_time": "2022-04-12T14:10:47.200Z"
      },
      {
        "duration": 16,
        "start_time": "2022-04-12T14:11:06.465Z"
      },
      {
        "duration": 9,
        "start_time": "2022-04-12T14:11:11.327Z"
      },
      {
        "duration": 20,
        "start_time": "2022-04-12T14:11:18.423Z"
      },
      {
        "duration": 6,
        "start_time": "2022-04-12T14:12:45.153Z"
      },
      {
        "duration": 12,
        "start_time": "2022-04-12T14:12:57.329Z"
      },
      {
        "duration": 30,
        "start_time": "2022-04-12T14:13:58.467Z"
      },
      {
        "duration": 23,
        "start_time": "2022-04-12T14:15:21.427Z"
      },
      {
        "duration": 23,
        "start_time": "2022-04-12T14:15:43.134Z"
      },
      {
        "duration": 24,
        "start_time": "2022-04-12T14:15:53.154Z"
      },
      {
        "duration": 23,
        "start_time": "2022-04-12T14:16:03.940Z"
      },
      {
        "duration": 74,
        "start_time": "2022-04-12T14:36:23.391Z"
      },
      {
        "duration": 1199,
        "start_time": "2022-04-13T11:30:42.000Z"
      },
      {
        "duration": 36,
        "start_time": "2022-04-13T11:30:43.201Z"
      },
      {
        "duration": 34,
        "start_time": "2022-04-13T11:30:43.238Z"
      },
      {
        "duration": 25,
        "start_time": "2022-04-13T11:30:43.274Z"
      },
      {
        "duration": 34,
        "start_time": "2022-04-13T11:30:43.300Z"
      },
      {
        "duration": 4,
        "start_time": "2022-04-13T11:30:43.336Z"
      },
      {
        "duration": 5,
        "start_time": "2022-04-13T11:30:43.341Z"
      },
      {
        "duration": 7,
        "start_time": "2022-04-13T11:30:43.347Z"
      },
      {
        "duration": 10,
        "start_time": "2022-04-13T11:30:43.355Z"
      },
      {
        "duration": 12,
        "start_time": "2022-04-13T11:30:43.367Z"
      },
      {
        "duration": 74,
        "start_time": "2022-04-13T11:30:43.380Z"
      },
      {
        "duration": 12,
        "start_time": "2022-04-13T11:30:43.456Z"
      },
      {
        "duration": 7,
        "start_time": "2022-04-13T11:30:43.469Z"
      },
      {
        "duration": 435,
        "start_time": "2022-04-13T11:30:43.478Z"
      },
      {
        "duration": 14,
        "start_time": "2022-04-13T11:30:43.915Z"
      },
      {
        "duration": 29,
        "start_time": "2022-04-13T11:30:43.931Z"
      },
      {
        "duration": 13,
        "start_time": "2022-04-13T11:30:43.961Z"
      },
      {
        "duration": 4,
        "start_time": "2022-04-13T11:30:43.975Z"
      },
      {
        "duration": 6,
        "start_time": "2022-04-13T11:30:43.981Z"
      },
      {
        "duration": 250,
        "start_time": "2022-04-13T11:30:43.989Z"
      },
      {
        "duration": 13,
        "start_time": "2022-04-13T11:30:44.241Z"
      },
      {
        "duration": 13,
        "start_time": "2022-04-13T11:30:44.256Z"
      },
      {
        "duration": 25,
        "start_time": "2022-04-13T11:30:44.270Z"
      },
      {
        "duration": 27,
        "start_time": "2022-04-13T11:30:44.297Z"
      },
      {
        "duration": 31,
        "start_time": "2022-04-13T11:30:44.326Z"
      },
      {
        "duration": 17,
        "start_time": "2022-04-13T11:30:44.359Z"
      },
      {
        "duration": 20,
        "start_time": "2022-04-13T11:30:44.377Z"
      },
      {
        "duration": 19,
        "start_time": "2022-04-13T11:30:44.423Z"
      },
      {
        "duration": 22,
        "start_time": "2022-04-13T11:30:44.444Z"
      },
      {
        "duration": 16,
        "start_time": "2022-04-13T11:30:44.468Z"
      },
      {
        "duration": 46,
        "start_time": "2022-04-13T11:30:44.486Z"
      },
      {
        "duration": 22,
        "start_time": "2022-04-13T11:30:44.534Z"
      },
      {
        "duration": 579,
        "start_time": "2022-04-13T11:30:44.557Z"
      },
      {
        "duration": 566,
        "start_time": "2022-04-13T11:30:45.138Z"
      },
      {
        "duration": 51,
        "start_time": "2022-04-13T11:30:45.705Z"
      },
      {
        "duration": 22,
        "start_time": "2022-04-13T11:30:45.758Z"
      },
      {
        "duration": 5,
        "start_time": "2022-04-13T11:30:45.783Z"
      },
      {
        "duration": 212,
        "start_time": "2022-04-13T11:30:45.790Z"
      },
      {
        "duration": 191,
        "start_time": "2022-04-13T11:30:46.004Z"
      },
      {
        "duration": 28,
        "start_time": "2022-04-13T11:30:46.198Z"
      },
      {
        "duration": 13,
        "start_time": "2022-04-13T11:30:46.229Z"
      },
      {
        "duration": 91,
        "start_time": "2022-04-13T11:30:46.244Z"
      },
      {
        "duration": 32,
        "start_time": "2022-04-13T11:30:46.337Z"
      },
      {
        "duration": 654,
        "start_time": "2022-04-13T11:30:46.371Z"
      },
      {
        "duration": 27,
        "start_time": "2022-04-13T11:30:47.027Z"
      },
      {
        "duration": 15,
        "start_time": "2022-04-13T11:30:47.056Z"
      },
      {
        "duration": 203,
        "start_time": "2022-04-13T11:30:47.072Z"
      },
      {
        "duration": 14,
        "start_time": "2022-04-13T11:30:47.277Z"
      },
      {
        "duration": 10,
        "start_time": "2022-04-13T11:30:47.293Z"
      },
      {
        "duration": 29,
        "start_time": "2022-04-13T11:30:47.304Z"
      },
      {
        "duration": 456,
        "start_time": "2022-04-13T11:31:18.157Z"
      },
      {
        "duration": 7,
        "start_time": "2022-04-13T11:36:47.867Z"
      },
      {
        "duration": 2131,
        "start_time": "2022-04-13T11:41:50.775Z"
      },
      {
        "duration": 14,
        "start_time": "2022-04-13T11:43:54.393Z"
      },
      {
        "duration": 16,
        "start_time": "2022-04-13T12:10:21.266Z"
      },
      {
        "duration": 28,
        "start_time": "2022-04-13T12:13:09.150Z"
      },
      {
        "duration": 11,
        "start_time": "2022-04-13T12:16:17.948Z"
      },
      {
        "duration": 386,
        "start_time": "2022-04-13T12:16:30.716Z"
      },
      {
        "duration": 1148,
        "start_time": "2022-04-13T13:10:18.992Z"
      },
      {
        "duration": 40,
        "start_time": "2022-04-13T13:10:20.142Z"
      },
      {
        "duration": 32,
        "start_time": "2022-04-13T13:10:20.184Z"
      },
      {
        "duration": 25,
        "start_time": "2022-04-13T13:10:20.224Z"
      },
      {
        "duration": 13,
        "start_time": "2022-04-13T13:10:20.251Z"
      },
      {
        "duration": 4,
        "start_time": "2022-04-13T13:10:20.265Z"
      },
      {
        "duration": 5,
        "start_time": "2022-04-13T13:10:20.270Z"
      },
      {
        "duration": 7,
        "start_time": "2022-04-13T13:10:20.276Z"
      },
      {
        "duration": 7,
        "start_time": "2022-04-13T13:10:20.285Z"
      },
      {
        "duration": 35,
        "start_time": "2022-04-13T13:10:20.295Z"
      },
      {
        "duration": 47,
        "start_time": "2022-04-13T13:10:20.331Z"
      },
      {
        "duration": 11,
        "start_time": "2022-04-13T13:10:20.379Z"
      },
      {
        "duration": 6,
        "start_time": "2022-04-13T13:10:20.392Z"
      },
      {
        "duration": 411,
        "start_time": "2022-04-13T13:10:20.423Z"
      },
      {
        "duration": 8,
        "start_time": "2022-04-13T13:10:20.836Z"
      },
      {
        "duration": 30,
        "start_time": "2022-04-13T13:10:20.846Z"
      },
      {
        "duration": 12,
        "start_time": "2022-04-13T13:10:20.877Z"
      },
      {
        "duration": 4,
        "start_time": "2022-04-13T13:10:20.891Z"
      },
      {
        "duration": 29,
        "start_time": "2022-04-13T13:10:20.896Z"
      },
      {
        "duration": 211,
        "start_time": "2022-04-13T13:10:20.927Z"
      },
      {
        "duration": 15,
        "start_time": "2022-04-13T13:10:21.140Z"
      },
      {
        "duration": 13,
        "start_time": "2022-04-13T13:10:21.156Z"
      },
      {
        "duration": 20,
        "start_time": "2022-04-13T13:10:21.171Z"
      },
      {
        "duration": 32,
        "start_time": "2022-04-13T13:10:21.193Z"
      },
      {
        "duration": 30,
        "start_time": "2022-04-13T13:10:21.227Z"
      },
      {
        "duration": 16,
        "start_time": "2022-04-13T13:10:21.259Z"
      },
      {
        "duration": 18,
        "start_time": "2022-04-13T13:10:21.277Z"
      },
      {
        "duration": 22,
        "start_time": "2022-04-13T13:10:21.323Z"
      },
      {
        "duration": 22,
        "start_time": "2022-04-13T13:10:21.347Z"
      },
      {
        "duration": 17,
        "start_time": "2022-04-13T13:10:21.371Z"
      },
      {
        "duration": 41,
        "start_time": "2022-04-13T13:10:21.389Z"
      },
      {
        "duration": 25,
        "start_time": "2022-04-13T13:10:21.432Z"
      },
      {
        "duration": 581,
        "start_time": "2022-04-13T13:10:21.459Z"
      },
      {
        "duration": 546,
        "start_time": "2022-04-13T13:10:22.042Z"
      },
      {
        "duration": 10,
        "start_time": "2022-04-13T13:10:22.590Z"
      },
      {
        "duration": 382,
        "start_time": "2022-04-13T13:10:22.602Z"
      },
      {
        "duration": 99,
        "start_time": "2022-04-13T13:10:22.985Z"
      },
      {
        "duration": 0,
        "start_time": "2022-04-13T13:10:23.086Z"
      },
      {
        "duration": 0,
        "start_time": "2022-04-13T13:10:23.087Z"
      },
      {
        "duration": 0,
        "start_time": "2022-04-13T13:10:23.088Z"
      },
      {
        "duration": 0,
        "start_time": "2022-04-13T13:10:23.089Z"
      },
      {
        "duration": 0,
        "start_time": "2022-04-13T13:10:23.090Z"
      },
      {
        "duration": 0,
        "start_time": "2022-04-13T13:10:23.091Z"
      },
      {
        "duration": 0,
        "start_time": "2022-04-13T13:10:23.091Z"
      },
      {
        "duration": 0,
        "start_time": "2022-04-13T13:10:23.092Z"
      },
      {
        "duration": 0,
        "start_time": "2022-04-13T13:10:23.093Z"
      },
      {
        "duration": 0,
        "start_time": "2022-04-13T13:10:23.094Z"
      },
      {
        "duration": 0,
        "start_time": "2022-04-13T13:10:23.095Z"
      },
      {
        "duration": 0,
        "start_time": "2022-04-13T13:10:23.096Z"
      },
      {
        "duration": 0,
        "start_time": "2022-04-13T13:10:23.097Z"
      },
      {
        "duration": 1134,
        "start_time": "2022-04-13T14:08:01.348Z"
      },
      {
        "duration": 35,
        "start_time": "2022-04-13T14:08:02.483Z"
      },
      {
        "duration": 32,
        "start_time": "2022-04-13T14:08:02.520Z"
      },
      {
        "duration": 29,
        "start_time": "2022-04-13T14:08:02.554Z"
      },
      {
        "duration": 39,
        "start_time": "2022-04-13T14:08:02.585Z"
      },
      {
        "duration": 4,
        "start_time": "2022-04-13T14:08:02.626Z"
      },
      {
        "duration": 12,
        "start_time": "2022-04-13T14:08:02.632Z"
      },
      {
        "duration": 16,
        "start_time": "2022-04-13T14:08:02.645Z"
      },
      {
        "duration": 7,
        "start_time": "2022-04-13T14:08:02.663Z"
      },
      {
        "duration": 12,
        "start_time": "2022-04-13T14:08:02.673Z"
      },
      {
        "duration": 52,
        "start_time": "2022-04-13T14:08:02.686Z"
      },
      {
        "duration": 11,
        "start_time": "2022-04-13T14:08:02.740Z"
      },
      {
        "duration": 6,
        "start_time": "2022-04-13T14:08:02.753Z"
      },
      {
        "duration": 440,
        "start_time": "2022-04-13T14:08:02.760Z"
      },
      {
        "duration": 8,
        "start_time": "2022-04-13T14:08:03.202Z"
      },
      {
        "duration": 37,
        "start_time": "2022-04-13T14:08:03.212Z"
      },
      {
        "duration": 11,
        "start_time": "2022-04-13T14:08:03.251Z"
      },
      {
        "duration": 4,
        "start_time": "2022-04-13T14:08:03.263Z"
      },
      {
        "duration": 6,
        "start_time": "2022-04-13T14:08:03.269Z"
      },
      {
        "duration": 221,
        "start_time": "2022-04-13T14:08:03.276Z"
      },
      {
        "duration": 13,
        "start_time": "2022-04-13T14:08:03.499Z"
      },
      {
        "duration": 21,
        "start_time": "2022-04-13T14:08:03.513Z"
      },
      {
        "duration": 21,
        "start_time": "2022-04-13T14:08:03.535Z"
      },
      {
        "duration": 5,
        "start_time": "2022-04-13T14:08:03.558Z"
      },
      {
        "duration": 28,
        "start_time": "2022-04-13T14:08:03.565Z"
      },
      {
        "duration": 37,
        "start_time": "2022-04-13T14:08:03.595Z"
      },
      {
        "duration": 19,
        "start_time": "2022-04-13T14:08:03.634Z"
      },
      {
        "duration": 18,
        "start_time": "2022-04-13T14:08:03.656Z"
      },
      {
        "duration": 49,
        "start_time": "2022-04-13T14:08:03.676Z"
      },
      {
        "duration": 16,
        "start_time": "2022-04-13T14:08:03.726Z"
      },
      {
        "duration": 18,
        "start_time": "2022-04-13T14:08:03.744Z"
      },
      {
        "duration": 22,
        "start_time": "2022-04-13T14:08:03.763Z"
      },
      {
        "duration": 577,
        "start_time": "2022-04-13T14:08:03.787Z"
      },
      {
        "duration": 537,
        "start_time": "2022-04-13T14:08:04.366Z"
      },
      {
        "duration": 21,
        "start_time": "2022-04-13T14:08:04.905Z"
      },
      {
        "duration": 358,
        "start_time": "2022-04-13T14:08:04.928Z"
      },
      {
        "duration": 184,
        "start_time": "2022-04-13T14:08:05.288Z"
      },
      {
        "duration": 177,
        "start_time": "2022-04-13T14:08:05.473Z"
      },
      {
        "duration": 14,
        "start_time": "2022-04-13T14:08:05.651Z"
      },
      {
        "duration": 11,
        "start_time": "2022-04-13T14:08:05.666Z"
      },
      {
        "duration": 167,
        "start_time": "2022-04-13T14:08:05.678Z"
      },
      {
        "duration": 27,
        "start_time": "2022-04-13T14:08:05.846Z"
      },
      {
        "duration": 541,
        "start_time": "2022-04-13T14:08:05.874Z"
      },
      {
        "duration": 29,
        "start_time": "2022-04-13T14:08:06.423Z"
      },
      {
        "duration": 14,
        "start_time": "2022-04-13T14:08:06.454Z"
      },
      {
        "duration": 195,
        "start_time": "2022-04-13T14:08:06.470Z"
      },
      {
        "duration": 14,
        "start_time": "2022-04-13T14:08:06.667Z"
      },
      {
        "duration": 10,
        "start_time": "2022-04-13T14:08:06.682Z"
      },
      {
        "duration": 14,
        "start_time": "2022-04-13T14:08:06.693Z"
      },
      {
        "duration": 14,
        "start_time": "2022-04-13T14:18:31.011Z"
      },
      {
        "duration": 1126,
        "start_time": "2022-04-13T14:21:28.460Z"
      },
      {
        "duration": 35,
        "start_time": "2022-04-13T14:21:29.588Z"
      },
      {
        "duration": 32,
        "start_time": "2022-04-13T14:21:29.625Z"
      },
      {
        "duration": 26,
        "start_time": "2022-04-13T14:21:29.659Z"
      },
      {
        "duration": 13,
        "start_time": "2022-04-13T14:21:29.686Z"
      },
      {
        "duration": 24,
        "start_time": "2022-04-13T14:21:29.700Z"
      },
      {
        "duration": 4,
        "start_time": "2022-04-13T14:21:29.726Z"
      },
      {
        "duration": 6,
        "start_time": "2022-04-13T14:21:29.731Z"
      },
      {
        "duration": 14,
        "start_time": "2022-04-13T14:21:29.739Z"
      },
      {
        "duration": 21,
        "start_time": "2022-04-13T14:21:29.756Z"
      },
      {
        "duration": 54,
        "start_time": "2022-04-13T14:21:29.778Z"
      },
      {
        "duration": 11,
        "start_time": "2022-04-13T14:21:29.834Z"
      },
      {
        "duration": 7,
        "start_time": "2022-04-13T14:21:29.847Z"
      },
      {
        "duration": 438,
        "start_time": "2022-04-13T14:21:29.856Z"
      },
      {
        "duration": 10,
        "start_time": "2022-04-13T14:21:30.296Z"
      },
      {
        "duration": 46,
        "start_time": "2022-04-13T14:21:30.307Z"
      },
      {
        "duration": 13,
        "start_time": "2022-04-13T14:21:30.355Z"
      },
      {
        "duration": 5,
        "start_time": "2022-04-13T14:21:30.370Z"
      },
      {
        "duration": 13,
        "start_time": "2022-04-13T14:21:30.377Z"
      },
      {
        "duration": 219,
        "start_time": "2022-04-13T14:21:30.392Z"
      },
      {
        "duration": 19,
        "start_time": "2022-04-13T14:21:30.613Z"
      },
      {
        "duration": 13,
        "start_time": "2022-04-13T14:21:30.634Z"
      },
      {
        "duration": 24,
        "start_time": "2022-04-13T14:21:30.649Z"
      },
      {
        "duration": 3,
        "start_time": "2022-04-13T14:21:30.675Z"
      },
      {
        "duration": 54,
        "start_time": "2022-04-13T14:21:30.680Z"
      },
      {
        "duration": 24,
        "start_time": "2022-04-13T14:21:30.736Z"
      },
      {
        "duration": 21,
        "start_time": "2022-04-13T14:21:30.762Z"
      },
      {
        "duration": 40,
        "start_time": "2022-04-13T14:21:30.786Z"
      },
      {
        "duration": 23,
        "start_time": "2022-04-13T14:21:30.828Z"
      },
      {
        "duration": 23,
        "start_time": "2022-04-13T14:21:30.852Z"
      },
      {
        "duration": 16,
        "start_time": "2022-04-13T14:21:30.877Z"
      },
      {
        "duration": 42,
        "start_time": "2022-04-13T14:21:30.894Z"
      },
      {
        "duration": 566,
        "start_time": "2022-04-13T14:21:30.938Z"
      },
      {
        "duration": 548,
        "start_time": "2022-04-13T14:21:31.506Z"
      },
      {
        "duration": 10,
        "start_time": "2022-04-13T14:21:32.056Z"
      },
      {
        "duration": 411,
        "start_time": "2022-04-13T14:21:32.067Z"
      },
      {
        "duration": 179,
        "start_time": "2022-04-13T14:21:32.480Z"
      },
      {
        "duration": 180,
        "start_time": "2022-04-13T14:21:32.660Z"
      },
      {
        "duration": 14,
        "start_time": "2022-04-13T14:21:32.842Z"
      },
      {
        "duration": 13,
        "start_time": "2022-04-13T14:21:32.858Z"
      },
      {
        "duration": 10,
        "start_time": "2022-04-13T14:21:32.873Z"
      },
      {
        "duration": 170,
        "start_time": "2022-04-13T14:21:32.884Z"
      },
      {
        "duration": 26,
        "start_time": "2022-04-13T14:21:33.056Z"
      },
      {
        "duration": 824,
        "start_time": "2022-04-13T14:21:33.083Z"
      },
      {
        "duration": 34,
        "start_time": "2022-04-13T14:21:33.909Z"
      },
      {
        "duration": 17,
        "start_time": "2022-04-13T14:21:33.945Z"
      },
      {
        "duration": 207,
        "start_time": "2022-04-13T14:21:33.964Z"
      },
      {
        "duration": 13,
        "start_time": "2022-04-13T14:21:34.172Z"
      },
      {
        "duration": 10,
        "start_time": "2022-04-13T14:21:34.187Z"
      },
      {
        "duration": 26,
        "start_time": "2022-04-13T14:21:34.199Z"
      },
      {
        "duration": 155,
        "start_time": "2022-04-14T12:50:34.020Z"
      }
    ],
    "colab": {
      "collapsed_sections": [],
      "provenance": [],
      "include_colab_link": true
    },
    "kernelspec": {
      "display_name": "Python 3 (ipykernel)",
      "language": "python",
      "name": "python3"
    },
    "language_info": {
      "codemirror_mode": {
        "name": "ipython",
        "version": 3
      },
      "file_extension": ".py",
      "mimetype": "text/x-python",
      "name": "python",
      "nbconvert_exporter": "python",
      "pygments_lexer": "ipython3",
      "version": "3.9.5"
    },
    "toc": {
      "base_numbering": 1,
      "nav_menu": {},
      "number_sections": true,
      "sideBar": true,
      "skip_h1_title": true,
      "title_cell": "Table of Contents",
      "title_sidebar": "Contents",
      "toc_cell": false,
      "toc_position": {},
      "toc_section_display": true,
      "toc_window_display": false
    }
  },
  "nbformat": 4,
  "nbformat_minor": 0
}