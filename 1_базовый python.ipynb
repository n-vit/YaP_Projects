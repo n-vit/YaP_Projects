{
  "cells": [
    {
      "cell_type": "markdown",
      "metadata": {
        "id": "view-in-github",
        "colab_type": "text"
      },
      "source": [
        "<a href=\"https://colab.research.google.com/github/n-vit/YaP_Projects/blob/main/%D0%B1%D0%B0%D0%B7%D0%BE%D0%B2%D1%8B%D0%B9%20python.ipynb\" target=\"_parent\"><img src=\"https://colab.research.google.com/assets/colab-badge.svg\" alt=\"Open In Colab\"/></a>"
      ]
    },
    {
      "cell_type": "markdown",
      "metadata": {
        "id": "E0vqbgi9ay0H"
      },
      "source": [
        "# Яндекс.Музыка (базовый Python)"
      ]
    },
    {
      "cell_type": "markdown",
      "metadata": {
        "id": "VUC88oWjTJw2"
      },
      "source": [
        "Сравнение Москвы и Петербурга окружено мифами. Например:\n",
        " * Москва — мегаполис, подчинённый жёсткому ритму рабочей недели;\n",
        " * Петербург — культурная столица, со своими вкусами.\n",
        "\n",
        "На данных Яндекс.Музыки нужно сравнить поведение пользователей двух столиц.\n",
        "\n",
        "**Цель исследования** — проверить три гипотезы:\n",
        "1. Активность пользователей зависит от дня недели. Причём в Москве и Петербурге это проявляется по-разному.\n",
        "2. В понедельник утром в Москве преобладают одни жанры, а в Петербурге — другие. Так же и вечером пятницы преобладают разные жанры — в зависимости от города. \n",
        "3. Москва и Петербург предпочитают разные жанры музыки. В Москве чаще слушают поп-музыку, в Петербурге — русский рэп.\n",
        "\n",
        "**Ход исследования**\n",
        "\n",
        "Данные о поведении пользователей содержатся в файле `yandex_music_project.csv`. О качестве данных ничего не известно. Поэтому перед проверкой гипотез понадобится обзор данных. \n",
        "\n",
        "Нужно проверить данные на ошибки и оценить их влияние на исследование. Затем, на этапе предобработки найти возможность исправить самые критичные ошибки данных.\n",
        " \n",
        "Таким образом, исследование пройдёт в три этапа:\n",
        " 1. Обзор данных.\n",
        " 2. Предобработка данных.\n",
        " 3. Проверка гипотез.\n",
        "\n"
      ]
    },
    {
      "cell_type": "markdown",
      "metadata": {
        "id": "Ml1hmfXC_Zcs"
      },
      "source": [
        "## Обзор данных\n",
        "\n",
        "Составляем первое представление о данных Яндекс.Музыки.\n",
        "\n",
        "\n"
      ]
    },
    {
      "cell_type": "markdown",
      "metadata": {
        "id": "57eAOGIz_Zcs"
      },
      "source": [
        "Основной инструмент аналитика — `pandas`. Импортируем библиотеку."
      ]
    },
    {
      "cell_type": "code",
      "execution_count": null,
      "metadata": {
        "id": "AXN7PHPN_Zcs"
      },
      "outputs": [],
      "source": [
        "# импорт библиотеки pandas\n",
        "import pandas as pd"
      ]
    },
    {
      "cell_type": "code",
      "execution_count": null,
      "metadata": {
        "id": "fFVu7vqh_Zct"
      },
      "outputs": [],
      "source": [
        "# чтение файла с данными и сохранение в df\n",
        "df = pd.read_csv('/datasets/yandex_music_project.csv')"
      ]
    },
    {
      "cell_type": "markdown",
      "metadata": {
        "id": "rDoOMd3uTqnZ"
      },
      "source": [
        "Посмотрим на первые десять строк таблицы:"
      ]
    },
    {
      "cell_type": "code",
      "execution_count": null,
      "metadata": {
        "id": "oWTVX3gW_Zct",
        "outputId": "430f9d1e-f09c-48e8-fb12-52480727940c"
      },
      "outputs": [
        {
          "data": {
            "text/html": [
              "<div>\n",
              "<style scoped>\n",
              "    .dataframe tbody tr th:only-of-type {\n",
              "        vertical-align: middle;\n",
              "    }\n",
              "\n",
              "    .dataframe tbody tr th {\n",
              "        vertical-align: top;\n",
              "    }\n",
              "\n",
              "    .dataframe thead th {\n",
              "        text-align: right;\n",
              "    }\n",
              "</style>\n",
              "<table border=\"1\" class=\"dataframe\">\n",
              "  <thead>\n",
              "    <tr style=\"text-align: right;\">\n",
              "      <th></th>\n",
              "      <th>userID</th>\n",
              "      <th>Track</th>\n",
              "      <th>artist</th>\n",
              "      <th>genre</th>\n",
              "      <th>City</th>\n",
              "      <th>time</th>\n",
              "      <th>Day</th>\n",
              "    </tr>\n",
              "  </thead>\n",
              "  <tbody>\n",
              "    <tr>\n",
              "      <td>0</td>\n",
              "      <td>FFB692EC</td>\n",
              "      <td>Kamigata To Boots</td>\n",
              "      <td>The Mass Missile</td>\n",
              "      <td>rock</td>\n",
              "      <td>Saint-Petersburg</td>\n",
              "      <td>20:28:33</td>\n",
              "      <td>Wednesday</td>\n",
              "    </tr>\n",
              "    <tr>\n",
              "      <td>1</td>\n",
              "      <td>55204538</td>\n",
              "      <td>Delayed Because of Accident</td>\n",
              "      <td>Andreas Rönnberg</td>\n",
              "      <td>rock</td>\n",
              "      <td>Moscow</td>\n",
              "      <td>14:07:09</td>\n",
              "      <td>Friday</td>\n",
              "    </tr>\n",
              "    <tr>\n",
              "      <td>2</td>\n",
              "      <td>20EC38</td>\n",
              "      <td>Funiculì funiculà</td>\n",
              "      <td>Mario Lanza</td>\n",
              "      <td>pop</td>\n",
              "      <td>Saint-Petersburg</td>\n",
              "      <td>20:58:07</td>\n",
              "      <td>Wednesday</td>\n",
              "    </tr>\n",
              "    <tr>\n",
              "      <td>3</td>\n",
              "      <td>A3DD03C9</td>\n",
              "      <td>Dragons in the Sunset</td>\n",
              "      <td>Fire + Ice</td>\n",
              "      <td>folk</td>\n",
              "      <td>Saint-Petersburg</td>\n",
              "      <td>08:37:09</td>\n",
              "      <td>Monday</td>\n",
              "    </tr>\n",
              "    <tr>\n",
              "      <td>4</td>\n",
              "      <td>E2DC1FAE</td>\n",
              "      <td>Soul People</td>\n",
              "      <td>Space Echo</td>\n",
              "      <td>dance</td>\n",
              "      <td>Moscow</td>\n",
              "      <td>08:34:34</td>\n",
              "      <td>Monday</td>\n",
              "    </tr>\n",
              "    <tr>\n",
              "      <td>5</td>\n",
              "      <td>842029A1</td>\n",
              "      <td>Преданная</td>\n",
              "      <td>IMPERVTOR</td>\n",
              "      <td>rusrap</td>\n",
              "      <td>Saint-Petersburg</td>\n",
              "      <td>13:09:41</td>\n",
              "      <td>Friday</td>\n",
              "    </tr>\n",
              "    <tr>\n",
              "      <td>6</td>\n",
              "      <td>4CB90AA5</td>\n",
              "      <td>True</td>\n",
              "      <td>Roman Messer</td>\n",
              "      <td>dance</td>\n",
              "      <td>Moscow</td>\n",
              "      <td>13:00:07</td>\n",
              "      <td>Wednesday</td>\n",
              "    </tr>\n",
              "    <tr>\n",
              "      <td>7</td>\n",
              "      <td>F03E1C1F</td>\n",
              "      <td>Feeling This Way</td>\n",
              "      <td>Polina Griffith</td>\n",
              "      <td>dance</td>\n",
              "      <td>Moscow</td>\n",
              "      <td>20:47:49</td>\n",
              "      <td>Wednesday</td>\n",
              "    </tr>\n",
              "    <tr>\n",
              "      <td>8</td>\n",
              "      <td>8FA1D3BE</td>\n",
              "      <td>И вновь продолжается бой</td>\n",
              "      <td>NaN</td>\n",
              "      <td>ruspop</td>\n",
              "      <td>Moscow</td>\n",
              "      <td>09:17:40</td>\n",
              "      <td>Friday</td>\n",
              "    </tr>\n",
              "    <tr>\n",
              "      <td>9</td>\n",
              "      <td>E772D5C0</td>\n",
              "      <td>Pessimist</td>\n",
              "      <td>NaN</td>\n",
              "      <td>dance</td>\n",
              "      <td>Saint-Petersburg</td>\n",
              "      <td>21:20:49</td>\n",
              "      <td>Wednesday</td>\n",
              "    </tr>\n",
              "  </tbody>\n",
              "</table>\n",
              "</div>"
            ],
            "text/plain": [
              "     userID                        Track            artist   genre  \\\n",
              "0  FFB692EC            Kamigata To Boots  The Mass Missile    rock   \n",
              "1  55204538  Delayed Because of Accident  Andreas Rönnberg    rock   \n",
              "2    20EC38            Funiculì funiculà       Mario Lanza     pop   \n",
              "3  A3DD03C9        Dragons in the Sunset        Fire + Ice    folk   \n",
              "4  E2DC1FAE                  Soul People        Space Echo   dance   \n",
              "5  842029A1                    Преданная         IMPERVTOR  rusrap   \n",
              "6  4CB90AA5                         True      Roman Messer   dance   \n",
              "7  F03E1C1F             Feeling This Way   Polina Griffith   dance   \n",
              "8  8FA1D3BE     И вновь продолжается бой               NaN  ruspop   \n",
              "9  E772D5C0                    Pessimist               NaN   dance   \n",
              "\n",
              "             City        time        Day  \n",
              "0  Saint-Petersburg  20:28:33  Wednesday  \n",
              "1            Moscow  14:07:09     Friday  \n",
              "2  Saint-Petersburg  20:58:07  Wednesday  \n",
              "3  Saint-Petersburg  08:37:09     Monday  \n",
              "4            Moscow  08:34:34     Monday  \n",
              "5  Saint-Petersburg  13:09:41     Friday  \n",
              "6            Moscow  13:00:07  Wednesday  \n",
              "7            Moscow  20:47:49  Wednesday  \n",
              "8            Moscow  09:17:40     Friday  \n",
              "9  Saint-Petersburg  21:20:49  Wednesday  "
            ]
          },
          "execution_count": 3,
          "metadata": {},
          "output_type": "execute_result"
        }
      ],
      "source": [
        "# получение первых 10 строк таблицы df\n",
        "df.head(10)"
      ]
    },
    {
      "cell_type": "markdown",
      "metadata": {
        "id": "EO73Kwic_Zct"
      },
      "source": [
        "Теперь на общую информацию о таблице:"
      ]
    },
    {
      "cell_type": "code",
      "execution_count": null,
      "metadata": {
        "id": "DSf2kIb-_Zct",
        "outputId": "67236873-77e7-402f-b721-50998af58262"
      },
      "outputs": [
        {
          "name": "stdout",
          "output_type": "stream",
          "text": [
            "<class 'pandas.core.frame.DataFrame'>\n",
            "RangeIndex: 65079 entries, 0 to 65078\n",
            "Data columns (total 7 columns):\n",
            "  userID    65079 non-null object\n",
            "Track       63848 non-null object\n",
            "artist      57876 non-null object\n",
            "genre       63881 non-null object\n",
            "  City      65079 non-null object\n",
            "time        65079 non-null object\n",
            "Day         65079 non-null object\n",
            "dtypes: object(7)\n",
            "memory usage: 3.5+ MB\n"
          ]
        }
      ],
      "source": [
        "# получение общей информации о данных в таблице df\n",
        "df.info()"
      ]
    },
    {
      "cell_type": "markdown",
      "metadata": {
        "id": "TaQ2Iwbr_Zct"
      },
      "source": [
        "Итак, в таблице семь столбцов. Тип данных во всех столбцах — `object`.\n",
        "\n",
        "Согласно документации к данным:\n",
        "* `userID` — идентификатор пользователя;\n",
        "* `Track` — название трека;  \n",
        "* `artist` — имя исполнителя;\n",
        "* `genre` — название жанра;\n",
        "* `City` — город пользователя;\n",
        "* `time` — время начала прослушивания;\n",
        "* `Day` — день недели.\n",
        "\n",
        "В названиях колонок видны три нарушения стиля:\n",
        "1. Строчные буквы сочетаются с прописными.\n",
        "2. Встречаются пробелы.\n",
        "3. Не соблюдается змеиный стиль записи (userID).\n",
        "4. Использованы лишние пробелы в заголовках.\n",
        "\n",
        "\n",
        "Количество значений в столбцах различается. Значит, в данных есть пропущенные значения.\n"
      ]
    },
    {
      "cell_type": "markdown",
      "metadata": {
        "id": "MCB6-dXG_Zct"
      },
      "source": [
        "**Выводы**\n",
        "\n",
        "В каждой строке таблицы — данные о прослушанном треке. Часть колонок описывает саму композицию: название, исполнителя и жанр. Остальные данные рассказывают о пользователе: из какого он города, когда он слушал музыку. \n",
        "\n",
        "Предварительно можно утверждать, что, данных достаточно для проверки гипотез. Но встречаются пропуски в данных, а в названиях колонок — расхождения с хорошим стилем.\n",
        "\n",
        "Чтобы двигаться дальше, нужно устранить проблемы в данных."
      ]
    },
    {
      "cell_type": "markdown",
      "metadata": {
        "id": "SjYF6Ub9_Zct"
      },
      "source": [
        "## Предобработка данных\n",
        "Исправляем стиль в заголовках столбцов, убираем пропуски. Затем проверяем данные на дубликаты."
      ]
    },
    {
      "cell_type": "markdown",
      "metadata": {
        "id": "dIaKXr29_Zct"
      },
      "source": [
        "### Стиль заголовков\n",
        "Названия столбцов:"
      ]
    },
    {
      "cell_type": "code",
      "execution_count": null,
      "metadata": {
        "id": "oKOTdF_Q_Zct",
        "outputId": "413750c5-d907-460f-c233-dd3ee850b2b8"
      },
      "outputs": [
        {
          "data": {
            "text/plain": [
              "Index(['  userID', 'Track', 'artist', 'genre', '  City  ', 'time', 'Day'], dtype='object')"
            ]
          },
          "execution_count": 5,
          "metadata": {},
          "output_type": "execute_result"
        }
      ],
      "source": [
        "# перечень названий столбцов таблицы df\n",
        "df.columns"
      ]
    },
    {
      "cell_type": "markdown",
      "metadata": {
        "id": "zj5534cv_Zct"
      },
      "source": [
        "Приведем названия в соответствие с хорошим стилем:\n",
        "* несколько слов в названии запишем в «змеином_регистре»,\n",
        "* все символы сделаем строчными,\n",
        "* устраним пробелы.\n",
        "\n",
        "Для этого переименуем колонки так:\n",
        "* `'  userID'` → `'user_id'`;\n",
        "* `'Track'` → `'track'`;\n",
        "* `'  City  '` → `'city'`;\n",
        "* `'Day'` → `'day'`."
      ]
    },
    {
      "cell_type": "code",
      "execution_count": null,
      "metadata": {
        "id": "ISlFqs5y_Zct"
      },
      "outputs": [],
      "source": [
        "# переименование столбцов\n",
        "df = df.rename(\n",
        " columns={\n",
        "'  userID': 'user_id',\n",
        "'Track': 'track',\n",
        "'  City  ': 'city',\n",
        "'Day': 'day',\n",
        " }\n",
        ")\n"
      ]
    },
    {
      "cell_type": "markdown",
      "metadata": {
        "id": "1dqbh00J_Zct"
      },
      "source": [
        "Посмотрим что получилось:"
      ]
    },
    {
      "cell_type": "code",
      "execution_count": null,
      "metadata": {
        "id": "d4NOAmTW_Zct",
        "outputId": "5b49c758-2c8d-4b43-b1d0-2a2e57e60efc"
      },
      "outputs": [
        {
          "data": {
            "text/plain": [
              "Index(['user_id', 'track', 'artist', 'genre', 'city', 'time', 'day'], dtype='object')"
            ]
          },
          "execution_count": 7,
          "metadata": {},
          "output_type": "execute_result"
        }
      ],
      "source": [
        "# проверка результатов - перечень названий столбцов\n",
        "df.columns"
      ]
    },
    {
      "cell_type": "markdown",
      "metadata": {
        "id": "5ISfbcfY_Zct"
      },
      "source": [
        "### Пропуски значений\n",
        "Сначала посчитаем, сколько в таблице пропущенных значений. Для этого достаточно двух методов `pandas`:"
      ]
    },
    {
      "cell_type": "code",
      "execution_count": null,
      "metadata": {
        "id": "RskX29qr_Zct",
        "outputId": "92aaa0b7-7d32-403c-c3b4-7b1918f6d51c"
      },
      "outputs": [
        {
          "data": {
            "text/plain": [
              "user_id       0\n",
              "track      1231\n",
              "artist     7203\n",
              "genre      1198\n",
              "city          0\n",
              "time          0\n",
              "day           0\n",
              "dtype: int64"
            ]
          },
          "execution_count": 8,
          "metadata": {},
          "output_type": "execute_result"
        }
      ],
      "source": [
        "# подсчёт пропусков\n",
        "df.isna().sum()"
      ]
    },
    {
      "cell_type": "markdown",
      "metadata": {
        "id": "qubhgnlO_Zct"
      },
      "source": [
        "Не все пропущенные значения влияют на исследование. Так в `track` и `artist` пропуски не важны для нашей работы. Достаточно заменить их явными обозначениями.\n",
        "\n",
        "Но пропуски в `genre` могут помешать сравнению музыкальных вкусов в Москве и Санкт-Петербурге. На практике было бы правильно установить причину пропусков и восстановить данные. Такой возможности нет в учебном проекте. Придётся:\n",
        "* заполнить и эти пропуски явными обозначениями,\n",
        "* оценить, насколько они повредят расчётам. "
      ]
    },
    {
      "cell_type": "markdown",
      "metadata": {
        "id": "fSv2laPA_Zct"
      },
      "source": [
        "Заменим пропущенные значения в столбцах `track`, `artist` и `genre` на строку `'unknown'`. Для этого создадим список `columns_to_replace`, переберем его элементы циклом `for` и для каждого столбца выполним замену пропущенных значений:"
      ]
    },
    {
      "cell_type": "code",
      "execution_count": null,
      "metadata": {
        "id": "KplB5qWs_Zct"
      },
      "outputs": [],
      "source": [
        "# перебор названий столбцов в цикле и замена пропущенных значений на 'unknown'\n",
        "columns_to_replace = ['track', 'artist', 'genre']\n",
        "for column in columns_to_replace:\n",
        "    df[column] = df[column].fillna('unknown')\n"
      ]
    },
    {
      "cell_type": "markdown",
      "metadata": {
        "id": "Ilsm-MZo_Zct"
      },
      "source": [
        "Убедимся что с пропусками покончено."
      ]
    },
    {
      "cell_type": "code",
      "execution_count": null,
      "metadata": {
        "id": "Tq4nYRX4_Zct",
        "outputId": "cbe88bd7-0f4a-4009-c5be-dc7ce070d309"
      },
      "outputs": [
        {
          "data": {
            "text/plain": [
              "user_id    0\n",
              "track      0\n",
              "artist     0\n",
              "genre      0\n",
              "city       0\n",
              "time       0\n",
              "day        0\n",
              "dtype: int64"
            ]
          },
          "execution_count": 10,
          "metadata": {},
          "output_type": "execute_result"
        }
      ],
      "source": [
        "# подсчёт пропусков\n",
        "df.isna().sum()"
      ]
    },
    {
      "cell_type": "markdown",
      "metadata": {
        "id": "BWKRtBJ3_Zct"
      },
      "source": [
        "### Дубликаты\n",
        "Посчитаем явные дубликаты в таблице одной командой:"
      ]
    },
    {
      "cell_type": "code",
      "execution_count": null,
      "metadata": {
        "id": "36eES_S0_Zct",
        "outputId": "78e48fe1-c74d-41d2-970e-970da4091d94"
      },
      "outputs": [
        {
          "data": {
            "text/plain": [
              "3826"
            ]
          },
          "execution_count": 11,
          "metadata": {},
          "output_type": "execute_result"
        }
      ],
      "source": [
        "# подсчёт явных дубликатов\n",
        "df.duplicated().sum()"
      ]
    },
    {
      "cell_type": "code",
      "execution_count": null,
      "metadata": {
        "id": "exFHq6tt_Zct"
      },
      "outputs": [],
      "source": [
        "# удаление явных дубликатов (с удалением старых индексов и формированием новых)\n",
        "df = df.drop_duplicates().reset_index(drop=True)\n",
        "\n"
      ]
    },
    {
      "cell_type": "markdown",
      "metadata": {
        "id": "Im2YwBEG_Zct"
      },
      "source": [
        "Посмотрим осталось ли что-нибудь:"
      ]
    },
    {
      "cell_type": "code",
      "execution_count": null,
      "metadata": {
        "id": "-8PuNWQ0_Zct",
        "outputId": "045599d9-a541-47a6-ef1d-81d7cecc0b6a"
      },
      "outputs": [
        {
          "data": {
            "text/plain": [
              "0"
            ]
          },
          "execution_count": 13,
          "metadata": {},
          "output_type": "execute_result"
        }
      ],
      "source": [
        "# проверка на отсутствие дубликатов\n",
        "df.duplicated().sum()"
      ]
    },
    {
      "cell_type": "markdown",
      "metadata": {
        "id": "QlFBsxAr_Zct"
      },
      "source": [
        "Теперь избавимся от неявных дубликатов в колонке `genre`. Например, название одного и того же жанра может быть записано немного по-разному. Такие ошибки тоже повлияют на результат исследования."
      ]
    },
    {
      "cell_type": "markdown",
      "metadata": {
        "id": "eSjWwsOh_Zct"
      },
      "source": [
        "Выведем на экран список уникальных названий жанров, отсортированный в алфавитном порядке. Для этого:\n",
        "* возьмем нужный столбец датафрейма, \n",
        "* применим к нему метод сортировки,\n",
        "* для отсортированного столбца вызовем метод, который вернёт уникальные значения из столбца."
      ]
    },
    {
      "cell_type": "code",
      "execution_count": null,
      "metadata": {
        "id": "JIUcqzZN_Zct",
        "outputId": "ac657de6-0eed-439f-fd3e-32fec075a4c0"
      },
      "outputs": [
        {
          "data": {
            "text/plain": [
              "array(['acid', 'acoustic', 'action', 'adult', 'africa', 'afrikaans',\n",
              "       'alternative', 'alternativepunk', 'ambient', 'americana',\n",
              "       'animated', 'anime', 'arabesk', 'arabic', 'arena',\n",
              "       'argentinetango', 'art', 'audiobook', 'author', 'avantgarde',\n",
              "       'axé', 'baile', 'balkan', 'beats', 'bigroom', 'black', 'bluegrass',\n",
              "       'blues', 'bollywood', 'bossa', 'brazilian', 'breakbeat', 'breaks',\n",
              "       'broadway', 'cantautori', 'cantopop', 'canzone', 'caribbean',\n",
              "       'caucasian', 'celtic', 'chamber', 'chanson', 'children', 'chill',\n",
              "       'chinese', 'choral', 'christian', 'christmas', 'classical',\n",
              "       'classicmetal', 'club', 'colombian', 'comedy', 'conjazz',\n",
              "       'contemporary', 'country', 'cuban', 'dance', 'dancehall',\n",
              "       'dancepop', 'dark', 'death', 'deep', 'deutschrock', 'deutschspr',\n",
              "       'dirty', 'disco', 'dnb', 'documentary', 'downbeat', 'downtempo',\n",
              "       'drum', 'dub', 'dubstep', 'eastern', 'easy', 'electronic',\n",
              "       'electropop', 'emo', 'entehno', 'epicmetal', 'estrada', 'ethnic',\n",
              "       'eurofolk', 'european', 'experimental', 'extrememetal', 'fado',\n",
              "       'fairytail', 'film', 'fitness', 'flamenco', 'folk', 'folklore',\n",
              "       'folkmetal', 'folkrock', 'folktronica', 'forró', 'frankreich',\n",
              "       'französisch', 'french', 'funk', 'future', 'gangsta', 'garage',\n",
              "       'german', 'ghazal', 'gitarre', 'glitch', 'gospel', 'gothic',\n",
              "       'grime', 'grunge', 'gypsy', 'handsup', \"hard'n'heavy\", 'hardcore',\n",
              "       'hardstyle', 'hardtechno', 'hip', 'hip-hop', 'hiphop',\n",
              "       'historisch', 'holiday', 'hop', 'horror', 'house', 'hymn', 'idm',\n",
              "       'independent', 'indian', 'indie', 'indipop', 'industrial',\n",
              "       'inspirational', 'instrumental', 'international', 'irish', 'jam',\n",
              "       'japanese', 'jazz', 'jewish', 'jpop', 'jungle', 'k-pop',\n",
              "       'karadeniz', 'karaoke', 'kayokyoku', 'korean', 'laiko', 'latin',\n",
              "       'latino', 'leftfield', 'local', 'lounge', 'loungeelectronic',\n",
              "       'lovers', 'malaysian', 'mandopop', 'marschmusik', 'meditative',\n",
              "       'mediterranean', 'melodic', 'metal', 'metalcore', 'mexican',\n",
              "       'middle', 'minimal', 'miscellaneous', 'modern', 'mood', 'mpb',\n",
              "       'muslim', 'native', 'neoklassik', 'neue', 'new', 'newage',\n",
              "       'newwave', 'nu', 'nujazz', 'numetal', 'oceania', 'old', 'opera',\n",
              "       'orchestral', 'other', 'piano', 'podcasts', 'pop', 'popdance',\n",
              "       'popelectronic', 'popeurodance', 'poprussian', 'post',\n",
              "       'posthardcore', 'postrock', 'power', 'progmetal', 'progressive',\n",
              "       'psychedelic', 'punjabi', 'punk', 'quebecois', 'ragga', 'ram',\n",
              "       'rancheras', 'rap', 'rave', 'reggae', 'reggaeton', 'regional',\n",
              "       'relax', 'religious', 'retro', 'rhythm', 'rnb', 'rnr', 'rock',\n",
              "       'rockabilly', 'rockalternative', 'rockindie', 'rockother',\n",
              "       'romance', 'roots', 'ruspop', 'rusrap', 'rusrock', 'russian',\n",
              "       'salsa', 'samba', 'scenic', 'schlager', 'self', 'sertanejo',\n",
              "       'shanson', 'shoegazing', 'showtunes', 'singer', 'ska', 'skarock',\n",
              "       'slow', 'smooth', 'soft', 'soul', 'soulful', 'sound', 'soundtrack',\n",
              "       'southern', 'specialty', 'speech', 'spiritual', 'sport',\n",
              "       'stonerrock', 'surf', 'swing', 'synthpop', 'synthrock',\n",
              "       'sängerportrait', 'tango', 'tanzorchester', 'taraftar', 'tatar',\n",
              "       'tech', 'techno', 'teen', 'thrash', 'top', 'traditional',\n",
              "       'tradjazz', 'trance', 'tribal', 'trip', 'triphop', 'tropical',\n",
              "       'türk', 'türkçe', 'ukrrock', 'unknown', 'urban', 'uzbek',\n",
              "       'variété', 'vi', 'videogame', 'vocal', 'western', 'world',\n",
              "       'worldbeat', 'ïîï', 'электроника'], dtype=object)"
            ]
          },
          "metadata": {},
          "output_type": "display_data"
        }
      ],
      "source": [
        "# Просмотр уникальных названий жанров\n",
        "unique_genres = df['genre'].sort_values().unique()\n",
        "display(unique_genres)\n",
        "\n",
        "\n",
        "\n"
      ]
    },
    {
      "cell_type": "markdown",
      "metadata": {
        "id": "qej-Qmuo_Zct"
      },
      "source": [
        "В списке есть неявные дубликаты названия `hiphop`. Это названия с ошибками или альтернативные названия того же жанра.\n",
        "\n",
        "Например:\n",
        "* *hip*,\n",
        "* *hop*,\n",
        "* *hip-hop*.\n",
        "\n",
        "Чтобы очистить от них таблицу, напишем функцию `replace_wrong_genres()` с двумя параметрами: \n",
        "* `wrong_genres` — список дубликатов,\n",
        "* `correct_genre` — строка с правильным значением.\n",
        "\n",
        "Функция должна исправить колонку `genre` в таблице `df`: заменить каждое значение из списка `wrong_genres` на значение из `correct_genre`."
      ]
    },
    {
      "cell_type": "code",
      "execution_count": null,
      "metadata": {
        "id": "ErNDkmns_Zct"
      },
      "outputs": [],
      "source": [
        "# Функция для замены неявных дубликатов\n",
        "def replace_wrong_genres(wrong_genres,correct_genre):\n",
        "    for wrong_genre in wrong_genres:\n",
        "        df['genre'] = df['genre'].replace(wrong_genres, correct_genre) "
      ]
    },
    {
      "cell_type": "markdown",
      "metadata": {
        "id": "aDoBJxbA_Zct"
      },
      "source": [
        "Вызовем `replace_wrong_genres()` и передадим ей такие аргументы, чтобы она устранила неявные дубликаты: вместо `hip`, `hop` и `hip-hop` в таблице должно быть значение `hiphop`:"
      ]
    },
    {
      "cell_type": "code",
      "execution_count": null,
      "metadata": {
        "id": "YN5i2hpmSo09"
      },
      "outputs": [],
      "source": [
        "# Устранение неявных дубликатов\n",
        "wrong_genres = ['hip', 'hop', 'hip-hop']\n",
        "correct_genre = 'hiphop'       \n",
        "\n",
        "replace_wrong_genres(wrong_genres,correct_genre) \n"
      ]
    },
    {
      "cell_type": "markdown",
      "metadata": {
        "id": "zQKF16_RG15m"
      },
      "source": [
        "Проверим что все сработало:"
      ]
    },
    {
      "cell_type": "code",
      "execution_count": null,
      "metadata": {
        "id": "wvixALnFG15m",
        "outputId": "e1ff5ced-d63a-4570-ba99-1debc3f0ed3c"
      },
      "outputs": [
        {
          "data": {
            "text/plain": [
              "array(['acid', 'acoustic', 'action', 'adult', 'africa', 'afrikaans',\n",
              "       'alternative', 'alternativepunk', 'ambient', 'americana',\n",
              "       'animated', 'anime', 'arabesk', 'arabic', 'arena',\n",
              "       'argentinetango', 'art', 'audiobook', 'author', 'avantgarde',\n",
              "       'axé', 'baile', 'balkan', 'beats', 'bigroom', 'black', 'bluegrass',\n",
              "       'blues', 'bollywood', 'bossa', 'brazilian', 'breakbeat', 'breaks',\n",
              "       'broadway', 'cantautori', 'cantopop', 'canzone', 'caribbean',\n",
              "       'caucasian', 'celtic', 'chamber', 'chanson', 'children', 'chill',\n",
              "       'chinese', 'choral', 'christian', 'christmas', 'classical',\n",
              "       'classicmetal', 'club', 'colombian', 'comedy', 'conjazz',\n",
              "       'contemporary', 'country', 'cuban', 'dance', 'dancehall',\n",
              "       'dancepop', 'dark', 'death', 'deep', 'deutschrock', 'deutschspr',\n",
              "       'dirty', 'disco', 'dnb', 'documentary', 'downbeat', 'downtempo',\n",
              "       'drum', 'dub', 'dubstep', 'eastern', 'easy', 'electronic',\n",
              "       'electropop', 'emo', 'entehno', 'epicmetal', 'estrada', 'ethnic',\n",
              "       'eurofolk', 'european', 'experimental', 'extrememetal', 'fado',\n",
              "       'fairytail', 'film', 'fitness', 'flamenco', 'folk', 'folklore',\n",
              "       'folkmetal', 'folkrock', 'folktronica', 'forró', 'frankreich',\n",
              "       'französisch', 'french', 'funk', 'future', 'gangsta', 'garage',\n",
              "       'german', 'ghazal', 'gitarre', 'glitch', 'gospel', 'gothic',\n",
              "       'grime', 'grunge', 'gypsy', 'handsup', \"hard'n'heavy\", 'hardcore',\n",
              "       'hardstyle', 'hardtechno', 'hiphop', 'historisch', 'holiday',\n",
              "       'horror', 'house', 'hymn', 'idm', 'independent', 'indian', 'indie',\n",
              "       'indipop', 'industrial', 'inspirational', 'instrumental',\n",
              "       'international', 'irish', 'jam', 'japanese', 'jazz', 'jewish',\n",
              "       'jpop', 'jungle', 'k-pop', 'karadeniz', 'karaoke', 'kayokyoku',\n",
              "       'korean', 'laiko', 'latin', 'latino', 'leftfield', 'local',\n",
              "       'lounge', 'loungeelectronic', 'lovers', 'malaysian', 'mandopop',\n",
              "       'marschmusik', 'meditative', 'mediterranean', 'melodic', 'metal',\n",
              "       'metalcore', 'mexican', 'middle', 'minimal', 'miscellaneous',\n",
              "       'modern', 'mood', 'mpb', 'muslim', 'native', 'neoklassik', 'neue',\n",
              "       'new', 'newage', 'newwave', 'nu', 'nujazz', 'numetal', 'oceania',\n",
              "       'old', 'opera', 'orchestral', 'other', 'piano', 'podcasts', 'pop',\n",
              "       'popdance', 'popelectronic', 'popeurodance', 'poprussian', 'post',\n",
              "       'posthardcore', 'postrock', 'power', 'progmetal', 'progressive',\n",
              "       'psychedelic', 'punjabi', 'punk', 'quebecois', 'ragga', 'ram',\n",
              "       'rancheras', 'rap', 'rave', 'reggae', 'reggaeton', 'regional',\n",
              "       'relax', 'religious', 'retro', 'rhythm', 'rnb', 'rnr', 'rock',\n",
              "       'rockabilly', 'rockalternative', 'rockindie', 'rockother',\n",
              "       'romance', 'roots', 'ruspop', 'rusrap', 'rusrock', 'russian',\n",
              "       'salsa', 'samba', 'scenic', 'schlager', 'self', 'sertanejo',\n",
              "       'shanson', 'shoegazing', 'showtunes', 'singer', 'ska', 'skarock',\n",
              "       'slow', 'smooth', 'soft', 'soul', 'soulful', 'sound', 'soundtrack',\n",
              "       'southern', 'specialty', 'speech', 'spiritual', 'sport',\n",
              "       'stonerrock', 'surf', 'swing', 'synthpop', 'synthrock',\n",
              "       'sängerportrait', 'tango', 'tanzorchester', 'taraftar', 'tatar',\n",
              "       'tech', 'techno', 'teen', 'thrash', 'top', 'traditional',\n",
              "       'tradjazz', 'trance', 'tribal', 'trip', 'triphop', 'tropical',\n",
              "       'türk', 'türkçe', 'ukrrock', 'unknown', 'urban', 'uzbek',\n",
              "       'variété', 'vi', 'videogame', 'vocal', 'western', 'world',\n",
              "       'worldbeat', 'ïîï', 'электроника'], dtype=object)"
            ]
          },
          "execution_count": 17,
          "metadata": {},
          "output_type": "execute_result"
        }
      ],
      "source": [
        "df['genre'].sort_values().unique()"
      ]
    },
    {
      "cell_type": "markdown",
      "metadata": {
        "id": "jz6a9-7HQUDd"
      },
      "source": [
        "**Выводы**\n",
        "\n",
        "Предобработка обнаружила три проблемы в данных:\n",
        "\n",
        "- нарушения в стиле заголовков,\n",
        "- пропущенные значения,\n",
        "- дубликаты — явные и неявные.\n",
        "\n",
        "Мы исправили заголовки, чтобы упростить работу с таблицей. Без дубликатов исследование станет более точным.\n",
        "\n",
        "Пропущенные значения мы заменили на `'unknown'`. Ещё предстоит увидеть, не повредят ли исследованию пропуски в колонке `genre`.\n",
        "\n",
        "Теперь можно перейти к проверке гипотез. "
      ]
    },
    {
      "cell_type": "markdown",
      "metadata": {
        "id": "WttZHXH0SqKk"
      },
      "source": [
        "## Проверка гипотез"
      ]
    },
    {
      "cell_type": "markdown",
      "metadata": {
        "id": "Im936VVi_Zcu"
      },
      "source": [
        "### Сравнение поведения пользователей двух столиц"
      ]
    },
    {
      "cell_type": "markdown",
      "metadata": {
        "id": "nwt_MuaL_Zcu"
      },
      "source": [
        "Первая гипотеза утверждает, что пользователи по-разному слушают музыку в Москве и Санкт-Петербурге. Проверим это предположение по данным о трёх днях недели — понедельнике, среде и пятнице. Для этого:\n",
        "\n",
        "* Разделим пользователей Москвы и Санкт-Петербурга\n",
        "* Сравним, сколько треков послушала каждая группа пользователей в понедельник, среду и пятницу.\n"
      ]
    },
    {
      "cell_type": "markdown",
      "metadata": {
        "id": "8Dw_YMmT_Zcu"
      },
      "source": [
        "Для тренировки сначала выполним каждый из расчётов по отдельности. \n",
        "\n",
        "Оценим активность пользователей в каждом городе. Сгруппируем данные по городу и посчитаем прослушивания в каждой группе.\n",
        "\n"
      ]
    },
    {
      "cell_type": "code",
      "execution_count": null,
      "metadata": {
        "id": "0_Qs96oh_Zcu",
        "outputId": "b073a4fd-5889-4b6c-fa3a-35f65c139a6f"
      },
      "outputs": [
        {
          "data": {
            "text/plain": [
              "city\n",
              "Moscow              42741\n",
              "Saint-Petersburg    18512\n",
              "Name: genre, dtype: int64"
            ]
          },
          "execution_count": 18,
          "metadata": {},
          "output_type": "execute_result"
        }
      ],
      "source": [
        "# Подсчёт прослушиваний в каждом городе\n",
        "city_listening_group = df.groupby('city')['genre']\n",
        "city_listening_group.count()"
      ]
    },
    {
      "cell_type": "markdown",
      "metadata": {
        "id": "dzli3w8o_Zcu"
      },
      "source": [
        "В Москве прослушиваний больше, чем в Петербурге. Из этого не следует, что московские пользователи чаще слушают музыку. Просто самих пользователей в Москве больше.\n",
        "\n",
        "Теперь сгруппируем данные по дню недели и подсчитаем прослушивания в понедельник, среду и пятницу. Нужно учитывать, что в данных есть информация только о прослушиваниях только за эти дни.\n"
      ]
    },
    {
      "cell_type": "code",
      "execution_count": null,
      "metadata": {
        "id": "uZMKjiJz_Zcu",
        "outputId": "69303eea-377b-4a9b-f3d0-09a539c7592a"
      },
      "outputs": [
        {
          "data": {
            "text/plain": [
              "day\n",
              "Friday       21840\n",
              "Monday       21354\n",
              "Wednesday    18059\n",
              "Name: genre, dtype: int64"
            ]
          },
          "execution_count": 19,
          "metadata": {},
          "output_type": "execute_result"
        }
      ],
      "source": [
        "day_listening_group = df.groupby('day')['genre']\n",
        "day_listening_group.count()"
      ]
    },
    {
      "cell_type": "markdown",
      "metadata": {
        "id": "cC2tNrlL_Zcu"
      },
      "source": [
        "В среднем пользователи из двух городов менее активны по средам. Но картина может измениться, если рассмотреть каждый город в отдельности."
      ]
    },
    {
      "cell_type": "markdown",
      "metadata": {
        "id": "POzs8bGa_Zcu"
      },
      "source": [
        "Мы увидели, как работает группировка по городу и по дням недели. Теперь напишем функцию, которая объединит два эти расчёта.\n",
        "\n",
        "Создаем функцию `number_tracks()`, которая посчитает прослушивания для заданного дня и города. Ей понадобятся два параметра:\n",
        "* день недели,\n",
        "* название города.\n",
        "\n",
        "В функции сохраним в переменную строки исходной таблицы, у которых значение:\n",
        "  * в колонке `day` равно параметру `day`,\n",
        "  * в колонке `city` равно параметру `city`.\n",
        "\n",
        "Для этого применим последовательную фильтрацию с логической индексацией.\n",
        "\n",
        "Затем посчитаем значения в столбце `user_id` получившейся таблицы. Результат сохраним в новую переменную. Вернем эту переменную из функции."
      ]
    },
    {
      "cell_type": "code",
      "execution_count": null,
      "metadata": {
        "id": "Nz3GdQB1_Zcu"
      },
      "outputs": [],
      "source": [
        "def number_tracks(day, city):\n",
        "    track_list = df[(df['day'] == day) & (df['city'] == city)]\n",
        "    track_list_count = track_list['user_id'].count()\n",
        "    return track_list_count\n",
        "# <создание функции number_tracks()>\n",
        "# Объявляется функция с двумя параметрами: day, city.\n",
        "# В переменной track_list сохраняются те строки таблицы df, для которых \n",
        "# значение в столбце 'day' равно параметру day и одновременно значение\n",
        "# в столбце 'city' равно параметру city (используйте последовательную фильтрацию\n",
        "# с помощью логической индексации).\n",
        "# В переменной track_list_count сохраняется число значений столбца 'user_id',\n",
        "# рассчитанное методом count() для таблицы track_list.\n",
        "# Функция возвращает число - значение track_list_count.\n",
        "\n",
        "# Функция для подсчёта прослушиваний для конкретного города и дня.\n",
        "# С помощью последовательной фильтрации с логической индексацией она \n",
        "# сначала получит из исходной таблицы строки с нужным днём,\n",
        "# затем из результата отфильтрует строки с нужным городом,\n",
        "# методом count() посчитает количество значений в колонке user_id. \n",
        "# Это количество функция вернёт в качестве результата"
      ]
    },
    {
      "cell_type": "markdown",
      "metadata": {
        "id": "ytf7xFrFJQ2r"
      },
      "source": [
        "Вызовем `number_tracks()` шесть раз, меняя значение параметров — так, чтобы получить данные для каждого города в каждый из трёх дней."
      ]
    },
    {
      "cell_type": "code",
      "execution_count": null,
      "metadata": {
        "id": "rJcRATNQ_Zcu",
        "outputId": "ba33d49f-ee0d-4b9a-dbfb-e2ec7316f702"
      },
      "outputs": [
        {
          "data": {
            "text/plain": [
              "15740"
            ]
          },
          "execution_count": 21,
          "metadata": {},
          "output_type": "execute_result"
        }
      ],
      "source": [
        "# количество прослушиваний в Москве по понедельникам\n",
        "number_tracks('Monday', 'Moscow')"
      ]
    },
    {
      "cell_type": "code",
      "execution_count": null,
      "metadata": {
        "id": "hq_ncZ5T_Zcu",
        "outputId": "20048d00-d037-43e9-8ea7-27dfb1c0a1b3"
      },
      "outputs": [
        {
          "data": {
            "text/plain": [
              "5614"
            ]
          },
          "execution_count": 22,
          "metadata": {},
          "output_type": "execute_result"
        }
      ],
      "source": [
        "# количество прослушиваний в Санкт-Петербурге по понедельникам\n",
        "number_tracks('Monday', 'Saint-Petersburg')"
      ]
    },
    {
      "cell_type": "code",
      "execution_count": null,
      "metadata": {
        "id": "_NTy2VPU_Zcu",
        "outputId": "7353657f-24f0-4fe1-c51d-1c9117b304dc"
      },
      "outputs": [
        {
          "data": {
            "text/plain": [
              "11056"
            ]
          },
          "execution_count": 23,
          "metadata": {},
          "output_type": "execute_result"
        }
      ],
      "source": [
        "# количество прослушиваний в Москве по средам\n",
        "number_tracks('Wednesday', 'Moscow')"
      ]
    },
    {
      "cell_type": "code",
      "execution_count": null,
      "metadata": {
        "id": "j2y3TAwo_Zcu",
        "outputId": "8b468549-421f-4b91-b54a-debc42717bbf"
      },
      "outputs": [
        {
          "data": {
            "text/plain": [
              "7003"
            ]
          },
          "execution_count": 24,
          "metadata": {},
          "output_type": "execute_result"
        }
      ],
      "source": [
        "# количество прослушиваний в Санкт-Петербурге по средам\n",
        "number_tracks('Wednesday', 'Saint-Petersburg')"
      ]
    },
    {
      "cell_type": "code",
      "execution_count": null,
      "metadata": {
        "id": "vYDw5u_K_Zcu",
        "outputId": "36724f37-5d0c-44e8-9701-c5107b8fd687"
      },
      "outputs": [
        {
          "data": {
            "text/plain": [
              "15945"
            ]
          },
          "execution_count": 25,
          "metadata": {},
          "output_type": "execute_result"
        }
      ],
      "source": [
        "# количество прослушиваний в Москве по пятницам\n",
        "number_tracks('Friday', 'Moscow')"
      ]
    },
    {
      "cell_type": "code",
      "execution_count": null,
      "metadata": {
        "id": "8_yzFtW3_Zcu",
        "outputId": "294db058-bf70-4492-9f00-824f82c294dc"
      },
      "outputs": [
        {
          "data": {
            "text/plain": [
              "5895"
            ]
          },
          "execution_count": 26,
          "metadata": {},
          "output_type": "execute_result"
        }
      ],
      "source": [
        "# количество прослушиваний в Санкт-Петербурге по пятницам\n",
        "number_tracks('Friday', 'Saint-Petersburg')"
      ]
    },
    {
      "cell_type": "markdown",
      "metadata": {
        "id": "7QXffbO-_Zcu"
      },
      "source": [
        "Создадим c помощью конструктора `pd.DataFrame` таблицу, где\n",
        "* названия колонок — `['city', 'monday', 'wednesday', 'friday']`;\n",
        "* данные — результаты, которые мы получили с помощью `number_tracks`."
      ]
    },
    {
      "cell_type": "code",
      "execution_count": null,
      "metadata": {
        "id": "APAcLpOr_Zcu",
        "outputId": "bd92adb5-8c1e-4096-f2d3-892a8a29cd27"
      },
      "outputs": [
        {
          "data": {
            "text/html": [
              "<div>\n",
              "<style scoped>\n",
              "    .dataframe tbody tr th:only-of-type {\n",
              "        vertical-align: middle;\n",
              "    }\n",
              "\n",
              "    .dataframe tbody tr th {\n",
              "        vertical-align: top;\n",
              "    }\n",
              "\n",
              "    .dataframe thead th {\n",
              "        text-align: right;\n",
              "    }\n",
              "</style>\n",
              "<table border=\"1\" class=\"dataframe\">\n",
              "  <thead>\n",
              "    <tr style=\"text-align: right;\">\n",
              "      <th></th>\n",
              "      <th>city</th>\n",
              "      <th>monday</th>\n",
              "      <th>wednesday</th>\n",
              "      <th>friday</th>\n",
              "    </tr>\n",
              "  </thead>\n",
              "  <tbody>\n",
              "    <tr>\n",
              "      <td>0</td>\n",
              "      <td>Moscow</td>\n",
              "      <td>15740</td>\n",
              "      <td>11056</td>\n",
              "      <td>15945</td>\n",
              "    </tr>\n",
              "    <tr>\n",
              "      <td>1</td>\n",
              "      <td>Saint-Petersburg</td>\n",
              "      <td>5614</td>\n",
              "      <td>7003</td>\n",
              "      <td>5895</td>\n",
              "    </tr>\n",
              "  </tbody>\n",
              "</table>\n",
              "</div>"
            ],
            "text/plain": [
              "               city  monday  wednesday  friday\n",
              "0            Moscow   15740      11056   15945\n",
              "1  Saint-Petersburg    5614       7003    5895"
            ]
          },
          "metadata": {},
          "output_type": "display_data"
        }
      ],
      "source": [
        "# Таблица с результатами\n",
        "columns = ['city', 'monday', 'wednesday', 'friday']\n",
        "data = [['Moscow', 15740, 11056, 15945],\n",
        "        ['Saint-Petersburg', 5614, 7003, 5895]]\n",
        "df_week_city = pd.DataFrame(data=data, columns=columns) \n",
        "display(df_week_city)\n"
      ]
    },
    {
      "cell_type": "markdown",
      "metadata": {
        "id": "-EgPIHYu_Zcu"
      },
      "source": [
        "**Выводы**\n",
        "\n",
        "Данные показывают разницу поведения пользователей:\n",
        "\n",
        "- В Москве пик прослушиваний приходится на понедельник и пятницу, а в среду заметен спад.\n",
        "- В Петербурге, наоборот, больше слушают музыку по средам. Активность в понедельник и пятницу здесь почти в равной мере уступает среде.\n",
        "\n",
        "Значит, данные говорят в пользу первой гипотезы."
      ]
    },
    {
      "cell_type": "markdown",
      "metadata": {
        "id": "atZAxtq4_Zcu"
      },
      "source": [
        "### Музыка в начале и в конце недели"
      ]
    },
    {
      "cell_type": "markdown",
      "metadata": {
        "id": "eXrQqXFH_Zcu"
      },
      "source": [
        "Согласно второй гипотезе, утром в понедельник в Москве преобладают одни жанры, а в Петербурге — другие. Так же и вечером пятницы преобладают разные жанры — в зависимости от города."
      ]
    },
    {
      "cell_type": "markdown",
      "metadata": {
        "id": "S8UcW6Hw_Zcu"
      },
      "source": [
        "Сохраним таблицы с данными в две переменные:\n",
        "* по Москве — в `moscow_general`;\n",
        "* по Санкт-Петербургу — в `spb_general`."
      ]
    },
    {
      "cell_type": "code",
      "execution_count": null,
      "metadata": {
        "id": "qeaFfM_P_Zcu"
      },
      "outputs": [],
      "source": [
        "# получение таблицы moscow_general из тех строк таблицы df, \n",
        "# для которых значение в столбце 'city' равно 'Moscow'\n",
        "moscow_general = df[df['city'] == 'Moscow']\n"
      ]
    },
    {
      "cell_type": "code",
      "execution_count": null,
      "metadata": {
        "id": "ORaVRKto_Zcu"
      },
      "outputs": [],
      "source": [
        "# получение таблицы spb_general из тех строк таблицы df,\n",
        "# для которых значение в столбце 'city' равно 'Saint-Petersburg'\n",
        "spb_general = df[df['city'] == 'Saint-Petersburg']"
      ]
    },
    {
      "cell_type": "markdown",
      "metadata": {
        "id": "MEJV-CX2_Zcu"
      },
      "source": [
        "Создадим функцию `genre_weekday()` с четырьмя параметрами:\n",
        "* таблица (датафрейм) с данными,\n",
        "* день недели,\n",
        "* начальная временная метка в формате 'hh:mm', \n",
        "* последняя временная метка в формате 'hh:mm'.\n",
        "\n",
        "Функция должна вернуть информацию о топ-10 жанров тех треков, которые прослушивали в указанный день, в промежутке между двумя отметками времени."
      ]
    },
    {
      "cell_type": "code",
      "execution_count": null,
      "metadata": {
        "id": "laJT9BYl_Zcu"
      },
      "outputs": [],
      "source": [
        "# в решении оставил одновременную фильтрацию, мне она кажется легче и понятнее. последовательная \n",
        "                     \n",
        "def genre_weekday(table, day, time1, time2):\n",
        "    genre_df = table[(table['day'] == day) &\n",
        "                     (table['time'] > time1) &\n",
        "                     (table['time'] < time2)]       \n",
        "#    genre_df = table[table['day'] == day] \n",
        "#    genre_df = genre_df[genre_df['time'] > time1]\n",
        "#    genre_df = genre_df[genre_df['time'] < time2]\n",
        "    genre_df_count = genre_df.groupby('genre').count()\n",
        "    genre_df_sorted = genre_df_count['time'].sort_values(ascending=False)\n",
        "    return genre_df_sorted.head(10)\n",
        "\n",
        "                     \n",
        "\n",
        "# Объявление функции genre_weekday() с параметрами table, day, time1, time2,\n",
        "# которая возвращает информацию о самых популярных жанрах в указанный день в\n",
        "# заданное время:\n",
        "# 1) в переменную genre_df сохраняются те строки переданного датафрейма table, для\n",
        "#    которых одновременно:\n",
        "#    - значение в столбце day равно значению аргумента day\n",
        "#    - значение в столбце time больше значения аргумента time1\n",
        "#    - значение в столбце time меньше значения аргумента time2\n",
        "#    Используйте последовательную фильтрацию с помощью логической индексации.\n",
        "# 2) сгруппировать датафрейм genre_df по столбцу genre, взять один из его\n",
        "#    столбцов и посчитать методом count() количество записей для каждого из\n",
        "#    присутствующих жанров, получившийся Series записать в переменную\n",
        "#    genre_df_count\n",
        "# 3) отсортировать genre_df_count по убыванию встречаемости и сохранить\n",
        "#    в переменную genre_df_sorted\n",
        "# 4) вернуть Series из 10 первых значений genre_df_sorted, это будут топ-10\n",
        "#    популярных жанров (в указанный день, в заданное время)"
      ]
    },
    {
      "cell_type": "markdown",
      "metadata": {
        "id": "la2s2_PF_Zcu"
      },
      "source": [
        "Сравним результаты функции `genre_weekday()` для Москвы и Санкт-Петербурга в понедельник утром (с 7:00 до 11:00) и в пятницу вечером (с 17:00 до 23:00):"
      ]
    },
    {
      "cell_type": "code",
      "execution_count": null,
      "metadata": {
        "id": "yz7itPUQ_Zcu",
        "outputId": "47800c8a-e9bd-452e-eb9a-0131df09f330"
      },
      "outputs": [
        {
          "data": {
            "text/plain": [
              "genre\n",
              "pop            781\n",
              "dance          549\n",
              "electronic     480\n",
              "rock           474\n",
              "hiphop         286\n",
              "ruspop         186\n",
              "world          181\n",
              "rusrap         175\n",
              "alternative    164\n",
              "unknown        161\n",
              "Name: time, dtype: int64"
            ]
          },
          "execution_count": 31,
          "metadata": {},
          "output_type": "execute_result"
        }
      ],
      "source": [
        "# вызов функции для утра понедельника в Москве (вместо df — таблица moscow_general)\n",
        "# объекты, хранящие время, являются строками и сравниваются как строки\n",
        "# пример вызова: genre_weekday(moscow_general, 'Monday', '07:00', '11:00')\n",
        "genre_weekday(moscow_general, 'Monday', '07:00', '11:00')"
      ]
    },
    {
      "cell_type": "code",
      "execution_count": null,
      "metadata": {
        "id": "kwUcHPdy_Zcu",
        "outputId": "307a872f-520c-4fcb-edc9-f41cc73b7dfc"
      },
      "outputs": [
        {
          "data": {
            "text/plain": [
              "genre\n",
              "pop            218\n",
              "dance          182\n",
              "rock           162\n",
              "electronic     147\n",
              "hiphop          80\n",
              "ruspop          64\n",
              "alternative     58\n",
              "rusrap          55\n",
              "jazz            44\n",
              "classical       40\n",
              "Name: time, dtype: int64"
            ]
          },
          "execution_count": 32,
          "metadata": {},
          "output_type": "execute_result"
        }
      ],
      "source": [
        "# вызов функции для утра понедельника в Петербурге (вместо df — таблица spb_general)\n",
        "genre_weekday(spb_general, 'Monday', '07:00', '11:00')"
      ]
    },
    {
      "cell_type": "code",
      "execution_count": null,
      "metadata": {
        "id": "EzXVRE1o_Zcu",
        "outputId": "02c1f1e6-2bea-4ed8-baca-ba7965a5f55c"
      },
      "outputs": [
        {
          "data": {
            "text/plain": [
              "genre\n",
              "pop            713\n",
              "rock           517\n",
              "dance          495\n",
              "electronic     482\n",
              "hiphop         273\n",
              "world          208\n",
              "ruspop         170\n",
              "alternative    163\n",
              "classical      163\n",
              "rusrap         142\n",
              "Name: time, dtype: int64"
            ]
          },
          "execution_count": 33,
          "metadata": {},
          "output_type": "execute_result"
        }
      ],
      "source": [
        "# вызов функции для вечера пятницы в Москве\n",
        "genre_weekday(moscow_general, 'Friday', '17:00', '23:00')"
      ]
    },
    {
      "cell_type": "code",
      "execution_count": null,
      "metadata": {
        "id": "JZaEKu5v_Zcu",
        "outputId": "a543a777-9468-4166-c900-ea42f88bfbf2"
      },
      "outputs": [
        {
          "data": {
            "text/plain": [
              "genre\n",
              "pop            256\n",
              "rock           216\n",
              "electronic     216\n",
              "dance          210\n",
              "hiphop          97\n",
              "alternative     63\n",
              "jazz            61\n",
              "classical       60\n",
              "rusrap          59\n",
              "world           54\n",
              "Name: time, dtype: int64"
            ]
          },
          "execution_count": 34,
          "metadata": {},
          "output_type": "execute_result"
        }
      ],
      "source": [
        "# вызов функции для вечера пятницы в Петербурге\n",
        "genre_weekday(spb_general, 'Friday', '17', '23:00')"
      ]
    },
    {
      "cell_type": "code",
      "execution_count": null,
      "metadata": {
        "id": "HIHOBTqHouXb",
        "outputId": "1b58beaa-bab0-4ed9-e8a8-2887e25428b9"
      },
      "outputs": [
        {
          "data": {
            "text/plain": [
              "Series([], Name: time, dtype: int64)"
            ]
          },
          "execution_count": 35,
          "metadata": {},
          "output_type": "execute_result"
        }
      ],
      "source": [
        "# посмотрим на вечер пятницы, все заканчивают работу, вставляют наушники и спешат по домам:\n",
        "genre_weekday(spb_general, 'Friday', '17:00', '18:00')"
      ]
    },
    {
      "cell_type": "code",
      "execution_count": null,
      "metadata": {
        "id": "J1CNt98EouXc",
        "outputId": "26dc17b3-919e-492b-cd4b-27e3a4bec0de"
      },
      "outputs": [
        {
          "data": {
            "text/plain": [
              "genre\n",
              "hiphop     4\n",
              "dance      3\n",
              "pop        2\n",
              "urban      1\n",
              "salsa      1\n",
              "ruspop     1\n",
              "rock       1\n",
              "jazz       1\n",
              "fitness    1\n",
              "dubstep    1\n",
              "Name: time, dtype: int64"
            ]
          },
          "execution_count": 36,
          "metadata": {},
          "output_type": "execute_result"
        }
      ],
      "source": [
        "# и наконец после 22 по закону в СПб нельзя громко слушать музыку. Может ее просто выключают, или меняют жанр на колыбельную?:\n",
        "genre_weekday(spb_general, 'Friday', '22:00', '23:00')"
      ]
    },
    {
      "cell_type": "markdown",
      "metadata": {
        "id": "BlbBQYmWouXc"
      },
      "source": [
        "\n",
        "Если сократить срез времени и убрать из выборки СПБ в пятницу первый и последний часы это почти не влияет на количество прослушанных композиций в ТОП 10 жанрах выборки! \n",
        "\n",
        "Или в Питере вообще не слушают музыку в пятницу в начале часа пик, и выключают звук после с 22-00, или в дата-сете есть ошибки, которые мы не увидели при подготовке. В любом случае предлагать бизнесу аналитические выводы, построенные на этих данных рано.</div>   "
      ]
    },
    {
      "cell_type": "markdown",
      "metadata": {
        "id": "wrCe4MNX_Zcu"
      },
      "source": [
        "**Выводы**\n",
        "\n",
        "Если сравнить топ-10 жанров в понедельник утром, можно сделать такие выводы:\n",
        "\n",
        "1. В Москве и Петербурге слушают похожую музыку. Единственное отличие — в московский рейтинг вошёл жанр “world”, а в петербургский — джаз и классика.\n",
        "\n",
        "2. В Москве пропущенных значений оказалось так много, что значение `'unknown'` заняло десятое место среди самых популярных жанров. Значит, пропущенные значения занимают существенную долю в данных и угрожают достоверности исследования.\n",
        "\n",
        "Вечер пятницы не меняет эту картину. Некоторые жанры поднимаются немного выше, другие спускаются, но в целом топ-10 остаётся тем же самым.\n",
        "\n",
        "Таким образом, вторая гипотеза подтвердилась лишь частично:\n",
        "* Пользователи слушают похожую музыку в начале недели и в конце.\n",
        "* Разница между Москвой и Петербургом не слишком выражена. В Москве чаще слушают русскую популярную музыку, в Петербурге — джаз.\n",
        "\n",
        "Однако пропуски в данных ставят под сомнение этот результат. В Москве их так много, что рейтинг топ-10 мог бы выглядеть иначе, если бы не утерянные  данные о жанрах."
      ]
    },
    {
      "cell_type": "markdown",
      "metadata": {
        "id": "JolODAqr_Zcu"
      },
      "source": [
        "### Жанровые предпочтения в Москве и Петербурге\n",
        "\n",
        "Гипотеза: Петербург — столица рэпа, музыку этого жанра там слушают чаще, чем в Москве.  А Москва — город контрастов, в котором, тем не менее, преобладает поп-музыка."
      ]
    },
    {
      "cell_type": "markdown",
      "metadata": {
        "id": "DlegSvaT_Zcu"
      },
      "source": [
        "Сгруппируем таблицу `moscow_general` по жанру и посчитаем прослушивания треков каждого жанра методом `count()`. Затем отсортируем результат в порядке убывания и сохраним его в таблице `moscow_genres`."
      ]
    },
    {
      "cell_type": "code",
      "execution_count": null,
      "metadata": {
        "id": "r19lIPke_Zcu"
      },
      "outputs": [],
      "source": [
        "# одной строкой: группировка таблицы moscow_general по столбцу 'genre', \n",
        "# подсчёт числа значений 'genre' в этой группировке методом count(), \n",
        "# сортировка получившегося Series в порядке убывания и сохранение в moscow_genres\n",
        "moscow_genres = moscow_general.groupby('genre')['genre'].count().sort_values(ascending=False)"
      ]
    },
    {
      "cell_type": "markdown",
      "metadata": {
        "id": "6kMuomxTiIr8"
      },
      "source": [
        "Выведем на экран первые десять строк `moscow_genres`:"
      ]
    },
    {
      "cell_type": "code",
      "execution_count": null,
      "metadata": {
        "id": "WhCSooF8_Zcv",
        "outputId": "c2456c23-af69-4784-c793-d56ac84bd231"
      },
      "outputs": [
        {
          "data": {
            "text/plain": [
              "genre\n",
              "pop            5892\n",
              "dance          4435\n",
              "rock           3965\n",
              "electronic     3786\n",
              "hiphop         2096\n",
              "classical      1616\n",
              "world          1432\n",
              "alternative    1379\n",
              "ruspop         1372\n",
              "rusrap         1161\n",
              "Name: genre, dtype: int64"
            ]
          },
          "execution_count": 38,
          "metadata": {},
          "output_type": "execute_result"
        }
      ],
      "source": [
        "# просмотр первых 10 строк moscow_genres\n",
        "moscow_genres.head(10)"
      ]
    },
    {
      "cell_type": "markdown",
      "metadata": {
        "id": "cnPG2vnN_Zcv"
      },
      "source": [
        "Теперь повторим то же и для Петербурга.\n",
        "\n",
        "Сгруппируем таблицу `spb_general` по жанру. Посчитаем прослушивания треков каждого жанра. Результат отсортируем в порядке убывания и сохраним в таблице `spb_genres`:\n"
      ]
    },
    {
      "cell_type": "code",
      "execution_count": null,
      "metadata": {
        "id": "gluLIpE7_Zcv"
      },
      "outputs": [],
      "source": [
        "# одной строкой: группировка таблицы spb_general по столбцу 'genre', \n",
        "# подсчёт числа значений 'genre' в этой группировке методом count(), \n",
        "# сортировка получившегося Series в порядке убывания и сохранение в spb_genres\n",
        "spb_genres = spb_general.groupby('genre')['genre'].count().sort_values(ascending=False)"
      ]
    },
    {
      "cell_type": "markdown",
      "metadata": {
        "id": "5Doha_ODgyQ8"
      },
      "source": [
        "Выведем на экран первые десять строк `spb_genres`:"
      ]
    },
    {
      "cell_type": "code",
      "execution_count": null,
      "metadata": {
        "id": "uaGJHjVU_Zcv",
        "colab": {
          "base_uri": "https://localhost:8080/",
          "height": 184
        },
        "outputId": "1b9e588c-bdb6-4ae8-8ca4-7b7f20e84518"
      },
      "outputs": [
        {
          "output_type": "error",
          "ename": "NameError",
          "evalue": "ignored",
          "traceback": [
            "\u001b[0;31m---------------------------------------------------------------------------\u001b[0m",
            "\u001b[0;31mNameError\u001b[0m                                 Traceback (most recent call last)",
            "\u001b[0;32m<ipython-input-1-276e490cac53>\u001b[0m in \u001b[0;36m<module>\u001b[0;34m\u001b[0m\n\u001b[1;32m      1\u001b[0m \u001b[0;31m# просмотр первых 10 строк spb_genres\u001b[0m\u001b[0;34m\u001b[0m\u001b[0;34m\u001b[0m\u001b[0;34m\u001b[0m\u001b[0m\n\u001b[0;32m----> 2\u001b[0;31m \u001b[0mspb_genres\u001b[0m\u001b[0;34m.\u001b[0m\u001b[0mhead\u001b[0m\u001b[0;34m(\u001b[0m\u001b[0;36m10\u001b[0m\u001b[0;34m)\u001b[0m\u001b[0;34m\u001b[0m\u001b[0;34m\u001b[0m\u001b[0m\n\u001b[0m",
            "\u001b[0;31mNameError\u001b[0m: name 'spb_genres' is not defined"
          ]
        }
      ],
      "source": [
        "# просмотр первых 10 строк spb_genres\n",
        "spb_genres.head(10)"
      ]
    },
    {
      "cell_type": "markdown",
      "metadata": {
        "id": "rSHdXiLxouXg"
      },
      "source": [
        "<div class=\"alert alert-success\">\n",
        "\n",
        "**✅Комментарий ревьюера**\n",
        "\n",
        "Данные по Питеру у нас тоже есть! </div>"
      ]
    },
    {
      "cell_type": "markdown",
      "metadata": {
        "id": "RY51YJYu_Zcv"
      },
      "source": [
        "<div class=\"alert alert-info\">\n",
        "\n",
        "**Выводы изменились!** </div>"
      ]
    },
    {
      "cell_type": "markdown",
      "metadata": {
        "id": "nVhnJEm__Zcv"
      },
      "source": [
        "<div class=\"alert alert-info\">\n",
        "    \n",
        "Работа с дата-сетом показала, что результаты исследований нельзя на этом этапе показывать бизнесу из-за аномалий в данных:\n",
        "* Мы увидели, что в СПб в среду интерес к музыке заметно выше, чем в Мск, и думаю это может быть очень интересным, но пока непонятна природа такого отклонения - возможно в этот день был праздник, выходной, концерт и т.п. Чтобы подтвердить или опровергнуть гипотезу - нужны данные о датах прослушивания, а лучше длинный срез из нескольких недель. \n",
        "* В данных есть не объясняемые пока \"провалы\" в количестве прослушиваний, например СПб пятница с 17-00 до 18-00. нелогично выглядит ТОП жанров и  после 22-00. \n",
        "    \n",
        "Чтобы понять что делать дальше, нужна дополнительная информация\n",
        "- Период прослушиваний\n",
        "- Критерии пользователей, которые попали в выборку. \n",
        "- Логика уже выявленных аномалий в плотности прослушиваний по времени. \n"
      ]
    },
    {
      "cell_type": "markdown",
      "metadata": {
        "id": "ykKQ0N65_Zcv"
      },
      "source": [
        "## Итоги исследования"
      ]
    },
    {
      "cell_type": "markdown",
      "metadata": {
        "id": "tjUwbHb3_Zcv"
      },
      "source": [
        "Мы проверили три гипотезы и установили:\n",
        "\n",
        "1. День недели по-разному влияет на активность пользователей в Москве и Петербурге. \n",
        "\n",
        "Первая гипотеза полностью подтвердилась.\n",
        "\n",
        "2. Музыкальные предпочтения не сильно меняются в течение недели — будь то Москва или Петербург. Небольшие различия заметны в начале недели, по понедельникам:\n",
        "* в Москве чаще чем в Петербурге слушают музыку жанра “world”,\n",
        "* в Петербурге чаще чем в Москве — джаз и классику.\n",
        "\n",
        "Таким образом, вторая гипотеза подтвердилась лишь отчасти. Этот результат мог оказаться иным, если бы не пропуски в данных.\n",
        "\n",
        "3. Во вкусах пользователей Москвы и Петербурга больше общего чем различий. Вопреки ожиданиям, предпочтения жанров в Петербурге напоминают московские.\n",
        "\n",
        "Третья гипотеза не подтвердилась. Если различия в предпочтениях и существуют, на основной массе пользователей они незаметны.\n",
        "\n",
        "**На практике исследования содержат проверки статистических гипотез.**\n",
        "Из данных одного сервиса не всегда можно сделать вывод о всех жителях города.\n",
        "Проверки статистических гипотез покажут, насколько они достоверны, исходя из имеющихся данных. \n"
      ]
    },

    {
      "cell_type": "code",
      "execution_count": null,
      "metadata": {
        "id": "eCOh0dyrouXk"
      },
      "outputs": [],
      "source": []
    }
  ],
  "metadata": {
    "ExecuteTimeLog": [
      {
        "duration": 734,
        "start_time": "2022-01-08T09:04:44.603Z"
      },
      {
        "duration": 2371,
        "start_time": "2022-01-08T09:06:10.406Z"
      },
      {
        "duration": 3021,
        "start_time": "2022-01-08T09:06:32.107Z"
      },
      {
        "duration": 2545,
        "start_time": "2022-01-08T09:06:55.695Z"
      },
      {
        "duration": 2517,
        "start_time": "2022-01-08T09:09:38.449Z"
      },
      {
        "duration": 116,
        "start_time": "2022-01-08T09:09:53.299Z"
      },
      {
        "duration": 15,
        "start_time": "2022-01-08T09:10:47.281Z"
      },
      {
        "duration": 7,
        "start_time": "2022-01-08T09:11:22.532Z"
      },
      {
        "duration": 7,
        "start_time": "2022-01-08T09:16:02.956Z"
      },
      {
        "duration": 3,
        "start_time": "2022-01-08T09:17:46.558Z"
      },
      {
        "duration": 16,
        "start_time": "2022-01-08T09:21:25.008Z"
      },
      {
        "duration": 4,
        "start_time": "2022-01-08T09:21:39.423Z"
      },
      {
        "duration": 24,
        "start_time": "2022-01-08T09:22:49.375Z"
      },
      {
        "duration": 10216,
        "start_time": "2022-01-08T09:26:01.586Z"
      },
      {
        "duration": 8312,
        "start_time": "2022-01-08T09:27:48.468Z"
      },
      {
        "duration": 15,
        "start_time": "2022-01-08T09:31:05.319Z"
      },
      {
        "duration": 20,
        "start_time": "2022-01-08T09:31:30.887Z"
      },
      {
        "duration": 52,
        "start_time": "2022-01-08T09:31:56.805Z"
      },
      {
        "duration": 66,
        "start_time": "2022-01-08T09:32:33.159Z"
      },
      {
        "duration": 47,
        "start_time": "2022-01-08T09:33:05.959Z"
      },
      {
        "duration": 58,
        "start_time": "2022-01-08T09:33:40.126Z"
      },
      {
        "duration": 46,
        "start_time": "2022-01-08T09:33:44.894Z"
      },
      {
        "duration": 58,
        "start_time": "2022-01-08T09:36:04.841Z"
      },
      {
        "duration": 45,
        "start_time": "2022-01-08T09:36:36.129Z"
      },
      {
        "duration": 45,
        "start_time": "2022-01-08T09:36:45.311Z"
      },
      {
        "duration": 61,
        "start_time": "2022-01-08T09:36:48.818Z"
      },
      {
        "duration": 48,
        "start_time": "2022-01-08T09:36:52.660Z"
      },
      {
        "duration": 52,
        "start_time": "2022-01-08T09:38:52.491Z"
      },
      {
        "duration": 51,
        "start_time": "2022-01-08T09:40:09.119Z"
      },
      {
        "duration": 47,
        "start_time": "2022-01-08T09:40:16.638Z"
      },
      {
        "duration": 451,
        "start_time": "2022-01-08T09:45:17.041Z"
      },
      {
        "duration": 34,
        "start_time": "2022-01-08T09:46:46.929Z"
      },
      {
        "duration": 59,
        "start_time": "2022-01-08T09:46:51.487Z"
      },
      {
        "duration": 34,
        "start_time": "2022-01-08T09:46:55.898Z"
      },
      {
        "duration": 36,
        "start_time": "2022-01-08T09:47:43.443Z"
      },
      {
        "duration": 38,
        "start_time": "2022-01-08T09:47:47.401Z"
      },
      {
        "duration": 37,
        "start_time": "2022-01-08T09:49:01.850Z"
      },
      {
        "duration": 4339,
        "start_time": "2022-01-08T09:51:40.060Z"
      },
      {
        "duration": 4482,
        "start_time": "2022-01-08T09:54:33.174Z"
      },
      {
        "duration": 4467,
        "start_time": "2022-01-08T09:54:38.258Z"
      },
      {
        "duration": 4190,
        "start_time": "2022-01-08T09:57:36.608Z"
      },
      {
        "duration": 4106,
        "start_time": "2022-01-08T09:58:54.251Z"
      },
      {
        "duration": 4152,
        "start_time": "2022-01-08T10:01:21.807Z"
      },
      {
        "duration": 4665,
        "start_time": "2022-01-08T10:02:00.126Z"
      },
      {
        "duration": 4199,
        "start_time": "2022-01-08T10:09:57.620Z"
      },
      {
        "duration": 4640,
        "start_time": "2022-01-08T10:10:34.958Z"
      },
      {
        "duration": 3275,
        "start_time": "2022-01-08T10:10:36.324Z"
      },
      {
        "duration": 3271,
        "start_time": "2022-01-08T10:10:36.329Z"
      },
      {
        "duration": 319,
        "start_time": "2022-01-08T10:10:55.455Z"
      },
      {
        "duration": 373,
        "start_time": "2022-01-08T10:12:04.957Z"
      },
      {
        "duration": 707,
        "start_time": "2022-01-08T10:12:35.438Z"
      },
      {
        "duration": 123,
        "start_time": "2022-01-08T10:12:40.861Z"
      },
      {
        "duration": 15,
        "start_time": "2022-01-08T10:12:44.909Z"
      },
      {
        "duration": 7,
        "start_time": "2022-01-08T10:12:55.075Z"
      },
      {
        "duration": 4,
        "start_time": "2022-01-08T10:13:04.142Z"
      },
      {
        "duration": 17,
        "start_time": "2022-01-08T10:13:13.250Z"
      },
      {
        "duration": 3,
        "start_time": "2022-01-08T10:13:16.276Z"
      },
      {
        "duration": 20,
        "start_time": "2022-01-08T10:13:21.047Z"
      },
      {
        "duration": 15,
        "start_time": "2022-01-08T10:13:29.336Z"
      },
      {
        "duration": 20,
        "start_time": "2022-01-08T10:13:35.808Z"
      },
      {
        "duration": 51,
        "start_time": "2022-01-08T10:13:40.216Z"
      },
      {
        "duration": 65,
        "start_time": "2022-01-08T10:13:44.187Z"
      },
      {
        "duration": 387,
        "start_time": "2022-01-08T14:26:37.608Z"
      },
      {
        "duration": 1383,
        "start_time": "2022-01-08T14:26:52.649Z"
      },
      {
        "duration": 119,
        "start_time": "2022-01-08T14:26:54.929Z"
      },
      {
        "duration": 22,
        "start_time": "2022-01-08T14:26:56.608Z"
      },
      {
        "duration": 7,
        "start_time": "2022-01-08T14:26:58.970Z"
      },
      {
        "duration": 4,
        "start_time": "2022-01-08T14:27:03.728Z"
      },
      {
        "duration": 18,
        "start_time": "2022-01-08T14:27:05.941Z"
      },
      {
        "duration": 3,
        "start_time": "2022-01-08T14:27:08.633Z"
      },
      {
        "duration": 21,
        "start_time": "2022-01-08T14:27:11.579Z"
      },
      {
        "duration": 16,
        "start_time": "2022-01-08T14:27:14.734Z"
      },
      {
        "duration": 20,
        "start_time": "2022-01-08T14:27:21.159Z"
      },
      {
        "duration": 50,
        "start_time": "2022-01-08T14:27:28.125Z"
      },
      {
        "duration": 58,
        "start_time": "2022-01-08T14:27:35.055Z"
      },
      {
        "duration": 45,
        "start_time": "2022-01-08T14:27:38.622Z"
      },
      {
        "duration": 4542,
        "start_time": "2022-01-08T14:27:46.313Z"
      },
      {
        "duration": 3994,
        "start_time": "2022-01-08T14:29:27.018Z"
      },
      {
        "duration": 5,
        "start_time": "2022-01-08T14:29:51.777Z"
      },
      {
        "duration": 2,
        "start_time": "2022-01-08T14:30:01.378Z"
      },
      {
        "duration": 116,
        "start_time": "2022-01-08T14:30:06.361Z"
      },
      {
        "duration": 11,
        "start_time": "2022-01-08T14:30:11.058Z"
      },
      {
        "duration": 7,
        "start_time": "2022-01-08T14:30:16.897Z"
      },
      {
        "duration": 3,
        "start_time": "2022-01-08T14:30:24.825Z"
      },
      {
        "duration": 4,
        "start_time": "2022-01-08T14:30:30.649Z"
      },
      {
        "duration": 4,
        "start_time": "2022-01-08T14:30:34.185Z"
      },
      {
        "duration": 21,
        "start_time": "2022-01-08T14:30:41.073Z"
      },
      {
        "duration": 8517,
        "start_time": "2022-01-08T14:30:48.609Z"
      },
      {
        "duration": 4,
        "start_time": "2022-01-08T14:31:08.297Z"
      },
      {
        "duration": 17,
        "start_time": "2022-01-08T14:31:12.721Z"
      },
      {
        "duration": 4,
        "start_time": "2022-01-08T14:31:17.841Z"
      },
      {
        "duration": 21,
        "start_time": "2022-01-08T14:31:22.986Z"
      },
      {
        "duration": 15,
        "start_time": "2022-01-08T14:31:37.186Z"
      },
      {
        "duration": 19,
        "start_time": "2022-01-08T14:31:42.514Z"
      },
      {
        "duration": 64,
        "start_time": "2022-01-08T14:31:47.993Z"
      },
      {
        "duration": 53,
        "start_time": "2022-01-08T14:31:57.441Z"
      },
      {
        "duration": 43,
        "start_time": "2022-01-08T14:32:02.266Z"
      },
      {
        "duration": 4344,
        "start_time": "2022-01-08T14:32:09.470Z"
      },
      {
        "duration": 4277,
        "start_time": "2022-01-08T14:34:16.084Z"
      },
      {
        "duration": 10113,
        "start_time": "2022-01-08T14:35:09.062Z"
      },
      {
        "duration": 440,
        "start_time": "2022-01-08T14:37:55.734Z"
      },
      {
        "duration": 321,
        "start_time": "2022-01-08T14:38:44.726Z"
      },
      {
        "duration": 4448,
        "start_time": "2022-01-08T14:39:37.631Z"
      },
      {
        "duration": 6117,
        "start_time": "2022-01-08T14:39:48.255Z"
      },
      {
        "duration": 584,
        "start_time": "2022-01-08T14:42:23.919Z"
      },
      {
        "duration": 117,
        "start_time": "2022-01-08T14:42:24.504Z"
      },
      {
        "duration": 14,
        "start_time": "2022-01-08T14:42:24.623Z"
      },
      {
        "duration": 10,
        "start_time": "2022-01-08T14:42:24.638Z"
      },
      {
        "duration": 6,
        "start_time": "2022-01-08T14:42:24.649Z"
      },
      {
        "duration": 16,
        "start_time": "2022-01-08T14:42:24.656Z"
      },
      {
        "duration": 3,
        "start_time": "2022-01-08T14:42:24.674Z"
      },
      {
        "duration": 20,
        "start_time": "2022-01-08T14:42:24.678Z"
      },
      {
        "duration": 34,
        "start_time": "2022-01-08T14:42:24.700Z"
      },
      {
        "duration": 18,
        "start_time": "2022-01-08T14:42:24.735Z"
      },
      {
        "duration": 48,
        "start_time": "2022-01-08T14:42:24.754Z"
      },
      {
        "duration": 69,
        "start_time": "2022-01-08T14:42:24.804Z"
      },
      {
        "duration": 42,
        "start_time": "2022-01-08T14:42:24.874Z"
      },
      {
        "duration": 11,
        "start_time": "2022-01-08T14:42:24.918Z"
      },
      {
        "duration": 7,
        "start_time": "2022-01-08T14:42:24.931Z"
      },
      {
        "duration": 6,
        "start_time": "2022-01-08T14:42:24.939Z"
      },
      {
        "duration": 4,
        "start_time": "2022-01-08T14:42:24.947Z"
      },
      {
        "duration": 4,
        "start_time": "2022-01-08T14:42:24.953Z"
      },
      {
        "duration": 5,
        "start_time": "2022-01-08T14:42:24.958Z"
      },
      {
        "duration": 11,
        "start_time": "2022-01-08T14:42:24.965Z"
      },
      {
        "duration": 7,
        "start_time": "2022-01-08T14:42:24.977Z"
      },
      {
        "duration": 5,
        "start_time": "2022-01-08T14:42:24.985Z"
      },
      {
        "duration": 5,
        "start_time": "2022-01-08T14:42:24.991Z"
      },
      {
        "duration": 6,
        "start_time": "2022-01-08T14:42:24.997Z"
      },
      {
        "duration": 5,
        "start_time": "2022-01-08T14:42:25.004Z"
      },
      {
        "duration": 7,
        "start_time": "2022-01-08T14:42:25.010Z"
      },
      {
        "duration": 7,
        "start_time": "2022-01-08T14:42:25.020Z"
      },
      {
        "duration": 5,
        "start_time": "2022-01-08T14:42:25.029Z"
      },
      {
        "duration": 5,
        "start_time": "2022-01-08T14:42:25.035Z"
      },
      {
        "duration": 6,
        "start_time": "2022-01-08T14:42:25.041Z"
      },
      {
        "duration": 23,
        "start_time": "2022-01-08T14:42:25.048Z"
      },
      {
        "duration": 12,
        "start_time": "2022-01-08T14:42:25.073Z"
      },
      {
        "duration": 8,
        "start_time": "2022-01-08T14:42:25.086Z"
      },
      {
        "duration": 5,
        "start_time": "2022-01-08T14:42:25.095Z"
      },
      {
        "duration": 4,
        "start_time": "2022-01-08T14:42:25.102Z"
      },
      {
        "duration": 5,
        "start_time": "2022-01-08T14:42:25.107Z"
      },
      {
        "duration": 4,
        "start_time": "2022-01-08T14:42:25.113Z"
      },
      {
        "duration": 5,
        "start_time": "2022-01-08T14:42:25.118Z"
      },
      {
        "duration": 35,
        "start_time": "2022-01-08T14:44:25.750Z"
      },
      {
        "duration": 560,
        "start_time": "2022-01-08T14:44:57.945Z"
      },
      {
        "duration": 116,
        "start_time": "2022-01-08T14:44:58.507Z"
      },
      {
        "duration": 16,
        "start_time": "2022-01-08T14:44:58.624Z"
      },
      {
        "duration": 10,
        "start_time": "2022-01-08T14:44:58.642Z"
      },
      {
        "duration": 4,
        "start_time": "2022-01-08T14:44:58.654Z"
      },
      {
        "duration": 19,
        "start_time": "2022-01-08T14:44:58.660Z"
      },
      {
        "duration": 4,
        "start_time": "2022-01-08T14:44:58.680Z"
      },
      {
        "duration": 45,
        "start_time": "2022-01-08T14:44:58.687Z"
      },
      {
        "duration": 14,
        "start_time": "2022-01-08T14:44:58.734Z"
      },
      {
        "duration": 18,
        "start_time": "2022-01-08T14:44:58.749Z"
      },
      {
        "duration": 60,
        "start_time": "2022-01-08T14:44:58.768Z"
      },
      {
        "duration": 56,
        "start_time": "2022-01-08T14:44:58.829Z"
      },
      {
        "duration": 56,
        "start_time": "2022-01-08T14:44:58.886Z"
      },
      {
        "duration": 34,
        "start_time": "2022-01-08T14:44:58.943Z"
      },
      {
        "duration": 2,
        "start_time": "2022-01-08T14:44:58.978Z"
      },
      {
        "duration": 6,
        "start_time": "2022-01-08T14:44:58.982Z"
      },
      {
        "duration": 5,
        "start_time": "2022-01-08T14:44:58.989Z"
      },
      {
        "duration": 5,
        "start_time": "2022-01-08T14:44:58.995Z"
      },
      {
        "duration": 6,
        "start_time": "2022-01-08T14:44:59.001Z"
      },
      {
        "duration": 5,
        "start_time": "2022-01-08T14:44:59.008Z"
      },
      {
        "duration": 13,
        "start_time": "2022-01-08T14:44:59.014Z"
      },
      {
        "duration": 4,
        "start_time": "2022-01-08T14:44:59.028Z"
      },
      {
        "duration": 6,
        "start_time": "2022-01-08T14:44:59.034Z"
      },
      {
        "duration": 4,
        "start_time": "2022-01-08T14:44:59.041Z"
      },
      {
        "duration": 5,
        "start_time": "2022-01-08T14:44:59.046Z"
      },
      {
        "duration": 7,
        "start_time": "2022-01-08T14:44:59.053Z"
      },
      {
        "duration": 5,
        "start_time": "2022-01-08T14:44:59.062Z"
      },
      {
        "duration": 6,
        "start_time": "2022-01-08T14:44:59.068Z"
      },
      {
        "duration": 4,
        "start_time": "2022-01-08T14:44:59.076Z"
      },
      {
        "duration": 7,
        "start_time": "2022-01-08T14:44:59.082Z"
      },
      {
        "duration": 9,
        "start_time": "2022-01-08T14:44:59.090Z"
      },
      {
        "duration": 6,
        "start_time": "2022-01-08T14:44:59.101Z"
      },
      {
        "duration": 8,
        "start_time": "2022-01-08T14:44:59.108Z"
      },
      {
        "duration": 5,
        "start_time": "2022-01-08T14:44:59.117Z"
      },
      {
        "duration": 5,
        "start_time": "2022-01-08T14:44:59.124Z"
      },
      {
        "duration": 19,
        "start_time": "2022-01-08T14:44:59.130Z"
      },
      {
        "duration": 5,
        "start_time": "2022-01-08T14:44:59.151Z"
      },
      {
        "duration": 8,
        "start_time": "2022-01-08T14:44:59.157Z"
      },
      {
        "duration": 417,
        "start_time": "2022-01-08T14:45:47.244Z"
      },
      {
        "duration": 58,
        "start_time": "2022-01-08T14:46:07.020Z"
      },
      {
        "duration": 34,
        "start_time": "2022-01-08T14:46:28.020Z"
      },
      {
        "duration": 38,
        "start_time": "2022-01-08T14:46:53.612Z"
      },
      {
        "duration": 595,
        "start_time": "2022-01-08T15:03:01.011Z"
      },
      {
        "duration": 114,
        "start_time": "2022-01-08T15:03:01.607Z"
      },
      {
        "duration": 15,
        "start_time": "2022-01-08T15:03:01.723Z"
      },
      {
        "duration": 8,
        "start_time": "2022-01-08T15:03:01.740Z"
      },
      {
        "duration": 7,
        "start_time": "2022-01-08T15:03:01.749Z"
      },
      {
        "duration": 17,
        "start_time": "2022-01-08T15:03:01.758Z"
      },
      {
        "duration": 4,
        "start_time": "2022-01-08T15:03:01.776Z"
      },
      {
        "duration": 47,
        "start_time": "2022-01-08T15:03:01.783Z"
      },
      {
        "duration": 14,
        "start_time": "2022-01-08T15:03:01.832Z"
      },
      {
        "duration": 21,
        "start_time": "2022-01-08T15:03:01.848Z"
      },
      {
        "duration": 61,
        "start_time": "2022-01-08T15:03:01.870Z"
      },
      {
        "duration": 56,
        "start_time": "2022-01-08T15:03:01.933Z"
      },
      {
        "duration": 50,
        "start_time": "2022-01-08T15:03:01.991Z"
      },
      {
        "duration": 35,
        "start_time": "2022-01-08T15:03:02.043Z"
      },
      {
        "duration": 2,
        "start_time": "2022-01-08T15:03:02.079Z"
      },
      {
        "duration": 113,
        "start_time": "2022-01-08T15:03:02.082Z"
      },
      {
        "duration": 3295,
        "start_time": "2022-01-08T15:02:58.902Z"
      },
      {
        "duration": 3292,
        "start_time": "2022-01-08T15:02:58.906Z"
      },
      {
        "duration": 3280,
        "start_time": "2022-01-08T15:02:58.918Z"
      },
      {
        "duration": 3277,
        "start_time": "2022-01-08T15:02:58.922Z"
      },
      {
        "duration": 3273,
        "start_time": "2022-01-08T15:02:58.927Z"
      },
      {
        "duration": 3270,
        "start_time": "2022-01-08T15:02:58.931Z"
      },
      {
        "duration": 3268,
        "start_time": "2022-01-08T15:02:58.934Z"
      },
      {
        "duration": 3266,
        "start_time": "2022-01-08T15:02:58.937Z"
      },
      {
        "duration": 3263,
        "start_time": "2022-01-08T15:02:58.941Z"
      },
      {
        "duration": 3260,
        "start_time": "2022-01-08T15:02:58.945Z"
      },
      {
        "duration": 3258,
        "start_time": "2022-01-08T15:02:58.948Z"
      },
      {
        "duration": 3255,
        "start_time": "2022-01-08T15:02:58.952Z"
      },
      {
        "duration": 3253,
        "start_time": "2022-01-08T15:02:58.955Z"
      },
      {
        "duration": 3249,
        "start_time": "2022-01-08T15:02:58.959Z"
      },
      {
        "duration": 3246,
        "start_time": "2022-01-08T15:02:58.963Z"
      },
      {
        "duration": 3243,
        "start_time": "2022-01-08T15:02:58.967Z"
      },
      {
        "duration": 3238,
        "start_time": "2022-01-08T15:02:58.973Z"
      },
      {
        "duration": 3235,
        "start_time": "2022-01-08T15:02:58.977Z"
      },
      {
        "duration": 3233,
        "start_time": "2022-01-08T15:02:58.980Z"
      },
      {
        "duration": 3230,
        "start_time": "2022-01-08T15:02:58.984Z"
      },
      {
        "duration": 3227,
        "start_time": "2022-01-08T15:02:58.988Z"
      },
      {
        "duration": 3223,
        "start_time": "2022-01-08T15:02:58.993Z"
      },
      {
        "duration": 621,
        "start_time": "2022-01-08T15:07:59.356Z"
      },
      {
        "duration": 590,
        "start_time": "2022-01-08T15:09:03.603Z"
      },
      {
        "duration": 111,
        "start_time": "2022-01-08T15:09:04.194Z"
      },
      {
        "duration": 14,
        "start_time": "2022-01-08T15:09:04.307Z"
      },
      {
        "duration": 20,
        "start_time": "2022-01-08T15:09:04.322Z"
      },
      {
        "duration": 5,
        "start_time": "2022-01-08T15:09:04.343Z"
      },
      {
        "duration": 17,
        "start_time": "2022-01-08T15:09:04.349Z"
      },
      {
        "duration": 3,
        "start_time": "2022-01-08T15:09:04.367Z"
      },
      {
        "duration": 18,
        "start_time": "2022-01-08T15:09:04.372Z"
      },
      {
        "duration": 14,
        "start_time": "2022-01-08T15:09:04.392Z"
      },
      {
        "duration": 28,
        "start_time": "2022-01-08T15:09:04.407Z"
      },
      {
        "duration": 51,
        "start_time": "2022-01-08T15:09:04.436Z"
      },
      {
        "duration": 68,
        "start_time": "2022-01-08T15:09:04.489Z"
      },
      {
        "duration": 41,
        "start_time": "2022-01-08T15:09:04.558Z"
      },
      {
        "duration": 44,
        "start_time": "2022-01-08T15:09:04.600Z"
      },
      {
        "duration": 2,
        "start_time": "2022-01-08T15:09:04.645Z"
      },
      {
        "duration": 885,
        "start_time": "2022-01-08T15:09:04.649Z"
      },
      {
        "duration": 3288,
        "start_time": "2022-01-08T15:09:02.248Z"
      },
      {
        "duration": 3284,
        "start_time": "2022-01-08T15:09:02.253Z"
      },
      {
        "duration": 3268,
        "start_time": "2022-01-08T15:09:02.270Z"
      },
      {
        "duration": 3263,
        "start_time": "2022-01-08T15:09:02.276Z"
      },
      {
        "duration": 3260,
        "start_time": "2022-01-08T15:09:02.280Z"
      },
      {
        "duration": 3256,
        "start_time": "2022-01-08T15:09:02.285Z"
      },
      {
        "duration": 3252,
        "start_time": "2022-01-08T15:09:02.290Z"
      },
      {
        "duration": 3247,
        "start_time": "2022-01-08T15:09:02.296Z"
      },
      {
        "duration": 3243,
        "start_time": "2022-01-08T15:09:02.301Z"
      },
      {
        "duration": 3238,
        "start_time": "2022-01-08T15:09:02.307Z"
      },
      {
        "duration": 3234,
        "start_time": "2022-01-08T15:09:02.311Z"
      },
      {
        "duration": 3230,
        "start_time": "2022-01-08T15:09:02.316Z"
      },
      {
        "duration": 3226,
        "start_time": "2022-01-08T15:09:02.321Z"
      },
      {
        "duration": 3221,
        "start_time": "2022-01-08T15:09:02.327Z"
      },
      {
        "duration": 3213,
        "start_time": "2022-01-08T15:09:02.336Z"
      },
      {
        "duration": 3207,
        "start_time": "2022-01-08T15:09:02.342Z"
      },
      {
        "duration": 3203,
        "start_time": "2022-01-08T15:09:02.347Z"
      },
      {
        "duration": 3198,
        "start_time": "2022-01-08T15:09:02.353Z"
      },
      {
        "duration": 3195,
        "start_time": "2022-01-08T15:09:02.357Z"
      },
      {
        "duration": 3192,
        "start_time": "2022-01-08T15:09:02.361Z"
      },
      {
        "duration": 3190,
        "start_time": "2022-01-08T15:09:02.364Z"
      },
      {
        "duration": 3179,
        "start_time": "2022-01-08T15:09:02.375Z"
      },
      {
        "duration": 589,
        "start_time": "2022-01-08T15:11:31.393Z"
      },
      {
        "duration": 113,
        "start_time": "2022-01-08T15:11:31.983Z"
      },
      {
        "duration": 14,
        "start_time": "2022-01-08T15:11:32.098Z"
      },
      {
        "duration": 14,
        "start_time": "2022-01-08T15:11:32.114Z"
      },
      {
        "duration": 4,
        "start_time": "2022-01-08T15:11:32.129Z"
      },
      {
        "duration": 16,
        "start_time": "2022-01-08T15:11:32.134Z"
      },
      {
        "duration": 2,
        "start_time": "2022-01-08T15:11:32.152Z"
      },
      {
        "duration": 20,
        "start_time": "2022-01-08T15:11:32.156Z"
      },
      {
        "duration": 14,
        "start_time": "2022-01-08T15:11:32.177Z"
      },
      {
        "duration": 43,
        "start_time": "2022-01-08T15:11:32.192Z"
      },
      {
        "duration": 48,
        "start_time": "2022-01-08T15:11:32.236Z"
      },
      {
        "duration": 71,
        "start_time": "2022-01-08T15:11:32.286Z"
      },
      {
        "duration": 46,
        "start_time": "2022-01-08T15:11:32.359Z"
      },
      {
        "duration": 49,
        "start_time": "2022-01-08T15:11:32.407Z"
      },
      {
        "duration": 3,
        "start_time": "2022-01-08T15:11:32.457Z"
      },
      {
        "duration": 15,
        "start_time": "2022-01-08T15:11:32.461Z"
      },
      {
        "duration": 2,
        "start_time": "2022-01-08T15:11:32.477Z"
      },
      {
        "duration": 4,
        "start_time": "2022-01-08T15:11:32.481Z"
      },
      {
        "duration": 4,
        "start_time": "2022-01-08T15:11:32.486Z"
      },
      {
        "duration": 5,
        "start_time": "2022-01-08T15:11:32.491Z"
      },
      {
        "duration": 8,
        "start_time": "2022-01-08T15:11:32.497Z"
      },
      {
        "duration": 4,
        "start_time": "2022-01-08T15:11:32.506Z"
      },
      {
        "duration": 2,
        "start_time": "2022-01-08T15:11:32.528Z"
      },
      {
        "duration": 4,
        "start_time": "2022-01-08T15:11:32.531Z"
      },
      {
        "duration": 4,
        "start_time": "2022-01-08T15:11:32.536Z"
      },
      {
        "duration": 11,
        "start_time": "2022-01-08T15:11:32.541Z"
      },
      {
        "duration": 8,
        "start_time": "2022-01-08T15:11:32.554Z"
      },
      {
        "duration": 5,
        "start_time": "2022-01-08T15:11:32.563Z"
      },
      {
        "duration": 4,
        "start_time": "2022-01-08T15:11:32.570Z"
      },
      {
        "duration": 5,
        "start_time": "2022-01-08T15:11:32.575Z"
      },
      {
        "duration": 7,
        "start_time": "2022-01-08T15:11:32.581Z"
      },
      {
        "duration": 6,
        "start_time": "2022-01-08T15:11:32.589Z"
      },
      {
        "duration": 9,
        "start_time": "2022-01-08T15:11:32.596Z"
      },
      {
        "duration": 5,
        "start_time": "2022-01-08T15:11:32.607Z"
      },
      {
        "duration": 7,
        "start_time": "2022-01-08T15:11:32.613Z"
      },
      {
        "duration": 5,
        "start_time": "2022-01-08T15:11:32.621Z"
      },
      {
        "duration": 5,
        "start_time": "2022-01-08T15:11:32.627Z"
      },
      {
        "duration": 5,
        "start_time": "2022-01-08T15:11:32.634Z"
      },
      {
        "duration": 370,
        "start_time": "2022-01-08T15:12:37.789Z"
      },
      {
        "duration": 34,
        "start_time": "2022-01-08T15:13:10.295Z"
      },
      {
        "duration": 36,
        "start_time": "2022-01-08T15:13:36.791Z"
      },
      {
        "duration": 323,
        "start_time": "2022-01-08T15:22:23.246Z"
      },
      {
        "duration": 574,
        "start_time": "2022-01-08T15:23:53.970Z"
      },
      {
        "duration": 117,
        "start_time": "2022-01-08T15:23:54.546Z"
      },
      {
        "duration": 15,
        "start_time": "2022-01-08T15:23:54.665Z"
      },
      {
        "duration": 12,
        "start_time": "2022-01-08T15:23:54.681Z"
      },
      {
        "duration": 6,
        "start_time": "2022-01-08T15:23:54.695Z"
      },
      {
        "duration": 27,
        "start_time": "2022-01-08T15:23:54.702Z"
      },
      {
        "duration": 3,
        "start_time": "2022-01-08T15:23:54.731Z"
      },
      {
        "duration": 22,
        "start_time": "2022-01-08T15:23:54.736Z"
      },
      {
        "duration": 14,
        "start_time": "2022-01-08T15:23:54.761Z"
      },
      {
        "duration": 18,
        "start_time": "2022-01-08T15:23:54.777Z"
      },
      {
        "duration": 70,
        "start_time": "2022-01-08T15:23:54.797Z"
      },
      {
        "duration": 72,
        "start_time": "2022-01-08T15:23:54.869Z"
      },
      {
        "duration": 47,
        "start_time": "2022-01-08T15:23:54.942Z"
      },
      {
        "duration": 47,
        "start_time": "2022-01-08T15:23:54.990Z"
      },
      {
        "duration": 2,
        "start_time": "2022-01-08T15:23:55.039Z"
      },
      {
        "duration": 18,
        "start_time": "2022-01-08T15:23:55.043Z"
      },
      {
        "duration": 36,
        "start_time": "2022-01-08T15:23:55.063Z"
      },
      {
        "duration": 463,
        "start_time": "2022-01-08T15:23:55.100Z"
      },
      {
        "duration": 3286,
        "start_time": "2022-01-08T15:23:52.279Z"
      },
      {
        "duration": 3281,
        "start_time": "2022-01-08T15:23:52.285Z"
      },
      {
        "duration": 3278,
        "start_time": "2022-01-08T15:23:52.289Z"
      },
      {
        "duration": 3276,
        "start_time": "2022-01-08T15:23:52.292Z"
      },
      {
        "duration": 3272,
        "start_time": "2022-01-08T15:23:52.296Z"
      },
      {
        "duration": 3269,
        "start_time": "2022-01-08T15:23:52.300Z"
      },
      {
        "duration": 3266,
        "start_time": "2022-01-08T15:23:52.304Z"
      },
      {
        "duration": 3263,
        "start_time": "2022-01-08T15:23:52.308Z"
      },
      {
        "duration": 3260,
        "start_time": "2022-01-08T15:23:52.312Z"
      },
      {
        "duration": 3257,
        "start_time": "2022-01-08T15:23:52.316Z"
      },
      {
        "duration": 3254,
        "start_time": "2022-01-08T15:23:52.320Z"
      },
      {
        "duration": 3251,
        "start_time": "2022-01-08T15:23:52.324Z"
      },
      {
        "duration": 3249,
        "start_time": "2022-01-08T15:23:52.327Z"
      },
      {
        "duration": 3233,
        "start_time": "2022-01-08T15:23:52.343Z"
      },
      {
        "duration": 3230,
        "start_time": "2022-01-08T15:23:52.347Z"
      },
      {
        "duration": 3226,
        "start_time": "2022-01-08T15:23:52.352Z"
      },
      {
        "duration": 3223,
        "start_time": "2022-01-08T15:23:52.356Z"
      },
      {
        "duration": 3221,
        "start_time": "2022-01-08T15:23:52.359Z"
      },
      {
        "duration": 3219,
        "start_time": "2022-01-08T15:23:52.362Z"
      },
      {
        "duration": 3216,
        "start_time": "2022-01-08T15:23:52.366Z"
      },
      {
        "duration": 353,
        "start_time": "2022-01-08T15:26:19.056Z"
      },
      {
        "duration": 8,
        "start_time": "2022-01-08T15:33:29.674Z"
      },
      {
        "duration": 528,
        "start_time": "2022-01-08T15:33:55.475Z"
      },
      {
        "duration": 117,
        "start_time": "2022-01-08T15:33:56.005Z"
      },
      {
        "duration": 16,
        "start_time": "2022-01-08T15:33:56.124Z"
      },
      {
        "duration": 8,
        "start_time": "2022-01-08T15:33:56.141Z"
      },
      {
        "duration": 4,
        "start_time": "2022-01-08T15:33:56.151Z"
      },
      {
        "duration": 15,
        "start_time": "2022-01-08T15:33:56.157Z"
      },
      {
        "duration": 3,
        "start_time": "2022-01-08T15:33:56.174Z"
      },
      {
        "duration": 51,
        "start_time": "2022-01-08T15:33:56.179Z"
      },
      {
        "duration": 15,
        "start_time": "2022-01-08T15:33:56.233Z"
      },
      {
        "duration": 19,
        "start_time": "2022-01-08T15:33:56.249Z"
      },
      {
        "duration": 69,
        "start_time": "2022-01-08T15:33:56.270Z"
      },
      {
        "duration": 57,
        "start_time": "2022-01-08T15:33:56.341Z"
      },
      {
        "duration": 57,
        "start_time": "2022-01-08T15:33:56.400Z"
      },
      {
        "duration": 36,
        "start_time": "2022-01-08T15:33:56.459Z"
      },
      {
        "duration": 2,
        "start_time": "2022-01-08T15:33:56.497Z"
      },
      {
        "duration": 32,
        "start_time": "2022-01-08T15:33:56.501Z"
      },
      {
        "duration": 35,
        "start_time": "2022-01-08T15:33:56.534Z"
      },
      {
        "duration": 7,
        "start_time": "2022-01-08T15:33:56.570Z"
      },
      {
        "duration": 2,
        "start_time": "2022-01-08T15:33:56.578Z"
      },
      {
        "duration": 3,
        "start_time": "2022-01-08T15:33:56.581Z"
      },
      {
        "duration": 5,
        "start_time": "2022-01-08T15:33:56.586Z"
      },
      {
        "duration": 4,
        "start_time": "2022-01-08T15:33:56.592Z"
      },
      {
        "duration": 4,
        "start_time": "2022-01-08T15:33:56.597Z"
      },
      {
        "duration": 4,
        "start_time": "2022-01-08T15:33:56.602Z"
      },
      {
        "duration": 20,
        "start_time": "2022-01-08T15:33:56.607Z"
      },
      {
        "duration": 5,
        "start_time": "2022-01-08T15:33:56.629Z"
      },
      {
        "duration": 3,
        "start_time": "2022-01-08T15:33:56.637Z"
      },
      {
        "duration": 4,
        "start_time": "2022-01-08T15:33:56.642Z"
      },
      {
        "duration": 4,
        "start_time": "2022-01-08T15:33:56.647Z"
      },
      {
        "duration": 4,
        "start_time": "2022-01-08T15:33:56.652Z"
      },
      {
        "duration": 7,
        "start_time": "2022-01-08T15:33:56.657Z"
      },
      {
        "duration": 3,
        "start_time": "2022-01-08T15:33:56.666Z"
      },
      {
        "duration": 6,
        "start_time": "2022-01-08T15:33:56.671Z"
      },
      {
        "duration": 4,
        "start_time": "2022-01-08T15:33:56.678Z"
      },
      {
        "duration": 4,
        "start_time": "2022-01-08T15:33:56.683Z"
      },
      {
        "duration": 4,
        "start_time": "2022-01-08T15:33:56.688Z"
      },
      {
        "duration": 4,
        "start_time": "2022-01-08T15:33:56.693Z"
      },
      {
        "duration": 4,
        "start_time": "2022-01-08T15:33:56.698Z"
      },
      {
        "duration": 605,
        "start_time": "2022-01-08T15:38:19.158Z"
      },
      {
        "duration": 124,
        "start_time": "2022-01-08T15:38:19.765Z"
      },
      {
        "duration": 14,
        "start_time": "2022-01-08T15:38:19.890Z"
      },
      {
        "duration": 9,
        "start_time": "2022-01-08T15:38:19.906Z"
      },
      {
        "duration": 13,
        "start_time": "2022-01-08T15:38:19.916Z"
      },
      {
        "duration": 18,
        "start_time": "2022-01-08T15:38:19.930Z"
      },
      {
        "duration": 6,
        "start_time": "2022-01-08T15:38:19.950Z"
      },
      {
        "duration": 22,
        "start_time": "2022-01-08T15:38:19.958Z"
      },
      {
        "duration": 15,
        "start_time": "2022-01-08T15:38:19.982Z"
      },
      {
        "duration": 40,
        "start_time": "2022-01-08T15:38:19.998Z"
      },
      {
        "duration": 52,
        "start_time": "2022-01-08T15:38:20.039Z"
      },
      {
        "duration": 73,
        "start_time": "2022-01-08T15:38:20.092Z"
      },
      {
        "duration": 43,
        "start_time": "2022-01-08T15:38:20.167Z"
      },
      {
        "duration": 43,
        "start_time": "2022-01-08T15:38:20.212Z"
      },
      {
        "duration": 3,
        "start_time": "2022-01-08T15:38:20.257Z"
      },
      {
        "duration": 28,
        "start_time": "2022-01-08T15:38:20.261Z"
      },
      {
        "duration": 38,
        "start_time": "2022-01-08T15:38:20.290Z"
      },
      {
        "duration": 8,
        "start_time": "2022-01-08T15:38:20.329Z"
      },
      {
        "duration": 7,
        "start_time": "2022-01-08T15:38:20.338Z"
      },
      {
        "duration": 7,
        "start_time": "2022-01-08T15:38:20.346Z"
      },
      {
        "duration": 7,
        "start_time": "2022-01-08T15:38:20.354Z"
      },
      {
        "duration": 6,
        "start_time": "2022-01-08T15:38:20.363Z"
      },
      {
        "duration": 4,
        "start_time": "2022-01-08T15:38:20.372Z"
      },
      {
        "duration": 6,
        "start_time": "2022-01-08T15:38:20.377Z"
      },
      {
        "duration": 5,
        "start_time": "2022-01-08T15:38:20.384Z"
      },
      {
        "duration": 7,
        "start_time": "2022-01-08T15:38:20.390Z"
      },
      {
        "duration": 4,
        "start_time": "2022-01-08T15:38:20.399Z"
      },
      {
        "duration": 5,
        "start_time": "2022-01-08T15:38:20.405Z"
      },
      {
        "duration": 7,
        "start_time": "2022-01-08T15:38:20.411Z"
      },
      {
        "duration": 4,
        "start_time": "2022-01-08T15:38:20.420Z"
      },
      {
        "duration": 6,
        "start_time": "2022-01-08T15:38:20.425Z"
      },
      {
        "duration": 6,
        "start_time": "2022-01-08T15:38:20.433Z"
      },
      {
        "duration": 8,
        "start_time": "2022-01-08T15:38:20.440Z"
      },
      {
        "duration": 6,
        "start_time": "2022-01-08T15:38:20.449Z"
      },
      {
        "duration": 4,
        "start_time": "2022-01-08T15:38:20.456Z"
      },
      {
        "duration": 4,
        "start_time": "2022-01-08T15:38:20.462Z"
      },
      {
        "duration": 4,
        "start_time": "2022-01-08T15:38:20.467Z"
      },
      {
        "duration": 5,
        "start_time": "2022-01-08T15:38:20.472Z"
      },
      {
        "duration": 8,
        "start_time": "2022-01-08T15:38:44.054Z"
      },
      {
        "duration": 10,
        "start_time": "2022-01-08T15:48:47.101Z"
      },
      {
        "duration": 541,
        "start_time": "2022-01-08T15:49:51.963Z"
      },
      {
        "duration": 115,
        "start_time": "2022-01-08T15:49:52.506Z"
      },
      {
        "duration": 15,
        "start_time": "2022-01-08T15:49:52.623Z"
      },
      {
        "duration": 11,
        "start_time": "2022-01-08T15:49:52.639Z"
      },
      {
        "duration": 5,
        "start_time": "2022-01-08T15:49:52.651Z"
      },
      {
        "duration": 19,
        "start_time": "2022-01-08T15:49:52.657Z"
      },
      {
        "duration": 8,
        "start_time": "2022-01-08T15:49:52.677Z"
      },
      {
        "duration": 21,
        "start_time": "2022-01-08T15:49:52.688Z"
      },
      {
        "duration": 15,
        "start_time": "2022-01-08T15:49:52.726Z"
      },
      {
        "duration": 20,
        "start_time": "2022-01-08T15:49:52.742Z"
      },
      {
        "duration": 67,
        "start_time": "2022-01-08T15:49:52.764Z"
      },
      {
        "duration": 59,
        "start_time": "2022-01-08T15:49:52.833Z"
      },
      {
        "duration": 62,
        "start_time": "2022-01-08T15:49:52.894Z"
      },
      {
        "duration": 35,
        "start_time": "2022-01-08T15:49:52.958Z"
      },
      {
        "duration": 5,
        "start_time": "2022-01-08T15:49:52.994Z"
      },
      {
        "duration": 20,
        "start_time": "2022-01-08T15:49:53.001Z"
      },
      {
        "duration": 34,
        "start_time": "2022-01-08T15:49:53.026Z"
      },
      {
        "duration": 8,
        "start_time": "2022-01-08T15:49:53.062Z"
      },
      {
        "duration": 14,
        "start_time": "2022-01-08T15:49:53.071Z"
      },
      {
        "duration": 12,
        "start_time": "2022-01-08T15:49:53.086Z"
      },
      {
        "duration": 24,
        "start_time": "2022-01-08T15:49:53.100Z"
      },
      {
        "duration": 8,
        "start_time": "2022-01-08T15:49:53.125Z"
      },
      {
        "duration": 9,
        "start_time": "2022-01-08T15:49:53.135Z"
      },
      {
        "duration": 10,
        "start_time": "2022-01-08T15:49:53.145Z"
      },
      {
        "duration": 19,
        "start_time": "2022-01-08T15:49:53.157Z"
      },
      {
        "duration": 14,
        "start_time": "2022-01-08T15:49:53.177Z"
      },
      {
        "duration": 17,
        "start_time": "2022-01-08T15:49:53.193Z"
      },
      {
        "duration": 9,
        "start_time": "2022-01-08T15:49:53.211Z"
      },
      {
        "duration": 13,
        "start_time": "2022-01-08T15:49:53.221Z"
      },
      {
        "duration": 12,
        "start_time": "2022-01-08T15:49:53.235Z"
      },
      {
        "duration": 17,
        "start_time": "2022-01-08T15:49:53.248Z"
      },
      {
        "duration": 18,
        "start_time": "2022-01-08T15:49:53.266Z"
      },
      {
        "duration": 20,
        "start_time": "2022-01-08T15:49:53.285Z"
      },
      {
        "duration": 10,
        "start_time": "2022-01-08T15:49:53.306Z"
      },
      {
        "duration": 13,
        "start_time": "2022-01-08T15:49:53.317Z"
      },
      {
        "duration": 10,
        "start_time": "2022-01-08T15:49:53.332Z"
      },
      {
        "duration": 11,
        "start_time": "2022-01-08T15:49:53.343Z"
      },
      {
        "duration": 12,
        "start_time": "2022-01-08T15:49:53.355Z"
      },
      {
        "duration": 423,
        "start_time": "2022-01-08T15:53:08.316Z"
      },
      {
        "duration": 9,
        "start_time": "2022-01-08T15:53:44.309Z"
      },
      {
        "duration": 117,
        "start_time": "2022-01-08T17:00:23.494Z"
      },
      {
        "duration": 4,
        "start_time": "2022-01-08T17:00:43.859Z"
      },
      {
        "duration": 685,
        "start_time": "2022-01-08T17:03:27.219Z"
      },
      {
        "duration": 775,
        "start_time": "2022-01-08T17:04:31.174Z"
      },
      {
        "duration": 715,
        "start_time": "2022-01-08T17:09:02.378Z"
      },
      {
        "duration": 127,
        "start_time": "2022-01-08T17:09:14.643Z"
      },
      {
        "duration": 113,
        "start_time": "2022-01-08T17:10:45.789Z"
      },
      {
        "duration": 116,
        "start_time": "2022-01-08T17:11:49.508Z"
      },
      {
        "duration": 139,
        "start_time": "2022-01-08T17:13:14.750Z"
      },
      {
        "duration": 112,
        "start_time": "2022-01-08T17:14:17.359Z"
      },
      {
        "duration": 113,
        "start_time": "2022-01-08T17:14:47.998Z"
      },
      {
        "duration": 3,
        "start_time": "2022-01-08T17:22:32.458Z"
      },
      {
        "duration": 16,
        "start_time": "2022-01-08T17:22:46.403Z"
      },
      {
        "duration": 13,
        "start_time": "2022-01-08T17:23:41.074Z"
      },
      {
        "duration": 619,
        "start_time": "2022-01-08T17:25:48.415Z"
      },
      {
        "duration": 128,
        "start_time": "2022-01-08T17:25:49.039Z"
      },
      {
        "duration": 18,
        "start_time": "2022-01-08T17:25:49.169Z"
      },
      {
        "duration": 11,
        "start_time": "2022-01-08T17:25:49.189Z"
      },
      {
        "duration": 6,
        "start_time": "2022-01-08T17:25:49.202Z"
      },
      {
        "duration": 29,
        "start_time": "2022-01-08T17:25:49.210Z"
      },
      {
        "duration": 5,
        "start_time": "2022-01-08T17:25:49.241Z"
      },
      {
        "duration": 26,
        "start_time": "2022-01-08T17:25:49.249Z"
      },
      {
        "duration": 19,
        "start_time": "2022-01-08T17:25:49.277Z"
      },
      {
        "duration": 34,
        "start_time": "2022-01-08T17:25:49.298Z"
      },
      {
        "duration": 66,
        "start_time": "2022-01-08T17:25:49.333Z"
      },
      {
        "duration": 86,
        "start_time": "2022-01-08T17:25:49.401Z"
      },
      {
        "duration": 72,
        "start_time": "2022-01-08T17:25:49.490Z"
      },
      {
        "duration": 69,
        "start_time": "2022-01-08T17:25:49.564Z"
      },
      {
        "duration": 3,
        "start_time": "2022-01-08T17:25:49.635Z"
      },
      {
        "duration": 25,
        "start_time": "2022-01-08T17:25:49.640Z"
      },
      {
        "duration": 84,
        "start_time": "2022-01-08T17:25:49.667Z"
      },
      {
        "duration": 13,
        "start_time": "2022-01-08T17:25:49.753Z"
      },
      {
        "duration": 19,
        "start_time": "2022-01-08T17:25:49.768Z"
      },
      {
        "duration": 4,
        "start_time": "2022-01-08T17:25:49.789Z"
      },
      {
        "duration": 43,
        "start_time": "2022-01-08T17:25:49.795Z"
      },
      {
        "duration": 19,
        "start_time": "2022-01-08T17:25:49.840Z"
      },
      {
        "duration": 14,
        "start_time": "2022-01-08T17:25:49.860Z"
      },
      {
        "duration": 17,
        "start_time": "2022-01-08T17:25:49.876Z"
      },
      {
        "duration": 34,
        "start_time": "2022-01-08T17:25:49.894Z"
      },
      {
        "duration": 13,
        "start_time": "2022-01-08T17:25:49.930Z"
      },
      {
        "duration": 8,
        "start_time": "2022-01-08T17:25:49.944Z"
      },
      {
        "duration": 19,
        "start_time": "2022-01-08T17:25:49.953Z"
      },
      {
        "duration": 4,
        "start_time": "2022-01-08T17:25:49.974Z"
      },
      {
        "duration": 4,
        "start_time": "2022-01-08T17:25:49.980Z"
      },
      {
        "duration": 5,
        "start_time": "2022-01-08T17:25:49.986Z"
      },
      {
        "duration": 4,
        "start_time": "2022-01-08T17:25:49.993Z"
      },
      {
        "duration": 13,
        "start_time": "2022-01-08T17:25:49.998Z"
      },
      {
        "duration": 5,
        "start_time": "2022-01-08T17:25:50.013Z"
      },
      {
        "duration": 7,
        "start_time": "2022-01-08T17:25:50.020Z"
      },
      {
        "duration": 18,
        "start_time": "2022-01-08T17:25:50.029Z"
      },
      {
        "duration": 5,
        "start_time": "2022-01-08T17:25:50.048Z"
      },
      {
        "duration": 5,
        "start_time": "2022-01-08T17:25:50.055Z"
      },
      {
        "duration": 117,
        "start_time": "2022-01-08T17:36:28.792Z"
      },
      {
        "duration": 415,
        "start_time": "2022-01-08T17:39:28.724Z"
      },
      {
        "duration": 104,
        "start_time": "2022-01-08T17:48:44.256Z"
      },
      {
        "duration": 108,
        "start_time": "2022-01-08T17:52:02.302Z"
      },
      {
        "duration": 329,
        "start_time": "2022-01-08T17:52:20.280Z"
      },
      {
        "duration": 4,
        "start_time": "2022-01-08T17:52:52.363Z"
      },
      {
        "duration": 566,
        "start_time": "2022-01-08T17:53:09.431Z"
      },
      {
        "duration": 119,
        "start_time": "2022-01-08T17:53:09.998Z"
      },
      {
        "duration": 14,
        "start_time": "2022-01-08T17:53:10.119Z"
      },
      {
        "duration": 6,
        "start_time": "2022-01-08T17:53:10.135Z"
      },
      {
        "duration": 4,
        "start_time": "2022-01-08T17:53:10.142Z"
      },
      {
        "duration": 20,
        "start_time": "2022-01-08T17:53:10.148Z"
      },
      {
        "duration": 3,
        "start_time": "2022-01-08T17:53:10.170Z"
      },
      {
        "duration": 19,
        "start_time": "2022-01-08T17:53:10.175Z"
      },
      {
        "duration": 38,
        "start_time": "2022-01-08T17:53:10.196Z"
      },
      {
        "duration": 19,
        "start_time": "2022-01-08T17:53:10.236Z"
      },
      {
        "duration": 53,
        "start_time": "2022-01-08T17:53:10.257Z"
      },
      {
        "duration": 68,
        "start_time": "2022-01-08T17:53:10.311Z"
      },
      {
        "duration": 55,
        "start_time": "2022-01-08T17:53:10.380Z"
      },
      {
        "duration": 34,
        "start_time": "2022-01-08T17:53:10.437Z"
      },
      {
        "duration": 2,
        "start_time": "2022-01-08T17:53:10.473Z"
      },
      {
        "duration": 14,
        "start_time": "2022-01-08T17:53:10.477Z"
      },
      {
        "duration": 56,
        "start_time": "2022-01-08T17:53:10.493Z"
      },
      {
        "duration": 8,
        "start_time": "2022-01-08T17:53:10.551Z"
      },
      {
        "duration": 8,
        "start_time": "2022-01-08T17:53:10.560Z"
      },
      {
        "duration": 3,
        "start_time": "2022-01-08T17:53:10.570Z"
      },
      {
        "duration": 17,
        "start_time": "2022-01-08T17:53:10.574Z"
      },
      {
        "duration": 36,
        "start_time": "2022-01-08T17:53:10.592Z"
      },
      {
        "duration": 12,
        "start_time": "2022-01-08T17:53:10.630Z"
      },
      {
        "duration": 12,
        "start_time": "2022-01-08T17:53:10.643Z"
      },
      {
        "duration": 12,
        "start_time": "2022-01-08T17:53:10.657Z"
      },
      {
        "duration": 11,
        "start_time": "2022-01-08T17:53:10.671Z"
      },
      {
        "duration": 3,
        "start_time": "2022-01-08T17:53:10.683Z"
      },
      {
        "duration": 3,
        "start_time": "2022-01-08T17:53:10.688Z"
      },
      {
        "duration": 4,
        "start_time": "2022-01-08T17:53:10.693Z"
      },
      {
        "duration": 30,
        "start_time": "2022-01-08T17:53:10.698Z"
      },
      {
        "duration": 6,
        "start_time": "2022-01-08T17:53:10.729Z"
      },
      {
        "duration": 7,
        "start_time": "2022-01-08T17:53:10.736Z"
      },
      {
        "duration": 10,
        "start_time": "2022-01-08T17:53:10.744Z"
      },
      {
        "duration": 5,
        "start_time": "2022-01-08T17:53:10.755Z"
      },
      {
        "duration": 5,
        "start_time": "2022-01-08T17:53:10.761Z"
      },
      {
        "duration": 7,
        "start_time": "2022-01-08T17:53:10.767Z"
      },
      {
        "duration": 7,
        "start_time": "2022-01-08T17:53:10.775Z"
      },
      {
        "duration": 4,
        "start_time": "2022-01-08T17:53:10.783Z"
      },
      {
        "duration": 8,
        "start_time": "2022-01-08T17:53:47.909Z"
      },
      {
        "duration": 10,
        "start_time": "2022-01-08T17:58:19.240Z"
      },
      {
        "duration": 9,
        "start_time": "2022-01-08T17:59:10.208Z"
      },
      {
        "duration": 576,
        "start_time": "2022-01-08T17:59:30.379Z"
      },
      {
        "duration": 121,
        "start_time": "2022-01-08T17:59:30.957Z"
      },
      {
        "duration": 16,
        "start_time": "2022-01-08T17:59:31.080Z"
      },
      {
        "duration": 14,
        "start_time": "2022-01-08T17:59:31.098Z"
      },
      {
        "duration": 15,
        "start_time": "2022-01-08T17:59:31.113Z"
      },
      {
        "duration": 21,
        "start_time": "2022-01-08T17:59:31.129Z"
      },
      {
        "duration": 6,
        "start_time": "2022-01-08T17:59:31.152Z"
      },
      {
        "duration": 34,
        "start_time": "2022-01-08T17:59:31.160Z"
      },
      {
        "duration": 18,
        "start_time": "2022-01-08T17:59:31.196Z"
      },
      {
        "duration": 28,
        "start_time": "2022-01-08T17:59:31.216Z"
      },
      {
        "duration": 54,
        "start_time": "2022-01-08T17:59:31.245Z"
      },
      {
        "duration": 71,
        "start_time": "2022-01-08T17:59:31.301Z"
      },
      {
        "duration": 42,
        "start_time": "2022-01-08T17:59:31.373Z"
      },
      {
        "duration": 43,
        "start_time": "2022-01-08T17:59:31.416Z"
      },
      {
        "duration": 2,
        "start_time": "2022-01-08T17:59:31.460Z"
      },
      {
        "duration": 17,
        "start_time": "2022-01-08T17:59:31.464Z"
      },
      {
        "duration": 48,
        "start_time": "2022-01-08T17:59:31.482Z"
      },
      {
        "duration": 149,
        "start_time": "2022-01-08T17:59:31.531Z"
      },
      {
        "duration": 9,
        "start_time": "2022-01-08T17:59:31.681Z"
      },
      {
        "duration": 3,
        "start_time": "2022-01-08T17:59:31.691Z"
      },
      {
        "duration": 15,
        "start_time": "2022-01-08T17:59:31.696Z"
      },
      {
        "duration": 11,
        "start_time": "2022-01-08T17:59:31.713Z"
      },
      {
        "duration": 12,
        "start_time": "2022-01-08T17:59:31.727Z"
      },
      {
        "duration": 11,
        "start_time": "2022-01-08T17:59:31.741Z"
      },
      {
        "duration": 12,
        "start_time": "2022-01-08T17:59:31.753Z"
      },
      {
        "duration": 11,
        "start_time": "2022-01-08T17:59:31.766Z"
      },
      {
        "duration": 7,
        "start_time": "2022-01-08T17:59:31.778Z"
      },
      {
        "duration": 10,
        "start_time": "2022-01-08T17:59:31.787Z"
      },
      {
        "duration": 37,
        "start_time": "2022-01-08T17:59:31.798Z"
      },
      {
        "duration": 5,
        "start_time": "2022-01-08T17:59:31.836Z"
      },
      {
        "duration": 6,
        "start_time": "2022-01-08T17:59:31.843Z"
      },
      {
        "duration": 5,
        "start_time": "2022-01-08T17:59:31.850Z"
      },
      {
        "duration": 7,
        "start_time": "2022-01-08T17:59:31.856Z"
      },
      {
        "duration": 5,
        "start_time": "2022-01-08T17:59:31.864Z"
      },
      {
        "duration": 4,
        "start_time": "2022-01-08T17:59:31.870Z"
      },
      {
        "duration": 4,
        "start_time": "2022-01-08T17:59:31.875Z"
      },
      {
        "duration": 8,
        "start_time": "2022-01-08T17:59:31.880Z"
      },
      {
        "duration": 10,
        "start_time": "2022-01-08T17:59:31.889Z"
      },
      {
        "duration": 5,
        "start_time": "2022-01-08T18:20:08.361Z"
      },
      {
        "duration": 751,
        "start_time": "2022-01-08T18:20:56.090Z"
      },
      {
        "duration": 616,
        "start_time": "2022-01-08T18:24:23.727Z"
      },
      {
        "duration": 118,
        "start_time": "2022-01-08T18:24:24.345Z"
      },
      {
        "duration": 15,
        "start_time": "2022-01-08T18:24:24.465Z"
      },
      {
        "duration": 7,
        "start_time": "2022-01-08T18:24:24.482Z"
      },
      {
        "duration": 5,
        "start_time": "2022-01-08T18:24:24.491Z"
      },
      {
        "duration": 37,
        "start_time": "2022-01-08T18:24:24.497Z"
      },
      {
        "duration": 3,
        "start_time": "2022-01-08T18:24:24.536Z"
      },
      {
        "duration": 19,
        "start_time": "2022-01-08T18:24:24.541Z"
      },
      {
        "duration": 14,
        "start_time": "2022-01-08T18:24:24.561Z"
      },
      {
        "duration": 23,
        "start_time": "2022-01-08T18:24:24.576Z"
      },
      {
        "duration": 72,
        "start_time": "2022-01-08T18:24:24.600Z"
      },
      {
        "duration": 72,
        "start_time": "2022-01-08T18:24:24.674Z"
      },
      {
        "duration": 44,
        "start_time": "2022-01-08T18:24:24.748Z"
      },
      {
        "duration": 44,
        "start_time": "2022-01-08T18:24:24.793Z"
      },
      {
        "duration": 2,
        "start_time": "2022-01-08T18:24:24.839Z"
      },
      {
        "duration": 16,
        "start_time": "2022-01-08T18:24:24.842Z"
      },
      {
        "duration": 35,
        "start_time": "2022-01-08T18:24:24.859Z"
      },
      {
        "duration": 8,
        "start_time": "2022-01-08T18:24:24.895Z"
      },
      {
        "duration": 7,
        "start_time": "2022-01-08T18:24:24.927Z"
      },
      {
        "duration": 2,
        "start_time": "2022-01-08T18:24:24.936Z"
      },
      {
        "duration": 17,
        "start_time": "2022-01-08T18:24:24.940Z"
      },
      {
        "duration": 11,
        "start_time": "2022-01-08T18:24:24.958Z"
      },
      {
        "duration": 11,
        "start_time": "2022-01-08T18:24:24.971Z"
      },
      {
        "duration": 10,
        "start_time": "2022-01-08T18:24:24.984Z"
      },
      {
        "duration": 37,
        "start_time": "2022-01-08T18:24:24.996Z"
      },
      {
        "duration": 12,
        "start_time": "2022-01-08T18:24:25.034Z"
      },
      {
        "duration": 7,
        "start_time": "2022-01-08T18:24:25.047Z"
      },
      {
        "duration": 11,
        "start_time": "2022-01-08T18:24:25.056Z"
      },
      {
        "duration": 7,
        "start_time": "2022-01-08T18:24:25.068Z"
      },
      {
        "duration": 3,
        "start_time": "2022-01-08T18:24:25.076Z"
      },
      {
        "duration": 9829,
        "start_time": "2022-01-08T18:24:25.081Z"
      },
      {
        "duration": 3389,
        "start_time": "2022-01-08T18:24:31.523Z"
      },
      {
        "duration": 3385,
        "start_time": "2022-01-08T18:24:31.528Z"
      },
      {
        "duration": 3382,
        "start_time": "2022-01-08T18:24:31.532Z"
      },
      {
        "duration": 3379,
        "start_time": "2022-01-08T18:24:31.536Z"
      },
      {
        "duration": 3375,
        "start_time": "2022-01-08T18:24:31.541Z"
      },
      {
        "duration": 3371,
        "start_time": "2022-01-08T18:24:31.545Z"
      },
      {
        "duration": 3368,
        "start_time": "2022-01-08T18:24:31.549Z"
      },
      {
        "duration": 590,
        "start_time": "2022-01-08T18:26:20.321Z"
      },
      {
        "duration": 119,
        "start_time": "2022-01-08T18:26:20.913Z"
      },
      {
        "duration": 14,
        "start_time": "2022-01-08T18:26:21.034Z"
      },
      {
        "duration": 8,
        "start_time": "2022-01-08T18:26:21.050Z"
      },
      {
        "duration": 5,
        "start_time": "2022-01-08T18:26:21.059Z"
      },
      {
        "duration": 16,
        "start_time": "2022-01-08T18:26:21.065Z"
      },
      {
        "duration": 3,
        "start_time": "2022-01-08T18:26:21.083Z"
      },
      {
        "duration": 42,
        "start_time": "2022-01-08T18:26:21.088Z"
      },
      {
        "duration": 14,
        "start_time": "2022-01-08T18:26:21.132Z"
      },
      {
        "duration": 18,
        "start_time": "2022-01-08T18:26:21.147Z"
      },
      {
        "duration": 61,
        "start_time": "2022-01-08T18:26:21.167Z"
      },
      {
        "duration": 59,
        "start_time": "2022-01-08T18:26:21.229Z"
      },
      {
        "duration": 55,
        "start_time": "2022-01-08T18:26:21.289Z"
      },
      {
        "duration": 16,
        "start_time": "2022-01-08T18:26:21.386Z"
      },
      {
        "duration": 55,
        "start_time": "2022-01-08T18:26:21.403Z"
      },
      {
        "duration": 8,
        "start_time": "2022-01-08T18:26:21.460Z"
      },
      {
        "duration": 11,
        "start_time": "2022-01-08T18:26:21.469Z"
      },
      {
        "duration": 3,
        "start_time": "2022-01-08T18:26:21.481Z"
      },
      {
        "duration": 17,
        "start_time": "2022-01-08T18:26:21.485Z"
      },
      {
        "duration": 27,
        "start_time": "2022-01-08T18:26:21.504Z"
      },
      {
        "duration": 11,
        "start_time": "2022-01-08T18:26:21.533Z"
      },
      {
        "duration": 11,
        "start_time": "2022-01-08T18:26:21.546Z"
      },
      {
        "duration": 12,
        "start_time": "2022-01-08T18:26:21.558Z"
      },
      {
        "duration": 10,
        "start_time": "2022-01-08T18:26:21.572Z"
      },
      {
        "duration": 8,
        "start_time": "2022-01-08T18:26:21.583Z"
      },
      {
        "duration": 42,
        "start_time": "2022-01-08T18:26:21.592Z"
      },
      {
        "duration": 6,
        "start_time": "2022-01-08T18:26:21.636Z"
      },
      {
        "duration": 3,
        "start_time": "2022-01-08T18:26:21.644Z"
      },
      {
        "duration": 10190,
        "start_time": "2022-01-08T18:26:21.649Z"
      },
      {
        "duration": 3390,
        "start_time": "2022-01-08T18:26:28.450Z"
      },
      {
        "duration": 3381,
        "start_time": "2022-01-08T18:26:28.460Z"
      },
      {
        "duration": 3378,
        "start_time": "2022-01-08T18:26:28.464Z"
      },
      {
        "duration": 3370,
        "start_time": "2022-01-08T18:26:28.473Z"
      },
      {
        "duration": 3368,
        "start_time": "2022-01-08T18:26:28.476Z"
      },
      {
        "duration": 3365,
        "start_time": "2022-01-08T18:26:28.480Z"
      },
      {
        "duration": 3363,
        "start_time": "2022-01-08T18:26:28.483Z"
      },
      {
        "duration": 539,
        "start_time": "2022-01-08T18:26:40.860Z"
      },
      {
        "duration": 118,
        "start_time": "2022-01-08T18:26:41.400Z"
      },
      {
        "duration": 15,
        "start_time": "2022-01-08T18:26:41.520Z"
      },
      {
        "duration": 8,
        "start_time": "2022-01-08T18:26:41.537Z"
      },
      {
        "duration": 5,
        "start_time": "2022-01-08T18:26:41.546Z"
      },
      {
        "duration": 16,
        "start_time": "2022-01-08T18:26:41.552Z"
      },
      {
        "duration": 4,
        "start_time": "2022-01-08T18:26:41.569Z"
      },
      {
        "duration": 19,
        "start_time": "2022-01-08T18:26:41.576Z"
      },
      {
        "duration": 40,
        "start_time": "2022-01-08T18:26:41.597Z"
      },
      {
        "duration": 18,
        "start_time": "2022-01-08T18:26:41.638Z"
      },
      {
        "duration": 49,
        "start_time": "2022-01-08T18:26:41.657Z"
      },
      {
        "duration": 71,
        "start_time": "2022-01-08T18:26:41.707Z"
      },
      {
        "duration": 51,
        "start_time": "2022-01-08T18:26:41.779Z"
      },
      {
        "duration": 35,
        "start_time": "2022-01-08T18:26:41.832Z"
      },
      {
        "duration": 2,
        "start_time": "2022-01-08T18:26:41.869Z"
      },
      {
        "duration": 15,
        "start_time": "2022-01-08T18:26:41.872Z"
      },
      {
        "duration": 52,
        "start_time": "2022-01-08T18:26:41.889Z"
      },
      {
        "duration": 9,
        "start_time": "2022-01-08T18:26:41.942Z"
      },
      {
        "duration": 9,
        "start_time": "2022-01-08T18:26:41.952Z"
      },
      {
        "duration": 3,
        "start_time": "2022-01-08T18:26:41.962Z"
      },
      {
        "duration": 19,
        "start_time": "2022-01-08T18:26:41.966Z"
      },
      {
        "duration": 12,
        "start_time": "2022-01-08T18:26:41.987Z"
      },
      {
        "duration": 36,
        "start_time": "2022-01-08T18:26:42.002Z"
      },
      {
        "duration": 12,
        "start_time": "2022-01-08T18:26:42.040Z"
      },
      {
        "duration": 14,
        "start_time": "2022-01-08T18:26:42.053Z"
      },
      {
        "duration": 12,
        "start_time": "2022-01-08T18:26:42.069Z"
      },
      {
        "duration": 7,
        "start_time": "2022-01-08T18:26:42.082Z"
      },
      {
        "duration": 43,
        "start_time": "2022-01-08T18:26:42.091Z"
      },
      {
        "duration": 8,
        "start_time": "2022-01-08T18:26:42.136Z"
      },
      {
        "duration": 4,
        "start_time": "2022-01-08T18:26:42.146Z"
      },
      {
        "duration": 9569,
        "start_time": "2022-01-08T18:26:42.151Z"
      },
      {
        "duration": 3386,
        "start_time": "2022-01-08T18:26:48.336Z"
      },
      {
        "duration": 3382,
        "start_time": "2022-01-08T18:26:48.342Z"
      },
      {
        "duration": 3376,
        "start_time": "2022-01-08T18:26:48.349Z"
      },
      {
        "duration": 3375,
        "start_time": "2022-01-08T18:26:48.352Z"
      },
      {
        "duration": 3371,
        "start_time": "2022-01-08T18:26:48.357Z"
      },
      {
        "duration": 3368,
        "start_time": "2022-01-08T18:26:48.361Z"
      },
      {
        "duration": 3367,
        "start_time": "2022-01-08T18:26:48.364Z"
      },
      {
        "duration": 5,
        "start_time": "2022-01-08T18:30:56.543Z"
      },
      {
        "duration": 27,
        "start_time": "2022-01-08T18:31:03.562Z"
      },
      {
        "duration": 24,
        "start_time": "2022-01-08T18:31:22.713Z"
      },
      {
        "duration": 22,
        "start_time": "2022-01-08T18:31:44.331Z"
      },
      {
        "duration": 584,
        "start_time": "2022-01-08T18:32:03.353Z"
      },
      {
        "duration": 126,
        "start_time": "2022-01-08T18:32:03.939Z"
      },
      {
        "duration": 16,
        "start_time": "2022-01-08T18:32:04.067Z"
      },
      {
        "duration": 8,
        "start_time": "2022-01-08T18:32:04.085Z"
      },
      {
        "duration": 5,
        "start_time": "2022-01-08T18:32:04.094Z"
      },
      {
        "duration": 38,
        "start_time": "2022-01-08T18:32:04.101Z"
      },
      {
        "duration": 4,
        "start_time": "2022-01-08T18:32:04.142Z"
      },
      {
        "duration": 24,
        "start_time": "2022-01-08T18:32:04.149Z"
      },
      {
        "duration": 15,
        "start_time": "2022-01-08T18:32:04.175Z"
      },
      {
        "duration": 40,
        "start_time": "2022-01-08T18:32:04.191Z"
      },
      {
        "duration": 68,
        "start_time": "2022-01-08T18:32:04.232Z"
      },
      {
        "duration": 65,
        "start_time": "2022-01-08T18:32:04.302Z"
      },
      {
        "duration": 42,
        "start_time": "2022-01-08T18:32:04.368Z"
      },
      {
        "duration": 47,
        "start_time": "2022-01-08T18:32:04.411Z"
      },
      {
        "duration": 4,
        "start_time": "2022-01-08T18:32:04.459Z"
      },
      {
        "duration": 17,
        "start_time": "2022-01-08T18:32:04.465Z"
      },
      {
        "duration": 48,
        "start_time": "2022-01-08T18:32:04.483Z"
      },
      {
        "duration": 15,
        "start_time": "2022-01-08T18:32:04.532Z"
      },
      {
        "duration": 10,
        "start_time": "2022-01-08T18:32:04.548Z"
      },
      {
        "duration": 3,
        "start_time": "2022-01-08T18:32:04.559Z"
      },
      {
        "duration": 17,
        "start_time": "2022-01-08T18:32:04.563Z"
      },
      {
        "duration": 11,
        "start_time": "2022-01-08T18:32:04.582Z"
      },
      {
        "duration": 41,
        "start_time": "2022-01-08T18:32:04.596Z"
      },
      {
        "duration": 20,
        "start_time": "2022-01-08T18:32:04.639Z"
      },
      {
        "duration": 14,
        "start_time": "2022-01-08T18:32:04.660Z"
      },
      {
        "duration": 13,
        "start_time": "2022-01-08T18:32:04.675Z"
      },
      {
        "duration": 7,
        "start_time": "2022-01-08T18:32:04.689Z"
      },
      {
        "duration": 30,
        "start_time": "2022-01-08T18:32:04.697Z"
      },
      {
        "duration": 12,
        "start_time": "2022-01-08T18:32:04.729Z"
      },
      {
        "duration": 5,
        "start_time": "2022-01-08T18:32:04.743Z"
      },
      {
        "duration": 19,
        "start_time": "2022-01-08T18:32:04.749Z"
      },
      {
        "duration": 2,
        "start_time": "2022-01-08T18:32:04.769Z"
      },
      {
        "duration": 4,
        "start_time": "2022-01-08T18:32:04.772Z"
      },
      {
        "duration": 4,
        "start_time": "2022-01-08T18:32:04.777Z"
      },
      {
        "duration": 4,
        "start_time": "2022-01-08T18:32:04.783Z"
      },
      {
        "duration": 4,
        "start_time": "2022-01-08T18:32:04.788Z"
      },
      {
        "duration": 3,
        "start_time": "2022-01-08T18:32:04.793Z"
      },
      {
        "duration": 3,
        "start_time": "2022-01-08T18:32:04.798Z"
      },
      {
        "duration": 4,
        "start_time": "2022-01-08T18:32:42.120Z"
      },
      {
        "duration": 20,
        "start_time": "2022-01-08T18:32:48.941Z"
      },
      {
        "duration": 4,
        "start_time": "2022-01-08T18:36:18.919Z"
      },
      {
        "duration": 17,
        "start_time": "2022-01-08T18:36:27.599Z"
      },
      {
        "duration": 792,
        "start_time": "2022-01-08T18:36:33.775Z"
      },
      {
        "duration": 122,
        "start_time": "2022-01-08T18:36:34.569Z"
      },
      {
        "duration": 15,
        "start_time": "2022-01-08T18:36:34.693Z"
      },
      {
        "duration": 17,
        "start_time": "2022-01-08T18:36:34.710Z"
      },
      {
        "duration": 4,
        "start_time": "2022-01-08T18:36:34.728Z"
      },
      {
        "duration": 22,
        "start_time": "2022-01-08T18:36:34.733Z"
      },
      {
        "duration": 4,
        "start_time": "2022-01-08T18:36:34.757Z"
      },
      {
        "duration": 34,
        "start_time": "2022-01-08T18:36:34.764Z"
      },
      {
        "duration": 42,
        "start_time": "2022-01-08T18:36:34.801Z"
      },
      {
        "duration": 38,
        "start_time": "2022-01-08T18:36:34.845Z"
      },
      {
        "duration": 90,
        "start_time": "2022-01-08T18:36:34.885Z"
      },
      {
        "duration": 92,
        "start_time": "2022-01-08T18:36:34.977Z"
      },
      {
        "duration": 77,
        "start_time": "2022-01-08T18:36:35.071Z"
      },
      {
        "duration": 60,
        "start_time": "2022-01-08T18:36:35.150Z"
      },
      {
        "duration": 3,
        "start_time": "2022-01-08T18:36:35.212Z"
      },
      {
        "duration": 22,
        "start_time": "2022-01-08T18:36:35.217Z"
      },
      {
        "duration": 37,
        "start_time": "2022-01-08T18:36:35.241Z"
      },
      {
        "duration": 11,
        "start_time": "2022-01-08T18:36:35.279Z"
      },
      {
        "duration": 38,
        "start_time": "2022-01-08T18:36:35.291Z"
      },
      {
        "duration": 3,
        "start_time": "2022-01-08T18:36:35.331Z"
      },
      {
        "duration": 18,
        "start_time": "2022-01-08T18:36:35.335Z"
      },
      {
        "duration": 11,
        "start_time": "2022-01-08T18:36:35.355Z"
      },
      {
        "duration": 16,
        "start_time": "2022-01-08T18:36:35.369Z"
      },
      {
        "duration": 11,
        "start_time": "2022-01-08T18:36:35.387Z"
      },
      {
        "duration": 38,
        "start_time": "2022-01-08T18:36:35.399Z"
      },
      {
        "duration": 11,
        "start_time": "2022-01-08T18:36:35.438Z"
      },
      {
        "duration": 8,
        "start_time": "2022-01-08T18:36:35.451Z"
      },
      {
        "duration": 12,
        "start_time": "2022-01-08T18:36:35.460Z"
      },
      {
        "duration": 8,
        "start_time": "2022-01-08T18:36:35.473Z"
      },
      {
        "duration": 7,
        "start_time": "2022-01-08T18:36:35.482Z"
      },
      {
        "duration": 37,
        "start_time": "2022-01-08T18:36:35.490Z"
      },
      {
        "duration": 2,
        "start_time": "2022-01-08T18:36:35.529Z"
      },
      {
        "duration": 9,
        "start_time": "2022-01-08T18:36:35.532Z"
      },
      {
        "duration": 7,
        "start_time": "2022-01-08T18:36:35.542Z"
      },
      {
        "duration": 6,
        "start_time": "2022-01-08T18:36:35.551Z"
      },
      {
        "duration": 4,
        "start_time": "2022-01-08T18:36:35.559Z"
      },
      {
        "duration": 4,
        "start_time": "2022-01-08T18:36:35.565Z"
      },
      {
        "duration": 4,
        "start_time": "2022-01-08T18:36:35.571Z"
      },
      {
        "duration": 772,
        "start_time": "2022-01-09T07:32:04.053Z"
      },
      {
        "duration": 178,
        "start_time": "2022-01-09T07:32:04.827Z"
      },
      {
        "duration": 23,
        "start_time": "2022-01-09T07:32:05.008Z"
      },
      {
        "duration": 26,
        "start_time": "2022-01-09T07:32:05.034Z"
      },
      {
        "duration": 6,
        "start_time": "2022-01-09T07:32:05.063Z"
      },
      {
        "duration": 25,
        "start_time": "2022-01-09T07:32:05.071Z"
      },
      {
        "duration": 7,
        "start_time": "2022-01-09T07:32:05.099Z"
      },
      {
        "duration": 66,
        "start_time": "2022-01-09T07:32:05.110Z"
      },
      {
        "duration": 22,
        "start_time": "2022-01-09T07:32:05.179Z"
      },
      {
        "duration": 56,
        "start_time": "2022-01-09T07:32:05.203Z"
      },
      {
        "duration": 81,
        "start_time": "2022-01-09T07:32:05.261Z"
      },
      {
        "duration": 119,
        "start_time": "2022-01-09T07:32:05.344Z"
      },
      {
        "duration": 75,
        "start_time": "2022-01-09T07:32:05.466Z"
      },
      {
        "duration": 61,
        "start_time": "2022-01-09T07:32:05.560Z"
      },
      {
        "duration": 5,
        "start_time": "2022-01-09T07:32:05.624Z"
      },
      {
        "duration": 23,
        "start_time": "2022-01-09T07:32:05.659Z"
      },
      {
        "duration": 76,
        "start_time": "2022-01-09T07:32:05.685Z"
      },
      {
        "duration": 18,
        "start_time": "2022-01-09T07:32:05.764Z"
      },
      {
        "duration": 14,
        "start_time": "2022-01-09T07:32:05.785Z"
      },
      {
        "duration": 5,
        "start_time": "2022-01-09T07:32:05.801Z"
      },
      {
        "duration": 64,
        "start_time": "2022-01-09T07:32:05.808Z"
      },
      {
        "duration": 19,
        "start_time": "2022-01-09T07:32:05.875Z"
      },
      {
        "duration": 20,
        "start_time": "2022-01-09T07:32:05.899Z"
      },
      {
        "duration": 47,
        "start_time": "2022-01-09T07:32:05.922Z"
      },
      {
        "duration": 23,
        "start_time": "2022-01-09T07:32:05.972Z"
      },
      {
        "duration": 19,
        "start_time": "2022-01-09T07:32:05.997Z"
      },
      {
        "duration": 50,
        "start_time": "2022-01-09T07:32:06.019Z"
      },
      {
        "duration": 18,
        "start_time": "2022-01-09T07:32:06.071Z"
      },
      {
        "duration": 13,
        "start_time": "2022-01-09T07:32:06.092Z"
      },
      {
        "duration": 6,
        "start_time": "2022-01-09T07:32:06.108Z"
      },
      {
        "duration": 66,
        "start_time": "2022-01-09T07:32:06.116Z"
      },
      {
        "duration": 4,
        "start_time": "2022-01-09T07:32:06.185Z"
      },
      {
        "duration": 4,
        "start_time": "2022-01-09T07:32:06.192Z"
      },
      {
        "duration": 6,
        "start_time": "2022-01-09T07:32:06.199Z"
      },
      {
        "duration": 6,
        "start_time": "2022-01-09T07:32:06.207Z"
      },
      {
        "duration": 3,
        "start_time": "2022-01-09T07:32:06.259Z"
      },
      {
        "duration": 6,
        "start_time": "2022-01-09T07:32:06.265Z"
      },
      {
        "duration": 5,
        "start_time": "2022-01-09T07:32:06.273Z"
      },
      {
        "duration": 23,
        "start_time": "2022-01-09T07:32:56.079Z"
      },
      {
        "duration": 30,
        "start_time": "2022-01-09T07:35:01.399Z"
      },
      {
        "duration": 27,
        "start_time": "2022-01-09T07:35:42.299Z"
      },
      {
        "duration": 19,
        "start_time": "2022-01-09T07:35:55.220Z"
      },
      {
        "duration": 779,
        "start_time": "2022-01-09T07:38:48.333Z"
      },
      {
        "duration": 175,
        "start_time": "2022-01-09T07:49:36.280Z"
      },
      {
        "duration": 371,
        "start_time": "2022-01-09T07:49:55.651Z"
      },
      {
        "duration": 400,
        "start_time": "2022-01-09T07:50:21.756Z"
      },
      {
        "duration": 519,
        "start_time": "2022-01-09T07:51:22.243Z"
      },
      {
        "duration": 450,
        "start_time": "2022-01-09T07:53:30.532Z"
      },
      {
        "duration": 371,
        "start_time": "2022-01-09T07:54:17.373Z"
      },
      {
        "duration": 28,
        "start_time": "2022-01-09T07:54:58.662Z"
      },
      {
        "duration": 13,
        "start_time": "2022-01-09T07:55:32.055Z"
      },
      {
        "duration": 364,
        "start_time": "2022-01-09T08:04:23.568Z"
      },
      {
        "duration": 350,
        "start_time": "2022-01-09T08:04:39.034Z"
      },
      {
        "duration": 360,
        "start_time": "2022-01-09T08:05:17.058Z"
      },
      {
        "duration": 413,
        "start_time": "2022-01-09T08:06:32.014Z"
      },
      {
        "duration": 152,
        "start_time": "2022-01-09T08:07:37.940Z"
      },
      {
        "duration": 137,
        "start_time": "2022-01-09T08:07:54.372Z"
      },
      {
        "duration": 342,
        "start_time": "2022-01-09T12:15:51.566Z"
      },
      {
        "duration": 798,
        "start_time": "2022-01-09T12:16:05.730Z"
      },
      {
        "duration": 178,
        "start_time": "2022-01-09T12:16:06.531Z"
      },
      {
        "duration": 26,
        "start_time": "2022-01-09T12:16:06.712Z"
      },
      {
        "duration": 29,
        "start_time": "2022-01-09T12:16:06.740Z"
      },
      {
        "duration": 8,
        "start_time": "2022-01-09T12:16:06.772Z"
      },
      {
        "duration": 27,
        "start_time": "2022-01-09T12:16:06.782Z"
      },
      {
        "duration": 5,
        "start_time": "2022-01-09T12:16:06.811Z"
      },
      {
        "duration": 69,
        "start_time": "2022-01-09T12:16:06.819Z"
      },
      {
        "duration": 22,
        "start_time": "2022-01-09T12:16:06.893Z"
      },
      {
        "duration": 53,
        "start_time": "2022-01-09T12:16:06.918Z"
      },
      {
        "duration": 108,
        "start_time": "2022-01-09T12:16:06.973Z"
      },
      {
        "duration": 116,
        "start_time": "2022-01-09T12:16:07.083Z"
      },
      {
        "duration": 96,
        "start_time": "2022-01-09T12:16:07.202Z"
      },
      {
        "duration": 69,
        "start_time": "2022-01-09T12:16:07.301Z"
      },
      {
        "duration": 5,
        "start_time": "2022-01-09T12:16:07.372Z"
      },
      {
        "duration": 23,
        "start_time": "2022-01-09T12:16:07.380Z"
      },
      {
        "duration": 86,
        "start_time": "2022-01-09T12:16:07.405Z"
      },
      {
        "duration": 14,
        "start_time": "2022-01-09T12:16:07.493Z"
      },
      {
        "duration": 14,
        "start_time": "2022-01-09T12:16:07.509Z"
      },
      {
        "duration": 5,
        "start_time": "2022-01-09T12:16:07.525Z"
      },
      {
        "duration": 20,
        "start_time": "2022-01-09T12:16:07.567Z"
      },
      {
        "duration": 19,
        "start_time": "2022-01-09T12:16:07.590Z"
      },
      {
        "duration": 51,
        "start_time": "2022-01-09T12:16:07.616Z"
      },
      {
        "duration": 18,
        "start_time": "2022-01-09T12:16:07.671Z"
      },
      {
        "duration": 21,
        "start_time": "2022-01-09T12:16:07.692Z"
      },
      {
        "duration": 56,
        "start_time": "2022-01-09T12:16:07.716Z"
      },
      {
        "duration": 12,
        "start_time": "2022-01-09T12:16:07.774Z"
      },
      {
        "duration": 16,
        "start_time": "2022-01-09T12:16:07.789Z"
      },
      {
        "duration": 12,
        "start_time": "2022-01-09T12:16:07.807Z"
      },
      {
        "duration": 5,
        "start_time": "2022-01-09T12:16:07.822Z"
      },
      {
        "duration": 67,
        "start_time": "2022-01-09T12:16:07.829Z"
      },
      {
        "duration": 19,
        "start_time": "2022-01-09T12:16:07.898Z"
      },
      {
        "duration": 52,
        "start_time": "2022-01-09T12:16:07.920Z"
      },
      {
        "duration": 20,
        "start_time": "2022-01-09T12:16:07.974Z"
      },
      {
        "duration": 413,
        "start_time": "2022-01-09T12:16:07.996Z"
      },
      {
        "duration": 3031,
        "start_time": "2022-01-09T12:16:05.392Z"
      },
      {
        "duration": 3021,
        "start_time": "2022-01-09T12:16:05.403Z"
      },
      {
        "duration": 3019,
        "start_time": "2022-01-09T12:16:05.407Z"
      },
      {
        "duration": 281,
        "start_time": "2022-01-09T12:16:45.612Z"
      },
      {
        "duration": 282,
        "start_time": "2022-01-09T12:21:09.409Z"
      },
      {
        "duration": 12,
        "start_time": "2022-01-09T12:21:36.638Z"
      },
      {
        "duration": 7,
        "start_time": "2022-01-09T12:21:39.919Z"
      },
      {
        "duration": 12,
        "start_time": "2022-01-09T12:23:40.312Z"
      },
      {
        "duration": 9,
        "start_time": "2022-01-09T12:24:37.545Z"
      },
      {
        "duration": 7,
        "start_time": "2022-01-09T12:24:54.410Z"
      },
      {
        "duration": 735,
        "start_time": "2022-01-09T12:29:18.722Z"
      },
      {
        "duration": 188,
        "start_time": "2022-01-09T12:29:19.460Z"
      },
      {
        "duration": 31,
        "start_time": "2022-01-09T12:29:19.651Z"
      },
      {
        "duration": 11,
        "start_time": "2022-01-09T12:29:19.684Z"
      },
      {
        "duration": 7,
        "start_time": "2022-01-09T12:29:19.698Z"
      },
      {
        "duration": 60,
        "start_time": "2022-01-09T12:29:19.707Z"
      },
      {
        "duration": 5,
        "start_time": "2022-01-09T12:29:19.770Z"
      },
      {
        "duration": 33,
        "start_time": "2022-01-09T12:29:19.779Z"
      },
      {
        "duration": 24,
        "start_time": "2022-01-09T12:29:19.815Z"
      },
      {
        "duration": 32,
        "start_time": "2022-01-09T12:29:19.868Z"
      },
      {
        "duration": 111,
        "start_time": "2022-01-09T12:29:19.903Z"
      },
      {
        "duration": 120,
        "start_time": "2022-01-09T12:29:20.017Z"
      },
      {
        "duration": 91,
        "start_time": "2022-01-09T12:29:20.139Z"
      },
      {
        "duration": 66,
        "start_time": "2022-01-09T12:29:20.232Z"
      },
      {
        "duration": 4,
        "start_time": "2022-01-09T12:29:20.301Z"
      },
      {
        "duration": 24,
        "start_time": "2022-01-09T12:29:20.307Z"
      },
      {
        "duration": 78,
        "start_time": "2022-01-09T12:29:20.333Z"
      },
      {
        "duration": 14,
        "start_time": "2022-01-09T12:29:20.413Z"
      },
      {
        "duration": 43,
        "start_time": "2022-01-09T12:29:20.430Z"
      },
      {
        "duration": 5,
        "start_time": "2022-01-09T12:29:20.475Z"
      },
      {
        "duration": 27,
        "start_time": "2022-01-09T12:29:20.482Z"
      },
      {
        "duration": 17,
        "start_time": "2022-01-09T12:29:20.511Z"
      },
      {
        "duration": 49,
        "start_time": "2022-01-09T12:29:20.532Z"
      },
      {
        "duration": 19,
        "start_time": "2022-01-09T12:29:20.583Z"
      },
      {
        "duration": 21,
        "start_time": "2022-01-09T12:29:20.605Z"
      },
      {
        "duration": 46,
        "start_time": "2022-01-09T12:29:20.628Z"
      },
      {
        "duration": 12,
        "start_time": "2022-01-09T12:29:20.677Z"
      },
      {
        "duration": 18,
        "start_time": "2022-01-09T12:29:20.692Z"
      },
      {
        "duration": 12,
        "start_time": "2022-01-09T12:29:20.713Z"
      },
      {
        "duration": 39,
        "start_time": "2022-01-09T12:29:20.728Z"
      },
      {
        "duration": 29,
        "start_time": "2022-01-09T12:29:20.770Z"
      },
      {
        "duration": 19,
        "start_time": "2022-01-09T12:29:20.802Z"
      },
      {
        "duration": 57,
        "start_time": "2022-01-09T12:29:20.824Z"
      },
      {
        "duration": 19,
        "start_time": "2022-01-09T12:29:20.883Z"
      },
      {
        "duration": 11,
        "start_time": "2022-01-09T12:29:20.905Z"
      },
      {
        "duration": 10,
        "start_time": "2022-01-09T12:29:20.918Z"
      },
      {
        "duration": 43,
        "start_time": "2022-01-09T12:29:20.931Z"
      },
      {
        "duration": 10,
        "start_time": "2022-01-09T12:29:20.977Z"
      },
      {
        "duration": 570,
        "start_time": "2022-01-10T12:38:54.284Z"
      },
      {
        "duration": 132,
        "start_time": "2022-01-10T12:38:54.856Z"
      },
      {
        "duration": 14,
        "start_time": "2022-01-10T12:38:54.990Z"
      },
      {
        "duration": 16,
        "start_time": "2022-01-10T12:38:55.006Z"
      },
      {
        "duration": 5,
        "start_time": "2022-01-10T12:38:55.024Z"
      },
      {
        "duration": 24,
        "start_time": "2022-01-10T12:38:55.031Z"
      },
      {
        "duration": 7,
        "start_time": "2022-01-10T12:38:55.057Z"
      },
      {
        "duration": 28,
        "start_time": "2022-01-10T12:38:55.066Z"
      },
      {
        "duration": 16,
        "start_time": "2022-01-10T12:38:55.096Z"
      },
      {
        "duration": 28,
        "start_time": "2022-01-10T12:38:55.113Z"
      },
      {
        "duration": 53,
        "start_time": "2022-01-10T12:38:55.143Z"
      },
      {
        "duration": 79,
        "start_time": "2022-01-10T12:38:55.198Z"
      },
      {
        "duration": 46,
        "start_time": "2022-01-10T12:38:55.279Z"
      },
      {
        "duration": 48,
        "start_time": "2022-01-10T12:38:55.326Z"
      },
      {
        "duration": 3,
        "start_time": "2022-01-10T12:38:55.376Z"
      },
      {
        "duration": 16,
        "start_time": "2022-01-10T12:38:55.380Z"
      },
      {
        "duration": 51,
        "start_time": "2022-01-10T12:38:55.398Z"
      },
      {
        "duration": 9,
        "start_time": "2022-01-10T12:38:55.451Z"
      },
      {
        "duration": 10,
        "start_time": "2022-01-10T12:38:55.461Z"
      },
      {
        "duration": 4,
        "start_time": "2022-01-10T12:38:55.472Z"
      },
      {
        "duration": 21,
        "start_time": "2022-01-10T12:38:55.477Z"
      },
      {
        "duration": 13,
        "start_time": "2022-01-10T12:38:55.500Z"
      },
      {
        "duration": 14,
        "start_time": "2022-01-10T12:38:55.543Z"
      },
      {
        "duration": 13,
        "start_time": "2022-01-10T12:38:55.558Z"
      },
      {
        "duration": 27,
        "start_time": "2022-01-10T12:38:55.573Z"
      },
      {
        "duration": 38,
        "start_time": "2022-01-10T12:38:55.602Z"
      },
      {
        "duration": 11,
        "start_time": "2022-01-10T12:38:55.642Z"
      },
      {
        "duration": 73,
        "start_time": "2022-01-10T12:38:55.655Z"
      },
      {
        "duration": 66,
        "start_time": "2022-01-10T12:38:55.730Z"
      },
      {
        "duration": 4,
        "start_time": "2022-01-10T12:38:55.799Z"
      },
      {
        "duration": 34,
        "start_time": "2022-01-10T12:38:55.805Z"
      },
      {
        "duration": 13,
        "start_time": "2022-01-10T12:38:55.840Z"
      },
      {
        "duration": 18,
        "start_time": "2022-01-10T12:38:55.854Z"
      },
      {
        "duration": 13,
        "start_time": "2022-01-10T12:38:55.874Z"
      },
      {
        "duration": 8,
        "start_time": "2022-01-10T12:38:55.888Z"
      },
      {
        "duration": 4,
        "start_time": "2022-01-10T12:38:55.898Z"
      },
      {
        "duration": 45,
        "start_time": "2022-01-10T12:38:55.903Z"
      },
      {
        "duration": 4,
        "start_time": "2022-01-10T12:38:55.950Z"
      },
      {
        "duration": 602,
        "start_time": "2022-01-10T21:27:19.616Z"
      },
      {
        "duration": 142,
        "start_time": "2022-01-10T21:27:20.221Z"
      },
      {
        "duration": 29,
        "start_time": "2022-01-10T21:27:20.365Z"
      },
      {
        "duration": 10,
        "start_time": "2022-01-10T21:27:20.396Z"
      },
      {
        "duration": 6,
        "start_time": "2022-01-10T21:27:20.407Z"
      },
      {
        "duration": 22,
        "start_time": "2022-01-10T21:27:20.415Z"
      },
      {
        "duration": 4,
        "start_time": "2022-01-10T21:27:20.439Z"
      },
      {
        "duration": 48,
        "start_time": "2022-01-10T21:27:20.444Z"
      },
      {
        "duration": 19,
        "start_time": "2022-01-10T21:27:20.495Z"
      },
      {
        "duration": 31,
        "start_time": "2022-01-10T21:27:20.516Z"
      },
      {
        "duration": 77,
        "start_time": "2022-01-10T21:27:20.549Z"
      },
      {
        "duration": 83,
        "start_time": "2022-01-10T21:27:20.627Z"
      },
      {
        "duration": 54,
        "start_time": "2022-01-10T21:27:20.712Z"
      },
      {
        "duration": 54,
        "start_time": "2022-01-10T21:27:20.768Z"
      },
      {
        "duration": 13,
        "start_time": "2022-01-10T21:27:20.824Z"
      },
      {
        "duration": 29,
        "start_time": "2022-01-10T21:27:20.838Z"
      },
      {
        "duration": 46,
        "start_time": "2022-01-10T21:27:20.869Z"
      },
      {
        "duration": 12,
        "start_time": "2022-01-10T21:27:20.917Z"
      },
      {
        "duration": 22,
        "start_time": "2022-01-10T21:27:20.930Z"
      },
      {
        "duration": 4,
        "start_time": "2022-01-10T21:27:20.953Z"
      },
      {
        "duration": 42,
        "start_time": "2022-01-10T21:27:20.958Z"
      },
      {
        "duration": 30,
        "start_time": "2022-01-10T21:27:21.002Z"
      },
      {
        "duration": 15,
        "start_time": "2022-01-10T21:27:21.033Z"
      },
      {
        "duration": 14,
        "start_time": "2022-01-10T21:27:21.050Z"
      },
      {
        "duration": 26,
        "start_time": "2022-01-10T21:27:21.066Z"
      },
      {
        "duration": 15,
        "start_time": "2022-01-10T21:27:21.093Z"
      },
      {
        "duration": 9,
        "start_time": "2022-01-10T21:27:21.111Z"
      },
      {
        "duration": 17,
        "start_time": "2022-01-10T21:27:21.122Z"
      },
      {
        "duration": 9,
        "start_time": "2022-01-10T21:27:21.141Z"
      },
      {
        "duration": 5,
        "start_time": "2022-01-10T21:27:21.152Z"
      },
      {
        "duration": 55,
        "start_time": "2022-01-10T21:27:21.158Z"
      },
      {
        "duration": 14,
        "start_time": "2022-01-10T21:27:21.215Z"
      },
      {
        "duration": 21,
        "start_time": "2022-01-10T21:27:21.231Z"
      },
      {
        "duration": 39,
        "start_time": "2022-01-10T21:27:21.254Z"
      },
      {
        "duration": 9,
        "start_time": "2022-01-10T21:27:21.295Z"
      },
      {
        "duration": 5,
        "start_time": "2022-01-10T21:27:21.306Z"
      },
      {
        "duration": 7,
        "start_time": "2022-01-10T21:27:21.313Z"
      },
      {
        "duration": 5,
        "start_time": "2022-01-10T21:27:21.322Z"
      },
      {
        "duration": 558,
        "start_time": "2022-01-10T21:28:29.107Z"
      },
      {
        "duration": 143,
        "start_time": "2022-01-10T21:28:29.667Z"
      },
      {
        "duration": 17,
        "start_time": "2022-01-10T21:28:29.812Z"
      },
      {
        "duration": 8,
        "start_time": "2022-01-10T21:28:29.830Z"
      },
      {
        "duration": 5,
        "start_time": "2022-01-10T21:28:29.839Z"
      },
      {
        "duration": 45,
        "start_time": "2022-01-10T21:28:29.847Z"
      },
      {
        "duration": 6,
        "start_time": "2022-01-10T21:28:29.894Z"
      },
      {
        "duration": 27,
        "start_time": "2022-01-10T21:28:29.902Z"
      },
      {
        "duration": 17,
        "start_time": "2022-01-10T21:28:29.931Z"
      },
      {
        "duration": 42,
        "start_time": "2022-01-10T21:28:29.950Z"
      },
      {
        "duration": 74,
        "start_time": "2022-01-10T21:28:29.995Z"
      },
      {
        "duration": 85,
        "start_time": "2022-01-10T21:28:30.070Z"
      },
      {
        "duration": 64,
        "start_time": "2022-01-10T21:28:30.157Z"
      },
      {
        "duration": 41,
        "start_time": "2022-01-10T21:28:30.222Z"
      },
      {
        "duration": 20,
        "start_time": "2022-01-10T21:28:30.265Z"
      },
      {
        "duration": 46,
        "start_time": "2022-01-10T21:28:30.286Z"
      },
      {
        "duration": 52,
        "start_time": "2022-01-10T21:28:30.334Z"
      },
      {
        "duration": 11,
        "start_time": "2022-01-10T21:28:30.389Z"
      },
      {
        "duration": 17,
        "start_time": "2022-01-10T21:28:30.402Z"
      },
      {
        "duration": 10,
        "start_time": "2022-01-10T21:28:30.421Z"
      },
      {
        "duration": 51,
        "start_time": "2022-01-10T21:28:30.433Z"
      },
      {
        "duration": 27,
        "start_time": "2022-01-10T21:28:30.486Z"
      },
      {
        "duration": 31,
        "start_time": "2022-01-10T21:28:30.515Z"
      },
      {
        "duration": 16,
        "start_time": "2022-01-10T21:28:30.548Z"
      },
      {
        "duration": 21,
        "start_time": "2022-01-10T21:28:30.565Z"
      },
      {
        "duration": 25,
        "start_time": "2022-01-10T21:28:30.587Z"
      },
      {
        "duration": 19,
        "start_time": "2022-01-10T21:28:30.614Z"
      },
      {
        "duration": 30,
        "start_time": "2022-01-10T21:28:30.634Z"
      },
      {
        "duration": 17,
        "start_time": "2022-01-10T21:28:30.665Z"
      },
      {
        "duration": 18,
        "start_time": "2022-01-10T21:28:30.684Z"
      },
      {
        "duration": 29,
        "start_time": "2022-01-10T21:28:30.704Z"
      },
      {
        "duration": 13,
        "start_time": "2022-01-10T21:28:30.735Z"
      },
      {
        "duration": 29,
        "start_time": "2022-01-10T21:28:30.749Z"
      },
      {
        "duration": 22,
        "start_time": "2022-01-10T21:28:30.780Z"
      },
      {
        "duration": 22,
        "start_time": "2022-01-10T21:28:30.803Z"
      },
      {
        "duration": 16,
        "start_time": "2022-01-10T21:28:30.827Z"
      },
      {
        "duration": 25,
        "start_time": "2022-01-10T21:28:30.845Z"
      },
      {
        "duration": 29,
        "start_time": "2022-01-10T21:28:30.872Z"
      },
      {
        "duration": 331,
        "start_time": "2022-01-11T06:42:02.095Z"
      },
      {
        "duration": 172,
        "start_time": "2022-01-11T06:42:19.988Z"
      },
      {
        "duration": 537,
        "start_time": "2022-01-11T06:42:36.551Z"
      },
      {
        "duration": 137,
        "start_time": "2022-01-11T06:42:37.092Z"
      },
      {
        "duration": 19,
        "start_time": "2022-01-11T06:42:37.231Z"
      },
      {
        "duration": 8,
        "start_time": "2022-01-11T06:42:37.252Z"
      },
      {
        "duration": 5,
        "start_time": "2022-01-11T06:42:37.262Z"
      },
      {
        "duration": 40,
        "start_time": "2022-01-11T06:42:37.269Z"
      },
      {
        "duration": 4,
        "start_time": "2022-01-11T06:42:37.311Z"
      },
      {
        "duration": 26,
        "start_time": "2022-01-11T06:42:37.318Z"
      },
      {
        "duration": 46,
        "start_time": "2022-01-11T06:42:37.346Z"
      },
      {
        "duration": 22,
        "start_time": "2022-01-11T06:42:37.394Z"
      },
      {
        "duration": 75,
        "start_time": "2022-01-11T06:42:37.418Z"
      },
      {
        "duration": 69,
        "start_time": "2022-01-11T06:42:37.495Z"
      },
      {
        "duration": 61,
        "start_time": "2022-01-11T06:42:37.566Z"
      },
      {
        "duration": 41,
        "start_time": "2022-01-11T06:42:37.628Z"
      },
      {
        "duration": 21,
        "start_time": "2022-01-11T06:42:37.671Z"
      },
      {
        "duration": 19,
        "start_time": "2022-01-11T06:42:37.693Z"
      },
      {
        "duration": 40,
        "start_time": "2022-01-11T06:42:37.714Z"
      },
      {
        "duration": 36,
        "start_time": "2022-01-11T06:42:37.756Z"
      },
      {
        "duration": 10,
        "start_time": "2022-01-11T06:42:37.794Z"
      },
      {
        "duration": 3,
        "start_time": "2022-01-11T06:42:37.806Z"
      },
      {
        "duration": 20,
        "start_time": "2022-01-11T06:42:37.810Z"
      },
      {
        "duration": 12,
        "start_time": "2022-01-11T06:42:37.832Z"
      },
      {
        "duration": 46,
        "start_time": "2022-01-11T06:42:37.847Z"
      },
      {
        "duration": 16,
        "start_time": "2022-01-11T06:42:37.894Z"
      },
      {
        "duration": 15,
        "start_time": "2022-01-11T06:42:37.912Z"
      },
      {
        "duration": 13,
        "start_time": "2022-01-11T06:42:37.928Z"
      },
      {
        "duration": 7,
        "start_time": "2022-01-11T06:42:37.943Z"
      },
      {
        "duration": 51,
        "start_time": "2022-01-11T06:42:37.952Z"
      },
      {
        "duration": 9,
        "start_time": "2022-01-11T06:42:38.005Z"
      },
      {
        "duration": 4,
        "start_time": "2022-01-11T06:42:38.016Z"
      },
      {
        "duration": 25,
        "start_time": "2022-01-11T06:42:38.022Z"
      },
      {
        "duration": 43,
        "start_time": "2022-01-11T06:42:38.049Z"
      },
      {
        "duration": 20,
        "start_time": "2022-01-11T06:42:38.094Z"
      },
      {
        "duration": 16,
        "start_time": "2022-01-11T06:42:38.116Z"
      },
      {
        "duration": 8,
        "start_time": "2022-01-11T06:42:38.134Z"
      },
      {
        "duration": 5,
        "start_time": "2022-01-11T06:42:38.144Z"
      },
      {
        "duration": 45,
        "start_time": "2022-01-11T06:42:38.151Z"
      },
      {
        "duration": 6,
        "start_time": "2022-01-11T06:42:38.198Z"
      },
      {
        "duration": 23,
        "start_time": "2022-01-11T06:43:05.937Z"
      },
      {
        "duration": 21,
        "start_time": "2022-01-11T06:45:58.591Z"
      },
      {
        "duration": 15,
        "start_time": "2022-01-11T06:46:00.848Z"
      },
      {
        "duration": 17,
        "start_time": "2022-01-11T06:47:47.801Z"
      },
      {
        "duration": 21,
        "start_time": "2022-01-11T06:49:23.348Z"
      },
      {
        "duration": 20,
        "start_time": "2022-01-11T06:51:45.859Z"
      },
      {
        "duration": 15,
        "start_time": "2022-01-11T06:52:20.196Z"
      },
      {
        "duration": 13,
        "start_time": "2022-01-11T07:05:41.441Z"
      },
      {
        "duration": 17,
        "start_time": "2022-01-11T07:06:13.581Z"
      },
      {
        "duration": 16,
        "start_time": "2022-01-11T07:06:41.420Z"
      },
      {
        "duration": 580,
        "start_time": "2022-01-11T07:10:57.881Z"
      },
      {
        "duration": 139,
        "start_time": "2022-01-11T07:10:58.463Z"
      },
      {
        "duration": 17,
        "start_time": "2022-01-11T07:10:58.606Z"
      },
      {
        "duration": 24,
        "start_time": "2022-01-11T07:10:58.625Z"
      },
      {
        "duration": 5,
        "start_time": "2022-01-11T07:10:58.650Z"
      },
      {
        "duration": 46,
        "start_time": "2022-01-11T07:10:58.657Z"
      },
      {
        "duration": 6,
        "start_time": "2022-01-11T07:10:58.706Z"
      },
      {
        "duration": 25,
        "start_time": "2022-01-11T07:10:58.714Z"
      },
      {
        "duration": 17,
        "start_time": "2022-01-11T07:10:58.740Z"
      },
      {
        "duration": 40,
        "start_time": "2022-01-11T07:10:58.759Z"
      },
      {
        "duration": 59,
        "start_time": "2022-01-11T07:10:58.801Z"
      },
      {
        "duration": 86,
        "start_time": "2022-01-11T07:10:58.861Z"
      },
      {
        "duration": 54,
        "start_time": "2022-01-11T07:10:58.948Z"
      },
      {
        "duration": 40,
        "start_time": "2022-01-11T07:10:59.004Z"
      },
      {
        "duration": 2,
        "start_time": "2022-01-11T07:10:59.046Z"
      },
      {
        "duration": 18,
        "start_time": "2022-01-11T07:10:59.050Z"
      },
      {
        "duration": 58,
        "start_time": "2022-01-11T07:10:59.069Z"
      },
      {
        "duration": 9,
        "start_time": "2022-01-11T07:10:59.129Z"
      },
      {
        "duration": 9,
        "start_time": "2022-01-11T07:10:59.140Z"
      },
      {
        "duration": 3,
        "start_time": "2022-01-11T07:10:59.151Z"
      },
      {
        "duration": 44,
        "start_time": "2022-01-11T07:10:59.155Z"
      },
      {
        "duration": 13,
        "start_time": "2022-01-11T07:10:59.201Z"
      },
      {
        "duration": 14,
        "start_time": "2022-01-11T07:10:59.216Z"
      },
      {
        "duration": 13,
        "start_time": "2022-01-11T07:10:59.231Z"
      },
      {
        "duration": 14,
        "start_time": "2022-01-11T07:10:59.246Z"
      },
      {
        "duration": 41,
        "start_time": "2022-01-11T07:10:59.262Z"
      },
      {
        "duration": 8,
        "start_time": "2022-01-11T07:10:59.304Z"
      },
      {
        "duration": 11,
        "start_time": "2022-01-11T07:10:59.314Z"
      },
      {
        "duration": 8,
        "start_time": "2022-01-11T07:10:59.326Z"
      },
      {
        "duration": 4,
        "start_time": "2022-01-11T07:10:59.336Z"
      },
      {
        "duration": 51,
        "start_time": "2022-01-11T07:10:59.341Z"
      },
      {
        "duration": 15,
        "start_time": "2022-01-11T07:10:59.394Z"
      },
      {
        "duration": 21,
        "start_time": "2022-01-11T07:10:59.410Z"
      },
      {
        "duration": 13,
        "start_time": "2022-01-11T07:10:59.433Z"
      },
      {
        "duration": 44,
        "start_time": "2022-01-11T07:10:59.448Z"
      },
      {
        "duration": 8,
        "start_time": "2022-01-11T07:10:59.494Z"
      },
      {
        "duration": 6,
        "start_time": "2022-01-11T07:10:59.504Z"
      },
      {
        "duration": 8,
        "start_time": "2022-01-11T07:10:59.512Z"
      },
      {
        "duration": 6,
        "start_time": "2022-01-11T07:10:59.522Z"
      },
      {
        "duration": 555,
        "start_time": "2022-01-11T07:22:13.720Z"
      },
      {
        "duration": 143,
        "start_time": "2022-01-11T07:22:14.277Z"
      },
      {
        "duration": 17,
        "start_time": "2022-01-11T07:22:14.422Z"
      },
      {
        "duration": 24,
        "start_time": "2022-01-11T07:22:14.441Z"
      },
      {
        "duration": 3,
        "start_time": "2022-01-11T07:22:14.467Z"
      },
      {
        "duration": 22,
        "start_time": "2022-01-11T07:22:14.491Z"
      },
      {
        "duration": 9,
        "start_time": "2022-01-11T07:22:14.515Z"
      },
      {
        "duration": 23,
        "start_time": "2022-01-11T07:22:14.527Z"
      },
      {
        "duration": 39,
        "start_time": "2022-01-11T07:22:14.552Z"
      },
      {
        "duration": 25,
        "start_time": "2022-01-11T07:22:14.593Z"
      },
      {
        "duration": 85,
        "start_time": "2022-01-11T07:22:14.620Z"
      },
      {
        "duration": 84,
        "start_time": "2022-01-11T07:22:14.707Z"
      },
      {
        "duration": 48,
        "start_time": "2022-01-11T07:22:14.793Z"
      },
      {
        "duration": 51,
        "start_time": "2022-01-11T07:22:14.843Z"
      },
      {
        "duration": 2,
        "start_time": "2022-01-11T07:22:14.896Z"
      },
      {
        "duration": 17,
        "start_time": "2022-01-11T07:22:14.900Z"
      },
      {
        "duration": 39,
        "start_time": "2022-01-11T07:22:14.918Z"
      },
      {
        "duration": 34,
        "start_time": "2022-01-11T07:22:14.958Z"
      },
      {
        "duration": 10,
        "start_time": "2022-01-11T07:22:14.994Z"
      },
      {
        "duration": 17,
        "start_time": "2022-01-11T07:22:15.006Z"
      },
      {
        "duration": 24,
        "start_time": "2022-01-11T07:22:15.025Z"
      },
      {
        "duration": 14,
        "start_time": "2022-01-11T07:22:15.050Z"
      },
      {
        "duration": 29,
        "start_time": "2022-01-11T07:22:15.068Z"
      },
      {
        "duration": 14,
        "start_time": "2022-01-11T07:22:15.099Z"
      },
      {
        "duration": 16,
        "start_time": "2022-01-11T07:22:15.115Z"
      },
      {
        "duration": 15,
        "start_time": "2022-01-11T07:22:15.132Z"
      },
      {
        "duration": 7,
        "start_time": "2022-01-11T07:22:15.149Z"
      },
      {
        "duration": 39,
        "start_time": "2022-01-11T07:22:15.158Z"
      },
      {
        "duration": 9,
        "start_time": "2022-01-11T07:22:15.199Z"
      },
      {
        "duration": 4,
        "start_time": "2022-01-11T07:22:15.210Z"
      },
      {
        "duration": 27,
        "start_time": "2022-01-11T07:22:15.216Z"
      },
      {
        "duration": 15,
        "start_time": "2022-01-11T07:22:15.244Z"
      },
      {
        "duration": 23,
        "start_time": "2022-01-11T07:22:15.292Z"
      },
      {
        "duration": 15,
        "start_time": "2022-01-11T07:22:15.317Z"
      },
      {
        "duration": 15,
        "start_time": "2022-01-11T07:22:15.334Z"
      },
      {
        "duration": 42,
        "start_time": "2022-01-11T07:22:15.351Z"
      },
      {
        "duration": 5,
        "start_time": "2022-01-11T07:22:15.395Z"
      },
      {
        "duration": 8,
        "start_time": "2022-01-11T07:22:15.402Z"
      },
      {
        "duration": 4,
        "start_time": "2022-01-11T07:22:15.412Z"
      },
      {
        "duration": 70,
        "start_time": "2022-01-11T07:27:03.709Z"
      },
      {
        "duration": 13,
        "start_time": "2022-01-11T07:41:24.946Z"
      },
      {
        "duration": 14,
        "start_time": "2022-01-11T07:46:09.175Z"
      },
      {
        "duration": 12,
        "start_time": "2022-01-11T07:46:36.573Z"
      },
      {
        "duration": 578,
        "start_time": "2022-01-11T07:57:46.494Z"
      },
      {
        "duration": 141,
        "start_time": "2022-01-11T07:57:47.075Z"
      },
      {
        "duration": 16,
        "start_time": "2022-01-11T07:57:47.220Z"
      },
      {
        "duration": 26,
        "start_time": "2022-01-11T07:57:47.237Z"
      },
      {
        "duration": 4,
        "start_time": "2022-01-11T07:57:47.265Z"
      },
      {
        "duration": 41,
        "start_time": "2022-01-11T07:57:47.271Z"
      },
      {
        "duration": 6,
        "start_time": "2022-01-11T07:57:47.315Z"
      },
      {
        "duration": 24,
        "start_time": "2022-01-11T07:57:47.323Z"
      },
      {
        "duration": 44,
        "start_time": "2022-01-11T07:57:47.349Z"
      },
      {
        "duration": 24,
        "start_time": "2022-01-11T07:57:47.395Z"
      },
      {
        "duration": 76,
        "start_time": "2022-01-11T07:57:47.421Z"
      },
      {
        "duration": 72,
        "start_time": "2022-01-11T07:57:47.499Z"
      },
      {
        "duration": 62,
        "start_time": "2022-01-11T07:57:47.573Z"
      },
      {
        "duration": 54,
        "start_time": "2022-01-11T07:57:47.637Z"
      },
      {
        "duration": 3,
        "start_time": "2022-01-11T07:57:47.693Z"
      },
      {
        "duration": 24,
        "start_time": "2022-01-11T07:57:47.698Z"
      },
      {
        "duration": 45,
        "start_time": "2022-01-11T07:57:47.724Z"
      },
      {
        "duration": 23,
        "start_time": "2022-01-11T07:57:47.771Z"
      },
      {
        "duration": 11,
        "start_time": "2022-01-11T07:57:47.796Z"
      },
      {
        "duration": 3,
        "start_time": "2022-01-11T07:57:47.808Z"
      },
      {
        "duration": 20,
        "start_time": "2022-01-11T07:57:47.813Z"
      },
      {
        "duration": 14,
        "start_time": "2022-01-11T07:57:47.836Z"
      },
      {
        "duration": 52,
        "start_time": "2022-01-11T07:57:47.852Z"
      },
      {
        "duration": 18,
        "start_time": "2022-01-11T07:57:47.906Z"
      },
      {
        "duration": 15,
        "start_time": "2022-01-11T07:57:47.926Z"
      },
      {
        "duration": 14,
        "start_time": "2022-01-11T07:57:47.942Z"
      },
      {
        "duration": 35,
        "start_time": "2022-01-11T07:57:47.958Z"
      },
      {
        "duration": 13,
        "start_time": "2022-01-11T07:57:47.995Z"
      },
      {
        "duration": 9,
        "start_time": "2022-01-11T07:57:48.010Z"
      },
      {
        "duration": 4,
        "start_time": "2022-01-11T07:57:48.021Z"
      },
      {
        "duration": 30,
        "start_time": "2022-01-11T07:57:48.027Z"
      },
      {
        "duration": 34,
        "start_time": "2022-01-11T07:57:48.058Z"
      },
      {
        "duration": 21,
        "start_time": "2022-01-11T07:57:48.094Z"
      },
      {
        "duration": 15,
        "start_time": "2022-01-11T07:57:48.116Z"
      },
      {
        "duration": 12,
        "start_time": "2022-01-11T07:57:48.133Z"
      },
      {
        "duration": 14,
        "start_time": "2022-01-11T07:57:48.147Z"
      },
      {
        "duration": 8,
        "start_time": "2022-01-11T07:57:48.192Z"
      },
      {
        "duration": 5,
        "start_time": "2022-01-11T07:57:48.202Z"
      },
      {
        "duration": 7,
        "start_time": "2022-01-11T07:57:48.209Z"
      },
      {
        "duration": 5,
        "start_time": "2022-01-11T07:57:48.217Z"
      },
      {
        "duration": 525,
        "start_time": "2022-01-11T08:01:34.645Z"
      },
      {
        "duration": 138,
        "start_time": "2022-01-11T08:01:35.171Z"
      },
      {
        "duration": 18,
        "start_time": "2022-01-11T08:01:35.312Z"
      },
      {
        "duration": 26,
        "start_time": "2022-01-11T08:01:35.332Z"
      },
      {
        "duration": 4,
        "start_time": "2022-01-11T08:01:35.360Z"
      },
      {
        "duration": 23,
        "start_time": "2022-01-11T08:01:35.392Z"
      },
      {
        "duration": 4,
        "start_time": "2022-01-11T08:01:35.417Z"
      },
      {
        "duration": 23,
        "start_time": "2022-01-11T08:01:35.425Z"
      },
      {
        "duration": 51,
        "start_time": "2022-01-11T08:01:35.451Z"
      },
      {
        "duration": 24,
        "start_time": "2022-01-11T08:01:35.504Z"
      },
      {
        "duration": 71,
        "start_time": "2022-01-11T08:01:35.530Z"
      },
      {
        "duration": 72,
        "start_time": "2022-01-11T08:01:35.603Z"
      },
      {
        "duration": 65,
        "start_time": "2022-01-11T08:01:35.677Z"
      },
      {
        "duration": 58,
        "start_time": "2022-01-11T08:01:35.744Z"
      },
      {
        "duration": 4,
        "start_time": "2022-01-11T08:01:35.804Z"
      },
      {
        "duration": 18,
        "start_time": "2022-01-11T08:01:35.809Z"
      },
      {
        "duration": 41,
        "start_time": "2022-01-11T08:01:35.829Z"
      },
      {
        "duration": 11,
        "start_time": "2022-01-11T08:01:35.891Z"
      },
      {
        "duration": 10,
        "start_time": "2022-01-11T08:01:35.904Z"
      },
      {
        "duration": 4,
        "start_time": "2022-01-11T08:01:35.915Z"
      },
      {
        "duration": 20,
        "start_time": "2022-01-11T08:01:35.920Z"
      },
      {
        "duration": 13,
        "start_time": "2022-01-11T08:01:35.942Z"
      },
      {
        "duration": 47,
        "start_time": "2022-01-11T08:01:35.958Z"
      },
      {
        "duration": 14,
        "start_time": "2022-01-11T08:01:36.007Z"
      },
      {
        "duration": 16,
        "start_time": "2022-01-11T08:01:36.023Z"
      },
      {
        "duration": 15,
        "start_time": "2022-01-11T08:01:36.040Z"
      },
      {
        "duration": 36,
        "start_time": "2022-01-11T08:01:36.056Z"
      },
      {
        "duration": 16,
        "start_time": "2022-01-11T08:01:36.094Z"
      },
      {
        "duration": 12,
        "start_time": "2022-01-11T08:01:36.112Z"
      },
      {
        "duration": 4,
        "start_time": "2022-01-11T08:01:36.126Z"
      },
      {
        "duration": 23,
        "start_time": "2022-01-11T08:01:36.132Z"
      },
      {
        "duration": 42,
        "start_time": "2022-01-11T08:01:36.157Z"
      },
      {
        "duration": 20,
        "start_time": "2022-01-11T08:01:36.201Z"
      },
      {
        "duration": 15,
        "start_time": "2022-01-11T08:01:36.223Z"
      },
      {
        "duration": 11,
        "start_time": "2022-01-11T08:01:36.240Z"
      },
      {
        "duration": 45,
        "start_time": "2022-01-11T08:01:36.253Z"
      },
      {
        "duration": 7,
        "start_time": "2022-01-11T08:01:36.300Z"
      },
      {
        "duration": 5,
        "start_time": "2022-01-11T08:01:36.309Z"
      },
      {
        "duration": 7,
        "start_time": "2022-01-11T08:01:36.315Z"
      },
      {
        "duration": 6,
        "start_time": "2022-01-11T08:01:36.324Z"
      },
      {
        "duration": 567,
        "start_time": "2022-01-11T08:02:46.154Z"
      },
      {
        "duration": 138,
        "start_time": "2022-01-11T08:02:46.723Z"
      },
      {
        "duration": 17,
        "start_time": "2022-01-11T08:02:46.863Z"
      },
      {
        "duration": 30,
        "start_time": "2022-01-11T08:02:46.882Z"
      },
      {
        "duration": 5,
        "start_time": "2022-01-11T08:02:46.914Z"
      },
      {
        "duration": 22,
        "start_time": "2022-01-11T08:02:46.920Z"
      },
      {
        "duration": 4,
        "start_time": "2022-01-11T08:02:46.944Z"
      },
      {
        "duration": 48,
        "start_time": "2022-01-11T08:02:46.951Z"
      },
      {
        "duration": 20,
        "start_time": "2022-01-11T08:02:47.002Z"
      },
      {
        "duration": 22,
        "start_time": "2022-01-11T08:02:47.024Z"
      },
      {
        "duration": 80,
        "start_time": "2022-01-11T08:02:47.048Z"
      },
      {
        "duration": 81,
        "start_time": "2022-01-11T08:02:47.130Z"
      },
      {
        "duration": 54,
        "start_time": "2022-01-11T08:02:47.213Z"
      },
      {
        "duration": 58,
        "start_time": "2022-01-11T08:02:47.269Z"
      },
      {
        "duration": 3,
        "start_time": "2022-01-11T08:02:47.329Z"
      },
      {
        "duration": 19,
        "start_time": "2022-01-11T08:02:47.334Z"
      },
      {
        "duration": 53,
        "start_time": "2022-01-11T08:02:47.355Z"
      },
      {
        "duration": 11,
        "start_time": "2022-01-11T08:02:47.410Z"
      },
      {
        "duration": 11,
        "start_time": "2022-01-11T08:02:47.423Z"
      },
      {
        "duration": 4,
        "start_time": "2022-01-11T08:02:47.436Z"
      },
      {
        "duration": 51,
        "start_time": "2022-01-11T08:02:47.441Z"
      },
      {
        "duration": 14,
        "start_time": "2022-01-11T08:02:47.494Z"
      },
      {
        "duration": 15,
        "start_time": "2022-01-11T08:02:47.513Z"
      },
      {
        "duration": 14,
        "start_time": "2022-01-11T08:02:47.530Z"
      },
      {
        "duration": 15,
        "start_time": "2022-01-11T08:02:47.545Z"
      },
      {
        "duration": 42,
        "start_time": "2022-01-11T08:02:47.562Z"
      },
      {
        "duration": 8,
        "start_time": "2022-01-11T08:02:47.606Z"
      },
      {
        "duration": 17,
        "start_time": "2022-01-11T08:02:47.616Z"
      },
      {
        "duration": 14,
        "start_time": "2022-01-11T08:02:47.634Z"
      },
      {
        "duration": 41,
        "start_time": "2022-01-11T08:02:47.650Z"
      },
      {
        "duration": 33,
        "start_time": "2022-01-11T08:02:47.693Z"
      },
      {
        "duration": 18,
        "start_time": "2022-01-11T08:02:47.728Z"
      },
      {
        "duration": 43,
        "start_time": "2022-01-11T08:02:47.749Z"
      },
      {
        "duration": 15,
        "start_time": "2022-01-11T08:02:47.794Z"
      },
      {
        "duration": 13,
        "start_time": "2022-01-11T08:02:47.811Z"
      },
      {
        "duration": 14,
        "start_time": "2022-01-11T08:02:47.826Z"
      },
      {
        "duration": 12,
        "start_time": "2022-01-11T08:02:47.843Z"
      },
      {
        "duration": 38,
        "start_time": "2022-01-11T08:02:47.857Z"
      },
      {
        "duration": 9,
        "start_time": "2022-01-11T08:02:47.897Z"
      },
      {
        "duration": 9,
        "start_time": "2022-01-11T08:02:47.908Z"
      },
      {
        "duration": 849,
        "start_time": "2022-01-11T13:47:29.072Z"
      },
      {
        "duration": 205,
        "start_time": "2022-01-11T13:47:29.924Z"
      },
      {
        "duration": 61,
        "start_time": "2022-01-11T13:47:30.132Z"
      },
      {
        "duration": 35,
        "start_time": "2022-01-11T13:47:30.196Z"
      },
      {
        "duration": 5,
        "start_time": "2022-01-11T13:47:30.234Z"
      },
      {
        "duration": 47,
        "start_time": "2022-01-11T13:47:30.242Z"
      },
      {
        "duration": 6,
        "start_time": "2022-01-11T13:47:30.292Z"
      },
      {
        "duration": 40,
        "start_time": "2022-01-11T13:47:30.303Z"
      },
      {
        "duration": 33,
        "start_time": "2022-01-11T13:47:30.359Z"
      },
      {
        "duration": 31,
        "start_time": "2022-01-11T13:47:30.395Z"
      },
      {
        "duration": 123,
        "start_time": "2022-01-11T13:47:30.428Z"
      },
      {
        "duration": 123,
        "start_time": "2022-01-11T13:47:30.553Z"
      },
      {
        "duration": 101,
        "start_time": "2022-01-11T13:47:30.680Z"
      },
      {
        "duration": 80,
        "start_time": "2022-01-11T13:47:30.783Z"
      },
      {
        "duration": 14,
        "start_time": "2022-01-11T13:47:30.866Z"
      },
      {
        "duration": 26,
        "start_time": "2022-01-11T13:47:30.883Z"
      },
      {
        "duration": 96,
        "start_time": "2022-01-11T13:47:30.912Z"
      },
      {
        "duration": 21,
        "start_time": "2022-01-11T13:47:31.011Z"
      },
      {
        "duration": 37,
        "start_time": "2022-01-11T13:47:31.034Z"
      },
      {
        "duration": 7,
        "start_time": "2022-01-11T13:47:31.075Z"
      },
      {
        "duration": 42,
        "start_time": "2022-01-11T13:47:31.085Z"
      },
      {
        "duration": 45,
        "start_time": "2022-01-11T13:47:31.129Z"
      },
      {
        "duration": 26,
        "start_time": "2022-01-11T13:47:31.183Z"
      },
      {
        "duration": 55,
        "start_time": "2022-01-11T13:47:31.212Z"
      },
      {
        "duration": 26,
        "start_time": "2022-01-11T13:47:31.271Z"
      },
      {
        "duration": 24,
        "start_time": "2022-01-11T13:47:31.299Z"
      },
      {
        "duration": 40,
        "start_time": "2022-01-11T13:47:31.326Z"
      },
      {
        "duration": 27,
        "start_time": "2022-01-11T13:47:31.370Z"
      },
      {
        "duration": 12,
        "start_time": "2022-01-11T13:47:31.399Z"
      },
      {
        "duration": 7,
        "start_time": "2022-01-11T13:47:31.414Z"
      },
      {
        "duration": 68,
        "start_time": "2022-01-11T13:47:31.424Z"
      },
      {
        "duration": 22,
        "start_time": "2022-01-11T13:47:31.495Z"
      },
      {
        "duration": 62,
        "start_time": "2022-01-11T13:47:31.520Z"
      },
      {
        "duration": 19,
        "start_time": "2022-01-11T13:47:31.584Z"
      },
      {
        "duration": 27,
        "start_time": "2022-01-11T13:47:31.606Z"
      },
      {
        "duration": 24,
        "start_time": "2022-01-11T13:47:31.660Z"
      },
      {
        "duration": 10,
        "start_time": "2022-01-11T13:47:31.687Z"
      },
      {
        "duration": 6,
        "start_time": "2022-01-11T13:47:31.699Z"
      },
      {
        "duration": 16,
        "start_time": "2022-01-11T13:47:31.707Z"
      },
      {
        "duration": 40,
        "start_time": "2022-01-11T13:47:31.725Z"
      }
    ],
    "colab": {
      "collapsed_sections": [],
      "provenance": [],
      "include_colab_link": true
    },
    "kernelspec": {
      "display_name": "Python 3 (ipykernel)",
      "language": "python",
      "name": "python3"
    },
    "language_info": {
      "codemirror_mode": {
        "name": "ipython",
        "version": 3
      },
      "file_extension": ".py",
      "mimetype": "text/x-python",
      "name": "python",
      "nbconvert_exporter": "python",
      "pygments_lexer": "ipython3",
      "version": "3.9.5"
    },
    "toc": {
      "base_numbering": 1,
      "nav_menu": {},
      "number_sections": true,
      "sideBar": true,
      "skip_h1_title": true,
      "title_cell": "Table of Contents",
      "title_sidebar": "Contents",
      "toc_cell": false,
      "toc_position": {},
      "toc_section_display": true,
      "toc_window_display": false
    }
  },
  "nbformat": 4,
  "nbformat_minor": 0
}
