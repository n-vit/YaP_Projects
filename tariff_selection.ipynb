{
  "cells": [
    {
      "cell_type": "markdown",
      "metadata": {
        "id": "view-in-github",
        "colab_type": "text"
      },
      "source": [
        "<a href=\"https://colab.research.google.com/github/n-vit/YaP_Projects/blob/main/6_%D0%92%D0%B2%D0%B5%D0%B4%D0%B5%D0%BD%D0%B8%D0%B5_%D0%B2_%D0%BC%D0%B0%D1%88%D0%B8%D0%BD%D0%BD%D0%BE%D0%B5_%D0%BE%D0%B1%D1%83%D1%87%D0%B5%D0%BD%D0%B8%D0%B5.ipynb\" target=\"_parent\"><img src=\"https://colab.research.google.com/assets/colab-badge.svg\" alt=\"Open In Colab\"/></a>"
      ]
    },
    {
      "cell_type": "markdown",
      "metadata": {
        "id": "_nQQLLMJSOE9"
      },
      "source": [
        "# Рекомендация тарифов"
      ]
    },
    {
      "cell_type": "markdown",
      "metadata": {
        "id": "Os5xgl2SSOE-"
      },
      "source": [
        "Нужно построить модель для задачи классификации, которая выберет подходящий тариф. Предобработка данных не понадобится.\n",
        "\n",
        "Нужно построить модель с максимально большим значением *accuracy* - довести долю правильных ответов по крайней мере до 0.75. "
      ]
    },
    {
      "cell_type": "code",
      "execution_count": null,
      "metadata": {
        "id": "Qy9uVFaNSOE_"
      },
      "outputs": [],
      "source": [
        "import pandas as pd\n",
        "from sklearn.tree import DecisionTreeClassifier\n",
        "from sklearn.ensemble import RandomForestClassifier\n",
        "from sklearn.linear_model import LogisticRegression \n",
        "from sklearn.metrics import accuracy_score \n",
        "from sklearn.model_selection import train_test_split\n",
        "import time\n"
      ]
    },
    {
      "cell_type": "markdown",
      "metadata": {
        "id": "3UzplYZSSOFD"
      },
      "source": [
        "## Откройте и изучите файл"
      ]
    },
    {
      "cell_type": "code",
      "execution_count": null,
      "metadata": {
        "id": "xLkxohk3SOFE",
        "outputId": "16ee3bab-4c2c-40f0-d2bb-ee6fd2fe30fc"
      },
      "outputs": [
        {
          "data": {
            "text/html": [
              "<div>\n",
              "<style scoped>\n",
              "    .dataframe tbody tr th:only-of-type {\n",
              "        vertical-align: middle;\n",
              "    }\n",
              "\n",
              "    .dataframe tbody tr th {\n",
              "        vertical-align: top;\n",
              "    }\n",
              "\n",
              "    .dataframe thead th {\n",
              "        text-align: right;\n",
              "    }\n",
              "</style>\n",
              "<table border=\"1\" class=\"dataframe\">\n",
              "  <thead>\n",
              "    <tr style=\"text-align: right;\">\n",
              "      <th></th>\n",
              "      <th>calls</th>\n",
              "      <th>minutes</th>\n",
              "      <th>messages</th>\n",
              "      <th>mb_used</th>\n",
              "      <th>is_ultra</th>\n",
              "    </tr>\n",
              "  </thead>\n",
              "  <tbody>\n",
              "    <tr>\n",
              "      <th>0</th>\n",
              "      <td>40.0</td>\n",
              "      <td>311.90</td>\n",
              "      <td>83.0</td>\n",
              "      <td>19915.42</td>\n",
              "      <td>0</td>\n",
              "    </tr>\n",
              "    <tr>\n",
              "      <th>1</th>\n",
              "      <td>85.0</td>\n",
              "      <td>516.75</td>\n",
              "      <td>56.0</td>\n",
              "      <td>22696.96</td>\n",
              "      <td>0</td>\n",
              "    </tr>\n",
              "    <tr>\n",
              "      <th>2</th>\n",
              "      <td>77.0</td>\n",
              "      <td>467.66</td>\n",
              "      <td>86.0</td>\n",
              "      <td>21060.45</td>\n",
              "      <td>0</td>\n",
              "    </tr>\n",
              "  </tbody>\n",
              "</table>\n",
              "</div>"
            ],
            "text/plain": [
              "   calls  minutes  messages   mb_used  is_ultra\n",
              "0   40.0   311.90      83.0  19915.42         0\n",
              "1   85.0   516.75      56.0  22696.96         0\n",
              "2   77.0   467.66      86.0  21060.45         0"
            ]
          },
          "metadata": {},
          "output_type": "display_data"
        }
      ],
      "source": [
        "df = pd.read_csv('/datasets/users_behavior.csv')\n",
        "display(df.head(3))"
      ]
    },
    {
      "cell_type": "code",
      "execution_count": null,
      "metadata": {
        "id": "6nAjHtmcSOFJ",
        "outputId": "1455755e-9f1a-44be-b793-c0c99e4e463f"
      },
      "outputs": [
        {
          "name": "stdout",
          "output_type": "stream",
          "text": [
            "<class 'pandas.core.frame.DataFrame'>\n",
            "RangeIndex: 3214 entries, 0 to 3213\n",
            "Data columns (total 5 columns):\n",
            " #   Column    Non-Null Count  Dtype  \n",
            "---  ------    --------------  -----  \n",
            " 0   calls     3214 non-null   float64\n",
            " 1   minutes   3214 non-null   float64\n",
            " 2   messages  3214 non-null   float64\n",
            " 3   mb_used   3214 non-null   float64\n",
            " 4   is_ultra  3214 non-null   int64  \n",
            "dtypes: float64(4), int64(1)\n",
            "memory usage: 125.7 KB\n"
          ]
        },
        {
          "data": {
            "text/plain": [
              "None"
            ]
          },
          "metadata": {},
          "output_type": "display_data"
        }
      ],
      "source": [
        "display(df.info())"
      ]
    },
    {
      "cell_type": "markdown",
      "metadata": {
        "id": "wiGjN77ASOFL"
      },
      "source": [
        "<div class=\"alert alert-info\", style=\"color:brown\">\n",
        "\n",
        "теперь видно, что во фрейме 3214 строк, предобработка проведена, можно бы понизить разрядность, возможно модельки будут быстрее работать\n",
        "    \n",
        "</div>"
      ]
    },
    {
      "cell_type": "code",
      "execution_count": null,
      "metadata": {
        "id": "q6583uNqSOFM",
        "outputId": "448fc3b8-4554-43eb-9fe8-4c69c804bbc8"
      },
      "outputs": [
        {
          "name": "stdout",
          "output_type": "stream",
          "text": [
            "<class 'pandas.core.frame.DataFrame'>\n",
            "RangeIndex: 3214 entries, 0 to 3213\n",
            "Data columns (total 5 columns):\n",
            " #   Column    Non-Null Count  Dtype  \n",
            "---  ------    --------------  -----  \n",
            " 0   calls     3214 non-null   float32\n",
            " 1   minutes   3214 non-null   float32\n",
            " 2   messages  3214 non-null   float32\n",
            " 3   mb_used   3214 non-null   float32\n",
            " 4   is_ultra  3214 non-null   uint8  \n",
            "dtypes: float32(4), uint8(1)\n",
            "memory usage: 53.5 KB\n"
          ]
        }
      ],
      "source": [
        "df_float = df.select_dtypes(include=['float']) \n",
        "df_float = df_float.apply(pd.to_numeric,downcast='float')\n",
        "df[df_float.columns] = df_float\n",
        "\n",
        "df_int = df.select_dtypes(include=['int']) \n",
        "df_int = df_int.apply(pd.to_numeric,downcast='unsigned') \n",
        "df[df_int.columns] = df_int\n",
        "\n",
        "df.info()"
      ]
    },
    {
      "cell_type": "markdown",
      "metadata": {
        "id": "m0CBIy4kSOFN"
      },
      "source": [
        "<div class=\"alert alert-info\", style=\"color:brown\">\n",
        "\n",
        "фрейм стал в два раза полегче\n",
        "    \n",
        "</div>"
      ]
    },
    {
      "cell_type": "markdown",
      "metadata": {
        "id": "cGVIhNtvSOFO"
      },
      "source": [
        "## Разбейте данные на выборки"
      ]
    },
    {
      "cell_type": "markdown",
      "metadata": {
        "id": "UttpmSwNSOFO"
      },
      "source": [
        "Разделим данные на три выборки:\n",
        "- тренировочную (чтобы обучать модели) - 60%, \n",
        "- валидационную (чтобы оценивать результаты обучения) - 20%, \n",
        "- тестовую (чтобы сравнить модели между собой) - 20%"
      ]
    },
    {
      "cell_type": "code",
      "execution_count": null,
      "metadata": {
        "id": "YMN-t740SOFP"
      },
      "outputs": [],
      "source": [
        "features = df.drop(['is_ultra'], axis=1)\n",
        "target = df['is_ultra']\n",
        "\n",
        "features_train, features_a, target_train, target_a = train_test_split(\n",
        "    features, target, test_size=0.4, random_state=12345)\n",
        "\n",
        "features_valid, features_test, target_valid, target_test = train_test_split(\n",
        "    features_a, target_a, test_size=0.5, random_state=12345)\n"
      ]
    },
    {
      "cell_type": "code",
      "execution_count": null,
      "metadata": {
        "id": "NtnG2hcJSOFR",
        "outputId": "9d709249-c6fc-4f57-eb62-68ded98e3177"
      },
      "outputs": [
        {
          "name": "stdout",
          "output_type": "stream",
          "text": [
            "Фичи обучающей выборки (1928, 4)\n",
            "Таргет обучающей выборки (1928,)\n",
            "Фичи валидационной выборки (643, 4)\n",
            "Таргет валидационной выборки (643,)\n",
            "Фичи тестовой выборки (643, 4)\n",
            "Таргет тестовой выборки (643,)\n"
          ]
        }
      ],
      "source": [
        "print('Фичи обучающей выборки', features_train.shape)\n",
        "print('Таргет обучающей выборки', target_train.shape)\n",
        "print('Фичи валидационной выборки', features_valid.shape)\n",
        "print('Таргет валидационной выборки', target_valid.shape)\n",
        "print('Фичи тестовой выборки', features_test.shape)\n",
        "print('Таргет тестовой выборки', target_test.shape)"
      ]
    },
    {
      "cell_type": "markdown",
      "metadata": {
        "id": "gPMpPQjtSOFS"
      },
      "source": [
        "<div class=\"alert alert-info\", style=\"color:brown\">\n",
        "\n",
        "Визуально вроде 60/20/20, едем дальше\n",
        "    \n",
        "</div>"
      ]
    },
    {
      "cell_type": "markdown",
      "metadata": {
        "id": "-06ZcatGSOFT"
      },
      "source": [
        "## Исследуйте модели"
      ]
    },
    {
      "cell_type": "markdown",
      "metadata": {
        "id": "AoFc05fOSOFU"
      },
      "source": [
        "Поскольку наша цель - сгруппировать пользователей по одному из двух тарифов, а не определить количественные данные - будем использовать **модели классификации**: Решающее дерево, Случайный лес и Логистическую регрессию. Качество модели будем оценивать с помощью `accuracy`"
      ]
    },
    {
      "cell_type": "markdown",
      "metadata": {
        "id": "sk0vRTpdSOFU"
      },
      "source": [
        "начнем с **Решающего дерева**, и определим для него глубину ветвления max_depth:"
      ]
    },
    {
      "cell_type": "code",
      "execution_count": null,
      "metadata": {
        "id": "FefYUKpVSOFU",
        "outputId": "86a8650e-0c03-45ce-89f1-426bd4799d1e"
      },
      "outputs": [
        {
          "name": "stdout",
          "output_type": "stream",
          "text": [
            "Accuracy наилучшей модели `DecisionTree` на валидационной выборке: 0.7853810264385692\n",
            "Оптимальный параметр max_depth: 3\n"
          ]
        }
      ],
      "source": [
        "model_dtc = None\n",
        "best_result = 0\n",
        "best_depth = 0\n",
        "for depth in range(1, 10):\n",
        "    model = DecisionTreeClassifier(random_state=12345, max_depth=depth)\n",
        "    model.fit(features_train, target_train)\n",
        "    result = model.score(features_valid, target_valid)\n",
        "    if result > best_result:\n",
        "        model_dtc = model\n",
        "        best_result = result\n",
        "        best_depth = depth\n",
        "print(\"Accuracy наилучшей модели `DecisionTree` на валидационной выборке:\", best_result)\n",
        "print('Оптимальный параметр max_depth:', best_depth)\n"
      ]
    },
    {
      "cell_type": "markdown",
      "metadata": {
        "id": "I6KqTr4_SOFW"
      },
      "source": [
        "И сразу хороший результат, хотя-бы одна модель соответствующая условию задачи (Accuracy > 0,75) у нас уже есть"
      ]
    },
    {
      "cell_type": "markdown",
      "metadata": {
        "id": "diXU88yYSOFW"
      },
      "source": [
        "проверим модель **Случайного леса**. Поскольку у нас исследовательская задача и временем мы располагаем - можно поэкспериментировать с количеством оценщиков и выбрать лучшую модель. "
      ]
    },
    {
      "cell_type": "code",
      "execution_count": null,
      "metadata": {
        "id": "737obX2PSOFX",
        "outputId": "57e60200-5ed8-4bf7-8ad2-e15d20580377"
      },
      "outputs": [
        {
          "name": "stdout",
          "output_type": "stream",
          "text": [
            "Accuracy наилучшей модели на валидационной выборке: 0.7947122861586314\n",
            "Оптимальный параметр n_estimators: 23\n"
          ]
        }
      ],
      "source": [
        "model_rfc = None\n",
        "best_result = 0\n",
        "best_est = 0\n",
        "for est in range(1, 50):\n",
        "    model = RandomForestClassifier(random_state=12345, n_estimators=est)\n",
        "    model.fit(features_train, target_train) \n",
        "    result = model.score(features_valid, target_valid)\n",
        "    if result > best_result:\n",
        "        model_rfc = model\n",
        "        best_result = result\n",
        "        best_est = est\n",
        "\n",
        "print(\"Accuracy наилучшей модели на валидационной выборке:\", best_result)\n",
        "print('Оптимальный параметр n_estimators:', best_est)\n"
      ]
    },
    {
      "cell_type": "markdown",
      "metadata": {
        "id": "JQZnKEemSOFX"
      },
      "source": [
        "Значение `accuracy` выше 0.79. Результат так же удовлетворяет поставленной задаче"
      ]
    },
    {
      "cell_type": "markdown",
      "metadata": {
        "id": "S3p32Q58SOFY"
      },
      "source": [
        "Посмотрим на работу модели **Логистической регрессии:**"
      ]
    },
    {
      "cell_type": "code",
      "execution_count": null,
      "metadata": {
        "id": "7ofFqCXVSOFY",
        "outputId": "bd73f456-ec1e-4755-f7ff-b4166d76a040"
      },
      "outputs": [
        {
          "name": "stdout",
          "output_type": "stream",
          "text": [
            "Accuracy модели `LogisticRegression` на валидационной выборке 0.7107309486780715\n"
          ]
        }
      ],
      "source": [
        "model_lr = LogisticRegression(random_state=12345) \n",
        "model_lr.fit(features_train, target_train)\n",
        "train_predictions = model_lr.predict(features_train)\n",
        "valid_predictions = model_lr.predict(features_valid)\n",
        "print('Accuracy модели `LogisticRegression` на валидационной выборке', accuracy_score(target_valid, valid_predictions))"
      ]
    },
    {
      "cell_type": "markdown",
      "metadata": {
        "id": "X4CDapoJSOFZ"
      },
      "source": [
        "А у этой модели  Accuracy ниже необходимого. Посмотрим что будет в сравнении моделей на тестовой выборке"
      ]
    },
    {
      "cell_type": "markdown",
      "metadata": {
        "id": "JKW80wDdSOFb"
      },
      "source": [
        "<div class=\"alert alert-info\", style=\"color:brown\">\n",
        "\n",
        "**По результатам валидации лучший Accuracy показала модель Случайного леса**, но результат незначительно отличается от модели Решающего дерева, а модель скорее всего работает дольше. Значит проверку времени работы кода и выбор модели стоит перенести в этот раздел. Так и сделаем, используя валидационную выборку:\n",
        "    \n",
        "</div>"
      ]
    },
    {
      "cell_type": "code",
      "execution_count": null,
      "metadata": {
        "id": "48t2yNFpSOFc",
        "outputId": "4ad3d00d-66ab-466d-cef3-81bb17cb092e"
      },
      "outputs": [
        {
          "name": "stdout",
          "output_type": "stream",
          "text": [
            "Время работы модели DecisionTree 0.003572702407836914\n",
            "Время работы модели RandomForest 0.017900466918945312\n"
          ]
        }
      ],
      "source": [
        "start = time.time()\n",
        "train_predictions = model_dtc.predict(features_train)\n",
        "valid_predictions = model_dtc.predict(features_valid)\n",
        "end = time.time()\n",
        "print('Время работы модели DecisionTree',end - start)\n",
        "\n",
        "start = time.time()\n",
        "train_predictions = model_rfc.predict(features_train)\n",
        "valid_predictions = model_rfc.predict(features_valid)\n",
        "end = time.time()\n",
        "print('Время работы модели RandomForest',end - start)"
      ]
    },
    {
      "cell_type": "markdown",
      "metadata": {
        "id": "ri2E6qobSOFd"
      },
      "source": [
        "<div class=\"alert alert-info\", style=\"color:brown\">\n",
        "\n",
        "Интересно, что сокращение разрядности фрейма практически не изменило времени работы кода, а Случайный лес на валидационной выборке работал даже дольше (0,018 вместо 0,016)\n",
        "\n",
        "**Итого - для исследовательских целей оставляем Случайный лес**, т.к. он дает большую точность, а времени у нас достаточно. \n",
        "Если в бизнес-задаче будут лимиты по времени код - стоит рассматривать Решающее дерево с глубиной ветвления 3 как разумную альтернативу\n",
        "    \n",
        "</div>"
      ]
    },
    {
      "cell_type": "markdown",
      "metadata": {
        "id": "f7qKlATCSOFe"
      },
      "source": [
        "## Проверьте модель на тестовой выборке"
      ]
    },
    {
      "cell_type": "code",
      "execution_count": null,
      "metadata": {
        "id": "pkZ9_sXySOFf",
        "outputId": "4e59ca96-c34e-4b0c-fcb7-cd3347f5ba55"
      },
      "outputs": [
        {
          "name": "stdout",
          "output_type": "stream",
          "text": [
            "Accuracy Случайного леса на тестовой выборке 0.7807153965785381\n"
          ]
        }
      ],
      "source": [
        "#train_predictions = model_lr.predict(features_train)\n",
        "#test_predictions = model_lr.predict(features_test)\n",
        "#print('Accuracy Логистической регрессии на тестовой выборке', accuracy_score(target_test, test_predictions))\n",
        "\n",
        "train_predictions = model_rfc.predict(features_train)\n",
        "test_predictions = model_rfc.predict(features_test)\n",
        "print('Accuracy Случайного леса на тестовой выборке', accuracy_score(target_test, test_predictions))\n",
        "\n",
        "#train_predictions = model_dtc.predict(features_train)\n",
        "#test_predictions = model_dtc.predict(features_test)\n",
        "#print('Accuracy Решающего дерева на тестовой выборке', accuracy_score(target_test, test_predictions))"
      ]
    },
    {
      "cell_type": "code",
      "execution_count": null,
      "metadata": {
        "id": "zMKtlsPESOFg",
        "outputId": "ef7d91e4-bebd-437d-dab9-1271b3ba1f43"
      },
      "outputs": [
        {
          "name": "stdout",
          "output_type": "stream",
          "text": [
            "Accuracy Случайного леса на тестовой выборке 0.8895800933125972\n"
          ]
        }
      ],
      "source": [
        "features_train, features_test, target_train, target_test = train_test_split(\n",
        "    features, target, test_size=0.8, random_state=12345)\n",
        "model = RandomForestClassifier(random_state=12345, n_estimators=23)\n",
        "model.fit(features_train, target_train) \n",
        "train_predictions = model_rfc.predict(features_train)\n",
        "test_predictions = model_rfc.predict(features_test)\n",
        "print('Accuracy Случайного леса на тестовой выборке', accuracy_score(target_test, test_predictions))"
      ]
    },
    {
      "cell_type": "markdown",
      "metadata": {
        "id": "iw1A5vbFSOFh"
      },
      "source": [
        "<div class=\"alert alert-info\", style=\"color:brown\">\n",
        "\n",
        "Бинго! 89% попаданий! хороший способ, спасибо)\n",
        "    \n",
        "</div>"
      ]
    },
    {
      "cell_type": "markdown",
      "metadata": {
        "id": "rx-6nsbGSOFh"
      },
      "source": [
        "В тестовой выборке лучшие результаты показала модель `RandomForest` - с параметром `n_estimators`= 23, но результаты `DecisionTree` отличаются совсем незначительно. Чтобы решить стоит ли городить лес, или достаточно одного дерева - сверим время работы кода в бонусном разделе"
      ]
    },
    {
      "cell_type": "markdown",
      "metadata": {
        "id": "NfxKrdevSOFh"
      },
      "source": [
        "## (бонус) Проверьте модели на адекватность"
      ]
    },
    {
      "cell_type": "code",
      "execution_count": null,
      "metadata": {
        "id": "JILCN7PdSOFi",
        "outputId": "27db592d-b2b0-4e72-b010-795050b178ad"
      },
      "outputs": [
        {
          "data": {
            "text/plain": [
              "0.693528313627878"
            ]
          },
          "execution_count": 13,
          "metadata": {},
          "output_type": "execute_result"
        }
      ],
      "source": [
        "len(df.query('is_ultra == 0')) / len(df)"
      ]
    },
    {
      "cell_type": "markdown",
      "metadata": {
        "id": "aE0CmLLDSOFj"
      },
      "source": [
        "<div class=\"alert alert-info\", style=\"color:brown\">\n",
        "\n",
        "Если примитивная модель будет всегда предсказывать \"0\", то она попадет в 69% случаев. Тоже неплохая точность, но наши модели на основе решающего дерева или случайного леса будут полезнее. И даже логистическая регрессия покажет результат лучше, но наверное это сложно будет заметить с точки зрения бизнеса а не математики. \n",
        "    \n",
        "    \n",
        "Мы предложили модель которая дает всего 11% неверных ответов, а это заметно лучше чем просто предложить всем недорогой тариф и получить 31% ошибок. \n",
        "    \n",
        "</div>"
      ]
    },
    {
      "cell_type": "markdown",
      "metadata": {
        "id": "U2spLAhhSOFj"
      },
      "source": [
        "Значения Accuracy в работе каждой из трех моделей выше 0,5 (Accuracy случайного выбора), а значит решения каждой модели адекватны.\n",
        "\n",
        "Мы можем попробовать еще улучшить Accuracy модели случайного леса, увеличив диапазон выбора n_estimators:"
      ]
    },
    {
      "cell_type": "code",
      "execution_count": null,
      "metadata": {
        "id": "h_rDsQ1RSOFk",
        "outputId": "dc1667f2-9ef3-423e-fe61-e2a2ef42b449"
      },
      "outputs": [
        {
          "name": "stdout",
          "output_type": "stream",
          "text": [
            "Время работы модели DecisionTree 0.0039920806884765625\n",
            "Время работы модели RandomForest 0.033158302307128906\n"
          ]
        }
      ],
      "source": [
        "start = time.time()\n",
        "train_predictions = model_dtc.predict(features_train)\n",
        "test_predictions = model_dtc.predict(features_test)\n",
        "end = time.time()\n",
        "print('Время работы модели DecisionTree',end - start)\n",
        "\n",
        "start = time.time()\n",
        "train_predictions = model_rfc.predict(features_train)\n",
        "test_predictions = model_rfc.predict(features_test)\n",
        "end = time.time()\n",
        "print('Время работы модели RandomForest',end - start)"
      ]
    },
    {
      "cell_type": "markdown",
      "metadata": {
        "id": "diz5NG9XSOFk"
      },
      "source": [
        "~Случайный лес из 23 деревьев работает в четыре раза дольше, чем решающее дерево с глубиной ветвления 3. А разница в Accuracy составляет одну тысячную.~ \n",
        "\n",
        "~**ВЫВОД**~\n",
        "~В качестве модели для оценки поведения клиентов на соответствие тарифному плану рекомендуется обученная на 60% выборки модель DecisionTree с парамтером max_depth = 3, с Accuracy = 0.7791601866251944~\n",
        "<div class=\"alert alert-info\", style=\"color:brown\">\n",
        "\n",
        "Этот вывод уже не считается, т.к. мы остановились в Случайном лесу и дообучили его до Accuracy = 0,89\n",
        "    \n",
        "</div>\n"
      ]
    },
    {
      "cell_type": "markdown",
      "metadata": {
        "id": "478NbqmfSOFk"
      },
      "source": [
        "## Чек-лист готовности проекта"
      ]
    },
    {
      "cell_type": "markdown",
      "metadata": {
        "id": "H6g_XLyISOFl"
      },
      "source": [
        "Поставьте 'x' в выполненных пунктах. Далее нажмите Shift+Enter."
      ]
    },
    {
      "cell_type": "markdown",
      "metadata": {
        "id": "LEfkM8NiSOFl"
      },
      "source": [
        "- [x] Jupyter Notebook открыт\n",
        "- [x] Весь код исполняется без ошибок\n",
        "- [x] Ячейки с кодом расположены в порядке исполнения\n",
        "- [x] Выполнено задание 1: данные загружены и изучены\n",
        "- [x] Выполнено задание 2: данные разбиты на три выборки\n",
        "- [x] Выполнено задание 3: проведено исследование моделей\n",
        "    - [x] Рассмотрено больше одной модели\n",
        "    - [x] Рассмотрено хотя бы 3 значения гипепараметров для какой-нибудь модели\n",
        "    - [x] Написаны выводы по результатам исследования\n",
        "- [x] Выполнено задание 3: Проведено тестирование\n",
        "- [x] Удалось достичь accuracy не меньше 0.75\n"
      ]
    },
    {
      "cell_type": "markdown",
      "metadata": {
        "id": "glromZXdSOFl"
      },
      "source": [
        "<img src=\"http://s3.amazonaws.com/pix.iemoji.com/images/emoji/apple/ios-12/256/waving-hand.png\" align=left width=44, heigth=44>\n",
        "<div class=\"alert alert-info\">\n",
        "<b> Заключительный комментарий</b>\n",
        "\n",
        "В целом мне все понравилось: твоя работа выполнена на хорошем уровне с минимальными помарками.\n",
        "Также работа выглядит аккуратной и хорошо оформленной.\n",
        "\n",
        "К работе нет серьезных замечаний, и проект может быть принят. Возвращаю тебе работу только для знакомства с моими комментариями. Возможно, ты решишь что-то улучшить или у тебя появятся вопросы.\n",
        "     \n",
        "Жду работу на повторное ревью.\n",
        "</div>"
      ]
    },
    {
      "cell_type": "markdown",
      "metadata": {
        "id": "koAXdwWpSOFm"
      },
      "source": [
        "<div class=\"alert alert-info\", style=\"color:brown\">\n",
        "\n",
        "**Еще раз спасибо за ревью и замечания. Проекты с исправленными замечаниями становятся лучшими шпаргалками на будущее)**\n",
        "    \n",
        "</div>"
      ]
    },
    {
      "cell_type": "markdown",
      "metadata": {
        "id": "9s5fqD0ySOFm"
      },
      "source": [
        "<img src=\"http://s3.amazonaws.com/pix.iemoji.com/images/emoji/apple/ios-12/256/waving-hand.png\" align=left width=44, heigth=44>\n",
        "<div class=\"alert alert-info\">\n",
        "<b> Заключительный комментарий v2</b>\n",
        "\n",
        "Привет.\n",
        "Вижу, что ты оперативно отреагировал на мои комментарии. \n",
        "И большое спасибо за обратную связь )).\n",
        "    \n",
        "Проект принят, поздравляю! И желаю дальнейших успехов!\n",
        "</div>"
      ]
    },
    {
      "cell_type": "code",
      "execution_count": null,
      "metadata": {
        "id": "iOKBYouLSOFm"
      },
      "outputs": [],
      "source": []
    }
  ],
  "metadata": {
    "ExecuteTimeLog": [
      {
        "duration": 1190,
        "start_time": "2022-04-19T06:54:30.809Z"
      },
      {
        "duration": 27,
        "start_time": "2022-04-19T06:58:34.848Z"
      },
      {
        "duration": 18,
        "start_time": "2022-04-19T07:00:02.634Z"
      },
      {
        "duration": 3,
        "start_time": "2022-04-19T07:08:24.783Z"
      },
      {
        "duration": 110,
        "start_time": "2022-04-19T07:20:36.742Z"
      },
      {
        "duration": 7,
        "start_time": "2022-04-19T07:20:42.298Z"
      },
      {
        "duration": 24,
        "start_time": "2022-04-19T07:20:44.969Z"
      },
      {
        "duration": 39,
        "start_time": "2022-04-19T07:20:59.915Z"
      },
      {
        "duration": 31,
        "start_time": "2022-04-19T07:23:40.697Z"
      },
      {
        "duration": 23,
        "start_time": "2022-04-19T07:24:58.237Z"
      },
      {
        "duration": 3,
        "start_time": "2022-04-19T07:25:02.637Z"
      },
      {
        "duration": 29,
        "start_time": "2022-04-19T07:25:05.923Z"
      },
      {
        "duration": 1135,
        "start_time": "2022-04-19T07:25:10.201Z"
      },
      {
        "duration": 112,
        "start_time": "2022-04-19T07:25:11.337Z"
      },
      {
        "duration": 0,
        "start_time": "2022-04-19T07:25:11.451Z"
      },
      {
        "duration": 0,
        "start_time": "2022-04-19T07:25:11.452Z"
      },
      {
        "duration": 1158,
        "start_time": "2022-04-19T07:25:40.905Z"
      },
      {
        "duration": 26,
        "start_time": "2022-04-19T07:25:42.065Z"
      },
      {
        "duration": 6,
        "start_time": "2022-04-19T07:25:42.093Z"
      },
      {
        "duration": 28,
        "start_time": "2022-04-19T07:25:42.101Z"
      },
      {
        "duration": 22,
        "start_time": "2022-04-19T07:44:30.936Z"
      },
      {
        "duration": 268,
        "start_time": "2022-04-19T07:56:26.785Z"
      },
      {
        "duration": 5242,
        "start_time": "2022-04-19T07:57:07.418Z"
      },
      {
        "duration": 2027,
        "start_time": "2022-04-19T08:00:32.283Z"
      },
      {
        "duration": 866,
        "start_time": "2022-04-19T08:00:41.580Z"
      },
      {
        "duration": 1047,
        "start_time": "2022-04-19T08:01:10.079Z"
      },
      {
        "duration": 25,
        "start_time": "2022-04-19T08:01:11.128Z"
      },
      {
        "duration": 6,
        "start_time": "2022-04-19T08:01:11.154Z"
      },
      {
        "duration": 24,
        "start_time": "2022-04-19T08:01:11.162Z"
      },
      {
        "duration": 1892,
        "start_time": "2022-04-19T08:01:11.187Z"
      },
      {
        "duration": 1051,
        "start_time": "2022-04-19T08:01:33.255Z"
      },
      {
        "duration": 26,
        "start_time": "2022-04-19T08:01:34.308Z"
      },
      {
        "duration": 5,
        "start_time": "2022-04-19T08:01:34.336Z"
      },
      {
        "duration": 24,
        "start_time": "2022-04-19T08:01:34.343Z"
      },
      {
        "duration": 234,
        "start_time": "2022-04-19T08:01:34.368Z"
      },
      {
        "duration": 229,
        "start_time": "2022-04-19T08:03:31.889Z"
      },
      {
        "duration": 870,
        "start_time": "2022-04-19T08:03:41.841Z"
      },
      {
        "duration": 22637,
        "start_time": "2022-04-19T08:03:49.864Z"
      },
      {
        "duration": 5755,
        "start_time": "2022-04-19T08:04:48.509Z"
      },
      {
        "duration": 21116,
        "start_time": "2022-04-19T08:06:55.842Z"
      },
      {
        "duration": 20,
        "start_time": "2022-04-19T08:14:00.229Z"
      },
      {
        "duration": 7,
        "start_time": "2022-04-19T08:18:02.147Z"
      },
      {
        "duration": 17,
        "start_time": "2022-04-19T08:18:16.618Z"
      },
      {
        "duration": 17,
        "start_time": "2022-04-19T08:20:15.666Z"
      },
      {
        "duration": 16,
        "start_time": "2022-04-19T08:20:42.364Z"
      },
      {
        "duration": 16981,
        "start_time": "2022-04-19T08:21:50.788Z"
      },
      {
        "duration": 196,
        "start_time": "2022-04-19T08:22:13.932Z"
      },
      {
        "duration": 4449,
        "start_time": "2022-04-19T08:22:20.059Z"
      },
      {
        "duration": 4299,
        "start_time": "2022-04-19T08:23:16.686Z"
      },
      {
        "duration": 731,
        "start_time": "2022-04-19T08:23:34.692Z"
      },
      {
        "duration": 15,
        "start_time": "2022-04-19T08:25:58.037Z"
      },
      {
        "duration": 81,
        "start_time": "2022-04-19T08:39:14.185Z"
      },
      {
        "duration": 121,
        "start_time": "2022-04-19T08:39:22.421Z"
      },
      {
        "duration": 154,
        "start_time": "2022-04-19T08:39:29.261Z"
      },
      {
        "duration": 194,
        "start_time": "2022-04-19T08:39:48.825Z"
      },
      {
        "duration": 50,
        "start_time": "2022-04-19T08:40:00.142Z"
      },
      {
        "duration": 154,
        "start_time": "2022-04-19T10:21:56.681Z"
      },
      {
        "duration": 4286,
        "start_time": "2022-04-19T10:22:06.990Z"
      },
      {
        "duration": 28,
        "start_time": "2022-04-19T10:32:04.501Z"
      },
      {
        "duration": 25,
        "start_time": "2022-04-19T10:40:19.969Z"
      },
      {
        "duration": 1114,
        "start_time": "2022-04-19T11:01:53.769Z"
      },
      {
        "duration": 29,
        "start_time": "2022-04-19T11:01:54.885Z"
      },
      {
        "duration": 11,
        "start_time": "2022-04-19T11:01:54.916Z"
      },
      {
        "duration": 100,
        "start_time": "2022-04-19T11:01:54.929Z"
      },
      {
        "duration": 0,
        "start_time": "2022-04-19T11:01:55.030Z"
      },
      {
        "duration": 0,
        "start_time": "2022-04-19T11:01:55.032Z"
      },
      {
        "duration": 0,
        "start_time": "2022-04-19T11:01:55.033Z"
      },
      {
        "duration": 0,
        "start_time": "2022-04-19T11:01:55.035Z"
      },
      {
        "duration": 14,
        "start_time": "2022-04-19T11:02:14.056Z"
      },
      {
        "duration": 58,
        "start_time": "2022-04-19T11:02:35.177Z"
      },
      {
        "duration": 13,
        "start_time": "2022-04-19T11:06:21.874Z"
      },
      {
        "duration": 56,
        "start_time": "2022-04-19T11:06:43.450Z"
      },
      {
        "duration": 1100,
        "start_time": "2022-04-19T11:07:24.219Z"
      },
      {
        "duration": 26,
        "start_time": "2022-04-19T11:07:25.321Z"
      },
      {
        "duration": 10,
        "start_time": "2022-04-19T11:07:25.349Z"
      },
      {
        "duration": 64,
        "start_time": "2022-04-19T11:07:25.361Z"
      },
      {
        "duration": 4200,
        "start_time": "2022-04-19T11:07:25.427Z"
      },
      {
        "duration": 22,
        "start_time": "2022-04-19T11:07:29.629Z"
      },
      {
        "duration": 26,
        "start_time": "2022-04-19T11:07:29.652Z"
      },
      {
        "duration": 122,
        "start_time": "2022-04-19T11:23:16.693Z"
      },
      {
        "duration": 87,
        "start_time": "2022-04-19T11:23:57.764Z"
      },
      {
        "duration": 1222,
        "start_time": "2022-04-19T11:24:09.620Z"
      },
      {
        "duration": 26,
        "start_time": "2022-04-19T11:24:10.844Z"
      },
      {
        "duration": 9,
        "start_time": "2022-04-19T11:24:10.871Z"
      },
      {
        "duration": 63,
        "start_time": "2022-04-19T11:24:10.882Z"
      },
      {
        "duration": 4377,
        "start_time": "2022-04-19T11:24:10.946Z"
      },
      {
        "duration": 23,
        "start_time": "2022-04-19T11:24:15.325Z"
      },
      {
        "duration": 25,
        "start_time": "2022-04-19T11:24:15.349Z"
      },
      {
        "duration": 17,
        "start_time": "2022-04-19T11:24:15.376Z"
      },
      {
        "duration": 21,
        "start_time": "2022-04-19T11:25:23.081Z"
      },
      {
        "duration": 1126,
        "start_time": "2022-04-19T11:29:47.772Z"
      },
      {
        "duration": 32,
        "start_time": "2022-04-19T11:29:48.900Z"
      },
      {
        "duration": 9,
        "start_time": "2022-04-19T11:29:48.933Z"
      },
      {
        "duration": 59,
        "start_time": "2022-04-19T11:29:48.944Z"
      },
      {
        "duration": 4581,
        "start_time": "2022-04-19T11:29:49.004Z"
      },
      {
        "duration": 22,
        "start_time": "2022-04-19T11:29:53.586Z"
      },
      {
        "duration": 39,
        "start_time": "2022-04-19T11:29:53.610Z"
      },
      {
        "duration": 22,
        "start_time": "2022-04-19T11:29:53.650Z"
      },
      {
        "duration": 1272,
        "start_time": "2022-04-19T13:54:29.886Z"
      },
      {
        "duration": 36,
        "start_time": "2022-04-19T13:54:31.160Z"
      },
      {
        "duration": 9,
        "start_time": "2022-04-19T13:54:31.197Z"
      },
      {
        "duration": 83,
        "start_time": "2022-04-19T13:54:31.208Z"
      },
      {
        "duration": 5378,
        "start_time": "2022-04-19T13:54:31.292Z"
      },
      {
        "duration": 29,
        "start_time": "2022-04-19T13:54:36.672Z"
      },
      {
        "duration": 57,
        "start_time": "2022-04-19T13:54:36.703Z"
      },
      {
        "duration": 27,
        "start_time": "2022-04-19T13:54:36.762Z"
      },
      {
        "duration": 4,
        "start_time": "2022-04-19T13:56:41.894Z"
      },
      {
        "duration": 49,
        "start_time": "2022-04-19T14:25:46.154Z"
      },
      {
        "duration": 1146,
        "start_time": "2022-04-19T14:25:53.579Z"
      },
      {
        "duration": 31,
        "start_time": "2022-04-19T14:25:54.727Z"
      },
      {
        "duration": 12,
        "start_time": "2022-04-19T14:25:54.759Z"
      },
      {
        "duration": 7,
        "start_time": "2022-04-19T14:25:54.773Z"
      },
      {
        "duration": 64,
        "start_time": "2022-04-19T14:25:54.781Z"
      },
      {
        "duration": 4729,
        "start_time": "2022-04-19T14:25:54.847Z"
      },
      {
        "duration": 31,
        "start_time": "2022-04-19T14:25:59.577Z"
      },
      {
        "duration": 27,
        "start_time": "2022-04-19T14:25:59.609Z"
      },
      {
        "duration": 23,
        "start_time": "2022-04-19T14:25:59.638Z"
      },
      {
        "duration": 16,
        "start_time": "2022-04-19T14:35:21.952Z"
      },
      {
        "duration": 108,
        "start_time": "2022-04-19T14:36:30.547Z"
      },
      {
        "duration": 16,
        "start_time": "2022-04-19T14:37:42.320Z"
      },
      {
        "duration": 14,
        "start_time": "2022-04-19T14:39:55.173Z"
      },
      {
        "duration": 4,
        "start_time": "2022-04-19T14:44:35.899Z"
      },
      {
        "duration": 5,
        "start_time": "2022-04-19T14:46:20.225Z"
      },
      {
        "duration": 26,
        "start_time": "2022-04-19T14:54:22.080Z"
      },
      {
        "duration": 22,
        "start_time": "2022-04-19T14:58:58.259Z"
      },
      {
        "duration": 69,
        "start_time": "2022-04-19T15:05:38.809Z"
      },
      {
        "duration": 14,
        "start_time": "2022-04-19T15:08:47.320Z"
      },
      {
        "duration": 6,
        "start_time": "2022-04-19T15:09:08.152Z"
      },
      {
        "duration": 6,
        "start_time": "2022-04-19T15:09:26.663Z"
      },
      {
        "duration": 65,
        "start_time": "2022-04-19T15:16:55.963Z"
      },
      {
        "duration": 1158,
        "start_time": "2022-04-19T15:17:14.676Z"
      },
      {
        "duration": 31,
        "start_time": "2022-04-19T15:17:15.836Z"
      },
      {
        "duration": 12,
        "start_time": "2022-04-19T15:17:15.868Z"
      },
      {
        "duration": 17,
        "start_time": "2022-04-19T15:17:15.883Z"
      },
      {
        "duration": 6,
        "start_time": "2022-04-19T15:17:15.908Z"
      },
      {
        "duration": 5,
        "start_time": "2022-04-19T15:17:15.916Z"
      },
      {
        "duration": 58,
        "start_time": "2022-04-19T15:17:15.923Z"
      },
      {
        "duration": 4908,
        "start_time": "2022-04-19T15:17:15.982Z"
      },
      {
        "duration": 30,
        "start_time": "2022-04-19T15:17:20.892Z"
      },
      {
        "duration": 25,
        "start_time": "2022-04-19T15:17:20.924Z"
      },
      {
        "duration": 22,
        "start_time": "2022-04-19T15:17:20.951Z"
      },
      {
        "duration": 97,
        "start_time": "2022-04-19T15:17:20.974Z"
      },
      {
        "duration": 9,
        "start_time": "2022-04-19T15:17:21.072Z"
      },
      {
        "duration": 41,
        "start_time": "2022-04-19T15:17:21.082Z"
      }
    ],
    "kernelspec": {
      "display_name": "Python 3 (ipykernel)",
      "language": "python",
      "name": "python3"
    },
    "language_info": {
      "codemirror_mode": {
        "name": "ipython",
        "version": 3
      },
      "file_extension": ".py",
      "mimetype": "text/x-python",
      "name": "python",
      "nbconvert_exporter": "python",
      "pygments_lexer": "ipython3",
      "version": "3.9.5"
    },
    "toc": {
      "base_numbering": 1,
      "nav_menu": {},
      "number_sections": true,
      "sideBar": true,
      "skip_h1_title": true,
      "title_cell": "Table of Contents",
      "title_sidebar": "Contents",
      "toc_cell": false,
      "toc_position": {},
      "toc_section_display": true,
      "toc_window_display": false
    },
    "colab": {
      "provenance": [],
      "include_colab_link": true
    }
  },
  "nbformat": 4,
  "nbformat_minor": 0
}
