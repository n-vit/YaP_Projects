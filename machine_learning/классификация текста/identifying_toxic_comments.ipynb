{
  "cells": [
    {
      "cell_type": "markdown",
      "metadata": {
        "id": "view-in-github",
        "colab_type": "text"
      },
      "source": [
        "<a href=\"https://colab.research.google.com/github/n-vit/YaP_Projects/blob/main/identifying_toxic_comments.ipynb\" target=\"_parent\"><img src=\"https://colab.research.google.com/assets/colab-badge.svg\" alt=\"Open In Colab\"/></a>"
      ]
    },
    {
      "cell_type": "markdown",
      "metadata": {
        "id": "h_TFLXLjr9rB"
      },
      "source": [
        "<h1>Содержание<span class=\"tocSkip\"></span></h1>\n",
        "<div class=\"toc\"><ul class=\"toc-item\"><li><span><a href=\"#Подготовка\" data-toc-modified-id=\"Подготовка-1\"><span class=\"toc-item-num\">1&nbsp;&nbsp;</span>Подготовка</a></span></li><li><span><a href=\"#Обучение\" data-toc-modified-id=\"Обучение-2\"><span class=\"toc-item-num\">2&nbsp;&nbsp;</span>Обучение</a></span></li><li><span><a href=\"#Выводы\" data-toc-modified-id=\"Выводы-3\"><span class=\"toc-item-num\">3&nbsp;&nbsp;</span>Выводы</a></span></li><li><span><a href=\"#Чек-лист-проверки\" data-toc-modified-id=\"Чек-лист-проверки-4\"><span class=\"toc-item-num\">4&nbsp;&nbsp;</span>Чек-лист проверки</a></span></li></ul></div>"
      ]
    },
    {
      "cell_type": "markdown",
      "metadata": {
        "id": "SS1dTN9Nr9rR"
      },
      "source": [
        "# Отсев токсичных комментариев"
      ]
    },
    {
      "cell_type": "markdown",
      "metadata": {
        "id": "fM_csVCrr9rT"
      },
      "source": [
        "Интернет-магазин запускает новый сервис. Теперь пользователи могут редактировать и дополнять описания товаров, как в вики-сообществах. То есть клиенты предлагают свои правки и комментируют изменения других. Магазину нужен инструмент, который будет искать токсичные комментарии и отправлять их на модерацию. \n",
        "\n",
        "Обучите модель классифицировать комментарии на позитивные и негативные. В вашем распоряжении набор данных с разметкой о токсичности правок.\n",
        "\n",
        "Постройте модель со значением метрики качества *F1* не меньше 0.75. \n",
        "\n",
        "**Инструкция по выполнению проекта**\n",
        "\n",
        "1. Загрузите и подготовьте данные.\n",
        "2. Обучите разные модели. \n",
        "3. Сделайте выводы.\n",
        "\n",
        "Для выполнения проекта применять *BERT* необязательно, но вы можете попробовать.\n",
        "\n",
        "**Описание данных**\n",
        "\n",
        "Данные находятся в файле `toxic_comments.csv`. Столбец *text* в нём содержит текст комментария, а *toxic* — целевой признак."
      ]
    },
    {
      "cell_type": "code",
      "execution_count": null,
      "metadata": {
        "colab": {
          "base_uri": "https://localhost:8080/"
        },
        "id": "zsyFCEp1sCay",
        "outputId": "c63a7fd3-75ce-4a73-fd45-5f252aa7beb8"
      },
      "outputs": [
        {
          "name": "stderr",
          "output_type": "stream",
          "text": [
            "[nltk_data] Downloading package wordnet to /home/jovyan/nltk_data...\n",
            "[nltk_data]   Package wordnet is already up-to-date!\n",
            "[nltk_data] Downloading package omw-1.4 to /home/jovyan/nltk_data...\n",
            "[nltk_data]   Package omw-1.4 is already up-to-date!\n",
            "[nltk_data] Downloading package stopwords to /home/jovyan/nltk_data...\n",
            "[nltk_data]   Package stopwords is already up-to-date!\n"
          ]
        }
      ],
      "source": [
        "import pandas as pd \n",
        "import numpy as np \n",
        "\n",
        "from sklearn.pipeline import Pipeline\n",
        "import re\n",
        "import nltk\n",
        "from nltk.corpus import stopwords as nltk_stopwords\n",
        "from nltk import word_tokenize, pos_tag\n",
        "from nltk.stem import WordNetLemmatizer\n",
        "nltk.download('wordnet')\n",
        "nltk.download('omw-1.4')\n",
        "\n",
        "from sklearn.feature_extraction.text import TfidfVectorizer, TfidfTransformer\n",
        "\n",
        "from sklearn.model_selection import train_test_split, GridSearchCV\n",
        "\n",
        "from sklearn.linear_model import LogisticRegression\n",
        "from lightgbm import LGBMClassifier \n",
        "\n",
        "from sklearn.metrics import f1_score\n",
        "\n",
        "import time\n",
        "import warnings\n",
        "warnings.filterwarnings('ignore')\n",
        "\n",
        "nltk.download('stopwords')\n",
        "stopwords = set(nltk_stopwords.words('english'))\n",
        "\n",
        "import plotly.graph_objects as go"
      ]
    },
    {
      "cell_type": "code",
      "execution_count": null,
      "metadata": {
        "id": "8AbTIwwnr9rY"
      },
      "outputs": [],
      "source": [
        "try: # if the project is opened in Collab use a 'try' block, if it opened in simulator Yandex, or local Jupiter, use an 'except' block\n",
        "    df = pd.read_csv('https://code.s3.yandex.net/datasets/toxic_comments.csv')\n",
        "\n",
        "except:\n",
        "    df = pd.read_csv('/datasets/toxic_comments.csv')"
      ]
    },
    {
      "cell_type": "code",
      "execution_count": null,
      "metadata": {
        "colab": {
          "base_uri": "https://localhost:8080/"
        },
        "id": "FkU8G1EJB3H-",
        "outputId": "4c0b7fc4-c1ca-4d01-8f92-de93b731ef23"
      },
      "outputs": [
        {
          "name": "stdout",
          "output_type": "stream",
          "text": [
            "<class 'pandas.core.frame.DataFrame'>\n",
            "RangeIndex: 159571 entries, 0 to 159570\n",
            "Data columns (total 2 columns):\n",
            " #   Column  Non-Null Count   Dtype \n",
            "---  ------  --------------   ----- \n",
            " 0   text    159571 non-null  object\n",
            " 1   toxic   159571 non-null  int64 \n",
            "dtypes: int64(1), object(1)\n",
            "memory usage: 2.4+ MB\n"
          ]
        }
      ],
      "source": [
        "df.info()"
      ]
    },
    {
      "cell_type": "code",
      "execution_count": null,
      "metadata": {
        "colab": {
          "base_uri": "https://localhost:8080/",
          "height": 143
        },
        "id": "nAAs2OvuBOAE",
        "outputId": "0c69d51f-bbdf-487d-bf02-214687d4113e"
      },
      "outputs": [
        {
          "data": {
            "text/html": [
              "<div>\n",
              "<style scoped>\n",
              "    .dataframe tbody tr th:only-of-type {\n",
              "        vertical-align: middle;\n",
              "    }\n",
              "\n",
              "    .dataframe tbody tr th {\n",
              "        vertical-align: top;\n",
              "    }\n",
              "\n",
              "    .dataframe thead th {\n",
              "        text-align: right;\n",
              "    }\n",
              "</style>\n",
              "<table border=\"1\" class=\"dataframe\">\n",
              "  <thead>\n",
              "    <tr style=\"text-align: right;\">\n",
              "      <th></th>\n",
              "      <th>text</th>\n",
              "      <th>toxic</th>\n",
              "    </tr>\n",
              "  </thead>\n",
              "  <tbody>\n",
              "    <tr>\n",
              "      <th>0</th>\n",
              "      <td>Explanation\\nWhy the edits made under my usern...</td>\n",
              "      <td>0</td>\n",
              "    </tr>\n",
              "    <tr>\n",
              "      <th>1</th>\n",
              "      <td>D'aww! He matches this background colour I'm s...</td>\n",
              "      <td>0</td>\n",
              "    </tr>\n",
              "    <tr>\n",
              "      <th>2</th>\n",
              "      <td>Hey man, I'm really not trying to edit war. It...</td>\n",
              "      <td>0</td>\n",
              "    </tr>\n",
              "  </tbody>\n",
              "</table>\n",
              "</div>"
            ],
            "text/plain": [
              "                                                text  toxic\n",
              "0  Explanation\\nWhy the edits made under my usern...      0\n",
              "1  D'aww! He matches this background colour I'm s...      0\n",
              "2  Hey man, I'm really not trying to edit war. It...      0"
            ]
          },
          "execution_count": 4,
          "metadata": {},
          "output_type": "execute_result"
        }
      ],
      "source": [
        "df.head(3)"
      ]
    },
    {
      "cell_type": "code",
      "execution_count": null,
      "metadata": {
        "colab": {
          "base_uri": "https://localhost:8080/"
        },
        "id": "Xh49zEDXx1Fm",
        "outputId": "ae68d3e5-8e97-4631-80e9-08c8b13192c5"
      },
      "outputs": [
        {
          "data": {
            "text/plain": [
              "0    143346\n",
              "1     16225\n",
              "Name: toxic, dtype: int64"
            ]
          },
          "execution_count": 5,
          "metadata": {},
          "output_type": "execute_result"
        }
      ],
      "source": [
        "df['toxic'].value_counts()"
      ]
    },
    {
      "cell_type": "code",
      "execution_count": null,
      "metadata": {
        "colab": {
          "base_uri": "https://localhost:8080/"
        },
        "id": "PZS7i3TRCKUJ",
        "outputId": "056c4b2c-4dd7-462a-e236-397854603f5f"
      },
      "outputs": [
        {
          "data": {
            "text/plain": [
              "0"
            ]
          },
          "execution_count": 6,
          "metadata": {},
          "output_type": "execute_result"
        }
      ],
      "source": [
        "df.duplicated().sum()"
      ]
    },
    {
      "cell_type": "code",
      "execution_count": null,
      "metadata": {
        "colab": {
          "base_uri": "https://localhost:8080/",
          "height": 53
        },
        "id": "0-PbK9XtHXGC",
        "outputId": "8217de90-a48e-4f3c-e33e-e881fbe2a801"
      },
      "outputs": [
        {
          "data": {
            "text/plain": [
              "'hey man i m really not trying to edit war it s just that this guy is constantly removing relevant information and talking to me through edits instead of my talk page he seems to care more about the formatting than the actual info'"
            ]
          },
          "execution_count": 27,
          "metadata": {},
          "output_type": "execute_result"
        }
      ],
      "source": [
        "df.iloc[2][0]"
      ]
    },
    {
      "cell_type": "markdown",
      "metadata": {
        "id": "t9WZIIWqB0MY"
      },
      "source": [
        "Итак, у нас есть фрейм из 159 тыс. строк, без пропусков и дубликатов, содержащий текстовые твиты и бинарный таргет токсичности. \n",
        "\n",
        "Твиты содержат живой англоязычный текст, со знаками препинания, различными регистрами букв, пробелами и ошибками. Токсичных твитов немногим меньше 10% от фрейма\n"
      ]
    },
    {
      "cell_type": "markdown",
      "metadata": {
        "id": "WE1Z3GmQr9rW"
      },
      "source": [
        "## Подготовка"
      ]
    },
    {
      "cell_type": "markdown",
      "metadata": {
        "id": "3Iqp4tr0_r_f"
      },
      "source": [
        "### Очистка\n",
        "оставим в тексте только латиницу, без знаков препинания и других символов"
      ]
    },
    {
      "cell_type": "markdown",
      "metadata": {
        "id": "lNCQDenEL1Nb"
      },
      "source": [
        "<div class=\"alert alert-block alert-warning\">\n",
        "<b>Изменения:</b> \n",
        "    \n",
        "Добавил в функцию очистки лемматизацию WordNetLemmatizer.\n",
        "\n",
        "    \n",
        "</div>"
      ]
    },
    {
      "cell_type": "code",
      "execution_count": null,
      "metadata": {
        "id": "Ox_P6IpbAXxL"
      },
      "outputs": [],
      "source": [
        "\n",
        "wnl = WordNetLemmatizer()\n",
        "def clear_text(text):\n",
        "    clean_text = re.sub(r'[^a-zA-Z]',' ',text)\n",
        "    clean_text = \" \".join(clean_text.split()).lower()\n",
        "    clean_text = nltk.word_tokenize(clean_text)\n",
        "    clean_text =  ' '.join([wnl.lemmatize(w) for w in clean_text])\n",
        "    return clean_text"
      ]
    },
    {
      "cell_type": "code",
      "execution_count": null,
      "metadata": {
        "id": "kPLwBdRU_yW-"
      },
      "outputs": [],
      "source": [
        "df['text'] = df['text'].map(lambda x: clear_text(x))"
      ]
    },
    {
      "cell_type": "code",
      "execution_count": null,
      "metadata": {
        "colab": {
          "base_uri": "https://localhost:8080/",
          "height": 53
        },
        "id": "5xSSqpxuAwkb",
        "outputId": "f314fcf9-7965-48a9-a9ea-85419f766136"
      },
      "outputs": [
        {
          "data": {
            "text/plain": [
              "'d aww he match this background colour i m seemingly stuck with thanks talk january utc'"
            ]
          },
          "execution_count": 12,
          "metadata": {},
          "output_type": "execute_result"
        }
      ],
      "source": [
        "df.iloc[1][0]"
      ]
    },
    {
      "cell_type": "markdown",
      "metadata": {
        "id": "CqwPZeWUjiUF"
      },
      "source": [
        "Выделим таргет и разобьем выборки на учебную и тестовую (70/30)"
      ]
    },
    {
      "cell_type": "code",
      "execution_count": null,
      "metadata": {
        "id": "x9eR5mQOr9rb"
      },
      "outputs": [],
      "source": [
        "features = df.drop('toxic', axis=1)\n",
        "target = df['toxic']"
      ]
    },
    {
      "cell_type": "code",
      "execution_count": null,
      "metadata": {
        "id": "W2hW19jCyRPl"
      },
      "outputs": [],
      "source": [
        "features_train, features_test, target_train, target_test = train_test_split(\n",
        "    features, target, test_size = 0.3, random_state=12345)"
      ]
    },
    {
      "cell_type": "markdown",
      "metadata": {
        "id": "pHwfWYzIr9ra"
      },
      "source": [
        "## Обучение "
      ]
    },
    {
      "cell_type": "markdown",
      "metadata": {
        "id": "Hz6THhvjlcO-"
      },
      "source": [
        "### Логистическая регрессия\n",
        "подберем гиперпараметры и обучим модель:"
      ]
    },
    {
      "cell_type": "code",
      "execution_count": null,
      "metadata": {
        "colab": {
          "base_uri": "https://localhost:8080/",
          "height": 122
        },
        "id": "qBrJBOpkyaHv",
        "outputId": "0872ab7f-debc-4594-bece-2c8371bf43ba"
      },
      "outputs": [
        {
          "name": "stdout",
          "output_type": "stream",
          "text": [
            "CPU times: user 4 µs, sys: 0 ns, total: 4 µs\n",
            "Wall time: 6.2 µs\n"
          ]
        },
        {
          "data": {
            "text/plain": [
              "\"\\nlr_pipe = Pipeline([\\n    ('tfidf', TfidfVectorizer(ngram_range=(1,3), \\n                              min_df=3, max_df=0.9, \\n                              use_idf=1, smooth_idf=1, \\n                              sublinear_tf=1, stop_words=stopwords)),\\n    ('clf', LogisticRegression(random_state=130682))])\\n\\nparams = {'clf__C': [0.1, 1, 10, 100],\\n          'clf__class_weight': ['balanced', None]}\\n\\nlr_grid = GridSearchCV(estimator=lr_pipe, \\n                       param_grid=params, \\n                       cv=3, scoring='f1', \\n                       n_jobs=-1, refit=False)\\nlr_grid.fit(features_train['text'], target_train)\\nlr_best_paramms = lr_grid.best_params_\\n\\nprint(lr_best_paramms)\\nprint(lr_grid.best_score_)\\n\""
            ]
          },
          "execution_count": 16,
          "metadata": {},
          "output_type": "execute_result"
        }
      ],
      "source": [
        "\n",
        "%%time\n",
        "'''\n",
        "lr_pipe = Pipeline([\n",
        "    ('tfidf', TfidfVectorizer(ngram_range=(1,3), \n",
        "                              min_df=3, max_df=0.9, \n",
        "                              use_idf=1, smooth_idf=1, \n",
        "                              sublinear_tf=1, stop_words=stopwords)),\n",
        "    ('clf', LogisticRegression(random_state=130682))])\n",
        "\n",
        "params = {'clf__C': [0.1, 1, 10, 100],\n",
        "          'clf__class_weight': ['balanced', None]}\n",
        "\n",
        "lr_grid = GridSearchCV(estimator=lr_pipe, \n",
        "                       param_grid=params, \n",
        "                       cv=3, scoring='f1', \n",
        "                       n_jobs=-1, refit=False)\n",
        "lr_grid.fit(features_train['text'], target_train)\n",
        "lr_best_paramms = lr_grid.best_params_\n",
        "\n",
        "print(lr_best_paramms)\n",
        "print(lr_grid.best_score_)\n",
        "'''"
      ]
    },
    {
      "cell_type": "markdown",
      "metadata": {
        "id": "Y5VrE29dRu1q"
      },
      "source": [
        "Лучшие параметры на кросс-валидации дают приемлемый результат (0,776) на обучающей выборке. \n",
        "\n",
        "Результаты обучения: (*код закомментирован для экономии времени*):\n",
        "\n",
        "{'clf__C': 10, 'clf__class_weight': 'balanced'}\n",
        "0.7758575228347439\n",
        "CPU times: user 7.13 s, sys: 1.13 s, total: 8.27 s\n",
        "Wall time: 8min 54s"
      ]
    },
    {
      "cell_type": "markdown",
      "metadata": {
        "id": "ZNsZmwXtqGi9"
      },
      "source": [
        "### Градиентный бустинг LightGBM"
      ]
    },
    {
      "cell_type": "code",
      "execution_count": null,
      "metadata": {
        "colab": {
          "base_uri": "https://localhost:8080/",
          "height": 87
        },
        "id": "nqH4Hkgnya6X",
        "outputId": "464d8757-6c37-4e3d-e365-c8e66773cf11"
      },
      "outputs": [
        {
          "data": {
            "text/plain": [
              "\"\\n%%time\\n\\nlgb_pipe = Pipeline([\\n    ('tfidf', TfidfVectorizer(ngram_range=(1,3), \\n                              min_df=3, max_df=0.9, \\n                              use_idf=1, smooth_idf=1, \\n                              sublinear_tf=1, stop_words=stopwords)),\\n    ('clf', LGBMClassifier(random_state=130682))])\\n\\nparams = {\\n  'clf__n_estimators': [200],\\n  'clf__learning_rate': [0.15, 0.25],\\n  'clf__max_depth': [8, 10, -1]}\\n\\nlgb_grid = GridSearchCV(estimator=lgb_pipe, param_grid=params, cv=3, scoring='f1', n_jobs=-1, refit=False)\\nlgb_grid.fit(features_train['text'], target_train)\\nlgb_best_params = lgb_grid.best_params_\\n\\nprint(lgb_best_params)\\nprint(lgb_grid.best_score_)\\n\""
            ]
          },
          "execution_count": 17,
          "metadata": {},
          "output_type": "execute_result"
        }
      ],
      "source": [
        "'''\n",
        "%%time\n",
        "\n",
        "lgb_pipe = Pipeline([\n",
        "    ('tfidf', TfidfVectorizer(ngram_range=(1,3), \n",
        "                              min_df=3, max_df=0.9, \n",
        "                              use_idf=1, smooth_idf=1, \n",
        "                              sublinear_tf=1, stop_words=stopwords)),\n",
        "    ('clf', LGBMClassifier(random_state=130682))])\n",
        "\n",
        "params = {\n",
        "  'clf__n_estimators': [200],\n",
        "  'clf__learning_rate': [0.15, 0.25],\n",
        "  'clf__max_depth': [8, 10, -1]}\n",
        "\n",
        "lgb_grid = GridSearchCV(estimator=lgb_pipe, param_grid=params, cv=3, scoring='f1', n_jobs=-1, refit=False)\n",
        "lgb_grid.fit(features_train['text'], target_train)\n",
        "lgb_best_params = lgb_grid.best_params_\n",
        "\n",
        "print(lgb_best_params)\n",
        "print(lgb_grid.best_score_)\n",
        "'''"
      ]
    },
    {
      "cell_type": "markdown",
      "metadata": {
        "id": "5J3TOLLkUiu2"
      },
      "source": [
        "Бустинг на обучающей выборке получился чуть хуже (0,768) а училась модель почти в четыре раза дольше. \n",
        "\n",
        "Результаты обучения: (*код закомментирован для экономии времени*):\n",
        "\n",
        "\n",
        "{'clf__learning_rate': 0.25, 'clf__max_depth': -1, 'clf__n_estimators': 200}\n",
        "0.7695633634325536\n",
        "CPU times: user 13.8 s, sys: 2.36 s, total: 16.1 s\n",
        "Wall time: 31min 49s"
      ]
    },
    {
      "cell_type": "markdown",
      "metadata": {
        "id": "KQHTt2gSwICx"
      },
      "source": [
        "## Тестирование\n",
        "векторизируем твиты с помощью TfidfVectorizer, "
      ]
    },
    {
      "cell_type": "code",
      "execution_count": null,
      "metadata": {
        "id": "TEcdmgr3ykI3"
      },
      "outputs": [],
      "source": [
        "vectorize = TfidfVectorizer(ngram_range=(1,3),\n",
        "               min_df=3, max_df=0.9, use_idf=1,\n",
        "               smooth_idf=1, sublinear_tf=1, stop_words=stopwords)"
      ]
    },
    {
      "cell_type": "code",
      "execution_count": null,
      "metadata": {
        "id": "euzIqfOUymkN"
      },
      "outputs": [],
      "source": [
        "features_train = vectorize.fit_transform(features_train['text'])\n",
        "features_test = vectorize.transform(features_test['text'])"
      ]
    },
    {
      "cell_type": "markdown",
      "metadata": {
        "id": "Waef_4zn0DBy"
      },
      "source": [
        "обучим модели на лучших гиперпараметрах"
      ]
    },
    {
      "cell_type": "code",
      "execution_count": null,
      "metadata": {
        "colab": {
          "base_uri": "https://localhost:8080/"
        },
        "id": "2xbXTp92yo-U",
        "outputId": "46dbddf0-9512-4795-f066-673623397580"
      },
      "outputs": [
        {
          "name": "stdout",
          "output_type": "stream",
          "text": [
            "CPU times: user 23.6 s, sys: 36.7 s, total: 1min\n",
            "Wall time: 1min\n"
          ]
        },
        {
          "data": {
            "text/plain": [
              "LogisticRegression(C=10, class_weight='balanced', random_state=130682)"
            ]
          },
          "execution_count": 20,
          "metadata": {},
          "output_type": "execute_result"
        }
      ],
      "source": [
        "%%time\n",
        "lr_m = LogisticRegression(C=10, \n",
        "                          class_weight='balanced', \n",
        "                          random_state=130682)\n",
        "lr_m.fit(features_train, target_train)"
      ]
    },
    {
      "cell_type": "code",
      "execution_count": null,
      "metadata": {
        "colab": {
          "base_uri": "https://localhost:8080/"
        },
        "id": "xZkrlU_ryszv",
        "outputId": "146f9f88-6d17-4d65-876a-447ea7d70fd1"
      },
      "outputs": [
        {
          "name": "stdout",
          "output_type": "stream",
          "text": [
            "CPU times: user 16min 30s, sys: 0 ns, total: 16min 30s\n",
            "Wall time: 16min 32s\n"
          ]
        },
        {
          "data": {
            "text/plain": [
              "LGBMClassifier(learning_rate=0.25, n_estimators=200, random_state=130682)"
            ]
          },
          "execution_count": 21,
          "metadata": {},
          "output_type": "execute_result"
        }
      ],
      "source": [
        "%%time\n",
        "lgb_m = LGBMClassifier(learning_rate=0.25, \n",
        "                       max_depth=-1, \n",
        "                       n_estimators=200, \n",
        "                       random_state = 130682)\n",
        "lgb_m.fit(features_train, target_train)"
      ]
    },
    {
      "cell_type": "markdown",
      "metadata": {
        "id": "gw670nPL0Hzc"
      },
      "source": [
        "Посчитаем F1 для логистической регрессии и градиентного бустинга LGBM"
      ]
    },
    {
      "cell_type": "code",
      "execution_count": null,
      "metadata": {
        "id": "NRWKeghVyv4C"
      },
      "outputs": [],
      "source": [
        "def scoring(fitted_model):\n",
        "    test_pred = fitted_model.predict(features_test)\n",
        "    test_f1 = f1_score(target_test, test_pred)\n",
        "    \n",
        "    return test_f1\n"
      ]
    },
    {
      "cell_type": "code",
      "execution_count": null,
      "metadata": {
        "colab": {
          "base_uri": "https://localhost:8080/"
        },
        "id": "MvhrKwdn0p-a",
        "outputId": "cfe9aef6-a806-456d-e6d0-49f7de777895"
      },
      "outputs": [
        {
          "name": "stdout",
          "output_type": "stream",
          "text": [
            "F1 градиентного бустинга на тестовой выборке: 0.776\n",
            "\n",
            "CPU times: user 7.11 s, sys: 0 ns, total: 7.11 s\n",
            "Wall time: 7.09 s\n"
          ]
        }
      ],
      "source": [
        "%%time\n",
        "print('F1 градиентного бустинга на тестовой выборке: {:.3f}'.format(scoring(lgb_m)))\n",
        "print()"
      ]
    },
    {
      "cell_type": "code",
      "execution_count": null,
      "metadata": {
        "colab": {
          "base_uri": "https://localhost:8080/"
        },
        "id": "UhbEATks0zvi",
        "outputId": "c5bebc77-7af3-4f79-b3cc-f842bf216804"
      },
      "outputs": [
        {
          "name": "stdout",
          "output_type": "stream",
          "text": [
            "F1 логистической регрессии на тестовой выборке: 0.782\n",
            "\n",
            "CPU times: user 22 ms, sys: 0 ns, total: 22 ms\n",
            "Wall time: 73 ms\n"
          ]
        }
      ],
      "source": [
        "%%time\n",
        "print('F1 логистической регрессии на тестовой выборке: {:.3f}'.format(scoring(lr_m)))\n",
        "print()"
      ]
    },
    {
      "cell_type": "markdown",
      "metadata": {
        "id": "HNjsoxhmr9rd"
      },
      "source": [
        "## Выводы"
      ]
    },
    {
      "cell_type": "markdown",
      "metadata": {
        "id": "caNgs5tW1GSu"
      },
      "source": [
        "- фрейм с разметкой комментариев позволяет обучить модели и определять настроение (токсичность) комментариев с заданным качеством (F1 не менее 0,75)\n",
        "- обучены и протестированы модели на основе логистической регрессии и градиентного бустинга lightGBM. \n",
        "\n",
        "Результаты F1 моделей сопоставимы и отличаются всего на пять тысячных, но бустинг учится и работает значительно дольше. \n",
        "\n",
        "**Обученную модель логистической регрессии  с результатом предсказания F1=0.784 и временем предсказания 43 милисекунды можно рекомендовать к дальнейшей работе**"
      ]
    },
    {
      "cell_type": "markdown",
      "metadata": {
        "id": "aLwpC3N4r9rg"
      },
      "source": [
        "## Чек-лист проверки"
      ]
    },
    {
      "cell_type": "markdown",
      "metadata": {
        "id": "cQQ0R1h6r9ri"
      },
      "source": [
        "- [x]  Jupyter Notebook открыт\n",
        "- [x]  Весь код выполняется без ошибок\n",
        "- [x]  Ячейки с кодом расположены в порядке исполнения\n",
        "- [x]  Данные загружены и подготовлены\n",
        "- [x]  Модели обучены\n",
        "- [x]  Значение метрики *F1* не меньше 0.75\n",
        "- [x]  Выводы написаны"
      ]
    }
  ],
  "metadata": {
    "ExecuteTimeLog": [
      {
        "duration": 2629,
        "start_time": "2022-07-31T08:22:49.622Z"
      },
      {
        "duration": 2296,
        "start_time": "2022-07-31T08:22:52.253Z"
      },
      {
        "duration": 33,
        "start_time": "2022-07-31T08:22:54.554Z"
      },
      {
        "duration": 28,
        "start_time": "2022-07-31T08:22:54.589Z"
      },
      {
        "duration": 6,
        "start_time": "2022-07-31T08:22:54.619Z"
      },
      {
        "duration": 247,
        "start_time": "2022-07-31T08:22:54.627Z"
      },
      {
        "duration": 5,
        "start_time": "2022-07-31T08:22:54.875Z"
      },
      {
        "duration": 20,
        "start_time": "2022-07-31T08:22:54.882Z"
      },
      {
        "duration": 4680,
        "start_time": "2022-07-31T08:22:54.905Z"
      },
      {
        "duration": 4,
        "start_time": "2022-07-31T08:22:59.587Z"
      },
      {
        "duration": 28,
        "start_time": "2022-07-31T08:22:59.593Z"
      },
      {
        "duration": 38,
        "start_time": "2022-07-31T08:22:59.623Z"
      },
      {
        "duration": 6,
        "start_time": "2022-07-31T08:22:59.663Z"
      },
      {
        "duration": 21,
        "start_time": "2022-07-31T08:22:59.671Z"
      },
      {
        "duration": 16,
        "start_time": "2022-07-31T08:22:59.694Z"
      },
      {
        "duration": 26699,
        "start_time": "2022-07-31T08:22:59.712Z"
      },
      {
        "duration": 68100,
        "start_time": "2022-07-31T08:23:26.413Z"
      },
      {
        "duration": 628035,
        "start_time": "2022-07-31T08:24:34.515Z"
      },
      {
        "duration": 4,
        "start_time": "2022-07-31T08:35:02.551Z"
      },
      {
        "duration": 9174,
        "start_time": "2022-07-31T08:35:02.556Z"
      },
      {
        "duration": 27,
        "start_time": "2022-07-31T08:35:11.732Z"
      },
      {
        "duration": 119402,
        "start_time": "2022-07-31T08:35:11.762Z"
      },
      {
        "duration": 3,
        "start_time": "2022-07-31T08:38:41.188Z"
      },
      {
        "duration": 751,
        "start_time": "2022-07-31T08:38:44.306Z"
      },
      {
        "duration": 81,
        "start_time": "2022-07-31T08:43:06.168Z"
      },
      {
        "duration": 100,
        "start_time": "2022-07-31T08:44:04.645Z"
      },
      {
        "duration": 68,
        "start_time": "2022-07-31T08:44:26.930Z"
      },
      {
        "duration": 47092,
        "start_time": "2022-07-31T08:46:20.413Z"
      },
      {
        "duration": 86,
        "start_time": "2022-07-31T08:47:25.587Z"
      },
      {
        "duration": 4,
        "start_time": "2022-07-31T08:56:02.534Z"
      },
      {
        "duration": 396,
        "start_time": "2022-07-31T08:56:07.734Z"
      },
      {
        "duration": 5,
        "start_time": "2022-07-31T08:57:24.434Z"
      },
      {
        "duration": 48474,
        "start_time": "2022-07-31T08:57:27.237Z"
      },
      {
        "duration": 0,
        "start_time": "2022-07-31T08:58:15.713Z"
      },
      {
        "duration": 1706,
        "start_time": "2022-07-31T08:58:26.426Z"
      },
      {
        "duration": 2703,
        "start_time": "2022-07-31T08:58:28.135Z"
      },
      {
        "duration": 33,
        "start_time": "2022-07-31T08:58:30.841Z"
      },
      {
        "duration": 46,
        "start_time": "2022-07-31T08:58:30.876Z"
      },
      {
        "duration": 40,
        "start_time": "2022-07-31T08:58:30.924Z"
      },
      {
        "duration": 245,
        "start_time": "2022-07-31T08:58:30.966Z"
      },
      {
        "duration": 4,
        "start_time": "2022-07-31T08:58:31.213Z"
      },
      {
        "duration": 12,
        "start_time": "2022-07-31T08:58:31.218Z"
      },
      {
        "duration": 172854,
        "start_time": "2022-07-31T08:58:31.231Z"
      },
      {
        "duration": 4,
        "start_time": "2022-07-31T09:01:24.087Z"
      },
      {
        "duration": 10,
        "start_time": "2022-07-31T09:01:24.092Z"
      },
      {
        "duration": 9,
        "start_time": "2022-07-31T09:01:24.104Z"
      },
      {
        "duration": 17,
        "start_time": "2022-07-31T09:01:24.114Z"
      },
      {
        "duration": 34,
        "start_time": "2022-07-31T09:01:24.134Z"
      },
      {
        "duration": 7,
        "start_time": "2022-07-31T09:01:24.170Z"
      },
      {
        "duration": 18,
        "start_time": "2022-07-31T09:01:24.179Z"
      },
      {
        "duration": 4,
        "start_time": "2022-07-31T09:01:24.210Z"
      },
      {
        "duration": 3944,
        "start_time": "2022-07-31T09:01:24.216Z"
      },
      {
        "duration": 0,
        "start_time": "2022-07-31T09:01:28.162Z"
      },
      {
        "duration": 0,
        "start_time": "2022-07-31T09:01:28.164Z"
      },
      {
        "duration": 0,
        "start_time": "2022-07-31T09:01:28.166Z"
      },
      {
        "duration": 0,
        "start_time": "2022-07-31T09:01:28.167Z"
      },
      {
        "duration": 0,
        "start_time": "2022-07-31T09:01:28.169Z"
      },
      {
        "duration": 5,
        "start_time": "2022-07-31T09:03:50.745Z"
      },
      {
        "duration": 4,
        "start_time": "2022-07-31T09:04:22.826Z"
      },
      {
        "duration": 153646,
        "start_time": "2022-07-31T09:04:25.902Z"
      },
      {
        "duration": 5,
        "start_time": "2022-07-31T09:12:38.784Z"
      },
      {
        "duration": 4,
        "start_time": "2022-07-31T09:13:09.627Z"
      },
      {
        "duration": 263857,
        "start_time": "2022-07-31T09:13:12.307Z"
      },
      {
        "duration": 6,
        "start_time": "2022-07-31T09:17:41.116Z"
      },
      {
        "duration": 1754,
        "start_time": "2022-07-31T09:18:02.696Z"
      },
      {
        "duration": 2357,
        "start_time": "2022-07-31T09:18:04.452Z"
      },
      {
        "duration": 35,
        "start_time": "2022-07-31T09:18:06.811Z"
      },
      {
        "duration": 15,
        "start_time": "2022-07-31T09:18:06.849Z"
      },
      {
        "duration": 9,
        "start_time": "2022-07-31T09:18:06.865Z"
      },
      {
        "duration": 268,
        "start_time": "2022-07-31T09:18:06.876Z"
      },
      {
        "duration": 4,
        "start_time": "2022-07-31T09:18:07.146Z"
      },
      {
        "duration": 71,
        "start_time": "2022-07-31T09:18:07.152Z"
      },
      {
        "duration": 0,
        "start_time": "2022-07-31T09:18:07.226Z"
      },
      {
        "duration": 0,
        "start_time": "2022-07-31T09:18:07.227Z"
      },
      {
        "duration": 0,
        "start_time": "2022-07-31T09:18:07.229Z"
      },
      {
        "duration": 0,
        "start_time": "2022-07-31T09:18:07.230Z"
      },
      {
        "duration": 0,
        "start_time": "2022-07-31T09:18:07.231Z"
      },
      {
        "duration": 0,
        "start_time": "2022-07-31T09:18:07.233Z"
      },
      {
        "duration": 0,
        "start_time": "2022-07-31T09:18:07.234Z"
      },
      {
        "duration": 0,
        "start_time": "2022-07-31T09:18:07.236Z"
      },
      {
        "duration": 0,
        "start_time": "2022-07-31T09:18:07.237Z"
      },
      {
        "duration": 0,
        "start_time": "2022-07-31T09:18:07.239Z"
      },
      {
        "duration": 0,
        "start_time": "2022-07-31T09:18:07.240Z"
      },
      {
        "duration": 0,
        "start_time": "2022-07-31T09:18:07.241Z"
      },
      {
        "duration": 0,
        "start_time": "2022-07-31T09:18:07.243Z"
      },
      {
        "duration": 0,
        "start_time": "2022-07-31T09:18:07.245Z"
      },
      {
        "duration": 4,
        "start_time": "2022-07-31T09:18:32.534Z"
      },
      {
        "duration": 4,
        "start_time": "2022-07-31T09:18:36.032Z"
      },
      {
        "duration": 1862,
        "start_time": "2022-07-31T09:18:38.360Z"
      },
      {
        "duration": 4,
        "start_time": "2022-07-31T09:19:08.705Z"
      },
      {
        "duration": 301,
        "start_time": "2022-07-31T09:19:10.634Z"
      },
      {
        "duration": 3,
        "start_time": "2022-07-31T09:19:47.857Z"
      },
      {
        "duration": 169438,
        "start_time": "2022-07-31T09:19:52.209Z"
      },
      {
        "duration": 6,
        "start_time": "2022-07-31T09:22:47.838Z"
      },
      {
        "duration": 11,
        "start_time": "2022-07-31T09:24:44.941Z"
      },
      {
        "duration": 3,
        "start_time": "2022-07-31T09:25:28.210Z"
      },
      {
        "duration": 3,
        "start_time": "2022-07-31T09:25:45.911Z"
      },
      {
        "duration": 3,
        "start_time": "2022-07-31T09:25:53.044Z"
      },
      {
        "duration": 3,
        "start_time": "2022-07-31T09:25:59.415Z"
      },
      {
        "duration": 4,
        "start_time": "2022-07-31T09:26:10.860Z"
      },
      {
        "duration": 3,
        "start_time": "2022-07-31T09:26:26.282Z"
      },
      {
        "duration": 4,
        "start_time": "2022-07-31T09:26:44.815Z"
      },
      {
        "duration": 45097,
        "start_time": "2022-07-31T09:28:03.434Z"
      },
      {
        "duration": 73519,
        "start_time": "2022-07-31T09:28:54.687Z"
      },
      {
        "duration": 5,
        "start_time": "2022-07-31T09:31:14.843Z"
      },
      {
        "duration": 4,
        "start_time": "2022-07-31T09:31:53.439Z"
      },
      {
        "duration": 3,
        "start_time": "2022-07-31T09:32:09.147Z"
      },
      {
        "duration": 1768,
        "start_time": "2022-07-31T09:32:29.424Z"
      },
      {
        "duration": 2667,
        "start_time": "2022-07-31T09:32:31.194Z"
      },
      {
        "duration": 36,
        "start_time": "2022-07-31T09:32:33.863Z"
      },
      {
        "duration": 14,
        "start_time": "2022-07-31T09:32:33.911Z"
      },
      {
        "duration": 7,
        "start_time": "2022-07-31T09:32:33.927Z"
      },
      {
        "duration": 264,
        "start_time": "2022-07-31T09:32:33.936Z"
      },
      {
        "duration": 11,
        "start_time": "2022-07-31T09:32:34.201Z"
      },
      {
        "duration": 9,
        "start_time": "2022-07-31T09:32:34.213Z"
      },
      {
        "duration": 175856,
        "start_time": "2022-07-31T09:32:34.224Z"
      },
      {
        "duration": 4,
        "start_time": "2022-07-31T09:35:30.083Z"
      },
      {
        "duration": 16,
        "start_time": "2022-07-31T09:35:30.088Z"
      },
      {
        "duration": 29,
        "start_time": "2022-07-31T09:35:30.110Z"
      },
      {
        "duration": 6,
        "start_time": "2022-07-31T09:35:30.141Z"
      },
      {
        "duration": 16,
        "start_time": "2022-07-31T09:35:30.148Z"
      },
      {
        "duration": 6,
        "start_time": "2022-07-31T09:35:30.166Z"
      },
      {
        "duration": 25881,
        "start_time": "2022-07-31T09:35:30.174Z"
      },
      {
        "duration": 69459,
        "start_time": "2022-07-31T09:35:56.057Z"
      },
      {
        "duration": 600295,
        "start_time": "2022-07-31T09:37:05.518Z"
      },
      {
        "duration": 3,
        "start_time": "2022-07-31T09:47:05.816Z"
      },
      {
        "duration": 9262,
        "start_time": "2022-07-31T09:47:05.821Z"
      },
      {
        "duration": 48,
        "start_time": "2022-07-31T09:47:15.085Z"
      },
      {
        "duration": 19,
        "start_time": "2022-07-31T09:47:15.146Z"
      },
      {
        "duration": 1751,
        "start_time": "2022-07-31T09:48:45.742Z"
      },
      {
        "duration": 10756,
        "start_time": "2022-07-31T09:48:47.495Z"
      },
      {
        "duration": 34,
        "start_time": "2022-07-31T09:48:58.253Z"
      },
      {
        "duration": 25,
        "start_time": "2022-07-31T09:48:58.289Z"
      },
      {
        "duration": 6,
        "start_time": "2022-07-31T09:48:58.316Z"
      },
      {
        "duration": 261,
        "start_time": "2022-07-31T09:48:58.323Z"
      },
      {
        "duration": 4,
        "start_time": "2022-07-31T09:48:58.586Z"
      },
      {
        "duration": 4,
        "start_time": "2022-07-31T09:48:58.592Z"
      },
      {
        "duration": 172346,
        "start_time": "2022-07-31T09:48:58.611Z"
      },
      {
        "duration": 4,
        "start_time": "2022-07-31T09:51:50.960Z"
      },
      {
        "duration": 17,
        "start_time": "2022-07-31T09:51:50.966Z"
      },
      {
        "duration": 30,
        "start_time": "2022-07-31T09:51:50.984Z"
      },
      {
        "duration": 32,
        "start_time": "2022-07-31T09:51:51.016Z"
      },
      {
        "duration": 1391118,
        "start_time": "2022-07-31T09:51:51.050Z"
      },
      {
        "duration": 7044651,
        "start_time": "2022-07-31T10:15:02.170Z"
      },
      {
        "duration": 3,
        "start_time": "2022-07-31T12:12:26.823Z"
      },
      {
        "duration": 27656,
        "start_time": "2022-07-31T12:12:26.828Z"
      },
      {
        "duration": 69330,
        "start_time": "2022-07-31T12:12:54.486Z"
      },
      {
        "duration": 1107442,
        "start_time": "2022-07-31T12:14:03.817Z"
      },
      {
        "duration": 3,
        "start_time": "2022-07-31T12:32:31.261Z"
      },
      {
        "duration": 9284,
        "start_time": "2022-07-31T12:32:31.266Z"
      },
      {
        "duration": 59,
        "start_time": "2022-07-31T12:32:40.551Z"
      },
      {
        "duration": 2223,
        "start_time": "2022-08-01T06:23:39.551Z"
      },
      {
        "duration": 2717,
        "start_time": "2022-08-01T06:23:41.776Z"
      },
      {
        "duration": 33,
        "start_time": "2022-08-01T06:23:44.497Z"
      },
      {
        "duration": 17,
        "start_time": "2022-08-01T06:23:44.533Z"
      },
      {
        "duration": 21,
        "start_time": "2022-08-01T06:23:44.552Z"
      },
      {
        "duration": 271,
        "start_time": "2022-08-01T06:23:44.575Z"
      },
      {
        "duration": 3,
        "start_time": "2022-08-01T06:23:44.848Z"
      },
      {
        "duration": 5,
        "start_time": "2022-08-01T06:23:44.853Z"
      },
      {
        "duration": 175391,
        "start_time": "2022-08-01T06:23:44.860Z"
      },
      {
        "duration": 4,
        "start_time": "2022-08-01T06:26:40.253Z"
      },
      {
        "duration": 15,
        "start_time": "2022-08-01T06:26:40.259Z"
      },
      {
        "duration": 12,
        "start_time": "2022-08-01T06:26:40.276Z"
      },
      {
        "duration": 22,
        "start_time": "2022-08-01T06:26:40.289Z"
      },
      {
        "duration": 5,
        "start_time": "2022-08-01T06:26:40.313Z"
      },
      {
        "duration": 9,
        "start_time": "2022-08-01T06:26:40.320Z"
      },
      {
        "duration": 4,
        "start_time": "2022-08-01T06:26:40.330Z"
      },
      {
        "duration": 22732,
        "start_time": "2022-08-01T06:26:40.336Z"
      },
      {
        "duration": 1634,
        "start_time": "2022-08-01T06:27:40.968Z"
      },
      {
        "duration": 2148,
        "start_time": "2022-08-01T06:27:42.605Z"
      },
      {
        "duration": 27,
        "start_time": "2022-08-01T06:27:44.756Z"
      },
      {
        "duration": 21,
        "start_time": "2022-08-01T06:27:44.786Z"
      },
      {
        "duration": 11,
        "start_time": "2022-08-01T06:27:44.809Z"
      },
      {
        "duration": 262,
        "start_time": "2022-08-01T06:27:44.821Z"
      },
      {
        "duration": 4,
        "start_time": "2022-08-01T06:27:45.085Z"
      },
      {
        "duration": 47,
        "start_time": "2022-08-01T06:27:45.090Z"
      },
      {
        "duration": 0,
        "start_time": "2022-08-01T06:27:45.139Z"
      },
      {
        "duration": 0,
        "start_time": "2022-08-01T06:27:45.141Z"
      },
      {
        "duration": 0,
        "start_time": "2022-08-01T06:27:45.142Z"
      },
      {
        "duration": 0,
        "start_time": "2022-08-01T06:27:45.143Z"
      },
      {
        "duration": 0,
        "start_time": "2022-08-01T06:27:45.144Z"
      },
      {
        "duration": 0,
        "start_time": "2022-08-01T06:27:45.146Z"
      },
      {
        "duration": 0,
        "start_time": "2022-08-01T06:27:45.147Z"
      },
      {
        "duration": 0,
        "start_time": "2022-08-01T06:27:45.148Z"
      },
      {
        "duration": 0,
        "start_time": "2022-08-01T06:27:45.150Z"
      },
      {
        "duration": 0,
        "start_time": "2022-08-01T06:27:45.151Z"
      },
      {
        "duration": 0,
        "start_time": "2022-08-01T06:27:45.152Z"
      },
      {
        "duration": 0,
        "start_time": "2022-08-01T06:27:45.153Z"
      },
      {
        "duration": 0,
        "start_time": "2022-08-01T06:27:45.154Z"
      },
      {
        "duration": 0,
        "start_time": "2022-08-01T06:27:45.155Z"
      },
      {
        "duration": 0,
        "start_time": "2022-08-01T06:27:45.157Z"
      },
      {
        "duration": 0,
        "start_time": "2022-08-01T06:27:45.159Z"
      },
      {
        "duration": 2,
        "start_time": "2022-08-01T06:28:14.804Z"
      },
      {
        "duration": 3,
        "start_time": "2022-08-01T06:28:16.909Z"
      },
      {
        "duration": 51,
        "start_time": "2022-08-01T06:28:19.887Z"
      },
      {
        "duration": 45,
        "start_time": "2022-08-01T06:28:35.867Z"
      },
      {
        "duration": 4,
        "start_time": "2022-08-01T06:29:17.131Z"
      },
      {
        "duration": 371,
        "start_time": "2022-08-01T06:29:22.868Z"
      },
      {
        "duration": 3,
        "start_time": "2022-08-01T06:29:37.604Z"
      },
      {
        "duration": 175336,
        "start_time": "2022-08-01T06:29:41.004Z"
      },
      {
        "duration": 5,
        "start_time": "2022-08-01T06:35:15.687Z"
      },
      {
        "duration": 4,
        "start_time": "2022-08-01T06:35:31.495Z"
      },
      {
        "duration": 153784,
        "start_time": "2022-08-01T06:35:35.242Z"
      },
      {
        "duration": 4,
        "start_time": "2022-08-01T06:50:24.977Z"
      },
      {
        "duration": 1684,
        "start_time": "2022-08-01T06:51:36.282Z"
      },
      {
        "duration": 2050,
        "start_time": "2022-08-01T06:51:37.967Z"
      },
      {
        "duration": 25,
        "start_time": "2022-08-01T06:51:40.018Z"
      },
      {
        "duration": 12,
        "start_time": "2022-08-01T06:51:40.045Z"
      },
      {
        "duration": 6,
        "start_time": "2022-08-01T06:51:40.059Z"
      },
      {
        "duration": 275,
        "start_time": "2022-08-01T06:51:40.067Z"
      },
      {
        "duration": 4,
        "start_time": "2022-08-01T06:51:40.344Z"
      },
      {
        "duration": 4,
        "start_time": "2022-08-01T06:51:40.350Z"
      },
      {
        "duration": 7,
        "start_time": "2022-08-01T06:51:40.356Z"
      },
      {
        "duration": 4,
        "start_time": "2022-08-01T06:51:40.366Z"
      },
      {
        "duration": 146617,
        "start_time": "2022-08-01T06:51:40.371Z"
      },
      {
        "duration": 4,
        "start_time": "2022-08-01T06:54:06.989Z"
      },
      {
        "duration": 7,
        "start_time": "2022-08-01T06:54:06.994Z"
      },
      {
        "duration": 12,
        "start_time": "2022-08-01T06:54:07.003Z"
      },
      {
        "duration": 22,
        "start_time": "2022-08-01T06:54:07.017Z"
      },
      {
        "duration": 14,
        "start_time": "2022-08-01T06:54:07.041Z"
      },
      {
        "duration": 13,
        "start_time": "2022-08-01T06:54:07.056Z"
      },
      {
        "duration": 4,
        "start_time": "2022-08-01T06:54:07.071Z"
      },
      {
        "duration": 2793,
        "start_time": "2022-08-01T06:54:07.077Z"
      },
      {
        "duration": 0,
        "start_time": "2022-08-01T06:54:09.872Z"
      },
      {
        "duration": 0,
        "start_time": "2022-08-01T06:54:09.873Z"
      },
      {
        "duration": 0,
        "start_time": "2022-08-01T06:54:09.874Z"
      },
      {
        "duration": 0,
        "start_time": "2022-08-01T06:54:09.876Z"
      },
      {
        "duration": 0,
        "start_time": "2022-08-01T06:54:09.877Z"
      },
      {
        "duration": 1617,
        "start_time": "2022-08-01T06:54:20.163Z"
      },
      {
        "duration": 1793,
        "start_time": "2022-08-01T06:54:21.782Z"
      },
      {
        "duration": 29,
        "start_time": "2022-08-01T06:54:23.576Z"
      },
      {
        "duration": 11,
        "start_time": "2022-08-01T06:54:23.607Z"
      },
      {
        "duration": 8,
        "start_time": "2022-08-01T06:54:23.620Z"
      },
      {
        "duration": 274,
        "start_time": "2022-08-01T06:54:23.629Z"
      },
      {
        "duration": 4,
        "start_time": "2022-08-01T06:54:23.905Z"
      },
      {
        "duration": 10,
        "start_time": "2022-08-01T06:54:23.911Z"
      },
      {
        "duration": 7,
        "start_time": "2022-08-01T06:54:23.923Z"
      },
      {
        "duration": 5,
        "start_time": "2022-08-01T06:54:23.932Z"
      },
      {
        "duration": 1719,
        "start_time": "2022-08-01T06:56:14.212Z"
      },
      {
        "duration": 1614,
        "start_time": "2022-08-01T06:56:15.933Z"
      },
      {
        "duration": 27,
        "start_time": "2022-08-01T06:56:17.549Z"
      },
      {
        "duration": 25,
        "start_time": "2022-08-01T06:56:17.579Z"
      },
      {
        "duration": 6,
        "start_time": "2022-08-01T06:56:17.605Z"
      },
      {
        "duration": 261,
        "start_time": "2022-08-01T06:56:17.613Z"
      },
      {
        "duration": 4,
        "start_time": "2022-08-01T06:56:17.875Z"
      },
      {
        "duration": 14,
        "start_time": "2022-08-01T06:56:17.881Z"
      },
      {
        "duration": 9,
        "start_time": "2022-08-01T06:56:17.896Z"
      },
      {
        "duration": 4,
        "start_time": "2022-08-01T06:56:17.907Z"
      },
      {
        "duration": 94931,
        "start_time": "2022-08-01T06:56:17.912Z"
      },
      {
        "duration": 4,
        "start_time": "2022-08-01T06:57:52.845Z"
      },
      {
        "duration": 7,
        "start_time": "2022-08-01T06:57:52.851Z"
      },
      {
        "duration": 12,
        "start_time": "2022-08-01T06:57:52.860Z"
      },
      {
        "duration": 29,
        "start_time": "2022-08-01T06:57:52.873Z"
      },
      {
        "duration": 7,
        "start_time": "2022-08-01T06:57:52.905Z"
      },
      {
        "duration": 13,
        "start_time": "2022-08-01T06:57:52.914Z"
      },
      {
        "duration": 8,
        "start_time": "2022-08-01T06:57:52.930Z"
      },
      {
        "duration": 1110,
        "start_time": "2022-08-01T06:57:52.940Z"
      },
      {
        "duration": 108,
        "start_time": "2022-08-01T06:57:54.051Z"
      },
      {
        "duration": 1445,
        "start_time": "2022-08-01T06:57:54.161Z"
      },
      {
        "duration": 91,
        "start_time": "2022-08-01T06:57:55.608Z"
      },
      {
        "duration": 115,
        "start_time": "2022-08-01T06:57:55.700Z"
      },
      {
        "duration": 91,
        "start_time": "2022-08-01T06:57:55.817Z"
      },
      {
        "duration": 1656,
        "start_time": "2022-08-01T06:58:43.124Z"
      },
      {
        "duration": 2112,
        "start_time": "2022-08-01T06:58:44.781Z"
      },
      {
        "duration": 26,
        "start_time": "2022-08-01T06:58:46.894Z"
      },
      {
        "duration": 12,
        "start_time": "2022-08-01T06:58:46.922Z"
      },
      {
        "duration": 13,
        "start_time": "2022-08-01T06:58:46.935Z"
      },
      {
        "duration": 262,
        "start_time": "2022-08-01T06:58:46.949Z"
      },
      {
        "duration": 4,
        "start_time": "2022-08-01T06:58:47.213Z"
      },
      {
        "duration": 15,
        "start_time": "2022-08-01T06:58:47.219Z"
      },
      {
        "duration": 5,
        "start_time": "2022-08-01T06:58:47.236Z"
      },
      {
        "duration": 4,
        "start_time": "2022-08-01T06:58:47.244Z"
      },
      {
        "duration": 87316,
        "start_time": "2022-08-01T06:58:47.250Z"
      },
      {
        "duration": 6,
        "start_time": "2022-08-01T07:00:14.567Z"
      },
      {
        "duration": 23,
        "start_time": "2022-08-01T07:00:14.575Z"
      },
      {
        "duration": 19,
        "start_time": "2022-08-01T07:00:14.600Z"
      },
      {
        "duration": 26,
        "start_time": "2022-08-01T07:00:14.621Z"
      },
      {
        "duration": 40,
        "start_time": "2022-08-01T07:00:14.649Z"
      },
      {
        "duration": 11,
        "start_time": "2022-08-01T07:00:14.692Z"
      },
      {
        "duration": 16,
        "start_time": "2022-08-01T07:00:14.704Z"
      },
      {
        "duration": 23198,
        "start_time": "2022-08-01T07:00:14.721Z"
      },
      {
        "duration": 60380,
        "start_time": "2022-08-01T07:00:37.920Z"
      },
      {
        "duration": 992928,
        "start_time": "2022-08-01T07:01:38.301Z"
      },
      {
        "duration": 3,
        "start_time": "2022-08-01T07:18:11.231Z"
      },
      {
        "duration": 7096,
        "start_time": "2022-08-01T07:18:11.235Z"
      },
      {
        "duration": 77,
        "start_time": "2022-08-01T07:18:18.333Z"
      },
      {
        "duration": 6,
        "start_time": "2022-08-01T07:19:55.920Z"
      },
      {
        "duration": 5,
        "start_time": "2022-08-01T07:20:13.799Z"
      },
      {
        "duration": 4,
        "start_time": "2022-08-01T07:20:20.624Z"
      }
    ],
    "colab": {
      "collapsed_sections": [],
      "provenance": [],
      "include_colab_link": true
    },
    "kernelspec": {
      "display_name": "Python 3 (ipykernel)",
      "language": "python",
      "name": "python3"
    },
    "language_info": {
      "codemirror_mode": {
        "name": "ipython",
        "version": 3
      },
      "file_extension": ".py",
      "mimetype": "text/x-python",
      "name": "python",
      "nbconvert_exporter": "python",
      "pygments_lexer": "ipython3",
      "version": "3.9.5"
    },
    "toc": {
      "base_numbering": 1,
      "nav_menu": {},
      "number_sections": true,
      "sideBar": true,
      "skip_h1_title": true,
      "title_cell": "Содержание",
      "title_sidebar": "Contents",
      "toc_cell": true,
      "toc_position": {
        "height": "calc(100% - 180px)",
        "left": "10px",
        "top": "150px",
        "width": "302.391px"
      },
      "toc_section_display": true,
      "toc_window_display": false
    }
  },
  "nbformat": 4,
  "nbformat_minor": 0
}
