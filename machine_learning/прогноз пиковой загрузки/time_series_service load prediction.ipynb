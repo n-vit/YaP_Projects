{
  "cells": [
    {
      "cell_type": "markdown",
      "metadata": {
        "id": "view-in-github",
        "colab_type": "text"
      },
      "source": [
        "<a href=\"https://colab.research.google.com/github/n-vit/YaP_Projects/blob/main/time_series_service%20load%20prediction.ipynb\" target=\"_parent\"><img src=\"https://colab.research.google.com/assets/colab-badge.svg\" alt=\"Open In Colab\"/></a>"
      ]
    },
    {
      "cell_type": "markdown",
      "metadata": {
        "id": "fcxLcWq8gYY5",
        "toc": true
      },
      "source": [
        "<h1>Содержание<span class=\"tocSkip\"></span></h1>\n",
        "<div class=\"toc\"><ul class=\"toc-item\"><li><span><a href=\"#Подготовка\" data-toc-modified-id=\"Подготовка-1\"><span class=\"toc-item-num\">1&nbsp;&nbsp;</span>Подготовка</a></span></li><li><span><a href=\"#Анализ\" data-toc-modified-id=\"Анализ-2\"><span class=\"toc-item-num\">2&nbsp;&nbsp;</span>Анализ</a></span><ul class=\"toc-item\"><li><span><a href=\"#Общий-обзор\" data-toc-modified-id=\"Общий-обзор-2.1\"><span class=\"toc-item-num\">2.1&nbsp;&nbsp;</span>Общий обзор</a></span></li><li><span><a href=\"#Актуальный-период\" data-toc-modified-id=\"Актуальный-период-2.2\"><span class=\"toc-item-num\">2.2&nbsp;&nbsp;</span>Актуальный период</a></span></li></ul></li><li><span><a href=\"#Обучение\" data-toc-modified-id=\"Обучение-3\"><span class=\"toc-item-num\">3&nbsp;&nbsp;</span>Обучение</a></span><ul class=\"toc-item\"><li><span><a href=\"#Линейная-регрессия\" data-toc-modified-id=\"Линейная-регрессия-3.1\"><span class=\"toc-item-num\">3.1&nbsp;&nbsp;</span>Линейная регрессия</a></span></li><li><span><a href=\"#Случайный-лес\" data-toc-modified-id=\"Случайный-лес-3.2\"><span class=\"toc-item-num\">3.2&nbsp;&nbsp;</span>Случайный лес</a></span></li><li><span><a href=\"#LightGBM-модель\" data-toc-modified-id=\"LightGBM-модель-3.3\"><span class=\"toc-item-num\">3.3&nbsp;&nbsp;</span>LightGBM модель</a></span></li></ul></li><li><span><a href=\"#Тестирование\" data-toc-modified-id=\"Тестирование-4\"><span class=\"toc-item-num\">4&nbsp;&nbsp;</span>Тестирование</a></span><ul class=\"toc-item\"><li><span><a href=\"#Тест-линейная-регрессия\" data-toc-modified-id=\"Тест-линейная-регрессия-4.1\"><span class=\"toc-item-num\">4.1&nbsp;&nbsp;</span>Тест линейная регрессия</a></span></li><li><span><a href=\"#Тест-случайный-лес\" data-toc-modified-id=\"Тест-случайный-лес-4.2\"><span class=\"toc-item-num\">4.2&nbsp;&nbsp;</span>Тест случайный лес</a></span></li><li><span><a href=\"#Тест-градиентный-бустинг\" data-toc-modified-id=\"Тест-градиентный-бустинг-4.3\"><span class=\"toc-item-num\">4.3&nbsp;&nbsp;</span>Тест градиентный бустинг</a></span></li></ul></li><li><span><a href=\"#Чек-лист-проверки\" data-toc-modified-id=\"Чек-лист-проверки-5\"><span class=\"toc-item-num\">5&nbsp;&nbsp;</span>Чек-лист проверки</a></span></li></ul></div>"
      ]
    },
    {
      "cell_type": "markdown",
      "metadata": {
        "id": "fzzLVVdUgYY9"
      },
      "source": [
        "#  Прогнозирование заказов такси"
      ]
    },
    {
      "cell_type": "markdown",
      "metadata": {
        "id": "HpDMhoA_gYY-"
      },
      "source": [
        "Компания «Чётенькое такси» собрала исторические данные о заказах такси в аэропортах. Чтобы привлекать больше водителей в период пиковой нагрузки, нужно спрогнозировать количество заказов такси на следующий час. Постройте модель для такого предсказания.\n",
        "\n",
        "Значение метрики *RMSE* на тестовой выборке должно быть не больше 48.\n",
        "\n",
        "Вам нужно:\n",
        "\n",
        "1. Загрузить данные и выполнить их ресемплирование по одному часу.\n",
        "2. Проанализировать данные.\n",
        "3. Обучить разные модели с различными гиперпараметрами. Сделать тестовую выборку размером 10% от исходных данных.\n",
        "4. Проверить данные на тестовой выборке и сделать выводы.\n",
        "\n",
        "\n",
        "Данные лежат в файле `taxi.csv`. Количество заказов находится в столбце `num_orders` (от англ. *number of orders*, «число заказов»)."
      ]
    },
    {
      "cell_type": "code",
      "execution_count": null,
      "metadata": {
        "id": "UMlplWbPgt4L",
        "scrolled": true
      },
      "outputs": [],
      "source": [
        "# libraries and functions\n",
        "import pandas as pd\n",
        "import numpy as np\n",
        "import matplotlib.pyplot as plt\n",
        "import seaborn as sns\n",
        "from sklearn.model_selection import train_test_split\n",
        "from sklearn.utils import shuffle\n",
        "import math\n",
        "import datetime\n",
        "from sklearn.preprocessing import PolynomialFeatures\n",
        "from sklearn.pipeline import Pipeline\n",
        "from statsmodels.tsa.seasonal import seasonal_decompose\n",
        "from sklearn.model_selection import TimeSeriesSplit\n",
        "from sklearn.model_selection import GridSearchCV\n",
        "from statsmodels.tsa.stattools import adfuller\n",
        "\n",
        "# models\n",
        "from sklearn.ensemble import RandomForestRegressor\n",
        "from sklearn.linear_model import LinearRegression\n",
        "from lightgbm import LGBMRegressor\n",
        "\n",
        "# metrics\n",
        "from sklearn.metrics import mean_squared_error"
      ]
    },
    {
      "cell_type": "markdown",
      "metadata": {
        "id": "DBNILv1PgYY_"
      },
      "source": [
        "## Подготовка"
      ]
    },
    {
      "cell_type": "code",
      "execution_count": null,
      "metadata": {
        "id": "VJlJ9YkEgYY_"
      },
      "outputs": [],
      "source": [
        "try: # if the project is opened in Collab use a 'try' block, if it opened in simulator Yandex, or local Jupiter, use an 'except' block\n",
        "    df = pd.read_csv('https://code.s3.yandex.net/datasets/taxi.csv', parse_dates=[0], index_col=[0])\n",
        "\n",
        "except:\n",
        "    df = pd.read_csv('/datasets/taxi.csv', parse_dates=[0], index_col=[0])"
      ]
    },
    {
      "cell_type": "markdown",
      "metadata": {
        "id": "0Lxrngw4gYZA"
      },
      "source": [
        "## Анализ"
      ]
    },
    {
      "cell_type": "code",
      "execution_count": null,
      "metadata": {
        "colab": {
          "base_uri": "https://localhost:8080/"
        },
        "id": "6uyazRcAgYZA",
        "outputId": "abd5bca6-709a-42bf-e157-4ba725458310",
        "scrolled": true
      },
      "outputs": [
        {
          "name": "stdout",
          "output_type": "stream",
          "text": [
            "True\n",
            "<class 'pandas.core.frame.DataFrame'>\n",
            "DatetimeIndex: 26496 entries, 2018-03-01 00:00:00 to 2018-08-31 23:50:00\n",
            "Data columns (total 1 columns):\n",
            " #   Column      Non-Null Count  Dtype\n",
            "---  ------      --------------  -----\n",
            " 0   num_orders  26496 non-null  int64\n",
            "dtypes: int64(1)\n",
            "memory usage: 414.0 KB\n"
          ]
        }
      ],
      "source": [
        "df.sort_index(inplace=True)\n",
        "print(df.index.is_monotonic)\n",
        "df.info()"
      ]
    },
    {
      "cell_type": "markdown",
      "metadata": {
        "id": "aShH8IE2q4KH"
      },
      "source": [
        "У нас монотонный временной ряд из 26 тыс строк в период с  1 марта по 31 августа 2018 года. \n",
        "\n",
        "Посмотрим на данные о количестве заказов:"
      ]
    },
    {
      "cell_type": "markdown",
      "metadata": {
        "id": "YhuZBwoRSY3A"
      },
      "source": [
        "### Общий обзор"
      ]
    },
    {
      "cell_type": "code",
      "execution_count": null,
      "metadata": {
        "colab": {
          "base_uri": "https://localhost:8080/",
          "height": 308
        },
        "id": "FfDdlH0GqlBV",
        "outputId": "849ab7cd-c10b-4519-af73-96668ec9ccdb"
      },
      "outputs": [
        {
          "data": {
            "image/png": "[encoded data removed]",
            "text/plain": [
              "<Figure size 432x288 with 1 Axes>"
            ]
          },
          "metadata": {
            "needs_background": "light"
          },
          "output_type": "display_data"
        }
      ],
      "source": [
        "daily = df.resample('1D').sum()\n",
        "figsize = (17,10)\n",
        "daily.plot()\n",
        "plt.title('Измение количества ежедневных заказов март-август 2018')\n",
        "plt.xlabel('Дата')\n",
        "plt.ylabel('Количество заказов')\n",
        "plt.show()"
      ]
    },
    {
      "cell_type": "markdown",
      "metadata": {
        "id": "I-mlC6XMsfW9"
      },
      "source": [
        "Дела обстоят неплохо, количество заказов к концу лета выросло почти в три раза"
      ]
    },
    {
      "cell_type": "code",
      "execution_count": null,
      "metadata": {
        "colab": {
          "base_uri": "https://localhost:8080/",
          "height": 585
        },
        "id": "SugkzUeVtpgV",
        "outputId": "2aa7eec8-bd15-4009-eb82-30e1cc436f90"
      },
      "outputs": [
        {
          "data": {
            "image/png": "[encoded data removed]",
            "text/plain": [
              "<Figure size 432x576 with 3 Axes>"
            ]
          },
          "metadata": {
            "needs_background": "light"
          },
          "output_type": "display_data"
        }
      ],
      "source": [
        "decomposed = seasonal_decompose(daily)\n",
        "plt.figure(figsize=(6, 8))\n",
        "plt.subplot(311)\n",
        "decomposed.trend.plot(ax=plt.gca())\n",
        "plt.title('Trend')\n",
        "plt.subplot(312)\n",
        "decomposed.seasonal.plot(ax=plt.gca())\n",
        "plt.title('Seasonality')\n",
        "plt.subplot(313)\n",
        "decomposed.resid.plot(ax=plt.gca()) \n",
        "plt.title('Residuals')\n",
        "plt.tight_layout()"
      ]
    },
    {
      "cell_type": "markdown",
      "metadata": {
        "id": "CYeMZUC9t_S8"
      },
      "source": [
        "Видим растущий тренд, стационарный стохастический процесс недельных колебаний, и выбросы с экстремумами +/- 500 заказов в день, которые впрочем в основном укладываются в 100-200 заказов\n",
        "\n",
        "Посмотрим почасовой график изменения заказов в последние две недели фрейма (с 18сб по 31пт августа):"
      ]
    },
    {
      "cell_type": "markdown",
      "metadata": {
        "id": "EQVJFO0iSfW1"
      },
      "source": [
        "### Актуальный период"
      ]
    },
    {
      "cell_type": "code",
      "execution_count": null,
      "metadata": {
        "colab": {
          "base_uri": "https://localhost:8080/",
          "height": 320
        },
        "id": "S_Ga0Xl6tQkT",
        "outputId": "f18f7e9a-37f2-4bd1-91c0-01509bc6294b",
        "scrolled": true
      },
      "outputs": [
        {
          "data": {
            "image/png": "[encoded data removed]",
            "text/plain": [
              "<Figure size 432x288 with 1 Axes>"
            ]
          },
          "metadata": {
            "needs_background": "light"
          },
          "output_type": "display_data"
        }
      ],
      "source": [
        "df = df.resample('1H').sum()\n",
        "figsize = (17,10)\n",
        "df['2018-08-18':'2018-08-31'].plot()\n",
        "plt.title('Измение количества заказов в час 18-31 августа 2018')\n",
        "plt.xlabel('Дата')\n",
        "plt.ylabel('Количество заказов')\n",
        "plt.show()"
      ]
    },
    {
      "cell_type": "code",
      "execution_count": null,
      "metadata": {
        "colab": {
          "base_uri": "https://localhost:8080/",
          "height": 585
        },
        "id": "7hihpdyxvpHt",
        "outputId": "9372cf1c-2623-4652-ee4a-4c95a3aa23f1",
        "scrolled": false
      },
      "outputs": [
        {
          "data": {
            "image/png": "[encoded data removed]",
            "text/plain": [
              "<Figure size 432x576 with 3 Axes>"
            ]
          },
          "metadata": {
            "needs_background": "light"
          },
          "output_type": "display_data"
        }
      ],
      "source": [
        "decomposed = seasonal_decompose(df['2018-08-18':'2018-08-31'])\n",
        "plt.figure(figsize=(6, 8))\n",
        "plt.subplot(311)\n",
        "decomposed.trend.plot(ax=plt.gca())\n",
        "plt.title('Trend')\n",
        "plt.subplot(312)\n",
        "decomposed.seasonal.plot(ax=plt.gca())\n",
        "plt.title('Seasonality')\n",
        "plt.subplot(313)\n",
        "decomposed.resid.plot(ax=plt.gca()) \n",
        "plt.title('Residuals')\n",
        "plt.tight_layout()"
      ]
    },
    {
      "cell_type": "markdown",
      "metadata": {
        "id": "aAt4pCStv8SX"
      },
      "source": [
        "- Растущий тренд с пиками по понедельникам, с недельным темпом роста 20 заказов в день. В признаках должен быть день недели\n",
        "\n",
        "- Внутри дня стационарные суточные колебания в диапазоне 170 заказов. Нужно будет обязательно включить час в признаки\n",
        "\n",
        "- Событийные выбросы 20, 27, 30 августа, которые дают пики в 150-200 заказов в день и 31 августа -100 заказов. Попробуем не удалять выбросы и научиться на полной модели\n",
        "\n",
        "- Цель - предсказывать количество заказов с ошибкой в пределах 48 заказов в час выглядит реалистично"
      ]
    },
    {
      "cell_type": "markdown",
      "metadata": {
        "id": "fnj_S3YJKIVh"
      },
      "source": [
        "<div class=\"alert alert-info\">\n",
        "<h2> Комментарий студента <a class=\"tocSkip\"> </h2>\n",
        "\n",
        "*Ок, проверим:\n",
        "    \n",
        "Нулевая гипотеза - Ряд не стационарен\n",
        "    \n",
        "Альтернативная гипотеза - Ряд стационарен*\n",
        "</div>"
      ]
    },
    {
      "cell_type": "code",
      "execution_count": null,
      "metadata": {
        "scrolled": true,
        "id": "imgUjAIgKIVh",
        "outputId": "5d62bcdb-9df7-48d7-98f7-cbdb80f061f8"
      },
      "outputs": [
        {
          "name": "stdout",
          "output_type": "stream",
          "text": [
            "P = 0.028940051402612906\n",
            "Нулевая гипотеза отвергается. И все-таки он стационарный\n"
          ]
        }
      ],
      "source": [
        "p_value = adfuller(df['num_orders'])[1]\n",
        "print('P =', p_value)\n",
        "if p_value < 0.05:\n",
        "    print('Нулевая гипотеза отвергается. И все-таки он стационарный')\n",
        "else:\n",
        "    print('Нулевая гипотеза не отвергается. Глаза мои обманывают меня - ряд нестационарен')"
      ]
    },
    {
      "cell_type": "markdown",
      "metadata": {
        "id": "a38977VRKIVj"
      },
      "source": [
        "<div class=\"alert alert-info\">\n",
        "<h2> Комментарий студента <a class=\"tocSkip\"> </h2>\n",
        "\n",
        "**Выводы по итогам анализа исходных данных:**\n",
        "    \n",
        "1) заказы такси за период с марта по август показывают уверенный экспоненциальный рост тренда\n",
        "    \n",
        "2) Временной ряд стационарен. У него есть регулярные сезонные (суточные и недельные) колебания, и незначительный объем выбросов в остатках\n",
        "    \n",
        "3) Данные позволяют проводить обучение моделей и предсказание ожидаемого объема заказов   \n",
        "\n",
        "</div>"
      ]
    },
    {
      "cell_type": "markdown",
      "metadata": {
        "id": "n0Vi_ylPgYZA"
      },
      "source": [
        "## Обучение"
      ]
    },
    {
      "cell_type": "markdown",
      "metadata": {
        "id": "tQrgtDjY0zvB"
      },
      "source": [
        "Создадим признаки модели:\n",
        "\n",
        "месяц, день, день недели и час"
      ]
    },
    {
      "cell_type": "code",
      "execution_count": null,
      "metadata": {
        "id": "QTIlPvp_7Sb1"
      },
      "outputs": [],
      "source": [
        "def make_features(data, max_lag, rolling_mean_size):\n",
        "    data['month'] = data.index.month\n",
        "    data['day'] = data.index.day\n",
        "    data['dayofweek'] = data.index.dayofweek\n",
        "    data['hour'] = data.index.hour\n",
        "    \n",
        "    for lag in range(1, max_lag + 1):\n",
        "        data['lag_{}'.format(lag)] = data['num_orders'].shift(lag)\n",
        "\n",
        "    data['rolling_mean'] = data['num_orders'].shift().rolling(rolling_mean_size).mean()"
      ]
    },
    {
      "cell_type": "markdown",
      "metadata": {
        "id": "XUqZWmkJKIVl"
      },
      "source": [
        "<div class=\"alert alert-info\">\n",
        "<h2> Комментарий студента <a class=\"tocSkip\"> </h2>\n",
        "\n",
        "*Добавил копирование фрейма в шаге разбивки на учебную и тестовую выборки. \n",
        " Что касается месяца - посмотри на график тренда за весь период (выше). во всех месяцах кроме июля прослеживается пик роста в третьей чевтерти месяца, и замедление к четвертой, т.е. сезонность присутствует не только по часам и дням недели, но и по номерам недель и месяцам. В любом случае год у нас единственный, а месяцев - шесть, поэтому думаю месяц стоит оставить*\n",
        "</div>"
      ]
    },
    {
      "cell_type": "markdown",
      "metadata": {
        "id": "AMTbC6i72Pdf"
      },
      "source": [
        "Определим максимальный размер отставания (лаг):\n",
        "\n",
        "поскольку сезонная декомпозиция стационарна, можно определить лаг как дистанцию в часах между максимальными и минимальными пиками"
      ]
    },
    {
      "cell_type": "code",
      "execution_count": null,
      "metadata": {
        "colab": {
          "base_uri": "https://localhost:8080/"
        },
        "id": "THcqlaAfNmsM",
        "outputId": "294ad456-ec60-4656-fb1c-ead5d369ad28",
        "scrolled": true
      },
      "outputs": [
        {
          "data": {
            "text/plain": [
              "\"\\ndf_lag = seasonal_decompose(df['2018-08-18':'2018-08-31'])\\nmax_lag = abs(((df_lag.seasonal.idxmax() - df_lag.seasonal.idxmin())\\n    //np.timedelta64(1, 'h'))[0])\\nprint('Максимальный лаг:', max_lag)\\n\""
            ]
          },
          "execution_count": 10,
          "metadata": {},
          "output_type": "execute_result"
        }
      ],
      "source": [
        "'''\n",
        "df_lag = seasonal_decompose(df['2018-08-18':'2018-08-31'])\n",
        "max_lag = abs(((df_lag.seasonal.idxmax() - df_lag.seasonal.idxmin())\n",
        "    //np.timedelta64(1, 'h'))[0])\n",
        "print('Максимальный лаг:', max_lag)\n",
        "'''"
      ]
    },
    {
      "cell_type": "markdown",
      "metadata": {
        "id": "vpFvQnsz3IqI"
      },
      "source": [
        "Определим ширину окна по минимальной разнице (среднеквадратичной ошибке) между скользящей средней и реальными данными в двухнедельном диапазоне:"
      ]
    },
    {
      "cell_type": "code",
      "execution_count": null,
      "metadata": {
        "colab": {
          "base_uri": "https://localhost:8080/"
        },
        "id": "pEpXj-Z-3TLa",
        "outputId": "f69c6a3b-d116-4976-c6c5-c208361d8634"
      },
      "outputs": [
        {
          "name": "stdout",
          "output_type": "stream",
          "text": [
            "Оптимальный размер окна: 2\n"
          ]
        }
      ],
      "source": [
        "dict = {}\n",
        "for rolling_mean_size in range(2,48):\n",
        "    data = df['2018-08-18':'2018-08-31'].copy() \n",
        "    data['rolling_mean'] = data['num_orders'].rolling(rolling_mean_size).mean()\n",
        "    data.dropna(inplace=True)\n",
        "    index = data.index\n",
        "    num_orders = data['num_orders']\n",
        "    rolling_mean = data['rolling_mean']\n",
        "    rmse = mean_squared_error(num_orders,rolling_mean)**0.5\n",
        "    dict[rolling_mean_size] = rmse\n",
        "rolling_mean_size = min(dict.keys(), key=(lambda x: dict[x]))\n",
        "print('Оптимальный размер окна:', rolling_mean_size)"
      ]
    },
    {
      "cell_type": "markdown",
      "metadata": {
        "id": "rmmvYN7U0-RP"
      },
      "source": [
        "Разобъем выборку на учебную и тестовую "
      ]
    },
    {
      "cell_type": "code",
      "execution_count": null,
      "metadata": {
        "id": "1wRWEHrJ5iUl"
      },
      "outputs": [],
      "source": [
        "df_new = df.copy()\n",
        "make_features(df_new, 24, 24)\n",
        "\n",
        "train, test = train_test_split(df_new, shuffle=False, \n",
        "                               test_size=0.1, \n",
        "                               random_state=12345)\n",
        "train = train.dropna()\n",
        "\n",
        "features_train = train.drop('num_orders', axis=1)\n",
        "target_train = train['num_orders']\n",
        "features_test = test.drop('num_orders', axis=1)\n",
        "target_test = test['num_orders']"
      ]
    },
    {
      "cell_type": "code",
      "execution_count": null,
      "metadata": {
        "id": "BmmNLsR2KIVs"
      },
      "outputs": [],
      "source": [
        "tscv = TimeSeriesSplit(n_splits=5)"
      ]
    },
    {
      "cell_type": "markdown",
      "metadata": {
        "id": "Lba3FSo-46TC"
      },
      "source": [
        "### Линейная регрессия\n",
        "\n"
      ]
    },
    {
      "cell_type": "code",
      "execution_count": null,
      "metadata": {
        "id": "-ksX24xbKIVt"
      },
      "outputs": [],
      "source": [
        "lr_params = {'fit_intercept':[True,False], 'normalize':[True,False], 'copy_X':[True, False]}"
      ]
    },
    {
      "cell_type": "code",
      "execution_count": null,
      "metadata": {
        "colab": {
          "base_uri": "https://localhost:8080/"
        },
        "id": "_FGNA7NM5RDd",
        "outputId": "ea31d8dc-032d-4555-c673-70fb4c62d7d0"
      },
      "outputs": [
        {
          "name": "stdout",
          "output_type": "stream",
          "text": [
            "Гиперпараметры линейной регрессии на кросс-валидации:  {'copy_X': True, 'fit_intercept': True, 'normalize': False}\n",
            "CPU times: user 2.02 s, sys: 2.94 s, total: 4.96 s\n",
            "Wall time: 4.94 s\n"
          ]
        }
      ],
      "source": [
        "%%time\n",
        "lr_grid = GridSearchCV(LinearRegression(), param_grid = lr_params, refit=False, scoring='neg_mean_squared_error', cv=tscv)\n",
        "lr_grid.fit(features_train, target_train)\n",
        "lr_best_params = lr_grid.best_params_\n",
        "    \n",
        "print('Гиперпараметры линейной регрессии на кросс-валидации: ', lr_best_params)"
      ]
    },
    {
      "cell_type": "code",
      "execution_count": null,
      "metadata": {
        "id": "40QX9SQ-KIVu"
      },
      "outputs": [],
      "source": [
        "lr_best_params = {'copy_X': True, 'fit_intercept': True, 'normalize': False}"
      ]
    },
    {
      "cell_type": "markdown",
      "metadata": {
        "id": "QYiYLifo85ci"
      },
      "source": [
        "### Случайный лес"
      ]
    },
    {
      "cell_type": "code",
      "execution_count": null,
      "metadata": {
        "id": "BAFJIVXRKIVw"
      },
      "outputs": [],
      "source": [
        "rf_params = {\n",
        "        'n_estimators' : range(50, 101, 10),\n",
        "        'max_depth' : range(5, 15, 2),\n",
        "        'verbose' : [0],\n",
        "        'random_state' : [12345] \n",
        "        }"
      ]
    },
    {
      "cell_type": "code",
      "execution_count": null,
      "metadata": {
        "colab": {
          "base_uri": "https://localhost:8080/"
        },
        "id": "gnofMDinz0sU",
        "outputId": "90b091c8-13d8-48f4-ba53-6fdb53569341"
      },
      "outputs": [
        {
          "data": {
            "text/plain": [
              "\"\\n%%time\\nrf_grid = GridSearchCV(RandomForestRegressor(), \\n                       param_grid = rf_params, \\n                       refit=False, \\n                       scoring='neg_mean_squared_error', \\n                       cv=tscv)\\nrf_grid.fit(features_train, target_train)\\nrf_best_params = rf_grid.best_params_\\nrf_m = RandomForestRegressor(**rf_best_params)\\nrf_m.fit(features_train, target_train) \\n\\nprint('Лучшие гиперпараметры в случайном лесу: ', rf_best_params)\\n\""
            ]
          },
          "execution_count": 18,
          "metadata": {},
          "output_type": "execute_result"
        }
      ],
      "source": [
        "'''\n",
        "%%time\n",
        "rf_grid = GridSearchCV(RandomForestRegressor(), \n",
        "                       param_grid = rf_params, \n",
        "                       refit=False, \n",
        "                       scoring='neg_mean_squared_error', \n",
        "                       cv=tscv)\n",
        "rf_grid.fit(features_train, target_train)\n",
        "rf_best_params = rf_grid.best_params_\n",
        "rf_m = RandomForestRegressor(**rf_best_params)\n",
        "rf_m.fit(features_train, target_train) \n",
        "\n",
        "print('Лучшие гиперпараметры в случайном лесу: ', rf_best_params)\n",
        "'''"
      ]
    },
    {
      "cell_type": "code",
      "execution_count": null,
      "metadata": {
        "id": "b_dzgB36KIVy"
      },
      "outputs": [],
      "source": [
        "rf_best_params = {'max_depth': 13, 'n_estimators': 100, 'random_state': 12345, 'verbose': 0}"
      ]
    },
    {
      "cell_type": "markdown",
      "metadata": {
        "id": "vrin4Nc4ARZr"
      },
      "source": [
        "В обучающей выборке сработало, обучим LightGBM"
      ]
    },
    {
      "cell_type": "markdown",
      "metadata": {
        "id": "hzkvm8JvAd5n"
      },
      "source": [
        "### LightGBM модель"
      ]
    },
    {
      "cell_type": "code",
      "execution_count": null,
      "metadata": {
        "id": "9yd1KIRDKIV2"
      },
      "outputs": [],
      "source": [
        "lgb_params = {\n",
        "        'n_estimators' : range(50, 101, 10),\n",
        "        'max_depth' : range(5, 15, 2),\n",
        "        'random_state' : [12345] \n",
        "        }"
      ]
    },
    {
      "cell_type": "code",
      "execution_count": null,
      "metadata": {
        "colab": {
          "base_uri": "https://localhost:8080/"
        },
        "id": "zhfUQNNCAorL",
        "outputId": "6a9e7669-204b-470f-c121-079cda55e0e5"
      },
      "outputs": [
        {
          "data": {
            "text/plain": [
              "\"\\n%%time\\nlgb_grid = GridSearchCV(LGBMRegressor(), \\n                        param_grid = lgb_params, \\n                        refit=False, \\n                        scoring='neg_mean_squared_error', \\n                        cv=tscv)\\nlgb_grid.fit(features_train, target_train)\\n\\nlgb_best_params = lgb_grid.best_params_\\nlgb_m = LGBMRegressor(**lgb_best_params)\\nlgb_m.fit(features_train, target_train)\\n    \\nprint('Лучшие гиперпараметры: ', lgb_best_params)\\n\""
            ]
          },
          "execution_count": 21,
          "metadata": {},
          "output_type": "execute_result"
        }
      ],
      "source": [
        "'''\n",
        "%%time\n",
        "lgb_grid = GridSearchCV(LGBMRegressor(), \n",
        "                        param_grid = lgb_params, \n",
        "                        refit=False, \n",
        "                        scoring='neg_mean_squared_error', \n",
        "                        cv=tscv)\n",
        "lgb_grid.fit(features_train, target_train)\n",
        "\n",
        "lgb_best_params = lgb_grid.best_params_\n",
        "lgb_m = LGBMRegressor(**lgb_best_params)\n",
        "lgb_m.fit(features_train, target_train)\n",
        "    \n",
        "print('Лучшие гиперпараметры: ', lgb_best_params)\n",
        "'''"
      ]
    },
    {
      "cell_type": "code",
      "execution_count": null,
      "metadata": {
        "id": "AeooNTBZKIV3"
      },
      "outputs": [],
      "source": [
        "lgb_best_params = {\n",
        "        'n_estimators' : 80,\n",
        "        'max_depth' : 11,\n",
        "        'random_state' : 12345 \n",
        "        }"
      ]
    },
    {
      "cell_type": "markdown",
      "metadata": {
        "id": "_xQeE19PBpDk"
      },
      "source": [
        "подобрали параметры бустинга, в этот раз кросс-валидация для временных рядов"
      ]
    },
    {
      "cell_type": "markdown",
      "metadata": {
        "id": "aj2K1mu6gYZC"
      },
      "source": [
        "## Тестирование"
      ]
    },
    {
      "cell_type": "markdown",
      "metadata": {
        "id": "w3f3x2JCHcCT"
      },
      "source": [
        "### Тест линейная регрессия"
      ]
    },
    {
      "cell_type": "code",
      "execution_count": null,
      "metadata": {
        "colab": {
          "base_uri": "https://localhost:8080/"
        },
        "id": "ynPro3F2HiFu",
        "outputId": "d87aa4c4-7d0d-4d33-8c2f-53ed68d6b520"
      },
      "outputs": [
        {
          "name": "stdout",
          "output_type": "stream",
          "text": [
            "RMSE линейной регрессии на тестовой выборке:  45.810948889069486\n",
            "CPU times: user 51.8 ms, sys: 95.6 ms, total: 147 ms\n",
            "Wall time: 145 ms\n"
          ]
        }
      ],
      "source": [
        "%%time\n",
        "lr_m = LinearRegression(**lr_best_params)\n",
        "lr_m.fit(features_train, target_train)\n",
        "lr_test_pred = lr_m.predict(features_test)\n",
        "print(\"RMSE линейной регрессии на тестовой выборке: \", mean_squared_error(target_test, lr_test_pred)**0.5)"
      ]
    },
    {
      "cell_type": "markdown",
      "metadata": {
        "id": "W1xzx7SEHEGh"
      },
      "source": [
        "### Тест случайный лес"
      ]
    },
    {
      "cell_type": "code",
      "execution_count": null,
      "metadata": {
        "colab": {
          "base_uri": "https://localhost:8080/"
        },
        "id": "R3VN80muHHWx",
        "outputId": "e26b0a49-8f5d-439e-881b-e8c72b2c5427"
      },
      "outputs": [
        {
          "name": "stdout",
          "output_type": "stream",
          "text": [
            "RMSE случайного леса на тестовой выборке:  44.56546882317098\n",
            "CPU times: user 4.28 s, sys: 171 ms, total: 4.45 s\n",
            "Wall time: 4.48 s\n"
          ]
        }
      ],
      "source": [
        "%%time\n",
        "rf_m = RandomForestRegressor(**rf_best_params)\n",
        "rf_m.fit(features_train, target_train) \n",
        "rf_test_pred = rf_m.predict(features_test)\n",
        "\n",
        "print(\"RMSE случайного леса на тестовой выборке: \", mean_squared_error(target_test, rf_test_pred)**0.5)"
      ]
    },
    {
      "cell_type": "markdown",
      "metadata": {
        "id": "8LAlmVKgKzh3"
      },
      "source": [
        "чуть перевалили за нужный диапазон, но тест провален"
      ]
    },
    {
      "cell_type": "markdown",
      "metadata": {
        "id": "jAAZfdjbKIV7"
      },
      "source": [
        "<div class=\"alert alert-info\">\n",
        "<h2> Комментарий студента <a class=\"tocSkip\"> </h2>\n",
        "\n",
        "И лес подтянулся\n",
        "</div>"
      ]
    },
    {
      "cell_type": "markdown",
      "metadata": {
        "id": "dh8EV7SiG_-8"
      },
      "source": [
        "### Тест градиентный бустинг"
      ]
    },
    {
      "cell_type": "code",
      "execution_count": null,
      "metadata": {
        "colab": {
          "base_uri": "https://localhost:8080/"
        },
        "id": "xJFRCeVV0V-V",
        "outputId": "7c267ec4-a97d-4124-e42c-2c96d9ae272d"
      },
      "outputs": [
        {
          "name": "stdout",
          "output_type": "stream",
          "text": [
            "RMSE градиентного бустинга на тестовой выборке:  41.036147720799924\n",
            "CPU times: user 1.19 s, sys: 0 ns, total: 1.19 s\n",
            "Wall time: 1.12 s\n"
          ]
        }
      ],
      "source": [
        "%%time\n",
        "lgb_m = LGBMRegressor(**lgb_best_params)\n",
        "lgb_m.fit(features_train, target_train)\n",
        "lgb_test_pred = lgb_m.predict(features_test)\n",
        "\n",
        "print(\"RMSE градиентного бустинга на тестовой выборке: \", mean_squared_error(target_test, lgb_test_pred)**0.5)\n"
      ]
    },
    {
      "cell_type": "markdown",
      "metadata": {
        "id": "JkbdXrVQC_XM"
      },
      "source": [
        "Градиентный бустинг справился:\n",
        "\n",
        "rmse на тестовой выборке обученной LGBMR: \n",
        "<div class=\"alert alert-info\">\n",
        "<h2> Комментарий студента <a class=\"tocSkip\"> </h2>\n",
        "Бустинг 41,03\n",
        "\n",
        "**ВЫВОД:**\n",
        "Все три обученных модели позволяют предсказывать заказы в заданных клиенту параметрах. Максимальная точность у градиентного бустинга (41 заказ), но линейная регрессия со среднеквадратичной ошибкой в 45 заказов отрабатывает значительно быстрее: 147 милисекунд против 1,19 секунд. Случайный лес самый долгий (4,45с) и точность почти такая же, как у линейной регрессии. \n",
        " \n",
        "    \n",
        "Выбор из бустинга и линейки будет зависеть от требований ко времени действия.\n",
        "    \n",
        "</div>\n"
      ]
    },
    {
      "cell_type": "markdown",
      "metadata": {
        "id": "iS0hswicgYZC"
      },
      "source": [
        "## Чек-лист проверки"
      ]
    },
    {
      "cell_type": "markdown",
      "metadata": {
        "id": "npQbGks1gYZD"
      },
      "source": [
        "- [x]  Jupyter Notebook открыт\n",
        "- [x]  Весь код выполняется без ошибок\n",
        "- [x]  Ячейки с кодом расположены в порядке исполнения\n",
        "- [x]  Данные загружены и подготовлены\n",
        "- [x]  Данные проанализированы\n",
        "- [x]  Модель обучена, гиперпараметры подобраны\n",
        "- [x]  Качество моделей проверено, выводы сделаны\n",
        "- [x]  Значение *RMSE* на тестовой выборке не больше 48"
      ]
    }
  ],
  "metadata": {
    "ExecuteTimeLog": [
      {
        "duration": 1973,
        "start_time": "2022-07-27T06:34:55.091Z"
      },
      {
        "duration": 552,
        "start_time": "2022-07-27T06:34:57.066Z"
      },
      {
        "duration": 13,
        "start_time": "2022-07-27T06:34:57.620Z"
      },
      {
        "duration": 293,
        "start_time": "2022-07-27T06:34:57.636Z"
      },
      {
        "duration": 80,
        "start_time": "2022-07-27T06:34:57.932Z"
      },
      {
        "duration": 0,
        "start_time": "2022-07-27T06:34:58.016Z"
      },
      {
        "duration": 0,
        "start_time": "2022-07-27T06:34:58.017Z"
      },
      {
        "duration": 0,
        "start_time": "2022-07-27T06:34:58.019Z"
      },
      {
        "duration": 0,
        "start_time": "2022-07-27T06:34:58.020Z"
      },
      {
        "duration": 0,
        "start_time": "2022-07-27T06:34:58.022Z"
      },
      {
        "duration": 0,
        "start_time": "2022-07-27T06:34:58.023Z"
      },
      {
        "duration": 0,
        "start_time": "2022-07-27T06:34:58.024Z"
      },
      {
        "duration": 0,
        "start_time": "2022-07-27T06:34:58.026Z"
      },
      {
        "duration": 0,
        "start_time": "2022-07-27T06:34:58.027Z"
      },
      {
        "duration": 0,
        "start_time": "2022-07-27T06:34:58.028Z"
      },
      {
        "duration": 0,
        "start_time": "2022-07-27T06:34:58.029Z"
      },
      {
        "duration": 0,
        "start_time": "2022-07-27T06:34:58.030Z"
      },
      {
        "duration": 0,
        "start_time": "2022-07-27T06:34:58.031Z"
      },
      {
        "duration": 847,
        "start_time": "2022-07-27T06:37:20.538Z"
      },
      {
        "duration": 224,
        "start_time": "2022-07-27T06:41:01.453Z"
      },
      {
        "duration": 209,
        "start_time": "2022-07-27T06:41:49.159Z"
      },
      {
        "duration": 608,
        "start_time": "2022-07-27T06:42:15.599Z"
      },
      {
        "duration": 4,
        "start_time": "2022-07-27T06:56:49.287Z"
      },
      {
        "duration": 5,
        "start_time": "2022-07-27T07:05:30.772Z"
      },
      {
        "duration": 121,
        "start_time": "2022-07-27T07:05:34.259Z"
      },
      {
        "duration": 4,
        "start_time": "2022-07-27T07:05:52.660Z"
      },
      {
        "duration": 21,
        "start_time": "2022-07-27T07:05:57.340Z"
      },
      {
        "duration": 1521,
        "start_time": "2022-07-27T07:06:39.534Z"
      },
      {
        "duration": 96,
        "start_time": "2022-07-27T07:06:41.057Z"
      },
      {
        "duration": 13,
        "start_time": "2022-07-27T07:06:41.154Z"
      },
      {
        "duration": 255,
        "start_time": "2022-07-27T07:06:41.169Z"
      },
      {
        "duration": 812,
        "start_time": "2022-07-27T07:06:41.425Z"
      },
      {
        "duration": 213,
        "start_time": "2022-07-27T07:06:42.239Z"
      },
      {
        "duration": 607,
        "start_time": "2022-07-27T07:06:42.454Z"
      },
      {
        "duration": 5,
        "start_time": "2022-07-27T07:06:43.063Z"
      },
      {
        "duration": 137,
        "start_time": "2022-07-27T07:06:43.069Z"
      },
      {
        "duration": 0,
        "start_time": "2022-07-27T07:06:43.208Z"
      },
      {
        "duration": 0,
        "start_time": "2022-07-27T07:06:43.209Z"
      },
      {
        "duration": 0,
        "start_time": "2022-07-27T07:06:43.211Z"
      },
      {
        "duration": 0,
        "start_time": "2022-07-27T07:06:43.213Z"
      },
      {
        "duration": 0,
        "start_time": "2022-07-27T07:06:43.214Z"
      },
      {
        "duration": 0,
        "start_time": "2022-07-27T07:06:43.216Z"
      },
      {
        "duration": 0,
        "start_time": "2022-07-27T07:06:43.217Z"
      },
      {
        "duration": 0,
        "start_time": "2022-07-27T07:06:43.219Z"
      },
      {
        "duration": 0,
        "start_time": "2022-07-27T07:06:43.220Z"
      },
      {
        "duration": 0,
        "start_time": "2022-07-27T07:06:43.221Z"
      },
      {
        "duration": 34,
        "start_time": "2022-07-27T07:09:57.552Z"
      },
      {
        "duration": 5,
        "start_time": "2022-07-27T07:10:30.766Z"
      },
      {
        "duration": 435,
        "start_time": "2022-07-27T07:10:33.871Z"
      },
      {
        "duration": 79,
        "start_time": "2022-07-27T07:12:34.330Z"
      },
      {
        "duration": 6,
        "start_time": "2022-07-27T07:15:20.817Z"
      },
      {
        "duration": 507,
        "start_time": "2022-07-27T07:15:22.702Z"
      },
      {
        "duration": 403,
        "start_time": "2022-07-27T07:16:29.508Z"
      },
      {
        "duration": 196,
        "start_time": "2022-07-27T07:31:31.915Z"
      },
      {
        "duration": 131,
        "start_time": "2022-07-27T07:46:48.974Z"
      },
      {
        "duration": 6,
        "start_time": "2022-07-27T07:58:15.416Z"
      },
      {
        "duration": 600,
        "start_time": "2022-07-27T07:58:38.080Z"
      },
      {
        "duration": 5080,
        "start_time": "2022-07-27T08:02:02.205Z"
      },
      {
        "duration": 12,
        "start_time": "2022-07-27T08:10:56.864Z"
      },
      {
        "duration": 121,
        "start_time": "2022-07-27T08:11:38.417Z"
      },
      {
        "duration": 2516,
        "start_time": "2022-07-27T08:12:47.392Z"
      },
      {
        "duration": 39,
        "start_time": "2022-07-27T08:23:01.677Z"
      },
      {
        "duration": 22,
        "start_time": "2022-07-27T08:23:46.949Z"
      },
      {
        "duration": 23,
        "start_time": "2022-07-27T08:26:19.831Z"
      },
      {
        "duration": 1633,
        "start_time": "2022-07-27T08:26:48.942Z"
      },
      {
        "duration": 255,
        "start_time": "2022-07-27T08:26:50.577Z"
      },
      {
        "duration": 13,
        "start_time": "2022-07-27T08:26:50.834Z"
      },
      {
        "duration": 277,
        "start_time": "2022-07-27T08:26:50.850Z"
      },
      {
        "duration": 824,
        "start_time": "2022-07-27T08:26:51.129Z"
      },
      {
        "duration": 213,
        "start_time": "2022-07-27T08:26:51.956Z"
      },
      {
        "duration": 604,
        "start_time": "2022-07-27T08:26:52.172Z"
      },
      {
        "duration": 1636,
        "start_time": "2022-07-27T08:26:52.778Z"
      },
      {
        "duration": 6,
        "start_time": "2022-07-27T08:26:54.510Z"
      },
      {
        "duration": 144,
        "start_time": "2022-07-27T08:26:54.606Z"
      },
      {
        "duration": 0,
        "start_time": "2022-07-27T08:26:54.752Z"
      },
      {
        "duration": 0,
        "start_time": "2022-07-27T08:26:54.754Z"
      },
      {
        "duration": 0,
        "start_time": "2022-07-27T08:26:54.755Z"
      },
      {
        "duration": 0,
        "start_time": "2022-07-27T08:26:54.757Z"
      },
      {
        "duration": 0,
        "start_time": "2022-07-27T08:26:54.758Z"
      },
      {
        "duration": 0,
        "start_time": "2022-07-27T08:26:54.759Z"
      },
      {
        "duration": 0,
        "start_time": "2022-07-27T08:26:54.760Z"
      },
      {
        "duration": 0,
        "start_time": "2022-07-27T08:26:54.761Z"
      },
      {
        "duration": 0,
        "start_time": "2022-07-27T08:26:54.762Z"
      },
      {
        "duration": 0,
        "start_time": "2022-07-27T08:26:54.763Z"
      },
      {
        "duration": 0,
        "start_time": "2022-07-27T08:26:54.764Z"
      },
      {
        "duration": 21,
        "start_time": "2022-07-27T08:27:57.205Z"
      },
      {
        "duration": 20,
        "start_time": "2022-07-27T08:29:24.059Z"
      },
      {
        "duration": 6,
        "start_time": "2022-07-27T08:29:43.277Z"
      },
      {
        "duration": 20,
        "start_time": "2022-07-27T08:29:53.428Z"
      },
      {
        "duration": 4,
        "start_time": "2022-07-27T08:30:44.157Z"
      },
      {
        "duration": 265,
        "start_time": "2022-07-27T08:32:38.534Z"
      },
      {
        "duration": 35,
        "start_time": "2022-07-27T08:33:09.039Z"
      },
      {
        "duration": 5,
        "start_time": "2022-07-27T08:33:53.047Z"
      },
      {
        "duration": 144,
        "start_time": "2022-07-27T08:33:55.167Z"
      },
      {
        "duration": 466,
        "start_time": "2022-07-27T08:34:32.041Z"
      },
      {
        "duration": 656,
        "start_time": "2022-07-27T08:35:45.442Z"
      },
      {
        "duration": 4993,
        "start_time": "2022-07-27T08:36:15.185Z"
      },
      {
        "duration": 5066,
        "start_time": "2022-07-27T08:37:31.258Z"
      },
      {
        "duration": 4970,
        "start_time": "2022-07-27T08:37:58.017Z"
      },
      {
        "duration": 4980,
        "start_time": "2022-07-27T08:38:25.290Z"
      },
      {
        "duration": 563,
        "start_time": "2022-07-27T08:45:53.441Z"
      },
      {
        "duration": 148,
        "start_time": "2022-07-27T08:51:19.132Z"
      },
      {
        "duration": 5,
        "start_time": "2022-07-27T09:01:03.286Z"
      },
      {
        "duration": 17,
        "start_time": "2022-07-27T09:02:42.280Z"
      },
      {
        "duration": 6,
        "start_time": "2022-07-27T09:02:46.136Z"
      },
      {
        "duration": 15,
        "start_time": "2022-07-27T09:02:48.168Z"
      },
      {
        "duration": 6,
        "start_time": "2022-07-27T09:03:38.129Z"
      },
      {
        "duration": 49,
        "start_time": "2022-07-27T09:03:46.665Z"
      },
      {
        "duration": 5,
        "start_time": "2022-07-27T09:03:52.473Z"
      },
      {
        "duration": 133,
        "start_time": "2022-07-27T09:03:54.673Z"
      },
      {
        "duration": 5,
        "start_time": "2022-07-27T09:04:13.703Z"
      },
      {
        "duration": 533,
        "start_time": "2022-07-27T09:04:15.682Z"
      },
      {
        "duration": 3,
        "start_time": "2022-07-27T11:02:39.261Z"
      },
      {
        "duration": 15,
        "start_time": "2022-07-27T11:04:58.426Z"
      },
      {
        "duration": 5137,
        "start_time": "2022-07-27T11:05:29.868Z"
      },
      {
        "duration": 4,
        "start_time": "2022-07-27T11:39:44.110Z"
      },
      {
        "duration": 111,
        "start_time": "2022-07-27T11:39:46.645Z"
      },
      {
        "duration": 22,
        "start_time": "2022-07-27T11:41:23.207Z"
      },
      {
        "duration": 207244,
        "start_time": "2022-07-27T11:42:03.447Z"
      },
      {
        "duration": 4,
        "start_time": "2022-07-27T11:57:35.846Z"
      },
      {
        "duration": 2232,
        "start_time": "2022-07-27T12:12:59.314Z"
      },
      {
        "duration": 170,
        "start_time": "2022-07-27T12:13:01.548Z"
      },
      {
        "duration": 16,
        "start_time": "2022-07-27T12:13:01.720Z"
      },
      {
        "duration": 308,
        "start_time": "2022-07-27T12:13:01.738Z"
      },
      {
        "duration": 950,
        "start_time": "2022-07-27T12:13:02.048Z"
      },
      {
        "duration": 229,
        "start_time": "2022-07-27T12:13:03.000Z"
      },
      {
        "duration": 673,
        "start_time": "2022-07-27T12:13:03.231Z"
      },
      {
        "duration": 1898,
        "start_time": "2022-07-27T12:13:03.906Z"
      },
      {
        "duration": 7,
        "start_time": "2022-07-27T12:13:05.806Z"
      },
      {
        "duration": 92,
        "start_time": "2022-07-27T12:13:05.816Z"
      },
      {
        "duration": 316,
        "start_time": "2022-07-27T12:13:05.910Z"
      },
      {
        "duration": 79,
        "start_time": "2022-07-27T12:13:06.228Z"
      },
      {
        "duration": 0,
        "start_time": "2022-07-27T12:13:06.309Z"
      },
      {
        "duration": 0,
        "start_time": "2022-07-27T12:13:06.310Z"
      },
      {
        "duration": 0,
        "start_time": "2022-07-27T12:13:06.312Z"
      },
      {
        "duration": 0,
        "start_time": "2022-07-27T12:13:06.313Z"
      },
      {
        "duration": 0,
        "start_time": "2022-07-27T12:13:06.315Z"
      },
      {
        "duration": 0,
        "start_time": "2022-07-27T12:13:06.316Z"
      },
      {
        "duration": 0,
        "start_time": "2022-07-27T12:13:06.317Z"
      },
      {
        "duration": 0,
        "start_time": "2022-07-27T12:13:06.319Z"
      },
      {
        "duration": 0,
        "start_time": "2022-07-27T12:13:06.320Z"
      },
      {
        "duration": 38,
        "start_time": "2022-07-27T12:18:25.807Z"
      },
      {
        "duration": 4,
        "start_time": "2022-07-27T12:18:29.692Z"
      },
      {
        "duration": 1767,
        "start_time": "2022-07-27T12:18:35.245Z"
      },
      {
        "duration": 167,
        "start_time": "2022-07-27T12:18:37.017Z"
      },
      {
        "duration": 14,
        "start_time": "2022-07-27T12:18:37.186Z"
      },
      {
        "duration": 277,
        "start_time": "2022-07-27T12:18:37.202Z"
      },
      {
        "duration": 957,
        "start_time": "2022-07-27T12:18:37.481Z"
      },
      {
        "duration": 241,
        "start_time": "2022-07-27T12:18:38.441Z"
      },
      {
        "duration": 664,
        "start_time": "2022-07-27T12:18:38.684Z"
      },
      {
        "duration": 3758,
        "start_time": "2022-07-27T12:18:39.351Z"
      },
      {
        "duration": 92,
        "start_time": "2022-07-27T12:18:43.113Z"
      },
      {
        "duration": 8,
        "start_time": "2022-07-27T12:18:43.208Z"
      },
      {
        "duration": 306,
        "start_time": "2022-07-27T12:18:43.219Z"
      },
      {
        "duration": 33,
        "start_time": "2022-07-27T12:18:43.528Z"
      },
      {
        "duration": 3,
        "start_time": "2022-07-27T12:18:43.564Z"
      },
      {
        "duration": 127,
        "start_time": "2022-07-27T12:18:43.569Z"
      },
      {
        "duration": 3,
        "start_time": "2022-07-27T12:18:43.706Z"
      },
      {
        "duration": 434,
        "start_time": "2022-07-27T12:18:43.712Z"
      },
      {
        "duration": 7,
        "start_time": "2022-07-27T12:18:44.148Z"
      },
      {
        "duration": 1810,
        "start_time": "2022-07-27T12:23:51.906Z"
      },
      {
        "duration": 110,
        "start_time": "2022-07-27T12:23:53.719Z"
      },
      {
        "duration": 17,
        "start_time": "2022-07-27T12:23:53.831Z"
      },
      {
        "duration": 340,
        "start_time": "2022-07-27T12:23:53.851Z"
      },
      {
        "duration": 921,
        "start_time": "2022-07-27T12:23:54.193Z"
      },
      {
        "duration": 345,
        "start_time": "2022-07-27T12:23:55.117Z"
      },
      {
        "duration": 935,
        "start_time": "2022-07-27T12:23:55.465Z"
      },
      {
        "duration": 1721,
        "start_time": "2022-07-27T12:23:56.402Z"
      },
      {
        "duration": 18,
        "start_time": "2022-07-27T12:23:58.206Z"
      },
      {
        "duration": 44,
        "start_time": "2022-07-27T12:23:58.237Z"
      },
      {
        "duration": 437,
        "start_time": "2022-07-27T12:23:58.284Z"
      },
      {
        "duration": 54,
        "start_time": "2022-07-27T12:23:58.730Z"
      },
      {
        "duration": 32,
        "start_time": "2022-07-27T12:23:58.790Z"
      },
      {
        "duration": 500,
        "start_time": "2022-07-27T12:23:58.825Z"
      },
      {
        "duration": 0,
        "start_time": "2022-07-27T12:23:59.328Z"
      },
      {
        "duration": 0,
        "start_time": "2022-07-27T12:23:59.330Z"
      },
      {
        "duration": 0,
        "start_time": "2022-07-27T12:23:59.333Z"
      },
      {
        "duration": 0,
        "start_time": "2022-07-27T12:23:59.335Z"
      },
      {
        "duration": 0,
        "start_time": "2022-07-27T12:23:59.337Z"
      },
      {
        "duration": 0,
        "start_time": "2022-07-27T12:23:59.338Z"
      },
      {
        "duration": 0,
        "start_time": "2022-07-27T12:23:59.340Z"
      },
      {
        "duration": 1935,
        "start_time": "2022-07-27T12:24:25.036Z"
      },
      {
        "duration": 112,
        "start_time": "2022-07-27T12:24:26.975Z"
      },
      {
        "duration": 13,
        "start_time": "2022-07-27T12:24:27.089Z"
      },
      {
        "duration": 278,
        "start_time": "2022-07-27T12:24:27.106Z"
      },
      {
        "duration": 1004,
        "start_time": "2022-07-27T12:24:27.386Z"
      },
      {
        "duration": 265,
        "start_time": "2022-07-27T12:24:28.394Z"
      },
      {
        "duration": 715,
        "start_time": "2022-07-27T12:24:28.663Z"
      },
      {
        "duration": 2036,
        "start_time": "2022-07-27T12:24:29.381Z"
      },
      {
        "duration": 86,
        "start_time": "2022-07-27T12:24:31.419Z"
      },
      {
        "duration": 111,
        "start_time": "2022-07-27T12:24:31.510Z"
      },
      {
        "duration": 283,
        "start_time": "2022-07-27T12:24:31.624Z"
      },
      {
        "duration": 33,
        "start_time": "2022-07-27T12:24:31.910Z"
      },
      {
        "duration": 4,
        "start_time": "2022-07-27T12:24:31.946Z"
      },
      {
        "duration": 403,
        "start_time": "2022-07-27T12:24:31.959Z"
      },
      {
        "duration": 0,
        "start_time": "2022-07-27T12:24:32.365Z"
      },
      {
        "duration": 0,
        "start_time": "2022-07-27T12:24:32.368Z"
      },
      {
        "duration": 1,
        "start_time": "2022-07-27T12:24:32.369Z"
      },
      {
        "duration": 0,
        "start_time": "2022-07-27T12:24:32.372Z"
      },
      {
        "duration": 0,
        "start_time": "2022-07-27T12:24:32.374Z"
      },
      {
        "duration": 0,
        "start_time": "2022-07-27T12:24:32.375Z"
      },
      {
        "duration": 0,
        "start_time": "2022-07-27T12:24:32.377Z"
      },
      {
        "duration": 388,
        "start_time": "2022-07-27T12:26:38.278Z"
      },
      {
        "duration": 306,
        "start_time": "2022-07-27T12:27:04.399Z"
      },
      {
        "duration": 7,
        "start_time": "2022-07-27T12:33:52.976Z"
      },
      {
        "duration": 319,
        "start_time": "2022-07-27T12:34:04.884Z"
      },
      {
        "duration": 214,
        "start_time": "2022-07-27T12:38:20.317Z"
      },
      {
        "duration": 244,
        "start_time": "2022-07-27T12:39:07.110Z"
      },
      {
        "duration": 90,
        "start_time": "2022-07-27T12:41:51.128Z"
      },
      {
        "duration": 202,
        "start_time": "2022-07-27T12:59:58.459Z"
      },
      {
        "duration": 273,
        "start_time": "2022-07-27T13:01:28.029Z"
      },
      {
        "duration": 27,
        "start_time": "2022-07-27T13:01:57.140Z"
      },
      {
        "duration": 4,
        "start_time": "2022-07-27T13:02:00.485Z"
      },
      {
        "duration": 3,
        "start_time": "2022-07-27T13:02:02.823Z"
      },
      {
        "duration": 7302,
        "start_time": "2022-07-27T13:02:04.711Z"
      },
      {
        "duration": 6860,
        "start_time": "2022-07-27T13:02:21.565Z"
      },
      {
        "duration": 1728,
        "start_time": "2022-07-27T13:02:42.323Z"
      },
      {
        "duration": 812,
        "start_time": "2022-07-27T13:02:44.053Z"
      },
      {
        "duration": 13,
        "start_time": "2022-07-27T13:02:44.867Z"
      },
      {
        "duration": 296,
        "start_time": "2022-07-27T13:02:44.883Z"
      },
      {
        "duration": 896,
        "start_time": "2022-07-27T13:02:45.182Z"
      },
      {
        "duration": 259,
        "start_time": "2022-07-27T13:02:46.080Z"
      },
      {
        "duration": 697,
        "start_time": "2022-07-27T13:02:46.341Z"
      },
      {
        "duration": 3372,
        "start_time": "2022-07-27T13:02:47.040Z"
      },
      {
        "duration": 15,
        "start_time": "2022-07-27T13:02:50.414Z"
      },
      {
        "duration": 26,
        "start_time": "2022-07-27T13:02:50.505Z"
      },
      {
        "duration": 282,
        "start_time": "2022-07-27T13:02:50.533Z"
      },
      {
        "duration": 34,
        "start_time": "2022-07-27T13:02:50.816Z"
      },
      {
        "duration": 3,
        "start_time": "2022-07-27T13:02:50.852Z"
      },
      {
        "duration": 7,
        "start_time": "2022-07-27T13:02:50.858Z"
      },
      {
        "duration": 5740,
        "start_time": "2022-07-27T13:02:50.866Z"
      },
      {
        "duration": 14,
        "start_time": "2022-07-27T13:02:56.615Z"
      },
      {
        "duration": 221560,
        "start_time": "2022-07-27T13:02:56.711Z"
      },
      {
        "duration": 4,
        "start_time": "2022-07-27T13:06:38.274Z"
      },
      {
        "duration": 192,
        "start_time": "2022-07-27T13:06:38.281Z"
      },
      {
        "duration": 0,
        "start_time": "2022-07-27T13:06:38.475Z"
      },
      {
        "duration": 0,
        "start_time": "2022-07-27T13:06:38.476Z"
      },
      {
        "duration": 0,
        "start_time": "2022-07-27T13:06:38.478Z"
      },
      {
        "duration": 1845,
        "start_time": "2022-07-27T13:17:59.875Z"
      },
      {
        "duration": 165,
        "start_time": "2022-07-27T13:18:01.722Z"
      },
      {
        "duration": 13,
        "start_time": "2022-07-27T13:18:01.889Z"
      },
      {
        "duration": 271,
        "start_time": "2022-07-27T13:18:01.904Z"
      },
      {
        "duration": 792,
        "start_time": "2022-07-27T13:18:02.177Z"
      },
      {
        "duration": 212,
        "start_time": "2022-07-27T13:18:02.971Z"
      },
      {
        "duration": 588,
        "start_time": "2022-07-27T13:18:03.184Z"
      },
      {
        "duration": 1936,
        "start_time": "2022-07-27T13:18:03.775Z"
      },
      {
        "duration": 94,
        "start_time": "2022-07-27T13:18:05.714Z"
      },
      {
        "duration": 101,
        "start_time": "2022-07-27T13:18:05.812Z"
      },
      {
        "duration": 264,
        "start_time": "2022-07-27T13:18:05.915Z"
      },
      {
        "duration": 41,
        "start_time": "2022-07-27T13:18:06.181Z"
      },
      {
        "duration": 2,
        "start_time": "2022-07-27T13:18:06.224Z"
      },
      {
        "duration": 10,
        "start_time": "2022-07-27T13:18:06.228Z"
      },
      {
        "duration": 4464,
        "start_time": "2022-07-27T13:18:06.240Z"
      },
      {
        "duration": 4,
        "start_time": "2022-07-27T13:18:10.707Z"
      },
      {
        "duration": 203346,
        "start_time": "2022-07-27T13:18:10.712Z"
      },
      {
        "duration": 4,
        "start_time": "2022-07-27T13:21:34.061Z"
      },
      {
        "duration": 156791,
        "start_time": "2022-07-27T13:21:34.067Z"
      },
      {
        "duration": 49,
        "start_time": "2022-07-27T13:24:10.860Z"
      },
      {
        "duration": 4881,
        "start_time": "2022-07-27T13:24:10.911Z"
      },
      {
        "duration": 20,
        "start_time": "2022-07-27T13:24:15.794Z"
      },
      {
        "duration": 1867,
        "start_time": "2022-07-27T13:36:15.526Z"
      },
      {
        "duration": 202,
        "start_time": "2022-07-27T13:36:17.395Z"
      },
      {
        "duration": 15,
        "start_time": "2022-07-27T13:36:17.599Z"
      },
      {
        "duration": 334,
        "start_time": "2022-07-27T13:36:17.618Z"
      },
      {
        "duration": 875,
        "start_time": "2022-07-27T13:36:17.954Z"
      },
      {
        "duration": 223,
        "start_time": "2022-07-27T13:36:18.831Z"
      },
      {
        "duration": 636,
        "start_time": "2022-07-27T13:36:19.056Z"
      },
      {
        "duration": 2222,
        "start_time": "2022-07-27T13:36:19.694Z"
      },
      {
        "duration": 90,
        "start_time": "2022-07-27T13:36:21.918Z"
      },
      {
        "duration": 107,
        "start_time": "2022-07-27T13:36:22.012Z"
      },
      {
        "duration": 294,
        "start_time": "2022-07-27T13:36:22.120Z"
      },
      {
        "duration": 34,
        "start_time": "2022-07-27T13:36:22.416Z"
      },
      {
        "duration": 3,
        "start_time": "2022-07-27T13:36:22.452Z"
      },
      {
        "duration": 18,
        "start_time": "2022-07-27T13:36:22.457Z"
      },
      {
        "duration": 5030,
        "start_time": "2022-07-27T13:36:22.477Z"
      },
      {
        "duration": 91,
        "start_time": "2022-07-27T13:36:27.514Z"
      },
      {
        "duration": 203942,
        "start_time": "2022-07-27T13:36:27.607Z"
      },
      {
        "duration": 4,
        "start_time": "2022-07-27T13:39:51.551Z"
      },
      {
        "duration": 1807,
        "start_time": "2022-07-27T13:45:47.176Z"
      },
      {
        "duration": 141,
        "start_time": "2022-07-27T13:45:48.985Z"
      },
      {
        "duration": 15,
        "start_time": "2022-07-27T13:45:49.128Z"
      },
      {
        "duration": 292,
        "start_time": "2022-07-27T13:45:49.146Z"
      },
      {
        "duration": 929,
        "start_time": "2022-07-27T13:45:49.440Z"
      },
      {
        "duration": 248,
        "start_time": "2022-07-27T13:45:50.371Z"
      },
      {
        "duration": 676,
        "start_time": "2022-07-27T13:45:50.621Z"
      },
      {
        "duration": 3616,
        "start_time": "2022-07-27T13:45:51.299Z"
      },
      {
        "duration": 10,
        "start_time": "2022-07-27T13:45:54.918Z"
      },
      {
        "duration": 38,
        "start_time": "2022-07-27T13:45:55.006Z"
      },
      {
        "duration": 317,
        "start_time": "2022-07-27T13:45:55.046Z"
      },
      {
        "duration": 51,
        "start_time": "2022-07-27T13:45:55.366Z"
      },
      {
        "duration": 6,
        "start_time": "2022-07-27T13:45:55.419Z"
      },
      {
        "duration": 20,
        "start_time": "2022-07-27T13:45:55.431Z"
      },
      {
        "duration": 6949,
        "start_time": "2022-07-27T13:45:55.454Z"
      },
      {
        "duration": 4,
        "start_time": "2022-07-27T13:46:02.406Z"
      },
      {
        "duration": 221629,
        "start_time": "2022-07-27T13:46:02.412Z"
      },
      {
        "duration": 5,
        "start_time": "2022-07-27T13:49:44.044Z"
      },
      {
        "duration": 1712,
        "start_time": "2022-07-27T14:03:41.828Z"
      },
      {
        "duration": 107,
        "start_time": "2022-07-27T14:03:43.543Z"
      },
      {
        "duration": 14,
        "start_time": "2022-07-27T14:03:43.653Z"
      },
      {
        "duration": 294,
        "start_time": "2022-07-27T14:03:43.669Z"
      },
      {
        "duration": 916,
        "start_time": "2022-07-27T14:03:43.966Z"
      },
      {
        "duration": 249,
        "start_time": "2022-07-27T14:03:44.884Z"
      },
      {
        "duration": 694,
        "start_time": "2022-07-27T14:03:45.135Z"
      },
      {
        "duration": 5002,
        "start_time": "2022-07-27T14:03:45.830Z"
      },
      {
        "duration": 29,
        "start_time": "2022-07-27T14:03:50.907Z"
      },
      {
        "duration": 17,
        "start_time": "2022-07-27T14:03:51.011Z"
      },
      {
        "duration": 245,
        "start_time": "2022-07-27T14:03:51.029Z"
      },
      {
        "duration": 41,
        "start_time": "2022-07-27T14:03:51.276Z"
      },
      {
        "duration": 3,
        "start_time": "2022-07-27T14:03:51.325Z"
      },
      {
        "duration": 5,
        "start_time": "2022-07-27T14:03:51.331Z"
      },
      {
        "duration": 7896,
        "start_time": "2022-07-27T14:03:51.338Z"
      },
      {
        "duration": 10,
        "start_time": "2022-07-27T14:03:59.309Z"
      },
      {
        "duration": 98,
        "start_time": "2022-07-27T14:03:59.327Z"
      },
      {
        "duration": 9,
        "start_time": "2022-07-27T14:03:59.427Z"
      },
      {
        "duration": 10,
        "start_time": "2022-07-27T14:03:59.439Z"
      },
      {
        "duration": 0,
        "start_time": "2022-07-27T14:03:59.451Z"
      },
      {
        "duration": 0,
        "start_time": "2022-07-27T14:03:59.452Z"
      },
      {
        "duration": 0,
        "start_time": "2022-07-27T14:03:59.454Z"
      },
      {
        "duration": 0,
        "start_time": "2022-07-27T14:03:59.457Z"
      },
      {
        "duration": 0,
        "start_time": "2022-07-27T14:03:59.458Z"
      },
      {
        "duration": 4,
        "start_time": "2022-07-27T14:04:34.381Z"
      },
      {
        "duration": 3,
        "start_time": "2022-07-27T14:04:44.328Z"
      },
      {
        "duration": 3,
        "start_time": "2022-07-27T14:05:34.440Z"
      },
      {
        "duration": 1636,
        "start_time": "2022-07-27T14:05:39.623Z"
      },
      {
        "duration": 91,
        "start_time": "2022-07-27T14:05:41.262Z"
      },
      {
        "duration": 14,
        "start_time": "2022-07-27T14:05:41.355Z"
      },
      {
        "duration": 268,
        "start_time": "2022-07-27T14:05:41.371Z"
      },
      {
        "duration": 812,
        "start_time": "2022-07-27T14:05:41.641Z"
      },
      {
        "duration": 205,
        "start_time": "2022-07-27T14:05:42.456Z"
      },
      {
        "duration": 632,
        "start_time": "2022-07-27T14:05:42.663Z"
      },
      {
        "duration": 1807,
        "start_time": "2022-07-27T14:05:43.303Z"
      },
      {
        "duration": 93,
        "start_time": "2022-07-27T14:05:45.112Z"
      },
      {
        "duration": 29,
        "start_time": "2022-07-27T14:05:45.208Z"
      },
      {
        "duration": 277,
        "start_time": "2022-07-27T14:05:45.240Z"
      },
      {
        "duration": 34,
        "start_time": "2022-07-27T14:05:45.520Z"
      },
      {
        "duration": 3,
        "start_time": "2022-07-27T14:05:45.557Z"
      },
      {
        "duration": 23,
        "start_time": "2022-07-27T14:05:45.562Z"
      },
      {
        "duration": 7125,
        "start_time": "2022-07-27T14:05:45.587Z"
      },
      {
        "duration": 90,
        "start_time": "2022-07-27T14:05:52.715Z"
      },
      {
        "duration": 105,
        "start_time": "2022-07-27T14:05:52.807Z"
      },
      {
        "duration": 20,
        "start_time": "2022-07-27T14:05:52.914Z"
      },
      {
        "duration": 12,
        "start_time": "2022-07-27T14:05:52.937Z"
      },
      {
        "duration": 8,
        "start_time": "2022-07-27T14:05:52.952Z"
      },
      {
        "duration": 303446,
        "start_time": "2022-07-27T14:05:52.962Z"
      },
      {
        "duration": 4,
        "start_time": "2022-07-27T14:10:56.410Z"
      },
      {
        "duration": 187,
        "start_time": "2022-07-27T14:10:56.416Z"
      },
      {
        "duration": 234,
        "start_time": "2022-07-27T14:10:56.606Z"
      },
      {
        "duration": 0,
        "start_time": "2022-07-27T14:10:56.842Z"
      },
      {
        "duration": 1646,
        "start_time": "2022-07-27T14:16:59.346Z"
      },
      {
        "duration": 101,
        "start_time": "2022-07-27T14:17:00.994Z"
      },
      {
        "duration": 19,
        "start_time": "2022-07-27T14:17:01.096Z"
      },
      {
        "duration": 318,
        "start_time": "2022-07-27T14:17:01.119Z"
      },
      {
        "duration": 845,
        "start_time": "2022-07-27T14:17:01.440Z"
      },
      {
        "duration": 212,
        "start_time": "2022-07-27T14:17:02.287Z"
      },
      {
        "duration": 574,
        "start_time": "2022-07-27T14:17:02.504Z"
      },
      {
        "duration": 1628,
        "start_time": "2022-07-27T14:17:03.080Z"
      },
      {
        "duration": 94,
        "start_time": "2022-07-27T14:17:04.710Z"
      },
      {
        "duration": 101,
        "start_time": "2022-07-27T14:17:04.808Z"
      },
      {
        "duration": 302,
        "start_time": "2022-07-27T14:17:04.911Z"
      },
      {
        "duration": 33,
        "start_time": "2022-07-27T14:17:05.215Z"
      },
      {
        "duration": 29,
        "start_time": "2022-07-27T14:17:05.250Z"
      },
      {
        "duration": 16,
        "start_time": "2022-07-27T14:17:05.281Z"
      },
      {
        "duration": 5509,
        "start_time": "2022-07-27T14:17:05.299Z"
      },
      {
        "duration": 3,
        "start_time": "2022-07-27T14:17:10.810Z"
      },
      {
        "duration": 88,
        "start_time": "2022-07-27T14:17:10.815Z"
      },
      {
        "duration": 12,
        "start_time": "2022-07-27T14:17:10.906Z"
      },
      {
        "duration": 90,
        "start_time": "2022-07-27T14:17:10.920Z"
      },
      {
        "duration": 5,
        "start_time": "2022-07-27T14:17:11.012Z"
      },
      {
        "duration": 7,
        "start_time": "2022-07-27T14:17:11.019Z"
      },
      {
        "duration": 7,
        "start_time": "2022-07-27T14:17:11.028Z"
      },
      {
        "duration": 75,
        "start_time": "2022-07-27T14:17:11.037Z"
      },
      {
        "duration": 325,
        "start_time": "2022-07-27T14:17:11.114Z"
      },
      {
        "duration": 0,
        "start_time": "2022-07-27T14:17:11.440Z"
      },
      {
        "duration": 103,
        "start_time": "2022-07-27T14:18:35.723Z"
      },
      {
        "duration": 101,
        "start_time": "2022-07-27T14:19:17.768Z"
      },
      {
        "duration": 14,
        "start_time": "2022-07-27T14:19:25.800Z"
      },
      {
        "duration": 5494,
        "start_time": "2022-07-27T14:19:49.545Z"
      },
      {
        "duration": 59,
        "start_time": "2022-07-27T14:21:10.527Z"
      },
      {
        "duration": 197501,
        "start_time": "2022-07-27T14:21:39.993Z"
      },
      {
        "duration": 1787,
        "start_time": "2022-07-27T14:26:27.590Z"
      },
      {
        "duration": 163,
        "start_time": "2022-07-27T14:26:29.380Z"
      },
      {
        "duration": 19,
        "start_time": "2022-07-27T14:26:29.545Z"
      },
      {
        "duration": 317,
        "start_time": "2022-07-27T14:26:29.567Z"
      },
      {
        "duration": 967,
        "start_time": "2022-07-27T14:26:29.887Z"
      },
      {
        "duration": 259,
        "start_time": "2022-07-27T14:26:30.856Z"
      },
      {
        "duration": 680,
        "start_time": "2022-07-27T14:26:31.117Z"
      },
      {
        "duration": 1719,
        "start_time": "2022-07-27T14:26:31.799Z"
      },
      {
        "duration": 86,
        "start_time": "2022-07-27T14:26:33.520Z"
      },
      {
        "duration": 95,
        "start_time": "2022-07-27T14:26:33.609Z"
      },
      {
        "duration": 294,
        "start_time": "2022-07-27T14:26:33.706Z"
      },
      {
        "duration": 35,
        "start_time": "2022-07-27T14:26:34.004Z"
      },
      {
        "duration": 4,
        "start_time": "2022-07-27T14:26:34.041Z"
      },
      {
        "duration": 10,
        "start_time": "2022-07-27T14:26:34.049Z"
      },
      {
        "duration": 7949,
        "start_time": "2022-07-27T14:26:34.061Z"
      },
      {
        "duration": 3,
        "start_time": "2022-07-27T14:26:42.013Z"
      },
      {
        "duration": 92,
        "start_time": "2022-07-27T14:26:42.019Z"
      },
      {
        "duration": 101,
        "start_time": "2022-07-27T14:26:42.113Z"
      },
      {
        "duration": 20,
        "start_time": "2022-07-27T14:26:42.217Z"
      },
      {
        "duration": 9,
        "start_time": "2022-07-27T14:26:42.239Z"
      },
      {
        "duration": 8,
        "start_time": "2022-07-27T14:26:42.250Z"
      },
      {
        "duration": 17,
        "start_time": "2022-07-27T14:26:42.260Z"
      },
      {
        "duration": 32,
        "start_time": "2022-07-27T14:26:42.280Z"
      },
      {
        "duration": 5153,
        "start_time": "2022-07-27T14:26:42.316Z"
      },
      {
        "duration": 246049,
        "start_time": "2022-07-27T14:26:47.470Z"
      },
      {
        "duration": 1578,
        "start_time": "2022-07-27T18:59:30.081Z"
      },
      {
        "duration": 117,
        "start_time": "2022-07-27T18:59:31.661Z"
      },
      {
        "duration": 11,
        "start_time": "2022-07-27T18:59:31.780Z"
      },
      {
        "duration": 224,
        "start_time": "2022-07-27T18:59:31.793Z"
      },
      {
        "duration": 751,
        "start_time": "2022-07-27T18:59:32.018Z"
      },
      {
        "duration": 175,
        "start_time": "2022-07-27T18:59:32.771Z"
      },
      {
        "duration": 515,
        "start_time": "2022-07-27T18:59:32.947Z"
      },
      {
        "duration": 2067,
        "start_time": "2022-07-27T18:59:33.464Z"
      },
      {
        "duration": 94,
        "start_time": "2022-07-27T18:59:35.535Z"
      },
      {
        "duration": 102,
        "start_time": "2022-07-27T18:59:35.634Z"
      },
      {
        "duration": 200,
        "start_time": "2022-07-27T18:59:35.738Z"
      },
      {
        "duration": 29,
        "start_time": "2022-07-27T18:59:35.940Z"
      },
      {
        "duration": 3,
        "start_time": "2022-07-27T18:59:35.971Z"
      },
      {
        "duration": 5,
        "start_time": "2022-07-27T18:59:35.976Z"
      },
      {
        "duration": 4950,
        "start_time": "2022-07-27T18:59:35.982Z"
      },
      {
        "duration": 94,
        "start_time": "2022-07-27T18:59:40.934Z"
      },
      {
        "duration": 9,
        "start_time": "2022-07-27T18:59:41.123Z"
      },
      {
        "duration": 6,
        "start_time": "2022-07-27T18:59:41.134Z"
      },
      {
        "duration": 6,
        "start_time": "2022-07-27T18:59:41.141Z"
      },
      {
        "duration": 5,
        "start_time": "2022-07-27T18:59:41.148Z"
      },
      {
        "duration": 6,
        "start_time": "2022-07-27T18:59:41.155Z"
      },
      {
        "duration": 9,
        "start_time": "2022-07-27T18:59:41.163Z"
      },
      {
        "duration": 152,
        "start_time": "2022-07-27T18:59:41.174Z"
      },
      {
        "duration": 4488,
        "start_time": "2022-07-27T18:59:41.328Z"
      },
      {
        "duration": 1207,
        "start_time": "2022-07-27T18:59:45.817Z"
      }
    ],
    "colab": {
      "collapsed_sections": [],
      "provenance": [],
      "include_colab_link": true
    },
    "kernelspec": {
      "display_name": "Python 3 (ipykernel)",
      "language": "python",
      "name": "python3"
    },
    "language_info": {
      "codemirror_mode": {
        "name": "ipython",
        "version": 3
      },
      "file_extension": ".py",
      "mimetype": "text/x-python",
      "name": "python",
      "nbconvert_exporter": "python",
      "pygments_lexer": "ipython3",
      "version": "3.9.5"
    },
    "toc": {
      "base_numbering": 1,
      "nav_menu": {},
      "number_sections": true,
      "sideBar": true,
      "skip_h1_title": true,
      "title_cell": "Содержание",
      "title_sidebar": "Contents",
      "toc_cell": true,
      "toc_position": {},
      "toc_section_display": true,
      "toc_window_display": true
    }
  },
  "nbformat": 4,
  "nbformat_minor": 0
}
