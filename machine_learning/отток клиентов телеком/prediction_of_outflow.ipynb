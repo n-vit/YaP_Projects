{
  "cells": [
    {
      "cell_type": "markdown",
      "metadata": {
        "id": "view-in-github",
        "colab_type": "text"
      },
      "source": [
        "<a href=\"https://colab.research.google.com/github/n-vit/YaP_Projects/blob/main/prediction_of_outflow.ipynb\" target=\"_parent\"><img src=\"https://colab.research.google.com/assets/colab-badge.svg\" alt=\"Open In Colab\"/></a>"
      ]
    },
    {
      "cell_type": "markdown",
      "metadata": {
        "id": "W5KQVNktPRdx"
      },
      "source": [
        "## Техническое задание\n",
        "\n",
        "Оператор связи хочет научиться прогнозировать отток клиентов. Если выяснится, что пользователь планирует уйти, ему будут предложены промокоды и специальные условия. \n",
        "\n",
        "Команда оператора собрала персональные данные о некоторых клиентах, информацию об их тарифах и договорах."
      ]
    },
    {
      "cell_type": "markdown",
      "metadata": {
        "id": "35Uh6SIuPSEr"
      },
      "source": [
        "# План работы:\n",
        "\n",
        "1) Обзор, исследовательский анализ и первичная предобработка исходных данных\n",
        "- посмотрим на фреймы, соберем в один общий,\n",
        "- проверим пропуски, дубликаты, форматы значений\n",
        "- проанализируем признаки, оценим объем выборки, взаимозависимости, выбросы, определим целевой признак и признаки, которые не будем использовать в модели\n",
        "\n",
        "2) Изучение подходов по прогнозированию оттока клиентов. Выбор методологии. \n",
        "- уточним задачу, что именно мы будем считать оттоком, проанализируем подходы к прогнозам оттока, которые уже используются на рынке\n",
        "- поскольку нам нужно будет решить задачи классификации, выберем наиболее перспективные модели, которые будем использовать в проекте и оценивать\n",
        "\n",
        "3) Подготовка данных для моделирования и обучение модели \n",
        "- отбор значимых признаков\n",
        "- выделение тестовой выборки (0.25)\n",
        "- категоризация признаков и сокращение разрядности\n",
        "- обучение моделей, подбор гиперпараметров, оценка результатов полученных на кросс-валидации\n",
        "- выбор решения для теста\n",
        "\n",
        "4) Тест модели, оценка эффективности, доработки\n",
        "\n",
        "5) Отчет о выполнении проекта\n",
        "\n",
        "6) Итоговый вывод и рекомендации заказчику. \n"
      ]
    },
    {
      "cell_type": "markdown",
      "metadata": {
        "id": "GdjFMZzD4okV"
      },
      "source": [
        "## Вопросы куратору:\n",
        "- Правильно ли я понимаю задачу - среди клиентов, чей контракт не закончен нужно будет найти похожих на тех, которые закончили сотрудничество - это и будет предсказанный отток? ошибками считаются как не предсказанный отток, так и ложноположительное предсказание. Классифицируются два признака - отток и нет. \n",
        "- Увидел интересное решение https://habr.com/ru/company/rostelecom/blog/444694/ стоит ли попробовать пойти по этому пути, или для учебного проекта это неподъемно? можно ли будет использовать GPU Яндекса?\n",
        "- Аномально много контрактов заключено в 2014, и аномально мало до этого. Что это - промо, ошибки, старт услуги?\n",
        "- Почему с 2013 до 2019 г. вообще не было расторгнуто ни одного контракта, и вообще за 8 лет расторжение контрактов было только в четырех месяцах. В жизни так не бывает. Возможно не хватает данных, или это обучение и \"и так сойдет\"?"
      ]
    },
    {
      "cell_type": "markdown",
      "metadata": {
        "id": "eenpFJYWfcHh"
      },
      "source": [
        "<div class=\"alert alert-success\">\n",
        "<b>✔️ Комментарий тимлида:</b> По твоим вопросам:\n",
        "    \n",
        "1. По сути все верно, модель находит похожие данные и относит их к оттоку, либо наоборот, к лояльному классу. Ошибки бывают первого и второго рода, как ты и написал. У нас простая классификация, класс 0 и 1. Целевая метрика - ROC-AUC.\n",
        "    \n",
        "2. Интересная статья, но боюсь она не впишется в двухнедельный финальный спринт. Мы решаем задачу таким образом: допустим, наш Заказчик ежемесячно планирует оценивать, какие клиенты могут попасть в отток, а какие нет. Посчитав результаты по модели, мы поймем, какие клиенты потенциально отточные, и им можем предложить бонусы и различные промокоды, чтобы повысить лояльность.\n",
        "    \n",
        "В статье есть некоторая аналогия с временным рядом, но здесь мы не рассматриваем такую задачу. Что касается GPU, можно использовать Облако Яндекса или Google Colab. Пока что многие больше работают на Colab.\n",
        "  \n",
        "3. 2014 год — это начало активной фазы работы Телеком компании. Скорее всего в 2013 была небольшая группа клиентов, отлаживали оборудование. \n",
        "    \n",
        "4. Дело в том, что мы работаем с историческими данными, поэтому такая ситуация. Скорее всего Заказчик ранее не обращал на отток клиентов и не заносил данные в базу. Но когда отток стал значительным, данные попали в базу, и записали их все в одну дату. Затем отток стали фиксировать ежемесячно. Это одна из проблем исторических данных, но часть встречается в реальной практике.\n",
        "    \n",
        "</div>"
      ]
    },
    {
      "cell_type": "code",
      "execution_count": null,
      "metadata": {
        "id": "5uE118RFPrZu"
      },
      "outputs": [],
      "source": [
        "import pandas as pd\n",
        "import seaborn as sns\n",
        "import matplotlib.pyplot as plt\n",
        "import numpy as np\n",
        "import plotly.express as px\n",
        "from sklearn.utils import shuffle\n",
        "from sklearn.model_selection import train_test_split, GridSearchCV, cross_val_score, KFold\n",
        "from numpy import argmax \n",
        "\n",
        "from sklearn.preprocessing import OneHotEncoder \n",
        "\n",
        "\n",
        "from sklearn.ensemble import RandomForestClassifier\n",
        "from sklearn.linear_model import LogisticRegression\n",
        "from sklearn.metrics import roc_auc_score, accuracy_score, roc_curve, confusion_matrix, plot_confusion_matrix\n",
        "\n",
        "\n",
        "import lightgbm as lgb\n",
        "\n",
        " \n",
        "import warnings\n",
        "warnings.filterwarnings('ignore')\n",
        "\n",
        "from sklearn.pipeline import make_pipeline\n",
        "from sklearn.preprocessing import MinMaxScaler"
      ]
    },
    {
      "cell_type": "markdown",
      "metadata": {
        "id": "xh-1Gemd8P7d"
      },
      "source": [
        "# Исходные данные\n"
      ]
    },
    {
      "cell_type": "markdown",
      "metadata": {
        "id": "B_ltsnvHPRsW"
      },
      "source": [
        "## Описание услуг\n",
        "Оператор предоставляет два основных типа услуг:\n",
        "\n",
        "- Стационарную телефонную связь. Возможно подключение телефонного аппарата к нескольким линиям одновременно.\n",
        "- Интернет. Подключение может быть двух типов: через телефонную линию (DSL, от англ. digital subscriber line, «цифровая абонентская линия») или оптоволоконный кабель (Fiber optic).\n",
        "\n",
        "Также доступны такие услуги:\n",
        "\n",
        "- Интернет-безопасность: антивирус (DeviceProtection) и блокировка небезопасных сайтов (OnlineSecurity);\n",
        "- Выделенная линия технической поддержки (TechSupport);\n",
        "- Облачное хранилище файлов для резервного копирования данных (OnlineBackup);\n",
        "- Стриминговое телевидение (StreamingTV) и каталог фильмов (StreamingMovies).\n",
        "\n",
        "За услуги клиенты могут платить каждый месяц или заключить договор на 1–2 года. Доступны различные способы расчёта и возможность получения электронного чека."
      ]
    },
    {
      "cell_type": "markdown",
      "metadata": {
        "id": "R4YAas8QPR3O"
      },
      "source": [
        "## Описание данных.\n",
        "\n",
        "Данные состоят из файлов, полученных из разных источников:\n",
        "\n",
        "- contract.csv — информация о договоре;\n",
        "- personal.csv — персональные данные клиента;\n",
        "- internet.csv — информация об интернет-услугах;\n",
        "- phone.csv — информация об услугах телефонии.\n",
        "\n",
        "**Описание полей данных:**\n",
        "\n",
        "- BeginDate – дата начала пользования услугами.\n",
        "- EndDate – дата окончания пользования услугами.\n",
        "- Type – тип оплаты: ежемесячный, годовой и тд.\n",
        "- PaperlessBilling – безналичный расчет.\n",
        "- PaymentMethod – способ оплаты.\n",
        "- MonthlyCharges – ежемесячные траты на услуги.\n",
        "- TotalCharges – всего потрачено денег на услуги.\n",
        "- Dependents – наличие иждивенцев.\n",
        "- Senior Citizen – наличие пенсионного статуса по возрасту.\n",
        "- Partner – наличие супруга(и).\n",
        "- MultipleLines – наличие возможности ведения параллельных линий во время звонка.\n",
        "\n",
        "Во всех файлах столбец customerID содержит код клиента.\n",
        "Информация о договорах актуальна на 1 февраля 2020."
      ]
    },
    {
      "cell_type": "markdown",
      "metadata": {
        "id": "w8VH9RzKfcHz"
      },
      "source": [
        "<div class=\"alert alert-success\">\n",
        "<b>✔️ Комментарий тимлида:</b> Здорово, что добавил описание проекта и обозначения признаков — так постороннему человеку будет проще ознакомиться с работой.\n",
        "    \n",
        "Как рекомендация, можно написать основную цель проекта.\n",
        "    \n",
        "</div>"
      ]
    },
    {
      "cell_type": "markdown",
      "metadata": {
        "id": "R-WEBM2PPSOc"
      },
      "source": [
        "# Исследовательский анализ"
      ]
    },
    {
      "cell_type": "code",
      "execution_count": null,
      "metadata": {
        "id": "U12wEWCOFmN7"
      },
      "outputs": [],
      "source": [
        "try:\n",
        "  from google.colab import drive\n",
        "  drive.mount('/content/drive')\n",
        "  contract = pd.read_csv('/content/drive/MyDrive/final_provider/contract.csv', parse_dates=['BeginDate', 'EndDate'])\n",
        "  personal = pd.read_csv('/content/drive/MyDrive/final_provider/personal.csv')\n",
        "  internet = pd.read_csv('/content/drive/MyDrive/final_provider/internet.csv')\n",
        "  phone = pd.read_csv('/content/drive/MyDrive/final_provider/phone.csv')\n",
        "except:\n",
        "  contract = pd.read_csv('/datasets/final_provider//contract.csv', parse_dates=['BeginDate', 'EndDate'])\n",
        "  personal = pd.read_csv('/datasets/final_provider/personal.csv')\n",
        "  internet = pd.read_csv('/datasets/final_provider/internet.csv')\n",
        "  phone = pd.read_csv('/datasets/final_provider/phone.csv')\n"
      ]
    },
    {
      "cell_type": "code",
      "execution_count": null,
      "metadata": {
        "colab": {
          "base_uri": "https://localhost:8080/",
          "height": 143
        },
        "id": "wzR8TIYkDlmw",
        "outputId": "a2fcf0dd-39e9-449a-b546-29b003301a24"
      },
      "outputs": [
        {
          "data": {},
          "execution_count": 3,
          "metadata": {},
          "output_type": "execute_result"
        }
      ],
      "source": [
        "contract.head(3)"
      ]
    },
    {
      "cell_type": "code",
      "execution_count": null,
      "metadata": {
        "colab": {
          "base_uri": "https://localhost:8080/",
          "height": 326
        },
        "id": "PEf0KgLX9KBA",
        "outputId": "7b52e276-b338-44c1-b470-c0de97c31bba"
      },
      "outputs": [
        {
          "data": {},
          "execution_count": 4,
          "metadata": {},
          "output_type": "execute_result"
        }
      ],
      "source": [
        "df = ((contract.set_index('customerID').join(phone.set_index('customerID')))\\\n",
        "      .join(personal.set_index('customerID')))\\\n",
        "      .join(internet.set_index('customerID'))\n",
        "df.head(3)"
      ]
    },
    {
      "cell_type": "code",
      "execution_count": null,
      "metadata": {
        "id": "Xewalm420zw7"
      },
      "outputs": [],
      "source": [
        "df.info()"
      ]
    },
    {
      "cell_type": "code",
      "execution_count": null,
      "metadata": {
        "colab": {
          "base_uri": "https://localhost:8080/"
        },
        "id": "m6tL53xq3eOR",
        "outputId": "14100b36-813d-4354-9259-8cdc072fc172"
      },
      "outputs": [
        {
          "data": {},
          "execution_count": 6,
          "metadata": {},
          "output_type": "execute_result"
        }
      ],
      "source": [
        "df.query('EndDate == \"No\"')['EndDate'].count()"
      ]
    },
    {
      "cell_type": "markdown",
      "metadata": {
        "id": "9spZCSwr4Dh9"
      },
      "source": [
        "Из 7043 клиентов действующие контракты у 5174, остальные в оттоке. "
      ]
    },
    {
      "cell_type": "code",
      "execution_count": null,
      "metadata": {
        "colab": {
          "base_uri": "https://localhost:8080/"
        },
        "id": "4OkFvcFF6Wum",
        "outputId": "21184243-7e72-4a3a-880e-800e688157ea"
      },
      "outputs": [
        {
          "data": {},
          "execution_count": 7,
          "metadata": {},
          "output_type": "execute_result"
        }
      ],
      "source": [
        "df['EndDate'].unique()"
      ]
    },
    {
      "cell_type": "code",
      "execution_count": null,
      "metadata": {
        "colab": {
          "base_uri": "https://localhost:8080/",
          "height": 625
        },
        "id": "cmeGQvW-9x7s",
        "outputId": "f8e1a045-d44d-4a93-aa60-8f0293b7a344",
        "scrolled": true
      },
      "outputs": [
        {
          "data": {},
          "metadata": {},
          "output_type": "display_data"
        }
      ],
      "source": [
        "display(df.query('EndDate != \"No\"').describe(include='all'))"
      ]
    },
    {
      "cell_type": "markdown",
      "metadata": {
        "id": "dCOTYIGCph3j"
      },
      "source": [
        "- пропуски в данных об интернет-услугах у пользователей присоединенных из фрейма phone\n",
        "- бинарные признаки дополнительных услуг и электронного счета\n",
        "- странная история с общей суммой пополнений. значений меньше чем строк, и формат object\n",
        "- "
      ]
    },
    {
      "cell_type": "markdown",
      "metadata": {
        "id": "MKvh67rmEjts"
      },
      "source": [
        "https://habr.com/ru/company/rostelecom/blog/444694/\n"
      ]
    },
    {
      "cell_type": "markdown",
      "metadata": {
        "id": "nfToX7kagXjc"
      },
      "source": [
        "Добавим бинарный признак ушедшего клиента"
      ]
    },
    {
      "cell_type": "code",
      "execution_count": null,
      "metadata": {
        "id": "0rTm9p-efcID"
      },
      "outputs": [],
      "source": [
        "df['Gone'] = 1\n",
        "df.loc[df['EndDate'] == 'No', 'Gone'] = 0"
      ]
    },
    {
      "cell_type": "code",
      "execution_count": null,
      "metadata": {
        "colab": {
          "base_uri": "https://localhost:8080/",
          "height": 300
        },
        "id": "5iLOkxBRgfAl",
        "outputId": "7a7f9701-9c93-4997-b1f0-6ae7c9f338e7"
      },
      "outputs": [
        {
          "data": {},
          "metadata": {},
          "output_type": "display_data"
        }
      ],
      "source": [
        "display(pd.merge(df.query('Gone == 1')['MonthlyCharges'].describe(), \n",
        "                 df['MonthlyCharges'].describe(), \n",
        "                 left_index=True, \n",
        "                 right_index=True, \n",
        "                 suffixes=(' Gone', ' All')))"
      ]
    },
    {
      "cell_type": "markdown",
      "metadata": {
        "id": "VfDD1z7PgoE9"
      },
      "source": [
        "Да... нас покидают лучшие. Ежемесячные пополнения счета у ушедших клиентов больше среднего.\n",
        "\n",
        "Ядро ушедших клиентов (квартили 25-75) тратят на связь заметно больше. \n"
      ]
    },
    {
      "cell_type": "code",
      "execution_count": null,
      "metadata": {
        "colab": {
          "base_uri": "https://localhost:8080/",
          "height": 265
        },
        "id": "50kWQ21hhPIl",
        "outputId": "33a562b6-ec9d-4a73-c95b-8bf00ca662a1"
      },
      "outputs": [
        {
          "data": {
            "image/png": "[encoded data removed]"
          },
          "metadata": {
            "needs_background": "light"
          },
          "output_type": "display_data"
        }
      ],
      "source": [
        "bins = np.linspace(10, 150, 40)\n",
        "plt.hist(df['MonthlyCharges'], bins, alpha=0.5, label='All')\n",
        "plt.hist(df.query('Gone == 1')['MonthlyCharges'], bins, alpha=0.9, label='Gone')\n",
        "plt.legend(loc='upper right')\n",
        "\n",
        "plt.show()"
      ]
    },
    {
      "cell_type": "markdown",
      "metadata": {
        "id": "LGy0KWFXhRRI"
      },
      "source": [
        "Те кто пополняет баланс минимальной суммой каждый месяц - уходят гораздо реже. Что касается остальных сегментов чека - распределение ушедших идентичное общему. "
      ]
    },
    {
      "cell_type": "markdown",
      "metadata": {
        "id": "Tgo9JeDhiAUO"
      },
      "source": [
        "посмотрим на отток с точки зрения базовых услуг: добавим признак основной услуги: телефон, интернет, или все сразу"
      ]
    },
    {
      "cell_type": "code",
      "execution_count": null,
      "metadata": {
        "id": "P0JbuItwh12A"
      },
      "outputs": [],
      "source": [
        "df['InternetService'].fillna('No',inplace = True) \n",
        "df['Services'] = 'All services' \n",
        "df.loc[(df['InternetService'] != 'No') & (~df.index.isin(phone['customerID'])),\n",
        "            'Services'] = 'Net only' \n",
        "df.loc[(df['InternetService'] == 'No') & (df.index.isin(phone['customerID'])),\n",
        "            'Services'] = 'Phone only' "
      ]
    },
    {
      "cell_type": "code",
      "execution_count": null,
      "metadata": {
        "colab": {
          "base_uri": "https://localhost:8080/",
          "height": 515
        },
        "id": "wkPUzv0DhzHP",
        "outputId": "2cafb764-2393-4fa8-8e13-524953348fa3"
      },
      "outputs": [
        {
          "data": {
            "image/png": "[encoded data removed]"
          },
          "metadata": {},
          "output_type": "display_data"
        },
        {
          "data": {
            "image/png": "[encoded data removed]"
          },
          "metadata": {},
          "output_type": "display_data"
        }
      ],
      "source": [
        "labels = 'All services', 'Net only', 'Phone only'\n",
        "\n",
        "fig1, ax1 = plt.subplots()\n",
        "ax1.pie(pd.merge(df.query('Gone == 1')['Services'].value_counts(), \n",
        "                 df['Services'].value_counts(),\n",
        "                 how='outer', \n",
        "                 left_index=True, \n",
        "                 right_index=True, \n",
        "                 suffixes=(' Gone', ' All'))['Services Gone'], labels=labels, autopct='%1.1f%%')\n",
        "ax1.axis('equal')\n",
        "plt.title(\"Gone clients\")\n",
        "\n",
        "fig2, ax2 = plt.subplots()\n",
        "ax2.pie(pd.merge(df.query('Gone == 1')['Services'].value_counts(), \n",
        "                 df['Services'].value_counts(),\n",
        "                 how='outer', \n",
        "                 left_index=True, \n",
        "                 right_index=True, \n",
        "                 suffixes=(' Gone', ' All'))['Services All'], labels=labels, autopct='%1.1f%%')\n",
        "ax2.axis('equal') \n",
        "plt.title(\"All clients\")\n",
        "plt.show()"
      ]
    },
    {
      "cell_type": "markdown",
      "metadata": {
        "id": "eFXYp0yBiuKm"
      },
      "source": [
        "Никаких открытий. Консервативные пользователи телефонной линии и провайдера тоже менять не любят, а вот потребители комплексных услуг куда-то утекают. Те кто пользуются только интернетом - стабильны. Их доля в оттоке такая же, как в общей выборке.  \n"
      ]
    },
    {
      "cell_type": "markdown",
      "metadata": {
        "id": "68S3uYLyrcKt"
      },
      "source": [
        "Посмотрим на LTV, только сначала разберемся, почему TotalCharges это object"
      ]
    },
    {
      "cell_type": "code",
      "execution_count": null,
      "metadata": {
        "colab": {
          "base_uri": "https://localhost:8080/"
        },
        "id": "BD8vaGHYrmvL",
        "outputId": "f900da7f-e218-485b-dcbc-aa9ca41f9242"
      },
      "outputs": [
        {
          "data": {},
          "execution_count": 14,
          "metadata": {},
          "output_type": "execute_result"
        }
      ],
      "source": [
        "df['TotalCharges'].sort_values().unique()"
      ]
    },
    {
      "cell_type": "markdown",
      "metadata": {
        "id": "8YZeFr4FtKLn"
      },
      "source": [
        "Есть клиенты, у которых пробел в платежах. Клиент есть, а денег нет. "
      ]
    },
    {
      "cell_type": "code",
      "execution_count": null,
      "metadata": {
        "colab": {
          "base_uri": "https://localhost:8080/"
        },
        "id": "Igh1J_jctB64",
        "outputId": "530a70f4-58b2-43e2-a382-63f0cf82b79b"
      },
      "outputs": [
        {
          "data": {},
          "execution_count": 15,
          "metadata": {},
          "output_type": "execute_result"
        }
      ],
      "source": [
        "df.query('TotalCharges == \" \"')['BeginDate'].sort_values().unique()"
      ]
    },
    {
      "cell_type": "markdown",
      "metadata": {
        "id": "volwazlztR-X"
      },
      "source": [
        "Только один месяц регистрации, и он последний во фрейме. Значит просто не успели оплатить. Попадут ли они в отток - вообще непонятно, если их немного - лучше удалить"
      ]
    },
    {
      "cell_type": "code",
      "execution_count": null,
      "metadata": {
        "colab": {
          "base_uri": "https://localhost:8080/"
        },
        "id": "EpYZ_WmjtaNR",
        "outputId": "66c733a1-5b6d-4f33-eb2e-11d47a73b27c"
      },
      "outputs": [
        {
          "data": {},
          "execution_count": 16,
          "metadata": {},
          "output_type": "execute_result"
        }
      ],
      "source": [
        "df.query('TotalCharges == \" \"')['BeginDate'].count()"
      ]
    },
    {
      "cell_type": "code",
      "execution_count": null,
      "metadata": {
        "colab": {
          "base_uri": "https://localhost:8080/"
        },
        "id": "TNtZKEWhtwlq",
        "outputId": "499727a5-ef31-4358-9c75-d7db8c5c41b0",
        "scrolled": true
      },
      "outputs": [
        {
          "data": {},
          "execution_count": 17,
          "metadata": {},
          "output_type": "execute_result"
        }
      ],
      "source": [
        "df = df.query('TotalCharges != \" \"')\n",
        "df['TotalCharges'] = df['TotalCharges'].astype(np.float64)\n",
        "df.shape"
      ]
    },
    {
      "cell_type": "code",
      "execution_count": null,
      "metadata": {
        "colab": {
          "base_uri": "https://localhost:8080/",
          "height": 265
        },
        "id": "E4S0CZMrjQSe",
        "outputId": "bc456ca1-6728-40c4-a30a-39e0e85b7288"
      },
      "outputs": [
        {
          "data": {
            "image/png": "[encoded data removed]"
          },
          "metadata": {
            "needs_background": "light"
          },
          "output_type": "display_data"
        }
      ],
      "source": [
        "bins = np.linspace(10, 1000, 40)\n",
        "plt.hist(df['TotalCharges'], bins, alpha=0.5, label='All')\n",
        "plt.hist(df.query('Gone == 1')['TotalCharges'], bins, alpha=0.9, label='Gone')\n",
        "plt.legend(loc='upper right')\n",
        "\n",
        "plt.show()"
      ]
    },
    {
      "cell_type": "markdown",
      "metadata": {
        "id": "d5AeEOY6jt_a"
      },
      "source": [
        "А вот c LTV все ровно. Рельеф гистограммы ушедших клиентов повторяет общий, это значит, что в отток попадают все клиенты, независимо от их времени сотрудничества. А еще - аномалия в самом дешевом сегменте при увеличении масштаба пропадает. Это значит что клиентов, которые пополняют минималку каждый месяц, тоже нужно беречь. С точки зрения ценности за все время сотрудничества - они важны не менее остальных. "
      ]
    },
    {
      "cell_type": "markdown",
      "metadata": {
        "id": "7KbMLnRTio5K"
      },
      "source": [
        "Посмотрим на время сотрудничества:\n"
      ]
    },
    {
      "cell_type": "code",
      "execution_count": null,
      "metadata": {
        "colab": {
          "base_uri": "https://localhost:8080/"
        },
        "id": "sa11JTXWrGy_",
        "outputId": "0a67ffdf-9c7b-440c-9aa6-d8bde90f7006"
      },
      "outputs": [
        {
          "data": {},
          "execution_count": 19,
          "metadata": {},
          "output_type": "execute_result"
        }
      ],
      "source": [
        "df.query('EndDate != \"No\"')['EndDate'].sort_values().unique()"
      ]
    },
    {
      "cell_type": "code",
      "execution_count": null,
      "metadata": {
        "id": "MnL8_8Bpje2r"
      },
      "outputs": [],
      "source": [
        "df['duration'] = pd.to_datetime('2020-02-01', format='%Y-%m-%d') - df['BeginDate']\n",
        "df.loc[df['EndDate'] != 'No','EndDate']['duration'] = pd.to_datetime(df.loc[df['EndDate'] != 'No','EndDate'])- df['BeginDate']\n",
        "df['duration'] = pd.to_numeric(df['duration'].dt.days, downcast='integer')"
      ]
    },
    {
      "cell_type": "code",
      "execution_count": null,
      "metadata": {
        "colab": {
          "base_uri": "https://localhost:8080/",
          "height": 300
        },
        "id": "y6Lg3R4qkljX",
        "outputId": "5f8e2c33-bfea-4356-9f21-020ff8a6ec58"
      },
      "outputs": [
        {
          "data": {},
          "execution_count": 21,
          "metadata": {},
          "output_type": "execute_result"
        }
      ],
      "source": [
        "df.describe()"
      ]
    },
    {
      "cell_type": "code",
      "execution_count": null,
      "metadata": {
        "colab": {
          "base_uri": "https://localhost:8080/",
          "height": 265
        },
        "id": "5H2SO359tJh8",
        "outputId": "a1eca2b3-3960-44db-f51a-55d120e4188f"
      },
      "outputs": [
        {
          "data": {
            "image/png": "[encoded data removed]"
          },
          "metadata": {
            "needs_background": "light"
          },
          "output_type": "display_data"
        }
      ],
      "source": [
        "bins = np.linspace(10, 2300, 70)\n",
        "plt.hist(df.query('Gone == 0')['duration'], bins, alpha=0.5, label='Stay')\n",
        "plt.hist(df.query('Gone == 1')['duration'], bins, alpha=0.9, label='Gone')\n",
        "plt.legend(loc='upper right')\n",
        "\n",
        "plt.show()"
      ]
    },
    {
      "cell_type": "markdown",
      "metadata": {
        "id": "ftZgkLOfz4PH"
      },
      "source": [
        "Вот такая история - самый высокий риск оттока в первые полгода сотрудничества. Зато если удалось удержат - то потом клиенты остаются надолго. (хорошо бы если так, но мы помним что мы отток начали недавно считать...)"
      ]
    },
    {
      "cell_type": "markdown",
      "metadata": {
        "id": "XJi0OTsolSuG"
      },
      "source": [
        "Разберемся с услугами, только сначала заполним пропуски, которые появились из-за \"телефонщиков\""
      ]
    },
    {
      "cell_type": "code",
      "execution_count": null,
      "metadata": {
        "id": "v1y4FfEdlMSL"
      },
      "outputs": [],
      "source": [
        "df[['MultipleLines',\n",
        "   'InternetService',\n",
        "   'OnlineSecurity',\n",
        "   'OnlineBackup',\n",
        "   'DeviceProtection',\n",
        "   'TechSupport',\n",
        "   'StreamingTV',\n",
        "   'StreamingMovies']].fillna('No',inplace = True)"
      ]
    },
    {
      "cell_type": "code",
      "execution_count": null,
      "metadata": {
        "colab": {
          "base_uri": "https://localhost:8080/",
          "height": 175
        },
        "id": "l8r_BHc3ngNE",
        "outputId": "78a19945-260d-4801-9ee6-b061123e321c"
      },
      "outputs": [
        {
          "data": {},
          "metadata": {},
          "output_type": "display_data"
        }
      ],
      "source": [
        "display(df.query('Gone == 0')[['MultipleLines',\n",
        "   'InternetService',\n",
        "   'OnlineSecurity',\n",
        "   'OnlineBackup',\n",
        "   'DeviceProtection',\n",
        "   'TechSupport',\n",
        "   'StreamingTV',\n",
        "   'StreamingMovies']].describe())"
      ]
    },
    {
      "cell_type": "code",
      "execution_count": null,
      "metadata": {
        "colab": {
          "base_uri": "https://localhost:8080/",
          "height": 175
        },
        "id": "GRKrrAjo2Lrr",
        "outputId": "7f12260a-1508-47db-db56-317eb9776700"
      },
      "outputs": [
        {
          "data": {},
          "metadata": {},
          "output_type": "display_data"
        }
      ],
      "source": [
        "display(df.query('Gone == 1')[['MultipleLines',\n",
        "   'InternetService',\n",
        "   'OnlineSecurity',\n",
        "   'OnlineBackup',\n",
        "   'DeviceProtection',\n",
        "   'TechSupport',\n",
        "   'StreamingTV',\n",
        "   'StreamingMovies']].describe())"
      ]
    },
    {
      "cell_type": "markdown",
      "metadata": {
        "id": "ca8-a-gE3Kik"
      },
      "source": [
        "Разница есть:\n",
        "-  Ушедшие клиенты предпочитали оптику, а оставшиеся сидят на DSL, \n",
        "- Ушедшим гораздо реже требуется онлайн-бэкап\n",
        "\n",
        "Доли остальных услуг вполне сопоставимы. "
      ]
    },
    {
      "cell_type": "markdown",
      "metadata": {
        "id": "q5V4HK2I4HtV"
      },
      "source": [
        "## Выводы исследовательского анализа:\n",
        "\n",
        "1. Отток стали замерять только последние 4 месяца, при этом в первый месяц замера внесли все данные за предыдущие периоды. \n",
        "\n",
        "2. Ушедшие клиенты в среднем тратили больше денег на связь ежемесячно, но LTV их ниже, за счет более короткого времени сотрудничества\n",
        "\n",
        "3. Критическое время сотрудничества - первые полгода. Как правило, клиенты преодолевающие этот барьер остаются надолго\n",
        "\n",
        "4. Уходящие клиенты в целом более разборчивы. Предпочитают быстрый интернет и гораздо реже пользуются только телефоном. Реже используют онлайн-бэкап. \n",
        "\n",
        "Стоит провести конкурентный анализ по сегментам оптоволоконного интернета и комплексным услугам связи, возможно мы не в рынке, и удерживаем только консервативных клиентов, не рассматривающих другие предложения. Высокий отток в первые полгода может свидетельствовать о проблемах с качеством услуг, относительно предыдущего провайдера. \n",
        "\n",
        "\n",
        "Фрейм содержит качественную информацию, признаков достаточно, чтобы обучить модели классификации и попробовать решить задачу предсказания оттока по информации о поведении и предпочтениях клиента.  "
      ]
    },
    {
      "cell_type": "markdown",
      "metadata": {
        "id": "VcexNQFlloW5"
      },
      "source": [
        "## Подготовка и обучение модели\n",
        "\n",
        "Разберемся с признакамии, и определим, какие из них нужно оставить:\n",
        "\n",
        "- Вместо даты начала и окончания сотрудничества оставим столбец с данными о его продолжительности.\n",
        "- Удалим столбец с сервисами - он помог в аналитике, но дублирует данные других признаков\n",
        "- Целевым признаком будет столбец Gone"
      ]
    },
    {
      "cell_type": "code",
      "execution_count": null,
      "metadata": {
        "id": "6SqWYFekkljq"
      },
      "outputs": [],
      "source": [
        "df.drop(['BeginDate', 'EndDate', 'Services'], axis = 1, inplace = True)"
      ]
    },
    {
      "cell_type": "markdown",
      "metadata": {
        "id": "olyUL2NM2ZNo"
      },
      "source": [
        "Выделим тестовую выборку:"
      ]
    },
    {
      "cell_type": "code",
      "execution_count": null,
      "metadata": {
        "id": "O7VRHZ1G18c9"
      },
      "outputs": [],
      "source": [
        "train, test = train_test_split(df, test_size = 0.25, random_state = 120922)"
      ]
    },
    {
      "cell_type": "markdown",
      "metadata": {
        "id": "uiAsiYFC2qtz"
      },
      "source": [
        "Закодируем категориальные переменные"
      ]
    },
    {
      "cell_type": "code",
      "execution_count": null,
      "metadata": {
        "id": "hAsvoHLMYhQy"
      },
      "outputs": [],
      "source": [
        "train = pd.get_dummies(train, drop_first = True)"
      ]
    },
    {
      "cell_type": "markdown",
      "metadata": {
        "id": "ekthZ2_0YYsv"
      },
      "source": [
        "и сократим разрядность, там где это возможно"
      ]
    },
    {
      "cell_type": "code",
      "execution_count": null,
      "metadata": {
        "id": "u2yBeAgNXsdH"
      },
      "outputs": [],
      "source": [
        "df_float = train.select_dtypes(include=['float']) \n",
        "df_float = df_float.apply(pd.to_numeric,downcast='float')\n",
        "train[df_float.columns] = df_float\n",
        "\n",
        "df_int = train.select_dtypes(include=['int']) \n",
        "df_int = df_int.apply(pd.to_numeric,downcast='unsigned') \n",
        "train[df_int.columns] = df_int"
      ]
    },
    {
      "cell_type": "code",
      "execution_count": null,
      "metadata": {
        "id": "gWJUS-Nl03YW"
      },
      "outputs": [],
      "source": [
        "train.info()"
      ]
    },
    {
      "cell_type": "markdown",
      "metadata": {
        "id": "PxOBNSeNY3iD"
      },
      "source": [
        "Выглядит неплохо, сделаем то же с тестовой выборкой"
      ]
    },
    {
      "cell_type": "code",
      "execution_count": null,
      "metadata": {
        "id": "obIQll1aZASX"
      },
      "outputs": [],
      "source": [
        "test = pd.get_dummies(test, drop_first = True)\n",
        "df_float = test.select_dtypes(include=['float']) \n",
        "df_float = df_float.apply(pd.to_numeric,downcast='float')\n",
        "test[df_float.columns] = df_float\n",
        "\n",
        "df_int = test.select_dtypes(include=['int']) \n",
        "df_int = df_int.apply(pd.to_numeric,downcast='unsigned') \n",
        "test[df_int.columns] = df_int\n",
        "test.info()"
      ]
    },
    {
      "cell_type": "markdown",
      "metadata": {
        "id": "Th3X3lYaZleS"
      },
      "source": [
        "Количество признаков и их порядок во фрейме сохранился, Осталось отделить таргет и фичи, и можно приступать к работе с моделями"
      ]
    },
    {
      "cell_type": "code",
      "execution_count": null,
      "metadata": {
        "colab": {
          "base_uri": "https://localhost:8080/",
          "height": 850
        },
        "id": "ZuYGiOZo8Uzu",
        "outputId": "3efcfc91-cdca-4537-ff1d-33659e545540"
      },
      "outputs": [
        {
          "data": {
            "image/png": "[encoded data removed]"
          },
          "metadata": {
            "needs_background": "light"
          },
          "output_type": "display_data"
        }
      ],
      "source": [
        "pearson = abs(df.corr())\n",
        "plt.figure(figsize=(15,15))\n",
        "sns.heatmap(pearson, vmax=1, square=True,annot=True,cmap='autumn_r')\n",
        "\n",
        "plt.title('Корреляция между различными признаками')\n",
        "plt.show()"
      ]
    },
    {
      "cell_type": "code",
      "execution_count": null,
      "metadata": {
        "id": "tkBKA43LbE_W"
      },
      "outputs": [],
      "source": [
        "df.drop(['TotalCharges'], axis = 1, inplace = True)"
      ]
    },
    {
      "cell_type": "code",
      "execution_count": null,
      "metadata": {
        "id": "GHcaQ6xQaD49"
      },
      "outputs": [],
      "source": [
        "features_train = train.drop('Gone', axis = 1)\n",
        "target_train = train['Gone']\n",
        "\n",
        "features_test = test.drop('Gone', axis = 1)\n",
        "target_test = test['Gone']\n",
        "\n",
        "print('Обучающая выборка:', features_train.shape)\n",
        "print('Тестовая выборка', features_test.shape)\n"
      ]
    },
    {
      "cell_type": "markdown",
      "metadata": {
        "id": "LPu8qG9u9S7t"
      },
      "source": [
        "<div class=\"alert alert-info\"> <b>ℹ️ Комментарий студента: </b> \n",
        "\n",
        "Добавил палитру с корреляцией на категоризированном фрейме (train). На мой взгляд ничего критичного:\n",
        "\n",
        "- Общая выручка от клиента логично в высокой зависимости от продолжительности сотрудничества (0,89). **Нужно ли удалять один из этих признаков, и если да - как определить какой из них оставить?**\n",
        "\n",
        "- Ежемесячные платежи в высокоц корреляции того, подключен ли быстрый интернет по оптике, и вообще подключен ли интернет\n",
        "- Есть зависимость между продолжительностью сотрудничества и типом оплаты\n",
        "\n",
        "Для целевого признака можно выделить признаки с заметной корреляцией:\n",
        "- наличие быстрого интернета\n",
        "- тип оплаты\n",
        "- метод доставки чека\n",
        "\n",
        "При этом максимальный коэффициент корреляции не превышает 0,31, а это нижняя граница между слабой и заметной зоной корреляции. \n",
        "\n",
        "**Ниже добавил масштабирование признаков**\n",
        " </div>"
      ]
    },
    {
      "cell_type": "code",
      "execution_count": null,
      "metadata": {
        "id": "xbFjBrH6F5_9"
      },
      "outputs": [],
      "source": [
        "scaler = MinMaxScaler(feature_range=(0, 1))\n",
        "scaler.fit(features_train)\n",
        "\n",
        "features_train = scaler.transform(features_train)\n",
        "features_test = scaler.transform(features_test)"
      ]
    },
    {
      "cell_type": "markdown",
      "metadata": {
        "id": "keXNF-ARron6"
      },
      "source": [
        "## Логистическая регрессия"
      ]
    },
    {
      "cell_type": "code",
      "execution_count": null,
      "metadata": {
        "id": "Mxu1MwdDpMKE"
      },
      "outputs": [],
      "source": [
        "parameters = {\n",
        "             'penalty' : ['l1','l2'], \n",
        "             'C'       : np.logspace(-3,3,7),\n",
        "             'solver'  : ['newton-cg', 'lbfgs', 'liblinear'],}\n",
        "lr_model = LogisticRegression()\n",
        "lr_model = GridSearchCV(lr_model,                    \n",
        "                     param_grid = parameters,   \n",
        "                     scoring='roc_auc',      \n",
        "                     cv=5)        "
      ]
    },
    {
      "cell_type": "code",
      "execution_count": null,
      "metadata": {
        "colab": {
          "base_uri": "https://localhost:8080/"
        },
        "id": "1PE0Juu0pZg-",
        "outputId": "5f675401-3444-4634-9d42-5b6d0dbd328e"
      },
      "outputs": [
        {
          "data": {},
          "execution_count": 37,
          "metadata": {},
          "output_type": "execute_result"
        }
      ],
      "source": [
        "'''\n",
        "%%time\n",
        "lr_model.fit(features_train,target_train)\n",
        "'''"
      ]
    },
    {
      "cell_type": "markdown",
      "metadata": {
        "id": "YegpTJ_9dvdF"
      },
      "source": [
        "Вывод результата:\n",
        "\n",
        "```\n",
        "CPU times: user 11.9 s, sys: 9.02 s, total: 20.9 s\n",
        "Wall time: 10.9 s\n",
        "GridSearchCV(cv=5, estimator=LogisticRegression(),\n",
        "             param_grid={'C': array([1.e-03, 1.e-02, 1.e-01, 1.e+00, 1.e+01, 1.e+02, 1.e+03]),\n",
        "                         'penalty': ['l1', 'l2'],\n",
        "                         'solver': ['newton-cg', 'lbfgs', 'liblinear']},\n",
        "             scoring='roc_auc')\n",
        "```\n",
        "\n"
      ]
    },
    {
      "cell_type": "code",
      "execution_count": null,
      "metadata": {
        "id": "9V9fAX3BpiSI"
      },
      "outputs": [],
      "source": [
        "lr_prediction_proba = lr_model.predict_proba(features_train)[:,1]\n",
        "lr_prediction = lr_model.predict(features_train)\n",
        "lr_auc_roc = cross_val_score(lr_model, \n",
        "                             features_train, \n",
        "                             target_train, cv=5, \n",
        "                             scoring = 'roc_auc').mean()\n",
        "lr_acc = cross_val_score(lr_model, \n",
        "                         features_train, \n",
        "                         target_train, cv=5, \n",
        "                         scoring = 'accuracy').mean()\n",
        "\n",
        "best_params_lr = lr_model.best_params_\n",
        "\n",
        "print('Лучшие параметры для логистической регрессии на кросс-валидации =', best_params_lr)\n",
        "print()\n",
        "print('Логистическая регрессия, auc_roc:',lr_auc_roc )\n",
        "print('Логистическая регрессия, accuracy:',lr_acc )"
      ]
    },
    {
      "cell_type": "markdown",
      "metadata": {
        "id": "mxwftb0OdFoG"
      },
      "source": [
        "Вывод результатов:\n",
        "\n",
        "```\n",
        "Лучшие параметры для логистической регрессии на кросс-валидации = {'C': 1000.0, 'penalty': 'l1', 'solver': 'liblinear'}\n",
        "\n",
        "Логистическая регрессия, auc_roc: 0.8371770849507836\n",
        "Логистическая регрессия, accuracy: 0.800152342239449\n",
        "```\n",
        "\n"
      ]
    },
    {
      "cell_type": "markdown",
      "metadata": {
        "id": "TNopWo88wLFI"
      },
      "source": [
        "Результат на кросс-валидации на \"четверку\" - уже неплохо"
      ]
    },
    {
      "cell_type": "markdown",
      "metadata": {
        "id": "P9pIdkZA2W0H"
      },
      "source": [
        "<div class=\"alert alert-success\">\n",
        "<b>✔️ Комментарий ревьювера:</b> Неплохой результат для логистической регрессии!\n",
        "      \n",
        "</div>"
      ]
    },
    {
      "cell_type": "markdown",
      "metadata": {
        "id": "WICrsvQD2W0H"
      },
      "source": [
        "<div class=\"alert alert-danger\">\n",
        "<b>🚫 Комментарий ревьювера:</b> Нужно поправить расчет метрик на выборке train — для этого нужно применять кросс-валидацию. Поскольку ты используешь GridSearchCV, для метрики roc-auc можно посмотреть так:\n",
        "    \n",
        "    roc_auc_lr = lr_model.best_score_\n",
        "    \n",
        "Либо можно посчитать на кросс-валидации с помощью функции cross_val_score:\n",
        "    \n",
        "    roc_auc_lr = cross_val_score(model_lr, features_train, target_train, cv=5, scoring = 'roc_auc').mean()\n",
        "    \n",
        "https://scikit-learn.org/stable/modules/generated/sklearn.model_selection.cross_val_score.html\n",
        "    \n",
        "Для accuracy также нужно посчитать через функцию cross_val_score.\n",
        "    \n",
        "Все дело в том, что модель уже «видела» выборку train, поэтому качество предсказания выше. В случае линейных моделей это не сильно сказывается, но решающие деревья и бустинги показывают слишком оптимистичные результаты.\n",
        "</div>"
      ]
    },
    {
      "cell_type": "markdown",
      "metadata": {
        "id": "KxrZIAK2Dr7j"
      },
      "source": [
        "<div class=\"alert alert-info\"> <b>ℹ️ Комментарий студента: </b> \n",
        "Исправил, спасибо\n",
        " </div>"
      ]
    },
    {
      "cell_type": "markdown",
      "metadata": {
        "id": "vUVpgmIBZJnA"
      },
      "source": [
        "<div class=\"alert alert-success\">\n",
        "<b>✔️ Комментарий ревьювера v2:</b> Да, отлично!\n",
        "    \n",
        "</div>"
      ]
    },
    {
      "cell_type": "markdown",
      "metadata": {
        "id": "wZVLSTUtZJnB"
      },
      "source": [
        "<div class=\"alert alert-success\">\n",
        "<b>✔️ Комментарий ревьювера v2:</b> Далее проверял работу локально.\n",
        "    \n",
        "</div>"
      ]
    },
    {
      "cell_type": "markdown",
      "metadata": {
        "id": "-u1YwnR7phbQ"
      },
      "source": [
        "### Случайный лес"
      ]
    },
    {
      "cell_type": "code",
      "execution_count": null,
      "metadata": {
        "id": "HcCClcnIjyw5"
      },
      "outputs": [],
      "source": [
        "rfc_model = GridSearchCV(RandomForestClassifier(criterion = 'entropy', \n",
        "                                                class_weight='balanced'),{\n",
        "                            'max_depth': range(3,15,3),\n",
        "                            'n_estimators': range(10,100, 10),\n",
        "                            'min_samples_split' : range(4,28,4),\n",
        "                            'min_samples_leaf' : range(3,13,2)},\n",
        "                             cv = 5,\n",
        "                             scoring = 'roc_auc',\n",
        "                              n_jobs=-1)"
      ]
    },
    {
      "cell_type": "code",
      "execution_count": null,
      "metadata": {
        "colab": {
          "base_uri": "https://localhost:8080/"
        },
        "id": "SeF4Cq-Tj-if",
        "outputId": "8bc4e86e-1251-48cc-8793-a868e99c41d9"
      },
      "outputs": [
        {
          "data": {},
          "execution_count": 40,
          "metadata": {},
          "output_type": "execute_result"
        }
      ],
      "source": [
        "%%time\n",
        "rfc_model.fit(features_train,target_train)"
      ]
    },
    {
      "cell_type": "markdown",
      "metadata": {
        "id": "RgzS4_SQibWx"
      },
      "source": [
        "\n",
        "Вывод результата:\n",
        "\n",
        "```\n",
        "CPU times: user 51 s, sys: 2.88 s, total: 53.9 s\n",
        "Wall time: 16min 44s\n",
        "GridSearchCV(cv=5,\n",
        "             estimator=RandomForestClassifier(class_weight='balanced',\n",
        "                                              criterion='entropy'),\n",
        "             n_jobs=-1,\n",
        "             param_grid={'max_depth': range(3, 15, 3),\n",
        "                         'min_samples_leaf': range(3, 13, 2),\n",
        "                         'min_samples_split': range(4, 28, 4),\n",
        "                         'n_estimators': range(10, 100, 10)},\n",
        "             scoring='roc_auc')\n",
        "```\n",
        "\n"
      ]
    },
    {
      "cell_type": "code",
      "execution_count": null,
      "metadata": {
        "id": "JluJ_1g0k4Vr"
      },
      "outputs": [],
      "source": [
        "best_params_rfc= rfc_model.best_params_"
      ]
    },
    {
      "cell_type": "code",
      "execution_count": null,
      "metadata": {
        "id": "srehVjJBo7ey"
      },
      "outputs": [],
      "source": [
        "%%time\n",
        "rfc_model = RandomForestClassifier(**best_params_rfc, \n",
        "                                   random_state=120922)\n",
        "\n",
        "rfc_model.fit(features_train, target_train)\n",
        "\n",
        "rfc_prediction_proba = rfc_model.predict_proba(features_train)[:,1]\n",
        "rfc_predictions = rfc_model.predict(features_train)\n",
        "\n",
        "\n",
        "rfc_roc = cross_val_score(rfc_model, features_train, target_train, cv=5, scoring = 'roc_auc').mean()\n",
        "rfc_acc = cross_val_score(rfc_model, features_train, target_train, cv=5, scoring = 'accuracy').mean()\n",
        "\n",
        "print('Лучшие параметры для случайного леса на кросс-валидации =', best_params_rfc)\n",
        "print()\n",
        "print('Случайный лес, auc_roc:',rfc_roc )\n",
        "print('Случайный лес, accuracy:',rfc_acc)"
      ]
    },
    {
      "cell_type": "markdown",
      "metadata": {
        "id": "0Q1_kPNgiidK"
      },
      "source": [
        "Вывод результата\n",
        "\n",
        "```\n",
        "Лучшие параметры для случайного леса на кросс-валидации = {'max_depth': 12, 'min_samples_leaf': 3, 'min_samples_split': 16, 'n_estimators': 60}\n",
        "\n",
        "Случайный лес, auc_roc: 0.8738316833105919\n",
        "Случайный лес, accuracy: 0.8357977283559809\n",
        "CPU times: user 2.93 s, sys: 5.56 ms, total: 2.94 s\n",
        "Wall time: 2.94 s\n",
        "```\n",
        "\n"
      ]
    },
    {
      "cell_type": "markdown",
      "metadata": {
        "id": "7AeJHqSYx4lo"
      },
      "source": [
        "~Случайный лес долго учился, но зато результат превзошел все ожидания 0,95 AUC-ROC~\n",
        "\n",
        "Стало правдоподобнее. 0,87 - вполне вписывается в условия задачи\n",
        "\n"
      ]
    },
    {
      "cell_type": "markdown",
      "metadata": {
        "id": "9bd5LHyfh22t"
      },
      "source": [
        "### Градиентный бустинг"
      ]
    },
    {
      "cell_type": "code",
      "execution_count": null,
      "metadata": {
        "colab": {
          "base_uri": "https://localhost:8080/"
        },
        "id": "v57Rrr6shuk2",
        "outputId": "3ad00957-c714-49ac-ad22-379aab48799b",
        "scrolled": true
      },
      "outputs": [
        {
          "data": {},
          "execution_count": 43,
          "metadata": {},
          "output_type": "execute_result"
        }
      ],
      "source": [
        "estimator = lgb.LGBMClassifier(class_weight='balanced', \n",
        "                               boosting_type = 'gbdt', \n",
        "                               objective='binary',\n",
        "                               random_state=120922, \n",
        "                               reg_alpha = 0, \n",
        "                               metric = 'auc', \n",
        "                               max_depth = 1, silent=True)\n",
        "param_grid = { 'learning_rate': [0.01, 0.1 ,0.5], 'n_estimators': [2,10,60], 'min_child_samples' : [10,50,100]}\n",
        "lgbm_model = GridSearchCV(estimator, param_grid, cv=5, scoring='roc_auc')\n",
        "\n",
        "lgbm_model.fit(features_train, target_train) "
      ]
    },
    {
      "cell_type": "markdown",
      "metadata": {
        "id": "fiX5yMToiorl"
      },
      "source": [
        "Вывод результата\n",
        "\n",
        "```\n",
        "GridSearchCV(cv=5,\n",
        "             estimator=LGBMClassifier(class_weight='balanced', max_depth=1,\n",
        "                                      metric='auc', objective='binary',\n",
        "                                      random_state=120922, reg_alpha=0),\n",
        "             param_grid={'learning_rate': [0.01, 0.1, 0.5],\n",
        "                         'min_child_samples': [10, 50, 100],\n",
        "                         'n_estimators': [2, 10, 60]},\n",
        "             scoring='roc_auc')\n",
        "```\n",
        "\n"
      ]
    },
    {
      "cell_type": "code",
      "execution_count": null,
      "metadata": {
        "id": "1sdxUgoih2E7"
      },
      "outputs": [],
      "source": [
        "%%time\n",
        "lgbm_prediction_proba = lgbm_model.predict_proba(features_train)[:,1]\n",
        "lgbm_prediction = lgbm_model.predict(features_train)\n",
        "lgbm_roc = lgbm_model.best_score_\n",
        "lgbm_acc = cross_val_score(lgbm_model, features_train, target_train, cv=5, scoring = 'accuracy').mean()\n",
        "\n",
        "best_params_lgbm = lgbm_model.best_params_\n",
        "print('Лучшие параметры для градиентного бустинга на кросс-валидации =', best_params_lgbm)\n",
        "print()\n",
        "print('Градиентный бустинг auc_roc:',lgbm_roc )\n",
        "print('Градиентный бустинг accuracy:',lgbm_acc )"
      ]
    },
    {
      "cell_type": "markdown",
      "metadata": {
        "id": "oeb8HaPqis9S"
      },
      "source": [
        "Вывод результата\n",
        "\n",
        "```\n",
        "Лучшие параметры для градиентного бустинга на кросс-валидации = {'learning_rate': 0.5, 'min_child_samples': 100, 'n_estimators': 60}\n",
        "\n",
        "Градиентный бустинг auc_roc: 0.8852513882474178\n",
        "Градиентный бустинг accuracy: 0.7806242974180957\n",
        "CPU times: user 24.7 s, sys: 147 ms, total: 24.8 s\n",
        "Wall time: 12.8 s\n",
        "```\n",
        "\n"
      ]
    },
    {
      "cell_type": "markdown",
      "metadata": {
        "id": "F9Z67e4hxQM9"
      },
      "source": [
        "~Бустинг показал результат ниже, чем случайный лес.~\n",
        "\n",
        "А вот и нет. Бустинг закономерно победил\n",
        "\n",
        "**По результатам исследования трех моделей на кросс-валидации лучшие результаты показал градиентный бустинг LightGBM. Его и оставим для дальнейшего тестирования**"
      ]
    },
    {
      "cell_type": "markdown",
      "metadata": {
        "id": "yqNeZDXnxxwr"
      },
      "source": [
        "## Проверяем качество лучшей модели на тестовой выборке"
      ]
    },
    {
      "cell_type": "code",
      "execution_count": null,
      "metadata": {
        "id": "FTJ_-csPyPq_"
      },
      "outputs": [],
      "source": [
        " %%time\n",
        "test_prediction_proba = lgbm_model.predict_proba(features_test)[:,1]\n",
        "test_prediction = lgbm_model.predict(features_test)\n",
        "\n",
        "test_roc = roc_auc_score(target_test, test_prediction_proba)\n",
        "test_acc = accuracy_score(target_test, test_prediction)\n",
        "\n",
        "print('Градиентный бустинг на тестовой выборке auc_roc:',test_roc )\n",
        "print('Градиентный бустинг на тестовой выборке accuracy:',test_acc )"
      ]
    },
    {
      "cell_type": "markdown",
      "metadata": {
        "id": "wWEiSI6tiyd2"
      },
      "source": [
        "Вывод результата\n",
        "\n",
        "```\n",
        "Градиентный бустинг на тестовой выборке auc_roc: 0.8858767309348705\n",
        "Градиентный бустинг на тестовой выборке accuracy: 0.7895335608646189\n",
        "CPU times: user 24.5 ms, sys: 1.64 ms, total: 26.1 ms\n",
        "Wall time: 16.9 ms\n",
        "```\n",
        "\n"
      ]
    },
    {
      "cell_type": "markdown",
      "metadata": {
        "id": "JtCAQKTM3yex"
      },
      "source": [
        "На тестовой выборке бустинг показал 0,89 auc_roc, что соответвует высшей оценке 6sp в системе оценки заказчика, при минимальном пороге 4 sp. \n",
        "\n",
        "Модель справилась и выдала ожидаемый результат. "
      ]
    },
    {
      "cell_type": "markdown",
      "metadata": {
        "id": "eCeOj5ZyzAGf"
      },
      "source": [
        "# Отчет о выполнении проекта:\n",
        "\n",
        "\n",
        "<div class=\"alert alert-info\"> <b>ℹ️ Комментарий студента v2: </b> \n",
        "\n",
        "**Все пункты намеченного плана были выполнены**\n",
        "    \n",
        "Трудностей при выполнении проекта не возникло, т.к. данные хорошо структурированы и логичны. Аномалий, ошибок или значительных пропусков в данных не оказалось, поэтому проект был выполнен последовательно. \n",
        "    \n",
        "К ключевым шагам проекта, которые позволили успешно решить задачу стоит отнести:\n",
        "- выделение целевого признака, \n",
        "- выбор признаков для обучения модели, с учетом корреляции и структуры данных (отказ от использования временных рядов и данных об общей выручке по клиенту, в пользу продолжительности сотрудничества)\n",
        "- выбор моделей классификаторов их обучение и анализ результатов. \n",
        "\n",
        "\n",
        " </div>\n",
        "\n",
        "\n",
        "Исследовательский анализ показал что данные об оттоке не собирались в течение всего временного ряда фрейма. \n",
        "\n",
        "Это нужно иметь ввиду оценивая результаты модели в следующие периоды. Время сотрудничества - важный признак, но для ушедших клиентов мы не знаем рельного времени сотрудничества, т.к. все прекращенные контракты до 2019 года были внесены в один месяц. Системное пополнение данных об оттоке в дальнейшем повысит надежность модели. \n",
        "\n",
        "**Предсказание оттока клиентов безусловно важная бизнес-задача для заказчика:** мы убедились что в отток попадают клиенты, приносящие выручку больше средней. Они избирательны и предпочитают современные технологии. \n",
        "В то же время реже других попадают в отток клиенты вносящие минимальную ежемесячную оплату и использующие только телефон.\n",
        "\n",
        "Это **серьезные основания чтобы порекомендовать маркетингу провести полноценный конкурентный анализ**. \n",
        "\n",
        "В процессе предобработки:\n",
        "\n",
        "- сформировали из четырех фреймов единую таблицу с данными по каждому клиенту\n",
        "- заполнили пропуски на основании имеющихся данных по исходным таблицам\n",
        "- удалили пропуски без очевидного источника для заполнения (11 строк с пропусками в общей выручке)\n",
        "- привели данные к корректным форматам (числа и даты)\n",
        "- добавили бинарный целевой признак - ушел клиент, или нет. \n",
        "- провели анализ корреляции числовых параметров, порезультатам которого исключили из фрейма информацию об общей выручке\n",
        "- исключили из числа признаков числовые ряды (даты начала и окончания сотрудничества), заменив их на продолжительность сотрудничества в днях\n",
        "- провели числовое кодирование признаков (OHE с удалением исходного столбца и визуальным сравнением признаков в учебной и тестовой выборке)\n",
        "- провели масштабирование признаков (MinMaxScaler)\n",
        "\n",
        "<div class=\"alert alert-info\"> <b>ℹ️ Комментарий студента v2: </b> \n",
        "\n",
        "**Итоговый список признаков для обучения**: \n",
        " \n",
        "- MonthlyCharges \n",
        "- TotalCharges  \n",
        "- SeniorCitizen\n",
        "- duration             \n",
        "- Type_One year       \n",
        "- Type_Two year      \n",
        "- PaperlessBilling_Yes   \n",
        "- PaymentMethod_Credit card (automatic)  \n",
        "- PaymentMethod_Electronic check   \n",
        "- PaymentMethod_Mailed check \n",
        "- MultipleLines_Yes   \n",
        "- gender_Male      \n",
        "- Partner_Yes     \n",
        "- Dependents_Yes   \n",
        "- InternetService_Fiber optic     \n",
        "- InternetService_No   \n",
        "-  OnlineSecurity_Yes  \n",
        "- OnlineBackup_Yes    \n",
        "- DeviceProtection_Yes\n",
        "- TechSupport_Yes     \n",
        "- StreamingTV_Yes         \n",
        "- StreamingMovies_Yes\n",
        " </div>\n",
        "\n",
        "Выделили тестовую выборку 0,25% фрейма\n",
        "\n",
        "Для проекта были обучены три модели с подбором гиперпараметров в коридорах значений:\n",
        "\n",
        "- логистическая регрессия {'penalty' : ['l1','l2'], 'C': np.logspace(-3,3,7),'solver': ['newton-cg', 'lbfgs', 'liblinear'],}\n",
        "\n",
        "- случайный лес {'max_depth': range(3, 15, 3),\n",
        "                         'min_samples_leaf': range(3, 13, 2),\n",
        "                         'min_samples_split': range(4, 28, 4),\n",
        "                         'n_estimators': range(10, 100, 10)}\n",
        "                         \n",
        "- градиентный бустинг (LGBM) {'learning_rate': [0.01, 0.1, 0.5],\n",
        "                         'min_child_samples': [10, 50, 100],\n",
        "                         'n_estimators': [2, 10, 60]}\n",
        "\n",
        "На всех моделях random_state=120922\n",
        "\n",
        "модели были обучены на тренировочной выборке с подбором наилучших гиперпараметров кросс-валидацией (GridSearchCV). \n",
        "Для сравнения моделей использовались метрики auc-roc и accuracy\n",
        "\n",
        "Итоговая модель - градиентный бустинг LGBM, показала лучшие результаты и на тестовой выборке обеспечила выполнение заданного стандарта auc-roc на гиперпараметрах:\n",
        "\n",
        "- 'learning_rate': 0.5, \n",
        "- 'min_child_samples': 100, \n",
        "- 'n_estimators': 60\n",
        "\n",
        "Градиентный бустинг на тестовой выборке auc_roc: 0.8858767309348705\n",
        "\n",
        "Градиентный бустинг на тестовой выборке accuracy: 0.7895335608646189\n",
        "\n",
        "CPU times: user 24.5 ms, sys: 1.64 ms, total: 26.1 ms\n",
        "Wall time: 16.9 ms"
      ]
    },
    {
      "cell_type": "code",
      "execution_count": null,
      "metadata": {
        "id": "0WiVUV0dM00C"
      },
      "outputs": [],
      "source": []
    }
  ],
  "metadata": {
    "ExecuteTimeLog": [
      {
        "duration": 44,
        "start_time": "2022-09-17T04:32:09.916Z"
      },
      {
        "duration": 1861,
        "start_time": "2022-09-17T04:32:21.374Z"
      },
      {
        "duration": 311,
        "start_time": "2022-09-17T04:35:01.478Z"
      },
      {
        "duration": 16,
        "start_time": "2022-09-17T04:35:02.269Z"
      },
      {
        "duration": 29,
        "start_time": "2022-09-17T04:35:02.748Z"
      },
      {
        "duration": 18,
        "start_time": "2022-09-17T04:35:03.050Z"
      },
      {
        "duration": 12,
        "start_time": "2022-09-17T04:35:03.300Z"
      },
      {
        "duration": 5,
        "start_time": "2022-09-17T04:35:03.763Z"
      },
      {
        "duration": 52,
        "start_time": "2022-09-17T04:35:04.082Z"
      },
      {
        "duration": 5,
        "start_time": "2022-09-17T04:35:05.330Z"
      },
      {
        "duration": 17,
        "start_time": "2022-09-17T04:35:05.522Z"
      },
      {
        "duration": 205,
        "start_time": "2022-09-17T04:35:06.362Z"
      },
      {
        "duration": 10,
        "start_time": "2022-09-17T04:35:07.057Z"
      },
      {
        "duration": 160,
        "start_time": "2022-09-17T04:35:07.474Z"
      },
      {
        "duration": 10,
        "start_time": "2022-09-17T04:35:08.410Z"
      },
      {
        "duration": 9,
        "start_time": "2022-09-17T04:35:09.211Z"
      },
      {
        "duration": 9,
        "start_time": "2022-09-17T04:35:09.626Z"
      },
      {
        "duration": 7,
        "start_time": "2022-09-17T04:35:09.858Z"
      },
      {
        "duration": 16758,
        "start_time": "2022-09-17T04:35:10.290Z"
      },
      {
        "duration": 8,
        "start_time": "2022-09-17T04:35:27.050Z"
      },
      {
        "duration": 39,
        "start_time": "2022-09-17T04:35:27.060Z"
      },
      {
        "duration": 307,
        "start_time": "2022-09-17T04:35:27.101Z"
      },
      {
        "duration": 15,
        "start_time": "2022-09-17T04:35:27.410Z"
      },
      {
        "duration": 37,
        "start_time": "2022-09-17T04:35:27.427Z"
      },
      {
        "duration": 29,
        "start_time": "2022-09-17T04:35:27.466Z"
      },
      {
        "duration": 20,
        "start_time": "2022-09-17T04:38:52.625Z"
      },
      {
        "duration": 20,
        "start_time": "2022-09-17T04:39:00.462Z"
      },
      {
        "duration": 17,
        "start_time": "2022-09-17T04:39:41.661Z"
      },
      {
        "duration": 24,
        "start_time": "2022-09-17T04:40:30.581Z"
      },
      {
        "duration": 43,
        "start_time": "2022-09-19T14:01:01.900Z"
      },
      {
        "duration": 1994,
        "start_time": "2022-09-19T14:01:02.057Z"
      },
      {
        "duration": 74,
        "start_time": "2022-09-19T14:01:04.053Z"
      },
      {
        "duration": 0,
        "start_time": "2022-09-19T14:01:04.128Z"
      },
      {
        "duration": 0,
        "start_time": "2022-09-19T14:01:04.129Z"
      },
      {
        "duration": 9,
        "start_time": "2022-09-19T14:01:04.788Z"
      },
      {
        "duration": 315,
        "start_time": "2022-09-19T14:02:15.092Z"
      },
      {
        "duration": 1897,
        "start_time": "2022-09-19T14:02:26.318Z"
      },
      {
        "duration": 115,
        "start_time": "2022-09-19T14:02:32.004Z"
      },
      {
        "duration": 13,
        "start_time": "2022-09-19T14:02:33.213Z"
      },
      {
        "duration": 28,
        "start_time": "2022-09-19T14:02:33.653Z"
      },
      {
        "duration": 14,
        "start_time": "2022-09-19T14:02:33.846Z"
      },
      {
        "duration": 10,
        "start_time": "2022-09-19T14:02:34.022Z"
      },
      {
        "duration": 4,
        "start_time": "2022-09-19T14:02:34.493Z"
      },
      {
        "duration": 45,
        "start_time": "2022-09-19T14:02:34.622Z"
      },
      {
        "duration": 4,
        "start_time": "2022-09-19T14:02:35.677Z"
      },
      {
        "duration": 18,
        "start_time": "2022-09-19T14:02:35.829Z"
      },
      {
        "duration": 197,
        "start_time": "2022-09-19T14:02:36.325Z"
      },
      {
        "duration": 10,
        "start_time": "2022-09-19T14:02:37.029Z"
      },
      {
        "duration": 159,
        "start_time": "2022-09-19T14:02:37.206Z"
      },
      {
        "duration": 8,
        "start_time": "2022-09-19T14:02:37.885Z"
      },
      {
        "duration": 8,
        "start_time": "2022-09-19T14:02:38.484Z"
      },
      {
        "duration": 6,
        "start_time": "2022-09-19T14:02:38.805Z"
      },
      {
        "duration": 9,
        "start_time": "2022-09-19T14:02:38.973Z"
      },
      {
        "duration": 286,
        "start_time": "2022-09-19T14:02:39.277Z"
      },
      {
        "duration": 9,
        "start_time": "2022-09-19T14:02:39.773Z"
      },
      {
        "duration": 29,
        "start_time": "2022-09-19T14:02:39.910Z"
      },
      {
        "duration": 22,
        "start_time": "2022-09-19T14:02:40.230Z"
      },
      {
        "duration": 248,
        "start_time": "2022-09-19T14:02:40.389Z"
      },
      {
        "duration": 7,
        "start_time": "2022-09-19T14:02:40.884Z"
      },
      {
        "duration": 26,
        "start_time": "2022-09-19T14:02:41.037Z"
      },
      {
        "duration": 23,
        "start_time": "2022-09-19T14:02:41.230Z"
      },
      {
        "duration": 4,
        "start_time": "2022-09-19T14:07:06.551Z"
      },
      {
        "duration": 4,
        "start_time": "2022-09-19T14:09:35.955Z"
      },
      {
        "duration": 8,
        "start_time": "2022-09-19T14:09:37.587Z"
      },
      {
        "duration": 21,
        "start_time": "2022-09-19T14:09:39.626Z"
      },
      {
        "duration": 11,
        "start_time": "2022-09-19T14:09:40.882Z"
      },
      {
        "duration": 10,
        "start_time": "2022-09-19T14:09:45.603Z"
      },
      {
        "duration": 7,
        "start_time": "2022-09-19T14:12:18.888Z"
      },
      {
        "duration": 111,
        "start_time": "2022-09-19T14:12:24.474Z"
      },
      {
        "duration": 7,
        "start_time": "2022-09-19T14:12:24.967Z"
      },
      {
        "duration": 1963,
        "start_time": "2022-09-19T14:12:53.414Z"
      },
      {
        "duration": 100,
        "start_time": "2022-09-19T14:12:55.379Z"
      },
      {
        "duration": 13,
        "start_time": "2022-09-19T14:12:55.481Z"
      },
      {
        "duration": 28,
        "start_time": "2022-09-19T14:12:55.496Z"
      },
      {
        "duration": 15,
        "start_time": "2022-09-19T14:12:55.525Z"
      },
      {
        "duration": 9,
        "start_time": "2022-09-19T14:12:55.541Z"
      },
      {
        "duration": 4,
        "start_time": "2022-09-19T14:12:55.578Z"
      },
      {
        "duration": 47,
        "start_time": "2022-09-19T14:12:55.853Z"
      },
      {
        "duration": 4,
        "start_time": "2022-09-19T14:12:56.804Z"
      },
      {
        "duration": 16,
        "start_time": "2022-09-19T14:12:56.940Z"
      },
      {
        "duration": 222,
        "start_time": "2022-09-19T14:12:57.419Z"
      },
      {
        "duration": 9,
        "start_time": "2022-09-19T14:12:57.875Z"
      },
      {
        "duration": 150,
        "start_time": "2022-09-19T14:12:58.020Z"
      },
      {
        "duration": 9,
        "start_time": "2022-09-19T14:12:58.475Z"
      },
      {
        "duration": 8,
        "start_time": "2022-09-19T14:12:58.933Z"
      },
      {
        "duration": 7,
        "start_time": "2022-09-19T14:12:59.236Z"
      },
      {
        "duration": 10,
        "start_time": "2022-09-19T14:12:59.372Z"
      },
      {
        "duration": 243,
        "start_time": "2022-09-19T14:12:59.724Z"
      },
      {
        "duration": 9,
        "start_time": "2022-09-19T14:13:00.191Z"
      },
      {
        "duration": 29,
        "start_time": "2022-09-19T14:13:00.340Z"
      },
      {
        "duration": 21,
        "start_time": "2022-09-19T14:13:00.836Z"
      },
      {
        "duration": 249,
        "start_time": "2022-09-19T14:13:00.955Z"
      },
      {
        "duration": 6,
        "start_time": "2022-09-19T14:13:01.467Z"
      },
      {
        "duration": 26,
        "start_time": "2022-09-19T14:13:01.636Z"
      },
      {
        "duration": 25,
        "start_time": "2022-09-19T14:13:01.796Z"
      },
      {
        "duration": 4,
        "start_time": "2022-09-19T14:13:03.260Z"
      },
      {
        "duration": 6,
        "start_time": "2022-09-19T14:13:03.764Z"
      },
      {
        "duration": 22,
        "start_time": "2022-09-19T14:13:04.252Z"
      },
      {
        "duration": 12,
        "start_time": "2022-09-19T14:13:04.563Z"
      },
      {
        "duration": 12,
        "start_time": "2022-09-19T14:13:04.755Z"
      },
      {
        "duration": 30,
        "start_time": "2022-09-19T14:13:05.269Z"
      },
      {
        "duration": 7,
        "start_time": "2022-09-19T14:13:06.268Z"
      },
      {
        "duration": 3,
        "start_time": "2022-09-19T14:14:43.105Z"
      },
      {
        "duration": 124173,
        "start_time": "2022-09-19T14:14:44.616Z"
      },
      {
        "duration": 89,
        "start_time": "2022-09-19T14:16:48.791Z"
      },
      {
        "duration": 2429,
        "start_time": "2022-09-20T08:34:05.288Z"
      },
      {
        "duration": 279,
        "start_time": "2022-09-20T08:34:07.719Z"
      },
      {
        "duration": 0,
        "start_time": "2022-09-20T08:34:08.002Z"
      },
      {
        "duration": 0,
        "start_time": "2022-09-20T08:34:08.003Z"
      },
      {
        "duration": 0,
        "start_time": "2022-09-20T08:34:08.005Z"
      },
      {
        "duration": 0,
        "start_time": "2022-09-20T08:34:08.006Z"
      },
      {
        "duration": 0,
        "start_time": "2022-09-20T08:34:08.007Z"
      },
      {
        "duration": 0,
        "start_time": "2022-09-20T08:34:08.007Z"
      },
      {
        "duration": 9,
        "start_time": "2022-09-20T08:34:08.655Z"
      },
      {
        "duration": 10,
        "start_time": "2022-09-20T08:34:08.814Z"
      },
      {
        "duration": 9,
        "start_time": "2022-09-20T08:34:09.276Z"
      },
      {
        "duration": 1808,
        "start_time": "2022-09-20T08:34:34.637Z"
      },
      {
        "duration": 256,
        "start_time": "2022-09-20T08:34:36.570Z"
      },
      {
        "duration": 12,
        "start_time": "2022-09-20T08:34:36.828Z"
      },
      {
        "duration": 28,
        "start_time": "2022-09-20T08:34:37.566Z"
      },
      {
        "duration": 15,
        "start_time": "2022-09-20T08:34:37.712Z"
      },
      {
        "duration": 10,
        "start_time": "2022-09-20T08:34:37.864Z"
      },
      {
        "duration": 4,
        "start_time": "2022-09-20T08:34:38.140Z"
      },
      {
        "duration": 56,
        "start_time": "2022-09-20T08:34:38.285Z"
      },
      {
        "duration": 4,
        "start_time": "2022-09-20T08:34:39.174Z"
      },
      {
        "duration": 23,
        "start_time": "2022-09-20T08:34:39.303Z"
      },
      {
        "duration": 260,
        "start_time": "2022-09-20T08:34:39.871Z"
      },
      {
        "duration": 9,
        "start_time": "2022-09-20T08:34:40.312Z"
      },
      {
        "duration": 180,
        "start_time": "2022-09-20T08:34:40.471Z"
      },
      {
        "duration": 9,
        "start_time": "2022-09-20T08:34:40.917Z"
      },
      {
        "duration": 8,
        "start_time": "2022-09-20T08:34:41.380Z"
      },
      {
        "duration": 7,
        "start_time": "2022-09-20T08:34:41.679Z"
      },
      {
        "duration": 11,
        "start_time": "2022-09-20T08:34:41.813Z"
      },
      {
        "duration": 289,
        "start_time": "2022-09-20T08:34:42.124Z"
      },
      {
        "duration": 10,
        "start_time": "2022-09-20T08:34:42.723Z"
      },
      {
        "duration": 41,
        "start_time": "2022-09-20T08:34:42.870Z"
      },
      {
        "duration": 23,
        "start_time": "2022-09-20T08:34:43.732Z"
      },
      {
        "duration": 320,
        "start_time": "2022-09-20T08:34:43.885Z"
      },
      {
        "duration": 6,
        "start_time": "2022-09-20T08:34:44.370Z"
      },
      {
        "duration": 38,
        "start_time": "2022-09-20T08:34:44.512Z"
      },
      {
        "duration": 26,
        "start_time": "2022-09-20T08:34:44.652Z"
      },
      {
        "duration": 5,
        "start_time": "2022-09-20T08:34:46.011Z"
      },
      {
        "duration": 7,
        "start_time": "2022-09-20T08:34:46.484Z"
      },
      {
        "duration": 21,
        "start_time": "2022-09-20T08:34:47.140Z"
      },
      {
        "duration": 11,
        "start_time": "2022-09-20T08:34:47.628Z"
      },
      {
        "duration": 11,
        "start_time": "2022-09-20T08:34:47.788Z"
      },
      {
        "duration": 31,
        "start_time": "2022-09-20T08:34:48.116Z"
      },
      {
        "duration": 7,
        "start_time": "2022-09-20T08:34:48.941Z"
      },
      {
        "duration": 3101,
        "start_time": "2022-09-20T08:34:49.093Z"
      },
      {
        "duration": 20,
        "start_time": "2022-09-20T08:34:52.195Z"
      },
      {
        "duration": 11,
        "start_time": "2022-09-20T08:34:52.218Z"
      },
      {
        "duration": 73537,
        "start_time": "2022-09-20T08:34:52.230Z"
      },
      {
        "duration": 14,
        "start_time": "2022-09-20T08:36:05.770Z"
      },
      {
        "duration": 4,
        "start_time": "2022-09-20T08:36:13.869Z"
      },
      {
        "duration": 8642,
        "start_time": "2022-09-20T08:36:14.223Z"
      },
      {
        "duration": 80051,
        "start_time": "2022-09-20T08:36:22.867Z"
      },
      {
        "duration": 3,
        "start_time": "2022-09-20T08:38:12.180Z"
      },
      {
        "duration": 7517,
        "start_time": "2022-09-20T08:38:13.577Z"
      },
      {
        "duration": 13,
        "start_time": "2022-09-20T08:38:21.101Z"
      },
      {
        "duration": 3747,
        "start_time": "2022-09-20T08:38:44.243Z"
      },
      {
        "duration": 4848,
        "start_time": "2022-09-20T08:39:21.673Z"
      },
      {
        "duration": 31446,
        "start_time": "2022-09-20T08:39:41.576Z"
      },
      {
        "duration": 3,
        "start_time": "2022-09-20T08:41:10.849Z"
      },
      {
        "duration": 102591,
        "start_time": "2022-09-20T08:41:17.126Z"
      },
      {
        "duration": 3,
        "start_time": "2022-09-20T08:42:59.719Z"
      },
      {
        "duration": 4,
        "start_time": "2022-09-20T08:43:20.965Z"
      },
      {
        "duration": 14,
        "start_time": "2022-09-20T08:44:44.919Z"
      }
    ],
    "colab": {
      "collapsed_sections": [],
      "provenance": [],
      "include_colab_link": true
    },
    "kernelspec": {
      "display_name": "Python 3 (ipykernel)",
      "language": "python",
      "name": "python3"
    },
    "language_info": {
      "codemirror_mode": {
        "name": "ipython",
        "version": 3
      },
      "file_extension": ".py",
      "mimetype": "text/x-python",
      "name": "python",
      "nbconvert_exporter": "python",
      "pygments_lexer": "ipython3",
      "version": "3.9.5"
    },
    "toc": {
      "base_numbering": 1,
      "nav_menu": {},
      "number_sections": true,
      "sideBar": true,
      "skip_h1_title": true,
      "title_cell": "Table of Contents",
      "title_sidebar": "Contents",
      "toc_cell": false,
      "toc_position": {},
      "toc_section_display": true,
      "toc_window_display": false
    }
  },
  "nbformat": 4,
  "nbformat_minor": 0
}
