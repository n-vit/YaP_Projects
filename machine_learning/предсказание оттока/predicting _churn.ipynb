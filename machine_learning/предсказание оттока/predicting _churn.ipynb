{
  "cells": [
    {
      "cell_type": "markdown",
      "metadata": {
        "id": "view-in-github",
        "colab_type": "text"
      },
      "source": [
        "<a href=\"https://colab.research.google.com/github/n-vit/YaP_Projects/blob/main/7_%D0%9E%D0%B1%D1%83%D1%87%D0%B5%D0%BD%D0%B8%D0%B5_%D1%81_%D1%83%D1%87%D0%B8%D1%82%D0%B5%D0%BB%D0%B5%D0%BC.ipynb\" target=\"_parent\"><img src=\"https://colab.research.google.com/assets/colab-badge.svg\" alt=\"Open In Colab\"/></a>"
      ]
    },
    {
      "cell_type": "markdown",
      "metadata": {
        "toc": true,
        "id": "G9ZMkfFITmMz"
      },
      "source": [
        "<h1>Содержание<span class=\"tocSkip\"></span></h1>\n",
        "<div class=\"toc\"><ul class=\"toc-item\"><li><span><a href=\"#Подготовка-данных\" data-toc-modified-id=\"Подготовка-данных-1\"><span class=\"toc-item-num\">1&nbsp;&nbsp;</span>Подготовка данных</a></span></li><li><span><a href=\"#Исследование-задачи\" data-toc-modified-id=\"Исследование-задачи-2\"><span class=\"toc-item-num\">2&nbsp;&nbsp;</span>Исследование задачи</a></span></li><li><span><a href=\"#Борьба-с-дисбалансом\" data-toc-modified-id=\"Борьба-с-дисбалансом-3\"><span class=\"toc-item-num\">3&nbsp;&nbsp;</span>Борьба с дисбалансом</a></span></li><li><span><a href=\"#Тестирование-модели\" data-toc-modified-id=\"Тестирование-модели-4\"><span class=\"toc-item-num\">4&nbsp;&nbsp;</span>Тестирование модели</a></span></li><li><span><a href=\"#Чек-лист-готовности-проекта\" data-toc-modified-id=\"Чек-лист-готовности-проекта-5\"><span class=\"toc-item-num\">5&nbsp;&nbsp;</span>Чек-лист готовности проекта</a></span></li></ul></div>"
      ]
    },
    {
      "cell_type": "markdown",
      "metadata": {
        "id": "0P6WOYHYTmM1"
      },
      "source": [
        "# Отток клиентов"
      ]
    },
    {
      "cell_type": "markdown",
      "metadata": {
        "id": "BIa7RH4BTmM2"
      },
      "source": [
        "Из банка Б каждый месяц стали уходить клиенты. Немного, но заметно. Маркетологи посчитали: сохранять текущих клиентов дешевле, чем привлекать новых.\n",
        "\n",
        "Нужно спрогнозировать, уйдёт клиент из банка в ближайшее время или нет. У нас есть исторические данные о поведении клиентов и расторжении договоров с банком. \n",
        "\n",
        "Нужно построить модель с предельно большим значением *F1*-меры - не менее 0.59. \n",
        "\n",
        "Дополнительная метрика *AUC-ROC* \n",
        "\n",
        "Источник данных: [https://www.kaggle.com/barelydedicated/bank-customer-churn-modeling](https://www.kaggle.com/barelydedicated/bank-customer-churn-modeling)"
      ]
    },
    {
      "cell_type": "markdown",
      "metadata": {
        "id": "Zz-mr1ugTmM4"
      },
      "source": [
        "**Признаки**\n",
        "\n",
        "- RowNumber — индекс строки в данных\n",
        "- CustomerId — уникальный идентификатор клиента\n",
        "- Surname — фамилия\n",
        "- CreditScore — кредитный рейтинг\n",
        "- Geography — страна проживания\n",
        "- Gender — пол\n",
        "- Age — возраст\n",
        "- Tenure — сколько лет человек является клиентом банка\n",
        "- Balance — баланс на счёте\n",
        "- NumOfProducts — количество продуктов банка, используемых клиентом\n",
        "- HasCrCard — наличие кредитной карты\n",
        "- IsActiveMember — активность клиента\n",
        "- EstimatedSalary — предполагаемая зарплата\n",
        "\n",
        "**Целевой признак**\n",
        "- Exited — факт ухода клиента"
      ]
    },
    {
      "cell_type": "markdown",
      "metadata": {
        "id": "5mzFxl2cTmM6"
      },
      "source": [
        "## Подготовка данных"
      ]
    },
    {
      "cell_type": "code",
      "execution_count": null,
      "metadata": {
        "id": "9WT5pfG9TmM8"
      },
      "outputs": [],
      "source": [
        "import pandas as pd\n",
        "import matplotlib.pyplot as plt\n",
        "from sklearn.model_selection import train_test_split\n",
        "from sklearn.preprocessing import OrdinalEncoder\n",
        "from sklearn.utils import shuffle\n",
        "\n",
        "from sklearn.tree import DecisionTreeClassifier\n",
        "from sklearn.ensemble import RandomForestClassifier\n",
        "from sklearn.linear_model import LogisticRegression \n",
        "\n",
        "from sklearn.metrics import accuracy_score \n",
        "from sklearn.metrics import mean_absolute_error\n",
        "from sklearn.metrics import f1_score\n",
        "from sklearn.metrics import recall_score\n",
        "from sklearn.metrics import precision_score\n",
        "from sklearn.metrics import roc_auc_score"
      ]
    },
    {
      "cell_type": "code",
      "execution_count": null,
      "metadata": {
        "id": "cd97bLgHTmM-",
        "outputId": "dc1b9e95-265c-41d2-e3b2-204f1ddc1372"
      },
      "outputs": [
        {
          "name": "stdout",
          "output_type": "stream",
          "text": [
            "<class 'pandas.core.frame.DataFrame'>\n",
            "RangeIndex: 10000 entries, 0 to 9999\n",
            "Data columns (total 14 columns):\n",
            " #   Column           Non-Null Count  Dtype  \n",
            "---  ------           --------------  -----  \n",
            " 0   RowNumber        10000 non-null  int64  \n",
            " 1   CustomerId       10000 non-null  int64  \n",
            " 2   Surname          10000 non-null  object \n",
            " 3   CreditScore      10000 non-null  int64  \n",
            " 4   Geography        10000 non-null  object \n",
            " 5   Gender           10000 non-null  object \n",
            " 6   Age              10000 non-null  int64  \n",
            " 7   Tenure           9091 non-null   float64\n",
            " 8   Balance          10000 non-null  float64\n",
            " 9   NumOfProducts    10000 non-null  int64  \n",
            " 10  HasCrCard        10000 non-null  int64  \n",
            " 11  IsActiveMember   10000 non-null  int64  \n",
            " 12  EstimatedSalary  10000 non-null  float64\n",
            " 13  Exited           10000 non-null  int64  \n",
            "dtypes: float64(3), int64(8), object(3)\n",
            "memory usage: 1.1+ MB\n"
          ]
        },
        {
          "data": {
            "text/plain": [
              "None"
            ]
          },
          "metadata": {},
          "output_type": "display_data"
        },
        {
          "data": {
            "text/html": [
              "<div>\n",
              "<style scoped>\n",
              "    .dataframe tbody tr th:only-of-type {\n",
              "        vertical-align: middle;\n",
              "    }\n",
              "\n",
              "    .dataframe tbody tr th {\n",
              "        vertical-align: top;\n",
              "    }\n",
              "\n",
              "    .dataframe thead th {\n",
              "        text-align: right;\n",
              "    }\n",
              "</style>\n",
              "<table border=\"1\" class=\"dataframe\">\n",
              "  <thead>\n",
              "    <tr style=\"text-align: right;\">\n",
              "      <th></th>\n",
              "      <th>RowNumber</th>\n",
              "      <th>CustomerId</th>\n",
              "      <th>Surname</th>\n",
              "      <th>CreditScore</th>\n",
              "      <th>Geography</th>\n",
              "      <th>Gender</th>\n",
              "      <th>Age</th>\n",
              "      <th>Tenure</th>\n",
              "      <th>Balance</th>\n",
              "      <th>NumOfProducts</th>\n",
              "      <th>HasCrCard</th>\n",
              "      <th>IsActiveMember</th>\n",
              "      <th>EstimatedSalary</th>\n",
              "      <th>Exited</th>\n",
              "    </tr>\n",
              "  </thead>\n",
              "  <tbody>\n",
              "    <tr>\n",
              "      <th>0</th>\n",
              "      <td>1</td>\n",
              "      <td>15634602</td>\n",
              "      <td>Hargrave</td>\n",
              "      <td>619</td>\n",
              "      <td>France</td>\n",
              "      <td>Female</td>\n",
              "      <td>42</td>\n",
              "      <td>2.0</td>\n",
              "      <td>0.00</td>\n",
              "      <td>1</td>\n",
              "      <td>1</td>\n",
              "      <td>1</td>\n",
              "      <td>101348.88</td>\n",
              "      <td>1</td>\n",
              "    </tr>\n",
              "    <tr>\n",
              "      <th>1</th>\n",
              "      <td>2</td>\n",
              "      <td>15647311</td>\n",
              "      <td>Hill</td>\n",
              "      <td>608</td>\n",
              "      <td>Spain</td>\n",
              "      <td>Female</td>\n",
              "      <td>41</td>\n",
              "      <td>1.0</td>\n",
              "      <td>83807.86</td>\n",
              "      <td>1</td>\n",
              "      <td>0</td>\n",
              "      <td>1</td>\n",
              "      <td>112542.58</td>\n",
              "      <td>0</td>\n",
              "    </tr>\n",
              "    <tr>\n",
              "      <th>2</th>\n",
              "      <td>3</td>\n",
              "      <td>15619304</td>\n",
              "      <td>Onio</td>\n",
              "      <td>502</td>\n",
              "      <td>France</td>\n",
              "      <td>Female</td>\n",
              "      <td>42</td>\n",
              "      <td>8.0</td>\n",
              "      <td>159660.80</td>\n",
              "      <td>3</td>\n",
              "      <td>1</td>\n",
              "      <td>0</td>\n",
              "      <td>113931.57</td>\n",
              "      <td>1</td>\n",
              "    </tr>\n",
              "  </tbody>\n",
              "</table>\n",
              "</div>"
            ],
            "text/plain": [
              "   RowNumber  CustomerId   Surname  CreditScore Geography  Gender  Age  \\\n",
              "0          1    15634602  Hargrave          619    France  Female   42   \n",
              "1          2    15647311      Hill          608     Spain  Female   41   \n",
              "2          3    15619304      Onio          502    France  Female   42   \n",
              "\n",
              "   Tenure    Balance  NumOfProducts  HasCrCard  IsActiveMember  \\\n",
              "0     2.0       0.00              1          1               1   \n",
              "1     1.0   83807.86              1          0               1   \n",
              "2     8.0  159660.80              3          1               0   \n",
              "\n",
              "   EstimatedSalary  Exited  \n",
              "0        101348.88       1  \n",
              "1        112542.58       0  \n",
              "2        113931.57       1  "
            ]
          },
          "metadata": {},
          "output_type": "display_data"
        },
        {
          "data": {
            "text/plain": [
              "RowNumber            0\n",
              "CustomerId           0\n",
              "Surname              0\n",
              "CreditScore          0\n",
              "Geography            0\n",
              "Gender               0\n",
              "Age                  0\n",
              "Tenure             909\n",
              "Balance              0\n",
              "NumOfProducts        0\n",
              "HasCrCard            0\n",
              "IsActiveMember       0\n",
              "EstimatedSalary      0\n",
              "Exited               0\n",
              "dtype: int64"
            ]
          },
          "metadata": {},
          "output_type": "display_data"
        }
      ],
      "source": [
        "data = pd.read_csv('/datasets/Churn.csv')\n",
        "display(data.info())\n",
        "display(data.head(3))\n",
        "display(data.isna().sum())\n"
      ]
    },
    {
      "cell_type": "markdown",
      "metadata": {
        "id": "8EeXSJiGTmNB"
      },
      "source": [
        "В процессе подготовки:\n",
        "- разберемся в пропусках в данных о Продолжительности сотрудничества\n",
        "- проверим фрейм на дубликаты и удалим столбец с фамилиями (влияние фамилии на отток клиентов это не про математику пожалуй)\n",
        "- категоризируем `obgect`, Страна проживания и Пол \n",
        "- понизим разрядность\n",
        "- разберем фрейм на тренировочную, валидационную и тестовую выборки (60%/20%/20%)\n"
      ]
    },
    {
      "cell_type": "code",
      "execution_count": null,
      "metadata": {
        "id": "nQO8E8vuTmND",
        "outputId": "56459b36-1c70-480e-82e3-2221f3204897"
      },
      "outputs": [
        {
          "data": {
            "text/html": [
              "<div>\n",
              "<style scoped>\n",
              "    .dataframe tbody tr th:only-of-type {\n",
              "        vertical-align: middle;\n",
              "    }\n",
              "\n",
              "    .dataframe tbody tr th {\n",
              "        vertical-align: top;\n",
              "    }\n",
              "\n",
              "    .dataframe thead th {\n",
              "        text-align: right;\n",
              "    }\n",
              "</style>\n",
              "<table border=\"1\" class=\"dataframe\">\n",
              "  <thead>\n",
              "    <tr style=\"text-align: right;\">\n",
              "      <th></th>\n",
              "      <th>RowNumber</th>\n",
              "      <th>CustomerId</th>\n",
              "      <th>Surname</th>\n",
              "      <th>CreditScore</th>\n",
              "      <th>Geography</th>\n",
              "      <th>Gender</th>\n",
              "      <th>Age</th>\n",
              "      <th>Tenure</th>\n",
              "      <th>Balance</th>\n",
              "      <th>NumOfProducts</th>\n",
              "      <th>HasCrCard</th>\n",
              "      <th>IsActiveMember</th>\n",
              "      <th>EstimatedSalary</th>\n",
              "      <th>Exited</th>\n",
              "    </tr>\n",
              "  </thead>\n",
              "  <tbody>\n",
              "    <tr>\n",
              "      <th>30</th>\n",
              "      <td>31</td>\n",
              "      <td>15589475</td>\n",
              "      <td>Azikiwe</td>\n",
              "      <td>591</td>\n",
              "      <td>Spain</td>\n",
              "      <td>Female</td>\n",
              "      <td>39</td>\n",
              "      <td>NaN</td>\n",
              "      <td>0.00</td>\n",
              "      <td>3</td>\n",
              "      <td>1</td>\n",
              "      <td>0</td>\n",
              "      <td>140469.38</td>\n",
              "      <td>1</td>\n",
              "    </tr>\n",
              "    <tr>\n",
              "      <th>48</th>\n",
              "      <td>49</td>\n",
              "      <td>15766205</td>\n",
              "      <td>Yin</td>\n",
              "      <td>550</td>\n",
              "      <td>Germany</td>\n",
              "      <td>Male</td>\n",
              "      <td>38</td>\n",
              "      <td>NaN</td>\n",
              "      <td>103391.38</td>\n",
              "      <td>1</td>\n",
              "      <td>0</td>\n",
              "      <td>1</td>\n",
              "      <td>90878.13</td>\n",
              "      <td>0</td>\n",
              "    </tr>\n",
              "    <tr>\n",
              "      <th>51</th>\n",
              "      <td>52</td>\n",
              "      <td>15768193</td>\n",
              "      <td>Trevisani</td>\n",
              "      <td>585</td>\n",
              "      <td>Germany</td>\n",
              "      <td>Male</td>\n",
              "      <td>36</td>\n",
              "      <td>NaN</td>\n",
              "      <td>146050.97</td>\n",
              "      <td>2</td>\n",
              "      <td>0</td>\n",
              "      <td>0</td>\n",
              "      <td>86424.57</td>\n",
              "      <td>0</td>\n",
              "    </tr>\n",
              "    <tr>\n",
              "      <th>53</th>\n",
              "      <td>54</td>\n",
              "      <td>15702298</td>\n",
              "      <td>Parkhill</td>\n",
              "      <td>655</td>\n",
              "      <td>Germany</td>\n",
              "      <td>Male</td>\n",
              "      <td>41</td>\n",
              "      <td>NaN</td>\n",
              "      <td>125561.97</td>\n",
              "      <td>1</td>\n",
              "      <td>0</td>\n",
              "      <td>0</td>\n",
              "      <td>164040.94</td>\n",
              "      <td>1</td>\n",
              "    </tr>\n",
              "    <tr>\n",
              "      <th>60</th>\n",
              "      <td>61</td>\n",
              "      <td>15651280</td>\n",
              "      <td>Hunter</td>\n",
              "      <td>742</td>\n",
              "      <td>Germany</td>\n",
              "      <td>Male</td>\n",
              "      <td>35</td>\n",
              "      <td>NaN</td>\n",
              "      <td>136857.00</td>\n",
              "      <td>1</td>\n",
              "      <td>0</td>\n",
              "      <td>0</td>\n",
              "      <td>84509.57</td>\n",
              "      <td>0</td>\n",
              "    </tr>\n",
              "    <tr>\n",
              "      <th>82</th>\n",
              "      <td>83</td>\n",
              "      <td>15641732</td>\n",
              "      <td>Mills</td>\n",
              "      <td>543</td>\n",
              "      <td>France</td>\n",
              "      <td>Female</td>\n",
              "      <td>36</td>\n",
              "      <td>NaN</td>\n",
              "      <td>0.00</td>\n",
              "      <td>2</td>\n",
              "      <td>0</td>\n",
              "      <td>0</td>\n",
              "      <td>26019.59</td>\n",
              "      <td>0</td>\n",
              "    </tr>\n",
              "    <tr>\n",
              "      <th>85</th>\n",
              "      <td>86</td>\n",
              "      <td>15805254</td>\n",
              "      <td>Ndukaku</td>\n",
              "      <td>652</td>\n",
              "      <td>Spain</td>\n",
              "      <td>Female</td>\n",
              "      <td>75</td>\n",
              "      <td>NaN</td>\n",
              "      <td>0.00</td>\n",
              "      <td>2</td>\n",
              "      <td>1</td>\n",
              "      <td>1</td>\n",
              "      <td>114675.75</td>\n",
              "      <td>0</td>\n",
              "    </tr>\n",
              "    <tr>\n",
              "      <th>94</th>\n",
              "      <td>95</td>\n",
              "      <td>15676966</td>\n",
              "      <td>Capon</td>\n",
              "      <td>730</td>\n",
              "      <td>Spain</td>\n",
              "      <td>Male</td>\n",
              "      <td>42</td>\n",
              "      <td>NaN</td>\n",
              "      <td>0.00</td>\n",
              "      <td>2</td>\n",
              "      <td>0</td>\n",
              "      <td>1</td>\n",
              "      <td>85982.47</td>\n",
              "      <td>0</td>\n",
              "    </tr>\n",
              "    <tr>\n",
              "      <th>99</th>\n",
              "      <td>100</td>\n",
              "      <td>15633059</td>\n",
              "      <td>Fanucci</td>\n",
              "      <td>413</td>\n",
              "      <td>France</td>\n",
              "      <td>Male</td>\n",
              "      <td>34</td>\n",
              "      <td>NaN</td>\n",
              "      <td>0.00</td>\n",
              "      <td>2</td>\n",
              "      <td>0</td>\n",
              "      <td>0</td>\n",
              "      <td>6534.18</td>\n",
              "      <td>0</td>\n",
              "    </tr>\n",
              "    <tr>\n",
              "      <th>111</th>\n",
              "      <td>112</td>\n",
              "      <td>15665790</td>\n",
              "      <td>Rowntree</td>\n",
              "      <td>538</td>\n",
              "      <td>Germany</td>\n",
              "      <td>Male</td>\n",
              "      <td>39</td>\n",
              "      <td>NaN</td>\n",
              "      <td>108055.10</td>\n",
              "      <td>2</td>\n",
              "      <td>1</td>\n",
              "      <td>0</td>\n",
              "      <td>27231.26</td>\n",
              "      <td>0</td>\n",
              "    </tr>\n",
              "  </tbody>\n",
              "</table>\n",
              "</div>"
            ],
            "text/plain": [
              "     RowNumber  CustomerId    Surname  CreditScore Geography  Gender  Age  \\\n",
              "30          31    15589475    Azikiwe          591     Spain  Female   39   \n",
              "48          49    15766205        Yin          550   Germany    Male   38   \n",
              "51          52    15768193  Trevisani          585   Germany    Male   36   \n",
              "53          54    15702298   Parkhill          655   Germany    Male   41   \n",
              "60          61    15651280     Hunter          742   Germany    Male   35   \n",
              "82          83    15641732      Mills          543    France  Female   36   \n",
              "85          86    15805254    Ndukaku          652     Spain  Female   75   \n",
              "94          95    15676966      Capon          730     Spain    Male   42   \n",
              "99         100    15633059    Fanucci          413    France    Male   34   \n",
              "111        112    15665790   Rowntree          538   Germany    Male   39   \n",
              "\n",
              "     Tenure    Balance  NumOfProducts  HasCrCard  IsActiveMember  \\\n",
              "30      NaN       0.00              3          1               0   \n",
              "48      NaN  103391.38              1          0               1   \n",
              "51      NaN  146050.97              2          0               0   \n",
              "53      NaN  125561.97              1          0               0   \n",
              "60      NaN  136857.00              1          0               0   \n",
              "82      NaN       0.00              2          0               0   \n",
              "85      NaN       0.00              2          1               1   \n",
              "94      NaN       0.00              2          0               1   \n",
              "99      NaN       0.00              2          0               0   \n",
              "111     NaN  108055.10              2          1               0   \n",
              "\n",
              "     EstimatedSalary  Exited  \n",
              "30         140469.38       1  \n",
              "48          90878.13       0  \n",
              "51          86424.57       0  \n",
              "53         164040.94       1  \n",
              "60          84509.57       0  \n",
              "82          26019.59       0  \n",
              "85         114675.75       0  \n",
              "94          85982.47       0  \n",
              "99           6534.18       0  \n",
              "111         27231.26       0  "
            ]
          },
          "metadata": {},
          "output_type": "display_data"
        }
      ],
      "source": [
        "display(data[data['Tenure'].isna()].head(10))"
      ]
    },
    {
      "cell_type": "markdown",
      "metadata": {
        "id": "vQUg-A_lTmNE"
      },
      "source": [
        "В строках с пропущенной информацией о продолжительности сотрудничества встречаются разные записи по всем признакам, прямой зависимости между одним из признаков \"Tenure\" не видно. Пропуски составляют 9% фрейма. \n",
        "\n",
        "Удалим их из фрейма. \n",
        "\n",
        "Заодно сразу удалим и столбцы с информацией о фамилии/ ID пользователя и номере строки записи, поскольку они не влияют на поведение клиента, но могут снизить точность модели. "
      ]
    },
    {
      "cell_type": "code",
      "execution_count": null,
      "metadata": {
        "scrolled": true,
        "id": "nH5CaR91TmNF"
      },
      "outputs": [],
      "source": [
        "data = data.dropna()\n",
        "data = data.drop(['Surname', 'RowNumber', 'CustomerId'], axis=1)"
      ]
    },
    {
      "cell_type": "code",
      "execution_count": null,
      "metadata": {
        "id": "Gzp8VEceTmNG",
        "outputId": "0953d6a5-29b2-4382-e123-3b37ee38fcf4"
      },
      "outputs": [
        {
          "data": {
            "text/plain": [
              "0"
            ]
          },
          "metadata": {},
          "output_type": "display_data"
        }
      ],
      "source": [
        "display(data.duplicated().sum())"
      ]
    },
    {
      "cell_type": "code",
      "execution_count": null,
      "metadata": {
        "id": "-Ytf9lqqTmNH"
      },
      "outputs": [],
      "source": [
        "#encoder = OrdinalEncoder()\n",
        "#data = pd.DataFrame(encoder.fit_transform(data), columns=data.columns)"
      ]
    },
    {
      "cell_type": "code",
      "execution_count": null,
      "metadata": {
        "id": "suSkEDH_TmNI",
        "outputId": "46c0f77b-6eb8-42fe-e55e-23c8a9e289ea"
      },
      "outputs": [
        {
          "name": "stdout",
          "output_type": "stream",
          "text": [
            "['France' 'Spain' 'Germany']\n"
          ]
        }
      ],
      "source": [
        "print(data['Geography'].unique())"
      ]
    },
    {
      "cell_type": "code",
      "execution_count": null,
      "metadata": {
        "id": "g1L74JD-TmNK"
      },
      "outputs": [],
      "source": [
        "data = pd.get_dummies(data, drop_first=True)"
      ]
    },
    {
      "cell_type": "code",
      "execution_count": null,
      "metadata": {
        "id": "MSCWKcJBTmNK"
      },
      "outputs": [],
      "source": [
        "df_float = data.select_dtypes(include=['float']) \n",
        "df_float = data.apply(pd.to_numeric,downcast='float')\n",
        "data[df_float.columns] = df_float\n",
        "\n",
        "df_int = data.select_dtypes(include=['int']) \n",
        "df_int = df_int.apply(pd.to_numeric,downcast='unsigned') \n",
        "data[df_int.columns] = df_int"
      ]
    },
    {
      "cell_type": "code",
      "execution_count": null,
      "metadata": {
        "id": "AwO-nCfwTmNL",
        "outputId": "f69ccb3a-9a4e-4dbf-cd55-fefea872811d"
      },
      "outputs": [
        {
          "name": "stdout",
          "output_type": "stream",
          "text": [
            "<class 'pandas.core.frame.DataFrame'>\n",
            "Int64Index: 9091 entries, 0 to 9998\n",
            "Data columns (total 12 columns):\n",
            " #   Column             Non-Null Count  Dtype  \n",
            "---  ------             --------------  -----  \n",
            " 0   CreditScore        9091 non-null   float32\n",
            " 1   Age                9091 non-null   float32\n",
            " 2   Tenure             9091 non-null   float32\n",
            " 3   Balance            9091 non-null   float32\n",
            " 4   NumOfProducts      9091 non-null   float32\n",
            " 5   HasCrCard          9091 non-null   float32\n",
            " 6   IsActiveMember     9091 non-null   float32\n",
            " 7   EstimatedSalary    9091 non-null   float32\n",
            " 8   Exited             9091 non-null   float32\n",
            " 9   Geography_Germany  9091 non-null   uint8  \n",
            " 10  Geography_Spain    9091 non-null   uint8  \n",
            " 11  Gender_Male        9091 non-null   uint8  \n",
            "dtypes: float32(9), uint8(3)\n",
            "memory usage: 417.3 KB\n"
          ]
        },
        {
          "data": {
            "text/plain": [
              "None"
            ]
          },
          "metadata": {},
          "output_type": "display_data"
        },
        {
          "data": {
            "text/html": [
              "<div>\n",
              "<style scoped>\n",
              "    .dataframe tbody tr th:only-of-type {\n",
              "        vertical-align: middle;\n",
              "    }\n",
              "\n",
              "    .dataframe tbody tr th {\n",
              "        vertical-align: top;\n",
              "    }\n",
              "\n",
              "    .dataframe thead th {\n",
              "        text-align: right;\n",
              "    }\n",
              "</style>\n",
              "<table border=\"1\" class=\"dataframe\">\n",
              "  <thead>\n",
              "    <tr style=\"text-align: right;\">\n",
              "      <th></th>\n",
              "      <th>CreditScore</th>\n",
              "      <th>Age</th>\n",
              "      <th>Tenure</th>\n",
              "      <th>Balance</th>\n",
              "      <th>NumOfProducts</th>\n",
              "      <th>HasCrCard</th>\n",
              "      <th>IsActiveMember</th>\n",
              "      <th>EstimatedSalary</th>\n",
              "      <th>Exited</th>\n",
              "      <th>Geography_Germany</th>\n",
              "      <th>Geography_Spain</th>\n",
              "      <th>Gender_Male</th>\n",
              "    </tr>\n",
              "  </thead>\n",
              "  <tbody>\n",
              "    <tr>\n",
              "      <th>0</th>\n",
              "      <td>619.0</td>\n",
              "      <td>42.0</td>\n",
              "      <td>2.0</td>\n",
              "      <td>0.000000</td>\n",
              "      <td>1.0</td>\n",
              "      <td>1.0</td>\n",
              "      <td>1.0</td>\n",
              "      <td>101348.882812</td>\n",
              "      <td>1.0</td>\n",
              "      <td>0</td>\n",
              "      <td>0</td>\n",
              "      <td>0</td>\n",
              "    </tr>\n",
              "    <tr>\n",
              "      <th>1</th>\n",
              "      <td>608.0</td>\n",
              "      <td>41.0</td>\n",
              "      <td>1.0</td>\n",
              "      <td>83807.859375</td>\n",
              "      <td>1.0</td>\n",
              "      <td>0.0</td>\n",
              "      <td>1.0</td>\n",
              "      <td>112542.578125</td>\n",
              "      <td>0.0</td>\n",
              "      <td>0</td>\n",
              "      <td>1</td>\n",
              "      <td>0</td>\n",
              "    </tr>\n",
              "    <tr>\n",
              "      <th>2</th>\n",
              "      <td>502.0</td>\n",
              "      <td>42.0</td>\n",
              "      <td>8.0</td>\n",
              "      <td>159660.796875</td>\n",
              "      <td>3.0</td>\n",
              "      <td>1.0</td>\n",
              "      <td>0.0</td>\n",
              "      <td>113931.570312</td>\n",
              "      <td>1.0</td>\n",
              "      <td>0</td>\n",
              "      <td>0</td>\n",
              "      <td>0</td>\n",
              "    </tr>\n",
              "  </tbody>\n",
              "</table>\n",
              "</div>"
            ],
            "text/plain": [
              "   CreditScore   Age  Tenure        Balance  NumOfProducts  HasCrCard  \\\n",
              "0        619.0  42.0     2.0       0.000000            1.0        1.0   \n",
              "1        608.0  41.0     1.0   83807.859375            1.0        0.0   \n",
              "2        502.0  42.0     8.0  159660.796875            3.0        1.0   \n",
              "\n",
              "   IsActiveMember  EstimatedSalary  Exited  Geography_Germany  \\\n",
              "0             1.0    101348.882812     1.0                  0   \n",
              "1             1.0    112542.578125     0.0                  0   \n",
              "2             0.0    113931.570312     1.0                  0   \n",
              "\n",
              "   Geography_Spain  Gender_Male  \n",
              "0                0            0  \n",
              "1                1            0  \n",
              "2                0            0  "
            ]
          },
          "metadata": {},
          "output_type": "display_data"
        }
      ],
      "source": [
        "display(data.info())\n",
        "display(data.head(3))"
      ]
    },
    {
      "cell_type": "markdown",
      "metadata": {
        "id": "Q2fAG3glTmNL"
      },
      "source": [
        "Выглядит неплохо, продолжим"
      ]
    },
    {
      "cell_type": "code",
      "execution_count": null,
      "metadata": {
        "id": "CcDt_y2GTmNM",
        "outputId": "97efa2c0-e325-431a-dbb7-45ab72d645cc"
      },
      "outputs": [
        {
          "name": "stdout",
          "output_type": "stream",
          "text": [
            "Размер обучающей выборки: (5454, 11)\n",
            "Размер валидационной выборки: (1818, 11)\n",
            "Размер тестовой выборки: (1819, 11)\n"
          ]
        }
      ],
      "source": [
        "target = data['Exited']\n",
        "features = data.drop(['Exited'] , axis=1)\n",
        "features_train, features_a, target_train, target_a = train_test_split(\n",
        "    features, target, test_size=0.4, random_state=12345) \n",
        "features_valid, features_test, target_valid, target_test = train_test_split(\n",
        "    features_a, target_a, test_size=0.5, random_state=12345) \n",
        "print('Размер обучающей выборки:', features_train.shape)\n",
        "print('Размер валидационной выборки:', features_valid.shape)\n",
        "print('Размер тестовой выборки:', features_test.shape)"
      ]
    },
    {
      "cell_type": "markdown",
      "metadata": {
        "id": "Vs8vWA03TmNO"
      },
      "source": [
        "## Исследование задачи"
      ]
    },
    {
      "cell_type": "code",
      "execution_count": null,
      "metadata": {
        "id": "OUOS_HYbTmNP",
        "outputId": "991258e1-e35e-44d0-8110-6b93740fb57f"
      },
      "outputs": [
        {
          "name": "stdout",
          "output_type": "stream",
          "text": [
            "Доля оттока: 0.2039379606203938\n"
          ]
        }
      ],
      "source": [
        "print('Доля оттока:', data.query('Exited == 1')['Exited'].count() / data['Exited'].count())"
      ]
    },
    {
      "cell_type": "markdown",
      "metadata": {
        "id": "iXyQQb9HTmNQ"
      },
      "source": [
        "\n",
        "    \n",
        "Мы нашли дисбаланс класса. Проблема в том, что если мы будем обучать модель на сырых данных, без учета дисбаланса,  то она может переучиться на определение доминирующего класса и не уметь определять другой. Так же дисбаланс оказывает влияние на выбор метрики обучения(accuracy тут уже не подойдет).\n"
      ]
    },
    {
      "cell_type": "markdown",
      "metadata": {
        "id": "YBrIMZ-VTmNR"
      },
      "source": [
        "20% записей клиентов со статусом \"Выбыл\"! действительно много. \n",
        "\n",
        "Выберем одну из моделей классификации для предсказаний оттока, обучив Решающее дерево, Случайный лес и Логистическую регрессию и сравнив базовые метрики:\n",
        "\n",
        "**Решающее дерево**"
      ]
    },
    {
      "cell_type": "code",
      "execution_count": null,
      "metadata": {
        "id": "DNmIexvDTmNR",
        "outputId": "fd304e16-d472-4c14-ae6d-438eb6c59b11"
      },
      "outputs": [
        {
          "name": "stdout",
          "output_type": "stream",
          "text": [
            "Accuracy наилучшей модели `DecisionTree` на валидационной выборке: 0.8586358635863587\n",
            "Оптимальный параметр max_depth: 6\n",
            "\n",
            "Точность на валидационной выборке: 0.7884615384615384\n",
            "Полнота на валидационной выборке: 0.4350132625994695\n",
            "F1 на валидационной выборке: 0.5606837606837607\n",
            "Сравнение со случайной моделью AUC-ROC: 0.8495399046859958\n"
          ]
        }
      ],
      "source": [
        "model_dtc = None\n",
        "best_result = 0\n",
        "best_depth = 0\n",
        "for depth in range(1, 10):\n",
        "    model = DecisionTreeClassifier(random_state=12345, max_depth=depth)\n",
        "    model.fit(features_train, target_train)\n",
        "    result = model.score(features_valid, target_valid)\n",
        "    if result > best_result:\n",
        "        model_dtc = model\n",
        "        best_result = result\n",
        "        best_depth = depth\n",
        "print('Accuracy наилучшей модели `DecisionTree` на валидационной выборке:', best_result)\n",
        "print('Оптимальный параметр max_depth:', best_depth)\n",
        "valid_predictions = model_dtc.predict(features_valid)\n",
        "print()\n",
        "print('Точность на валидационной выборке:', precision_score(target_valid, valid_predictions))\n",
        "print('Полнота на валидационной выборке:', recall_score(target_valid, valid_predictions))\n",
        "print('F1 на валидационной выборке:', f1_score(target_valid, valid_predictions))\n",
        "\n",
        "probabilities_valid = model_dtc.predict_proba(features_valid)\n",
        "probabilities_one_valid = probabilities_valid[:, 1]\n",
        "\n",
        "auc_roc = roc_auc_score(target_valid, probabilities_one_valid)\n",
        "\n",
        "print('Сравнение со случайной моделью AUC-ROC:', auc_roc)"
      ]
    },
    {
      "cell_type": "markdown",
      "metadata": {
        "id": "_shY0NnNTmNU"
      },
      "source": [
        "**Случайный лес**"
      ]
    },
    {
      "cell_type": "code",
      "execution_count": null,
      "metadata": {
        "id": "Y1_eNBIBTmNU",
        "outputId": "05b04d65-5cf0-4063-ec02-f5bc1d1ceb80"
      },
      "outputs": [
        {
          "name": "stdout",
          "output_type": "stream",
          "text": [
            "Accuracy наилучшей модели на валидационной выборке: 0.8646864686468647\n",
            "Оптимальный параметр n_estimators: 43\n",
            "\n",
            "Точность на валидационной выборке: 0.7717842323651453\n",
            "Полнота на валидационной выборке: 0.493368700265252\n",
            "F1 на валидационной выборке: 0.6019417475728156\n",
            "Сравнение со случайной моделью AUC-ROC: 0.853024443311361\n"
          ]
        }
      ],
      "source": [
        "model_rfc = None\n",
        "best_result = 0\n",
        "best_est = 0\n",
        "for est in range(1, 100):\n",
        "    model = RandomForestClassifier(random_state=12345, n_estimators=est)\n",
        "    model.fit(features_train, target_train) \n",
        "    result = model.score(features_valid, target_valid)\n",
        "    if result > best_result:\n",
        "        model_rfc = model\n",
        "        best_result = result\n",
        "        best_est = est\n",
        "\n",
        "print(\"Accuracy наилучшей модели на валидационной выборке:\", best_result)\n",
        "print('Оптимальный параметр n_estimators:', best_est)\n",
        "valid_predictions = model_rfc.predict(features_valid)\n",
        "print()\n",
        "print('Точность на валидационной выборке:', precision_score(target_valid, valid_predictions))\n",
        "print('Полнота на валидационной выборке:', recall_score(target_valid, valid_predictions))\n",
        "print('F1 на валидационной выборке:', f1_score(target_valid, valid_predictions))\n",
        "\n",
        "probabilities_valid = model_rfc.predict_proba(features_valid)\n",
        "probabilities_one_valid = probabilities_valid[:, 1]\n",
        "\n",
        "auc_roc = roc_auc_score(target_valid, probabilities_one_valid)\n",
        "\n",
        "print('Сравнение со случайной моделью AUC-ROC:', auc_roc)"
      ]
    },
    {
      "cell_type": "markdown",
      "metadata": {
        "id": "QNJ-fC74TmNZ"
      },
      "source": [
        "**Логистическая регрессия**"
      ]
    },
    {
      "cell_type": "code",
      "execution_count": null,
      "metadata": {
        "id": "XEn36hwcTmNZ",
        "outputId": "32190d70-314f-44e1-d4f2-791cd3f93c5c"
      },
      "outputs": [
        {
          "name": "stdout",
          "output_type": "stream",
          "text": [
            "Accuracy модели `LogisticRegression` на валидационной выборке 0.7887788778877888\n",
            "\n",
            "Точность на валидационной выборке: 0.40540540540540543\n",
            "Полнота на валидационной выборке: 0.03978779840848806\n",
            "F1 на валидационной выборке: 0.07246376811594203\n",
            "Сравнение со случайной моделью AUC-ROC: 0.6940674487397309\n"
          ]
        }
      ],
      "source": [
        "model_lr = LogisticRegression(random_state=12345, solver='liblinear') \n",
        "model_lr.fit(features_train, target_train)\n",
        "valid_predictions = model_lr.predict(features_valid)\n",
        "print('Accuracy модели `LogisticRegression` на валидационной выборке', accuracy_score(target_valid, valid_predictions))\n",
        "print()\n",
        "print('Точность на валидационной выборке:', precision_score(target_valid, valid_predictions))\n",
        "print('Полнота на валидационной выборке:', recall_score(target_valid, valid_predictions))\n",
        "print('F1 на валидационной выборке:', f1_score(target_valid, valid_predictions))\n",
        "\n",
        "probabilities_valid = model_lr.predict_proba(features_valid)\n",
        "probabilities_one_valid = probabilities_valid[:, 1]\n",
        "\n",
        "auc_roc = roc_auc_score(target_valid, probabilities_one_valid)\n",
        "\n",
        "print('Сравнение со случайной моделью AUC-ROC:', auc_roc)"
      ]
    },
    {
      "cell_type": "markdown",
      "metadata": {
        "id": "_k0V-b_CTmNb"
      },
      "source": [
        "линейный Accurasy - 0,8 (если всегда предсказывать 0 - то в 80% случаев предсказание будет точным). Логистическая регрессия примерно так и делает, возможно из-за дисбаланса в таргете. У остальных моделей результаты интереснее. \n",
        "\n",
        "Лучшие результаты в чистой выборке показала модель **Случайный лес** с критерием n_estimators=98. До минимального приемлемого по условиям результата F1 меры нехватило всего одной сотой.  Попробуем улучшить эту модель, поработав с балансом таргета"
      ]
    },
    {
      "cell_type": "markdown",
      "metadata": {
        "id": "98L-UqjuTmNe"
      },
      "source": [
        "## Борьба с дисбалансом"
      ]
    },
    {
      "cell_type": "markdown",
      "metadata": {
        "id": "d5EbVLspTmNh"
      },
      "source": [
        "Сначала увеличим объем единиц в таргете (сейчас соотношение 1/5, значит можно повторить выборку с положительным таргетом пять раз)"
      ]
    },
    {
      "cell_type": "code",
      "execution_count": null,
      "metadata": {
        "id": "7s6Hxp6fTmNh"
      },
      "outputs": [],
      "source": [
        "def upsample(features, target, repeat):\n",
        "    features_zeros = features_train[target == 0]\n",
        "    features_ones = features_train[target == 1]\n",
        "    target_zeros = target_train[target == 0]\n",
        "    target_ones = target_train[target == 1]\n",
        "\n",
        "    features_upsampled = pd.concat([features_zeros] + [features_ones] * repeat)\n",
        "    target_upsampled = pd.concat([target_zeros] + [target_ones] * repeat)\n",
        "    \n",
        "    features_upsampled, target_upsampled = shuffle(\n",
        "        features_upsampled, target_upsampled, random_state=12345)\n",
        "    \n",
        "    return features_upsampled, target_upsampled\n",
        "\n"
      ]
    },
    {
      "cell_type": "code",
      "execution_count": null,
      "metadata": {
        "id": "KIaKtBqHTmNi",
        "outputId": "f5d39cc7-2438-4c79-ad18-2103ee362200"
      },
      "outputs": [
        {
          "name": "stdout",
          "output_type": "stream",
          "text": [
            "F1 дополненной выборки: 0.6160583941605839\n",
            "Доля оттока в дополненной выборке: 0.5653745732074714\n"
          ]
        }
      ],
      "source": [
        "features_upsampled, target_upsampled = upsample(features_train, target_train, 5)\n",
        "\n",
        "RandomForestClassifier(random_state=12345, n_estimators=98)\n",
        "model.fit(features_upsampled, target_upsampled)\n",
        "predicted_valid = model.predict(features_valid)\n",
        "\n",
        "print(\"F1 дополненной выборки:\", f1_score(target_valid, predicted_valid))\n",
        "print('Доля оттока в дополненной выборке:', target_upsampled[target == 1].count() / target_upsampled.count())\n"
      ]
    },
    {
      "cell_type": "markdown",
      "metadata": {
        "id": "rPjnGb7bTmNk"
      },
      "source": [
        "Выиграли пару сотых и получили приемлемый результат. Попробуем наоборот, уменьшить объем выборки с нулевыми значениями в пять раз:"
      ]
    },
    {
      "cell_type": "code",
      "execution_count": null,
      "metadata": {
        "id": "gTOO1A4FTmNk"
      },
      "outputs": [],
      "source": [
        "def downsample(features, target, fraction): #the function increases the data selection and balances the target\n",
        "    features_zeros = features[target == 0]\n",
        "    features_ones = features[target == 1]\n",
        "    target_zeros = target[target == 0]\n",
        "    target_ones = target[target == 1]\n",
        "\n",
        "    features_downsampled = pd.concat(\n",
        "        [features_zeros.sample(frac=fraction, random_state=12345)] + [features_ones])\n",
        "    target_downsampled = pd.concat(\n",
        "        [target_zeros.sample(frac=fraction, random_state=12345)] + [target_ones])\n",
        "    \n",
        "    features_downsampled, target_downsampled = shuffle(\n",
        "        features_downsampled, target_downsampled, random_state=12345)\n",
        "    \n",
        "    return features_downsampled, target_downsampled"
      ]
    },
    {
      "cell_type": "code",
      "execution_count": null,
      "metadata": {
        "id": "Y3tK0vOVTmNl",
        "outputId": "0b638d7a-d60b-4cf0-c3ee-8e1c3eb6d9ed"
      },
      "outputs": [
        {
          "name": "stdout",
          "output_type": "stream",
          "text": [
            "F1 сокращенной выборки: 0.5699020480854853\n",
            "Доля оттока в сокращенной выборке: 0.5652610441767069\n"
          ]
        }
      ],
      "source": [
        "features_downsampled, target_downsampled = downsample(features_train, target_train, 0.2)\n",
        "\n",
        "RandomForestClassifier(random_state=12345, n_estimators=98)\n",
        "model.fit(features_downsampled, target_downsampled)\n",
        "predicted_valid = model.predict(features_valid)\n",
        "\n",
        "print(\"F1 сокращенной выборки:\", f1_score(target_valid, predicted_valid))\n",
        "print('Доля оттока в сокращенной выборке:', target_downsampled[target == 1].count() / target_downsampled.count())"
      ]
    },
    {
      "cell_type": "markdown",
      "metadata": {
        "id": "ayY-F-ieTmNm"
      },
      "source": [
        "Результаты downsample скромнее, а значит оставляем **модель Случайного леса с 98 деревьями на увеличенной выборке**. "
      ]
    },
    {
      "cell_type": "markdown",
      "metadata": {
        "id": "hhIFqlzgTmNo"
      },
      "source": [
        "## Тестирование модели"
      ]
    },
    {
      "cell_type": "markdown",
      "metadata": {
        "id": "mI0tcgIJTmNo"
      },
      "source": [
        "Перед тестированием модели мы можем еще улучшить ее, обучив на увеличенной выборке (train + valid)"
      ]
    },
    {
      "cell_type": "code",
      "execution_count": null,
      "metadata": {
        "id": "91qzfqgATmNp",
        "outputId": "8fbbf970-5c34-4114-99d2-d33c28d03c04"
      },
      "outputs": [
        {
          "name": "stdout",
          "output_type": "stream",
          "text": [
            "Размер обучающей выборки: (7272, 11)\n",
            "Размер тестовой выборки: (1819, 11)\n"
          ]
        }
      ],
      "source": [
        "features_train, features_test, target_train, target_test = train_test_split(\n",
        "    features, target, test_size=0.2, random_state=12345)\n",
        "print('Размер обучающей выборки:', features_train.shape)\n",
        "print('Размер тестовой выборки:', features_test.shape)"
      ]
    },
    {
      "cell_type": "code",
      "execution_count": null,
      "metadata": {
        "id": "9k8MhqJITmNr",
        "outputId": "e4974d03-cc4b-43ce-8858-4a0ef05c0c5e"
      },
      "outputs": [
        {
          "name": "stdout",
          "output_type": "stream",
          "text": [
            "Accuracy Случайного леса на тестовой выборке 0.8521165475536009\n",
            "\n",
            "Точность на тестовой выборке: 0.668918918918919\n",
            "Полнота на тестовой выборке: 0.5365853658536586\n",
            "F1 на тестовой выборке: 0.5954887218045114\n",
            "Сравнение со случайной моделью AUC-ROC: 0.8513933277263808\n"
          ]
        }
      ],
      "source": [
        "features_upsampled, target_upsampled = upsample(features_train, target_train, 5)\n",
        "\n",
        "RandomForestClassifier(random_state=12345, n_estimators=98)\n",
        "model.fit(features_upsampled, target_upsampled)\n",
        "test_predictions = model.predict(features_test)\n",
        "\n",
        "print('Accuracy Случайного леса на тестовой выборке', accuracy_score(target_test, test_predictions))\n",
        "print()\n",
        "print('Точность на тестовой выборке:', precision_score(target_test, test_predictions))\n",
        "print('Полнота на тестовой выборке:', recall_score(target_test, test_predictions))\n",
        "print('F1 на тестовой выборке:', f1_score(target_test, test_predictions))\n",
        "\n",
        "probabilities_test = model.predict_proba(features_test)\n",
        "probabilities_one_test = probabilities_test[:, 1]\n",
        "\n",
        "auc_roc = roc_auc_score(target_test, probabilities_one_test)\n",
        "\n",
        "print('Сравнение со случайной моделью AUC-ROC:', auc_roc)"
      ]
    },
    {
      "cell_type": "markdown",
      "metadata": {
        "id": "rSjmwCMGTmNs"
      },
      "source": [
        "Получилось! Целевой барьер значения F1 меры преодолен, модель на тестовой выборке показывает значения заметно лучше случайной выборки и линейной модели. \n",
        "\n",
        "Наша модель может с заданной точностью предсказывать отток клиентов по их поведению (набору фич), ее можно использовать для выявления потенциально уходящих клиентов и сокращения оттока. \n",
        "\n"
      ]
    },
    {
      "cell_type": "markdown",
      "metadata": {
        "id": "JrQiyVrVTmNt"
      },
      "source": [
        "## Чек-лист готовности проекта"
      ]
    },
    {
      "cell_type": "markdown",
      "metadata": {
        "id": "AqWKsjRnTmNt"
      },
      "source": [
        "Поставьте 'x' в выполненных пунктах. Далее нажмите Shift+Enter."
      ]
    },
    {
      "cell_type": "markdown",
      "metadata": {
        "id": "Ik4lYdNlTmNu"
      },
      "source": [
        "- [x]  Jupyter Notebook открыт\n",
        "- [x]  Весь код выполняется без ошибок\n",
        "- [x]  Ячейки с кодом расположены в порядке исполнения\n",
        "- [x]  Выполнен шаг 1: данные подготовлены\n",
        "- [x]  Выполнен шаг 2: задача исследована\n",
        "    - [x]  Исследован баланс классов\n",
        "    - [x]  Изучены модели без учёта дисбаланса\n",
        "    - [x]  Написаны выводы по результатам исследования\n",
        "- [x]  Выполнен шаг 3: учтён дисбаланс\n",
        "    - [x]  Применено несколько способов борьбы с дисбалансом\n",
        "    - [x]  Написаны выводы по результатам исследования\n",
        "- [x]  Выполнен шаг 4: проведено тестирование\n",
        "- [x]  Удалось достичь *F1*-меры не менее 0.59\n",
        "- [x]  Исследована метрика *AUC-ROC*"
      ]
    }
  ],
  "metadata": {
    "ExecuteTimeLog": [
      {
        "duration": 1193,
        "start_time": "2022-04-26T19:23:24.357Z"
      },
      {
        "duration": 75,
        "start_time": "2022-04-26T19:23:28.608Z"
      },
      {
        "duration": 54,
        "start_time": "2022-04-26T19:28:47.053Z"
      },
      {
        "duration": 101,
        "start_time": "2022-04-26T19:38:59.386Z"
      },
      {
        "duration": 3,
        "start_time": "2022-04-26T19:39:06.040Z"
      },
      {
        "duration": 50,
        "start_time": "2022-04-26T19:39:10.004Z"
      },
      {
        "duration": 22,
        "start_time": "2022-04-26T19:39:16.829Z"
      },
      {
        "duration": 5,
        "start_time": "2022-04-26T19:42:27.386Z"
      },
      {
        "duration": 9,
        "start_time": "2022-04-26T19:43:10.532Z"
      },
      {
        "duration": 10,
        "start_time": "2022-04-26T19:43:15.871Z"
      },
      {
        "duration": 5,
        "start_time": "2022-04-26T19:44:05.145Z"
      },
      {
        "duration": 25,
        "start_time": "2022-04-26T19:45:29.370Z"
      },
      {
        "duration": 18,
        "start_time": "2022-04-26T19:49:03.512Z"
      },
      {
        "duration": 20,
        "start_time": "2022-04-26T19:49:28.884Z"
      },
      {
        "duration": 6,
        "start_time": "2022-04-26T19:50:07.127Z"
      },
      {
        "duration": 24,
        "start_time": "2022-04-26T19:51:03.306Z"
      },
      {
        "duration": 22,
        "start_time": "2022-04-26T19:51:16.243Z"
      },
      {
        "duration": 16,
        "start_time": "2022-04-26T19:52:41.106Z"
      },
      {
        "duration": 11,
        "start_time": "2022-04-26T19:57:32.675Z"
      },
      {
        "duration": 27,
        "start_time": "2022-04-26T19:57:55.335Z"
      },
      {
        "duration": 32,
        "start_time": "2022-04-26T19:58:23.480Z"
      },
      {
        "duration": 29,
        "start_time": "2022-04-26T19:58:28.037Z"
      },
      {
        "duration": 7,
        "start_time": "2022-04-26T20:03:54.458Z"
      },
      {
        "duration": 30,
        "start_time": "2022-04-26T20:03:58.460Z"
      },
      {
        "duration": 28,
        "start_time": "2022-04-26T20:04:03.141Z"
      },
      {
        "duration": 10,
        "start_time": "2022-04-26T20:05:22.627Z"
      },
      {
        "duration": 14,
        "start_time": "2022-04-26T20:05:31.570Z"
      },
      {
        "duration": 9,
        "start_time": "2022-04-26T20:05:38.409Z"
      },
      {
        "duration": 1142,
        "start_time": "2022-04-26T20:05:45.341Z"
      },
      {
        "duration": 58,
        "start_time": "2022-04-26T20:05:46.486Z"
      },
      {
        "duration": 15,
        "start_time": "2022-04-26T20:05:46.546Z"
      },
      {
        "duration": 27,
        "start_time": "2022-04-26T20:05:46.563Z"
      },
      {
        "duration": 13,
        "start_time": "2022-04-26T20:05:46.592Z"
      },
      {
        "duration": 25,
        "start_time": "2022-04-26T20:05:46.607Z"
      },
      {
        "duration": 55,
        "start_time": "2022-04-26T20:05:46.634Z"
      },
      {
        "duration": 26,
        "start_time": "2022-04-26T20:05:46.691Z"
      },
      {
        "duration": 2049,
        "start_time": "2022-04-26T20:05:46.719Z"
      },
      {
        "duration": 1156,
        "start_time": "2022-04-26T20:06:15.586Z"
      },
      {
        "duration": 61,
        "start_time": "2022-04-26T20:06:16.744Z"
      },
      {
        "duration": 14,
        "start_time": "2022-04-26T20:06:16.807Z"
      },
      {
        "duration": 12,
        "start_time": "2022-04-26T20:06:16.823Z"
      },
      {
        "duration": 9,
        "start_time": "2022-04-26T20:06:16.837Z"
      },
      {
        "duration": 57,
        "start_time": "2022-04-26T20:06:16.848Z"
      },
      {
        "duration": 28,
        "start_time": "2022-04-26T20:06:16.907Z"
      },
      {
        "duration": 54,
        "start_time": "2022-04-26T20:06:16.936Z"
      },
      {
        "duration": 1997,
        "start_time": "2022-04-26T20:06:16.992Z"
      },
      {
        "duration": 25,
        "start_time": "2022-04-26T20:06:48.705Z"
      },
      {
        "duration": 19,
        "start_time": "2022-04-26T20:09:51.369Z"
      },
      {
        "duration": 25,
        "start_time": "2022-04-26T20:09:55.672Z"
      },
      {
        "duration": 1115,
        "start_time": "2022-04-26T20:10:39.625Z"
      },
      {
        "duration": 65,
        "start_time": "2022-04-26T20:10:40.742Z"
      },
      {
        "duration": 16,
        "start_time": "2022-04-26T20:10:40.809Z"
      },
      {
        "duration": 31,
        "start_time": "2022-04-26T20:10:40.827Z"
      },
      {
        "duration": 30,
        "start_time": "2022-04-26T20:10:40.860Z"
      },
      {
        "duration": 48,
        "start_time": "2022-04-26T20:10:40.892Z"
      },
      {
        "duration": 17,
        "start_time": "2022-04-26T20:10:40.942Z"
      },
      {
        "duration": 36,
        "start_time": "2022-04-26T20:10:40.960Z"
      },
      {
        "duration": 1771,
        "start_time": "2022-04-26T20:10:40.999Z"
      },
      {
        "duration": 1665,
        "start_time": "2022-04-27T07:25:27.267Z"
      },
      {
        "duration": 83,
        "start_time": "2022-04-27T07:25:28.935Z"
      },
      {
        "duration": 47,
        "start_time": "2022-04-27T07:25:29.020Z"
      },
      {
        "duration": 19,
        "start_time": "2022-04-27T07:25:29.071Z"
      },
      {
        "duration": 23,
        "start_time": "2022-04-27T07:25:29.093Z"
      },
      {
        "duration": 37,
        "start_time": "2022-04-27T07:25:29.151Z"
      },
      {
        "duration": 31,
        "start_time": "2022-04-27T07:25:29.191Z"
      },
      {
        "duration": 82,
        "start_time": "2022-04-27T07:25:29.225Z"
      },
      {
        "duration": 1963,
        "start_time": "2022-04-27T07:25:29.310Z"
      },
      {
        "duration": 36,
        "start_time": "2022-04-27T07:36:41.262Z"
      },
      {
        "duration": 117,
        "start_time": "2022-04-27T07:37:32.983Z"
      },
      {
        "duration": 23,
        "start_time": "2022-04-27T07:38:41.638Z"
      },
      {
        "duration": 1607,
        "start_time": "2022-04-27T07:38:51.171Z"
      },
      {
        "duration": 87,
        "start_time": "2022-04-27T07:38:52.781Z"
      },
      {
        "duration": 24,
        "start_time": "2022-04-27T07:38:52.871Z"
      },
      {
        "duration": 17,
        "start_time": "2022-04-27T07:38:52.898Z"
      },
      {
        "duration": 37,
        "start_time": "2022-04-27T07:38:52.917Z"
      },
      {
        "duration": 28,
        "start_time": "2022-04-27T07:38:52.956Z"
      },
      {
        "duration": 21,
        "start_time": "2022-04-27T07:38:52.987Z"
      },
      {
        "duration": 69,
        "start_time": "2022-04-27T07:38:53.010Z"
      },
      {
        "duration": 299,
        "start_time": "2022-04-27T07:38:53.081Z"
      },
      {
        "duration": 11,
        "start_time": "2022-04-27T07:41:17.406Z"
      },
      {
        "duration": 20,
        "start_time": "2022-04-27T07:42:16.587Z"
      },
      {
        "duration": 17,
        "start_time": "2022-04-27T07:42:25.950Z"
      },
      {
        "duration": 18,
        "start_time": "2022-04-27T07:42:49.894Z"
      },
      {
        "duration": 20,
        "start_time": "2022-04-27T07:46:01.122Z"
      },
      {
        "duration": 19,
        "start_time": "2022-04-27T07:46:13.168Z"
      },
      {
        "duration": 15,
        "start_time": "2022-04-27T07:46:21.344Z"
      },
      {
        "duration": 21,
        "start_time": "2022-04-27T07:46:36.856Z"
      },
      {
        "duration": 22,
        "start_time": "2022-04-27T07:50:21.057Z"
      },
      {
        "duration": 18,
        "start_time": "2022-04-27T07:50:36.442Z"
      },
      {
        "duration": 13,
        "start_time": "2022-04-27T07:50:43.834Z"
      },
      {
        "duration": 13,
        "start_time": "2022-04-27T07:51:52.178Z"
      },
      {
        "duration": 15,
        "start_time": "2022-04-27T07:52:40.538Z"
      },
      {
        "duration": 12,
        "start_time": "2022-04-27T07:53:05.973Z"
      },
      {
        "duration": 10,
        "start_time": "2022-04-27T07:53:54.164Z"
      },
      {
        "duration": 9,
        "start_time": "2022-04-27T09:26:47.382Z"
      },
      {
        "duration": 4,
        "start_time": "2022-04-27T10:04:16.737Z"
      },
      {
        "duration": 254,
        "start_time": "2022-04-27T10:06:18.979Z"
      },
      {
        "duration": 7,
        "start_time": "2022-04-27T10:10:31.930Z"
      },
      {
        "duration": 208,
        "start_time": "2022-04-27T10:16:57.397Z"
      },
      {
        "duration": 13194,
        "start_time": "2022-04-27T10:36:36.991Z"
      },
      {
        "duration": 54337,
        "start_time": "2022-04-27T10:37:07.893Z"
      },
      {
        "duration": 3309,
        "start_time": "2022-04-27T10:40:13.751Z"
      },
      {
        "duration": 225,
        "start_time": "2022-04-27T10:41:27.230Z"
      },
      {
        "duration": 311,
        "start_time": "2022-04-27T10:43:36.816Z"
      },
      {
        "duration": 770,
        "start_time": "2022-04-27T10:44:03.482Z"
      },
      {
        "duration": 343,
        "start_time": "2022-04-27T10:44:36.473Z"
      },
      {
        "duration": 53741,
        "start_time": "2022-04-27T10:44:54.162Z"
      },
      {
        "duration": 163,
        "start_time": "2022-04-27T10:45:47.906Z"
      },
      {
        "duration": 2180,
        "start_time": "2022-04-27T10:48:00.705Z"
      },
      {
        "duration": 89,
        "start_time": "2022-04-27T10:48:02.889Z"
      },
      {
        "duration": 24,
        "start_time": "2022-04-27T10:48:02.981Z"
      },
      {
        "duration": 19,
        "start_time": "2022-04-27T10:48:03.009Z"
      },
      {
        "duration": 21,
        "start_time": "2022-04-27T10:48:03.052Z"
      },
      {
        "duration": 39,
        "start_time": "2022-04-27T10:48:03.076Z"
      },
      {
        "duration": 53,
        "start_time": "2022-04-27T10:48:03.118Z"
      },
      {
        "duration": 42,
        "start_time": "2022-04-27T10:48:03.174Z"
      },
      {
        "duration": 38,
        "start_time": "2022-04-27T10:48:03.219Z"
      },
      {
        "duration": 17,
        "start_time": "2022-04-27T10:48:03.264Z"
      },
      {
        "duration": 233,
        "start_time": "2022-04-27T10:48:03.284Z"
      },
      {
        "duration": 58772,
        "start_time": "2022-04-27T10:48:03.519Z"
      },
      {
        "duration": 175,
        "start_time": "2022-04-27T10:49:02.293Z"
      },
      {
        "duration": 740,
        "start_time": "2022-04-27T11:00:58.806Z"
      },
      {
        "duration": 902,
        "start_time": "2022-04-27T11:03:09.873Z"
      },
      {
        "duration": 761,
        "start_time": "2022-04-27T11:03:21.468Z"
      },
      {
        "duration": 6,
        "start_time": "2022-04-27T12:03:06.890Z"
      },
      {
        "duration": 8,
        "start_time": "2022-04-27T12:05:01.552Z"
      },
      {
        "duration": 30,
        "start_time": "2022-04-27T12:08:15.430Z"
      },
      {
        "duration": 11,
        "start_time": "2022-04-27T12:08:58.147Z"
      },
      {
        "duration": 610,
        "start_time": "2022-04-27T12:09:04.188Z"
      },
      {
        "duration": 711,
        "start_time": "2022-04-27T12:35:09.378Z"
      },
      {
        "duration": 119,
        "start_time": "2022-04-27T12:37:52.264Z"
      },
      {
        "duration": 609,
        "start_time": "2022-04-27T12:38:01.385Z"
      },
      {
        "duration": 2080,
        "start_time": "2022-04-27T12:42:53.775Z"
      },
      {
        "duration": 107,
        "start_time": "2022-04-27T12:42:55.859Z"
      },
      {
        "duration": 29,
        "start_time": "2022-04-27T12:42:55.972Z"
      },
      {
        "duration": 17,
        "start_time": "2022-04-27T12:42:56.004Z"
      },
      {
        "duration": 14,
        "start_time": "2022-04-27T12:42:56.024Z"
      },
      {
        "duration": 45,
        "start_time": "2022-04-27T12:42:56.053Z"
      },
      {
        "duration": 22,
        "start_time": "2022-04-27T12:42:56.100Z"
      },
      {
        "duration": 55,
        "start_time": "2022-04-27T12:42:56.124Z"
      },
      {
        "duration": 28,
        "start_time": "2022-04-27T12:42:56.182Z"
      },
      {
        "duration": 26,
        "start_time": "2022-04-27T12:42:56.212Z"
      },
      {
        "duration": 235,
        "start_time": "2022-04-27T12:42:56.241Z"
      },
      {
        "duration": 62108,
        "start_time": "2022-04-27T12:42:56.479Z"
      },
      {
        "duration": 183,
        "start_time": "2022-04-27T12:43:58.590Z"
      },
      {
        "duration": 70,
        "start_time": "2022-04-27T12:43:58.786Z"
      },
      {
        "duration": 2282,
        "start_time": "2022-04-27T12:43:58.864Z"
      },
      {
        "duration": 981,
        "start_time": "2022-04-27T12:44:01.148Z"
      },
      {
        "duration": 7,
        "start_time": "2022-04-27T12:49:36.205Z"
      },
      {
        "duration": 312,
        "start_time": "2022-04-27T12:51:12.814Z"
      },
      {
        "duration": 314,
        "start_time": "2022-04-27T12:51:43.502Z"
      },
      {
        "duration": 140,
        "start_time": "2022-04-27T12:57:54.059Z"
      },
      {
        "duration": 10,
        "start_time": "2022-04-27T13:02:35.481Z"
      },
      {
        "duration": 11,
        "start_time": "2022-04-27T13:02:46.336Z"
      },
      {
        "duration": 2243,
        "start_time": "2022-04-27T13:06:05.194Z"
      },
      {
        "duration": 2740,
        "start_time": "2022-04-27T13:15:45.182Z"
      },
      {
        "duration": 172,
        "start_time": "2022-04-27T13:15:47.925Z"
      },
      {
        "duration": 60,
        "start_time": "2022-04-27T13:15:48.101Z"
      },
      {
        "duration": 20,
        "start_time": "2022-04-27T13:15:48.166Z"
      },
      {
        "duration": 15,
        "start_time": "2022-04-27T13:15:48.188Z"
      },
      {
        "duration": 70,
        "start_time": "2022-04-27T13:15:48.206Z"
      },
      {
        "duration": 31,
        "start_time": "2022-04-27T13:15:48.279Z"
      },
      {
        "duration": 71,
        "start_time": "2022-04-27T13:15:48.314Z"
      },
      {
        "duration": 17,
        "start_time": "2022-04-27T13:15:48.387Z"
      },
      {
        "duration": 11,
        "start_time": "2022-04-27T13:15:48.409Z"
      },
      {
        "duration": 252,
        "start_time": "2022-04-27T13:15:48.423Z"
      },
      {
        "duration": 63688,
        "start_time": "2022-04-27T13:15:48.678Z"
      },
      {
        "duration": 306,
        "start_time": "2022-04-27T13:16:52.368Z"
      },
      {
        "duration": 85,
        "start_time": "2022-04-27T13:16:52.678Z"
      },
      {
        "duration": 1648,
        "start_time": "2022-04-27T13:16:52.766Z"
      },
      {
        "duration": 6,
        "start_time": "2022-04-27T13:16:54.416Z"
      },
      {
        "duration": 729,
        "start_time": "2022-04-27T13:16:54.424Z"
      },
      {
        "duration": 105,
        "start_time": "2022-04-27T13:16:55.156Z"
      },
      {
        "duration": 0,
        "start_time": "2022-04-27T13:16:55.264Z"
      },
      {
        "duration": 0,
        "start_time": "2022-04-27T13:16:55.267Z"
      },
      {
        "duration": 2077,
        "start_time": "2022-04-27T13:19:58.377Z"
      },
      {
        "duration": 84,
        "start_time": "2022-04-27T13:20:00.458Z"
      },
      {
        "duration": 46,
        "start_time": "2022-04-27T13:20:00.544Z"
      },
      {
        "duration": 27,
        "start_time": "2022-04-27T13:20:00.592Z"
      },
      {
        "duration": 19,
        "start_time": "2022-04-27T13:20:00.622Z"
      },
      {
        "duration": 43,
        "start_time": "2022-04-27T13:20:00.644Z"
      },
      {
        "duration": 23,
        "start_time": "2022-04-27T13:20:00.690Z"
      },
      {
        "duration": 70,
        "start_time": "2022-04-27T13:20:00.716Z"
      },
      {
        "duration": 42,
        "start_time": "2022-04-27T13:20:00.789Z"
      },
      {
        "duration": 9,
        "start_time": "2022-04-27T13:20:00.834Z"
      },
      {
        "duration": 327,
        "start_time": "2022-04-27T13:20:00.846Z"
      },
      {
        "duration": 55325,
        "start_time": "2022-04-27T13:20:01.175Z"
      },
      {
        "duration": 356,
        "start_time": "2022-04-27T13:20:56.503Z"
      },
      {
        "duration": 13,
        "start_time": "2022-04-27T13:20:56.863Z"
      },
      {
        "duration": 1691,
        "start_time": "2022-04-27T13:20:56.884Z"
      },
      {
        "duration": 7,
        "start_time": "2022-04-27T13:20:58.577Z"
      },
      {
        "duration": 509,
        "start_time": "2022-04-27T13:20:58.587Z"
      },
      {
        "duration": 9,
        "start_time": "2022-04-27T13:20:59.098Z"
      },
      {
        "duration": 3008,
        "start_time": "2022-04-27T13:20:59.109Z"
      },
      {
        "duration": 2519,
        "start_time": "2022-04-27T13:23:21.499Z"
      },
      {
        "duration": 92,
        "start_time": "2022-04-27T13:23:24.021Z"
      },
      {
        "duration": 49,
        "start_time": "2022-04-27T13:23:24.116Z"
      },
      {
        "duration": 46,
        "start_time": "2022-04-27T13:23:24.167Z"
      },
      {
        "duration": 41,
        "start_time": "2022-04-27T13:23:24.216Z"
      },
      {
        "duration": 42,
        "start_time": "2022-04-27T13:23:24.264Z"
      },
      {
        "duration": 42,
        "start_time": "2022-04-27T13:23:24.308Z"
      },
      {
        "duration": 118,
        "start_time": "2022-04-27T13:23:24.355Z"
      },
      {
        "duration": 30,
        "start_time": "2022-04-27T13:23:24.476Z"
      },
      {
        "duration": 47,
        "start_time": "2022-04-27T13:23:24.509Z"
      },
      {
        "duration": 252,
        "start_time": "2022-04-27T13:23:24.566Z"
      },
      {
        "duration": 60713,
        "start_time": "2022-04-27T13:23:24.820Z"
      },
      {
        "duration": 316,
        "start_time": "2022-04-27T13:24:25.536Z"
      },
      {
        "duration": 19,
        "start_time": "2022-04-27T13:24:25.862Z"
      },
      {
        "duration": 2155,
        "start_time": "2022-04-27T13:24:25.890Z"
      },
      {
        "duration": 18,
        "start_time": "2022-04-27T13:24:28.053Z"
      },
      {
        "duration": 728,
        "start_time": "2022-04-27T13:24:28.076Z"
      },
      {
        "duration": 10,
        "start_time": "2022-04-27T13:24:28.806Z"
      },
      {
        "duration": 2562,
        "start_time": "2022-04-27T13:24:28.819Z"
      },
      {
        "duration": 55971,
        "start_time": "2022-04-28T10:20:53.003Z"
      },
      {
        "duration": 65,
        "start_time": "2022-04-28T10:21:48.976Z"
      },
      {
        "duration": 16,
        "start_time": "2022-04-28T10:21:49.043Z"
      },
      {
        "duration": 81,
        "start_time": "2022-04-28T10:21:49.060Z"
      },
      {
        "duration": 8,
        "start_time": "2022-04-28T10:21:49.144Z"
      },
      {
        "duration": 18,
        "start_time": "2022-04-28T10:21:49.154Z"
      },
      {
        "duration": 14,
        "start_time": "2022-04-28T10:21:49.173Z"
      },
      {
        "duration": 20,
        "start_time": "2022-04-28T10:21:49.189Z"
      },
      {
        "duration": 19,
        "start_time": "2022-04-28T10:21:49.210Z"
      },
      {
        "duration": 6,
        "start_time": "2022-04-28T10:21:49.231Z"
      },
      {
        "duration": 145,
        "start_time": "2022-04-28T10:21:49.238Z"
      },
      {
        "duration": 31678,
        "start_time": "2022-04-28T10:21:49.384Z"
      },
      {
        "duration": 66,
        "start_time": "2022-04-28T10:22:21.064Z"
      },
      {
        "duration": 94,
        "start_time": "2022-04-28T10:22:21.133Z"
      },
      {
        "duration": 1000,
        "start_time": "2022-04-28T10:22:21.229Z"
      },
      {
        "duration": 4,
        "start_time": "2022-04-28T10:22:22.231Z"
      },
      {
        "duration": 320,
        "start_time": "2022-04-28T10:22:22.237Z"
      },
      {
        "duration": 6,
        "start_time": "2022-04-28T10:22:22.559Z"
      },
      {
        "duration": 1258,
        "start_time": "2022-04-28T10:22:22.566Z"
      },
      {
        "duration": 1820,
        "start_time": "2022-04-28T12:39:36.453Z"
      },
      {
        "duration": 65,
        "start_time": "2022-04-28T12:39:38.275Z"
      },
      {
        "duration": 24,
        "start_time": "2022-04-28T12:39:38.342Z"
      },
      {
        "duration": 14,
        "start_time": "2022-04-28T12:39:38.367Z"
      },
      {
        "duration": 10,
        "start_time": "2022-04-28T12:39:38.384Z"
      },
      {
        "duration": 5,
        "start_time": "2022-04-28T12:39:38.395Z"
      },
      {
        "duration": 37,
        "start_time": "2022-04-28T12:39:38.402Z"
      },
      {
        "duration": 30,
        "start_time": "2022-04-28T12:39:38.441Z"
      },
      {
        "duration": 22,
        "start_time": "2022-04-28T12:39:38.473Z"
      },
      {
        "duration": 10,
        "start_time": "2022-04-28T12:39:38.497Z"
      },
      {
        "duration": 16,
        "start_time": "2022-04-28T12:39:38.508Z"
      },
      {
        "duration": 192,
        "start_time": "2022-04-28T12:39:38.525Z"
      },
      {
        "duration": 37237,
        "start_time": "2022-04-28T12:39:38.719Z"
      },
      {
        "duration": 179,
        "start_time": "2022-04-28T12:40:15.959Z"
      },
      {
        "duration": 8,
        "start_time": "2022-04-28T12:40:16.139Z"
      },
      {
        "duration": 1130,
        "start_time": "2022-04-28T12:40:16.149Z"
      },
      {
        "duration": 4,
        "start_time": "2022-04-28T12:40:17.281Z"
      },
      {
        "duration": 359,
        "start_time": "2022-04-28T12:40:17.287Z"
      },
      {
        "duration": 6,
        "start_time": "2022-04-28T12:40:17.648Z"
      },
      {
        "duration": 1454,
        "start_time": "2022-04-28T12:40:17.656Z"
      },
      {
        "duration": 111,
        "start_time": "2022-04-28T12:44:14.586Z"
      },
      {
        "duration": 1549,
        "start_time": "2022-04-28T12:44:29.010Z"
      },
      {
        "duration": 58,
        "start_time": "2022-04-28T12:44:30.561Z"
      },
      {
        "duration": 27,
        "start_time": "2022-04-28T12:44:30.621Z"
      },
      {
        "duration": 20,
        "start_time": "2022-04-28T12:44:30.650Z"
      },
      {
        "duration": 10,
        "start_time": "2022-04-28T12:44:30.672Z"
      },
      {
        "duration": 3,
        "start_time": "2022-04-28T12:44:30.683Z"
      },
      {
        "duration": 136,
        "start_time": "2022-04-28T12:44:30.688Z"
      },
      {
        "duration": 0,
        "start_time": "2022-04-28T12:44:30.826Z"
      },
      {
        "duration": 0,
        "start_time": "2022-04-28T12:44:30.836Z"
      },
      {
        "duration": 0,
        "start_time": "2022-04-28T12:44:30.838Z"
      },
      {
        "duration": 0,
        "start_time": "2022-04-28T12:44:30.839Z"
      },
      {
        "duration": 0,
        "start_time": "2022-04-28T12:44:30.840Z"
      },
      {
        "duration": 0,
        "start_time": "2022-04-28T12:44:30.842Z"
      },
      {
        "duration": 0,
        "start_time": "2022-04-28T12:44:30.844Z"
      },
      {
        "duration": 0,
        "start_time": "2022-04-28T12:44:30.845Z"
      },
      {
        "duration": 0,
        "start_time": "2022-04-28T12:44:30.847Z"
      },
      {
        "duration": 0,
        "start_time": "2022-04-28T12:44:30.848Z"
      },
      {
        "duration": 0,
        "start_time": "2022-04-28T12:44:30.850Z"
      },
      {
        "duration": 0,
        "start_time": "2022-04-28T12:44:30.852Z"
      },
      {
        "duration": 0,
        "start_time": "2022-04-28T12:44:30.853Z"
      },
      {
        "duration": 0,
        "start_time": "2022-04-28T12:44:30.855Z"
      },
      {
        "duration": 9,
        "start_time": "2022-04-28T12:45:10.414Z"
      },
      {
        "duration": 1514,
        "start_time": "2022-04-28T12:45:28.078Z"
      },
      {
        "duration": 58,
        "start_time": "2022-04-28T12:45:29.594Z"
      },
      {
        "duration": 15,
        "start_time": "2022-04-28T12:45:29.654Z"
      },
      {
        "duration": 12,
        "start_time": "2022-04-28T12:45:29.671Z"
      },
      {
        "duration": 8,
        "start_time": "2022-04-28T12:45:29.685Z"
      },
      {
        "duration": 4,
        "start_time": "2022-04-28T12:45:29.695Z"
      },
      {
        "duration": 147,
        "start_time": "2022-04-28T12:45:29.700Z"
      },
      {
        "duration": 0,
        "start_time": "2022-04-28T12:45:29.850Z"
      },
      {
        "duration": 0,
        "start_time": "2022-04-28T12:45:29.851Z"
      },
      {
        "duration": 0,
        "start_time": "2022-04-28T12:45:29.852Z"
      },
      {
        "duration": 0,
        "start_time": "2022-04-28T12:45:29.853Z"
      },
      {
        "duration": 0,
        "start_time": "2022-04-28T12:45:29.854Z"
      },
      {
        "duration": 0,
        "start_time": "2022-04-28T12:45:29.855Z"
      },
      {
        "duration": 0,
        "start_time": "2022-04-28T12:45:29.856Z"
      },
      {
        "duration": 0,
        "start_time": "2022-04-28T12:45:29.857Z"
      },
      {
        "duration": 0,
        "start_time": "2022-04-28T12:45:29.858Z"
      },
      {
        "duration": 0,
        "start_time": "2022-04-28T12:45:29.859Z"
      },
      {
        "duration": 0,
        "start_time": "2022-04-28T12:45:29.861Z"
      },
      {
        "duration": 0,
        "start_time": "2022-04-28T12:45:29.861Z"
      },
      {
        "duration": 1,
        "start_time": "2022-04-28T12:45:29.862Z"
      },
      {
        "duration": 0,
        "start_time": "2022-04-28T12:45:29.863Z"
      },
      {
        "duration": 6,
        "start_time": "2022-04-28T12:45:57.864Z"
      },
      {
        "duration": 12,
        "start_time": "2022-04-28T12:52:28.716Z"
      },
      {
        "duration": 15,
        "start_time": "2022-04-28T12:52:35.667Z"
      },
      {
        "duration": 25,
        "start_time": "2022-04-28T12:52:38.626Z"
      },
      {
        "duration": 3212,
        "start_time": "2022-04-28T13:00:50.895Z"
      },
      {
        "duration": 70,
        "start_time": "2022-04-28T13:00:54.109Z"
      },
      {
        "duration": 17,
        "start_time": "2022-04-28T13:00:54.181Z"
      },
      {
        "duration": 37,
        "start_time": "2022-04-28T13:00:54.201Z"
      },
      {
        "duration": 13,
        "start_time": "2022-04-28T13:00:54.243Z"
      },
      {
        "duration": 3,
        "start_time": "2022-04-28T13:00:54.259Z"
      },
      {
        "duration": 11,
        "start_time": "2022-04-28T13:00:54.263Z"
      },
      {
        "duration": 14,
        "start_time": "2022-04-28T13:00:54.276Z"
      },
      {
        "duration": 17,
        "start_time": "2022-04-28T13:00:54.292Z"
      },
      {
        "duration": 55,
        "start_time": "2022-04-28T13:00:54.312Z"
      },
      {
        "duration": 13,
        "start_time": "2022-04-28T13:00:54.368Z"
      },
      {
        "duration": 8,
        "start_time": "2022-04-28T13:00:54.382Z"
      },
      {
        "duration": 205,
        "start_time": "2022-04-28T13:00:54.392Z"
      },
      {
        "duration": 38289,
        "start_time": "2022-04-28T13:00:54.598Z"
      },
      {
        "duration": 253,
        "start_time": "2022-04-28T13:01:32.889Z"
      },
      {
        "duration": 16,
        "start_time": "2022-04-28T13:01:33.151Z"
      },
      {
        "duration": 1329,
        "start_time": "2022-04-28T13:01:33.183Z"
      },
      {
        "duration": 4,
        "start_time": "2022-04-28T13:01:34.514Z"
      },
      {
        "duration": 455,
        "start_time": "2022-04-28T13:01:34.520Z"
      },
      {
        "duration": 11,
        "start_time": "2022-04-28T13:01:34.977Z"
      },
      {
        "duration": 1658,
        "start_time": "2022-04-28T13:01:34.990Z"
      },
      {
        "duration": 191,
        "start_time": "2022-04-28T13:19:16.361Z"
      }
    ],
    "kernelspec": {
      "display_name": "Python 3 (ipykernel)",
      "language": "python",
      "name": "python3"
    },
    "language_info": {
      "codemirror_mode": {
        "name": "ipython",
        "version": 3
      },
      "file_extension": ".py",
      "mimetype": "text/x-python",
      "name": "python",
      "nbconvert_exporter": "python",
      "pygments_lexer": "ipython3",
      "version": "3.9.5"
    },
    "toc": {
      "base_numbering": 1,
      "nav_menu": {},
      "number_sections": true,
      "sideBar": true,
      "skip_h1_title": true,
      "title_cell": "Содержание",
      "title_sidebar": "Contents",
      "toc_cell": true,
      "toc_position": {},
      "toc_section_display": true,
      "toc_window_display": true
    },
    "colab": {
      "provenance": [],
      "include_colab_link": true
    }
  },
  "nbformat": 4,
  "nbformat_minor": 0
}
