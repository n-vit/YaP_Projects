{
  "cells": [
    {
      "cell_type": "markdown",
      "metadata": {
        "id": "view-in-github",
        "colab_type": "text"
      },
      "source": [
        "<a href=\"https://colab.research.google.com/github/n-vit/YaP_Projects/blob/main/9_%D0%A1%D0%B1%D0%BE%D1%80%D0%BD%D1%8B%D0%B9_%D0%BF%D1%80%D0%BE%D0%B5%D0%BA%D1%82_2.ipynb\" target=\"_parent\"><img src=\"https://colab.research.google.com/assets/colab-badge.svg\" alt=\"Open In Colab\"/></a>"
      ]
    },
    {
      "cell_type": "markdown",
      "metadata": {
        "id": "GH1zO-k_UAmA"
      },
      "source": [
        "# Восстановление золота из руды"
      ]
    },
    {
      "cell_type": "markdown",
      "metadata": {
        "id": "kDRB14YuUAmD"
      },
      "source": [
        "Задача - подготовить прототип модели ML для золотодобывающей промышленности.\n",
        "\n",
        "Модель должна предсказать коэффициент восстановления золота из золотосодержащей руды. \n",
        "\n",
        "Модель поможет оптимизировать производство, чтобы не запускать предприятие с убыточными характеристиками.\n",
        "\n",
        "Важно:\n",
        "\n",
        "1. Подготовить данные;\n",
        "2. Провести исследовательский анализ данных;\n",
        "3. Построить и обучить модель.\n",
        "\n"
      ]
    },
    {
      "cell_type": "markdown",
      "metadata": {
        "id": "C-QSkzlCUAly"
      },
      "source": [
        "<h1>Содержание<span class=\"tocSkip\"></span></h1>\n",
        "<div class=\"toc\"><ul class=\"toc-item\"><li><span><a href=\"#Подготовка-данных\" data-toc-modified-id=\"Подготовка-данных-1\"><span class=\"toc-item-num\">1&nbsp;&nbsp;</span>Подготовка данных</a></span><ul class=\"toc-item\"><li><span><a href=\"#Обзор-данных\" data-toc-modified-id=\"Обзор-данных-1.1\"><span class=\"toc-item-num\">1.1&nbsp;&nbsp;</span>Обзор данных</a></span></li><li><span><a href=\"#Обзор-признаков,-недоступных-в-тестовой-выборке\" data-toc-modified-id=\"Обзор-признаков,-недоступных-в-тестовой-выборке-1.2\"><span class=\"toc-item-num\">1.2&nbsp;&nbsp;</span>Обзор признаков, недоступных в тестовой выборке</a></span></li><li><span><a href=\"#Предобработка:-пропуски-в-данных\" data-toc-modified-id=\"Предобработка:-пропуски-в-данных-1.3\"><span class=\"toc-item-num\">1.3&nbsp;&nbsp;</span>Предобработка: пропуски в данных</a></span></li><li><span><a href=\"#Проверка-данных,-расчетом-эффективности-по-формуле-заказчика\" data-toc-modified-id=\"Проверка-данных,-расчетом-эффективности-по-формуле-заказчика-1.4\"><span class=\"toc-item-num\">1.4&nbsp;&nbsp;</span>Проверка данных, расчетом эффективности по формуле заказчика</a></span></li></ul></li><li><span><a href=\"#Анализ-данных\" data-toc-modified-id=\"Анализ-данных-2\"><span class=\"toc-item-num\">2&nbsp;&nbsp;</span>Анализ данных</a></span><ul class=\"toc-item\"><li><span><a href=\"#концентрация-золота-на-разных-этапах-очистки\" data-toc-modified-id=\"концентрация-золота-на-разных-этапах-очистки-2.1\"><span class=\"toc-item-num\">2.1&nbsp;&nbsp;</span>концентрация золота на разных этапах очистки</a></span></li><li><span><a href=\"#распределение-значений-концентрации-различных-металлов-(au,-ag,-pb,-sol)-на-разных-этапах-очистки\" data-toc-modified-id=\"распределение-значений-концентрации-различных-металлов-(au,-ag,-pb,-sol)-на-разных-этапах-очистки-2.2\"><span class=\"toc-item-num\">2.2&nbsp;&nbsp;</span>распределение значений концентрации различных металлов (au, ag, pb, sol) на разных этапах очистки</a></span></li><li><span><a href=\"#Распределение-размеров-гранул-сырья-на-обучающей-выборке\" data-toc-modified-id=\"Распределение-размеров-гранул-сырья-на-обучающей-выборке-2.3\"><span class=\"toc-item-num\">2.3&nbsp;&nbsp;</span>Распределение размеров гранул сырья на обучающей выборке</a></span></li><li><span><a href=\"#Суммарная-концентрация-всех-веществ-на-разных-стадиях:-в-сырье,-в-черновом-и-финальном-концентратах.\" data-toc-modified-id=\"Суммарная-концентрация-всех-веществ-на-разных-стадиях:-в-сырье,-в-черновом-и-финальном-концентратах.-2.4\"><span class=\"toc-item-num\">2.4&nbsp;&nbsp;</span>Суммарная концентрация всех веществ на разных стадиях: в сырье, в черновом и финальном концентратах.</a></span></li><li><span><a href=\"#Распределение-размеров-гранул-сырья-на-тестовой-выборке\" data-toc-modified-id=\"Распределение-размеров-гранул-сырья-на-тестовой-выборке-2.5\"><span class=\"toc-item-num\">2.5&nbsp;&nbsp;</span>Распределение размеров гранул сырья на тестовой выборке</a></span></li></ul></li><li><span><a href=\"#Модель\" data-toc-modified-id=\"Модель-3\"><span class=\"toc-item-num\">3&nbsp;&nbsp;</span>Модель</a></span><ul class=\"toc-item\"><li><span><a href=\"#Функция-для-вычисления-итоговой-sMAPE\" data-toc-modified-id=\"Функция-для-вычисления-итоговой-sMAPE-3.1\"><span class=\"toc-item-num\">3.1&nbsp;&nbsp;</span>Функция для вычисления итоговой sMAPE</a></span></li><li><span><a href=\"#Выбор-модели\" data-toc-modified-id=\"Выбор-модели-3.2\"><span class=\"toc-item-num\">3.2&nbsp;&nbsp;</span>Выбор модели</a></span><ul class=\"toc-item\"><li><span><a href=\"#Регрессия\" data-toc-modified-id=\"Регрессия-3.2.1\"><span class=\"toc-item-num\">3.2.1&nbsp;&nbsp;</span>Регрессия</a></span></li><li><span><a href=\"#Дерево\" data-toc-modified-id=\"Дерево-3.2.2\"><span class=\"toc-item-num\">3.2.2&nbsp;&nbsp;</span>Дерево</a></span></li><li><span><a href=\"#Лес\" data-toc-modified-id=\"Лес-3.2.3\"><span class=\"toc-item-num\">3.2.3&nbsp;&nbsp;</span>Лес</a></span></li></ul></li><li><span><a href=\"#Улучшение-модели\" data-toc-modified-id=\"Улучшение-модели-3.3\"><span class=\"toc-item-num\">3.3&nbsp;&nbsp;</span>Улучшение модели</a></span></li></ul></li><li><span><a href=\"#Чек-лист-готовности-проекта\" data-toc-modified-id=\"Чек-лист-готовности-проекта-4\"><span class=\"toc-item-num\">4&nbsp;&nbsp;</span>Чек-лист готовности проекта</a></span></li></ul></div>"
      ]
    },
    {
      "cell_type": "markdown",
      "metadata": {
        "id": "aweXp96EUAmE"
      },
      "source": [
        "**Описание данных**\n",
        "\n",
        "Технологический процесс\n",
        "\n",
        "- Rougher feed — исходное сырье\n",
        "- Rougher additions (или reagent additions) — флотационные реагенты: Xanthate, Sulphate, Depressant\n",
        "- Xanthate — ксантогенат (промотер, или активатор флотации);\n",
        "- Sulphate — сульфат (на данном производстве сульфид натрия);\n",
        "- Depressant — депрессант (силикат натрия).\n",
        "- Rougher process (англ. «грубый процесс») — флотация\n",
        "- Rougher tails — отвальные хвосты\n",
        "- Float banks — флотационная установка\n",
        "- Cleaner process — очистка\n",
        "- Rougher Au — черновой концентрат золота\n",
        "- Final Au — финальный концентрат золота\n",
        "\n",
        "**Параметры этапов**\n",
        "- air amount — объём воздуха\n",
        "- fluid levels — уровень жидкости\n",
        "- feed size — размер гранул сырья\n",
        "- feed rate — скорость подачи\n",
        "\n",
        "**Наименование признаков**\n",
        "\n",
        "Наименование признаков должно быть такое:\n",
        "[этап].[тип_параметра].[название_параметра]\n",
        "Пример: rougher.input.feed_ag\n",
        "\n",
        "Возможные значения для блока [этап]:\n",
        "- rougher — флотация\n",
        "- primary_cleaner — первичная очистка\n",
        "- secondary_cleaner — вторичная очистка\n",
        "- final — финальные характеристики\n",
        "\n",
        "Возможные значения для блока [тип_параметра]:\n",
        "- input — параметры сырья\n",
        "- output — параметры продукта\n",
        "- state — параметры, характеризующие текущее состояние этапа\n",
        "- calculation — расчётные характеристики"
      ]
    },
    {
      "cell_type": "markdown",
      "metadata": {
        "id": "2jN3lj-bUAmG"
      },
      "source": [
        "# План работы:\n",
        "1. Подготовьте данные\n",
        "-  Открыть и изучить файлы:\n",
        "\n",
        "/datasets/gold_recovery_train_new.csv.\n",
        "\n",
        "/datasets/gold_recovery_test_new.csv.\n",
        "\n",
        "/datasets/gold_recovery_full_new.csv.\n",
        "\n",
        "- Рассчитать что эффективность обогащения на обучающей выборке для признака rougher.output.recovery и проверить расчеты с помощью MAE между расчетом и фактом. \n",
        "- Проанализировать признаки, недоступные в тестовой выборке. Что это за параметры? К какому типу относятся?\n",
        "- Провести предобработку.\n",
        "2. Проанализировать данные\n",
        "- Посмотрите, как меняется концентрация металлов (Au, Ag, Pb) на различных этапах очистки. Опишите выводы.\n",
        "- Сравните распределения размеров гранул сырья на обучающей и тестовой выборках. Если распределения сильно отличаются друг от друга, оценка модели будет неправильной.\n",
        "- Исследуйте суммарную концентрацию всех веществ на разных стадиях: в сырье, в черновом и финальном концентратах.\n",
        "3. Постройте модель\n",
        "- Напишите функцию для вычисления итоговой sMAPE.\n",
        "- Обучите разные модели и оцените их качество кросс-валидацией. Выберите лучшую модель и проверьте её на тестовой выборке. Опишите выводы."
      ]
    },
    {
      "cell_type": "markdown",
      "metadata": {
        "id": "IYfL3fnkUAmH"
      },
      "source": [
        "## Подготовка данных"
      ]
    },
    {
      "cell_type": "code",
      "execution_count": null,
      "metadata": {
        "id": "DJSqpHj_UAmI"
      },
      "outputs": [],
      "source": [
        "# libraries and functions\n",
        "import pandas as pd\n",
        "import numpy as np\n",
        "import matplotlib.pyplot as plt\n",
        "import seaborn as sns\n",
        "from sklearn.model_selection import train_test_split\n",
        "from sklearn.preprocessing import OrdinalEncoder\n",
        "from sklearn.utils import shuffle\n",
        "from scipy.stats import ttest_ind\n",
        "import math\n",
        "from sklearn.metrics import fbeta_score, make_scorer\n",
        "from sklearn.model_selection import GridSearchCV\n",
        "\n",
        "# models\n",
        "from sklearn.tree import DecisionTreeRegressor\n",
        "from sklearn.ensemble import RandomForestRegressor\n",
        "from sklearn.linear_model import LinearRegression\n",
        "\n",
        "# metrics\n",
        "from sklearn.model_selection import cross_val_score\n",
        "from sklearn.metrics import accuracy_score \n",
        "from sklearn.metrics import mean_absolute_error\n",
        "from sklearn.metrics import mean_absolute_percentage_error\n",
        "from sklearn.metrics import f1_score\n",
        "from sklearn.metrics import recall_score\n",
        "from sklearn.metrics import precision_score\n",
        "from sklearn.metrics import roc_auc_score\n",
        "from sklearn.model_selection import train_test_split\n",
        "from sklearn.metrics import mean_squared_error"
      ]
    },
    {
      "cell_type": "markdown",
      "metadata": {
        "id": "E8El-sCmUAmK"
      },
      "source": [
        "### Обзор данных"
      ]
    },
    {
      "cell_type": "code",
      "execution_count": null,
      "metadata": {
        "id": "6-3bLinxUAmL"
      },
      "outputs": [],
      "source": [
        "try: # if the project is opened in Collab use a 'try' block, if it opened in simulator Yandex, or Jupiter, use an 'except' block\n",
        "    from google.colab import drive\n",
        "    drive.mount('/content/drive')\n",
        "    df_train = pd.read_csv('/content/drive/MyDrive/Colab Notebooks/yap_S2/gold_recovery_train_new.csv', parse_dates=['date'])\n",
        "    df_test = pd.read_csv('/content/drive/MyDrive/Colab Notebooks/yap_S2/gold_recovery_test_new.csv', parse_dates=['date'])\n",
        "    df_full = pd.read_csv('/content/drive/MyDrive/Colab Notebooks/yap_S2/gold_recovery_full_new.csv', parse_dates=['date'])\n",
        "\n",
        "except:\n",
        "    df_train = pd.read_csv('/datasets/gold_recovery_train_new.csv', parse_dates=['date'])\n",
        "    df_test = pd.read_csv('/datasets/gold_recovery_test_new.csv', parse_dates=['date'])\n",
        "    df_full = pd.read_csv('/datasets/gold_recovery_full_new.csv', parse_dates=['date'])"
      ]
    },
    {
      "cell_type": "code",
      "execution_count": null,
      "metadata": {
        "id": "dZBuxvyXUAmM"
      },
      "outputs": [],
      "source": [
        "def show_optimize(df):\n",
        "# the function accepts a dataframe, optimizes the bit depth of the data and outputs information about the frame\n",
        "    \n",
        "    df_float = df.select_dtypes(include=['float']) # selecting 'float' data\n",
        "    df_float = df_float.apply(pd.to_numeric,downcast='float') # lowering the bit depth to acceptable\n",
        "    df[df_float.columns] = df_float # replacing the data in the original frame with optimized ones\n",
        "    \n",
        "    display(df.info())\n",
        "    display(df.head(3))\n",
        "    display(df.isna().sum())"
      ]
    },
    {
      "cell_type": "code",
      "execution_count": null,
      "metadata": {
        "colab": {
          "base_uri": "https://localhost:8080/",
          "height": 1000
        },
        "id": "6URv8R4pUAmO",
        "outputId": "745c5832-cf5a-4b98-9fbd-d9b5cbade5c2"
      },
      "outputs": [
        {
          "name": "stdout",
          "output_type": "stream",
          "text": [
            "<class 'pandas.core.frame.DataFrame'>\n",
            "RangeIndex: 14149 entries, 0 to 14148\n",
            "Data columns (total 87 columns):\n",
            " #   Column                                              Non-Null Count  Dtype         \n",
            "---  ------                                              --------------  -----         \n",
            " 0   date                                                14149 non-null  datetime64[ns]\n",
            " 1   final.output.concentrate_ag                         14148 non-null  float32       \n",
            " 2   final.output.concentrate_pb                         14148 non-null  float32       \n",
            " 3   final.output.concentrate_sol                        13938 non-null  float32       \n",
            " 4   final.output.concentrate_au                         14149 non-null  float32       \n",
            " 5   final.output.recovery                               14149 non-null  float32       \n",
            " 6   final.output.tail_ag                                14149 non-null  float32       \n",
            " 7   final.output.tail_pb                                14049 non-null  float32       \n",
            " 8   final.output.tail_sol                               14144 non-null  float32       \n",
            " 9   final.output.tail_au                                14149 non-null  float32       \n",
            " 10  primary_cleaner.input.sulfate                       14129 non-null  float32       \n",
            " 11  primary_cleaner.input.depressant                    14117 non-null  float32       \n",
            " 12  primary_cleaner.input.feed_size                     14149 non-null  float32       \n",
            " 13  primary_cleaner.input.xanthate                      14049 non-null  float32       \n",
            " 14  primary_cleaner.output.concentrate_ag               14149 non-null  float32       \n",
            " 15  primary_cleaner.output.concentrate_pb               14063 non-null  float32       \n",
            " 16  primary_cleaner.output.concentrate_sol              13863 non-null  float32       \n",
            " 17  primary_cleaner.output.concentrate_au               14149 non-null  float32       \n",
            " 18  primary_cleaner.output.tail_ag                      14148 non-null  float32       \n",
            " 19  primary_cleaner.output.tail_pb                      14134 non-null  float32       \n",
            " 20  primary_cleaner.output.tail_sol                     14103 non-null  float32       \n",
            " 21  primary_cleaner.output.tail_au                      14149 non-null  float32       \n",
            " 22  primary_cleaner.state.floatbank8_a_air              14145 non-null  float32       \n",
            " 23  primary_cleaner.state.floatbank8_a_level            14148 non-null  float32       \n",
            " 24  primary_cleaner.state.floatbank8_b_air              14145 non-null  float32       \n",
            " 25  primary_cleaner.state.floatbank8_b_level            14148 non-null  float32       \n",
            " 26  primary_cleaner.state.floatbank8_c_air              14147 non-null  float32       \n",
            " 27  primary_cleaner.state.floatbank8_c_level            14148 non-null  float32       \n",
            " 28  primary_cleaner.state.floatbank8_d_air              14146 non-null  float32       \n",
            " 29  primary_cleaner.state.floatbank8_d_level            14148 non-null  float32       \n",
            " 30  rougher.calculation.sulfate_to_au_concentrate       14148 non-null  float32       \n",
            " 31  rougher.calculation.floatbank10_sulfate_to_au_feed  14148 non-null  float32       \n",
            " 32  rougher.calculation.floatbank11_sulfate_to_au_feed  14148 non-null  float32       \n",
            " 33  rougher.calculation.au_pb_ratio                     14149 non-null  float32       \n",
            " 34  rougher.input.feed_ag                               14149 non-null  float32       \n",
            " 35  rougher.input.feed_pb                               14049 non-null  float32       \n",
            " 36  rougher.input.feed_rate                             14141 non-null  float32       \n",
            " 37  rougher.input.feed_size                             14005 non-null  float32       \n",
            " 38  rougher.input.feed_sol                              14071 non-null  float32       \n",
            " 39  rougher.input.feed_au                               14149 non-null  float32       \n",
            " 40  rougher.input.floatbank10_sulfate                   14120 non-null  float32       \n",
            " 41  rougher.input.floatbank10_xanthate                  14141 non-null  float32       \n",
            " 42  rougher.input.floatbank11_sulfate                   14113 non-null  float32       \n",
            " 43  rougher.input.floatbank11_xanthate                  13721 non-null  float32       \n",
            " 44  rougher.output.concentrate_ag                       14149 non-null  float32       \n",
            " 45  rougher.output.concentrate_pb                       14149 non-null  float32       \n",
            " 46  rougher.output.concentrate_sol                      14127 non-null  float32       \n",
            " 47  rougher.output.concentrate_au                       14149 non-null  float32       \n",
            " 48  rougher.output.recovery                             14149 non-null  float32       \n",
            " 49  rougher.output.tail_ag                              14148 non-null  float32       \n",
            " 50  rougher.output.tail_pb                              14149 non-null  float32       \n",
            " 51  rougher.output.tail_sol                             14149 non-null  float32       \n",
            " 52  rougher.output.tail_au                              14149 non-null  float32       \n",
            " 53  rougher.state.floatbank10_a_air                     14148 non-null  float32       \n",
            " 54  rougher.state.floatbank10_a_level                   14148 non-null  float32       \n",
            " 55  rougher.state.floatbank10_b_air                     14148 non-null  float32       \n",
            " 56  rougher.state.floatbank10_b_level                   14148 non-null  float32       \n",
            " 57  rougher.state.floatbank10_c_air                     14148 non-null  float32       \n",
            " 58  rougher.state.floatbank10_c_level                   14148 non-null  float32       \n",
            " 59  rougher.state.floatbank10_d_air                     14149 non-null  float32       \n",
            " 60  rougher.state.floatbank10_d_level                   14149 non-null  float32       \n",
            " 61  rougher.state.floatbank10_e_air                     13713 non-null  float32       \n",
            " 62  rougher.state.floatbank10_e_level                   14149 non-null  float32       \n",
            " 63  rougher.state.floatbank10_f_air                     14149 non-null  float32       \n",
            " 64  rougher.state.floatbank10_f_level                   14149 non-null  float32       \n",
            " 65  secondary_cleaner.output.tail_ag                    14147 non-null  float32       \n",
            " 66  secondary_cleaner.output.tail_pb                    14139 non-null  float32       \n",
            " 67  secondary_cleaner.output.tail_sol                   12544 non-null  float32       \n",
            " 68  secondary_cleaner.output.tail_au                    14149 non-null  float32       \n",
            " 69  secondary_cleaner.state.floatbank2_a_air            13932 non-null  float32       \n",
            " 70  secondary_cleaner.state.floatbank2_a_level          14148 non-null  float32       \n",
            " 71  secondary_cleaner.state.floatbank2_b_air            14128 non-null  float32       \n",
            " 72  secondary_cleaner.state.floatbank2_b_level          14148 non-null  float32       \n",
            " 73  secondary_cleaner.state.floatbank3_a_air            14145 non-null  float32       \n",
            " 74  secondary_cleaner.state.floatbank3_a_level          14148 non-null  float32       \n",
            " 75  secondary_cleaner.state.floatbank3_b_air            14148 non-null  float32       \n",
            " 76  secondary_cleaner.state.floatbank3_b_level          14148 non-null  float32       \n",
            " 77  secondary_cleaner.state.floatbank4_a_air            14143 non-null  float32       \n",
            " 78  secondary_cleaner.state.floatbank4_a_level          14148 non-null  float32       \n",
            " 79  secondary_cleaner.state.floatbank4_b_air            14148 non-null  float32       \n",
            " 80  secondary_cleaner.state.floatbank4_b_level          14148 non-null  float32       \n",
            " 81  secondary_cleaner.state.floatbank5_a_air            14148 non-null  float32       \n",
            " 82  secondary_cleaner.state.floatbank5_a_level          14148 non-null  float32       \n",
            " 83  secondary_cleaner.state.floatbank5_b_air            14148 non-null  float32       \n",
            " 84  secondary_cleaner.state.floatbank5_b_level          14148 non-null  float32       \n",
            " 85  secondary_cleaner.state.floatbank6_a_air            14147 non-null  float32       \n",
            " 86  secondary_cleaner.state.floatbank6_a_level          14148 non-null  float32       \n",
            "dtypes: datetime64[ns](1), float32(86)\n",
            "memory usage: 4.7 MB\n"
          ]
        },
        {
          "data": {
            "text/plain": [
              "None"
            ]
          },
          "metadata": {},
          "output_type": "display_data"
        },
        {
          "data": {
            "text/html": [
              "<div>\n",
              "<style scoped>\n",
              "    .dataframe tbody tr th:only-of-type {\n",
              "        vertical-align: middle;\n",
              "    }\n",
              "\n",
              "    .dataframe tbody tr th {\n",
              "        vertical-align: top;\n",
              "    }\n",
              "\n",
              "    .dataframe thead th {\n",
              "        text-align: right;\n",
              "    }\n",
              "</style>\n",
              "<table border=\"1\" class=\"dataframe\">\n",
              "  <thead>\n",
              "    <tr style=\"text-align: right;\">\n",
              "      <th></th>\n",
              "      <th>date</th>\n",
              "      <th>final.output.concentrate_ag</th>\n",
              "      <th>final.output.concentrate_pb</th>\n",
              "      <th>final.output.concentrate_sol</th>\n",
              "      <th>final.output.concentrate_au</th>\n",
              "      <th>final.output.recovery</th>\n",
              "      <th>final.output.tail_ag</th>\n",
              "      <th>final.output.tail_pb</th>\n",
              "      <th>final.output.tail_sol</th>\n",
              "      <th>final.output.tail_au</th>\n",
              "      <th>...</th>\n",
              "      <th>secondary_cleaner.state.floatbank4_a_air</th>\n",
              "      <th>secondary_cleaner.state.floatbank4_a_level</th>\n",
              "      <th>secondary_cleaner.state.floatbank4_b_air</th>\n",
              "      <th>secondary_cleaner.state.floatbank4_b_level</th>\n",
              "      <th>secondary_cleaner.state.floatbank5_a_air</th>\n",
              "      <th>secondary_cleaner.state.floatbank5_a_level</th>\n",
              "      <th>secondary_cleaner.state.floatbank5_b_air</th>\n",
              "      <th>secondary_cleaner.state.floatbank5_b_level</th>\n",
              "      <th>secondary_cleaner.state.floatbank6_a_air</th>\n",
              "      <th>secondary_cleaner.state.floatbank6_a_level</th>\n",
              "    </tr>\n",
              "  </thead>\n",
              "  <tbody>\n",
              "    <tr>\n",
              "      <th>0</th>\n",
              "      <td>2016-01-15 00:00:00</td>\n",
              "      <td>6.055403</td>\n",
              "      <td>9.889648</td>\n",
              "      <td>5.507324</td>\n",
              "      <td>42.192020</td>\n",
              "      <td>70.541214</td>\n",
              "      <td>10.411962</td>\n",
              "      <td>0.895447</td>\n",
              "      <td>16.904297</td>\n",
              "      <td>2.143149</td>\n",
              "      <td>...</td>\n",
              "      <td>14.016835</td>\n",
              "      <td>-502.488007</td>\n",
              "      <td>12.099931</td>\n",
              "      <td>-504.715942</td>\n",
              "      <td>9.925633</td>\n",
              "      <td>-498.310211</td>\n",
              "      <td>8.079666</td>\n",
              "      <td>-500.470978</td>\n",
              "      <td>14.151341</td>\n",
              "      <td>-605.841980</td>\n",
              "    </tr>\n",
              "    <tr>\n",
              "      <th>1</th>\n",
              "      <td>2016-01-15 01:00:00</td>\n",
              "      <td>6.029368</td>\n",
              "      <td>9.968945</td>\n",
              "      <td>5.257782</td>\n",
              "      <td>42.701630</td>\n",
              "      <td>69.266197</td>\n",
              "      <td>10.462676</td>\n",
              "      <td>0.927452</td>\n",
              "      <td>16.634514</td>\n",
              "      <td>2.224930</td>\n",
              "      <td>...</td>\n",
              "      <td>13.992281</td>\n",
              "      <td>-505.503265</td>\n",
              "      <td>11.950531</td>\n",
              "      <td>-501.331543</td>\n",
              "      <td>10.039246</td>\n",
              "      <td>-500.169983</td>\n",
              "      <td>7.984757</td>\n",
              "      <td>-500.582153</td>\n",
              "      <td>13.998353</td>\n",
              "      <td>-599.787170</td>\n",
              "    </tr>\n",
              "    <tr>\n",
              "      <th>2</th>\n",
              "      <td>2016-01-15 02:00:00</td>\n",
              "      <td>6.055926</td>\n",
              "      <td>10.213995</td>\n",
              "      <td>5.383759</td>\n",
              "      <td>42.657501</td>\n",
              "      <td>68.116447</td>\n",
              "      <td>10.507046</td>\n",
              "      <td>0.953716</td>\n",
              "      <td>16.208849</td>\n",
              "      <td>2.257889</td>\n",
              "      <td>...</td>\n",
              "      <td>14.015016</td>\n",
              "      <td>-502.520905</td>\n",
              "      <td>11.912783</td>\n",
              "      <td>-501.133392</td>\n",
              "      <td>10.070913</td>\n",
              "      <td>-500.129120</td>\n",
              "      <td>8.013877</td>\n",
              "      <td>-500.517578</td>\n",
              "      <td>14.028663</td>\n",
              "      <td>-601.427368</td>\n",
              "    </tr>\n",
              "  </tbody>\n",
              "</table>\n",
              "<p>3 rows × 87 columns</p>\n",
              "</div>"
            ],
            "text/plain": [
              "                 date  final.output.concentrate_ag  \\\n",
              "0 2016-01-15 00:00:00                     6.055403   \n",
              "1 2016-01-15 01:00:00                     6.029368   \n",
              "2 2016-01-15 02:00:00                     6.055926   \n",
              "\n",
              "   final.output.concentrate_pb  final.output.concentrate_sol  \\\n",
              "0                     9.889648                      5.507324   \n",
              "1                     9.968945                      5.257782   \n",
              "2                    10.213995                      5.383759   \n",
              "\n",
              "   final.output.concentrate_au  final.output.recovery  final.output.tail_ag  \\\n",
              "0                    42.192020              70.541214             10.411962   \n",
              "1                    42.701630              69.266197             10.462676   \n",
              "2                    42.657501              68.116447             10.507046   \n",
              "\n",
              "   final.output.tail_pb  final.output.tail_sol  final.output.tail_au  ...  \\\n",
              "0              0.895447              16.904297              2.143149  ...   \n",
              "1              0.927452              16.634514              2.224930  ...   \n",
              "2              0.953716              16.208849              2.257889  ...   \n",
              "\n",
              "   secondary_cleaner.state.floatbank4_a_air  \\\n",
              "0                                 14.016835   \n",
              "1                                 13.992281   \n",
              "2                                 14.015016   \n",
              "\n",
              "   secondary_cleaner.state.floatbank4_a_level  \\\n",
              "0                                 -502.488007   \n",
              "1                                 -505.503265   \n",
              "2                                 -502.520905   \n",
              "\n",
              "   secondary_cleaner.state.floatbank4_b_air  \\\n",
              "0                                 12.099931   \n",
              "1                                 11.950531   \n",
              "2                                 11.912783   \n",
              "\n",
              "   secondary_cleaner.state.floatbank4_b_level  \\\n",
              "0                                 -504.715942   \n",
              "1                                 -501.331543   \n",
              "2                                 -501.133392   \n",
              "\n",
              "   secondary_cleaner.state.floatbank5_a_air  \\\n",
              "0                                  9.925633   \n",
              "1                                 10.039246   \n",
              "2                                 10.070913   \n",
              "\n",
              "   secondary_cleaner.state.floatbank5_a_level  \\\n",
              "0                                 -498.310211   \n",
              "1                                 -500.169983   \n",
              "2                                 -500.129120   \n",
              "\n",
              "   secondary_cleaner.state.floatbank5_b_air  \\\n",
              "0                                  8.079666   \n",
              "1                                  7.984757   \n",
              "2                                  8.013877   \n",
              "\n",
              "   secondary_cleaner.state.floatbank5_b_level  \\\n",
              "0                                 -500.470978   \n",
              "1                                 -500.582153   \n",
              "2                                 -500.517578   \n",
              "\n",
              "   secondary_cleaner.state.floatbank6_a_air  \\\n",
              "0                                 14.151341   \n",
              "1                                 13.998353   \n",
              "2                                 14.028663   \n",
              "\n",
              "   secondary_cleaner.state.floatbank6_a_level  \n",
              "0                                 -605.841980  \n",
              "1                                 -599.787170  \n",
              "2                                 -601.427368  \n",
              "\n",
              "[3 rows x 87 columns]"
            ]
          },
          "metadata": {},
          "output_type": "display_data"
        },
        {
          "data": {
            "text/plain": [
              "date                                            0\n",
              "final.output.concentrate_ag                     1\n",
              "final.output.concentrate_pb                     1\n",
              "final.output.concentrate_sol                  211\n",
              "final.output.concentrate_au                     0\n",
              "                                             ... \n",
              "secondary_cleaner.state.floatbank5_a_level      1\n",
              "secondary_cleaner.state.floatbank5_b_air        1\n",
              "secondary_cleaner.state.floatbank5_b_level      1\n",
              "secondary_cleaner.state.floatbank6_a_air        2\n",
              "secondary_cleaner.state.floatbank6_a_level      1\n",
              "Length: 87, dtype: int64"
            ]
          },
          "metadata": {},
          "output_type": "display_data"
        }
      ],
      "source": [
        "show_optimize(df_train)"
      ]
    },
    {
      "cell_type": "code",
      "execution_count": null,
      "metadata": {
        "colab": {
          "base_uri": "https://localhost:8080/",
          "height": 1000
        },
        "id": "GSZnJCA7UAmQ",
        "outputId": "4246dd3b-d320-4e39-fcd5-e2ea6afa1fbc"
      },
      "outputs": [
        {
          "name": "stdout",
          "output_type": "stream",
          "text": [
            "<class 'pandas.core.frame.DataFrame'>\n",
            "RangeIndex: 5290 entries, 0 to 5289\n",
            "Data columns (total 53 columns):\n",
            " #   Column                                      Non-Null Count  Dtype         \n",
            "---  ------                                      --------------  -----         \n",
            " 0   date                                        5290 non-null   datetime64[ns]\n",
            " 1   primary_cleaner.input.sulfate               5286 non-null   float32       \n",
            " 2   primary_cleaner.input.depressant            5285 non-null   float32       \n",
            " 3   primary_cleaner.input.feed_size             5290 non-null   float32       \n",
            " 4   primary_cleaner.input.xanthate              5286 non-null   float32       \n",
            " 5   primary_cleaner.state.floatbank8_a_air      5290 non-null   float32       \n",
            " 6   primary_cleaner.state.floatbank8_a_level    5290 non-null   float32       \n",
            " 7   primary_cleaner.state.floatbank8_b_air      5290 non-null   float32       \n",
            " 8   primary_cleaner.state.floatbank8_b_level    5290 non-null   float32       \n",
            " 9   primary_cleaner.state.floatbank8_c_air      5290 non-null   float32       \n",
            " 10  primary_cleaner.state.floatbank8_c_level    5290 non-null   float32       \n",
            " 11  primary_cleaner.state.floatbank8_d_air      5290 non-null   float32       \n",
            " 12  primary_cleaner.state.floatbank8_d_level    5290 non-null   float32       \n",
            " 13  rougher.input.feed_ag                       5290 non-null   float32       \n",
            " 14  rougher.input.feed_pb                       5290 non-null   float32       \n",
            " 15  rougher.input.feed_rate                     5287 non-null   float32       \n",
            " 16  rougher.input.feed_size                     5289 non-null   float32       \n",
            " 17  rougher.input.feed_sol                      5269 non-null   float32       \n",
            " 18  rougher.input.feed_au                       5290 non-null   float32       \n",
            " 19  rougher.input.floatbank10_sulfate           5285 non-null   float32       \n",
            " 20  rougher.input.floatbank10_xanthate          5290 non-null   float32       \n",
            " 21  rougher.input.floatbank11_sulfate           5282 non-null   float32       \n",
            " 22  rougher.input.floatbank11_xanthate          5265 non-null   float32       \n",
            " 23  rougher.state.floatbank10_a_air             5290 non-null   float32       \n",
            " 24  rougher.state.floatbank10_a_level           5290 non-null   float32       \n",
            " 25  rougher.state.floatbank10_b_air             5290 non-null   float32       \n",
            " 26  rougher.state.floatbank10_b_level           5290 non-null   float32       \n",
            " 27  rougher.state.floatbank10_c_air             5290 non-null   float32       \n",
            " 28  rougher.state.floatbank10_c_level           5290 non-null   float32       \n",
            " 29  rougher.state.floatbank10_d_air             5290 non-null   float32       \n",
            " 30  rougher.state.floatbank10_d_level           5290 non-null   float32       \n",
            " 31  rougher.state.floatbank10_e_air             5290 non-null   float32       \n",
            " 32  rougher.state.floatbank10_e_level           5290 non-null   float32       \n",
            " 33  rougher.state.floatbank10_f_air             5290 non-null   float32       \n",
            " 34  rougher.state.floatbank10_f_level           5290 non-null   float32       \n",
            " 35  secondary_cleaner.state.floatbank2_a_air    5287 non-null   float32       \n",
            " 36  secondary_cleaner.state.floatbank2_a_level  5290 non-null   float32       \n",
            " 37  secondary_cleaner.state.floatbank2_b_air    5288 non-null   float32       \n",
            " 38  secondary_cleaner.state.floatbank2_b_level  5290 non-null   float32       \n",
            " 39  secondary_cleaner.state.floatbank3_a_air    5281 non-null   float32       \n",
            " 40  secondary_cleaner.state.floatbank3_a_level  5290 non-null   float32       \n",
            " 41  secondary_cleaner.state.floatbank3_b_air    5290 non-null   float32       \n",
            " 42  secondary_cleaner.state.floatbank3_b_level  5290 non-null   float32       \n",
            " 43  secondary_cleaner.state.floatbank4_a_air    5290 non-null   float32       \n",
            " 44  secondary_cleaner.state.floatbank4_a_level  5290 non-null   float32       \n",
            " 45  secondary_cleaner.state.floatbank4_b_air    5290 non-null   float32       \n",
            " 46  secondary_cleaner.state.floatbank4_b_level  5290 non-null   float32       \n",
            " 47  secondary_cleaner.state.floatbank5_a_air    5290 non-null   float32       \n",
            " 48  secondary_cleaner.state.floatbank5_a_level  5290 non-null   float32       \n",
            " 49  secondary_cleaner.state.floatbank5_b_air    5290 non-null   float32       \n",
            " 50  secondary_cleaner.state.floatbank5_b_level  5290 non-null   float32       \n",
            " 51  secondary_cleaner.state.floatbank6_a_air    5290 non-null   float32       \n",
            " 52  secondary_cleaner.state.floatbank6_a_level  5290 non-null   float32       \n",
            "dtypes: datetime64[ns](1), float32(52)\n",
            "memory usage: 1.1 MB\n"
          ]
        },
        {
          "data": {
            "text/plain": [
              "None"
            ]
          },
          "metadata": {},
          "output_type": "display_data"
        },
        {
          "data": {
            "text/html": [
              "<div>\n",
              "<style scoped>\n",
              "    .dataframe tbody tr th:only-of-type {\n",
              "        vertical-align: middle;\n",
              "    }\n",
              "\n",
              "    .dataframe tbody tr th {\n",
              "        vertical-align: top;\n",
              "    }\n",
              "\n",
              "    .dataframe thead th {\n",
              "        text-align: right;\n",
              "    }\n",
              "</style>\n",
              "<table border=\"1\" class=\"dataframe\">\n",
              "  <thead>\n",
              "    <tr style=\"text-align: right;\">\n",
              "      <th></th>\n",
              "      <th>date</th>\n",
              "      <th>primary_cleaner.input.sulfate</th>\n",
              "      <th>primary_cleaner.input.depressant</th>\n",
              "      <th>primary_cleaner.input.feed_size</th>\n",
              "      <th>primary_cleaner.input.xanthate</th>\n",
              "      <th>primary_cleaner.state.floatbank8_a_air</th>\n",
              "      <th>primary_cleaner.state.floatbank8_a_level</th>\n",
              "      <th>primary_cleaner.state.floatbank8_b_air</th>\n",
              "      <th>primary_cleaner.state.floatbank8_b_level</th>\n",
              "      <th>primary_cleaner.state.floatbank8_c_air</th>\n",
              "      <th>...</th>\n",
              "      <th>secondary_cleaner.state.floatbank4_a_air</th>\n",
              "      <th>secondary_cleaner.state.floatbank4_a_level</th>\n",
              "      <th>secondary_cleaner.state.floatbank4_b_air</th>\n",
              "      <th>secondary_cleaner.state.floatbank4_b_level</th>\n",
              "      <th>secondary_cleaner.state.floatbank5_a_air</th>\n",
              "      <th>secondary_cleaner.state.floatbank5_a_level</th>\n",
              "      <th>secondary_cleaner.state.floatbank5_b_air</th>\n",
              "      <th>secondary_cleaner.state.floatbank5_b_level</th>\n",
              "      <th>secondary_cleaner.state.floatbank6_a_air</th>\n",
              "      <th>secondary_cleaner.state.floatbank6_a_level</th>\n",
              "    </tr>\n",
              "  </thead>\n",
              "  <tbody>\n",
              "    <tr>\n",
              "      <th>0</th>\n",
              "      <td>2016-09-01 00:59:59</td>\n",
              "      <td>210.800903</td>\n",
              "      <td>14.993117</td>\n",
              "      <td>8.080000</td>\n",
              "      <td>1.005021</td>\n",
              "      <td>1398.981323</td>\n",
              "      <td>-500.225586</td>\n",
              "      <td>1399.144897</td>\n",
              "      <td>-499.919739</td>\n",
              "      <td>1400.103027</td>\n",
              "      <td>...</td>\n",
              "      <td>12.023554</td>\n",
              "      <td>-497.795837</td>\n",
              "      <td>8.016657</td>\n",
              "      <td>-501.289154</td>\n",
              "      <td>7.946562</td>\n",
              "      <td>-432.317841</td>\n",
              "      <td>4.872511</td>\n",
              "      <td>-500.037445</td>\n",
              "      <td>26.705889</td>\n",
              "      <td>-499.709412</td>\n",
              "    </tr>\n",
              "    <tr>\n",
              "      <th>1</th>\n",
              "      <td>2016-09-01 01:59:59</td>\n",
              "      <td>215.392456</td>\n",
              "      <td>14.987472</td>\n",
              "      <td>8.080000</td>\n",
              "      <td>0.990469</td>\n",
              "      <td>1398.777954</td>\n",
              "      <td>-500.057434</td>\n",
              "      <td>1398.055420</td>\n",
              "      <td>-499.778168</td>\n",
              "      <td>1396.151001</td>\n",
              "      <td>...</td>\n",
              "      <td>12.058140</td>\n",
              "      <td>-498.695770</td>\n",
              "      <td>8.130980</td>\n",
              "      <td>-499.634216</td>\n",
              "      <td>7.958270</td>\n",
              "      <td>-525.839661</td>\n",
              "      <td>4.878850</td>\n",
              "      <td>-500.162384</td>\n",
              "      <td>25.019939</td>\n",
              "      <td>-499.819427</td>\n",
              "    </tr>\n",
              "    <tr>\n",
              "      <th>2</th>\n",
              "      <td>2016-09-01 02:59:59</td>\n",
              "      <td>215.259949</td>\n",
              "      <td>12.884933</td>\n",
              "      <td>7.786667</td>\n",
              "      <td>0.996043</td>\n",
              "      <td>1398.493652</td>\n",
              "      <td>-500.868347</td>\n",
              "      <td>1398.860474</td>\n",
              "      <td>-499.764526</td>\n",
              "      <td>1398.075684</td>\n",
              "      <td>...</td>\n",
              "      <td>11.962366</td>\n",
              "      <td>-498.767487</td>\n",
              "      <td>8.096892</td>\n",
              "      <td>-500.827423</td>\n",
              "      <td>8.071055</td>\n",
              "      <td>-500.801666</td>\n",
              "      <td>4.905125</td>\n",
              "      <td>-499.828522</td>\n",
              "      <td>24.994862</td>\n",
              "      <td>-500.622559</td>\n",
              "    </tr>\n",
              "  </tbody>\n",
              "</table>\n",
              "<p>3 rows × 53 columns</p>\n",
              "</div>"
            ],
            "text/plain": [
              "                 date  primary_cleaner.input.sulfate  \\\n",
              "0 2016-09-01 00:59:59                     210.800903   \n",
              "1 2016-09-01 01:59:59                     215.392456   \n",
              "2 2016-09-01 02:59:59                     215.259949   \n",
              "\n",
              "   primary_cleaner.input.depressant  primary_cleaner.input.feed_size  \\\n",
              "0                         14.993117                         8.080000   \n",
              "1                         14.987472                         8.080000   \n",
              "2                         12.884933                         7.786667   \n",
              "\n",
              "   primary_cleaner.input.xanthate  primary_cleaner.state.floatbank8_a_air  \\\n",
              "0                        1.005021                             1398.981323   \n",
              "1                        0.990469                             1398.777954   \n",
              "2                        0.996043                             1398.493652   \n",
              "\n",
              "   primary_cleaner.state.floatbank8_a_level  \\\n",
              "0                               -500.225586   \n",
              "1                               -500.057434   \n",
              "2                               -500.868347   \n",
              "\n",
              "   primary_cleaner.state.floatbank8_b_air  \\\n",
              "0                             1399.144897   \n",
              "1                             1398.055420   \n",
              "2                             1398.860474   \n",
              "\n",
              "   primary_cleaner.state.floatbank8_b_level  \\\n",
              "0                               -499.919739   \n",
              "1                               -499.778168   \n",
              "2                               -499.764526   \n",
              "\n",
              "   primary_cleaner.state.floatbank8_c_air  ...  \\\n",
              "0                             1400.103027  ...   \n",
              "1                             1396.151001  ...   \n",
              "2                             1398.075684  ...   \n",
              "\n",
              "   secondary_cleaner.state.floatbank4_a_air  \\\n",
              "0                                 12.023554   \n",
              "1                                 12.058140   \n",
              "2                                 11.962366   \n",
              "\n",
              "   secondary_cleaner.state.floatbank4_a_level  \\\n",
              "0                                 -497.795837   \n",
              "1                                 -498.695770   \n",
              "2                                 -498.767487   \n",
              "\n",
              "   secondary_cleaner.state.floatbank4_b_air  \\\n",
              "0                                  8.016657   \n",
              "1                                  8.130980   \n",
              "2                                  8.096892   \n",
              "\n",
              "   secondary_cleaner.state.floatbank4_b_level  \\\n",
              "0                                 -501.289154   \n",
              "1                                 -499.634216   \n",
              "2                                 -500.827423   \n",
              "\n",
              "   secondary_cleaner.state.floatbank5_a_air  \\\n",
              "0                                  7.946562   \n",
              "1                                  7.958270   \n",
              "2                                  8.071055   \n",
              "\n",
              "   secondary_cleaner.state.floatbank5_a_level  \\\n",
              "0                                 -432.317841   \n",
              "1                                 -525.839661   \n",
              "2                                 -500.801666   \n",
              "\n",
              "   secondary_cleaner.state.floatbank5_b_air  \\\n",
              "0                                  4.872511   \n",
              "1                                  4.878850   \n",
              "2                                  4.905125   \n",
              "\n",
              "   secondary_cleaner.state.floatbank5_b_level  \\\n",
              "0                                 -500.037445   \n",
              "1                                 -500.162384   \n",
              "2                                 -499.828522   \n",
              "\n",
              "   secondary_cleaner.state.floatbank6_a_air  \\\n",
              "0                                 26.705889   \n",
              "1                                 25.019939   \n",
              "2                                 24.994862   \n",
              "\n",
              "   secondary_cleaner.state.floatbank6_a_level  \n",
              "0                                 -499.709412  \n",
              "1                                 -499.819427  \n",
              "2                                 -500.622559  \n",
              "\n",
              "[3 rows x 53 columns]"
            ]
          },
          "metadata": {},
          "output_type": "display_data"
        },
        {
          "data": {
            "text/plain": [
              "date                                           0\n",
              "primary_cleaner.input.sulfate                  4\n",
              "primary_cleaner.input.depressant               5\n",
              "primary_cleaner.input.feed_size                0\n",
              "primary_cleaner.input.xanthate                 4\n",
              "primary_cleaner.state.floatbank8_a_air         0\n",
              "primary_cleaner.state.floatbank8_a_level       0\n",
              "primary_cleaner.state.floatbank8_b_air         0\n",
              "primary_cleaner.state.floatbank8_b_level       0\n",
              "primary_cleaner.state.floatbank8_c_air         0\n",
              "primary_cleaner.state.floatbank8_c_level       0\n",
              "primary_cleaner.state.floatbank8_d_air         0\n",
              "primary_cleaner.state.floatbank8_d_level       0\n",
              "rougher.input.feed_ag                          0\n",
              "rougher.input.feed_pb                          0\n",
              "rougher.input.feed_rate                        3\n",
              "rougher.input.feed_size                        1\n",
              "rougher.input.feed_sol                        21\n",
              "rougher.input.feed_au                          0\n",
              "rougher.input.floatbank10_sulfate              5\n",
              "rougher.input.floatbank10_xanthate             0\n",
              "rougher.input.floatbank11_sulfate              8\n",
              "rougher.input.floatbank11_xanthate            25\n",
              "rougher.state.floatbank10_a_air                0\n",
              "rougher.state.floatbank10_a_level              0\n",
              "rougher.state.floatbank10_b_air                0\n",
              "rougher.state.floatbank10_b_level              0\n",
              "rougher.state.floatbank10_c_air                0\n",
              "rougher.state.floatbank10_c_level              0\n",
              "rougher.state.floatbank10_d_air                0\n",
              "rougher.state.floatbank10_d_level              0\n",
              "rougher.state.floatbank10_e_air                0\n",
              "rougher.state.floatbank10_e_level              0\n",
              "rougher.state.floatbank10_f_air                0\n",
              "rougher.state.floatbank10_f_level              0\n",
              "secondary_cleaner.state.floatbank2_a_air       3\n",
              "secondary_cleaner.state.floatbank2_a_level     0\n",
              "secondary_cleaner.state.floatbank2_b_air       2\n",
              "secondary_cleaner.state.floatbank2_b_level     0\n",
              "secondary_cleaner.state.floatbank3_a_air       9\n",
              "secondary_cleaner.state.floatbank3_a_level     0\n",
              "secondary_cleaner.state.floatbank3_b_air       0\n",
              "secondary_cleaner.state.floatbank3_b_level     0\n",
              "secondary_cleaner.state.floatbank4_a_air       0\n",
              "secondary_cleaner.state.floatbank4_a_level     0\n",
              "secondary_cleaner.state.floatbank4_b_air       0\n",
              "secondary_cleaner.state.floatbank4_b_level     0\n",
              "secondary_cleaner.state.floatbank5_a_air       0\n",
              "secondary_cleaner.state.floatbank5_a_level     0\n",
              "secondary_cleaner.state.floatbank5_b_air       0\n",
              "secondary_cleaner.state.floatbank5_b_level     0\n",
              "secondary_cleaner.state.floatbank6_a_air       0\n",
              "secondary_cleaner.state.floatbank6_a_level     0\n",
              "dtype: int64"
            ]
          },
          "metadata": {},
          "output_type": "display_data"
        }
      ],
      "source": [
        "show_optimize(df_test)"
      ]
    },
    {
      "cell_type": "code",
      "execution_count": null,
      "metadata": {
        "colab": {
          "base_uri": "https://localhost:8080/",
          "height": 1000
        },
        "id": "u2WdC-0LUAmR",
        "outputId": "739c1634-7359-44ac-9df9-b284b9cf8541"
      },
      "outputs": [
        {
          "name": "stdout",
          "output_type": "stream",
          "text": [
            "<class 'pandas.core.frame.DataFrame'>\n",
            "RangeIndex: 19439 entries, 0 to 19438\n",
            "Data columns (total 87 columns):\n",
            " #   Column                                              Non-Null Count  Dtype         \n",
            "---  ------                                              --------------  -----         \n",
            " 0   date                                                19439 non-null  datetime64[ns]\n",
            " 1   final.output.concentrate_ag                         19438 non-null  float32       \n",
            " 2   final.output.concentrate_pb                         19438 non-null  float32       \n",
            " 3   final.output.concentrate_sol                        19228 non-null  float32       \n",
            " 4   final.output.concentrate_au                         19439 non-null  float32       \n",
            " 5   final.output.recovery                               19439 non-null  float32       \n",
            " 6   final.output.tail_ag                                19438 non-null  float32       \n",
            " 7   final.output.tail_pb                                19338 non-null  float32       \n",
            " 8   final.output.tail_sol                               19433 non-null  float32       \n",
            " 9   final.output.tail_au                                19439 non-null  float32       \n",
            " 10  primary_cleaner.input.sulfate                       19415 non-null  float32       \n",
            " 11  primary_cleaner.input.depressant                    19402 non-null  float32       \n",
            " 12  primary_cleaner.input.feed_size                     19439 non-null  float32       \n",
            " 13  primary_cleaner.input.xanthate                      19335 non-null  float32       \n",
            " 14  primary_cleaner.output.concentrate_ag               19439 non-null  float32       \n",
            " 15  primary_cleaner.output.concentrate_pb               19323 non-null  float32       \n",
            " 16  primary_cleaner.output.concentrate_sol              19069 non-null  float32       \n",
            " 17  primary_cleaner.output.concentrate_au               19439 non-null  float32       \n",
            " 18  primary_cleaner.output.tail_ag                      19435 non-null  float32       \n",
            " 19  primary_cleaner.output.tail_pb                      19418 non-null  float32       \n",
            " 20  primary_cleaner.output.tail_sol                     19377 non-null  float32       \n",
            " 21  primary_cleaner.output.tail_au                      19439 non-null  float32       \n",
            " 22  primary_cleaner.state.floatbank8_a_air              19435 non-null  float32       \n",
            " 23  primary_cleaner.state.floatbank8_a_level            19438 non-null  float32       \n",
            " 24  primary_cleaner.state.floatbank8_b_air              19435 non-null  float32       \n",
            " 25  primary_cleaner.state.floatbank8_b_level            19438 non-null  float32       \n",
            " 26  primary_cleaner.state.floatbank8_c_air              19437 non-null  float32       \n",
            " 27  primary_cleaner.state.floatbank8_c_level            19438 non-null  float32       \n",
            " 28  primary_cleaner.state.floatbank8_d_air              19436 non-null  float32       \n",
            " 29  primary_cleaner.state.floatbank8_d_level            19438 non-null  float32       \n",
            " 30  rougher.calculation.sulfate_to_au_concentrate       19437 non-null  float32       \n",
            " 31  rougher.calculation.floatbank10_sulfate_to_au_feed  19437 non-null  float32       \n",
            " 32  rougher.calculation.floatbank11_sulfate_to_au_feed  19437 non-null  float32       \n",
            " 33  rougher.calculation.au_pb_ratio                     19439 non-null  float32       \n",
            " 34  rougher.input.feed_ag                               19439 non-null  float32       \n",
            " 35  rougher.input.feed_pb                               19339 non-null  float32       \n",
            " 36  rougher.input.feed_rate                             19428 non-null  float32       \n",
            " 37  rougher.input.feed_size                             19294 non-null  float32       \n",
            " 38  rougher.input.feed_sol                              19340 non-null  float32       \n",
            " 39  rougher.input.feed_au                               19439 non-null  float32       \n",
            " 40  rougher.input.floatbank10_sulfate                   19405 non-null  float32       \n",
            " 41  rougher.input.floatbank10_xanthate                  19431 non-null  float32       \n",
            " 42  rougher.input.floatbank11_sulfate                   19395 non-null  float32       \n",
            " 43  rougher.input.floatbank11_xanthate                  18986 non-null  float32       \n",
            " 44  rougher.output.concentrate_ag                       19439 non-null  float32       \n",
            " 45  rougher.output.concentrate_pb                       19439 non-null  float32       \n",
            " 46  rougher.output.concentrate_sol                      19416 non-null  float32       \n",
            " 47  rougher.output.concentrate_au                       19439 non-null  float32       \n",
            " 48  rougher.output.recovery                             19439 non-null  float32       \n",
            " 49  rougher.output.tail_ag                              19438 non-null  float32       \n",
            " 50  rougher.output.tail_pb                              19439 non-null  float32       \n",
            " 51  rougher.output.tail_sol                             19439 non-null  float32       \n",
            " 52  rougher.output.tail_au                              19439 non-null  float32       \n",
            " 53  rougher.state.floatbank10_a_air                     19438 non-null  float32       \n",
            " 54  rougher.state.floatbank10_a_level                   19438 non-null  float32       \n",
            " 55  rougher.state.floatbank10_b_air                     19438 non-null  float32       \n",
            " 56  rougher.state.floatbank10_b_level                   19438 non-null  float32       \n",
            " 57  rougher.state.floatbank10_c_air                     19438 non-null  float32       \n",
            " 58  rougher.state.floatbank10_c_level                   19438 non-null  float32       \n",
            " 59  rougher.state.floatbank10_d_air                     19439 non-null  float32       \n",
            " 60  rougher.state.floatbank10_d_level                   19439 non-null  float32       \n",
            " 61  rougher.state.floatbank10_e_air                     19003 non-null  float32       \n",
            " 62  rougher.state.floatbank10_e_level                   19439 non-null  float32       \n",
            " 63  rougher.state.floatbank10_f_air                     19439 non-null  float32       \n",
            " 64  rougher.state.floatbank10_f_level                   19439 non-null  float32       \n",
            " 65  secondary_cleaner.output.tail_ag                    19437 non-null  float32       \n",
            " 66  secondary_cleaner.output.tail_pb                    19427 non-null  float32       \n",
            " 67  secondary_cleaner.output.tail_sol                   17691 non-null  float32       \n",
            " 68  secondary_cleaner.output.tail_au                    19439 non-null  float32       \n",
            " 69  secondary_cleaner.state.floatbank2_a_air            19219 non-null  float32       \n",
            " 70  secondary_cleaner.state.floatbank2_a_level          19438 non-null  float32       \n",
            " 71  secondary_cleaner.state.floatbank2_b_air            19416 non-null  float32       \n",
            " 72  secondary_cleaner.state.floatbank2_b_level          19438 non-null  float32       \n",
            " 73  secondary_cleaner.state.floatbank3_a_air            19426 non-null  float32       \n",
            " 74  secondary_cleaner.state.floatbank3_a_level          19438 non-null  float32       \n",
            " 75  secondary_cleaner.state.floatbank3_b_air            19438 non-null  float32       \n",
            " 76  secondary_cleaner.state.floatbank3_b_level          19438 non-null  float32       \n",
            " 77  secondary_cleaner.state.floatbank4_a_air            19433 non-null  float32       \n",
            " 78  secondary_cleaner.state.floatbank4_a_level          19438 non-null  float32       \n",
            " 79  secondary_cleaner.state.floatbank4_b_air            19438 non-null  float32       \n",
            " 80  secondary_cleaner.state.floatbank4_b_level          19438 non-null  float32       \n",
            " 81  secondary_cleaner.state.floatbank5_a_air            19438 non-null  float32       \n",
            " 82  secondary_cleaner.state.floatbank5_a_level          19438 non-null  float32       \n",
            " 83  secondary_cleaner.state.floatbank5_b_air            19438 non-null  float32       \n",
            " 84  secondary_cleaner.state.floatbank5_b_level          19438 non-null  float32       \n",
            " 85  secondary_cleaner.state.floatbank6_a_air            19437 non-null  float32       \n",
            " 86  secondary_cleaner.state.floatbank6_a_level          19438 non-null  float32       \n",
            "dtypes: datetime64[ns](1), float32(86)\n",
            "memory usage: 6.5 MB\n"
          ]
        },
        {
          "data": {
            "text/plain": [
              "None"
            ]
          },
          "metadata": {},
          "output_type": "display_data"
        },
        {
          "data": {
            "text/html": [
              "<div>\n",
              "<style scoped>\n",
              "    .dataframe tbody tr th:only-of-type {\n",
              "        vertical-align: middle;\n",
              "    }\n",
              "\n",
              "    .dataframe tbody tr th {\n",
              "        vertical-align: top;\n",
              "    }\n",
              "\n",
              "    .dataframe thead th {\n",
              "        text-align: right;\n",
              "    }\n",
              "</style>\n",
              "<table border=\"1\" class=\"dataframe\">\n",
              "  <thead>\n",
              "    <tr style=\"text-align: right;\">\n",
              "      <th></th>\n",
              "      <th>date</th>\n",
              "      <th>final.output.concentrate_ag</th>\n",
              "      <th>final.output.concentrate_pb</th>\n",
              "      <th>final.output.concentrate_sol</th>\n",
              "      <th>final.output.concentrate_au</th>\n",
              "      <th>final.output.recovery</th>\n",
              "      <th>final.output.tail_ag</th>\n",
              "      <th>final.output.tail_pb</th>\n",
              "      <th>final.output.tail_sol</th>\n",
              "      <th>final.output.tail_au</th>\n",
              "      <th>...</th>\n",
              "      <th>secondary_cleaner.state.floatbank4_a_air</th>\n",
              "      <th>secondary_cleaner.state.floatbank4_a_level</th>\n",
              "      <th>secondary_cleaner.state.floatbank4_b_air</th>\n",
              "      <th>secondary_cleaner.state.floatbank4_b_level</th>\n",
              "      <th>secondary_cleaner.state.floatbank5_a_air</th>\n",
              "      <th>secondary_cleaner.state.floatbank5_a_level</th>\n",
              "      <th>secondary_cleaner.state.floatbank5_b_air</th>\n",
              "      <th>secondary_cleaner.state.floatbank5_b_level</th>\n",
              "      <th>secondary_cleaner.state.floatbank6_a_air</th>\n",
              "      <th>secondary_cleaner.state.floatbank6_a_level</th>\n",
              "    </tr>\n",
              "  </thead>\n",
              "  <tbody>\n",
              "    <tr>\n",
              "      <th>0</th>\n",
              "      <td>2016-01-15 00:00:00</td>\n",
              "      <td>6.055403</td>\n",
              "      <td>9.889648</td>\n",
              "      <td>5.507324</td>\n",
              "      <td>42.192020</td>\n",
              "      <td>70.541214</td>\n",
              "      <td>10.411962</td>\n",
              "      <td>0.895447</td>\n",
              "      <td>16.904297</td>\n",
              "      <td>2.143149</td>\n",
              "      <td>...</td>\n",
              "      <td>14.016835</td>\n",
              "      <td>-502.488007</td>\n",
              "      <td>12.099931</td>\n",
              "      <td>-504.715942</td>\n",
              "      <td>9.925633</td>\n",
              "      <td>-498.310211</td>\n",
              "      <td>8.079666</td>\n",
              "      <td>-500.470978</td>\n",
              "      <td>14.151341</td>\n",
              "      <td>-605.841980</td>\n",
              "    </tr>\n",
              "    <tr>\n",
              "      <th>1</th>\n",
              "      <td>2016-01-15 01:00:00</td>\n",
              "      <td>6.029368</td>\n",
              "      <td>9.968945</td>\n",
              "      <td>5.257782</td>\n",
              "      <td>42.701630</td>\n",
              "      <td>69.266197</td>\n",
              "      <td>10.462676</td>\n",
              "      <td>0.927452</td>\n",
              "      <td>16.634514</td>\n",
              "      <td>2.224930</td>\n",
              "      <td>...</td>\n",
              "      <td>13.992281</td>\n",
              "      <td>-505.503265</td>\n",
              "      <td>11.950531</td>\n",
              "      <td>-501.331543</td>\n",
              "      <td>10.039246</td>\n",
              "      <td>-500.169983</td>\n",
              "      <td>7.984757</td>\n",
              "      <td>-500.582153</td>\n",
              "      <td>13.998353</td>\n",
              "      <td>-599.787170</td>\n",
              "    </tr>\n",
              "    <tr>\n",
              "      <th>2</th>\n",
              "      <td>2016-01-15 02:00:00</td>\n",
              "      <td>6.055926</td>\n",
              "      <td>10.213995</td>\n",
              "      <td>5.383759</td>\n",
              "      <td>42.657501</td>\n",
              "      <td>68.116447</td>\n",
              "      <td>10.507046</td>\n",
              "      <td>0.953716</td>\n",
              "      <td>16.208849</td>\n",
              "      <td>2.257889</td>\n",
              "      <td>...</td>\n",
              "      <td>14.015016</td>\n",
              "      <td>-502.520905</td>\n",
              "      <td>11.912783</td>\n",
              "      <td>-501.133392</td>\n",
              "      <td>10.070913</td>\n",
              "      <td>-500.129120</td>\n",
              "      <td>8.013877</td>\n",
              "      <td>-500.517578</td>\n",
              "      <td>14.028663</td>\n",
              "      <td>-601.427368</td>\n",
              "    </tr>\n",
              "  </tbody>\n",
              "</table>\n",
              "<p>3 rows × 87 columns</p>\n",
              "</div>"
            ],
            "text/plain": [
              "                 date  final.output.concentrate_ag  \\\n",
              "0 2016-01-15 00:00:00                     6.055403   \n",
              "1 2016-01-15 01:00:00                     6.029368   \n",
              "2 2016-01-15 02:00:00                     6.055926   \n",
              "\n",
              "   final.output.concentrate_pb  final.output.concentrate_sol  \\\n",
              "0                     9.889648                      5.507324   \n",
              "1                     9.968945                      5.257782   \n",
              "2                    10.213995                      5.383759   \n",
              "\n",
              "   final.output.concentrate_au  final.output.recovery  final.output.tail_ag  \\\n",
              "0                    42.192020              70.541214             10.411962   \n",
              "1                    42.701630              69.266197             10.462676   \n",
              "2                    42.657501              68.116447             10.507046   \n",
              "\n",
              "   final.output.tail_pb  final.output.tail_sol  final.output.tail_au  ...  \\\n",
              "0              0.895447              16.904297              2.143149  ...   \n",
              "1              0.927452              16.634514              2.224930  ...   \n",
              "2              0.953716              16.208849              2.257889  ...   \n",
              "\n",
              "   secondary_cleaner.state.floatbank4_a_air  \\\n",
              "0                                 14.016835   \n",
              "1                                 13.992281   \n",
              "2                                 14.015016   \n",
              "\n",
              "   secondary_cleaner.state.floatbank4_a_level  \\\n",
              "0                                 -502.488007   \n",
              "1                                 -505.503265   \n",
              "2                                 -502.520905   \n",
              "\n",
              "   secondary_cleaner.state.floatbank4_b_air  \\\n",
              "0                                 12.099931   \n",
              "1                                 11.950531   \n",
              "2                                 11.912783   \n",
              "\n",
              "   secondary_cleaner.state.floatbank4_b_level  \\\n",
              "0                                 -504.715942   \n",
              "1                                 -501.331543   \n",
              "2                                 -501.133392   \n",
              "\n",
              "   secondary_cleaner.state.floatbank5_a_air  \\\n",
              "0                                  9.925633   \n",
              "1                                 10.039246   \n",
              "2                                 10.070913   \n",
              "\n",
              "   secondary_cleaner.state.floatbank5_a_level  \\\n",
              "0                                 -498.310211   \n",
              "1                                 -500.169983   \n",
              "2                                 -500.129120   \n",
              "\n",
              "   secondary_cleaner.state.floatbank5_b_air  \\\n",
              "0                                  8.079666   \n",
              "1                                  7.984757   \n",
              "2                                  8.013877   \n",
              "\n",
              "   secondary_cleaner.state.floatbank5_b_level  \\\n",
              "0                                 -500.470978   \n",
              "1                                 -500.582153   \n",
              "2                                 -500.517578   \n",
              "\n",
              "   secondary_cleaner.state.floatbank6_a_air  \\\n",
              "0                                 14.151341   \n",
              "1                                 13.998353   \n",
              "2                                 14.028663   \n",
              "\n",
              "   secondary_cleaner.state.floatbank6_a_level  \n",
              "0                                 -605.841980  \n",
              "1                                 -599.787170  \n",
              "2                                 -601.427368  \n",
              "\n",
              "[3 rows x 87 columns]"
            ]
          },
          "metadata": {},
          "output_type": "display_data"
        },
        {
          "data": {
            "text/plain": [
              "date                                            0\n",
              "final.output.concentrate_ag                     1\n",
              "final.output.concentrate_pb                     1\n",
              "final.output.concentrate_sol                  211\n",
              "final.output.concentrate_au                     0\n",
              "                                             ... \n",
              "secondary_cleaner.state.floatbank5_a_level      1\n",
              "secondary_cleaner.state.floatbank5_b_air        1\n",
              "secondary_cleaner.state.floatbank5_b_level      1\n",
              "secondary_cleaner.state.floatbank6_a_air        2\n",
              "secondary_cleaner.state.floatbank6_a_level      1\n",
              "Length: 87, dtype: int64"
            ]
          },
          "metadata": {},
          "output_type": "display_data"
        }
      ],
      "source": [
        "show_optimize(df_full)"
      ]
    },
    {
      "cell_type": "markdown",
      "metadata": {
        "id": "DPO3zAvgUAmR"
      },
      "source": [
        "### Обзор признаков, недоступных в тестовой выборке"
      ]
    },
    {
      "cell_type": "code",
      "execution_count": null,
      "metadata": {
        "colab": {
          "base_uri": "https://localhost:8080/",
          "height": 606
        },
        "id": "MCt1nx_jUAmS",
        "outputId": "738afa38-87a1-4025-9feb-942855f327bc"
      },
      "outputs": [
        {
          "data": {
            "text/plain": [
              "{'final.output.concentrate_ag',\n",
              " 'final.output.concentrate_au',\n",
              " 'final.output.concentrate_pb',\n",
              " 'final.output.concentrate_sol',\n",
              " 'final.output.recovery',\n",
              " 'final.output.tail_ag',\n",
              " 'final.output.tail_au',\n",
              " 'final.output.tail_pb',\n",
              " 'final.output.tail_sol',\n",
              " 'primary_cleaner.output.concentrate_ag',\n",
              " 'primary_cleaner.output.concentrate_au',\n",
              " 'primary_cleaner.output.concentrate_pb',\n",
              " 'primary_cleaner.output.concentrate_sol',\n",
              " 'primary_cleaner.output.tail_ag',\n",
              " 'primary_cleaner.output.tail_au',\n",
              " 'primary_cleaner.output.tail_pb',\n",
              " 'primary_cleaner.output.tail_sol',\n",
              " 'rougher.calculation.au_pb_ratio',\n",
              " 'rougher.calculation.floatbank10_sulfate_to_au_feed',\n",
              " 'rougher.calculation.floatbank11_sulfate_to_au_feed',\n",
              " 'rougher.calculation.sulfate_to_au_concentrate',\n",
              " 'rougher.output.concentrate_ag',\n",
              " 'rougher.output.concentrate_au',\n",
              " 'rougher.output.concentrate_pb',\n",
              " 'rougher.output.concentrate_sol',\n",
              " 'rougher.output.recovery',\n",
              " 'rougher.output.tail_ag',\n",
              " 'rougher.output.tail_au',\n",
              " 'rougher.output.tail_pb',\n",
              " 'rougher.output.tail_sol',\n",
              " 'secondary_cleaner.output.tail_ag',\n",
              " 'secondary_cleaner.output.tail_au',\n",
              " 'secondary_cleaner.output.tail_pb',\n",
              " 'secondary_cleaner.output.tail_sol'}"
            ]
          },
          "metadata": {},
          "output_type": "display_data"
        }
      ],
      "source": [
        "display(set(df_train.columns) - set(df_test.columns))"
      ]
    },
    {
      "cell_type": "markdown",
      "metadata": {
        "id": "urbPuX06UAmT"
      },
      "source": [
        "В исходном и тренировочном сетах по 87 столбцов, а в тестовом - 53. Отсутствуют столбцы с маркировкой output (параметры продукта), и три столбца calculation (расчётные характеристики).  \n",
        "\n",
        "Отсутствующих данных не будет на этапах, на которых будет работать модель. Значит учить ее нужно будет по тому же набору параметров, по которому ее потом придется использовать. \n",
        "\n",
        "До обучения модели из тренировочной выборки нужно будет удалить те столбцы, которые отсутствуют в тестовой, но сначала разберемся с проверкой тренировочной выборки с помощью формулы эффективностью процесса и анализом исходных данных. "
      ]
    },
    {
      "cell_type": "markdown",
      "metadata": {
        "id": "1VuoWx23UAmT"
      },
      "source": [
        "### Предобработка: пропуски в данных"
      ]
    },
    {
      "cell_type": "markdown",
      "metadata": {
        "id": "KTXpG3MeUAmU"
      },
      "source": [
        "заполним пропуски в полном сете ближайшими (последними) значениями (метод ffill), т.к. по условиям они похожи, а в тренировочном сете пропуски заполним значениями из полной выборки. \n",
        "\n",
        "пропуски в тестовом фрейме оставим без изменений"
      ]
    },
    {
      "cell_type": "code",
      "execution_count": null,
      "metadata": {
        "id": "J-IWSMOnUAmU"
      },
      "outputs": [],
      "source": [
        "full = df_full.fillna(method='ffill')\n",
        "train = df_train.fillna(full)"
      ]
    },
    {
      "cell_type": "markdown",
      "metadata": {
        "id": "FUirx_QzUAmV"
      },
      "source": [
        "### Проверка данных, расчетом эффективности по формуле заказчика"
      ]
    },
    {
      "cell_type": "markdown",
      "metadata": {
        "id": "EuzhVAKvUAmV"
      },
      "source": [
        "Посмотрим на формулу эффективности процесса от заказчика:\n",
        "\n",
        "![image.png](attachment:image.png)\n",
        "\n",
        "где:\n",
        "\n",
        "- C — доля золота в концентрате после флотации/очистки;\n",
        "- F — доля золота в сырье/концентрате до флотации/очистки;\n",
        "- T — доля золота в отвальных хвостах после флотации/очистки.\n",
        "\n",
        "для данных полного фрейма:\n"
      ]
    },
    {
      "cell_type": "code",
      "execution_count": null,
      "metadata": {
        "id": "cDqC_oqxUAmW"
      },
      "outputs": [],
      "source": [
        "C = train['rougher.output.concentrate_au']\n",
        "F = train['rougher.input.feed_au']\n",
        "T = train['rougher.output.tail_au']"
      ]
    },
    {
      "cell_type": "code",
      "execution_count": null,
      "metadata": {
        "colab": {
          "base_uri": "https://localhost:8080/"
        },
        "id": "6htxry8qUAmW",
        "outputId": "0c98dc69-e85c-4e17-9ab4-ca43f3f53dde"
      },
      "outputs": [
        {
          "name": "stdout",
          "output_type": "stream",
          "text": [
            "Средняя эффективность обогащения по данным клиента: 82.70 %\n",
            "MAE 0.00\n"
          ]
        }
      ],
      "source": [
        "recovery = (C * (F - T)) / (F * (C - T)) * 100\n",
        "print('Средняя эффективность обогащения по данным клиента:', '{:.2f}'.format(recovery.mean()), '%')\n",
        "print('MAE','{:.2f}'.format(mean_absolute_error(train['rougher.output.recovery'], recovery)))"
      ]
    },
    {
      "cell_type": "markdown",
      "metadata": {
        "id": "kvigmuFNUAmX"
      },
      "source": [
        "окей, у нас есть средняя фактическая эффективность, рассчитанная по обучающей выборке и расчет соответствует факту - **данные можно анализировать и обучать на них модели**. "
      ]
    },
    {
      "cell_type": "markdown",
      "metadata": {
        "id": "WLAAhpMjUAmY"
      },
      "source": [
        "## Анализ данных"
      ]
    },
    {
      "cell_type": "markdown",
      "metadata": {
        "id": "9rUvHojKUAmY"
      },
      "source": [
        "Концентрация золота на разных этапах очистки находится в столбцах:\n",
        "\n",
        "- исходное сырье: rougher.input.feed_au \n",
        "- по итогам флотации: rougher.output.concentrate_au\n",
        "- по итогам первичной очистки: primary_cleaner.output.concentrate_au\n",
        "- финальные характеристики: final.output.concentrate_au"
      ]
    },
    {
      "cell_type": "markdown",
      "metadata": {
        "id": "DFWWNRm0UAmY"
      },
      "source": [
        "### концентрация золота на разных этапах очистки"
      ]
    },
    {
      "cell_type": "code",
      "execution_count": null,
      "metadata": {
        "colab": {
          "base_uri": "https://localhost:8080/"
        },
        "id": "9goMLTYMUAmY",
        "outputId": "cf73713f-2ccf-4650-d502-9c4ca7ac18e7"
      },
      "outputs": [
        {
          "name": "stdout",
          "output_type": "stream",
          "text": [
            "Средняя концентрация золота в исходном сырье: 7.866577\n",
            "Средняя концентрация золота по итогам флотации: 19.439957\n",
            "Средняя концентрация золота по итогам первичной очистки: 32.386837\n",
            "Средняя концентрация золота по итогам вторичной очистки: 44.00379\n"
          ]
        }
      ],
      "source": [
        "print('Средняя концентрация золота в исходном сырье:', train['rougher.input.feed_au'].mean())\n",
        "print('Средняя концентрация золота по итогам флотации:', train['rougher.output.concentrate_au'].mean())\n",
        "print('Средняя концентрация золота по итогам первичной очистки:', train['primary_cleaner.output.concentrate_au'].mean())\n",
        "print('Средняя концентрация золота по итогам вторичной очистки:', train['final.output.concentrate_au'].mean())"
      ]
    },
    {
      "cell_type": "markdown",
      "metadata": {
        "id": "RnFHELtLUAmZ"
      },
      "source": [
        "у нас отличный вывод: **по итогам очистки золото очищается!**\n",
        "\n",
        "посмотрим, что происходит с концентрацией золота и других металлов на разных этапах очистки на графике. так можно будет увидеть не только средние результаты по этапам, но и распределение данных. "
      ]
    },
    {
      "cell_type": "markdown",
      "metadata": {
        "id": "zQRBvFyfUAmZ"
      },
      "source": [
        "### распределение значений концентрации различных металлов (au, ag, pb, sol) на разных этапах очистки"
      ]
    },
    {
      "cell_type": "code",
      "execution_count": null,
      "metadata": {
        "id": "fTIMAg-LUAma"
      },
      "outputs": [],
      "source": [
        "def conc_element(df, elm):\n",
        "# The function takes dataframe and the name of the element and visualizes the concentration at different stages of purification    \n",
        "    plt.figure(figsize=(15, 7), dpi=80)\n",
        "    \n",
        "    sns.kdeplot(df[f'rougher.input.feed_{elm}'], color='red', label='Исходное сырье')\n",
        "    sns.kdeplot(df[f'rougher.output.concentrate_{elm}'], color='blue', label='Флотация')\n",
        "    sns.kdeplot(df[f'primary_cleaner.output.concentrate_{elm}'], color='brown', label='Первичная очистка')\n",
        "    sns.kdeplot(df[f'final.output.concentrate_{elm}'], color='green', label='Финальная концентрация')\n",
        "    \n",
        "    plt.title(f'Концентрация {elm} на разных этапах очистки')\n",
        "    plt.xlabel('Концентрация')\n",
        "    plt.ylabel('Количество значений')\n",
        "    plt.legend()\n",
        "    plt.show()"
      ]
    },
    {
      "cell_type": "code",
      "execution_count": null,
      "metadata": {
        "colab": {
          "base_uri": "https://localhost:8080/",
          "height": 504
        },
        "id": "wUR5og7PUAmb",
        "outputId": "9e23fc78-f41f-4500-be42-021d13a28d76"
      },
      "outputs": [
        {
          "data": {
            "image/png": "[encoded data removed]",
            "text/plain": [
              "<Figure size 1200x560 with 1 Axes>"
            ]
          },
          "metadata": {
            "needs_background": "light"
          },
          "output_type": "display_data"
        }
      ],
      "source": [
        "conc_element(train, 'au')"
      ]
    },
    {
      "cell_type": "markdown",
      "metadata": {
        "id": "tzfeh6yDUAmc"
      },
      "source": [
        "концентрация золота на каждой стадии близка к нормальному распределению и растет с каждым этапом очистки. Вокруг нулевой концентрации есть пики на всех графиках, похоже на выбросы. Посмотрим, что происходит с остальными металлами"
      ]
    },
    {
      "cell_type": "code",
      "execution_count": null,
      "metadata": {
        "colab": {
          "base_uri": "https://localhost:8080/",
          "height": 504
        },
        "id": "IFh_6qEHUAmc",
        "outputId": "8386af1e-d4f6-47b2-98db-71ed0109d615"
      },
      "outputs": [
        {
          "data": {
            "image/png": "[encoded data removed]",
            "text/plain": [
              "<Figure size 1200x560 with 1 Axes>"
            ]
          },
          "metadata": {
            "needs_background": "light"
          },
          "output_type": "display_data"
        }
      ],
      "source": [
        "conc_element(train, 'ag')"
      ]
    },
    {
      "cell_type": "markdown",
      "metadata": {
        "id": "cV31l76PUAmc"
      },
      "source": [
        "концентрация серебра несколько растет на этапе флотации (концентрируются все металлы), и снижается в последующих этапах. Вокруг нулевой концентрации так же много значений на всех этапах"
      ]
    },
    {
      "cell_type": "code",
      "execution_count": null,
      "metadata": {
        "colab": {
          "base_uri": "https://localhost:8080/",
          "height": 504
        },
        "id": "MuXL1JO0UAmd",
        "outputId": "8eff0330-c8da-4b72-9b66-b8065f0bec05"
      },
      "outputs": [
        {
          "data": {
            "image/png": "[encoded data removed]",
            "text/plain": [
              "<Figure size 1200x560 with 1 Axes>"
            ]
          },
          "metadata": {
            "needs_background": "light"
          },
          "output_type": "display_data"
        }
      ],
      "source": [
        "conc_element(train, 'pb')"
      ]
    },
    {
      "cell_type": "markdown",
      "metadata": {
        "id": "7ccRjwuLUAmd"
      },
      "source": [
        "медианная концентрация свинца ~снижается~ **растет** на флотации и первичной очистки, а в последнем этапе колокол графика вытягивается вверх - при тех же медианных значениях сокращается количество выбросов в данных. Все соответствует технологии. Аномалия нулевых концентраций на всех этапах сохраняется\n",
        "\n",
        "свинец похож на золото с точки зрения удельного веса, поэтому и концентрация его растет аналогично. "
      ]
    },
    {
      "cell_type": "code",
      "execution_count": null,
      "metadata": {
        "colab": {
          "base_uri": "https://localhost:8080/",
          "height": 504
        },
        "id": "jNS1RoxdUAme",
        "outputId": "2c6cf1b1-624a-425f-9cc1-64a99bb4b0f7"
      },
      "outputs": [
        {
          "data": {
            "image/png": "[encoded data removed]",
            "text/plain": [
              "<Figure size 1200x560 with 1 Axes>"
            ]
          },
          "metadata": {
            "needs_background": "light"
          },
          "output_type": "display_data"
        }
      ],
      "source": [
        "conc_element(train, 'sol')"
      ]
    },
    {
      "cell_type": "raw",
      "metadata": {
        "id": "RJRJ5GrzUAmf"
      },
      "source": [
        "самая высокая силумина концентрация в исходном сырье, по мере очистки концентрация снижается. аномалии у нулевой концентрации на всех этапах очистки"
      ]
    },
    {
      "cell_type": "markdown",
      "metadata": {
        "id": "bkH6X3fhUAmf"
      },
      "source": [
        "### Размеры гранул сырья (feed size) на обучающей и тестовой выборке "
      ]
    },
    {
      "cell_type": "code",
      "execution_count": null,
      "metadata": {
        "colab": {
          "base_uri": "https://localhost:8080/"
        },
        "id": "CNQBi8MGdSb1",
        "outputId": "45941eb4-d32f-4c81-b81b-2bd5e95c0460"
      },
      "outputs": [
        {
          "name": "stdout",
          "output_type": "stream",
          "text": [
            "Средний размер гранул сырья на обучающей выборке: 60.168457\n",
            "Средний размер гранул сырья на тестовой выборке: 55.951096\n"
          ]
        }
      ],
      "source": [
        "print('Средний размер гранул сырья на обучающей выборке:', train['rougher.input.feed_size'].mean())\n",
        "print('Средний размер гранул сырья на тестовой выборке:', df_test['rougher.input.feed_size'].mean())"
      ]
    },
    {
      "cell_type": "markdown",
      "metadata": {
        "id": "-1JyJ5Qgeqvw"
      },
      "source": [
        "Средние размеры отличаются, если в тестовой выборке будут другие гранулы обучение может не дать нужных результатов, посмотрим что с их распределением:"
      ]
    },
    {
      "cell_type": "code",
      "execution_count": null,
      "metadata": {
        "colab": {
          "base_uri": "https://localhost:8080/",
          "height": 504
        },
        "id": "DN4xHXGje8uO",
        "outputId": "36a96458-0b11-489b-8c42-014782fcbe7b"
      },
      "outputs": [
        {
          "data": {
            "image/png": "[encoded data removed]",
            "text/plain": [
              "<Figure size 800x560 with 1 Axes>"
            ]
          },
          "metadata": {
            "needs_background": "light"
          },
          "output_type": "display_data"
        }
      ],
      "source": [
        "plt.figure(figsize=(10, 7), dpi=80)\n",
        "    \n",
        "sns.kdeplot(train['rougher.input.feed_size'], color='red', label='Обучающая выборка', shade=True, alpha=0.5)\n",
        "sns.kdeplot(df_test['rougher.input.feed_size'], color='blue', label='Тестовая выборка', shade=True, alpha=0.5)\n",
        "    \n",
        "plt.title('Размер гранул на обучающей и тестовой выборках')\n",
        "plt.xlabel('Размер гранул сырья (нм)')\n",
        "plt.ylabel('Количество значений')\n",
        "plt.legend()\n",
        "plt.show()"
      ]
    },
    {
      "cell_type": "markdown",
      "metadata": {
        "id": "OXuIfAWfglU-"
      },
      "source": [
        "По распределению размера гранул тестовая и тренировочная выборки очень похожи. Достаточно ли этого чтобы утверждать что они одинаковы или размеры гранул отличаются? звучит как гипотеза. \n",
        "\n",
        "**Нулевая гипотеза**: размеры гранул в тестовой и тренировочной выборках равны\n",
        "\n",
        "**Альтернативная гипотеза**: размеры гранул в тестовой и тренировочной выборках различаются\n",
        "\n",
        "выборки независимые, поэтому используем метод scipy.stats.**ttest_ind**. \n",
        "\n",
        "зададим alpha = 0.01 , что соответствует 1% вероятности ошибки в выводе о принятии нулевой гипотезы (мы же все-таки про золото...)\n",
        "\n",
        "При первой проверке p-value оказался nan, из-за одного пропуска в тестовой выборке, поэтому до проверки гипотезы - избавимся от него"
      ]
    },
    {
      "cell_type": "code",
      "execution_count": null,
      "metadata": {
        "colab": {
          "base_uri": "https://localhost:8080/"
        },
        "id": "CPkgP_7snVSp",
        "outputId": "5dcc971f-f774-492c-b14e-79facd777353"
      },
      "outputs": [
        {
          "name": "stdout",
          "output_type": "stream",
          "text": [
            "Строк до обработки 5290\n",
            "Количество пропусков для размера гранул в тестовой выборке: 1\n",
            "Строк после обработки 5289\n",
            "Количество пропусков для размера гранул в тестовой выборке: 1\n"
          ]
        }
      ],
      "source": [
        "print('Строк до обработки', len(df_test))\n",
        "print('Количество пропусков для размера гранул в тестовой выборке:', df_test['rougher.input.feed_size'].isna().sum())\n",
        "test = df_test.dropna(subset=['rougher.input.feed_size'])\n",
        "print('Строк после обработки', len(test))\n",
        "print('Количество пропусков для размера гранул в тестовой выборке:', df_test['rougher.input.feed_size'].isna().sum())"
      ]
    },
    {
      "cell_type": "code",
      "execution_count": null,
      "metadata": {
        "colab": {
          "base_uri": "https://localhost:8080/"
        },
        "id": "9LPxi0-6hZrf",
        "outputId": "80cd4b45-1972-4a27-80a6-123ccfbfa8c6"
      },
      "outputs": [
        {
          "name": "stdout",
          "output_type": "stream",
          "text": [
            "p-значение = 1.804852018072269e-38\n",
            "Отвергаем нулевую гипотезу\n"
          ]
        }
      ],
      "source": [
        "alpha = 0.01\n",
        "tstat, pvalue = ttest_ind(train['rougher.input.feed_size'], \n",
        "                          test['rougher.input.feed_size'],\n",
        "                          equal_var=False)\n",
        "print('p-значение =', pvalue)\n",
        "if pvalue < alpha:\n",
        "    print('Отвергаем нулевую гипотезу')\n",
        "else:\n",
        "    print('Не получилось отвергнуть нулевую гипотезу')"
      ]
    },
    {
      "cell_type": "markdown",
      "metadata": {
        "id": "QhuFuAIo1Q0k"
      },
      "source": [
        "Проверим ту же гипотезу после первичной обработки (и увеличим допустимую погрешность до 5%), возможно результаты будут лучше:"
      ]
    },
    {
      "cell_type": "code",
      "execution_count": null,
      "metadata": {
        "colab": {
          "base_uri": "https://localhost:8080/"
        },
        "id": "bQRuR7ck09mL",
        "outputId": "b257ef97-9c0c-428b-8013-bed63c5e980a"
      },
      "outputs": [
        {
          "name": "stdout",
          "output_type": "stream",
          "text": [
            "p-значение = 1.3889924938566695e-08\n",
            "Отвергаем нулевую гипотезу\n"
          ]
        }
      ],
      "source": [
        "alpha = 0.05\n",
        "tstat, pvalue = ttest_ind(train['primary_cleaner.input.feed_size'], \n",
        "                          test['primary_cleaner.input.feed_size'],\n",
        "                          equal_var=False)\n",
        "print('p-значение =', pvalue)\n",
        "if pvalue < alpha:\n",
        "  print('Отвергаем нулевую гипотезу')\n",
        "else:\n",
        "  print('Не получилось отвергнуть нулевую гипотезу')"
      ]
    },
    {
      "cell_type": "markdown",
      "metadata": {
        "id": "95JrH3YcuMq-"
      },
      "source": [
        "Хм. Если я правильно разобрался с проверкой гипотез - все безрадостно. **Размеры гранул в учебной и тестовой выборках различны. Модель которая училась на размерах гранул тренировочной выборки, в тесте получит другие параметры и может дать некорректный прогноз**. С другой стороны  - несмотря на различие средних - разброс и концентрация результатов визуально похожи, а корректность прогнозов модели как раз и проверяется на тестовой выборке (собственно, для этого она и нужна). В общем стоит проконсультироваться с заказчиком (оказалось что я не первый и ответ уже был в ветке Slack). \n",
        "\n",
        "При таких результатах заказчик считает погрешность допустимой. Продолжаем работу"
      ]
    },
    {
      "cell_type": "markdown",
      "metadata": {
        "id": "BjTmKqECUAmg"
      },
      "source": [
        "### Суммарная концентрация всех веществ на разных стадиях: в сырье, в черновом и финальном концентратах."
      ]
    },
    {
      "cell_type": "markdown",
      "metadata": {
        "id": "q1CPM4dYktof"
      },
      "source": [
        "Просуммируем концентрации всех элементов на различных этапах и посмотрим на распределение общей концентрации с помощью той же функции:"
      ]
    },
    {
      "cell_type": "code",
      "execution_count": null,
      "metadata": {
        "colab": {
          "base_uri": "https://localhost:8080/",
          "height": 504
        },
        "id": "CCUK9QGkbJuk",
        "outputId": "988f4ff1-044b-44a3-ac24-90118e9893a1"
      },
      "outputs": [
        {
          "data": {
            "image/png": "[encoded data removed]",
            "text/plain": [
              "<Figure size 1200x560 with 1 Axes>"
            ]
          },
          "metadata": {
            "needs_background": "light"
          },
          "output_type": "display_data"
        }
      ],
      "source": [
        "train['raw_ttl'] = train[['rougher.input.feed_au',\n",
        "                                                 'rougher.input.feed_ag',\n",
        "                                                 'rougher.input.feed_pb', \n",
        "                                                 'rougher.input.feed_sol']].sum(axis = 1)\n",
        "train['flotation_ttl'] = train[['rougher.output.concentrate_au',\n",
        "                                                 'rougher.output.concentrate_ag',\n",
        "                                                 'rougher.output.concentrate_pb', \n",
        "                                                 'rougher.output.concentrate_sol']].sum(axis = 1)\n",
        "train['purification_ttl'] = train[['primary_cleaner.output.concentrate_au',\n",
        "                                                 'primary_cleaner.output.concentrate_ag',\n",
        "                                                 'primary_cleaner.output.concentrate_pb', \n",
        "                                                 'primary_cleaner.output.concentrate_sol']].sum(axis = 1)\n",
        "train['final_ttl'] = train[['final.output.concentrate_au',\n",
        "                                                 'final.output.concentrate_ag',\n",
        "                                                 'final.output.concentrate_pb', \n",
        "                                                 'final.output.concentrate_sol']].sum(axis = 1)\n",
        "plt.figure(figsize=(15, 7), dpi=80)\n",
        "    \n",
        "sns.kdeplot(train['raw_ttl'], color='red', label='Исходное сырье')\n",
        "sns.kdeplot(train['flotation_ttl'], color='blue', label='Флотация')\n",
        "sns.kdeplot(train['purification_ttl'], color='brown', label='Первичная очистка')\n",
        "sns.kdeplot(train['final_ttl'], color='green', label='Финальная концентрация')\n",
        "    \n",
        "plt.title(f'Суммарная концентрация элементов на разных этапах очистки')\n",
        "plt.xlabel('Концентрация')\n",
        "plt.ylabel('Количество значений')\n",
        "plt.legend()\n",
        "plt.show()"
      ]
    },
    {
      "cell_type": "markdown",
      "metadata": {
        "id": "yDQVMs64ll2t"
      },
      "source": [
        "Концентрация всех элементов растет по мере очистки, значения концентра и в целом выводы те же что и у отдельных графиков. Есть аномалия вокруг нуля на каждом этапе очистки. Вероятно это может говорить о том, что в сырье есть гранулы вообще не содержащие металлов, и они проходят сквозь все этапы очистки (хотя на финише количество значений и меньше)\n",
        "\n",
        "а возможно это ошибки оборудования или данных, т.к график показывает в т.ч. концентрации меньше нуля. С точки зрения математики это выбросы"
      ]
    },
    {
      "cell_type": "code",
      "execution_count": null,
      "metadata": {
        "colab": {
          "base_uri": "https://localhost:8080/",
          "height": 725
        },
        "id": "aoCf9oTe2MSr",
        "outputId": "c945e1a6-769e-471a-e9cb-04e88c6554d4"
      },
      "outputs": [
        {
          "data": {
            "image/png": "[encoded data removed]",
            "text/plain": [
              "<Figure size 1050x750 with 1 Axes>"
            ]
          },
          "metadata": {
            "needs_background": "light"
          },
          "output_type": "display_data"
        }
      ],
      "source": [
        "plt.figure(figsize=(7,5), dpi=150)\n",
        "plt.grid(True)\n",
        "sns.boxplot(data=train[['raw_ttl', \n",
        "                        'flotation_ttl', \n",
        "                        'purification_ttl', \n",
        "                        'final_ttl']])\n",
        "\n",
        "plt.title('Распределение суммарной концентрации элементов на разных этапах очистки')\n",
        "plt.xlabel('Этап очистки')\n",
        "plt.ylabel('Концентрация')\n",
        "plt.show()\n"
      ]
    },
    {
      "cell_type": "markdown",
      "metadata": {
        "id": "8ekSdTUerWZf"
      },
      "source": [
        "Можно отсечь статистически значимую концентрацию всех элементов выше 20 в рамках предобработки, но возможно тогда модель будет неправильно распознавать эти выбросы на боевой выборке. На этапе оптимизации модели стоит проверить, как меняется целевой показатель, если обучить модель на концентрации ttl более 20. \n",
        "Так же стоит посмотреть на распределение таргетов:"
      ]
    },
    {
      "cell_type": "code",
      "execution_count": null,
      "metadata": {
        "id": "XjnrKlU5oNdr"
      },
      "outputs": [],
      "source": [
        "train['first_target'] = train['rougher.output.recovery']\n",
        "train['second_target'] = train['final.output.recovery']"
      ]
    },
    {
      "cell_type": "code",
      "execution_count": null,
      "metadata": {
        "colab": {
          "base_uri": "https://localhost:8080/",
          "height": 504
        },
        "id": "Cz4n6-uPoaKj",
        "outputId": "baaddf54-2734-4405-800a-224c4a8f5895"
      },
      "outputs": [
        {
          "data": {
            "image/png": "[encoded data removed]",
            "text/plain": [
              "<Figure size 1200x560 with 1 Axes>"
            ]
          },
          "metadata": {
            "needs_background": "light"
          },
          "output_type": "display_data"
        }
      ],
      "source": [
        "plt.figure(figsize=(15, 7), dpi=80)\n",
        "    \n",
        "sns.kdeplot(train['first_target'], color='red', label='Эффективность первичной очистки')\n",
        "sns.kdeplot(train['second_target'], color='blue', label='Эффективность финальной очистки')\n",
        "    \n",
        "plt.title(f'Распределение значений эффективности первичной и финальной очистки')\n",
        "plt.xlabel('Эффективность')\n",
        "plt.ylabel('Количество значений')\n",
        "plt.legend()\n",
        "plt.show()"
      ]
    },
    {
      "cell_type": "markdown",
      "metadata": {
        "id": "D5rhhi8oITyG"
      },
      "source": [
        "Все те же аномальные выбросы у нулевой отметки. \n",
        "\n",
        "UPD: при попытке научить модель с нулевыми значениями в концентрациях металлов появляется ошибка в метриках. Попробуем удалить выбросы в концентрациях металлов, и оставим значения таргета только больше нуля. \n",
        "\n",
        "_у меня не получилось сделать срезы обычным способом из-за сложных названий столбцов, пришлось добавлять новые, а потом удалять их, иначе код выполнялся с ошибкой_"
      ]
    },
    {
      "cell_type": "code",
      "execution_count": null,
      "metadata": {
        "id": "y-qpjW6EhwNe"
      },
      "outputs": [],
      "source": [
        "train = train.query('(raw_ttl > 20) and (flotation_ttl > 20) and\\\n",
        "                    (purification_ttl) > 20 and (final_ttl > 20) and\\\n",
        "                    (first_target > 0) and (second_target > 0)')\n",
        "\n",
        "train = train.drop(columns=['raw_ttl', 'flotation_ttl',\\\n",
        "                            'purification_ttl', 'final_ttl',\\\n",
        "                            'first_target', 'second_target'])\n"
      ]
    },
    {
      "cell_type": "markdown",
      "metadata": {
        "id": "hWhsU0C_UAmi"
      },
      "source": [
        "## Модель"
      ]
    },
    {
      "cell_type": "markdown",
      "metadata": {
        "id": "xKVziiRbkIWU"
      },
      "source": [
        "Сделаем функцию для расчета sMAPE для каждой из стадий и финальную метрику. \n",
        "Чтобы использовать финальную метрику с функциями sklearn, как стандартную - используем make_scorer. "
      ]
    },
    {
      "cell_type": "code",
      "execution_count": null,
      "metadata": {
        "id": "P_PZFBB1UAmi"
      },
      "outputs": [],
      "source": [
        "def smape(target, predictions):\n",
        "# Accepts target and predictions and calculates sMAPE according to the customer's form\n",
        "  return 1 / len(target) * (np.sum((np.abs(predictions - target) / ((np.abs(target) + np.abs(predictions))) / 2)) * 100)\n",
        "\n",
        "def f_smape(target, predictions):\n",
        "# Accepts target and predictions and calculates final sMAPE taking into account the stages of the process\n",
        "  rougher = smape(target['rougher.output.recovery'], predictions[:, 0])\n",
        "  final = smape(target['final.output.recovery'], predictions[:, 1]) \n",
        "  return (rougher * 0.25) + (final * 0.75)"
      ]
    },
    {
      "cell_type": "code",
      "execution_count": null,
      "metadata": {
        "id": "vY5DmpZwevpj"
      },
      "outputs": [],
      "source": [
        "smape_score = make_scorer(f_smape, greater_is_better=False)"
      ]
    },
    {
      "cell_type": "markdown",
      "metadata": {
        "id": "ala4LEkjrMR5"
      },
      "source": [
        "### Выбор модели\n",
        "\n",
        "Для выбора перспективной модели:\n",
        "- подготовим фичи и таргет для обучения из тренировочной выборки\n",
        "- обучим модели регрессии (линейную, дерево решений, случайный лес) на базовых параметрах, оценим их кросс-валидацией и определимся, с какой из них работать дальше.\n"
      ]
    },
    {
      "cell_type": "markdown",
      "metadata": {
        "id": "u9aY0RFcv9JG"
      },
      "source": [
        "Подготовим фичи и таргет для обучения, Таргета будет два: это восстановелние после первичной и финальной очистки. Информация о времени получения измерений (date) так же не должна влиять на предсказания результата. \n",
        "Модель должна обучаться на тех данных, которые будут потом доступны в тестовой выборке. "
      ]
    },
    {
      "cell_type": "code",
      "execution_count": null,
      "metadata": {
        "id": "dqqGx68-rRZg"
      },
      "outputs": [],
      "source": [
        "target = train[['rougher.output.recovery', 'final.output.recovery']]\n",
        "train = train.drop(columns=(set(train.columns) - set(test.columns)))\n",
        "features = train.drop('date', axis=1)"
      ]
    },
    {
      "cell_type": "markdown",
      "metadata": {
        "id": "AhalAuUlmBZ9"
      },
      "source": [
        "Посмотрим на работу моделей на гиперпараметрах по умолчанию:"
      ]
    },
    {
      "cell_type": "markdown",
      "metadata": {
        "id": "1HfII4dwUAmj"
      },
      "source": [
        "#### Линейная регрессия"
      ]
    },
    {
      "cell_type": "code",
      "execution_count": null,
      "metadata": {
        "colab": {
          "base_uri": "https://localhost:8080/",
          "height": 35
        },
        "id": "ta6lCLUD09-I",
        "outputId": "b20673ed-9d15-4122-e153-bf847c1394ac"
      },
      "outputs": [
        {
          "data": {
            "text/plain": [
              "\"\\nlr_model = LinearRegression() \\nlr_model.fit(features, target) \\n\\nlr_score = cross_val_score(lr_model, features, target, cv=5, scoring=smape_score).mean()\\nprint('sMAPE линейной регрессии:', lr_score)\\n\""
            ]
          },
          "execution_count": 30,
          "metadata": {},
          "output_type": "execute_result"
        }
      ],
      "source": [
        "'''\n",
        "lr_model = LinearRegression() \n",
        "lr_model.fit(features, target) \n",
        "\n",
        "lr_score = cross_val_score(lr_model, features, target, cv=5, scoring=smape_score).mean()\n",
        "print('sMAPE линейной регрессии:', lr_score)\n",
        "'''"
      ]
    },
    {
      "cell_type": "markdown",
      "metadata": {
        "id": "J82x1-Vk9F33"
      },
      "source": [
        "sMAPE линейной регрессии: -2.55, посмотрим Дерево решений\n",
        "\n",
        "_В тестах этой и следующих моделей код закомментирован, а результаты вынесены в markdown чтобы ускорить выполнение тетради_"
      ]
    },
    {
      "cell_type": "markdown",
      "metadata": {
        "id": "qMPxKlCVUAmj"
      },
      "source": [
        "#### Дерево решений"
      ]
    },
    {
      "cell_type": "code",
      "execution_count": null,
      "metadata": {
        "colab": {
          "base_uri": "https://localhost:8080/",
          "height": 35
        },
        "id": "bwp-wMkX7r3d",
        "outputId": "4cc8f19a-fb29-4859-f9f3-08b2bfa05625"
      },
      "outputs": [
        {
          "data": {
            "text/plain": [
              "\"\\ndtr_model = DecisionTreeRegressor(random_state=12345)\\ndtr_model.fit(features, target)\\n\\ndtr_score = cross_val_score(dtr_model, features, target, cv=5, scoring=smape_score).mean()\\nprint('sMAPE Дерева решений:', dtr_score)\\n\""
            ]
          },
          "execution_count": 31,
          "metadata": {},
          "output_type": "execute_result"
        }
      ],
      "source": [
        "'''\n",
        "dtr_model = DecisionTreeRegressor(random_state=12345)\n",
        "dtr_model.fit(features, target)\n",
        "\n",
        "dtr_score = cross_val_score(dtr_model, features, target, cv=5, scoring=smape_score).mean()\n",
        "print('sMAPE Дерева решений:', dtr_score)\n",
        "'''"
      ]
    },
    {
      "cell_type": "markdown",
      "metadata": {
        "id": "tE-0rs1h9R_p"
      },
      "source": [
        "sMAPE Дерева решений: -3.39, результат хуже линейной регресии. Посмотрим на работу Случайного леса:"
      ]
    },
    {
      "cell_type": "markdown",
      "metadata": {
        "id": "Rmo1CrZLUAmj"
      },
      "source": [
        "#### Случайный лес"
      ]
    },
    {
      "cell_type": "code",
      "execution_count": null,
      "metadata": {
        "colab": {
          "base_uri": "https://localhost:8080/",
          "height": 35
        },
        "id": "oygf1vz59ijD",
        "outputId": "f1e0eb3c-7324-44cc-b757-700f36fbef6d"
      },
      "outputs": [
        {
          "data": {
            "text/plain": [
              "\"\\nrfr_model = RandomForestRegressor(random_state=12345)\\nrfr_model.fit(features, target) \\n\\nrfr_score = cross_val_score(rfr_model, features, target, cv=5, scoring=smape_score).mean()\\nprint('sMAPE Случайного леса:', rfr_score)\\n\""
            ]
          },
          "execution_count": 32,
          "metadata": {},
          "output_type": "execute_result"
        }
      ],
      "source": [
        "'''\n",
        "rfr_model = RandomForestRegressor(random_state=12345)\n",
        "rfr_model.fit(features, target) \n",
        "\n",
        "rfr_score = cross_val_score(rfr_model, features, target, cv=5, scoring=smape_score).mean()\n",
        "print('sMAPE Случайного леса:', rfr_score)\n",
        "'''"
      ]
    },
    {
      "cell_type": "markdown",
      "metadata": {
        "id": "mMyI7lFPUzeK"
      },
      "source": [
        "sMAPE Случайного леса: -2.31 - это лучший резултьтат на гиперпараметрах по умолчанию. Продолжим работу с этой моделью"
      ]
    },
    {
      "cell_type": "markdown",
      "metadata": {
        "id": "f3ZMdjW8UAmk"
      },
      "source": [
        "### Улучшение модели:\n"
      ]
    },
    {
      "cell_type": "markdown",
      "metadata": {
        "id": "v89uj4ZqWRlB"
      },
      "source": [
        "Определим параметры max_depth и n_estimators. используем sMAPE в качестве метрики сравнения моделей:"
      ]
    },
    {
      "cell_type": "code",
      "execution_count": null,
      "metadata": {
        "colab": {
          "base_uri": "https://localhost:8080/",
          "height": 70
        },
        "id": "wrZFB8FYV_7S",
        "outputId": "48baaff5-cc4d-4f1d-ab09-18562faad7c9"
      },
      "outputs": [
        {
          "data": {
            "text/plain": [
              "'\\nbest_model = None\\nbest_result = 10000\\nbest_est = 0\\nbest_depth = 0\\nfor est in range(10, 101, 10):\\n    for depth in range (1, 51, 5):\\n        model = RandomForestRegressor(random_state=12345, n_estimators=est, max_depth=depth)\\n        model.fit(features, target) \\n        result = abs(cross_val_score(model, features, target, cv=5, scoring=smape_score).mean())\\n        if result < best_result:\\n            best_model = model\\n            best_result = result\\n            best_est = est\\n            best_depth = depth\\n\\nprint(\"sMAPE Случайный лес с лучшими гиперпараметрами:\", best_result)\\nprint(\"Количество деревьев:\", best_est)\\nprint(\"Максимальная глубина:\", depth)\\n'"
            ]
          },
          "execution_count": 33,
          "metadata": {},
          "output_type": "execute_result"
        }
      ],
      "source": [
        "'''\n",
        "best_model = None\n",
        "best_result = 10000\n",
        "best_est = 0\n",
        "best_depth = 0\n",
        "for est in range(10, 101, 10):\n",
        "    for depth in range (1, 51, 5):\n",
        "        model = RandomForestRegressor(random_state=12345, n_estimators=est, max_depth=depth)\n",
        "        model.fit(features, target) \n",
        "        result = abs(cross_val_score(model, features, target, cv=5, scoring=smape_score).mean())\n",
        "        if result < best_result:\n",
        "            best_model = model\n",
        "            best_result = result\n",
        "            best_est = est\n",
        "            best_depth = depth\n",
        "\n",
        "print(\"sMAPE Случайный лес с лучшими гиперпараметрами:\", best_result)\n",
        "print(\"Количество деревьев:\", best_est)\n",
        "print(\"Максимальная глубина:\", depth)\n",
        "'''"
      ]
    },
    {
      "cell_type": "markdown",
      "metadata": {
        "id": "s-RyMUNfXgWI"
      },
      "source": [
        "В цикле оптимальные гиперпараметры для модели: n_estimators=70, max_depth=46\n",
        "\n",
        "лучший sMAPE = 2,58, и он хуже, чем на гиперпараметрах по умолчанию \n",
        "\n",
        "Код работал больше семи часов (я его закомментировал) \n",
        "\n",
        "Пока оптимальный вариант - лес с параметрами по умолчанию\n"
      ]
    },
    {
      "cell_type": "markdown",
      "metadata": {
        "id": "LEtYPDKV_xUe"
      },
      "source": [
        "Попробуем улучшить результат научив для каждого таргета по отдельной модели со своими гиперпараметрами. Фичи я сначатоже разделить по этапам, но более логичным кажется оставить все имеющиеся данные "
      ]
    },
    {
      "cell_type": "code",
      "execution_count": null,
      "metadata": {
        "id": "Zk2BE4gC0ISY"
      },
      "outputs": [],
      "source": [
        "rougher_target = target['rougher.output.recovery']\n",
        "final_target = target['final.output.recovery']\n"
      ]
    },
    {
      "cell_type": "markdown",
      "metadata": {
        "id": "yr91WsCF_7Z_"
      },
      "source": [
        "модель для первичной очистки:"
      ]
    },
    {
      "cell_type": "code",
      "execution_count": null,
      "metadata": {
        "colab": {
          "base_uri": "https://localhost:8080/",
          "height": 52
        },
        "id": "UWxcME-w8bA3",
        "outputId": "50e35051-d391-4665-eee4-a6a6e72db468"
      },
      "outputs": [
        {
          "data": {
            "text/plain": [
              "\"\\nrougher_model = RandomForestRegressor()\\nparametrs = { 'n_estimators': range (1, 101, 10),\\n              'max_depth': range (1,11, 2), }\\n\\ngrid = GridSearchCV(rougher_model, \\n                    parametrs, \\n                    cv=5, \\n                    scoring=two_models_score, \\n                    error_score='raise', \\n                    return_train_score=True)\\ngrid.fit(features, rougher_target)\\nprint(grid.best_params_)\\n\""
            ]
          },
          "execution_count": 35,
          "metadata": {},
          "output_type": "execute_result"
        }
      ],
      "source": [
        "two_models_score = make_scorer(smape, greater_is_better=False)\n",
        "'''\n",
        "rougher_model = RandomForestRegressor()\n",
        "parametrs = { 'n_estimators': range (1, 101, 10),\n",
        "              'max_depth': range (1,11, 2), }\n",
        "\n",
        "grid = GridSearchCV(rougher_model, \n",
        "                    parametrs, \n",
        "                    cv=5, \n",
        "                    scoring=two_models_score, \n",
        "                    error_score='raise', \n",
        "                    return_train_score=True)\n",
        "grid.fit(features, rougher_target)\n",
        "print(grid.best_params_)\n",
        "'''"
      ]
    },
    {
      "cell_type": "markdown",
      "metadata": {
        "id": "Ri265MmFpd71"
      },
      "source": [
        "полученные гиперпараметры модели rougher_model {'max_depth': 7, 'n_estimators': 41}"
      ]
    },
    {
      "cell_type": "markdown",
      "metadata": {
        "id": "IzBqvV8aAJWz"
      },
      "source": [
        "и для финальной:"
      ]
    },
    {
      "cell_type": "code",
      "execution_count": null,
      "metadata": {
        "colab": {
          "base_uri": "https://localhost:8080/",
          "height": 52
        },
        "id": "AOl1Xl4q9UId",
        "outputId": "584f1a66-6de6-406a-fba5-1743e9a5b058"
      },
      "outputs": [
        {
          "data": {
            "text/plain": [
              "\"\\nfinal_model = RandomForestRegressor()\\nparametrs = { 'n_estimators': range (1, 101, 10),\\n              'max_depth': range (1,11, 2), }\\n\\ngrid = GridSearchCV(final_model, \\n                    parametrs, \\n                    cv=5, \\n                    scoring=two_models_score, \\n                    error_score='raise', \\n                    return_train_score=True)\\ngrid.fit(features, final_target)\\nprint(grid.best_params_)\\n\""
            ]
          },
          "execution_count": 36,
          "metadata": {},
          "output_type": "execute_result"
        }
      ],
      "source": [
        "'''\n",
        "final_model = RandomForestRegressor()\n",
        "parametrs = { 'n_estimators': range (1, 101, 10),\n",
        "              'max_depth': range (1,11, 2), }\n",
        "\n",
        "grid = GridSearchCV(final_model, \n",
        "                    parametrs, \n",
        "                    cv=5, \n",
        "                    scoring=two_models_score, \n",
        "                    error_score='raise', \n",
        "                    return_train_score=True)\n",
        "grid.fit(features, final_target)\n",
        "print(grid.best_params_)\n",
        "'''"
      ]
    },
    {
      "cell_type": "markdown",
      "metadata": {
        "id": "ZaFgEGrk1w14"
      },
      "source": [
        "полученные гиперпараметры модели final_model {'max_depth': 3, 'n_estimators': 71}"
      ]
    },
    {
      "cell_type": "markdown",
      "metadata": {
        "id": "gTn0ZaNpAM7H"
      },
      "source": [
        "применим обе модели на лучших параметрах и посмотрим на результат (закомментировал код после отработки):"
      ]
    },
    {
      "cell_type": "code",
      "execution_count": null,
      "metadata": {
        "colab": {
          "base_uri": "https://localhost:8080/",
          "height": 52
        },
        "id": "cwLhJDYR2CAA",
        "outputId": "e66916f1-ea18-443c-84f9-7ac7241cc8a2"
      },
      "outputs": [
        {
          "data": {
            "text/plain": [
              "\"\\nrougher_model = RandomForestRegressor(random_state=12345, max_depth=7, n_estimators=41)\\nrougher_model.fit(features, rougher_target) \\n\\nrougher_score = cross_val_score(rougher_model, features, rougher_target, cv=5, scoring=two_models_score).mean()\\nprint('sMAPE на этапе первичной обработки:', rougher_score)\\n\""
            ]
          },
          "execution_count": 37,
          "metadata": {},
          "output_type": "execute_result"
        }
      ],
      "source": [
        "'''\n",
        "rougher_model = RandomForestRegressor(random_state=12345, max_depth=7, n_estimators=41)\n",
        "rougher_model.fit(features, rougher_target) \n",
        "\n",
        "rougher_score = cross_val_score(rougher_model, features, rougher_target, cv=5, scoring=two_models_score).mean()\n",
        "print('sMAPE на этапе первичной обработки:', rougher_score)\n",
        "'''"
      ]
    },
    {
      "cell_type": "code",
      "execution_count": null,
      "metadata": {
        "colab": {
          "base_uri": "https://localhost:8080/",
          "height": 52
        },
        "id": "z62o5SElP7kj",
        "outputId": "8dc782c4-6d2e-4b45-ab9c-bea98675891b"
      },
      "outputs": [
        {
          "data": {
            "text/plain": [
              "\"\\nfinal_model = RandomForestRegressor(random_state=12345, max_depth=3, n_estimators=71)\\nfinal_model.fit(features, final_target) \\n\\nfinal_score = cross_val_score(final_model, features, final_target, cv=5, scoring=two_models_score).mean()\\nprint('sMAPE на этапе финальной обработки:', final_score)\\n\\nprint('sMAPE процесса очитски для прогноза на двух моделях:', (0.25 * rougher_score) + (0.75 * final_score))\\n\""
            ]
          },
          "execution_count": 38,
          "metadata": {},
          "output_type": "execute_result"
        }
      ],
      "source": [
        "'''\n",
        "final_model = RandomForestRegressor(random_state=12345, max_depth=3, n_estimators=71)\n",
        "final_model.fit(features, final_target) \n",
        "\n",
        "final_score = cross_val_score(final_model, features, final_target, cv=5, scoring=two_models_score).mean()\n",
        "print('sMAPE на этапе финальной обработки:', final_score)\n",
        "\n",
        "print('sMAPE процесса очитски для прогноза на двух моделях:', (0.25 * rougher_score) + (0.75 * final_score))\n",
        "'''"
      ]
    },
    {
      "cell_type": "markdown",
      "metadata": {
        "id": "1mIQ_ajy1t8v"
      },
      "source": [
        "Лучший результат на обучающей выборке показывает работа двух отдельных моделей Случайный лес, с подобранными для каждой модели гиперпараметрами. \n",
        "\n",
        "sMAPE на этапе первичной обработки: -1,593\n",
        "\n",
        "sMAPE на этапе финальной обработки: -2.211\n",
        "\n",
        "sMAPE процесса очитски для прогноза на двух моделях: -2.057"
      ]
    },
    {
      "cell_type": "markdown",
      "metadata": {
        "id": "M1wiHl6JxKdF"
      },
      "source": [
        "## Проверка модели на тестовой выборке заказчика:\n",
        "- восстановим значения таргета из полной выборки\n",
        "- удалим столбец с датой и аномальные значения концентраций и восстановления\n",
        "- получим результаты, применив лучшие модели к выборке заказчика\n",
        "- оценим итоговую метрику sMAPE"
      ]
    },
    {
      "cell_type": "code",
      "execution_count": null,
      "metadata": {
        "id": "oNPNTl55xpuR"
      },
      "outputs": [],
      "source": [
        "full_target = full[['date', 'rougher.output.recovery', 'final.output.recovery']]\n",
        "test = df_test.merge(full_target, how='inner', on='date')"
      ]
    },
    {
      "cell_type": "code",
      "execution_count": null,
      "metadata": {
        "colab": {
          "base_uri": "https://localhost:8080/"
        },
        "id": "fSQLp8SOGed3",
        "outputId": "1123c105-b9b8-43db-a88d-83db396e46af"
      },
      "outputs": [
        {
          "data": {
            "text/plain": [
              "primary_cleaner.input.sulfate                  4\n",
              "primary_cleaner.input.depressant               5\n",
              "primary_cleaner.input.feed_size                0\n",
              "primary_cleaner.input.xanthate                 4\n",
              "primary_cleaner.state.floatbank8_a_air         0\n",
              "primary_cleaner.state.floatbank8_a_level       0\n",
              "primary_cleaner.state.floatbank8_b_air         0\n",
              "primary_cleaner.state.floatbank8_b_level       0\n",
              "primary_cleaner.state.floatbank8_c_air         0\n",
              "primary_cleaner.state.floatbank8_c_level       0\n",
              "primary_cleaner.state.floatbank8_d_air         0\n",
              "primary_cleaner.state.floatbank8_d_level       0\n",
              "rougher.input.feed_ag                          0\n",
              "rougher.input.feed_pb                          0\n",
              "rougher.input.feed_rate                        3\n",
              "rougher.input.feed_size                        1\n",
              "rougher.input.feed_sol                        21\n",
              "rougher.input.feed_au                          0\n",
              "rougher.input.floatbank10_sulfate              5\n",
              "rougher.input.floatbank10_xanthate             0\n",
              "rougher.input.floatbank11_sulfate              8\n",
              "rougher.input.floatbank11_xanthate            25\n",
              "rougher.state.floatbank10_a_air                0\n",
              "rougher.state.floatbank10_a_level              0\n",
              "rougher.state.floatbank10_b_air                0\n",
              "rougher.state.floatbank10_b_level              0\n",
              "rougher.state.floatbank10_c_air                0\n",
              "rougher.state.floatbank10_c_level              0\n",
              "rougher.state.floatbank10_d_air                0\n",
              "rougher.state.floatbank10_d_level              0\n",
              "rougher.state.floatbank10_e_air                0\n",
              "rougher.state.floatbank10_e_level              0\n",
              "rougher.state.floatbank10_f_air                0\n",
              "rougher.state.floatbank10_f_level              0\n",
              "secondary_cleaner.state.floatbank2_a_air       3\n",
              "secondary_cleaner.state.floatbank2_a_level     0\n",
              "secondary_cleaner.state.floatbank2_b_air       2\n",
              "secondary_cleaner.state.floatbank2_b_level     0\n",
              "secondary_cleaner.state.floatbank3_a_air       9\n",
              "secondary_cleaner.state.floatbank3_a_level     0\n",
              "secondary_cleaner.state.floatbank3_b_air       0\n",
              "secondary_cleaner.state.floatbank3_b_level     0\n",
              "secondary_cleaner.state.floatbank4_a_air       0\n",
              "secondary_cleaner.state.floatbank4_a_level     0\n",
              "secondary_cleaner.state.floatbank4_b_air       0\n",
              "secondary_cleaner.state.floatbank4_b_level     0\n",
              "secondary_cleaner.state.floatbank5_a_air       0\n",
              "secondary_cleaner.state.floatbank5_a_level     0\n",
              "secondary_cleaner.state.floatbank5_b_air       0\n",
              "secondary_cleaner.state.floatbank5_b_level     0\n",
              "secondary_cleaner.state.floatbank6_a_air       0\n",
              "secondary_cleaner.state.floatbank6_a_level     0\n",
              "rougher.output.recovery                        0\n",
              "final.output.recovery                          0\n",
              "dtype: int64"
            ]
          },
          "execution_count": 40,
          "metadata": {},
          "output_type": "execute_result"
        }
      ],
      "source": [
        "test = test.drop(columns='date')\n",
        "test.isna().sum()"
      ]
    },
    {
      "cell_type": "code",
      "execution_count": null,
      "metadata": {
        "id": "WCa0aPx-7jCG"
      },
      "outputs": [],
      "source": [
        "test = test.fillna(full)"
      ]
    },
    {
      "cell_type": "code",
      "execution_count": null,
      "metadata": {
        "id": "uuW4U1UWUAmk"
      },
      "outputs": [],
      "source": [
        "rougher_target = test['rougher.output.recovery']\n",
        "final_target = test['final.output.recovery']\n",
        "features = test.drop(columns = ['rougher.output.recovery', 'final.output.recovery'])"
      ]
    },
    {
      "cell_type": "code",
      "execution_count": null,
      "metadata": {
        "colab": {
          "base_uri": "https://localhost:8080/",
          "height": 70
        },
        "id": "pydzXQ-95T3k",
        "outputId": "e8c0bdda-62b9-4ed0-ba64-0fd8db6a67e0"
      },
      "outputs": [
        {
          "data": {
            "text/plain": [
              "\"\\nrougher_model = RandomForestRegressor(random_state=12345, max_depth=7, n_estimators=41)\\nrougher_model.fit(features, rougher_target) \\n\\nrougher_score = cross_val_score(rougher_model, features, rougher_target, cv=5, scoring=two_models_score).mean()\\nprint('sMAPE на этапе первичной обработки:', rougher_score)\\n\\nfinal_model = RandomForestRegressor(random_state=12345, max_depth=3, n_estimators=71)\\nfinal_model.fit(features, final_target) \\n\\nfinal_score = cross_val_score(final_model, features, final_target, cv=5, scoring=two_models_score).mean()\\nprint('sMAPE на этапе финальной обработки:', final_score)\\n\\nprint('sMAPE процесса очитски для прогноза на двух моделях:', (0.25 * rougher_score) + (0.75 * final_score))\\n\""
            ]
          },
          "execution_count": 43,
          "metadata": {},
          "output_type": "execute_result"
        }
      ],
      "source": [
        "'''\n",
        "rougher_model = RandomForestRegressor(random_state=12345, max_depth=7, n_estimators=41)\n",
        "rougher_model.fit(features, rougher_target) \n",
        "\n",
        "rougher_score = cross_val_score(rougher_model, features, rougher_target, cv=5, scoring=two_models_score).mean()\n",
        "print('sMAPE на этапе первичной обработки:', rougher_score)\n",
        "\n",
        "final_model = RandomForestRegressor(random_state=12345, max_depth=3, n_estimators=71)\n",
        "final_model.fit(features, final_target) \n",
        "\n",
        "final_score = cross_val_score(final_model, features, final_target, cv=5, scoring=two_models_score).mean()\n",
        "print('sMAPE на этапе финальной обработки:', final_score)\n",
        "\n",
        "print('sMAPE процесса очитски для прогноза на двух моделях:', (0.25 * rougher_score) + (0.75 * final_score))\n",
        "'''"
      ]
    },
    {
      "cell_type": "markdown",
      "metadata": {
        "id": "0Lg_fPdn8RGw"
      },
      "source": [
        "sMAPE на этапе первичной обработки: -3.207\n",
        "\n",
        "sMAPE на этапе финальной обработки: -2.460\n",
        "\n",
        "sMAPE процесса очитски для прогноза на двух моделях: -2.646"
      ]
    },
    {
      "cell_type": "markdown",
      "metadata": {
        "id": "azk0l-j-JXm2"
      },
      "source": [
        "#ВЫВОДЫ:\n",
        "1. Данные предоставленные клиентом позволяют обучить модель и получить приемлемый результат. \n",
        "**Наилучшим образом себя показали две отдельно обученных модели с разными гиперпараметрами для каждой из стадий очистки. Они предсказывает коэффициент восстановления золота из золотосодержащей руды с точностью до 2,05% на обучающей выборке и 2,65% на тестовой**\n",
        "(sMAPE  -2.646)\n",
        "\n",
        "2. В исходных данных содержатся выбросы:\n",
        "- нулевые или отрицательные концентрации элементов на разных стадиях очистки\n",
        "- нулевые или отрицательные значения коэффициента восстановления\n",
        "так же содержатся пропуски, которые целесообразно заполнять соседними по времени значениями\n",
        "\n",
        "3. Мы отвергли гипотезу о том, что размеры гранул тестовой и тренировочной выборки одинаковы, а значит они различаются. **Различия в размерах гранул могут отрицательно влиять на точность модели**. Следует уточнить допустимую границу отклонения размеров гранул, по-возможности дообучить модель на большей выборке\n"
      ]
    },
    {
      "cell_type": "markdown",
      "metadata": {
        "id": "NMlY2Bo3UAml"
      },
      "source": [
        "## Чек-лист готовности проекта"
      ]
    },
    {
      "cell_type": "markdown",
      "metadata": {
        "id": "eazbUaryUAml"
      },
      "source": [
        "- [x]  Jupyter Notebook открыт\n",
        "- [x]  Весь код выполняется без ошибок\n",
        "- [x]  Ячейки с кодом расположены в порядке выполнения\n",
        "- [x]  Выполнен шаг 1: данные подготовлены\n",
        "    - [x]  Проверена формула вычисления эффективности обогащения\n",
        "    - [x]  Проанализированы признаки, недоступные в тестовой выборке\n",
        "    - [x]  Проведена предобработка данных\n",
        "- [x]  Выполнен шаг 2: данные проанализированы\n",
        "    - [x]  Исследовано изменение концентрации элементов на каждом этапе\n",
        "    - [x]  Проанализированы распределения размеров гранул на обучающей и тестовой выборках\n",
        "    - [x]  Исследованы суммарные концентрации\n",
        "- [x]  Выполнен шаг 3: построена модель прогнозирования\n",
        "    - [x]  Написана функция для вычисления итогового *sMAPE*\n",
        "    - [x]  Обучено и проверено несколько моделей\n",
        "    - [x]  Выбрана лучшая модель, её качество проверено на тестовой выборке"
      ]
    }
  ],
  "metadata": {
    "ExecuteTimeLog": [
      {
        "duration": 1800,
        "start_time": "2022-05-10T09:17:01.105Z"
      },
      {
        "duration": 273,
        "start_time": "2022-05-10T09:18:25.639Z"
      },
      {
        "duration": 98,
        "start_time": "2022-05-10T09:34:31.368Z"
      },
      {
        "duration": 455,
        "start_time": "2022-05-10T09:35:48.149Z"
      },
      {
        "duration": 97,
        "start_time": "2022-05-10T09:36:58.011Z"
      },
      {
        "duration": 343,
        "start_time": "2022-05-10T09:37:23.503Z"
      },
      {
        "duration": 72,
        "start_time": "2022-05-11T18:23:13.230Z"
      },
      {
        "duration": 2167,
        "start_time": "2022-05-11T18:23:27.935Z"
      },
      {
        "duration": 364,
        "start_time": "2022-05-11T18:23:30.104Z"
      },
      {
        "duration": 146,
        "start_time": "2022-05-11T18:23:30.471Z"
      },
      {
        "duration": 450,
        "start_time": "2022-05-11T18:23:30.620Z"
      },
      {
        "duration": 29,
        "start_time": "2022-05-11T18:23:31.073Z"
      },
      {
        "duration": 24,
        "start_time": "2022-05-11T18:24:35.283Z"
      },
      {
        "duration": 13,
        "start_time": "2022-05-11T18:29:14.474Z"
      },
      {
        "duration": 23,
        "start_time": "2022-05-11T18:29:50.780Z"
      },
      {
        "duration": 14,
        "start_time": "2022-05-11T18:30:07.447Z"
      },
      {
        "duration": 50,
        "start_time": "2022-05-11T18:44:24.665Z"
      },
      {
        "duration": 2068,
        "start_time": "2022-05-11T18:46:30.649Z"
      },
      {
        "duration": 398,
        "start_time": "2022-05-11T18:46:32.720Z"
      },
      {
        "duration": 146,
        "start_time": "2022-05-11T18:46:33.120Z"
      },
      {
        "duration": 501,
        "start_time": "2022-05-11T18:46:33.269Z"
      },
      {
        "duration": 43,
        "start_time": "2022-05-11T18:46:33.773Z"
      },
      {
        "duration": 60,
        "start_time": "2022-05-11T18:46:33.818Z"
      },
      {
        "duration": 14,
        "start_time": "2022-05-11T18:53:08.291Z"
      },
      {
        "duration": 2617,
        "start_time": "2022-05-11T18:58:34.792Z"
      },
      {
        "duration": 364,
        "start_time": "2022-05-11T18:58:37.412Z"
      },
      {
        "duration": 164,
        "start_time": "2022-05-11T18:58:37.779Z"
      },
      {
        "duration": 474,
        "start_time": "2022-05-11T18:58:37.946Z"
      },
      {
        "duration": 12,
        "start_time": "2022-05-11T18:58:38.425Z"
      },
      {
        "duration": 39,
        "start_time": "2022-05-11T18:58:38.439Z"
      },
      {
        "duration": 55,
        "start_time": "2022-05-11T18:58:38.494Z"
      },
      {
        "duration": 4138,
        "start_time": "2022-05-11T19:16:30.237Z"
      },
      {
        "duration": 6189,
        "start_time": "2022-05-11T19:17:04.877Z"
      },
      {
        "duration": 4053,
        "start_time": "2022-05-11T19:18:55.450Z"
      },
      {
        "duration": 3919,
        "start_time": "2022-05-11T19:19:10.102Z"
      },
      {
        "duration": 2178,
        "start_time": "2022-05-11T19:19:49.429Z"
      },
      {
        "duration": 424,
        "start_time": "2022-05-11T19:19:51.609Z"
      },
      {
        "duration": 200,
        "start_time": "2022-05-11T19:19:52.035Z"
      },
      {
        "duration": 526,
        "start_time": "2022-05-11T19:19:52.239Z"
      },
      {
        "duration": 11,
        "start_time": "2022-05-11T19:19:52.767Z"
      },
      {
        "duration": 46,
        "start_time": "2022-05-11T19:19:52.781Z"
      },
      {
        "duration": 66,
        "start_time": "2022-05-11T19:19:52.831Z"
      },
      {
        "duration": 4573,
        "start_time": "2022-05-11T19:19:52.899Z"
      },
      {
        "duration": 32,
        "start_time": "2022-05-11T19:20:47.834Z"
      },
      {
        "duration": 2075,
        "start_time": "2022-05-11T19:22:57.097Z"
      },
      {
        "duration": 551,
        "start_time": "2022-05-11T19:22:59.177Z"
      },
      {
        "duration": 207,
        "start_time": "2022-05-11T19:22:59.730Z"
      },
      {
        "duration": 711,
        "start_time": "2022-05-11T19:22:59.941Z"
      },
      {
        "duration": 13,
        "start_time": "2022-05-11T19:23:00.655Z"
      },
      {
        "duration": 57,
        "start_time": "2022-05-11T19:23:00.670Z"
      },
      {
        "duration": 52,
        "start_time": "2022-05-11T19:23:00.729Z"
      },
      {
        "duration": 3626,
        "start_time": "2022-05-11T19:23:00.796Z"
      },
      {
        "duration": 5,
        "start_time": "2022-05-11T19:23:17.639Z"
      },
      {
        "duration": 30,
        "start_time": "2022-05-11T19:28:57.236Z"
      },
      {
        "duration": 4,
        "start_time": "2022-05-11T19:29:07.150Z"
      },
      {
        "duration": 12,
        "start_time": "2022-05-11T19:29:19.823Z"
      },
      {
        "duration": 14,
        "start_time": "2022-05-11T19:29:38.784Z"
      },
      {
        "duration": 11,
        "start_time": "2022-05-11T19:32:08.967Z"
      },
      {
        "duration": 16,
        "start_time": "2022-05-11T19:35:14.530Z"
      },
      {
        "duration": 9,
        "start_time": "2022-05-11T19:35:34.223Z"
      },
      {
        "duration": 9,
        "start_time": "2022-05-11T19:36:26.422Z"
      },
      {
        "duration": 311,
        "start_time": "2022-05-11T19:36:53.017Z"
      },
      {
        "duration": 8,
        "start_time": "2022-05-11T19:37:29.742Z"
      },
      {
        "duration": 246,
        "start_time": "2022-05-11T19:37:57.959Z"
      },
      {
        "duration": 10,
        "start_time": "2022-05-11T19:38:02.464Z"
      },
      {
        "duration": 8,
        "start_time": "2022-05-11T19:41:46.620Z"
      },
      {
        "duration": 13,
        "start_time": "2022-05-11T19:42:18.386Z"
      },
      {
        "duration": 10,
        "start_time": "2022-05-11T19:45:39.270Z"
      },
      {
        "duration": 8,
        "start_time": "2022-05-11T19:46:00.997Z"
      },
      {
        "duration": 8,
        "start_time": "2022-05-11T19:46:14.473Z"
      },
      {
        "duration": 8,
        "start_time": "2022-05-11T19:46:27.210Z"
      },
      {
        "duration": 7,
        "start_time": "2022-05-11T19:46:53.748Z"
      },
      {
        "duration": 13,
        "start_time": "2022-05-11T19:53:51.981Z"
      },
      {
        "duration": 2554,
        "start_time": "2022-05-11T19:56:11.793Z"
      },
      {
        "duration": 505,
        "start_time": "2022-05-11T19:56:14.350Z"
      },
      {
        "duration": 174,
        "start_time": "2022-05-11T19:56:14.858Z"
      },
      {
        "duration": 680,
        "start_time": "2022-05-11T19:56:15.039Z"
      },
      {
        "duration": 211,
        "start_time": "2022-05-11T19:56:15.722Z"
      },
      {
        "duration": 0,
        "start_time": "2022-05-11T19:56:15.936Z"
      },
      {
        "duration": 0,
        "start_time": "2022-05-11T19:56:15.938Z"
      },
      {
        "duration": 0,
        "start_time": "2022-05-11T19:56:15.940Z"
      },
      {
        "duration": 1,
        "start_time": "2022-05-11T19:56:15.942Z"
      },
      {
        "duration": 0,
        "start_time": "2022-05-11T19:56:15.944Z"
      },
      {
        "duration": 10,
        "start_time": "2022-05-11T19:56:45.044Z"
      },
      {
        "duration": 37,
        "start_time": "2022-05-11T19:56:48.099Z"
      },
      {
        "duration": 40,
        "start_time": "2022-05-11T19:57:12.959Z"
      },
      {
        "duration": 57,
        "start_time": "2022-05-11T19:57:24.872Z"
      },
      {
        "duration": 4,
        "start_time": "2022-05-11T19:57:46.496Z"
      },
      {
        "duration": 26,
        "start_time": "2022-05-11T19:57:52.383Z"
      },
      {
        "duration": 9,
        "start_time": "2022-05-11T19:58:06.454Z"
      },
      {
        "duration": 1955,
        "start_time": "2022-05-11T20:00:26.741Z"
      },
      {
        "duration": 353,
        "start_time": "2022-05-11T20:00:28.700Z"
      },
      {
        "duration": 140,
        "start_time": "2022-05-11T20:00:29.055Z"
      },
      {
        "duration": 446,
        "start_time": "2022-05-11T20:00:29.199Z"
      },
      {
        "duration": 8,
        "start_time": "2022-05-11T20:00:29.648Z"
      },
      {
        "duration": 51,
        "start_time": "2022-05-11T20:00:29.659Z"
      },
      {
        "duration": 42,
        "start_time": "2022-05-11T20:00:29.715Z"
      },
      {
        "duration": 5,
        "start_time": "2022-05-11T20:00:29.759Z"
      },
      {
        "duration": 29,
        "start_time": "2022-05-11T20:00:29.766Z"
      },
      {
        "duration": 6,
        "start_time": "2022-05-11T20:00:29.799Z"
      },
      {
        "duration": 10,
        "start_time": "2022-05-11T20:08:03.553Z"
      },
      {
        "duration": 1860,
        "start_time": "2022-05-12T13:18:42.622Z"
      },
      {
        "duration": 349,
        "start_time": "2022-05-12T13:18:44.485Z"
      },
      {
        "duration": 117,
        "start_time": "2022-05-12T13:18:44.835Z"
      },
      {
        "duration": 435,
        "start_time": "2022-05-12T13:18:44.954Z"
      },
      {
        "duration": 13,
        "start_time": "2022-05-12T13:18:45.400Z"
      },
      {
        "duration": 22,
        "start_time": "2022-05-12T13:18:45.414Z"
      },
      {
        "duration": 35,
        "start_time": "2022-05-12T13:18:45.437Z"
      },
      {
        "duration": 3,
        "start_time": "2022-05-12T13:18:45.473Z"
      },
      {
        "duration": 32,
        "start_time": "2022-05-12T13:18:45.478Z"
      },
      {
        "duration": 20,
        "start_time": "2022-05-12T13:18:45.512Z"
      },
      {
        "duration": 1636,
        "start_time": "2022-05-12T14:13:51.414Z"
      },
      {
        "duration": 3908,
        "start_time": "2022-05-12T14:13:53.053Z"
      },
      {
        "duration": 713,
        "start_time": "2022-05-12T14:13:56.962Z"
      },
      {
        "duration": 9100,
        "start_time": "2022-05-12T14:13:57.677Z"
      },
      {
        "duration": 7,
        "start_time": "2022-05-12T14:14:06.779Z"
      },
      {
        "duration": 31,
        "start_time": "2022-05-12T14:14:06.787Z"
      },
      {
        "duration": 37,
        "start_time": "2022-05-12T14:14:06.820Z"
      },
      {
        "duration": 3,
        "start_time": "2022-05-12T14:14:06.858Z"
      },
      {
        "duration": 9,
        "start_time": "2022-05-12T14:14:06.863Z"
      },
      {
        "duration": 226,
        "start_time": "2022-05-12T14:14:06.874Z"
      },
      {
        "duration": 0,
        "start_time": "2022-05-12T14:14:07.102Z"
      },
      {
        "duration": 1699,
        "start_time": "2022-05-17T13:23:45.674Z"
      },
      {
        "duration": 668,
        "start_time": "2022-05-17T13:23:47.375Z"
      },
      {
        "duration": 41,
        "start_time": "2022-05-17T13:23:48.047Z"
      },
      {
        "duration": 29,
        "start_time": "2022-05-17T13:23:48.090Z"
      },
      {
        "duration": 44,
        "start_time": "2022-05-17T13:23:48.143Z"
      },
      {
        "duration": 3,
        "start_time": "2022-05-17T13:23:48.189Z"
      },
      {
        "duration": 61,
        "start_time": "2022-05-17T13:23:48.194Z"
      },
      {
        "duration": 3,
        "start_time": "2022-05-17T13:23:48.257Z"
      },
      {
        "duration": 19,
        "start_time": "2022-05-17T13:23:48.263Z"
      },
      {
        "duration": 6,
        "start_time": "2022-05-17T13:23:48.284Z"
      },
      {
        "duration": 153,
        "start_time": "2022-05-17T13:23:48.292Z"
      },
      {
        "duration": 0,
        "start_time": "2022-05-17T13:23:48.447Z"
      },
      {
        "duration": 1499,
        "start_time": "2022-05-17T13:34:58.657Z"
      },
      {
        "duration": 680,
        "start_time": "2022-05-17T13:35:00.159Z"
      },
      {
        "duration": 46,
        "start_time": "2022-05-17T13:35:00.840Z"
      },
      {
        "duration": 60,
        "start_time": "2022-05-17T13:35:00.888Z"
      },
      {
        "duration": 42,
        "start_time": "2022-05-17T13:35:00.950Z"
      },
      {
        "duration": 3,
        "start_time": "2022-05-17T13:35:00.993Z"
      },
      {
        "duration": 65,
        "start_time": "2022-05-17T13:35:00.997Z"
      },
      {
        "duration": 3,
        "start_time": "2022-05-17T13:35:01.064Z"
      },
      {
        "duration": 27,
        "start_time": "2022-05-17T13:35:01.068Z"
      },
      {
        "duration": 20,
        "start_time": "2022-05-17T13:35:01.098Z"
      },
      {
        "duration": 151,
        "start_time": "2022-05-17T13:35:01.120Z"
      },
      {
        "duration": 0,
        "start_time": "2022-05-17T13:35:01.272Z"
      },
      {
        "duration": 108,
        "start_time": "2022-05-17T14:49:35.476Z"
      },
      {
        "duration": 12,
        "start_time": "2022-05-17T14:49:49.359Z"
      },
      {
        "duration": 14,
        "start_time": "2022-05-17T14:50:20.432Z"
      },
      {
        "duration": 16,
        "start_time": "2022-05-17T14:51:28.552Z"
      },
      {
        "duration": 9,
        "start_time": "2022-05-18T10:21:04.665Z"
      },
      {
        "duration": 1268,
        "start_time": "2022-05-18T10:21:47.145Z"
      },
      {
        "duration": 3252,
        "start_time": "2022-05-18T10:21:48.416Z"
      },
      {
        "duration": 3,
        "start_time": "2022-05-18T10:21:51.670Z"
      },
      {
        "duration": 109,
        "start_time": "2022-05-18T10:21:51.675Z"
      },
      {
        "duration": 34,
        "start_time": "2022-05-18T10:21:51.785Z"
      },
      {
        "duration": 55,
        "start_time": "2022-05-18T10:21:51.820Z"
      },
      {
        "duration": 38,
        "start_time": "2022-05-18T10:21:51.876Z"
      },
      {
        "duration": 3,
        "start_time": "2022-05-18T10:21:51.916Z"
      },
      {
        "duration": 8,
        "start_time": "2022-05-18T10:21:51.940Z"
      },
      {
        "duration": 118,
        "start_time": "2022-05-18T10:21:51.951Z"
      },
      {
        "duration": 0,
        "start_time": "2022-05-18T10:21:52.070Z"
      },
      {
        "duration": 0,
        "start_time": "2022-05-18T10:21:52.071Z"
      },
      {
        "duration": 0,
        "start_time": "2022-05-18T10:21:52.072Z"
      },
      {
        "duration": 0,
        "start_time": "2022-05-18T10:21:52.073Z"
      },
      {
        "duration": 3,
        "start_time": "2022-05-18T10:24:18.856Z"
      },
      {
        "duration": 107,
        "start_time": "2022-05-18T10:24:25.159Z"
      },
      {
        "duration": 3,
        "start_time": "2022-05-18T10:25:04.631Z"
      },
      {
        "duration": 109,
        "start_time": "2022-05-18T10:25:08.808Z"
      },
      {
        "duration": 5,
        "start_time": "2022-05-18T10:25:54.952Z"
      },
      {
        "duration": 137,
        "start_time": "2022-05-18T10:25:59.119Z"
      },
      {
        "duration": 1122,
        "start_time": "2022-05-18T10:26:28.674Z"
      },
      {
        "duration": 734,
        "start_time": "2022-05-18T10:26:29.799Z"
      },
      {
        "duration": 3,
        "start_time": "2022-05-18T10:26:30.535Z"
      },
      {
        "duration": 159,
        "start_time": "2022-05-18T10:26:30.540Z"
      },
      {
        "duration": 48,
        "start_time": "2022-05-18T10:26:30.700Z"
      },
      {
        "duration": 45,
        "start_time": "2022-05-18T10:26:30.750Z"
      },
      {
        "duration": 63,
        "start_time": "2022-05-18T10:26:30.797Z"
      },
      {
        "duration": 3,
        "start_time": "2022-05-18T10:26:30.862Z"
      },
      {
        "duration": 22,
        "start_time": "2022-05-18T10:26:30.866Z"
      },
      {
        "duration": 114,
        "start_time": "2022-05-18T10:26:30.890Z"
      },
      {
        "duration": 0,
        "start_time": "2022-05-18T10:26:31.006Z"
      },
      {
        "duration": 0,
        "start_time": "2022-05-18T10:26:31.007Z"
      },
      {
        "duration": 0,
        "start_time": "2022-05-18T10:26:31.008Z"
      },
      {
        "duration": 0,
        "start_time": "2022-05-18T10:26:31.008Z"
      },
      {
        "duration": 1152,
        "start_time": "2022-05-18T10:27:27.636Z"
      },
      {
        "duration": 684,
        "start_time": "2022-05-18T10:27:28.791Z"
      },
      {
        "duration": 3,
        "start_time": "2022-05-18T10:27:29.477Z"
      },
      {
        "duration": 147,
        "start_time": "2022-05-18T10:27:29.482Z"
      },
      {
        "duration": 73,
        "start_time": "2022-05-18T10:27:29.630Z"
      },
      {
        "duration": 187,
        "start_time": "2022-05-18T10:27:29.704Z"
      },
      {
        "duration": 27,
        "start_time": "2022-05-18T10:27:29.893Z"
      },
      {
        "duration": 21,
        "start_time": "2022-05-18T10:27:29.922Z"
      },
      {
        "duration": 12,
        "start_time": "2022-05-18T10:27:29.945Z"
      },
      {
        "duration": 122,
        "start_time": "2022-05-18T10:27:29.959Z"
      },
      {
        "duration": 0,
        "start_time": "2022-05-18T10:27:30.082Z"
      },
      {
        "duration": 0,
        "start_time": "2022-05-18T10:27:30.084Z"
      },
      {
        "duration": 0,
        "start_time": "2022-05-18T10:27:30.085Z"
      },
      {
        "duration": 0,
        "start_time": "2022-05-18T10:27:30.086Z"
      },
      {
        "duration": 4,
        "start_time": "2022-05-18T10:51:20.465Z"
      },
      {
        "duration": 14,
        "start_time": "2022-05-18T10:51:22.514Z"
      },
      {
        "duration": 3,
        "start_time": "2022-05-18T10:51:43.208Z"
      },
      {
        "duration": 36,
        "start_time": "2022-05-18T10:51:45.527Z"
      },
      {
        "duration": 2049,
        "start_time": "2022-05-25T07:49:21.090Z"
      },
      {
        "duration": 3650,
        "start_time": "2022-05-25T07:49:23.142Z"
      },
      {
        "duration": 7,
        "start_time": "2022-05-25T07:49:26.794Z"
      },
      {
        "duration": 223,
        "start_time": "2022-05-25T07:49:26.804Z"
      },
      {
        "duration": 122,
        "start_time": "2022-05-25T07:49:27.030Z"
      },
      {
        "duration": 278,
        "start_time": "2022-05-25T07:49:27.155Z"
      },
      {
        "duration": 36,
        "start_time": "2022-05-25T07:49:27.436Z"
      },
      {
        "duration": 4,
        "start_time": "2022-05-25T07:49:27.475Z"
      },
      {
        "duration": 12,
        "start_time": "2022-05-25T07:49:27.481Z"
      },
      {
        "duration": 199,
        "start_time": "2022-05-25T07:49:27.497Z"
      },
      {
        "duration": 0,
        "start_time": "2022-05-25T07:49:27.699Z"
      },
      {
        "duration": 0,
        "start_time": "2022-05-25T07:49:27.700Z"
      },
      {
        "duration": 0,
        "start_time": "2022-05-25T07:49:27.702Z"
      },
      {
        "duration": 0,
        "start_time": "2022-05-25T07:49:27.704Z"
      },
      {
        "duration": 1104,
        "start_time": "2022-05-25T08:01:27.874Z"
      },
      {
        "duration": 785,
        "start_time": "2022-05-25T08:01:28.981Z"
      },
      {
        "duration": 4,
        "start_time": "2022-05-25T08:01:29.768Z"
      },
      {
        "duration": 170,
        "start_time": "2022-05-25T08:01:29.775Z"
      },
      {
        "duration": 90,
        "start_time": "2022-05-25T08:01:29.947Z"
      },
      {
        "duration": 190,
        "start_time": "2022-05-25T08:01:30.039Z"
      },
      {
        "duration": 25,
        "start_time": "2022-05-25T08:01:30.231Z"
      },
      {
        "duration": 3,
        "start_time": "2022-05-25T08:01:30.258Z"
      },
      {
        "duration": 12,
        "start_time": "2022-05-25T08:01:30.263Z"
      },
      {
        "duration": 136,
        "start_time": "2022-05-25T08:01:30.278Z"
      },
      {
        "duration": 0,
        "start_time": "2022-05-25T08:01:30.416Z"
      },
      {
        "duration": 0,
        "start_time": "2022-05-25T08:01:30.417Z"
      },
      {
        "duration": 0,
        "start_time": "2022-05-25T08:01:30.419Z"
      },
      {
        "duration": 0,
        "start_time": "2022-05-25T08:01:30.427Z"
      },
      {
        "duration": 1188,
        "start_time": "2022-05-25T09:03:23.906Z"
      },
      {
        "duration": 805,
        "start_time": "2022-05-25T09:03:25.097Z"
      },
      {
        "duration": 3,
        "start_time": "2022-05-25T09:03:25.904Z"
      },
      {
        "duration": 173,
        "start_time": "2022-05-25T09:03:25.909Z"
      },
      {
        "duration": 90,
        "start_time": "2022-05-25T09:03:26.084Z"
      },
      {
        "duration": 212,
        "start_time": "2022-05-25T09:03:26.176Z"
      },
      {
        "duration": 26,
        "start_time": "2022-05-25T09:03:26.390Z"
      },
      {
        "duration": 14,
        "start_time": "2022-05-25T09:03:26.418Z"
      },
      {
        "duration": 38,
        "start_time": "2022-05-25T09:03:26.435Z"
      },
      {
        "duration": 161,
        "start_time": "2022-05-25T09:03:26.476Z"
      },
      {
        "duration": 0,
        "start_time": "2022-05-25T09:03:26.643Z"
      },
      {
        "duration": 0,
        "start_time": "2022-05-25T09:03:26.645Z"
      },
      {
        "duration": 0,
        "start_time": "2022-05-25T09:03:26.647Z"
      },
      {
        "duration": 0,
        "start_time": "2022-05-25T09:03:26.649Z"
      },
      {
        "duration": 12,
        "start_time": "2022-05-25T12:08:54.755Z"
      },
      {
        "duration": 10,
        "start_time": "2022-05-25T12:26:13.785Z"
      },
      {
        "duration": 5,
        "start_time": "2022-05-25T12:26:31.126Z"
      },
      {
        "duration": 5,
        "start_time": "2022-05-25T12:39:29.323Z"
      },
      {
        "duration": 6,
        "start_time": "2022-05-25T12:40:19.236Z"
      },
      {
        "duration": 4,
        "start_time": "2022-05-25T12:40:41.915Z"
      },
      {
        "duration": 552,
        "start_time": "2022-05-25T12:42:04.734Z"
      },
      {
        "duration": 431,
        "start_time": "2022-05-25T12:43:15.651Z"
      },
      {
        "duration": 470,
        "start_time": "2022-05-25T12:43:27.227Z"
      },
      {
        "duration": 377,
        "start_time": "2022-05-25T12:49:22.411Z"
      },
      {
        "duration": 7,
        "start_time": "2022-05-25T12:49:56.187Z"
      },
      {
        "duration": 5,
        "start_time": "2022-05-25T14:10:24.086Z"
      },
      {
        "duration": 16,
        "start_time": "2022-05-25T14:11:25.048Z"
      },
      {
        "duration": 329,
        "start_time": "2022-05-25T14:12:39.521Z"
      },
      {
        "duration": 749,
        "start_time": "2022-05-25T14:12:45.198Z"
      },
      {
        "duration": 0,
        "start_time": "2022-05-25T14:12:45.949Z"
      },
      {
        "duration": 0,
        "start_time": "2022-05-25T14:12:45.950Z"
      },
      {
        "duration": 0,
        "start_time": "2022-05-25T14:12:45.951Z"
      },
      {
        "duration": 0,
        "start_time": "2022-05-25T14:12:45.952Z"
      },
      {
        "duration": 0,
        "start_time": "2022-05-25T14:12:45.953Z"
      },
      {
        "duration": 0,
        "start_time": "2022-05-25T14:12:45.954Z"
      },
      {
        "duration": 0,
        "start_time": "2022-05-25T14:12:45.955Z"
      },
      {
        "duration": 0,
        "start_time": "2022-05-25T14:12:45.956Z"
      },
      {
        "duration": 0,
        "start_time": "2022-05-25T14:12:45.957Z"
      },
      {
        "duration": 0,
        "start_time": "2022-05-25T14:12:45.958Z"
      },
      {
        "duration": 0,
        "start_time": "2022-05-25T14:12:45.959Z"
      },
      {
        "duration": 0,
        "start_time": "2022-05-25T14:12:45.960Z"
      },
      {
        "duration": 0,
        "start_time": "2022-05-25T14:12:45.961Z"
      },
      {
        "duration": 0,
        "start_time": "2022-05-25T14:12:45.963Z"
      },
      {
        "duration": 0,
        "start_time": "2022-05-25T14:12:45.963Z"
      },
      {
        "duration": 0,
        "start_time": "2022-05-25T14:12:45.964Z"
      },
      {
        "duration": 0,
        "start_time": "2022-05-25T14:12:45.965Z"
      },
      {
        "duration": 1584,
        "start_time": "2022-05-25T14:14:30.239Z"
      },
      {
        "duration": 1259,
        "start_time": "2022-05-25T14:14:31.826Z"
      },
      {
        "duration": 3,
        "start_time": "2022-05-25T14:14:33.087Z"
      },
      {
        "duration": 162,
        "start_time": "2022-05-25T14:14:33.093Z"
      },
      {
        "duration": 95,
        "start_time": "2022-05-25T14:14:33.256Z"
      },
      {
        "duration": 164,
        "start_time": "2022-05-25T14:14:33.353Z"
      },
      {
        "duration": 4,
        "start_time": "2022-05-25T14:14:33.528Z"
      },
      {
        "duration": 38,
        "start_time": "2022-05-25T14:14:33.533Z"
      },
      {
        "duration": 3,
        "start_time": "2022-05-25T14:14:33.573Z"
      },
      {
        "duration": 11,
        "start_time": "2022-05-25T14:14:33.579Z"
      },
      {
        "duration": 7,
        "start_time": "2022-05-25T14:14:33.592Z"
      },
      {
        "duration": 26,
        "start_time": "2022-05-25T14:14:33.601Z"
      },
      {
        "duration": 1103,
        "start_time": "2022-05-25T14:14:33.629Z"
      },
      {
        "duration": 127,
        "start_time": "2022-05-25T14:14:34.734Z"
      },
      {
        "duration": 0,
        "start_time": "2022-05-25T14:14:34.863Z"
      },
      {
        "duration": 0,
        "start_time": "2022-05-25T14:14:34.865Z"
      },
      {
        "duration": 0,
        "start_time": "2022-05-25T14:14:34.865Z"
      },
      {
        "duration": 0,
        "start_time": "2022-05-25T14:14:34.867Z"
      },
      {
        "duration": 5,
        "start_time": "2022-05-25T14:15:10.250Z"
      },
      {
        "duration": 1041,
        "start_time": "2022-05-25T14:15:12.581Z"
      },
      {
        "duration": 5,
        "start_time": "2022-05-25T14:15:28.944Z"
      },
      {
        "duration": 1056,
        "start_time": "2022-05-25T14:15:33.574Z"
      },
      {
        "duration": 5,
        "start_time": "2022-05-25T14:17:21.304Z"
      },
      {
        "duration": 980,
        "start_time": "2022-05-25T14:17:24.566Z"
      },
      {
        "duration": 1046,
        "start_time": "2022-05-25T14:20:03.688Z"
      },
      {
        "duration": 1081,
        "start_time": "2022-05-25T14:26:51.275Z"
      },
      {
        "duration": 1006,
        "start_time": "2022-05-25T14:28:49.725Z"
      },
      {
        "duration": 1426,
        "start_time": "2022-05-25T14:50:31.613Z"
      },
      {
        "duration": 742,
        "start_time": "2022-05-25T14:50:33.041Z"
      },
      {
        "duration": 4,
        "start_time": "2022-05-25T14:50:33.785Z"
      },
      {
        "duration": 171,
        "start_time": "2022-05-25T14:50:33.791Z"
      },
      {
        "duration": 95,
        "start_time": "2022-05-25T14:50:33.964Z"
      },
      {
        "duration": 199,
        "start_time": "2022-05-25T14:50:34.061Z"
      },
      {
        "duration": 4,
        "start_time": "2022-05-25T14:50:34.262Z"
      },
      {
        "duration": 30,
        "start_time": "2022-05-25T14:50:34.267Z"
      },
      {
        "duration": 4,
        "start_time": "2022-05-25T14:50:34.299Z"
      },
      {
        "duration": 26,
        "start_time": "2022-05-25T14:50:34.306Z"
      },
      {
        "duration": 7,
        "start_time": "2022-05-25T14:50:34.334Z"
      },
      {
        "duration": 9,
        "start_time": "2022-05-25T14:50:34.343Z"
      },
      {
        "duration": 1141,
        "start_time": "2022-05-25T14:50:34.354Z"
      },
      {
        "duration": 1073,
        "start_time": "2022-05-25T14:50:35.497Z"
      },
      {
        "duration": 1089,
        "start_time": "2022-05-25T14:50:36.572Z"
      },
      {
        "duration": 1180,
        "start_time": "2022-05-25T14:50:37.663Z"
      },
      {
        "duration": 123,
        "start_time": "2022-05-25T14:50:38.845Z"
      },
      {
        "duration": 0,
        "start_time": "2022-05-25T14:50:38.970Z"
      },
      {
        "duration": 0,
        "start_time": "2022-05-25T14:50:38.971Z"
      },
      {
        "duration": 0,
        "start_time": "2022-05-25T14:50:38.973Z"
      },
      {
        "duration": 0,
        "start_time": "2022-05-25T14:50:38.974Z"
      },
      {
        "duration": 1593,
        "start_time": "2022-06-06T07:12:38.251Z"
      },
      {
        "duration": 3125,
        "start_time": "2022-06-06T07:12:39.846Z"
      },
      {
        "duration": 4,
        "start_time": "2022-06-06T07:12:42.973Z"
      },
      {
        "duration": 173,
        "start_time": "2022-06-06T07:12:42.979Z"
      },
      {
        "duration": 94,
        "start_time": "2022-06-06T07:12:43.153Z"
      },
      {
        "duration": 225,
        "start_time": "2022-06-06T07:12:43.251Z"
      },
      {
        "duration": 5,
        "start_time": "2022-06-06T07:12:43.478Z"
      },
      {
        "duration": 53,
        "start_time": "2022-06-06T07:12:43.485Z"
      },
      {
        "duration": 13,
        "start_time": "2022-06-06T07:12:43.539Z"
      },
      {
        "duration": 29,
        "start_time": "2022-06-06T07:12:43.555Z"
      },
      {
        "duration": 17,
        "start_time": "2022-06-06T07:12:43.586Z"
      },
      {
        "duration": 21,
        "start_time": "2022-06-06T07:12:43.604Z"
      },
      {
        "duration": 1263,
        "start_time": "2022-06-06T07:12:43.627Z"
      },
      {
        "duration": 1092,
        "start_time": "2022-06-06T07:12:44.892Z"
      },
      {
        "duration": 1213,
        "start_time": "2022-06-06T07:12:45.986Z"
      },
      {
        "duration": 1283,
        "start_time": "2022-06-06T07:12:47.202Z"
      },
      {
        "duration": 7,
        "start_time": "2022-06-06T07:12:48.487Z"
      },
      {
        "duration": 507,
        "start_time": "2022-06-06T07:12:48.496Z"
      },
      {
        "duration": 25,
        "start_time": "2022-06-06T07:12:49.005Z"
      },
      {
        "duration": 7,
        "start_time": "2022-06-06T07:12:49.032Z"
      },
      {
        "duration": 33,
        "start_time": "2022-06-06T07:12:49.041Z"
      },
      {
        "duration": 1195,
        "start_time": "2022-06-06T07:12:49.077Z"
      },
      {
        "duration": 281,
        "start_time": "2022-06-06T07:12:50.274Z"
      },
      {
        "duration": 4,
        "start_time": "2022-06-06T07:12:50.557Z"
      },
      {
        "duration": 849,
        "start_time": "2022-06-06T07:12:50.563Z"
      },
      {
        "duration": 123,
        "start_time": "2022-06-06T07:12:51.414Z"
      },
      {
        "duration": 4,
        "start_time": "2022-06-06T07:12:51.540Z"
      },
      {
        "duration": 4,
        "start_time": "2022-06-06T07:12:51.548Z"
      },
      {
        "duration": 21,
        "start_time": "2022-06-06T07:12:51.553Z"
      },
      {
        "duration": 12,
        "start_time": "2022-06-06T07:12:51.576Z"
      },
      {
        "duration": 16,
        "start_time": "2022-06-06T07:12:51.590Z"
      },
      {
        "duration": 12,
        "start_time": "2022-06-06T07:12:51.608Z"
      },
      {
        "duration": 15,
        "start_time": "2022-06-06T07:12:51.622Z"
      },
      {
        "duration": 12,
        "start_time": "2022-06-06T07:12:51.640Z"
      },
      {
        "duration": 19,
        "start_time": "2022-06-06T07:12:51.654Z"
      },
      {
        "duration": 11,
        "start_time": "2022-06-06T07:12:51.675Z"
      },
      {
        "duration": 20,
        "start_time": "2022-06-06T07:12:51.688Z"
      },
      {
        "duration": 13,
        "start_time": "2022-06-06T07:12:51.710Z"
      },
      {
        "duration": 19,
        "start_time": "2022-06-06T07:12:51.726Z"
      },
      {
        "duration": 13,
        "start_time": "2022-06-06T07:12:51.746Z"
      },
      {
        "duration": 17,
        "start_time": "2022-06-06T07:12:51.761Z"
      },
      {
        "duration": 9,
        "start_time": "2022-06-06T07:12:51.780Z"
      },
      {
        "duration": 12,
        "start_time": "2022-06-06T07:12:51.791Z"
      },
      {
        "duration": 7,
        "start_time": "2022-06-06T07:13:29.062Z"
      },
      {
        "duration": 302,
        "start_time": "2022-06-06T07:17:24.766Z"
      },
      {
        "duration": 1281,
        "start_time": "2022-06-06T07:17:32.782Z"
      },
      {
        "duration": 721,
        "start_time": "2022-06-06T07:17:34.065Z"
      },
      {
        "duration": 4,
        "start_time": "2022-06-06T07:17:34.788Z"
      },
      {
        "duration": 183,
        "start_time": "2022-06-06T07:17:34.794Z"
      },
      {
        "duration": 90,
        "start_time": "2022-06-06T07:17:34.979Z"
      },
      {
        "duration": 179,
        "start_time": "2022-06-06T07:17:35.071Z"
      },
      {
        "duration": 5,
        "start_time": "2022-06-06T07:17:35.253Z"
      },
      {
        "duration": 47,
        "start_time": "2022-06-06T07:17:35.260Z"
      },
      {
        "duration": 3,
        "start_time": "2022-06-06T07:17:35.309Z"
      },
      {
        "duration": 14,
        "start_time": "2022-06-06T07:17:35.315Z"
      },
      {
        "duration": 5,
        "start_time": "2022-06-06T07:17:35.331Z"
      },
      {
        "duration": 5,
        "start_time": "2022-06-06T07:17:35.337Z"
      },
      {
        "duration": 1045,
        "start_time": "2022-06-06T07:17:35.343Z"
      },
      {
        "duration": 1071,
        "start_time": "2022-06-06T07:17:36.390Z"
      },
      {
        "duration": 1093,
        "start_time": "2022-06-06T07:17:37.462Z"
      },
      {
        "duration": 973,
        "start_time": "2022-06-06T07:17:38.557Z"
      },
      {
        "duration": 5,
        "start_time": "2022-06-06T07:17:39.532Z"
      },
      {
        "duration": 426,
        "start_time": "2022-06-06T07:17:39.538Z"
      },
      {
        "duration": 12,
        "start_time": "2022-06-06T07:17:39.966Z"
      },
      {
        "duration": 13,
        "start_time": "2022-06-06T07:17:39.980Z"
      },
      {
        "duration": 13,
        "start_time": "2022-06-06T07:17:39.996Z"
      },
      {
        "duration": 1269,
        "start_time": "2022-06-06T07:17:40.011Z"
      },
      {
        "duration": 281,
        "start_time": "2022-06-06T07:17:41.282Z"
      },
      {
        "duration": 5,
        "start_time": "2022-06-06T07:17:41.565Z"
      },
      {
        "duration": 778,
        "start_time": "2022-06-06T07:17:41.571Z"
      },
      {
        "duration": 110,
        "start_time": "2022-06-06T07:17:42.351Z"
      },
      {
        "duration": 7,
        "start_time": "2022-06-06T07:17:42.462Z"
      },
      {
        "duration": 7,
        "start_time": "2022-06-06T07:17:42.472Z"
      },
      {
        "duration": 15,
        "start_time": "2022-06-06T07:17:42.481Z"
      },
      {
        "duration": 36,
        "start_time": "2022-06-06T07:17:42.497Z"
      },
      {
        "duration": 19,
        "start_time": "2022-06-06T07:17:42.535Z"
      },
      {
        "duration": 9,
        "start_time": "2022-06-06T07:17:42.556Z"
      },
      {
        "duration": 12,
        "start_time": "2022-06-06T07:17:42.567Z"
      },
      {
        "duration": 8,
        "start_time": "2022-06-06T07:17:42.581Z"
      },
      {
        "duration": 8,
        "start_time": "2022-06-06T07:17:42.592Z"
      },
      {
        "duration": 10,
        "start_time": "2022-06-06T07:17:42.602Z"
      },
      {
        "duration": 10,
        "start_time": "2022-06-06T07:17:42.614Z"
      },
      {
        "duration": 10,
        "start_time": "2022-06-06T07:17:42.626Z"
      },
      {
        "duration": 22,
        "start_time": "2022-06-06T07:17:42.642Z"
      },
      {
        "duration": 13,
        "start_time": "2022-06-06T07:17:42.666Z"
      },
      {
        "duration": 15,
        "start_time": "2022-06-06T07:17:42.681Z"
      },
      {
        "duration": 9,
        "start_time": "2022-06-06T07:17:42.698Z"
      },
      {
        "duration": 15,
        "start_time": "2022-06-06T07:17:42.709Z"
      },
      {
        "duration": 1259,
        "start_time": "2022-06-06T07:35:02.357Z"
      },
      {
        "duration": 690,
        "start_time": "2022-06-06T07:35:03.617Z"
      },
      {
        "duration": 3,
        "start_time": "2022-06-06T07:35:04.309Z"
      },
      {
        "duration": 150,
        "start_time": "2022-06-06T07:35:04.314Z"
      },
      {
        "duration": 87,
        "start_time": "2022-06-06T07:35:04.465Z"
      },
      {
        "duration": 186,
        "start_time": "2022-06-06T07:35:04.553Z"
      },
      {
        "duration": 4,
        "start_time": "2022-06-06T07:35:04.741Z"
      },
      {
        "duration": 30,
        "start_time": "2022-06-06T07:35:04.746Z"
      },
      {
        "duration": 4,
        "start_time": "2022-06-06T07:35:04.778Z"
      },
      {
        "duration": 7,
        "start_time": "2022-06-06T07:35:04.786Z"
      },
      {
        "duration": 37,
        "start_time": "2022-06-06T07:35:04.795Z"
      },
      {
        "duration": 6,
        "start_time": "2022-06-06T07:35:04.834Z"
      },
      {
        "duration": 1098,
        "start_time": "2022-06-06T07:35:04.841Z"
      },
      {
        "duration": 998,
        "start_time": "2022-06-06T07:35:05.941Z"
      },
      {
        "duration": 1001,
        "start_time": "2022-06-06T07:35:06.940Z"
      },
      {
        "duration": 1086,
        "start_time": "2022-06-06T07:35:07.943Z"
      },
      {
        "duration": 4,
        "start_time": "2022-06-06T07:35:09.031Z"
      },
      {
        "duration": 411,
        "start_time": "2022-06-06T07:35:09.037Z"
      },
      {
        "duration": 10,
        "start_time": "2022-06-06T07:35:09.449Z"
      },
      {
        "duration": 5,
        "start_time": "2022-06-06T07:35:09.461Z"
      },
      {
        "duration": 7,
        "start_time": "2022-06-06T07:35:09.467Z"
      },
      {
        "duration": 1061,
        "start_time": "2022-06-06T07:35:09.476Z"
      },
      {
        "duration": 232,
        "start_time": "2022-06-06T07:35:10.539Z"
      },
      {
        "duration": 4,
        "start_time": "2022-06-06T07:35:10.773Z"
      },
      {
        "duration": 685,
        "start_time": "2022-06-06T07:35:10.779Z"
      },
      {
        "duration": 5,
        "start_time": "2022-06-06T07:35:11.465Z"
      },
      {
        "duration": 0,
        "start_time": "2022-06-06T07:35:11.472Z"
      },
      {
        "duration": 0,
        "start_time": "2022-06-06T07:35:11.473Z"
      },
      {
        "duration": 0,
        "start_time": "2022-06-06T07:35:11.474Z"
      },
      {
        "duration": 0,
        "start_time": "2022-06-06T07:35:11.475Z"
      },
      {
        "duration": 0,
        "start_time": "2022-06-06T07:35:11.476Z"
      },
      {
        "duration": 0,
        "start_time": "2022-06-06T07:35:11.477Z"
      },
      {
        "duration": 0,
        "start_time": "2022-06-06T07:35:11.478Z"
      },
      {
        "duration": 1,
        "start_time": "2022-06-06T07:35:11.479Z"
      },
      {
        "duration": 0,
        "start_time": "2022-06-06T07:35:11.480Z"
      },
      {
        "duration": 0,
        "start_time": "2022-06-06T07:35:11.481Z"
      },
      {
        "duration": 0,
        "start_time": "2022-06-06T07:35:11.483Z"
      },
      {
        "duration": 0,
        "start_time": "2022-06-06T07:35:11.483Z"
      },
      {
        "duration": 0,
        "start_time": "2022-06-06T07:35:11.607Z"
      },
      {
        "duration": 0,
        "start_time": "2022-06-06T07:35:11.608Z"
      },
      {
        "duration": 0,
        "start_time": "2022-06-06T07:35:11.609Z"
      },
      {
        "duration": 0,
        "start_time": "2022-06-06T07:35:11.610Z"
      },
      {
        "duration": 0,
        "start_time": "2022-06-06T07:35:11.627Z"
      },
      {
        "duration": 1463,
        "start_time": "2022-06-06T07:41:41.458Z"
      },
      {
        "duration": 802,
        "start_time": "2022-06-06T07:41:42.923Z"
      },
      {
        "duration": 4,
        "start_time": "2022-06-06T07:41:43.728Z"
      },
      {
        "duration": 197,
        "start_time": "2022-06-06T07:41:43.734Z"
      },
      {
        "duration": 101,
        "start_time": "2022-06-06T07:41:43.933Z"
      },
      {
        "duration": 177,
        "start_time": "2022-06-06T07:41:44.036Z"
      },
      {
        "duration": 13,
        "start_time": "2022-06-06T07:41:44.215Z"
      },
      {
        "duration": 32,
        "start_time": "2022-06-06T07:41:44.230Z"
      },
      {
        "duration": 4,
        "start_time": "2022-06-06T07:41:44.264Z"
      },
      {
        "duration": 12,
        "start_time": "2022-06-06T07:41:44.271Z"
      },
      {
        "duration": 15,
        "start_time": "2022-06-06T07:41:44.284Z"
      },
      {
        "duration": 29,
        "start_time": "2022-06-06T07:41:44.300Z"
      },
      {
        "duration": 1045,
        "start_time": "2022-06-06T07:41:44.330Z"
      },
      {
        "duration": 1378,
        "start_time": "2022-06-06T07:41:45.376Z"
      },
      {
        "duration": 1013,
        "start_time": "2022-06-06T07:41:46.756Z"
      },
      {
        "duration": 1096,
        "start_time": "2022-06-06T07:41:47.771Z"
      },
      {
        "duration": 5,
        "start_time": "2022-06-06T07:41:48.869Z"
      },
      {
        "duration": 473,
        "start_time": "2022-06-06T07:41:48.876Z"
      },
      {
        "duration": 13,
        "start_time": "2022-06-06T07:41:49.351Z"
      },
      {
        "duration": 7,
        "start_time": "2022-06-06T07:41:49.366Z"
      },
      {
        "duration": 10,
        "start_time": "2022-06-06T07:41:49.375Z"
      },
      {
        "duration": 1069,
        "start_time": "2022-06-06T07:41:49.387Z"
      },
      {
        "duration": 286,
        "start_time": "2022-06-06T07:41:50.458Z"
      },
      {
        "duration": 6,
        "start_time": "2022-06-06T07:41:50.746Z"
      },
      {
        "duration": 708,
        "start_time": "2022-06-06T07:41:50.755Z"
      },
      {
        "duration": 6,
        "start_time": "2022-06-06T07:41:51.465Z"
      },
      {
        "duration": 0,
        "start_time": "2022-06-06T07:41:51.474Z"
      },
      {
        "duration": 1,
        "start_time": "2022-06-06T07:41:51.475Z"
      },
      {
        "duration": 0,
        "start_time": "2022-06-06T07:41:51.477Z"
      },
      {
        "duration": 0,
        "start_time": "2022-06-06T07:41:51.478Z"
      },
      {
        "duration": 0,
        "start_time": "2022-06-06T07:41:51.480Z"
      },
      {
        "duration": 0,
        "start_time": "2022-06-06T07:41:51.482Z"
      },
      {
        "duration": 0,
        "start_time": "2022-06-06T07:41:51.483Z"
      },
      {
        "duration": 0,
        "start_time": "2022-06-06T07:41:51.485Z"
      },
      {
        "duration": 0,
        "start_time": "2022-06-06T07:41:51.486Z"
      },
      {
        "duration": 0,
        "start_time": "2022-06-06T07:41:51.487Z"
      },
      {
        "duration": 0,
        "start_time": "2022-06-06T07:41:51.489Z"
      },
      {
        "duration": 0,
        "start_time": "2022-06-06T07:41:51.490Z"
      },
      {
        "duration": 0,
        "start_time": "2022-06-06T07:41:51.641Z"
      },
      {
        "duration": 0,
        "start_time": "2022-06-06T07:41:51.644Z"
      },
      {
        "duration": 0,
        "start_time": "2022-06-06T07:41:51.645Z"
      },
      {
        "duration": 0,
        "start_time": "2022-06-06T07:41:51.647Z"
      },
      {
        "duration": 0,
        "start_time": "2022-06-06T07:41:51.648Z"
      },
      {
        "duration": 0,
        "start_time": "2022-06-06T18:33:26.361Z"
      },
      {
        "duration": 0,
        "start_time": "2022-06-06T18:33:26.368Z"
      },
      {
        "duration": 0,
        "start_time": "2022-06-06T18:33:26.381Z"
      },
      {
        "duration": 0,
        "start_time": "2022-06-06T18:33:26.383Z"
      },
      {
        "duration": 0,
        "start_time": "2022-06-06T18:33:26.384Z"
      },
      {
        "duration": 0,
        "start_time": "2022-06-06T18:33:26.385Z"
      },
      {
        "duration": 0,
        "start_time": "2022-06-06T18:33:26.386Z"
      },
      {
        "duration": 0,
        "start_time": "2022-06-06T18:33:26.387Z"
      },
      {
        "duration": 0,
        "start_time": "2022-06-06T18:33:26.388Z"
      },
      {
        "duration": 0,
        "start_time": "2022-06-06T18:33:26.390Z"
      },
      {
        "duration": 0,
        "start_time": "2022-06-06T18:33:26.391Z"
      },
      {
        "duration": 0,
        "start_time": "2022-06-06T18:33:26.406Z"
      },
      {
        "duration": 0,
        "start_time": "2022-06-06T18:33:26.408Z"
      },
      {
        "duration": 0,
        "start_time": "2022-06-06T18:33:26.409Z"
      },
      {
        "duration": 0,
        "start_time": "2022-06-06T18:33:26.411Z"
      },
      {
        "duration": 0,
        "start_time": "2022-06-06T18:33:26.412Z"
      },
      {
        "duration": 0,
        "start_time": "2022-06-06T18:33:26.413Z"
      },
      {
        "duration": 0,
        "start_time": "2022-06-06T18:33:26.415Z"
      },
      {
        "duration": 0,
        "start_time": "2022-06-06T18:33:26.416Z"
      },
      {
        "duration": 0,
        "start_time": "2022-06-06T18:33:26.417Z"
      },
      {
        "duration": 0,
        "start_time": "2022-06-06T18:33:26.418Z"
      },
      {
        "duration": 0,
        "start_time": "2022-06-06T18:33:26.420Z"
      },
      {
        "duration": 0,
        "start_time": "2022-06-06T18:33:26.421Z"
      },
      {
        "duration": 0,
        "start_time": "2022-06-06T18:33:26.422Z"
      },
      {
        "duration": 0,
        "start_time": "2022-06-06T18:33:26.423Z"
      },
      {
        "duration": 0,
        "start_time": "2022-06-06T18:33:26.438Z"
      },
      {
        "duration": 0,
        "start_time": "2022-06-06T18:33:26.440Z"
      },
      {
        "duration": 0,
        "start_time": "2022-06-06T18:33:26.443Z"
      },
      {
        "duration": 0,
        "start_time": "2022-06-06T18:33:26.445Z"
      },
      {
        "duration": 0,
        "start_time": "2022-06-06T18:33:26.446Z"
      },
      {
        "duration": 0,
        "start_time": "2022-06-06T18:33:26.448Z"
      },
      {
        "duration": 0,
        "start_time": "2022-06-06T18:33:26.450Z"
      },
      {
        "duration": 0,
        "start_time": "2022-06-06T18:33:26.452Z"
      },
      {
        "duration": 0,
        "start_time": "2022-06-06T18:33:26.457Z"
      },
      {
        "duration": 0,
        "start_time": "2022-06-06T18:33:26.459Z"
      },
      {
        "duration": 0,
        "start_time": "2022-06-06T18:33:26.460Z"
      },
      {
        "duration": 0,
        "start_time": "2022-06-06T18:33:26.464Z"
      },
      {
        "duration": 0,
        "start_time": "2022-06-06T18:33:26.465Z"
      },
      {
        "duration": 0,
        "start_time": "2022-06-06T18:33:26.473Z"
      },
      {
        "duration": 0,
        "start_time": "2022-06-06T18:33:26.477Z"
      },
      {
        "duration": 0,
        "start_time": "2022-06-06T18:33:26.479Z"
      },
      {
        "duration": 0,
        "start_time": "2022-06-06T18:33:26.480Z"
      },
      {
        "duration": 0,
        "start_time": "2022-06-06T18:33:26.484Z"
      },
      {
        "duration": 1562,
        "start_time": "2022-06-06T18:34:08.572Z"
      },
      {
        "duration": 852,
        "start_time": "2022-06-06T18:34:10.136Z"
      },
      {
        "duration": 5,
        "start_time": "2022-06-06T18:34:10.990Z"
      },
      {
        "duration": 237,
        "start_time": "2022-06-06T18:34:11.000Z"
      },
      {
        "duration": 108,
        "start_time": "2022-06-06T18:34:11.239Z"
      },
      {
        "duration": 222,
        "start_time": "2022-06-06T18:34:11.349Z"
      },
      {
        "duration": 4,
        "start_time": "2022-06-06T18:34:11.573Z"
      },
      {
        "duration": 50,
        "start_time": "2022-06-06T18:34:11.579Z"
      },
      {
        "duration": 5,
        "start_time": "2022-06-06T18:34:11.632Z"
      },
      {
        "duration": 12,
        "start_time": "2022-06-06T18:34:11.641Z"
      },
      {
        "duration": 7,
        "start_time": "2022-06-06T18:34:11.655Z"
      },
      {
        "duration": 8,
        "start_time": "2022-06-06T18:34:11.664Z"
      },
      {
        "duration": 1350,
        "start_time": "2022-06-06T18:34:11.674Z"
      },
      {
        "duration": 1528,
        "start_time": "2022-06-06T18:34:13.026Z"
      },
      {
        "duration": 1272,
        "start_time": "2022-06-06T18:34:14.556Z"
      },
      {
        "duration": 1342,
        "start_time": "2022-06-06T18:34:15.832Z"
      },
      {
        "duration": 6,
        "start_time": "2022-06-06T18:34:17.176Z"
      },
      {
        "duration": 595,
        "start_time": "2022-06-06T18:34:17.185Z"
      },
      {
        "duration": 40,
        "start_time": "2022-06-06T18:34:17.782Z"
      },
      {
        "duration": 40,
        "start_time": "2022-06-06T18:34:17.824Z"
      },
      {
        "duration": 17,
        "start_time": "2022-06-06T18:34:17.866Z"
      },
      {
        "duration": 1360,
        "start_time": "2022-06-06T18:34:17.885Z"
      },
      {
        "duration": 339,
        "start_time": "2022-06-06T18:34:19.247Z"
      },
      {
        "duration": 36,
        "start_time": "2022-06-06T18:34:19.589Z"
      },
      {
        "duration": 747,
        "start_time": "2022-06-06T18:34:19.630Z"
      },
      {
        "duration": 76,
        "start_time": "2022-06-06T18:34:20.379Z"
      },
      {
        "duration": 0,
        "start_time": "2022-06-06T18:34:20.457Z"
      },
      {
        "duration": 0,
        "start_time": "2022-06-06T18:34:20.458Z"
      },
      {
        "duration": 0,
        "start_time": "2022-06-06T18:34:20.460Z"
      },
      {
        "duration": 0,
        "start_time": "2022-06-06T18:34:20.462Z"
      },
      {
        "duration": 0,
        "start_time": "2022-06-06T18:34:20.464Z"
      },
      {
        "duration": 0,
        "start_time": "2022-06-06T18:34:20.465Z"
      },
      {
        "duration": 0,
        "start_time": "2022-06-06T18:34:20.467Z"
      },
      {
        "duration": 0,
        "start_time": "2022-06-06T18:34:20.468Z"
      },
      {
        "duration": 0,
        "start_time": "2022-06-06T18:34:20.470Z"
      },
      {
        "duration": 0,
        "start_time": "2022-06-06T18:34:20.471Z"
      },
      {
        "duration": 0,
        "start_time": "2022-06-06T18:34:20.472Z"
      },
      {
        "duration": 0,
        "start_time": "2022-06-06T18:34:20.474Z"
      },
      {
        "duration": 0,
        "start_time": "2022-06-06T18:34:20.592Z"
      },
      {
        "duration": 0,
        "start_time": "2022-06-06T18:34:20.593Z"
      },
      {
        "duration": 0,
        "start_time": "2022-06-06T18:34:20.595Z"
      },
      {
        "duration": 0,
        "start_time": "2022-06-06T18:34:20.599Z"
      },
      {
        "duration": 0,
        "start_time": "2022-06-06T18:34:20.600Z"
      },
      {
        "duration": 193,
        "start_time": "2022-06-06T18:35:34.150Z"
      },
      {
        "duration": 90,
        "start_time": "2022-06-06T18:36:02.974Z"
      },
      {
        "duration": 84,
        "start_time": "2022-06-06T18:37:14.850Z"
      },
      {
        "duration": 60,
        "start_time": "2022-06-06T18:37:45.727Z"
      },
      {
        "duration": 40,
        "start_time": "2022-06-06T18:37:53.021Z"
      },
      {
        "duration": 24,
        "start_time": "2022-06-06T18:38:46.239Z"
      },
      {
        "duration": 1666,
        "start_time": "2022-06-06T18:39:01.751Z"
      },
      {
        "duration": 939,
        "start_time": "2022-06-06T18:39:03.419Z"
      },
      {
        "duration": 6,
        "start_time": "2022-06-06T18:39:04.365Z"
      },
      {
        "duration": 276,
        "start_time": "2022-06-06T18:39:04.374Z"
      },
      {
        "duration": 109,
        "start_time": "2022-06-06T18:39:04.655Z"
      },
      {
        "duration": 287,
        "start_time": "2022-06-06T18:39:04.766Z"
      },
      {
        "duration": 5,
        "start_time": "2022-06-06T18:39:05.055Z"
      },
      {
        "duration": 53,
        "start_time": "2022-06-06T18:39:05.062Z"
      },
      {
        "duration": 18,
        "start_time": "2022-06-06T18:39:05.125Z"
      },
      {
        "duration": 15,
        "start_time": "2022-06-06T18:39:05.147Z"
      },
      {
        "duration": 18,
        "start_time": "2022-06-06T18:39:05.164Z"
      },
      {
        "duration": 96,
        "start_time": "2022-06-06T18:39:05.185Z"
      },
      {
        "duration": 1407,
        "start_time": "2022-06-06T18:39:05.284Z"
      },
      {
        "duration": 1503,
        "start_time": "2022-06-06T18:39:06.693Z"
      },
      {
        "duration": 1490,
        "start_time": "2022-06-06T18:39:08.199Z"
      },
      {
        "duration": 1353,
        "start_time": "2022-06-06T18:39:09.693Z"
      },
      {
        "duration": 7,
        "start_time": "2022-06-06T18:39:11.049Z"
      },
      {
        "duration": 604,
        "start_time": "2022-06-06T18:39:11.058Z"
      },
      {
        "duration": 14,
        "start_time": "2022-06-06T18:39:11.665Z"
      },
      {
        "duration": 7,
        "start_time": "2022-06-06T18:39:11.681Z"
      },
      {
        "duration": 56,
        "start_time": "2022-06-06T18:39:11.703Z"
      },
      {
        "duration": 1366,
        "start_time": "2022-06-06T18:39:11.761Z"
      },
      {
        "duration": 388,
        "start_time": "2022-06-06T18:39:13.131Z"
      },
      {
        "duration": 12,
        "start_time": "2022-06-06T18:39:13.529Z"
      },
      {
        "duration": 843,
        "start_time": "2022-06-06T18:39:13.543Z"
      },
      {
        "duration": 155,
        "start_time": "2022-06-06T18:39:14.390Z"
      },
      {
        "duration": 13,
        "start_time": "2022-06-06T18:39:14.547Z"
      },
      {
        "duration": 7,
        "start_time": "2022-06-06T18:39:14.566Z"
      },
      {
        "duration": 16,
        "start_time": "2022-06-06T18:39:14.576Z"
      },
      {
        "duration": 46,
        "start_time": "2022-06-06T18:39:14.594Z"
      },
      {
        "duration": 24,
        "start_time": "2022-06-06T18:39:14.642Z"
      },
      {
        "duration": 5,
        "start_time": "2022-06-06T18:39:14.669Z"
      },
      {
        "duration": 11,
        "start_time": "2022-06-06T18:39:14.677Z"
      },
      {
        "duration": 63,
        "start_time": "2022-06-06T18:39:14.690Z"
      },
      {
        "duration": 15,
        "start_time": "2022-06-06T18:39:14.755Z"
      },
      {
        "duration": 13,
        "start_time": "2022-06-06T18:39:14.773Z"
      },
      {
        "duration": 23,
        "start_time": "2022-06-06T18:39:14.788Z"
      },
      {
        "duration": 45,
        "start_time": "2022-06-06T18:39:14.813Z"
      },
      {
        "duration": 22,
        "start_time": "2022-06-06T18:39:14.860Z"
      },
      {
        "duration": 10,
        "start_time": "2022-06-06T18:39:14.886Z"
      },
      {
        "duration": 32,
        "start_time": "2022-06-06T18:39:14.905Z"
      },
      {
        "duration": 23,
        "start_time": "2022-06-06T18:39:14.939Z"
      },
      {
        "duration": 20,
        "start_time": "2022-06-06T18:39:14.965Z"
      },
      {
        "duration": 200,
        "start_time": "2022-06-06T18:41:09.785Z"
      },
      {
        "duration": 1572,
        "start_time": "2022-06-06T18:41:33.396Z"
      },
      {
        "duration": 867,
        "start_time": "2022-06-06T18:41:34.970Z"
      },
      {
        "duration": 4,
        "start_time": "2022-06-06T18:41:35.839Z"
      },
      {
        "duration": 204,
        "start_time": "2022-06-06T18:41:35.845Z"
      },
      {
        "duration": 111,
        "start_time": "2022-06-06T18:41:36.051Z"
      },
      {
        "duration": 230,
        "start_time": "2022-06-06T18:41:36.164Z"
      },
      {
        "duration": 22,
        "start_time": "2022-06-06T18:41:36.409Z"
      },
      {
        "duration": 41,
        "start_time": "2022-06-06T18:41:36.433Z"
      },
      {
        "duration": 3,
        "start_time": "2022-06-06T18:41:36.476Z"
      },
      {
        "duration": 9,
        "start_time": "2022-06-06T18:41:36.482Z"
      },
      {
        "duration": 18,
        "start_time": "2022-06-06T18:41:36.493Z"
      },
      {
        "duration": 29,
        "start_time": "2022-06-06T18:41:36.512Z"
      },
      {
        "duration": 1252,
        "start_time": "2022-06-06T18:41:36.543Z"
      },
      {
        "duration": 1290,
        "start_time": "2022-06-06T18:41:37.797Z"
      },
      {
        "duration": 1235,
        "start_time": "2022-06-06T18:41:39.089Z"
      },
      {
        "duration": 1268,
        "start_time": "2022-06-06T18:41:40.330Z"
      },
      {
        "duration": 6,
        "start_time": "2022-06-06T18:41:41.600Z"
      },
      {
        "duration": 618,
        "start_time": "2022-06-06T18:41:41.609Z"
      },
      {
        "duration": 15,
        "start_time": "2022-06-06T18:41:42.234Z"
      },
      {
        "duration": 7,
        "start_time": "2022-06-06T18:41:42.251Z"
      },
      {
        "duration": 7,
        "start_time": "2022-06-06T18:41:42.259Z"
      },
      {
        "duration": 1550,
        "start_time": "2022-06-06T18:41:42.267Z"
      },
      {
        "duration": 618,
        "start_time": "2022-06-06T18:41:43.819Z"
      },
      {
        "duration": 8,
        "start_time": "2022-06-06T18:41:44.439Z"
      },
      {
        "duration": 1169,
        "start_time": "2022-06-06T18:41:44.449Z"
      },
      {
        "duration": 294,
        "start_time": "2022-06-06T18:41:45.623Z"
      },
      {
        "duration": 8,
        "start_time": "2022-06-06T18:41:45.921Z"
      },
      {
        "duration": 18,
        "start_time": "2022-06-06T18:41:45.933Z"
      },
      {
        "duration": 11,
        "start_time": "2022-06-06T18:41:45.953Z"
      },
      {
        "duration": 6,
        "start_time": "2022-06-06T18:41:45.966Z"
      },
      {
        "duration": 10,
        "start_time": "2022-06-06T18:41:45.974Z"
      },
      {
        "duration": 9,
        "start_time": "2022-06-06T18:41:45.986Z"
      },
      {
        "duration": 28,
        "start_time": "2022-06-06T18:41:46.005Z"
      },
      {
        "duration": 17,
        "start_time": "2022-06-06T18:41:46.035Z"
      },
      {
        "duration": 20,
        "start_time": "2022-06-06T18:41:46.055Z"
      },
      {
        "duration": 7,
        "start_time": "2022-06-06T18:41:46.077Z"
      },
      {
        "duration": 8,
        "start_time": "2022-06-06T18:41:46.086Z"
      },
      {
        "duration": 32,
        "start_time": "2022-06-06T18:41:46.096Z"
      },
      {
        "duration": 15,
        "start_time": "2022-06-06T18:41:46.130Z"
      },
      {
        "duration": 9,
        "start_time": "2022-06-06T18:41:46.147Z"
      },
      {
        "duration": 8,
        "start_time": "2022-06-06T18:41:46.158Z"
      },
      {
        "duration": 5,
        "start_time": "2022-06-06T18:41:46.167Z"
      },
      {
        "duration": 9,
        "start_time": "2022-06-06T18:41:46.173Z"
      }
    ],
    "colab": {
      "collapsed_sections": [],
      "provenance": [],
      "include_colab_link": true
    },
    "kernelspec": {
      "display_name": "Python 3 (ipykernel)",
      "language": "python",
      "name": "python3"
    },
    "language_info": {
      "codemirror_mode": {
        "name": "ipython",
        "version": 3
      },
      "file_extension": ".py",
      "mimetype": "text/x-python",
      "name": "python",
      "nbconvert_exporter": "python",
      "pygments_lexer": "ipython3",
      "version": "3.9.5"
    },
    "toc": {
      "base_numbering": 1,
      "nav_menu": {},
      "number_sections": true,
      "sideBar": true,
      "skip_h1_title": true,
      "title_cell": "Содержание",
      "title_sidebar": "Contents",
      "toc_cell": true,
      "toc_position": {},
      "toc_section_display": true,
      "toc_window_display": true
    }
  },
  "nbformat": 4,
  "nbformat_minor": 0
}
