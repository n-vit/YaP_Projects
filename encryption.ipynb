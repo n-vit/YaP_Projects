{
  "cells": [
    {
      "cell_type": "markdown",
      "metadata": {
        "id": "view-in-github",
        "colab_type": "text"
      },
      "source": [
        "<a href=\"https://colab.research.google.com/github/n-vit/YaP_Projects/blob/main/encryption.ipynb\" target=\"_parent\"><img src=\"https://colab.research.google.com/assets/colab-badge.svg\" alt=\"Open In Colab\"/></a>"
      ]
    },
    {
      "cell_type": "markdown",
      "metadata": {
        "id": "6xhsf9bAVafB",
        "toc": true
      },
      "source": [
        "<h1>Содержание<span class=\"tocSkip\"></span></h1>\n",
        "<div class=\"toc\"><ul class=\"toc-item\"><li><span><a href=\"#Загрузка-данных\" data-toc-modified-id=\"Загрузка-данных-1\"><span class=\"toc-item-num\">1&nbsp;&nbsp;</span>Загрузка данных</a></span></li><li><span><a href=\"#Умножение-матриц\" data-toc-modified-id=\"Умножение-матриц-2\"><span class=\"toc-item-num\">2&nbsp;&nbsp;</span>Умножение матриц</a></span></li><li><span><a href=\"#Алгоритм-преобразования\" data-toc-modified-id=\"Алгоритм-преобразования-3\"><span class=\"toc-item-num\">3&nbsp;&nbsp;</span>Алгоритм преобразования</a></span></li><li><span><a href=\"#Проверка-алгоритма\" data-toc-modified-id=\"Проверка-алгоритма-4\"><span class=\"toc-item-num\">4&nbsp;&nbsp;</span>Проверка алгоритма</a></span></li><li><span><a href=\"#Чек-лист-проверки\" data-toc-modified-id=\"Чек-лист-проверки-5\"><span class=\"toc-item-num\">5&nbsp;&nbsp;</span>Чек-лист проверки</a></span></li></ul></div>"
      ]
    },
    {
      "cell_type": "code",
      "execution_count": null,
      "metadata": {
        "id": "kEJpT77KWq5K"
      },
      "outputs": [],
      "source": [
        "# libraries and functions\n",
        "import pandas as pd\n",
        "import numpy as np\n",
        "from sklearn.model_selection import train_test_split\n",
        "from numpy import linalg as LA\n",
        "\n",
        "# models\n",
        "from sklearn.linear_model import LinearRegression\n",
        "\n",
        "# metrics\n",
        "from sklearn.metrics import r2_score\n"
      ]
    },
    {
      "cell_type": "markdown",
      "metadata": {
        "id": "nt-uWylWVafL"
      },
      "source": [
        "# Защита персональных данных клиентов"
      ]
    },
    {
      "cell_type": "markdown",
      "metadata": {
        "id": "zmhhZWiFVafM"
      },
      "source": [
        "Цель работы - защитить данные клиентов страховой компании «Хоть потоп». \n",
        "\n",
        "Нужно разработать такой метод преобразования данных, чтобы по ним было сложно восстановить персональную информацию. И обосновать корректность работы выбранного метода. \n",
        "\n",
        "Нам нужно защитить данные так, чтобы при преобразовании качество моделей машинного обучения не ухудшилось."
      ]
    },
    {
      "cell_type": "markdown",
      "metadata": {
        "id": "vRPclC-2VafN"
      },
      "source": [
        "## Загрузка данных"
      ]
    },
    {
      "cell_type": "code",
      "execution_count": null,
      "metadata": {
        "id": "3psxWw-PVafO"
      },
      "outputs": [],
      "source": [
        "try: # if the project is opened in Collab use a 'try' block, if it opened in simulator Yandex, or local Jupiter, use an 'except' block\n",
        "    df = pd.read_csv('https://code.s3.yandex.net/datasets/insurance.csv')\n",
        "\n",
        "except:\n",
        "    df = pd.read_csv('/datasets/insurance.csv')\n"
      ]
    },
    {
      "cell_type": "code",
      "execution_count": null,
      "metadata": {
        "colab": {
          "base_uri": "https://localhost:8080/"
        },
        "id": "voCaobUwsSCu",
        "outputId": "06ec415f-1b04-4910-d632-e3dcaa1b5f66"
      },
      "outputs": [
        {
          "name": "stdout",
          "output_type": "stream",
          "text": [
            "<class 'pandas.core.frame.DataFrame'>\n",
            "RangeIndex: 5000 entries, 0 to 4999\n",
            "Data columns (total 5 columns):\n",
            " #   Column             Non-Null Count  Dtype  \n",
            "---  ------             --------------  -----  \n",
            " 0   Пол                5000 non-null   int64  \n",
            " 1   Возраст            5000 non-null   float64\n",
            " 2   Зарплата           5000 non-null   float64\n",
            " 3   Члены семьи        5000 non-null   int64  \n",
            " 4   Страховые выплаты  5000 non-null   int64  \n",
            "dtypes: float64(2), int64(3)\n",
            "memory usage: 195.4 KB\n"
          ]
        }
      ],
      "source": [
        "df.info()"
      ]
    },
    {
      "cell_type": "code",
      "execution_count": null,
      "metadata": {
        "colab": {
          "base_uri": "https://localhost:8080/",
          "height": 143
        },
        "id": "7psQi6LwWX0R",
        "outputId": "573690b1-d924-4f2c-d815-d3a669bc13c1"
      },
      "outputs": [
        {
          "data": {
            "text/html": [
              "<div>\n",
              "<style scoped>\n",
              "    .dataframe tbody tr th:only-of-type {\n",
              "        vertical-align: middle;\n",
              "    }\n",
              "\n",
              "    .dataframe tbody tr th {\n",
              "        vertical-align: top;\n",
              "    }\n",
              "\n",
              "    .dataframe thead th {\n",
              "        text-align: right;\n",
              "    }\n",
              "</style>\n",
              "<table border=\"1\" class=\"dataframe\">\n",
              "  <thead>\n",
              "    <tr style=\"text-align: right;\">\n",
              "      <th></th>\n",
              "      <th>Пол</th>\n",
              "      <th>Возраст</th>\n",
              "      <th>Зарплата</th>\n",
              "      <th>Члены семьи</th>\n",
              "      <th>Страховые выплаты</th>\n",
              "    </tr>\n",
              "  </thead>\n",
              "  <tbody>\n",
              "    <tr>\n",
              "      <th>0</th>\n",
              "      <td>1</td>\n",
              "      <td>41.0</td>\n",
              "      <td>49600.0</td>\n",
              "      <td>1</td>\n",
              "      <td>0</td>\n",
              "    </tr>\n",
              "    <tr>\n",
              "      <th>1</th>\n",
              "      <td>0</td>\n",
              "      <td>46.0</td>\n",
              "      <td>38000.0</td>\n",
              "      <td>1</td>\n",
              "      <td>1</td>\n",
              "    </tr>\n",
              "    <tr>\n",
              "      <th>2</th>\n",
              "      <td>0</td>\n",
              "      <td>29.0</td>\n",
              "      <td>21000.0</td>\n",
              "      <td>0</td>\n",
              "      <td>0</td>\n",
              "    </tr>\n",
              "  </tbody>\n",
              "</table>\n",
              "</div>"
            ],
            "text/plain": [
              "   Пол  Возраст  Зарплата  Члены семьи  Страховые выплаты\n",
              "0    1     41.0   49600.0            1                  0\n",
              "1    0     46.0   38000.0            1                  1\n",
              "2    0     29.0   21000.0            0                  0"
            ]
          },
          "execution_count": 4,
          "metadata": {},
          "output_type": "execute_result"
        }
      ],
      "source": [
        "df.head(3)"
      ]
    },
    {
      "cell_type": "code",
      "execution_count": null,
      "metadata": {
        "colab": {
          "base_uri": "https://localhost:8080/"
        },
        "id": "nufEAqyVWjlX",
        "outputId": "63731353-cb94-4710-daaf-06b586d82f2e"
      },
      "outputs": [
        {
          "data": {
            "text/plain": [
              "array([0, 1, 2, 3, 5, 4])"
            ]
          },
          "execution_count": 5,
          "metadata": {},
          "output_type": "execute_result"
        }
      ],
      "source": [
        "df['Страховые выплаты'].unique()"
      ]
    },
    {
      "cell_type": "markdown",
      "metadata": {
        "id": "jMvXz7ylVs0B"
      },
      "source": [
        "Данные содержат таблицу из пяти столбцов и 5000 строк с информацией в числовых данных:\n",
        "- пол(бинарный)\n",
        "- возраст (вещественные числа)\n",
        "- зарплата (вещественные числа)\n",
        "- члены семьи (количество)\n",
        "- страховые выплаты (количество)"
      ]
    },
    {
      "cell_type": "markdown",
      "metadata": {
        "id": "LgOnAhhaVafP"
      },
      "source": [
        "## Умножение матриц"
      ]
    },
    {
      "cell_type": "markdown",
      "metadata": {
        "id": "ya5qN7bDBnLF"
      },
      "source": [
        "Выделим из фрейма таргет, признаки для обучения модели и тестовую выборку:"
      ]
    },
    {
      "cell_type": "code",
      "execution_count": null,
      "metadata": {
        "colab": {
          "base_uri": "https://localhost:8080/"
        },
        "id": "FsulEo-mBexA",
        "outputId": "ab063ace-ca7d-4db3-dbcc-58debbb2ca93"
      },
      "outputs": [
        {
          "name": "stdout",
          "output_type": "stream",
          "text": [
            "4\n"
          ]
        }
      ],
      "source": [
        "features = df.drop(['Страховые выплаты'], axis=1)\n",
        "target = df['Страховые выплаты']\n",
        "features_train, features_test, target_train, target_test = train_test_split(features, \n",
        "                                                                            target, \n",
        "                                                                            test_size=0.25, \n",
        "                                                                            random_state=5)\n",
        "print(len(features.axes[1]))"
      ]
    },
    {
      "cell_type": "markdown",
      "metadata": {
        "id": "9S16RpwMB2k9"
      },
      "source": [
        "Создадим обратимую матрицу, с шириной равной количеству признаков для обучения модели:"
      ]
    },
    {
      "cell_type": "code",
      "execution_count": null,
      "metadata": {
        "id": "osH4Wf_DCBV_"
      },
      "outputs": [],
      "source": [
        "def revers_matix(n):\n",
        "  # функция принимает ширину матрицы, создает случайную обратимую матрицу и проверяет ее на обратимость\n",
        "    try:\n",
        "        rand_mx = np.random.normal(size=(n, n))\n",
        "        LA.inv(rand_mx)\n",
        "    except LA.LinAlgError: reversible_matix\n",
        " \n",
        "    return rand_mx"
      ]
    },
    {
      "cell_type": "code",
      "execution_count": null,
      "metadata": {
        "colab": {
          "base_uri": "https://localhost:8080/",
          "height": 86
        },
        "id": "XKEykCRmviY2",
        "outputId": "b68867af-71c0-46cd-aa20-15cc673ee759"
      },
      "outputs": [
        {
          "data": {
            "text/plain": [
              "array([[ 0.42046636, -0.55854394,  1.52984532,  1.15817314],\n",
              "       [ 0.31472006, -2.48320208, -0.73872269,  1.85762646],\n",
              "       [ 1.30476914, -0.65836082, -0.83625948,  0.38670989],\n",
              "       [ 1.1930489 , -1.61560762, -1.55872646,  1.1116013 ]])"
            ]
          },
          "metadata": {},
          "output_type": "display_data"
        }
      ],
      "source": [
        "A = revers_matix(len(features.axes[1]))\n",
        "display(A)"
      ]
    },
    {
      "cell_type": "markdown",
      "metadata": {
        "id": "A_TTPNbnwLwi"
      },
      "source": [
        "Зашифруем признаки на обучающей и тестовой выборках, умножив их на обратимую матрицу:"
      ]
    },
    {
      "cell_type": "code",
      "execution_count": null,
      "metadata": {
        "id": "2nrMwdRNxYDi"
      },
      "outputs": [],
      "source": [
        "features_train_encrypt  = features_train @ A\n",
        "features_test_encrypt = features_test @ A"
      ]
    },
    {
      "cell_type": "code",
      "execution_count": null,
      "metadata": {
        "colab": {
          "base_uri": "https://localhost:8080/"
        },
        "id": "lz09aGd5Ks20",
        "outputId": "edc6ae1e-b886-4226-eff2-b085da96cae6"
      },
      "outputs": [
        {
          "data": {
            "text/plain": [
              "3675"
            ]
          },
          "execution_count": 10,
          "metadata": {},
          "output_type": "execute_result"
        }
      ],
      "source": [
        "len(features_train_encrypt[0].unique())"
      ]
    },
    {
      "cell_type": "markdown",
      "metadata": {
        "id": "pblVWT3sLEXI"
      },
      "source": [
        "нда. теперь у нас небинарный пол. да и не пол вовсе"
      ]
    },
    {
      "cell_type": "markdown",
      "metadata": {
        "id": "nE8kPFjGyYXj"
      },
      "source": [
        "\n",
        "Обучим модель линейной регрессии на незашифрованных даннных и оценим коэффициент детерминации (R2) :\n"
      ]
    },
    {
      "cell_type": "code",
      "execution_count": null,
      "metadata": {
        "colab": {
          "base_uri": "https://localhost:8080/"
        },
        "id": "sAAcBAkoCwhu",
        "outputId": "8e579754-af23-4542-e8bc-b54c1a0e482e"
      },
      "outputs": [
        {
          "name": "stdout",
          "output_type": "stream",
          "text": [
            "r2 чистый: 0.42937359840756484\n"
          ]
        }
      ],
      "source": [
        "model = LinearRegression()\n",
        "model.fit(features_train, target_train)\n",
        "predictions = model.predict(features_test)\n",
        "print(\"r2 чистый:\", r2_score(target_test, predictions))"
      ]
    },
    {
      "cell_type": "markdown",
      "metadata": {
        "id": "T6TDWFbYDcbC"
      },
      "source": [
        "Теперь обучим ту же модель на зашифрованных данных и сравним полученные результаты:\n"
      ]
    },
    {
      "cell_type": "code",
      "execution_count": null,
      "metadata": {
        "colab": {
          "base_uri": "https://localhost:8080/"
        },
        "id": "rWvuoHNxE0aY",
        "outputId": "d8077074-d235-4c67-fdc5-9d2ee8bbf691"
      },
      "outputs": [
        {
          "name": "stdout",
          "output_type": "stream",
          "text": [
            "r2 на зашифрованных данных: 0.42937359840748346\n"
          ]
        }
      ],
      "source": [
        "model.fit(features_train_encrypt, target_train)\n",
        "predictions_encrypt = model.predict(features_test_encrypt)\n",
        "print(\"r2 на зашифрованных данных:\", r2_score(target_test, predictions_encrypt))"
      ]
    },
    {
      "cell_type": "code",
      "execution_count": null,
      "metadata": {
        "colab": {
          "base_uri": "https://localhost:8080/"
        },
        "id": "cu_Bq_YAF5Ke",
        "outputId": "3f6af3b2-9441-41f3-ce3a-2ca491e9e873"
      },
      "outputs": [
        {
          "name": "stdout",
          "output_type": "stream",
          "text": [
            "Разница в предсказаниях модели, обученной на зашифрованных и незашифрованных данных: 8.137934770502397e-14\n"
          ]
        }
      ],
      "source": [
        "print('Разница в предсказаниях модели, обученной на зашифрованных и незашифрованных данных:', r2_score(target_test, predictions) -  r2_score(target_test, predictions_encrypt))"
      ]
    },
    {
      "cell_type": "markdown",
      "metadata": {
        "id": "BefpWg0VG6Bw"
      },
      "source": [
        "Разница в предсказаниях двух моделей ничтожна"
      ]
    },
    {
      "cell_type": "markdown",
      "metadata": {
        "id": "mgWgQuaoVafT"
      },
      "source": [
        "**Ответ:** Шифрование исходных признаков путем умножения их значений на обратимую матрицу - **не влияет на качество предсказаний линейной регрессии** \n",
        "\n",
        "**Обоснование:** Для шифрования мы используем умножение матриц. \n",
        "Зашифрованная матрица представляет собой набор скалярных произведений векторов:\n",
        "\n",
        "вектор каждой строки признаков последовательно умножается на вектор каждого столбца обратимой матрицы. \n",
        "\n",
        "В нашем случае - значение признака в каждой строке последовательно умножается на фиксированное случайное число и суммируется со следующим произведением значения признака на фиксированное число. Одни и те же множители обратимой матрицы повторяются для каждой строки, а значит **сохраняются зависимости строк друг от друга**, и от таргета, которые и ищет линейная регрессия. \n",
        "\n",
        "Практика подтверждает теорию\n",
        "\n"
      ]
    },
    {
      "cell_type": "markdown",
      "metadata": {
        "id": "CGvejvKZVafU"
      },
      "source": [
        "## Алгоритм преобразования"
      ]
    },
    {
      "cell_type": "markdown",
      "metadata": {
        "id": "gwIiDCgHVafV"
      },
      "source": [
        "**Алгоритм** (по сути мы уже выполнили нужное шифрование в предыдущем пункте)\n",
        "- создаем обратимую матрицу из случайных чисел, с шириной равной количеству столбцов в данных для шифрования\n",
        "- умножаем незашифрованный фрейм на созданную матрицу - получаем защищенные (зашифрованные данные). Не имея в распоряжении матрицы-множителя мы не сможем ими воспользоваться\n",
        "- шифрование не влияет на предсказания линейной регрессии, поэтому мы можем обучить на имеющихся данных модель и предсказать новые таргеты по новым признакам\n",
        "- восстанавливаем данные, умножив их на матрицу, обратную использованной при шифровании"
      ]
    },
    {
      "cell_type": "markdown",
      "metadata": {
        "id": "bfqlP5bXVafV"
      },
      "source": [
        "**Обоснование**\n",
        "\n",
        "Умножение матрицы на обратную ей матрицу дает в результате единичную матрицу той же ширины\n",
        "\n",
        "Умножение любой матрицы на единичную мартицу возвращает ту же матрицу, поэтому при дешифровании по сути мы \"схлопнем\" шифр в единичную матрицу"
      ]
    },
    {
      "cell_type": "markdown",
      "metadata": {
        "id": "gDsKaVXYVafW"
      },
      "source": [
        "## Проверка алгоритма"
      ]
    },
    {
      "cell_type": "markdown",
      "metadata": {
        "id": "Xu6ZZjYXVsQJ"
      },
      "source": [
        "Посмотрим на исходные признаки:"
      ]
    },
    {
      "cell_type": "code",
      "execution_count": null,
      "metadata": {
        "colab": {
          "base_uri": "https://localhost:8080/",
          "height": 143
        },
        "id": "VVEtbc8eVzNe",
        "outputId": "888cb50f-03ba-410b-8868-08e4d0a93298"
      },
      "outputs": [
        {
          "data": {
            "text/html": [
              "<div>\n",
              "<style scoped>\n",
              "    .dataframe tbody tr th:only-of-type {\n",
              "        vertical-align: middle;\n",
              "    }\n",
              "\n",
              "    .dataframe tbody tr th {\n",
              "        vertical-align: top;\n",
              "    }\n",
              "\n",
              "    .dataframe thead th {\n",
              "        text-align: right;\n",
              "    }\n",
              "</style>\n",
              "<table border=\"1\" class=\"dataframe\">\n",
              "  <thead>\n",
              "    <tr style=\"text-align: right;\">\n",
              "      <th></th>\n",
              "      <th>Пол</th>\n",
              "      <th>Возраст</th>\n",
              "      <th>Зарплата</th>\n",
              "      <th>Члены семьи</th>\n",
              "    </tr>\n",
              "  </thead>\n",
              "  <tbody>\n",
              "    <tr>\n",
              "      <th>4081</th>\n",
              "      <td>1</td>\n",
              "      <td>21.0</td>\n",
              "      <td>45800.0</td>\n",
              "      <td>0</td>\n",
              "    </tr>\n",
              "    <tr>\n",
              "      <th>1714</th>\n",
              "      <td>1</td>\n",
              "      <td>43.0</td>\n",
              "      <td>40500.0</td>\n",
              "      <td>1</td>\n",
              "    </tr>\n",
              "    <tr>\n",
              "      <th>812</th>\n",
              "      <td>1</td>\n",
              "      <td>37.0</td>\n",
              "      <td>35400.0</td>\n",
              "      <td>1</td>\n",
              "    </tr>\n",
              "  </tbody>\n",
              "</table>\n",
              "</div>"
            ],
            "text/plain": [
              "      Пол  Возраст  Зарплата  Члены семьи\n",
              "4081    1     21.0   45800.0            0\n",
              "1714    1     43.0   40500.0            1\n",
              "812     1     37.0   35400.0            1"
            ]
          },
          "execution_count": 14,
          "metadata": {},
          "output_type": "execute_result"
        }
      ],
      "source": [
        "features_train.head(3)"
      ]
    },
    {
      "cell_type": "markdown",
      "metadata": {
        "id": "p2ahMu5hXCkc"
      },
      "source": [
        "Вот так они выглядят зашифрованными:\n"
      ]
    },
    {
      "cell_type": "code",
      "execution_count": null,
      "metadata": {
        "colab": {
          "base_uri": "https://localhost:8080/",
          "height": 143
        },
        "id": "uTDIXakTXIlb",
        "outputId": "5e5cb083-4a1f-4af5-9eb5-8b232053d4ed"
      },
      "outputs": [
        {
          "data": {
            "text/html": [
              "<div>\n",
              "<style scoped>\n",
              "    .dataframe tbody tr th:only-of-type {\n",
              "        vertical-align: middle;\n",
              "    }\n",
              "\n",
              "    .dataframe tbody tr th {\n",
              "        vertical-align: top;\n",
              "    }\n",
              "\n",
              "    .dataframe thead th {\n",
              "        text-align: right;\n",
              "    }\n",
              "</style>\n",
              "<table border=\"1\" class=\"dataframe\">\n",
              "  <thead>\n",
              "    <tr style=\"text-align: right;\">\n",
              "      <th></th>\n",
              "      <th>0</th>\n",
              "      <th>1</th>\n",
              "      <th>2</th>\n",
              "      <th>3</th>\n",
              "    </tr>\n",
              "  </thead>\n",
              "  <tbody>\n",
              "    <tr>\n",
              "      <th>4081</th>\n",
              "      <td>59765.456195</td>\n",
              "      <td>-30205.631286</td>\n",
              "      <td>-38314.667344</td>\n",
              "      <td>17751.481515</td>\n",
              "    </tr>\n",
              "    <tr>\n",
              "      <th>1714</th>\n",
              "      <td>52858.296644</td>\n",
              "      <td>-26772.565000</td>\n",
              "      <td>-33900.302746</td>\n",
              "      <td>15743.898456</td>\n",
              "    </tr>\n",
              "    <tr>\n",
              "      <th>812</th>\n",
              "      <td>46202.085710</td>\n",
              "      <td>-23400.025612</td>\n",
              "      <td>-29630.947081</td>\n",
              "      <td>13760.532233</td>\n",
              "    </tr>\n",
              "  </tbody>\n",
              "</table>\n",
              "</div>"
            ],
            "text/plain": [
              "                 0             1             2             3\n",
              "4081  59765.456195 -30205.631286 -38314.667344  17751.481515\n",
              "1714  52858.296644 -26772.565000 -33900.302746  15743.898456\n",
              "812   46202.085710 -23400.025612 -29630.947081  13760.532233"
            ]
          },
          "execution_count": 15,
          "metadata": {},
          "output_type": "execute_result"
        }
      ],
      "source": [
        "features_train_encrypt.head(3)"
      ]
    },
    {
      "cell_type": "markdown",
      "metadata": {
        "id": "AX_VHqhVV-SR"
      },
      "source": [
        "индексы те же, а о чем тут - непонятно. \n",
        "теперь расшифруем признаки, которые мы зашифровали, умножив на обратную матрицу:"
      ]
    },
    {
      "cell_type": "code",
      "execution_count": null,
      "metadata": {
        "colab": {
          "base_uri": "https://localhost:8080/",
          "height": 143
        },
        "id": "dw0EvULxVafW",
        "outputId": "d8cac9ff-7cd8-4f21-b470-62d97fcfa120"
      },
      "outputs": [
        {
          "data": {
            "text/html": [
              "<div>\n",
              "<style scoped>\n",
              "    .dataframe tbody tr th:only-of-type {\n",
              "        vertical-align: middle;\n",
              "    }\n",
              "\n",
              "    .dataframe tbody tr th {\n",
              "        vertical-align: top;\n",
              "    }\n",
              "\n",
              "    .dataframe thead th {\n",
              "        text-align: right;\n",
              "    }\n",
              "</style>\n",
              "<table border=\"1\" class=\"dataframe\">\n",
              "  <thead>\n",
              "    <tr style=\"text-align: right;\">\n",
              "      <th></th>\n",
              "      <th>0</th>\n",
              "      <th>1</th>\n",
              "      <th>2</th>\n",
              "      <th>3</th>\n",
              "    </tr>\n",
              "  </thead>\n",
              "  <tbody>\n",
              "    <tr>\n",
              "      <th>4081</th>\n",
              "      <td>0</td>\n",
              "      <td>20</td>\n",
              "      <td>45800</td>\n",
              "      <td>0</td>\n",
              "    </tr>\n",
              "    <tr>\n",
              "      <th>1714</th>\n",
              "      <td>0</td>\n",
              "      <td>43</td>\n",
              "      <td>40499</td>\n",
              "      <td>0</td>\n",
              "    </tr>\n",
              "    <tr>\n",
              "      <th>812</th>\n",
              "      <td>0</td>\n",
              "      <td>37</td>\n",
              "      <td>35400</td>\n",
              "      <td>0</td>\n",
              "    </tr>\n",
              "  </tbody>\n",
              "</table>\n",
              "</div>"
            ],
            "text/plain": [
              "      0   1      2  3\n",
              "4081  0  20  45800  0\n",
              "1714  0  43  40499  0\n",
              "812   0  37  35400  0"
            ]
          },
          "execution_count": 16,
          "metadata": {},
          "output_type": "execute_result"
        }
      ],
      "source": [
        "features_train_decrypt  = (features_train_encrypt @ np.linalg.inv(A)).astype(int)\n",
        "features_train_decrypt.head(3) "
      ]
    },
    {
      "cell_type": "markdown",
      "metadata": {
        "id": "rsylkOcSXtUL"
      },
      "source": [
        "При каждом запуске результат после дешифровки чуть различается (то рубля в доходе не хватает, то года в возрасте). но в целом понятно кто есть кто. \n",
        "\n",
        "Метод работает. Можно зашифровать данные клиентов (признаки), предсказать по ним новые целевые признаки, и никто ничего не узнает. \n",
        "\n"
      ]
    },
    {
      "cell_type": "markdown",
      "metadata": {
        "id": "Qixms3HeVafX"
      },
      "source": [
        "## Чек-лист проверки"
      ]
    },
    {
      "cell_type": "markdown",
      "metadata": {
        "id": "y32uc1vhVafX"
      },
      "source": [
        "Поставьте 'x' в выполненных пунктах. Далее нажмите Shift+Enter."
      ]
    },
    {
      "cell_type": "markdown",
      "metadata": {
        "id": "RQw3K4wMVafX"
      },
      "source": [
        "- [x]  Jupyter Notebook открыт\n",
        "- [x]  Весь код выполняется без ошибок\n",
        "- [x]  Ячейки с кодом расположены в порядке исполнения\n",
        "- [x]  Выполнен шаг 1: данные загружены\n",
        "- [x]  Выполнен шаг 2: получен ответ на вопрос об умножении матриц\n",
        "    - [x]  Указан правильный вариант ответа\n",
        "    - [x]  Вариант обоснован\n",
        "- [x]  Выполнен шаг 3: предложен алгоритм преобразования\n",
        "    - [x]  Алгоритм описан\n",
        "    - [x]  Алгоритм обоснован\n",
        "- [x]  Выполнен шаг 4: алгоритм проверен\n",
        "    - [x]  Алгоритм реализован\n",
        "    - [x]  Проведено сравнение качества моделей до и после преобразования"
      ]
    }
  ],
  "metadata": {
    "ExecuteTimeLog": [
      {
        "duration": 1122,
        "start_time": "2022-06-22T06:53:53.430Z"
      },
      {
        "duration": 174,
        "start_time": "2022-06-22T06:53:54.554Z"
      },
      {
        "duration": 18,
        "start_time": "2022-06-22T06:53:54.730Z"
      },
      {
        "duration": 26,
        "start_time": "2022-06-22T06:53:54.751Z"
      },
      {
        "duration": 32,
        "start_time": "2022-06-22T06:53:54.779Z"
      },
      {
        "duration": 23,
        "start_time": "2022-06-22T06:53:54.813Z"
      },
      {
        "duration": 10,
        "start_time": "2022-06-22T06:53:54.838Z"
      },
      {
        "duration": 44,
        "start_time": "2022-06-22T06:53:54.851Z"
      },
      {
        "duration": 79,
        "start_time": "2022-06-22T06:53:54.898Z"
      },
      {
        "duration": 96,
        "start_time": "2022-06-22T06:53:54.981Z"
      },
      {
        "duration": 21,
        "start_time": "2022-06-22T06:53:55.079Z"
      },
      {
        "duration": 23,
        "start_time": "2022-06-22T06:53:55.102Z"
      },
      {
        "duration": 16,
        "start_time": "2022-06-22T06:53:55.129Z"
      },
      {
        "duration": 22,
        "start_time": "2022-06-22T06:53:55.148Z"
      },
      {
        "duration": 19,
        "start_time": "2022-06-22T06:53:55.172Z"
      },
      {
        "duration": 29,
        "start_time": "2022-06-22T06:53:55.193Z"
      }
    ],
    "colab": {
      "provenance": [],
      "include_colab_link": true
    },
    "kernelspec": {
      "display_name": "Python 3 (ipykernel)",
      "language": "python",
      "name": "python3"
    },
    "language_info": {
      "codemirror_mode": {
        "name": "ipython",
        "version": 3
      },
      "file_extension": ".py",
      "mimetype": "text/x-python",
      "name": "python",
      "nbconvert_exporter": "python",
      "pygments_lexer": "ipython3",
      "version": "3.9.5"
    },
    "toc": {
      "base_numbering": 1,
      "nav_menu": {},
      "number_sections": true,
      "sideBar": true,
      "skip_h1_title": true,
      "title_cell": "Содержание",
      "title_sidebar": "Contents",
      "toc_cell": true,
      "toc_position": {},
      "toc_section_display": true,
      "toc_window_display": true
    }
  },
  "nbformat": 4,
  "nbformat_minor": 0
}