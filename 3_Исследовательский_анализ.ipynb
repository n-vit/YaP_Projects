{
  "cells": [
    {
      "cell_type": "markdown",
      "metadata": {
        "id": "view-in-github",
        "colab_type": "text"
      },
      "source": [
        "<a href=\"https://colab.research.google.com/github/n-vit/YaP_Projects/blob/main/3_%D0%98%D1%81%D1%81%D0%BB%D0%B5%D0%B4%D0%BE%D0%B2%D0%B0%D1%82%D0%B5%D0%BB%D1%8C%D1%81%D0%BA%D0%B8%D0%B9_%D0%B0%D0%BD%D0%B0%D0%BB%D0%B8%D0%B7.ipynb\" target=\"_parent\"><img src=\"https://colab.research.google.com/assets/colab-badge.svg\" alt=\"Open In Colab\"/></a>"
      ]
    },
    {
      "cell_type": "markdown",
      "metadata": {
        "id": "Ktx_JXXOvhWR",
        "toc": true
      },
      "source": [
        "<h1>Содержание<span class=\"tocSkip\"></span></h1>\n",
        "<div class=\"toc\"><ul class=\"toc-item\"><li><ul class=\"toc-item\"><li><span><a href=\"#Финальный-отзыв\" data-toc-modified-id=\"Финальный-отзыв-0.1\"><span class=\"toc-item-num\">0.1&nbsp;&nbsp;</span><font color=\"orange\">Финальный отзыв</font></a></span></li><li><span><a href=\"#Общий-отзыв\" data-toc-modified-id=\"Общий-отзыв-0.2\"><span class=\"toc-item-num\">0.2&nbsp;&nbsp;</span><font color=\"orange\">Общий отзыв</font></a></span></li></ul></li><li><span><a href=\"#Изучение-данных-из-файла\" data-toc-modified-id=\"Изучение-данных-из-файла-1\"><span class=\"toc-item-num\">1&nbsp;&nbsp;</span>Изучение данных из файла</a></span><ul class=\"toc-item\"><li><span><a href=\"#Вывод\" data-toc-modified-id=\"Вывод-1.1\"><span class=\"toc-item-num\">1.1&nbsp;&nbsp;</span>Вывод</a></span></li></ul></li><li><span><a href=\"#Предобработка-данных\" data-toc-modified-id=\"Предобработка-данных-2\"><span class=\"toc-item-num\">2&nbsp;&nbsp;</span>Предобработка данных</a></span></li><li><span><a href=\"#Расчёты-и-добавление-результатов-в-таблицу\" data-toc-modified-id=\"Расчёты-и-добавление-результатов-в-таблицу-3\"><span class=\"toc-item-num\">3&nbsp;&nbsp;</span>Расчёты и добавление результатов в таблицу</a></span></li><li><span><a href=\"#Исследовательский-анализ-данных\" data-toc-modified-id=\"Исследовательский-анализ-данных-4\"><span class=\"toc-item-num\">4&nbsp;&nbsp;</span>Исследовательский анализ данных</a></span></li><li><span><a href=\"#Общий-вывод\" data-toc-modified-id=\"Общий-вывод-5\"><span class=\"toc-item-num\">5&nbsp;&nbsp;</span>Общий вывод</a></span></li><li><span><a href=\"#Чек-лист-готовности-проекта\" data-toc-modified-id=\"Чек-лист-готовности-проекта-6\"><span class=\"toc-item-num\">6&nbsp;&nbsp;</span>Чек-лист готовности проекта</a></span></li></ul></div>"
      ]
    },
    {
      "cell_type": "markdown",
      "metadata": {
        "id": "aKb0JKd4vhWa"
      },
      "source": [
        "# Исследование объявлений о продаже квартир\n",
        "\n",
        "Задача исследования - определить параметры, влияющие на рыночную стоимость объектов недвижимости. Делать мы это будем на основе исследования данных из объявлений, данных в Яндекс.Недвижимость, в Санкт-Петербурге и пригородах. \n",
        "\n",
        "По каждой квартире на продажу доступны два вида данных. Первые вписаны пользователем, вторые получены автоматически на основе картографических данных. Например, расстояние до центра, аэропорта, ближайшего парка и водоёма. "
      ]
    },
    {
      "cell_type": "markdown",
      "metadata": {
        "id": "d-eYLHBLvhWd"
      },
      "source": [
        "## Изучение данных из файла"
      ]
    },
    {
      "cell_type": "code",
      "execution_count": null,
      "metadata": {
        "id": "wFfGGffQvhWf"
      },
      "outputs": [],
      "source": [
        "import pandas as pd\n",
        "import seaborn as sns\n",
        "import matplotlib.pyplot as plt"
      ]
    },
    {
      "cell_type": "code",
      "execution_count": null,
      "metadata": {
        "id": "qFVfY7Xs-yev"
      },
      "outputs": [],
      "source": [
        "try:\n",
        "    from google.colab import drive\n",
        "    drive.mount('/content/drive')\n",
        "    df_realt = pd.read_csv('/content/drive/MyDrive/real_estate_data.csv', sep= '\\t')\n",
        "except:\n",
        "    df_realt = pd.read_csv('/datasets/real_estate_data.csv', sep= '\\t')"
      ]
    },
    {
      "cell_type": "code",
      "execution_count": null,
      "metadata": {
        "id": "ldrYpj6M-yew",
        "outputId": "67f69752-001f-4e22-b217-d6b19d82b0a0"
      },
      "outputs": [
        {
          "data": {
            "text/html": [
              "<div>\n",
              "<style scoped>\n",
              "    .dataframe tbody tr th:only-of-type {\n",
              "        vertical-align: middle;\n",
              "    }\n",
              "\n",
              "    .dataframe tbody tr th {\n",
              "        vertical-align: top;\n",
              "    }\n",
              "\n",
              "    .dataframe thead th {\n",
              "        text-align: right;\n",
              "    }\n",
              "</style>\n",
              "<table border=\"1\" class=\"dataframe\">\n",
              "  <thead>\n",
              "    <tr style=\"text-align: right;\">\n",
              "      <th></th>\n",
              "      <th>total_images</th>\n",
              "      <th>last_price</th>\n",
              "      <th>total_area</th>\n",
              "      <th>first_day_exposition</th>\n",
              "      <th>rooms</th>\n",
              "      <th>ceiling_height</th>\n",
              "      <th>floors_total</th>\n",
              "      <th>living_area</th>\n",
              "      <th>floor</th>\n",
              "      <th>is_apartment</th>\n",
              "      <th>...</th>\n",
              "      <th>kitchen_area</th>\n",
              "      <th>balcony</th>\n",
              "      <th>locality_name</th>\n",
              "      <th>airports_nearest</th>\n",
              "      <th>cityCenters_nearest</th>\n",
              "      <th>parks_around3000</th>\n",
              "      <th>parks_nearest</th>\n",
              "      <th>ponds_around3000</th>\n",
              "      <th>ponds_nearest</th>\n",
              "      <th>days_exposition</th>\n",
              "    </tr>\n",
              "  </thead>\n",
              "  <tbody>\n",
              "    <tr>\n",
              "      <td>0</td>\n",
              "      <td>20</td>\n",
              "      <td>13000000.0</td>\n",
              "      <td>108.0</td>\n",
              "      <td>2019-03-07T00:00:00</td>\n",
              "      <td>3</td>\n",
              "      <td>2.70</td>\n",
              "      <td>16.0</td>\n",
              "      <td>51.0</td>\n",
              "      <td>8</td>\n",
              "      <td>NaN</td>\n",
              "      <td>...</td>\n",
              "      <td>25.0</td>\n",
              "      <td>NaN</td>\n",
              "      <td>Санкт-Петербург</td>\n",
              "      <td>18863.0</td>\n",
              "      <td>16028.0</td>\n",
              "      <td>1.0</td>\n",
              "      <td>482.0</td>\n",
              "      <td>2.0</td>\n",
              "      <td>755.0</td>\n",
              "      <td>NaN</td>\n",
              "    </tr>\n",
              "    <tr>\n",
              "      <td>1</td>\n",
              "      <td>7</td>\n",
              "      <td>3350000.0</td>\n",
              "      <td>40.4</td>\n",
              "      <td>2018-12-04T00:00:00</td>\n",
              "      <td>1</td>\n",
              "      <td>NaN</td>\n",
              "      <td>11.0</td>\n",
              "      <td>18.6</td>\n",
              "      <td>1</td>\n",
              "      <td>NaN</td>\n",
              "      <td>...</td>\n",
              "      <td>11.0</td>\n",
              "      <td>2.0</td>\n",
              "      <td>посёлок Шушары</td>\n",
              "      <td>12817.0</td>\n",
              "      <td>18603.0</td>\n",
              "      <td>0.0</td>\n",
              "      <td>NaN</td>\n",
              "      <td>0.0</td>\n",
              "      <td>NaN</td>\n",
              "      <td>81.0</td>\n",
              "    </tr>\n",
              "    <tr>\n",
              "      <td>2</td>\n",
              "      <td>10</td>\n",
              "      <td>5196000.0</td>\n",
              "      <td>56.0</td>\n",
              "      <td>2015-08-20T00:00:00</td>\n",
              "      <td>2</td>\n",
              "      <td>NaN</td>\n",
              "      <td>5.0</td>\n",
              "      <td>34.3</td>\n",
              "      <td>4</td>\n",
              "      <td>NaN</td>\n",
              "      <td>...</td>\n",
              "      <td>8.3</td>\n",
              "      <td>0.0</td>\n",
              "      <td>Санкт-Петербург</td>\n",
              "      <td>21741.0</td>\n",
              "      <td>13933.0</td>\n",
              "      <td>1.0</td>\n",
              "      <td>90.0</td>\n",
              "      <td>2.0</td>\n",
              "      <td>574.0</td>\n",
              "      <td>558.0</td>\n",
              "    </tr>\n",
              "    <tr>\n",
              "      <td>3</td>\n",
              "      <td>0</td>\n",
              "      <td>64900000.0</td>\n",
              "      <td>159.0</td>\n",
              "      <td>2015-07-24T00:00:00</td>\n",
              "      <td>3</td>\n",
              "      <td>NaN</td>\n",
              "      <td>14.0</td>\n",
              "      <td>NaN</td>\n",
              "      <td>9</td>\n",
              "      <td>NaN</td>\n",
              "      <td>...</td>\n",
              "      <td>NaN</td>\n",
              "      <td>0.0</td>\n",
              "      <td>Санкт-Петербург</td>\n",
              "      <td>28098.0</td>\n",
              "      <td>6800.0</td>\n",
              "      <td>2.0</td>\n",
              "      <td>84.0</td>\n",
              "      <td>3.0</td>\n",
              "      <td>234.0</td>\n",
              "      <td>424.0</td>\n",
              "    </tr>\n",
              "    <tr>\n",
              "      <td>4</td>\n",
              "      <td>2</td>\n",
              "      <td>10000000.0</td>\n",
              "      <td>100.0</td>\n",
              "      <td>2018-06-19T00:00:00</td>\n",
              "      <td>2</td>\n",
              "      <td>3.03</td>\n",
              "      <td>14.0</td>\n",
              "      <td>32.0</td>\n",
              "      <td>13</td>\n",
              "      <td>NaN</td>\n",
              "      <td>...</td>\n",
              "      <td>41.0</td>\n",
              "      <td>NaN</td>\n",
              "      <td>Санкт-Петербург</td>\n",
              "      <td>31856.0</td>\n",
              "      <td>8098.0</td>\n",
              "      <td>2.0</td>\n",
              "      <td>112.0</td>\n",
              "      <td>1.0</td>\n",
              "      <td>48.0</td>\n",
              "      <td>121.0</td>\n",
              "    </tr>\n",
              "  </tbody>\n",
              "</table>\n",
              "<p>5 rows × 22 columns</p>\n",
              "</div>"
            ],
            "text/plain": [
              "   total_images  last_price  total_area first_day_exposition  rooms  \\\n",
              "0            20  13000000.0       108.0  2019-03-07T00:00:00      3   \n",
              "1             7   3350000.0        40.4  2018-12-04T00:00:00      1   \n",
              "2            10   5196000.0        56.0  2015-08-20T00:00:00      2   \n",
              "3             0  64900000.0       159.0  2015-07-24T00:00:00      3   \n",
              "4             2  10000000.0       100.0  2018-06-19T00:00:00      2   \n",
              "\n",
              "   ceiling_height  floors_total  living_area  floor is_apartment  ...  \\\n",
              "0            2.70          16.0         51.0      8          NaN  ...   \n",
              "1             NaN          11.0         18.6      1          NaN  ...   \n",
              "2             NaN           5.0         34.3      4          NaN  ...   \n",
              "3             NaN          14.0          NaN      9          NaN  ...   \n",
              "4            3.03          14.0         32.0     13          NaN  ...   \n",
              "\n",
              "   kitchen_area  balcony    locality_name  airports_nearest  \\\n",
              "0          25.0      NaN  Санкт-Петербург           18863.0   \n",
              "1          11.0      2.0   посёлок Шушары           12817.0   \n",
              "2           8.3      0.0  Санкт-Петербург           21741.0   \n",
              "3           NaN      0.0  Санкт-Петербург           28098.0   \n",
              "4          41.0      NaN  Санкт-Петербург           31856.0   \n",
              "\n",
              "  cityCenters_nearest  parks_around3000  parks_nearest  ponds_around3000  \\\n",
              "0             16028.0               1.0          482.0               2.0   \n",
              "1             18603.0               0.0            NaN               0.0   \n",
              "2             13933.0               1.0           90.0               2.0   \n",
              "3              6800.0               2.0           84.0               3.0   \n",
              "4              8098.0               2.0          112.0               1.0   \n",
              "\n",
              "   ponds_nearest  days_exposition  \n",
              "0          755.0              NaN  \n",
              "1            NaN             81.0  \n",
              "2          574.0            558.0  \n",
              "3          234.0            424.0  \n",
              "4           48.0            121.0  \n",
              "\n",
              "[5 rows x 22 columns]"
            ]
          },
          "execution_count": 3,
          "metadata": {},
          "output_type": "execute_result"
        }
      ],
      "source": [
        "df_realt.head(5)"
      ]
    },
    {
      "cell_type": "markdown",
      "metadata": {
        "id": "veeE1Gj2Tg3h"
      },
      "source": [
        "удалим явные дубликаты и строки, в которых пропущены все значения (если они есть)"
      ]
    },
    {
      "cell_type": "code",
      "execution_count": null,
      "metadata": {
        "id": "KvUR9uSd-ye7",
        "outputId": "f389dd7e-e411-4841-c046-88b4b67bb40c"
      },
      "outputs": [
        {
          "data": {
            "text/plain": [
              "0"
            ]
          },
          "execution_count": 4,
          "metadata": {},
          "output_type": "execute_result"
        }
      ],
      "source": [
        "df_realt.duplicated().sum()"
      ]
    },
    {
      "cell_type": "code",
      "execution_count": null,
      "metadata": {
        "id": "x1980nEWxZ2E"
      },
      "outputs": [],
      "source": [
        "\n",
        "#df_realt = df_realt.dropna(how='all')\n",
        "#df_realt = df_realt.drop_duplicates().reset_index(drop= True)"
      ]
    },
    {
      "cell_type": "code",
      "execution_count": null,
      "metadata": {
        "colab": {
          "base_uri": "https://localhost:8080/"
        },
        "id": "3jtopp2jwPKO",
        "outputId": "243befa1-e2d7-4d03-eb8d-097c65f9c55b"
      },
      "outputs": [
        {
          "data": {
            "text/plain": [
              "total_images                0\n",
              "last_price                  0\n",
              "total_area                  0\n",
              "first_day_exposition        0\n",
              "rooms                       0\n",
              "ceiling_height           9195\n",
              "floors_total               86\n",
              "living_area              1903\n",
              "floor                       0\n",
              "is_apartment            20924\n",
              "studio                      0\n",
              "open_plan                   0\n",
              "kitchen_area             2278\n",
              "balcony                 11519\n",
              "locality_name              49\n",
              "airports_nearest         5542\n",
              "cityCenters_nearest      5519\n",
              "parks_around3000         5518\n",
              "parks_nearest           15620\n",
              "ponds_around3000         5518\n",
              "ponds_nearest           14589\n",
              "days_exposition          3181\n",
              "dtype: int64"
            ]
          },
          "execution_count": 6,
          "metadata": {},
          "output_type": "execute_result"
        }
      ],
      "source": [
        "df_realt.isna().sum()"
      ]
    },
    {
      "cell_type": "code",
      "execution_count": null,
      "metadata": {
        "colab": {
          "base_uri": "https://localhost:8080/"
        },
        "id": "2bCedw3y39zt",
        "outputId": "ec8a27b4-a745-4282-e2a4-678cdb9bbd4b"
      },
      "outputs": [
        {
          "name": "stdout",
          "output_type": "stream",
          "text": [
            "<class 'pandas.core.frame.DataFrame'>\n",
            "RangeIndex: 23699 entries, 0 to 23698\n",
            "Data columns (total 22 columns):\n",
            "total_images            23699 non-null int64\n",
            "last_price              23699 non-null float64\n",
            "total_area              23699 non-null float64\n",
            "first_day_exposition    23699 non-null object\n",
            "rooms                   23699 non-null int64\n",
            "ceiling_height          14504 non-null float64\n",
            "floors_total            23613 non-null float64\n",
            "living_area             21796 non-null float64\n",
            "floor                   23699 non-null int64\n",
            "is_apartment            2775 non-null object\n",
            "studio                  23699 non-null bool\n",
            "open_plan               23699 non-null bool\n",
            "kitchen_area            21421 non-null float64\n",
            "balcony                 12180 non-null float64\n",
            "locality_name           23650 non-null object\n",
            "airports_nearest        18157 non-null float64\n",
            "cityCenters_nearest     18180 non-null float64\n",
            "parks_around3000        18181 non-null float64\n",
            "parks_nearest           8079 non-null float64\n",
            "ponds_around3000        18181 non-null float64\n",
            "ponds_nearest           9110 non-null float64\n",
            "days_exposition         20518 non-null float64\n",
            "dtypes: bool(2), float64(14), int64(3), object(3)\n",
            "memory usage: 3.7+ MB\n"
          ]
        }
      ],
      "source": [
        "df_realt.info()"
      ]
    },
    {
      "cell_type": "markdown",
      "metadata": {
        "id": "2fTzqC1K7aRr"
      },
      "source": [
        "посмотрим на уникальные значения в int и obgect, и статистическое описание int и float, опишем задачи по предобработке для каждого из параметров "
      ]
    },
    {
      "cell_type": "code",
      "execution_count": null,
      "metadata": {
        "colab": {
          "base_uri": "https://localhost:8080/"
        },
        "id": "zjUgH-iQ43el",
        "outputId": "11b57ff3-0085-4f1a-e2f4-ea0c9ba56bf2"
      },
      "outputs": [
        {
          "data": {
            "text/plain": [
              "array([ 1.,  0.,  2., nan,  3.])"
            ]
          },
          "execution_count": 8,
          "metadata": {},
          "output_type": "execute_result"
        }
      ],
      "source": [
        "df_realt['parks_around3000'].unique()"
      ]
    },
    {
      "cell_type": "code",
      "execution_count": null,
      "metadata": {
        "colab": {
          "base_uri": "https://localhost:8080/",
          "height": 364
        },
        "id": "TGL6gjdw5scK",
        "outputId": "7796d95f-ca6d-44fa-e3af-c908efa498c8"
      },
      "outputs": [
        {
          "data": {
            "text/html": [
              "<div>\n",
              "<style scoped>\n",
              "    .dataframe tbody tr th:only-of-type {\n",
              "        vertical-align: middle;\n",
              "    }\n",
              "\n",
              "    .dataframe tbody tr th {\n",
              "        vertical-align: top;\n",
              "    }\n",
              "\n",
              "    .dataframe thead th {\n",
              "        text-align: right;\n",
              "    }\n",
              "</style>\n",
              "<table border=\"1\" class=\"dataframe\">\n",
              "  <thead>\n",
              "    <tr style=\"text-align: right;\">\n",
              "      <th></th>\n",
              "      <th>count</th>\n",
              "      <th>mean</th>\n",
              "      <th>std</th>\n",
              "      <th>min</th>\n",
              "      <th>25%</th>\n",
              "      <th>50%</th>\n",
              "      <th>75%</th>\n",
              "      <th>max</th>\n",
              "    </tr>\n",
              "  </thead>\n",
              "  <tbody>\n",
              "    <tr>\n",
              "      <td>total_images</td>\n",
              "      <td>23699.0</td>\n",
              "      <td>9.858475e+00</td>\n",
              "      <td>5.682529e+00</td>\n",
              "      <td>0.0</td>\n",
              "      <td>6.00</td>\n",
              "      <td>9.00</td>\n",
              "      <td>14.0</td>\n",
              "      <td>50.0</td>\n",
              "    </tr>\n",
              "    <tr>\n",
              "      <td>last_price</td>\n",
              "      <td>23699.0</td>\n",
              "      <td>6.541549e+06</td>\n",
              "      <td>1.088701e+07</td>\n",
              "      <td>12190.0</td>\n",
              "      <td>3400000.00</td>\n",
              "      <td>4650000.00</td>\n",
              "      <td>6800000.0</td>\n",
              "      <td>763000000.0</td>\n",
              "    </tr>\n",
              "    <tr>\n",
              "      <td>total_area</td>\n",
              "      <td>23699.0</td>\n",
              "      <td>6.034865e+01</td>\n",
              "      <td>3.565408e+01</td>\n",
              "      <td>12.0</td>\n",
              "      <td>40.00</td>\n",
              "      <td>52.00</td>\n",
              "      <td>69.9</td>\n",
              "      <td>900.0</td>\n",
              "    </tr>\n",
              "    <tr>\n",
              "      <td>rooms</td>\n",
              "      <td>23699.0</td>\n",
              "      <td>2.070636e+00</td>\n",
              "      <td>1.078405e+00</td>\n",
              "      <td>0.0</td>\n",
              "      <td>1.00</td>\n",
              "      <td>2.00</td>\n",
              "      <td>3.0</td>\n",
              "      <td>19.0</td>\n",
              "    </tr>\n",
              "    <tr>\n",
              "      <td>ceiling_height</td>\n",
              "      <td>14504.0</td>\n",
              "      <td>2.771499e+00</td>\n",
              "      <td>1.261056e+00</td>\n",
              "      <td>1.0</td>\n",
              "      <td>2.52</td>\n",
              "      <td>2.65</td>\n",
              "      <td>2.8</td>\n",
              "      <td>100.0</td>\n",
              "    </tr>\n",
              "    <tr>\n",
              "      <td>floors_total</td>\n",
              "      <td>23613.0</td>\n",
              "      <td>1.067382e+01</td>\n",
              "      <td>6.597173e+00</td>\n",
              "      <td>1.0</td>\n",
              "      <td>5.00</td>\n",
              "      <td>9.00</td>\n",
              "      <td>16.0</td>\n",
              "      <td>60.0</td>\n",
              "    </tr>\n",
              "    <tr>\n",
              "      <td>living_area</td>\n",
              "      <td>21796.0</td>\n",
              "      <td>3.445785e+01</td>\n",
              "      <td>2.203045e+01</td>\n",
              "      <td>2.0</td>\n",
              "      <td>18.60</td>\n",
              "      <td>30.00</td>\n",
              "      <td>42.3</td>\n",
              "      <td>409.7</td>\n",
              "    </tr>\n",
              "    <tr>\n",
              "      <td>floor</td>\n",
              "      <td>23699.0</td>\n",
              "      <td>5.892358e+00</td>\n",
              "      <td>4.885249e+00</td>\n",
              "      <td>1.0</td>\n",
              "      <td>2.00</td>\n",
              "      <td>4.00</td>\n",
              "      <td>8.0</td>\n",
              "      <td>33.0</td>\n",
              "    </tr>\n",
              "    <tr>\n",
              "      <td>kitchen_area</td>\n",
              "      <td>21421.0</td>\n",
              "      <td>1.056981e+01</td>\n",
              "      <td>5.905438e+00</td>\n",
              "      <td>1.3</td>\n",
              "      <td>7.00</td>\n",
              "      <td>9.10</td>\n",
              "      <td>12.0</td>\n",
              "      <td>112.0</td>\n",
              "    </tr>\n",
              "    <tr>\n",
              "      <td>balcony</td>\n",
              "      <td>12180.0</td>\n",
              "      <td>1.150082e+00</td>\n",
              "      <td>1.071300e+00</td>\n",
              "      <td>0.0</td>\n",
              "      <td>0.00</td>\n",
              "      <td>1.00</td>\n",
              "      <td>2.0</td>\n",
              "      <td>5.0</td>\n",
              "    </tr>\n",
              "    <tr>\n",
              "      <td>airports_nearest</td>\n",
              "      <td>18157.0</td>\n",
              "      <td>2.879367e+04</td>\n",
              "      <td>1.263088e+04</td>\n",
              "      <td>0.0</td>\n",
              "      <td>18585.00</td>\n",
              "      <td>26726.00</td>\n",
              "      <td>37273.0</td>\n",
              "      <td>84869.0</td>\n",
              "    </tr>\n",
              "    <tr>\n",
              "      <td>cityCenters_nearest</td>\n",
              "      <td>18180.0</td>\n",
              "      <td>1.419128e+04</td>\n",
              "      <td>8.608386e+03</td>\n",
              "      <td>181.0</td>\n",
              "      <td>9238.00</td>\n",
              "      <td>13098.50</td>\n",
              "      <td>16293.0</td>\n",
              "      <td>65968.0</td>\n",
              "    </tr>\n",
              "    <tr>\n",
              "      <td>parks_around3000</td>\n",
              "      <td>18181.0</td>\n",
              "      <td>6.114075e-01</td>\n",
              "      <td>8.020736e-01</td>\n",
              "      <td>0.0</td>\n",
              "      <td>0.00</td>\n",
              "      <td>0.00</td>\n",
              "      <td>1.0</td>\n",
              "      <td>3.0</td>\n",
              "    </tr>\n",
              "    <tr>\n",
              "      <td>parks_nearest</td>\n",
              "      <td>8079.0</td>\n",
              "      <td>4.908046e+02</td>\n",
              "      <td>3.423180e+02</td>\n",
              "      <td>1.0</td>\n",
              "      <td>288.00</td>\n",
              "      <td>455.00</td>\n",
              "      <td>612.0</td>\n",
              "      <td>3190.0</td>\n",
              "    </tr>\n",
              "    <tr>\n",
              "      <td>ponds_around3000</td>\n",
              "      <td>18181.0</td>\n",
              "      <td>7.702547e-01</td>\n",
              "      <td>9.383456e-01</td>\n",
              "      <td>0.0</td>\n",
              "      <td>0.00</td>\n",
              "      <td>1.00</td>\n",
              "      <td>1.0</td>\n",
              "      <td>3.0</td>\n",
              "    </tr>\n",
              "    <tr>\n",
              "      <td>ponds_nearest</td>\n",
              "      <td>9110.0</td>\n",
              "      <td>5.179809e+02</td>\n",
              "      <td>2.777206e+02</td>\n",
              "      <td>13.0</td>\n",
              "      <td>294.00</td>\n",
              "      <td>502.00</td>\n",
              "      <td>729.0</td>\n",
              "      <td>1344.0</td>\n",
              "    </tr>\n",
              "    <tr>\n",
              "      <td>days_exposition</td>\n",
              "      <td>20518.0</td>\n",
              "      <td>1.808886e+02</td>\n",
              "      <td>2.197280e+02</td>\n",
              "      <td>1.0</td>\n",
              "      <td>45.00</td>\n",
              "      <td>95.00</td>\n",
              "      <td>232.0</td>\n",
              "      <td>1580.0</td>\n",
              "    </tr>\n",
              "  </tbody>\n",
              "</table>\n",
              "</div>"
            ],
            "text/plain": [
              "                       count          mean           std      min         25%  \\\n",
              "total_images         23699.0  9.858475e+00  5.682529e+00      0.0        6.00   \n",
              "last_price           23699.0  6.541549e+06  1.088701e+07  12190.0  3400000.00   \n",
              "total_area           23699.0  6.034865e+01  3.565408e+01     12.0       40.00   \n",
              "rooms                23699.0  2.070636e+00  1.078405e+00      0.0        1.00   \n",
              "ceiling_height       14504.0  2.771499e+00  1.261056e+00      1.0        2.52   \n",
              "floors_total         23613.0  1.067382e+01  6.597173e+00      1.0        5.00   \n",
              "living_area          21796.0  3.445785e+01  2.203045e+01      2.0       18.60   \n",
              "floor                23699.0  5.892358e+00  4.885249e+00      1.0        2.00   \n",
              "kitchen_area         21421.0  1.056981e+01  5.905438e+00      1.3        7.00   \n",
              "balcony              12180.0  1.150082e+00  1.071300e+00      0.0        0.00   \n",
              "airports_nearest     18157.0  2.879367e+04  1.263088e+04      0.0    18585.00   \n",
              "cityCenters_nearest  18180.0  1.419128e+04  8.608386e+03    181.0     9238.00   \n",
              "parks_around3000     18181.0  6.114075e-01  8.020736e-01      0.0        0.00   \n",
              "parks_nearest         8079.0  4.908046e+02  3.423180e+02      1.0      288.00   \n",
              "ponds_around3000     18181.0  7.702547e-01  9.383456e-01      0.0        0.00   \n",
              "ponds_nearest         9110.0  5.179809e+02  2.777206e+02     13.0      294.00   \n",
              "days_exposition      20518.0  1.808886e+02  2.197280e+02      1.0       45.00   \n",
              "\n",
              "                            50%        75%          max  \n",
              "total_images               9.00       14.0         50.0  \n",
              "last_price           4650000.00  6800000.0  763000000.0  \n",
              "total_area                52.00       69.9        900.0  \n",
              "rooms                      2.00        3.0         19.0  \n",
              "ceiling_height             2.65        2.8        100.0  \n",
              "floors_total               9.00       16.0         60.0  \n",
              "living_area               30.00       42.3        409.7  \n",
              "floor                      4.00        8.0         33.0  \n",
              "kitchen_area               9.10       12.0        112.0  \n",
              "balcony                    1.00        2.0          5.0  \n",
              "airports_nearest       26726.00    37273.0      84869.0  \n",
              "cityCenters_nearest    13098.50    16293.0      65968.0  \n",
              "parks_around3000           0.00        1.0          3.0  \n",
              "parks_nearest            455.00      612.0       3190.0  \n",
              "ponds_around3000           1.00        1.0          3.0  \n",
              "ponds_nearest            502.00      729.0       1344.0  \n",
              "days_exposition           95.00      232.0       1580.0  "
            ]
          },
          "execution_count": 9,
          "metadata": {},
          "output_type": "execute_result"
        }
      ],
      "source": [
        "df_realt.describe().T\n"
      ]
    },
    {
      "cell_type": "code",
      "execution_count": null,
      "metadata": {
        "id": "jkB2jSeN-yfF",
        "outputId": "dcd32561-3b0d-4435-dbdf-4da65072127b"
      },
      "outputs": [
        {
          "data": {
            "text/html": [
              "<div>\n",
              "<style scoped>\n",
              "    .dataframe tbody tr th:only-of-type {\n",
              "        vertical-align: middle;\n",
              "    }\n",
              "\n",
              "    .dataframe tbody tr th {\n",
              "        vertical-align: top;\n",
              "    }\n",
              "\n",
              "    .dataframe thead th {\n",
              "        text-align: right;\n",
              "    }\n",
              "</style>\n",
              "<table border=\"1\" class=\"dataframe\">\n",
              "  <thead>\n",
              "    <tr style=\"text-align: right;\">\n",
              "      <th></th>\n",
              "      <th>first_day_exposition</th>\n",
              "      <th>is_apartment</th>\n",
              "      <th>locality_name</th>\n",
              "    </tr>\n",
              "  </thead>\n",
              "  <tbody>\n",
              "    <tr>\n",
              "      <td>count</td>\n",
              "      <td>23699</td>\n",
              "      <td>2775</td>\n",
              "      <td>23650</td>\n",
              "    </tr>\n",
              "    <tr>\n",
              "      <td>unique</td>\n",
              "      <td>1491</td>\n",
              "      <td>2</td>\n",
              "      <td>364</td>\n",
              "    </tr>\n",
              "    <tr>\n",
              "      <td>top</td>\n",
              "      <td>2018-02-01T00:00:00</td>\n",
              "      <td>False</td>\n",
              "      <td>Санкт-Петербург</td>\n",
              "    </tr>\n",
              "    <tr>\n",
              "      <td>freq</td>\n",
              "      <td>368</td>\n",
              "      <td>2725</td>\n",
              "      <td>15721</td>\n",
              "    </tr>\n",
              "  </tbody>\n",
              "</table>\n",
              "</div>"
            ],
            "text/plain": [
              "       first_day_exposition is_apartment    locality_name\n",
              "count                 23699         2775            23650\n",
              "unique                 1491            2              364\n",
              "top     2018-02-01T00:00:00        False  Санкт-Петербург\n",
              "freq                    368         2725            15721"
            ]
          },
          "execution_count": 10,
          "metadata": {},
          "output_type": "execute_result"
        }
      ],
      "source": [
        "df_realt.describe(include = ['object'])"
      ]
    },
    {
      "cell_type": "markdown",
      "metadata": {
        "id": "3R-8GPJtvhWh"
      },
      "source": [
        "### Вывод"
      ]
    },
    {
      "cell_type": "markdown",
      "metadata": {
        "id": "aZ2x-jLDvhWi"
      },
      "source": [
        "Датасет требует предобработки для дальнейшего анализа, в т.ч.:\n",
        "\n",
        "- [x] airports_nearest — расстояние до ближайшего аэропорта в метрах (м). Содержит пропуски данных, оставим их незаполненными, т.к. без геоданных восстановить значение невозможно, а корреляция с ценой незначительная (0,27)\n",
        "- [x] balcony — число балконов. Заполняется по данным пользователя, Содержит пропуски данных. Скорее всего если нет количества балконов, значит их нет ни одного\n",
        "- [x] ceiling_height — высота потолков (м). содержат статистические выбросы (мах 100м), и пропущенные данные. заполняется пользователем. Если значимые ячейки будут расположены \"кучно\" - возьмем для пропусков медиану\n",
        "- [x] cityCenters_nearest — расстояние до центра города (м) -  имеют пропуски, корреляция с ценой кв. метра довольно высокая (0,38) но заполнить пропуски не чем. это не ошибки пользователей, геоданные отсутствуют. \n",
        "- [x] days_exposition — сколько дней было размещено объявление (от публикации до снятия) - содержат пропуски, статистические выбросы, требуют перевода в формат целых чисел\n",
        "- [x] first_day_exposition — дата публикации - хранится в формате object, для обработки переведем в формат дат\n",
        "- [x] floor — этаж, вероятно корректные данные\n",
        "- [x] floors_total — всего этажей в доме - имеют незначительное количество пропусков, если не влияют на выводы, могут быть удалены из анализа\n",
        "- [x] is_apartment — апартаменты (булев тип)- большинство строк содержит пропуски, которые могут быть заполнены False поскольку сет изначально собирался как информация о жилой недвижимости\n",
        "- [x] kitchen_area — площадь кухни в квадратных метрах (м²) - содержит статистические выбросы, пропущенные значения 10% от датафрейма (возможно - свободная планировка)\n",
        "- [x] last_price — цена на момент снятия с публикации. медиана сильно отличается от среднего, уберем стат. выбросы\n",
        "- [x] living_area — жилая площадь в квадратных метрах (м²). содержит пропуски и возможно стат. выбросы\n",
        "- [x] locality_name — название населённого пункта - содержит пропуски, возможно пропущенные значения вообще не относятся к географии сета. удалим.\n",
        "- [x] open_plan — свободная планировка (булев тип) - выглядит корректно\n",
        "- [x] parks_around3000 — число парков в радиусе 3 км - необходимо перевести из вещественных чисел в целые. Вероятно столбец заполнялся пользователями и пропуски можно заполнить нулевыми значениями, если parks_nearest больше 3000. \n",
        "- [x] parks_nearest — расстояние до ближайшего парка (м) - содержит пропуски, заполнено на основе геоданных. Восстановление пропусков не требуется, корреляция с ценой квадратного метра слабая (0,07)\n",
        "- [x] ponds_around3000 — число водоёмов в радиусе 3 км аналогично паркам\n",
        "- [x] ponds_nearest — расстояние до ближайшего водоёма (м) аналогично паркам. Пропуски не заполняем, корреляция со стоимостью квадратного метра слабая (0,07)\n",
        "- [x] rooms — число комнат - возможно содержит выбросы, проверить корреляцию с площадью и ценой\n",
        "- [x] studio — квартира-студия (булев тип) - выглядит корректно\n",
        "- [x] total_area — площадь квартиры в квадратных метрах (м²) вероятны стат. выбросы, все данные заполнены\n",
        "- [x] total_images — число фотографий квартиры в объявлении - выглядит корректно"
      ]
    },
    {
      "cell_type": "markdown",
      "metadata": {
        "id": "wFFzB2AZvhWj"
      },
      "source": [
        "## Предобработка данных"
      ]
    },
    {
      "cell_type": "markdown",
      "metadata": {
        "id": "Q5xl-27Byqhw"
      },
      "source": [
        "Балконы и аппартаменты: если в числе балконов пропуск, то наверное их нет. А если нет ответа на вопрос - это аппартаменты? то скорее всего это не аппартаменты\n"
      ]
    },
    {
      "cell_type": "code",
      "execution_count": null,
      "metadata": {
        "id": "878-PsXsvhWk"
      },
      "outputs": [],
      "source": [
        "df_realt['balcony'] = df_realt['balcony'].fillna(0) #заполняем пропущенные данные о балконах нулями\n",
        "df_realt['is_apartment'] = df_realt['is_apartment'].fillna(False) #если не указано что объект аппартаменты - ставим False"
      ]
    },
    {
      "cell_type": "markdown",
      "metadata": {
        "id": "0807USuy-yfJ"
      },
      "source": [
        "<div style=\"border:solid green 2px; padding: 20px\"> <b>Отлично:</b><br>\n",
        "    Окей, согласна.</div>       "
      ]
    },
    {
      "cell_type": "markdown",
      "metadata": {
        "id": "pKj5knHsJlIC"
      },
      "source": [
        "<div class=\"alert alert-info\" style=\"border:solid blue 2px; padding: 20px\"> \n",
        "\n",
        "Оценим стат. выбросы в данных об общей площади ~~и избавимся от них **а избавляться от них не будем**. 5% выборки это немало, пусть живут~~ . \n"
      ]
    },
    {
      "cell_type": "code",
      "execution_count": null,
      "metadata": {
        "colab": {
          "base_uri": "https://localhost:8080/",
          "height": 270
        },
        "id": "k8Uq0HAxHpwe",
        "outputId": "e5c2af61-2bcc-4762-a2bd-cb3aacd6d7fb"
      },
      "outputs": [
        {
          "data": {
            "image/png": "[encoded data removed]",
            "text/plain": [
              "<Figure size 432x288 with 1 Axes>"
            ]
          },
          "metadata": {
            "needs_background": "light"
          },
          "output_type": "display_data"
        },
        {
          "name": "stdout",
          "output_type": "stream",
          "text": [
            "23\n"
          ]
        }
      ],
      "source": [
        "plt.ylim(0, 500)\n",
        "df_realt.boxplot(column='total_area')\n",
        "plt.show()\n",
        "\n",
        "print(df_realt.loc[df_realt.loc[:, 'total_area'] > 400]['total_area'].count()) # выбросы менее 5% выборки. \n",
        "#df_realt = df_realt.loc[df_realt.loc[:, 'total_area'] < 400] "
      ]
    },
    {
      "cell_type": "code",
      "execution_count": null,
      "metadata": {
        "id": "fx8QKi1P-yfL",
        "outputId": "04d47adc-d328-4c40-b134-0f187e8f329d"
      },
      "outputs": [
        {
          "data": {
            "image/png": "[encoded data removed]",
            "text/plain": [
              "<Figure size 432x288 with 1 Axes>"
            ]
          },
          "metadata": {
            "needs_background": "light"
          },
          "output_type": "display_data"
        },
        {
          "data": {
            "image/png": "[encoded data removed]",
            "text/plain": [
              "<Figure size 432x288 with 1 Axes>"
            ]
          },
          "metadata": {
            "needs_background": "light"
          },
          "output_type": "display_data"
        },
        {
          "data": {
            "image/png": "[encoded data removed]",
            "text/plain": [
              "<Figure size 432x288 with 1 Axes>"
            ]
          },
          "metadata": {
            "needs_background": "light"
          },
          "output_type": "display_data"
        },
        {
          "data": {
            "image/png": "[encoded data removed]",
            "text/plain": [
              "<Figure size 432x288 with 1 Axes>"
            ]
          },
          "metadata": {
            "needs_background": "light"
          },
          "output_type": "display_data"
        },
        {
          "data": {
            "image/png": "[encoded data removed]",
            "text/plain": [
              "<Figure size 432x288 with 1 Axes>"
            ]
          },
          "metadata": {
            "needs_background": "light"
          },
          "output_type": "display_data"
        }
      ],
      "source": [
        "#Код ревьюера\n",
        "columns = ['total_area', 'last_price', 'rooms', 'ceiling_height', 'days_exposition'] \n",
        "for col in columns:\n",
        "    df_realt.boxplot(column=col); \n",
        "    plt.show()"
      ]
    },
    {
      "cell_type": "markdown",
      "metadata": {
        "id": "JwRCB9xqAk9M"
      },
      "source": [
        "Проверим корреляцию между жилой и общей площадью, и если она близка к единице - заполним пропуски в жилой площади с помощью коэффициента зависимости жилой площади от общей"
      ]
    },
    {
      "cell_type": "code",
      "execution_count": null,
      "metadata": {
        "id": "8-NlVIKtvhWm"
      },
      "outputs": [],
      "source": [
        "df_realt['living_area'].corr(df_realt['total_area']) # корреляция жилой и общей площади - 94%, практически линейная зависимость\n",
        "# заполним пропуски значениями общей площади, умноженной на отношение медиан жилой и общей площади\n",
        "df_realt['living_area'] = df_realt['living_area'].fillna(df_realt['total_area'] \n",
        "                                                                 * df_realt['living_area'].median() \n",
        "                                                                 / df_realt['total_area'].median())                                                       \n"
      ]
    },
    {
      "cell_type": "markdown",
      "metadata": {
        "id": "9uHSV2Hq-yfN"
      },
      "source": [
        "<div style=\"border:solid green 2px; padding: 20px\"> <b>Отлично:</b><br>\n",
        "  Это удобный вариант в данном случае. Согласна :)</div>"
      ]
    },
    {
      "cell_type": "code",
      "execution_count": null,
      "metadata": {
        "colab": {
          "base_uri": "https://localhost:8080/",
          "height": 287
        },
        "id": "zhaJgB1Sgzww",
        "outputId": "fa0bf2b1-8736-41a2-eb03-7b5b4cba5742",
        "scrolled": true
      },
      "outputs": [
        {
          "data": {
            "image/png": "[encoded data removed]",
            "text/plain": [
              "<Figure size 432x288 with 1 Axes>"
            ]
          },
          "metadata": {
            "needs_background": "light"
          },
          "output_type": "display_data"
        },
        {
          "name": "stdout",
          "output_type": "stream",
          "text": [
            "число стат. выбросов: 91\n"
          ]
        }
      ],
      "source": [
        "plt.ylim(1, 3.5)\n",
        "df_realt.boxplot(column='ceiling_height')\n",
        "plt.show()\n",
        "print('число стат. выбросов:', df_realt.query('ceiling_height < 2.3 | ceiling_height > 4')['last_price'].count())\n",
        "#df_realt = df_realt.query('ceiling_height >=2.3 & ceiling_height <= 4')"
      ]
    },
    {
      "cell_type": "code",
      "execution_count": null,
      "metadata": {
        "id": "Oj5Qwm6D-yfR",
        "outputId": "a25569ff-24cb-4141-800d-32167554d880"
      },
      "outputs": [
        {
          "data": {
            "text/plain": [
              "78"
            ]
          },
          "execution_count": 16,
          "metadata": {},
          "output_type": "execute_result"
        }
      ],
      "source": [
        "df_realt['ceiling_height'] = df_realt['ceiling_height'].fillna(df_realt.groupby(['floors_total'])['ceiling_height'].transform('median'))\n",
        "df_realt['ceiling_height'].isna().sum()"
      ]
    },
    {
      "cell_type": "markdown",
      "metadata": {
        "id": "_07BUenB-yfT"
      },
      "source": [
        "<div class=\"alert alert-info\" style=\"border:solid blue 2px; padding: 20px\">\n",
        "\n",
        "Интересно. В прошлом проекте заполнял пропуски медианой для выбранной группы c помощью `transform`, а тут не додумался, что высота потолков действительно обычно зависит от этажности. Включил твой код\n",
        "Если бы была информация о годе постройки дома - можно было бы вообще очень точно восстановить, потому что потолки в сталинских и хрущевских пятиэтажках сильно отличаются. \n",
        "    \n",
        "например так:\n",
        "    `data['ceiling_height'] = data.groupby(['floors_total', 'year_construction'])['ceiling_height'].transform(lambda x: x.fillna(x.mean()))`\n",
        "    \n",
        "сработало бы?"
      ]
    },
    {
      "cell_type": "markdown",
      "metadata": {
        "id": "gZ_YMmv_-yfT"
      },
      "source": [
        "<div style=\"border:solid green 2px; padding: 20px\"> <b>Отлично V2:</b><br>\n",
        "   Да, но к сожалению имеем то, что имеем. Спасибо за правки!</div>       \n",
        "<br>"
      ]
    },
    {
      "cell_type": "markdown",
      "metadata": {
        "id": "g4zotI3rnTI2"
      },
      "source": [
        "дату первой публикации приведем в удобный формат"
      ]
    },
    {
      "cell_type": "code",
      "execution_count": null,
      "metadata": {
        "id": "WpimyE4JngQ5"
      },
      "outputs": [],
      "source": [
        "df_realt['first_day_exposition']  = pd.to_datetime(df_realt['first_day_exposition'], format='%Y-%m-%dT%H:%M:%S')"
      ]
    },
    {
      "cell_type": "markdown",
      "metadata": {
        "id": "aioHZyGZSgfE"
      },
      "source": [
        "разберемся с площадью кухни: в данных есть пропуски. Если в помещении свободная планировка, то их не нужно заполнять - площадь кухни определит будущий владелец, а если планировка фиксированная - то восстановим данные по отношению медиан площади кухни и общей площади жилья"
      ]
    },
    {
      "cell_type": "code",
      "execution_count": null,
      "metadata": {
        "colab": {
          "base_uri": "https://localhost:8080/"
        },
        "id": "XItvY3bExEN0",
        "outputId": "78bf208d-7712-445a-f3a6-ae1be33a0a81"
      },
      "outputs": [
        {
          "data": {
            "text/plain": [
              "149"
            ]
          },
          "execution_count": 18,
          "metadata": {},
          "output_type": "execute_result"
        }
      ],
      "source": [
        "df_realt['kitchen_area'] = df_realt.query('studio == False')['kitchen_area'].fillna(df_realt['total_area'] \n",
        "                                                                 * df_realt['kitchen_area'].median() \n",
        "                                                                 / df_realt['total_area'].median())\n",
        "df_realt['kitchen_area'].isna().sum()"
      ]
    },
    {
      "cell_type": "markdown",
      "metadata": {
        "id": "zDc90vRdkJ7j"
      },
      "source": [
        "Посмотрим на срок размещения объявления: \n",
        "- заполним пропуски, посчитав дни от информации в first_day_exposition. Даты снятия объявления нет, за конец размещения будем брать последнюю дату в first_day_exposition \n",
        "- переведем в целые числа (дни)\n",
        "- удалим выбросы: если объект не размещался ни одного дня, или слишком долго размещается - вероятно цена не была рыночной)\n",
        "\n",
        "~~В итоге мы сократили выборку почти наполовину, но объявления, которые висят больше полутора лет без движения - вряд-ли характеризуют рыночную цену. Все на пользу.~~\n",
        "<div class=\"alert alert-info\" style=\"border:solid blue 2px; padding: 20px\">\n",
        "Попробую максимально сохранить датафрейм, и поработать с комментариями:\n",
        "\n",
        "Чтобы сделать сводную таблицу для дня размещения вытащим из аналитической части сюда категоризацию данных о дне размещения, потом посмотрим свод по годам\n"
      ]
    },
    {
      "cell_type": "markdown",
      "metadata": {
        "id": "dRfT1nMX-yfW"
      },
      "source": [
        "<div class=\"alert alert-info\" style=\"border:solid blue 2px; padding: 20px\">\n",
        "Добавляем категории для первого дня размещения"
      ]
    },
    {
      "cell_type": "code",
      "execution_count": null,
      "metadata": {
        "id": "cXei85TO7WFV"
      },
      "outputs": [],
      "source": [
        "df_realt['weekday'] = df_realt['first_day_exposition'].dt.weekday\n",
        "df_realt['month'] = df_realt['first_day_exposition'].dt.month\n",
        "df_realt['year'] = df_realt['first_day_exposition'].dt.year "
      ]
    },
    {
      "cell_type": "markdown",
      "metadata": {
        "id": "1dIfKH6P-yfX"
      },
      "source": [
        "<div class=\"alert alert-info\" style=\"border:solid blue 2px; padding: 20px\">\n",
        "Смотрим на количество данных в размещениях по годам - в 2019-м много \"незакрытых\" объявлений. Ниже мы увидим что выборка включает только часть года"
      ]
    },
    {
      "cell_type": "code",
      "execution_count": null,
      "metadata": {
        "id": "jR5FwZqN-yfX",
        "outputId": "94e42ed6-76c0-4077-f24c-6a63c4e22003"
      },
      "outputs": [
        {
          "data": {
            "text/html": [
              "<div>\n",
              "<style scoped>\n",
              "    .dataframe tbody tr th:only-of-type {\n",
              "        vertical-align: middle;\n",
              "    }\n",
              "\n",
              "    .dataframe tbody tr th {\n",
              "        vertical-align: top;\n",
              "    }\n",
              "\n",
              "    .dataframe thead th {\n",
              "        text-align: right;\n",
              "    }\n",
              "</style>\n",
              "<table border=\"1\" class=\"dataframe\">\n",
              "  <thead>\n",
              "    <tr style=\"text-align: right;\">\n",
              "      <th></th>\n",
              "      <th>days_exposition</th>\n",
              "      <th>last_price</th>\n",
              "    </tr>\n",
              "    <tr>\n",
              "      <th>year</th>\n",
              "      <th></th>\n",
              "      <th></th>\n",
              "    </tr>\n",
              "  </thead>\n",
              "  <tbody>\n",
              "    <tr>\n",
              "      <td>2014</td>\n",
              "      <td>119</td>\n",
              "      <td>137</td>\n",
              "    </tr>\n",
              "    <tr>\n",
              "      <td>2015</td>\n",
              "      <td>1121</td>\n",
              "      <td>1191</td>\n",
              "    </tr>\n",
              "    <tr>\n",
              "      <td>2016</td>\n",
              "      <td>2716</td>\n",
              "      <td>2783</td>\n",
              "    </tr>\n",
              "    <tr>\n",
              "      <td>2017</td>\n",
              "      <td>7919</td>\n",
              "      <td>8190</td>\n",
              "    </tr>\n",
              "    <tr>\n",
              "      <td>2018</td>\n",
              "      <td>7560</td>\n",
              "      <td>8519</td>\n",
              "    </tr>\n",
              "    <tr>\n",
              "      <td>2019</td>\n",
              "      <td>1083</td>\n",
              "      <td>2879</td>\n",
              "    </tr>\n",
              "  </tbody>\n",
              "</table>\n",
              "</div>"
            ],
            "text/plain": [
              "      days_exposition  last_price\n",
              "year                             \n",
              "2014              119         137\n",
              "2015             1121        1191\n",
              "2016             2716        2783\n",
              "2017             7919        8190\n",
              "2018             7560        8519\n",
              "2019             1083        2879"
            ]
          },
          "execution_count": 20,
          "metadata": {},
          "output_type": "execute_result"
        }
      ],
      "source": [
        "df_realt.pivot_table(index=['year'], \n",
        "                              values=['days_exposition', 'last_price'], \n",
        "                              aggfunc='count')"
      ]
    },
    {
      "cell_type": "markdown",
      "metadata": {
        "id": "KFvX4jod-yfX"
      },
      "source": [
        "<div class=\"alert alert-info\" style=\"border:solid blue 2px; padding: 20px\">\n",
        "Нужны ли нам незакрытые объявления? с одной стороны они содержат информацию о рынке (по мнению продавца), с другой стороны - последняя цена по таким объявлениям может меняться, а значит оставлять их во фрейме тоже не очень честно. \n",
        "\n",
        "посчитаем количество пропусков "
      ]
    },
    {
      "cell_type": "code",
      "execution_count": null,
      "metadata": {
        "id": "u0_nFCX4-yfY",
        "outputId": "66d5b6bf-fe1f-42f2-fe45-08fc8daa6285"
      },
      "outputs": [
        {
          "data": {
            "text/plain": [
              "3181"
            ]
          },
          "execution_count": 21,
          "metadata": {},
          "output_type": "execute_result"
        }
      ],
      "source": [
        "df_realt['days_exposition'].isna().sum()"
      ]
    },
    {
      "cell_type": "markdown",
      "metadata": {
        "id": "u_vsAoK2-yfY"
      },
      "source": [
        "<div class=\"alert alert-info\" style=\"border:solid blue 2px; padding: 20px\">\n",
        "больше двух тысяч объявлений с недостоверной финальной ценой. я бы их удалил, но ты говоришь что нельзя сильно кромсать фрейм. Предположим что все эти люди в целом адекватно оценивают свою недвижимость и цену можно считать рыночной. \n",
        "\n",
        "Пропуски во времени экспозиции заполним, посчитав за время экспозиции разницу между стартом размещения и последним днем записи в датафрейм. \n",
        "    \n",
        "Статистические выбросы  тут все-же удалим. Нельзя делать выводы о цене недвижки, по объектам, которые висят почти два года без движения"
      ]
    },
    {
      "cell_type": "code",
      "execution_count": null,
      "metadata": {
        "colab": {
          "base_uri": "https://localhost:8080/",
          "height": 266
        },
        "id": "RgpeHRn4oioV",
        "outputId": "66054908-ecb5-4e1f-fd21-f0007313bf5c"
      },
      "outputs": [
        {
          "data": {
            "image/png": "[encoded data removed]",
            "text/plain": [
              "<Figure size 432x288 with 1 Axes>"
            ]
          },
          "metadata": {
            "needs_background": "light"
          },
          "output_type": "display_data"
        },
        {
          "name": "stdout",
          "output_type": "stream",
          "text": [
            "количество статистических выбросов по времени размещения: 1947\n"
          ]
        }
      ],
      "source": [
        "df_realt['days_exposition'] = df_realt['days_exposition'].fillna((df_realt['first_day_exposition'].max() \n",
        "                                                                    - df_realt['first_day_exposition']).dt.days)# заполняем пропуски в днях экспозиции\n",
        "df_realt['days_exposition'].astype('int')\n",
        "\n",
        "plt.ylim(-1, 550) \n",
        "df_realt.boxplot(column='days_exposition')\n",
        "plt.show()#определяем границы нормального размаха\n",
        "\n",
        "print('количество статистических выбросов по времени размещения:',\n",
        "     df_realt.query('days_exposition < 0 | days_exposition > 530')['last_price'].count())\n",
        "\n",
        "#df_realt = df_realt.query('days_exposition > 0 & days_exposition < 530') #удаляем выбросы"
      ]
    },
    {
      "cell_type": "code",
      "execution_count": null,
      "metadata": {
        "id": "q9R0yK_c-yfa",
        "outputId": "5652a77d-9dfc-48d0-c62a-a7ae1788e920"
      },
      "outputs": [
        {
          "data": {
            "image/png": "[encoded data removed]",
            "text/plain": [
              "<Figure size 432x288 with 1 Axes>"
            ]
          },
          "metadata": {
            "needs_background": "light"
          },
          "output_type": "display_data"
        }
      ],
      "source": [
        "df_realt.plot(y= 'days_exposition', kind= 'hist', bins= 150)\n",
        "plt.title('Распределение объявлений по продолжительности размещения')\n",
        "plt.xlabel('Дней размещения')\n",
        "plt.ylabel('Частота')\n",
        "plt.show()"
      ]
    },
    {
      "cell_type": "markdown",
      "metadata": {
        "id": "lzy0br_p-yfa"
      },
      "source": [
        "<div class=\"alert alert-info\" style=\"border:solid blue 2px; padding: 20px\">\n",
        "\n",
        "**Mission completed!**\n",
        "    \n",
        "Гистограмма по дням размещения была в аналитическом блоке, поднимем ее сюда, выше добавил сводную таблицу по годам:\n",
        "\n",
        "Чаще всего квартиры продаются в первые два-три месяца после размещения. У гистограммы длинный хвост - это выбросы, которые мы не стали убирать чтобы сохранить фрейм\n",
        "\n"
      ]
    },
    {
      "cell_type": "markdown",
      "metadata": {
        "id": "R2AYI9J4-yfb"
      },
      "source": [
        "<div style=\"border:solid green 2px; padding: 20px\"> <b>Отлично V2:</b><br>\n",
        "  Благодарю 🙂 Кстати тут на гистограмме есть несколько пиков - примерно через 50, 60 и 90 дней после начала продажи. Возможно, это связанно с автоматическим снятием объявления с продажи.</div>       \n",
        "<br>"
      ]
    },
    {
      "cell_type": "markdown",
      "metadata": {
        "id": "w5ZNOEZ6HwjI"
      },
      "source": [
        "Посчитаем пропущенные данные  о количестве водоемов рядом. Если расстояние до воды меньше 3 км, поставим единицу в пропуске. Если больше - 0. То же сделаем для парков. "
      ]
    },
    {
      "cell_type": "code",
      "execution_count": null,
      "metadata": {
        "colab": {
          "base_uri": "https://localhost:8080/"
        },
        "id": "HkbgwkpXCcAZ",
        "outputId": "ed51f9e4-6f37-481e-b6e8-e20dae4e1384"
      },
      "outputs": [
        {
          "data": {
            "text/plain": [
              "total_images                0\n",
              "last_price                  0\n",
              "total_area                  0\n",
              "first_day_exposition        0\n",
              "rooms                       0\n",
              "ceiling_height             78\n",
              "floors_total               86\n",
              "living_area                 0\n",
              "floor                       0\n",
              "is_apartment                0\n",
              "studio                      0\n",
              "open_plan                   0\n",
              "kitchen_area              149\n",
              "balcony                     0\n",
              "locality_name              49\n",
              "airports_nearest         5542\n",
              "cityCenters_nearest      5519\n",
              "parks_around3000            0\n",
              "parks_nearest           15620\n",
              "ponds_around3000            0\n",
              "ponds_nearest           14589\n",
              "days_exposition             0\n",
              "weekday                     0\n",
              "month                       0\n",
              "year                        0\n",
              "dtype: int64"
            ]
          },
          "execution_count": 24,
          "metadata": {},
          "output_type": "execute_result"
        }
      ],
      "source": [
        "def ponds_dist(row):  \n",
        "  dist = row['ponds_nearest']\n",
        "  ponds = row['ponds_around3000']\n",
        "  if dist < 3000:\n",
        "    if ponds not in [ 1., 2., 3.]:\n",
        "      return 1 #если расстояние ближе 3 км, и нет информации о количестве\n",
        "    else: #если расстояние ближе 3 км, и указано количество \n",
        "      return ponds\n",
        "  else:\n",
        "    return 0 # если расстояние больше 3000 м\n",
        "\n",
        "def parks_dist(row):\n",
        "  dist = row['parks_nearest']\n",
        "  parks = row['parks_around3000']\n",
        "  if dist < 3000:\n",
        "    if parks not in [ 1., 2., 3.]:\n",
        "      return 1\n",
        "    else:\n",
        "      return parks\n",
        "  else:\n",
        "    return 0\n",
        "    \n",
        "df_realt['ponds_around3000'] = df_realt.apply(ponds_dist, axis= 1)\n",
        "df_realt['parks_around3000'] = df_realt.apply(parks_dist, axis= 1)\n",
        "df_realt.isna().sum()"
      ]
    },
    {
      "cell_type": "markdown",
      "metadata": {
        "id": "UjEXoFPwkj6s"
      },
      "source": [
        "C пропусками закончили. Остались незаполняемые пропуски в машинных данных и пропуски в площади кухни, для объектов со свободной планировкой. \n",
        "\n",
        "~~Оставим в выборке статистически значимые объекты с ценой от 120 тыс. до 10,5 млн. руб. Фрейм лишится еще 729 строк. ~~\n",
        "<div class=\"alert alert-info\" style=\"border:solid blue 2px; padding: 20px\">\n",
        "    \n",
        "Не будем убирать стат. выбросы, просто посчитаем их\n"
      ]
    },
    {
      "cell_type": "code",
      "execution_count": null,
      "metadata": {
        "colab": {
          "base_uri": "https://localhost:8080/",
          "height": 294
        },
        "id": "PrkEX5v_1piN",
        "outputId": "042662b9-a0f5-48a7-dba1-27b7190ff681"
      },
      "outputs": [
        {
          "data": {
            "image/png": "[encoded data removed]",
            "text/plain": [
              "<Figure size 432x288 with 1 Axes>"
            ]
          },
          "metadata": {
            "needs_background": "light"
          },
          "output_type": "display_data"
        },
        {
          "name": "stdout",
          "output_type": "stream",
          "text": [
            "2525\n"
          ]
        }
      ],
      "source": [
        "plt.ylim(-1000000, 13000000)\n",
        "df_realt.boxplot(column='last_price')\n",
        "plt.show()\n",
        "print(df_realt.query('last_price > 10500000 | last_price < 120000')['last_price'].count())\n",
        "#df_realt = df_realt.query('last_price <= 10500000 | last_price >= 120000')"
      ]
    },
    {
      "cell_type": "markdown",
      "metadata": {
        "id": "nejvfjZO5NJR"
      },
      "source": [
        "~~И уберем статвыбросы из данных о количестве комнат, оставив статистически значимые объекты от 1 до 4. Лишних строк оказалось всего семь~~\n",
        "<div class=\"alert alert-info\" style=\"border:solid blue 2px; padding: 20px\">\n",
        "И тут тоже посчитаем, но чистить не будем\n",
        "    "
      ]
    },
    {
      "cell_type": "code",
      "execution_count": null,
      "metadata": {
        "colab": {
          "base_uri": "https://localhost:8080/",
          "height": 286
        },
        "id": "tC5BvzD6b9qZ",
        "outputId": "4a63db91-7ddc-471f-efc9-c5a0c7de0f13"
      },
      "outputs": [
        {
          "data": {
            "image/png": "[encoded data removed]",
            "text/plain": [
              "<Figure size 432x288 with 1 Axes>"
            ]
          },
          "metadata": {
            "needs_background": "light"
          },
          "output_type": "display_data"
        },
        {
          "name": "stdout",
          "output_type": "stream",
          "text": [
            "718\n"
          ]
        }
      ],
      "source": [
        "plt.ylim(-1, 5)\n",
        "df_realt.boxplot(column='rooms')\n",
        "plt.show()\n",
        "print(df_realt.query('rooms > 4 | rooms < 1')['last_price'].count())\n",
        "#df_realt = df_realt.query('rooms <= 4 | rooms >= 1')"
      ]
    },
    {
      "cell_type": "markdown",
      "metadata": {
        "id": "vOX2h8Aq1wjo"
      },
      "source": [
        "Приведем к целым числам информацию о количестве балконов, прудов, парков, этажей и дней размещения. "
      ]
    },
    {
      "cell_type": "code",
      "execution_count": null,
      "metadata": {
        "id": "OVZeTejR0-Rf"
      },
      "outputs": [],
      "source": [
        "df_realt['floor'] = df_realt['floor'].astype('int')\n",
        "df_realt['balcony'] = df_realt['balcony'].astype('int')\n",
        "df_realt['parks_around3000'] = df_realt['parks_around3000'].astype('int')\n",
        "df_realt['ponds_around3000'] = df_realt['ponds_around3000'].astype('int')\n",
        "df_realt['days_exposition'] = df_realt['days_exposition'].astype('int')"
      ]
    },
    {
      "cell_type": "markdown",
      "metadata": {
        "id": "mORpNafx-yfe"
      },
      "source": [
        "<div class=\"alert alert-info\" style=\"border:solid blue 2px; padding: 20px\"> \n",
        "И оптимизируем разрядность числовых данных в нашем фрейме"
      ]
    },
    {
      "cell_type": "code",
      "execution_count": null,
      "metadata": {
        "id": "RP74VsEA-yff"
      },
      "outputs": [],
      "source": [
        "df_float = df_realt.select_dtypes(include=['float']) # выбираем данные с плавающей точкой\n",
        "df_float = df_float.apply(pd.to_numeric,downcast='float') # и понижаем их разрядность до приемлемой\n",
        "\n",
        "df_int = df_realt.select_dtypes(include=['int']) # то же для цельночисленных\n",
        "df_int = df_int.apply(pd.to_numeric,downcast='unsigned')"
      ]
    },
    {
      "cell_type": "code",
      "execution_count": null,
      "metadata": {
        "id": "Dh4ynBrN-yfg",
        "outputId": "b7f0e4d4-bd7e-401b-d36b-a957e11ad81e"
      },
      "outputs": [
        {
          "name": "stdout",
          "output_type": "stream",
          "text": [
            "<class 'pandas.core.frame.DataFrame'>\n",
            "RangeIndex: 23699 entries, 0 to 23698\n",
            "Data columns (total 25 columns):\n",
            "total_images            23699 non-null uint8\n",
            "last_price              23699 non-null float32\n",
            "total_area              23699 non-null float32\n",
            "first_day_exposition    23699 non-null datetime64[ns]\n",
            "rooms                   23699 non-null uint8\n",
            "ceiling_height          23621 non-null float32\n",
            "floors_total            23613 non-null float32\n",
            "living_area             23699 non-null float32\n",
            "floor                   23699 non-null uint8\n",
            "is_apartment            23699 non-null bool\n",
            "studio                  23699 non-null bool\n",
            "open_plan               23699 non-null bool\n",
            "kitchen_area            23550 non-null float32\n",
            "balcony                 23699 non-null uint8\n",
            "locality_name           23650 non-null object\n",
            "airports_nearest        18157 non-null float32\n",
            "cityCenters_nearest     18180 non-null float32\n",
            "parks_around3000        23699 non-null uint8\n",
            "parks_nearest           8079 non-null float32\n",
            "ponds_around3000        23699 non-null uint8\n",
            "ponds_nearest           9110 non-null float32\n",
            "days_exposition         23699 non-null uint16\n",
            "weekday                 23699 non-null uint8\n",
            "month                   23699 non-null uint8\n",
            "year                    23699 non-null uint16\n",
            "dtypes: bool(3), datetime64[ns](1), float32(10), object(1), uint16(2), uint8(8)\n",
            "memory usage: 1.6+ MB\n"
          ]
        }
      ],
      "source": [
        "df_realt[df_int.columns] = df_int # меняем в исходном фрейме данные на оптимизированные\n",
        "df_realt[df_float.columns] = df_float\n",
        "df_realt.info()"
      ]
    },
    {
      "cell_type": "markdown",
      "metadata": {
        "id": "DRS9n5Hf-yfh"
      },
      "source": [
        "<div style=\"border:solid green 2px; padding: 20px\"> <b>Отлично:</b><br>\n",
        "    Отлично, перевели данные в нужный тип.</div>       "
      ]
    },
    {
      "cell_type": "markdown",
      "metadata": {
        "id": "B3_lkxuL-yfi"
      },
      "source": [
        "<div class=\"alert alert-info\" style=\"border:solid blue 2px; padding: 20px\"> \n",
        "ОК, удалил только самые критичные на мой взгляд выбросы - во времени размещения. т.к. нам интересны объекты которые продаются, а те которые аномально долго висят без движения - как раз  \n",
        "    \n",
        "**не продаются**. "
      ]
    },
    {
      "cell_type": "code",
      "execution_count": null,
      "metadata": {
        "id": "xeVbAawt-yfj",
        "outputId": "1043e199-1d08-42b3-8ab5-190278f88c09"
      },
      "outputs": [
        {
          "name": "stdout",
          "output_type": "stream",
          "text": [
            "Мы удалили 890 выбросов\n"
          ]
        }
      ],
      "source": [
        "data_filtered = df_realt.query('last_price > 100000 \\\n",
        "                                and last_price < 20000000 \\\n",
        "                                and ceiling_height > 1.5 \\\n",
        "                                and ceiling_height < 4 \\\n",
        "                                and total_area <= 400')\n",
        "print('Мы удалили', df_realt['last_price'].count() - data_filtered['last_price'].count(), 'выбросов')\n",
        "df_realt = data_filtered"
      ]
    },
    {
      "cell_type": "markdown",
      "metadata": {
        "id": "cMV4v5XGBCe0"
      },
      "source": [
        "# Вывод по итогам предобработки:\n",
        "В исходном датафрейме содержалось много объектов, составляющих статистические выбросы по цене, площади, количеству комнат или высоте потолков. Поскольку мы готовим инструмент, позволяющий оценивать недвижимость по рыночным критериям, строками с выбросами пришлось пожертвовать, из-за чего фрейм сократился почти вдвое. \n",
        "\n",
        "Объекты из 19 комнат, с ценой более 15 млн., стометровыми потолками или сроком размещения больше двух лет- вероятно действительно существует, и их множество, но спрос на них ограничен и может сильно отличаться от статистически достоверной выборки. \n",
        "\n",
        "Технические ошибки, например незаполненные данные по количеству балконов, прудов и парков, а так же пропуски в информации о высоте потолков и площади кухни (если планировка не свободная) - были заполнены. \n",
        "В части данных пропуски не мешают дальнейшему анализу (геоданные, пропуски площади кухни в студиях), поэтому они оставлены во фрейме"
      ]
    },
    {
      "cell_type": "markdown",
      "metadata": {
        "id": "jSEl6JpfvhWl"
      },
      "source": [
        "## Расчёты и добавление результатов в таблицу"
      ]
    },
    {
      "cell_type": "markdown",
      "metadata": {
        "id": "BUl_OVyWyvsJ"
      },
      "source": [
        "Добавим для каждого объекта цену за квадратный метр"
      ]
    },
    {
      "cell_type": "code",
      "execution_count": null,
      "metadata": {
        "id": "yQctbqdoyupU",
        "outputId": "42f86dec-a6bf-44f9-8234-2c082c6b2784"
      },
      "outputs": [
        {
          "name": "stderr",
          "output_type": "stream",
          "text": [
            "/opt/conda/lib/python3.7/site-packages/ipykernel_launcher.py:1: SettingWithCopyWarning: \n",
            "A value is trying to be set on a copy of a slice from a DataFrame.\n",
            "Try using .loc[row_indexer,col_indexer] = value instead\n",
            "\n",
            "See the caveats in the documentation: http://pandas.pydata.org/pandas-docs/stable/user_guide/indexing.html#returning-a-view-versus-a-copy\n",
            "  \"\"\"Entry point for launching an IPython kernel.\n"
          ]
        }
      ],
      "source": [
        "df_realt['unit_price'] = df_realt['last_price'] / df_realt['total_area']"
      ]
    },
    {
      "cell_type": "markdown",
      "metadata": {
        "id": "eeLKrKBY5Vtz"
      },
      "source": [
        "Добавим  день недели, месяц и год публикации объявления "
      ]
    },
    {
      "cell_type": "markdown",
      "metadata": {
        "id": "GBCXm99B5hip"
      },
      "source": [
        "Сгруппируем данные по этажам"
      ]
    },
    {
      "cell_type": "code",
      "execution_count": null,
      "metadata": {
        "colab": {
          "base_uri": "https://localhost:8080/"
        },
        "id": "kWzoiE5XuwII",
        "outputId": "fdfa4e34-152d-4337-b1a1-b4ea197104e4"
      },
      "outputs": [
        {
          "name": "stderr",
          "output_type": "stream",
          "text": [
            "/opt/conda/lib/python3.7/site-packages/ipykernel_launcher.py:1: SettingWithCopyWarning: \n",
            "A value is trying to be set on a copy of a slice from a DataFrame.\n",
            "Try using .loc[row_indexer,col_indexer] = value instead\n",
            "\n",
            "See the caveats in the documentation: http://pandas.pydata.org/pandas-docs/stable/user_guide/indexing.html#returning-a-view-versus-a-copy\n",
            "  \"\"\"Entry point for launching an IPython kernel.\n",
            "/opt/conda/lib/python3.7/site-packages/ipykernel_launcher.py:12: SettingWithCopyWarning: \n",
            "A value is trying to be set on a copy of a slice from a DataFrame.\n",
            "Try using .loc[row_indexer,col_indexer] = value instead\n",
            "\n",
            "See the caveats in the documentation: http://pandas.pydata.org/pandas-docs/stable/user_guide/indexing.html#returning-a-view-versus-a-copy\n",
            "  if sys.path[0] == '':\n"
          ]
        },
        {
          "data": {
            "text/plain": [
              "array(['другой', 'первый', 'последний'], dtype=object)"
            ]
          },
          "execution_count": 32,
          "metadata": {},
          "output_type": "execute_result"
        }
      ],
      "source": [
        "df_realt['floors_group'] = ''\n",
        "def floors_sort(row): #функция принимает строку и возвращает одну из трех групп- первый (0), последний (2), другой (1)\n",
        "  floors_total = row['floors_total']\n",
        "  floor = row['floor']\n",
        "  if floor == 1:\n",
        "    return 'первый'\n",
        "  elif (floors_total - floor) == 0:\n",
        "    return 'последний'\n",
        "  else:\n",
        "    return 'другой'\n",
        "\n",
        "df_realt['floors_group'] = df_realt.apply(floors_sort, axis= 1)\n",
        "df_realt['floors_group'].unique()"
      ]
    },
    {
      "cell_type": "markdown",
      "metadata": {
        "id": "3ddvd91z7K_n"
      },
      "source": [
        "Добавим  для каждого объекта соотношение жилой и общей площади, а также отношение площади кухни к общей\n"
      ]
    },
    {
      "cell_type": "code",
      "execution_count": null,
      "metadata": {
        "id": "h6dxObuetkpv",
        "outputId": "9933dcf0-9a39-44b1-b890-c02448aa628a"
      },
      "outputs": [
        {
          "name": "stderr",
          "output_type": "stream",
          "text": [
            "/opt/conda/lib/python3.7/site-packages/ipykernel_launcher.py:1: SettingWithCopyWarning: \n",
            "A value is trying to be set on a copy of a slice from a DataFrame.\n",
            "Try using .loc[row_indexer,col_indexer] = value instead\n",
            "\n",
            "See the caveats in the documentation: http://pandas.pydata.org/pandas-docs/stable/user_guide/indexing.html#returning-a-view-versus-a-copy\n",
            "  \"\"\"Entry point for launching an IPython kernel.\n",
            "/opt/conda/lib/python3.7/site-packages/ipykernel_launcher.py:2: SettingWithCopyWarning: \n",
            "A value is trying to be set on a copy of a slice from a DataFrame.\n",
            "Try using .loc[row_indexer,col_indexer] = value instead\n",
            "\n",
            "See the caveats in the documentation: http://pandas.pydata.org/pandas-docs/stable/user_guide/indexing.html#returning-a-view-versus-a-copy\n",
            "  \n"
          ]
        }
      ],
      "source": [
        "df_realt['ratio_living'] = df_realt['living_area'] / df_realt['total_area']\n",
        "df_realt['ratio_kitchen'] = df_realt['kitchen_area'] / df_realt['total_area']"
      ]
    },
    {
      "cell_type": "markdown",
      "metadata": {
        "id": "OuiocGhEFjKA"
      },
      "source": [
        "# Вывод:\n",
        "мы добавили данные, которые упростят дальнейший анализ:\n",
        "- определили цену квадратного метра\n",
        "- сгруппировали информацию по этажам\n",
        "- добавили информацию по месяцам, дням и годам"
      ]
    },
    {
      "cell_type": "markdown",
      "metadata": {
        "id": "GHuc4X2e-yfn"
      },
      "source": [
        "<div style=\"border:solid green 2px; padding: 20px\"> <b>Отлично:</b><br>\n",
        "  Отлично, произвели расчеты и  провели категоризацию по этажам. </div"
      ]
    },
    {
      "cell_type": "markdown",
      "metadata": {
        "id": "62TJC94avhWn"
      },
      "source": [
        "## Исследовательский анализ данных"
      ]
    },
    {
      "cell_type": "markdown",
      "metadata": {
        "id": "YQZ_jXc-FS6b"
      },
      "source": [
        "Выделим в отдельный фрейм данные, которые помогут нам выявить зависимости. Ключевой параметр оценки недвижимости - цена за квадратный метр. Именно по ней можно сравнивать схожие объекты. \n",
        "\n",
        "Выясним как влияют на цену метра: площадь, количество комнат, высота потолков, этаж, удаленность от центра, наличие парков и водоемов рядом, доля площади кухни.  Чтобы оценить взаимную зависимость параметров, построим матрицу гистограмм и посчитаем коэффициенты корреляции"
      ]
    },
    {
      "cell_type": "code",
      "execution_count": null,
      "metadata": {
        "colab": {
          "base_uri": "https://localhost:8080/",
          "height": 1000
        },
        "id": "QjnwGALOvhWo",
        "outputId": "992aaa3d-6de7-49b1-f867-39052ddc19b0",
        "scrolled": false
      },
      "outputs": [
        {
          "data": {
            "image/png": "[encoded data removed]",
            "text/plain": [
              "<Figure size 1080x1080 with 64 Axes>"
            ]
          },
          "metadata": {
            "needs_background": "light"
          },
          "output_type": "display_data"
        }
      ],
      "source": [
        "main_realt = df_realt[['unit_price', 'total_area', 'ratio_kitchen', 'rooms', 'ceiling_height', 'floors_group', 'cityCenters_nearest', 'ponds_around3000', 'parks_around3000']]\n",
        "pd.plotting.scatter_matrix(main_realt, figsize=(15, 15)) \n",
        "plt.suptitle('матрица корреляции параметров недвижимости', size=20)\n",
        "plt.show()"
      ]
    },
    {
      "cell_type": "markdown",
      "metadata": {
        "id": "VzEy03GM-yfp"
      },
      "source": [
        "<div class=\"alert alert-info\" style=\"border:solid blue 2px; padding: 20px\"> \n",
        "Спасибо, стало удобнее"
      ]
    },
    {
      "cell_type": "code",
      "execution_count": null,
      "metadata": {
        "colab": {
          "base_uri": "https://localhost:8080/",
          "height": 300
        },
        "id": "mGbUoZhsWhBx",
        "outputId": "760350a2-4cf2-4b80-a081-bd54955d9f56"
      },
      "outputs": [
        {
          "data": {
            "text/html": [
              "<div>\n",
              "<style scoped>\n",
              "    .dataframe tbody tr th:only-of-type {\n",
              "        vertical-align: middle;\n",
              "    }\n",
              "\n",
              "    .dataframe tbody tr th {\n",
              "        vertical-align: top;\n",
              "    }\n",
              "\n",
              "    .dataframe thead th {\n",
              "        text-align: right;\n",
              "    }\n",
              "</style>\n",
              "<table border=\"1\" class=\"dataframe\">\n",
              "  <thead>\n",
              "    <tr style=\"text-align: right;\">\n",
              "      <th></th>\n",
              "      <th>unit_price</th>\n",
              "      <th>total_area</th>\n",
              "      <th>ratio_kitchen</th>\n",
              "      <th>rooms</th>\n",
              "      <th>ceiling_height</th>\n",
              "      <th>cityCenters_nearest</th>\n",
              "      <th>ponds_around3000</th>\n",
              "      <th>parks_around3000</th>\n",
              "    </tr>\n",
              "  </thead>\n",
              "  <tbody>\n",
              "    <tr>\n",
              "      <td>unit_price</td>\n",
              "      <td>1.000000</td>\n",
              "      <td>0.050692</td>\n",
              "      <td>0.253747</td>\n",
              "      <td>-0.131016</td>\n",
              "      <td>0.267942</td>\n",
              "      <td>-0.388483</td>\n",
              "      <td>0.296868</td>\n",
              "      <td>0.280459</td>\n",
              "    </tr>\n",
              "    <tr>\n",
              "      <td>total_area</td>\n",
              "      <td>0.050692</td>\n",
              "      <td>1.000000</td>\n",
              "      <td>-0.348573</td>\n",
              "      <td>0.797985</td>\n",
              "      <td>0.356761</td>\n",
              "      <td>-0.194944</td>\n",
              "      <td>0.161855</td>\n",
              "      <td>0.151116</td>\n",
              "    </tr>\n",
              "    <tr>\n",
              "      <td>ratio_kitchen</td>\n",
              "      <td>0.253747</td>\n",
              "      <td>-0.348573</td>\n",
              "      <td>1.000000</td>\n",
              "      <td>-0.586907</td>\n",
              "      <td>0.053379</td>\n",
              "      <td>0.008655</td>\n",
              "      <td>-0.005422</td>\n",
              "      <td>-0.072307</td>\n",
              "    </tr>\n",
              "    <tr>\n",
              "      <td>rooms</td>\n",
              "      <td>-0.131016</td>\n",
              "      <td>0.797985</td>\n",
              "      <td>-0.586907</td>\n",
              "      <td>1.000000</td>\n",
              "      <td>0.165076</td>\n",
              "      <td>-0.141985</td>\n",
              "      <td>0.083124</td>\n",
              "      <td>0.115978</td>\n",
              "    </tr>\n",
              "    <tr>\n",
              "      <td>ceiling_height</td>\n",
              "      <td>0.267942</td>\n",
              "      <td>0.356761</td>\n",
              "      <td>0.053379</td>\n",
              "      <td>0.165076</td>\n",
              "      <td>1.000000</td>\n",
              "      <td>-0.283011</td>\n",
              "      <td>0.210953</td>\n",
              "      <td>0.216329</td>\n",
              "    </tr>\n",
              "    <tr>\n",
              "      <td>cityCenters_nearest</td>\n",
              "      <td>-0.388483</td>\n",
              "      <td>-0.194944</td>\n",
              "      <td>0.008655</td>\n",
              "      <td>-0.141985</td>\n",
              "      <td>-0.283011</td>\n",
              "      <td>1.000000</td>\n",
              "      <td>-0.044241</td>\n",
              "      <td>-0.136709</td>\n",
              "    </tr>\n",
              "    <tr>\n",
              "      <td>ponds_around3000</td>\n",
              "      <td>0.296868</td>\n",
              "      <td>0.161855</td>\n",
              "      <td>-0.005422</td>\n",
              "      <td>0.083124</td>\n",
              "      <td>0.210953</td>\n",
              "      <td>-0.044241</td>\n",
              "      <td>1.000000</td>\n",
              "      <td>0.381974</td>\n",
              "    </tr>\n",
              "    <tr>\n",
              "      <td>parks_around3000</td>\n",
              "      <td>0.280459</td>\n",
              "      <td>0.151116</td>\n",
              "      <td>-0.072307</td>\n",
              "      <td>0.115978</td>\n",
              "      <td>0.216329</td>\n",
              "      <td>-0.136709</td>\n",
              "      <td>0.381974</td>\n",
              "      <td>1.000000</td>\n",
              "    </tr>\n",
              "  </tbody>\n",
              "</table>\n",
              "</div>"
            ],
            "text/plain": [
              "                     unit_price  total_area  ratio_kitchen     rooms  \\\n",
              "unit_price             1.000000    0.050692       0.253747 -0.131016   \n",
              "total_area             0.050692    1.000000      -0.348573  0.797985   \n",
              "ratio_kitchen          0.253747   -0.348573       1.000000 -0.586907   \n",
              "rooms                 -0.131016    0.797985      -0.586907  1.000000   \n",
              "ceiling_height         0.267942    0.356761       0.053379  0.165076   \n",
              "cityCenters_nearest   -0.388483   -0.194944       0.008655 -0.141985   \n",
              "ponds_around3000       0.296868    0.161855      -0.005422  0.083124   \n",
              "parks_around3000       0.280459    0.151116      -0.072307  0.115978   \n",
              "\n",
              "                     ceiling_height  cityCenters_nearest  ponds_around3000  \\\n",
              "unit_price                 0.267942            -0.388483          0.296868   \n",
              "total_area                 0.356761            -0.194944          0.161855   \n",
              "ratio_kitchen              0.053379             0.008655         -0.005422   \n",
              "rooms                      0.165076            -0.141985          0.083124   \n",
              "ceiling_height             1.000000            -0.283011          0.210953   \n",
              "cityCenters_nearest       -0.283011             1.000000         -0.044241   \n",
              "ponds_around3000           0.210953            -0.044241          1.000000   \n",
              "parks_around3000           0.216329            -0.136709          0.381974   \n",
              "\n",
              "                     parks_around3000  \n",
              "unit_price                   0.280459  \n",
              "total_area                   0.151116  \n",
              "ratio_kitchen               -0.072307  \n",
              "rooms                        0.115978  \n",
              "ceiling_height               0.216329  \n",
              "cityCenters_nearest         -0.136709  \n",
              "ponds_around3000             0.381974  \n",
              "parks_around3000             1.000000  "
            ]
          },
          "execution_count": 35,
          "metadata": {},
          "output_type": "execute_result"
        }
      ],
      "source": [
        "main_realt.corr()"
      ]
    },
    {
      "cell_type": "code",
      "execution_count": null,
      "metadata": {
        "colab": {
          "base_uri": "https://localhost:8080/",
          "height": 300
        },
        "id": "NwSqQvUnLi-F",
        "outputId": "f1b400b6-8e06-4009-97d3-5745b43d9bf1"
      },
      "outputs": [
        {
          "data": {
            "text/html": [
              "<div>\n",
              "<style scoped>\n",
              "    .dataframe tbody tr th:only-of-type {\n",
              "        vertical-align: middle;\n",
              "    }\n",
              "\n",
              "    .dataframe tbody tr th {\n",
              "        vertical-align: top;\n",
              "    }\n",
              "\n",
              "    .dataframe thead th {\n",
              "        text-align: right;\n",
              "    }\n",
              "</style>\n",
              "<table border=\"1\" class=\"dataframe\">\n",
              "  <thead>\n",
              "    <tr style=\"text-align: right;\">\n",
              "      <th></th>\n",
              "      <th>unit_price</th>\n",
              "      <th>total_area</th>\n",
              "      <th>ratio_kitchen</th>\n",
              "      <th>rooms</th>\n",
              "      <th>ceiling_height</th>\n",
              "      <th>cityCenters_nearest</th>\n",
              "      <th>ponds_around3000</th>\n",
              "      <th>parks_around3000</th>\n",
              "    </tr>\n",
              "  </thead>\n",
              "  <tbody>\n",
              "    <tr>\n",
              "      <td>count</td>\n",
              "      <td>22809.000000</td>\n",
              "      <td>22809.000000</td>\n",
              "      <td>22664.000000</td>\n",
              "      <td>22809.000000</td>\n",
              "      <td>22809.000000</td>\n",
              "      <td>17334.000000</td>\n",
              "      <td>22809.000000</td>\n",
              "      <td>22809.000000</td>\n",
              "    </tr>\n",
              "    <tr>\n",
              "      <td>mean</td>\n",
              "      <td>94702.851562</td>\n",
              "      <td>56.613895</td>\n",
              "      <td>0.187040</td>\n",
              "      <td>2.008768</td>\n",
              "      <td>2.692649</td>\n",
              "      <td>14516.354492</td>\n",
              "      <td>0.561489</td>\n",
              "      <td>0.443334</td>\n",
              "    </tr>\n",
              "    <tr>\n",
              "      <td>std</td>\n",
              "      <td>32454.347656</td>\n",
              "      <td>24.556509</td>\n",
              "      <td>0.068902</td>\n",
              "      <td>0.984451</td>\n",
              "      <td>0.203005</td>\n",
              "      <td>8568.840820</td>\n",
              "      <td>0.858704</td>\n",
              "      <td>0.723988</td>\n",
              "    </tr>\n",
              "    <tr>\n",
              "      <td>min</td>\n",
              "      <td>7962.962891</td>\n",
              "      <td>12.000000</td>\n",
              "      <td>0.042810</td>\n",
              "      <td>0.000000</td>\n",
              "      <td>1.750000</td>\n",
              "      <td>208.000000</td>\n",
              "      <td>0.000000</td>\n",
              "      <td>0.000000</td>\n",
              "    </tr>\n",
              "    <tr>\n",
              "      <td>25%</td>\n",
              "      <td>75757.578125</td>\n",
              "      <td>40.000000</td>\n",
              "      <td>0.137931</td>\n",
              "      <td>1.000000</td>\n",
              "      <td>2.550000</td>\n",
              "      <td>9857.000000</td>\n",
              "      <td>0.000000</td>\n",
              "      <td>0.000000</td>\n",
              "    </tr>\n",
              "    <tr>\n",
              "      <td>50%</td>\n",
              "      <td>93997.734375</td>\n",
              "      <td>51.000000</td>\n",
              "      <td>0.175000</td>\n",
              "      <td>2.000000</td>\n",
              "      <td>2.650000</td>\n",
              "      <td>13285.000000</td>\n",
              "      <td>0.000000</td>\n",
              "      <td>0.000000</td>\n",
              "    </tr>\n",
              "    <tr>\n",
              "      <td>75%</td>\n",
              "      <td>111989.460938</td>\n",
              "      <td>67.000000</td>\n",
              "      <td>0.225504</td>\n",
              "      <td>3.000000</td>\n",
              "      <td>2.750000</td>\n",
              "      <td>16464.000000</td>\n",
              "      <td>1.000000</td>\n",
              "      <td>1.000000</td>\n",
              "    </tr>\n",
              "    <tr>\n",
              "      <td>max</td>\n",
              "      <td>392354.125000</td>\n",
              "      <td>320.000000</td>\n",
              "      <td>0.787879</td>\n",
              "      <td>11.000000</td>\n",
              "      <td>3.980000</td>\n",
              "      <td>65968.000000</td>\n",
              "      <td>3.000000</td>\n",
              "      <td>3.000000</td>\n",
              "    </tr>\n",
              "  </tbody>\n",
              "</table>\n",
              "</div>"
            ],
            "text/plain": [
              "          unit_price    total_area  ratio_kitchen         rooms  \\\n",
              "count   22809.000000  22809.000000   22664.000000  22809.000000   \n",
              "mean    94702.851562     56.613895       0.187040      2.008768   \n",
              "std     32454.347656     24.556509       0.068902      0.984451   \n",
              "min      7962.962891     12.000000       0.042810      0.000000   \n",
              "25%     75757.578125     40.000000       0.137931      1.000000   \n",
              "50%     93997.734375     51.000000       0.175000      2.000000   \n",
              "75%    111989.460938     67.000000       0.225504      3.000000   \n",
              "max    392354.125000    320.000000       0.787879     11.000000   \n",
              "\n",
              "       ceiling_height  cityCenters_nearest  ponds_around3000  parks_around3000  \n",
              "count    22809.000000         17334.000000      22809.000000      22809.000000  \n",
              "mean         2.692649         14516.354492          0.561489          0.443334  \n",
              "std          0.203005          8568.840820          0.858704          0.723988  \n",
              "min          1.750000           208.000000          0.000000          0.000000  \n",
              "25%          2.550000          9857.000000          0.000000          0.000000  \n",
              "50%          2.650000         13285.000000          0.000000          0.000000  \n",
              "75%          2.750000         16464.000000          1.000000          1.000000  \n",
              "max          3.980000         65968.000000          3.000000          3.000000  "
            ]
          },
          "execution_count": 36,
          "metadata": {},
          "output_type": "execute_result"
        }
      ],
      "source": [
        "main_realt.describe()"
      ]
    },
    {
      "cell_type": "markdown",
      "metadata": {
        "id": "lAttL5qUWtFL"
      },
      "source": [
        "**По ключевым параметрам можно выделить следующие закономерности:**\n",
        "\n",
        "1. Цена за квадратный метр почти не зависит от общей площади недвижимости, а вот с ростом относительной площади кухни (доли кухни) - цена за метр меняется - чем больше кухня, тем дороже цена, правда это актуально для доли кухни в диапазоне 0,2-0,4 от общей площади. Площадь большинства объектов от 40 до 65 кв. метров.  \n",
        "\n",
        "Неожиданная закономерность: чем ближе к центру, тем больше вариативность площади объектов\n",
        "\n",
        "\n",
        "2. Трехметровые потолки ценятся заметно выше, но большинство объектов с потолками 2,6-2,7м. \n",
        "\n",
        "3. Расстояние до центра влияет на цену особым образом: ~~корреляция довольно высокая, 0,38~~. \n",
        "<div class=\"alert alert-info\" style=\"border:solid blue 2px; padding: 20px\"> \n",
        "    Цена за метр больше всего коррелирует с удаленностью от центра, хотя в целом корреляция цены с числовыми параметрами слабая или очень слабая.\n",
        "    \n",
        "Но при этом видно, что в зоне 0-20 км зависимость гораздо выше, а для более удаленных объектов растояние до центра становится менее значимым фактором. Есть смысл изучить подробнее. \n",
        "\n",
        "4. Наличие парка или водоема рядом положительно влияют на цену за метр, а вот их количество не имеет особого значения. \n",
        "\n",
        "5. Двушки - самый популярный сегмент, тут можно встретить и самую низкую, и самую высокую цену за метр. \n",
        "\n",
        "Минимальная цена на свободную планировку выше, чем на разделенные на комнаты объекты (правда возможно, что это влияние других факторов, например года постройки, по которому у нас нет данных)\n",
        "\n",
        "\n"
      ]
    },
    {
      "cell_type": "markdown",
      "metadata": {
        "id": "MeBUlrl9tvXH"
      },
      "source": [
        "Кроме цены за метр недвижимость стоит сравнивать так же по ликвидности. Выясним, какие объекты продаются быстрее. "
      ]
    },
    {
      "cell_type": "code",
      "execution_count": null,
      "metadata": {
        "colab": {
          "base_uri": "https://localhost:8080/",
          "height": 282
        },
        "id": "bjMtsA5PFJZZ",
        "outputId": "0e07e4af-5a0d-435d-a379-f51c69a5c52c"
      },
      "outputs": [
        {
          "data": {
            "image/png": "[encoded data removed]",
            "text/plain": [
              "<Figure size 432x288 with 1 Axes>"
            ]
          },
          "metadata": {
            "needs_background": "light"
          },
          "output_type": "display_data"
        }
      ],
      "source": [
        "df_realt.plot(y= 'days_exposition', kind= 'hist', bins= 150)\n",
        "plt.title('Распределение объявлений по продолжительности размещения')\n",
        "plt.xlabel('Дней размещения')\n",
        "plt.ylabel('Частота')\n",
        "plt.show()"
      ]
    },
    {
      "cell_type": "code",
      "execution_count": null,
      "metadata": {
        "colab": {
          "base_uri": "https://localhost:8080/"
        },
        "id": "0jWQ8r3t1m_5",
        "outputId": "e8de4748-1a33-44c9-d2a4-d08a19ade976"
      },
      "outputs": [
        {
          "data": {
            "text/plain": [
              "count    22809.000000\n",
              "mean       181.246394\n",
              "std        227.304865\n",
              "min          0.000000\n",
              "25%         42.000000\n",
              "50%         92.000000\n",
              "75%        230.000000\n",
              "max       1618.000000\n",
              "Name: days_exposition, dtype: float64"
            ]
          },
          "execution_count": 38,
          "metadata": {},
          "output_type": "execute_result"
        }
      ],
      "source": [
        "df_realt['days_exposition'].describe()"
      ]
    },
    {
      "cell_type": "markdown",
      "metadata": {
        "id": "QKDhFbe61vnQ"
      },
      "source": [
        "Наиболее часто объекты продаются в интервале от 1 до 80 дней, причем многие - в первый день после размещения. \n",
        "\n",
        "Объекты, которые не продаются дольше 186 дней от размещения объявления можно считать статистически \"медленными\" Возможно они имеют очень узкий спрос или не рыночную цену. "
      ]
    },
    {
      "cell_type": "markdown",
      "metadata": {
        "id": "pT7GSaLh--vg"
      },
      "source": [
        "В чек листе есть вопрос: \"зависит ли цена от даты размещения?\". На основе имеющихся данных на него нельзя ответить, т.к. у нас есть только последняя цена, перед закрытием объявления, и мы не видим цену в дату размещения. \n",
        "\n",
        "Зато мы можем посмотреть насколько время размещения влияет на скорость продажи:"
      ]
    },
    {
      "cell_type": "code",
      "execution_count": null,
      "metadata": {
        "colab": {
          "base_uri": "https://localhost:8080/",
          "height": 351
        },
        "id": "IwTPJeveAMc9",
        "outputId": "7588791c-c9d2-4399-d386-1f27999bbbd1"
      },
      "outputs": [
        {
          "data": {
            "image/png": "[encoded data removed]",
            "text/plain": [
              "<Figure size 576x360 with 2 Axes>"
            ]
          },
          "metadata": {
            "needs_background": "light"
          },
          "output_type": "display_data"
        }
      ],
      "source": [
        "df_realt.plot(x='month', y='days_exposition', kind='hexbin', gridsize=15\n",
        "              , figsize=(8, 5), sharex=False, grid=True)\n",
        "plt.title('Сезонность в размещении объявлений о продаже недвижимости')\n",
        "plt.xlabel('Месяцы')\n",
        "plt.ylabel('Срок размещения (дни)')\n",
        "plt.show()"
      ]
    },
    {
      "cell_type": "markdown",
      "metadata": {
        "id": "lbGc-BG0-yf1"
      },
      "source": [
        "<div style=\"border:solid green 2px; padding: 20px\"> <b>Отлично:</b><br>\n",
        "  \n",
        "Здорово, что для визуализации ты решил применить hexbin plot 🔥 </div>      "
      ]
    },
    {
      "cell_type": "markdown",
      "metadata": {
        "id": "KqO9wyDiBJAP"
      },
      "source": [
        "Лучшее время для сделок с недвижимостью - ранняя весна. Большинство сделок происходит с февраля по апрель. \n",
        "\n",
        "В какой день недели лучше давать объявление? Выделим объекты, которые размещались не более недели (ушли быстро), и оценим зависимость от даты публикации объявления:\n"
      ]
    },
    {
      "cell_type": "code",
      "execution_count": null,
      "metadata": {
        "colab": {
          "base_uri": "https://localhost:8080/",
          "height": 282
        },
        "id": "hYAef3EdCazg",
        "outputId": "d523dadb-49d7-4d0f-ccf2-4df20119255e"
      },
      "outputs": [
        {
          "data": {
            "image/png": "[encoded data removed]",
            "text/plain": [
              "<Figure size 432x288 with 1 Axes>"
            ]
          },
          "metadata": {
            "needs_background": "light"
          },
          "output_type": "display_data"
        }
      ],
      "source": [
        "qick_deal = df_realt.query('days_exposition < 8')\n",
        "qick_deal.plot(y= 'weekday', kind= 'hist', bins= 30)\n",
        "plt.title('Частота размещений объявлений по дням недели')\n",
        "plt.xlabel('Дни недели')\n",
        "plt.ylabel('Количество объявлений')\n",
        "plt.show()"
      ]
    },
    {
      "cell_type": "markdown",
      "metadata": {
        "id": "HlQPmqLAm2P_"
      },
      "source": [
        "Большинство объектов, проданных в первую неделю размещения были опубликованы в середине рабочей недели (вторник-четверг). В выходные активность заметно ниже. "
      ]
    },
    {
      "cell_type": "code",
      "execution_count": null,
      "metadata": {
        "colab": {
          "base_uri": "https://localhost:8080/"
        },
        "id": "tjga_BC3ITz0",
        "outputId": "9a48036d-7df8-40eb-cea8-0859b095131b"
      },
      "outputs": [
        {
          "data": {
            "text/plain": [
              "year\n",
              "2014     117\n",
              "2015    1107\n",
              "2016    2659\n",
              "2017    7884\n",
              "2018    8273\n",
              "2019    2769\n",
              "Name: total_area, dtype: int64"
            ]
          },
          "execution_count": 41,
          "metadata": {},
          "output_type": "execute_result"
        }
      ],
      "source": [
        "df_realt.groupby('year')['total_area'].count() #крличество размещенных объявлений в каждый год"
      ]
    },
    {
      "cell_type": "code",
      "execution_count": null,
      "metadata": {
        "colab": {
          "base_uri": "https://localhost:8080/"
        },
        "id": "aw_yXs-OK9rU",
        "outputId": "d71d462a-8586-4225-e8e9-10cc25ee472f"
      },
      "outputs": [
        {
          "data": {
            "text/plain": [
              "Timestamp('2019-05-03 00:00:00')"
            ]
          },
          "execution_count": 42,
          "metadata": {},
          "output_type": "execute_result"
        }
      ],
      "source": [
        "df_realt['first_day_exposition'].max() #последнее размещенное объявление"
      ]
    },
    {
      "cell_type": "markdown",
      "metadata": {
        "id": "3em4Pk4HI5WI"
      },
      "source": [
        "По данным о ежегодном количестве объявлений нельзя делать выводы об объемах рынка недвижимости, но можно с уверенностью сказать, что наш сервис активно развивался с 2015 по 2019 год. Последнее размещенное объявление датировано 2 мая 2019 года. - пик размещений уже прошел,  Треть года позади. Интересно - сохранила ли Яндекс-Недвижимость темп развития?\n",
        "Посмотрим на количество статистически корректных объявлений, размещенное с января по 02 мая 2018 г.:"
      ]
    },
    {
      "cell_type": "code",
      "execution_count": null,
      "metadata": {
        "colab": {
          "base_uri": "https://localhost:8080/"
        },
        "id": "E3zZKcY_M24J",
        "outputId": "b2b65c4f-fa02-444f-a596-e7d876468f61"
      },
      "outputs": [
        {
          "data": {
            "text/plain": [
              "3164"
            ]
          },
          "execution_count": 43,
          "metadata": {},
          "output_type": "execute_result"
        }
      ],
      "source": [
        "df_realt.query('first_day_exposition <= \"2018-05-02 00:00:00\" & year == 2018')['total_area'].count()"
      ]
    },
    {
      "cell_type": "markdown",
      "metadata": {
        "id": "i_ShysBeNmyr"
      },
      "source": [
        "Похоже в 2019 Яндекс-недвижимость в Питере и окрестностях замедлила темпы роста и выходит на плато. "
      ]
    },
    {
      "cell_type": "markdown",
      "metadata": {
        "id": "o-lBzTcknG-6"
      },
      "source": [
        "определим ТОП 10 населенных пунктов по числу размещенных объявлений:"
      ]
    },
    {
      "cell_type": "code",
      "execution_count": null,
      "metadata": {
        "colab": {
          "base_uri": "https://localhost:8080/"
        },
        "id": "Q30oZKVonRDI",
        "outputId": "7bc52143-24bf-490d-8e85-69922eff052f"
      },
      "outputs": [
        {
          "data": {
            "text/plain": [
              "locality_name\n",
              "Санкт-Петербург      14890\n",
              "посёлок Мурино         518\n",
              "посёлок Шушары         440\n",
              "Всеволожск             395\n",
              "Пушкин                 359\n",
              "Колпино                337\n",
              "посёлок Парголово      327\n",
              "Гатчина                305\n",
              "деревня Кудрово        299\n",
              "Выборг                 235\n",
              "Name: total_area, dtype: int64"
            ]
          },
          "execution_count": 44,
          "metadata": {},
          "output_type": "execute_result"
        }
      ],
      "source": [
        "df_realt.groupby('locality_name')['total_area'].count().sort_values(ascending=False).head(10) "
      ]
    },
    {
      "cell_type": "markdown",
      "metadata": {
        "id": "o2K0eMSYT4gE"
      },
      "source": [
        "Северная сталица - вне конкуренции, + ТОП9 пригородов по активности рынка недвижимости. "
      ]
    },
    {
      "cell_type": "code",
      "execution_count": null,
      "metadata": {
        "colab": {
          "base_uri": "https://localhost:8080/"
        },
        "id": "1BY-TEyldnxb",
        "outputId": "d8c867f5-814b-4319-c0f2-696b7782e2ce"
      },
      "outputs": [
        {
          "data": {
            "text/plain": [
              "locality_name\n",
              "посёлок Лисий Нос        121616.218750\n",
              "Санкт-Петербург          103448.273438\n",
              "Кудрово                  100000.000000\n",
              "Зеленогорск              100000.000000\n",
              "Пушкин                    99650.351562\n",
              "                             ...      \n",
              "поселок Совхозный         12629.128906\n",
              "деревня Выскатка          12335.480469\n",
              "деревня Вахнова Кара      11688.311523\n",
              "посёлок станции Свирь     11481.481445\n",
              "деревня Старополье        11000.000000\n",
              "Name: unit_price, Length: 363, dtype: float32"
            ]
          },
          "execution_count": 45,
          "metadata": {},
          "output_type": "execute_result"
        }
      ],
      "source": [
        "df_realt.groupby('locality_name')['unit_price'].median().sort_values(ascending=False)"
      ]
    },
    {
      "cell_type": "markdown",
      "metadata": {
        "id": "bCWHbiXZeIMZ"
      },
      "source": [
        "Самая высокая цена за метр оказалась не в Спб, а в поселке Лисий Нос, причем разница очень значительная. Скорее всего это связано с выбросами, которые мы оставили во фрейме. , а самое недорогое жилье можно купить в деревне Старополье - по 11 тыс. за квадрат"
      ]
    },
    {
      "cell_type": "code",
      "execution_count": null,
      "metadata": {
        "id": "qnoXLp7b-yf7",
        "outputId": "1973619a-87f3-44d7-c023-619488073e69"
      },
      "outputs": [
        {
          "data": {
            "text/html": [
              "<div>\n",
              "<style scoped>\n",
              "    .dataframe tbody tr th:only-of-type {\n",
              "        vertical-align: middle;\n",
              "    }\n",
              "\n",
              "    .dataframe tbody tr th {\n",
              "        vertical-align: top;\n",
              "    }\n",
              "\n",
              "    .dataframe thead th {\n",
              "        text-align: right;\n",
              "    }\n",
              "</style>\n",
              "<table border=\"1\" class=\"dataframe\">\n",
              "  <thead>\n",
              "    <tr style=\"text-align: right;\">\n",
              "      <th></th>\n",
              "      <th>median_priсe</th>\n",
              "      <th>objects</th>\n",
              "    </tr>\n",
              "    <tr>\n",
              "      <th>locality_name</th>\n",
              "      <th></th>\n",
              "      <th></th>\n",
              "    </tr>\n",
              "  </thead>\n",
              "  <tbody>\n",
              "    <tr>\n",
              "      <td>Санкт-Петербург</td>\n",
              "      <td>103448.273438</td>\n",
              "      <td>14890</td>\n",
              "    </tr>\n",
              "    <tr>\n",
              "      <td>Зеленогорск</td>\n",
              "      <td>100000.000000</td>\n",
              "      <td>23</td>\n",
              "    </tr>\n",
              "    <tr>\n",
              "      <td>Кудрово</td>\n",
              "      <td>100000.000000</td>\n",
              "      <td>171</td>\n",
              "    </tr>\n",
              "    <tr>\n",
              "      <td>Пушкин</td>\n",
              "      <td>99650.351562</td>\n",
              "      <td>359</td>\n",
              "    </tr>\n",
              "    <tr>\n",
              "      <td>Сестрорецк</td>\n",
              "      <td>99375.000000</td>\n",
              "      <td>181</td>\n",
              "    </tr>\n",
              "    <tr>\n",
              "      <td>деревня Кудрово</td>\n",
              "      <td>91860.468750</td>\n",
              "      <td>299</td>\n",
              "    </tr>\n",
              "    <tr>\n",
              "      <td>посёлок Парголово</td>\n",
              "      <td>91642.859375</td>\n",
              "      <td>327</td>\n",
              "    </tr>\n",
              "    <tr>\n",
              "      <td>Мурино</td>\n",
              "      <td>91478.398438</td>\n",
              "      <td>34</td>\n",
              "    </tr>\n",
              "    <tr>\n",
              "      <td>деревня Мистолово</td>\n",
              "      <td>90888.890625</td>\n",
              "      <td>11</td>\n",
              "    </tr>\n",
              "    <tr>\n",
              "      <td>посёлок Стрельна</td>\n",
              "      <td>87254.898438</td>\n",
              "      <td>43</td>\n",
              "    </tr>\n",
              "  </tbody>\n",
              "</table>\n",
              "</div>"
            ],
            "text/plain": [
              "                    median_priсe  objects\n",
              "locality_name                            \n",
              "Санкт-Петербург    103448.273438    14890\n",
              "Зеленогорск        100000.000000       23\n",
              "Кудрово            100000.000000      171\n",
              "Пушкин              99650.351562      359\n",
              "Сестрорецк          99375.000000      181\n",
              "деревня Кудрово     91860.468750      299\n",
              "посёлок Парголово   91642.859375      327\n",
              "Мурино              91478.398438       34\n",
              "деревня Мистолово   90888.890625       11\n",
              "посёлок Стрельна    87254.898438       43"
            ]
          },
          "metadata": {},
          "output_type": "display_data"
        },
        {
          "data": {
            "image/png": "[encoded data removed]",
            "text/plain": [
              "<Figure size 432x288 with 1 Axes>"
            ]
          },
          "metadata": {
            "needs_background": "light"
          },
          "output_type": "display_data"
        }
      ],
      "source": [
        "top_ten = df_realt.pivot_table(index=['locality_name'], \n",
        "                              values='unit_price', \n",
        "                              aggfunc=['median', 'count'])\n",
        "top_ten.columns = ['median_priсe', 'objects']\n",
        "\n",
        "# Исключил из рейтинга населенные пункты, в которыех менее 10 объектов размещались за три года\n",
        "\n",
        "top_ten = top_ten.query('objects >= 10') #\n",
        "top_ten = top_ten.sort_values(by='median_priсe', ascending=False).head(10)\n",
        "display(top_ten)\n",
        "\n",
        "top_ten.plot(kind='bar',\n",
        "y='median_priсe',\n",
        "grid=True,\n",
        "legend=True)\n",
        "plt.title('ТОП 10 населенных пунктов с самой дорогой недвижимостью за м2')\n",
        "plt.xlabel('Населенный пункт')\n",
        "plt.ylabel('Цена за м2')\n",
        "plt.show()"
      ]
    },
    {
      "cell_type": "markdown",
      "metadata": {
        "id": "EEnOTAqnxEeP"
      },
      "source": [
        "Поближе познакомимся с СПб и решим задачку с зависимостью цен от расстояния до центра:"
      ]
    },
    {
      "cell_type": "code",
      "execution_count": null,
      "metadata": {
        "colab": {
          "base_uri": "https://localhost:8080/"
        },
        "id": "wsac30TbV2jV",
        "outputId": "6f6f98d0-f329-4faa-890d-780f1887f8ef"
      },
      "outputs": [
        {
          "name": "stderr",
          "output_type": "stream",
          "text": [
            "/opt/conda/lib/python3.7/site-packages/ipykernel_launcher.py:2: SettingWithCopyWarning: \n",
            "A value is trying to be set on a copy of a slice from a DataFrame.\n",
            "Try using .loc[row_indexer,col_indexer] = value instead\n",
            "\n",
            "See the caveats in the documentation: http://pandas.pydata.org/pandas-docs/stable/user_guide/indexing.html#returning-a-view-versus-a-copy\n",
            "  \n",
            "/opt/conda/lib/python3.7/site-packages/ipykernel_launcher.py:4: SettingWithCopyWarning: \n",
            "A value is trying to be set on a copy of a slice from a DataFrame.\n",
            "Try using .loc[row_indexer,col_indexer] = value instead\n",
            "\n",
            "See the caveats in the documentation: http://pandas.pydata.org/pandas-docs/stable/user_guide/indexing.html#returning-a-view-versus-a-copy\n",
            "  after removing the cwd from sys.path.\n",
            "/opt/conda/lib/python3.7/site-packages/ipykernel_launcher.py:9: SettingWithCopyWarning: \n",
            "A value is trying to be set on a copy of a slice from a DataFrame.\n",
            "Try using .loc[row_indexer,col_indexer] = value instead\n",
            "\n",
            "See the caveats in the documentation: http://pandas.pydata.org/pandas-docs/stable/user_guide/indexing.html#returning-a-view-versus-a-copy\n",
            "  if __name__ == '__main__':\n"
          ]
        }
      ],
      "source": [
        "spb = df_realt.query('locality_name == \"Санкт-Петербург\"') #оставим только СПб\n",
        "spb['cityCenters_nearest'] = spb['cityCenters_nearest'].round(decimals= -3)# округлим расстояние до 1 км\n",
        "\n",
        "spb['area_price'] = '' \n",
        "def area_price(row): #функция принимает строку и возвращает медиану цены за метр для выбранного расстояния до центра\n",
        "  dist = row['cityCenters_nearest']\n",
        "  return spb.query('cityCenters_nearest == @dist')['unit_price'].median()\n",
        "\n",
        "spb['area_price'] = spb.apply(area_price, axis = 1)\n",
        "spb_chart = spb[['area_price', 'cityCenters_nearest']].drop_duplicates()\n",
        "\n"
      ]
    },
    {
      "cell_type": "code",
      "execution_count": null,
      "metadata": {
        "colab": {
          "base_uri": "https://localhost:8080/",
          "height": 300
        },
        "id": "eaRVK_cNj0Bz",
        "outputId": "5f877f3a-a3e6-42ff-d3e9-ae4049ef027b"
      },
      "outputs": [
        {
          "data": {
            "image/png": "[encoded data removed]",
            "text/plain": [
              "<Figure size 432x288 with 1 Axes>"
            ]
          },
          "metadata": {
            "needs_background": "light"
          },
          "output_type": "display_data"
        }
      ],
      "source": [
        "spb_chart.plot(x= 'cityCenters_nearest', y= 'area_price', kind= 'scatter')\n",
        "plt.title('Зависимость цены недвижимости от расстояния до центра СПб')\n",
        "plt.xlabel('Расстояние до центра')\n",
        "plt.ylabel('Цена за м2')\n",
        "plt.show()"
      ]
    },
    {
      "cell_type": "markdown",
      "metadata": {
        "id": "dv26tekL-kJ5"
      },
      "source": [
        "Цена за квадратный метр растет с приближением к центру, до радиуса 7-8 км от выбранной геоточки центра. резко снижается с удаленностью более 25-27 км. Посмотрим, какое жилье предлагали в самом центре СПб:"
      ]
    },
    {
      "cell_type": "markdown",
      "metadata": {
        "id": "n1v-5nWh-yf-"
      },
      "source": [
        "<div class=\"alert alert-info\" style=\"border:solid blue 2px; padding: 20px\">  \n",
        "Как можно это расстояние (10 км) установить на основании графика, а не экспернтно?\n",
        "    \n",
        "на диаграмме рассеяния можно визуально выделить две границы - одна на уровне 7-8 км от центра, и другая на 20-25 км. Вероятно первая отделяет исторический центр, а вторая - город от пригорода. \n",
        "    \n",
        "\n",
        "Для анализа центра в дальнейшем я делаю срез на 9 км от центра, и по нему делаю дальнейшие выводы"
      ]
    },
    {
      "cell_type": "code",
      "execution_count": null,
      "metadata": {
        "colab": {
          "base_uri": "https://localhost:8080/",
          "height": 364
        },
        "id": "qbu4PaqtYlVc",
        "outputId": "77ca4598-aec7-43f8-98fc-04233a708e0e"
      },
      "outputs": [
        {
          "data": {
            "text/html": [
              "<div>\n",
              "<style scoped>\n",
              "    .dataframe tbody tr th:only-of-type {\n",
              "        vertical-align: middle;\n",
              "    }\n",
              "\n",
              "    .dataframe tbody tr th {\n",
              "        vertical-align: top;\n",
              "    }\n",
              "\n",
              "    .dataframe thead th {\n",
              "        text-align: right;\n",
              "    }\n",
              "</style>\n",
              "<table border=\"1\" class=\"dataframe\">\n",
              "  <thead>\n",
              "    <tr style=\"text-align: right;\">\n",
              "      <th></th>\n",
              "      <th>count</th>\n",
              "      <th>mean</th>\n",
              "      <th>std</th>\n",
              "      <th>min</th>\n",
              "      <th>25%</th>\n",
              "      <th>50%</th>\n",
              "      <th>75%</th>\n",
              "      <th>max</th>\n",
              "    </tr>\n",
              "  </thead>\n",
              "  <tbody>\n",
              "    <tr>\n",
              "      <td>total_images</td>\n",
              "      <td>3485.0</td>\n",
              "      <td>9.722525e+00</td>\n",
              "      <td>5.754614e+00</td>\n",
              "      <td>0.000000e+00</td>\n",
              "      <td>5.000000e+00</td>\n",
              "      <td>9.000000e+00</td>\n",
              "      <td>1.400000e+01</td>\n",
              "      <td>3.500000e+01</td>\n",
              "    </tr>\n",
              "    <tr>\n",
              "      <td>last_price</td>\n",
              "      <td>3485.0</td>\n",
              "      <td>8.916273e+06</td>\n",
              "      <td>3.813194e+06</td>\n",
              "      <td>1.600000e+06</td>\n",
              "      <td>6.040000e+06</td>\n",
              "      <td>8.100000e+06</td>\n",
              "      <td>1.109434e+07</td>\n",
              "      <td>1.999900e+07</td>\n",
              "    </tr>\n",
              "    <tr>\n",
              "      <td>total_area</td>\n",
              "      <td>3485.0</td>\n",
              "      <td>7.568549e+01</td>\n",
              "      <td>3.355413e+01</td>\n",
              "      <td>1.200000e+01</td>\n",
              "      <td>5.100000e+01</td>\n",
              "      <td>7.000000e+01</td>\n",
              "      <td>9.230000e+01</td>\n",
              "      <td>2.875000e+02</td>\n",
              "    </tr>\n",
              "    <tr>\n",
              "      <td>rooms</td>\n",
              "      <td>3485.0</td>\n",
              "      <td>2.546055e+00</td>\n",
              "      <td>1.208212e+00</td>\n",
              "      <td>0.000000e+00</td>\n",
              "      <td>2.000000e+00</td>\n",
              "      <td>2.000000e+00</td>\n",
              "      <td>3.000000e+00</td>\n",
              "      <td>1.100000e+01</td>\n",
              "    </tr>\n",
              "    <tr>\n",
              "      <td>ceiling_height</td>\n",
              "      <td>3485.0</td>\n",
              "      <td>2.909920e+00</td>\n",
              "      <td>3.042848e-01</td>\n",
              "      <td>2.000000e+00</td>\n",
              "      <td>2.700000e+00</td>\n",
              "      <td>2.900000e+00</td>\n",
              "      <td>3.060000e+00</td>\n",
              "      <td>3.980000e+00</td>\n",
              "    </tr>\n",
              "    <tr>\n",
              "      <td>floors_total</td>\n",
              "      <td>3483.0</td>\n",
              "      <td>7.608384e+00</td>\n",
              "      <td>4.422082e+00</td>\n",
              "      <td>2.000000e+00</td>\n",
              "      <td>5.000000e+00</td>\n",
              "      <td>6.000000e+00</td>\n",
              "      <td>9.000000e+00</td>\n",
              "      <td>2.800000e+01</td>\n",
              "    </tr>\n",
              "    <tr>\n",
              "      <td>living_area</td>\n",
              "      <td>3485.0</td>\n",
              "      <td>4.480700e+01</td>\n",
              "      <td>2.381088e+01</td>\n",
              "      <td>2.000000e+00</td>\n",
              "      <td>2.870000e+01</td>\n",
              "      <td>4.040000e+01</td>\n",
              "      <td>5.580000e+01</td>\n",
              "      <td>1.837000e+02</td>\n",
              "    </tr>\n",
              "    <tr>\n",
              "      <td>floor</td>\n",
              "      <td>3485.0</td>\n",
              "      <td>4.315352e+00</td>\n",
              "      <td>3.150931e+00</td>\n",
              "      <td>1.000000e+00</td>\n",
              "      <td>2.000000e+00</td>\n",
              "      <td>4.000000e+00</td>\n",
              "      <td>5.000000e+00</td>\n",
              "      <td>2.400000e+01</td>\n",
              "    </tr>\n",
              "    <tr>\n",
              "      <td>kitchen_area</td>\n",
              "      <td>3468.0</td>\n",
              "      <td>1.251103e+01</td>\n",
              "      <td>6.337659e+00</td>\n",
              "      <td>2.000000e+00</td>\n",
              "      <td>8.400000e+00</td>\n",
              "      <td>1.100000e+01</td>\n",
              "      <td>1.500000e+01</td>\n",
              "      <td>1.007000e+02</td>\n",
              "    </tr>\n",
              "    <tr>\n",
              "      <td>balcony</td>\n",
              "      <td>3485.0</td>\n",
              "      <td>3.268293e-01</td>\n",
              "      <td>7.612044e-01</td>\n",
              "      <td>0.000000e+00</td>\n",
              "      <td>0.000000e+00</td>\n",
              "      <td>0.000000e+00</td>\n",
              "      <td>0.000000e+00</td>\n",
              "      <td>5.000000e+00</td>\n",
              "    </tr>\n",
              "    <tr>\n",
              "      <td>airports_nearest</td>\n",
              "      <td>3483.0</td>\n",
              "      <td>2.500048e+04</td>\n",
              "      <td>5.433099e+03</td>\n",
              "      <td>1.124700e+04</td>\n",
              "      <td>2.152950e+04</td>\n",
              "      <td>2.432100e+04</td>\n",
              "      <td>2.833950e+04</td>\n",
              "      <td>4.477500e+04</td>\n",
              "    </tr>\n",
              "    <tr>\n",
              "      <td>cityCenters_nearest</td>\n",
              "      <td>3485.0</td>\n",
              "      <td>5.053659e+03</td>\n",
              "      <td>1.971595e+03</td>\n",
              "      <td>0.000000e+00</td>\n",
              "      <td>4.000000e+03</td>\n",
              "      <td>5.000000e+03</td>\n",
              "      <td>7.000000e+03</td>\n",
              "      <td>8.000000e+03</td>\n",
              "    </tr>\n",
              "    <tr>\n",
              "      <td>parks_around3000</td>\n",
              "      <td>3485.0</td>\n",
              "      <td>9.348637e-01</td>\n",
              "      <td>8.862086e-01</td>\n",
              "      <td>0.000000e+00</td>\n",
              "      <td>0.000000e+00</td>\n",
              "      <td>1.000000e+00</td>\n",
              "      <td>1.000000e+00</td>\n",
              "      <td>3.000000e+00</td>\n",
              "    </tr>\n",
              "    <tr>\n",
              "      <td>parks_nearest</td>\n",
              "      <td>2223.0</td>\n",
              "      <td>4.771957e+02</td>\n",
              "      <td>3.103897e+02</td>\n",
              "      <td>9.000000e+00</td>\n",
              "      <td>2.930000e+02</td>\n",
              "      <td>4.410000e+02</td>\n",
              "      <td>5.970000e+02</td>\n",
              "      <td>2.295000e+03</td>\n",
              "    </tr>\n",
              "    <tr>\n",
              "      <td>ponds_around3000</td>\n",
              "      <td>3485.0</td>\n",
              "      <td>1.231277e+00</td>\n",
              "      <td>1.062565e+00</td>\n",
              "      <td>0.000000e+00</td>\n",
              "      <td>0.000000e+00</td>\n",
              "      <td>1.000000e+00</td>\n",
              "      <td>2.000000e+00</td>\n",
              "      <td>3.000000e+00</td>\n",
              "    </tr>\n",
              "    <tr>\n",
              "      <td>ponds_nearest</td>\n",
              "      <td>2457.0</td>\n",
              "      <td>4.779328e+02</td>\n",
              "      <td>2.644316e+02</td>\n",
              "      <td>2.200000e+01</td>\n",
              "      <td>2.550000e+02</td>\n",
              "      <td>4.570000e+02</td>\n",
              "      <td>6.730000e+02</td>\n",
              "      <td>1.251000e+03</td>\n",
              "    </tr>\n",
              "    <tr>\n",
              "      <td>days_exposition</td>\n",
              "      <td>3485.0</td>\n",
              "      <td>2.380000e+02</td>\n",
              "      <td>2.772030e+02</td>\n",
              "      <td>0.000000e+00</td>\n",
              "      <td>5.400000e+01</td>\n",
              "      <td>1.260000e+02</td>\n",
              "      <td>3.250000e+02</td>\n",
              "      <td>1.581000e+03</td>\n",
              "    </tr>\n",
              "    <tr>\n",
              "      <td>weekday</td>\n",
              "      <td>3485.0</td>\n",
              "      <td>2.531133e+00</td>\n",
              "      <td>1.718231e+00</td>\n",
              "      <td>0.000000e+00</td>\n",
              "      <td>1.000000e+00</td>\n",
              "      <td>3.000000e+00</td>\n",
              "      <td>4.000000e+00</td>\n",
              "      <td>6.000000e+00</td>\n",
              "    </tr>\n",
              "    <tr>\n",
              "      <td>month</td>\n",
              "      <td>3485.0</td>\n",
              "      <td>6.417791e+00</td>\n",
              "      <td>3.430619e+00</td>\n",
              "      <td>1.000000e+00</td>\n",
              "      <td>3.000000e+00</td>\n",
              "      <td>6.000000e+00</td>\n",
              "      <td>9.000000e+00</td>\n",
              "      <td>1.200000e+01</td>\n",
              "    </tr>\n",
              "    <tr>\n",
              "      <td>year</td>\n",
              "      <td>3485.0</td>\n",
              "      <td>2.017206e+03</td>\n",
              "      <td>1.100394e+00</td>\n",
              "      <td>2.014000e+03</td>\n",
              "      <td>2.017000e+03</td>\n",
              "      <td>2.017000e+03</td>\n",
              "      <td>2.018000e+03</td>\n",
              "      <td>2.019000e+03</td>\n",
              "    </tr>\n",
              "    <tr>\n",
              "      <td>unit_price</td>\n",
              "      <td>3485.0</td>\n",
              "      <td>1.224997e+05</td>\n",
              "      <td>3.573914e+04</td>\n",
              "      <td>1.534527e+04</td>\n",
              "      <td>9.722222e+04</td>\n",
              "      <td>1.168421e+05</td>\n",
              "      <td>1.404834e+05</td>\n",
              "      <td>3.923541e+05</td>\n",
              "    </tr>\n",
              "    <tr>\n",
              "      <td>ratio_living</td>\n",
              "      <td>3485.0</td>\n",
              "      <td>5.803380e-01</td>\n",
              "      <td>1.080412e-01</td>\n",
              "      <td>3.846154e-02</td>\n",
              "      <td>5.217391e-01</td>\n",
              "      <td>5.838509e-01</td>\n",
              "      <td>6.554239e-01</td>\n",
              "      <td>9.834470e-01</td>\n",
              "    </tr>\n",
              "    <tr>\n",
              "      <td>ratio_kitchen</td>\n",
              "      <td>3468.0</td>\n",
              "      <td>1.769759e-01</td>\n",
              "      <td>7.737987e-02</td>\n",
              "      <td>4.281038e-02</td>\n",
              "      <td>1.245543e-01</td>\n",
              "      <td>1.632291e-01</td>\n",
              "      <td>2.022296e-01</td>\n",
              "      <td>6.250000e-01</td>\n",
              "    </tr>\n",
              "    <tr>\n",
              "      <td>area_price</td>\n",
              "      <td>3485.0</td>\n",
              "      <td>1.169233e+05</td>\n",
              "      <td>4.814698e+03</td>\n",
              "      <td>1.056510e+05</td>\n",
              "      <td>1.125000e+05</td>\n",
              "      <td>1.197674e+05</td>\n",
              "      <td>1.208000e+05</td>\n",
              "      <td>1.212832e+05</td>\n",
              "    </tr>\n",
              "  </tbody>\n",
              "</table>\n",
              "</div>"
            ],
            "text/plain": [
              "                      count          mean           std           min  \\\n",
              "total_images         3485.0  9.722525e+00  5.754614e+00  0.000000e+00   \n",
              "last_price           3485.0  8.916273e+06  3.813194e+06  1.600000e+06   \n",
              "total_area           3485.0  7.568549e+01  3.355413e+01  1.200000e+01   \n",
              "rooms                3485.0  2.546055e+00  1.208212e+00  0.000000e+00   \n",
              "ceiling_height       3485.0  2.909920e+00  3.042848e-01  2.000000e+00   \n",
              "floors_total         3483.0  7.608384e+00  4.422082e+00  2.000000e+00   \n",
              "living_area          3485.0  4.480700e+01  2.381088e+01  2.000000e+00   \n",
              "floor                3485.0  4.315352e+00  3.150931e+00  1.000000e+00   \n",
              "kitchen_area         3468.0  1.251103e+01  6.337659e+00  2.000000e+00   \n",
              "balcony              3485.0  3.268293e-01  7.612044e-01  0.000000e+00   \n",
              "airports_nearest     3483.0  2.500048e+04  5.433099e+03  1.124700e+04   \n",
              "cityCenters_nearest  3485.0  5.053659e+03  1.971595e+03  0.000000e+00   \n",
              "parks_around3000     3485.0  9.348637e-01  8.862086e-01  0.000000e+00   \n",
              "parks_nearest        2223.0  4.771957e+02  3.103897e+02  9.000000e+00   \n",
              "ponds_around3000     3485.0  1.231277e+00  1.062565e+00  0.000000e+00   \n",
              "ponds_nearest        2457.0  4.779328e+02  2.644316e+02  2.200000e+01   \n",
              "days_exposition      3485.0  2.380000e+02  2.772030e+02  0.000000e+00   \n",
              "weekday              3485.0  2.531133e+00  1.718231e+00  0.000000e+00   \n",
              "month                3485.0  6.417791e+00  3.430619e+00  1.000000e+00   \n",
              "year                 3485.0  2.017206e+03  1.100394e+00  2.014000e+03   \n",
              "unit_price           3485.0  1.224997e+05  3.573914e+04  1.534527e+04   \n",
              "ratio_living         3485.0  5.803380e-01  1.080412e-01  3.846154e-02   \n",
              "ratio_kitchen        3468.0  1.769759e-01  7.737987e-02  4.281038e-02   \n",
              "area_price           3485.0  1.169233e+05  4.814698e+03  1.056510e+05   \n",
              "\n",
              "                              25%           50%           75%           max  \n",
              "total_images         5.000000e+00  9.000000e+00  1.400000e+01  3.500000e+01  \n",
              "last_price           6.040000e+06  8.100000e+06  1.109434e+07  1.999900e+07  \n",
              "total_area           5.100000e+01  7.000000e+01  9.230000e+01  2.875000e+02  \n",
              "rooms                2.000000e+00  2.000000e+00  3.000000e+00  1.100000e+01  \n",
              "ceiling_height       2.700000e+00  2.900000e+00  3.060000e+00  3.980000e+00  \n",
              "floors_total         5.000000e+00  6.000000e+00  9.000000e+00  2.800000e+01  \n",
              "living_area          2.870000e+01  4.040000e+01  5.580000e+01  1.837000e+02  \n",
              "floor                2.000000e+00  4.000000e+00  5.000000e+00  2.400000e+01  \n",
              "kitchen_area         8.400000e+00  1.100000e+01  1.500000e+01  1.007000e+02  \n",
              "balcony              0.000000e+00  0.000000e+00  0.000000e+00  5.000000e+00  \n",
              "airports_nearest     2.152950e+04  2.432100e+04  2.833950e+04  4.477500e+04  \n",
              "cityCenters_nearest  4.000000e+03  5.000000e+03  7.000000e+03  8.000000e+03  \n",
              "parks_around3000     0.000000e+00  1.000000e+00  1.000000e+00  3.000000e+00  \n",
              "parks_nearest        2.930000e+02  4.410000e+02  5.970000e+02  2.295000e+03  \n",
              "ponds_around3000     0.000000e+00  1.000000e+00  2.000000e+00  3.000000e+00  \n",
              "ponds_nearest        2.550000e+02  4.570000e+02  6.730000e+02  1.251000e+03  \n",
              "days_exposition      5.400000e+01  1.260000e+02  3.250000e+02  1.581000e+03  \n",
              "weekday              1.000000e+00  3.000000e+00  4.000000e+00  6.000000e+00  \n",
              "month                3.000000e+00  6.000000e+00  9.000000e+00  1.200000e+01  \n",
              "year                 2.017000e+03  2.017000e+03  2.018000e+03  2.019000e+03  \n",
              "unit_price           9.722222e+04  1.168421e+05  1.404834e+05  3.923541e+05  \n",
              "ratio_living         5.217391e-01  5.838509e-01  6.554239e-01  9.834470e-01  \n",
              "ratio_kitchen        1.245543e-01  1.632291e-01  2.022296e-01  6.250000e-01  \n",
              "area_price           1.125000e+05  1.197674e+05  1.208000e+05  1.212832e+05  "
            ]
          },
          "execution_count": 49,
          "metadata": {},
          "output_type": "execute_result"
        }
      ],
      "source": [
        "spb.query('cityCenters_nearest < 9000').describe().T"
      ]
    },
    {
      "cell_type": "markdown",
      "metadata": {
        "id": "HIPK0H9jm1DE"
      },
      "source": [
        "почти полторы тысячи объектов. Относительно общего рынка - с высокими потолками (2,9) , без балконов, с кусочками зелени и каналами поблизости. Продаются объекты в центре за то же время, что и остальная недвижимость - три месяца, а вот цена почти на треть (28%) дороже. Общая и жилая площадь отличается незначительно, но в медианном объекте в центре все-же чуть просторнее. "
      ]
    },
    {
      "cell_type": "markdown",
      "metadata": {
        "id": "vKOIPu4DUFXZ"
      },
      "source": [
        "Ну и наконец можно собрать итоги нашего исследования и определить -какие факторы и как влияют на рыночную стоимость объектов недвижимости. Основным измерителем будем считать цену квадратного метра. "
      ]
    },
    {
      "cell_type": "code",
      "execution_count": null,
      "metadata": {
        "colab": {
          "base_uri": "https://localhost:8080/"
        },
        "id": "bcegnD6dUsa2",
        "outputId": "403ab0aa-6c9b-4071-90dc-f06cdaffaf97"
      },
      "outputs": [
        {
          "data": {
            "text/plain": [
              "1.0949389"
            ]
          },
          "execution_count": 50,
          "metadata": {},
          "output_type": "execute_result"
        }
      ],
      "source": [
        "df_realt.query('ceiling_height >= 3')['unit_price'].median() / df_realt['unit_price'].median() #отношение медианной цены квадратного метра в квартирах с трехметровыми + потолками, к общей медиане рынка "
      ]
    },
    {
      "cell_type": "markdown",
      "metadata": {
        "id": "7XCHPWo2VuSD"
      },
      "source": [
        "Высота потолков выше 3 м. увеличивает цену за квадратный метр на 16%"
      ]
    },
    {
      "cell_type": "code",
      "execution_count": null,
      "metadata": {
        "colab": {
          "base_uri": "https://localhost:8080/"
        },
        "id": "hPx9vQ41lHg9",
        "outputId": "e80055ce-a2e2-4800-b8c6-3f8cd35068a2"
      },
      "outputs": [
        {
          "data": {
            "text/plain": [
              "1.2393916"
            ]
          },
          "execution_count": 51,
          "metadata": {},
          "output_type": "execute_result"
        }
      ],
      "source": [
        "df_realt.query('cityCenters_nearest <= 8000')['unit_price'].median() / df_realt['unit_price'].median() "
      ]
    },
    {
      "cell_type": "markdown",
      "metadata": {
        "id": "z4TQGX5mV1Ta"
      },
      "source": [
        "Расположение объекта в пределах 8 км от центра дает +22% к рыночной цене за метр. \n",
        "\n"
      ]
    },
    {
      "cell_type": "code",
      "execution_count": null,
      "metadata": {
        "colab": {
          "base_uri": "https://localhost:8080/"
        },
        "id": "BAhUKBqxcWq0",
        "outputId": "560aaabe-f6c4-4140-d7ee-fd2d03b980f3"
      },
      "outputs": [
        {
          "data": {
            "text/plain": [
              "1.0841839"
            ]
          },
          "execution_count": 52,
          "metadata": {},
          "output_type": "execute_result"
        }
      ],
      "source": [
        "df_realt.query('ponds_around3000 > 0 | parks_around3000 > 0')['unit_price'].median() / df_realt['unit_price'].median()"
      ]
    },
    {
      "cell_type": "code",
      "execution_count": null,
      "metadata": {
        "colab": {
          "base_uri": "https://localhost:8080/"
        },
        "id": "uCqHT5b2csSI",
        "outputId": "0f5f2eab-2e03-41fe-e0d3-98ad41265f7d"
      },
      "outputs": [
        {
          "data": {
            "text/plain": [
              "1.1084012"
            ]
          },
          "execution_count": 53,
          "metadata": {},
          "output_type": "execute_result"
        }
      ],
      "source": [
        "df_realt.query('ponds_around3000 > 0 & parks_around3000 > 0')['unit_price'].median() / df_realt['unit_price'].median()"
      ]
    },
    {
      "cell_type": "markdown",
      "metadata": {
        "id": "HtcHBp0VckXE"
      },
      "source": [
        "Пруд или парк рядом добавляют к цене 7,5%, а если повезло и парк сразу с прудом (или пруд с парком) - то еще пара процентов сверху!\n"
      ]
    },
    {
      "cell_type": "code",
      "execution_count": null,
      "metadata": {
        "colab": {
          "base_uri": "https://localhost:8080/"
        },
        "id": "JVZxDTd6czO3",
        "outputId": "e80ae127-22c6-4632-9027-c6420a71060a"
      },
      "outputs": [
        {
          "data": {
            "text/plain": [
              "floors_group\n",
              "другой       97321.429688\n",
              "первый       80872.343750\n",
              "последний    86138.617188\n",
              "Name: unit_price, dtype: float32"
            ]
          },
          "execution_count": 54,
          "metadata": {},
          "output_type": "execute_result"
        }
      ],
      "source": [
        "df_realt.groupby('floors_group')['unit_price'].median()"
      ]
    },
    {
      "cell_type": "code",
      "execution_count": null,
      "metadata": {
        "colab": {
          "base_uri": "https://localhost:8080/"
        },
        "id": "YUxMlM9gfMC1",
        "outputId": "01b76164-bb1a-4d99-b6a8-f0e662f952c4"
      },
      "outputs": [
        {
          "data": {
            "text/plain": [
              "0.8542847"
            ]
          },
          "execution_count": 55,
          "metadata": {},
          "output_type": "execute_result"
        }
      ],
      "source": [
        "df_realt.query('floors_group != \"другой\"')['unit_price'].median() / df_realt.query('floors_group == \"другой\"')['unit_price'].median()"
      ]
    },
    {
      "cell_type": "markdown",
      "metadata": {
        "id": "djWf8dX-ftDf"
      },
      "source": [
        "Упс! первый или последний этаж - и сразу дешевле на 13-17%"
      ]
    },
    {
      "cell_type": "markdown",
      "metadata": {
        "id": "K0gfZVytvhWo"
      },
      "source": [
        "## Общий вывод\n",
        "Ключевые факторы, влияющие на цену недвижимости в регионе:\n",
        "\n",
        "1. Близость к центру (+ 30% к медианной цене)\n",
        "2. Высота потолков (+16% к медианной цене при высоте от 3 м)\n",
        "3. Первый или последний этаж (-15% от медианной цены на рынке)\n",
        "4. Хотя-бы один парк или водоем рядом (+7-9%)\n",
        "\n",
        "Рынок сформирован в основном Санкт-Петербургом, но хорошие объекты в хороших пригородах могут не уступать по ценам. \n",
        "\n",
        "Разница в ценах между городом и областью в статистически значимых (!) объектах может достигать х10\n",
        "\n",
        "Рынок наиболее активен в начале весны. \n",
        "\n",
        "Объявления размещенные на выходных срабатывают в среднем хуже (но тут может играть роль фактор того что на выходных публикуют частные объявления, а в рабочее время подключаются профессиональные риэлторы)\n",
        "\n",
        "Данных яндекс-недвижимости недосаточно для актуального анализа в динамике - сбор данных был на этапе роста проекта, единственный стабильный год - 2019, содержит только четыре полных месяца. Но в целом, если знать свежую медианную цену рынка (например за 2021 год), по результатам выполненного анализа можно достоверно установить рыночную цену по любому стандартному объекту.\n",
        "\n",
        "Возможно именно из-за активного развития проекта во фрейме почти половина данных содержала статистические выбросы. \n",
        "\n",
        "Исследовательский анализ практически бесконечная штука - чем больше влезаешь в данные, тем больше гипотез:\n",
        "- зависят ли пропуски в геоданных от года размещения? может их прикрутили позже?\n",
        "- нет данных о годе постройки, наверняка они влияют\n",
        "- как отличается выборка Яндекс-недвижимости от других площадок? кто не публикует объявления на Я-Н, влияет ли это на корректность выводов?\n",
        "- высота потолков влияет на цену сама по себе, или потому что в центре объекты выше и цены дороже?\n",
        "\n",
        "Но дедлайн уже прошел, и чеклист проекта заполнен. Пора отправлять на ревью."
      ]
    },
    {
      "cell_type": "markdown",
      "metadata": {
        "id": "_s-4fC9-vhWp"
      },
      "source": [
        "## Чек-лист готовности проекта\n",
        "\n",
        "Поставьте 'x' в выполненных пунктах. Далее нажмите Shift+Enter."
      ]
    },
    {
      "cell_type": "markdown",
      "metadata": {
        "id": "cUsa_RNkvhWq"
      },
      "source": [
        "- [x]  открыт файл\n",
        "- [x]  файлы изучены (выведены первые строки, метод info())\n",
        "- [x]  определены пропущенные значения\n",
        "- [x]  заполнены пропущенные значения\n",
        "- [x]  есть пояснение, какие пропущенные значения обнаружены\n",
        "- [x]  изменены типы данных\n",
        "- [x]  есть пояснение, в каких столбцах изменены типы и почему\n",
        "- [x]  посчитано и добавлено в таблицу: цена квадратного метра\n",
        "- [x]  посчитано и добавлено в таблицу: день недели, месяц и год публикации объявления\n",
        "- [x]  посчитано и добавлено в таблицу: этаж квартиры; варианты — первый, последний, другой\n",
        "- [x]  посчитано и добавлено в таблицу: соотношение жилой и общей площади, а также отношение площади кухни к общей\n",
        "- [x]  изучены следующие параметры: площадь, цена, число комнат, высота потолков\n",
        "- [x]  построены гистограммы для каждого параметра\n",
        "- [x]  выполнено задание: \"Изучите время продажи квартиры. Постройте гистограмму. Посчитайте среднее и медиану. Опишите, сколько обычно занимает продажа. Когда можно считать, что продажи прошли очень быстро, а когда необычно долго?\"\n",
        "- [x]  выполнено задание: \"Уберите редкие и выбивающиеся значения. Опишите, какие особенности обнаружили.\"\n",
        "- [x]  выполнено задание: \"Какие факторы больше всего влияют на стоимость квартиры? Изучите, зависит ли цена от квадратного метра, числа комнат, этажа (первого или последнего), удалённости от центра. Также изучите зависимость от даты размещения: дня недели, месяца и года. \n",
        "- [x] выполнено задание: \"Выберите 10 населённых пунктов с наибольшим числом объявлений. Посчитайте среднюю цену квадратного метра в этих населённых пунктах. Выделите населённые пункты с самой высокой и низкой стоимостью жилья. Эти данные можно найти по имени в столбце '*locality_name'*. \"\n",
        "- [x]  выполнено задание: \"Изучите предложения квартир: для каждой квартиры есть информация о расстоянии до центра. Выделите квартиры в Санкт-Петербурге (*'locality_name'*). Ваша задача — выяснить, какая область входит в центр. Создайте столбец с расстоянием до центра в километрах: округлите до целых значений. После этого посчитайте среднюю цену для каждого километра. Постройте график: он должен показывать, как цена зависит от удалённости от центра. Определите границу, где график сильно меняется — это и будет центральная зона. \"\n",
        "- [x]  выполнено задание: \"Выделите сегмент квартир в центре. Проанализируйте эту территорию и изучите следующие параметры: площадь, цена, число комнат, высота потолков. Также выделите факторы, которые влияют на стоимость квартиры (число комнат, этаж, удалённость от центра, дата размещения объявления). Сделайте выводы. Отличаются ли они от общих выводов по всему городу?\"\n",
        "- [x]  в каждом этапе есть выводы\n",
        "- [x]  есть общий вывод"
      ]
    }
  ],
  "metadata": {
    "ExecuteTimeLog": [
      {
        "duration": 728,
        "start_time": "2022-01-28T19:11:09.326Z"
      },
      {
        "duration": 71,
        "start_time": "2022-01-28T19:11:18.730Z"
      },
      {
        "duration": 19,
        "start_time": "2022-01-28T19:11:28.885Z"
      },
      {
        "duration": 82,
        "start_time": "2022-01-28T19:11:41.826Z"
      },
      {
        "duration": 33,
        "start_time": "2022-01-28T19:11:42.559Z"
      },
      {
        "duration": 5,
        "start_time": "2022-01-28T19:11:57.723Z"
      },
      {
        "duration": 11,
        "start_time": "2022-01-28T19:12:15.709Z"
      },
      {
        "duration": 16,
        "start_time": "2022-01-28T19:12:25.769Z"
      },
      {
        "duration": 9,
        "start_time": "2022-01-28T19:13:41.664Z"
      },
      {
        "duration": 7,
        "start_time": "2022-01-28T19:14:07.078Z"
      },
      {
        "duration": 5897,
        "start_time": "2022-01-28T19:15:26.929Z"
      },
      {
        "duration": 7,
        "start_time": "2022-01-28T19:15:41.825Z"
      },
      {
        "duration": 6,
        "start_time": "2022-01-28T19:15:47.708Z"
      },
      {
        "duration": 6,
        "start_time": "2022-01-28T19:17:22.207Z"
      },
      {
        "duration": 7,
        "start_time": "2022-01-28T19:17:31.989Z"
      },
      {
        "duration": 7,
        "start_time": "2022-01-28T19:17:36.924Z"
      },
      {
        "duration": 34,
        "start_time": "2022-01-28T19:18:06.808Z"
      },
      {
        "duration": 51,
        "start_time": "2022-01-28T19:18:21.901Z"
      },
      {
        "duration": 9,
        "start_time": "2022-01-28T19:19:18.284Z"
      },
      {
        "duration": 398,
        "start_time": "2022-01-28T19:19:44.820Z"
      },
      {
        "duration": 622,
        "start_time": "2022-01-28T19:19:50.293Z"
      },
      {
        "duration": 571,
        "start_time": "2022-01-28T19:20:04.995Z"
      },
      {
        "duration": 60,
        "start_time": "2022-01-28T19:20:56.483Z"
      },
      {
        "duration": 48,
        "start_time": "2022-01-28T19:25:09.129Z"
      },
      {
        "duration": 48506,
        "start_time": "2022-01-28T19:26:40.617Z"
      },
      {
        "duration": 47247,
        "start_time": "2022-01-28T19:27:54.774Z"
      },
      {
        "duration": 767,
        "start_time": "2022-01-29T07:54:56.650Z"
      },
      {
        "duration": 90,
        "start_time": "2022-01-29T07:54:59.316Z"
      },
      {
        "duration": 52,
        "start_time": "2022-01-29T07:55:00.028Z"
      },
      {
        "duration": 47350,
        "start_time": "2022-01-29T07:55:08.315Z"
      },
      {
        "duration": 17,
        "start_time": "2022-01-29T07:57:18.705Z"
      },
      {
        "duration": 4,
        "start_time": "2022-01-29T07:58:25.279Z"
      },
      {
        "duration": 13,
        "start_time": "2022-01-29T07:58:58.667Z"
      },
      {
        "duration": 1272,
        "start_time": "2022-01-29T08:00:34.787Z"
      },
      {
        "duration": 100,
        "start_time": "2022-01-29T08:03:09.332Z"
      },
      {
        "duration": 53,
        "start_time": "2022-01-29T08:06:07.432Z"
      },
      {
        "duration": 1285,
        "start_time": "2022-01-29T08:06:57.129Z"
      },
      {
        "duration": 36,
        "start_time": "2022-01-29T09:26:28.175Z"
      },
      {
        "duration": 203,
        "start_time": "2022-02-13T14:07:37.876Z"
      },
      {
        "duration": -24,
        "start_time": "2022-02-13T14:07:38.108Z"
      },
      {
        "duration": -30,
        "start_time": "2022-02-13T14:07:38.115Z"
      },
      {
        "duration": -32,
        "start_time": "2022-02-13T14:07:38.119Z"
      },
      {
        "duration": -34,
        "start_time": "2022-02-13T14:07:38.122Z"
      },
      {
        "duration": -35,
        "start_time": "2022-02-13T14:07:38.124Z"
      },
      {
        "duration": -41,
        "start_time": "2022-02-13T14:07:38.131Z"
      },
      {
        "duration": -44,
        "start_time": "2022-02-13T14:07:38.135Z"
      },
      {
        "duration": -46,
        "start_time": "2022-02-13T14:07:38.138Z"
      },
      {
        "duration": -48,
        "start_time": "2022-02-13T14:07:38.141Z"
      },
      {
        "duration": -54,
        "start_time": "2022-02-13T14:07:38.148Z"
      },
      {
        "duration": -55,
        "start_time": "2022-02-13T14:07:38.150Z"
      },
      {
        "duration": -57,
        "start_time": "2022-02-13T14:07:38.153Z"
      },
      {
        "duration": -59,
        "start_time": "2022-02-13T14:07:38.156Z"
      },
      {
        "duration": -60,
        "start_time": "2022-02-13T14:07:38.158Z"
      },
      {
        "duration": -64,
        "start_time": "2022-02-13T14:07:38.163Z"
      },
      {
        "duration": -65,
        "start_time": "2022-02-13T14:07:38.166Z"
      },
      {
        "duration": -66,
        "start_time": "2022-02-13T14:07:38.168Z"
      },
      {
        "duration": -67,
        "start_time": "2022-02-13T14:07:38.170Z"
      },
      {
        "duration": -68,
        "start_time": "2022-02-13T14:07:38.172Z"
      },
      {
        "duration": -70,
        "start_time": "2022-02-13T14:07:38.175Z"
      },
      {
        "duration": -76,
        "start_time": "2022-02-13T14:07:38.181Z"
      },
      {
        "duration": -77,
        "start_time": "2022-02-13T14:07:38.183Z"
      },
      {
        "duration": -79,
        "start_time": "2022-02-13T14:07:38.186Z"
      },
      {
        "duration": -81,
        "start_time": "2022-02-13T14:07:38.189Z"
      },
      {
        "duration": -83,
        "start_time": "2022-02-13T14:07:38.192Z"
      },
      {
        "duration": -88,
        "start_time": "2022-02-13T14:07:38.198Z"
      },
      {
        "duration": -89,
        "start_time": "2022-02-13T14:07:38.200Z"
      },
      {
        "duration": -91,
        "start_time": "2022-02-13T14:07:38.203Z"
      },
      {
        "duration": -93,
        "start_time": "2022-02-13T14:07:38.206Z"
      },
      {
        "duration": -94,
        "start_time": "2022-02-13T14:07:38.208Z"
      },
      {
        "duration": -99,
        "start_time": "2022-02-13T14:07:38.214Z"
      },
      {
        "duration": -101,
        "start_time": "2022-02-13T14:07:38.216Z"
      },
      {
        "duration": -103,
        "start_time": "2022-02-13T14:07:38.219Z"
      },
      {
        "duration": -104,
        "start_time": "2022-02-13T14:07:38.221Z"
      },
      {
        "duration": -106,
        "start_time": "2022-02-13T14:07:38.224Z"
      },
      {
        "duration": -110,
        "start_time": "2022-02-13T14:07:38.229Z"
      },
      {
        "duration": -113,
        "start_time": "2022-02-13T14:07:38.232Z"
      },
      {
        "duration": -115,
        "start_time": "2022-02-13T14:07:38.235Z"
      },
      {
        "duration": -117,
        "start_time": "2022-02-13T14:07:38.237Z"
      },
      {
        "duration": -118,
        "start_time": "2022-02-13T14:07:38.239Z"
      },
      {
        "duration": -125,
        "start_time": "2022-02-13T14:07:38.246Z"
      },
      {
        "duration": -127,
        "start_time": "2022-02-13T14:07:38.249Z"
      },
      {
        "duration": -92,
        "start_time": "2022-02-13T14:07:38.251Z"
      },
      {
        "duration": -98,
        "start_time": "2022-02-13T14:07:38.258Z"
      },
      {
        "duration": 161,
        "start_time": "2022-02-13T14:07:56.252Z"
      },
      {
        "duration": 196,
        "start_time": "2022-02-13T14:08:05.201Z"
      },
      {
        "duration": 161,
        "start_time": "2022-02-13T14:08:10.377Z"
      },
      {
        "duration": 1097,
        "start_time": "2022-02-13T14:13:25.165Z"
      },
      {
        "duration": 1141,
        "start_time": "2022-02-13T14:23:50.479Z"
      },
      {
        "duration": 255,
        "start_time": "2022-02-13T14:23:51.622Z"
      },
      {
        "duration": -34,
        "start_time": "2022-02-13T14:23:51.914Z"
      },
      {
        "duration": -35,
        "start_time": "2022-02-13T14:23:51.916Z"
      },
      {
        "duration": -41,
        "start_time": "2022-02-13T14:23:51.923Z"
      },
      {
        "duration": -43,
        "start_time": "2022-02-13T14:23:51.926Z"
      },
      {
        "duration": -46,
        "start_time": "2022-02-13T14:23:51.929Z"
      },
      {
        "duration": -47,
        "start_time": "2022-02-13T14:23:51.932Z"
      },
      {
        "duration": -50,
        "start_time": "2022-02-13T14:23:51.936Z"
      },
      {
        "duration": -54,
        "start_time": "2022-02-13T14:23:51.941Z"
      },
      {
        "duration": -55,
        "start_time": "2022-02-13T14:23:51.944Z"
      },
      {
        "duration": -57,
        "start_time": "2022-02-13T14:23:51.947Z"
      },
      {
        "duration": -59,
        "start_time": "2022-02-13T14:23:51.950Z"
      },
      {
        "duration": -63,
        "start_time": "2022-02-13T14:23:51.956Z"
      },
      {
        "duration": -65,
        "start_time": "2022-02-13T14:23:51.960Z"
      },
      {
        "duration": -66,
        "start_time": "2022-02-13T14:23:51.962Z"
      },
      {
        "duration": -67,
        "start_time": "2022-02-13T14:23:51.965Z"
      },
      {
        "duration": -68,
        "start_time": "2022-02-13T14:23:51.967Z"
      },
      {
        "duration": -71,
        "start_time": "2022-02-13T14:23:51.972Z"
      },
      {
        "duration": -72,
        "start_time": "2022-02-13T14:23:51.974Z"
      },
      {
        "duration": -73,
        "start_time": "2022-02-13T14:23:51.976Z"
      },
      {
        "duration": -75,
        "start_time": "2022-02-13T14:23:51.979Z"
      },
      {
        "duration": -76,
        "start_time": "2022-02-13T14:23:51.981Z"
      },
      {
        "duration": -76,
        "start_time": "2022-02-13T14:23:51.983Z"
      },
      {
        "duration": -81,
        "start_time": "2022-02-13T14:23:51.989Z"
      },
      {
        "duration": -84,
        "start_time": "2022-02-13T14:23:51.992Z"
      },
      {
        "duration": -85,
        "start_time": "2022-02-13T14:23:51.994Z"
      },
      {
        "duration": -87,
        "start_time": "2022-02-13T14:23:51.997Z"
      },
      {
        "duration": -89,
        "start_time": "2022-02-13T14:23:52.000Z"
      },
      {
        "duration": -93,
        "start_time": "2022-02-13T14:23:52.005Z"
      },
      {
        "duration": -93,
        "start_time": "2022-02-13T14:23:52.007Z"
      },
      {
        "duration": -95,
        "start_time": "2022-02-13T14:23:52.010Z"
      },
      {
        "duration": -97,
        "start_time": "2022-02-13T14:23:52.013Z"
      },
      {
        "duration": -98,
        "start_time": "2022-02-13T14:23:52.015Z"
      },
      {
        "duration": -99,
        "start_time": "2022-02-13T14:23:52.017Z"
      },
      {
        "duration": -64,
        "start_time": "2022-02-13T14:23:52.022Z"
      },
      {
        "duration": -67,
        "start_time": "2022-02-13T14:23:52.026Z"
      },
      {
        "duration": -68,
        "start_time": "2022-02-13T14:23:52.028Z"
      },
      {
        "duration": -69,
        "start_time": "2022-02-13T14:23:52.030Z"
      },
      {
        "duration": -71,
        "start_time": "2022-02-13T14:23:52.033Z"
      },
      {
        "duration": -76,
        "start_time": "2022-02-13T14:23:52.039Z"
      },
      {
        "duration": -83,
        "start_time": "2022-02-13T14:23:52.047Z"
      },
      {
        "duration": -84,
        "start_time": "2022-02-13T14:23:52.049Z"
      },
      {
        "duration": -85,
        "start_time": "2022-02-13T14:23:52.051Z"
      },
      {
        "duration": -91,
        "start_time": "2022-02-13T14:23:52.058Z"
      },
      {
        "duration": -92,
        "start_time": "2022-02-13T14:23:52.060Z"
      },
      {
        "duration": 2,
        "start_time": "2022-02-13T14:24:06.053Z"
      },
      {
        "duration": 1143,
        "start_time": "2022-02-13T14:24:11.154Z"
      },
      {
        "duration": 2,
        "start_time": "2022-02-13T14:24:12.299Z"
      },
      {
        "duration": 96,
        "start_time": "2022-02-13T14:24:12.304Z"
      },
      {
        "duration": 42,
        "start_time": "2022-02-13T14:24:12.402Z"
      },
      {
        "duration": 19,
        "start_time": "2022-02-13T14:24:12.446Z"
      },
      {
        "duration": 11,
        "start_time": "2022-02-13T14:24:12.467Z"
      },
      {
        "duration": 5,
        "start_time": "2022-02-13T14:24:12.479Z"
      },
      {
        "duration": 97,
        "start_time": "2022-02-13T14:24:12.486Z"
      },
      {
        "duration": 5,
        "start_time": "2022-02-13T14:24:12.585Z"
      },
      {
        "duration": 166,
        "start_time": "2022-02-13T14:24:12.592Z"
      },
      {
        "duration": 8,
        "start_time": "2022-02-13T14:24:12.760Z"
      },
      {
        "duration": 148,
        "start_time": "2022-02-13T14:24:12.769Z"
      },
      {
        "duration": 6,
        "start_time": "2022-02-13T14:24:12.919Z"
      },
      {
        "duration": 15,
        "start_time": "2022-02-13T14:24:12.927Z"
      },
      {
        "duration": 23,
        "start_time": "2022-02-13T14:24:12.944Z"
      },
      {
        "duration": 150,
        "start_time": "2022-02-13T14:24:12.968Z"
      },
      {
        "duration": 472,
        "start_time": "2022-02-13T14:24:13.120Z"
      },
      {
        "duration": 224,
        "start_time": "2022-02-13T14:24:13.594Z"
      },
      {
        "duration": 146,
        "start_time": "2022-02-13T14:24:13.820Z"
      },
      {
        "duration": 6,
        "start_time": "2022-02-13T14:24:13.968Z"
      },
      {
        "duration": 9,
        "start_time": "2022-02-13T14:24:13.976Z"
      },
      {
        "duration": 4,
        "start_time": "2022-02-13T14:24:13.986Z"
      },
      {
        "duration": 9,
        "start_time": "2022-02-13T14:24:13.993Z"
      },
      {
        "duration": 260,
        "start_time": "2022-02-13T14:24:14.004Z"
      },
      {
        "duration": 5,
        "start_time": "2022-02-13T14:24:14.265Z"
      },
      {
        "duration": 13762,
        "start_time": "2022-02-13T14:24:14.272Z"
      },
      {
        "duration": 31,
        "start_time": "2022-02-13T14:24:28.036Z"
      },
      {
        "duration": 33,
        "start_time": "2022-02-13T14:24:28.068Z"
      },
      {
        "duration": 486,
        "start_time": "2022-02-13T14:24:28.102Z"
      },
      {
        "duration": 8,
        "start_time": "2022-02-13T14:24:28.590Z"
      },
      {
        "duration": 306,
        "start_time": "2022-02-13T14:24:28.599Z"
      },
      {
        "duration": 237,
        "start_time": "2022-02-13T14:24:28.907Z"
      },
      {
        "duration": 18,
        "start_time": "2022-02-13T14:24:29.145Z"
      },
      {
        "duration": 7,
        "start_time": "2022-02-13T14:24:29.165Z"
      },
      {
        "duration": 14,
        "start_time": "2022-02-13T14:24:29.174Z"
      },
      {
        "duration": 8,
        "start_time": "2022-02-13T14:24:29.189Z"
      },
      {
        "duration": 8,
        "start_time": "2022-02-13T14:24:29.198Z"
      },
      {
        "duration": 15097,
        "start_time": "2022-02-13T14:24:29.207Z"
      },
      {
        "duration": 289,
        "start_time": "2022-02-13T14:24:44.306Z"
      },
      {
        "duration": 77,
        "start_time": "2022-02-13T14:24:44.596Z"
      },
      {
        "duration": 7,
        "start_time": "2022-02-13T14:24:44.675Z"
      },
      {
        "duration": 8,
        "start_time": "2022-02-13T14:24:44.684Z"
      },
      {
        "duration": 7,
        "start_time": "2022-02-13T14:24:44.693Z"
      },
      {
        "duration": 8,
        "start_time": "2022-02-13T14:24:44.702Z"
      },
      {
        "duration": 6,
        "start_time": "2022-02-13T14:24:44.711Z"
      },
      {
        "duration": 44,
        "start_time": "2022-02-13T14:24:44.718Z"
      },
      {
        "duration": 7,
        "start_time": "2022-02-13T14:36:21.360Z"
      },
      {
        "duration": 2,
        "start_time": "2022-02-13T14:42:50.324Z"
      },
      {
        "duration": 3,
        "start_time": "2022-02-13T14:42:50.804Z"
      },
      {
        "duration": 87,
        "start_time": "2022-02-13T14:42:51.299Z"
      },
      {
        "duration": 40,
        "start_time": "2022-02-13T14:42:56.127Z"
      },
      {
        "duration": 269,
        "start_time": "2022-02-13T14:50:12.471Z"
      },
      {
        "duration": 3,
        "start_time": "2022-02-13T14:50:18.239Z"
      },
      {
        "duration": 2,
        "start_time": "2022-02-13T14:50:18.249Z"
      },
      {
        "duration": 94,
        "start_time": "2022-02-13T14:50:18.252Z"
      },
      {
        "duration": 46,
        "start_time": "2022-02-13T14:50:18.360Z"
      },
      {
        "duration": 53,
        "start_time": "2022-02-13T14:50:18.408Z"
      },
      {
        "duration": 10,
        "start_time": "2022-02-13T14:50:18.463Z"
      },
      {
        "duration": 16,
        "start_time": "2022-02-13T14:50:18.474Z"
      },
      {
        "duration": 5,
        "start_time": "2022-02-13T14:50:18.492Z"
      },
      {
        "duration": 100,
        "start_time": "2022-02-13T14:50:18.498Z"
      },
      {
        "duration": 8,
        "start_time": "2022-02-13T14:50:18.602Z"
      },
      {
        "duration": 158,
        "start_time": "2022-02-13T14:50:18.612Z"
      },
      {
        "duration": 7,
        "start_time": "2022-02-13T14:50:18.772Z"
      },
      {
        "duration": 153,
        "start_time": "2022-02-13T14:50:18.780Z"
      },
      {
        "duration": 7,
        "start_time": "2022-02-13T14:50:18.935Z"
      },
      {
        "duration": 28,
        "start_time": "2022-02-13T14:50:18.943Z"
      },
      {
        "duration": 18,
        "start_time": "2022-02-13T14:50:18.973Z"
      },
      {
        "duration": 147,
        "start_time": "2022-02-13T14:50:18.992Z"
      },
      {
        "duration": 595,
        "start_time": "2022-02-13T14:50:19.141Z"
      },
      {
        "duration": 152,
        "start_time": "2022-02-13T14:50:19.738Z"
      },
      {
        "duration": 142,
        "start_time": "2022-02-13T14:50:19.892Z"
      },
      {
        "duration": 7,
        "start_time": "2022-02-13T14:50:20.036Z"
      },
      {
        "duration": 21,
        "start_time": "2022-02-13T14:50:20.045Z"
      },
      {
        "duration": 3,
        "start_time": "2022-02-13T14:50:20.068Z"
      },
      {
        "duration": 12,
        "start_time": "2022-02-13T14:50:20.073Z"
      },
      {
        "duration": 248,
        "start_time": "2022-02-13T14:50:20.087Z"
      },
      {
        "duration": 6,
        "start_time": "2022-02-13T14:50:20.337Z"
      },
      {
        "duration": 14167,
        "start_time": "2022-02-13T14:50:53.009Z"
      },
      {
        "duration": 14229,
        "start_time": "2022-02-13T14:51:15.161Z"
      },
      {
        "duration": 13580,
        "start_time": "2022-02-13T14:51:38.311Z"
      },
      {
        "duration": 87,
        "start_time": "2022-02-14T07:46:11.160Z"
      },
      {
        "duration": 102,
        "start_time": "2022-02-14T07:46:25.296Z"
      },
      {
        "duration": 283,
        "start_time": "2022-02-14T10:30:18.652Z"
      },
      {
        "duration": 1258,
        "start_time": "2022-02-14T10:30:29.310Z"
      },
      {
        "duration": 3,
        "start_time": "2022-02-14T10:30:30.570Z"
      },
      {
        "duration": 101,
        "start_time": "2022-02-14T10:30:30.576Z"
      },
      {
        "duration": 53,
        "start_time": "2022-02-14T10:30:30.680Z"
      },
      {
        "duration": 26,
        "start_time": "2022-02-14T10:30:30.735Z"
      },
      {
        "duration": 56,
        "start_time": "2022-02-14T10:30:30.764Z"
      },
      {
        "duration": 11,
        "start_time": "2022-02-14T10:30:30.821Z"
      },
      {
        "duration": 11,
        "start_time": "2022-02-14T10:30:30.834Z"
      },
      {
        "duration": 19,
        "start_time": "2022-02-14T10:30:30.847Z"
      },
      {
        "duration": 82,
        "start_time": "2022-02-14T10:30:30.867Z"
      },
      {
        "duration": 6,
        "start_time": "2022-02-14T10:30:30.951Z"
      },
      {
        "duration": 169,
        "start_time": "2022-02-14T10:30:30.958Z"
      },
      {
        "duration": 7,
        "start_time": "2022-02-14T10:30:31.129Z"
      },
      {
        "duration": 156,
        "start_time": "2022-02-14T10:30:31.138Z"
      },
      {
        "duration": 6,
        "start_time": "2022-02-14T10:30:31.296Z"
      },
      {
        "duration": 39,
        "start_time": "2022-02-14T10:30:31.304Z"
      },
      {
        "duration": 35,
        "start_time": "2022-02-14T10:30:31.344Z"
      },
      {
        "duration": 172,
        "start_time": "2022-02-14T10:30:31.380Z"
      },
      {
        "duration": 477,
        "start_time": "2022-02-14T10:30:31.553Z"
      },
      {
        "duration": 203,
        "start_time": "2022-02-14T10:30:32.032Z"
      },
      {
        "duration": 141,
        "start_time": "2022-02-14T10:30:32.236Z"
      },
      {
        "duration": 6,
        "start_time": "2022-02-14T10:30:32.379Z"
      },
      {
        "duration": 10,
        "start_time": "2022-02-14T10:30:32.389Z"
      },
      {
        "duration": 19,
        "start_time": "2022-02-14T10:30:32.401Z"
      },
      {
        "duration": 15,
        "start_time": "2022-02-14T10:30:32.421Z"
      },
      {
        "duration": 244,
        "start_time": "2022-02-14T10:30:32.437Z"
      },
      {
        "duration": 5,
        "start_time": "2022-02-14T10:30:32.683Z"
      },
      {
        "duration": 14102,
        "start_time": "2022-02-14T10:30:32.689Z"
      },
      {
        "duration": 27,
        "start_time": "2022-02-14T10:30:46.792Z"
      },
      {
        "duration": 31,
        "start_time": "2022-02-14T10:30:46.821Z"
      },
      {
        "duration": 460,
        "start_time": "2022-02-14T10:30:46.854Z"
      },
      {
        "duration": 7,
        "start_time": "2022-02-14T10:30:47.319Z"
      },
      {
        "duration": 307,
        "start_time": "2022-02-14T10:30:47.328Z"
      },
      {
        "duration": 239,
        "start_time": "2022-02-14T10:30:47.637Z"
      },
      {
        "duration": 6,
        "start_time": "2022-02-14T10:30:47.878Z"
      },
      {
        "duration": 9,
        "start_time": "2022-02-14T10:30:47.885Z"
      },
      {
        "duration": 25,
        "start_time": "2022-02-14T10:30:47.896Z"
      },
      {
        "duration": 10,
        "start_time": "2022-02-14T10:30:47.922Z"
      },
      {
        "duration": 7,
        "start_time": "2022-02-14T10:30:47.934Z"
      },
      {
        "duration": 15365,
        "start_time": "2022-02-14T10:30:47.943Z"
      },
      {
        "duration": 320,
        "start_time": "2022-02-14T10:31:03.309Z"
      },
      {
        "duration": 68,
        "start_time": "2022-02-14T10:31:03.631Z"
      },
      {
        "duration": 18,
        "start_time": "2022-02-14T10:31:03.701Z"
      },
      {
        "duration": 8,
        "start_time": "2022-02-14T10:31:03.721Z"
      },
      {
        "duration": 10,
        "start_time": "2022-02-14T10:31:03.730Z"
      },
      {
        "duration": 8,
        "start_time": "2022-02-14T10:31:03.741Z"
      },
      {
        "duration": 10,
        "start_time": "2022-02-14T10:31:03.751Z"
      },
      {
        "duration": 12,
        "start_time": "2022-02-14T10:31:03.763Z"
      },
      {
        "duration": 68,
        "start_time": "2022-02-14T10:36:41.789Z"
      },
      {
        "duration": 21,
        "start_time": "2022-02-14T10:37:47.807Z"
      },
      {
        "duration": 68,
        "start_time": "2022-02-14T10:39:06.408Z"
      },
      {
        "duration": 20,
        "start_time": "2022-02-14T10:50:40.123Z"
      },
      {
        "duration": 63,
        "start_time": "2022-02-14T10:51:53.382Z"
      },
      {
        "duration": 1116,
        "start_time": "2022-02-16T08:12:02.308Z"
      },
      {
        "duration": 6,
        "start_time": "2022-02-16T08:12:03.426Z"
      },
      {
        "duration": 81,
        "start_time": "2022-02-16T08:12:03.436Z"
      },
      {
        "duration": 38,
        "start_time": "2022-02-16T08:12:03.519Z"
      },
      {
        "duration": 23,
        "start_time": "2022-02-16T08:12:03.559Z"
      },
      {
        "duration": 2,
        "start_time": "2022-02-16T08:12:03.583Z"
      },
      {
        "duration": 8,
        "start_time": "2022-02-16T08:12:03.588Z"
      },
      {
        "duration": 34,
        "start_time": "2022-02-16T08:12:03.598Z"
      },
      {
        "duration": 4,
        "start_time": "2022-02-16T08:12:03.633Z"
      },
      {
        "duration": 65,
        "start_time": "2022-02-16T08:12:03.639Z"
      },
      {
        "duration": 42,
        "start_time": "2022-02-16T08:12:03.705Z"
      },
      {
        "duration": 6,
        "start_time": "2022-02-16T08:12:03.748Z"
      },
      {
        "duration": 141,
        "start_time": "2022-02-16T08:12:03.755Z"
      },
      {
        "duration": 9,
        "start_time": "2022-02-16T08:12:03.898Z"
      },
      {
        "duration": 133,
        "start_time": "2022-02-16T08:12:03.909Z"
      },
      {
        "duration": 6,
        "start_time": "2022-02-16T08:12:04.043Z"
      },
      {
        "duration": 11,
        "start_time": "2022-02-16T08:12:04.050Z"
      },
      {
        "duration": 10,
        "start_time": "2022-02-16T08:12:04.062Z"
      },
      {
        "duration": 143,
        "start_time": "2022-02-16T08:12:04.074Z"
      },
      {
        "duration": 438,
        "start_time": "2022-02-16T08:12:04.218Z"
      },
      {
        "duration": 179,
        "start_time": "2022-02-16T08:12:04.658Z"
      },
      {
        "duration": 131,
        "start_time": "2022-02-16T08:12:04.841Z"
      },
      {
        "duration": 7,
        "start_time": "2022-02-16T08:12:04.974Z"
      },
      {
        "duration": 9,
        "start_time": "2022-02-16T08:12:04.983Z"
      },
      {
        "duration": 4,
        "start_time": "2022-02-16T08:12:04.993Z"
      },
      {
        "duration": 9,
        "start_time": "2022-02-16T08:12:04.998Z"
      },
      {
        "duration": 247,
        "start_time": "2022-02-16T08:12:05.008Z"
      },
      {
        "duration": 4,
        "start_time": "2022-02-16T08:12:05.256Z"
      },
      {
        "duration": 12942,
        "start_time": "2022-02-16T08:12:05.262Z"
      },
      {
        "duration": 28,
        "start_time": "2022-02-16T08:12:18.206Z"
      },
      {
        "duration": 30,
        "start_time": "2022-02-16T08:12:18.235Z"
      },
      {
        "duration": 430,
        "start_time": "2022-02-16T08:12:18.266Z"
      },
      {
        "duration": 7,
        "start_time": "2022-02-16T08:12:18.698Z"
      },
      {
        "duration": 272,
        "start_time": "2022-02-16T08:12:18.707Z"
      },
      {
        "duration": 203,
        "start_time": "2022-02-16T08:12:18.981Z"
      },
      {
        "duration": 5,
        "start_time": "2022-02-16T08:12:19.185Z"
      },
      {
        "duration": 6,
        "start_time": "2022-02-16T08:12:19.192Z"
      },
      {
        "duration": 7,
        "start_time": "2022-02-16T08:12:19.199Z"
      },
      {
        "duration": 26,
        "start_time": "2022-02-16T08:12:19.207Z"
      },
      {
        "duration": 6,
        "start_time": "2022-02-16T08:12:19.235Z"
      },
      {
        "duration": 14348,
        "start_time": "2022-02-16T08:12:19.242Z"
      },
      {
        "duration": 285,
        "start_time": "2022-02-16T08:12:33.591Z"
      },
      {
        "duration": 63,
        "start_time": "2022-02-16T08:12:33.878Z"
      },
      {
        "duration": 7,
        "start_time": "2022-02-16T08:12:33.943Z"
      },
      {
        "duration": 6,
        "start_time": "2022-02-16T08:12:33.951Z"
      },
      {
        "duration": 7,
        "start_time": "2022-02-16T08:12:33.959Z"
      },
      {
        "duration": 6,
        "start_time": "2022-02-16T08:12:33.968Z"
      },
      {
        "duration": 7,
        "start_time": "2022-02-16T08:12:33.976Z"
      },
      {
        "duration": 10,
        "start_time": "2022-02-16T08:12:33.984Z"
      },
      {
        "duration": 1056,
        "start_time": "2022-02-16T08:18:38.671Z"
      },
      {
        "duration": 2,
        "start_time": "2022-02-16T08:18:39.728Z"
      },
      {
        "duration": 88,
        "start_time": "2022-02-16T08:18:39.732Z"
      },
      {
        "duration": 33,
        "start_time": "2022-02-16T08:18:39.822Z"
      },
      {
        "duration": 22,
        "start_time": "2022-02-16T08:18:39.857Z"
      },
      {
        "duration": 2,
        "start_time": "2022-02-16T08:18:39.881Z"
      },
      {
        "duration": 9,
        "start_time": "2022-02-16T08:18:39.884Z"
      },
      {
        "duration": 8,
        "start_time": "2022-02-16T08:18:39.895Z"
      },
      {
        "duration": 27,
        "start_time": "2022-02-16T08:18:39.905Z"
      },
      {
        "duration": 58,
        "start_time": "2022-02-16T08:18:39.934Z"
      },
      {
        "duration": 22,
        "start_time": "2022-02-16T08:18:39.993Z"
      },
      {
        "duration": 9,
        "start_time": "2022-02-16T08:18:40.032Z"
      },
      {
        "duration": 9,
        "start_time": "2022-02-16T08:18:40.043Z"
      },
      {
        "duration": 388,
        "start_time": "2022-02-16T08:18:40.054Z"
      },
      {
        "duration": -125,
        "start_time": "2022-02-16T08:18:40.569Z"
      },
      {
        "duration": -132,
        "start_time": "2022-02-16T08:18:40.577Z"
      },
      {
        "duration": -137,
        "start_time": "2022-02-16T08:18:40.583Z"
      },
      {
        "duration": -142,
        "start_time": "2022-02-16T08:18:40.588Z"
      },
      {
        "duration": -150,
        "start_time": "2022-02-16T08:18:40.597Z"
      },
      {
        "duration": -166,
        "start_time": "2022-02-16T08:18:40.614Z"
      },
      {
        "duration": -207,
        "start_time": "2022-02-16T08:18:40.656Z"
      },
      {
        "duration": -278,
        "start_time": "2022-02-16T08:18:40.727Z"
      },
      {
        "duration": -283,
        "start_time": "2022-02-16T08:18:40.733Z"
      },
      {
        "duration": -288,
        "start_time": "2022-02-16T08:18:40.739Z"
      },
      {
        "duration": -301,
        "start_time": "2022-02-16T08:18:40.753Z"
      },
      {
        "duration": -308,
        "start_time": "2022-02-16T08:18:40.760Z"
      },
      {
        "duration": -313,
        "start_time": "2022-02-16T08:18:40.766Z"
      },
      {
        "duration": -361,
        "start_time": "2022-02-16T08:18:40.815Z"
      },
      {
        "duration": -396,
        "start_time": "2022-02-16T08:18:40.851Z"
      },
      {
        "duration": -409,
        "start_time": "2022-02-16T08:18:40.864Z"
      },
      {
        "duration": -414,
        "start_time": "2022-02-16T08:18:40.870Z"
      },
      {
        "duration": -430,
        "start_time": "2022-02-16T08:18:40.887Z"
      },
      {
        "duration": -439,
        "start_time": "2022-02-16T08:18:40.897Z"
      },
      {
        "duration": -446,
        "start_time": "2022-02-16T08:18:40.905Z"
      },
      {
        "duration": -452,
        "start_time": "2022-02-16T08:18:40.912Z"
      },
      {
        "duration": -458,
        "start_time": "2022-02-16T08:18:40.919Z"
      },
      {
        "duration": -468,
        "start_time": "2022-02-16T08:18:40.930Z"
      },
      {
        "duration": -488,
        "start_time": "2022-02-16T08:18:40.951Z"
      },
      {
        "duration": -495,
        "start_time": "2022-02-16T08:18:40.959Z"
      },
      {
        "duration": -504,
        "start_time": "2022-02-16T08:18:40.968Z"
      },
      {
        "duration": -510,
        "start_time": "2022-02-16T08:18:40.975Z"
      },
      {
        "duration": -520,
        "start_time": "2022-02-16T08:18:40.986Z"
      },
      {
        "duration": -526,
        "start_time": "2022-02-16T08:18:40.994Z"
      },
      {
        "duration": -532,
        "start_time": "2022-02-16T08:18:41.001Z"
      },
      {
        "duration": -543,
        "start_time": "2022-02-16T08:18:41.013Z"
      },
      {
        "duration": -552,
        "start_time": "2022-02-16T08:18:41.023Z"
      },
      {
        "duration": -558,
        "start_time": "2022-02-16T08:18:41.030Z"
      },
      {
        "duration": -566,
        "start_time": "2022-02-16T08:18:41.038Z"
      },
      {
        "duration": -572,
        "start_time": "2022-02-16T08:18:41.045Z"
      },
      {
        "duration": -587,
        "start_time": "2022-02-16T08:18:41.061Z"
      },
      {
        "duration": -597,
        "start_time": "2022-02-16T08:18:41.072Z"
      },
      {
        "duration": -603,
        "start_time": "2022-02-16T08:18:41.079Z"
      },
      {
        "duration": 12,
        "start_time": "2022-02-16T08:21:52.461Z"
      },
      {
        "duration": 1063,
        "start_time": "2022-02-16T08:26:33.756Z"
      },
      {
        "duration": 2,
        "start_time": "2022-02-16T08:26:34.820Z"
      },
      {
        "duration": 83,
        "start_time": "2022-02-16T08:26:34.825Z"
      },
      {
        "duration": 35,
        "start_time": "2022-02-16T08:26:34.910Z"
      },
      {
        "duration": 21,
        "start_time": "2022-02-16T08:26:34.946Z"
      },
      {
        "duration": 1,
        "start_time": "2022-02-16T08:26:34.969Z"
      },
      {
        "duration": 8,
        "start_time": "2022-02-16T08:26:34.972Z"
      },
      {
        "duration": 8,
        "start_time": "2022-02-16T08:26:34.982Z"
      },
      {
        "duration": 3,
        "start_time": "2022-02-16T08:26:34.992Z"
      },
      {
        "duration": 84,
        "start_time": "2022-02-16T08:26:34.996Z"
      },
      {
        "duration": 21,
        "start_time": "2022-02-16T08:26:35.082Z"
      },
      {
        "duration": 33,
        "start_time": "2022-02-16T08:26:35.104Z"
      },
      {
        "duration": 12,
        "start_time": "2022-02-16T08:26:35.139Z"
      },
      {
        "duration": 4,
        "start_time": "2022-02-16T08:26:35.152Z"
      },
      {
        "duration": 132,
        "start_time": "2022-02-16T08:26:35.157Z"
      },
      {
        "duration": 7,
        "start_time": "2022-02-16T08:26:35.290Z"
      },
      {
        "duration": 128,
        "start_time": "2022-02-16T08:26:35.298Z"
      },
      {
        "duration": 6,
        "start_time": "2022-02-16T08:26:35.428Z"
      },
      {
        "duration": 9,
        "start_time": "2022-02-16T08:26:35.436Z"
      },
      {
        "duration": 10,
        "start_time": "2022-02-16T08:26:35.446Z"
      },
      {
        "duration": 134,
        "start_time": "2022-02-16T08:26:35.457Z"
      },
      {
        "duration": 451,
        "start_time": "2022-02-16T08:26:35.592Z"
      },
      {
        "duration": 189,
        "start_time": "2022-02-16T08:26:36.046Z"
      },
      {
        "duration": 125,
        "start_time": "2022-02-16T08:26:36.237Z"
      },
      {
        "duration": 6,
        "start_time": "2022-02-16T08:26:36.364Z"
      },
      {
        "duration": 7,
        "start_time": "2022-02-16T08:26:36.371Z"
      },
      {
        "duration": 3,
        "start_time": "2022-02-16T08:26:36.380Z"
      },
      {
        "duration": 9,
        "start_time": "2022-02-16T08:26:36.384Z"
      },
      {
        "duration": 246,
        "start_time": "2022-02-16T08:26:36.394Z"
      },
      {
        "duration": 5,
        "start_time": "2022-02-16T08:26:36.641Z"
      },
      {
        "duration": 13554,
        "start_time": "2022-02-16T08:26:36.647Z"
      },
      {
        "duration": 12,
        "start_time": "2022-02-16T08:26:50.202Z"
      },
      {
        "duration": 30,
        "start_time": "2022-02-16T08:26:50.231Z"
      },
      {
        "duration": 416,
        "start_time": "2022-02-16T08:26:50.262Z"
      },
      {
        "duration": 6,
        "start_time": "2022-02-16T08:26:50.680Z"
      },
      {
        "duration": 274,
        "start_time": "2022-02-16T08:26:50.688Z"
      },
      {
        "duration": 213,
        "start_time": "2022-02-16T08:26:50.964Z"
      },
      {
        "duration": 6,
        "start_time": "2022-02-16T08:26:51.178Z"
      },
      {
        "duration": 8,
        "start_time": "2022-02-16T08:26:51.185Z"
      },
      {
        "duration": 8,
        "start_time": "2022-02-16T08:26:51.194Z"
      },
      {
        "duration": 28,
        "start_time": "2022-02-16T08:26:51.204Z"
      },
      {
        "duration": 7,
        "start_time": "2022-02-16T08:26:51.234Z"
      },
      {
        "duration": 15129,
        "start_time": "2022-02-16T08:26:51.242Z"
      },
      {
        "duration": 250,
        "start_time": "2022-02-16T08:27:06.373Z"
      },
      {
        "duration": 65,
        "start_time": "2022-02-16T08:27:06.624Z"
      },
      {
        "duration": 6,
        "start_time": "2022-02-16T08:27:06.691Z"
      },
      {
        "duration": 7,
        "start_time": "2022-02-16T08:27:06.699Z"
      },
      {
        "duration": 29,
        "start_time": "2022-02-16T08:27:06.707Z"
      },
      {
        "duration": 8,
        "start_time": "2022-02-16T08:27:06.738Z"
      },
      {
        "duration": 7,
        "start_time": "2022-02-16T08:27:06.748Z"
      },
      {
        "duration": 11,
        "start_time": "2022-02-16T08:27:06.756Z"
      },
      {
        "duration": 1171,
        "start_time": "2022-02-16T08:35:21.861Z"
      },
      {
        "duration": 2,
        "start_time": "2022-02-16T08:35:23.034Z"
      },
      {
        "duration": 80,
        "start_time": "2022-02-16T08:35:23.038Z"
      },
      {
        "duration": 39,
        "start_time": "2022-02-16T08:35:23.120Z"
      },
      {
        "duration": 23,
        "start_time": "2022-02-16T08:35:23.161Z"
      },
      {
        "duration": 2,
        "start_time": "2022-02-16T08:35:23.185Z"
      },
      {
        "duration": 9,
        "start_time": "2022-02-16T08:35:23.189Z"
      },
      {
        "duration": 31,
        "start_time": "2022-02-16T08:35:23.201Z"
      },
      {
        "duration": 5,
        "start_time": "2022-02-16T08:35:23.233Z"
      },
      {
        "duration": 64,
        "start_time": "2022-02-16T08:35:23.239Z"
      },
      {
        "duration": 42,
        "start_time": "2022-02-16T08:35:23.305Z"
      },
      {
        "duration": 6,
        "start_time": "2022-02-16T08:35:23.356Z"
      },
      {
        "duration": 158,
        "start_time": "2022-02-16T08:35:23.364Z"
      },
      {
        "duration": 13,
        "start_time": "2022-02-16T08:35:23.524Z"
      },
      {
        "duration": 139,
        "start_time": "2022-02-16T08:35:23.538Z"
      },
      {
        "duration": 9,
        "start_time": "2022-02-16T08:35:23.678Z"
      },
      {
        "duration": 12,
        "start_time": "2022-02-16T08:35:23.688Z"
      },
      {
        "duration": 31,
        "start_time": "2022-02-16T08:35:23.701Z"
      },
      {
        "duration": 120,
        "start_time": "2022-02-16T08:35:23.734Z"
      },
      {
        "duration": 437,
        "start_time": "2022-02-16T08:35:23.855Z"
      },
      {
        "duration": 178,
        "start_time": "2022-02-16T08:35:24.293Z"
      },
      {
        "duration": 125,
        "start_time": "2022-02-16T08:35:24.473Z"
      },
      {
        "duration": 7,
        "start_time": "2022-02-16T08:35:24.602Z"
      },
      {
        "duration": 37,
        "start_time": "2022-02-16T08:35:24.611Z"
      },
      {
        "duration": 12,
        "start_time": "2022-02-16T08:35:24.649Z"
      },
      {
        "duration": 4,
        "start_time": "2022-02-16T08:35:24.662Z"
      },
      {
        "duration": 10,
        "start_time": "2022-02-16T08:35:24.667Z"
      },
      {
        "duration": 254,
        "start_time": "2022-02-16T08:35:24.678Z"
      },
      {
        "duration": 4,
        "start_time": "2022-02-16T08:35:24.934Z"
      },
      {
        "duration": 12352,
        "start_time": "2022-02-16T08:35:24.939Z"
      },
      {
        "duration": 16,
        "start_time": "2022-02-16T08:35:37.293Z"
      },
      {
        "duration": 48,
        "start_time": "2022-02-16T08:35:37.311Z"
      },
      {
        "duration": 424,
        "start_time": "2022-02-16T08:35:37.360Z"
      },
      {
        "duration": 6,
        "start_time": "2022-02-16T08:35:37.786Z"
      },
      {
        "duration": 263,
        "start_time": "2022-02-16T08:35:37.793Z"
      },
      {
        "duration": 214,
        "start_time": "2022-02-16T08:35:38.058Z"
      },
      {
        "duration": 5,
        "start_time": "2022-02-16T08:35:38.273Z"
      },
      {
        "duration": 4,
        "start_time": "2022-02-16T08:35:38.279Z"
      },
      {
        "duration": 13,
        "start_time": "2022-02-16T08:35:38.285Z"
      },
      {
        "duration": 7,
        "start_time": "2022-02-16T08:35:38.299Z"
      },
      {
        "duration": 26,
        "start_time": "2022-02-16T08:35:38.307Z"
      },
      {
        "duration": 15531,
        "start_time": "2022-02-16T08:35:38.335Z"
      },
      {
        "duration": 276,
        "start_time": "2022-02-16T08:35:53.868Z"
      },
      {
        "duration": 56,
        "start_time": "2022-02-16T08:35:54.145Z"
      },
      {
        "duration": 7,
        "start_time": "2022-02-16T08:35:54.203Z"
      },
      {
        "duration": 21,
        "start_time": "2022-02-16T08:35:54.211Z"
      },
      {
        "duration": 8,
        "start_time": "2022-02-16T08:35:54.234Z"
      },
      {
        "duration": 7,
        "start_time": "2022-02-16T08:35:54.244Z"
      },
      {
        "duration": 5,
        "start_time": "2022-02-16T08:35:54.253Z"
      },
      {
        "duration": 10,
        "start_time": "2022-02-16T08:35:54.259Z"
      },
      {
        "duration": 1043,
        "start_time": "2022-02-16T08:39:31.485Z"
      },
      {
        "duration": 2,
        "start_time": "2022-02-16T08:39:32.530Z"
      },
      {
        "duration": 92,
        "start_time": "2022-02-16T08:39:32.533Z"
      },
      {
        "duration": 35,
        "start_time": "2022-02-16T08:39:32.626Z"
      },
      {
        "duration": 24,
        "start_time": "2022-02-16T08:39:32.663Z"
      },
      {
        "duration": 2,
        "start_time": "2022-02-16T08:39:32.688Z"
      },
      {
        "duration": 10,
        "start_time": "2022-02-16T08:39:32.691Z"
      },
      {
        "duration": 29,
        "start_time": "2022-02-16T08:39:32.703Z"
      },
      {
        "duration": 3,
        "start_time": "2022-02-16T08:39:32.734Z"
      },
      {
        "duration": 80,
        "start_time": "2022-02-16T08:39:32.739Z"
      },
      {
        "duration": 31,
        "start_time": "2022-02-16T08:39:32.820Z"
      },
      {
        "duration": 5,
        "start_time": "2022-02-16T08:39:32.852Z"
      },
      {
        "duration": 149,
        "start_time": "2022-02-16T08:39:32.859Z"
      },
      {
        "duration": 7,
        "start_time": "2022-02-16T08:39:33.010Z"
      },
      {
        "duration": 133,
        "start_time": "2022-02-16T08:39:33.019Z"
      },
      {
        "duration": 8,
        "start_time": "2022-02-16T08:39:33.153Z"
      },
      {
        "duration": 10,
        "start_time": "2022-02-16T08:39:33.162Z"
      },
      {
        "duration": 10,
        "start_time": "2022-02-16T08:39:33.173Z"
      },
      {
        "duration": 136,
        "start_time": "2022-02-16T08:39:33.184Z"
      },
      {
        "duration": 435,
        "start_time": "2022-02-16T08:39:33.322Z"
      },
      {
        "duration": 181,
        "start_time": "2022-02-16T08:39:33.759Z"
      },
      {
        "duration": 120,
        "start_time": "2022-02-16T08:39:33.942Z"
      },
      {
        "duration": 6,
        "start_time": "2022-02-16T08:39:34.065Z"
      },
      {
        "duration": 404,
        "start_time": "2022-02-16T08:39:34.073Z"
      },
      {
        "duration": -172,
        "start_time": "2022-02-16T08:39:34.650Z"
      },
      {
        "duration": -221,
        "start_time": "2022-02-16T08:39:34.700Z"
      },
      {
        "duration": -240,
        "start_time": "2022-02-16T08:39:34.720Z"
      },
      {
        "duration": -274,
        "start_time": "2022-02-16T08:39:34.755Z"
      },
      {
        "duration": -419,
        "start_time": "2022-02-16T08:39:34.901Z"
      },
      {
        "duration": -494,
        "start_time": "2022-02-16T08:39:34.977Z"
      },
      {
        "duration": -607,
        "start_time": "2022-02-16T08:39:35.091Z"
      },
      {
        "duration": -640,
        "start_time": "2022-02-16T08:39:35.125Z"
      },
      {
        "duration": -648,
        "start_time": "2022-02-16T08:39:35.134Z"
      },
      {
        "duration": -658,
        "start_time": "2022-02-16T08:39:35.145Z"
      },
      {
        "duration": -668,
        "start_time": "2022-02-16T08:39:35.156Z"
      },
      {
        "duration": -827,
        "start_time": "2022-02-16T08:39:35.316Z"
      },
      {
        "duration": -851,
        "start_time": "2022-02-16T08:39:35.341Z"
      },
      {
        "duration": -947,
        "start_time": "2022-02-16T08:39:35.437Z"
      },
      {
        "duration": -984,
        "start_time": "2022-02-16T08:39:35.475Z"
      },
      {
        "duration": -1020,
        "start_time": "2022-02-16T08:39:35.512Z"
      },
      {
        "duration": -1071,
        "start_time": "2022-02-16T08:39:35.564Z"
      },
      {
        "duration": -1081,
        "start_time": "2022-02-16T08:39:35.576Z"
      },
      {
        "duration": -1085,
        "start_time": "2022-02-16T08:39:35.581Z"
      },
      {
        "duration": -1089,
        "start_time": "2022-02-16T08:39:35.586Z"
      },
      {
        "duration": -1096,
        "start_time": "2022-02-16T08:39:35.593Z"
      },
      {
        "duration": -1100,
        "start_time": "2022-02-16T08:39:35.598Z"
      },
      {
        "duration": -1149,
        "start_time": "2022-02-16T08:39:35.648Z"
      },
      {
        "duration": -1187,
        "start_time": "2022-02-16T08:39:35.687Z"
      },
      {
        "duration": -1247,
        "start_time": "2022-02-16T08:39:35.748Z"
      },
      {
        "duration": -1277,
        "start_time": "2022-02-16T08:39:35.779Z"
      },
      {
        "duration": 687,
        "start_time": "2022-02-16T08:40:06.438Z"
      },
      {
        "duration": 19,
        "start_time": "2022-02-16T08:40:25.040Z"
      },
      {
        "duration": 14,
        "start_time": "2022-02-16T08:40:28.019Z"
      },
      {
        "duration": 1068,
        "start_time": "2022-02-16T08:43:30.662Z"
      },
      {
        "duration": 2,
        "start_time": "2022-02-16T08:43:31.731Z"
      },
      {
        "duration": 80,
        "start_time": "2022-02-16T08:43:31.735Z"
      },
      {
        "duration": 34,
        "start_time": "2022-02-16T08:43:31.817Z"
      },
      {
        "duration": 22,
        "start_time": "2022-02-16T08:43:31.853Z"
      },
      {
        "duration": 2,
        "start_time": "2022-02-16T08:43:31.876Z"
      },
      {
        "duration": 9,
        "start_time": "2022-02-16T08:43:31.880Z"
      },
      {
        "duration": 8,
        "start_time": "2022-02-16T08:43:31.891Z"
      },
      {
        "duration": 31,
        "start_time": "2022-02-16T08:43:31.901Z"
      },
      {
        "duration": 62,
        "start_time": "2022-02-16T08:43:31.933Z"
      },
      {
        "duration": 36,
        "start_time": "2022-02-16T08:43:31.996Z"
      },
      {
        "duration": 5,
        "start_time": "2022-02-16T08:43:32.034Z"
      },
      {
        "duration": 137,
        "start_time": "2022-02-16T08:43:32.040Z"
      },
      {
        "duration": 7,
        "start_time": "2022-02-16T08:43:32.179Z"
      },
      {
        "duration": 134,
        "start_time": "2022-02-16T08:43:32.188Z"
      },
      {
        "duration": 10,
        "start_time": "2022-02-16T08:43:32.323Z"
      },
      {
        "duration": 12,
        "start_time": "2022-02-16T08:43:32.334Z"
      },
      {
        "duration": 10,
        "start_time": "2022-02-16T08:43:32.347Z"
      },
      {
        "duration": 131,
        "start_time": "2022-02-16T08:43:32.358Z"
      },
      {
        "duration": 441,
        "start_time": "2022-02-16T08:43:32.491Z"
      },
      {
        "duration": 173,
        "start_time": "2022-02-16T08:43:32.934Z"
      },
      {
        "duration": 124,
        "start_time": "2022-02-16T08:43:33.109Z"
      },
      {
        "duration": 6,
        "start_time": "2022-02-16T08:43:33.236Z"
      },
      {
        "duration": 16,
        "start_time": "2022-02-16T08:43:33.244Z"
      },
      {
        "duration": 13,
        "start_time": "2022-02-16T08:43:33.262Z"
      },
      {
        "duration": 3,
        "start_time": "2022-02-16T08:43:33.276Z"
      },
      {
        "duration": 9,
        "start_time": "2022-02-16T08:43:33.281Z"
      },
      {
        "duration": 253,
        "start_time": "2022-02-16T08:43:33.291Z"
      },
      {
        "duration": 6,
        "start_time": "2022-02-16T08:43:33.546Z"
      },
      {
        "duration": 15919,
        "start_time": "2022-02-16T08:43:33.553Z"
      },
      {
        "duration": 16,
        "start_time": "2022-02-16T08:43:49.474Z"
      },
      {
        "duration": 53,
        "start_time": "2022-02-16T08:43:49.492Z"
      },
      {
        "duration": 423,
        "start_time": "2022-02-16T08:43:49.547Z"
      },
      {
        "duration": 7,
        "start_time": "2022-02-16T08:43:49.972Z"
      },
      {
        "duration": 271,
        "start_time": "2022-02-16T08:43:49.980Z"
      },
      {
        "duration": 232,
        "start_time": "2022-02-16T08:43:50.252Z"
      },
      {
        "duration": 5,
        "start_time": "2022-02-16T08:43:50.485Z"
      },
      {
        "duration": 6,
        "start_time": "2022-02-16T08:43:50.492Z"
      },
      {
        "duration": 9,
        "start_time": "2022-02-16T08:43:50.499Z"
      },
      {
        "duration": 5,
        "start_time": "2022-02-16T08:43:50.510Z"
      },
      {
        "duration": 7,
        "start_time": "2022-02-16T08:43:50.531Z"
      },
      {
        "duration": 15199,
        "start_time": "2022-02-16T08:43:50.539Z"
      },
      {
        "duration": 293,
        "start_time": "2022-02-16T08:44:05.739Z"
      },
      {
        "duration": 60,
        "start_time": "2022-02-16T08:44:06.033Z"
      },
      {
        "duration": 6,
        "start_time": "2022-02-16T08:44:06.095Z"
      },
      {
        "duration": 6,
        "start_time": "2022-02-16T08:44:06.103Z"
      },
      {
        "duration": 27,
        "start_time": "2022-02-16T08:44:06.110Z"
      },
      {
        "duration": 7,
        "start_time": "2022-02-16T08:44:06.138Z"
      },
      {
        "duration": 5,
        "start_time": "2022-02-16T08:44:06.146Z"
      },
      {
        "duration": 9,
        "start_time": "2022-02-16T08:44:06.153Z"
      },
      {
        "duration": 600,
        "start_time": "2022-02-16T08:53:29.784Z"
      },
      {
        "duration": 123,
        "start_time": "2022-02-16T08:54:24.791Z"
      },
      {
        "duration": 1077,
        "start_time": "2022-02-16T08:54:51.543Z"
      },
      {
        "duration": 2,
        "start_time": "2022-02-16T08:54:52.621Z"
      },
      {
        "duration": 98,
        "start_time": "2022-02-16T08:54:52.626Z"
      },
      {
        "duration": 35,
        "start_time": "2022-02-16T08:54:52.725Z"
      },
      {
        "duration": 23,
        "start_time": "2022-02-16T08:54:52.762Z"
      },
      {
        "duration": 2,
        "start_time": "2022-02-16T08:54:52.787Z"
      },
      {
        "duration": 10,
        "start_time": "2022-02-16T08:54:52.791Z"
      },
      {
        "duration": 30,
        "start_time": "2022-02-16T08:54:52.803Z"
      },
      {
        "duration": 5,
        "start_time": "2022-02-16T08:54:52.834Z"
      },
      {
        "duration": 60,
        "start_time": "2022-02-16T08:54:52.840Z"
      },
      {
        "duration": 43,
        "start_time": "2022-02-16T08:54:52.902Z"
      },
      {
        "duration": 7,
        "start_time": "2022-02-16T08:54:52.947Z"
      },
      {
        "duration": 142,
        "start_time": "2022-02-16T08:54:52.955Z"
      },
      {
        "duration": 8,
        "start_time": "2022-02-16T08:54:53.099Z"
      },
      {
        "duration": 163,
        "start_time": "2022-02-16T08:54:53.109Z"
      },
      {
        "duration": 7,
        "start_time": "2022-02-16T08:54:53.274Z"
      },
      {
        "duration": 12,
        "start_time": "2022-02-16T08:54:53.283Z"
      },
      {
        "duration": 37,
        "start_time": "2022-02-16T08:54:53.297Z"
      },
      {
        "duration": 133,
        "start_time": "2022-02-16T08:54:53.336Z"
      },
      {
        "duration": 471,
        "start_time": "2022-02-16T08:54:53.471Z"
      },
      {
        "duration": 177,
        "start_time": "2022-02-16T08:54:53.944Z"
      },
      {
        "duration": 126,
        "start_time": "2022-02-16T08:54:54.123Z"
      },
      {
        "duration": 5,
        "start_time": "2022-02-16T08:54:54.253Z"
      },
      {
        "duration": 25,
        "start_time": "2022-02-16T08:54:54.260Z"
      },
      {
        "duration": 13,
        "start_time": "2022-02-16T08:54:54.286Z"
      },
      {
        "duration": 3,
        "start_time": "2022-02-16T08:54:54.301Z"
      },
      {
        "duration": 27,
        "start_time": "2022-02-16T08:54:54.305Z"
      },
      {
        "duration": 243,
        "start_time": "2022-02-16T08:54:54.333Z"
      },
      {
        "duration": 4,
        "start_time": "2022-02-16T08:54:54.578Z"
      },
      {
        "duration": 13382,
        "start_time": "2022-02-16T08:54:54.583Z"
      },
      {
        "duration": 13,
        "start_time": "2022-02-16T08:55:07.966Z"
      },
      {
        "duration": 29,
        "start_time": "2022-02-16T08:55:07.980Z"
      },
      {
        "duration": 460,
        "start_time": "2022-02-16T08:55:08.032Z"
      },
      {
        "duration": 7,
        "start_time": "2022-02-16T08:55:08.494Z"
      },
      {
        "duration": 273,
        "start_time": "2022-02-16T08:55:08.502Z"
      },
      {
        "duration": 209,
        "start_time": "2022-02-16T08:55:08.776Z"
      },
      {
        "duration": 6,
        "start_time": "2022-02-16T08:55:08.986Z"
      },
      {
        "duration": 5,
        "start_time": "2022-02-16T08:55:08.993Z"
      },
      {
        "duration": 7,
        "start_time": "2022-02-16T08:55:08.999Z"
      },
      {
        "duration": 26,
        "start_time": "2022-02-16T08:55:09.008Z"
      },
      {
        "duration": 7,
        "start_time": "2022-02-16T08:55:09.035Z"
      },
      {
        "duration": 15492,
        "start_time": "2022-02-16T08:55:09.043Z"
      },
      {
        "duration": 283,
        "start_time": "2022-02-16T08:55:24.536Z"
      },
      {
        "duration": 67,
        "start_time": "2022-02-16T08:55:24.820Z"
      },
      {
        "duration": 7,
        "start_time": "2022-02-16T08:55:24.888Z"
      },
      {
        "duration": 8,
        "start_time": "2022-02-16T08:55:24.896Z"
      },
      {
        "duration": 27,
        "start_time": "2022-02-16T08:55:24.905Z"
      },
      {
        "duration": 8,
        "start_time": "2022-02-16T08:55:24.933Z"
      },
      {
        "duration": 6,
        "start_time": "2022-02-16T08:55:24.942Z"
      },
      {
        "duration": 10,
        "start_time": "2022-02-16T08:55:24.950Z"
      },
      {
        "duration": 524,
        "start_time": "2022-02-16T08:58:26.217Z"
      },
      {
        "duration": 613,
        "start_time": "2022-02-16T08:59:18.337Z"
      },
      {
        "duration": 1090,
        "start_time": "2022-02-16T09:02:58.726Z"
      },
      {
        "duration": 2,
        "start_time": "2022-02-16T09:02:59.818Z"
      },
      {
        "duration": 91,
        "start_time": "2022-02-16T09:02:59.821Z"
      },
      {
        "duration": 34,
        "start_time": "2022-02-16T09:02:59.914Z"
      },
      {
        "duration": 23,
        "start_time": "2022-02-16T09:02:59.949Z"
      },
      {
        "duration": 2,
        "start_time": "2022-02-16T09:02:59.974Z"
      },
      {
        "duration": 16,
        "start_time": "2022-02-16T09:02:59.977Z"
      },
      {
        "duration": 9,
        "start_time": "2022-02-16T09:02:59.995Z"
      },
      {
        "duration": 4,
        "start_time": "2022-02-16T09:03:00.006Z"
      },
      {
        "duration": 78,
        "start_time": "2022-02-16T09:03:00.011Z"
      },
      {
        "duration": 24,
        "start_time": "2022-02-16T09:03:00.090Z"
      },
      {
        "duration": 20,
        "start_time": "2022-02-16T09:03:00.116Z"
      },
      {
        "duration": 137,
        "start_time": "2022-02-16T09:03:00.137Z"
      },
      {
        "duration": 7,
        "start_time": "2022-02-16T09:03:00.276Z"
      },
      {
        "duration": 131,
        "start_time": "2022-02-16T09:03:00.284Z"
      },
      {
        "duration": 6,
        "start_time": "2022-02-16T09:03:00.416Z"
      },
      {
        "duration": 10,
        "start_time": "2022-02-16T09:03:00.432Z"
      },
      {
        "duration": 13,
        "start_time": "2022-02-16T09:03:00.444Z"
      },
      {
        "duration": 132,
        "start_time": "2022-02-16T09:03:00.458Z"
      },
      {
        "duration": 562,
        "start_time": "2022-02-16T09:03:00.592Z"
      },
      {
        "duration": 187,
        "start_time": "2022-02-16T09:03:01.155Z"
      },
      {
        "duration": 128,
        "start_time": "2022-02-16T09:03:01.344Z"
      },
      {
        "duration": 7,
        "start_time": "2022-02-16T09:03:01.475Z"
      },
      {
        "duration": 18,
        "start_time": "2022-02-16T09:03:01.484Z"
      },
      {
        "duration": 35,
        "start_time": "2022-02-16T09:03:01.504Z"
      },
      {
        "duration": 3,
        "start_time": "2022-02-16T09:03:01.540Z"
      },
      {
        "duration": 9,
        "start_time": "2022-02-16T09:03:01.545Z"
      },
      {
        "duration": 237,
        "start_time": "2022-02-16T09:03:01.556Z"
      },
      {
        "duration": 4,
        "start_time": "2022-02-16T09:03:01.794Z"
      },
      {
        "duration": 12889,
        "start_time": "2022-02-16T09:03:01.799Z"
      },
      {
        "duration": 12,
        "start_time": "2022-02-16T09:03:14.690Z"
      },
      {
        "duration": 49,
        "start_time": "2022-02-16T09:03:14.703Z"
      },
      {
        "duration": 402,
        "start_time": "2022-02-16T09:03:14.753Z"
      },
      {
        "duration": 7,
        "start_time": "2022-02-16T09:03:15.156Z"
      },
      {
        "duration": 669,
        "start_time": "2022-02-16T09:03:15.165Z"
      },
      {
        "duration": -58,
        "start_time": "2022-02-16T09:03:15.894Z"
      },
      {
        "duration": -64,
        "start_time": "2022-02-16T09:03:15.900Z"
      },
      {
        "duration": -71,
        "start_time": "2022-02-16T09:03:15.908Z"
      },
      {
        "duration": -75,
        "start_time": "2022-02-16T09:03:15.913Z"
      },
      {
        "duration": -79,
        "start_time": "2022-02-16T09:03:15.918Z"
      },
      {
        "duration": -84,
        "start_time": "2022-02-16T09:03:15.924Z"
      },
      {
        "duration": -89,
        "start_time": "2022-02-16T09:03:15.929Z"
      },
      {
        "duration": -94,
        "start_time": "2022-02-16T09:03:15.935Z"
      },
      {
        "duration": -100,
        "start_time": "2022-02-16T09:03:15.942Z"
      },
      {
        "duration": -104,
        "start_time": "2022-02-16T09:03:15.947Z"
      },
      {
        "duration": -108,
        "start_time": "2022-02-16T09:03:15.952Z"
      },
      {
        "duration": -113,
        "start_time": "2022-02-16T09:03:15.958Z"
      },
      {
        "duration": -117,
        "start_time": "2022-02-16T09:03:15.963Z"
      },
      {
        "duration": -121,
        "start_time": "2022-02-16T09:03:15.968Z"
      },
      {
        "duration": -128,
        "start_time": "2022-02-16T09:03:15.975Z"
      },
      {
        "duration": 1155,
        "start_time": "2022-02-16T09:05:18.407Z"
      },
      {
        "duration": 3,
        "start_time": "2022-02-16T09:05:19.564Z"
      },
      {
        "duration": 89,
        "start_time": "2022-02-16T09:05:19.569Z"
      },
      {
        "duration": 38,
        "start_time": "2022-02-16T09:05:19.661Z"
      },
      {
        "duration": 34,
        "start_time": "2022-02-16T09:05:19.700Z"
      },
      {
        "duration": 2,
        "start_time": "2022-02-16T09:05:19.735Z"
      },
      {
        "duration": 20,
        "start_time": "2022-02-16T09:05:19.739Z"
      },
      {
        "duration": 9,
        "start_time": "2022-02-16T09:05:19.761Z"
      },
      {
        "duration": 10,
        "start_time": "2022-02-16T09:05:19.772Z"
      },
      {
        "duration": 74,
        "start_time": "2022-02-16T09:05:19.784Z"
      },
      {
        "duration": 22,
        "start_time": "2022-02-16T09:05:19.860Z"
      },
      {
        "duration": 5,
        "start_time": "2022-02-16T09:05:19.884Z"
      },
      {
        "duration": 141,
        "start_time": "2022-02-16T09:05:19.890Z"
      },
      {
        "duration": 8,
        "start_time": "2022-02-16T09:05:20.033Z"
      },
      {
        "duration": 134,
        "start_time": "2022-02-16T09:05:20.043Z"
      },
      {
        "duration": 6,
        "start_time": "2022-02-16T09:05:20.179Z"
      },
      {
        "duration": 18,
        "start_time": "2022-02-16T09:05:20.186Z"
      },
      {
        "duration": 16,
        "start_time": "2022-02-16T09:05:20.206Z"
      },
      {
        "duration": 124,
        "start_time": "2022-02-16T09:05:20.224Z"
      },
      {
        "duration": 451,
        "start_time": "2022-02-16T09:05:20.350Z"
      },
      {
        "duration": 182,
        "start_time": "2022-02-16T09:05:20.802Z"
      },
      {
        "duration": 130,
        "start_time": "2022-02-16T09:05:20.985Z"
      },
      {
        "duration": 15,
        "start_time": "2022-02-16T09:05:21.118Z"
      },
      {
        "duration": 21,
        "start_time": "2022-02-16T09:05:21.134Z"
      },
      {
        "duration": 15,
        "start_time": "2022-02-16T09:05:21.157Z"
      },
      {
        "duration": 9,
        "start_time": "2022-02-16T09:05:21.173Z"
      },
      {
        "duration": 21,
        "start_time": "2022-02-16T09:05:21.184Z"
      },
      {
        "duration": 246,
        "start_time": "2022-02-16T09:05:21.207Z"
      },
      {
        "duration": 4,
        "start_time": "2022-02-16T09:05:21.455Z"
      },
      {
        "duration": 14562,
        "start_time": "2022-02-16T09:05:21.460Z"
      },
      {
        "duration": 15,
        "start_time": "2022-02-16T09:05:36.024Z"
      },
      {
        "duration": 36,
        "start_time": "2022-02-16T09:05:36.041Z"
      },
      {
        "duration": 413,
        "start_time": "2022-02-16T09:05:36.079Z"
      },
      {
        "duration": 7,
        "start_time": "2022-02-16T09:05:36.493Z"
      },
      {
        "duration": 661,
        "start_time": "2022-02-16T09:05:36.501Z"
      },
      {
        "duration": -135,
        "start_time": "2022-02-16T09:05:37.299Z"
      },
      {
        "duration": -168,
        "start_time": "2022-02-16T09:05:37.333Z"
      },
      {
        "duration": -176,
        "start_time": "2022-02-16T09:05:37.342Z"
      },
      {
        "duration": -181,
        "start_time": "2022-02-16T09:05:37.347Z"
      },
      {
        "duration": -190,
        "start_time": "2022-02-16T09:05:37.357Z"
      },
      {
        "duration": -198,
        "start_time": "2022-02-16T09:05:37.366Z"
      },
      {
        "duration": -205,
        "start_time": "2022-02-16T09:05:37.374Z"
      },
      {
        "duration": -209,
        "start_time": "2022-02-16T09:05:37.379Z"
      },
      {
        "duration": -215,
        "start_time": "2022-02-16T09:05:37.385Z"
      },
      {
        "duration": -219,
        "start_time": "2022-02-16T09:05:37.390Z"
      },
      {
        "duration": -223,
        "start_time": "2022-02-16T09:05:37.395Z"
      },
      {
        "duration": -227,
        "start_time": "2022-02-16T09:05:37.400Z"
      },
      {
        "duration": -232,
        "start_time": "2022-02-16T09:05:37.406Z"
      },
      {
        "duration": -237,
        "start_time": "2022-02-16T09:05:37.411Z"
      },
      {
        "duration": -242,
        "start_time": "2022-02-16T09:05:37.417Z"
      },
      {
        "duration": 570,
        "start_time": "2022-02-16T09:07:15.261Z"
      },
      {
        "duration": 264,
        "start_time": "2022-02-16T09:07:43.622Z"
      },
      {
        "duration": 257,
        "start_time": "2022-02-16T09:08:34.444Z"
      },
      {
        "duration": 404,
        "start_time": "2022-02-16T09:10:13.030Z"
      },
      {
        "duration": 13291,
        "start_time": "2022-02-16T09:11:11.176Z"
      },
      {
        "duration": 14522,
        "start_time": "2022-02-16T09:11:56.304Z"
      },
      {
        "duration": 13016,
        "start_time": "2022-02-16T09:12:20.157Z"
      },
      {
        "duration": 490,
        "start_time": "2022-02-16T09:34:41.563Z"
      },
      {
        "duration": 2017,
        "start_time": "2022-02-16T09:35:17.702Z"
      },
      {
        "duration": 1345,
        "start_time": "2022-02-16T09:35:45.359Z"
      },
      {
        "duration": 2,
        "start_time": "2022-02-16T09:35:46.705Z"
      },
      {
        "duration": 92,
        "start_time": "2022-02-16T09:35:46.709Z"
      },
      {
        "duration": 39,
        "start_time": "2022-02-16T09:35:46.802Z"
      },
      {
        "duration": 23,
        "start_time": "2022-02-16T09:35:46.843Z"
      },
      {
        "duration": 2,
        "start_time": "2022-02-16T09:35:46.867Z"
      },
      {
        "duration": 10,
        "start_time": "2022-02-16T09:35:46.870Z"
      },
      {
        "duration": 8,
        "start_time": "2022-02-16T09:35:46.882Z"
      },
      {
        "duration": 4,
        "start_time": "2022-02-16T09:35:46.892Z"
      },
      {
        "duration": 89,
        "start_time": "2022-02-16T09:35:46.897Z"
      },
      {
        "duration": 23,
        "start_time": "2022-02-16T09:35:46.987Z"
      },
      {
        "duration": 20,
        "start_time": "2022-02-16T09:35:47.012Z"
      },
      {
        "duration": 134,
        "start_time": "2022-02-16T09:35:47.033Z"
      },
      {
        "duration": 7,
        "start_time": "2022-02-16T09:35:47.168Z"
      },
      {
        "duration": 138,
        "start_time": "2022-02-16T09:35:47.176Z"
      },
      {
        "duration": 19,
        "start_time": "2022-02-16T09:35:47.316Z"
      },
      {
        "duration": 17,
        "start_time": "2022-02-16T09:35:47.337Z"
      },
      {
        "duration": 14,
        "start_time": "2022-02-16T09:35:47.356Z"
      },
      {
        "duration": 197,
        "start_time": "2022-02-16T09:35:47.372Z"
      },
      {
        "duration": 749,
        "start_time": "2022-02-16T09:35:47.572Z"
      },
      {
        "duration": 252,
        "start_time": "2022-02-16T09:35:48.322Z"
      },
      {
        "duration": 187,
        "start_time": "2022-02-16T09:35:48.576Z"
      },
      {
        "duration": 8,
        "start_time": "2022-02-16T09:35:48.767Z"
      },
      {
        "duration": 20,
        "start_time": "2022-02-16T09:35:48.777Z"
      },
      {
        "duration": 12,
        "start_time": "2022-02-16T09:35:48.798Z"
      },
      {
        "duration": 4,
        "start_time": "2022-02-16T09:35:48.832Z"
      },
      {
        "duration": 10,
        "start_time": "2022-02-16T09:35:48.837Z"
      },
      {
        "duration": 254,
        "start_time": "2022-02-16T09:35:48.849Z"
      },
      {
        "duration": 4,
        "start_time": "2022-02-16T09:35:49.105Z"
      },
      {
        "duration": 16115,
        "start_time": "2022-02-16T09:35:49.111Z"
      },
      {
        "duration": 12,
        "start_time": "2022-02-16T09:36:05.228Z"
      },
      {
        "duration": 29,
        "start_time": "2022-02-16T09:36:05.241Z"
      },
      {
        "duration": 426,
        "start_time": "2022-02-16T09:36:05.271Z"
      },
      {
        "duration": 6,
        "start_time": "2022-02-16T09:36:05.699Z"
      },
      {
        "duration": 269,
        "start_time": "2022-02-16T09:36:05.706Z"
      },
      {
        "duration": 209,
        "start_time": "2022-02-16T09:36:05.977Z"
      },
      {
        "duration": 7,
        "start_time": "2022-02-16T09:36:06.188Z"
      },
      {
        "duration": 5,
        "start_time": "2022-02-16T09:36:06.196Z"
      },
      {
        "duration": 29,
        "start_time": "2022-02-16T09:36:06.203Z"
      },
      {
        "duration": 6,
        "start_time": "2022-02-16T09:36:06.234Z"
      },
      {
        "duration": 7,
        "start_time": "2022-02-16T09:36:06.242Z"
      },
      {
        "duration": 16923,
        "start_time": "2022-02-16T09:36:06.251Z"
      },
      {
        "duration": 292,
        "start_time": "2022-02-16T09:36:23.176Z"
      },
      {
        "duration": 79,
        "start_time": "2022-02-16T09:36:23.470Z"
      },
      {
        "duration": 7,
        "start_time": "2022-02-16T09:36:23.550Z"
      },
      {
        "duration": 7,
        "start_time": "2022-02-16T09:36:23.558Z"
      },
      {
        "duration": 9,
        "start_time": "2022-02-16T09:36:23.567Z"
      },
      {
        "duration": 10,
        "start_time": "2022-02-16T09:36:23.577Z"
      },
      {
        "duration": 7,
        "start_time": "2022-02-16T09:36:23.588Z"
      },
      {
        "duration": 16,
        "start_time": "2022-02-16T09:36:23.631Z"
      },
      {
        "duration": 1083,
        "start_time": "2022-02-16T09:37:47.291Z"
      },
      {
        "duration": 2,
        "start_time": "2022-02-16T09:37:48.376Z"
      },
      {
        "duration": 83,
        "start_time": "2022-02-16T09:37:48.380Z"
      },
      {
        "duration": 42,
        "start_time": "2022-02-16T09:37:48.465Z"
      },
      {
        "duration": 41,
        "start_time": "2022-02-16T09:37:48.509Z"
      },
      {
        "duration": 2,
        "start_time": "2022-02-16T09:37:48.552Z"
      },
      {
        "duration": 10,
        "start_time": "2022-02-16T09:37:48.556Z"
      },
      {
        "duration": 9,
        "start_time": "2022-02-16T09:37:48.568Z"
      },
      {
        "duration": 6,
        "start_time": "2022-02-16T09:37:48.578Z"
      },
      {
        "duration": 95,
        "start_time": "2022-02-16T09:37:48.590Z"
      },
      {
        "duration": 26,
        "start_time": "2022-02-16T09:37:48.687Z"
      },
      {
        "duration": 18,
        "start_time": "2022-02-16T09:37:48.714Z"
      },
      {
        "duration": 142,
        "start_time": "2022-02-16T09:37:48.734Z"
      },
      {
        "duration": 9,
        "start_time": "2022-02-16T09:37:48.878Z"
      },
      {
        "duration": 134,
        "start_time": "2022-02-16T09:37:48.889Z"
      },
      {
        "duration": 8,
        "start_time": "2022-02-16T09:37:49.032Z"
      },
      {
        "duration": 17,
        "start_time": "2022-02-16T09:37:49.041Z"
      },
      {
        "duration": 13,
        "start_time": "2022-02-16T09:37:49.059Z"
      },
      {
        "duration": 145,
        "start_time": "2022-02-16T09:37:49.073Z"
      },
      {
        "duration": 871,
        "start_time": "2022-02-16T09:37:49.220Z"
      },
      {
        "duration": 140,
        "start_time": "2022-02-16T09:37:50.093Z"
      },
      {
        "duration": 130,
        "start_time": "2022-02-16T09:37:50.235Z"
      },
      {
        "duration": 10,
        "start_time": "2022-02-16T09:37:50.370Z"
      },
      {
        "duration": 30,
        "start_time": "2022-02-16T09:37:50.382Z"
      },
      {
        "duration": 34,
        "start_time": "2022-02-16T09:37:50.414Z"
      },
      {
        "duration": 4,
        "start_time": "2022-02-16T09:37:50.450Z"
      },
      {
        "duration": 15,
        "start_time": "2022-02-16T09:37:50.456Z"
      },
      {
        "duration": 669,
        "start_time": "2022-02-16T09:37:50.472Z"
      },
      {
        "duration": 5,
        "start_time": "2022-02-16T09:37:51.143Z"
      },
      {
        "duration": 20143,
        "start_time": "2022-02-16T09:37:51.149Z"
      },
      {
        "duration": 13,
        "start_time": "2022-02-16T09:38:11.293Z"
      },
      {
        "duration": 46,
        "start_time": "2022-02-16T09:38:11.308Z"
      },
      {
        "duration": 440,
        "start_time": "2022-02-16T09:38:11.356Z"
      },
      {
        "duration": 7,
        "start_time": "2022-02-16T09:38:11.797Z"
      },
      {
        "duration": 287,
        "start_time": "2022-02-16T09:38:11.806Z"
      },
      {
        "duration": 242,
        "start_time": "2022-02-16T09:38:12.094Z"
      },
      {
        "duration": 5,
        "start_time": "2022-02-16T09:38:12.337Z"
      },
      {
        "duration": 5,
        "start_time": "2022-02-16T09:38:12.344Z"
      },
      {
        "duration": 10,
        "start_time": "2022-02-16T09:38:12.350Z"
      },
      {
        "duration": 7,
        "start_time": "2022-02-16T09:38:12.362Z"
      },
      {
        "duration": 8,
        "start_time": "2022-02-16T09:38:12.370Z"
      },
      {
        "duration": 29161,
        "start_time": "2022-02-16T09:38:12.379Z"
      },
      {
        "duration": 290,
        "start_time": "2022-02-16T09:38:41.542Z"
      },
      {
        "duration": 62,
        "start_time": "2022-02-16T09:38:41.833Z"
      },
      {
        "duration": 8,
        "start_time": "2022-02-16T09:38:41.896Z"
      },
      {
        "duration": 28,
        "start_time": "2022-02-16T09:38:41.905Z"
      },
      {
        "duration": 9,
        "start_time": "2022-02-16T09:38:41.934Z"
      },
      {
        "duration": 7,
        "start_time": "2022-02-16T09:38:41.945Z"
      },
      {
        "duration": 5,
        "start_time": "2022-02-16T09:38:41.954Z"
      },
      {
        "duration": 13,
        "start_time": "2022-02-16T09:38:41.961Z"
      },
      {
        "duration": 122,
        "start_time": "2022-02-16T09:43:13.445Z"
      },
      {
        "duration": 124,
        "start_time": "2022-02-16T09:43:40.764Z"
      },
      {
        "duration": 129,
        "start_time": "2022-02-16T09:44:46.648Z"
      },
      {
        "duration": 1149,
        "start_time": "2022-02-16T09:45:01.522Z"
      },
      {
        "duration": 2,
        "start_time": "2022-02-16T09:45:02.673Z"
      },
      {
        "duration": 90,
        "start_time": "2022-02-16T09:45:02.677Z"
      },
      {
        "duration": 34,
        "start_time": "2022-02-16T09:45:02.769Z"
      },
      {
        "duration": 45,
        "start_time": "2022-02-16T09:45:02.804Z"
      },
      {
        "duration": 2,
        "start_time": "2022-02-16T09:45:02.850Z"
      },
      {
        "duration": 9,
        "start_time": "2022-02-16T09:45:02.854Z"
      },
      {
        "duration": 8,
        "start_time": "2022-02-16T09:45:02.866Z"
      },
      {
        "duration": 3,
        "start_time": "2022-02-16T09:45:02.876Z"
      },
      {
        "duration": 87,
        "start_time": "2022-02-16T09:45:02.881Z"
      },
      {
        "duration": 23,
        "start_time": "2022-02-16T09:45:02.970Z"
      },
      {
        "duration": 5,
        "start_time": "2022-02-16T09:45:02.994Z"
      },
      {
        "duration": 149,
        "start_time": "2022-02-16T09:45:03.001Z"
      },
      {
        "duration": 7,
        "start_time": "2022-02-16T09:45:03.151Z"
      },
      {
        "duration": 132,
        "start_time": "2022-02-16T09:45:03.159Z"
      },
      {
        "duration": 8,
        "start_time": "2022-02-16T09:45:03.293Z"
      },
      {
        "duration": 14,
        "start_time": "2022-02-16T09:45:03.303Z"
      },
      {
        "duration": 10,
        "start_time": "2022-02-16T09:45:03.331Z"
      },
      {
        "duration": 180,
        "start_time": "2022-02-16T09:45:03.343Z"
      },
      {
        "duration": 751,
        "start_time": "2022-02-16T09:45:03.525Z"
      },
      {
        "duration": 260,
        "start_time": "2022-02-16T09:45:04.277Z"
      },
      {
        "duration": 184,
        "start_time": "2022-02-16T09:45:04.539Z"
      },
      {
        "duration": 8,
        "start_time": "2022-02-16T09:45:04.732Z"
      },
      {
        "duration": 19,
        "start_time": "2022-02-16T09:45:04.743Z"
      },
      {
        "duration": 14,
        "start_time": "2022-02-16T09:45:04.763Z"
      },
      {
        "duration": 3,
        "start_time": "2022-02-16T09:45:04.779Z"
      },
      {
        "duration": 10,
        "start_time": "2022-02-16T09:45:04.784Z"
      },
      {
        "duration": 262,
        "start_time": "2022-02-16T09:45:04.795Z"
      },
      {
        "duration": 5,
        "start_time": "2022-02-16T09:45:05.058Z"
      },
      {
        "duration": 13577,
        "start_time": "2022-02-16T09:45:05.064Z"
      },
      {
        "duration": 17,
        "start_time": "2022-02-16T09:45:18.643Z"
      },
      {
        "duration": 76,
        "start_time": "2022-02-16T09:45:18.662Z"
      },
      {
        "duration": 696,
        "start_time": "2022-02-16T09:45:18.740Z"
      },
      {
        "duration": 9,
        "start_time": "2022-02-16T09:45:19.438Z"
      },
      {
        "duration": 420,
        "start_time": "2022-02-16T09:45:19.448Z"
      },
      {
        "duration": 324,
        "start_time": "2022-02-16T09:45:19.869Z"
      },
      {
        "duration": 5,
        "start_time": "2022-02-16T09:45:20.196Z"
      },
      {
        "duration": 7,
        "start_time": "2022-02-16T09:45:20.203Z"
      },
      {
        "duration": 25,
        "start_time": "2022-02-16T09:45:20.212Z"
      },
      {
        "duration": 7,
        "start_time": "2022-02-16T09:45:20.238Z"
      },
      {
        "duration": 11,
        "start_time": "2022-02-16T09:45:20.247Z"
      },
      {
        "duration": 16263,
        "start_time": "2022-02-16T09:45:20.259Z"
      },
      {
        "duration": 309,
        "start_time": "2022-02-16T09:45:36.524Z"
      },
      {
        "duration": 60,
        "start_time": "2022-02-16T09:45:36.835Z"
      },
      {
        "duration": 8,
        "start_time": "2022-02-16T09:45:36.897Z"
      },
      {
        "duration": 28,
        "start_time": "2022-02-16T09:45:36.907Z"
      },
      {
        "duration": 9,
        "start_time": "2022-02-16T09:45:36.936Z"
      },
      {
        "duration": 7,
        "start_time": "2022-02-16T09:45:36.947Z"
      },
      {
        "duration": 11,
        "start_time": "2022-02-16T09:45:36.955Z"
      },
      {
        "duration": 11,
        "start_time": "2022-02-16T09:45:36.968Z"
      },
      {
        "duration": 529,
        "start_time": "2022-02-16T09:46:35.588Z"
      },
      {
        "duration": 1147,
        "start_time": "2022-02-16T09:48:53.407Z"
      },
      {
        "duration": 2,
        "start_time": "2022-02-16T09:48:54.555Z"
      },
      {
        "duration": 86,
        "start_time": "2022-02-16T09:48:54.559Z"
      },
      {
        "duration": 41,
        "start_time": "2022-02-16T09:48:54.647Z"
      },
      {
        "duration": 27,
        "start_time": "2022-02-16T09:48:54.689Z"
      },
      {
        "duration": 15,
        "start_time": "2022-02-16T09:48:54.717Z"
      },
      {
        "duration": 13,
        "start_time": "2022-02-16T09:48:54.733Z"
      },
      {
        "duration": 10,
        "start_time": "2022-02-16T09:48:54.750Z"
      },
      {
        "duration": 4,
        "start_time": "2022-02-16T09:48:54.763Z"
      },
      {
        "duration": 93,
        "start_time": "2022-02-16T09:48:54.769Z"
      },
      {
        "duration": 23,
        "start_time": "2022-02-16T09:48:54.863Z"
      },
      {
        "duration": 5,
        "start_time": "2022-02-16T09:48:54.887Z"
      },
      {
        "duration": 145,
        "start_time": "2022-02-16T09:48:54.894Z"
      },
      {
        "duration": 7,
        "start_time": "2022-02-16T09:48:55.041Z"
      },
      {
        "duration": 137,
        "start_time": "2022-02-16T09:48:55.049Z"
      },
      {
        "duration": 6,
        "start_time": "2022-02-16T09:48:55.188Z"
      },
      {
        "duration": 13,
        "start_time": "2022-02-16T09:48:55.195Z"
      },
      {
        "duration": 29,
        "start_time": "2022-02-16T09:48:55.209Z"
      },
      {
        "duration": 125,
        "start_time": "2022-02-16T09:48:55.239Z"
      },
      {
        "duration": 485,
        "start_time": "2022-02-16T09:48:55.366Z"
      },
      {
        "duration": 220,
        "start_time": "2022-02-16T09:48:55.852Z"
      },
      {
        "duration": 138,
        "start_time": "2022-02-16T09:48:56.073Z"
      },
      {
        "duration": 7,
        "start_time": "2022-02-16T09:48:56.214Z"
      },
      {
        "duration": 19,
        "start_time": "2022-02-16T09:48:56.232Z"
      },
      {
        "duration": 13,
        "start_time": "2022-02-16T09:48:56.253Z"
      },
      {
        "duration": 3,
        "start_time": "2022-02-16T09:48:56.268Z"
      },
      {
        "duration": 11,
        "start_time": "2022-02-16T09:48:56.273Z"
      },
      {
        "duration": 262,
        "start_time": "2022-02-16T09:48:56.286Z"
      },
      {
        "duration": 5,
        "start_time": "2022-02-16T09:48:56.549Z"
      },
      {
        "duration": 13728,
        "start_time": "2022-02-16T09:48:56.555Z"
      },
      {
        "duration": 13,
        "start_time": "2022-02-16T09:49:10.285Z"
      },
      {
        "duration": 47,
        "start_time": "2022-02-16T09:49:10.299Z"
      },
      {
        "duration": 454,
        "start_time": "2022-02-16T09:49:10.348Z"
      },
      {
        "duration": 7,
        "start_time": "2022-02-16T09:49:10.804Z"
      },
      {
        "duration": 304,
        "start_time": "2022-02-16T09:49:10.812Z"
      },
      {
        "duration": 219,
        "start_time": "2022-02-16T09:49:11.118Z"
      },
      {
        "duration": 6,
        "start_time": "2022-02-16T09:49:11.339Z"
      },
      {
        "duration": 31,
        "start_time": "2022-02-16T09:49:11.346Z"
      },
      {
        "duration": 34,
        "start_time": "2022-02-16T09:49:11.379Z"
      },
      {
        "duration": 36,
        "start_time": "2022-02-16T09:49:11.415Z"
      },
      {
        "duration": 29,
        "start_time": "2022-02-16T09:49:11.452Z"
      },
      {
        "duration": 16650,
        "start_time": "2022-02-16T09:49:11.482Z"
      },
      {
        "duration": 282,
        "start_time": "2022-02-16T09:49:28.134Z"
      },
      {
        "duration": 75,
        "start_time": "2022-02-16T09:49:28.418Z"
      },
      {
        "duration": 7,
        "start_time": "2022-02-16T09:49:28.495Z"
      },
      {
        "duration": 29,
        "start_time": "2022-02-16T09:49:28.503Z"
      },
      {
        "duration": 11,
        "start_time": "2022-02-16T09:49:28.534Z"
      },
      {
        "duration": 21,
        "start_time": "2022-02-16T09:49:28.546Z"
      },
      {
        "duration": 20,
        "start_time": "2022-02-16T09:49:28.568Z"
      },
      {
        "duration": 11,
        "start_time": "2022-02-16T09:49:28.589Z"
      },
      {
        "duration": 392,
        "start_time": "2022-02-16T10:47:56.644Z"
      },
      {
        "duration": 24,
        "start_time": "2022-02-16T10:48:16.129Z"
      },
      {
        "duration": 1261,
        "start_time": "2022-02-16T10:49:28.247Z"
      },
      {
        "duration": 1054,
        "start_time": "2022-02-16T10:49:56.878Z"
      },
      {
        "duration": 2,
        "start_time": "2022-02-16T10:49:57.934Z"
      },
      {
        "duration": 85,
        "start_time": "2022-02-16T10:49:57.940Z"
      },
      {
        "duration": 40,
        "start_time": "2022-02-16T10:49:58.026Z"
      },
      {
        "duration": 25,
        "start_time": "2022-02-16T10:49:58.067Z"
      },
      {
        "duration": 2,
        "start_time": "2022-02-16T10:49:58.093Z"
      },
      {
        "duration": 9,
        "start_time": "2022-02-16T10:49:58.097Z"
      },
      {
        "duration": 31,
        "start_time": "2022-02-16T10:49:58.108Z"
      },
      {
        "duration": 4,
        "start_time": "2022-02-16T10:49:58.140Z"
      },
      {
        "duration": 67,
        "start_time": "2022-02-16T10:49:58.145Z"
      },
      {
        "duration": 40,
        "start_time": "2022-02-16T10:49:58.213Z"
      },
      {
        "duration": 5,
        "start_time": "2022-02-16T10:49:58.254Z"
      },
      {
        "duration": 141,
        "start_time": "2022-02-16T10:49:58.261Z"
      },
      {
        "duration": 9,
        "start_time": "2022-02-16T10:49:58.403Z"
      },
      {
        "duration": 515,
        "start_time": "2022-02-16T10:49:58.414Z"
      },
      {
        "duration": -568,
        "start_time": "2022-02-16T10:49:59.500Z"
      },
      {
        "duration": -577,
        "start_time": "2022-02-16T10:49:59.510Z"
      },
      {
        "duration": -580,
        "start_time": "2022-02-16T10:49:59.514Z"
      },
      {
        "duration": -588,
        "start_time": "2022-02-16T10:49:59.522Z"
      },
      {
        "duration": -645,
        "start_time": "2022-02-16T10:49:59.580Z"
      },
      {
        "duration": -696,
        "start_time": "2022-02-16T10:49:59.632Z"
      },
      {
        "duration": -741,
        "start_time": "2022-02-16T10:49:59.678Z"
      },
      {
        "duration": -778,
        "start_time": "2022-02-16T10:49:59.716Z"
      },
      {
        "duration": -790,
        "start_time": "2022-02-16T10:49:59.729Z"
      },
      {
        "duration": -794,
        "start_time": "2022-02-16T10:49:59.734Z"
      },
      {
        "duration": -803,
        "start_time": "2022-02-16T10:49:59.743Z"
      },
      {
        "duration": -855,
        "start_time": "2022-02-16T10:49:59.796Z"
      },
      {
        "duration": -918,
        "start_time": "2022-02-16T10:49:59.860Z"
      },
      {
        "duration": -954,
        "start_time": "2022-02-16T10:49:59.897Z"
      },
      {
        "duration": -976,
        "start_time": "2022-02-16T10:49:59.920Z"
      },
      {
        "duration": -988,
        "start_time": "2022-02-16T10:49:59.932Z"
      },
      {
        "duration": -994,
        "start_time": "2022-02-16T10:49:59.939Z"
      },
      {
        "duration": -998,
        "start_time": "2022-02-16T10:49:59.944Z"
      },
      {
        "duration": -1002,
        "start_time": "2022-02-16T10:49:59.949Z"
      },
      {
        "duration": -1006,
        "start_time": "2022-02-16T10:49:59.954Z"
      },
      {
        "duration": -1010,
        "start_time": "2022-02-16T10:49:59.959Z"
      },
      {
        "duration": -1030,
        "start_time": "2022-02-16T10:49:59.979Z"
      },
      {
        "duration": -1058,
        "start_time": "2022-02-16T10:50:00.009Z"
      },
      {
        "duration": -1109,
        "start_time": "2022-02-16T10:50:00.061Z"
      },
      {
        "duration": -1153,
        "start_time": "2022-02-16T10:50:00.106Z"
      },
      {
        "duration": -1190,
        "start_time": "2022-02-16T10:50:00.144Z"
      },
      {
        "duration": -1216,
        "start_time": "2022-02-16T10:50:00.171Z"
      },
      {
        "duration": -1221,
        "start_time": "2022-02-16T10:50:00.177Z"
      },
      {
        "duration": -1276,
        "start_time": "2022-02-16T10:50:00.233Z"
      },
      {
        "duration": -1354,
        "start_time": "2022-02-16T10:50:00.312Z"
      },
      {
        "duration": -1397,
        "start_time": "2022-02-16T10:50:00.356Z"
      },
      {
        "duration": -1421,
        "start_time": "2022-02-16T10:50:00.381Z"
      },
      {
        "duration": -1429,
        "start_time": "2022-02-16T10:50:00.390Z"
      },
      {
        "duration": -1434,
        "start_time": "2022-02-16T10:50:00.396Z"
      },
      {
        "duration": -1438,
        "start_time": "2022-02-16T10:50:00.401Z"
      },
      {
        "duration": -1533,
        "start_time": "2022-02-16T10:50:00.497Z"
      },
      {
        "duration": 119,
        "start_time": "2022-02-16T10:51:58.284Z"
      },
      {
        "duration": 1437,
        "start_time": "2022-02-16T10:52:03.512Z"
      },
      {
        "duration": 1405,
        "start_time": "2022-02-16T12:16:30.014Z"
      },
      {
        "duration": 1217,
        "start_time": "2022-02-16T12:16:54.380Z"
      },
      {
        "duration": 2,
        "start_time": "2022-02-16T12:16:55.600Z"
      },
      {
        "duration": 109,
        "start_time": "2022-02-16T12:16:55.604Z"
      },
      {
        "duration": 35,
        "start_time": "2022-02-16T12:16:55.715Z"
      },
      {
        "duration": 2,
        "start_time": "2022-02-16T12:16:55.752Z"
      },
      {
        "duration": 10,
        "start_time": "2022-02-16T12:16:55.756Z"
      },
      {
        "duration": 12,
        "start_time": "2022-02-16T12:16:55.767Z"
      },
      {
        "duration": 3,
        "start_time": "2022-02-16T12:16:55.782Z"
      },
      {
        "duration": 96,
        "start_time": "2022-02-16T12:16:55.787Z"
      },
      {
        "duration": 27,
        "start_time": "2022-02-16T12:16:55.885Z"
      },
      {
        "duration": 18,
        "start_time": "2022-02-16T12:16:55.914Z"
      },
      {
        "duration": 177,
        "start_time": "2022-02-16T12:16:55.934Z"
      },
      {
        "duration": 7,
        "start_time": "2022-02-16T12:16:56.113Z"
      },
      {
        "duration": 181,
        "start_time": "2022-02-16T12:16:56.121Z"
      },
      {
        "duration": 1970,
        "start_time": "2022-02-16T12:16:56.304Z"
      },
      {
        "duration": -208,
        "start_time": "2022-02-16T12:16:58.486Z"
      },
      {
        "duration": -213,
        "start_time": "2022-02-16T12:16:58.493Z"
      },
      {
        "duration": -217,
        "start_time": "2022-02-16T12:16:58.498Z"
      },
      {
        "duration": -222,
        "start_time": "2022-02-16T12:16:58.504Z"
      },
      {
        "duration": -228,
        "start_time": "2022-02-16T12:16:58.511Z"
      },
      {
        "duration": -234,
        "start_time": "2022-02-16T12:16:58.518Z"
      },
      {
        "duration": -240,
        "start_time": "2022-02-16T12:16:58.526Z"
      },
      {
        "duration": -244,
        "start_time": "2022-02-16T12:16:58.531Z"
      },
      {
        "duration": -248,
        "start_time": "2022-02-16T12:16:58.536Z"
      },
      {
        "duration": -253,
        "start_time": "2022-02-16T12:16:58.541Z"
      },
      {
        "duration": -256,
        "start_time": "2022-02-16T12:16:58.546Z"
      },
      {
        "duration": -260,
        "start_time": "2022-02-16T12:16:58.551Z"
      },
      {
        "duration": -264,
        "start_time": "2022-02-16T12:16:58.556Z"
      },
      {
        "duration": -270,
        "start_time": "2022-02-16T12:16:58.563Z"
      },
      {
        "duration": -275,
        "start_time": "2022-02-16T12:16:58.569Z"
      },
      {
        "duration": -290,
        "start_time": "2022-02-16T12:16:58.585Z"
      },
      {
        "duration": -295,
        "start_time": "2022-02-16T12:16:58.591Z"
      },
      {
        "duration": -299,
        "start_time": "2022-02-16T12:16:58.597Z"
      },
      {
        "duration": -304,
        "start_time": "2022-02-16T12:16:58.603Z"
      },
      {
        "duration": -307,
        "start_time": "2022-02-16T12:16:58.607Z"
      },
      {
        "duration": -311,
        "start_time": "2022-02-16T12:16:58.613Z"
      },
      {
        "duration": -315,
        "start_time": "2022-02-16T12:16:58.618Z"
      },
      {
        "duration": -319,
        "start_time": "2022-02-16T12:16:58.623Z"
      },
      {
        "duration": -322,
        "start_time": "2022-02-16T12:16:58.628Z"
      },
      {
        "duration": -327,
        "start_time": "2022-02-16T12:16:58.634Z"
      },
      {
        "duration": -331,
        "start_time": "2022-02-16T12:16:58.639Z"
      },
      {
        "duration": -336,
        "start_time": "2022-02-16T12:16:58.645Z"
      },
      {
        "duration": -340,
        "start_time": "2022-02-16T12:16:58.649Z"
      },
      {
        "duration": -345,
        "start_time": "2022-02-16T12:16:58.655Z"
      },
      {
        "duration": -349,
        "start_time": "2022-02-16T12:16:58.660Z"
      },
      {
        "duration": -354,
        "start_time": "2022-02-16T12:16:58.666Z"
      },
      {
        "duration": -359,
        "start_time": "2022-02-16T12:16:58.671Z"
      },
      {
        "duration": -363,
        "start_time": "2022-02-16T12:16:58.676Z"
      },
      {
        "duration": -367,
        "start_time": "2022-02-16T12:16:58.681Z"
      },
      {
        "duration": -380,
        "start_time": "2022-02-16T12:16:58.695Z"
      },
      {
        "duration": 8,
        "start_time": "2022-02-16T12:18:43.577Z"
      },
      {
        "duration": 312,
        "start_time": "2022-02-16T12:29:30.575Z"
      },
      {
        "duration": 1395,
        "start_time": "2022-02-16T12:29:53.666Z"
      },
      {
        "duration": 3,
        "start_time": "2022-02-16T12:29:55.063Z"
      },
      {
        "duration": 96,
        "start_time": "2022-02-16T12:29:55.068Z"
      },
      {
        "duration": 35,
        "start_time": "2022-02-16T12:29:55.166Z"
      },
      {
        "duration": 2,
        "start_time": "2022-02-16T12:29:55.203Z"
      },
      {
        "duration": 28,
        "start_time": "2022-02-16T12:29:55.207Z"
      },
      {
        "duration": 12,
        "start_time": "2022-02-16T12:29:55.237Z"
      },
      {
        "duration": 5,
        "start_time": "2022-02-16T12:29:55.252Z"
      },
      {
        "duration": 112,
        "start_time": "2022-02-16T12:29:55.260Z"
      },
      {
        "duration": 36,
        "start_time": "2022-02-16T12:29:55.374Z"
      },
      {
        "duration": 23,
        "start_time": "2022-02-16T12:29:55.412Z"
      },
      {
        "duration": 199,
        "start_time": "2022-02-16T12:29:55.437Z"
      },
      {
        "duration": 9,
        "start_time": "2022-02-16T12:29:55.638Z"
      },
      {
        "duration": 198,
        "start_time": "2022-02-16T12:29:55.649Z"
      },
      {
        "duration": 9,
        "start_time": "2022-02-16T12:29:55.849Z"
      },
      {
        "duration": 6,
        "start_time": "2022-02-16T12:29:55.860Z"
      },
      {
        "duration": 13,
        "start_time": "2022-02-16T12:29:55.867Z"
      },
      {
        "duration": 11,
        "start_time": "2022-02-16T12:29:55.881Z"
      },
      {
        "duration": 152,
        "start_time": "2022-02-16T12:29:55.893Z"
      },
      {
        "duration": 379,
        "start_time": "2022-02-16T12:29:56.047Z"
      },
      {
        "duration": -471,
        "start_time": "2022-02-16T12:29:56.899Z"
      },
      {
        "duration": -475,
        "start_time": "2022-02-16T12:29:56.904Z"
      },
      {
        "duration": -480,
        "start_time": "2022-02-16T12:29:56.910Z"
      },
      {
        "duration": -484,
        "start_time": "2022-02-16T12:29:56.915Z"
      },
      {
        "duration": -489,
        "start_time": "2022-02-16T12:29:56.921Z"
      },
      {
        "duration": -522,
        "start_time": "2022-02-16T12:29:56.955Z"
      },
      {
        "duration": -600,
        "start_time": "2022-02-16T12:29:57.034Z"
      },
      {
        "duration": -646,
        "start_time": "2022-02-16T12:29:57.081Z"
      },
      {
        "duration": -678,
        "start_time": "2022-02-16T12:29:57.113Z"
      },
      {
        "duration": -681,
        "start_time": "2022-02-16T12:29:57.118Z"
      },
      {
        "duration": -692,
        "start_time": "2022-02-16T12:29:57.130Z"
      },
      {
        "duration": -697,
        "start_time": "2022-02-16T12:29:57.135Z"
      },
      {
        "duration": -707,
        "start_time": "2022-02-16T12:29:57.146Z"
      },
      {
        "duration": -710,
        "start_time": "2022-02-16T12:29:57.150Z"
      },
      {
        "duration": -716,
        "start_time": "2022-02-16T12:29:57.157Z"
      },
      {
        "duration": -751,
        "start_time": "2022-02-16T12:29:57.193Z"
      },
      {
        "duration": -839,
        "start_time": "2022-02-16T12:29:57.281Z"
      },
      {
        "duration": -882,
        "start_time": "2022-02-16T12:29:57.325Z"
      },
      {
        "duration": -892,
        "start_time": "2022-02-16T12:29:57.336Z"
      },
      {
        "duration": -898,
        "start_time": "2022-02-16T12:29:57.343Z"
      },
      {
        "duration": -914,
        "start_time": "2022-02-16T12:29:57.360Z"
      },
      {
        "duration": -918,
        "start_time": "2022-02-16T12:29:57.364Z"
      },
      {
        "duration": -923,
        "start_time": "2022-02-16T12:29:57.370Z"
      },
      {
        "duration": -926,
        "start_time": "2022-02-16T12:29:57.374Z"
      },
      {
        "duration": -930,
        "start_time": "2022-02-16T12:29:57.379Z"
      },
      {
        "duration": -934,
        "start_time": "2022-02-16T12:29:57.384Z"
      },
      {
        "duration": -940,
        "start_time": "2022-02-16T12:29:57.391Z"
      },
      {
        "duration": -1010,
        "start_time": "2022-02-16T12:29:57.462Z"
      },
      {
        "duration": -1042,
        "start_time": "2022-02-16T12:29:57.495Z"
      },
      {
        "duration": -1078,
        "start_time": "2022-02-16T12:29:57.532Z"
      },
      {
        "duration": -1126,
        "start_time": "2022-02-16T12:29:57.581Z"
      },
      {
        "duration": 11,
        "start_time": "2022-02-16T12:34:58.310Z"
      },
      {
        "duration": 35,
        "start_time": "2022-02-16T12:35:01.031Z"
      },
      {
        "duration": 1797,
        "start_time": "2022-02-16T12:35:34.768Z"
      },
      {
        "duration": 1425,
        "start_time": "2022-02-16T12:35:54.218Z"
      },
      {
        "duration": 3,
        "start_time": "2022-02-16T12:35:55.644Z"
      },
      {
        "duration": 90,
        "start_time": "2022-02-16T12:35:55.651Z"
      },
      {
        "duration": 25,
        "start_time": "2022-02-16T12:35:55.743Z"
      },
      {
        "duration": 2,
        "start_time": "2022-02-16T12:35:55.770Z"
      },
      {
        "duration": 9,
        "start_time": "2022-02-16T12:35:55.774Z"
      },
      {
        "duration": 9,
        "start_time": "2022-02-16T12:35:55.786Z"
      },
      {
        "duration": 3,
        "start_time": "2022-02-16T12:35:55.797Z"
      },
      {
        "duration": 98,
        "start_time": "2022-02-16T12:35:55.802Z"
      },
      {
        "duration": 40,
        "start_time": "2022-02-16T12:35:55.901Z"
      },
      {
        "duration": 8,
        "start_time": "2022-02-16T12:35:55.943Z"
      },
      {
        "duration": 145,
        "start_time": "2022-02-16T12:35:55.953Z"
      },
      {
        "duration": 8,
        "start_time": "2022-02-16T12:35:56.100Z"
      },
      {
        "duration": 140,
        "start_time": "2022-02-16T12:35:56.110Z"
      },
      {
        "duration": 7,
        "start_time": "2022-02-16T12:35:56.252Z"
      },
      {
        "duration": 6,
        "start_time": "2022-02-16T12:35:56.260Z"
      },
      {
        "duration": 14,
        "start_time": "2022-02-16T12:35:56.268Z"
      },
      {
        "duration": 12,
        "start_time": "2022-02-16T12:35:56.284Z"
      },
      {
        "duration": 153,
        "start_time": "2022-02-16T12:35:56.297Z"
      },
      {
        "duration": 9,
        "start_time": "2022-02-16T12:35:56.451Z"
      },
      {
        "duration": 26,
        "start_time": "2022-02-16T12:35:56.462Z"
      },
      {
        "duration": 23452,
        "start_time": "2022-02-16T12:35:56.491Z"
      },
      {
        "duration": -64,
        "start_time": "2022-02-16T12:36:20.010Z"
      },
      {
        "duration": -70,
        "start_time": "2022-02-16T12:36:20.017Z"
      },
      {
        "duration": -80,
        "start_time": "2022-02-16T12:36:20.028Z"
      },
      {
        "duration": -86,
        "start_time": "2022-02-16T12:36:20.034Z"
      },
      {
        "duration": -123,
        "start_time": "2022-02-16T12:36:20.072Z"
      },
      {
        "duration": -130,
        "start_time": "2022-02-16T12:36:20.080Z"
      },
      {
        "duration": -145,
        "start_time": "2022-02-16T12:36:20.095Z"
      },
      {
        "duration": -156,
        "start_time": "2022-02-16T12:36:20.107Z"
      },
      {
        "duration": -163,
        "start_time": "2022-02-16T12:36:20.115Z"
      },
      {
        "duration": -176,
        "start_time": "2022-02-16T12:36:20.129Z"
      },
      {
        "duration": -182,
        "start_time": "2022-02-16T12:36:20.135Z"
      },
      {
        "duration": -186,
        "start_time": "2022-02-16T12:36:20.140Z"
      },
      {
        "duration": -197,
        "start_time": "2022-02-16T12:36:20.152Z"
      },
      {
        "duration": -201,
        "start_time": "2022-02-16T12:36:20.157Z"
      },
      {
        "duration": -209,
        "start_time": "2022-02-16T12:36:20.165Z"
      },
      {
        "duration": -224,
        "start_time": "2022-02-16T12:36:20.181Z"
      },
      {
        "duration": -228,
        "start_time": "2022-02-16T12:36:20.186Z"
      },
      {
        "duration": -232,
        "start_time": "2022-02-16T12:36:20.191Z"
      },
      {
        "duration": -240,
        "start_time": "2022-02-16T12:36:20.199Z"
      },
      {
        "duration": -244,
        "start_time": "2022-02-16T12:36:20.204Z"
      },
      {
        "duration": -250,
        "start_time": "2022-02-16T12:36:20.211Z"
      },
      {
        "duration": -254,
        "start_time": "2022-02-16T12:36:20.216Z"
      },
      {
        "duration": -259,
        "start_time": "2022-02-16T12:36:20.221Z"
      },
      {
        "duration": -269,
        "start_time": "2022-02-16T12:36:20.232Z"
      },
      {
        "duration": -274,
        "start_time": "2022-02-16T12:36:20.238Z"
      },
      {
        "duration": -284,
        "start_time": "2022-02-16T12:36:20.249Z"
      },
      {
        "duration": -289,
        "start_time": "2022-02-16T12:36:20.254Z"
      },
      {
        "duration": -296,
        "start_time": "2022-02-16T12:36:20.262Z"
      },
      {
        "duration": -300,
        "start_time": "2022-02-16T12:36:20.267Z"
      },
      {
        "duration": 1131,
        "start_time": "2022-02-16T12:49:17.650Z"
      },
      {
        "duration": 2,
        "start_time": "2022-02-16T12:49:18.783Z"
      },
      {
        "duration": 90,
        "start_time": "2022-02-16T12:49:18.787Z"
      },
      {
        "duration": 25,
        "start_time": "2022-02-16T12:49:18.879Z"
      },
      {
        "duration": 2,
        "start_time": "2022-02-16T12:49:18.906Z"
      },
      {
        "duration": 22,
        "start_time": "2022-02-16T12:49:18.909Z"
      },
      {
        "duration": 14,
        "start_time": "2022-02-16T12:49:18.934Z"
      },
      {
        "duration": 5,
        "start_time": "2022-02-16T12:49:18.951Z"
      },
      {
        "duration": 83,
        "start_time": "2022-02-16T12:49:18.958Z"
      },
      {
        "duration": 27,
        "start_time": "2022-02-16T12:49:19.043Z"
      },
      {
        "duration": 7,
        "start_time": "2022-02-16T12:49:19.071Z"
      },
      {
        "duration": 159,
        "start_time": "2022-02-16T12:49:19.079Z"
      },
      {
        "duration": 9,
        "start_time": "2022-02-16T12:49:19.241Z"
      },
      {
        "duration": 138,
        "start_time": "2022-02-16T12:49:19.252Z"
      },
      {
        "duration": 7,
        "start_time": "2022-02-16T12:49:19.392Z"
      },
      {
        "duration": 6,
        "start_time": "2022-02-16T12:49:19.400Z"
      },
      {
        "duration": 24,
        "start_time": "2022-02-16T12:49:19.408Z"
      },
      {
        "duration": 13,
        "start_time": "2022-02-16T12:49:19.434Z"
      },
      {
        "duration": 135,
        "start_time": "2022-02-16T12:49:19.449Z"
      },
      {
        "duration": 8,
        "start_time": "2022-02-16T12:49:19.586Z"
      },
      {
        "duration": 62,
        "start_time": "2022-02-16T12:49:19.596Z"
      },
      {
        "duration": 498,
        "start_time": "2022-02-16T12:49:19.659Z"
      },
      {
        "duration": 196,
        "start_time": "2022-02-16T12:49:20.161Z"
      },
      {
        "duration": 137,
        "start_time": "2022-02-16T12:49:20.359Z"
      },
      {
        "duration": 7,
        "start_time": "2022-02-16T12:49:20.498Z"
      },
      {
        "duration": 38,
        "start_time": "2022-02-16T12:49:20.507Z"
      },
      {
        "duration": 17,
        "start_time": "2022-02-16T12:49:20.546Z"
      },
      {
        "duration": 4,
        "start_time": "2022-02-16T12:49:20.565Z"
      },
      {
        "duration": 261,
        "start_time": "2022-02-16T12:49:20.571Z"
      },
      {
        "duration": 9,
        "start_time": "2022-02-16T12:49:20.834Z"
      },
      {
        "duration": 15449,
        "start_time": "2022-02-16T12:49:20.845Z"
      },
      {
        "duration": 11,
        "start_time": "2022-02-16T12:49:36.296Z"
      },
      {
        "duration": 47,
        "start_time": "2022-02-16T12:49:36.309Z"
      },
      {
        "duration": 451,
        "start_time": "2022-02-16T12:49:36.358Z"
      },
      {
        "duration": 7,
        "start_time": "2022-02-16T12:49:36.810Z"
      },
      {
        "duration": 294,
        "start_time": "2022-02-16T12:49:36.818Z"
      },
      {
        "duration": 244,
        "start_time": "2022-02-16T12:49:37.114Z"
      },
      {
        "duration": 6,
        "start_time": "2022-02-16T12:49:37.359Z"
      },
      {
        "duration": 6,
        "start_time": "2022-02-16T12:49:37.367Z"
      },
      {
        "duration": 8,
        "start_time": "2022-02-16T12:49:37.375Z"
      },
      {
        "duration": 7,
        "start_time": "2022-02-16T12:49:37.384Z"
      },
      {
        "duration": 6,
        "start_time": "2022-02-16T12:49:37.392Z"
      },
      {
        "duration": 16753,
        "start_time": "2022-02-16T12:49:37.400Z"
      },
      {
        "duration": 289,
        "start_time": "2022-02-16T12:49:54.155Z"
      },
      {
        "duration": 66,
        "start_time": "2022-02-16T12:49:54.446Z"
      },
      {
        "duration": 6,
        "start_time": "2022-02-16T12:49:54.514Z"
      },
      {
        "duration": 12,
        "start_time": "2022-02-16T12:49:54.532Z"
      },
      {
        "duration": 11,
        "start_time": "2022-02-16T12:49:54.546Z"
      },
      {
        "duration": 8,
        "start_time": "2022-02-16T12:49:54.559Z"
      },
      {
        "duration": 6,
        "start_time": "2022-02-16T12:49:54.568Z"
      },
      {
        "duration": 10,
        "start_time": "2022-02-16T12:49:54.576Z"
      },
      {
        "duration": 25,
        "start_time": "2022-02-16T12:50:10.079Z"
      },
      {
        "duration": 20,
        "start_time": "2022-02-16T12:50:31.022Z"
      },
      {
        "duration": 12,
        "start_time": "2022-02-16T13:09:52.817Z"
      },
      {
        "duration": 16,
        "start_time": "2022-02-16T13:11:56.484Z"
      },
      {
        "duration": 1299,
        "start_time": "2022-02-16T13:15:28.346Z"
      },
      {
        "duration": 2,
        "start_time": "2022-02-16T13:15:29.648Z"
      },
      {
        "duration": 101,
        "start_time": "2022-02-16T13:15:29.652Z"
      },
      {
        "duration": 25,
        "start_time": "2022-02-16T13:15:29.755Z"
      },
      {
        "duration": 3,
        "start_time": "2022-02-16T13:15:29.782Z"
      },
      {
        "duration": 11,
        "start_time": "2022-02-16T13:15:29.786Z"
      },
      {
        "duration": 11,
        "start_time": "2022-02-16T13:15:29.798Z"
      },
      {
        "duration": 4,
        "start_time": "2022-02-16T13:15:29.833Z"
      },
      {
        "duration": 63,
        "start_time": "2022-02-16T13:15:29.839Z"
      },
      {
        "duration": 62,
        "start_time": "2022-02-16T13:15:29.904Z"
      },
      {
        "duration": 7,
        "start_time": "2022-02-16T13:15:29.968Z"
      },
      {
        "duration": 205,
        "start_time": "2022-02-16T13:15:29.977Z"
      },
      {
        "duration": 8,
        "start_time": "2022-02-16T13:15:30.183Z"
      },
      {
        "duration": 143,
        "start_time": "2022-02-16T13:15:30.193Z"
      },
      {
        "duration": 6,
        "start_time": "2022-02-16T13:15:30.338Z"
      },
      {
        "duration": 7,
        "start_time": "2022-02-16T13:15:30.346Z"
      },
      {
        "duration": 14,
        "start_time": "2022-02-16T13:15:30.354Z"
      },
      {
        "duration": 12,
        "start_time": "2022-02-16T13:15:30.369Z"
      },
      {
        "duration": 8,
        "start_time": "2022-02-16T13:15:30.383Z"
      },
      {
        "duration": 39,
        "start_time": "2022-02-16T13:15:30.393Z"
      },
      {
        "duration": 124,
        "start_time": "2022-02-16T13:15:30.433Z"
      },
      {
        "duration": 457,
        "start_time": "2022-02-16T13:15:30.559Z"
      },
      {
        "duration": 196,
        "start_time": "2022-02-16T13:15:31.020Z"
      },
      {
        "duration": 131,
        "start_time": "2022-02-16T13:15:31.218Z"
      },
      {
        "duration": 6,
        "start_time": "2022-02-16T13:15:31.351Z"
      },
      {
        "duration": 34,
        "start_time": "2022-02-16T13:15:31.358Z"
      },
      {
        "duration": 17,
        "start_time": "2022-02-16T13:15:31.394Z"
      },
      {
        "duration": 21,
        "start_time": "2022-02-16T13:15:31.413Z"
      },
      {
        "duration": 261,
        "start_time": "2022-02-16T13:15:31.436Z"
      },
      {
        "duration": 5,
        "start_time": "2022-02-16T13:15:31.698Z"
      },
      {
        "duration": 14232,
        "start_time": "2022-02-16T13:15:31.704Z"
      },
      {
        "duration": 18,
        "start_time": "2022-02-16T13:15:45.938Z"
      },
      {
        "duration": 42,
        "start_time": "2022-02-16T13:15:45.958Z"
      },
      {
        "duration": 459,
        "start_time": "2022-02-16T13:15:46.002Z"
      },
      {
        "duration": 10,
        "start_time": "2022-02-16T13:15:46.462Z"
      },
      {
        "duration": 282,
        "start_time": "2022-02-16T13:15:46.474Z"
      },
      {
        "duration": 259,
        "start_time": "2022-02-16T13:15:46.758Z"
      },
      {
        "duration": 15,
        "start_time": "2022-02-16T13:15:47.018Z"
      },
      {
        "duration": 4,
        "start_time": "2022-02-16T13:15:47.035Z"
      },
      {
        "duration": 13,
        "start_time": "2022-02-16T13:15:47.041Z"
      },
      {
        "duration": 9,
        "start_time": "2022-02-16T13:15:47.056Z"
      },
      {
        "duration": 9,
        "start_time": "2022-02-16T13:15:47.066Z"
      },
      {
        "duration": 22605,
        "start_time": "2022-02-16T13:15:47.077Z"
      },
      {
        "duration": 358,
        "start_time": "2022-02-16T13:16:09.684Z"
      },
      {
        "duration": 101,
        "start_time": "2022-02-16T13:16:10.044Z"
      },
      {
        "duration": 9,
        "start_time": "2022-02-16T13:16:10.147Z"
      },
      {
        "duration": 8,
        "start_time": "2022-02-16T13:16:10.158Z"
      },
      {
        "duration": 7,
        "start_time": "2022-02-16T13:16:10.168Z"
      },
      {
        "duration": 7,
        "start_time": "2022-02-16T13:16:10.177Z"
      },
      {
        "duration": 9,
        "start_time": "2022-02-16T13:16:10.186Z"
      },
      {
        "duration": 41,
        "start_time": "2022-02-16T13:16:10.197Z"
      },
      {
        "duration": 5,
        "start_time": "2022-02-16T13:21:48.874Z"
      },
      {
        "duration": 1135,
        "start_time": "2022-02-16T13:21:56.769Z"
      },
      {
        "duration": 2,
        "start_time": "2022-02-16T13:21:57.905Z"
      },
      {
        "duration": 98,
        "start_time": "2022-02-16T13:21:57.909Z"
      },
      {
        "duration": 32,
        "start_time": "2022-02-16T13:21:58.009Z"
      },
      {
        "duration": 3,
        "start_time": "2022-02-16T13:21:58.044Z"
      },
      {
        "duration": 12,
        "start_time": "2022-02-16T13:21:58.050Z"
      },
      {
        "duration": 10,
        "start_time": "2022-02-16T13:21:58.064Z"
      },
      {
        "duration": 4,
        "start_time": "2022-02-16T13:21:58.077Z"
      },
      {
        "duration": 126,
        "start_time": "2022-02-16T13:21:58.084Z"
      },
      {
        "duration": 46,
        "start_time": "2022-02-16T13:21:58.212Z"
      },
      {
        "duration": 6,
        "start_time": "2022-02-16T13:21:58.259Z"
      },
      {
        "duration": 156,
        "start_time": "2022-02-16T13:21:58.267Z"
      },
      {
        "duration": 7,
        "start_time": "2022-02-16T13:21:58.425Z"
      },
      {
        "duration": 149,
        "start_time": "2022-02-16T13:21:58.435Z"
      },
      {
        "duration": 7,
        "start_time": "2022-02-16T13:21:58.586Z"
      },
      {
        "duration": 5,
        "start_time": "2022-02-16T13:21:58.595Z"
      },
      {
        "duration": 33,
        "start_time": "2022-02-16T13:21:58.603Z"
      },
      {
        "duration": 12,
        "start_time": "2022-02-16T13:21:58.638Z"
      },
      {
        "duration": 8,
        "start_time": "2022-02-16T13:21:58.652Z"
      },
      {
        "duration": 14,
        "start_time": "2022-02-16T13:21:58.662Z"
      },
      {
        "duration": 9,
        "start_time": "2022-02-16T13:21:58.678Z"
      },
      {
        "duration": 173,
        "start_time": "2022-02-16T13:21:58.688Z"
      },
      {
        "duration": 777,
        "start_time": "2022-02-16T13:21:58.864Z"
      },
      {
        "duration": 211,
        "start_time": "2022-02-16T13:21:59.645Z"
      },
      {
        "duration": 152,
        "start_time": "2022-02-16T13:21:59.858Z"
      },
      {
        "duration": 20,
        "start_time": "2022-02-16T13:22:00.012Z"
      },
      {
        "duration": 34,
        "start_time": "2022-02-16T13:22:00.035Z"
      },
      {
        "duration": 15,
        "start_time": "2022-02-16T13:22:00.070Z"
      },
      {
        "duration": 3,
        "start_time": "2022-02-16T13:22:00.087Z"
      },
      {
        "duration": 281,
        "start_time": "2022-02-16T13:22:00.092Z"
      },
      {
        "duration": 5,
        "start_time": "2022-02-16T13:22:00.375Z"
      },
      {
        "duration": 16009,
        "start_time": "2022-02-16T13:22:00.381Z"
      },
      {
        "duration": 14,
        "start_time": "2022-02-16T13:22:16.391Z"
      },
      {
        "duration": 46,
        "start_time": "2022-02-16T13:22:16.407Z"
      },
      {
        "duration": 472,
        "start_time": "2022-02-16T13:22:16.455Z"
      },
      {
        "duration": 14,
        "start_time": "2022-02-16T13:22:16.931Z"
      },
      {
        "duration": 288,
        "start_time": "2022-02-16T13:22:16.947Z"
      },
      {
        "duration": 223,
        "start_time": "2022-02-16T13:22:17.237Z"
      },
      {
        "duration": 7,
        "start_time": "2022-02-16T13:22:17.462Z"
      },
      {
        "duration": 5,
        "start_time": "2022-02-16T13:22:17.473Z"
      },
      {
        "duration": 10,
        "start_time": "2022-02-16T13:22:17.481Z"
      },
      {
        "duration": 10,
        "start_time": "2022-02-16T13:22:17.492Z"
      },
      {
        "duration": 11,
        "start_time": "2022-02-16T13:22:17.532Z"
      },
      {
        "duration": 18053,
        "start_time": "2022-02-16T13:22:17.545Z"
      },
      {
        "duration": 336,
        "start_time": "2022-02-16T13:22:35.600Z"
      },
      {
        "duration": 68,
        "start_time": "2022-02-16T13:22:35.939Z"
      },
      {
        "duration": 23,
        "start_time": "2022-02-16T13:22:36.009Z"
      },
      {
        "duration": 14,
        "start_time": "2022-02-16T13:22:36.034Z"
      },
      {
        "duration": 14,
        "start_time": "2022-02-16T13:22:36.050Z"
      },
      {
        "duration": 10,
        "start_time": "2022-02-16T13:22:36.066Z"
      },
      {
        "duration": 8,
        "start_time": "2022-02-16T13:22:36.078Z"
      },
      {
        "duration": 30,
        "start_time": "2022-02-16T13:22:36.088Z"
      },
      {
        "duration": 1444,
        "start_time": "2022-02-16T13:28:39.655Z"
      },
      {
        "duration": 3,
        "start_time": "2022-02-16T13:28:41.101Z"
      },
      {
        "duration": 122,
        "start_time": "2022-02-16T13:28:41.106Z"
      },
      {
        "duration": 26,
        "start_time": "2022-02-16T13:28:41.230Z"
      },
      {
        "duration": 2,
        "start_time": "2022-02-16T13:28:41.258Z"
      },
      {
        "duration": 12,
        "start_time": "2022-02-16T13:28:41.262Z"
      },
      {
        "duration": 11,
        "start_time": "2022-02-16T13:28:41.276Z"
      },
      {
        "duration": 4,
        "start_time": "2022-02-16T13:28:41.289Z"
      },
      {
        "duration": 98,
        "start_time": "2022-02-16T13:28:41.295Z"
      },
      {
        "duration": 44,
        "start_time": "2022-02-16T13:28:41.395Z"
      },
      {
        "duration": 8,
        "start_time": "2022-02-16T13:28:41.441Z"
      },
      {
        "duration": 155,
        "start_time": "2022-02-16T13:28:41.451Z"
      },
      {
        "duration": 6,
        "start_time": "2022-02-16T13:28:41.608Z"
      },
      {
        "duration": 151,
        "start_time": "2022-02-16T13:28:41.616Z"
      },
      {
        "duration": 8,
        "start_time": "2022-02-16T13:28:41.769Z"
      },
      {
        "duration": 6,
        "start_time": "2022-02-16T13:28:41.779Z"
      },
      {
        "duration": 14,
        "start_time": "2022-02-16T13:28:41.786Z"
      },
      {
        "duration": 48,
        "start_time": "2022-02-16T13:28:41.801Z"
      },
      {
        "duration": 10,
        "start_time": "2022-02-16T13:28:41.851Z"
      },
      {
        "duration": 13,
        "start_time": "2022-02-16T13:28:41.863Z"
      },
      {
        "duration": 4,
        "start_time": "2022-02-16T13:28:41.878Z"
      },
      {
        "duration": 214,
        "start_time": "2022-02-16T13:28:41.884Z"
      },
      {
        "duration": 1011,
        "start_time": "2022-02-16T13:28:42.103Z"
      },
      {
        "duration": 191,
        "start_time": "2022-02-16T13:28:43.116Z"
      },
      {
        "duration": 191,
        "start_time": "2022-02-16T13:28:43.309Z"
      },
      {
        "duration": 7,
        "start_time": "2022-02-16T13:28:43.502Z"
      },
      {
        "duration": 40,
        "start_time": "2022-02-16T13:28:43.511Z"
      },
      {
        "duration": 21,
        "start_time": "2022-02-16T13:28:43.553Z"
      },
      {
        "duration": 4,
        "start_time": "2022-02-16T13:28:43.576Z"
      },
      {
        "duration": 324,
        "start_time": "2022-02-16T13:28:43.581Z"
      },
      {
        "duration": 5,
        "start_time": "2022-02-16T13:28:43.906Z"
      },
      {
        "duration": 17865,
        "start_time": "2022-02-16T13:28:43.912Z"
      },
      {
        "duration": 15,
        "start_time": "2022-02-16T13:29:01.778Z"
      },
      {
        "duration": 61,
        "start_time": "2022-02-16T13:29:01.795Z"
      },
      {
        "duration": 462,
        "start_time": "2022-02-16T13:29:01.858Z"
      },
      {
        "duration": 13,
        "start_time": "2022-02-16T13:29:02.322Z"
      },
      {
        "duration": 294,
        "start_time": "2022-02-16T13:29:02.337Z"
      },
      {
        "duration": 232,
        "start_time": "2022-02-16T13:29:02.634Z"
      },
      {
        "duration": 6,
        "start_time": "2022-02-16T13:29:02.867Z"
      },
      {
        "duration": 19,
        "start_time": "2022-02-16T13:29:02.875Z"
      },
      {
        "duration": 17,
        "start_time": "2022-02-16T13:29:02.896Z"
      },
      {
        "duration": 25,
        "start_time": "2022-02-16T13:29:02.914Z"
      },
      {
        "duration": 18,
        "start_time": "2022-02-16T13:29:02.940Z"
      },
      {
        "duration": 18531,
        "start_time": "2022-02-16T13:29:02.959Z"
      },
      {
        "duration": 292,
        "start_time": "2022-02-16T13:29:21.491Z"
      },
      {
        "duration": 78,
        "start_time": "2022-02-16T13:29:21.784Z"
      },
      {
        "duration": 7,
        "start_time": "2022-02-16T13:29:21.863Z"
      },
      {
        "duration": 8,
        "start_time": "2022-02-16T13:29:21.872Z"
      },
      {
        "duration": 8,
        "start_time": "2022-02-16T13:29:21.882Z"
      },
      {
        "duration": 7,
        "start_time": "2022-02-16T13:29:21.891Z"
      },
      {
        "duration": 8,
        "start_time": "2022-02-16T13:29:21.900Z"
      },
      {
        "duration": 15,
        "start_time": "2022-02-16T13:29:21.932Z"
      },
      {
        "duration": 122,
        "start_time": "2022-02-16T13:29:50.335Z"
      },
      {
        "duration": 1053,
        "start_time": "2022-02-16T13:30:26.983Z"
      },
      {
        "duration": 2,
        "start_time": "2022-02-16T13:30:28.039Z"
      },
      {
        "duration": 91,
        "start_time": "2022-02-16T13:30:28.044Z"
      },
      {
        "duration": 29,
        "start_time": "2022-02-16T13:30:28.138Z"
      },
      {
        "duration": 2,
        "start_time": "2022-02-16T13:30:28.169Z"
      },
      {
        "duration": 10,
        "start_time": "2022-02-16T13:30:28.172Z"
      },
      {
        "duration": 9,
        "start_time": "2022-02-16T13:30:28.184Z"
      },
      {
        "duration": 3,
        "start_time": "2022-02-16T13:30:28.196Z"
      },
      {
        "duration": 69,
        "start_time": "2022-02-16T13:30:28.233Z"
      },
      {
        "duration": 35,
        "start_time": "2022-02-16T13:30:28.304Z"
      },
      {
        "duration": 6,
        "start_time": "2022-02-16T13:30:28.341Z"
      },
      {
        "duration": 143,
        "start_time": "2022-02-16T13:30:28.349Z"
      },
      {
        "duration": 7,
        "start_time": "2022-02-16T13:30:28.493Z"
      },
      {
        "duration": 132,
        "start_time": "2022-02-16T13:30:28.501Z"
      },
      {
        "duration": 8,
        "start_time": "2022-02-16T13:30:28.634Z"
      },
      {
        "duration": 8,
        "start_time": "2022-02-16T13:30:28.643Z"
      },
      {
        "duration": 13,
        "start_time": "2022-02-16T13:30:28.653Z"
      },
      {
        "duration": 11,
        "start_time": "2022-02-16T13:30:28.668Z"
      },
      {
        "duration": 8,
        "start_time": "2022-02-16T13:30:28.680Z"
      },
      {
        "duration": 43,
        "start_time": "2022-02-16T13:30:28.690Z"
      },
      {
        "duration": 4,
        "start_time": "2022-02-16T13:30:28.735Z"
      },
      {
        "duration": 124,
        "start_time": "2022-02-16T13:30:28.740Z"
      },
      {
        "duration": 577,
        "start_time": "2022-02-16T13:30:28.867Z"
      },
      {
        "duration": 136,
        "start_time": "2022-02-16T13:30:29.446Z"
      },
      {
        "duration": 128,
        "start_time": "2022-02-16T13:30:29.584Z"
      },
      {
        "duration": 6,
        "start_time": "2022-02-16T13:30:29.714Z"
      },
      {
        "duration": 20,
        "start_time": "2022-02-16T13:30:29.732Z"
      },
      {
        "duration": 14,
        "start_time": "2022-02-16T13:30:29.754Z"
      },
      {
        "duration": 3,
        "start_time": "2022-02-16T13:30:29.770Z"
      },
      {
        "duration": 282,
        "start_time": "2022-02-16T13:30:29.774Z"
      },
      {
        "duration": 5,
        "start_time": "2022-02-16T13:30:30.058Z"
      },
      {
        "duration": 16528,
        "start_time": "2022-02-16T13:30:30.065Z"
      },
      {
        "duration": 13,
        "start_time": "2022-02-16T13:30:46.595Z"
      },
      {
        "duration": 46,
        "start_time": "2022-02-16T13:30:46.609Z"
      },
      {
        "duration": 453,
        "start_time": "2022-02-16T13:30:46.657Z"
      },
      {
        "duration": 7,
        "start_time": "2022-02-16T13:30:47.112Z"
      },
      {
        "duration": 304,
        "start_time": "2022-02-16T13:30:47.120Z"
      },
      {
        "duration": 228,
        "start_time": "2022-02-16T13:30:47.426Z"
      },
      {
        "duration": 5,
        "start_time": "2022-02-16T13:30:47.656Z"
      },
      {
        "duration": 6,
        "start_time": "2022-02-16T13:30:47.663Z"
      },
      {
        "duration": 11,
        "start_time": "2022-02-16T13:30:47.671Z"
      },
      {
        "duration": 8,
        "start_time": "2022-02-16T13:30:47.683Z"
      },
      {
        "duration": 7,
        "start_time": "2022-02-16T13:30:47.693Z"
      },
      {
        "duration": 18646,
        "start_time": "2022-02-16T13:30:47.702Z"
      },
      {
        "duration": 285,
        "start_time": "2022-02-16T13:31:06.349Z"
      },
      {
        "duration": 70,
        "start_time": "2022-02-16T13:31:06.637Z"
      },
      {
        "duration": 26,
        "start_time": "2022-02-16T13:31:06.708Z"
      },
      {
        "duration": 11,
        "start_time": "2022-02-16T13:31:06.738Z"
      },
      {
        "duration": 8,
        "start_time": "2022-02-16T13:31:06.753Z"
      },
      {
        "duration": 7,
        "start_time": "2022-02-16T13:31:06.763Z"
      },
      {
        "duration": 6,
        "start_time": "2022-02-16T13:31:06.772Z"
      },
      {
        "duration": 10,
        "start_time": "2022-02-16T13:31:06.779Z"
      },
      {
        "duration": 460,
        "start_time": "2022-02-16T13:32:00.137Z"
      },
      {
        "duration": 588,
        "start_time": "2022-02-16T13:32:35.792Z"
      },
      {
        "duration": 495,
        "start_time": "2022-02-16T13:32:47.687Z"
      },
      {
        "duration": 1192,
        "start_time": "2022-02-16T13:37:43.391Z"
      },
      {
        "duration": 2,
        "start_time": "2022-02-16T13:37:44.585Z"
      },
      {
        "duration": 97,
        "start_time": "2022-02-16T13:37:44.592Z"
      },
      {
        "duration": 27,
        "start_time": "2022-02-16T13:37:44.691Z"
      },
      {
        "duration": 2,
        "start_time": "2022-02-16T13:37:44.720Z"
      },
      {
        "duration": 14,
        "start_time": "2022-02-16T13:37:44.733Z"
      },
      {
        "duration": 10,
        "start_time": "2022-02-16T13:37:44.750Z"
      },
      {
        "duration": 4,
        "start_time": "2022-02-16T13:37:44.763Z"
      },
      {
        "duration": 127,
        "start_time": "2022-02-16T13:37:44.769Z"
      },
      {
        "duration": 45,
        "start_time": "2022-02-16T13:37:44.898Z"
      },
      {
        "duration": 9,
        "start_time": "2022-02-16T13:37:44.945Z"
      },
      {
        "duration": 158,
        "start_time": "2022-02-16T13:37:44.956Z"
      },
      {
        "duration": 7,
        "start_time": "2022-02-16T13:37:45.115Z"
      },
      {
        "duration": 145,
        "start_time": "2022-02-16T13:37:45.132Z"
      },
      {
        "duration": 6,
        "start_time": "2022-02-16T13:37:45.279Z"
      },
      {
        "duration": 5,
        "start_time": "2022-02-16T13:37:45.287Z"
      },
      {
        "duration": 13,
        "start_time": "2022-02-16T13:37:45.294Z"
      },
      {
        "duration": 39,
        "start_time": "2022-02-16T13:37:45.308Z"
      },
      {
        "duration": 10,
        "start_time": "2022-02-16T13:37:45.349Z"
      },
      {
        "duration": 12,
        "start_time": "2022-02-16T13:37:45.361Z"
      },
      {
        "duration": 4,
        "start_time": "2022-02-16T13:37:45.374Z"
      },
      {
        "duration": 417,
        "start_time": "2022-02-16T13:37:45.381Z"
      },
      {
        "duration": -67,
        "start_time": "2022-02-16T13:37:45.867Z"
      },
      {
        "duration": -76,
        "start_time": "2022-02-16T13:37:45.877Z"
      },
      {
        "duration": -80,
        "start_time": "2022-02-16T13:37:45.883Z"
      },
      {
        "duration": -86,
        "start_time": "2022-02-16T13:37:45.889Z"
      },
      {
        "duration": -91,
        "start_time": "2022-02-16T13:37:45.895Z"
      },
      {
        "duration": -95,
        "start_time": "2022-02-16T13:37:45.900Z"
      },
      {
        "duration": -99,
        "start_time": "2022-02-16T13:37:45.905Z"
      },
      {
        "duration": -103,
        "start_time": "2022-02-16T13:37:45.910Z"
      },
      {
        "duration": -107,
        "start_time": "2022-02-16T13:37:45.915Z"
      },
      {
        "duration": -111,
        "start_time": "2022-02-16T13:37:45.920Z"
      },
      {
        "duration": -114,
        "start_time": "2022-02-16T13:37:45.925Z"
      },
      {
        "duration": -118,
        "start_time": "2022-02-16T13:37:45.930Z"
      },
      {
        "duration": -123,
        "start_time": "2022-02-16T13:37:45.936Z"
      },
      {
        "duration": -127,
        "start_time": "2022-02-16T13:37:45.941Z"
      },
      {
        "duration": -131,
        "start_time": "2022-02-16T13:37:45.946Z"
      },
      {
        "duration": -135,
        "start_time": "2022-02-16T13:37:45.951Z"
      },
      {
        "duration": -150,
        "start_time": "2022-02-16T13:37:45.967Z"
      },
      {
        "duration": -155,
        "start_time": "2022-02-16T13:37:45.973Z"
      },
      {
        "duration": -160,
        "start_time": "2022-02-16T13:37:45.979Z"
      },
      {
        "duration": -164,
        "start_time": "2022-02-16T13:37:45.984Z"
      },
      {
        "duration": -168,
        "start_time": "2022-02-16T13:37:45.989Z"
      },
      {
        "duration": -171,
        "start_time": "2022-02-16T13:37:45.994Z"
      },
      {
        "duration": -176,
        "start_time": "2022-02-16T13:37:46.000Z"
      },
      {
        "duration": -180,
        "start_time": "2022-02-16T13:37:46.005Z"
      },
      {
        "duration": -184,
        "start_time": "2022-02-16T13:37:46.010Z"
      },
      {
        "duration": -188,
        "start_time": "2022-02-16T13:37:46.015Z"
      },
      {
        "duration": -192,
        "start_time": "2022-02-16T13:37:46.021Z"
      },
      {
        "duration": -196,
        "start_time": "2022-02-16T13:37:46.026Z"
      },
      {
        "duration": -200,
        "start_time": "2022-02-16T13:37:46.031Z"
      },
      {
        "duration": -204,
        "start_time": "2022-02-16T13:37:46.036Z"
      },
      {
        "duration": -209,
        "start_time": "2022-02-16T13:37:46.042Z"
      },
      {
        "duration": 1151,
        "start_time": "2022-02-16T13:39:12.717Z"
      },
      {
        "duration": 2,
        "start_time": "2022-02-16T13:39:13.869Z"
      },
      {
        "duration": 116,
        "start_time": "2022-02-16T13:39:13.873Z"
      },
      {
        "duration": 25,
        "start_time": "2022-02-16T13:39:13.991Z"
      },
      {
        "duration": 2,
        "start_time": "2022-02-16T13:39:14.018Z"
      },
      {
        "duration": 34,
        "start_time": "2022-02-16T13:39:14.021Z"
      },
      {
        "duration": 12,
        "start_time": "2022-02-16T13:39:14.057Z"
      },
      {
        "duration": 14,
        "start_time": "2022-02-16T13:39:14.071Z"
      },
      {
        "duration": 76,
        "start_time": "2022-02-16T13:39:14.086Z"
      },
      {
        "duration": 25,
        "start_time": "2022-02-16T13:39:14.163Z"
      },
      {
        "duration": 5,
        "start_time": "2022-02-16T13:39:14.190Z"
      },
      {
        "duration": 165,
        "start_time": "2022-02-16T13:39:14.196Z"
      },
      {
        "duration": 7,
        "start_time": "2022-02-16T13:39:14.362Z"
      },
      {
        "duration": 143,
        "start_time": "2022-02-16T13:39:14.370Z"
      },
      {
        "duration": 21,
        "start_time": "2022-02-16T13:39:14.514Z"
      },
      {
        "duration": 13,
        "start_time": "2022-02-16T13:39:14.536Z"
      },
      {
        "duration": 14,
        "start_time": "2022-02-16T13:39:14.551Z"
      },
      {
        "duration": 11,
        "start_time": "2022-02-16T13:39:14.566Z"
      },
      {
        "duration": 8,
        "start_time": "2022-02-16T13:39:14.579Z"
      },
      {
        "duration": 11,
        "start_time": "2022-02-16T13:39:14.588Z"
      },
      {
        "duration": 5,
        "start_time": "2022-02-16T13:39:14.600Z"
      },
      {
        "duration": 173,
        "start_time": "2022-02-16T13:39:14.606Z"
      },
      {
        "duration": 472,
        "start_time": "2022-02-16T13:39:14.782Z"
      },
      {
        "duration": 576,
        "start_time": "2022-02-16T13:39:15.256Z"
      },
      {
        "duration": 129,
        "start_time": "2022-02-16T13:39:15.834Z"
      },
      {
        "duration": 128,
        "start_time": "2022-02-16T13:39:15.964Z"
      },
      {
        "duration": 8,
        "start_time": "2022-02-16T13:39:16.094Z"
      },
      {
        "duration": 33,
        "start_time": "2022-02-16T13:39:16.104Z"
      },
      {
        "duration": 15,
        "start_time": "2022-02-16T13:39:16.139Z"
      },
      {
        "duration": 3,
        "start_time": "2022-02-16T13:39:16.156Z"
      },
      {
        "duration": 273,
        "start_time": "2022-02-16T13:39:16.161Z"
      },
      {
        "duration": 5,
        "start_time": "2022-02-16T13:39:16.435Z"
      },
      {
        "duration": 17160,
        "start_time": "2022-02-16T13:39:16.441Z"
      },
      {
        "duration": 11,
        "start_time": "2022-02-16T13:39:33.603Z"
      },
      {
        "duration": 36,
        "start_time": "2022-02-16T13:39:33.631Z"
      },
      {
        "duration": 586,
        "start_time": "2022-02-16T13:39:33.669Z"
      },
      {
        "duration": 7,
        "start_time": "2022-02-16T13:39:34.256Z"
      },
      {
        "duration": 324,
        "start_time": "2022-02-16T13:39:34.265Z"
      },
      {
        "duration": 250,
        "start_time": "2022-02-16T13:39:34.591Z"
      },
      {
        "duration": 8,
        "start_time": "2022-02-16T13:39:34.843Z"
      },
      {
        "duration": 7,
        "start_time": "2022-02-16T13:39:34.853Z"
      },
      {
        "duration": 9,
        "start_time": "2022-02-16T13:39:34.861Z"
      },
      {
        "duration": 7,
        "start_time": "2022-02-16T13:39:34.872Z"
      },
      {
        "duration": 7,
        "start_time": "2022-02-16T13:39:34.880Z"
      },
      {
        "duration": 19234,
        "start_time": "2022-02-16T13:39:34.888Z"
      },
      {
        "duration": 322,
        "start_time": "2022-02-16T13:39:54.124Z"
      },
      {
        "duration": 104,
        "start_time": "2022-02-16T13:39:54.449Z"
      },
      {
        "duration": 8,
        "start_time": "2022-02-16T13:39:54.555Z"
      },
      {
        "duration": 8,
        "start_time": "2022-02-16T13:39:54.564Z"
      },
      {
        "duration": 8,
        "start_time": "2022-02-16T13:39:54.573Z"
      },
      {
        "duration": 8,
        "start_time": "2022-02-16T13:39:54.583Z"
      },
      {
        "duration": 47,
        "start_time": "2022-02-16T13:39:54.592Z"
      },
      {
        "duration": 16,
        "start_time": "2022-02-16T13:39:54.643Z"
      },
      {
        "duration": 1185,
        "start_time": "2022-02-16T13:45:35.330Z"
      },
      {
        "duration": 4,
        "start_time": "2022-02-16T13:45:36.517Z"
      },
      {
        "duration": 114,
        "start_time": "2022-02-16T13:45:36.525Z"
      },
      {
        "duration": 32,
        "start_time": "2022-02-16T13:45:36.641Z"
      },
      {
        "duration": 2,
        "start_time": "2022-02-16T13:45:36.674Z"
      },
      {
        "duration": 43,
        "start_time": "2022-02-16T13:45:36.678Z"
      },
      {
        "duration": 22,
        "start_time": "2022-02-16T13:45:36.724Z"
      },
      {
        "duration": 14,
        "start_time": "2022-02-16T13:45:36.749Z"
      },
      {
        "duration": 92,
        "start_time": "2022-02-16T13:45:36.765Z"
      },
      {
        "duration": 26,
        "start_time": "2022-02-16T13:45:36.859Z"
      },
      {
        "duration": 6,
        "start_time": "2022-02-16T13:45:36.887Z"
      },
      {
        "duration": 173,
        "start_time": "2022-02-16T13:45:36.895Z"
      },
      {
        "duration": 8,
        "start_time": "2022-02-16T13:45:37.070Z"
      },
      {
        "duration": 207,
        "start_time": "2022-02-16T13:45:37.079Z"
      },
      {
        "duration": 9,
        "start_time": "2022-02-16T13:45:37.288Z"
      },
      {
        "duration": 31,
        "start_time": "2022-02-16T13:45:37.299Z"
      },
      {
        "duration": 26,
        "start_time": "2022-02-16T13:45:37.332Z"
      },
      {
        "duration": 28,
        "start_time": "2022-02-16T13:45:37.360Z"
      },
      {
        "duration": 37,
        "start_time": "2022-02-16T13:45:37.390Z"
      },
      {
        "duration": 23,
        "start_time": "2022-02-16T13:45:37.429Z"
      },
      {
        "duration": 14,
        "start_time": "2022-02-16T13:45:37.454Z"
      },
      {
        "duration": 220,
        "start_time": "2022-02-16T13:45:37.473Z"
      },
      {
        "duration": 576,
        "start_time": "2022-02-16T13:45:37.696Z"
      },
      {
        "duration": 762,
        "start_time": "2022-02-16T13:45:38.274Z"
      },
      {
        "duration": 200,
        "start_time": "2022-02-16T13:45:39.038Z"
      },
      {
        "duration": 192,
        "start_time": "2022-02-16T13:45:39.240Z"
      },
      {
        "duration": 9,
        "start_time": "2022-02-16T13:45:39.435Z"
      },
      {
        "duration": 254,
        "start_time": "2022-02-16T13:45:39.447Z"
      },
      {
        "duration": 26,
        "start_time": "2022-02-16T13:45:39.703Z"
      },
      {
        "duration": 15,
        "start_time": "2022-02-16T13:45:39.731Z"
      },
      {
        "duration": 405,
        "start_time": "2022-02-16T13:45:39.749Z"
      },
      {
        "duration": 7,
        "start_time": "2022-02-16T13:45:40.158Z"
      },
      {
        "duration": 18347,
        "start_time": "2022-02-16T13:45:40.167Z"
      },
      {
        "duration": 28,
        "start_time": "2022-02-16T13:45:58.516Z"
      },
      {
        "duration": 33,
        "start_time": "2022-02-16T13:45:58.546Z"
      },
      {
        "duration": 577,
        "start_time": "2022-02-16T13:45:58.580Z"
      },
      {
        "duration": 7,
        "start_time": "2022-02-16T13:45:59.159Z"
      },
      {
        "duration": 299,
        "start_time": "2022-02-16T13:45:59.168Z"
      },
      {
        "duration": 216,
        "start_time": "2022-02-16T13:45:59.468Z"
      },
      {
        "duration": 5,
        "start_time": "2022-02-16T13:45:59.686Z"
      },
      {
        "duration": 10,
        "start_time": "2022-02-16T13:45:59.693Z"
      },
      {
        "duration": 17,
        "start_time": "2022-02-16T13:45:59.705Z"
      },
      {
        "duration": 28,
        "start_time": "2022-02-16T13:45:59.723Z"
      },
      {
        "duration": 19,
        "start_time": "2022-02-16T13:45:59.753Z"
      },
      {
        "duration": 18211,
        "start_time": "2022-02-16T13:45:59.773Z"
      },
      {
        "duration": 286,
        "start_time": "2022-02-16T13:46:17.985Z"
      },
      {
        "duration": 78,
        "start_time": "2022-02-16T13:46:18.273Z"
      },
      {
        "duration": 9,
        "start_time": "2022-02-16T13:46:18.352Z"
      },
      {
        "duration": 7,
        "start_time": "2022-02-16T13:46:18.363Z"
      },
      {
        "duration": 13,
        "start_time": "2022-02-16T13:46:18.372Z"
      },
      {
        "duration": 19,
        "start_time": "2022-02-16T13:46:18.387Z"
      },
      {
        "duration": 18,
        "start_time": "2022-02-16T13:46:18.407Z"
      },
      {
        "duration": 21,
        "start_time": "2022-02-16T13:46:18.426Z"
      },
      {
        "duration": 1159,
        "start_time": "2022-02-16T13:58:44.311Z"
      },
      {
        "duration": 2,
        "start_time": "2022-02-16T13:58:45.472Z"
      },
      {
        "duration": 98,
        "start_time": "2022-02-16T13:58:45.477Z"
      },
      {
        "duration": 24,
        "start_time": "2022-02-16T13:58:45.576Z"
      },
      {
        "duration": 2,
        "start_time": "2022-02-16T13:58:45.602Z"
      },
      {
        "duration": 9,
        "start_time": "2022-02-16T13:58:45.605Z"
      },
      {
        "duration": 23,
        "start_time": "2022-02-16T13:58:45.616Z"
      },
      {
        "duration": 8,
        "start_time": "2022-02-16T13:58:45.643Z"
      },
      {
        "duration": 62,
        "start_time": "2022-02-16T13:58:45.653Z"
      },
      {
        "duration": 42,
        "start_time": "2022-02-16T13:58:45.717Z"
      },
      {
        "duration": 5,
        "start_time": "2022-02-16T13:58:45.761Z"
      },
      {
        "duration": 179,
        "start_time": "2022-02-16T13:58:45.768Z"
      },
      {
        "duration": 12,
        "start_time": "2022-02-16T13:58:45.949Z"
      },
      {
        "duration": 197,
        "start_time": "2022-02-16T13:58:45.963Z"
      },
      {
        "duration": 8,
        "start_time": "2022-02-16T13:58:46.162Z"
      },
      {
        "duration": 12,
        "start_time": "2022-02-16T13:58:46.172Z"
      },
      {
        "duration": 33,
        "start_time": "2022-02-16T13:58:46.186Z"
      },
      {
        "duration": 21,
        "start_time": "2022-02-16T13:58:46.221Z"
      },
      {
        "duration": 12,
        "start_time": "2022-02-16T13:58:46.244Z"
      },
      {
        "duration": 16,
        "start_time": "2022-02-16T13:58:46.258Z"
      },
      {
        "duration": 25,
        "start_time": "2022-02-16T13:58:46.276Z"
      },
      {
        "duration": 138,
        "start_time": "2022-02-16T13:58:46.303Z"
      },
      {
        "duration": 482,
        "start_time": "2022-02-16T13:58:46.446Z"
      },
      {
        "duration": 1021,
        "start_time": "2022-02-16T13:58:46.930Z"
      },
      {
        "duration": 189,
        "start_time": "2022-02-16T13:58:47.955Z"
      },
      {
        "duration": 143,
        "start_time": "2022-02-16T13:58:48.146Z"
      },
      {
        "duration": 7,
        "start_time": "2022-02-16T13:58:48.291Z"
      },
      {
        "duration": 49,
        "start_time": "2022-02-16T13:58:48.299Z"
      },
      {
        "duration": 15,
        "start_time": "2022-02-16T13:58:48.350Z"
      },
      {
        "duration": 11,
        "start_time": "2022-02-16T13:58:48.367Z"
      },
      {
        "duration": 488,
        "start_time": "2022-02-16T13:58:48.380Z"
      },
      {
        "duration": 5,
        "start_time": "2022-02-16T13:58:48.870Z"
      },
      {
        "duration": 31963,
        "start_time": "2022-02-16T13:58:48.876Z"
      },
      {
        "duration": 17,
        "start_time": "2022-02-16T13:59:20.842Z"
      },
      {
        "duration": 31,
        "start_time": "2022-02-16T13:59:20.860Z"
      },
      {
        "duration": 481,
        "start_time": "2022-02-16T13:59:20.892Z"
      },
      {
        "duration": 8,
        "start_time": "2022-02-16T13:59:21.374Z"
      },
      {
        "duration": 443,
        "start_time": "2022-02-16T13:59:21.384Z"
      },
      {
        "duration": 236,
        "start_time": "2022-02-16T13:59:21.828Z"
      },
      {
        "duration": 7,
        "start_time": "2022-02-16T13:59:22.066Z"
      },
      {
        "duration": 5,
        "start_time": "2022-02-16T13:59:22.075Z"
      },
      {
        "duration": 10,
        "start_time": "2022-02-16T13:59:22.082Z"
      },
      {
        "duration": 44,
        "start_time": "2022-02-16T13:59:22.094Z"
      },
      {
        "duration": 12,
        "start_time": "2022-02-16T13:59:22.140Z"
      },
      {
        "duration": 32927,
        "start_time": "2022-02-16T13:59:22.154Z"
      },
      {
        "duration": 265,
        "start_time": "2022-02-16T13:59:55.083Z"
      },
      {
        "duration": 62,
        "start_time": "2022-02-16T13:59:55.350Z"
      },
      {
        "duration": 21,
        "start_time": "2022-02-16T13:59:55.413Z"
      },
      {
        "duration": 12,
        "start_time": "2022-02-16T13:59:55.439Z"
      },
      {
        "duration": 11,
        "start_time": "2022-02-16T13:59:55.453Z"
      },
      {
        "duration": 10,
        "start_time": "2022-02-16T13:59:55.466Z"
      },
      {
        "duration": 7,
        "start_time": "2022-02-16T13:59:55.478Z"
      },
      {
        "duration": 13,
        "start_time": "2022-02-16T13:59:55.486Z"
      },
      {
        "duration": 1123,
        "start_time": "2022-02-16T14:00:13.768Z"
      },
      {
        "duration": 3,
        "start_time": "2022-02-16T14:00:14.893Z"
      },
      {
        "duration": 89,
        "start_time": "2022-02-16T14:00:14.898Z"
      },
      {
        "duration": 27,
        "start_time": "2022-02-16T14:00:14.989Z"
      },
      {
        "duration": 14,
        "start_time": "2022-02-16T14:00:15.018Z"
      },
      {
        "duration": 13,
        "start_time": "2022-02-16T14:00:15.034Z"
      },
      {
        "duration": 12,
        "start_time": "2022-02-16T14:00:15.052Z"
      },
      {
        "duration": 4,
        "start_time": "2022-02-16T14:00:15.067Z"
      },
      {
        "duration": 90,
        "start_time": "2022-02-16T14:00:15.073Z"
      },
      {
        "duration": 23,
        "start_time": "2022-02-16T14:00:15.165Z"
      },
      {
        "duration": 14,
        "start_time": "2022-02-16T14:00:15.189Z"
      },
      {
        "duration": 154,
        "start_time": "2022-02-16T14:00:15.204Z"
      },
      {
        "duration": 7,
        "start_time": "2022-02-16T14:00:15.360Z"
      },
      {
        "duration": 147,
        "start_time": "2022-02-16T14:00:15.369Z"
      },
      {
        "duration": 7,
        "start_time": "2022-02-16T14:00:15.518Z"
      },
      {
        "duration": 20,
        "start_time": "2022-02-16T14:00:15.532Z"
      },
      {
        "duration": 37,
        "start_time": "2022-02-16T14:00:15.554Z"
      },
      {
        "duration": 11,
        "start_time": "2022-02-16T14:00:15.593Z"
      },
      {
        "duration": 33,
        "start_time": "2022-02-16T14:00:15.606Z"
      },
      {
        "duration": 22,
        "start_time": "2022-02-16T14:00:15.641Z"
      },
      {
        "duration": 13,
        "start_time": "2022-02-16T14:00:15.665Z"
      },
      {
        "duration": 136,
        "start_time": "2022-02-16T14:00:15.680Z"
      },
      {
        "duration": 481,
        "start_time": "2022-02-16T14:00:15.820Z"
      },
      {
        "duration": 961,
        "start_time": "2022-02-16T14:00:16.304Z"
      },
      {
        "duration": 141,
        "start_time": "2022-02-16T14:00:17.266Z"
      },
      {
        "duration": 138,
        "start_time": "2022-02-16T14:00:17.409Z"
      },
      {
        "duration": 12,
        "start_time": "2022-02-16T14:00:17.549Z"
      },
      {
        "duration": 21,
        "start_time": "2022-02-16T14:00:17.562Z"
      },
      {
        "duration": 15,
        "start_time": "2022-02-16T14:00:17.585Z"
      },
      {
        "duration": 3,
        "start_time": "2022-02-16T14:00:17.602Z"
      },
      {
        "duration": 511,
        "start_time": "2022-02-16T14:00:17.607Z"
      },
      {
        "duration": 13,
        "start_time": "2022-02-16T14:00:18.120Z"
      },
      {
        "duration": 30443,
        "start_time": "2022-02-16T14:00:18.134Z"
      },
      {
        "duration": 14,
        "start_time": "2022-02-16T14:00:48.579Z"
      },
      {
        "duration": 61,
        "start_time": "2022-02-16T14:00:48.595Z"
      },
      {
        "duration": 491,
        "start_time": "2022-02-16T14:00:48.658Z"
      },
      {
        "duration": 13,
        "start_time": "2022-02-16T14:00:49.156Z"
      },
      {
        "duration": 463,
        "start_time": "2022-02-16T14:00:49.171Z"
      },
      {
        "duration": 242,
        "start_time": "2022-02-16T14:00:49.636Z"
      },
      {
        "duration": 6,
        "start_time": "2022-02-16T14:00:49.879Z"
      },
      {
        "duration": 20,
        "start_time": "2022-02-16T14:00:49.886Z"
      },
      {
        "duration": 22,
        "start_time": "2022-02-16T14:00:49.908Z"
      },
      {
        "duration": 22,
        "start_time": "2022-02-16T14:00:49.937Z"
      },
      {
        "duration": 11,
        "start_time": "2022-02-16T14:00:49.961Z"
      },
      {
        "duration": 35901,
        "start_time": "2022-02-16T14:00:49.974Z"
      },
      {
        "duration": 277,
        "start_time": "2022-02-16T14:01:25.877Z"
      },
      {
        "duration": 64,
        "start_time": "2022-02-16T14:01:26.156Z"
      },
      {
        "duration": 17,
        "start_time": "2022-02-16T14:01:26.222Z"
      },
      {
        "duration": 26,
        "start_time": "2022-02-16T14:01:26.241Z"
      },
      {
        "duration": 26,
        "start_time": "2022-02-16T14:01:26.269Z"
      },
      {
        "duration": 20,
        "start_time": "2022-02-16T14:01:26.297Z"
      },
      {
        "duration": 23,
        "start_time": "2022-02-16T14:01:26.319Z"
      },
      {
        "duration": 33,
        "start_time": "2022-02-16T14:01:26.344Z"
      },
      {
        "duration": 1121,
        "start_time": "2022-02-16T14:07:24.871Z"
      },
      {
        "duration": 2,
        "start_time": "2022-02-16T14:07:25.994Z"
      },
      {
        "duration": 106,
        "start_time": "2022-02-16T14:07:25.999Z"
      },
      {
        "duration": 33,
        "start_time": "2022-02-16T14:07:26.107Z"
      },
      {
        "duration": 3,
        "start_time": "2022-02-16T14:07:26.142Z"
      },
      {
        "duration": 14,
        "start_time": "2022-02-16T14:07:26.147Z"
      },
      {
        "duration": 11,
        "start_time": "2022-02-16T14:07:26.162Z"
      },
      {
        "duration": 4,
        "start_time": "2022-02-16T14:07:26.175Z"
      },
      {
        "duration": 100,
        "start_time": "2022-02-16T14:07:26.181Z"
      },
      {
        "duration": 23,
        "start_time": "2022-02-16T14:07:26.283Z"
      },
      {
        "duration": 8,
        "start_time": "2022-02-16T14:07:26.308Z"
      },
      {
        "duration": 202,
        "start_time": "2022-02-16T14:07:26.335Z"
      },
      {
        "duration": 12,
        "start_time": "2022-02-16T14:07:26.538Z"
      },
      {
        "duration": 146,
        "start_time": "2022-02-16T14:07:26.552Z"
      },
      {
        "duration": 8,
        "start_time": "2022-02-16T14:07:26.700Z"
      },
      {
        "duration": 8,
        "start_time": "2022-02-16T14:07:26.710Z"
      },
      {
        "duration": 15,
        "start_time": "2022-02-16T14:07:26.732Z"
      },
      {
        "duration": 15,
        "start_time": "2022-02-16T14:07:26.748Z"
      },
      {
        "duration": 13,
        "start_time": "2022-02-16T14:07:26.764Z"
      },
      {
        "duration": 4,
        "start_time": "2022-02-16T14:07:26.778Z"
      },
      {
        "duration": 187,
        "start_time": "2022-02-16T14:07:26.784Z"
      },
      {
        "duration": 485,
        "start_time": "2022-02-16T14:07:26.972Z"
      },
      {
        "duration": 925,
        "start_time": "2022-02-16T14:07:27.461Z"
      },
      {
        "duration": 143,
        "start_time": "2022-02-16T14:07:28.388Z"
      },
      {
        "duration": 130,
        "start_time": "2022-02-16T14:07:28.537Z"
      },
      {
        "duration": 9,
        "start_time": "2022-02-16T14:07:28.669Z"
      },
      {
        "duration": 22,
        "start_time": "2022-02-16T14:07:28.680Z"
      },
      {
        "duration": 41,
        "start_time": "2022-02-16T14:07:28.703Z"
      },
      {
        "duration": 4,
        "start_time": "2022-02-16T14:07:28.746Z"
      },
      {
        "duration": 437,
        "start_time": "2022-02-16T14:07:28.752Z"
      },
      {
        "duration": 5,
        "start_time": "2022-02-16T14:07:29.190Z"
      },
      {
        "duration": 24009,
        "start_time": "2022-02-16T14:07:29.197Z"
      },
      {
        "duration": 32,
        "start_time": "2022-02-16T14:07:53.207Z"
      },
      {
        "duration": 47,
        "start_time": "2022-02-16T14:07:53.241Z"
      },
      {
        "duration": 729,
        "start_time": "2022-02-16T14:07:53.290Z"
      },
      {
        "duration": 21,
        "start_time": "2022-02-16T14:07:54.021Z"
      },
      {
        "duration": 448,
        "start_time": "2022-02-16T14:07:54.044Z"
      },
      {
        "duration": 398,
        "start_time": "2022-02-16T14:07:54.494Z"
      },
      {
        "duration": 6,
        "start_time": "2022-02-16T14:07:54.894Z"
      },
      {
        "duration": 5,
        "start_time": "2022-02-16T14:07:54.901Z"
      },
      {
        "duration": 8,
        "start_time": "2022-02-16T14:07:54.907Z"
      },
      {
        "duration": 9,
        "start_time": "2022-02-16T14:07:54.935Z"
      },
      {
        "duration": 10,
        "start_time": "2022-02-16T14:07:54.946Z"
      },
      {
        "duration": 28779,
        "start_time": "2022-02-16T14:07:54.957Z"
      },
      {
        "duration": 299,
        "start_time": "2022-02-16T14:08:23.738Z"
      },
      {
        "duration": 66,
        "start_time": "2022-02-16T14:08:24.039Z"
      },
      {
        "duration": 8,
        "start_time": "2022-02-16T14:08:24.106Z"
      },
      {
        "duration": 9,
        "start_time": "2022-02-16T14:08:24.133Z"
      },
      {
        "duration": 13,
        "start_time": "2022-02-16T14:08:24.144Z"
      },
      {
        "duration": 8,
        "start_time": "2022-02-16T14:08:24.159Z"
      },
      {
        "duration": 5,
        "start_time": "2022-02-16T14:08:24.169Z"
      },
      {
        "duration": 13,
        "start_time": "2022-02-16T14:08:24.176Z"
      },
      {
        "duration": 226,
        "start_time": "2022-02-16T14:15:35.276Z"
      },
      {
        "duration": 99,
        "start_time": "2022-02-16T14:19:04.314Z"
      },
      {
        "duration": 141,
        "start_time": "2022-02-16T14:21:01.069Z"
      },
      {
        "duration": 2404,
        "start_time": "2022-02-16T14:23:27.994Z"
      },
      {
        "duration": 353,
        "start_time": "2022-02-16T14:25:44.037Z"
      },
      {
        "duration": 104,
        "start_time": "2022-02-16T14:28:49.868Z"
      },
      {
        "duration": 8169,
        "start_time": "2022-02-16T14:28:54.375Z"
      },
      {
        "duration": 7953,
        "start_time": "2022-02-16T14:29:59.071Z"
      },
      {
        "duration": 1173,
        "start_time": "2022-02-16T14:32:03.267Z"
      },
      {
        "duration": 3,
        "start_time": "2022-02-16T14:32:04.442Z"
      },
      {
        "duration": 96,
        "start_time": "2022-02-16T14:32:04.447Z"
      },
      {
        "duration": 27,
        "start_time": "2022-02-16T14:32:04.545Z"
      },
      {
        "duration": 2,
        "start_time": "2022-02-16T14:32:04.573Z"
      },
      {
        "duration": 22,
        "start_time": "2022-02-16T14:32:04.577Z"
      },
      {
        "duration": 11,
        "start_time": "2022-02-16T14:32:04.600Z"
      },
      {
        "duration": 19,
        "start_time": "2022-02-16T14:32:04.614Z"
      },
      {
        "duration": 78,
        "start_time": "2022-02-16T14:32:04.634Z"
      },
      {
        "duration": 37,
        "start_time": "2022-02-16T14:32:04.714Z"
      },
      {
        "duration": 8,
        "start_time": "2022-02-16T14:32:04.753Z"
      },
      {
        "duration": 150,
        "start_time": "2022-02-16T14:32:04.763Z"
      },
      {
        "duration": 7,
        "start_time": "2022-02-16T14:32:04.915Z"
      },
      {
        "duration": 186,
        "start_time": "2022-02-16T14:32:04.923Z"
      },
      {
        "duration": 21,
        "start_time": "2022-02-16T14:32:05.111Z"
      },
      {
        "duration": 16,
        "start_time": "2022-02-16T14:32:05.133Z"
      },
      {
        "duration": 14,
        "start_time": "2022-02-16T14:32:05.150Z"
      },
      {
        "duration": 11,
        "start_time": "2022-02-16T14:32:05.165Z"
      },
      {
        "duration": 13,
        "start_time": "2022-02-16T14:32:05.177Z"
      },
      {
        "duration": 5,
        "start_time": "2022-02-16T14:32:05.192Z"
      },
      {
        "duration": 216,
        "start_time": "2022-02-16T14:32:05.198Z"
      },
      {
        "duration": 745,
        "start_time": "2022-02-16T14:32:05.416Z"
      },
      {
        "duration": 1378,
        "start_time": "2022-02-16T14:32:06.166Z"
      },
      {
        "duration": 135,
        "start_time": "2022-02-16T14:32:07.548Z"
      },
      {
        "duration": 126,
        "start_time": "2022-02-16T14:32:07.685Z"
      },
      {
        "duration": 8,
        "start_time": "2022-02-16T14:32:07.812Z"
      },
      {
        "duration": 41,
        "start_time": "2022-02-16T14:32:07.822Z"
      },
      {
        "duration": 21,
        "start_time": "2022-02-16T14:32:07.865Z"
      },
      {
        "duration": 5,
        "start_time": "2022-02-16T14:32:07.888Z"
      },
      {
        "duration": 563,
        "start_time": "2022-02-16T14:32:07.894Z"
      },
      {
        "duration": 7,
        "start_time": "2022-02-16T14:32:08.459Z"
      },
      {
        "duration": 24358,
        "start_time": "2022-02-16T14:32:08.467Z"
      },
      {
        "duration": 20,
        "start_time": "2022-02-16T14:32:32.831Z"
      },
      {
        "duration": 33,
        "start_time": "2022-02-16T14:32:32.853Z"
      },
      {
        "duration": 553,
        "start_time": "2022-02-16T14:32:32.888Z"
      },
      {
        "duration": 8,
        "start_time": "2022-02-16T14:32:33.444Z"
      },
      {
        "duration": 306,
        "start_time": "2022-02-16T14:32:33.453Z"
      },
      {
        "duration": 357,
        "start_time": "2022-02-16T14:32:33.760Z"
      },
      {
        "duration": 15,
        "start_time": "2022-02-16T14:32:34.119Z"
      },
      {
        "duration": 6,
        "start_time": "2022-02-16T14:32:34.136Z"
      },
      {
        "duration": 11,
        "start_time": "2022-02-16T14:32:34.144Z"
      },
      {
        "duration": 7,
        "start_time": "2022-02-16T14:32:34.156Z"
      },
      {
        "duration": 9,
        "start_time": "2022-02-16T14:32:34.164Z"
      },
      {
        "duration": 29178,
        "start_time": "2022-02-16T14:32:34.175Z"
      },
      {
        "duration": 292,
        "start_time": "2022-02-16T14:33:03.355Z"
      },
      {
        "duration": 64,
        "start_time": "2022-02-16T14:33:03.649Z"
      },
      {
        "duration": 23,
        "start_time": "2022-02-16T14:33:03.715Z"
      },
      {
        "duration": 10,
        "start_time": "2022-02-16T14:33:03.740Z"
      },
      {
        "duration": 9,
        "start_time": "2022-02-16T14:33:03.751Z"
      },
      {
        "duration": 8,
        "start_time": "2022-02-16T14:33:03.761Z"
      },
      {
        "duration": 6,
        "start_time": "2022-02-16T14:33:03.770Z"
      },
      {
        "duration": 11,
        "start_time": "2022-02-16T14:33:03.778Z"
      },
      {
        "duration": 8,
        "start_time": "2022-02-16T14:41:19.839Z"
      },
      {
        "duration": 399,
        "start_time": "2022-02-16T14:43:30.225Z"
      },
      {
        "duration": 335,
        "start_time": "2022-02-16T14:44:05.922Z"
      },
      {
        "duration": 142,
        "start_time": "2022-02-16T14:44:34.210Z"
      },
      {
        "duration": 321,
        "start_time": "2022-02-16T14:45:07.562Z"
      },
      {
        "duration": 334,
        "start_time": "2022-02-16T14:49:34.205Z"
      },
      {
        "duration": 327,
        "start_time": "2022-02-16T14:50:16.589Z"
      },
      {
        "duration": 1461,
        "start_time": "2022-02-19T09:30:58.739Z"
      },
      {
        "duration": 3,
        "start_time": "2022-02-19T09:31:00.203Z"
      },
      {
        "duration": 131,
        "start_time": "2022-02-19T09:31:00.212Z"
      },
      {
        "duration": 40,
        "start_time": "2022-02-19T09:31:00.346Z"
      },
      {
        "duration": 24,
        "start_time": "2022-02-19T09:31:00.388Z"
      },
      {
        "duration": 18,
        "start_time": "2022-02-19T09:31:00.415Z"
      },
      {
        "duration": 14,
        "start_time": "2022-02-19T09:31:00.436Z"
      },
      {
        "duration": 15,
        "start_time": "2022-02-19T09:31:00.454Z"
      },
      {
        "duration": 127,
        "start_time": "2022-02-19T09:31:00.472Z"
      },
      {
        "duration": 43,
        "start_time": "2022-02-19T09:31:00.602Z"
      },
      {
        "duration": 8,
        "start_time": "2022-02-19T09:31:00.648Z"
      },
      {
        "duration": 252,
        "start_time": "2022-02-19T09:31:00.658Z"
      },
      {
        "duration": 15,
        "start_time": "2022-02-19T09:31:00.913Z"
      },
      {
        "duration": 234,
        "start_time": "2022-02-19T09:31:00.930Z"
      },
      {
        "duration": 11,
        "start_time": "2022-02-19T09:31:01.167Z"
      },
      {
        "duration": 32,
        "start_time": "2022-02-19T09:31:01.180Z"
      },
      {
        "duration": 23,
        "start_time": "2022-02-19T09:31:01.215Z"
      },
      {
        "duration": 27,
        "start_time": "2022-02-19T09:31:01.240Z"
      },
      {
        "duration": 43,
        "start_time": "2022-02-19T09:31:01.269Z"
      },
      {
        "duration": 6,
        "start_time": "2022-02-19T09:31:01.315Z"
      },
      {
        "duration": 245,
        "start_time": "2022-02-19T09:31:01.323Z"
      },
      {
        "duration": 822,
        "start_time": "2022-02-19T09:31:01.570Z"
      },
      {
        "duration": 1703,
        "start_time": "2022-02-19T09:31:02.398Z"
      },
      {
        "duration": 234,
        "start_time": "2022-02-19T09:31:04.112Z"
      },
      {
        "duration": 223,
        "start_time": "2022-02-19T09:31:04.348Z"
      },
      {
        "duration": 12,
        "start_time": "2022-02-19T09:31:04.574Z"
      },
      {
        "duration": 54,
        "start_time": "2022-02-19T09:31:04.589Z"
      },
      {
        "duration": 24,
        "start_time": "2022-02-19T09:31:04.646Z"
      },
      {
        "duration": 5,
        "start_time": "2022-02-19T09:31:04.673Z"
      },
      {
        "duration": 800,
        "start_time": "2022-02-19T09:31:04.680Z"
      },
      {
        "duration": 7,
        "start_time": "2022-02-19T09:31:05.482Z"
      },
      {
        "duration": 34623,
        "start_time": "2022-02-19T09:31:05.491Z"
      },
      {
        "duration": 23,
        "start_time": "2022-02-19T09:31:40.116Z"
      },
      {
        "duration": 82,
        "start_time": "2022-02-19T09:31:40.142Z"
      },
      {
        "duration": 794,
        "start_time": "2022-02-19T09:31:40.226Z"
      },
      {
        "duration": 11,
        "start_time": "2022-02-19T09:31:41.023Z"
      },
      {
        "duration": 520,
        "start_time": "2022-02-19T09:31:41.037Z"
      },
      {
        "duration": 579,
        "start_time": "2022-02-19T09:31:41.560Z"
      },
      {
        "duration": 8,
        "start_time": "2022-02-19T09:31:42.141Z"
      },
      {
        "duration": 6,
        "start_time": "2022-02-19T09:31:42.152Z"
      },
      {
        "duration": 13,
        "start_time": "2022-02-19T09:31:42.160Z"
      },
      {
        "duration": 43,
        "start_time": "2022-02-19T09:31:42.176Z"
      },
      {
        "duration": 12,
        "start_time": "2022-02-19T09:31:42.221Z"
      },
      {
        "duration": 520,
        "start_time": "2022-02-19T09:31:42.235Z"
      },
      {
        "duration": -456,
        "start_time": "2022-02-19T09:31:43.214Z"
      },
      {
        "duration": -460,
        "start_time": "2022-02-19T09:31:43.219Z"
      },
      {
        "duration": -465,
        "start_time": "2022-02-19T09:31:43.226Z"
      },
      {
        "duration": -469,
        "start_time": "2022-02-19T09:31:43.232Z"
      },
      {
        "duration": -474,
        "start_time": "2022-02-19T09:31:43.238Z"
      },
      {
        "duration": -479,
        "start_time": "2022-02-19T09:31:43.245Z"
      },
      {
        "duration": -483,
        "start_time": "2022-02-19T09:31:43.251Z"
      },
      {
        "duration": -491,
        "start_time": "2022-02-19T09:31:43.260Z"
      },
      {
        "duration": -495,
        "start_time": "2022-02-19T09:31:43.266Z"
      },
      {
        "duration": 258,
        "start_time": "2022-02-19T09:32:05.847Z"
      },
      {
        "duration": 417,
        "start_time": "2022-02-19T09:34:44.631Z"
      },
      {
        "duration": 30,
        "start_time": "2022-02-19T09:35:19.874Z"
      },
      {
        "duration": 28,
        "start_time": "2022-02-19T09:35:47.650Z"
      },
      {
        "duration": 37,
        "start_time": "2022-02-19T09:36:06.366Z"
      },
      {
        "duration": 26,
        "start_time": "2022-02-19T09:36:38.044Z"
      },
      {
        "duration": 29,
        "start_time": "2022-02-19T09:36:51.916Z"
      },
      {
        "duration": 34,
        "start_time": "2022-02-19T09:37:12.462Z"
      },
      {
        "duration": 141,
        "start_time": "2022-02-19T09:37:57.525Z"
      },
      {
        "duration": 156,
        "start_time": "2022-02-19T09:39:27.391Z"
      },
      {
        "duration": 401,
        "start_time": "2022-02-19T09:39:38.430Z"
      },
      {
        "duration": 414,
        "start_time": "2022-02-19T09:39:52.638Z"
      },
      {
        "duration": 1953,
        "start_time": "2022-02-19T09:40:11.889Z"
      },
      {
        "duration": 3,
        "start_time": "2022-02-19T09:40:13.846Z"
      },
      {
        "duration": 127,
        "start_time": "2022-02-19T09:40:13.853Z"
      },
      {
        "duration": 53,
        "start_time": "2022-02-19T09:40:13.984Z"
      },
      {
        "duration": 3,
        "start_time": "2022-02-19T09:40:14.039Z"
      },
      {
        "duration": 16,
        "start_time": "2022-02-19T09:40:14.044Z"
      },
      {
        "duration": 16,
        "start_time": "2022-02-19T09:40:14.063Z"
      },
      {
        "duration": 7,
        "start_time": "2022-02-19T09:40:14.111Z"
      },
      {
        "duration": 127,
        "start_time": "2022-02-19T09:40:14.121Z"
      },
      {
        "duration": 41,
        "start_time": "2022-02-19T09:40:14.250Z"
      },
      {
        "duration": 9,
        "start_time": "2022-02-19T09:40:14.309Z"
      },
      {
        "duration": 243,
        "start_time": "2022-02-19T09:40:14.320Z"
      },
      {
        "duration": 15,
        "start_time": "2022-02-19T09:40:14.566Z"
      },
      {
        "duration": 237,
        "start_time": "2022-02-19T09:40:14.584Z"
      },
      {
        "duration": 14,
        "start_time": "2022-02-19T09:40:14.824Z"
      },
      {
        "duration": 11,
        "start_time": "2022-02-19T09:40:14.841Z"
      },
      {
        "duration": 58,
        "start_time": "2022-02-19T09:40:14.854Z"
      },
      {
        "duration": 17,
        "start_time": "2022-02-19T09:40:14.915Z"
      },
      {
        "duration": 20,
        "start_time": "2022-02-19T09:40:14.934Z"
      },
      {
        "duration": 6,
        "start_time": "2022-02-19T09:40:14.956Z"
      },
      {
        "duration": 262,
        "start_time": "2022-02-19T09:40:14.965Z"
      },
      {
        "duration": 827,
        "start_time": "2022-02-19T09:40:15.230Z"
      },
      {
        "duration": 1495,
        "start_time": "2022-02-19T09:40:16.062Z"
      },
      {
        "duration": 242,
        "start_time": "2022-02-19T09:40:17.561Z"
      },
      {
        "duration": 225,
        "start_time": "2022-02-19T09:40:17.811Z"
      },
      {
        "duration": 11,
        "start_time": "2022-02-19T09:40:18.039Z"
      },
      {
        "duration": 71,
        "start_time": "2022-02-19T09:40:18.052Z"
      },
      {
        "duration": 25,
        "start_time": "2022-02-19T09:40:18.126Z"
      },
      {
        "duration": 5,
        "start_time": "2022-02-19T09:40:18.153Z"
      },
      {
        "duration": 752,
        "start_time": "2022-02-19T09:40:18.160Z"
      },
      {
        "duration": 7,
        "start_time": "2022-02-19T09:40:18.914Z"
      },
      {
        "duration": 35176,
        "start_time": "2022-02-19T09:40:18.923Z"
      },
      {
        "duration": 28,
        "start_time": "2022-02-19T09:40:54.102Z"
      },
      {
        "duration": 51,
        "start_time": "2022-02-19T09:40:54.132Z"
      },
      {
        "duration": 1140,
        "start_time": "2022-02-19T09:40:54.210Z"
      },
      {
        "duration": 14,
        "start_time": "2022-02-19T09:40:55.353Z"
      },
      {
        "duration": 555,
        "start_time": "2022-02-19T09:40:55.370Z"
      },
      {
        "duration": 631,
        "start_time": "2022-02-19T09:40:55.928Z"
      },
      {
        "duration": 13,
        "start_time": "2022-02-19T09:40:56.562Z"
      },
      {
        "duration": 35,
        "start_time": "2022-02-19T09:40:56.578Z"
      },
      {
        "duration": 23,
        "start_time": "2022-02-19T09:40:56.616Z"
      },
      {
        "duration": 16,
        "start_time": "2022-02-19T09:40:56.642Z"
      },
      {
        "duration": 15,
        "start_time": "2022-02-19T09:40:56.661Z"
      },
      {
        "duration": 605,
        "start_time": "2022-02-19T09:40:56.678Z"
      },
      {
        "duration": -466,
        "start_time": "2022-02-19T09:40:57.752Z"
      },
      {
        "duration": -469,
        "start_time": "2022-02-19T09:40:57.758Z"
      },
      {
        "duration": -473,
        "start_time": "2022-02-19T09:40:57.764Z"
      },
      {
        "duration": -477,
        "start_time": "2022-02-19T09:40:57.770Z"
      },
      {
        "duration": -480,
        "start_time": "2022-02-19T09:40:57.775Z"
      },
      {
        "duration": -484,
        "start_time": "2022-02-19T09:40:57.781Z"
      },
      {
        "duration": -486,
        "start_time": "2022-02-19T09:40:57.786Z"
      },
      {
        "duration": -489,
        "start_time": "2022-02-19T09:40:57.791Z"
      },
      {
        "duration": -492,
        "start_time": "2022-02-19T09:40:57.796Z"
      },
      {
        "duration": 401,
        "start_time": "2022-02-19T09:41:34.978Z"
      },
      {
        "duration": 437,
        "start_time": "2022-02-19T09:42:01.250Z"
      },
      {
        "duration": 35,
        "start_time": "2022-02-19T09:42:41.770Z"
      },
      {
        "duration": 37,
        "start_time": "2022-02-19T09:43:24.787Z"
      },
      {
        "duration": 431,
        "start_time": "2022-02-19T09:43:30.992Z"
      },
      {
        "duration": 37,
        "start_time": "2022-02-19T09:43:44.818Z"
      },
      {
        "duration": 36,
        "start_time": "2022-02-19T09:47:47.201Z"
      },
      {
        "duration": 36,
        "start_time": "2022-02-19T09:48:36.549Z"
      },
      {
        "duration": 1706,
        "start_time": "2022-02-19T09:49:17.097Z"
      },
      {
        "duration": 3,
        "start_time": "2022-02-19T09:49:18.809Z"
      },
      {
        "duration": 135,
        "start_time": "2022-02-19T09:49:18.815Z"
      },
      {
        "duration": 59,
        "start_time": "2022-02-19T09:49:18.953Z"
      },
      {
        "duration": 3,
        "start_time": "2022-02-19T09:49:19.015Z"
      },
      {
        "duration": 15,
        "start_time": "2022-02-19T09:49:19.020Z"
      },
      {
        "duration": 14,
        "start_time": "2022-02-19T09:49:19.037Z"
      },
      {
        "duration": 6,
        "start_time": "2022-02-19T09:49:19.055Z"
      },
      {
        "duration": 153,
        "start_time": "2022-02-19T09:49:19.064Z"
      },
      {
        "duration": 39,
        "start_time": "2022-02-19T09:49:19.220Z"
      },
      {
        "duration": 8,
        "start_time": "2022-02-19T09:49:19.262Z"
      },
      {
        "duration": 263,
        "start_time": "2022-02-19T09:49:19.273Z"
      },
      {
        "duration": 15,
        "start_time": "2022-02-19T09:49:19.539Z"
      },
      {
        "duration": 231,
        "start_time": "2022-02-19T09:49:19.556Z"
      },
      {
        "duration": 23,
        "start_time": "2022-02-19T09:49:19.790Z"
      },
      {
        "duration": 12,
        "start_time": "2022-02-19T09:49:19.815Z"
      },
      {
        "duration": 20,
        "start_time": "2022-02-19T09:49:19.829Z"
      },
      {
        "duration": 18,
        "start_time": "2022-02-19T09:49:19.852Z"
      },
      {
        "duration": 53,
        "start_time": "2022-02-19T09:49:19.873Z"
      },
      {
        "duration": 6,
        "start_time": "2022-02-19T09:49:19.929Z"
      },
      {
        "duration": 256,
        "start_time": "2022-02-19T09:49:19.937Z"
      },
      {
        "duration": 813,
        "start_time": "2022-02-19T09:49:20.195Z"
      },
      {
        "duration": 1880,
        "start_time": "2022-02-19T09:49:21.013Z"
      },
      {
        "duration": 360,
        "start_time": "2022-02-19T09:49:22.898Z"
      },
      {
        "duration": 232,
        "start_time": "2022-02-19T09:49:23.260Z"
      },
      {
        "duration": 24,
        "start_time": "2022-02-19T09:49:23.494Z"
      },
      {
        "duration": 39,
        "start_time": "2022-02-19T09:49:23.520Z"
      },
      {
        "duration": 50,
        "start_time": "2022-02-19T09:49:23.562Z"
      },
      {
        "duration": 6,
        "start_time": "2022-02-19T09:49:23.615Z"
      },
      {
        "duration": 752,
        "start_time": "2022-02-19T09:49:23.623Z"
      },
      {
        "duration": 7,
        "start_time": "2022-02-19T09:49:24.377Z"
      },
      {
        "duration": 35626,
        "start_time": "2022-02-19T09:49:24.386Z"
      },
      {
        "duration": 23,
        "start_time": "2022-02-19T09:50:00.015Z"
      },
      {
        "duration": 86,
        "start_time": "2022-02-19T09:50:00.041Z"
      },
      {
        "duration": 913,
        "start_time": "2022-02-19T09:50:00.130Z"
      },
      {
        "duration": 11,
        "start_time": "2022-02-19T09:50:01.045Z"
      },
      {
        "duration": 515,
        "start_time": "2022-02-19T09:50:01.059Z"
      },
      {
        "duration": 619,
        "start_time": "2022-02-19T09:50:01.576Z"
      },
      {
        "duration": 17,
        "start_time": "2022-02-19T09:50:02.198Z"
      },
      {
        "duration": 6,
        "start_time": "2022-02-19T09:50:02.217Z"
      },
      {
        "duration": 15,
        "start_time": "2022-02-19T09:50:02.225Z"
      },
      {
        "duration": 10,
        "start_time": "2022-02-19T09:50:02.242Z"
      },
      {
        "duration": 19,
        "start_time": "2022-02-19T09:50:02.255Z"
      },
      {
        "duration": 69,
        "start_time": "2022-02-19T09:50:02.277Z"
      },
      {
        "duration": 49789,
        "start_time": "2022-02-19T09:50:02.348Z"
      },
      {
        "duration": 383,
        "start_time": "2022-02-19T09:50:52.139Z"
      },
      {
        "duration": 118,
        "start_time": "2022-02-19T09:50:52.524Z"
      },
      {
        "duration": 12,
        "start_time": "2022-02-19T09:50:52.645Z"
      },
      {
        "duration": 12,
        "start_time": "2022-02-19T09:50:52.660Z"
      },
      {
        "duration": 44,
        "start_time": "2022-02-19T09:50:52.675Z"
      },
      {
        "duration": 14,
        "start_time": "2022-02-19T09:50:52.722Z"
      },
      {
        "duration": 12,
        "start_time": "2022-02-19T09:50:52.738Z"
      },
      {
        "duration": 60,
        "start_time": "2022-02-19T09:50:52.752Z"
      },
      {
        "duration": 9422,
        "start_time": "2022-02-19T09:57:34.443Z"
      },
      {
        "duration": 10168,
        "start_time": "2022-02-19T09:59:23.757Z"
      },
      {
        "duration": 1530,
        "start_time": "2022-02-19T10:00:12.668Z"
      },
      {
        "duration": 9,
        "start_time": "2022-02-19T10:00:14.201Z"
      },
      {
        "duration": 135,
        "start_time": "2022-02-19T10:00:14.214Z"
      },
      {
        "duration": 40,
        "start_time": "2022-02-19T10:00:14.351Z"
      },
      {
        "duration": 16,
        "start_time": "2022-02-19T10:00:14.394Z"
      },
      {
        "duration": 12,
        "start_time": "2022-02-19T10:00:14.412Z"
      },
      {
        "duration": 15,
        "start_time": "2022-02-19T10:00:14.426Z"
      },
      {
        "duration": 7,
        "start_time": "2022-02-19T10:00:14.446Z"
      },
      {
        "duration": 146,
        "start_time": "2022-02-19T10:00:14.456Z"
      },
      {
        "duration": 42,
        "start_time": "2022-02-19T10:00:14.605Z"
      },
      {
        "duration": 9,
        "start_time": "2022-02-19T10:00:14.649Z"
      },
      {
        "duration": 271,
        "start_time": "2022-02-19T10:00:14.660Z"
      },
      {
        "duration": 16,
        "start_time": "2022-02-19T10:00:14.934Z"
      },
      {
        "duration": 235,
        "start_time": "2022-02-19T10:00:14.952Z"
      },
      {
        "duration": 26,
        "start_time": "2022-02-19T10:00:15.190Z"
      },
      {
        "duration": 11,
        "start_time": "2022-02-19T10:00:15.218Z"
      },
      {
        "duration": 24,
        "start_time": "2022-02-19T10:00:15.233Z"
      },
      {
        "duration": 58,
        "start_time": "2022-02-19T10:00:15.260Z"
      },
      {
        "duration": 21,
        "start_time": "2022-02-19T10:00:15.321Z"
      },
      {
        "duration": 6,
        "start_time": "2022-02-19T10:00:15.344Z"
      },
      {
        "duration": 260,
        "start_time": "2022-02-19T10:00:15.352Z"
      },
      {
        "duration": 832,
        "start_time": "2022-02-19T10:00:15.615Z"
      },
      {
        "duration": 1539,
        "start_time": "2022-02-19T10:00:16.453Z"
      },
      {
        "duration": 234,
        "start_time": "2022-02-19T10:00:17.995Z"
      },
      {
        "duration": 229,
        "start_time": "2022-02-19T10:00:18.231Z"
      },
      {
        "duration": 13,
        "start_time": "2022-02-19T10:00:18.463Z"
      },
      {
        "duration": 56,
        "start_time": "2022-02-19T10:00:18.478Z"
      },
      {
        "duration": 23,
        "start_time": "2022-02-19T10:00:18.537Z"
      },
      {
        "duration": 5,
        "start_time": "2022-02-19T10:00:18.562Z"
      },
      {
        "duration": 734,
        "start_time": "2022-02-19T10:00:18.569Z"
      },
      {
        "duration": 12,
        "start_time": "2022-02-19T10:00:19.305Z"
      },
      {
        "duration": 34855,
        "start_time": "2022-02-19T10:00:19.319Z"
      },
      {
        "duration": 49,
        "start_time": "2022-02-19T10:00:54.177Z"
      },
      {
        "duration": 59,
        "start_time": "2022-02-19T10:00:54.228Z"
      },
      {
        "duration": 1021,
        "start_time": "2022-02-19T10:00:54.292Z"
      },
      {
        "duration": 11,
        "start_time": "2022-02-19T10:00:55.316Z"
      },
      {
        "duration": 548,
        "start_time": "2022-02-19T10:00:55.329Z"
      },
      {
        "duration": 610,
        "start_time": "2022-02-19T10:00:55.879Z"
      },
      {
        "duration": 9,
        "start_time": "2022-02-19T10:00:56.491Z"
      },
      {
        "duration": 6,
        "start_time": "2022-02-19T10:00:56.510Z"
      },
      {
        "duration": 14,
        "start_time": "2022-02-19T10:00:56.519Z"
      },
      {
        "duration": 16,
        "start_time": "2022-02-19T10:00:56.536Z"
      },
      {
        "duration": 64,
        "start_time": "2022-02-19T10:00:56.555Z"
      },
      {
        "duration": 10011,
        "start_time": "2022-02-19T10:00:56.622Z"
      },
      {
        "duration": -461,
        "start_time": "2022-02-19T10:01:07.097Z"
      },
      {
        "duration": -476,
        "start_time": "2022-02-19T10:01:07.114Z"
      },
      {
        "duration": -489,
        "start_time": "2022-02-19T10:01:07.129Z"
      },
      {
        "duration": -493,
        "start_time": "2022-02-19T10:01:07.135Z"
      },
      {
        "duration": -511,
        "start_time": "2022-02-19T10:01:07.154Z"
      },
      {
        "duration": -528,
        "start_time": "2022-02-19T10:01:07.173Z"
      },
      {
        "duration": -559,
        "start_time": "2022-02-19T10:01:07.205Z"
      },
      {
        "duration": -577,
        "start_time": "2022-02-19T10:01:07.224Z"
      },
      {
        "duration": -609,
        "start_time": "2022-02-19T10:01:07.258Z"
      },
      {
        "duration": 413,
        "start_time": "2022-02-19T10:03:40.583Z"
      },
      {
        "duration": 9300,
        "start_time": "2022-02-19T10:04:11.765Z"
      },
      {
        "duration": 1118,
        "start_time": "2022-02-19T10:04:50.760Z"
      },
      {
        "duration": 9894,
        "start_time": "2022-02-19T10:05:29.168Z"
      },
      {
        "duration": 9620,
        "start_time": "2022-02-19T10:06:28.968Z"
      },
      {
        "duration": 253,
        "start_time": "2022-02-19T10:07:19.487Z"
      },
      {
        "duration": 226,
        "start_time": "2022-02-19T10:12:44.811Z"
      },
      {
        "duration": 408,
        "start_time": "2022-02-19T10:13:09.540Z"
      },
      {
        "duration": 406,
        "start_time": "2022-02-19T10:18:39.246Z"
      },
      {
        "duration": 29,
        "start_time": "2022-02-19T10:18:50.997Z"
      },
      {
        "duration": 42,
        "start_time": "2022-02-19T10:19:14.980Z"
      },
      {
        "duration": 11926,
        "start_time": "2022-02-19T10:23:00.103Z"
      },
      {
        "duration": 37,
        "start_time": "2022-02-19T10:25:04.793Z"
      },
      {
        "duration": 439,
        "start_time": "2022-02-19T10:25:23.008Z"
      },
      {
        "duration": 407,
        "start_time": "2022-02-19T10:27:27.771Z"
      },
      {
        "duration": 7479,
        "start_time": "2022-02-19T10:27:44.690Z"
      },
      {
        "duration": 9890,
        "start_time": "2022-02-19T10:28:58.748Z"
      },
      {
        "duration": 35,
        "start_time": "2022-02-19T10:29:50.031Z"
      },
      {
        "duration": 348,
        "start_time": "2022-02-19T10:39:50.972Z"
      },
      {
        "duration": 414,
        "start_time": "2022-02-19T10:40:55.706Z"
      },
      {
        "duration": 415,
        "start_time": "2022-02-19T10:41:20.041Z"
      },
      {
        "duration": 255,
        "start_time": "2022-02-19T10:41:54.921Z"
      },
      {
        "duration": 379,
        "start_time": "2022-02-19T10:44:04.738Z"
      },
      {
        "duration": 737,
        "start_time": "2022-02-19T11:39:00.869Z"
      },
      {
        "duration": 888,
        "start_time": "2022-02-19T11:44:52.303Z"
      },
      {
        "duration": 735,
        "start_time": "2022-02-19T11:52:47.196Z"
      },
      {
        "duration": 11913,
        "start_time": "2022-02-19T11:57:08.737Z"
      },
      {
        "duration": 413,
        "start_time": "2022-02-19T12:00:36.027Z"
      },
      {
        "duration": 429,
        "start_time": "2022-02-19T12:01:07.986Z"
      },
      {
        "duration": 441,
        "start_time": "2022-02-19T12:01:41.369Z"
      },
      {
        "duration": 412,
        "start_time": "2022-02-19T12:02:11.887Z"
      },
      {
        "duration": 408,
        "start_time": "2022-02-19T12:02:30.798Z"
      },
      {
        "duration": 479,
        "start_time": "2022-02-19T12:03:27.231Z"
      },
      {
        "duration": 397,
        "start_time": "2022-02-19T12:05:27.732Z"
      },
      {
        "duration": 1570,
        "start_time": "2022-02-19T12:09:36.451Z"
      },
      {
        "duration": 4,
        "start_time": "2022-02-19T12:09:38.024Z"
      },
      {
        "duration": 185,
        "start_time": "2022-02-19T12:09:38.032Z"
      },
      {
        "duration": 55,
        "start_time": "2022-02-19T12:09:38.220Z"
      },
      {
        "duration": 3,
        "start_time": "2022-02-19T12:09:38.277Z"
      },
      {
        "duration": 34,
        "start_time": "2022-02-19T12:09:38.282Z"
      },
      {
        "duration": 14,
        "start_time": "2022-02-19T12:09:38.319Z"
      },
      {
        "duration": 7,
        "start_time": "2022-02-19T12:09:38.339Z"
      },
      {
        "duration": 147,
        "start_time": "2022-02-19T12:09:38.351Z"
      },
      {
        "duration": 41,
        "start_time": "2022-02-19T12:09:38.501Z"
      },
      {
        "duration": 8,
        "start_time": "2022-02-19T12:09:38.545Z"
      },
      {
        "duration": 261,
        "start_time": "2022-02-19T12:09:38.555Z"
      },
      {
        "duration": 15,
        "start_time": "2022-02-19T12:09:38.819Z"
      },
      {
        "duration": 229,
        "start_time": "2022-02-19T12:09:38.836Z"
      },
      {
        "duration": 12,
        "start_time": "2022-02-19T12:09:39.067Z"
      },
      {
        "duration": 31,
        "start_time": "2022-02-19T12:09:39.081Z"
      },
      {
        "duration": 29,
        "start_time": "2022-02-19T12:09:39.114Z"
      },
      {
        "duration": 19,
        "start_time": "2022-02-19T12:09:39.145Z"
      },
      {
        "duration": 46,
        "start_time": "2022-02-19T12:09:39.166Z"
      },
      {
        "duration": 6,
        "start_time": "2022-02-19T12:09:39.215Z"
      },
      {
        "duration": 236,
        "start_time": "2022-02-19T12:09:39.224Z"
      },
      {
        "duration": 822,
        "start_time": "2022-02-19T12:09:39.462Z"
      },
      {
        "duration": 1522,
        "start_time": "2022-02-19T12:09:40.290Z"
      },
      {
        "duration": 238,
        "start_time": "2022-02-19T12:09:41.816Z"
      },
      {
        "duration": 226,
        "start_time": "2022-02-19T12:09:42.057Z"
      },
      {
        "duration": 29,
        "start_time": "2022-02-19T12:09:42.286Z"
      },
      {
        "duration": 40,
        "start_time": "2022-02-19T12:09:42.318Z"
      },
      {
        "duration": 52,
        "start_time": "2022-02-19T12:09:42.360Z"
      },
      {
        "duration": 6,
        "start_time": "2022-02-19T12:09:42.415Z"
      },
      {
        "duration": 763,
        "start_time": "2022-02-19T12:09:42.424Z"
      },
      {
        "duration": 7,
        "start_time": "2022-02-19T12:09:43.189Z"
      },
      {
        "duration": 34469,
        "start_time": "2022-02-19T12:09:43.198Z"
      },
      {
        "duration": 40,
        "start_time": "2022-02-19T12:10:17.670Z"
      },
      {
        "duration": 54,
        "start_time": "2022-02-19T12:10:17.713Z"
      },
      {
        "duration": 1020,
        "start_time": "2022-02-19T12:10:17.769Z"
      },
      {
        "duration": 21,
        "start_time": "2022-02-19T12:10:18.792Z"
      },
      {
        "duration": 517,
        "start_time": "2022-02-19T12:10:18.816Z"
      },
      {
        "duration": 600,
        "start_time": "2022-02-19T12:10:19.336Z"
      },
      {
        "duration": 8,
        "start_time": "2022-02-19T12:10:19.938Z"
      },
      {
        "duration": 5,
        "start_time": "2022-02-19T12:10:19.949Z"
      },
      {
        "duration": 14,
        "start_time": "2022-02-19T12:10:19.956Z"
      },
      {
        "duration": 46,
        "start_time": "2022-02-19T12:10:19.973Z"
      },
      {
        "duration": 15,
        "start_time": "2022-02-19T12:10:20.021Z"
      },
      {
        "duration": 437,
        "start_time": "2022-02-19T12:10:20.039Z"
      },
      {
        "duration": 50747,
        "start_time": "2022-02-19T12:10:20.479Z"
      },
      {
        "duration": 414,
        "start_time": "2022-02-19T12:11:11.228Z"
      },
      {
        "duration": 121,
        "start_time": "2022-02-19T12:11:11.645Z"
      },
      {
        "duration": 12,
        "start_time": "2022-02-19T12:11:11.768Z"
      },
      {
        "duration": 31,
        "start_time": "2022-02-19T12:11:11.783Z"
      },
      {
        "duration": 14,
        "start_time": "2022-02-19T12:11:11.816Z"
      },
      {
        "duration": 12,
        "start_time": "2022-02-19T12:11:11.832Z"
      },
      {
        "duration": 13,
        "start_time": "2022-02-19T12:11:11.846Z"
      },
      {
        "duration": 60,
        "start_time": "2022-02-19T12:11:11.861Z"
      },
      {
        "duration": 427,
        "start_time": "2022-02-19T12:17:03.856Z"
      },
      {
        "duration": 1514,
        "start_time": "2022-02-20T09:39:54.528Z"
      },
      {
        "duration": 3,
        "start_time": "2022-02-20T09:39:56.045Z"
      },
      {
        "duration": 116,
        "start_time": "2022-02-20T09:39:56.061Z"
      },
      {
        "duration": 42,
        "start_time": "2022-02-20T09:39:56.180Z"
      },
      {
        "duration": 2,
        "start_time": "2022-02-20T09:39:56.225Z"
      },
      {
        "duration": 41,
        "start_time": "2022-02-20T09:39:56.230Z"
      },
      {
        "duration": 13,
        "start_time": "2022-02-20T09:39:56.273Z"
      },
      {
        "duration": 6,
        "start_time": "2022-02-20T09:39:56.289Z"
      },
      {
        "duration": 137,
        "start_time": "2022-02-20T09:39:56.298Z"
      },
      {
        "duration": 50,
        "start_time": "2022-02-20T09:39:56.438Z"
      },
      {
        "duration": 8,
        "start_time": "2022-02-20T09:39:56.490Z"
      },
      {
        "duration": 264,
        "start_time": "2022-02-20T09:39:56.500Z"
      },
      {
        "duration": 410,
        "start_time": "2022-02-20T09:41:24.168Z"
      },
      {
        "duration": 455,
        "start_time": "2022-02-20T09:41:32.326Z"
      },
      {
        "duration": 3004,
        "start_time": "2022-02-20T09:42:55.051Z"
      },
      {
        "duration": 439,
        "start_time": "2022-02-20T09:43:11.696Z"
      },
      {
        "duration": 478,
        "start_time": "2022-02-20T09:43:57.847Z"
      },
      {
        "duration": 294,
        "start_time": "2022-02-20T09:44:48.642Z"
      },
      {
        "duration": 469,
        "start_time": "2022-02-20T09:44:55.070Z"
      },
      {
        "duration": 2343,
        "start_time": "2022-02-20T09:45:04.696Z"
      },
      {
        "duration": 3962,
        "start_time": "2022-02-20T09:45:21.704Z"
      },
      {
        "duration": 419,
        "start_time": "2022-02-20T09:45:35.520Z"
      },
      {
        "duration": 2063,
        "start_time": "2022-02-20T09:46:34.505Z"
      },
      {
        "duration": 1262,
        "start_time": "2022-02-20T09:47:47.877Z"
      },
      {
        "duration": 379,
        "start_time": "2022-02-20T09:48:20.406Z"
      },
      {
        "duration": 1360,
        "start_time": "2022-02-20T09:48:39.745Z"
      },
      {
        "duration": 574,
        "start_time": "2022-02-20T09:50:57.336Z"
      },
      {
        "duration": 3,
        "start_time": "2022-02-20T09:51:09.083Z"
      },
      {
        "duration": 1138,
        "start_time": "2022-02-20T09:51:10.654Z"
      },
      {
        "duration": 1200,
        "start_time": "2022-02-20T09:52:09.479Z"
      },
      {
        "duration": 1079,
        "start_time": "2022-02-20T09:52:22.386Z"
      },
      {
        "duration": 1075,
        "start_time": "2022-02-20T09:52:58.899Z"
      },
      {
        "duration": 13,
        "start_time": "2022-02-20T10:31:17.732Z"
      },
      {
        "duration": 404,
        "start_time": "2022-02-20T11:01:59.584Z"
      },
      {
        "duration": 3,
        "start_time": "2022-02-20T11:02:04.979Z"
      },
      {
        "duration": 7,
        "start_time": "2022-02-20T11:02:04.988Z"
      },
      {
        "duration": 122,
        "start_time": "2022-02-20T11:02:04.998Z"
      },
      {
        "duration": 62,
        "start_time": "2022-02-20T11:02:05.123Z"
      },
      {
        "duration": 3,
        "start_time": "2022-02-20T11:02:05.188Z"
      },
      {
        "duration": 18,
        "start_time": "2022-02-20T11:02:05.194Z"
      },
      {
        "duration": 51,
        "start_time": "2022-02-20T11:02:05.215Z"
      },
      {
        "duration": 7,
        "start_time": "2022-02-20T11:02:05.268Z"
      },
      {
        "duration": 139,
        "start_time": "2022-02-20T11:02:05.278Z"
      },
      {
        "duration": 59,
        "start_time": "2022-02-20T11:02:05.420Z"
      },
      {
        "duration": 8,
        "start_time": "2022-02-20T11:02:05.481Z"
      },
      {
        "duration": 240,
        "start_time": "2022-02-20T11:02:05.491Z"
      },
      {
        "duration": 1217,
        "start_time": "2022-02-20T11:02:05.734Z"
      },
      {
        "duration": 15,
        "start_time": "2022-02-20T11:02:06.961Z"
      },
      {
        "duration": 231,
        "start_time": "2022-02-20T11:02:06.978Z"
      },
      {
        "duration": 12,
        "start_time": "2022-02-20T11:02:07.211Z"
      },
      {
        "duration": 12,
        "start_time": "2022-02-20T11:02:07.226Z"
      },
      {
        "duration": 20,
        "start_time": "2022-02-20T11:02:07.262Z"
      },
      {
        "duration": 17,
        "start_time": "2022-02-20T11:02:07.284Z"
      },
      {
        "duration": 19,
        "start_time": "2022-02-20T11:02:07.303Z"
      },
      {
        "duration": 8,
        "start_time": "2022-02-20T11:02:07.361Z"
      },
      {
        "duration": 250,
        "start_time": "2022-02-20T11:02:07.373Z"
      },
      {
        "duration": 878,
        "start_time": "2022-02-20T11:02:07.626Z"
      },
      {
        "duration": 1599,
        "start_time": "2022-02-20T11:02:08.510Z"
      },
      {
        "duration": 237,
        "start_time": "2022-02-20T11:02:10.113Z"
      },
      {
        "duration": 231,
        "start_time": "2022-02-20T11:02:10.362Z"
      },
      {
        "duration": 12,
        "start_time": "2022-02-20T11:02:10.596Z"
      },
      {
        "duration": 66,
        "start_time": "2022-02-20T11:02:10.610Z"
      },
      {
        "duration": 25,
        "start_time": "2022-02-20T11:02:10.678Z"
      },
      {
        "duration": 5,
        "start_time": "2022-02-20T11:02:10.706Z"
      },
      {
        "duration": 780,
        "start_time": "2022-02-20T11:02:10.713Z"
      },
      {
        "duration": 7,
        "start_time": "2022-02-20T11:02:11.495Z"
      },
      {
        "duration": 36811,
        "start_time": "2022-02-20T11:02:11.504Z"
      },
      {
        "duration": 24,
        "start_time": "2022-02-20T11:02:48.317Z"
      },
      {
        "duration": 65,
        "start_time": "2022-02-20T11:02:48.343Z"
      },
      {
        "duration": 1692,
        "start_time": "2022-02-20T11:02:48.410Z"
      },
      {
        "duration": 11,
        "start_time": "2022-02-20T11:02:50.105Z"
      },
      {
        "duration": 527,
        "start_time": "2022-02-20T11:02:50.119Z"
      },
      {
        "duration": 540,
        "start_time": "2022-02-20T11:02:50.649Z"
      },
      {
        "duration": 9,
        "start_time": "2022-02-20T11:02:51.192Z"
      },
      {
        "duration": 6,
        "start_time": "2022-02-20T11:02:51.204Z"
      },
      {
        "duration": 18,
        "start_time": "2022-02-20T11:02:51.213Z"
      },
      {
        "duration": 11,
        "start_time": "2022-02-20T11:02:51.262Z"
      },
      {
        "duration": 18,
        "start_time": "2022-02-20T11:02:51.276Z"
      },
      {
        "duration": 457,
        "start_time": "2022-02-20T11:02:51.297Z"
      },
      {
        "duration": 375,
        "start_time": "2022-02-20T11:02:51.762Z"
      },
      {
        "duration": 494,
        "start_time": "2022-02-20T11:04:26.135Z"
      },
      {
        "duration": 1666,
        "start_time": "2022-02-20T11:23:31.303Z"
      },
      {
        "duration": 5,
        "start_time": "2022-02-20T11:23:32.972Z"
      },
      {
        "duration": 126,
        "start_time": "2022-02-20T11:23:32.980Z"
      },
      {
        "duration": 55,
        "start_time": "2022-02-20T11:23:33.109Z"
      },
      {
        "duration": 4,
        "start_time": "2022-02-20T11:23:33.167Z"
      },
      {
        "duration": 14,
        "start_time": "2022-02-20T11:23:33.174Z"
      },
      {
        "duration": 15,
        "start_time": "2022-02-20T11:23:33.191Z"
      },
      {
        "duration": 54,
        "start_time": "2022-02-20T11:23:33.212Z"
      },
      {
        "duration": 114,
        "start_time": "2022-02-20T11:23:33.270Z"
      },
      {
        "duration": 42,
        "start_time": "2022-02-20T11:23:33.387Z"
      },
      {
        "duration": 30,
        "start_time": "2022-02-20T11:23:33.432Z"
      },
      {
        "duration": 266,
        "start_time": "2022-02-20T11:23:33.465Z"
      },
      {
        "duration": 1165,
        "start_time": "2022-02-20T11:23:33.734Z"
      },
      {
        "duration": 29,
        "start_time": "2022-02-20T11:23:34.903Z"
      },
      {
        "duration": 283,
        "start_time": "2022-02-20T11:23:34.935Z"
      },
      {
        "duration": 13,
        "start_time": "2022-02-20T11:23:35.221Z"
      },
      {
        "duration": 36,
        "start_time": "2022-02-20T11:23:35.236Z"
      },
      {
        "duration": 22,
        "start_time": "2022-02-20T11:23:35.275Z"
      },
      {
        "duration": 21,
        "start_time": "2022-02-20T11:23:35.300Z"
      },
      {
        "duration": 52,
        "start_time": "2022-02-20T11:23:35.324Z"
      },
      {
        "duration": 6,
        "start_time": "2022-02-20T11:23:35.379Z"
      },
      {
        "duration": 256,
        "start_time": "2022-02-20T11:23:35.388Z"
      },
      {
        "duration": 849,
        "start_time": "2022-02-20T11:23:35.662Z"
      },
      {
        "duration": 1486,
        "start_time": "2022-02-20T11:23:36.515Z"
      },
      {
        "duration": 264,
        "start_time": "2022-02-20T11:23:38.004Z"
      },
      {
        "duration": 307,
        "start_time": "2022-02-20T11:23:38.270Z"
      },
      {
        "duration": 15,
        "start_time": "2022-02-20T11:23:38.579Z"
      },
      {
        "duration": 69,
        "start_time": "2022-02-20T11:23:38.597Z"
      },
      {
        "duration": 25,
        "start_time": "2022-02-20T11:23:38.668Z"
      },
      {
        "duration": 6,
        "start_time": "2022-02-20T11:23:38.695Z"
      },
      {
        "duration": 784,
        "start_time": "2022-02-20T11:23:38.704Z"
      },
      {
        "duration": 8,
        "start_time": "2022-02-20T11:23:39.490Z"
      },
      {
        "duration": 35804,
        "start_time": "2022-02-20T11:23:39.501Z"
      },
      {
        "duration": 52,
        "start_time": "2022-02-20T11:24:15.308Z"
      },
      {
        "duration": 55,
        "start_time": "2022-02-20T11:24:15.363Z"
      },
      {
        "duration": 869,
        "start_time": "2022-02-20T11:24:15.421Z"
      },
      {
        "duration": 13,
        "start_time": "2022-02-20T11:24:16.293Z"
      },
      {
        "duration": 546,
        "start_time": "2022-02-20T11:24:16.309Z"
      },
      {
        "duration": 429,
        "start_time": "2022-02-20T11:24:16.862Z"
      },
      {
        "duration": 9,
        "start_time": "2022-02-20T11:24:17.294Z"
      },
      {
        "duration": 8,
        "start_time": "2022-02-20T11:24:17.306Z"
      },
      {
        "duration": 18,
        "start_time": "2022-02-20T11:24:17.316Z"
      },
      {
        "duration": 12,
        "start_time": "2022-02-20T11:24:17.361Z"
      },
      {
        "duration": 14,
        "start_time": "2022-02-20T11:24:17.375Z"
      },
      {
        "duration": 448,
        "start_time": "2022-02-20T11:24:17.392Z"
      },
      {
        "duration": 59980,
        "start_time": "2022-02-20T11:24:17.842Z"
      },
      {
        "duration": 440,
        "start_time": "2022-02-20T11:25:17.824Z"
      },
      {
        "duration": 120,
        "start_time": "2022-02-20T11:25:18.266Z"
      },
      {
        "duration": 14,
        "start_time": "2022-02-20T11:25:18.389Z"
      },
      {
        "duration": 11,
        "start_time": "2022-02-20T11:25:18.405Z"
      },
      {
        "duration": 46,
        "start_time": "2022-02-20T11:25:18.418Z"
      },
      {
        "duration": 12,
        "start_time": "2022-02-20T11:25:18.466Z"
      },
      {
        "duration": 10,
        "start_time": "2022-02-20T11:25:18.481Z"
      },
      {
        "duration": 18,
        "start_time": "2022-02-20T11:25:18.493Z"
      },
      {
        "duration": 567,
        "start_time": "2022-02-20T11:49:04.949Z"
      },
      {
        "duration": -468,
        "start_time": "2022-02-20T11:49:05.986Z"
      },
      {
        "duration": -475,
        "start_time": "2022-02-20T11:49:05.994Z"
      },
      {
        "duration": -481,
        "start_time": "2022-02-20T11:49:06.001Z"
      },
      {
        "duration": -485,
        "start_time": "2022-02-20T11:49:06.007Z"
      },
      {
        "duration": -491,
        "start_time": "2022-02-20T11:49:06.014Z"
      },
      {
        "duration": -497,
        "start_time": "2022-02-20T11:49:06.021Z"
      },
      {
        "duration": -503,
        "start_time": "2022-02-20T11:49:06.028Z"
      },
      {
        "duration": -508,
        "start_time": "2022-02-20T11:49:06.034Z"
      },
      {
        "duration": -514,
        "start_time": "2022-02-20T11:49:06.041Z"
      },
      {
        "duration": -547,
        "start_time": "2022-02-20T11:49:06.076Z"
      },
      {
        "duration": -553,
        "start_time": "2022-02-20T11:49:06.083Z"
      },
      {
        "duration": -560,
        "start_time": "2022-02-20T11:49:06.091Z"
      },
      {
        "duration": 273,
        "start_time": "2022-02-20T11:49:05.683Z"
      },
      {
        "duration": -174,
        "start_time": "2022-02-20T11:49:06.133Z"
      },
      {
        "duration": -181,
        "start_time": "2022-02-20T11:49:06.141Z"
      },
      {
        "duration": -187,
        "start_time": "2022-02-20T11:49:06.148Z"
      },
      {
        "duration": -193,
        "start_time": "2022-02-20T11:49:06.155Z"
      },
      {
        "duration": -198,
        "start_time": "2022-02-20T11:49:06.161Z"
      },
      {
        "duration": -202,
        "start_time": "2022-02-20T11:49:06.166Z"
      },
      {
        "duration": -229,
        "start_time": "2022-02-20T11:49:06.194Z"
      },
      {
        "duration": -234,
        "start_time": "2022-02-20T11:49:06.200Z"
      },
      {
        "duration": -241,
        "start_time": "2022-02-20T11:49:06.208Z"
      },
      {
        "duration": -282,
        "start_time": "2022-02-20T11:49:06.250Z"
      },
      {
        "duration": -288,
        "start_time": "2022-02-20T11:49:06.257Z"
      },
      {
        "duration": -293,
        "start_time": "2022-02-20T11:49:06.263Z"
      },
      {
        "duration": -298,
        "start_time": "2022-02-20T11:49:06.270Z"
      },
      {
        "duration": -303,
        "start_time": "2022-02-20T11:49:06.276Z"
      },
      {
        "duration": -309,
        "start_time": "2022-02-20T11:49:06.283Z"
      },
      {
        "duration": -315,
        "start_time": "2022-02-20T11:49:06.290Z"
      },
      {
        "duration": -365,
        "start_time": "2022-02-20T11:49:06.341Z"
      },
      {
        "duration": -370,
        "start_time": "2022-02-20T11:49:06.347Z"
      },
      {
        "duration": -378,
        "start_time": "2022-02-20T11:49:06.356Z"
      },
      {
        "duration": -528,
        "start_time": "2022-02-20T11:49:06.508Z"
      },
      {
        "duration": -579,
        "start_time": "2022-02-20T11:49:06.560Z"
      },
      {
        "duration": -584,
        "start_time": "2022-02-20T11:49:06.566Z"
      },
      {
        "duration": -592,
        "start_time": "2022-02-20T11:49:06.575Z"
      },
      {
        "duration": -596,
        "start_time": "2022-02-20T11:49:06.580Z"
      },
      {
        "duration": -602,
        "start_time": "2022-02-20T11:49:06.587Z"
      },
      {
        "duration": -608,
        "start_time": "2022-02-20T11:49:06.594Z"
      },
      {
        "duration": -613,
        "start_time": "2022-02-20T11:49:06.600Z"
      },
      {
        "duration": -668,
        "start_time": "2022-02-20T11:49:06.656Z"
      },
      {
        "duration": -673,
        "start_time": "2022-02-20T11:49:06.663Z"
      },
      {
        "duration": -677,
        "start_time": "2022-02-20T11:49:06.669Z"
      },
      {
        "duration": -682,
        "start_time": "2022-02-20T11:49:06.675Z"
      },
      {
        "duration": -719,
        "start_time": "2022-02-20T11:49:06.713Z"
      },
      {
        "duration": -724,
        "start_time": "2022-02-20T11:49:06.719Z"
      },
      {
        "duration": -729,
        "start_time": "2022-02-20T11:49:06.725Z"
      },
      {
        "duration": -732,
        "start_time": "2022-02-20T11:49:06.730Z"
      },
      {
        "duration": -737,
        "start_time": "2022-02-20T11:49:06.736Z"
      },
      {
        "duration": -742,
        "start_time": "2022-02-20T11:49:06.742Z"
      },
      {
        "duration": -746,
        "start_time": "2022-02-20T11:49:06.747Z"
      },
      {
        "duration": -763,
        "start_time": "2022-02-20T11:49:06.766Z"
      },
      {
        "duration": -771,
        "start_time": "2022-02-20T11:49:06.775Z"
      },
      {
        "duration": 1264,
        "start_time": "2022-02-20T11:50:41.983Z"
      },
      {
        "duration": 84,
        "start_time": "2022-02-20T11:50:43.249Z"
      },
      {
        "duration": 28,
        "start_time": "2022-02-20T11:50:43.335Z"
      },
      {
        "duration": 29,
        "start_time": "2022-02-20T11:50:43.369Z"
      },
      {
        "duration": 2,
        "start_time": "2022-02-20T11:50:43.399Z"
      },
      {
        "duration": 14,
        "start_time": "2022-02-20T11:50:43.403Z"
      },
      {
        "duration": 10,
        "start_time": "2022-02-20T11:50:43.419Z"
      },
      {
        "duration": 4,
        "start_time": "2022-02-20T11:50:43.432Z"
      },
      {
        "duration": 101,
        "start_time": "2022-02-20T11:50:43.438Z"
      },
      {
        "duration": 43,
        "start_time": "2022-02-20T11:50:43.541Z"
      },
      {
        "duration": 5,
        "start_time": "2022-02-20T11:50:43.586Z"
      },
      {
        "duration": 190,
        "start_time": "2022-02-20T11:50:43.593Z"
      },
      {
        "duration": 829,
        "start_time": "2022-02-20T11:50:43.785Z"
      },
      {
        "duration": 11,
        "start_time": "2022-02-20T11:50:44.616Z"
      },
      {
        "duration": 238,
        "start_time": "2022-02-20T11:50:44.628Z"
      },
      {
        "duration": 10,
        "start_time": "2022-02-20T11:50:44.869Z"
      },
      {
        "duration": 8,
        "start_time": "2022-02-20T11:50:44.881Z"
      },
      {
        "duration": 28,
        "start_time": "2022-02-20T11:50:44.891Z"
      },
      {
        "duration": 15,
        "start_time": "2022-02-20T11:50:44.921Z"
      },
      {
        "duration": 46,
        "start_time": "2022-02-20T11:50:44.938Z"
      },
      {
        "duration": 6,
        "start_time": "2022-02-20T11:50:44.986Z"
      },
      {
        "duration": 193,
        "start_time": "2022-02-20T11:50:44.994Z"
      },
      {
        "duration": 580,
        "start_time": "2022-02-20T11:50:45.191Z"
      },
      {
        "duration": 932,
        "start_time": "2022-02-20T11:50:45.774Z"
      },
      {
        "duration": 170,
        "start_time": "2022-02-20T11:50:46.708Z"
      },
      {
        "duration": 233,
        "start_time": "2022-02-20T11:50:46.879Z"
      },
      {
        "duration": 10,
        "start_time": "2022-02-20T11:50:47.114Z"
      },
      {
        "duration": 45,
        "start_time": "2022-02-20T11:50:47.126Z"
      },
      {
        "duration": 18,
        "start_time": "2022-02-20T11:50:47.173Z"
      },
      {
        "duration": 4,
        "start_time": "2022-02-20T11:50:47.193Z"
      },
      {
        "duration": 479,
        "start_time": "2022-02-20T11:50:47.199Z"
      },
      {
        "duration": 5,
        "start_time": "2022-02-20T11:50:47.680Z"
      },
      {
        "duration": 24148,
        "start_time": "2022-02-20T11:50:47.687Z"
      },
      {
        "duration": 16,
        "start_time": "2022-02-20T11:51:11.837Z"
      },
      {
        "duration": 42,
        "start_time": "2022-02-20T11:51:11.870Z"
      },
      {
        "duration": 602,
        "start_time": "2022-02-20T11:51:11.914Z"
      },
      {
        "duration": 8,
        "start_time": "2022-02-20T11:51:12.518Z"
      },
      {
        "duration": 388,
        "start_time": "2022-02-20T11:51:12.528Z"
      },
      {
        "duration": 316,
        "start_time": "2022-02-20T11:51:12.918Z"
      },
      {
        "duration": 8,
        "start_time": "2022-02-20T11:51:13.236Z"
      },
      {
        "duration": 24,
        "start_time": "2022-02-20T11:51:13.246Z"
      },
      {
        "duration": 11,
        "start_time": "2022-02-20T11:51:13.273Z"
      },
      {
        "duration": 11,
        "start_time": "2022-02-20T11:51:13.286Z"
      },
      {
        "duration": 10,
        "start_time": "2022-02-20T11:51:13.299Z"
      },
      {
        "duration": 349,
        "start_time": "2022-02-20T11:51:13.311Z"
      },
      {
        "duration": 33229,
        "start_time": "2022-02-20T11:51:13.661Z"
      },
      {
        "duration": 321,
        "start_time": "2022-02-20T11:51:46.891Z"
      },
      {
        "duration": 87,
        "start_time": "2022-02-20T11:51:47.213Z"
      },
      {
        "duration": 8,
        "start_time": "2022-02-20T11:51:47.302Z"
      },
      {
        "duration": 13,
        "start_time": "2022-02-20T11:51:47.312Z"
      },
      {
        "duration": 13,
        "start_time": "2022-02-20T11:51:47.326Z"
      },
      {
        "duration": 34,
        "start_time": "2022-02-20T11:51:47.341Z"
      },
      {
        "duration": 14,
        "start_time": "2022-02-20T11:51:47.377Z"
      },
      {
        "duration": 17,
        "start_time": "2022-02-20T11:51:47.393Z"
      },
      {
        "duration": 1535,
        "start_time": "2022-02-20T11:57:44.246Z"
      },
      {
        "duration": 102,
        "start_time": "2022-02-20T11:57:45.783Z"
      },
      {
        "duration": 204,
        "start_time": "2022-02-20T11:57:45.887Z"
      },
      {
        "duration": 52,
        "start_time": "2022-02-20T11:57:46.093Z"
      },
      {
        "duration": 2,
        "start_time": "2022-02-20T11:57:46.147Z"
      },
      {
        "duration": 17,
        "start_time": "2022-02-20T11:57:46.151Z"
      },
      {
        "duration": 15,
        "start_time": "2022-02-20T11:57:46.170Z"
      },
      {
        "duration": 5,
        "start_time": "2022-02-20T11:57:46.189Z"
      },
      {
        "duration": 105,
        "start_time": "2022-02-20T11:57:46.196Z"
      },
      {
        "duration": 32,
        "start_time": "2022-02-20T11:57:46.303Z"
      },
      {
        "duration": 7,
        "start_time": "2022-02-20T11:57:46.337Z"
      },
      {
        "duration": 224,
        "start_time": "2022-02-20T11:57:46.346Z"
      },
      {
        "duration": 881,
        "start_time": "2022-02-20T11:57:46.572Z"
      },
      {
        "duration": 23,
        "start_time": "2022-02-20T11:57:47.454Z"
      },
      {
        "duration": 245,
        "start_time": "2022-02-20T11:57:47.480Z"
      },
      {
        "duration": 13,
        "start_time": "2022-02-20T11:57:47.727Z"
      },
      {
        "duration": 31,
        "start_time": "2022-02-20T11:57:47.742Z"
      },
      {
        "duration": 36,
        "start_time": "2022-02-20T11:57:47.775Z"
      },
      {
        "duration": 13,
        "start_time": "2022-02-20T11:57:47.814Z"
      },
      {
        "duration": 18,
        "start_time": "2022-02-20T11:57:47.830Z"
      },
      {
        "duration": 23,
        "start_time": "2022-02-20T11:57:47.850Z"
      },
      {
        "duration": 188,
        "start_time": "2022-02-20T11:57:47.875Z"
      },
      {
        "duration": 638,
        "start_time": "2022-02-20T11:57:48.072Z"
      },
      {
        "duration": 602,
        "start_time": "2022-02-20T11:57:48.712Z"
      },
      {
        "duration": 190,
        "start_time": "2022-02-20T11:57:49.316Z"
      },
      {
        "duration": 181,
        "start_time": "2022-02-20T11:57:49.509Z"
      },
      {
        "duration": 8,
        "start_time": "2022-02-20T11:57:49.693Z"
      },
      {
        "duration": 27,
        "start_time": "2022-02-20T11:57:49.703Z"
      },
      {
        "duration": 46,
        "start_time": "2022-02-20T11:57:49.732Z"
      },
      {
        "duration": 4,
        "start_time": "2022-02-20T11:57:49.781Z"
      },
      {
        "duration": 390,
        "start_time": "2022-02-20T11:57:49.787Z"
      },
      {
        "duration": 5,
        "start_time": "2022-02-20T11:57:50.179Z"
      },
      {
        "duration": 17568,
        "start_time": "2022-02-20T11:57:50.186Z"
      },
      {
        "duration": 23,
        "start_time": "2022-02-20T11:58:07.756Z"
      },
      {
        "duration": 41,
        "start_time": "2022-02-20T11:58:07.780Z"
      },
      {
        "duration": 653,
        "start_time": "2022-02-20T11:58:07.823Z"
      },
      {
        "duration": 10,
        "start_time": "2022-02-20T11:58:08.479Z"
      },
      {
        "duration": 562,
        "start_time": "2022-02-20T11:58:08.491Z"
      },
      {
        "duration": 322,
        "start_time": "2022-02-20T11:58:09.055Z"
      },
      {
        "duration": 8,
        "start_time": "2022-02-20T11:58:09.379Z"
      },
      {
        "duration": 5,
        "start_time": "2022-02-20T11:58:09.389Z"
      },
      {
        "duration": 11,
        "start_time": "2022-02-20T11:58:09.396Z"
      },
      {
        "duration": 10,
        "start_time": "2022-02-20T11:58:09.409Z"
      },
      {
        "duration": 52,
        "start_time": "2022-02-20T11:58:09.421Z"
      },
      {
        "duration": 331,
        "start_time": "2022-02-20T11:58:09.475Z"
      },
      {
        "duration": 22975,
        "start_time": "2022-02-20T11:58:09.808Z"
      },
      {
        "duration": 359,
        "start_time": "2022-02-20T11:58:32.785Z"
      },
      {
        "duration": 93,
        "start_time": "2022-02-20T11:58:33.145Z"
      },
      {
        "duration": 9,
        "start_time": "2022-02-20T11:58:33.240Z"
      },
      {
        "duration": 25,
        "start_time": "2022-02-20T11:58:33.251Z"
      },
      {
        "duration": 15,
        "start_time": "2022-02-20T11:58:33.278Z"
      },
      {
        "duration": 11,
        "start_time": "2022-02-20T11:58:33.295Z"
      },
      {
        "duration": 10,
        "start_time": "2022-02-20T11:58:33.308Z"
      },
      {
        "duration": 14,
        "start_time": "2022-02-20T11:58:33.320Z"
      },
      {
        "duration": 178,
        "start_time": "2022-02-20T11:58:33.370Z"
      },
      {
        "duration": 165,
        "start_time": "2022-02-20T11:59:58.843Z"
      },
      {
        "duration": 1325,
        "start_time": "2022-02-20T12:00:05.372Z"
      },
      {
        "duration": 99,
        "start_time": "2022-02-20T12:00:06.700Z"
      },
      {
        "duration": 32,
        "start_time": "2022-02-20T12:00:06.802Z"
      },
      {
        "duration": 45,
        "start_time": "2022-02-20T12:00:06.837Z"
      },
      {
        "duration": 3,
        "start_time": "2022-02-20T12:00:06.884Z"
      },
      {
        "duration": 28,
        "start_time": "2022-02-20T12:00:06.890Z"
      },
      {
        "duration": 21,
        "start_time": "2022-02-20T12:00:06.920Z"
      },
      {
        "duration": 5,
        "start_time": "2022-02-20T12:00:06.946Z"
      },
      {
        "duration": 96,
        "start_time": "2022-02-20T12:00:06.954Z"
      },
      {
        "duration": 33,
        "start_time": "2022-02-20T12:00:07.070Z"
      },
      {
        "duration": 16,
        "start_time": "2022-02-20T12:00:07.105Z"
      },
      {
        "duration": 195,
        "start_time": "2022-02-20T12:00:07.123Z"
      },
      {
        "duration": 882,
        "start_time": "2022-02-20T12:00:07.320Z"
      },
      {
        "duration": 10,
        "start_time": "2022-02-20T12:00:08.204Z"
      },
      {
        "duration": 261,
        "start_time": "2022-02-20T12:00:08.216Z"
      },
      {
        "duration": 11,
        "start_time": "2022-02-20T12:00:08.480Z"
      },
      {
        "duration": 11,
        "start_time": "2022-02-20T12:00:08.493Z"
      },
      {
        "duration": 30,
        "start_time": "2022-02-20T12:00:08.506Z"
      },
      {
        "duration": 11,
        "start_time": "2022-02-20T12:00:08.538Z"
      },
      {
        "duration": 31,
        "start_time": "2022-02-20T12:00:08.551Z"
      },
      {
        "duration": 5,
        "start_time": "2022-02-20T12:00:08.584Z"
      },
      {
        "duration": 211,
        "start_time": "2022-02-20T12:00:08.592Z"
      },
      {
        "duration": 644,
        "start_time": "2022-02-20T12:00:08.807Z"
      },
      {
        "duration": 608,
        "start_time": "2022-02-20T12:00:09.454Z"
      },
      {
        "duration": 183,
        "start_time": "2022-02-20T12:00:10.063Z"
      },
      {
        "duration": 183,
        "start_time": "2022-02-20T12:00:10.248Z"
      },
      {
        "duration": 9,
        "start_time": "2022-02-20T12:00:10.433Z"
      },
      {
        "duration": 45,
        "start_time": "2022-02-20T12:00:10.444Z"
      },
      {
        "duration": 18,
        "start_time": "2022-02-20T12:00:10.491Z"
      },
      {
        "duration": 10,
        "start_time": "2022-02-20T12:00:10.511Z"
      },
      {
        "duration": 402,
        "start_time": "2022-02-20T12:00:10.523Z"
      },
      {
        "duration": 6,
        "start_time": "2022-02-20T12:00:10.927Z"
      },
      {
        "duration": 17556,
        "start_time": "2022-02-20T12:00:10.935Z"
      },
      {
        "duration": 19,
        "start_time": "2022-02-20T12:00:28.493Z"
      },
      {
        "duration": 65,
        "start_time": "2022-02-20T12:00:28.514Z"
      },
      {
        "duration": 682,
        "start_time": "2022-02-20T12:00:28.582Z"
      },
      {
        "duration": 15,
        "start_time": "2022-02-20T12:00:29.266Z"
      },
      {
        "duration": 606,
        "start_time": "2022-02-20T12:00:29.284Z"
      },
      {
        "duration": 336,
        "start_time": "2022-02-20T12:00:29.891Z"
      },
      {
        "duration": 7,
        "start_time": "2022-02-20T12:00:30.230Z"
      },
      {
        "duration": 9,
        "start_time": "2022-02-20T12:00:30.240Z"
      },
      {
        "duration": 11,
        "start_time": "2022-02-20T12:00:30.270Z"
      },
      {
        "duration": 13,
        "start_time": "2022-02-20T12:00:30.283Z"
      },
      {
        "duration": 22,
        "start_time": "2022-02-20T12:00:30.299Z"
      },
      {
        "duration": 365,
        "start_time": "2022-02-20T12:00:30.324Z"
      },
      {
        "duration": 25227,
        "start_time": "2022-02-20T12:00:30.692Z"
      },
      {
        "duration": 334,
        "start_time": "2022-02-20T12:00:55.920Z"
      },
      {
        "duration": 101,
        "start_time": "2022-02-20T12:00:56.256Z"
      },
      {
        "duration": 10,
        "start_time": "2022-02-20T12:00:56.368Z"
      },
      {
        "duration": 10,
        "start_time": "2022-02-20T12:00:56.380Z"
      },
      {
        "duration": 11,
        "start_time": "2022-02-20T12:00:56.392Z"
      },
      {
        "duration": 11,
        "start_time": "2022-02-20T12:00:56.406Z"
      },
      {
        "duration": 12,
        "start_time": "2022-02-20T12:00:56.420Z"
      },
      {
        "duration": 16,
        "start_time": "2022-02-20T12:00:56.470Z"
      },
      {
        "duration": 380,
        "start_time": "2022-02-20T12:17:47.562Z"
      },
      {
        "duration": 358,
        "start_time": "2022-02-20T12:18:18.148Z"
      },
      {
        "duration": 271,
        "start_time": "2022-02-20T12:18:39.897Z"
      },
      {
        "duration": 88,
        "start_time": "2022-02-20T12:21:20.233Z"
      },
      {
        "duration": 86,
        "start_time": "2022-02-20T12:22:01.521Z"
      },
      {
        "duration": 84,
        "start_time": "2022-02-20T12:22:37.853Z"
      },
      {
        "duration": 95,
        "start_time": "2022-02-20T12:23:40.521Z"
      },
      {
        "duration": 273,
        "start_time": "2022-02-20T12:24:07.208Z"
      },
      {
        "duration": 19,
        "start_time": "2022-02-20T12:24:28.240Z"
      },
      {
        "duration": 1201,
        "start_time": "2022-02-20T12:28:26.933Z"
      },
      {
        "duration": 81,
        "start_time": "2022-02-20T12:28:28.136Z"
      },
      {
        "duration": 30,
        "start_time": "2022-02-20T12:28:28.219Z"
      },
      {
        "duration": 43,
        "start_time": "2022-02-20T12:28:28.251Z"
      },
      {
        "duration": 2,
        "start_time": "2022-02-20T12:28:28.296Z"
      },
      {
        "duration": 29,
        "start_time": "2022-02-20T12:28:28.299Z"
      },
      {
        "duration": 23,
        "start_time": "2022-02-20T12:28:28.330Z"
      },
      {
        "duration": 6,
        "start_time": "2022-02-20T12:28:28.356Z"
      },
      {
        "duration": 87,
        "start_time": "2022-02-20T12:28:28.364Z"
      },
      {
        "duration": 27,
        "start_time": "2022-02-20T12:28:28.453Z"
      },
      {
        "duration": 5,
        "start_time": "2022-02-20T12:28:28.482Z"
      },
      {
        "duration": 179,
        "start_time": "2022-02-20T12:28:28.489Z"
      },
      {
        "duration": 845,
        "start_time": "2022-02-20T12:28:28.670Z"
      },
      {
        "duration": 12,
        "start_time": "2022-02-20T12:28:29.517Z"
      },
      {
        "duration": 249,
        "start_time": "2022-02-20T12:28:29.531Z"
      },
      {
        "duration": 8,
        "start_time": "2022-02-20T12:28:29.782Z"
      },
      {
        "duration": 22,
        "start_time": "2022-02-20T12:28:29.793Z"
      },
      {
        "duration": 24,
        "start_time": "2022-02-20T12:28:29.817Z"
      },
      {
        "duration": 14,
        "start_time": "2022-02-20T12:28:29.843Z"
      },
      {
        "duration": 22,
        "start_time": "2022-02-20T12:28:29.859Z"
      },
      {
        "duration": 5,
        "start_time": "2022-02-20T12:28:29.883Z"
      },
      {
        "duration": 181,
        "start_time": "2022-02-20T12:28:29.890Z"
      },
      {
        "duration": 606,
        "start_time": "2022-02-20T12:28:30.075Z"
      },
      {
        "duration": 1031,
        "start_time": "2022-02-20T12:28:30.683Z"
      },
      {
        "duration": 185,
        "start_time": "2022-02-20T12:28:31.716Z"
      },
      {
        "duration": 240,
        "start_time": "2022-02-20T12:28:31.903Z"
      },
      {
        "duration": 11,
        "start_time": "2022-02-20T12:28:32.145Z"
      },
      {
        "duration": 29,
        "start_time": "2022-02-20T12:28:32.169Z"
      },
      {
        "duration": 19,
        "start_time": "2022-02-20T12:28:32.199Z"
      },
      {
        "duration": 18,
        "start_time": "2022-02-20T12:28:32.220Z"
      },
      {
        "duration": 4,
        "start_time": "2022-02-20T12:28:32.239Z"
      },
      {
        "duration": 539,
        "start_time": "2022-02-20T12:28:32.270Z"
      },
      {
        "duration": 8,
        "start_time": "2022-02-20T12:28:32.811Z"
      },
      {
        "duration": 26278,
        "start_time": "2022-02-20T12:28:32.821Z"
      },
      {
        "duration": 19,
        "start_time": "2022-02-20T12:28:59.101Z"
      },
      {
        "duration": 66,
        "start_time": "2022-02-20T12:28:59.122Z"
      },
      {
        "duration": 624,
        "start_time": "2022-02-20T12:28:59.190Z"
      },
      {
        "duration": 8,
        "start_time": "2022-02-20T12:28:59.816Z"
      },
      {
        "duration": 408,
        "start_time": "2022-02-20T12:28:59.826Z"
      },
      {
        "duration": 301,
        "start_time": "2022-02-20T12:29:00.236Z"
      },
      {
        "duration": 6,
        "start_time": "2022-02-20T12:29:00.540Z"
      },
      {
        "duration": 12,
        "start_time": "2022-02-20T12:29:00.548Z"
      },
      {
        "duration": 20,
        "start_time": "2022-02-20T12:29:00.569Z"
      },
      {
        "duration": 16,
        "start_time": "2022-02-20T12:29:00.591Z"
      },
      {
        "duration": 17,
        "start_time": "2022-02-20T12:29:00.609Z"
      },
      {
        "duration": 305,
        "start_time": "2022-02-20T12:29:00.628Z"
      },
      {
        "duration": 37722,
        "start_time": "2022-02-20T12:29:00.935Z"
      },
      {
        "duration": 361,
        "start_time": "2022-02-20T12:29:38.659Z"
      },
      {
        "duration": 92,
        "start_time": "2022-02-20T12:29:39.021Z"
      },
      {
        "duration": 9,
        "start_time": "2022-02-20T12:29:39.116Z"
      },
      {
        "duration": 11,
        "start_time": "2022-02-20T12:29:39.127Z"
      },
      {
        "duration": 35,
        "start_time": "2022-02-20T12:29:39.140Z"
      },
      {
        "duration": 11,
        "start_time": "2022-02-20T12:29:39.177Z"
      },
      {
        "duration": 13,
        "start_time": "2022-02-20T12:29:39.190Z"
      },
      {
        "duration": 16,
        "start_time": "2022-02-20T12:29:39.205Z"
      },
      {
        "duration": 22,
        "start_time": "2022-02-20T12:30:26.866Z"
      },
      {
        "duration": 18,
        "start_time": "2022-02-20T12:32:21.656Z"
      },
      {
        "duration": 14,
        "start_time": "2022-02-20T12:33:07.391Z"
      },
      {
        "duration": 17,
        "start_time": "2022-02-20T12:34:35.578Z"
      },
      {
        "duration": 1220,
        "start_time": "2022-02-20T12:34:47.116Z"
      },
      {
        "duration": 79,
        "start_time": "2022-02-20T12:34:48.339Z"
      },
      {
        "duration": 31,
        "start_time": "2022-02-20T12:34:48.421Z"
      },
      {
        "duration": 44,
        "start_time": "2022-02-20T12:34:48.455Z"
      },
      {
        "duration": 3,
        "start_time": "2022-02-20T12:34:48.501Z"
      },
      {
        "duration": 29,
        "start_time": "2022-02-20T12:34:48.506Z"
      },
      {
        "duration": 11,
        "start_time": "2022-02-20T12:34:48.537Z"
      },
      {
        "duration": 19,
        "start_time": "2022-02-20T12:34:48.550Z"
      },
      {
        "duration": 82,
        "start_time": "2022-02-20T12:34:48.571Z"
      },
      {
        "duration": 38,
        "start_time": "2022-02-20T12:34:48.655Z"
      },
      {
        "duration": 6,
        "start_time": "2022-02-20T12:34:48.696Z"
      },
      {
        "duration": 186,
        "start_time": "2022-02-20T12:34:48.704Z"
      },
      {
        "duration": 842,
        "start_time": "2022-02-20T12:34:48.892Z"
      },
      {
        "duration": 9,
        "start_time": "2022-02-20T12:34:49.736Z"
      },
      {
        "duration": 229,
        "start_time": "2022-02-20T12:34:49.747Z"
      },
      {
        "duration": 10,
        "start_time": "2022-02-20T12:34:49.977Z"
      },
      {
        "duration": 9,
        "start_time": "2022-02-20T12:34:49.988Z"
      },
      {
        "duration": 22,
        "start_time": "2022-02-20T12:34:49.998Z"
      },
      {
        "duration": 14,
        "start_time": "2022-02-20T12:34:50.022Z"
      },
      {
        "duration": 39,
        "start_time": "2022-02-20T12:34:50.038Z"
      },
      {
        "duration": 4,
        "start_time": "2022-02-20T12:34:50.080Z"
      },
      {
        "duration": 197,
        "start_time": "2022-02-20T12:34:50.086Z"
      },
      {
        "duration": 646,
        "start_time": "2022-02-20T12:34:50.289Z"
      },
      {
        "duration": 1106,
        "start_time": "2022-02-20T12:34:50.938Z"
      },
      {
        "duration": 175,
        "start_time": "2022-02-20T12:34:52.046Z"
      },
      {
        "duration": 249,
        "start_time": "2022-02-20T12:34:52.223Z"
      },
      {
        "duration": 12,
        "start_time": "2022-02-20T12:34:52.474Z"
      },
      {
        "duration": 29,
        "start_time": "2022-02-20T12:34:52.488Z"
      },
      {
        "duration": 19,
        "start_time": "2022-02-20T12:34:52.519Z"
      },
      {
        "duration": 38,
        "start_time": "2022-02-20T12:34:52.541Z"
      },
      {
        "duration": 5,
        "start_time": "2022-02-20T12:34:52.581Z"
      },
      {
        "duration": 582,
        "start_time": "2022-02-20T12:34:52.588Z"
      },
      {
        "duration": 6,
        "start_time": "2022-02-20T12:34:53.172Z"
      },
      {
        "duration": 25968,
        "start_time": "2022-02-20T12:34:53.180Z"
      },
      {
        "duration": 31,
        "start_time": "2022-02-20T12:35:19.150Z"
      },
      {
        "duration": 43,
        "start_time": "2022-02-20T12:35:19.183Z"
      },
      {
        "duration": 648,
        "start_time": "2022-02-20T12:35:19.229Z"
      },
      {
        "duration": 9,
        "start_time": "2022-02-20T12:35:19.879Z"
      },
      {
        "duration": 396,
        "start_time": "2022-02-20T12:35:19.889Z"
      },
      {
        "duration": 322,
        "start_time": "2022-02-20T12:35:20.287Z"
      },
      {
        "duration": 7,
        "start_time": "2022-02-20T12:35:20.610Z"
      },
      {
        "duration": 6,
        "start_time": "2022-02-20T12:35:20.618Z"
      },
      {
        "duration": 11,
        "start_time": "2022-02-20T12:35:20.626Z"
      },
      {
        "duration": 31,
        "start_time": "2022-02-20T12:35:20.639Z"
      },
      {
        "duration": 10,
        "start_time": "2022-02-20T12:35:20.672Z"
      },
      {
        "duration": 318,
        "start_time": "2022-02-20T12:35:20.684Z"
      },
      {
        "duration": 37498,
        "start_time": "2022-02-20T12:35:21.004Z"
      },
      {
        "duration": 332,
        "start_time": "2022-02-20T12:35:58.504Z"
      },
      {
        "duration": 90,
        "start_time": "2022-02-20T12:35:58.838Z"
      },
      {
        "duration": 11,
        "start_time": "2022-02-20T12:35:58.930Z"
      },
      {
        "duration": 27,
        "start_time": "2022-02-20T12:35:58.944Z"
      },
      {
        "duration": 10,
        "start_time": "2022-02-20T12:35:58.973Z"
      },
      {
        "duration": 10,
        "start_time": "2022-02-20T12:35:58.986Z"
      },
      {
        "duration": 12,
        "start_time": "2022-02-20T12:35:58.997Z"
      },
      {
        "duration": 17,
        "start_time": "2022-02-20T12:35:59.010Z"
      },
      {
        "duration": 1297,
        "start_time": "2022-02-20T12:43:39.056Z"
      },
      {
        "duration": 79,
        "start_time": "2022-02-20T12:43:40.356Z"
      },
      {
        "duration": 36,
        "start_time": "2022-02-20T12:43:40.437Z"
      },
      {
        "duration": 35,
        "start_time": "2022-02-20T12:43:40.475Z"
      },
      {
        "duration": 2,
        "start_time": "2022-02-20T12:43:40.512Z"
      },
      {
        "duration": 63,
        "start_time": "2022-02-20T12:43:40.516Z"
      },
      {
        "duration": 43,
        "start_time": "2022-02-20T12:43:40.581Z"
      },
      {
        "duration": 8,
        "start_time": "2022-02-20T12:43:40.627Z"
      },
      {
        "duration": 92,
        "start_time": "2022-02-20T12:43:40.638Z"
      },
      {
        "duration": 29,
        "start_time": "2022-02-20T12:43:40.732Z"
      },
      {
        "duration": 19,
        "start_time": "2022-02-20T12:43:40.763Z"
      },
      {
        "duration": 170,
        "start_time": "2022-02-20T12:43:40.784Z"
      },
      {
        "duration": 814,
        "start_time": "2022-02-20T12:43:40.957Z"
      },
      {
        "duration": 10,
        "start_time": "2022-02-20T12:43:41.773Z"
      },
      {
        "duration": 239,
        "start_time": "2022-02-20T12:43:41.785Z"
      },
      {
        "duration": 9,
        "start_time": "2022-02-20T12:43:42.025Z"
      },
      {
        "duration": 8,
        "start_time": "2022-02-20T12:43:42.036Z"
      },
      {
        "duration": 38,
        "start_time": "2022-02-20T12:43:42.046Z"
      },
      {
        "duration": 15,
        "start_time": "2022-02-20T12:43:42.086Z"
      },
      {
        "duration": 15,
        "start_time": "2022-02-20T12:43:42.103Z"
      },
      {
        "duration": 5,
        "start_time": "2022-02-20T12:43:42.121Z"
      },
      {
        "duration": 200,
        "start_time": "2022-02-20T12:43:42.129Z"
      },
      {
        "duration": 605,
        "start_time": "2022-02-20T12:43:42.334Z"
      },
      {
        "duration": 1056,
        "start_time": "2022-02-20T12:43:42.942Z"
      },
      {
        "duration": 175,
        "start_time": "2022-02-20T12:43:44.001Z"
      },
      {
        "duration": 233,
        "start_time": "2022-02-20T12:43:44.178Z"
      },
      {
        "duration": 12,
        "start_time": "2022-02-20T12:43:44.412Z"
      },
      {
        "duration": 43,
        "start_time": "2022-02-20T12:43:44.426Z"
      },
      {
        "duration": 20,
        "start_time": "2022-02-20T12:43:44.471Z"
      },
      {
        "duration": 13,
        "start_time": "2022-02-20T12:43:44.493Z"
      },
      {
        "duration": 5,
        "start_time": "2022-02-20T12:43:44.508Z"
      },
      {
        "duration": 551,
        "start_time": "2022-02-20T12:43:44.515Z"
      },
      {
        "duration": 6,
        "start_time": "2022-02-20T12:43:45.069Z"
      },
      {
        "duration": 26183,
        "start_time": "2022-02-20T12:43:45.077Z"
      },
      {
        "duration": 21,
        "start_time": "2022-02-20T12:44:11.262Z"
      },
      {
        "duration": 45,
        "start_time": "2022-02-20T12:44:11.285Z"
      },
      {
        "duration": 629,
        "start_time": "2022-02-20T12:44:11.332Z"
      },
      {
        "duration": 13,
        "start_time": "2022-02-20T12:44:11.963Z"
      },
      {
        "duration": 396,
        "start_time": "2022-02-20T12:44:11.978Z"
      },
      {
        "duration": 310,
        "start_time": "2022-02-20T12:44:12.376Z"
      },
      {
        "duration": 5,
        "start_time": "2022-02-20T12:44:12.688Z"
      },
      {
        "duration": 5,
        "start_time": "2022-02-20T12:44:12.695Z"
      },
      {
        "duration": 13,
        "start_time": "2022-02-20T12:44:12.702Z"
      },
      {
        "duration": 8,
        "start_time": "2022-02-20T12:44:12.717Z"
      },
      {
        "duration": 11,
        "start_time": "2022-02-20T12:44:12.727Z"
      },
      {
        "duration": 291,
        "start_time": "2022-02-20T12:44:12.770Z"
      },
      {
        "duration": 36191,
        "start_time": "2022-02-20T12:44:13.063Z"
      },
      {
        "duration": 339,
        "start_time": "2022-02-20T12:44:49.256Z"
      },
      {
        "duration": 93,
        "start_time": "2022-02-20T12:44:49.597Z"
      },
      {
        "duration": 9,
        "start_time": "2022-02-20T12:44:49.692Z"
      },
      {
        "duration": 10,
        "start_time": "2022-02-20T12:44:49.702Z"
      },
      {
        "duration": 12,
        "start_time": "2022-02-20T12:44:49.713Z"
      },
      {
        "duration": 10,
        "start_time": "2022-02-20T12:44:49.727Z"
      },
      {
        "duration": 38,
        "start_time": "2022-02-20T12:44:49.738Z"
      },
      {
        "duration": 15,
        "start_time": "2022-02-20T12:44:49.779Z"
      },
      {
        "duration": 1224,
        "start_time": "2022-02-20T12:56:03.123Z"
      },
      {
        "duration": 84,
        "start_time": "2022-02-20T12:56:04.349Z"
      },
      {
        "duration": 35,
        "start_time": "2022-02-20T12:56:04.435Z"
      },
      {
        "duration": 31,
        "start_time": "2022-02-20T12:56:04.472Z"
      },
      {
        "duration": 2,
        "start_time": "2022-02-20T12:56:04.504Z"
      },
      {
        "duration": 15,
        "start_time": "2022-02-20T12:56:04.508Z"
      },
      {
        "duration": 12,
        "start_time": "2022-02-20T12:56:04.525Z"
      },
      {
        "duration": 32,
        "start_time": "2022-02-20T12:56:04.542Z"
      },
      {
        "duration": 93,
        "start_time": "2022-02-20T12:56:04.577Z"
      },
      {
        "duration": 30,
        "start_time": "2022-02-20T12:56:04.673Z"
      },
      {
        "duration": 8,
        "start_time": "2022-02-20T12:56:04.706Z"
      },
      {
        "duration": 193,
        "start_time": "2022-02-20T12:56:04.716Z"
      },
      {
        "duration": 806,
        "start_time": "2022-02-20T12:56:04.911Z"
      },
      {
        "duration": 10,
        "start_time": "2022-02-20T12:56:05.719Z"
      },
      {
        "duration": 224,
        "start_time": "2022-02-20T12:56:05.731Z"
      },
      {
        "duration": 18,
        "start_time": "2022-02-20T12:56:05.957Z"
      },
      {
        "duration": 8,
        "start_time": "2022-02-20T12:56:05.977Z"
      },
      {
        "duration": 24,
        "start_time": "2022-02-20T12:56:05.987Z"
      },
      {
        "duration": 13,
        "start_time": "2022-02-20T12:56:06.014Z"
      },
      {
        "duration": 40,
        "start_time": "2022-02-20T12:56:06.029Z"
      },
      {
        "duration": 5,
        "start_time": "2022-02-20T12:56:06.071Z"
      },
      {
        "duration": 174,
        "start_time": "2022-02-20T12:56:06.078Z"
      },
      {
        "duration": 616,
        "start_time": "2022-02-20T12:56:06.256Z"
      },
      {
        "duration": 1107,
        "start_time": "2022-02-20T12:56:06.874Z"
      },
      {
        "duration": 174,
        "start_time": "2022-02-20T12:56:07.983Z"
      },
      {
        "duration": 239,
        "start_time": "2022-02-20T12:56:08.159Z"
      },
      {
        "duration": 13,
        "start_time": "2022-02-20T12:56:08.400Z"
      },
      {
        "duration": 30,
        "start_time": "2022-02-20T12:56:08.415Z"
      },
      {
        "duration": 38,
        "start_time": "2022-02-20T12:56:08.447Z"
      },
      {
        "duration": 15,
        "start_time": "2022-02-20T12:56:08.486Z"
      },
      {
        "duration": 5,
        "start_time": "2022-02-20T12:56:08.503Z"
      },
      {
        "duration": 558,
        "start_time": "2022-02-20T12:56:08.510Z"
      },
      {
        "duration": 7,
        "start_time": "2022-02-20T12:56:09.070Z"
      },
      {
        "duration": 24667,
        "start_time": "2022-02-20T12:56:09.078Z"
      },
      {
        "duration": 33,
        "start_time": "2022-02-20T12:56:33.747Z"
      },
      {
        "duration": 39,
        "start_time": "2022-02-20T12:56:33.782Z"
      },
      {
        "duration": 620,
        "start_time": "2022-02-20T12:56:33.823Z"
      },
      {
        "duration": 8,
        "start_time": "2022-02-20T12:56:34.445Z"
      },
      {
        "duration": 392,
        "start_time": "2022-02-20T12:56:34.455Z"
      },
      {
        "duration": 309,
        "start_time": "2022-02-20T12:56:34.849Z"
      },
      {
        "duration": 10,
        "start_time": "2022-02-20T12:56:35.160Z"
      },
      {
        "duration": 5,
        "start_time": "2022-02-20T12:56:35.171Z"
      },
      {
        "duration": 10,
        "start_time": "2022-02-20T12:56:35.178Z"
      },
      {
        "duration": 7,
        "start_time": "2022-02-20T12:56:35.190Z"
      },
      {
        "duration": 9,
        "start_time": "2022-02-20T12:56:35.199Z"
      },
      {
        "duration": 320,
        "start_time": "2022-02-20T12:56:35.210Z"
      },
      {
        "duration": 34012,
        "start_time": "2022-02-20T12:56:35.532Z"
      },
      {
        "duration": 354,
        "start_time": "2022-02-20T12:57:09.546Z"
      },
      {
        "duration": 92,
        "start_time": "2022-02-20T12:57:09.903Z"
      },
      {
        "duration": 11,
        "start_time": "2022-02-20T12:57:09.997Z"
      },
      {
        "duration": 12,
        "start_time": "2022-02-20T12:57:10.010Z"
      },
      {
        "duration": 17,
        "start_time": "2022-02-20T12:57:10.023Z"
      },
      {
        "duration": 33,
        "start_time": "2022-02-20T12:57:10.042Z"
      },
      {
        "duration": 8,
        "start_time": "2022-02-20T12:57:10.077Z"
      },
      {
        "duration": 16,
        "start_time": "2022-02-20T12:57:10.087Z"
      },
      {
        "duration": 283,
        "start_time": "2022-02-20T12:57:58.116Z"
      },
      {
        "duration": 1242,
        "start_time": "2022-02-20T13:04:58.817Z"
      },
      {
        "duration": 89,
        "start_time": "2022-02-20T13:05:00.062Z"
      },
      {
        "duration": 34,
        "start_time": "2022-02-20T13:05:00.153Z"
      },
      {
        "duration": 32,
        "start_time": "2022-02-20T13:05:00.189Z"
      },
      {
        "duration": 3,
        "start_time": "2022-02-20T13:05:00.223Z"
      },
      {
        "duration": 20,
        "start_time": "2022-02-20T13:05:00.228Z"
      },
      {
        "duration": 29,
        "start_time": "2022-02-20T13:05:00.250Z"
      },
      {
        "duration": 14,
        "start_time": "2022-02-20T13:05:00.282Z"
      },
      {
        "duration": 99,
        "start_time": "2022-02-20T13:05:00.298Z"
      },
      {
        "duration": 30,
        "start_time": "2022-02-20T13:05:00.399Z"
      },
      {
        "duration": 12,
        "start_time": "2022-02-20T13:05:00.431Z"
      },
      {
        "duration": 184,
        "start_time": "2022-02-20T13:05:00.445Z"
      },
      {
        "duration": 863,
        "start_time": "2022-02-20T13:05:00.631Z"
      },
      {
        "duration": 10,
        "start_time": "2022-02-20T13:05:01.496Z"
      },
      {
        "duration": 244,
        "start_time": "2022-02-20T13:05:01.508Z"
      },
      {
        "duration": 17,
        "start_time": "2022-02-20T13:05:01.754Z"
      },
      {
        "duration": 12,
        "start_time": "2022-02-20T13:05:01.773Z"
      },
      {
        "duration": 22,
        "start_time": "2022-02-20T13:05:01.787Z"
      },
      {
        "duration": 14,
        "start_time": "2022-02-20T13:05:01.811Z"
      },
      {
        "duration": 43,
        "start_time": "2022-02-20T13:05:01.827Z"
      },
      {
        "duration": 6,
        "start_time": "2022-02-20T13:05:01.872Z"
      },
      {
        "duration": 194,
        "start_time": "2022-02-20T13:05:01.880Z"
      },
      {
        "duration": 678,
        "start_time": "2022-02-20T13:05:02.078Z"
      },
      {
        "duration": 1114,
        "start_time": "2022-02-20T13:05:02.758Z"
      },
      {
        "duration": 181,
        "start_time": "2022-02-20T13:05:03.874Z"
      },
      {
        "duration": 296,
        "start_time": "2022-02-20T13:05:04.058Z"
      },
      {
        "duration": 27,
        "start_time": "2022-02-20T13:05:04.356Z"
      },
      {
        "duration": 45,
        "start_time": "2022-02-20T13:05:04.386Z"
      },
      {
        "duration": 43,
        "start_time": "2022-02-20T13:05:04.434Z"
      },
      {
        "duration": 16,
        "start_time": "2022-02-20T13:05:04.479Z"
      },
      {
        "duration": 11,
        "start_time": "2022-02-20T13:05:04.497Z"
      },
      {
        "duration": 580,
        "start_time": "2022-02-20T13:05:04.510Z"
      },
      {
        "duration": 7,
        "start_time": "2022-02-20T13:05:05.092Z"
      },
      {
        "duration": 25978,
        "start_time": "2022-02-20T13:05:05.101Z"
      },
      {
        "duration": 27,
        "start_time": "2022-02-20T13:05:31.081Z"
      },
      {
        "duration": 67,
        "start_time": "2022-02-20T13:05:31.110Z"
      },
      {
        "duration": 633,
        "start_time": "2022-02-20T13:05:31.178Z"
      },
      {
        "duration": 10,
        "start_time": "2022-02-20T13:05:31.813Z"
      },
      {
        "duration": 420,
        "start_time": "2022-02-20T13:05:31.825Z"
      },
      {
        "duration": 308,
        "start_time": "2022-02-20T13:05:32.247Z"
      },
      {
        "duration": 15,
        "start_time": "2022-02-20T13:05:32.557Z"
      },
      {
        "duration": 5,
        "start_time": "2022-02-20T13:05:32.574Z"
      },
      {
        "duration": 18,
        "start_time": "2022-02-20T13:05:32.581Z"
      },
      {
        "duration": 8,
        "start_time": "2022-02-20T13:05:32.601Z"
      },
      {
        "duration": 11,
        "start_time": "2022-02-20T13:05:32.611Z"
      },
      {
        "duration": 332,
        "start_time": "2022-02-20T13:05:32.624Z"
      },
      {
        "duration": 35374,
        "start_time": "2022-02-20T13:05:32.958Z"
      },
      {
        "duration": 384,
        "start_time": "2022-02-20T13:06:08.334Z"
      },
      {
        "duration": 87,
        "start_time": "2022-02-20T13:06:08.721Z"
      },
      {
        "duration": 9,
        "start_time": "2022-02-20T13:06:08.810Z"
      },
      {
        "duration": 12,
        "start_time": "2022-02-20T13:06:08.820Z"
      },
      {
        "duration": 10,
        "start_time": "2022-02-20T13:06:08.834Z"
      },
      {
        "duration": 10,
        "start_time": "2022-02-20T13:06:08.870Z"
      },
      {
        "duration": 8,
        "start_time": "2022-02-20T13:06:08.881Z"
      },
      {
        "duration": 15,
        "start_time": "2022-02-20T13:06:08.891Z"
      },
      {
        "duration": 1190,
        "start_time": "2022-02-20T18:01:24.169Z"
      },
      {
        "duration": 70,
        "start_time": "2022-02-20T18:01:25.361Z"
      },
      {
        "duration": 28,
        "start_time": "2022-02-20T18:01:25.433Z"
      },
      {
        "duration": 44,
        "start_time": "2022-02-20T18:01:25.464Z"
      },
      {
        "duration": 2,
        "start_time": "2022-02-20T18:01:25.510Z"
      },
      {
        "duration": 16,
        "start_time": "2022-02-20T18:01:25.514Z"
      },
      {
        "duration": 11,
        "start_time": "2022-02-20T18:01:25.532Z"
      },
      {
        "duration": 4,
        "start_time": "2022-02-20T18:01:25.546Z"
      },
      {
        "duration": 97,
        "start_time": "2022-02-20T18:01:25.552Z"
      },
      {
        "duration": 29,
        "start_time": "2022-02-20T18:01:25.651Z"
      },
      {
        "duration": 26,
        "start_time": "2022-02-20T18:01:25.682Z"
      },
      {
        "duration": 164,
        "start_time": "2022-02-20T18:01:25.710Z"
      },
      {
        "duration": 712,
        "start_time": "2022-02-20T18:01:25.875Z"
      },
      {
        "duration": 25,
        "start_time": "2022-02-20T18:01:26.589Z"
      },
      {
        "duration": 214,
        "start_time": "2022-02-20T18:01:26.616Z"
      },
      {
        "duration": 9,
        "start_time": "2022-02-20T18:01:26.832Z"
      },
      {
        "duration": 12,
        "start_time": "2022-02-20T18:01:26.843Z"
      },
      {
        "duration": 23,
        "start_time": "2022-02-20T18:01:26.857Z"
      },
      {
        "duration": 38,
        "start_time": "2022-02-20T18:01:26.882Z"
      },
      {
        "duration": 16,
        "start_time": "2022-02-20T18:01:26.922Z"
      },
      {
        "duration": 4,
        "start_time": "2022-02-20T18:01:26.940Z"
      },
      {
        "duration": 176,
        "start_time": "2022-02-20T18:01:26.946Z"
      },
      {
        "duration": 565,
        "start_time": "2022-02-20T18:01:27.125Z"
      },
      {
        "duration": 1072,
        "start_time": "2022-02-20T18:01:27.692Z"
      },
      {
        "duration": 161,
        "start_time": "2022-02-20T18:01:28.766Z"
      },
      {
        "duration": 225,
        "start_time": "2022-02-20T18:01:28.929Z"
      },
      {
        "duration": 12,
        "start_time": "2022-02-20T18:01:29.156Z"
      },
      {
        "duration": 45,
        "start_time": "2022-02-20T18:01:29.170Z"
      },
      {
        "duration": 21,
        "start_time": "2022-02-20T18:01:29.217Z"
      },
      {
        "duration": 15,
        "start_time": "2022-02-20T18:01:29.240Z"
      },
      {
        "duration": 4,
        "start_time": "2022-02-20T18:01:29.257Z"
      },
      {
        "duration": 549,
        "start_time": "2022-02-20T18:01:29.263Z"
      },
      {
        "duration": 7,
        "start_time": "2022-02-20T18:01:29.814Z"
      },
      {
        "duration": 26506,
        "start_time": "2022-02-20T18:01:29.823Z"
      },
      {
        "duration": 23,
        "start_time": "2022-02-20T18:01:56.332Z"
      },
      {
        "duration": 72,
        "start_time": "2022-02-20T18:01:56.357Z"
      },
      {
        "duration": 679,
        "start_time": "2022-02-20T18:01:56.431Z"
      },
      {
        "duration": 10,
        "start_time": "2022-02-20T18:01:57.112Z"
      },
      {
        "duration": 370,
        "start_time": "2022-02-20T18:01:57.124Z"
      },
      {
        "duration": 293,
        "start_time": "2022-02-20T18:01:57.496Z"
      },
      {
        "duration": 18,
        "start_time": "2022-02-20T18:01:57.791Z"
      },
      {
        "duration": 6,
        "start_time": "2022-02-20T18:01:57.811Z"
      },
      {
        "duration": 14,
        "start_time": "2022-02-20T18:01:57.819Z"
      },
      {
        "duration": 10,
        "start_time": "2022-02-20T18:01:57.836Z"
      },
      {
        "duration": 10,
        "start_time": "2022-02-20T18:01:57.848Z"
      },
      {
        "duration": 306,
        "start_time": "2022-02-20T18:01:57.860Z"
      },
      {
        "duration": 39489,
        "start_time": "2022-02-20T18:01:58.168Z"
      },
      {
        "duration": 303,
        "start_time": "2022-02-20T18:02:37.659Z"
      },
      {
        "duration": 83,
        "start_time": "2022-02-20T18:02:37.964Z"
      },
      {
        "duration": 9,
        "start_time": "2022-02-20T18:02:38.049Z"
      },
      {
        "duration": 14,
        "start_time": "2022-02-20T18:02:38.060Z"
      },
      {
        "duration": 18,
        "start_time": "2022-02-20T18:02:38.076Z"
      },
      {
        "duration": 10,
        "start_time": "2022-02-20T18:02:38.107Z"
      },
      {
        "duration": 20,
        "start_time": "2022-02-20T18:02:38.120Z"
      },
      {
        "duration": 21,
        "start_time": "2022-02-20T18:02:38.142Z"
      },
      {
        "duration": 115,
        "start_time": "2022-02-20T18:33:57.834Z"
      }
    ],
    "colab": {
      "provenance": [],
      "include_colab_link": true
    },
    "kernelspec": {
      "display_name": "Python 3 (ipykernel)",
      "language": "python",
      "name": "python3"
    },
    "language_info": {
      "codemirror_mode": {
        "name": "ipython",
        "version": 3
      },
      "file_extension": ".py",
      "mimetype": "text/x-python",
      "name": "python",
      "nbconvert_exporter": "python",
      "pygments_lexer": "ipython3",
      "version": "3.9.5"
    },
    "toc": {
      "base_numbering": 1,
      "nav_menu": {},
      "number_sections": true,
      "sideBar": true,
      "skip_h1_title": true,
      "title_cell": "Содержание",
      "title_sidebar": "Contents",
      "toc_cell": true,
      "toc_position": {
        "height": "calc(100% - 180px)",
        "left": "10px",
        "top": "150px",
        "width": "207.396px"
      },
      "toc_section_display": true,
      "toc_window_display": true
    }
  },
  "nbformat": 4,
  "nbformat_minor": 0
}