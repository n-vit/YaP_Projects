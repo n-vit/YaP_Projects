{
  "cells": [
    {
      "cell_type": "markdown",
      "metadata": {
        "id": "view-in-github",
        "colab_type": "text"
      },
      "source": [
        "<a href=\"https://colab.research.google.com/github/n-vit/YaP_Projects/blob/main/data_preprocessing.ipynb\" target=\"_parent\"><img src=\"https://colab.research.google.com/assets/colab-badge.svg\" alt=\"Open In Colab\"/></a>"
      ]
    },
    {
      "cell_type": "markdown",
      "metadata": {
        "id": "vUXSJPkU3AVn"
      },
      "source": [
        "# Исследование надёжности заёмщиков\n",
        "\n",
        "Заказчик — кредитный отдел банка. Нужно разобраться, влияет ли семейное положение и количество детей клиента на факт погашения кредита в срок. Входные данные от банка — статистика о платёжеспособности клиентов.\n",
        "\n",
        "Результаты исследования будут учтены при построении модели **кредитного скоринга** — специальной системы, которая оценивает способность потенциального заёмщика вернуть кредит банку."
      ]
    },
    {
      "cell_type": "markdown",
      "metadata": {
        "id": "NVl0VMlM3AVo"
      },
      "source": [
        "**Содержание датафрейма** (информация от заказчика):\n",
        "\n",
        "**children** — количество детей в семье\n",
        "\n",
        "**days_employed** — общий трудовой стаж в днях\n",
        "\n",
        "**dob_years** — возраст клиента в годах\n",
        "\n",
        "**education** — уровень образования клиента\n",
        "\n",
        "**education_id** — идентификатор уровня образования\n",
        "\n",
        "**family_status** — семейное положение\n",
        "\n",
        "**family_status_id** — идентификатор семейного положения\n",
        "\n",
        "**gender** — пол клиента\n",
        "\n",
        "**income_type** — тип занятости\n",
        "\n",
        "**debt** — имел ли задолженность по возврату кредитов\n",
        "\n",
        "**total_income** — ежемесячный доход\n",
        "\n",
        "**purpose** — цель получения кредита"
      ]
    },
    {
      "cell_type": "markdown",
      "metadata": {
        "id": "oIihwUZV3AVq"
      },
      "source": [
        "<div class=\"alert alert-success\">\n",
        "    \n",
        "<b> Комментарий от ревьюера ✔️</b>\n",
        "    \n",
        "Здорово, что добавил описание данных!\n",
        "</div>\n"
      ]
    },
    {
      "cell_type": "markdown",
      "metadata": {
        "id": "8n4eJ8GX3AVr"
      },
      "source": [
        "## Шаг 1. Откройте файл с данными и изучите общую информацию"
      ]
    },
    {
      "cell_type": "code",
      "execution_count": null,
      "metadata": {
        "scrolled": false,
        "id": "Xf0fgEXs3AVs",
        "outputId": "96d66a43-0caf-4659-ef7b-4d02bc084f82"
      },
      "outputs": [
        {
          "name": "stdout",
          "output_type": "stream",
          "text": [
            "<class 'pandas.core.frame.DataFrame'>\n",
            "RangeIndex: 21525 entries, 0 to 21524\n",
            "Data columns (total 12 columns):\n",
            "children            21525 non-null int64\n",
            "days_employed       19351 non-null float64\n",
            "dob_years           21525 non-null int64\n",
            "education           21525 non-null object\n",
            "education_id        21525 non-null int64\n",
            "family_status       21525 non-null object\n",
            "family_status_id    21525 non-null int64\n",
            "gender              21525 non-null object\n",
            "income_type         21525 non-null object\n",
            "debt                21525 non-null int64\n",
            "total_income        19351 non-null float64\n",
            "purpose             21525 non-null object\n",
            "dtypes: float64(2), int64(5), object(5)\n",
            "memory usage: 2.0+ MB\n"
          ]
        }
      ],
      "source": [
        "import pandas as pd\n",
        "import seaborn as sns\n",
        "import numpy as np\n",
        "from pymystem3 import Mystem\n",
        "m = Mystem()\n",
        "from collections import Counter\n",
        "\n",
        "data = pd.read_csv('/datasets/data.csv')\n",
        "\n",
        "data.info()\n",
        "#data.isna().sum()\n"
      ]
    },
    {
      "cell_type": "code",
      "execution_count": null,
      "metadata": {
        "id": "d0FnG0ue3AV1",
        "outputId": "3bab9456-4b31-4862-97a0-909360b4f849"
      },
      "outputs": [
        {
          "data": {
            "text/html": [
              "<div>\n",
              "<style scoped>\n",
              "    .dataframe tbody tr th:only-of-type {\n",
              "        vertical-align: middle;\n",
              "    }\n",
              "\n",
              "    .dataframe tbody tr th {\n",
              "        vertical-align: top;\n",
              "    }\n",
              "\n",
              "    .dataframe thead th {\n",
              "        text-align: right;\n",
              "    }\n",
              "</style>\n",
              "<table border=\"1\" class=\"dataframe\">\n",
              "  <thead>\n",
              "    <tr style=\"text-align: right;\">\n",
              "      <th></th>\n",
              "      <th>children</th>\n",
              "      <th>days_employed</th>\n",
              "      <th>dob_years</th>\n",
              "      <th>education</th>\n",
              "      <th>education_id</th>\n",
              "      <th>family_status</th>\n",
              "      <th>family_status_id</th>\n",
              "      <th>gender</th>\n",
              "      <th>income_type</th>\n",
              "      <th>debt</th>\n",
              "      <th>total_income</th>\n",
              "      <th>purpose</th>\n",
              "    </tr>\n",
              "  </thead>\n",
              "  <tbody>\n",
              "    <tr>\n",
              "      <td>0</td>\n",
              "      <td>1</td>\n",
              "      <td>-8437.673028</td>\n",
              "      <td>42</td>\n",
              "      <td>высшее</td>\n",
              "      <td>0</td>\n",
              "      <td>женат / замужем</td>\n",
              "      <td>0</td>\n",
              "      <td>F</td>\n",
              "      <td>сотрудник</td>\n",
              "      <td>0</td>\n",
              "      <td>253875.639453</td>\n",
              "      <td>покупка жилья</td>\n",
              "    </tr>\n",
              "    <tr>\n",
              "      <td>1</td>\n",
              "      <td>1</td>\n",
              "      <td>-4024.803754</td>\n",
              "      <td>36</td>\n",
              "      <td>среднее</td>\n",
              "      <td>1</td>\n",
              "      <td>женат / замужем</td>\n",
              "      <td>0</td>\n",
              "      <td>F</td>\n",
              "      <td>сотрудник</td>\n",
              "      <td>0</td>\n",
              "      <td>112080.014102</td>\n",
              "      <td>приобретение автомобиля</td>\n",
              "    </tr>\n",
              "    <tr>\n",
              "      <td>2</td>\n",
              "      <td>0</td>\n",
              "      <td>-5623.422610</td>\n",
              "      <td>33</td>\n",
              "      <td>Среднее</td>\n",
              "      <td>1</td>\n",
              "      <td>женат / замужем</td>\n",
              "      <td>0</td>\n",
              "      <td>M</td>\n",
              "      <td>сотрудник</td>\n",
              "      <td>0</td>\n",
              "      <td>145885.952297</td>\n",
              "      <td>покупка жилья</td>\n",
              "    </tr>\n",
              "    <tr>\n",
              "      <td>3</td>\n",
              "      <td>3</td>\n",
              "      <td>-4124.747207</td>\n",
              "      <td>32</td>\n",
              "      <td>среднее</td>\n",
              "      <td>1</td>\n",
              "      <td>женат / замужем</td>\n",
              "      <td>0</td>\n",
              "      <td>M</td>\n",
              "      <td>сотрудник</td>\n",
              "      <td>0</td>\n",
              "      <td>267628.550329</td>\n",
              "      <td>дополнительное образование</td>\n",
              "    </tr>\n",
              "    <tr>\n",
              "      <td>4</td>\n",
              "      <td>0</td>\n",
              "      <td>340266.072047</td>\n",
              "      <td>53</td>\n",
              "      <td>среднее</td>\n",
              "      <td>1</td>\n",
              "      <td>гражданский брак</td>\n",
              "      <td>1</td>\n",
              "      <td>F</td>\n",
              "      <td>пенсионер</td>\n",
              "      <td>0</td>\n",
              "      <td>158616.077870</td>\n",
              "      <td>сыграть свадьбу</td>\n",
              "    </tr>\n",
              "  </tbody>\n",
              "</table>\n",
              "</div>"
            ],
            "text/plain": [
              "   children  days_employed  dob_years education  education_id  \\\n",
              "0         1   -8437.673028         42    высшее             0   \n",
              "1         1   -4024.803754         36   среднее             1   \n",
              "2         0   -5623.422610         33   Среднее             1   \n",
              "3         3   -4124.747207         32   среднее             1   \n",
              "4         0  340266.072047         53   среднее             1   \n",
              "\n",
              "      family_status  family_status_id gender income_type  debt   total_income  \\\n",
              "0   женат / замужем                 0      F   сотрудник     0  253875.639453   \n",
              "1   женат / замужем                 0      F   сотрудник     0  112080.014102   \n",
              "2   женат / замужем                 0      M   сотрудник     0  145885.952297   \n",
              "3   женат / замужем                 0      M   сотрудник     0  267628.550329   \n",
              "4  гражданский брак                 1      F   пенсионер     0  158616.077870   \n",
              "\n",
              "                      purpose  \n",
              "0               покупка жилья  \n",
              "1     приобретение автомобиля  \n",
              "2               покупка жилья  \n",
              "3  дополнительное образование  \n",
              "4             сыграть свадьбу  "
            ]
          },
          "execution_count": 2,
          "metadata": {},
          "output_type": "execute_result"
        }
      ],
      "source": [
        "data.head(5)\n",
        "# отрицательные данные в стаже работы\n",
        "# разные регистры в образовании\n",
        "# свободный текст в цели кредита\n"
      ]
    },
    {
      "cell_type": "code",
      "execution_count": null,
      "metadata": {
        "id": "LqMjdIPz3AV2",
        "outputId": "44642235-cf4e-4efa-8593-924ee13233e4"
      },
      "outputs": [
        {
          "data": {
            "text/plain": [
              "15906"
            ]
          },
          "execution_count": 3,
          "metadata": {},
          "output_type": "execute_result"
        }
      ],
      "source": [
        "data.loc[data.loc[:, 'days_employed'] < 0]['days_employed'].count() #количество отрицательных значений в стаже"
      ]
    },
    {
      "cell_type": "markdown",
      "metadata": {
        "id": "dZjzdGGg3AV3"
      },
      "source": [
        "75% данных о стаже имеют отрицательные значения. Посмотрим как данные посеяны относительно возраста"
      ]
    },
    {
      "cell_type": "code",
      "execution_count": null,
      "metadata": {
        "id": "1aR4M64A3AV4",
        "outputId": "d47b094f-702c-4111-e894-8055bb1931ce"
      },
      "outputs": [
        {
          "data": {
            "text/plain": [
              "<matplotlib.axes._subplots.AxesSubplot at 0x7f21cba84cd0>"
            ]
          },
          "execution_count": 4,
          "metadata": {},
          "output_type": "execute_result"
        },
        {
          "data": {
            "image/png": "[encoded data removed]",
            "text/plain": [
              "<Figure size 432x288 with 1 Axes>"
            ]
          },
          "metadata": {
            "needs_background": "light"
          },
          "output_type": "display_data"
        }
      ],
      "source": [
        "sns.scatterplot(data=data, x=\"dob_years\", y=\"days_employed\")"
      ]
    },
    {
      "cell_type": "code",
      "execution_count": null,
      "metadata": {
        "id": "eDUN7Ovn3AV5",
        "outputId": "75c3b4f9-0e62-4950-cf2f-34c51d5b9a20"
      },
      "outputs": [
        {
          "data": {
            "text/plain": [
              "50.38068465909146"
            ]
          },
          "execution_count": 5,
          "metadata": {},
          "output_type": "execute_result"
        }
      ],
      "source": [
        "data.loc[data.loc[:, 'days_employed'] < 0]['days_employed'].min()/-365 #максимальный стаж (лет)"
      ]
    },
    {
      "cell_type": "markdown",
      "metadata": {
        "id": "4NC6KlEQ3AV6"
      },
      "source": [
        "Явно выделяются две группы данных о стаже работы - меньше нуля, и больше 300 тысяч. И то и другое - ошибки. \n",
        "\n",
        "В отрицательной группе значения меняются пропорционально возрасту от нуля до 50 лет, выглядит логично, похоже данные корректные, но нужно привести их к положительным значениям. \n",
        "\n",
        "С аномально большими данными все сложнее - количество записей растет с возрастом, но явной зависимости данных от возраста не вижу. Эти данные составляют 25% от выборки. Их заменим медианными значениями по возрасту из корректной выборки. "
      ]
    },
    {
      "cell_type": "markdown",
      "metadata": {
        "id": "1X0iEw6t3AV7"
      },
      "source": [
        "\n",
        "\n",
        "Попробуем так: сравним медианы модуля отрицательных значений стажа и резко-положительных, и поищем логику:\n"
      ]
    },
    {
      "cell_type": "code",
      "execution_count": null,
      "metadata": {
        "id": "FH-U1uqJ3AV7",
        "outputId": "dae868a7-1dc3-40e2-f6c9-c541f1d76160"
      },
      "outputs": [
        {
          "name": "stdout",
          "output_type": "stream",
          "text": [
            "1000.5844007280306\n",
            "4.465806523226909\n"
          ]
        }
      ],
      "source": [
        "print(data.query('days_employed > 0')['days_employed'].median()/365)\n",
        "print(abs(data.query('days_employed < 0')['days_employed'].median()/365))"
      ]
    },
    {
      "cell_type": "markdown",
      "metadata": {
        "id": "ywHW-nkr3AV8"
      },
      "source": [
        "<div class=\"alert alert-info\">  \n",
        "Медианный стаж у наших заемщиков 4.5 года (по отрицательным значениям). А в \"странных\" данных - 1000. \n",
        "    \n",
        "Съехавшую запятую пока отметаем, тогда менялся бы только порядок. Остался вопрос в единицах. часы? минуты? секунды?\n",
        "</div>"
      ]
    },
    {
      "cell_type": "code",
      "execution_count": null,
      "metadata": {
        "id": "xaHkjBOy3AV8",
        "outputId": "cb7464c0-6bc1-4868-d64a-d215972f5bfa"
      },
      "outputs": [
        {
          "name": "stdout",
          "output_type": "stream",
          "text": [
            "если завышенные данные не в днях, а в часах, то медиана стажа будет 41.691016697001274 лет\n",
            "если завышенные данные не в днях, а в часах, то медиана стажа будет 0.6948502782833545 лет\n",
            "если завышенные данные не в днях, а в часах, то медиана стажа будет 0.011580837971389242 лет\n"
          ]
        }
      ],
      "source": [
        "what_is_it = data.query('days_employed > 0')['days_employed'].median()/365\n",
        "print('если завышенные данные не в днях, а в часах, то медиана стажа будет', what_is_it / 24, 'лет')\n",
        "print('если завышенные данные не в днях, а в часах, то медиана стажа будет', what_is_it / 24 / 60, 'лет')\n",
        "print('если завышенные данные не в днях, а в часах, то медиана стажа будет', what_is_it /24 /60 /60, 'лет')"
      ]
    },
    {
      "cell_type": "markdown",
      "metadata": {
        "id": "cnhXXTSG3AV9"
      },
      "source": [
        "<div class=\"alert alert-info\">  \n",
        "В часах, но в десять раз больше? - т.е. и единицы, да еще и точка съехала?\n",
        "</div>"
      ]
    },
    {
      "cell_type": "code",
      "execution_count": null,
      "metadata": {
        "id": "-YA9VlC63AV9",
        "outputId": "202dc6e7-31d7-4cb4-a4e2-e30a0d6f5d6f"
      },
      "outputs": [
        {
          "name": "stdout",
          "output_type": "stream",
          "text": [
            "count    3445.000000\n",
            "mean        4.166716\n",
            "std         0.240582\n",
            "min         3.752611\n",
            "25%         3.957071\n",
            "50%         4.169102\n",
            "75%         4.374959\n",
            "max         4.586249\n",
            "Name: days_employed, dtype: float64\n",
            "\n",
            "count    15906.000000\n",
            "mean         6.446619\n",
            "std          6.312997\n",
            "min          0.066141\n",
            "25%          2.072252\n",
            "50%          4.465807\n",
            "75%          8.650630\n",
            "max         50.380685\n",
            "Name: days_employed, dtype: float64\n"
          ]
        }
      ],
      "source": [
        "big_data = data.query('days_employed > 0')['days_employed']/240/365\n",
        "negative_data = abs(data.query('days_employed < 0')['days_employed'])/365\n",
        "\n",
        "print(big_data.describe())\n",
        "print()\n",
        "print(negative_data.describe())"
      ]
    },
    {
      "cell_type": "code",
      "execution_count": null,
      "metadata": {
        "id": "oaYM1ciB3AV-",
        "outputId": "f156913f-7667-4380-f4b0-6163fe9dfa03"
      },
      "outputs": [
        {
          "data": {
            "text/plain": [
              "0.021300206964462685"
            ]
          },
          "execution_count": 9,
          "metadata": {},
          "output_type": "execute_result"
        }
      ],
      "source": [
        "data.query('days_employed > 0')['days_employed'].corr(data.query('days_employed > 0')['dob_years'])"
      ]
    },
    {
      "cell_type": "markdown",
      "metadata": {
        "id": "gU7i3dpy3AV_"
      },
      "source": [
        "<div class=\"alert alert-info\">  \n",
        "И все-же нет. Нижний дескрипт похож на правду - стаж от нуля до 50 лет, логичные среднее и медиана, хорошая выборка, им можно пользоваться \n",
        "    \n",
        "Верхний - Строки, которые вообще не коррелируют с возрастом и не похожи на стаж. Если нет никакой информации о возможных источниках ошибки - выйдет гадание на кофейной гуще. \n",
        "    \n",
        "Думаю изначально был выбран верный способ восстановления данных  о стаже - на основе медианного значения стажа для выбранного возраста. \n",
        "</div>"
      ]
    },
    {
      "cell_type": "code",
      "execution_count": null,
      "metadata": {
        "id": "-unBXYvp3AWA",
        "outputId": "c84efa29-ec31-4ecc-9e62-7f6dedb47639"
      },
      "outputs": [
        {
          "data": {
            "text/plain": [
              " 0     14149\n",
              " 1      4818\n",
              " 2      2055\n",
              " 3       330\n",
              " 20       76\n",
              "-1        47\n",
              " 4        41\n",
              " 5         9\n",
              "Name: children, dtype: int64"
            ]
          },
          "execution_count": 10,
          "metadata": {},
          "output_type": "execute_result"
        }
      ],
      "source": [
        "\n",
        "data['children'].value_counts()\n",
        "\n",
        "# отрицательные и аномально высокие значения в количестве детей "
      ]
    },
    {
      "cell_type": "markdown",
      "metadata": {
        "id": "tYehj0Bs3AWA"
      },
      "source": [
        "76 записей где 20 детей. Похоже что тут лишний нолик. Бывают конечно многодетные семьи, но чтобы так кучно попасть в 20 - вряд-ли. Случайный минус тоже переведем в плюс. "
      ]
    },
    {
      "cell_type": "code",
      "execution_count": null,
      "metadata": {
        "id": "yRW5Gl0v3AWA",
        "outputId": "614b8739-6b8a-4784-d5b0-d3bda6e68a80"
      },
      "outputs": [
        {
          "data": {
            "text/plain": [
              "54"
            ]
          },
          "execution_count": 11,
          "metadata": {},
          "output_type": "execute_result"
        }
      ],
      "source": [
        "data.duplicated().sum()"
      ]
    },
    {
      "cell_type": "markdown",
      "metadata": {
        "id": "oqteH6it3AWB"
      },
      "source": [
        "В данных 54 явных дубликата, но это не все. Посмотрим на уникальные данные в столбцах object: в данных об образовании есть неявные дубликаты из-за разного регистра. А для данных о причине кредита требуется лемматизация. "
      ]
    },
    {
      "cell_type": "code",
      "execution_count": null,
      "metadata": {
        "id": "vSGDh_N13AWB",
        "outputId": "a0755fce-6df2-4821-b974-f251aacacdf2"
      },
      "outputs": [
        {
          "data": {
            "text/plain": [
              "array(['высшее', 'среднее', 'Среднее', 'СРЕДНЕЕ', 'ВЫСШЕЕ',\n",
              "       'неоконченное высшее', 'начальное', 'Высшее',\n",
              "       'НЕОКОНЧЕННОЕ ВЫСШЕЕ', 'Неоконченное высшее', 'НАЧАЛЬНОЕ',\n",
              "       'Начальное', 'Ученая степень', 'УЧЕНАЯ СТЕПЕНЬ', 'ученая степень'],\n",
              "      dtype=object)"
            ]
          },
          "execution_count": 12,
          "metadata": {},
          "output_type": "execute_result"
        }
      ],
      "source": [
        "data['education'].unique()"
      ]
    },
    {
      "cell_type": "markdown",
      "metadata": {
        "id": "wY9scpjo3AWC"
      },
      "source": [
        "**Вывод**"
      ]
    },
    {
      "cell_type": "markdown",
      "metadata": {
        "id": "YLtZ2-Fy3AWC"
      },
      "source": [
        "В датасете 21 525 строк, названия столбцов корректные. Сет содержит ошибки:\n",
        "- _children_ содержит отрицательные (-1) и аномально высокие (20) значения. Ошибки записи - лишний ноль и знак \"-\". Исправим\n",
        "\n",
        "- _days_employed_ содержит данные float, в т.ч. отрицательные значения, которые можно будет привести к модулю. Средний стаж работы растет пропорционально возрасту, но очевидно содержит общую ошибку, т.к. значения стажа превышают значения возраста. Содержит пропуски (10% от сета), которые могут быть заполнены на основании данных о возрасте и типе занятости\n",
        "\n",
        "- _dob_years_ содержит возрасты от 19 до 75 лет, и пропуски (нулевые значения), которые могут быть заполнены на основании данных о стаже\n",
        "\n",
        "- _education_ содержит одинаковые записи в разных регистрах, нужно привести к единой форме записи\n",
        "\n",
        "- _education_ и _family_status_ корректно дублируются id в целых числах \n",
        "\n",
        "- _income_type_ - содержит технически корректные object типы занятости \n",
        "\n",
        "- _total_income_  содержит пропуски в данных (10% сета), которые могут быть заполнены на основании данных о типе занятости\n",
        "\n",
        "- _debt_ содержат int значения 1 и 0, заполнены технически корректно. \n",
        "\n",
        "- _purpose_ содержит свободные текстовые конструкции, по которым можно провести леммитизацию для дальнейшего анализа\n",
        "\n",
        "Cет содержит 54 явных дубликата, но их число может увеличиться после приведения данных об образовании к единому регистру и исправлении ошибок ввода в информации о детях. \n",
        "\n",
        "\n",
        "**Для проведения анализа нужно провести предобработку**\n"
      ]
    },
    {
      "cell_type": "markdown",
      "metadata": {
        "id": "JjZjZ14b3AWE"
      },
      "source": [
        "## Шаг 2. Предобработка данных"
      ]
    },
    {
      "cell_type": "markdown",
      "metadata": {
        "id": "fJAjtZOR3AWF"
      },
      "source": [
        "### Обработка пропусков\n",
        "**Стаж работы**\n",
        "\n",
        "Сначала разберемся с самым ошибочным столбцом - стажем работы, в котором содержатся:\n",
        "\n",
        "- завышенные данные неизвестной природы, не коррелирующие с возрастом (вероятно ошибка обработки)\n",
        "- отрицательные значения модуль которых соответствует стажу и пропорционален возрасту (ошибка заполнения данных)\n",
        "- 10% пропущенной информации. \n",
        "\n",
        "Нужно учитывать что есть заполненные значения стажа для нулевого возраста (ошибка возраста), и есть значения возраста для которых нет корректных данных о стаже (ошибка стажа).  \n",
        "\n",
        "Восстановим данные стажа так:\n",
        "1. Выделим отрицательные данные стажа в отдельный столбец из которого будем брать медианные значения для заполнения, чтобы масса положительных ошибок не влияла на результат\n",
        "2. Заменим все ошибки на корректные данные:\n",
        "- для отрицательных значений восстановим модуль\n",
        "- для завышенных - медианы из нового столбца по соответствующему возрасту\n",
        "- если возраст 0 или для него нет корректных данных - возьмем медианное значение стажа по всей выборке.\n",
        "3. Приведем стаж к целым числам (дням), и удалим вспомогательный столбец"
      ]
    },
    {
      "cell_type": "code",
      "execution_count": null,
      "metadata": {
        "id": "Gz-30OaU3AWG"
      },
      "outputs": [],
      "source": [
        "data['true_days'] = data.loc[data.loc[:, 'days_employed'] < 0]['days_employed'] "
      ]
    },
    {
      "cell_type": "code",
      "execution_count": null,
      "metadata": {
        "id": "TtVObexl3AWG"
      },
      "outputs": [],
      "source": [
        "def days_recovery(row): #функция принимает строку датафрейма и возвращает медиану стажа\n",
        "    age = row['dob_years']\n",
        "    expirience = row['days_employed']\n",
        "    recovered = 0\n",
        "        \n",
        "    # Если стаж отрицательный - возвращаем в ячейку его модуль\n",
        "    if expirience < 0:\n",
        "        recovered = abs(expirience)\n",
        "        \n",
        "    # Если стаж больше нуля и есть отрицательная медиана значений стажа для выбранного года, то возвращаем ее в ячейку\n",
        "    elif data.query('dob_years == @age')['true_days'].median() < 0: \n",
        "        recovered = abs(data.query('dob_years == @age')['true_days'].median())\n",
        "        \n",
        "    # В остальных случаях, если нет отрицательных значений для года, или вообще нет значений - возвращаем медиану общего стажа\n",
        "    else:\n",
        "        recovered = abs(data['true_days'].median())\n",
        "    return recovered    "
      ]
    },
    {
      "cell_type": "code",
      "execution_count": null,
      "metadata": {
        "id": "qo_UTbs33AWM",
        "outputId": "f60330e9-7e02-43b4-e82d-189a3c1d26ce"
      },
      "outputs": [
        {
          "data": {
            "text/plain": [
              "<matplotlib.axes._subplots.AxesSubplot at 0x7f21c2c31fd0>"
            ]
          },
          "execution_count": 15,
          "metadata": {},
          "output_type": "execute_result"
        },
        {
          "data": {
            "image/png": "[encoded data removed]",
            "text/plain": [
              "<Figure size 432x288 with 1 Axes>"
            ]
          },
          "metadata": {
            "needs_background": "light"
          },
          "output_type": "display_data"
        }
      ],
      "source": [
        "data['days_employed'] = data.apply(days_recovery, axis= 1)\n",
        "sns.scatterplot(data=data, x=\"dob_years\", y=\"days_employed\")"
      ]
    },
    {
      "cell_type": "markdown",
      "metadata": {
        "id": "9AMiBghT3AWN"
      },
      "source": [
        "<div class=\"alert alert-info\">  \n",
        "Действительно с функцией стало быстрее, спасибо! \n",
        "</div>"
      ]
    },
    {
      "cell_type": "code",
      "execution_count": null,
      "metadata": {
        "id": "sYov0-c33AWN"
      },
      "outputs": [],
      "source": [
        "data['days_employed'] = data['days_employed'].astype(int)\n",
        "data = data.drop(axis=1, columns='true_days')"
      ]
    },
    {
      "cell_type": "markdown",
      "metadata": {
        "id": "z5J4jca63AWO"
      },
      "source": [
        "Данные по стажу работы готовы к дальнейшему анализу. \n",
        "\n",
        "**Возраст**\n",
        "\n",
        "Возраст и стаж имеют линейную зависимость,  можно восстановить пропущенные значения возраста через отношение среднего стажа к среднему возрасту в выборке.\n",
        "Если расчетное значение возраста меньше минимального (19) или больше максмального (75) в выборке, то вернем минимум или максимум. Для остальных пропусков в возрасте оставим расчетное значение для указанного стажа. "
      ]
    },
    {
      "cell_type": "markdown",
      "metadata": {
        "id": "Sd09IU8v3AWO"
      },
      "source": [
        "<div class=\"alert alert-info\">\n",
        "    \n",
        "В заполнении пропусков возраста цикл тоже заменил на функцию\n",
        "    \n",
        "</div>"
      ]
    },
    {
      "cell_type": "code",
      "execution_count": null,
      "metadata": {
        "id": "9-yGCOcG3AWO"
      },
      "outputs": [],
      "source": [
        "def age_recovery(row): #функция принимает строку и возвращает возраст в диапазоне от 19 до 75\n",
        "    age = row['dob_years']\n",
        "    expirience = row['days_employed']\n",
        "    index_expirience = data['days_employed'].mean() / data['dob_years'].mean() # коэф-т зависимости стажа и возраста\n",
        "    if age == 0:\n",
        "        if expirience / index_expirience < 19:\n",
        "            age = 19\n",
        "        elif expirience / index_expirience > 75:\n",
        "            age = 75\n",
        "        else:\n",
        "            age = expirience / index_expirience    \n",
        "    return age"
      ]
    },
    {
      "cell_type": "code",
      "execution_count": null,
      "metadata": {
        "id": "L8auTVM13AWP",
        "outputId": "505b5658-5fec-4c86-f0f9-cbfe5bdf344d"
      },
      "outputs": [
        {
          "data": {
            "text/plain": [
              "<matplotlib.axes._subplots.AxesSubplot at 0x7f21c2b86690>"
            ]
          },
          "execution_count": 18,
          "metadata": {},
          "output_type": "execute_result"
        },
        {
          "data": {
            "image/png": "[encoded data removed]",
            "text/plain": [
              "<Figure size 432x288 with 1 Axes>"
            ]
          },
          "metadata": {
            "needs_background": "light"
          },
          "output_type": "display_data"
        }
      ],
      "source": [
        "data['dob_years'] = data.apply(age_recovery, axis= 1) # закомментированный код заменен на функцию \n",
        "'''for index in range(len(data['dob_years'])):\n",
        "    index_expirience = data['days_employed'].mean() / data['dob_years'].mean() #коэф-т отношения стажа к возрасту\n",
        "    if data.loc[index, 'dob_years'] == 0:\n",
        "        if (data.loc[index,'days_employed'] / index_expirience) < 19:\n",
        "            data.loc[index,'dob_years'] = 19\n",
        "        elif (data.loc[index,'days_employed'] / index_expirience) >75:\n",
        "            data.loc[index,'dob_years'] = 75\n",
        "        else:\n",
        "            data.loc[index,'dob_years'] = (data.loc[index,'days_employed'] / index_expirience)\n",
        "data['dob_years'] = data['dob_years'].astype(int) '''  \n",
        "sns.scatterplot(data=data, x=\"dob_years\", y=\"days_employed\")"
      ]
    },
    {
      "cell_type": "markdown",
      "metadata": {
        "id": "dB3XAwa93AWP"
      },
      "source": [
        "Возраст и стаж в порядке. \n",
        "\n",
        "**Дети**\n",
        "\n",
        "В столбце о количестве детей заменим отрицательные значения на модули, а ячейки с количеством детей 20 (их 76), на значение 2. Очевидно, что ноль лишний при заполнении или обработке, т.к. если бы речь шла об аномально многодетных семьях - в массиве были бы близкие значения. "
      ]
    },
    {
      "cell_type": "code",
      "execution_count": null,
      "metadata": {
        "id": "ohWwh4U73AWQ",
        "outputId": "647881c3-a5fb-43ad-ddcb-7bee20f17c46"
      },
      "outputs": [
        {
          "data": {
            "text/plain": [
              "array([1, 0, 3, 2, 4, 5])"
            ]
          },
          "execution_count": 19,
          "metadata": {},
          "output_type": "execute_result"
        }
      ],
      "source": [
        "data.loc[data.children == 20, 'children'] = 2\n",
        "data.children = data.children.abs()\n",
        "data['children'].unique()"
      ]
    },
    {
      "cell_type": "markdown",
      "metadata": {
        "id": "X8cthGcn3AWS"
      },
      "source": [
        "C детьми теперь тоже все в порядке. Остались критичные пропуски в информации о доходах. \n",
        "\n",
        "**Доход**\n",
        "\n",
        "Доход больше всего зависит от образования и типа занятости. Это легко проверить меняя значения Х в scatterplote, если по оси Y - данные о доходах. Пропущенные значения можно восстановить медианой выборки по этим значениям. \n",
        "\n",
        "логичное решение - перебрать строки, и если ячейка данных о доходе NaN - заменить ее на медиану по выбранному типу дохода. Но функция isna() не работает с конкретной ячейкой и получить индекс нужной строки для указания типа дохода не выходит. \n",
        "\n",
        "Если заменить NaN на любое числовое значение - перебор строк будет работать, но новое значение будет влиять на расчет медианы. \n",
        "\n",
        "Поэтому:\n",
        "1) выделим исходные данные о доходах в отдельный столбец 'for_income'\n",
        "\n",
        "2) заменим в столбце 'total_income' значением 0, предварительно проверив что оно свободно \n",
        "\n",
        "3) проведем перебор строк, и для тех, в которых total_income = 0, поставим в нулевые ячейки медиану, рассчитанную на чистых значениях из столбца for_income, а потом удалим вспомогательный столбец. \n",
        "\n",
        "_Чувствую что это какой-то костыль, и должно быть более элегантное решение в пару строк, но пока найти его не удалось, а дедлайн вот он._ \n",
        "\n",
        "\n"
      ]
    },
    {
      "cell_type": "code",
      "execution_count": null,
      "metadata": {
        "id": "WUNUQauf3AWT",
        "outputId": "85022e9f-9998-44da-aa08-253739d92935"
      },
      "outputs": [
        {
          "data": {
            "text/plain": [
              "count    2.152500e+04\n",
              "mean     1.674413e+05\n",
              "std      9.812909e+04\n",
              "min      2.066726e+04\n",
              "25%      1.077982e+05\n",
              "50%      1.525055e+05\n",
              "75%      1.981493e+05\n",
              "max      2.265604e+06\n",
              "Name: total_income, dtype: float64"
            ]
          },
          "execution_count": 20,
          "metadata": {},
          "output_type": "execute_result"
        }
      ],
      "source": [
        "data['total_income'] = data.groupby(['income_type', 'education_id'])['total_income'].transform(lambda x: x.fillna(x.mean()))\n",
        "data['total_income'].describe()"
      ]
    },
    {
      "cell_type": "markdown",
      "metadata": {
        "id": "kYAJVs4E3AWT"
      },
      "source": [
        "**Вывод**"
      ]
    },
    {
      "cell_type": "markdown",
      "metadata": {
        "id": "Cd69k8c33AWU"
      },
      "source": [
        "В исходных данных были ошибки записи и технические ошибки, которые были исправлены путем восстановления данных \n",
        "\n",
        "Для пропусков стажа данные восстановлены на основе информации о возрасте,\n",
        "\n",
        "Для нулевого возраста - из данных о стаже\n",
        "\n",
        "Для пропусков в данных о доходе восстановлен медианный доход для указанного типа дохода и образования.\n",
        "\n",
        "Пропуски в данных о стаже и доходах составляли 10% от выборки и это нужно учитывать в дальнейших выводах. \n"
      ]
    },
    {
      "cell_type": "markdown",
      "metadata": {
        "id": "BLGtqO0U3AWV"
      },
      "source": [
        "### Замена типа данных"
      ]
    },
    {
      "cell_type": "code",
      "execution_count": null,
      "metadata": {
        "id": "qWSyX36u3AWV",
        "outputId": "b7ac331d-808e-42f6-e02a-55ecd19a2e13"
      },
      "outputs": [
        {
          "name": "stdout",
          "output_type": "stream",
          "text": [
            "<class 'pandas.core.frame.DataFrame'>\n",
            "RangeIndex: 21525 entries, 0 to 21524\n",
            "Data columns (total 12 columns):\n",
            "children            21525 non-null int64\n",
            "days_employed       21525 non-null int64\n",
            "dob_years           21525 non-null float64\n",
            "education           21525 non-null object\n",
            "education_id        21525 non-null int64\n",
            "family_status       21525 non-null object\n",
            "family_status_id    21525 non-null int64\n",
            "gender              21525 non-null object\n",
            "income_type         21525 non-null object\n",
            "debt                21525 non-null int64\n",
            "total_income        21525 non-null float64\n",
            "purpose             21525 non-null object\n",
            "dtypes: float64(2), int64(5), object(5)\n",
            "memory usage: 2.0+ MB\n"
          ]
        }
      ],
      "source": [
        "data.info()"
      ]
    },
    {
      "cell_type": "markdown",
      "metadata": {
        "id": "c1aQ0Dzw3AWW"
      },
      "source": [
        "**Вывод**"
      ]
    },
    {
      "cell_type": "markdown",
      "metadata": {
        "id": "DGC8YQmK3AWW"
      },
      "source": [
        "Мы привели данные к нужным типам в процессе заполнения пропусков:\n",
        "Данные о стаже в днях были дробными - они методом astype() переведены в целые числа -учитываются только полные дни, дробная часть отсекается. \n",
        "Можно идти дальше. "
      ]
    },
    {
      "cell_type": "markdown",
      "metadata": {
        "id": "_ePIvwCc3AWX"
      },
      "source": [
        "### Обработка дубликатов"
      ]
    },
    {
      "cell_type": "markdown",
      "metadata": {
        "id": "-TXdsPqK3AWX"
      },
      "source": [
        "Чтобы удалить все дубликаты, приведем записи в данных об образовании к единому регистру, посмотрим на количество дубликатов (интересно же), и удалим полностью повторяющиеся строки"
      ]
    },
    {
      "cell_type": "code",
      "execution_count": null,
      "metadata": {
        "id": "Dx-91rvr3AWX",
        "outputId": "a5e3042b-4080-4a0e-f3d8-aa3b7466eb3a"
      },
      "outputs": [
        {
          "data": {
            "text/plain": [
              "71"
            ]
          },
          "execution_count": 22,
          "metadata": {},
          "output_type": "execute_result"
        }
      ],
      "source": [
        "data['education'] = data['education'].str.lower()\n",
        "data.duplicated().sum()"
      ]
    },
    {
      "cell_type": "code",
      "execution_count": null,
      "metadata": {
        "id": "VnHANDZv3AWY",
        "outputId": "f30971e0-4e23-4c33-fa94-069123fd1139"
      },
      "outputs": [
        {
          "data": {
            "text/plain": [
              "0"
            ]
          },
          "execution_count": 23,
          "metadata": {},
          "output_type": "execute_result"
        }
      ],
      "source": [
        "data = data.drop_duplicates().reset_index(drop=True)\n",
        "data.duplicated().sum()"
      ]
    },
    {
      "cell_type": "markdown",
      "metadata": {
        "id": "K_ts7V0N3AWZ"
      },
      "source": [
        "**Вывод**"
      ]
    },
    {
      "cell_type": "markdown",
      "metadata": {
        "id": "Yik2Z7oO3AWZ"
      },
      "source": [
        "Полностью повторяющиеся строки - скорее всего ошибки обработки данных. И хотя в сете нет уникальных идентификаторов - вероятность повторения всех параметров для разных клиентов очень мала. \n",
        "После обработки сведений об образовании число дубликатов действительно увеличилось с 54 до 71, т.к. функция duplicated() учитывает регистр в котором записаны значения. Дубликаты удалены, сет готов к дальнейшей работе. "
      ]
    },
    {
      "cell_type": "markdown",
      "metadata": {
        "id": "iAFwJlcP3AWZ"
      },
      "source": [
        "<div class=\"alert alert-success\">\n",
        "    \n",
        "<b> Комментарий от ревьюера ✔️</b>\n",
        "    \n",
        "С обработкой явных и неявных дубликатов все отлично\n",
        "</div>"
      ]
    },
    {
      "cell_type": "markdown",
      "metadata": {
        "id": "hwvvieCy3AWa"
      },
      "source": [
        "### Лемматизация"
      ]
    },
    {
      "cell_type": "code",
      "execution_count": null,
      "metadata": {
        "id": "uaviKsf53AWa"
      },
      "outputs": [],
      "source": [
        "lemma = data['purpose'] # сначала сохраним исходный столбец в переменную, чтобы использовать ее в счетчике слов"
      ]
    },
    {
      "cell_type": "code",
      "execution_count": null,
      "metadata": {
        "id": "bxxvTf1k3AWb",
        "outputId": "ae70cdad-a309-44fa-b3ca-34ddece22bdb"
      },
      "outputs": [
        {
          "data": {
            "text/plain": [
              "Counter({'покупка': 5897,\n",
              "         ' ': 55023,\n",
              "         'жилье': 4460,\n",
              "         'приобретение': 461,\n",
              "         'автомобиль': 4306,\n",
              "         'дополнительный': 906,\n",
              "         'образование': 4013,\n",
              "         'сыграть': 765,\n",
              "         'свадьба': 2324,\n",
              "         'операция': 2604,\n",
              "         'с': 2918,\n",
              "         'на': 2222,\n",
              "         'проведение': 768,\n",
              "         'для': 1289,\n",
              "         'семья': 638,\n",
              "         'недвижимость': 6351,\n",
              "         'коммерческий': 1311,\n",
              "         'жилой': 1230,\n",
              "         'строительство': 1878,\n",
              "         'собственный': 635,\n",
              "         'подержать': 853,\n",
              "         'свой': 2230,\n",
              "         'со': 627,\n",
              "         'заниматься': 904,\n",
              "         'сделка': 941,\n",
              "         'получение': 1314,\n",
              "         'высокий': 1374,\n",
              "         'подержанный': 111,\n",
              "         'профильный': 436,\n",
              "         'сдача': 651,\n",
              "         'ремонт': 607,\n",
              "         '\\n': 1})"
            ]
          },
          "execution_count": 25,
          "metadata": {},
          "output_type": "execute_result"
        }
      ],
      "source": [
        "lemma = ' '.join(lemma)\n",
        "Counter(m.lemmatize(lemma)) #выведем лемматизированный счетчик чтобы собрать словарь"
      ]
    },
    {
      "cell_type": "code",
      "execution_count": null,
      "metadata": {
        "colab": {
          "base_uri": "https://localhost:8080/",
          "height": 184
        },
        "id": "KQOw8itB3AWb",
        "outputId": "3d746da7-6aec-47d7-eb63-cb83bf45f714"
      },
      "outputs": [
        {
          "output_type": "error",
          "ename": "NameError",
          "evalue": "ignored",
          "traceback": [
            "\u001b[0;31m---------------------------------------------------------------------------\u001b[0m",
            "\u001b[0;31mNameError\u001b[0m                                 Traceback (most recent call last)",
            "\u001b[0;32m<ipython-input-1-dc40be9266d3>\u001b[0m in \u001b[0;36m<module>\u001b[0;34m\u001b[0m\n\u001b[0;32m----> 1\u001b[0;31m \u001b[0mdata\u001b[0m\u001b[0;34m[\u001b[0m\u001b[0;34m'purpose'\u001b[0m\u001b[0;34m]\u001b[0m \u001b[0;34m=\u001b[0m \u001b[0mdata\u001b[0m\u001b[0;34m[\u001b[0m\u001b[0;34m'purpose'\u001b[0m\u001b[0;34m]\u001b[0m\u001b[0;34m.\u001b[0m\u001b[0mapply\u001b[0m\u001b[0;34m(\u001b[0m\u001b[0mm\u001b[0m\u001b[0;34m.\u001b[0m\u001b[0mlemmatize\u001b[0m\u001b[0;34m)\u001b[0m \u001b[0;31m# и лемматизируем весь столбец для дальнейшей работы\u001b[0m\u001b[0;34m\u001b[0m\u001b[0;34m\u001b[0m\u001b[0m\n\u001b[0m\u001b[1;32m      2\u001b[0m \u001b[0mdata\u001b[0m\u001b[0;34m.\u001b[0m\u001b[0mhead\u001b[0m\u001b[0;34m(\u001b[0m\u001b[0;36m5\u001b[0m\u001b[0;34m)\u001b[0m\u001b[0;34m\u001b[0m\u001b[0;34m\u001b[0m\u001b[0m\n",
            "\u001b[0;31mNameError\u001b[0m: name 'data' is not defined"
          ]
        }
      ],
      "source": [
        "data['purpose'] = data['purpose'].apply(m.lemmatize) # и лемматизируем весь столбец для дальнейшей работы\n",
        "data.head(5)"
      ]
    },
    {
      "cell_type": "markdown",
      "metadata": {
        "id": "QXAEYyUu3AWb"
      },
      "source": [
        "**Вывод**"
      ]
    },
    {
      "cell_type": "markdown",
      "metadata": {
        "id": "KHXJtFPK3AWc"
      },
      "source": [
        "Данные лемматизированы. Поскольку лемматизация работает только со строками, чтобы лемматизировать столбец датафрейма применен метод apply, который позволяет применять функцию последовательно для каждого значения в датафрейме. \n",
        "\n",
        "Я выделил исходные данные в отдельную переменную, чтобы склеить их, и посчитать количество лемматизированных слов - так проще составить \"словарь\" для дальнейшей категоризации: выделить основные цели - недвижимость, автомобиль, образование, свадьба.\n",
        "\n",
        "Уникальных слов оказалось не так много, поэтому данные из каунтера можно обработать вручную. "
      ]
    },
    {
      "cell_type": "markdown",
      "metadata": {
        "id": "PGscl_Lw3AWc"
      },
      "source": [
        "<div class=\"alert alert-success\">\n",
        "    \n",
        "<b> Комментарий от ревьюера ✔️</b>\n",
        "    \n",
        "Ты правильно нашел основные категории кредитов\n",
        "</div>"
      ]
    },
    {
      "cell_type": "markdown",
      "metadata": {
        "id": "8hQ72G1D3AWc"
      },
      "source": [
        "### Категоризация данных"
      ]
    },
    {
      "cell_type": "markdown",
      "metadata": {
        "id": "z1qwDGIT3AWc"
      },
      "source": [
        "Заказчик указал параметры, по которым необходимо провести анализ: наличие детей, семейное положение, уровень дохода и цель кредита. \n",
        "\n",
        "Цель кредита и уровень дохода представлены множеством разрозненных значений. В них нужно выделить категории - это упростит анализ. \n",
        "\n",
        "**Цель кредита**\n",
        "\n",
        "Для цели кредита возьмем словарь добытый при лемматизации:"
      ]
    },
    {
      "cell_type": "code",
      "execution_count": null,
      "metadata": {
        "id": "hvHkAcso3AWd"
      },
      "outputs": [],
      "source": [
        "def lemma_group(row):\n",
        "    lemma = row['purpose']\n",
        "    if 'свадьба' in lemma:\n",
        "        lemma = 'свадьба'\n",
        "    elif ('недвижимость' in lemma) or ('жилье' in lemma):\n",
        "        lemma = 'недвижимость'\n",
        "    elif 'автомобиль' in lemma:\n",
        "        lemma = 'автомобиль'\n",
        "    elif 'образование' in lemma:\n",
        "        lemma = 'образование'\n",
        "    return lemma\n"
      ]
    },
    {
      "cell_type": "code",
      "execution_count": null,
      "metadata": {
        "id": "HrJp_Nt_3AWe",
        "outputId": "a26d94cf-9df0-40b9-9575-9df0e2531ad1"
      },
      "outputs": [
        {
          "data": {
            "text/plain": [
              "array(['недвижимость', 'автомобиль', 'образование', 'свадьба'],\n",
              "      dtype=object)"
            ]
          },
          "execution_count": 28,
          "metadata": {},
          "output_type": "execute_result"
        }
      ],
      "source": [
        "data['purpose'] = data.apply(lemma_group, axis= 1)\n",
        "data['purpose'].unique() #проверим уникальные значения в столбце purpose после категоризации\n"
      ]
    },
    {
      "cell_type": "markdown",
      "metadata": {
        "id": "irpLkbCD3AWe"
      },
      "source": [
        "Поделили причины получения кредита на четыре категории, и задали каждой категории id. Теперь их можно анализировать, но сначала нужно категоризировать оставшийся критерий - доход. \n",
        "\n",
        "**Доход**\n",
        "\n",
        "Выделим четыре категории дохода следующим образом:\n",
        "Средний класс составляет медианный доход +- 30%. \n",
        "Доход меньше половины от медианного будем считать низким\n",
        "Людей с доходом выше трех медиан будем считать богатыми. \n",
        "\n",
        "Группа 0 - доходы менее 70% от медианы доходов выборки: низкий доход\n",
        "\n",
        "Группа 1 от 0,7  до 1,3 медианы выборки: средний класс. \n",
        "\n",
        "Группа 2 более 1,3 медианы выборки: высокий доход\n",
        "\n",
        "Группа 4 более 3 медианных доходов: богатые"
      ]
    },
    {
      "cell_type": "code",
      "execution_count": null,
      "metadata": {
        "id": "InNHhv7-3AWe"
      },
      "outputs": [],
      "source": [
        "data['income_id'] = ''\n",
        "def income_group(row): #принимает строку и возвращает в ячейку информацию о группе дохода\n",
        "    income = row['total_income']\n",
        "    rank = data['total_income'].median()\n",
        "    group = row['income_id']\n",
        "    if income < rank * 1.3:\n",
        "        if income < rank * 0.7:\n",
        "            group = 'низкий доход'\n",
        "        else:\n",
        "            group = 'средний класс'         \n",
        "    elif income < rank * 3:\n",
        "        group = 'высокий доход'\n",
        "    else:\n",
        "        group = 'богатые'   \n",
        "    return group"
      ]
    },
    {
      "cell_type": "code",
      "execution_count": null,
      "metadata": {
        "id": "WmS__ZHO3AWf",
        "outputId": "a84ce1e4-b937-4d6f-d7a7-d136c7fcda5e"
      },
      "outputs": [
        {
          "data": {
            "text/plain": [
              "array(['высокий доход', 'средний класс', 'низкий доход', 'богатые'],\n",
              "      dtype=object)"
            ]
          },
          "execution_count": 30,
          "metadata": {},
          "output_type": "execute_result"
        }
      ],
      "source": [
        "data['income_id'] = data.apply(income_group, axis= 1)\n",
        "data['income_id'].unique()"
      ]
    },
    {
      "cell_type": "markdown",
      "metadata": {
        "id": "nMrvl-Fb3AWf"
      },
      "source": [
        "**Вывод**"
      ]
    },
    {
      "cell_type": "markdown",
      "metadata": {
        "id": "H3Z7zYvB3AWg"
      },
      "source": [
        "Все данные, в датафрейме, по которым нужно установить зависимость с возвратом кредита в срок -  категоризированы, теперь их можно исследовать и ответить на вопросы заказчика. \n"
      ]
    },
    {
      "cell_type": "markdown",
      "metadata": {
        "id": "C8tjMGtS3AWg"
      },
      "source": [
        "## Шаг 3. Ответьте на вопросы"
      ]
    },
    {
      "cell_type": "markdown",
      "metadata": {
        "id": "0gUw43_73AWg"
      },
      "source": [
        "- **Есть ли зависимость между наличием детей и возвратом кредита в срок?**\n",
        "\n",
        "Чтобы ответить на этот вопрос - построим сводную таблицу для показателя children, в которой расчитаем долю \"плохих\" возвратов - отношение суммы значений debt к количеству строк с нужным количеством детей. Чем выше доля \"плохих\" возвратов, тем выше вероятность просрочки у клиентов выбранного типа:"
      ]
    },
    {
      "cell_type": "code",
      "execution_count": null,
      "metadata": {
        "id": "fGCywGej3AWh",
        "outputId": "640b6773-d2e7-46a7-b110-35170aaf1072"
      },
      "outputs": [
        {
          "data": {
            "text/html": [
              "<div>\n",
              "<style scoped>\n",
              "    .dataframe tbody tr th:only-of-type {\n",
              "        vertical-align: middle;\n",
              "    }\n",
              "\n",
              "    .dataframe tbody tr th {\n",
              "        vertical-align: top;\n",
              "    }\n",
              "\n",
              "    .dataframe thead tr th {\n",
              "        text-align: left;\n",
              "    }\n",
              "\n",
              "    .dataframe thead tr:last-of-type th {\n",
              "        text-align: right;\n",
              "    }\n",
              "</style>\n",
              "<table border=\"1\" class=\"dataframe\">\n",
              "  <thead>\n",
              "    <tr>\n",
              "      <th></th>\n",
              "      <th>sum</th>\n",
              "      <th>count</th>\n",
              "      <th>mean</th>\n",
              "    </tr>\n",
              "    <tr>\n",
              "      <th></th>\n",
              "      <th>debt</th>\n",
              "      <th>debt</th>\n",
              "      <th>debt</th>\n",
              "    </tr>\n",
              "    <tr>\n",
              "      <th>children</th>\n",
              "      <th></th>\n",
              "      <th></th>\n",
              "      <th></th>\n",
              "    </tr>\n",
              "  </thead>\n",
              "  <tbody>\n",
              "    <tr>\n",
              "      <td>0</td>\n",
              "      <td>1063</td>\n",
              "      <td>14091</td>\n",
              "      <td>0.075438</td>\n",
              "    </tr>\n",
              "    <tr>\n",
              "      <td>1</td>\n",
              "      <td>445</td>\n",
              "      <td>4855</td>\n",
              "      <td>0.091658</td>\n",
              "    </tr>\n",
              "    <tr>\n",
              "      <td>2</td>\n",
              "      <td>202</td>\n",
              "      <td>2128</td>\n",
              "      <td>0.094925</td>\n",
              "    </tr>\n",
              "    <tr>\n",
              "      <td>3</td>\n",
              "      <td>27</td>\n",
              "      <td>330</td>\n",
              "      <td>0.081818</td>\n",
              "    </tr>\n",
              "    <tr>\n",
              "      <td>4</td>\n",
              "      <td>4</td>\n",
              "      <td>41</td>\n",
              "      <td>0.097561</td>\n",
              "    </tr>\n",
              "    <tr>\n",
              "      <td>5</td>\n",
              "      <td>0</td>\n",
              "      <td>9</td>\n",
              "      <td>0.000000</td>\n",
              "    </tr>\n",
              "  </tbody>\n",
              "</table>\n",
              "</div>"
            ],
            "text/plain": [
              "           sum  count      mean\n",
              "          debt   debt      debt\n",
              "children                       \n",
              "0         1063  14091  0.075438\n",
              "1          445   4855  0.091658\n",
              "2          202   2128  0.094925\n",
              "3           27    330  0.081818\n",
              "4            4     41  0.097561\n",
              "5            0      9  0.000000"
            ]
          },
          "metadata": {},
          "output_type": "display_data"
        }
      ],
      "source": [
        "children_debt = data.pivot_table(index=['children'], \n",
        "                              values='debt', \n",
        "                              aggfunc=['sum', 'count', 'mean'])\n",
        "display(children_debt)"
      ]
    },
    {
      "cell_type": "markdown",
      "metadata": {
        "id": "uJ_6jVXh3AWi"
      },
      "source": [
        "**Вывод**"
      ]
    },
    {
      "cell_type": "markdown",
      "metadata": {
        "id": "b73-Aj6B3AWi"
      },
      "source": [
        "Наличие детей отрицательно влияет на возврат кредита в срок - у бездетных клиентов доля плохих возвратов самая низкая. \n",
        "А вот количество детей почти не оказывает влияния.\n",
        "\n",
        "Семей с количеством детей 4 и 5 - мало в выборке, поэтому на результатах средних возвратов в этих группах нельзя основывать выводы"
      ]
    },
    {
      "cell_type": "markdown",
      "metadata": {
        "id": "a9EkrpkI3AWj"
      },
      "source": [
        "- **Есть ли зависимость между семейным положением и возвратом кредита в срок?**"
      ]
    },
    {
      "cell_type": "code",
      "execution_count": null,
      "metadata": {
        "id": "k6tvCY0L3AWj",
        "outputId": "315a5637-97ca-422f-f7a7-5b6b5c3494a6"
      },
      "outputs": [
        {
          "data": {
            "text/html": [
              "<div>\n",
              "<style scoped>\n",
              "    .dataframe tbody tr th:only-of-type {\n",
              "        vertical-align: middle;\n",
              "    }\n",
              "\n",
              "    .dataframe tbody tr th {\n",
              "        vertical-align: top;\n",
              "    }\n",
              "\n",
              "    .dataframe thead tr th {\n",
              "        text-align: left;\n",
              "    }\n",
              "\n",
              "    .dataframe thead tr:last-of-type th {\n",
              "        text-align: right;\n",
              "    }\n",
              "</style>\n",
              "<table border=\"1\" class=\"dataframe\">\n",
              "  <thead>\n",
              "    <tr>\n",
              "      <th></th>\n",
              "      <th>sum</th>\n",
              "      <th>count</th>\n",
              "      <th>mean</th>\n",
              "    </tr>\n",
              "    <tr>\n",
              "      <th></th>\n",
              "      <th>debt</th>\n",
              "      <th>debt</th>\n",
              "      <th>debt</th>\n",
              "    </tr>\n",
              "    <tr>\n",
              "      <th>family_status</th>\n",
              "      <th></th>\n",
              "      <th></th>\n",
              "      <th></th>\n",
              "    </tr>\n",
              "  </thead>\n",
              "  <tbody>\n",
              "    <tr>\n",
              "      <td>Не женат / не замужем</td>\n",
              "      <td>274</td>\n",
              "      <td>2810</td>\n",
              "      <td>0.097509</td>\n",
              "    </tr>\n",
              "    <tr>\n",
              "      <td>в разводе</td>\n",
              "      <td>85</td>\n",
              "      <td>1195</td>\n",
              "      <td>0.071130</td>\n",
              "    </tr>\n",
              "    <tr>\n",
              "      <td>вдовец / вдова</td>\n",
              "      <td>63</td>\n",
              "      <td>959</td>\n",
              "      <td>0.065693</td>\n",
              "    </tr>\n",
              "    <tr>\n",
              "      <td>гражданский брак</td>\n",
              "      <td>388</td>\n",
              "      <td>4151</td>\n",
              "      <td>0.093471</td>\n",
              "    </tr>\n",
              "    <tr>\n",
              "      <td>женат / замужем</td>\n",
              "      <td>931</td>\n",
              "      <td>12339</td>\n",
              "      <td>0.075452</td>\n",
              "    </tr>\n",
              "  </tbody>\n",
              "</table>\n",
              "</div>"
            ],
            "text/plain": [
              "                       sum  count      mean\n",
              "                      debt   debt      debt\n",
              "family_status                              \n",
              "Не женат / не замужем  274   2810  0.097509\n",
              "в разводе               85   1195  0.071130\n",
              "вдовец / вдова          63    959  0.065693\n",
              "гражданский брак       388   4151  0.093471\n",
              "женат / замужем        931  12339  0.075452"
            ]
          },
          "metadata": {},
          "output_type": "display_data"
        }
      ],
      "source": [
        "family_status_debt = data.pivot_table(index=['family_status'], \n",
        "                              values='debt', \n",
        "                              aggfunc=['sum', 'count', 'mean'])\n",
        "display(family_status_debt)"
      ]
    },
    {
      "cell_type": "markdown",
      "metadata": {
        "id": "6rioXj5s3AWk"
      },
      "source": [
        "**Вывод**"
      ]
    },
    {
      "cell_type": "markdown",
      "metadata": {
        "id": "ay0_dlH33AWk"
      },
      "source": [
        "Лучшие заемщики с точки зрения семейного статуса - вдовцы. Люди, находящиеся в браке в среднем возвращают кредиты так же дисциплинировано, как и те что в разводе. \n",
        "\n",
        "А клиенты в статусе Не женат / не замужем или в гражданском браке - самые рисковые заемщики. Хотя есть вероятность что тут влияние имеет не семейный статус, а возраст респондентов. Проверим?\n",
        "\n",
        "**Новая гипотеза - молодежь хуже возвращает кредиты чем люди старшего поколения.**"
      ]
    },
    {
      "cell_type": "markdown",
      "metadata": {
        "id": "coEKmKeZ3AWl"
      },
      "source": [
        "<div class=\"alert alert-info\">\n",
        "    \n",
        "тут еще одна функция вместо цикла\n",
        "    \n",
        "</div>"
      ]
    },
    {
      "cell_type": "code",
      "execution_count": null,
      "metadata": {
        "id": "nS-Qe27J3AWl",
        "outputId": "dfdf6af5-9e09-4b65-d0eb-c428882afebf"
      },
      "outputs": [
        {
          "data": {
            "text/html": [
              "<div>\n",
              "<style scoped>\n",
              "    .dataframe tbody tr th:only-of-type {\n",
              "        vertical-align: middle;\n",
              "    }\n",
              "\n",
              "    .dataframe tbody tr th {\n",
              "        vertical-align: top;\n",
              "    }\n",
              "\n",
              "    .dataframe thead tr th {\n",
              "        text-align: left;\n",
              "    }\n",
              "\n",
              "    .dataframe thead tr:last-of-type th {\n",
              "        text-align: right;\n",
              "    }\n",
              "</style>\n",
              "<table border=\"1\" class=\"dataframe\">\n",
              "  <thead>\n",
              "    <tr>\n",
              "      <th></th>\n",
              "      <th></th>\n",
              "      <th>sum</th>\n",
              "      <th>count</th>\n",
              "      <th>mean</th>\n",
              "    </tr>\n",
              "    <tr>\n",
              "      <th></th>\n",
              "      <th></th>\n",
              "      <th>debt</th>\n",
              "      <th>debt</th>\n",
              "      <th>debt</th>\n",
              "    </tr>\n",
              "    <tr>\n",
              "      <th>family_status</th>\n",
              "      <th>age_group</th>\n",
              "      <th></th>\n",
              "      <th></th>\n",
              "      <th></th>\n",
              "    </tr>\n",
              "  </thead>\n",
              "  <tbody>\n",
              "    <tr>\n",
              "      <td rowspan=\"3\" valign=\"top\">Не женат / не замужем</td>\n",
              "      <td>молодежь</td>\n",
              "      <td>104</td>\n",
              "      <td>929</td>\n",
              "      <td>0.111948</td>\n",
              "    </tr>\n",
              "    <tr>\n",
              "      <td>пожилые</td>\n",
              "      <td>16</td>\n",
              "      <td>405</td>\n",
              "      <td>0.039506</td>\n",
              "    </tr>\n",
              "    <tr>\n",
              "      <td>средний возраст</td>\n",
              "      <td>154</td>\n",
              "      <td>1476</td>\n",
              "      <td>0.104336</td>\n",
              "    </tr>\n",
              "    <tr>\n",
              "      <td rowspan=\"3\" valign=\"top\">в разводе</td>\n",
              "      <td>молодежь</td>\n",
              "      <td>14</td>\n",
              "      <td>101</td>\n",
              "      <td>0.138614</td>\n",
              "    </tr>\n",
              "    <tr>\n",
              "      <td>пожилые</td>\n",
              "      <td>16</td>\n",
              "      <td>264</td>\n",
              "      <td>0.060606</td>\n",
              "    </tr>\n",
              "    <tr>\n",
              "      <td>средний возраст</td>\n",
              "      <td>55</td>\n",
              "      <td>830</td>\n",
              "      <td>0.066265</td>\n",
              "    </tr>\n",
              "    <tr>\n",
              "      <td rowspan=\"3\" valign=\"top\">вдовец / вдова</td>\n",
              "      <td>молодежь</td>\n",
              "      <td>1</td>\n",
              "      <td>7</td>\n",
              "      <td>0.142857</td>\n",
              "    </tr>\n",
              "    <tr>\n",
              "      <td>пожилые</td>\n",
              "      <td>39</td>\n",
              "      <td>602</td>\n",
              "      <td>0.064784</td>\n",
              "    </tr>\n",
              "    <tr>\n",
              "      <td>средний возраст</td>\n",
              "      <td>23</td>\n",
              "      <td>350</td>\n",
              "      <td>0.065714</td>\n",
              "    </tr>\n",
              "    <tr>\n",
              "      <td rowspan=\"3\" valign=\"top\">гражданский брак</td>\n",
              "      <td>молодежь</td>\n",
              "      <td>70</td>\n",
              "      <td>698</td>\n",
              "      <td>0.100287</td>\n",
              "    </tr>\n",
              "    <tr>\n",
              "      <td>пожилые</td>\n",
              "      <td>43</td>\n",
              "      <td>705</td>\n",
              "      <td>0.060993</td>\n",
              "    </tr>\n",
              "    <tr>\n",
              "      <td>средний возраст</td>\n",
              "      <td>275</td>\n",
              "      <td>2748</td>\n",
              "      <td>0.100073</td>\n",
              "    </tr>\n",
              "    <tr>\n",
              "      <td rowspan=\"3\" valign=\"top\">женат / замужем</td>\n",
              "      <td>молодежь</td>\n",
              "      <td>165</td>\n",
              "      <td>1513</td>\n",
              "      <td>0.109055</td>\n",
              "    </tr>\n",
              "    <tr>\n",
              "      <td>пожилые</td>\n",
              "      <td>127</td>\n",
              "      <td>2377</td>\n",
              "      <td>0.053429</td>\n",
              "    </tr>\n",
              "    <tr>\n",
              "      <td>средний возраст</td>\n",
              "      <td>639</td>\n",
              "      <td>8449</td>\n",
              "      <td>0.075630</td>\n",
              "    </tr>\n",
              "  </tbody>\n",
              "</table>\n",
              "</div>"
            ],
            "text/plain": [
              "                                       sum count      mean\n",
              "                                      debt  debt      debt\n",
              "family_status         age_group                           \n",
              "Не женат / не замужем молодежь         104   929  0.111948\n",
              "                      пожилые           16   405  0.039506\n",
              "                      средний возраст  154  1476  0.104336\n",
              "в разводе             молодежь          14   101  0.138614\n",
              "                      пожилые           16   264  0.060606\n",
              "                      средний возраст   55   830  0.066265\n",
              "вдовец / вдова        молодежь           1     7  0.142857\n",
              "                      пожилые           39   602  0.064784\n",
              "                      средний возраст   23   350  0.065714\n",
              "гражданский брак      молодежь          70   698  0.100287\n",
              "                      пожилые           43   705  0.060993\n",
              "                      средний возраст  275  2748  0.100073\n",
              "женат / замужем       молодежь         165  1513  0.109055\n",
              "                      пожилые          127  2377  0.053429\n",
              "                      средний возраст  639  8449  0.075630"
            ]
          },
          "metadata": {},
          "output_type": "display_data"
        }
      ],
      "source": [
        "data['age_group'] = ''\n",
        "def age_cat(row):\n",
        "    age = row['dob_years']\n",
        "    age_group = row['age_group']\n",
        "    if age < 30:\n",
        "        age_group = 'молодежь'\n",
        "    elif age > 55:\n",
        "        age_group = 'пожилые'\n",
        "    else:\n",
        "        age_group = 'средний возраст'\n",
        "    return age_group\n",
        "\n",
        "data['age_group'] = data.apply(age_cat, axis= 1)    \n",
        "\n",
        "age_group_debt = data.pivot_table(index=['family_status', 'age_group'], \n",
        "                              values='debt', \n",
        "                              aggfunc=['sum', 'count', 'mean'])\n",
        "\n",
        "display(age_group_debt)"
      ]
    },
    {
      "cell_type": "markdown",
      "metadata": {
        "id": "68FjGIOH3AWm"
      },
      "source": [
        "Гипотеза не может быть отклонена отчасти. Люди до 30 действительно хуже остальных возрастных групп дружат с финансами, и чаще допускают просрочки по кредитам (в два раза чаще чем пожилые, причем независимо от семейного статуса). \n",
        "\n",
        "Но верно так же и то, что люди незарегистрировавшие свои семейные отношения среднем возрасте так же менее надежные заемщики.\n",
        "\n",
        "Дисциплинированнее всех выплачивают кредиты пожилые люди с семейным статусом \"Не женат / не замужем\""
      ]
    },
    {
      "cell_type": "markdown",
      "metadata": {
        "id": "hXkFgxGp3AWm"
      },
      "source": [
        "- **Есть ли зависимость между уровнем дохода и возвратом кредита в срок?**\n",
        "\n",
        "\n",
        "Мы распределили данные на четыре группы по уровню дохода, проверим уровень \"плохих\" возвратов в каждой группе"
      ]
    },
    {
      "cell_type": "code",
      "execution_count": null,
      "metadata": {
        "id": "m4gNO-aM3AWm",
        "outputId": "c3f271a9-024c-4999-d958-7fffecf0a248"
      },
      "outputs": [
        {
          "data": {
            "text/html": [
              "<div>\n",
              "<style scoped>\n",
              "    .dataframe tbody tr th:only-of-type {\n",
              "        vertical-align: middle;\n",
              "    }\n",
              "\n",
              "    .dataframe tbody tr th {\n",
              "        vertical-align: top;\n",
              "    }\n",
              "\n",
              "    .dataframe thead tr th {\n",
              "        text-align: left;\n",
              "    }\n",
              "\n",
              "    .dataframe thead tr:last-of-type th {\n",
              "        text-align: right;\n",
              "    }\n",
              "</style>\n",
              "<table border=\"1\" class=\"dataframe\">\n",
              "  <thead>\n",
              "    <tr>\n",
              "      <th></th>\n",
              "      <th>sum</th>\n",
              "      <th>count</th>\n",
              "      <th>mean</th>\n",
              "    </tr>\n",
              "    <tr>\n",
              "      <th></th>\n",
              "      <th>debt</th>\n",
              "      <th>debt</th>\n",
              "      <th>debt</th>\n",
              "    </tr>\n",
              "    <tr>\n",
              "      <th>income_id</th>\n",
              "      <th></th>\n",
              "      <th></th>\n",
              "      <th></th>\n",
              "    </tr>\n",
              "  </thead>\n",
              "  <tbody>\n",
              "    <tr>\n",
              "      <td>богатые</td>\n",
              "      <td>18</td>\n",
              "      <td>315</td>\n",
              "      <td>0.057143</td>\n",
              "    </tr>\n",
              "    <tr>\n",
              "      <td>высокий доход</td>\n",
              "      <td>357</td>\n",
              "      <td>5070</td>\n",
              "      <td>0.070414</td>\n",
              "    </tr>\n",
              "    <tr>\n",
              "      <td>низкий доход</td>\n",
              "      <td>413</td>\n",
              "      <td>5264</td>\n",
              "      <td>0.078457</td>\n",
              "    </tr>\n",
              "    <tr>\n",
              "      <td>средний класс</td>\n",
              "      <td>953</td>\n",
              "      <td>10805</td>\n",
              "      <td>0.088200</td>\n",
              "    </tr>\n",
              "  </tbody>\n",
              "</table>\n",
              "</div>"
            ],
            "text/plain": [
              "               sum  count      mean\n",
              "              debt   debt      debt\n",
              "income_id                          \n",
              "богатые         18    315  0.057143\n",
              "высокий доход  357   5070  0.070414\n",
              "низкий доход   413   5264  0.078457\n",
              "средний класс  953  10805  0.088200"
            ]
          },
          "metadata": {},
          "output_type": "display_data"
        }
      ],
      "source": [
        "income_debt = data.pivot_table(index=['income_id'], \n",
        "                              values='debt', \n",
        "                              aggfunc=['sum', 'count', 'mean'])\n",
        "\n",
        "display(income_debt)"
      ]
    },
    {
      "cell_type": "markdown",
      "metadata": {
        "id": "gOtIu4xc3AWn"
      },
      "source": [
        "**Вывод**"
      ]
    },
    {
      "cell_type": "markdown",
      "metadata": {
        "id": "ZJ1Egg7b3AWn"
      },
      "source": [
        "Богатые и бедные в целом платят по кредитам аккуратнее чем средний класс, но разницу нельзя назвать значительной, потому что выборка богатых относительно невелика, а разница в \"плохих\" возвратах между низким и высоким доходом составляет тысячные доли. "
      ]
    },
    {
      "cell_type": "markdown",
      "metadata": {
        "id": "-XEd8Cau3AWn"
      },
      "source": [
        "- **Как разные цели кредита влияют на его возврат в срок?**"
      ]
    },
    {
      "cell_type": "code",
      "execution_count": null,
      "metadata": {
        "id": "jWegbtjs3AWo",
        "outputId": "05094b8f-2651-4a8d-eeed-3ea7b341f6b7"
      },
      "outputs": [
        {
          "data": {
            "text/html": [
              "<div>\n",
              "<style scoped>\n",
              "    .dataframe tbody tr th:only-of-type {\n",
              "        vertical-align: middle;\n",
              "    }\n",
              "\n",
              "    .dataframe tbody tr th {\n",
              "        vertical-align: top;\n",
              "    }\n",
              "\n",
              "    .dataframe thead tr th {\n",
              "        text-align: left;\n",
              "    }\n",
              "\n",
              "    .dataframe thead tr:last-of-type th {\n",
              "        text-align: right;\n",
              "    }\n",
              "</style>\n",
              "<table border=\"1\" class=\"dataframe\">\n",
              "  <thead>\n",
              "    <tr>\n",
              "      <th></th>\n",
              "      <th>sum</th>\n",
              "      <th>count</th>\n",
              "      <th>mean</th>\n",
              "    </tr>\n",
              "    <tr>\n",
              "      <th></th>\n",
              "      <th>debt</th>\n",
              "      <th>debt</th>\n",
              "      <th>debt</th>\n",
              "    </tr>\n",
              "    <tr>\n",
              "      <th>purpose</th>\n",
              "      <th></th>\n",
              "      <th></th>\n",
              "      <th></th>\n",
              "    </tr>\n",
              "  </thead>\n",
              "  <tbody>\n",
              "    <tr>\n",
              "      <td>автомобиль</td>\n",
              "      <td>403</td>\n",
              "      <td>4306</td>\n",
              "      <td>0.093590</td>\n",
              "    </tr>\n",
              "    <tr>\n",
              "      <td>недвижимость</td>\n",
              "      <td>782</td>\n",
              "      <td>10811</td>\n",
              "      <td>0.072334</td>\n",
              "    </tr>\n",
              "    <tr>\n",
              "      <td>образование</td>\n",
              "      <td>370</td>\n",
              "      <td>4013</td>\n",
              "      <td>0.092200</td>\n",
              "    </tr>\n",
              "    <tr>\n",
              "      <td>свадьба</td>\n",
              "      <td>186</td>\n",
              "      <td>2324</td>\n",
              "      <td>0.080034</td>\n",
              "    </tr>\n",
              "  </tbody>\n",
              "</table>\n",
              "</div>"
            ],
            "text/plain": [
              "              sum  count      mean\n",
              "             debt   debt      debt\n",
              "purpose                           \n",
              "автомобиль    403   4306  0.093590\n",
              "недвижимость  782  10811  0.072334\n",
              "образование   370   4013  0.092200\n",
              "свадьба       186   2324  0.080034"
            ]
          },
          "metadata": {},
          "output_type": "display_data"
        }
      ],
      "source": [
        "purpose_debt = data.pivot_table(index=['purpose'], \n",
        "                              values='debt', \n",
        "                              aggfunc=['sum', 'count', 'mean'])\n",
        "display(purpose_debt)"
      ]
    },
    {
      "cell_type": "markdown",
      "metadata": {
        "id": "KwXt7M6G3AWo"
      },
      "source": [
        "**Вывод**"
      ]
    },
    {
      "cell_type": "markdown",
      "metadata": {
        "id": "UojKUANh3AWp"
      },
      "source": [
        "самые надежные для банка кредитные цели недвижимость и (неожиданно) свадьба. А те кто берет кредит на образование или автомобиль чаще попадают в список debt "
      ]
    },
    {
      "cell_type": "markdown",
      "metadata": {
        "id": "-SqP1Oft3AWp"
      },
      "source": [
        "## Шаг 4. Общий вывод"
      ]
    },
    {
      "cell_type": "markdown",
      "metadata": {
        "id": "Dxgo29qR3AWp"
      },
      "source": [
        "Мы сформировали перечень коэффициентов, которые можно использовать в системе скоринга заказчика. \n",
        "\n",
        "Наибольшее доверие вызывают коэффициенты основанные на возрасте заемщиков, семейном положении, наличии детей. Так же стоит обратить внимание на результаты влияния возраста заемщиков - этого запроса не было в задаче, но гипотеза о его влиянии на возвраты подтвердилась. \n",
        "\n",
        "Данные о доходе и трудовом стаже изначально содержали большой объем (10%) пропущенных значений. Исследование не подтвердило зависимость между доходом заемщика и аккуратностью возврата. \n",
        "\n",
        "Данные можно исследовать глубже:\n",
        "1. Выделить подкатегории в целях кредита:\n",
        "- автомобиль (новый / подержанный), \n",
        "- образование (высшее, дополнительное), \n",
        "- недвижимость (жилую/коммерческую).\n",
        "\n",
        "2. Влияние сочетаний параметров, например:\n",
        "- возраст заемщика + цель кредита \n",
        "- наличие детей + доходы и т.п. \n",
        "В этом случае можем получить более точные прогнозы возврата, но хорошо бы иметь выборку побольше, т.к. часть сочетаний в этой выборке - нерепрезентативна. \n",
        "\n",
        "\n",
        "\n"
      ]
    }
  ],
  "metadata": {
    "ExecuteTimeLog": [
      {
        "duration": 222,
        "start_time": "2022-01-16T11:46:26.496Z"
      },
      {
        "duration": 564,
        "start_time": "2022-01-16T11:46:38.385Z"
      },
      {
        "duration": 48,
        "start_time": "2022-01-16T12:56:41.701Z"
      },
      {
        "duration": 17,
        "start_time": "2022-01-16T12:57:43.993Z"
      },
      {
        "duration": 11,
        "start_time": "2022-01-16T13:10:40.058Z"
      },
      {
        "duration": 11,
        "start_time": "2022-01-16T13:11:03.082Z"
      },
      {
        "duration": 202,
        "start_time": "2022-01-16T13:34:22.780Z"
      },
      {
        "duration": 10,
        "start_time": "2022-01-16T13:35:43.173Z"
      },
      {
        "duration": 16,
        "start_time": "2022-01-16T13:36:24.053Z"
      },
      {
        "duration": 9,
        "start_time": "2022-01-16T13:37:14.714Z"
      },
      {
        "duration": 3847,
        "start_time": "2022-01-16T13:42:56.189Z"
      },
      {
        "duration": 7,
        "start_time": "2022-01-16T13:45:44.026Z"
      },
      {
        "duration": 22,
        "start_time": "2022-01-16T13:45:57.631Z"
      },
      {
        "duration": 18,
        "start_time": "2022-01-16T13:46:22.060Z"
      },
      {
        "duration": 11,
        "start_time": "2022-01-16T13:59:50.080Z"
      },
      {
        "duration": 11,
        "start_time": "2022-01-16T13:59:58.207Z"
      },
      {
        "duration": 15,
        "start_time": "2022-01-16T14:00:26.596Z"
      },
      {
        "duration": 209,
        "start_time": "2022-01-16T16:26:01.756Z"
      },
      {
        "duration": 198,
        "start_time": "2022-01-16T16:40:54.128Z"
      },
      {
        "duration": 4640,
        "start_time": "2022-01-16T16:41:57.174Z"
      },
      {
        "duration": 5,
        "start_time": "2022-01-16T16:42:28.173Z"
      },
      {
        "duration": 195,
        "start_time": "2022-01-16T16:43:03.800Z"
      },
      {
        "duration": 188,
        "start_time": "2022-01-16T16:43:16.859Z"
      },
      {
        "duration": 181,
        "start_time": "2022-01-16T16:45:40.549Z"
      },
      {
        "duration": 4,
        "start_time": "2022-01-16T16:46:01.239Z"
      },
      {
        "duration": 10,
        "start_time": "2022-01-16T16:58:03.627Z"
      },
      {
        "duration": 188,
        "start_time": "2022-01-16T16:58:48.055Z"
      },
      {
        "duration": 11,
        "start_time": "2022-01-16T17:00:48.470Z"
      },
      {
        "duration": 4,
        "start_time": "2022-01-16T17:01:13.935Z"
      },
      {
        "duration": 214,
        "start_time": "2022-01-16T17:02:01.775Z"
      },
      {
        "duration": 11,
        "start_time": "2022-01-16T17:03:12.605Z"
      },
      {
        "duration": 19,
        "start_time": "2022-01-16T17:04:49.965Z"
      },
      {
        "duration": 11,
        "start_time": "2022-01-16T17:24:37.499Z"
      },
      {
        "duration": 11,
        "start_time": "2022-01-16T17:24:51.152Z"
      },
      {
        "duration": 176,
        "start_time": "2022-01-16T17:41:58.992Z"
      },
      {
        "duration": 5,
        "start_time": "2022-01-16T17:48:07.746Z"
      },
      {
        "duration": 537,
        "start_time": "2022-01-16T17:48:33.256Z"
      },
      {
        "duration": 18,
        "start_time": "2022-01-16T17:48:33.794Z"
      },
      {
        "duration": 9,
        "start_time": "2022-01-16T17:48:33.816Z"
      },
      {
        "duration": 19,
        "start_time": "2022-01-16T17:48:33.826Z"
      },
      {
        "duration": 4,
        "start_time": "2022-01-16T17:48:33.847Z"
      },
      {
        "duration": 251,
        "start_time": "2022-01-16T17:48:33.852Z"
      },
      {
        "duration": -1343,
        "start_time": "2022-01-16T17:48:35.448Z"
      },
      {
        "duration": 61,
        "start_time": "2022-01-16T17:51:22.651Z"
      },
      {
        "duration": 5,
        "start_time": "2022-01-16T17:51:29.182Z"
      },
      {
        "duration": 194,
        "start_time": "2022-01-16T17:54:05.497Z"
      },
      {
        "duration": 5,
        "start_time": "2022-01-16T17:54:27.680Z"
      },
      {
        "duration": 352,
        "start_time": "2022-01-16T17:55:40.566Z"
      },
      {
        "duration": 7,
        "start_time": "2022-01-16T17:56:41.554Z"
      },
      {
        "duration": 65,
        "start_time": "2022-01-16T18:13:40.839Z"
      },
      {
        "duration": 57,
        "start_time": "2022-01-16T18:13:45.924Z"
      },
      {
        "duration": 6,
        "start_time": "2022-01-16T18:13:49.425Z"
      },
      {
        "duration": 7,
        "start_time": "2022-01-16T18:14:24.841Z"
      },
      {
        "duration": 8,
        "start_time": "2022-01-16T18:15:53.545Z"
      },
      {
        "duration": 6,
        "start_time": "2022-01-16T18:16:20.834Z"
      },
      {
        "duration": 6,
        "start_time": "2022-01-16T18:16:48.190Z"
      },
      {
        "duration": 6,
        "start_time": "2022-01-16T18:17:24.131Z"
      },
      {
        "duration": 6,
        "start_time": "2022-01-16T18:17:51.141Z"
      },
      {
        "duration": 23,
        "start_time": "2022-01-16T18:20:45.479Z"
      },
      {
        "duration": 11,
        "start_time": "2022-01-16T18:30:36.014Z"
      },
      {
        "duration": 8,
        "start_time": "2022-01-16T18:31:12.398Z"
      },
      {
        "duration": 198,
        "start_time": "2022-01-16T18:47:16.091Z"
      },
      {
        "duration": 235,
        "start_time": "2022-01-16T18:47:44.197Z"
      },
      {
        "duration": 201,
        "start_time": "2022-01-16T18:48:07.022Z"
      },
      {
        "duration": 5,
        "start_time": "2022-01-16T18:48:21.767Z"
      },
      {
        "duration": 6,
        "start_time": "2022-01-16T18:49:30.478Z"
      },
      {
        "duration": 199,
        "start_time": "2022-01-16T18:51:07.418Z"
      },
      {
        "duration": 7,
        "start_time": "2022-01-16T18:51:30.915Z"
      },
      {
        "duration": 5,
        "start_time": "2022-01-16T18:51:46.238Z"
      },
      {
        "duration": 7,
        "start_time": "2022-01-16T18:52:03.636Z"
      },
      {
        "duration": 4,
        "start_time": "2022-01-16T18:52:24.621Z"
      },
      {
        "duration": 4,
        "start_time": "2022-01-16T18:52:42.863Z"
      },
      {
        "duration": 9,
        "start_time": "2022-01-16T18:56:00.938Z"
      },
      {
        "duration": 7,
        "start_time": "2022-01-16T19:02:56.796Z"
      },
      {
        "duration": -1253,
        "start_time": "2022-01-16T19:07:24.646Z"
      },
      {
        "duration": 26,
        "start_time": "2022-01-16T19:07:38.933Z"
      },
      {
        "duration": 18,
        "start_time": "2022-01-16T19:08:00.031Z"
      },
      {
        "duration": 5,
        "start_time": "2022-01-16T19:10:41.775Z"
      },
      {
        "duration": 5,
        "start_time": "2022-01-16T19:10:55.767Z"
      },
      {
        "duration": 179,
        "start_time": "2022-01-16T19:12:29.474Z"
      },
      {
        "duration": 10,
        "start_time": "2022-01-16T19:12:40.537Z"
      },
      {
        "duration": 13,
        "start_time": "2022-01-16T19:13:14.325Z"
      },
      {
        "duration": 8,
        "start_time": "2022-01-16T19:13:30.862Z"
      },
      {
        "duration": 11,
        "start_time": "2022-01-16T19:14:14.125Z"
      },
      {
        "duration": 8,
        "start_time": "2022-01-16T19:14:26.622Z"
      },
      {
        "duration": 7,
        "start_time": "2022-01-16T19:16:59.871Z"
      },
      {
        "duration": 6,
        "start_time": "2022-01-16T19:17:10.697Z"
      },
      {
        "duration": 14,
        "start_time": "2022-01-16T19:17:24.699Z"
      },
      {
        "duration": 8,
        "start_time": "2022-01-16T19:17:33.540Z"
      },
      {
        "duration": 9,
        "start_time": "2022-01-16T19:17:41.661Z"
      },
      {
        "duration": 9,
        "start_time": "2022-01-16T19:18:00.715Z"
      },
      {
        "duration": 19,
        "start_time": "2022-01-16T19:18:50.652Z"
      },
      {
        "duration": 7,
        "start_time": "2022-01-16T19:19:27.715Z"
      },
      {
        "duration": 4,
        "start_time": "2022-01-16T19:20:10.265Z"
      },
      {
        "duration": 7,
        "start_time": "2022-01-16T19:20:34.636Z"
      },
      {
        "duration": 4,
        "start_time": "2022-01-16T19:20:54.372Z"
      },
      {
        "duration": 9,
        "start_time": "2022-01-16T19:21:09.828Z"
      },
      {
        "duration": 5,
        "start_time": "2022-01-16T19:21:20.844Z"
      },
      {
        "duration": 6,
        "start_time": "2022-01-16T19:21:30.587Z"
      },
      {
        "duration": 18,
        "start_time": "2022-01-16T19:22:12.025Z"
      },
      {
        "duration": 10,
        "start_time": "2022-01-16T19:24:22.162Z"
      },
      {
        "duration": 9,
        "start_time": "2022-01-16T19:27:22.886Z"
      },
      {
        "duration": 9,
        "start_time": "2022-01-16T19:30:55.625Z"
      },
      {
        "duration": 5,
        "start_time": "2022-01-16T19:32:50.892Z"
      },
      {
        "duration": 7,
        "start_time": "2022-01-16T19:35:18.906Z"
      },
      {
        "duration": 70,
        "start_time": "2022-01-16T19:35:54.453Z"
      },
      {
        "duration": 174,
        "start_time": "2022-01-16T19:36:04.567Z"
      },
      {
        "duration": 4,
        "start_time": "2022-01-16T19:36:23.704Z"
      },
      {
        "duration": 570,
        "start_time": "2022-01-16T19:44:31.216Z"
      },
      {
        "duration": 15,
        "start_time": "2022-01-16T19:44:31.788Z"
      },
      {
        "duration": 8,
        "start_time": "2022-01-16T19:44:31.805Z"
      },
      {
        "duration": 12,
        "start_time": "2022-01-16T19:44:31.814Z"
      },
      {
        "duration": 4,
        "start_time": "2022-01-16T19:44:31.827Z"
      },
      {
        "duration": 9,
        "start_time": "2022-01-16T19:44:31.832Z"
      },
      {
        "duration": 54,
        "start_time": "2022-01-16T19:46:46.500Z"
      },
      {
        "duration": 47,
        "start_time": "2022-01-16T19:47:31.685Z"
      },
      {
        "duration": 4,
        "start_time": "2022-01-16T19:49:00.117Z"
      },
      {
        "duration": 20,
        "start_time": "2022-01-16T19:50:20.514Z"
      },
      {
        "duration": 8,
        "start_time": "2022-01-16T19:50:40.703Z"
      },
      {
        "duration": 5,
        "start_time": "2022-01-16T19:51:07.270Z"
      },
      {
        "duration": 294,
        "start_time": "2022-01-17T11:04:05.008Z"
      },
      {
        "duration": 276,
        "start_time": "2022-01-17T11:21:30.158Z"
      },
      {
        "duration": 1803,
        "start_time": "2022-01-17T11:22:02.704Z"
      },
      {
        "duration": 813,
        "start_time": "2022-01-17T11:22:30.306Z"
      },
      {
        "duration": 27,
        "start_time": "2022-01-17T11:22:31.121Z"
      },
      {
        "duration": 690,
        "start_time": "2022-01-17T11:23:59.825Z"
      },
      {
        "duration": 18,
        "start_time": "2022-01-17T11:24:00.518Z"
      },
      {
        "duration": 684,
        "start_time": "2022-01-17T11:25:30.525Z"
      },
      {
        "duration": 18,
        "start_time": "2022-01-17T11:25:31.211Z"
      },
      {
        "duration": 656,
        "start_time": "2022-01-17T11:42:41.194Z"
      },
      {
        "duration": 19,
        "start_time": "2022-01-17T11:42:41.854Z"
      },
      {
        "duration": 2716,
        "start_time": "2022-01-17T11:42:41.874Z"
      },
      {
        "duration": 14,
        "start_time": "2022-01-17T11:42:44.591Z"
      },
      {
        "duration": 10,
        "start_time": "2022-01-17T11:42:44.607Z"
      },
      {
        "duration": 25,
        "start_time": "2022-01-17T11:42:44.618Z"
      },
      {
        "duration": 6,
        "start_time": "2022-01-17T13:44:40.660Z"
      },
      {
        "duration": 27,
        "start_time": "2022-01-17T14:42:46.275Z"
      },
      {
        "duration": 15,
        "start_time": "2022-01-17T14:43:04.670Z"
      },
      {
        "duration": 8,
        "start_time": "2022-01-17T14:43:40.940Z"
      },
      {
        "duration": 488,
        "start_time": "2022-01-17T14:50:20.094Z"
      },
      {
        "duration": 347,
        "start_time": "2022-01-17T18:22:51.980Z"
      },
      {
        "duration": 584,
        "start_time": "2022-01-17T18:23:08.440Z"
      },
      {
        "duration": 16,
        "start_time": "2022-01-17T18:23:09.026Z"
      },
      {
        "duration": 3024,
        "start_time": "2022-01-17T18:23:09.044Z"
      },
      {
        "duration": 9,
        "start_time": "2022-01-17T18:23:12.070Z"
      },
      {
        "duration": 479,
        "start_time": "2022-01-17T18:23:12.091Z"
      },
      {
        "duration": 6,
        "start_time": "2022-01-17T18:23:12.572Z"
      },
      {
        "duration": 8,
        "start_time": "2022-01-17T18:23:12.592Z"
      },
      {
        "duration": 4797,
        "start_time": "2022-01-17T18:23:12.603Z"
      },
      {
        "duration": 169,
        "start_time": "2022-01-17T18:23:50.643Z"
      },
      {
        "duration": 53,
        "start_time": "2022-01-17T18:25:04.251Z"
      },
      {
        "duration": 66,
        "start_time": "2022-01-17T18:25:17.812Z"
      },
      {
        "duration": 4302,
        "start_time": "2022-01-17T18:25:37.816Z"
      },
      {
        "duration": 171,
        "start_time": "2022-01-17T18:34:31.350Z"
      },
      {
        "duration": 106,
        "start_time": "2022-01-18T07:18:48.735Z"
      },
      {
        "duration": 373,
        "start_time": "2022-01-18T07:23:37.278Z"
      },
      {
        "duration": 1133,
        "start_time": "2022-01-18T07:23:47.846Z"
      },
      {
        "duration": 12,
        "start_time": "2022-01-18T07:23:48.981Z"
      },
      {
        "duration": 6,
        "start_time": "2022-01-18T07:23:48.995Z"
      },
      {
        "duration": 449,
        "start_time": "2022-01-18T07:23:49.003Z"
      },
      {
        "duration": 8354,
        "start_time": "2022-01-18T07:23:49.454Z"
      },
      {
        "duration": -75,
        "start_time": "2022-01-18T07:23:57.885Z"
      },
      {
        "duration": -78,
        "start_time": "2022-01-18T07:23:57.889Z"
      },
      {
        "duration": -81,
        "start_time": "2022-01-18T07:23:57.893Z"
      },
      {
        "duration": 8,
        "start_time": "2022-01-18T07:25:18.724Z"
      },
      {
        "duration": 7,
        "start_time": "2022-01-18T07:26:00.923Z"
      },
      {
        "duration": 8789,
        "start_time": "2022-01-18T07:31:43.974Z"
      },
      {
        "duration": 6,
        "start_time": "2022-01-18T07:32:20.006Z"
      },
      {
        "duration": 5,
        "start_time": "2022-01-18T07:37:53.742Z"
      },
      {
        "duration": 116,
        "start_time": "2022-01-18T08:06:21.992Z"
      },
      {
        "duration": 3,
        "start_time": "2022-01-18T08:48:29.726Z"
      },
      {
        "duration": 450,
        "start_time": "2022-01-18T09:16:08.444Z"
      },
      {
        "duration": 455,
        "start_time": "2022-01-18T09:16:30.965Z"
      },
      {
        "duration": 446,
        "start_time": "2022-01-18T09:16:55.966Z"
      },
      {
        "duration": 437,
        "start_time": "2022-01-18T09:18:02.254Z"
      },
      {
        "duration": 428,
        "start_time": "2022-01-18T09:18:25.142Z"
      },
      {
        "duration": 8813,
        "start_time": "2022-01-18T09:28:34.115Z"
      },
      {
        "duration": 111,
        "start_time": "2022-01-18T09:28:59.350Z"
      },
      {
        "duration": 8793,
        "start_time": "2022-01-18T09:33:58.935Z"
      },
      {
        "duration": 327,
        "start_time": "2022-01-18T11:38:13.730Z"
      },
      {
        "duration": 316,
        "start_time": "2022-01-18T11:38:42.625Z"
      },
      {
        "duration": 245,
        "start_time": "2022-01-18T11:43:30.195Z"
      },
      {
        "duration": 368,
        "start_time": "2022-01-18T11:43:38.635Z"
      },
      {
        "duration": 345,
        "start_time": "2022-01-18T11:43:55.155Z"
      },
      {
        "duration": 441,
        "start_time": "2022-01-18T11:44:39.876Z"
      },
      {
        "duration": 19785,
        "start_time": "2022-01-18T11:49:48.256Z"
      },
      {
        "duration": 322,
        "start_time": "2022-01-18T12:22:04.397Z"
      },
      {
        "duration": 2118,
        "start_time": "2022-01-18T12:31:00.140Z"
      },
      {
        "duration": 361,
        "start_time": "2022-01-18T12:39:07.144Z"
      },
      {
        "duration": 352,
        "start_time": "2022-01-18T12:39:30.889Z"
      },
      {
        "duration": 108,
        "start_time": "2022-01-18T12:39:58.936Z"
      },
      {
        "duration": 108,
        "start_time": "2022-01-18T12:42:04.426Z"
      },
      {
        "duration": 317,
        "start_time": "2022-01-18T12:42:19.298Z"
      },
      {
        "duration": 1107,
        "start_time": "2022-01-18T12:42:41.768Z"
      },
      {
        "duration": 12,
        "start_time": "2022-01-18T12:42:42.877Z"
      },
      {
        "duration": 8,
        "start_time": "2022-01-18T12:42:42.893Z"
      },
      {
        "duration": 427,
        "start_time": "2022-01-18T12:42:42.902Z"
      },
      {
        "duration": 8,
        "start_time": "2022-01-18T12:42:43.331Z"
      },
      {
        "duration": 5,
        "start_time": "2022-01-18T12:42:43.340Z"
      },
      {
        "duration": 4,
        "start_time": "2022-01-18T12:42:43.347Z"
      },
      {
        "duration": 20077,
        "start_time": "2022-01-18T12:42:43.352Z"
      },
      {
        "duration": 416,
        "start_time": "2022-01-18T12:44:42.464Z"
      },
      {
        "duration": 1162,
        "start_time": "2022-01-18T12:45:51.809Z"
      },
      {
        "duration": 14,
        "start_time": "2022-01-18T12:45:52.973Z"
      },
      {
        "duration": 9,
        "start_time": "2022-01-18T12:45:52.989Z"
      },
      {
        "duration": 447,
        "start_time": "2022-01-18T12:45:53.000Z"
      },
      {
        "duration": 8,
        "start_time": "2022-01-18T12:45:53.449Z"
      },
      {
        "duration": 13,
        "start_time": "2022-01-18T12:45:53.459Z"
      },
      {
        "duration": 13,
        "start_time": "2022-01-18T12:45:53.474Z"
      },
      {
        "duration": 19720,
        "start_time": "2022-01-18T12:45:53.489Z"
      },
      {
        "duration": 102,
        "start_time": "2022-01-18T12:46:13.211Z"
      },
      {
        "duration": 4,
        "start_time": "2022-01-18T12:47:00.145Z"
      },
      {
        "duration": 417,
        "start_time": "2022-01-18T12:47:28.330Z"
      },
      {
        "duration": 318,
        "start_time": "2022-01-18T12:47:38.481Z"
      },
      {
        "duration": 8,
        "start_time": "2022-01-18T12:48:13.788Z"
      },
      {
        "duration": 5,
        "start_time": "2022-01-18T12:48:53.570Z"
      },
      {
        "duration": 361,
        "start_time": "2022-01-18T12:51:13.012Z"
      },
      {
        "duration": 389,
        "start_time": "2022-01-18T12:52:12.054Z"
      },
      {
        "duration": 4,
        "start_time": "2022-01-18T12:52:51.997Z"
      },
      {
        "duration": 3,
        "start_time": "2022-01-18T12:53:03.045Z"
      },
      {
        "duration": 4,
        "start_time": "2022-01-18T13:00:06.681Z"
      },
      {
        "duration": 321,
        "start_time": "2022-01-18T13:00:58.545Z"
      },
      {
        "duration": 328,
        "start_time": "2022-01-18T13:01:05.889Z"
      },
      {
        "duration": 29,
        "start_time": "2022-01-18T13:02:38.138Z"
      },
      {
        "duration": 24,
        "start_time": "2022-01-18T13:03:34.979Z"
      },
      {
        "duration": 31,
        "start_time": "2022-01-18T13:04:16.211Z"
      },
      {
        "duration": 10851,
        "start_time": "2022-01-18T13:14:51.617Z"
      },
      {
        "duration": 347,
        "start_time": "2022-01-18T13:22:22.950Z"
      },
      {
        "duration": 130,
        "start_time": "2022-01-18T13:26:55.791Z"
      },
      {
        "duration": 108,
        "start_time": "2022-01-18T13:31:00.962Z"
      },
      {
        "duration": 336,
        "start_time": "2022-01-18T13:31:09.953Z"
      },
      {
        "duration": 332,
        "start_time": "2022-01-18T13:33:52.435Z"
      },
      {
        "duration": 345,
        "start_time": "2022-01-18T13:34:02.827Z"
      },
      {
        "duration": 324,
        "start_time": "2022-01-18T14:16:52.119Z"
      },
      {
        "duration": 386,
        "start_time": "2022-01-18T14:17:09.075Z"
      },
      {
        "duration": 380,
        "start_time": "2022-01-18T14:44:19.481Z"
      },
      {
        "duration": 124,
        "start_time": "2022-01-18T14:52:01.324Z"
      },
      {
        "duration": 4,
        "start_time": "2022-01-18T14:52:11.204Z"
      },
      {
        "duration": 318,
        "start_time": "2022-01-18T18:22:36.787Z"
      },
      {
        "duration": 2151,
        "start_time": "2022-01-18T18:22:52.431Z"
      },
      {
        "duration": 31,
        "start_time": "2022-01-18T18:22:54.586Z"
      },
      {
        "duration": 13,
        "start_time": "2022-01-18T18:22:54.621Z"
      },
      {
        "duration": 699,
        "start_time": "2022-01-18T18:22:54.637Z"
      },
      {
        "duration": 12,
        "start_time": "2022-01-18T18:22:55.339Z"
      },
      {
        "duration": 7,
        "start_time": "2022-01-18T18:22:55.369Z"
      },
      {
        "duration": 8,
        "start_time": "2022-01-18T18:22:55.379Z"
      },
      {
        "duration": 32492,
        "start_time": "2022-01-18T18:22:55.390Z"
      },
      {
        "duration": 404,
        "start_time": "2022-01-18T18:23:27.886Z"
      },
      {
        "duration": 277,
        "start_time": "2022-01-18T18:26:56.358Z"
      },
      {
        "duration": 270,
        "start_time": "2022-01-18T18:27:10.814Z"
      },
      {
        "duration": 277,
        "start_time": "2022-01-18T18:28:41.366Z"
      },
      {
        "duration": 1129,
        "start_time": "2022-01-18T18:31:11.849Z"
      },
      {
        "duration": 312,
        "start_time": "2022-01-18T18:32:22.982Z"
      },
      {
        "duration": 299,
        "start_time": "2022-01-18T18:32:39.119Z"
      },
      {
        "duration": 274,
        "start_time": "2022-01-18T18:32:44.243Z"
      },
      {
        "duration": 1528,
        "start_time": "2022-01-18T18:33:04.327Z"
      },
      {
        "duration": 25,
        "start_time": "2022-01-18T18:33:05.859Z"
      },
      {
        "duration": 12,
        "start_time": "2022-01-18T18:33:05.887Z"
      },
      {
        "duration": 717,
        "start_time": "2022-01-18T18:33:05.902Z"
      },
      {
        "duration": 12,
        "start_time": "2022-01-18T18:33:06.621Z"
      },
      {
        "duration": 8,
        "start_time": "2022-01-18T18:33:06.635Z"
      },
      {
        "duration": 35,
        "start_time": "2022-01-18T18:33:06.645Z"
      },
      {
        "duration": 33778,
        "start_time": "2022-01-18T18:33:06.683Z"
      },
      {
        "duration": 1179,
        "start_time": "2022-01-18T18:33:40.468Z"
      },
      {
        "duration": 1673,
        "start_time": "2022-01-18T18:34:49.583Z"
      },
      {
        "duration": 25,
        "start_time": "2022-01-18T18:34:51.259Z"
      },
      {
        "duration": 30,
        "start_time": "2022-01-18T18:34:51.288Z"
      },
      {
        "duration": 677,
        "start_time": "2022-01-18T18:34:51.322Z"
      },
      {
        "duration": 11,
        "start_time": "2022-01-18T18:34:52.001Z"
      },
      {
        "duration": 19,
        "start_time": "2022-01-18T18:34:52.014Z"
      },
      {
        "duration": 39,
        "start_time": "2022-01-18T18:34:52.036Z"
      },
      {
        "duration": 464,
        "start_time": "2022-01-18T18:34:52.078Z"
      },
      {
        "duration": -3835,
        "start_time": "2022-01-18T18:34:56.379Z"
      },
      {
        "duration": 344,
        "start_time": "2022-01-18T18:42:44.873Z"
      },
      {
        "duration": 1697,
        "start_time": "2022-01-18T18:42:52.042Z"
      },
      {
        "duration": 21,
        "start_time": "2022-01-18T18:42:53.742Z"
      },
      {
        "duration": 13,
        "start_time": "2022-01-18T18:42:53.772Z"
      },
      {
        "duration": 827,
        "start_time": "2022-01-18T18:42:53.788Z"
      },
      {
        "duration": 12,
        "start_time": "2022-01-18T18:42:54.617Z"
      },
      {
        "duration": 7,
        "start_time": "2022-01-18T18:42:54.631Z"
      },
      {
        "duration": 32,
        "start_time": "2022-01-18T18:42:54.641Z"
      },
      {
        "duration": 33757,
        "start_time": "2022-01-18T18:42:54.677Z"
      },
      {
        "duration": 1279,
        "start_time": "2022-01-18T18:43:28.436Z"
      },
      {
        "duration": 283,
        "start_time": "2022-01-18T18:44:48.774Z"
      },
      {
        "duration": 111,
        "start_time": "2022-01-18T18:49:05.211Z"
      },
      {
        "duration": 925,
        "start_time": "2022-01-18T18:49:32.266Z"
      },
      {
        "duration": 612,
        "start_time": "2022-01-18T18:50:11.963Z"
      },
      {
        "duration": 689,
        "start_time": "2022-01-18T18:52:11.339Z"
      },
      {
        "duration": 605,
        "start_time": "2022-01-18T18:52:17.337Z"
      },
      {
        "duration": 86,
        "start_time": "2022-01-18T18:55:45.794Z"
      },
      {
        "duration": 1610,
        "start_time": "2022-01-18T18:58:07.734Z"
      },
      {
        "duration": 24,
        "start_time": "2022-01-18T18:58:09.347Z"
      },
      {
        "duration": 17,
        "start_time": "2022-01-18T18:58:09.375Z"
      },
      {
        "duration": 838,
        "start_time": "2022-01-18T18:58:09.396Z"
      },
      {
        "duration": 13,
        "start_time": "2022-01-18T18:58:10.238Z"
      },
      {
        "duration": 24,
        "start_time": "2022-01-18T18:58:10.253Z"
      },
      {
        "duration": 17,
        "start_time": "2022-01-18T18:58:10.280Z"
      },
      {
        "duration": 34958,
        "start_time": "2022-01-18T18:58:10.300Z"
      },
      {
        "duration": 29809,
        "start_time": "2022-01-18T18:58:45.261Z"
      },
      {
        "duration": 30035,
        "start_time": "2022-01-18T19:00:14.921Z"
      },
      {
        "duration": 92,
        "start_time": "2022-01-18T19:03:20.351Z"
      },
      {
        "duration": 120,
        "start_time": "2022-01-18T19:03:59.865Z"
      },
      {
        "duration": 284,
        "start_time": "2022-01-18T19:04:11.620Z"
      },
      {
        "duration": 285,
        "start_time": "2022-01-18T19:04:58.366Z"
      },
      {
        "duration": 101,
        "start_time": "2022-01-18T19:08:28.047Z"
      },
      {
        "duration": 88,
        "start_time": "2022-01-18T19:08:59.902Z"
      },
      {
        "duration": 26101,
        "start_time": "2022-01-18T19:09:19.874Z"
      },
      {
        "duration": 25928,
        "start_time": "2022-01-18T19:10:32.479Z"
      },
      {
        "duration": 96,
        "start_time": "2022-01-18T19:29:14.341Z"
      },
      {
        "duration": 485,
        "start_time": "2022-01-18T19:29:26.747Z"
      },
      {
        "duration": 277,
        "start_time": "2022-01-18T19:34:35.069Z"
      },
      {
        "duration": 469,
        "start_time": "2022-01-18T19:34:57.418Z"
      },
      {
        "duration": 470,
        "start_time": "2022-01-18T19:35:22.502Z"
      },
      {
        "duration": 480,
        "start_time": "2022-01-18T19:36:13.956Z"
      },
      {
        "duration": 483,
        "start_time": "2022-01-18T19:37:23.540Z"
      },
      {
        "duration": 466,
        "start_time": "2022-01-18T19:38:08.427Z"
      },
      {
        "duration": 16,
        "start_time": "2022-01-18T19:39:15.277Z"
      },
      {
        "duration": 14,
        "start_time": "2022-01-18T19:39:42.212Z"
      },
      {
        "duration": 16,
        "start_time": "2022-01-18T19:43:37.588Z"
      },
      {
        "duration": 304,
        "start_time": "2022-01-18T19:44:41.256Z"
      },
      {
        "duration": 1596,
        "start_time": "2022-01-18T19:44:54.751Z"
      },
      {
        "duration": 23,
        "start_time": "2022-01-18T19:44:56.351Z"
      },
      {
        "duration": 20,
        "start_time": "2022-01-18T19:44:56.377Z"
      },
      {
        "duration": 709,
        "start_time": "2022-01-18T19:44:56.400Z"
      },
      {
        "duration": 13,
        "start_time": "2022-01-18T19:44:57.113Z"
      },
      {
        "duration": 10,
        "start_time": "2022-01-18T19:44:57.129Z"
      },
      {
        "duration": 35,
        "start_time": "2022-01-18T19:44:57.141Z"
      },
      {
        "duration": 14982,
        "start_time": "2022-01-18T19:44:57.180Z"
      },
      {
        "duration": 24,
        "start_time": "2022-01-18T19:45:12.165Z"
      },
      {
        "duration": 631,
        "start_time": "2022-01-18T19:45:12.191Z"
      },
      {
        "duration": 14,
        "start_time": "2022-01-18T19:45:33.206Z"
      },
      {
        "duration": 477,
        "start_time": "2022-01-18T19:45:45.223Z"
      },
      {
        "duration": 470,
        "start_time": "2022-01-18T19:48:08.883Z"
      },
      {
        "duration": 469,
        "start_time": "2022-01-18T19:49:05.661Z"
      },
      {
        "duration": 286,
        "start_time": "2022-01-18T19:49:56.101Z"
      },
      {
        "duration": 16,
        "start_time": "2022-01-18T19:51:46.347Z"
      },
      {
        "duration": 15,
        "start_time": "2022-01-18T19:52:14.719Z"
      },
      {
        "duration": 525,
        "start_time": "2022-01-18T19:52:25.830Z"
      },
      {
        "duration": 15835,
        "start_time": "2022-01-18T19:56:56.534Z"
      },
      {
        "duration": 173,
        "start_time": "2022-01-18T20:07:29.461Z"
      },
      {
        "duration": 4640,
        "start_time": "2022-01-18T20:08:52.407Z"
      },
      {
        "duration": 1259,
        "start_time": "2022-01-18T20:10:33.177Z"
      },
      {
        "duration": 1236,
        "start_time": "2022-01-18T20:11:22.670Z"
      },
      {
        "duration": 1223,
        "start_time": "2022-01-18T20:13:38.134Z"
      },
      {
        "duration": 1368,
        "start_time": "2022-01-18T20:15:09.886Z"
      },
      {
        "duration": 1710,
        "start_time": "2022-01-18T20:24:07.208Z"
      },
      {
        "duration": 21,
        "start_time": "2022-01-18T20:24:08.921Z"
      },
      {
        "duration": 27,
        "start_time": "2022-01-18T20:24:08.945Z"
      },
      {
        "duration": 702,
        "start_time": "2022-01-18T20:24:08.975Z"
      },
      {
        "duration": 11,
        "start_time": "2022-01-18T20:24:09.681Z"
      },
      {
        "duration": 7,
        "start_time": "2022-01-18T20:24:09.694Z"
      },
      {
        "duration": 6,
        "start_time": "2022-01-18T20:24:09.704Z"
      },
      {
        "duration": 14476,
        "start_time": "2022-01-18T20:24:09.714Z"
      },
      {
        "duration": 1168,
        "start_time": "2022-01-18T20:24:24.192Z"
      },
      {
        "duration": 1263,
        "start_time": "2022-01-18T20:26:59.606Z"
      },
      {
        "duration": 1668,
        "start_time": "2022-01-19T06:23:46.709Z"
      },
      {
        "duration": 21,
        "start_time": "2022-01-19T06:23:48.380Z"
      },
      {
        "duration": 24,
        "start_time": "2022-01-19T06:23:48.405Z"
      },
      {
        "duration": 696,
        "start_time": "2022-01-19T06:23:48.432Z"
      },
      {
        "duration": 10,
        "start_time": "2022-01-19T06:23:49.130Z"
      },
      {
        "duration": 8,
        "start_time": "2022-01-19T06:23:49.143Z"
      },
      {
        "duration": 9,
        "start_time": "2022-01-19T06:23:49.153Z"
      },
      {
        "duration": 13736,
        "start_time": "2022-01-19T06:23:49.165Z"
      },
      {
        "duration": 1520,
        "start_time": "2022-01-19T06:24:02.904Z"
      },
      {
        "duration": 10894,
        "start_time": "2022-01-19T06:31:54.264Z"
      },
      {
        "duration": 1994,
        "start_time": "2022-01-19T06:35:19.692Z"
      },
      {
        "duration": 1647,
        "start_time": "2022-01-19T06:35:34.724Z"
      },
      {
        "duration": 106,
        "start_time": "2022-01-19T06:40:54.976Z"
      },
      {
        "duration": 9865,
        "start_time": "2022-01-19T06:41:26.574Z"
      },
      {
        "duration": 1386,
        "start_time": "2022-01-19T06:42:19.192Z"
      },
      {
        "duration": 549,
        "start_time": "2022-01-19T10:57:53.784Z"
      },
      {
        "duration": 1556,
        "start_time": "2022-01-19T10:58:03.831Z"
      },
      {
        "duration": 21,
        "start_time": "2022-01-19T10:58:05.389Z"
      },
      {
        "duration": 18,
        "start_time": "2022-01-19T10:58:05.412Z"
      },
      {
        "duration": 713,
        "start_time": "2022-01-19T10:58:05.433Z"
      },
      {
        "duration": 11,
        "start_time": "2022-01-19T10:58:06.149Z"
      },
      {
        "duration": 9,
        "start_time": "2022-01-19T10:58:06.162Z"
      },
      {
        "duration": 8,
        "start_time": "2022-01-19T10:58:06.174Z"
      },
      {
        "duration": 15247,
        "start_time": "2022-01-19T10:58:06.224Z"
      },
      {
        "duration": 691,
        "start_time": "2022-01-19T10:58:21.475Z"
      },
      {
        "duration": 514,
        "start_time": "2022-01-19T10:59:44.321Z"
      },
      {
        "duration": 524,
        "start_time": "2022-01-19T11:00:46.745Z"
      },
      {
        "duration": 514,
        "start_time": "2022-01-19T11:01:32.705Z"
      },
      {
        "duration": 14953,
        "start_time": "2022-01-19T11:02:38.161Z"
      },
      {
        "duration": 507,
        "start_time": "2022-01-19T11:04:11.754Z"
      },
      {
        "duration": 20,
        "start_time": "2022-01-19T11:05:01.612Z"
      },
      {
        "duration": 365,
        "start_time": "2022-01-19T11:06:52.030Z"
      },
      {
        "duration": 330,
        "start_time": "2022-01-19T11:21:29.242Z"
      },
      {
        "duration": 1662,
        "start_time": "2022-01-19T11:23:27.832Z"
      },
      {
        "duration": 35,
        "start_time": "2022-01-19T11:23:29.498Z"
      },
      {
        "duration": 22,
        "start_time": "2022-01-19T11:23:29.537Z"
      },
      {
        "duration": 824,
        "start_time": "2022-01-19T11:23:29.562Z"
      },
      {
        "duration": 13,
        "start_time": "2022-01-19T11:23:30.389Z"
      },
      {
        "duration": 27,
        "start_time": "2022-01-19T11:23:30.405Z"
      },
      {
        "duration": 34,
        "start_time": "2022-01-19T11:23:30.435Z"
      },
      {
        "duration": 17364,
        "start_time": "2022-01-19T11:23:30.473Z"
      },
      {
        "duration": 45550,
        "start_time": "2022-01-19T11:23:47.839Z"
      },
      {
        "duration": 691,
        "start_time": "2022-01-19T11:24:33.392Z"
      },
      {
        "duration": 52444,
        "start_time": "2022-01-19T11:28:21.079Z"
      },
      {
        "duration": 3211,
        "start_time": "2022-01-19T12:18:29.965Z"
      },
      {
        "duration": 2313,
        "start_time": "2022-01-19T12:23:50.050Z"
      },
      {
        "duration": 105,
        "start_time": "2022-01-19T12:25:33.023Z"
      },
      {
        "duration": 53487,
        "start_time": "2022-01-19T12:27:05.196Z"
      },
      {
        "duration": 55127,
        "start_time": "2022-01-19T12:28:23.206Z"
      },
      {
        "duration": 38495,
        "start_time": "2022-01-19T13:03:16.824Z"
      },
      {
        "duration": 62369,
        "start_time": "2022-01-19T13:59:51.182Z"
      },
      {
        "duration": 100,
        "start_time": "2022-01-19T14:08:37.512Z"
      },
      {
        "duration": 5,
        "start_time": "2022-01-19T14:08:49.160Z"
      },
      {
        "duration": 5,
        "start_time": "2022-01-19T14:09:01.819Z"
      },
      {
        "duration": 6,
        "start_time": "2022-01-19T14:09:06.577Z"
      },
      {
        "duration": 7,
        "start_time": "2022-01-19T14:16:34.005Z"
      },
      {
        "duration": 5,
        "start_time": "2022-01-19T14:16:45.081Z"
      },
      {
        "duration": 36448,
        "start_time": "2022-01-19T14:25:18.763Z"
      },
      {
        "duration": 812,
        "start_time": "2022-01-19T14:28:39.399Z"
      },
      {
        "duration": 33775,
        "start_time": "2022-01-19T14:33:50.031Z"
      },
      {
        "duration": 31074,
        "start_time": "2022-01-19T14:34:51.319Z"
      },
      {
        "duration": 295,
        "start_time": "2022-01-19T14:44:37.565Z"
      },
      {
        "duration": 316,
        "start_time": "2022-01-19T14:45:07.933Z"
      },
      {
        "duration": 34821,
        "start_time": "2022-01-19T14:45:22.429Z"
      },
      {
        "duration": 33735,
        "start_time": "2022-01-19T14:50:31.344Z"
      },
      {
        "duration": 1740,
        "start_time": "2022-01-19T14:56:57.702Z"
      },
      {
        "duration": 43,
        "start_time": "2022-01-19T14:56:59.456Z"
      },
      {
        "duration": 10,
        "start_time": "2022-01-19T14:56:59.502Z"
      },
      {
        "duration": 659,
        "start_time": "2022-01-19T14:56:59.514Z"
      },
      {
        "duration": 14,
        "start_time": "2022-01-19T14:57:00.176Z"
      },
      {
        "duration": 31,
        "start_time": "2022-01-19T14:57:00.192Z"
      },
      {
        "duration": 8,
        "start_time": "2022-01-19T14:57:00.226Z"
      },
      {
        "duration": 14434,
        "start_time": "2022-01-19T14:57:00.238Z"
      },
      {
        "duration": 51250,
        "start_time": "2022-01-19T14:57:14.676Z"
      },
      {
        "duration": 1093,
        "start_time": "2022-01-19T18:18:31.372Z"
      },
      {
        "duration": 13,
        "start_time": "2022-01-19T18:18:32.467Z"
      },
      {
        "duration": 8,
        "start_time": "2022-01-19T18:18:32.481Z"
      },
      {
        "duration": 443,
        "start_time": "2022-01-19T18:18:32.491Z"
      },
      {
        "duration": 6,
        "start_time": "2022-01-19T18:18:32.935Z"
      },
      {
        "duration": 4,
        "start_time": "2022-01-19T18:18:32.943Z"
      },
      {
        "duration": 6,
        "start_time": "2022-01-19T18:18:32.949Z"
      },
      {
        "duration": 8446,
        "start_time": "2022-01-19T18:18:32.956Z"
      },
      {
        "duration": 21731,
        "start_time": "2022-01-19T18:18:41.403Z"
      },
      {
        "duration": 1129,
        "start_time": "2022-01-19T18:22:19.635Z"
      },
      {
        "duration": 12,
        "start_time": "2022-01-19T18:22:20.766Z"
      },
      {
        "duration": 9,
        "start_time": "2022-01-19T18:22:20.779Z"
      },
      {
        "duration": 443,
        "start_time": "2022-01-19T18:22:20.789Z"
      },
      {
        "duration": 7,
        "start_time": "2022-01-19T18:22:21.233Z"
      },
      {
        "duration": 7,
        "start_time": "2022-01-19T18:22:21.242Z"
      },
      {
        "duration": 6,
        "start_time": "2022-01-19T18:22:21.251Z"
      },
      {
        "duration": 510,
        "start_time": "2022-01-19T18:22:21.259Z"
      },
      {
        "duration": -5286,
        "start_time": "2022-01-19T18:22:27.057Z"
      },
      {
        "duration": -5302,
        "start_time": "2022-01-19T18:22:27.074Z"
      },
      {
        "duration": 320,
        "start_time": "2022-01-19T18:25:58.808Z"
      },
      {
        "duration": 562,
        "start_time": "2022-01-19T18:35:45.468Z"
      },
      {
        "duration": 20345,
        "start_time": "2022-01-19T18:36:21.353Z"
      },
      {
        "duration": 20570,
        "start_time": "2022-01-19T18:37:20.170Z"
      },
      {
        "duration": 360,
        "start_time": "2022-01-19T18:45:57.693Z"
      },
      {
        "duration": 1147,
        "start_time": "2022-01-19T18:46:14.118Z"
      },
      {
        "duration": 12,
        "start_time": "2022-01-19T18:46:15.267Z"
      },
      {
        "duration": 7,
        "start_time": "2022-01-19T18:46:15.281Z"
      },
      {
        "duration": 440,
        "start_time": "2022-01-19T18:46:15.289Z"
      },
      {
        "duration": 6,
        "start_time": "2022-01-19T18:46:15.731Z"
      },
      {
        "duration": 13,
        "start_time": "2022-01-19T18:46:15.739Z"
      },
      {
        "duration": 4,
        "start_time": "2022-01-19T18:46:15.753Z"
      },
      {
        "duration": 20486,
        "start_time": "2022-01-19T18:46:15.759Z"
      },
      {
        "duration": 768,
        "start_time": "2022-01-19T18:46:36.247Z"
      },
      {
        "duration": -5221,
        "start_time": "2022-01-19T18:46:42.237Z"
      },
      {
        "duration": 315,
        "start_time": "2022-01-19T18:49:31.006Z"
      },
      {
        "duration": 105,
        "start_time": "2022-01-19T18:49:48.807Z"
      },
      {
        "duration": 340,
        "start_time": "2022-01-19T18:50:01.559Z"
      },
      {
        "duration": 1120,
        "start_time": "2022-01-19T18:54:26.646Z"
      },
      {
        "duration": 13,
        "start_time": "2022-01-19T18:54:27.768Z"
      },
      {
        "duration": 8,
        "start_time": "2022-01-19T18:54:27.783Z"
      },
      {
        "duration": 461,
        "start_time": "2022-01-19T18:54:27.792Z"
      },
      {
        "duration": 7,
        "start_time": "2022-01-19T18:54:28.255Z"
      },
      {
        "duration": 5,
        "start_time": "2022-01-19T18:54:28.264Z"
      },
      {
        "duration": 10,
        "start_time": "2022-01-19T18:54:28.270Z"
      },
      {
        "duration": 20894,
        "start_time": "2022-01-19T18:54:28.281Z"
      },
      {
        "duration": 101,
        "start_time": "2022-01-19T18:54:49.177Z"
      },
      {
        "duration": -5215,
        "start_time": "2022-01-19T18:54:54.495Z"
      },
      {
        "duration": 1841,
        "start_time": "2022-01-19T18:55:42.778Z"
      },
      {
        "duration": 115,
        "start_time": "2022-01-19T18:57:39.965Z"
      },
      {
        "duration": 8248,
        "start_time": "2022-01-19T18:57:52.304Z"
      },
      {
        "duration": 106,
        "start_time": "2022-01-19T19:00:20.514Z"
      },
      {
        "duration": 7968,
        "start_time": "2022-01-19T19:00:29.892Z"
      },
      {
        "duration": 7936,
        "start_time": "2022-01-19T19:09:19.379Z"
      },
      {
        "duration": 7919,
        "start_time": "2022-01-19T19:11:44.635Z"
      },
      {
        "duration": 1126,
        "start_time": "2022-01-19T19:12:36.052Z"
      },
      {
        "duration": 12,
        "start_time": "2022-01-19T19:12:37.180Z"
      },
      {
        "duration": 17,
        "start_time": "2022-01-19T19:12:37.194Z"
      },
      {
        "duration": 425,
        "start_time": "2022-01-19T19:12:37.212Z"
      },
      {
        "duration": 13,
        "start_time": "2022-01-19T19:12:37.638Z"
      },
      {
        "duration": 28,
        "start_time": "2022-01-19T19:12:37.653Z"
      },
      {
        "duration": 37,
        "start_time": "2022-01-19T19:12:37.682Z"
      },
      {
        "duration": 21447,
        "start_time": "2022-01-19T19:12:37.721Z"
      },
      {
        "duration": 7992,
        "start_time": "2022-01-19T19:12:59.170Z"
      },
      {
        "duration": 105,
        "start_time": "2022-01-19T19:13:07.163Z"
      },
      {
        "duration": 155,
        "start_time": "2022-01-19T19:13:24.922Z"
      },
      {
        "duration": 9299,
        "start_time": "2022-01-19T19:13:32.847Z"
      },
      {
        "duration": 408,
        "start_time": "2022-01-19T19:14:33.817Z"
      },
      {
        "duration": 8107,
        "start_time": "2022-01-19T19:18:58.451Z"
      },
      {
        "duration": 1159,
        "start_time": "2022-01-19T19:19:48.613Z"
      },
      {
        "duration": 14,
        "start_time": "2022-01-19T19:19:49.774Z"
      },
      {
        "duration": 7,
        "start_time": "2022-01-19T19:19:49.790Z"
      },
      {
        "duration": 474,
        "start_time": "2022-01-19T19:19:49.799Z"
      },
      {
        "duration": 7,
        "start_time": "2022-01-19T19:19:50.275Z"
      },
      {
        "duration": 6,
        "start_time": "2022-01-19T19:19:50.283Z"
      },
      {
        "duration": 9,
        "start_time": "2022-01-19T19:19:50.290Z"
      },
      {
        "duration": 20493,
        "start_time": "2022-01-19T19:19:50.300Z"
      },
      {
        "duration": 3069,
        "start_time": "2022-01-19T19:20:10.794Z"
      },
      {
        "duration": -5192,
        "start_time": "2022-01-19T19:20:19.057Z"
      },
      {
        "duration": 1145,
        "start_time": "2022-01-19T19:20:45.657Z"
      },
      {
        "duration": 14,
        "start_time": "2022-01-19T19:20:46.804Z"
      },
      {
        "duration": 16,
        "start_time": "2022-01-19T19:20:46.820Z"
      },
      {
        "duration": 525,
        "start_time": "2022-01-19T19:20:46.838Z"
      },
      {
        "duration": 7,
        "start_time": "2022-01-19T19:20:47.364Z"
      },
      {
        "duration": 7,
        "start_time": "2022-01-19T19:20:47.373Z"
      },
      {
        "duration": 5,
        "start_time": "2022-01-19T19:20:47.382Z"
      },
      {
        "duration": 21090,
        "start_time": "2022-01-19T19:20:47.390Z"
      },
      {
        "duration": 1163,
        "start_time": "2022-01-19T19:34:15.422Z"
      },
      {
        "duration": 12,
        "start_time": "2022-01-19T19:34:16.587Z"
      },
      {
        "duration": 12,
        "start_time": "2022-01-19T19:34:16.601Z"
      },
      {
        "duration": 443,
        "start_time": "2022-01-19T19:34:16.615Z"
      },
      {
        "duration": 8,
        "start_time": "2022-01-19T19:34:17.060Z"
      },
      {
        "duration": 6,
        "start_time": "2022-01-19T19:34:17.069Z"
      },
      {
        "duration": 6,
        "start_time": "2022-01-19T19:34:17.076Z"
      },
      {
        "duration": 570,
        "start_time": "2022-01-19T19:34:17.084Z"
      },
      {
        "duration": -5574,
        "start_time": "2022-01-19T19:34:23.230Z"
      },
      {
        "duration": -5578,
        "start_time": "2022-01-19T19:34:23.235Z"
      },
      {
        "duration": -5585,
        "start_time": "2022-01-19T19:34:23.243Z"
      },
      {
        "duration": 17701,
        "start_time": "2022-01-19T19:35:21.764Z"
      },
      {
        "duration": 7,
        "start_time": "2022-01-19T19:44:15.175Z"
      },
      {
        "duration": 5,
        "start_time": "2022-01-19T19:44:57.730Z"
      },
      {
        "duration": 5,
        "start_time": "2022-01-19T19:47:00.731Z"
      },
      {
        "duration": 6,
        "start_time": "2022-01-19T19:47:15.710Z"
      },
      {
        "duration": 5,
        "start_time": "2022-01-19T19:47:22.157Z"
      },
      {
        "duration": 277,
        "start_time": "2022-01-19T19:55:10.826Z"
      },
      {
        "duration": 104,
        "start_time": "2022-01-19T19:58:27.614Z"
      },
      {
        "duration": 324,
        "start_time": "2022-01-19T19:58:45.360Z"
      },
      {
        "duration": 4248,
        "start_time": "2022-01-19T19:59:33.203Z"
      },
      {
        "duration": 658,
        "start_time": "2022-01-19T20:01:13.281Z"
      },
      {
        "duration": 8,
        "start_time": "2022-01-19T20:04:00.875Z"
      },
      {
        "duration": 6,
        "start_time": "2022-01-19T20:04:37.228Z"
      },
      {
        "duration": 1107,
        "start_time": "2022-01-19T20:04:52.966Z"
      },
      {
        "duration": 15,
        "start_time": "2022-01-19T20:04:54.075Z"
      },
      {
        "duration": 8,
        "start_time": "2022-01-19T20:04:54.092Z"
      },
      {
        "duration": 438,
        "start_time": "2022-01-19T20:04:54.102Z"
      },
      {
        "duration": 8,
        "start_time": "2022-01-19T20:04:54.541Z"
      },
      {
        "duration": 5,
        "start_time": "2022-01-19T20:04:54.551Z"
      },
      {
        "duration": 7,
        "start_time": "2022-01-19T20:04:54.557Z"
      },
      {
        "duration": 5,
        "start_time": "2022-01-19T20:04:54.566Z"
      },
      {
        "duration": 4243,
        "start_time": "2022-01-19T20:04:54.572Z"
      },
      {
        "duration": 12,
        "start_time": "2022-01-19T20:04:58.816Z"
      },
      {
        "duration": 413,
        "start_time": "2022-01-19T20:04:58.830Z"
      },
      {
        "duration": -5084,
        "start_time": "2022-01-19T20:05:04.328Z"
      },
      {
        "duration": 4449,
        "start_time": "2022-01-19T20:09:40.479Z"
      },
      {
        "duration": 3860,
        "start_time": "2022-01-19T20:10:35.879Z"
      },
      {
        "duration": 6,
        "start_time": "2022-01-19T20:11:14.837Z"
      },
      {
        "duration": 109,
        "start_time": "2022-01-19T20:15:42.664Z"
      },
      {
        "duration": 112,
        "start_time": "2022-01-19T20:16:14.522Z"
      },
      {
        "duration": 111,
        "start_time": "2022-01-19T20:16:23.635Z"
      },
      {
        "duration": 317,
        "start_time": "2022-01-19T20:16:46.634Z"
      },
      {
        "duration": 1243,
        "start_time": "2022-01-19T20:26:29.855Z"
      },
      {
        "duration": 20,
        "start_time": "2022-01-19T20:26:31.100Z"
      },
      {
        "duration": 55,
        "start_time": "2022-01-19T20:26:31.123Z"
      },
      {
        "duration": 485,
        "start_time": "2022-01-19T20:26:31.180Z"
      },
      {
        "duration": 7,
        "start_time": "2022-01-19T20:26:31.667Z"
      },
      {
        "duration": 5,
        "start_time": "2022-01-19T20:26:31.676Z"
      },
      {
        "duration": 4,
        "start_time": "2022-01-19T20:26:31.683Z"
      },
      {
        "duration": 6,
        "start_time": "2022-01-19T20:26:31.689Z"
      },
      {
        "duration": 598,
        "start_time": "2022-01-19T20:26:31.697Z"
      },
      {
        "duration": -5068,
        "start_time": "2022-01-19T20:26:37.365Z"
      },
      {
        "duration": -5072,
        "start_time": "2022-01-19T20:26:37.370Z"
      },
      {
        "duration": -5078,
        "start_time": "2022-01-19T20:26:37.377Z"
      },
      {
        "duration": 7,
        "start_time": "2022-01-19T20:29:00.346Z"
      },
      {
        "duration": 6,
        "start_time": "2022-01-19T20:29:15.648Z"
      },
      {
        "duration": 9,
        "start_time": "2022-01-19T20:29:30.709Z"
      },
      {
        "duration": 330,
        "start_time": "2022-01-19T20:30:31.982Z"
      },
      {
        "duration": 11,
        "start_time": "2022-01-19T20:30:58.933Z"
      },
      {
        "duration": 709,
        "start_time": "2022-01-19T20:31:32.377Z"
      },
      {
        "duration": 4213,
        "start_time": "2022-01-19T20:31:48.072Z"
      },
      {
        "duration": 1152,
        "start_time": "2022-01-19T20:32:08.814Z"
      },
      {
        "duration": 13,
        "start_time": "2022-01-19T20:32:09.968Z"
      },
      {
        "duration": 8,
        "start_time": "2022-01-19T20:32:09.985Z"
      },
      {
        "duration": 454,
        "start_time": "2022-01-19T20:32:09.994Z"
      },
      {
        "duration": 6,
        "start_time": "2022-01-19T20:32:10.450Z"
      },
      {
        "duration": 9,
        "start_time": "2022-01-19T20:32:10.458Z"
      },
      {
        "duration": 11,
        "start_time": "2022-01-19T20:32:10.469Z"
      },
      {
        "duration": 19,
        "start_time": "2022-01-19T20:32:10.482Z"
      },
      {
        "duration": 401,
        "start_time": "2022-01-19T20:32:10.503Z"
      },
      {
        "duration": -5047,
        "start_time": "2022-01-19T20:32:15.952Z"
      },
      {
        "duration": -5050,
        "start_time": "2022-01-19T20:32:15.956Z"
      },
      {
        "duration": -5054,
        "start_time": "2022-01-19T20:32:15.961Z"
      },
      {
        "duration": 4,
        "start_time": "2022-01-19T20:32:36.781Z"
      },
      {
        "duration": 8389,
        "start_time": "2022-01-19T20:33:06.082Z"
      },
      {
        "duration": 6,
        "start_time": "2022-01-19T20:33:47.074Z"
      },
      {
        "duration": 5557,
        "start_time": "2022-01-19T20:35:39.110Z"
      },
      {
        "duration": 1151,
        "start_time": "2022-01-20T06:53:10.482Z"
      },
      {
        "duration": 15,
        "start_time": "2022-01-20T06:53:11.635Z"
      },
      {
        "duration": 8,
        "start_time": "2022-01-20T06:53:11.652Z"
      },
      {
        "duration": 460,
        "start_time": "2022-01-20T06:53:11.662Z"
      },
      {
        "duration": 6,
        "start_time": "2022-01-20T06:53:12.124Z"
      },
      {
        "duration": 4,
        "start_time": "2022-01-20T06:53:12.132Z"
      },
      {
        "duration": 5,
        "start_time": "2022-01-20T06:53:12.138Z"
      },
      {
        "duration": 392,
        "start_time": "2022-01-20T07:24:23.978Z"
      },
      {
        "duration": 18,
        "start_time": "2022-01-20T07:27:18.950Z"
      },
      {
        "duration": 17,
        "start_time": "2022-01-20T07:27:50.102Z"
      },
      {
        "duration": 5892,
        "start_time": "2022-01-20T07:40:16.587Z"
      },
      {
        "duration": 5840,
        "start_time": "2022-01-20T07:42:37.501Z"
      },
      {
        "duration": 6,
        "start_time": "2022-01-20T07:43:02.887Z"
      },
      {
        "duration": 7,
        "start_time": "2022-01-20T07:43:28.029Z"
      },
      {
        "duration": 7,
        "start_time": "2022-01-20T07:43:42.190Z"
      },
      {
        "duration": 8451,
        "start_time": "2022-01-20T07:45:22.375Z"
      },
      {
        "duration": 6,
        "start_time": "2022-01-20T07:46:17.136Z"
      },
      {
        "duration": 6,
        "start_time": "2022-01-20T07:47:45.551Z"
      },
      {
        "duration": 12,
        "start_time": "2022-01-20T07:49:10.208Z"
      },
      {
        "duration": 284,
        "start_time": "2022-01-20T08:19:11.871Z"
      },
      {
        "duration": 13,
        "start_time": "2022-01-20T08:19:20.735Z"
      },
      {
        "duration": 12,
        "start_time": "2022-01-20T08:19:29.472Z"
      },
      {
        "duration": 1128,
        "start_time": "2022-01-20T08:19:53.515Z"
      },
      {
        "duration": 14,
        "start_time": "2022-01-20T08:19:54.646Z"
      },
      {
        "duration": 12,
        "start_time": "2022-01-20T08:19:54.663Z"
      },
      {
        "duration": 445,
        "start_time": "2022-01-20T08:19:54.677Z"
      },
      {
        "duration": 9,
        "start_time": "2022-01-20T08:19:55.124Z"
      },
      {
        "duration": 6,
        "start_time": "2022-01-20T08:19:55.135Z"
      },
      {
        "duration": 28,
        "start_time": "2022-01-20T08:19:55.143Z"
      },
      {
        "duration": 18,
        "start_time": "2022-01-20T08:19:55.174Z"
      },
      {
        "duration": 298,
        "start_time": "2022-01-20T08:19:55.194Z"
      },
      {
        "duration": 2,
        "start_time": "2022-01-20T08:19:55.494Z"
      },
      {
        "duration": 15,
        "start_time": "2022-01-20T08:19:55.498Z"
      },
      {
        "duration": 394,
        "start_time": "2022-01-20T08:25:22.543Z"
      },
      {
        "duration": 25592,
        "start_time": "2022-01-20T08:26:52.471Z"
      },
      {
        "duration": 13,
        "start_time": "2022-01-20T08:28:23.041Z"
      },
      {
        "duration": 1882,
        "start_time": "2022-01-20T08:29:33.992Z"
      },
      {
        "duration": 305,
        "start_time": "2022-01-20T08:29:42.320Z"
      },
      {
        "duration": 12,
        "start_time": "2022-01-20T08:30:50.417Z"
      },
      {
        "duration": 56837,
        "start_time": "2022-01-20T08:36:36.010Z"
      },
      {
        "duration": 12,
        "start_time": "2022-01-20T08:37:57.274Z"
      },
      {
        "duration": 12,
        "start_time": "2022-01-20T08:38:12.667Z"
      },
      {
        "duration": 484,
        "start_time": "2022-01-20T08:38:43.335Z"
      },
      {
        "duration": 328,
        "start_time": "2022-01-20T08:42:11.470Z"
      },
      {
        "duration": 54847,
        "start_time": "2022-01-20T08:58:57.845Z"
      },
      {
        "duration": 12,
        "start_time": "2022-01-20T09:01:24.914Z"
      },
      {
        "duration": 453,
        "start_time": "2022-01-20T09:01:30.879Z"
      },
      {
        "duration": 54935,
        "start_time": "2022-01-20T09:02:06.601Z"
      },
      {
        "duration": 13,
        "start_time": "2022-01-20T09:03:28.267Z"
      },
      {
        "duration": 473,
        "start_time": "2022-01-20T09:03:33.832Z"
      },
      {
        "duration": 1153,
        "start_time": "2022-01-20T09:04:53.092Z"
      },
      {
        "duration": 13,
        "start_time": "2022-01-20T09:04:54.247Z"
      },
      {
        "duration": 10,
        "start_time": "2022-01-20T09:04:54.262Z"
      },
      {
        "duration": 444,
        "start_time": "2022-01-20T09:04:54.274Z"
      },
      {
        "duration": 7,
        "start_time": "2022-01-20T09:04:54.720Z"
      },
      {
        "duration": 5,
        "start_time": "2022-01-20T09:04:54.728Z"
      },
      {
        "duration": 5,
        "start_time": "2022-01-20T09:04:54.735Z"
      },
      {
        "duration": 35,
        "start_time": "2022-01-20T09:04:54.743Z"
      },
      {
        "duration": 38032,
        "start_time": "2022-01-20T09:04:54.780Z"
      },
      {
        "duration": 11,
        "start_time": "2022-01-20T09:05:32.814Z"
      },
      {
        "duration": 527,
        "start_time": "2022-01-20T09:05:32.827Z"
      },
      {
        "duration": 60212,
        "start_time": "2022-01-20T09:40:37.949Z"
      },
      {
        "duration": 1172,
        "start_time": "2022-01-20T09:46:11.968Z"
      },
      {
        "duration": 15,
        "start_time": "2022-01-20T09:46:13.142Z"
      },
      {
        "duration": 7,
        "start_time": "2022-01-20T09:46:13.159Z"
      },
      {
        "duration": 450,
        "start_time": "2022-01-20T09:46:13.172Z"
      },
      {
        "duration": 6,
        "start_time": "2022-01-20T09:46:13.624Z"
      },
      {
        "duration": 5,
        "start_time": "2022-01-20T09:46:13.632Z"
      },
      {
        "duration": 5,
        "start_time": "2022-01-20T09:46:13.638Z"
      },
      {
        "duration": 35,
        "start_time": "2022-01-20T09:46:13.645Z"
      },
      {
        "duration": 37164,
        "start_time": "2022-01-20T09:46:13.682Z"
      },
      {
        "duration": -82,
        "start_time": "2022-01-20T09:46:50.930Z"
      },
      {
        "duration": -93,
        "start_time": "2022-01-20T09:46:50.942Z"
      },
      {
        "duration": 66699,
        "start_time": "2022-01-20T10:24:07.518Z"
      },
      {
        "duration": 50200,
        "start_time": "2022-01-20T11:00:40.103Z"
      },
      {
        "duration": 38050,
        "start_time": "2022-01-20T12:31:54.625Z"
      },
      {
        "duration": 42029,
        "start_time": "2022-01-20T12:34:06.962Z"
      },
      {
        "duration": 367,
        "start_time": "2022-01-20T12:41:02.451Z"
      },
      {
        "duration": 1230,
        "start_time": "2022-01-20T12:43:56.843Z"
      },
      {
        "duration": 14,
        "start_time": "2022-01-20T12:43:58.074Z"
      },
      {
        "duration": 10,
        "start_time": "2022-01-20T12:43:58.090Z"
      },
      {
        "duration": 488,
        "start_time": "2022-01-20T12:43:58.102Z"
      },
      {
        "duration": 7,
        "start_time": "2022-01-20T12:43:58.592Z"
      },
      {
        "duration": 15,
        "start_time": "2022-01-20T12:43:58.601Z"
      },
      {
        "duration": 22,
        "start_time": "2022-01-20T12:43:58.618Z"
      },
      {
        "duration": 1147,
        "start_time": "2022-01-20T12:44:41.616Z"
      },
      {
        "duration": 13,
        "start_time": "2022-01-20T12:44:42.765Z"
      },
      {
        "duration": 7,
        "start_time": "2022-01-20T12:44:42.781Z"
      },
      {
        "duration": 471,
        "start_time": "2022-01-20T12:44:42.790Z"
      },
      {
        "duration": 8,
        "start_time": "2022-01-20T12:44:43.271Z"
      },
      {
        "duration": 5,
        "start_time": "2022-01-20T12:44:43.281Z"
      },
      {
        "duration": 4,
        "start_time": "2022-01-20T12:44:43.288Z"
      },
      {
        "duration": 46017,
        "start_time": "2022-01-20T12:44:43.295Z"
      },
      {
        "duration": -41,
        "start_time": "2022-01-20T12:45:29.355Z"
      },
      {
        "duration": -44,
        "start_time": "2022-01-20T12:45:29.359Z"
      },
      {
        "duration": 305,
        "start_time": "2022-01-20T12:49:45.183Z"
      },
      {
        "duration": 1150,
        "start_time": "2022-01-20T12:51:28.991Z"
      },
      {
        "duration": 14,
        "start_time": "2022-01-20T12:51:30.143Z"
      },
      {
        "duration": 33,
        "start_time": "2022-01-20T12:51:30.159Z"
      },
      {
        "duration": 461,
        "start_time": "2022-01-20T12:51:30.195Z"
      },
      {
        "duration": 17,
        "start_time": "2022-01-20T12:51:30.657Z"
      },
      {
        "duration": 20,
        "start_time": "2022-01-20T12:51:30.675Z"
      },
      {
        "duration": 31,
        "start_time": "2022-01-20T12:51:30.696Z"
      },
      {
        "duration": 24,
        "start_time": "2022-01-20T12:51:30.729Z"
      },
      {
        "duration": 41546,
        "start_time": "2022-01-20T12:51:30.755Z"
      },
      {
        "duration": -56,
        "start_time": "2022-01-20T12:52:12.358Z"
      },
      {
        "duration": -65,
        "start_time": "2022-01-20T12:52:12.368Z"
      },
      {
        "duration": 4655,
        "start_time": "2022-01-20T12:52:45.852Z"
      },
      {
        "duration": 1190,
        "start_time": "2022-01-20T12:53:24.345Z"
      },
      {
        "duration": 12,
        "start_time": "2022-01-20T12:53:25.537Z"
      },
      {
        "duration": 8,
        "start_time": "2022-01-20T12:53:25.551Z"
      },
      {
        "duration": 448,
        "start_time": "2022-01-20T12:53:25.561Z"
      },
      {
        "duration": 7,
        "start_time": "2022-01-20T12:53:26.010Z"
      },
      {
        "duration": 7,
        "start_time": "2022-01-20T12:53:26.018Z"
      },
      {
        "duration": 6,
        "start_time": "2022-01-20T12:53:26.026Z"
      },
      {
        "duration": 6,
        "start_time": "2022-01-20T12:53:26.034Z"
      },
      {
        "duration": 37255,
        "start_time": "2022-01-20T12:53:26.042Z"
      },
      {
        "duration": 4,
        "start_time": "2022-01-20T12:54:03.299Z"
      },
      {
        "duration": 426,
        "start_time": "2022-01-20T12:54:03.305Z"
      },
      {
        "duration": 4145,
        "start_time": "2022-01-20T12:54:52.769Z"
      },
      {
        "duration": 8533,
        "start_time": "2022-01-20T13:11:17.259Z"
      },
      {
        "duration": 1166,
        "start_time": "2022-01-20T13:16:26.163Z"
      },
      {
        "duration": 13,
        "start_time": "2022-01-20T13:16:27.332Z"
      },
      {
        "duration": 6,
        "start_time": "2022-01-20T13:16:27.349Z"
      },
      {
        "duration": 435,
        "start_time": "2022-01-20T13:16:27.356Z"
      },
      {
        "duration": 7,
        "start_time": "2022-01-20T13:16:27.792Z"
      },
      {
        "duration": 5,
        "start_time": "2022-01-20T13:16:27.800Z"
      },
      {
        "duration": 4,
        "start_time": "2022-01-20T13:16:27.807Z"
      },
      {
        "duration": 15,
        "start_time": "2022-01-20T13:16:27.812Z"
      },
      {
        "duration": 7,
        "start_time": "2022-01-20T13:16:27.828Z"
      },
      {
        "duration": 38927,
        "start_time": "2022-01-20T13:16:27.837Z"
      },
      {
        "duration": 15,
        "start_time": "2022-01-20T13:17:06.765Z"
      },
      {
        "duration": 492,
        "start_time": "2022-01-20T13:17:06.782Z"
      },
      {
        "duration": 54244,
        "start_time": "2022-01-20T13:21:14.570Z"
      },
      {
        "duration": 56354,
        "start_time": "2022-01-20T13:22:35.835Z"
      },
      {
        "duration": 3,
        "start_time": "2022-01-20T13:23:43.635Z"
      },
      {
        "duration": 1142,
        "start_time": "2022-01-20T13:24:06.188Z"
      },
      {
        "duration": 14,
        "start_time": "2022-01-20T13:24:07.331Z"
      },
      {
        "duration": 17,
        "start_time": "2022-01-20T13:24:07.347Z"
      },
      {
        "duration": 446,
        "start_time": "2022-01-20T13:24:07.365Z"
      },
      {
        "duration": 7,
        "start_time": "2022-01-20T13:24:07.813Z"
      },
      {
        "duration": 25,
        "start_time": "2022-01-20T13:24:07.822Z"
      },
      {
        "duration": 9,
        "start_time": "2022-01-20T13:24:07.849Z"
      },
      {
        "duration": 31,
        "start_time": "2022-01-20T13:24:07.860Z"
      },
      {
        "duration": 7,
        "start_time": "2022-01-20T13:24:07.893Z"
      },
      {
        "duration": 36662,
        "start_time": "2022-01-20T13:24:07.901Z"
      },
      {
        "duration": 6,
        "start_time": "2022-01-20T13:24:44.565Z"
      },
      {
        "duration": 394,
        "start_time": "2022-01-20T13:24:44.573Z"
      },
      {
        "duration": 314,
        "start_time": "2022-01-20T13:31:48.865Z"
      },
      {
        "duration": 5153,
        "start_time": "2022-01-20T13:34:26.401Z"
      },
      {
        "duration": 1138,
        "start_time": "2022-01-20T13:36:30.990Z"
      },
      {
        "duration": 14,
        "start_time": "2022-01-20T13:36:32.129Z"
      },
      {
        "duration": 7,
        "start_time": "2022-01-20T13:36:32.145Z"
      },
      {
        "duration": 446,
        "start_time": "2022-01-20T13:36:32.153Z"
      },
      {
        "duration": 8,
        "start_time": "2022-01-20T13:36:32.601Z"
      },
      {
        "duration": 6,
        "start_time": "2022-01-20T13:36:32.611Z"
      },
      {
        "duration": 7,
        "start_time": "2022-01-20T13:36:32.618Z"
      },
      {
        "duration": 7,
        "start_time": "2022-01-20T13:36:32.627Z"
      },
      {
        "duration": 37,
        "start_time": "2022-01-20T13:36:32.636Z"
      },
      {
        "duration": 37679,
        "start_time": "2022-01-20T13:36:32.675Z"
      },
      {
        "duration": 17,
        "start_time": "2022-01-20T13:37:10.356Z"
      },
      {
        "duration": 468,
        "start_time": "2022-01-20T13:37:10.374Z"
      },
      {
        "duration": 5,
        "start_time": "2022-01-20T13:37:41.427Z"
      },
      {
        "duration": 1136,
        "start_time": "2022-01-20T13:37:50.589Z"
      },
      {
        "duration": 14,
        "start_time": "2022-01-20T13:37:51.728Z"
      },
      {
        "duration": 20,
        "start_time": "2022-01-20T13:37:51.744Z"
      },
      {
        "duration": 436,
        "start_time": "2022-01-20T13:37:51.766Z"
      },
      {
        "duration": 8,
        "start_time": "2022-01-20T13:37:52.204Z"
      },
      {
        "duration": 15,
        "start_time": "2022-01-20T13:37:52.214Z"
      },
      {
        "duration": 11,
        "start_time": "2022-01-20T13:37:52.231Z"
      },
      {
        "duration": 19,
        "start_time": "2022-01-20T13:37:52.245Z"
      },
      {
        "duration": 8,
        "start_time": "2022-01-20T13:37:52.266Z"
      },
      {
        "duration": 38081,
        "start_time": "2022-01-20T13:37:52.275Z"
      },
      {
        "duration": 18,
        "start_time": "2022-01-20T13:38:30.358Z"
      },
      {
        "duration": 501,
        "start_time": "2022-01-20T13:38:30.377Z"
      },
      {
        "duration": 16,
        "start_time": "2022-01-20T13:39:25.158Z"
      },
      {
        "duration": 15,
        "start_time": "2022-01-20T13:39:44.885Z"
      },
      {
        "duration": 14,
        "start_time": "2022-01-20T13:39:58.441Z"
      },
      {
        "duration": 6,
        "start_time": "2022-01-20T13:42:18.800Z"
      },
      {
        "duration": 4236,
        "start_time": "2022-01-20T13:43:57.464Z"
      },
      {
        "duration": 1236,
        "start_time": "2022-01-20T13:44:17.639Z"
      },
      {
        "duration": 15,
        "start_time": "2022-01-20T13:44:18.877Z"
      },
      {
        "duration": 17,
        "start_time": "2022-01-20T13:44:18.896Z"
      },
      {
        "duration": 491,
        "start_time": "2022-01-20T13:44:18.915Z"
      },
      {
        "duration": 7,
        "start_time": "2022-01-20T13:44:19.407Z"
      },
      {
        "duration": 28,
        "start_time": "2022-01-20T13:44:19.416Z"
      },
      {
        "duration": 5,
        "start_time": "2022-01-20T13:44:19.448Z"
      },
      {
        "duration": 7,
        "start_time": "2022-01-20T13:44:19.454Z"
      },
      {
        "duration": 38168,
        "start_time": "2022-01-20T13:44:19.462Z"
      },
      {
        "duration": 15,
        "start_time": "2022-01-20T13:44:57.632Z"
      },
      {
        "duration": 488,
        "start_time": "2022-01-20T13:44:57.648Z"
      },
      {
        "duration": 397,
        "start_time": "2022-01-20T13:45:44.572Z"
      },
      {
        "duration": 1167,
        "start_time": "2022-01-20T13:45:59.288Z"
      },
      {
        "duration": 13,
        "start_time": "2022-01-20T13:46:00.457Z"
      },
      {
        "duration": 6,
        "start_time": "2022-01-20T13:46:00.472Z"
      },
      {
        "duration": 444,
        "start_time": "2022-01-20T13:46:00.480Z"
      },
      {
        "duration": 7,
        "start_time": "2022-01-20T13:46:00.926Z"
      },
      {
        "duration": 5,
        "start_time": "2022-01-20T13:46:00.935Z"
      },
      {
        "duration": 9,
        "start_time": "2022-01-20T13:46:00.942Z"
      },
      {
        "duration": 23,
        "start_time": "2022-01-20T13:46:00.953Z"
      },
      {
        "duration": 37093,
        "start_time": "2022-01-20T13:46:00.978Z"
      },
      {
        "duration": 15,
        "start_time": "2022-01-20T13:46:38.073Z"
      },
      {
        "duration": 482,
        "start_time": "2022-01-20T13:46:38.090Z"
      },
      {
        "duration": 1209,
        "start_time": "2022-01-20T13:47:16.441Z"
      },
      {
        "duration": 15,
        "start_time": "2022-01-20T13:47:17.652Z"
      },
      {
        "duration": 8,
        "start_time": "2022-01-20T13:47:17.672Z"
      },
      {
        "duration": 442,
        "start_time": "2022-01-20T13:47:17.682Z"
      },
      {
        "duration": 9,
        "start_time": "2022-01-20T13:47:18.126Z"
      },
      {
        "duration": 6,
        "start_time": "2022-01-20T13:47:18.137Z"
      },
      {
        "duration": 28,
        "start_time": "2022-01-20T13:47:18.145Z"
      },
      {
        "duration": 6,
        "start_time": "2022-01-20T13:47:18.175Z"
      },
      {
        "duration": 38109,
        "start_time": "2022-01-20T13:47:18.183Z"
      },
      {
        "duration": 7,
        "start_time": "2022-01-20T13:47:56.293Z"
      },
      {
        "duration": 498,
        "start_time": "2022-01-20T13:47:56.302Z"
      },
      {
        "duration": 5,
        "start_time": "2022-01-20T13:54:15.127Z"
      },
      {
        "duration": 1142,
        "start_time": "2022-01-20T18:06:38.842Z"
      },
      {
        "duration": 15,
        "start_time": "2022-01-20T18:06:39.987Z"
      },
      {
        "duration": 10,
        "start_time": "2022-01-20T18:06:40.004Z"
      },
      {
        "duration": 462,
        "start_time": "2022-01-20T18:06:40.016Z"
      },
      {
        "duration": 9,
        "start_time": "2022-01-20T18:06:40.479Z"
      },
      {
        "duration": 11,
        "start_time": "2022-01-20T18:06:40.490Z"
      },
      {
        "duration": 5,
        "start_time": "2022-01-20T18:06:40.503Z"
      },
      {
        "duration": 4,
        "start_time": "2022-01-20T18:06:40.510Z"
      },
      {
        "duration": 7,
        "start_time": "2022-01-20T18:06:40.516Z"
      },
      {
        "duration": 39212,
        "start_time": "2022-01-20T18:06:40.525Z"
      },
      {
        "duration": 7,
        "start_time": "2022-01-20T18:07:19.738Z"
      },
      {
        "duration": 546,
        "start_time": "2022-01-20T18:07:19.747Z"
      },
      {
        "duration": 167,
        "start_time": "2022-01-20T18:07:20.295Z"
      },
      {
        "duration": 83,
        "start_time": "2022-01-20T18:07:45.534Z"
      },
      {
        "duration": 720,
        "start_time": "2022-01-20T18:08:05.589Z"
      },
      {
        "duration": 291,
        "start_time": "2022-01-20T18:08:29.711Z"
      },
      {
        "duration": 31,
        "start_time": "2022-01-20T18:08:38.902Z"
      },
      {
        "duration": 6543,
        "start_time": "2022-01-20T18:12:09.382Z"
      },
      {
        "duration": 1641,
        "start_time": "2022-01-20T18:14:39.582Z"
      },
      {
        "duration": 1588,
        "start_time": "2022-01-20T18:15:15.926Z"
      },
      {
        "duration": 29229,
        "start_time": "2022-01-20T18:17:42.553Z"
      },
      {
        "duration": 1283,
        "start_time": "2022-01-20T18:19:41.594Z"
      },
      {
        "duration": 24,
        "start_time": "2022-01-20T18:19:42.879Z"
      },
      {
        "duration": 10,
        "start_time": "2022-01-20T18:19:42.906Z"
      },
      {
        "duration": 565,
        "start_time": "2022-01-20T18:19:42.918Z"
      },
      {
        "duration": 19,
        "start_time": "2022-01-20T18:19:43.485Z"
      },
      {
        "duration": 7,
        "start_time": "2022-01-20T18:19:43.506Z"
      },
      {
        "duration": 10,
        "start_time": "2022-01-20T18:19:43.515Z"
      },
      {
        "duration": 6,
        "start_time": "2022-01-20T18:19:43.528Z"
      },
      {
        "duration": 9,
        "start_time": "2022-01-20T18:19:43.535Z"
      },
      {
        "duration": 40618,
        "start_time": "2022-01-20T18:19:43.545Z"
      },
      {
        "duration": 10,
        "start_time": "2022-01-20T18:20:24.165Z"
      },
      {
        "duration": 28476,
        "start_time": "2022-01-20T18:20:24.177Z"
      },
      {
        "duration": 27861,
        "start_time": "2022-01-20T18:23:20.754Z"
      },
      {
        "duration": 96,
        "start_time": "2022-01-20T18:24:32.083Z"
      },
      {
        "duration": 28625,
        "start_time": "2022-01-20T18:24:44.560Z"
      },
      {
        "duration": 13,
        "start_time": "2022-01-20T18:26:27.843Z"
      },
      {
        "duration": 1150,
        "start_time": "2022-01-21T06:55:00.308Z"
      },
      {
        "duration": 16,
        "start_time": "2022-01-21T06:55:01.459Z"
      },
      {
        "duration": 11,
        "start_time": "2022-01-21T06:55:01.477Z"
      },
      {
        "duration": 483,
        "start_time": "2022-01-21T06:55:01.490Z"
      },
      {
        "duration": 7,
        "start_time": "2022-01-21T06:55:01.975Z"
      },
      {
        "duration": 6,
        "start_time": "2022-01-21T06:55:01.983Z"
      },
      {
        "duration": 6,
        "start_time": "2022-01-21T06:55:01.991Z"
      },
      {
        "duration": 4,
        "start_time": "2022-01-21T06:55:02.000Z"
      },
      {
        "duration": 6,
        "start_time": "2022-01-21T06:55:02.006Z"
      },
      {
        "duration": 36700,
        "start_time": "2022-01-21T06:55:02.013Z"
      },
      {
        "duration": 6,
        "start_time": "2022-01-21T06:55:38.715Z"
      },
      {
        "duration": 100,
        "start_time": "2022-01-21T06:55:38.723Z"
      },
      {
        "duration": -38,
        "start_time": "2022-01-21T06:55:38.863Z"
      },
      {
        "duration": 7,
        "start_time": "2022-01-21T07:01:09.722Z"
      },
      {
        "duration": 6,
        "start_time": "2022-01-21T07:01:36.401Z"
      },
      {
        "duration": 7949,
        "start_time": "2022-01-21T07:18:56.558Z"
      },
      {
        "duration": 7,
        "start_time": "2022-01-21T07:21:50.280Z"
      },
      {
        "duration": 6,
        "start_time": "2022-01-21T07:22:13.489Z"
      },
      {
        "duration": 160,
        "start_time": "2022-01-21T07:26:12.803Z"
      },
      {
        "duration": 6,
        "start_time": "2022-01-21T09:12:23.775Z"
      },
      {
        "duration": 460,
        "start_time": "2022-01-21T09:14:06.398Z"
      },
      {
        "duration": 3,
        "start_time": "2022-01-21T09:16:00.503Z"
      },
      {
        "duration": 5,
        "start_time": "2022-01-21T09:16:26.262Z"
      },
      {
        "duration": 7679,
        "start_time": "2022-01-21T09:22:47.128Z"
      },
      {
        "duration": 2883,
        "start_time": "2022-01-21T09:23:02.932Z"
      },
      {
        "duration": 13,
        "start_time": "2022-01-21T09:23:05.816Z"
      },
      {
        "duration": 16,
        "start_time": "2022-01-21T09:23:05.831Z"
      },
      {
        "duration": 454,
        "start_time": "2022-01-21T09:23:05.849Z"
      },
      {
        "duration": 7,
        "start_time": "2022-01-21T09:23:06.304Z"
      },
      {
        "duration": 7,
        "start_time": "2022-01-21T09:23:06.313Z"
      },
      {
        "duration": 23,
        "start_time": "2022-01-21T09:23:06.321Z"
      },
      {
        "duration": 8,
        "start_time": "2022-01-21T09:23:06.346Z"
      },
      {
        "duration": 19,
        "start_time": "2022-01-21T09:23:06.355Z"
      },
      {
        "duration": 37491,
        "start_time": "2022-01-21T09:23:06.376Z"
      },
      {
        "duration": 7,
        "start_time": "2022-01-21T09:23:43.871Z"
      },
      {
        "duration": 452,
        "start_time": "2022-01-21T09:23:43.880Z"
      },
      {
        "duration": 8072,
        "start_time": "2022-01-21T09:23:44.334Z"
      },
      {
        "duration": -72,
        "start_time": "2022-01-21T09:23:52.480Z"
      },
      {
        "duration": 5436,
        "start_time": "2022-01-21T09:24:54.760Z"
      },
      {
        "duration": 5071,
        "start_time": "2022-01-21T09:26:28.168Z"
      },
      {
        "duration": 5170,
        "start_time": "2022-01-21T09:27:27.776Z"
      },
      {
        "duration": 5296,
        "start_time": "2022-01-21T09:27:49.864Z"
      },
      {
        "duration": 10802,
        "start_time": "2022-01-21T09:30:59.345Z"
      },
      {
        "duration": 4783,
        "start_time": "2022-01-21T09:31:54.028Z"
      },
      {
        "duration": 479,
        "start_time": "2022-01-21T09:32:21.804Z"
      },
      {
        "duration": 1102,
        "start_time": "2022-01-21T09:33:37.028Z"
      },
      {
        "duration": 13,
        "start_time": "2022-01-21T09:33:38.131Z"
      },
      {
        "duration": 7,
        "start_time": "2022-01-21T09:33:38.147Z"
      },
      {
        "duration": 441,
        "start_time": "2022-01-21T09:33:38.156Z"
      },
      {
        "duration": 6,
        "start_time": "2022-01-21T09:33:38.599Z"
      },
      {
        "duration": 4,
        "start_time": "2022-01-21T09:33:38.607Z"
      },
      {
        "duration": 5,
        "start_time": "2022-01-21T09:33:38.613Z"
      },
      {
        "duration": 4,
        "start_time": "2022-01-21T09:33:38.619Z"
      },
      {
        "duration": 5,
        "start_time": "2022-01-21T09:33:38.625Z"
      },
      {
        "duration": 38611,
        "start_time": "2022-01-21T09:33:38.632Z"
      },
      {
        "duration": 7,
        "start_time": "2022-01-21T09:34:17.245Z"
      },
      {
        "duration": 509,
        "start_time": "2022-01-21T09:34:17.253Z"
      },
      {
        "duration": 13148,
        "start_time": "2022-01-21T09:34:17.772Z"
      },
      {
        "duration": 495,
        "start_time": "2022-01-21T09:34:30.922Z"
      },
      {
        "duration": 11,
        "start_time": "2022-01-21T09:34:31.419Z"
      },
      {
        "duration": 13854,
        "start_time": "2022-01-21T09:41:58.202Z"
      },
      {
        "duration": 1199,
        "start_time": "2022-01-21T09:42:23.544Z"
      },
      {
        "duration": 15,
        "start_time": "2022-01-21T09:42:24.745Z"
      },
      {
        "duration": 11,
        "start_time": "2022-01-21T09:42:24.765Z"
      },
      {
        "duration": 448,
        "start_time": "2022-01-21T09:42:24.778Z"
      },
      {
        "duration": 9,
        "start_time": "2022-01-21T09:42:25.227Z"
      },
      {
        "duration": 9,
        "start_time": "2022-01-21T09:42:25.237Z"
      },
      {
        "duration": 24,
        "start_time": "2022-01-21T09:42:25.249Z"
      },
      {
        "duration": 6,
        "start_time": "2022-01-21T09:42:25.275Z"
      },
      {
        "duration": 17,
        "start_time": "2022-01-21T09:42:25.283Z"
      },
      {
        "duration": 37484,
        "start_time": "2022-01-21T09:42:25.301Z"
      },
      {
        "duration": 7,
        "start_time": "2022-01-21T09:43:02.787Z"
      },
      {
        "duration": 526,
        "start_time": "2022-01-21T09:43:02.795Z"
      },
      {
        "duration": 13308,
        "start_time": "2022-01-21T09:43:03.322Z"
      },
      {
        "duration": 498,
        "start_time": "2022-01-21T09:43:16.631Z"
      },
      {
        "duration": 13,
        "start_time": "2022-01-21T09:43:17.131Z"
      },
      {
        "duration": 1125,
        "start_time": "2022-01-21T09:45:54.898Z"
      },
      {
        "duration": 13,
        "start_time": "2022-01-21T09:45:56.025Z"
      },
      {
        "duration": 28,
        "start_time": "2022-01-21T09:45:56.040Z"
      },
      {
        "duration": 422,
        "start_time": "2022-01-21T09:45:56.069Z"
      },
      {
        "duration": 8,
        "start_time": "2022-01-21T09:45:56.493Z"
      },
      {
        "duration": 11,
        "start_time": "2022-01-21T09:45:56.503Z"
      },
      {
        "duration": 23,
        "start_time": "2022-01-21T09:45:56.516Z"
      },
      {
        "duration": 12,
        "start_time": "2022-01-21T09:45:56.542Z"
      },
      {
        "duration": 22,
        "start_time": "2022-01-21T09:45:56.555Z"
      },
      {
        "duration": 37621,
        "start_time": "2022-01-21T09:45:56.578Z"
      },
      {
        "duration": 7,
        "start_time": "2022-01-21T09:46:34.200Z"
      },
      {
        "duration": 13431,
        "start_time": "2022-01-21T09:46:34.209Z"
      },
      {
        "duration": 490,
        "start_time": "2022-01-21T09:46:47.642Z"
      },
      {
        "duration": 13,
        "start_time": "2022-01-21T09:46:48.133Z"
      },
      {
        "duration": 1193,
        "start_time": "2022-01-21T09:48:18.739Z"
      },
      {
        "duration": 14,
        "start_time": "2022-01-21T09:48:19.933Z"
      },
      {
        "duration": 6,
        "start_time": "2022-01-21T09:48:19.949Z"
      },
      {
        "duration": 448,
        "start_time": "2022-01-21T09:48:19.956Z"
      },
      {
        "duration": 7,
        "start_time": "2022-01-21T09:48:20.406Z"
      },
      {
        "duration": 6,
        "start_time": "2022-01-21T09:48:20.415Z"
      },
      {
        "duration": 4,
        "start_time": "2022-01-21T09:48:20.422Z"
      },
      {
        "duration": 4,
        "start_time": "2022-01-21T09:48:20.428Z"
      },
      {
        "duration": 6,
        "start_time": "2022-01-21T09:48:20.434Z"
      },
      {
        "duration": 37878,
        "start_time": "2022-01-21T09:48:20.442Z"
      },
      {
        "duration": 6,
        "start_time": "2022-01-21T09:48:58.322Z"
      },
      {
        "duration": 5698,
        "start_time": "2022-01-21T09:48:58.330Z"
      },
      {
        "duration": 484,
        "start_time": "2022-01-21T09:49:04.029Z"
      },
      {
        "duration": 12,
        "start_time": "2022-01-21T09:49:04.514Z"
      },
      {
        "duration": 8402,
        "start_time": "2022-01-21T12:20:41.897Z"
      },
      {
        "duration": 265,
        "start_time": "2022-01-21T12:21:13.587Z"
      },
      {
        "duration": 11,
        "start_time": "2022-01-21T12:21:48.676Z"
      },
      {
        "duration": 9,
        "start_time": "2022-01-21T12:44:56.911Z"
      },
      {
        "duration": 6,
        "start_time": "2022-01-21T12:45:38.394Z"
      },
      {
        "duration": 145,
        "start_time": "2022-01-21T14:50:05.212Z"
      },
      {
        "duration": 102,
        "start_time": "2022-01-21T14:50:17.660Z"
      },
      {
        "duration": 328,
        "start_time": "2022-01-21T14:50:23.605Z"
      },
      {
        "duration": 217,
        "start_time": "2022-01-21T14:58:21.344Z"
      },
      {
        "duration": 102,
        "start_time": "2022-01-21T15:00:01.667Z"
      },
      {
        "duration": 113,
        "start_time": "2022-01-21T15:00:14.556Z"
      },
      {
        "duration": 101,
        "start_time": "2022-01-21T15:00:20.770Z"
      },
      {
        "duration": 1183,
        "start_time": "2022-01-21T15:00:28.721Z"
      },
      {
        "duration": 13,
        "start_time": "2022-01-21T15:00:29.906Z"
      },
      {
        "duration": 11,
        "start_time": "2022-01-21T15:00:29.920Z"
      },
      {
        "duration": 485,
        "start_time": "2022-01-21T15:00:29.939Z"
      },
      {
        "duration": 8,
        "start_time": "2022-01-21T15:00:30.426Z"
      },
      {
        "duration": 6,
        "start_time": "2022-01-21T15:00:30.436Z"
      },
      {
        "duration": 11,
        "start_time": "2022-01-21T15:00:30.443Z"
      },
      {
        "duration": 4,
        "start_time": "2022-01-21T15:00:30.473Z"
      },
      {
        "duration": 10,
        "start_time": "2022-01-21T15:00:30.478Z"
      },
      {
        "duration": 39862,
        "start_time": "2022-01-21T15:00:30.490Z"
      },
      {
        "duration": 8,
        "start_time": "2022-01-21T15:01:10.354Z"
      },
      {
        "duration": 5568,
        "start_time": "2022-01-21T15:01:10.363Z"
      },
      {
        "duration": 360,
        "start_time": "2022-01-21T15:01:15.932Z"
      },
      {
        "duration": 95,
        "start_time": "2022-01-21T15:01:16.293Z"
      },
      {
        "duration": -46,
        "start_time": "2022-01-21T15:01:16.435Z"
      },
      {
        "duration": 60965,
        "start_time": "2022-01-21T15:03:59.046Z"
      },
      {
        "duration": 7,
        "start_time": "2022-01-21T15:06:00.591Z"
      },
      {
        "duration": 107,
        "start_time": "2022-01-21T15:06:17.814Z"
      },
      {
        "duration": 8693,
        "start_time": "2022-01-21T15:06:28.751Z"
      },
      {
        "duration": 1128,
        "start_time": "2022-01-22T06:46:05.585Z"
      },
      {
        "duration": 13,
        "start_time": "2022-01-22T06:46:06.714Z"
      },
      {
        "duration": 6,
        "start_time": "2022-01-22T06:46:06.729Z"
      },
      {
        "duration": 464,
        "start_time": "2022-01-22T06:46:06.737Z"
      },
      {
        "duration": 7,
        "start_time": "2022-01-22T06:46:07.203Z"
      },
      {
        "duration": 4,
        "start_time": "2022-01-22T06:46:07.212Z"
      },
      {
        "duration": 5,
        "start_time": "2022-01-22T06:46:07.218Z"
      },
      {
        "duration": 7,
        "start_time": "2022-01-22T06:46:07.225Z"
      },
      {
        "duration": 6,
        "start_time": "2022-01-22T06:46:07.233Z"
      },
      {
        "duration": 36132,
        "start_time": "2022-01-22T06:46:07.241Z"
      },
      {
        "duration": 6,
        "start_time": "2022-01-22T06:46:43.375Z"
      },
      {
        "duration": 5308,
        "start_time": "2022-01-22T06:46:43.383Z"
      },
      {
        "duration": 337,
        "start_time": "2022-01-22T06:46:48.692Z"
      },
      {
        "duration": 420,
        "start_time": "2022-01-22T06:46:49.030Z"
      },
      {
        "duration": 174,
        "start_time": "2022-01-22T06:46:49.277Z"
      },
      {
        "duration": 436,
        "start_time": "2022-01-22T06:48:42.423Z"
      },
      {
        "duration": 425,
        "start_time": "2022-01-22T06:48:55.552Z"
      },
      {
        "duration": 419,
        "start_time": "2022-01-22T06:49:19.145Z"
      },
      {
        "duration": 5,
        "start_time": "2022-01-22T06:56:36.354Z"
      },
      {
        "duration": 7,
        "start_time": "2022-01-22T06:57:55.480Z"
      },
      {
        "duration": 8,
        "start_time": "2022-01-22T06:58:06.338Z"
      },
      {
        "duration": 1135,
        "start_time": "2022-01-22T10:11:04.454Z"
      },
      {
        "duration": 17,
        "start_time": "2022-01-22T10:11:05.591Z"
      },
      {
        "duration": 10,
        "start_time": "2022-01-22T10:11:05.610Z"
      },
      {
        "duration": 538,
        "start_time": "2022-01-22T10:11:05.622Z"
      },
      {
        "duration": 8,
        "start_time": "2022-01-22T10:11:06.162Z"
      },
      {
        "duration": 6,
        "start_time": "2022-01-22T10:11:06.171Z"
      },
      {
        "duration": 21,
        "start_time": "2022-01-22T10:11:06.178Z"
      },
      {
        "duration": 4,
        "start_time": "2022-01-22T10:11:06.201Z"
      },
      {
        "duration": 12,
        "start_time": "2022-01-22T10:11:06.207Z"
      },
      {
        "duration": 39537,
        "start_time": "2022-01-22T10:11:06.220Z"
      },
      {
        "duration": 8,
        "start_time": "2022-01-22T10:11:45.758Z"
      },
      {
        "duration": 5929,
        "start_time": "2022-01-22T10:11:45.767Z"
      },
      {
        "duration": 379,
        "start_time": "2022-01-22T10:11:51.698Z"
      },
      {
        "duration": 110,
        "start_time": "2022-01-22T10:11:52.078Z"
      },
      {
        "duration": 94,
        "start_time": "2022-01-22T10:11:52.096Z"
      },
      {
        "duration": 91,
        "start_time": "2022-01-22T10:11:52.100Z"
      },
      {
        "duration": 342,
        "start_time": "2022-01-22T10:12:14.550Z"
      },
      {
        "duration": 91,
        "start_time": "2022-01-22T10:14:01.753Z"
      },
      {
        "duration": 98,
        "start_time": "2022-01-22T10:14:13.092Z"
      },
      {
        "duration": 81,
        "start_time": "2022-01-22T10:14:54.458Z"
      },
      {
        "duration": 102,
        "start_time": "2022-01-22T10:15:30.128Z"
      },
      {
        "duration": 6784,
        "start_time": "2022-01-22T10:15:48.936Z"
      },
      {
        "duration": 6520,
        "start_time": "2022-01-22T10:17:21.546Z"
      },
      {
        "duration": 4,
        "start_time": "2022-01-22T10:17:55.512Z"
      },
      {
        "duration": 5,
        "start_time": "2022-01-22T10:18:14.182Z"
      },
      {
        "duration": 6907,
        "start_time": "2022-01-22T10:18:25.260Z"
      },
      {
        "duration": 6509,
        "start_time": "2022-01-22T10:19:07.238Z"
      },
      {
        "duration": 3,
        "start_time": "2022-01-22T10:19:30.123Z"
      },
      {
        "duration": 4,
        "start_time": "2022-01-22T10:19:58.553Z"
      },
      {
        "duration": 5,
        "start_time": "2022-01-22T10:20:37.623Z"
      },
      {
        "duration": 7025,
        "start_time": "2022-01-22T10:24:12.064Z"
      },
      {
        "duration": 6693,
        "start_time": "2022-01-22T10:25:14.749Z"
      },
      {
        "duration": 1794,
        "start_time": "2022-01-22T10:26:25.489Z"
      },
      {
        "duration": 4,
        "start_time": "2022-01-22T10:27:23.589Z"
      },
      {
        "duration": 494,
        "start_time": "2022-01-22T10:29:19.389Z"
      },
      {
        "duration": 488,
        "start_time": "2022-01-22T10:29:45.655Z"
      },
      {
        "duration": 470,
        "start_time": "2022-01-22T10:30:26.945Z"
      },
      {
        "duration": 20,
        "start_time": "2022-01-22T10:48:10.866Z"
      },
      {
        "duration": 274,
        "start_time": "2022-01-22T10:48:29.693Z"
      },
      {
        "duration": 745,
        "start_time": "2022-01-22T10:52:07.219Z"
      },
      {
        "duration": 6,
        "start_time": "2022-01-22T10:52:16.155Z"
      },
      {
        "duration": 4,
        "start_time": "2022-01-22T10:53:18.513Z"
      },
      {
        "duration": 8,
        "start_time": "2022-01-22T10:53:37.025Z"
      },
      {
        "duration": 33,
        "start_time": "2022-01-22T11:07:57.870Z"
      },
      {
        "duration": 105,
        "start_time": "2022-01-22T11:11:33.824Z"
      },
      {
        "duration": 6646,
        "start_time": "2022-01-22T11:11:42.471Z"
      },
      {
        "duration": 25,
        "start_time": "2022-01-22T11:12:05.608Z"
      },
      {
        "duration": 7,
        "start_time": "2022-01-22T11:12:29.048Z"
      },
      {
        "duration": 7,
        "start_time": "2022-01-22T11:12:37.697Z"
      },
      {
        "duration": 7154,
        "start_time": "2022-01-22T11:25:26.902Z"
      },
      {
        "duration": 6609,
        "start_time": "2022-01-22T11:26:11.584Z"
      },
      {
        "duration": 7404,
        "start_time": "2022-01-22T11:27:17.766Z"
      },
      {
        "duration": 1230,
        "start_time": "2022-01-22T11:27:31.362Z"
      },
      {
        "duration": 16,
        "start_time": "2022-01-22T11:27:32.594Z"
      },
      {
        "duration": 8,
        "start_time": "2022-01-22T11:27:32.612Z"
      },
      {
        "duration": 518,
        "start_time": "2022-01-22T11:27:32.622Z"
      },
      {
        "duration": 8,
        "start_time": "2022-01-22T11:27:33.142Z"
      },
      {
        "duration": 7,
        "start_time": "2022-01-22T11:27:33.152Z"
      },
      {
        "duration": 11,
        "start_time": "2022-01-22T11:27:33.161Z"
      },
      {
        "duration": 28,
        "start_time": "2022-01-22T11:27:33.175Z"
      },
      {
        "duration": 7,
        "start_time": "2022-01-22T11:27:33.206Z"
      },
      {
        "duration": 42456,
        "start_time": "2022-01-22T11:27:33.215Z"
      },
      {
        "duration": 7,
        "start_time": "2022-01-22T11:28:15.673Z"
      },
      {
        "duration": 6635,
        "start_time": "2022-01-22T11:28:15.682Z"
      },
      {
        "duration": 430,
        "start_time": "2022-01-22T11:28:22.319Z"
      },
      {
        "duration": 8,
        "start_time": "2022-01-22T11:28:22.751Z"
      },
      {
        "duration": 6850,
        "start_time": "2022-01-22T11:28:22.761Z"
      },
      {
        "duration": 186,
        "start_time": "2022-01-22T11:28:29.427Z"
      },
      {
        "duration": 183,
        "start_time": "2022-01-22T11:28:29.431Z"
      },
      {
        "duration": 183,
        "start_time": "2022-01-22T11:28:29.433Z"
      },
      {
        "duration": 6670,
        "start_time": "2022-01-22T11:32:46.357Z"
      },
      {
        "duration": 9,
        "start_time": "2022-01-22T11:33:13.127Z"
      },
      {
        "duration": 97,
        "start_time": "2022-01-22T11:37:08.638Z"
      },
      {
        "duration": 88,
        "start_time": "2022-01-22T11:37:21.103Z"
      },
      {
        "duration": 91,
        "start_time": "2022-01-22T11:38:11.350Z"
      },
      {
        "duration": 101,
        "start_time": "2022-01-22T12:33:17.311Z"
      },
      {
        "duration": 109,
        "start_time": "2022-01-22T12:33:40.028Z"
      },
      {
        "duration": 91,
        "start_time": "2022-01-22T12:34:00.984Z"
      },
      {
        "duration": 93,
        "start_time": "2022-01-22T12:34:11.450Z"
      },
      {
        "duration": 7004,
        "start_time": "2022-01-22T12:34:19.011Z"
      },
      {
        "duration": 7679,
        "start_time": "2022-01-22T12:36:19.735Z"
      },
      {
        "duration": 6894,
        "start_time": "2022-01-22T12:41:12.153Z"
      },
      {
        "duration": 6957,
        "start_time": "2022-01-22T12:41:46.392Z"
      },
      {
        "duration": 6655,
        "start_time": "2022-01-22T12:42:28.554Z"
      },
      {
        "duration": 1207,
        "start_time": "2022-01-22T12:42:43.772Z"
      },
      {
        "duration": 15,
        "start_time": "2022-01-22T12:42:44.980Z"
      },
      {
        "duration": 11,
        "start_time": "2022-01-22T12:42:44.997Z"
      },
      {
        "duration": 470,
        "start_time": "2022-01-22T12:42:45.011Z"
      },
      {
        "duration": 16,
        "start_time": "2022-01-22T12:42:45.483Z"
      },
      {
        "duration": 5,
        "start_time": "2022-01-22T12:42:45.501Z"
      },
      {
        "duration": 5,
        "start_time": "2022-01-22T12:42:45.508Z"
      },
      {
        "duration": 4,
        "start_time": "2022-01-22T12:42:45.516Z"
      },
      {
        "duration": 7,
        "start_time": "2022-01-22T12:42:45.522Z"
      },
      {
        "duration": 37947,
        "start_time": "2022-01-22T12:42:45.530Z"
      },
      {
        "duration": 7,
        "start_time": "2022-01-22T12:43:23.478Z"
      },
      {
        "duration": 6007,
        "start_time": "2022-01-22T12:43:23.486Z"
      },
      {
        "duration": 379,
        "start_time": "2022-01-22T12:43:29.495Z"
      },
      {
        "duration": 6598,
        "start_time": "2022-01-22T12:43:29.877Z"
      },
      {
        "duration": 158,
        "start_time": "2022-01-22T12:43:36.319Z"
      },
      {
        "duration": 155,
        "start_time": "2022-01-22T12:43:36.323Z"
      },
      {
        "duration": 153,
        "start_time": "2022-01-22T12:43:36.326Z"
      },
      {
        "duration": 12,
        "start_time": "2022-01-22T12:45:26.500Z"
      },
      {
        "duration": 10,
        "start_time": "2022-01-22T12:45:53.856Z"
      },
      {
        "duration": 10,
        "start_time": "2022-01-22T12:46:23.664Z"
      },
      {
        "duration": 14,
        "start_time": "2022-01-22T12:46:30.595Z"
      },
      {
        "duration": 9,
        "start_time": "2022-01-22T12:47:21.873Z"
      },
      {
        "duration": 11,
        "start_time": "2022-01-22T12:47:26.368Z"
      },
      {
        "duration": 14,
        "start_time": "2022-01-22T12:48:17.734Z"
      },
      {
        "duration": 1282,
        "start_time": "2022-01-22T12:49:01.058Z"
      },
      {
        "duration": 18,
        "start_time": "2022-01-22T12:49:02.342Z"
      },
      {
        "duration": 8,
        "start_time": "2022-01-22T12:49:02.365Z"
      },
      {
        "duration": 545,
        "start_time": "2022-01-22T12:49:02.374Z"
      },
      {
        "duration": 8,
        "start_time": "2022-01-22T12:49:02.921Z"
      },
      {
        "duration": 10,
        "start_time": "2022-01-22T12:49:02.930Z"
      },
      {
        "duration": 13,
        "start_time": "2022-01-22T12:49:02.943Z"
      },
      {
        "duration": 6,
        "start_time": "2022-01-22T12:49:02.959Z"
      },
      {
        "duration": 36,
        "start_time": "2022-01-22T12:49:02.967Z"
      },
      {
        "duration": 40029,
        "start_time": "2022-01-22T12:49:03.005Z"
      },
      {
        "duration": 7,
        "start_time": "2022-01-22T12:49:43.036Z"
      },
      {
        "duration": 5870,
        "start_time": "2022-01-22T12:49:43.045Z"
      },
      {
        "duration": 391,
        "start_time": "2022-01-22T12:49:48.917Z"
      },
      {
        "duration": 10,
        "start_time": "2022-01-22T12:49:49.310Z"
      },
      {
        "duration": 13,
        "start_time": "2022-01-22T12:49:49.321Z"
      },
      {
        "duration": 7958,
        "start_time": "2022-01-22T12:49:49.336Z"
      },
      {
        "duration": 190,
        "start_time": "2022-01-22T12:49:57.106Z"
      },
      {
        "duration": 188,
        "start_time": "2022-01-22T12:49:57.109Z"
      },
      {
        "duration": 187,
        "start_time": "2022-01-22T12:49:57.111Z"
      },
      {
        "duration": 267,
        "start_time": "2022-01-22T13:00:16.090Z"
      },
      {
        "duration": 280,
        "start_time": "2022-01-22T13:00:34.579Z"
      },
      {
        "duration": 1293,
        "start_time": "2022-01-22T13:03:31.693Z"
      },
      {
        "duration": 15,
        "start_time": "2022-01-22T13:03:32.988Z"
      },
      {
        "duration": 10,
        "start_time": "2022-01-22T13:03:33.006Z"
      },
      {
        "duration": 511,
        "start_time": "2022-01-22T13:03:33.017Z"
      },
      {
        "duration": 7,
        "start_time": "2022-01-22T13:03:33.530Z"
      },
      {
        "duration": 5,
        "start_time": "2022-01-22T13:03:33.539Z"
      },
      {
        "duration": 5,
        "start_time": "2022-01-22T13:03:33.546Z"
      },
      {
        "duration": 5,
        "start_time": "2022-01-22T13:03:33.553Z"
      },
      {
        "duration": 41,
        "start_time": "2022-01-22T13:03:33.560Z"
      },
      {
        "duration": 42160,
        "start_time": "2022-01-22T13:03:33.603Z"
      },
      {
        "duration": 7,
        "start_time": "2022-01-22T13:04:15.765Z"
      },
      {
        "duration": 6117,
        "start_time": "2022-01-22T13:04:15.773Z"
      },
      {
        "duration": 402,
        "start_time": "2022-01-22T13:04:21.892Z"
      },
      {
        "duration": 396,
        "start_time": "2022-01-22T13:04:22.297Z"
      },
      {
        "duration": 232,
        "start_time": "2022-01-22T13:04:22.463Z"
      },
      {
        "duration": 226,
        "start_time": "2022-01-22T13:04:22.470Z"
      },
      {
        "duration": 224,
        "start_time": "2022-01-22T13:04:22.473Z"
      },
      {
        "duration": 222,
        "start_time": "2022-01-22T13:04:22.476Z"
      },
      {
        "duration": 6245,
        "start_time": "2022-01-22T13:05:01.509Z"
      },
      {
        "duration": 11,
        "start_time": "2022-01-22T13:05:33.589Z"
      },
      {
        "duration": 90,
        "start_time": "2022-01-22T13:19:24.213Z"
      },
      {
        "duration": 6673,
        "start_time": "2022-01-22T13:19:33.365Z"
      },
      {
        "duration": 1137,
        "start_time": "2022-01-22T13:19:47.449Z"
      },
      {
        "duration": 14,
        "start_time": "2022-01-22T13:19:48.588Z"
      },
      {
        "duration": 9,
        "start_time": "2022-01-22T13:19:48.604Z"
      },
      {
        "duration": 471,
        "start_time": "2022-01-22T13:19:48.615Z"
      },
      {
        "duration": 13,
        "start_time": "2022-01-22T13:19:49.088Z"
      },
      {
        "duration": 5,
        "start_time": "2022-01-22T13:19:49.103Z"
      },
      {
        "duration": 6,
        "start_time": "2022-01-22T13:19:49.110Z"
      },
      {
        "duration": 5,
        "start_time": "2022-01-22T13:19:49.117Z"
      },
      {
        "duration": 7,
        "start_time": "2022-01-22T13:19:49.124Z"
      },
      {
        "duration": 39324,
        "start_time": "2022-01-22T13:19:49.132Z"
      },
      {
        "duration": 6,
        "start_time": "2022-01-22T13:20:28.457Z"
      },
      {
        "duration": 5635,
        "start_time": "2022-01-22T13:20:28.465Z"
      },
      {
        "duration": 360,
        "start_time": "2022-01-22T13:20:34.102Z"
      },
      {
        "duration": 7730,
        "start_time": "2022-01-22T13:20:34.463Z"
      },
      {
        "duration": 242,
        "start_time": "2022-01-22T13:20:41.953Z"
      },
      {
        "duration": 238,
        "start_time": "2022-01-22T13:20:41.958Z"
      },
      {
        "duration": 236,
        "start_time": "2022-01-22T13:20:41.961Z"
      },
      {
        "duration": 234,
        "start_time": "2022-01-22T13:20:41.964Z"
      },
      {
        "duration": 269,
        "start_time": "2022-01-22T13:22:17.222Z"
      },
      {
        "duration": 1474,
        "start_time": "2022-01-23T05:45:20.685Z"
      },
      {
        "duration": 21,
        "start_time": "2022-01-23T05:45:22.161Z"
      },
      {
        "duration": 10,
        "start_time": "2022-01-23T05:45:22.185Z"
      },
      {
        "duration": 670,
        "start_time": "2022-01-23T05:45:22.198Z"
      },
      {
        "duration": 13,
        "start_time": "2022-01-23T05:45:22.871Z"
      },
      {
        "duration": 38,
        "start_time": "2022-01-23T05:45:22.886Z"
      },
      {
        "duration": 8,
        "start_time": "2022-01-23T05:45:22.928Z"
      },
      {
        "duration": 6,
        "start_time": "2022-01-23T05:45:22.940Z"
      },
      {
        "duration": 9,
        "start_time": "2022-01-23T05:45:22.949Z"
      },
      {
        "duration": 60655,
        "start_time": "2022-01-23T05:45:22.961Z"
      },
      {
        "duration": 10,
        "start_time": "2022-01-23T05:46:23.619Z"
      },
      {
        "duration": 10048,
        "start_time": "2022-01-23T05:46:23.632Z"
      },
      {
        "duration": 922,
        "start_time": "2022-01-23T05:46:33.683Z"
      },
      {
        "duration": 562,
        "start_time": "2022-01-23T05:46:34.607Z"
      },
      {
        "duration": -227,
        "start_time": "2022-01-23T05:46:35.400Z"
      },
      {
        "duration": -236,
        "start_time": "2022-01-23T05:46:35.410Z"
      },
      {
        "duration": -241,
        "start_time": "2022-01-23T05:46:35.417Z"
      },
      {
        "duration": -247,
        "start_time": "2022-01-23T05:46:35.424Z"
      },
      {
        "duration": 277,
        "start_time": "2022-01-23T05:47:47.323Z"
      },
      {
        "duration": 303,
        "start_time": "2022-01-23T05:50:53.948Z"
      },
      {
        "duration": 267,
        "start_time": "2022-01-23T06:02:38.725Z"
      },
      {
        "duration": 300,
        "start_time": "2022-01-23T06:02:49.200Z"
      },
      {
        "duration": 312,
        "start_time": "2022-01-23T06:05:03.537Z"
      },
      {
        "duration": 294,
        "start_time": "2022-01-23T06:05:32.789Z"
      },
      {
        "duration": 299,
        "start_time": "2022-01-23T06:08:42.129Z"
      },
      {
        "duration": 6060,
        "start_time": "2022-01-23T06:10:53.989Z"
      },
      {
        "duration": 89,
        "start_time": "2022-01-23T06:11:45.484Z"
      },
      {
        "duration": 80996,
        "start_time": "2022-01-23T06:11:58.638Z"
      },
      {
        "duration": 1479,
        "start_time": "2022-01-23T06:13:48.523Z"
      },
      {
        "duration": 24,
        "start_time": "2022-01-23T06:13:50.005Z"
      },
      {
        "duration": 10,
        "start_time": "2022-01-23T06:13:50.032Z"
      },
      {
        "duration": 681,
        "start_time": "2022-01-23T06:13:50.045Z"
      },
      {
        "duration": 9,
        "start_time": "2022-01-23T06:13:50.728Z"
      },
      {
        "duration": 8,
        "start_time": "2022-01-23T06:13:50.740Z"
      },
      {
        "duration": 7,
        "start_time": "2022-01-23T06:13:50.750Z"
      },
      {
        "duration": 6,
        "start_time": "2022-01-23T06:13:50.762Z"
      },
      {
        "duration": 57,
        "start_time": "2022-01-23T06:13:50.772Z"
      },
      {
        "duration": 55140,
        "start_time": "2022-01-23T06:13:50.832Z"
      },
      {
        "duration": 9,
        "start_time": "2022-01-23T06:14:45.974Z"
      },
      {
        "duration": 9756,
        "start_time": "2022-01-23T06:14:45.985Z"
      },
      {
        "duration": 573,
        "start_time": "2022-01-23T06:14:55.743Z"
      },
      {
        "duration": 80068,
        "start_time": "2022-01-23T06:14:56.318Z"
      },
      {
        "duration": 13,
        "start_time": "2022-01-23T06:16:16.388Z"
      },
      {
        "duration": 379,
        "start_time": "2022-01-23T06:16:16.404Z"
      },
      {
        "duration": 13,
        "start_time": "2022-01-23T06:16:34.245Z"
      },
      {
        "duration": 86498,
        "start_time": "2022-01-23T06:19:09.112Z"
      },
      {
        "duration": 157,
        "start_time": "2022-01-23T06:34:21.341Z"
      },
      {
        "duration": 164,
        "start_time": "2022-01-23T06:34:31.026Z"
      },
      {
        "duration": 341,
        "start_time": "2022-01-23T06:34:39.924Z"
      },
      {
        "duration": 373,
        "start_time": "2022-01-23T06:36:45.890Z"
      },
      {
        "duration": 89,
        "start_time": "2022-01-23T07:07:10.588Z"
      },
      {
        "duration": 19,
        "start_time": "2022-01-23T07:07:17.531Z"
      },
      {
        "duration": 127,
        "start_time": "2022-01-23T07:09:36.154Z"
      },
      {
        "duration": 86081,
        "start_time": "2022-01-23T07:09:46.662Z"
      },
      {
        "duration": 11,
        "start_time": "2022-01-23T07:11:23.568Z"
      },
      {
        "duration": 11,
        "start_time": "2022-01-23T07:11:28.015Z"
      },
      {
        "duration": 10,
        "start_time": "2022-01-23T07:11:34.358Z"
      },
      {
        "duration": 10,
        "start_time": "2022-01-23T07:11:51.446Z"
      },
      {
        "duration": 10,
        "start_time": "2022-01-23T07:11:55.524Z"
      },
      {
        "duration": 12,
        "start_time": "2022-01-23T07:12:00.452Z"
      },
      {
        "duration": 10,
        "start_time": "2022-01-23T07:12:03.714Z"
      },
      {
        "duration": 10,
        "start_time": "2022-01-23T07:12:06.625Z"
      },
      {
        "duration": 10,
        "start_time": "2022-01-23T07:12:11.940Z"
      },
      {
        "duration": 10,
        "start_time": "2022-01-23T07:12:16.868Z"
      },
      {
        "duration": 9,
        "start_time": "2022-01-23T07:12:27.463Z"
      },
      {
        "duration": 337,
        "start_time": "2022-01-23T07:12:37.239Z"
      },
      {
        "duration": 11,
        "start_time": "2022-01-23T07:12:42.264Z"
      },
      {
        "duration": 244,
        "start_time": "2022-01-23T07:16:20.404Z"
      },
      {
        "duration": 1380,
        "start_time": "2022-01-23T07:16:36.624Z"
      },
      {
        "duration": 24,
        "start_time": "2022-01-23T07:16:38.006Z"
      },
      {
        "duration": 10,
        "start_time": "2022-01-23T07:16:38.033Z"
      },
      {
        "duration": 645,
        "start_time": "2022-01-23T07:16:38.046Z"
      },
      {
        "duration": 10,
        "start_time": "2022-01-23T07:16:38.693Z"
      },
      {
        "duration": 23,
        "start_time": "2022-01-23T07:16:38.705Z"
      },
      {
        "duration": 7,
        "start_time": "2022-01-23T07:16:38.730Z"
      },
      {
        "duration": 8,
        "start_time": "2022-01-23T07:16:38.740Z"
      },
      {
        "duration": 15,
        "start_time": "2022-01-23T07:16:38.751Z"
      },
      {
        "duration": 58404,
        "start_time": "2022-01-23T07:16:38.768Z"
      },
      {
        "duration": 9,
        "start_time": "2022-01-23T07:17:37.174Z"
      },
      {
        "duration": 8733,
        "start_time": "2022-01-23T07:17:37.185Z"
      },
      {
        "duration": 536,
        "start_time": "2022-01-23T07:17:45.923Z"
      },
      {
        "duration": 225,
        "start_time": "2022-01-23T07:17:46.462Z"
      },
      {
        "duration": 11,
        "start_time": "2022-01-23T07:17:46.689Z"
      },
      {
        "duration": 407,
        "start_time": "2022-01-23T07:17:46.703Z"
      },
      {
        "duration": 6,
        "start_time": "2022-01-23T07:17:57.137Z"
      },
      {
        "duration": 1427,
        "start_time": "2022-01-23T07:19:08.383Z"
      },
      {
        "duration": 19,
        "start_time": "2022-01-23T07:19:09.813Z"
      },
      {
        "duration": 10,
        "start_time": "2022-01-23T07:19:09.835Z"
      },
      {
        "duration": 628,
        "start_time": "2022-01-23T07:19:09.847Z"
      },
      {
        "duration": 10,
        "start_time": "2022-01-23T07:19:10.477Z"
      },
      {
        "duration": 7,
        "start_time": "2022-01-23T07:19:10.490Z"
      },
      {
        "duration": 6,
        "start_time": "2022-01-23T07:19:10.523Z"
      },
      {
        "duration": 5,
        "start_time": "2022-01-23T07:19:10.532Z"
      },
      {
        "duration": 11,
        "start_time": "2022-01-23T07:19:10.540Z"
      },
      {
        "duration": 55858,
        "start_time": "2022-01-23T07:19:10.553Z"
      },
      {
        "duration": 13,
        "start_time": "2022-01-23T07:20:06.413Z"
      },
      {
        "duration": 8864,
        "start_time": "2022-01-23T07:20:06.428Z"
      },
      {
        "duration": 565,
        "start_time": "2022-01-23T07:20:15.295Z"
      },
      {
        "duration": 5,
        "start_time": "2022-01-23T07:20:15.862Z"
      },
      {
        "duration": 9139,
        "start_time": "2022-01-23T07:20:15.870Z"
      },
      {
        "duration": 17,
        "start_time": "2022-01-23T07:20:25.011Z"
      },
      {
        "duration": 386,
        "start_time": "2022-01-23T07:20:25.030Z"
      },
      {
        "duration": 10,
        "start_time": "2022-01-23T07:20:47.220Z"
      },
      {
        "duration": 1411,
        "start_time": "2022-01-23T07:23:00.720Z"
      },
      {
        "duration": 22,
        "start_time": "2022-01-23T07:23:02.134Z"
      },
      {
        "duration": 13,
        "start_time": "2022-01-23T07:23:02.160Z"
      },
      {
        "duration": 618,
        "start_time": "2022-01-23T07:23:02.176Z"
      },
      {
        "duration": 11,
        "start_time": "2022-01-23T07:23:02.796Z"
      },
      {
        "duration": 7,
        "start_time": "2022-01-23T07:23:02.824Z"
      },
      {
        "duration": 9,
        "start_time": "2022-01-23T07:23:02.833Z"
      },
      {
        "duration": 7,
        "start_time": "2022-01-23T07:23:02.845Z"
      },
      {
        "duration": 9,
        "start_time": "2022-01-23T07:23:02.854Z"
      },
      {
        "duration": 57408,
        "start_time": "2022-01-23T07:23:02.865Z"
      },
      {
        "duration": 9,
        "start_time": "2022-01-23T07:24:00.275Z"
      },
      {
        "duration": 9822,
        "start_time": "2022-01-23T07:24:00.287Z"
      },
      {
        "duration": 614,
        "start_time": "2022-01-23T07:24:10.111Z"
      },
      {
        "duration": 6,
        "start_time": "2022-01-23T07:24:10.727Z"
      },
      {
        "duration": 9988,
        "start_time": "2022-01-23T07:24:10.736Z"
      },
      {
        "duration": 10,
        "start_time": "2022-01-23T07:24:20.727Z"
      },
      {
        "duration": 2122,
        "start_time": "2022-01-23T07:24:20.739Z"
      },
      {
        "duration": 1512,
        "start_time": "2022-01-23T07:25:23.133Z"
      },
      {
        "duration": 22,
        "start_time": "2022-01-23T07:25:24.648Z"
      },
      {
        "duration": 13,
        "start_time": "2022-01-23T07:25:24.672Z"
      },
      {
        "duration": 649,
        "start_time": "2022-01-23T07:25:24.687Z"
      },
      {
        "duration": 10,
        "start_time": "2022-01-23T07:25:25.339Z"
      },
      {
        "duration": 8,
        "start_time": "2022-01-23T07:25:25.352Z"
      },
      {
        "duration": 6,
        "start_time": "2022-01-23T07:25:25.363Z"
      },
      {
        "duration": 50,
        "start_time": "2022-01-23T07:25:25.374Z"
      },
      {
        "duration": 9,
        "start_time": "2022-01-23T07:25:25.427Z"
      },
      {
        "duration": 58167,
        "start_time": "2022-01-23T07:25:25.438Z"
      },
      {
        "duration": 18,
        "start_time": "2022-01-23T07:26:23.607Z"
      },
      {
        "duration": 9401,
        "start_time": "2022-01-23T07:26:23.627Z"
      },
      {
        "duration": 600,
        "start_time": "2022-01-23T07:26:33.031Z"
      },
      {
        "duration": 5,
        "start_time": "2022-01-23T07:26:33.634Z"
      },
      {
        "duration": 9055,
        "start_time": "2022-01-23T07:26:33.641Z"
      },
      {
        "duration": 9,
        "start_time": "2022-01-23T07:26:42.698Z"
      },
      {
        "duration": 407,
        "start_time": "2022-01-23T07:26:42.709Z"
      },
      {
        "duration": 1760,
        "start_time": "2022-01-23T07:42:24.788Z"
      },
      {
        "duration": 20,
        "start_time": "2022-01-23T07:42:26.551Z"
      },
      {
        "duration": 17,
        "start_time": "2022-01-23T07:42:26.574Z"
      },
      {
        "duration": 641,
        "start_time": "2022-01-23T07:42:26.593Z"
      },
      {
        "duration": 11,
        "start_time": "2022-01-23T07:42:27.236Z"
      },
      {
        "duration": 9,
        "start_time": "2022-01-23T07:42:27.249Z"
      },
      {
        "duration": 7,
        "start_time": "2022-01-23T07:42:27.260Z"
      },
      {
        "duration": 6,
        "start_time": "2022-01-23T07:42:27.270Z"
      },
      {
        "duration": 46,
        "start_time": "2022-01-23T07:42:27.279Z"
      },
      {
        "duration": 61217,
        "start_time": "2022-01-23T07:42:27.328Z"
      },
      {
        "duration": 9,
        "start_time": "2022-01-23T07:43:28.547Z"
      },
      {
        "duration": 9624,
        "start_time": "2022-01-23T07:43:28.558Z"
      },
      {
        "duration": 618,
        "start_time": "2022-01-23T07:43:38.185Z"
      },
      {
        "duration": 21,
        "start_time": "2022-01-23T07:43:38.805Z"
      },
      {
        "duration": 9609,
        "start_time": "2022-01-23T07:43:38.828Z"
      },
      {
        "duration": 16,
        "start_time": "2022-01-23T07:43:48.440Z"
      },
      {
        "duration": 398,
        "start_time": "2022-01-23T07:43:48.459Z"
      },
      {
        "duration": 302,
        "start_time": "2022-01-23T07:52:21.584Z"
      },
      {
        "duration": 270,
        "start_time": "2022-01-23T07:52:41.917Z"
      },
      {
        "duration": 22,
        "start_time": "2022-01-23T07:53:02.561Z"
      },
      {
        "duration": 43,
        "start_time": "2022-01-23T07:55:29.444Z"
      },
      {
        "duration": 1224,
        "start_time": "2022-01-23T10:38:49.040Z"
      },
      {
        "duration": 14,
        "start_time": "2022-01-23T10:38:50.267Z"
      },
      {
        "duration": 34,
        "start_time": "2022-01-23T10:38:50.283Z"
      },
      {
        "duration": 476,
        "start_time": "2022-01-23T10:38:50.319Z"
      },
      {
        "duration": 8,
        "start_time": "2022-01-23T10:38:50.797Z"
      },
      {
        "duration": 8,
        "start_time": "2022-01-23T10:38:50.806Z"
      },
      {
        "duration": 7,
        "start_time": "2022-01-23T10:38:50.815Z"
      },
      {
        "duration": 5,
        "start_time": "2022-01-23T10:38:50.824Z"
      },
      {
        "duration": 8,
        "start_time": "2022-01-23T10:38:50.860Z"
      },
      {
        "duration": 39773,
        "start_time": "2022-01-23T10:38:50.870Z"
      },
      {
        "duration": 15,
        "start_time": "2022-01-23T10:39:30.645Z"
      },
      {
        "duration": 5842,
        "start_time": "2022-01-23T10:39:30.662Z"
      },
      {
        "duration": 370,
        "start_time": "2022-01-23T10:39:36.506Z"
      },
      {
        "duration": 5,
        "start_time": "2022-01-23T10:39:36.878Z"
      },
      {
        "duration": 7098,
        "start_time": "2022-01-23T10:39:36.885Z"
      },
      {
        "duration": 13,
        "start_time": "2022-01-23T10:39:43.985Z"
      },
      {
        "duration": 35,
        "start_time": "2022-01-23T10:39:44.001Z"
      },
      {
        "duration": 40,
        "start_time": "2022-01-23T10:39:44.038Z"
      },
      {
        "duration": 33,
        "start_time": "2022-01-23T10:39:44.080Z"
      },
      {
        "duration": 34,
        "start_time": "2022-01-23T10:40:20.428Z"
      },
      {
        "duration": 17,
        "start_time": "2022-01-23T10:43:39.379Z"
      },
      {
        "duration": 17,
        "start_time": "2022-01-23T10:43:59.729Z"
      },
      {
        "duration": 89,
        "start_time": "2022-01-23T10:46:12.421Z"
      },
      {
        "duration": 344,
        "start_time": "2022-01-23T10:46:20.016Z"
      },
      {
        "duration": 16,
        "start_time": "2022-01-23T10:46:46.598Z"
      },
      {
        "duration": 1175,
        "start_time": "2022-01-23T10:46:57.371Z"
      },
      {
        "duration": 14,
        "start_time": "2022-01-23T10:46:58.548Z"
      },
      {
        "duration": 29,
        "start_time": "2022-01-23T10:46:58.564Z"
      },
      {
        "duration": 520,
        "start_time": "2022-01-23T10:46:58.595Z"
      },
      {
        "duration": 8,
        "start_time": "2022-01-23T10:46:59.116Z"
      },
      {
        "duration": 31,
        "start_time": "2022-01-23T10:46:59.126Z"
      },
      {
        "duration": 51,
        "start_time": "2022-01-23T10:46:59.159Z"
      },
      {
        "duration": 23,
        "start_time": "2022-01-23T10:46:59.212Z"
      },
      {
        "duration": 39,
        "start_time": "2022-01-23T10:46:59.237Z"
      },
      {
        "duration": 39753,
        "start_time": "2022-01-23T10:46:59.278Z"
      },
      {
        "duration": 7,
        "start_time": "2022-01-23T10:47:39.032Z"
      },
      {
        "duration": 5891,
        "start_time": "2022-01-23T10:47:39.040Z"
      },
      {
        "duration": 368,
        "start_time": "2022-01-23T10:47:44.933Z"
      },
      {
        "duration": 5,
        "start_time": "2022-01-23T10:47:45.302Z"
      },
      {
        "duration": 6761,
        "start_time": "2022-01-23T10:47:45.308Z"
      },
      {
        "duration": 10,
        "start_time": "2022-01-23T10:47:52.071Z"
      },
      {
        "duration": 28,
        "start_time": "2022-01-23T10:47:52.083Z"
      },
      {
        "duration": 36,
        "start_time": "2022-01-23T10:47:52.113Z"
      },
      {
        "duration": 5,
        "start_time": "2022-01-23T11:04:17.182Z"
      },
      {
        "duration": 5,
        "start_time": "2022-01-23T11:13:39.858Z"
      },
      {
        "duration": 6,
        "start_time": "2022-01-23T11:13:56.102Z"
      },
      {
        "duration": 6,
        "start_time": "2022-01-23T11:14:45.395Z"
      },
      {
        "duration": 358,
        "start_time": "2022-01-23T11:20:04.638Z"
      },
      {
        "duration": 1135,
        "start_time": "2022-01-23T11:20:13.813Z"
      },
      {
        "duration": 16,
        "start_time": "2022-01-23T11:20:14.951Z"
      },
      {
        "duration": 40,
        "start_time": "2022-01-23T11:20:14.969Z"
      },
      {
        "duration": 497,
        "start_time": "2022-01-23T11:20:15.012Z"
      },
      {
        "duration": 10,
        "start_time": "2022-01-23T11:20:15.511Z"
      },
      {
        "duration": 9,
        "start_time": "2022-01-23T11:20:15.523Z"
      },
      {
        "duration": 36,
        "start_time": "2022-01-23T11:20:15.534Z"
      },
      {
        "duration": 5,
        "start_time": "2022-01-23T11:20:15.573Z"
      },
      {
        "duration": 19,
        "start_time": "2022-01-23T11:20:15.580Z"
      },
      {
        "duration": 41429,
        "start_time": "2022-01-23T11:20:15.601Z"
      },
      {
        "duration": 7,
        "start_time": "2022-01-23T11:20:57.032Z"
      },
      {
        "duration": 5892,
        "start_time": "2022-01-23T11:20:57.040Z"
      },
      {
        "duration": 399,
        "start_time": "2022-01-23T11:21:02.934Z"
      },
      {
        "duration": 5,
        "start_time": "2022-01-23T11:21:03.336Z"
      },
      {
        "duration": 6802,
        "start_time": "2022-01-23T11:21:03.343Z"
      },
      {
        "duration": 15,
        "start_time": "2022-01-23T11:21:10.147Z"
      },
      {
        "duration": 41,
        "start_time": "2022-01-23T11:21:10.163Z"
      },
      {
        "duration": 25,
        "start_time": "2022-01-23T11:21:10.206Z"
      },
      {
        "duration": 440,
        "start_time": "2022-01-23T11:21:10.232Z"
      },
      {
        "duration": 95,
        "start_time": "2022-01-23T11:21:56.208Z"
      },
      {
        "duration": 254,
        "start_time": "2022-01-23T11:22:02.075Z"
      },
      {
        "duration": 4105,
        "start_time": "2022-01-23T11:25:04.146Z"
      },
      {
        "duration": 267,
        "start_time": "2022-01-23T11:54:07.004Z"
      },
      {
        "duration": 323,
        "start_time": "2022-01-23T11:56:01.085Z"
      },
      {
        "duration": 11779,
        "start_time": "2022-01-23T12:05:20.856Z"
      },
      {
        "duration": 249,
        "start_time": "2022-01-23T12:07:41.456Z"
      },
      {
        "duration": 1270,
        "start_time": "2022-01-23T12:07:56.280Z"
      },
      {
        "duration": 15,
        "start_time": "2022-01-23T12:07:57.552Z"
      },
      {
        "duration": 27,
        "start_time": "2022-01-23T12:07:57.572Z"
      },
      {
        "duration": 516,
        "start_time": "2022-01-23T12:07:57.601Z"
      },
      {
        "duration": 8,
        "start_time": "2022-01-23T12:07:58.119Z"
      },
      {
        "duration": 25,
        "start_time": "2022-01-23T12:07:58.128Z"
      },
      {
        "duration": 32,
        "start_time": "2022-01-23T12:07:58.156Z"
      },
      {
        "duration": 7,
        "start_time": "2022-01-23T12:07:58.190Z"
      },
      {
        "duration": 18,
        "start_time": "2022-01-23T12:07:58.199Z"
      },
      {
        "duration": 40404,
        "start_time": "2022-01-23T12:07:58.218Z"
      },
      {
        "duration": 6,
        "start_time": "2022-01-23T12:08:38.624Z"
      },
      {
        "duration": 6083,
        "start_time": "2022-01-23T12:08:38.632Z"
      },
      {
        "duration": 411,
        "start_time": "2022-01-23T12:08:44.716Z"
      },
      {
        "duration": 5,
        "start_time": "2022-01-23T12:08:45.129Z"
      },
      {
        "duration": 7656,
        "start_time": "2022-01-23T12:08:45.135Z"
      },
      {
        "duration": 10,
        "start_time": "2022-01-23T12:08:52.793Z"
      },
      {
        "duration": 25,
        "start_time": "2022-01-23T12:08:52.805Z"
      },
      {
        "duration": 39,
        "start_time": "2022-01-23T12:08:52.831Z"
      },
      {
        "duration": 13327,
        "start_time": "2022-01-23T12:08:52.872Z"
      },
      {
        "duration": 408,
        "start_time": "2022-01-23T14:23:49.582Z"
      },
      {
        "duration": 1744,
        "start_time": "2022-01-23T14:59:49.969Z"
      },
      {
        "duration": 1328,
        "start_time": "2022-01-23T15:08:55.772Z"
      },
      {
        "duration": 15,
        "start_time": "2022-01-23T15:08:57.102Z"
      },
      {
        "duration": 30,
        "start_time": "2022-01-23T15:08:57.119Z"
      },
      {
        "duration": 483,
        "start_time": "2022-01-23T15:08:57.151Z"
      },
      {
        "duration": 8,
        "start_time": "2022-01-23T15:08:57.636Z"
      },
      {
        "duration": 33,
        "start_time": "2022-01-23T15:08:57.646Z"
      },
      {
        "duration": 42,
        "start_time": "2022-01-23T15:08:57.681Z"
      },
      {
        "duration": 5,
        "start_time": "2022-01-23T15:08:57.725Z"
      },
      {
        "duration": 35,
        "start_time": "2022-01-23T15:08:57.732Z"
      },
      {
        "duration": 41752,
        "start_time": "2022-01-23T15:08:57.769Z"
      },
      {
        "duration": 6,
        "start_time": "2022-01-23T15:09:39.523Z"
      },
      {
        "duration": 6121,
        "start_time": "2022-01-23T15:09:39.531Z"
      },
      {
        "duration": 382,
        "start_time": "2022-01-23T15:09:45.654Z"
      },
      {
        "duration": 5,
        "start_time": "2022-01-23T15:09:46.037Z"
      },
      {
        "duration": 7132,
        "start_time": "2022-01-23T15:09:46.044Z"
      },
      {
        "duration": 10,
        "start_time": "2022-01-23T15:09:53.178Z"
      },
      {
        "duration": 30,
        "start_time": "2022-01-23T15:09:53.190Z"
      },
      {
        "duration": 47,
        "start_time": "2022-01-23T15:09:53.221Z"
      },
      {
        "duration": 3852,
        "start_time": "2022-01-23T15:09:53.270Z"
      },
      {
        "duration": 87,
        "start_time": "2022-01-23T15:09:57.125Z"
      },
      {
        "duration": -12,
        "start_time": "2022-01-23T15:09:57.226Z"
      },
      {
        "duration": 14,
        "start_time": "2022-01-23T15:10:34.931Z"
      },
      {
        "duration": 3198,
        "start_time": "2022-01-23T15:11:15.697Z"
      },
      {
        "duration": 18,
        "start_time": "2022-01-23T15:11:27.075Z"
      },
      {
        "duration": 67,
        "start_time": "2022-01-23T15:12:14.584Z"
      },
      {
        "duration": 382,
        "start_time": "2022-01-23T15:16:59.415Z"
      },
      {
        "duration": 263,
        "start_time": "2022-01-23T15:17:26.839Z"
      },
      {
        "duration": 341,
        "start_time": "2022-01-23T15:17:47.339Z"
      },
      {
        "duration": 406,
        "start_time": "2022-01-23T15:18:30.638Z"
      },
      {
        "duration": 256,
        "start_time": "2022-01-23T15:23:30.418Z"
      },
      {
        "duration": 3011,
        "start_time": "2022-01-23T15:23:38.252Z"
      },
      {
        "duration": 7,
        "start_time": "2022-01-23T15:36:00.082Z"
      },
      {
        "duration": 1855,
        "start_time": "2022-01-23T15:36:29.595Z"
      },
      {
        "duration": 2430,
        "start_time": "2022-01-23T15:37:15.202Z"
      },
      {
        "duration": 11,
        "start_time": "2022-01-23T15:37:31.967Z"
      },
      {
        "duration": 6,
        "start_time": "2022-01-23T15:37:45.999Z"
      },
      {
        "duration": 91,
        "start_time": "2022-01-23T15:40:53.016Z"
      },
      {
        "duration": 251,
        "start_time": "2022-01-23T15:41:00.544Z"
      },
      {
        "duration": 2980,
        "start_time": "2022-01-23T15:41:25.570Z"
      },
      {
        "duration": 1259,
        "start_time": "2022-01-23T15:41:39.019Z"
      },
      {
        "duration": 15,
        "start_time": "2022-01-23T15:41:40.281Z"
      },
      {
        "duration": 27,
        "start_time": "2022-01-23T15:41:40.302Z"
      },
      {
        "duration": 639,
        "start_time": "2022-01-23T15:41:40.331Z"
      },
      {
        "duration": 8,
        "start_time": "2022-01-23T15:41:40.972Z"
      },
      {
        "duration": 30,
        "start_time": "2022-01-23T15:41:40.982Z"
      },
      {
        "duration": 36,
        "start_time": "2022-01-23T15:41:41.014Z"
      },
      {
        "duration": 12,
        "start_time": "2022-01-23T15:41:41.052Z"
      },
      {
        "duration": 34,
        "start_time": "2022-01-23T15:41:41.065Z"
      },
      {
        "duration": 41984,
        "start_time": "2022-01-23T15:41:41.101Z"
      },
      {
        "duration": 6,
        "start_time": "2022-01-23T15:42:23.087Z"
      },
      {
        "duration": 5731,
        "start_time": "2022-01-23T15:42:23.095Z"
      },
      {
        "duration": 369,
        "start_time": "2022-01-23T15:42:28.828Z"
      },
      {
        "duration": 4,
        "start_time": "2022-01-23T15:42:29.199Z"
      },
      {
        "duration": 6655,
        "start_time": "2022-01-23T15:42:29.205Z"
      },
      {
        "duration": 10,
        "start_time": "2022-01-23T15:42:35.862Z"
      },
      {
        "duration": 31,
        "start_time": "2022-01-23T15:42:35.874Z"
      },
      {
        "duration": 18,
        "start_time": "2022-01-23T15:42:35.907Z"
      },
      {
        "duration": 6,
        "start_time": "2022-01-23T15:42:35.927Z"
      },
      {
        "duration": 3790,
        "start_time": "2022-01-23T15:42:35.935Z"
      },
      {
        "duration": 17,
        "start_time": "2022-01-23T15:42:39.727Z"
      },
      {
        "duration": 926,
        "start_time": "2022-01-23T15:42:50.741Z"
      },
      {
        "duration": 3500,
        "start_time": "2022-01-23T15:47:00.174Z"
      },
      {
        "duration": 3712,
        "start_time": "2022-01-23T15:47:22.396Z"
      },
      {
        "duration": 5257,
        "start_time": "2022-01-23T15:47:30.712Z"
      },
      {
        "duration": 3525,
        "start_time": "2022-01-23T15:47:41.730Z"
      },
      {
        "duration": 3334,
        "start_time": "2022-01-23T15:52:15.873Z"
      },
      {
        "duration": 3356,
        "start_time": "2022-01-23T15:53:32.980Z"
      },
      {
        "duration": 3425,
        "start_time": "2022-01-23T15:56:15.885Z"
      },
      {
        "duration": 3281,
        "start_time": "2022-01-23T16:05:00.352Z"
      },
      {
        "duration": 2921,
        "start_time": "2022-01-23T16:12:46.515Z"
      },
      {
        "duration": 3031,
        "start_time": "2022-01-23T16:13:20.371Z"
      },
      {
        "duration": 3744,
        "start_time": "2022-01-23T17:07:25.075Z"
      },
      {
        "duration": 2821,
        "start_time": "2022-01-23T17:07:44.604Z"
      },
      {
        "duration": 3490,
        "start_time": "2022-01-23T17:08:30.503Z"
      },
      {
        "duration": 3489,
        "start_time": "2022-01-23T17:13:14.960Z"
      },
      {
        "duration": 3330,
        "start_time": "2022-01-23T17:16:11.709Z"
      },
      {
        "duration": 3692,
        "start_time": "2022-01-23T17:35:35.688Z"
      },
      {
        "duration": 3023,
        "start_time": "2022-01-23T17:37:52.972Z"
      },
      {
        "duration": 110,
        "start_time": "2022-01-23T17:42:11.241Z"
      },
      {
        "duration": 8,
        "start_time": "2022-01-23T17:42:23.892Z"
      },
      {
        "duration": 12,
        "start_time": "2022-01-23T17:42:47.093Z"
      },
      {
        "duration": 26,
        "start_time": "2022-01-23T17:55:01.316Z"
      },
      {
        "duration": 1153,
        "start_time": "2022-01-23T17:56:24.506Z"
      },
      {
        "duration": 14,
        "start_time": "2022-01-23T17:56:25.664Z"
      },
      {
        "duration": 46,
        "start_time": "2022-01-23T17:56:25.679Z"
      },
      {
        "duration": 494,
        "start_time": "2022-01-23T17:56:25.727Z"
      },
      {
        "duration": 8,
        "start_time": "2022-01-23T17:56:26.222Z"
      },
      {
        "duration": 24,
        "start_time": "2022-01-23T17:56:26.231Z"
      },
      {
        "duration": 31,
        "start_time": "2022-01-23T17:56:26.261Z"
      },
      {
        "duration": 14,
        "start_time": "2022-01-23T17:56:26.295Z"
      },
      {
        "duration": 37,
        "start_time": "2022-01-23T17:56:26.311Z"
      },
      {
        "duration": 39861,
        "start_time": "2022-01-23T17:56:26.349Z"
      },
      {
        "duration": 7,
        "start_time": "2022-01-23T17:57:06.211Z"
      },
      {
        "duration": 5726,
        "start_time": "2022-01-23T17:57:06.220Z"
      },
      {
        "duration": 361,
        "start_time": "2022-01-23T17:57:11.948Z"
      },
      {
        "duration": 4,
        "start_time": "2022-01-23T17:57:12.311Z"
      },
      {
        "duration": 6628,
        "start_time": "2022-01-23T17:57:12.317Z"
      },
      {
        "duration": 13,
        "start_time": "2022-01-23T17:57:18.947Z"
      },
      {
        "duration": 47,
        "start_time": "2022-01-23T17:57:18.962Z"
      },
      {
        "duration": 3530,
        "start_time": "2022-01-23T17:57:19.011Z"
      },
      {
        "duration": 95,
        "start_time": "2022-01-23T17:57:22.543Z"
      },
      {
        "duration": 294,
        "start_time": "2022-01-23T17:57:22.346Z"
      },
      {
        "duration": 27,
        "start_time": "2022-01-23T18:00:11.599Z"
      },
      {
        "duration": 30,
        "start_time": "2022-01-23T18:01:43.199Z"
      },
      {
        "duration": 100,
        "start_time": "2022-01-23T18:08:03.122Z"
      },
      {
        "duration": 267,
        "start_time": "2022-01-23T18:08:12.827Z"
      },
      {
        "duration": 5,
        "start_time": "2022-01-23T18:09:15.216Z"
      },
      {
        "duration": 4,
        "start_time": "2022-01-23T18:09:48.602Z"
      },
      {
        "duration": 4,
        "start_time": "2022-01-23T18:09:56.832Z"
      },
      {
        "duration": 20125,
        "start_time": "2022-01-23T18:11:04.672Z"
      },
      {
        "duration": 1067,
        "start_time": "2022-01-24T09:08:11.224Z"
      },
      {
        "duration": 1214,
        "start_time": "2022-01-24T09:08:24.627Z"
      },
      {
        "duration": 15,
        "start_time": "2022-01-24T09:08:25.844Z"
      },
      {
        "duration": 7,
        "start_time": "2022-01-24T09:08:25.862Z"
      },
      {
        "duration": 539,
        "start_time": "2022-01-24T09:08:25.871Z"
      },
      {
        "duration": 9,
        "start_time": "2022-01-24T09:08:26.413Z"
      },
      {
        "duration": 17,
        "start_time": "2022-01-24T09:08:26.423Z"
      },
      {
        "duration": 23,
        "start_time": "2022-01-24T09:08:26.442Z"
      },
      {
        "duration": 6,
        "start_time": "2022-01-24T09:08:26.468Z"
      },
      {
        "duration": 36,
        "start_time": "2022-01-24T09:08:26.475Z"
      },
      {
        "duration": 47135,
        "start_time": "2022-01-24T09:08:26.513Z"
      },
      {
        "duration": 8,
        "start_time": "2022-01-24T09:09:13.651Z"
      },
      {
        "duration": 6785,
        "start_time": "2022-01-24T09:09:13.661Z"
      },
      {
        "duration": 431,
        "start_time": "2022-01-24T09:09:20.448Z"
      },
      {
        "duration": 5,
        "start_time": "2022-01-24T09:09:20.881Z"
      },
      {
        "duration": 7839,
        "start_time": "2022-01-24T09:09:20.888Z"
      },
      {
        "duration": 11,
        "start_time": "2022-01-24T09:09:28.729Z"
      },
      {
        "duration": 34,
        "start_time": "2022-01-24T09:09:28.742Z"
      },
      {
        "duration": 4329,
        "start_time": "2022-01-24T09:09:28.778Z"
      },
      {
        "duration": 19,
        "start_time": "2022-01-24T09:09:33.110Z"
      },
      {
        "duration": 441,
        "start_time": "2022-01-24T09:10:29.753Z"
      },
      {
        "duration": 3263,
        "start_time": "2022-01-24T09:10:44.217Z"
      },
      {
        "duration": 1385,
        "start_time": "2022-01-24T09:12:09.050Z"
      },
      {
        "duration": 17,
        "start_time": "2022-01-24T09:12:10.437Z"
      },
      {
        "duration": 13,
        "start_time": "2022-01-24T09:12:10.456Z"
      },
      {
        "duration": 538,
        "start_time": "2022-01-24T09:12:10.471Z"
      },
      {
        "duration": 9,
        "start_time": "2022-01-24T09:12:11.011Z"
      },
      {
        "duration": 11,
        "start_time": "2022-01-24T09:12:11.022Z"
      },
      {
        "duration": 27,
        "start_time": "2022-01-24T09:12:11.035Z"
      },
      {
        "duration": 5,
        "start_time": "2022-01-24T09:12:11.065Z"
      },
      {
        "duration": 35,
        "start_time": "2022-01-24T09:12:11.073Z"
      },
      {
        "duration": 48169,
        "start_time": "2022-01-24T09:12:11.110Z"
      },
      {
        "duration": 8,
        "start_time": "2022-01-24T09:12:59.281Z"
      },
      {
        "duration": 6594,
        "start_time": "2022-01-24T09:12:59.291Z"
      },
      {
        "duration": 415,
        "start_time": "2022-01-24T09:13:05.887Z"
      },
      {
        "duration": 4,
        "start_time": "2022-01-24T09:13:06.307Z"
      },
      {
        "duration": 8394,
        "start_time": "2022-01-24T09:13:06.313Z"
      },
      {
        "duration": 13,
        "start_time": "2022-01-24T09:13:14.709Z"
      },
      {
        "duration": 65,
        "start_time": "2022-01-24T09:13:14.723Z"
      },
      {
        "duration": 3960,
        "start_time": "2022-01-24T09:13:14.790Z"
      },
      {
        "duration": 17,
        "start_time": "2022-01-24T09:13:18.752Z"
      },
      {
        "duration": 1130,
        "start_time": "2022-01-24T09:15:37.987Z"
      },
      {
        "duration": 1096,
        "start_time": "2022-01-24T09:16:03.451Z"
      },
      {
        "duration": 1196,
        "start_time": "2022-01-24T09:16:40.540Z"
      },
      {
        "duration": 1003,
        "start_time": "2022-01-24T09:19:11.393Z"
      },
      {
        "duration": 964,
        "start_time": "2022-01-24T09:19:22.023Z"
      },
      {
        "duration": 1001,
        "start_time": "2022-01-24T09:19:30.967Z"
      },
      {
        "duration": 1294,
        "start_time": "2022-01-24T09:19:42.334Z"
      },
      {
        "duration": 1342,
        "start_time": "2022-01-24T09:20:03.195Z"
      },
      {
        "duration": 16,
        "start_time": "2022-01-24T09:20:04.539Z"
      },
      {
        "duration": 41,
        "start_time": "2022-01-24T09:20:04.557Z"
      },
      {
        "duration": 485,
        "start_time": "2022-01-24T09:20:04.600Z"
      },
      {
        "duration": 8,
        "start_time": "2022-01-24T09:20:05.087Z"
      },
      {
        "duration": 7,
        "start_time": "2022-01-24T09:20:05.108Z"
      },
      {
        "duration": 30,
        "start_time": "2022-01-24T09:20:05.117Z"
      },
      {
        "duration": 8,
        "start_time": "2022-01-24T09:20:05.150Z"
      },
      {
        "duration": 15,
        "start_time": "2022-01-24T09:20:05.160Z"
      },
      {
        "duration": 43448,
        "start_time": "2022-01-24T09:20:05.177Z"
      },
      {
        "duration": 8,
        "start_time": "2022-01-24T09:20:48.626Z"
      },
      {
        "duration": 6684,
        "start_time": "2022-01-24T09:20:48.637Z"
      },
      {
        "duration": 496,
        "start_time": "2022-01-24T09:20:55.323Z"
      },
      {
        "duration": 5,
        "start_time": "2022-01-24T09:20:55.821Z"
      },
      {
        "duration": 7668,
        "start_time": "2022-01-24T09:20:55.828Z"
      },
      {
        "duration": 16,
        "start_time": "2022-01-24T09:21:03.497Z"
      },
      {
        "duration": 63,
        "start_time": "2022-01-24T09:21:03.515Z"
      },
      {
        "duration": 3685,
        "start_time": "2022-01-24T09:21:03.580Z"
      },
      {
        "duration": 19,
        "start_time": "2022-01-24T09:21:07.268Z"
      },
      {
        "duration": 538,
        "start_time": "2022-01-24T09:21:19.150Z"
      },
      {
        "duration": 80,
        "start_time": "2022-01-24T09:21:48.241Z"
      },
      {
        "duration": 36,
        "start_time": "2022-01-24T09:21:58.607Z"
      },
      {
        "duration": 334,
        "start_time": "2022-01-24T09:23:05.392Z"
      },
      {
        "duration": 32,
        "start_time": "2022-01-24T09:23:15.903Z"
      },
      {
        "duration": 104,
        "start_time": "2022-01-24T09:23:36.376Z"
      },
      {
        "duration": 87,
        "start_time": "2022-01-24T09:24:38.057Z"
      },
      {
        "duration": 809,
        "start_time": "2022-01-24T09:24:45.232Z"
      },
      {
        "duration": 106,
        "start_time": "2022-01-24T09:25:07.914Z"
      },
      {
        "duration": 106,
        "start_time": "2022-01-24T09:25:19.401Z"
      },
      {
        "duration": 31,
        "start_time": "2022-01-24T09:27:05.203Z"
      },
      {
        "duration": 350,
        "start_time": "2022-01-24T09:33:04.787Z"
      },
      {
        "duration": 30588,
        "start_time": "2022-01-24T09:33:59.342Z"
      },
      {
        "duration": 22609,
        "start_time": "2022-01-24T09:37:35.774Z"
      },
      {
        "duration": 14,
        "start_time": "2022-01-24T09:38:35.575Z"
      },
      {
        "duration": 1346,
        "start_time": "2022-01-24T09:44:38.075Z"
      },
      {
        "duration": 16,
        "start_time": "2022-01-24T09:44:39.423Z"
      },
      {
        "duration": 30,
        "start_time": "2022-01-24T09:44:39.441Z"
      },
      {
        "duration": 506,
        "start_time": "2022-01-24T09:44:39.473Z"
      },
      {
        "duration": 9,
        "start_time": "2022-01-24T09:44:39.981Z"
      },
      {
        "duration": 20,
        "start_time": "2022-01-24T09:44:39.992Z"
      },
      {
        "duration": 24,
        "start_time": "2022-01-24T09:44:40.014Z"
      },
      {
        "duration": 7,
        "start_time": "2022-01-24T09:44:40.041Z"
      },
      {
        "duration": 15,
        "start_time": "2022-01-24T09:44:40.050Z"
      },
      {
        "duration": 44251,
        "start_time": "2022-01-24T09:44:40.067Z"
      },
      {
        "duration": 7,
        "start_time": "2022-01-24T09:45:24.320Z"
      },
      {
        "duration": 6219,
        "start_time": "2022-01-24T09:45:24.329Z"
      },
      {
        "duration": 403,
        "start_time": "2022-01-24T09:45:30.551Z"
      },
      {
        "duration": 5,
        "start_time": "2022-01-24T09:45:30.956Z"
      },
      {
        "duration": 7800,
        "start_time": "2022-01-24T09:45:30.963Z"
      },
      {
        "duration": 11,
        "start_time": "2022-01-24T09:45:38.765Z"
      },
      {
        "duration": 81,
        "start_time": "2022-01-24T09:45:38.778Z"
      },
      {
        "duration": 3824,
        "start_time": "2022-01-24T09:45:38.861Z"
      },
      {
        "duration": 43,
        "start_time": "2022-01-24T09:45:42.687Z"
      },
      {
        "duration": 1303,
        "start_time": "2022-01-24T10:47:50.326Z"
      },
      {
        "duration": 17,
        "start_time": "2022-01-24T10:47:51.631Z"
      },
      {
        "duration": 18,
        "start_time": "2022-01-24T10:47:51.650Z"
      },
      {
        "duration": 500,
        "start_time": "2022-01-24T10:47:51.670Z"
      },
      {
        "duration": 8,
        "start_time": "2022-01-24T10:47:52.172Z"
      },
      {
        "duration": 11,
        "start_time": "2022-01-24T10:47:52.182Z"
      },
      {
        "duration": 27,
        "start_time": "2022-01-24T10:47:52.195Z"
      },
      {
        "duration": 5,
        "start_time": "2022-01-24T10:47:52.224Z"
      },
      {
        "duration": 14,
        "start_time": "2022-01-24T10:47:52.232Z"
      },
      {
        "duration": 44683,
        "start_time": "2022-01-24T10:47:52.248Z"
      },
      {
        "duration": 8,
        "start_time": "2022-01-24T10:48:36.932Z"
      },
      {
        "duration": 6240,
        "start_time": "2022-01-24T10:48:36.942Z"
      },
      {
        "duration": 435,
        "start_time": "2022-01-24T10:48:43.184Z"
      },
      {
        "duration": 5,
        "start_time": "2022-01-24T10:48:43.621Z"
      },
      {
        "duration": 7798,
        "start_time": "2022-01-24T10:48:43.628Z"
      },
      {
        "duration": 12,
        "start_time": "2022-01-24T10:48:51.428Z"
      },
      {
        "duration": 74,
        "start_time": "2022-01-24T10:48:51.442Z"
      },
      {
        "duration": 3909,
        "start_time": "2022-01-24T10:48:51.518Z"
      },
      {
        "duration": 36,
        "start_time": "2022-01-24T10:48:55.429Z"
      },
      {
        "duration": 99,
        "start_time": "2022-01-24T10:48:55.467Z"
      },
      {
        "duration": -26,
        "start_time": "2022-01-24T10:48:55.594Z"
      },
      {
        "duration": -28,
        "start_time": "2022-01-24T10:48:55.597Z"
      },
      {
        "duration": 55044,
        "start_time": "2022-01-24T10:50:18.343Z"
      },
      {
        "duration": 14,
        "start_time": "2022-01-24T10:51:48.687Z"
      },
      {
        "duration": 652,
        "start_time": "2022-01-24T10:52:38.047Z"
      },
      {
        "duration": 575,
        "start_time": "2022-01-24T10:53:13.133Z"
      },
      {
        "duration": 471,
        "start_time": "2022-01-24T10:53:46.984Z"
      },
      {
        "duration": 469,
        "start_time": "2022-01-24T10:53:54.879Z"
      },
      {
        "duration": 496,
        "start_time": "2022-01-24T10:54:07.823Z"
      },
      {
        "duration": 344,
        "start_time": "2022-01-24T13:48:09.279Z"
      },
      {
        "duration": 1265,
        "start_time": "2022-01-24T13:48:17.567Z"
      },
      {
        "duration": 16,
        "start_time": "2022-01-24T13:48:18.834Z"
      },
      {
        "duration": 24,
        "start_time": "2022-01-24T13:48:18.852Z"
      },
      {
        "duration": 502,
        "start_time": "2022-01-24T13:48:18.879Z"
      },
      {
        "duration": 9,
        "start_time": "2022-01-24T13:48:19.383Z"
      },
      {
        "duration": 37,
        "start_time": "2022-01-24T13:48:19.394Z"
      },
      {
        "duration": 39,
        "start_time": "2022-01-24T13:48:19.434Z"
      },
      {
        "duration": 7,
        "start_time": "2022-01-24T13:48:19.476Z"
      },
      {
        "duration": 17,
        "start_time": "2022-01-24T13:48:19.486Z"
      },
      {
        "duration": 51558,
        "start_time": "2022-01-24T13:48:19.505Z"
      },
      {
        "duration": 8,
        "start_time": "2022-01-24T13:49:11.065Z"
      },
      {
        "duration": 6674,
        "start_time": "2022-01-24T13:49:11.075Z"
      },
      {
        "duration": 426,
        "start_time": "2022-01-24T13:49:17.751Z"
      },
      {
        "duration": 5,
        "start_time": "2022-01-24T13:49:18.180Z"
      },
      {
        "duration": 9090,
        "start_time": "2022-01-24T13:49:18.186Z"
      },
      {
        "duration": 14,
        "start_time": "2022-01-24T13:49:27.278Z"
      },
      {
        "duration": 60,
        "start_time": "2022-01-24T13:49:27.308Z"
      },
      {
        "duration": 4953,
        "start_time": "2022-01-24T13:49:27.370Z"
      },
      {
        "duration": 8,
        "start_time": "2022-01-24T13:49:32.326Z"
      },
      {
        "duration": 81024,
        "start_time": "2022-01-24T13:49:32.336Z"
      },
      {
        "duration": 811,
        "start_time": "2022-01-24T13:50:53.363Z"
      },
      {
        "duration": 31,
        "start_time": "2022-01-24T13:50:54.177Z"
      },
      {
        "duration": 1295,
        "start_time": "2022-01-24T13:54:24.760Z"
      },
      {
        "duration": 17,
        "start_time": "2022-01-24T13:54:26.057Z"
      },
      {
        "duration": 33,
        "start_time": "2022-01-24T13:54:26.079Z"
      },
      {
        "duration": 495,
        "start_time": "2022-01-24T13:54:26.114Z"
      },
      {
        "duration": 9,
        "start_time": "2022-01-24T13:54:26.611Z"
      },
      {
        "duration": 10,
        "start_time": "2022-01-24T13:54:26.622Z"
      },
      {
        "duration": 22,
        "start_time": "2022-01-24T13:54:26.634Z"
      },
      {
        "duration": 5,
        "start_time": "2022-01-24T13:54:26.659Z"
      },
      {
        "duration": 8,
        "start_time": "2022-01-24T13:54:26.666Z"
      },
      {
        "duration": 45475,
        "start_time": "2022-01-24T13:54:26.708Z"
      },
      {
        "duration": 7,
        "start_time": "2022-01-24T13:55:12.185Z"
      },
      {
        "duration": 6676,
        "start_time": "2022-01-24T13:55:12.194Z"
      },
      {
        "duration": 428,
        "start_time": "2022-01-24T13:55:18.872Z"
      },
      {
        "duration": 5,
        "start_time": "2022-01-24T13:55:19.306Z"
      },
      {
        "duration": 8457,
        "start_time": "2022-01-24T13:55:19.313Z"
      },
      {
        "duration": 11,
        "start_time": "2022-01-24T13:55:27.773Z"
      },
      {
        "duration": 75,
        "start_time": "2022-01-24T13:55:27.786Z"
      },
      {
        "duration": 4027,
        "start_time": "2022-01-24T13:55:27.863Z"
      },
      {
        "duration": 47,
        "start_time": "2022-01-24T13:55:31.893Z"
      },
      {
        "duration": 56002,
        "start_time": "2022-01-24T13:55:31.942Z"
      },
      {
        "duration": 552,
        "start_time": "2022-01-24T13:56:27.946Z"
      },
      {
        "duration": 19,
        "start_time": "2022-01-24T13:56:28.499Z"
      },
      {
        "duration": 36,
        "start_time": "2022-01-24T13:56:55.822Z"
      },
      {
        "duration": 36,
        "start_time": "2022-01-24T14:20:14.547Z"
      },
      {
        "duration": 37,
        "start_time": "2022-01-24T14:20:55.018Z"
      },
      {
        "duration": 8,
        "start_time": "2022-01-24T14:29:27.840Z"
      },
      {
        "duration": 9,
        "start_time": "2022-01-24T14:48:36.891Z"
      },
      {
        "duration": 339,
        "start_time": "2022-01-24T14:50:22.941Z"
      },
      {
        "duration": 9,
        "start_time": "2022-01-24T14:50:33.142Z"
      },
      {
        "duration": 36,
        "start_time": "2022-01-24T14:58:51.072Z"
      },
      {
        "duration": 194,
        "start_time": "2022-01-24T14:59:07.168Z"
      },
      {
        "duration": 10,
        "start_time": "2022-01-24T14:59:20.928Z"
      },
      {
        "duration": 1333,
        "start_time": "2022-01-24T14:59:43.660Z"
      },
      {
        "duration": 18,
        "start_time": "2022-01-24T14:59:44.995Z"
      },
      {
        "duration": 28,
        "start_time": "2022-01-24T14:59:45.020Z"
      },
      {
        "duration": 634,
        "start_time": "2022-01-24T14:59:45.051Z"
      },
      {
        "duration": 8,
        "start_time": "2022-01-24T14:59:45.687Z"
      },
      {
        "duration": 9,
        "start_time": "2022-01-24T14:59:45.708Z"
      },
      {
        "duration": 27,
        "start_time": "2022-01-24T14:59:45.720Z"
      },
      {
        "duration": 5,
        "start_time": "2022-01-24T14:59:45.749Z"
      },
      {
        "duration": 8,
        "start_time": "2022-01-24T14:59:45.757Z"
      },
      {
        "duration": 47845,
        "start_time": "2022-01-24T14:59:45.768Z"
      },
      {
        "duration": 8,
        "start_time": "2022-01-24T15:00:33.616Z"
      },
      {
        "duration": 6618,
        "start_time": "2022-01-24T15:00:33.626Z"
      },
      {
        "duration": 444,
        "start_time": "2022-01-24T15:00:40.247Z"
      },
      {
        "duration": 17,
        "start_time": "2022-01-24T15:00:40.693Z"
      },
      {
        "duration": 8925,
        "start_time": "2022-01-24T15:00:40.712Z"
      },
      {
        "duration": 12,
        "start_time": "2022-01-24T15:00:49.639Z"
      },
      {
        "duration": 79,
        "start_time": "2022-01-24T15:00:49.653Z"
      },
      {
        "duration": 4298,
        "start_time": "2022-01-24T15:00:49.734Z"
      },
      {
        "duration": 38,
        "start_time": "2022-01-24T15:00:54.035Z"
      },
      {
        "duration": 55784,
        "start_time": "2022-01-24T15:00:54.075Z"
      },
      {
        "duration": 525,
        "start_time": "2022-01-24T15:01:49.861Z"
      },
      {
        "duration": 14,
        "start_time": "2022-01-24T15:01:50.388Z"
      },
      {
        "duration": 1255,
        "start_time": "2022-01-24T15:40:20.455Z"
      },
      {
        "duration": 16,
        "start_time": "2022-01-24T15:40:21.712Z"
      },
      {
        "duration": 22,
        "start_time": "2022-01-24T15:40:21.731Z"
      },
      {
        "duration": 531,
        "start_time": "2022-01-24T15:40:21.756Z"
      },
      {
        "duration": 8,
        "start_time": "2022-01-24T15:40:22.289Z"
      },
      {
        "duration": 14,
        "start_time": "2022-01-24T15:40:22.299Z"
      },
      {
        "duration": 26,
        "start_time": "2022-01-24T15:40:22.315Z"
      },
      {
        "duration": 5,
        "start_time": "2022-01-24T15:40:22.344Z"
      },
      {
        "duration": 8,
        "start_time": "2022-01-24T15:40:22.351Z"
      },
      {
        "duration": 44197,
        "start_time": "2022-01-24T15:40:22.361Z"
      },
      {
        "duration": 7,
        "start_time": "2022-01-24T15:41:06.560Z"
      },
      {
        "duration": 6129,
        "start_time": "2022-01-24T15:41:06.569Z"
      },
      {
        "duration": 398,
        "start_time": "2022-01-24T15:41:12.707Z"
      },
      {
        "duration": 5,
        "start_time": "2022-01-24T15:41:13.107Z"
      },
      {
        "duration": 7964,
        "start_time": "2022-01-24T15:41:13.114Z"
      },
      {
        "duration": 12,
        "start_time": "2022-01-24T15:41:21.080Z"
      },
      {
        "duration": 56,
        "start_time": "2022-01-24T15:41:21.106Z"
      },
      {
        "duration": 84,
        "start_time": "2022-01-24T15:41:21.164Z"
      },
      {
        "duration": -16,
        "start_time": "2022-01-24T15:41:21.266Z"
      },
      {
        "duration": -18,
        "start_time": "2022-01-24T15:41:21.269Z"
      },
      {
        "duration": -20,
        "start_time": "2022-01-24T15:41:21.272Z"
      },
      {
        "duration": -26,
        "start_time": "2022-01-24T15:41:21.279Z"
      },
      {
        "duration": 1206,
        "start_time": "2022-01-24T15:41:23.027Z"
      },
      {
        "duration": 21,
        "start_time": "2022-01-24T15:41:24.235Z"
      },
      {
        "duration": 10,
        "start_time": "2022-01-24T15:41:24.259Z"
      },
      {
        "duration": 505,
        "start_time": "2022-01-24T15:41:24.271Z"
      },
      {
        "duration": 8,
        "start_time": "2022-01-24T15:41:24.779Z"
      },
      {
        "duration": 19,
        "start_time": "2022-01-24T15:41:24.789Z"
      },
      {
        "duration": 25,
        "start_time": "2022-01-24T15:41:24.810Z"
      },
      {
        "duration": 5,
        "start_time": "2022-01-24T15:41:24.837Z"
      },
      {
        "duration": 9,
        "start_time": "2022-01-24T15:41:24.844Z"
      },
      {
        "duration": 43418,
        "start_time": "2022-01-24T15:41:24.855Z"
      },
      {
        "duration": 8,
        "start_time": "2022-01-24T15:42:08.276Z"
      },
      {
        "duration": 6386,
        "start_time": "2022-01-24T15:42:08.285Z"
      },
      {
        "duration": 394,
        "start_time": "2022-01-24T15:42:14.673Z"
      },
      {
        "duration": 5,
        "start_time": "2022-01-24T15:42:15.068Z"
      },
      {
        "duration": 7832,
        "start_time": "2022-01-24T15:42:15.075Z"
      },
      {
        "duration": 12,
        "start_time": "2022-01-24T15:42:22.909Z"
      },
      {
        "duration": 73,
        "start_time": "2022-01-24T15:42:22.923Z"
      },
      {
        "duration": 333,
        "start_time": "2022-01-24T15:42:22.998Z"
      },
      {
        "duration": -19,
        "start_time": "2022-01-24T15:42:23.352Z"
      },
      {
        "duration": -30,
        "start_time": "2022-01-24T15:42:23.365Z"
      },
      {
        "duration": -42,
        "start_time": "2022-01-24T15:42:23.378Z"
      },
      {
        "duration": -45,
        "start_time": "2022-01-24T15:42:23.383Z"
      },
      {
        "duration": 4034,
        "start_time": "2022-01-24T15:44:08.385Z"
      },
      {
        "duration": 2063,
        "start_time": "2022-01-24T17:49:42.038Z"
      },
      {
        "duration": 24,
        "start_time": "2022-01-24T17:49:44.104Z"
      },
      {
        "duration": 12,
        "start_time": "2022-01-24T17:49:44.133Z"
      },
      {
        "duration": 735,
        "start_time": "2022-01-24T17:49:44.149Z"
      },
      {
        "duration": 11,
        "start_time": "2022-01-24T17:49:44.886Z"
      },
      {
        "duration": 8,
        "start_time": "2022-01-24T17:49:44.899Z"
      },
      {
        "duration": 41,
        "start_time": "2022-01-24T17:49:44.909Z"
      },
      {
        "duration": 6,
        "start_time": "2022-01-24T17:49:44.954Z"
      },
      {
        "duration": 11,
        "start_time": "2022-01-24T17:49:44.964Z"
      },
      {
        "duration": 67084,
        "start_time": "2022-01-24T17:49:44.977Z"
      },
      {
        "duration": 10,
        "start_time": "2022-01-24T17:50:52.064Z"
      },
      {
        "duration": 16144,
        "start_time": "2022-01-24T17:50:52.076Z"
      },
      {
        "duration": 1164,
        "start_time": "2022-01-24T17:51:08.223Z"
      },
      {
        "duration": 6,
        "start_time": "2022-01-24T17:51:09.391Z"
      },
      {
        "duration": 10901,
        "start_time": "2022-01-24T17:51:09.400Z"
      },
      {
        "duration": 16,
        "start_time": "2022-01-24T17:51:20.303Z"
      },
      {
        "duration": 125,
        "start_time": "2022-01-24T17:51:20.334Z"
      },
      {
        "duration": 5287,
        "start_time": "2022-01-24T17:51:20.463Z"
      },
      {
        "duration": 47,
        "start_time": "2022-01-24T17:51:25.752Z"
      },
      {
        "duration": 2047,
        "start_time": "2022-01-24T17:52:45.013Z"
      },
      {
        "duration": 34,
        "start_time": "2022-01-24T17:52:47.064Z"
      },
      {
        "duration": 11,
        "start_time": "2022-01-24T17:52:47.100Z"
      },
      {
        "duration": 693,
        "start_time": "2022-01-24T17:52:47.114Z"
      },
      {
        "duration": 25,
        "start_time": "2022-01-24T17:52:47.810Z"
      },
      {
        "duration": 11,
        "start_time": "2022-01-24T17:52:47.838Z"
      },
      {
        "duration": 29,
        "start_time": "2022-01-24T17:52:47.852Z"
      },
      {
        "duration": 7,
        "start_time": "2022-01-24T17:52:47.886Z"
      },
      {
        "duration": 10,
        "start_time": "2022-01-24T17:52:47.934Z"
      },
      {
        "duration": 64454,
        "start_time": "2022-01-24T17:52:47.947Z"
      },
      {
        "duration": 9,
        "start_time": "2022-01-24T17:53:52.403Z"
      },
      {
        "duration": 10626,
        "start_time": "2022-01-24T17:53:52.414Z"
      },
      {
        "duration": 663,
        "start_time": "2022-01-24T17:54:03.043Z"
      },
      {
        "duration": 6,
        "start_time": "2022-01-24T17:54:03.709Z"
      },
      {
        "duration": 10300,
        "start_time": "2022-01-24T17:54:03.733Z"
      },
      {
        "duration": 18,
        "start_time": "2022-01-24T17:54:14.036Z"
      },
      {
        "duration": 113,
        "start_time": "2022-01-24T17:54:14.057Z"
      },
      {
        "duration": 6227,
        "start_time": "2022-01-24T17:54:14.172Z"
      },
      {
        "duration": 590,
        "start_time": "2022-01-24T17:54:20.403Z"
      },
      {
        "duration": -48,
        "start_time": "2022-01-24T17:54:21.044Z"
      },
      {
        "duration": -54,
        "start_time": "2022-01-24T17:54:21.052Z"
      },
      {
        "duration": -56,
        "start_time": "2022-01-24T17:54:21.056Z"
      },
      {
        "duration": 182,
        "start_time": "2022-01-24T17:54:42.086Z"
      },
      {
        "duration": 247,
        "start_time": "2022-01-24T17:55:07.000Z"
      },
      {
        "duration": 303,
        "start_time": "2022-01-24T17:55:48.447Z"
      },
      {
        "duration": 113,
        "start_time": "2022-01-24T17:59:45.566Z"
      },
      {
        "duration": 430,
        "start_time": "2022-01-24T18:00:30.501Z"
      },
      {
        "duration": 1545,
        "start_time": "2022-01-24T18:11:08.349Z"
      },
      {
        "duration": 33,
        "start_time": "2022-01-24T18:11:09.898Z"
      },
      {
        "duration": 11,
        "start_time": "2022-01-24T18:11:09.934Z"
      },
      {
        "duration": 712,
        "start_time": "2022-01-24T18:11:09.948Z"
      },
      {
        "duration": 12,
        "start_time": "2022-01-24T18:11:10.662Z"
      },
      {
        "duration": 8,
        "start_time": "2022-01-24T18:11:10.676Z"
      },
      {
        "duration": 56,
        "start_time": "2022-01-24T18:11:10.687Z"
      },
      {
        "duration": 7,
        "start_time": "2022-01-24T18:11:10.747Z"
      },
      {
        "duration": 10,
        "start_time": "2022-01-24T18:11:10.756Z"
      },
      {
        "duration": 67321,
        "start_time": "2022-01-24T18:11:10.769Z"
      },
      {
        "duration": 11,
        "start_time": "2022-01-24T18:12:18.094Z"
      },
      {
        "duration": 16931,
        "start_time": "2022-01-24T18:12:18.108Z"
      },
      {
        "duration": 641,
        "start_time": "2022-01-24T18:12:35.041Z"
      },
      {
        "duration": 6,
        "start_time": "2022-01-24T18:12:35.685Z"
      },
      {
        "duration": 14857,
        "start_time": "2022-01-24T18:12:35.693Z"
      },
      {
        "duration": 23,
        "start_time": "2022-01-24T18:12:50.553Z"
      },
      {
        "duration": 97,
        "start_time": "2022-01-24T18:12:50.579Z"
      },
      {
        "duration": 5409,
        "start_time": "2022-01-24T18:12:50.678Z"
      },
      {
        "duration": 385,
        "start_time": "2022-01-24T18:12:56.090Z"
      },
      {
        "duration": 8,
        "start_time": "2022-01-24T18:12:56.470Z"
      },
      {
        "duration": 7,
        "start_time": "2022-01-24T18:12:56.473Z"
      },
      {
        "duration": -10,
        "start_time": "2022-01-24T18:12:56.491Z"
      },
      {
        "duration": 42,
        "start_time": "2022-01-24T18:13:41.620Z"
      },
      {
        "duration": 242,
        "start_time": "2022-01-24T18:13:56.095Z"
      },
      {
        "duration": 191,
        "start_time": "2022-01-24T18:14:13.680Z"
      },
      {
        "duration": 2854,
        "start_time": "2022-01-24T18:14:57.636Z"
      },
      {
        "duration": 84221,
        "start_time": "2022-01-24T18:20:50.948Z"
      },
      {
        "duration": 6421,
        "start_time": "2022-01-24T18:22:23.850Z"
      },
      {
        "duration": 6417,
        "start_time": "2022-01-24T18:22:42.247Z"
      },
      {
        "duration": 1704,
        "start_time": "2022-01-24T18:23:22.339Z"
      },
      {
        "duration": 19,
        "start_time": "2022-01-24T18:23:52.808Z"
      },
      {
        "duration": 29,
        "start_time": "2022-01-24T18:24:14.143Z"
      },
      {
        "duration": 9,
        "start_time": "2022-01-24T18:25:46.980Z"
      },
      {
        "duration": 302,
        "start_time": "2022-01-24T18:34:17.504Z"
      },
      {
        "duration": 9,
        "start_time": "2022-01-24T18:34:23.768Z"
      },
      {
        "duration": 54,
        "start_time": "2022-01-24T18:38:32.528Z"
      },
      {
        "duration": 91,
        "start_time": "2022-01-24T18:39:59.224Z"
      },
      {
        "duration": 91,
        "start_time": "2022-01-24T18:41:06.787Z"
      },
      {
        "duration": 119,
        "start_time": "2022-01-24T18:43:14.988Z"
      },
      {
        "duration": 18774,
        "start_time": "2022-01-24T18:49:30.520Z"
      },
      {
        "duration": 39788,
        "start_time": "2022-01-24T18:50:31.027Z"
      },
      {
        "duration": 288,
        "start_time": "2022-01-24T18:52:26.809Z"
      },
      {
        "duration": 40591,
        "start_time": "2022-01-24T18:53:14.182Z"
      },
      {
        "duration": 4470,
        "start_time": "2022-01-24T18:54:23.952Z"
      },
      {
        "duration": 297,
        "start_time": "2022-01-24T19:07:07.447Z"
      },
      {
        "duration": 71,
        "start_time": "2022-01-24T19:07:21.909Z"
      },
      {
        "duration": 276,
        "start_time": "2022-01-24T19:08:28.184Z"
      },
      {
        "duration": 96,
        "start_time": "2022-01-24T19:08:52.282Z"
      },
      {
        "duration": 43,
        "start_time": "2022-01-24T19:14:11.866Z"
      },
      {
        "duration": 36,
        "start_time": "2022-01-24T19:16:35.548Z"
      },
      {
        "duration": 46,
        "start_time": "2022-01-24T19:16:57.395Z"
      },
      {
        "duration": 812,
        "start_time": "2022-01-25T06:33:46.292Z"
      },
      {
        "duration": 5934,
        "start_time": "2022-01-25T06:35:06.432Z"
      },
      {
        "duration": 2968,
        "start_time": "2022-01-25T06:35:24.242Z"
      },
      {
        "duration": 1367,
        "start_time": "2022-01-25T06:35:39.859Z"
      },
      {
        "duration": 12,
        "start_time": "2022-01-25T06:35:41.228Z"
      },
      {
        "duration": 17,
        "start_time": "2022-01-25T06:35:41.242Z"
      },
      {
        "duration": 428,
        "start_time": "2022-01-25T06:35:41.261Z"
      },
      {
        "duration": 7,
        "start_time": "2022-01-25T06:35:41.690Z"
      },
      {
        "duration": 16,
        "start_time": "2022-01-25T06:35:41.698Z"
      },
      {
        "duration": 21,
        "start_time": "2022-01-25T06:35:41.715Z"
      },
      {
        "duration": 8,
        "start_time": "2022-01-25T06:35:41.738Z"
      },
      {
        "duration": 15,
        "start_time": "2022-01-25T06:35:41.748Z"
      },
      {
        "duration": 37028,
        "start_time": "2022-01-25T06:35:41.765Z"
      },
      {
        "duration": 6,
        "start_time": "2022-01-25T06:36:18.795Z"
      },
      {
        "duration": 5556,
        "start_time": "2022-01-25T06:36:18.802Z"
      },
      {
        "duration": 391,
        "start_time": "2022-01-25T06:36:24.360Z"
      },
      {
        "duration": 5,
        "start_time": "2022-01-25T06:36:24.753Z"
      },
      {
        "duration": 6579,
        "start_time": "2022-01-25T06:36:24.759Z"
      },
      {
        "duration": 9,
        "start_time": "2022-01-25T06:36:31.340Z"
      },
      {
        "duration": 62,
        "start_time": "2022-01-25T06:36:31.351Z"
      },
      {
        "duration": 3178,
        "start_time": "2022-01-25T06:36:31.415Z"
      },
      {
        "duration": 423,
        "start_time": "2022-01-25T06:36:34.595Z"
      },
      {
        "duration": -50,
        "start_time": "2022-01-25T06:36:35.070Z"
      },
      {
        "duration": -58,
        "start_time": "2022-01-25T06:36:35.079Z"
      },
      {
        "duration": -62,
        "start_time": "2022-01-25T06:36:35.084Z"
      },
      {
        "duration": -69,
        "start_time": "2022-01-25T06:36:35.093Z"
      },
      {
        "duration": 290,
        "start_time": "2022-01-25T07:26:31.481Z"
      },
      {
        "duration": 1191,
        "start_time": "2022-01-25T07:27:06.542Z"
      },
      {
        "duration": 13,
        "start_time": "2022-01-25T07:27:07.734Z"
      },
      {
        "duration": 28,
        "start_time": "2022-01-25T07:27:07.749Z"
      },
      {
        "duration": 433,
        "start_time": "2022-01-25T07:27:07.779Z"
      },
      {
        "duration": 7,
        "start_time": "2022-01-25T07:27:08.213Z"
      },
      {
        "duration": 5,
        "start_time": "2022-01-25T07:27:08.221Z"
      },
      {
        "duration": 14,
        "start_time": "2022-01-25T07:27:08.228Z"
      },
      {
        "duration": 4,
        "start_time": "2022-01-25T07:27:08.244Z"
      },
      {
        "duration": 6,
        "start_time": "2022-01-25T07:27:08.272Z"
      },
      {
        "duration": 36905,
        "start_time": "2022-01-25T07:27:08.280Z"
      },
      {
        "duration": 6,
        "start_time": "2022-01-25T07:27:45.187Z"
      },
      {
        "duration": 5409,
        "start_time": "2022-01-25T07:27:45.195Z"
      },
      {
        "duration": 345,
        "start_time": "2022-01-25T07:27:50.606Z"
      },
      {
        "duration": 4,
        "start_time": "2022-01-25T07:27:50.953Z"
      },
      {
        "duration": 6268,
        "start_time": "2022-01-25T07:27:50.958Z"
      },
      {
        "duration": 10,
        "start_time": "2022-01-25T07:27:57.227Z"
      },
      {
        "duration": 57,
        "start_time": "2022-01-25T07:27:57.239Z"
      },
      {
        "duration": 3459,
        "start_time": "2022-01-25T07:27:57.297Z"
      },
      {
        "duration": 442,
        "start_time": "2022-01-25T07:28:00.758Z"
      },
      {
        "duration": -46,
        "start_time": "2022-01-25T07:28:01.248Z"
      },
      {
        "duration": -52,
        "start_time": "2022-01-25T07:28:01.255Z"
      },
      {
        "duration": -54,
        "start_time": "2022-01-25T07:28:01.258Z"
      },
      {
        "duration": -55,
        "start_time": "2022-01-25T07:28:01.261Z"
      },
      {
        "duration": 7,
        "start_time": "2022-01-25T07:28:34.413Z"
      },
      {
        "duration": 1191,
        "start_time": "2022-01-25T07:30:08.647Z"
      },
      {
        "duration": 13,
        "start_time": "2022-01-25T07:30:09.840Z"
      },
      {
        "duration": 8,
        "start_time": "2022-01-25T07:30:09.855Z"
      },
      {
        "duration": 444,
        "start_time": "2022-01-25T07:30:09.864Z"
      },
      {
        "duration": 8,
        "start_time": "2022-01-25T07:30:10.309Z"
      },
      {
        "duration": 5,
        "start_time": "2022-01-25T07:30:10.319Z"
      },
      {
        "duration": 16,
        "start_time": "2022-01-25T07:30:10.325Z"
      },
      {
        "duration": 4,
        "start_time": "2022-01-25T07:30:10.343Z"
      },
      {
        "duration": 7,
        "start_time": "2022-01-25T07:30:10.372Z"
      },
      {
        "duration": 36293,
        "start_time": "2022-01-25T07:30:10.380Z"
      },
      {
        "duration": 6,
        "start_time": "2022-01-25T07:30:46.675Z"
      },
      {
        "duration": 5562,
        "start_time": "2022-01-25T07:30:46.682Z"
      },
      {
        "duration": 329,
        "start_time": "2022-01-25T07:30:52.246Z"
      },
      {
        "duration": 4,
        "start_time": "2022-01-25T07:30:52.576Z"
      },
      {
        "duration": 6091,
        "start_time": "2022-01-25T07:30:52.581Z"
      },
      {
        "duration": 9,
        "start_time": "2022-01-25T07:30:58.674Z"
      },
      {
        "duration": 44,
        "start_time": "2022-01-25T07:30:58.685Z"
      },
      {
        "duration": 2,
        "start_time": "2022-01-25T07:30:58.731Z"
      },
      {
        "duration": 3487,
        "start_time": "2022-01-25T07:30:58.734Z"
      },
      {
        "duration": 449,
        "start_time": "2022-01-25T07:31:02.223Z"
      },
      {
        "duration": -34,
        "start_time": "2022-01-25T07:31:02.708Z"
      },
      {
        "duration": -37,
        "start_time": "2022-01-25T07:31:02.712Z"
      },
      {
        "duration": -43,
        "start_time": "2022-01-25T07:31:02.719Z"
      },
      {
        "duration": -46,
        "start_time": "2022-01-25T07:31:02.723Z"
      },
      {
        "duration": 1173,
        "start_time": "2022-01-25T07:32:14.933Z"
      },
      {
        "duration": 13,
        "start_time": "2022-01-25T07:32:16.108Z"
      },
      {
        "duration": 7,
        "start_time": "2022-01-25T07:32:16.123Z"
      },
      {
        "duration": 451,
        "start_time": "2022-01-25T07:32:16.132Z"
      },
      {
        "duration": 7,
        "start_time": "2022-01-25T07:32:16.585Z"
      },
      {
        "duration": 4,
        "start_time": "2022-01-25T07:32:16.594Z"
      },
      {
        "duration": 13,
        "start_time": "2022-01-25T07:32:16.600Z"
      },
      {
        "duration": 4,
        "start_time": "2022-01-25T07:32:16.615Z"
      },
      {
        "duration": 6,
        "start_time": "2022-01-25T07:32:16.621Z"
      },
      {
        "duration": 37150,
        "start_time": "2022-01-25T07:32:16.629Z"
      },
      {
        "duration": 6,
        "start_time": "2022-01-25T07:32:53.781Z"
      },
      {
        "duration": 5434,
        "start_time": "2022-01-25T07:32:53.789Z"
      },
      {
        "duration": 357,
        "start_time": "2022-01-25T07:32:59.224Z"
      },
      {
        "duration": 4,
        "start_time": "2022-01-25T07:32:59.583Z"
      },
      {
        "duration": 6396,
        "start_time": "2022-01-25T07:32:59.588Z"
      },
      {
        "duration": 12,
        "start_time": "2022-01-25T07:33:05.986Z"
      },
      {
        "duration": 48,
        "start_time": "2022-01-25T07:33:06.000Z"
      },
      {
        "duration": 22,
        "start_time": "2022-01-25T07:33:06.050Z"
      },
      {
        "duration": 2451,
        "start_time": "2022-01-25T07:33:06.074Z"
      },
      {
        "duration": 2725,
        "start_time": "2022-01-25T07:33:08.526Z"
      },
      {
        "duration": 47457,
        "start_time": "2022-01-25T07:33:11.253Z"
      },
      {
        "duration": 62,
        "start_time": "2022-01-25T07:33:58.712Z"
      },
      {
        "duration": 18211,
        "start_time": "2022-01-25T07:33:58.777Z"
      },
      {
        "duration": 11,
        "start_time": "2022-01-25T07:34:16.989Z"
      },
      {
        "duration": 1141,
        "start_time": "2022-01-25T07:34:41.289Z"
      },
      {
        "duration": 14,
        "start_time": "2022-01-25T07:34:42.432Z"
      },
      {
        "duration": 6,
        "start_time": "2022-01-25T07:34:42.448Z"
      },
      {
        "duration": 537,
        "start_time": "2022-01-25T07:34:42.456Z"
      },
      {
        "duration": 8,
        "start_time": "2022-01-25T07:34:42.995Z"
      },
      {
        "duration": 8,
        "start_time": "2022-01-25T07:34:43.004Z"
      },
      {
        "duration": 20,
        "start_time": "2022-01-25T07:34:43.013Z"
      },
      {
        "duration": 4,
        "start_time": "2022-01-25T07:34:43.036Z"
      },
      {
        "duration": 32,
        "start_time": "2022-01-25T07:34:43.042Z"
      },
      {
        "duration": 37088,
        "start_time": "2022-01-25T07:34:43.076Z"
      },
      {
        "duration": 9,
        "start_time": "2022-01-25T07:35:20.166Z"
      },
      {
        "duration": 5635,
        "start_time": "2022-01-25T07:35:20.177Z"
      },
      {
        "duration": 353,
        "start_time": "2022-01-25T07:35:25.814Z"
      },
      {
        "duration": 4,
        "start_time": "2022-01-25T07:35:26.172Z"
      },
      {
        "duration": 6203,
        "start_time": "2022-01-25T07:35:26.177Z"
      },
      {
        "duration": 10,
        "start_time": "2022-01-25T07:35:32.382Z"
      },
      {
        "duration": 66,
        "start_time": "2022-01-25T07:35:32.393Z"
      },
      {
        "duration": 2,
        "start_time": "2022-01-25T07:35:32.461Z"
      },
      {
        "duration": 2285,
        "start_time": "2022-01-25T07:35:32.465Z"
      },
      {
        "duration": 3004,
        "start_time": "2022-01-25T07:35:34.752Z"
      },
      {
        "duration": 49014,
        "start_time": "2022-01-25T07:35:37.757Z"
      },
      {
        "duration": 57,
        "start_time": "2022-01-25T07:36:26.773Z"
      },
      {
        "duration": 18044,
        "start_time": "2022-01-25T07:36:26.833Z"
      },
      {
        "duration": 10,
        "start_time": "2022-01-25T07:36:44.879Z"
      },
      {
        "duration": 1146,
        "start_time": "2022-01-25T07:52:54.087Z"
      },
      {
        "duration": 14,
        "start_time": "2022-01-25T07:52:55.234Z"
      },
      {
        "duration": 7,
        "start_time": "2022-01-25T07:52:55.249Z"
      },
      {
        "duration": 453,
        "start_time": "2022-01-25T07:52:55.258Z"
      },
      {
        "duration": 7,
        "start_time": "2022-01-25T07:52:55.712Z"
      },
      {
        "duration": 5,
        "start_time": "2022-01-25T07:52:55.721Z"
      },
      {
        "duration": 15,
        "start_time": "2022-01-25T07:52:55.727Z"
      },
      {
        "duration": 5,
        "start_time": "2022-01-25T07:52:55.744Z"
      },
      {
        "duration": 7,
        "start_time": "2022-01-25T07:52:55.771Z"
      },
      {
        "duration": 37508,
        "start_time": "2022-01-25T07:52:55.780Z"
      },
      {
        "duration": 6,
        "start_time": "2022-01-25T07:53:33.290Z"
      },
      {
        "duration": 5412,
        "start_time": "2022-01-25T07:53:33.297Z"
      },
      {
        "duration": 338,
        "start_time": "2022-01-25T07:53:38.710Z"
      },
      {
        "duration": 4,
        "start_time": "2022-01-25T07:53:39.050Z"
      },
      {
        "duration": 1364,
        "start_time": "2022-01-25T07:53:39.055Z"
      },
      {
        "duration": -97,
        "start_time": "2022-01-25T07:53:40.517Z"
      },
      {
        "duration": -105,
        "start_time": "2022-01-25T07:53:40.526Z"
      },
      {
        "duration": -111,
        "start_time": "2022-01-25T07:53:40.533Z"
      },
      {
        "duration": -117,
        "start_time": "2022-01-25T07:53:40.540Z"
      },
      {
        "duration": -122,
        "start_time": "2022-01-25T07:53:40.546Z"
      },
      {
        "duration": -128,
        "start_time": "2022-01-25T07:53:40.553Z"
      },
      {
        "duration": -133,
        "start_time": "2022-01-25T07:53:40.559Z"
      },
      {
        "duration": -152,
        "start_time": "2022-01-25T07:53:40.579Z"
      },
      {
        "duration": -159,
        "start_time": "2022-01-25T07:53:40.587Z"
      },
      {
        "duration": 1181,
        "start_time": "2022-01-25T07:55:28.890Z"
      },
      {
        "duration": 1246,
        "start_time": "2022-01-25T08:00:00.098Z"
      },
      {
        "duration": 1198,
        "start_time": "2022-01-25T08:01:34.526Z"
      },
      {
        "duration": 8,
        "start_time": "2022-01-25T08:03:22.816Z"
      },
      {
        "duration": 9,
        "start_time": "2022-01-25T08:03:31.557Z"
      },
      {
        "duration": 7120,
        "start_time": "2022-01-25T08:04:05.776Z"
      },
      {
        "duration": 1191,
        "start_time": "2022-01-25T08:06:24.143Z"
      },
      {
        "duration": 14,
        "start_time": "2022-01-25T08:06:25.335Z"
      },
      {
        "duration": 11,
        "start_time": "2022-01-25T08:06:25.353Z"
      },
      {
        "duration": 456,
        "start_time": "2022-01-25T08:06:25.366Z"
      },
      {
        "duration": 7,
        "start_time": "2022-01-25T08:06:25.824Z"
      },
      {
        "duration": 5,
        "start_time": "2022-01-25T08:06:25.833Z"
      },
      {
        "duration": 16,
        "start_time": "2022-01-25T08:06:25.840Z"
      },
      {
        "duration": 15,
        "start_time": "2022-01-25T08:06:25.858Z"
      },
      {
        "duration": 7,
        "start_time": "2022-01-25T08:06:25.874Z"
      },
      {
        "duration": 37388,
        "start_time": "2022-01-25T08:06:25.883Z"
      },
      {
        "duration": 6,
        "start_time": "2022-01-25T08:07:03.273Z"
      },
      {
        "duration": 5551,
        "start_time": "2022-01-25T08:07:03.281Z"
      },
      {
        "duration": 342,
        "start_time": "2022-01-25T08:07:08.834Z"
      },
      {
        "duration": 5,
        "start_time": "2022-01-25T08:07:09.178Z"
      },
      {
        "duration": 7308,
        "start_time": "2022-01-25T08:07:09.185Z"
      },
      {
        "duration": 11,
        "start_time": "2022-01-25T08:07:16.495Z"
      },
      {
        "duration": 65,
        "start_time": "2022-01-25T08:07:16.507Z"
      },
      {
        "duration": 3,
        "start_time": "2022-01-25T08:07:16.573Z"
      },
      {
        "duration": 2281,
        "start_time": "2022-01-25T08:07:16.577Z"
      },
      {
        "duration": 2842,
        "start_time": "2022-01-25T08:07:18.860Z"
      },
      {
        "duration": 46756,
        "start_time": "2022-01-25T08:07:21.704Z"
      },
      {
        "duration": 66,
        "start_time": "2022-01-25T08:08:08.463Z"
      },
      {
        "duration": 18599,
        "start_time": "2022-01-25T08:08:08.531Z"
      },
      {
        "duration": 11,
        "start_time": "2022-01-25T08:08:27.131Z"
      },
      {
        "duration": 27,
        "start_time": "2022-01-25T08:12:27.520Z"
      },
      {
        "duration": 21,
        "start_time": "2022-01-25T08:17:24.979Z"
      },
      {
        "duration": 18,
        "start_time": "2022-01-25T08:18:21.748Z"
      },
      {
        "duration": 21,
        "start_time": "2022-01-25T08:18:32.773Z"
      },
      {
        "duration": 27,
        "start_time": "2022-01-25T08:29:38.124Z"
      },
      {
        "duration": 30,
        "start_time": "2022-01-25T08:38:08.676Z"
      },
      {
        "duration": 25,
        "start_time": "2022-01-25T08:43:12.728Z"
      },
      {
        "duration": 26,
        "start_time": "2022-01-25T08:53:02.303Z"
      },
      {
        "duration": 28,
        "start_time": "2022-01-25T09:00:05.411Z"
      },
      {
        "duration": 25,
        "start_time": "2022-01-25T09:00:15.201Z"
      },
      {
        "duration": 17836,
        "start_time": "2022-01-25T09:00:29.506Z"
      },
      {
        "duration": 18390,
        "start_time": "2022-01-25T09:03:56.793Z"
      },
      {
        "duration": 17919,
        "start_time": "2022-01-25T09:04:59.461Z"
      },
      {
        "duration": 26,
        "start_time": "2022-01-25T09:11:40.489Z"
      },
      {
        "duration": 28,
        "start_time": "2022-01-25T09:15:21.850Z"
      },
      {
        "duration": 26,
        "start_time": "2022-01-25T09:20:00.586Z"
      },
      {
        "duration": 25,
        "start_time": "2022-01-25T09:20:40.021Z"
      },
      {
        "duration": 6,
        "start_time": "2022-01-25T09:21:57.925Z"
      },
      {
        "duration": 4,
        "start_time": "2022-01-25T09:22:28.518Z"
      },
      {
        "duration": 6,
        "start_time": "2022-01-25T09:49:50.347Z"
      },
      {
        "duration": 1317,
        "start_time": "2022-01-25T09:51:23.909Z"
      },
      {
        "duration": 14,
        "start_time": "2022-01-25T09:51:25.228Z"
      },
      {
        "duration": 9,
        "start_time": "2022-01-25T09:51:25.244Z"
      },
      {
        "duration": 546,
        "start_time": "2022-01-25T09:51:25.273Z"
      },
      {
        "duration": 8,
        "start_time": "2022-01-25T09:51:25.822Z"
      },
      {
        "duration": 5,
        "start_time": "2022-01-25T09:51:25.832Z"
      },
      {
        "duration": 36,
        "start_time": "2022-01-25T09:51:25.839Z"
      },
      {
        "duration": 4,
        "start_time": "2022-01-25T09:51:25.877Z"
      },
      {
        "duration": 7,
        "start_time": "2022-01-25T09:51:25.883Z"
      },
      {
        "duration": 38271,
        "start_time": "2022-01-25T09:51:25.891Z"
      },
      {
        "duration": 12,
        "start_time": "2022-01-25T09:52:04.164Z"
      },
      {
        "duration": 6288,
        "start_time": "2022-01-25T09:52:04.178Z"
      },
      {
        "duration": 403,
        "start_time": "2022-01-25T09:52:10.471Z"
      },
      {
        "duration": 4,
        "start_time": "2022-01-25T09:52:10.876Z"
      },
      {
        "duration": 7690,
        "start_time": "2022-01-25T09:52:10.882Z"
      },
      {
        "duration": 11,
        "start_time": "2022-01-25T09:52:18.574Z"
      },
      {
        "duration": 48,
        "start_time": "2022-01-25T09:52:18.586Z"
      },
      {
        "duration": 2,
        "start_time": "2022-01-25T09:52:18.636Z"
      },
      {
        "duration": 2680,
        "start_time": "2022-01-25T09:52:18.639Z"
      },
      {
        "duration": 3550,
        "start_time": "2022-01-25T09:52:21.321Z"
      },
      {
        "duration": 8,
        "start_time": "2022-01-25T09:52:24.873Z"
      },
      {
        "duration": 58150,
        "start_time": "2022-01-25T09:52:24.883Z"
      },
      {
        "duration": 103,
        "start_time": "2022-01-25T09:53:23.038Z"
      },
      {
        "duration": 19813,
        "start_time": "2022-01-25T09:53:23.143Z"
      },
      {
        "duration": 32,
        "start_time": "2022-01-25T09:53:42.958Z"
      },
      {
        "duration": 26,
        "start_time": "2022-01-25T09:53:42.992Z"
      },
      {
        "duration": 18679,
        "start_time": "2022-01-25T09:53:43.019Z"
      },
      {
        "duration": 23,
        "start_time": "2022-01-25T09:54:01.700Z"
      },
      {
        "duration": 24,
        "start_time": "2022-01-25T09:54:01.725Z"
      },
      {
        "duration": 24,
        "start_time": "2022-01-25T09:54:01.750Z"
      },
      {
        "duration": 36662,
        "start_time": "2022-01-25T11:00:09.136Z"
      },
      {
        "duration": 1216,
        "start_time": "2022-01-25T11:03:00.407Z"
      },
      {
        "duration": 1149,
        "start_time": "2022-01-25T11:04:36.871Z"
      },
      {
        "duration": 13,
        "start_time": "2022-01-25T11:04:38.022Z"
      },
      {
        "duration": 16,
        "start_time": "2022-01-25T11:04:38.037Z"
      },
      {
        "duration": 446,
        "start_time": "2022-01-25T11:04:38.055Z"
      },
      {
        "duration": 7,
        "start_time": "2022-01-25T11:04:38.502Z"
      },
      {
        "duration": 10,
        "start_time": "2022-01-25T11:04:38.511Z"
      },
      {
        "duration": 25,
        "start_time": "2022-01-25T11:04:38.522Z"
      },
      {
        "duration": 4,
        "start_time": "2022-01-25T11:04:38.550Z"
      },
      {
        "duration": 16,
        "start_time": "2022-01-25T11:04:38.556Z"
      },
      {
        "duration": 37097,
        "start_time": "2022-01-25T11:04:38.574Z"
      },
      {
        "duration": 6,
        "start_time": "2022-01-25T11:05:15.673Z"
      },
      {
        "duration": 5562,
        "start_time": "2022-01-25T11:05:15.681Z"
      },
      {
        "duration": 336,
        "start_time": "2022-01-25T11:05:21.245Z"
      },
      {
        "duration": 4,
        "start_time": "2022-01-25T11:05:21.582Z"
      },
      {
        "duration": 7489,
        "start_time": "2022-01-25T11:05:21.587Z"
      },
      {
        "duration": 9,
        "start_time": "2022-01-25T11:05:29.078Z"
      },
      {
        "duration": 48,
        "start_time": "2022-01-25T11:05:29.089Z"
      },
      {
        "duration": 2,
        "start_time": "2022-01-25T11:05:29.139Z"
      },
      {
        "duration": 2352,
        "start_time": "2022-01-25T11:05:29.143Z"
      },
      {
        "duration": 2925,
        "start_time": "2022-01-25T11:05:31.497Z"
      },
      {
        "duration": 5,
        "start_time": "2022-01-25T11:05:34.424Z"
      },
      {
        "duration": 99,
        "start_time": "2022-01-25T11:05:34.431Z"
      },
      {
        "duration": -118,
        "start_time": "2022-01-25T11:05:34.651Z"
      },
      {
        "duration": -152,
        "start_time": "2022-01-25T11:05:34.686Z"
      },
      {
        "duration": -183,
        "start_time": "2022-01-25T11:05:34.718Z"
      },
      {
        "duration": -211,
        "start_time": "2022-01-25T11:05:34.747Z"
      },
      {
        "duration": -214,
        "start_time": "2022-01-25T11:05:34.751Z"
      },
      {
        "duration": -223,
        "start_time": "2022-01-25T11:05:34.761Z"
      },
      {
        "duration": -226,
        "start_time": "2022-01-25T11:05:34.765Z"
      },
      {
        "duration": -229,
        "start_time": "2022-01-25T11:05:34.769Z"
      },
      {
        "duration": 47947,
        "start_time": "2022-01-25T11:07:48.144Z"
      },
      {
        "duration": 10,
        "start_time": "2022-01-25T11:12:08.355Z"
      },
      {
        "duration": 9,
        "start_time": "2022-01-25T11:12:15.213Z"
      },
      {
        "duration": 9,
        "start_time": "2022-01-25T11:16:58.558Z"
      },
      {
        "duration": 10,
        "start_time": "2022-01-25T11:17:04.573Z"
      },
      {
        "duration": 9,
        "start_time": "2022-01-25T11:17:17.376Z"
      },
      {
        "duration": 10,
        "start_time": "2022-01-25T11:18:44.575Z"
      },
      {
        "duration": 9,
        "start_time": "2022-01-25T11:19:08.254Z"
      },
      {
        "duration": 6,
        "start_time": "2022-01-25T11:19:17.918Z"
      },
      {
        "duration": 10,
        "start_time": "2022-01-25T11:19:55.680Z"
      },
      {
        "duration": 9,
        "start_time": "2022-01-25T11:19:57.865Z"
      },
      {
        "duration": 9,
        "start_time": "2022-01-25T11:20:06.408Z"
      },
      {
        "duration": 1185,
        "start_time": "2022-01-25T11:20:39.159Z"
      },
      {
        "duration": 1146,
        "start_time": "2022-01-25T11:21:32.494Z"
      },
      {
        "duration": 13,
        "start_time": "2022-01-25T11:21:33.642Z"
      },
      {
        "duration": 6,
        "start_time": "2022-01-25T11:21:33.657Z"
      },
      {
        "duration": 451,
        "start_time": "2022-01-25T11:21:33.665Z"
      },
      {
        "duration": 7,
        "start_time": "2022-01-25T11:21:34.117Z"
      },
      {
        "duration": 7,
        "start_time": "2022-01-25T11:21:34.125Z"
      },
      {
        "duration": 14,
        "start_time": "2022-01-25T11:21:34.134Z"
      },
      {
        "duration": 4,
        "start_time": "2022-01-25T11:21:34.171Z"
      },
      {
        "duration": 6,
        "start_time": "2022-01-25T11:21:34.177Z"
      },
      {
        "duration": 37033,
        "start_time": "2022-01-25T11:21:34.184Z"
      },
      {
        "duration": 7,
        "start_time": "2022-01-25T11:22:11.218Z"
      },
      {
        "duration": 5514,
        "start_time": "2022-01-25T11:22:11.226Z"
      },
      {
        "duration": 356,
        "start_time": "2022-01-25T11:22:16.742Z"
      },
      {
        "duration": 4,
        "start_time": "2022-01-25T11:22:17.099Z"
      },
      {
        "duration": 7003,
        "start_time": "2022-01-25T11:22:17.105Z"
      },
      {
        "duration": 9,
        "start_time": "2022-01-25T11:22:24.110Z"
      },
      {
        "duration": 57,
        "start_time": "2022-01-25T11:22:24.121Z"
      },
      {
        "duration": 3,
        "start_time": "2022-01-25T11:22:24.179Z"
      },
      {
        "duration": 2319,
        "start_time": "2022-01-25T11:22:24.183Z"
      },
      {
        "duration": 2874,
        "start_time": "2022-01-25T11:22:26.504Z"
      },
      {
        "duration": 10,
        "start_time": "2022-01-25T11:22:29.379Z"
      },
      {
        "duration": 2308,
        "start_time": "2022-01-25T11:22:29.391Z"
      },
      {
        "duration": -92,
        "start_time": "2022-01-25T11:22:31.793Z"
      },
      {
        "duration": -99,
        "start_time": "2022-01-25T11:22:31.801Z"
      },
      {
        "duration": -103,
        "start_time": "2022-01-25T11:22:31.806Z"
      },
      {
        "duration": -107,
        "start_time": "2022-01-25T11:22:31.811Z"
      },
      {
        "duration": -110,
        "start_time": "2022-01-25T11:22:31.815Z"
      },
      {
        "duration": -113,
        "start_time": "2022-01-25T11:22:31.819Z"
      },
      {
        "duration": -116,
        "start_time": "2022-01-25T11:22:31.823Z"
      },
      {
        "duration": -120,
        "start_time": "2022-01-25T11:22:31.828Z"
      },
      {
        "duration": 7,
        "start_time": "2022-01-25T11:23:06.700Z"
      },
      {
        "duration": 1266,
        "start_time": "2022-01-25T11:23:52.916Z"
      },
      {
        "duration": 1187,
        "start_time": "2022-01-25T11:24:08.740Z"
      },
      {
        "duration": 12,
        "start_time": "2022-01-25T11:24:09.932Z"
      },
      {
        "duration": 6,
        "start_time": "2022-01-25T11:24:09.946Z"
      },
      {
        "duration": 445,
        "start_time": "2022-01-25T11:24:09.954Z"
      },
      {
        "duration": 8,
        "start_time": "2022-01-25T11:24:10.401Z"
      },
      {
        "duration": 5,
        "start_time": "2022-01-25T11:24:10.410Z"
      },
      {
        "duration": 14,
        "start_time": "2022-01-25T11:24:10.418Z"
      },
      {
        "duration": 4,
        "start_time": "2022-01-25T11:24:10.434Z"
      },
      {
        "duration": 36,
        "start_time": "2022-01-25T11:24:10.440Z"
      },
      {
        "duration": 37444,
        "start_time": "2022-01-25T11:24:10.478Z"
      },
      {
        "duration": 8,
        "start_time": "2022-01-25T11:24:47.924Z"
      },
      {
        "duration": 5408,
        "start_time": "2022-01-25T11:24:47.933Z"
      },
      {
        "duration": 339,
        "start_time": "2022-01-25T11:24:53.342Z"
      },
      {
        "duration": 4,
        "start_time": "2022-01-25T11:24:53.682Z"
      },
      {
        "duration": 7238,
        "start_time": "2022-01-25T11:24:53.687Z"
      },
      {
        "duration": 10,
        "start_time": "2022-01-25T11:25:00.927Z"
      },
      {
        "duration": 73,
        "start_time": "2022-01-25T11:25:00.938Z"
      },
      {
        "duration": 2,
        "start_time": "2022-01-25T11:25:01.012Z"
      },
      {
        "duration": 2474,
        "start_time": "2022-01-25T11:25:01.016Z"
      },
      {
        "duration": 2751,
        "start_time": "2022-01-25T11:25:03.492Z"
      },
      {
        "duration": 7,
        "start_time": "2022-01-25T11:25:06.245Z"
      },
      {
        "duration": 2324,
        "start_time": "2022-01-25T11:25:06.271Z"
      },
      {
        "duration": -45,
        "start_time": "2022-01-25T11:25:08.642Z"
      },
      {
        "duration": -49,
        "start_time": "2022-01-25T11:25:08.647Z"
      },
      {
        "duration": -54,
        "start_time": "2022-01-25T11:25:08.653Z"
      },
      {
        "duration": -58,
        "start_time": "2022-01-25T11:25:08.658Z"
      },
      {
        "duration": -60,
        "start_time": "2022-01-25T11:25:08.661Z"
      },
      {
        "duration": -63,
        "start_time": "2022-01-25T11:25:08.664Z"
      },
      {
        "duration": -65,
        "start_time": "2022-01-25T11:25:08.667Z"
      },
      {
        "duration": -69,
        "start_time": "2022-01-25T11:25:08.672Z"
      },
      {
        "duration": 11,
        "start_time": "2022-01-25T11:28:35.964Z"
      },
      {
        "duration": 10,
        "start_time": "2022-01-25T11:28:43.028Z"
      },
      {
        "duration": 9,
        "start_time": "2022-01-25T11:29:49.165Z"
      },
      {
        "duration": 10,
        "start_time": "2022-01-25T11:29:54.756Z"
      },
      {
        "duration": 11,
        "start_time": "2022-01-25T11:30:05.510Z"
      },
      {
        "duration": 14,
        "start_time": "2022-01-25T11:30:22.428Z"
      },
      {
        "duration": 13,
        "start_time": "2022-01-25T11:32:23.702Z"
      },
      {
        "duration": 9,
        "start_time": "2022-01-25T11:32:38.343Z"
      },
      {
        "duration": 9,
        "start_time": "2022-01-25T11:33:56.807Z"
      },
      {
        "duration": 9,
        "start_time": "2022-01-25T11:34:01.967Z"
      },
      {
        "duration": 94,
        "start_time": "2022-01-25T11:39:49.999Z"
      },
      {
        "duration": 46358,
        "start_time": "2022-01-25T11:57:29.221Z"
      },
      {
        "duration": 27428,
        "start_time": "2022-01-25T12:23:33.987Z"
      },
      {
        "duration": 26699,
        "start_time": "2022-01-25T12:25:17.186Z"
      },
      {
        "duration": 7,
        "start_time": "2022-01-25T12:27:02.549Z"
      },
      {
        "duration": 15137,
        "start_time": "2022-01-25T12:31:36.016Z"
      },
      {
        "duration": 30422,
        "start_time": "2022-01-25T12:32:49.281Z"
      },
      {
        "duration": 30482,
        "start_time": "2022-01-25T12:36:29.857Z"
      },
      {
        "duration": 31,
        "start_time": "2022-01-25T12:37:04.682Z"
      },
      {
        "duration": 25,
        "start_time": "2022-01-25T12:37:42.434Z"
      },
      {
        "duration": 18304,
        "start_time": "2022-01-25T12:38:59.475Z"
      },
      {
        "duration": 26,
        "start_time": "2022-01-25T12:40:16.067Z"
      },
      {
        "duration": 97,
        "start_time": "2022-01-25T12:43:51.926Z"
      },
      {
        "duration": 31155,
        "start_time": "2022-01-25T12:44:07.461Z"
      },
      {
        "duration": 25,
        "start_time": "2022-01-25T12:44:38.618Z"
      },
      {
        "duration": 26,
        "start_time": "2022-01-25T12:47:12.775Z"
      },
      {
        "duration": 1103,
        "start_time": "2022-01-25T13:01:26.827Z"
      },
      {
        "duration": 13,
        "start_time": "2022-01-25T13:01:27.932Z"
      },
      {
        "duration": 6,
        "start_time": "2022-01-25T13:01:27.947Z"
      },
      {
        "duration": 433,
        "start_time": "2022-01-25T13:01:27.955Z"
      },
      {
        "duration": 8,
        "start_time": "2022-01-25T13:01:28.390Z"
      },
      {
        "duration": 5,
        "start_time": "2022-01-25T13:01:28.400Z"
      },
      {
        "duration": 14,
        "start_time": "2022-01-25T13:01:28.407Z"
      },
      {
        "duration": 5,
        "start_time": "2022-01-25T13:01:28.422Z"
      },
      {
        "duration": 6,
        "start_time": "2022-01-25T13:01:28.429Z"
      },
      {
        "duration": 36175,
        "start_time": "2022-01-25T13:01:28.437Z"
      },
      {
        "duration": 6,
        "start_time": "2022-01-25T13:02:04.614Z"
      },
      {
        "duration": 5429,
        "start_time": "2022-01-25T13:02:04.621Z"
      },
      {
        "duration": 354,
        "start_time": "2022-01-25T13:02:10.051Z"
      },
      {
        "duration": 4,
        "start_time": "2022-01-25T13:02:10.407Z"
      },
      {
        "duration": 7047,
        "start_time": "2022-01-25T13:02:10.412Z"
      },
      {
        "duration": 16,
        "start_time": "2022-01-25T13:02:17.460Z"
      },
      {
        "duration": 45,
        "start_time": "2022-01-25T13:02:17.477Z"
      },
      {
        "duration": 2,
        "start_time": "2022-01-25T13:02:17.524Z"
      },
      {
        "duration": 2325,
        "start_time": "2022-01-25T13:02:17.528Z"
      },
      {
        "duration": 3017,
        "start_time": "2022-01-25T13:02:19.855Z"
      },
      {
        "duration": 48661,
        "start_time": "2022-01-25T13:02:22.874Z"
      },
      {
        "duration": 30980,
        "start_time": "2022-01-25T13:03:11.537Z"
      },
      {
        "duration": 26,
        "start_time": "2022-01-25T13:03:42.519Z"
      },
      {
        "duration": 38,
        "start_time": "2022-01-25T13:03:42.547Z"
      },
      {
        "duration": 17784,
        "start_time": "2022-01-25T13:03:42.587Z"
      },
      {
        "duration": 27,
        "start_time": "2022-01-25T13:04:00.373Z"
      },
      {
        "duration": 26,
        "start_time": "2022-01-25T13:04:00.403Z"
      },
      {
        "duration": 1630,
        "start_time": "2022-02-02T10:35:26.133Z"
      },
      {
        "duration": 15,
        "start_time": "2022-02-02T10:35:27.765Z"
      },
      {
        "duration": 18,
        "start_time": "2022-02-02T10:35:27.782Z"
      },
      {
        "duration": 514,
        "start_time": "2022-02-02T10:35:27.801Z"
      },
      {
        "duration": 8,
        "start_time": "2022-02-02T10:35:28.317Z"
      },
      {
        "duration": 23,
        "start_time": "2022-02-02T10:35:28.327Z"
      },
      {
        "duration": 22,
        "start_time": "2022-02-02T10:35:28.352Z"
      },
      {
        "duration": 9,
        "start_time": "2022-02-02T10:35:28.377Z"
      },
      {
        "duration": 12,
        "start_time": "2022-02-02T10:35:28.387Z"
      },
      {
        "duration": 38410,
        "start_time": "2022-02-02T10:35:28.400Z"
      },
      {
        "duration": 7,
        "start_time": "2022-02-02T10:36:06.811Z"
      },
      {
        "duration": 5337,
        "start_time": "2022-02-02T10:36:06.819Z"
      },
      {
        "duration": 340,
        "start_time": "2022-02-02T10:36:12.157Z"
      },
      {
        "duration": 4,
        "start_time": "2022-02-02T10:36:12.499Z"
      },
      {
        "duration": 7260,
        "start_time": "2022-02-02T10:36:12.504Z"
      },
      {
        "duration": 10,
        "start_time": "2022-02-02T10:36:19.765Z"
      },
      {
        "duration": 59,
        "start_time": "2022-02-02T10:36:19.777Z"
      },
      {
        "duration": 3,
        "start_time": "2022-02-02T10:36:19.838Z"
      },
      {
        "duration": 2469,
        "start_time": "2022-02-02T10:36:19.842Z"
      },
      {
        "duration": 2795,
        "start_time": "2022-02-02T10:36:22.313Z"
      },
      {
        "duration": 46458,
        "start_time": "2022-02-02T10:36:25.109Z"
      },
      {
        "duration": 30157,
        "start_time": "2022-02-02T10:37:11.570Z"
      },
      {
        "duration": 36,
        "start_time": "2022-02-02T10:37:41.729Z"
      },
      {
        "duration": 27,
        "start_time": "2022-02-02T10:37:41.767Z"
      },
      {
        "duration": 18098,
        "start_time": "2022-02-02T10:37:41.796Z"
      },
      {
        "duration": 27,
        "start_time": "2022-02-02T10:37:59.895Z"
      },
      {
        "duration": 55,
        "start_time": "2022-02-02T10:37:59.924Z"
      },
      {
        "duration": 4668,
        "start_time": "2022-02-02T10:54:16.456Z"
      },
      {
        "duration": 16,
        "start_time": "2022-02-02T10:54:27.792Z"
      },
      {
        "duration": 100,
        "start_time": "2022-02-02T10:54:54.002Z"
      },
      {
        "duration": 11,
        "start_time": "2022-02-02T10:54:54.103Z"
      },
      {
        "duration": 11,
        "start_time": "2022-02-02T10:54:54.116Z"
      },
      {
        "duration": 507,
        "start_time": "2022-02-02T10:54:54.129Z"
      },
      {
        "duration": 6,
        "start_time": "2022-02-02T10:54:54.638Z"
      },
      {
        "duration": 14,
        "start_time": "2022-02-02T10:54:54.646Z"
      },
      {
        "duration": 23,
        "start_time": "2022-02-02T10:54:54.662Z"
      },
      {
        "duration": 6,
        "start_time": "2022-02-02T10:54:54.688Z"
      },
      {
        "duration": 7,
        "start_time": "2022-02-02T10:54:54.696Z"
      },
      {
        "duration": 33,
        "start_time": "2022-02-02T10:55:14.911Z"
      },
      {
        "duration": 4614,
        "start_time": "2022-02-02T10:57:25.437Z"
      },
      {
        "duration": 21,
        "start_time": "2022-02-02T10:57:35.172Z"
      },
      {
        "duration": 6,
        "start_time": "2022-02-02T10:57:51.830Z"
      },
      {
        "duration": 7,
        "start_time": "2022-02-02T10:58:01.388Z"
      },
      {
        "duration": 32,
        "start_time": "2022-02-02T10:58:08.260Z"
      },
      {
        "duration": 1177,
        "start_time": "2022-02-02T10:59:31.261Z"
      },
      {
        "duration": 13,
        "start_time": "2022-02-02T10:59:32.440Z"
      },
      {
        "duration": 10,
        "start_time": "2022-02-02T10:59:32.455Z"
      },
      {
        "duration": 429,
        "start_time": "2022-02-02T10:59:32.466Z"
      },
      {
        "duration": 7,
        "start_time": "2022-02-02T10:59:32.897Z"
      },
      {
        "duration": 7,
        "start_time": "2022-02-02T10:59:32.905Z"
      },
      {
        "duration": 15,
        "start_time": "2022-02-02T10:59:32.913Z"
      },
      {
        "duration": 4,
        "start_time": "2022-02-02T10:59:32.930Z"
      },
      {
        "duration": 27,
        "start_time": "2022-02-02T10:59:32.936Z"
      },
      {
        "duration": 39394,
        "start_time": "2022-02-02T10:59:32.965Z"
      },
      {
        "duration": 7,
        "start_time": "2022-02-02T11:00:12.360Z"
      },
      {
        "duration": 5554,
        "start_time": "2022-02-02T11:00:12.368Z"
      },
      {
        "duration": 356,
        "start_time": "2022-02-02T11:00:17.924Z"
      },
      {
        "duration": 5,
        "start_time": "2022-02-02T11:00:18.282Z"
      },
      {
        "duration": 7207,
        "start_time": "2022-02-02T11:00:18.288Z"
      },
      {
        "duration": 10,
        "start_time": "2022-02-02T11:00:25.496Z"
      },
      {
        "duration": 57,
        "start_time": "2022-02-02T11:00:25.507Z"
      },
      {
        "duration": 2,
        "start_time": "2022-02-02T11:00:25.566Z"
      },
      {
        "duration": 2467,
        "start_time": "2022-02-02T11:00:25.570Z"
      },
      {
        "duration": 2783,
        "start_time": "2022-02-02T11:00:28.039Z"
      },
      {
        "duration": 47230,
        "start_time": "2022-02-02T11:00:30.824Z"
      },
      {
        "duration": 30154,
        "start_time": "2022-02-02T11:01:18.058Z"
      },
      {
        "duration": 30,
        "start_time": "2022-02-02T11:01:48.215Z"
      },
      {
        "duration": 39,
        "start_time": "2022-02-02T11:01:48.246Z"
      },
      {
        "duration": 18068,
        "start_time": "2022-02-02T11:01:48.286Z"
      },
      {
        "duration": 28,
        "start_time": "2022-02-02T11:02:06.356Z"
      },
      {
        "duration": 27,
        "start_time": "2022-02-02T11:02:06.385Z"
      },
      {
        "duration": 365,
        "start_time": "2022-02-02T11:10:55.389Z"
      },
      {
        "duration": 27,
        "start_time": "2022-02-02T11:10:58.612Z"
      },
      {
        "duration": 26,
        "start_time": "2022-02-02T11:11:08.636Z"
      },
      {
        "duration": 203,
        "start_time": "2022-02-02T11:11:19.524Z"
      },
      {
        "duration": 319,
        "start_time": "2022-02-02T12:43:56.674Z"
      },
      {
        "duration": 1640,
        "start_time": "2022-02-02T12:44:04.206Z"
      },
      {
        "duration": 22,
        "start_time": "2022-02-02T12:44:05.849Z"
      },
      {
        "duration": 11,
        "start_time": "2022-02-02T12:44:05.874Z"
      },
      {
        "duration": 708,
        "start_time": "2022-02-02T12:44:05.888Z"
      },
      {
        "duration": 11,
        "start_time": "2022-02-02T12:44:06.599Z"
      },
      {
        "duration": 7,
        "start_time": "2022-02-02T12:44:06.613Z"
      },
      {
        "duration": 56,
        "start_time": "2022-02-02T12:44:06.623Z"
      },
      {
        "duration": 7,
        "start_time": "2022-02-02T12:44:06.683Z"
      },
      {
        "duration": 10,
        "start_time": "2022-02-02T12:44:06.693Z"
      },
      {
        "duration": 66750,
        "start_time": "2022-02-02T12:44:06.705Z"
      },
      {
        "duration": 16,
        "start_time": "2022-02-02T12:45:13.457Z"
      },
      {
        "duration": 10127,
        "start_time": "2022-02-02T12:45:13.476Z"
      },
      {
        "duration": 13,
        "start_time": "2022-02-02T12:45:23.605Z"
      },
      {
        "duration": 7,
        "start_time": "2022-02-02T12:45:23.620Z"
      },
      {
        "duration": 12348,
        "start_time": "2022-02-02T12:45:23.630Z"
      },
      {
        "duration": 14,
        "start_time": "2022-02-02T12:45:35.980Z"
      },
      {
        "duration": 98,
        "start_time": "2022-02-02T12:45:35.997Z"
      },
      {
        "duration": 3,
        "start_time": "2022-02-02T12:45:36.097Z"
      },
      {
        "duration": 3350,
        "start_time": "2022-02-02T12:45:36.103Z"
      },
      {
        "duration": 4326,
        "start_time": "2022-02-02T12:45:39.456Z"
      },
      {
        "duration": 74323,
        "start_time": "2022-02-02T12:45:43.784Z"
      },
      {
        "duration": 50523,
        "start_time": "2022-02-02T12:46:58.110Z"
      },
      {
        "duration": 53,
        "start_time": "2022-02-02T12:47:48.637Z"
      },
      {
        "duration": 42,
        "start_time": "2022-02-02T12:47:48.693Z"
      },
      {
        "duration": 32658,
        "start_time": "2022-02-02T12:47:48.738Z"
      },
      {
        "duration": 43,
        "start_time": "2022-02-02T12:48:21.399Z"
      },
      {
        "duration": 61,
        "start_time": "2022-02-02T12:48:21.445Z"
      },
      {
        "duration": 1563,
        "start_time": "2022-02-02T12:49:03.172Z"
      },
      {
        "duration": 22,
        "start_time": "2022-02-02T12:49:04.738Z"
      },
      {
        "duration": 15,
        "start_time": "2022-02-02T12:49:04.763Z"
      },
      {
        "duration": 780,
        "start_time": "2022-02-02T12:49:04.781Z"
      },
      {
        "duration": 10,
        "start_time": "2022-02-02T12:49:05.569Z"
      },
      {
        "duration": 8,
        "start_time": "2022-02-02T12:49:05.581Z"
      },
      {
        "duration": 25,
        "start_time": "2022-02-02T12:49:05.591Z"
      },
      {
        "duration": 6,
        "start_time": "2022-02-02T12:49:05.621Z"
      },
      {
        "duration": 10,
        "start_time": "2022-02-02T12:49:05.670Z"
      },
      {
        "duration": 66168,
        "start_time": "2022-02-02T12:49:05.683Z"
      },
      {
        "duration": 18,
        "start_time": "2022-02-02T12:50:11.853Z"
      },
      {
        "duration": 10140,
        "start_time": "2022-02-02T12:50:11.873Z"
      },
      {
        "duration": 12,
        "start_time": "2022-02-02T12:50:22.016Z"
      },
      {
        "duration": 8,
        "start_time": "2022-02-02T12:50:22.031Z"
      },
      {
        "duration": 11839,
        "start_time": "2022-02-02T12:50:22.042Z"
      },
      {
        "duration": 15,
        "start_time": "2022-02-02T12:50:33.884Z"
      },
      {
        "duration": 43,
        "start_time": "2022-02-02T12:50:33.901Z"
      },
      {
        "duration": 65,
        "start_time": "2022-02-02T12:50:33.946Z"
      },
      {
        "duration": 3,
        "start_time": "2022-02-02T12:50:34.014Z"
      },
      {
        "duration": 3449,
        "start_time": "2022-02-02T12:50:34.020Z"
      },
      {
        "duration": 4212,
        "start_time": "2022-02-02T12:50:37.472Z"
      },
      {
        "duration": 73520,
        "start_time": "2022-02-02T12:50:41.687Z"
      },
      {
        "duration": 49508,
        "start_time": "2022-02-02T12:51:55.211Z"
      },
      {
        "duration": 53,
        "start_time": "2022-02-02T12:52:44.722Z"
      },
      {
        "duration": 41,
        "start_time": "2022-02-02T12:52:44.778Z"
      },
      {
        "duration": 31975,
        "start_time": "2022-02-02T12:52:44.821Z"
      },
      {
        "duration": 42,
        "start_time": "2022-02-02T12:53:16.798Z"
      },
      {
        "duration": 64,
        "start_time": "2022-02-02T12:53:16.842Z"
      },
      {
        "duration": 102,
        "start_time": "2022-02-02T13:03:12.798Z"
      },
      {
        "duration": 16,
        "start_time": "2022-02-02T13:03:45.261Z"
      },
      {
        "duration": 1567,
        "start_time": "2022-02-02T13:03:56.980Z"
      },
      {
        "duration": 22,
        "start_time": "2022-02-02T13:03:58.550Z"
      },
      {
        "duration": 10,
        "start_time": "2022-02-02T13:03:58.575Z"
      },
      {
        "duration": 694,
        "start_time": "2022-02-02T13:03:58.587Z"
      },
      {
        "duration": 11,
        "start_time": "2022-02-02T13:03:59.283Z"
      },
      {
        "duration": 19,
        "start_time": "2022-02-02T13:03:59.296Z"
      },
      {
        "duration": 7,
        "start_time": "2022-02-02T13:03:59.318Z"
      },
      {
        "duration": 60,
        "start_time": "2022-02-02T13:03:59.329Z"
      },
      {
        "duration": 9,
        "start_time": "2022-02-02T13:03:59.393Z"
      },
      {
        "duration": 10,
        "start_time": "2022-02-02T13:03:59.405Z"
      },
      {
        "duration": 64490,
        "start_time": "2022-02-02T13:03:59.418Z"
      },
      {
        "duration": 10,
        "start_time": "2022-02-02T13:05:03.910Z"
      },
      {
        "duration": 1635,
        "start_time": "2022-02-02T13:05:13.653Z"
      },
      {
        "duration": 22,
        "start_time": "2022-02-02T13:05:15.291Z"
      },
      {
        "duration": 10,
        "start_time": "2022-02-02T13:05:15.316Z"
      },
      {
        "duration": 720,
        "start_time": "2022-02-02T13:05:15.329Z"
      },
      {
        "duration": 22,
        "start_time": "2022-02-02T13:05:16.052Z"
      },
      {
        "duration": 23,
        "start_time": "2022-02-02T13:05:16.078Z"
      },
      {
        "duration": 7,
        "start_time": "2022-02-02T13:05:16.103Z"
      },
      {
        "duration": 58,
        "start_time": "2022-02-02T13:05:16.114Z"
      },
      {
        "duration": 11,
        "start_time": "2022-02-02T13:05:16.176Z"
      },
      {
        "duration": 10,
        "start_time": "2022-02-02T13:05:16.190Z"
      },
      {
        "duration": 69816,
        "start_time": "2022-02-02T13:05:16.203Z"
      },
      {
        "duration": 9,
        "start_time": "2022-02-02T13:06:26.021Z"
      },
      {
        "duration": 11096,
        "start_time": "2022-02-02T13:06:26.032Z"
      },
      {
        "duration": 15,
        "start_time": "2022-02-02T13:06:37.131Z"
      },
      {
        "duration": 27,
        "start_time": "2022-02-02T13:06:37.149Z"
      },
      {
        "duration": 13054,
        "start_time": "2022-02-02T13:06:37.179Z"
      },
      {
        "duration": 18,
        "start_time": "2022-02-02T13:06:50.235Z"
      },
      {
        "duration": 47,
        "start_time": "2022-02-02T13:06:50.271Z"
      },
      {
        "duration": 74,
        "start_time": "2022-02-02T13:06:50.321Z"
      },
      {
        "duration": 4,
        "start_time": "2022-02-02T13:06:50.397Z"
      },
      {
        "duration": 3808,
        "start_time": "2022-02-02T13:06:50.404Z"
      },
      {
        "duration": 4892,
        "start_time": "2022-02-02T13:06:54.215Z"
      },
      {
        "duration": 82444,
        "start_time": "2022-02-02T13:06:59.112Z"
      },
      {
        "duration": 53765,
        "start_time": "2022-02-02T13:08:21.559Z"
      },
      {
        "duration": 62,
        "start_time": "2022-02-02T13:09:15.326Z"
      },
      {
        "duration": 43,
        "start_time": "2022-02-02T13:09:15.390Z"
      },
      {
        "duration": 35402,
        "start_time": "2022-02-02T13:09:15.436Z"
      },
      {
        "duration": 65,
        "start_time": "2022-02-02T13:09:50.840Z"
      },
      {
        "duration": 63,
        "start_time": "2022-02-02T13:09:50.907Z"
      },
      {
        "duration": 1544,
        "start_time": "2022-02-02T13:14:08.401Z"
      },
      {
        "duration": 28,
        "start_time": "2022-02-02T13:14:09.948Z"
      },
      {
        "duration": 12,
        "start_time": "2022-02-02T13:14:09.980Z"
      },
      {
        "duration": 708,
        "start_time": "2022-02-02T13:14:09.994Z"
      },
      {
        "duration": 11,
        "start_time": "2022-02-02T13:14:10.704Z"
      },
      {
        "duration": 21,
        "start_time": "2022-02-02T13:14:10.717Z"
      },
      {
        "duration": 82,
        "start_time": "2022-02-02T13:14:10.741Z"
      },
      {
        "duration": -14,
        "start_time": "2022-02-02T13:14:10.840Z"
      },
      {
        "duration": -20,
        "start_time": "2022-02-02T13:14:10.848Z"
      },
      {
        "duration": -24,
        "start_time": "2022-02-02T13:14:10.853Z"
      },
      {
        "duration": -27,
        "start_time": "2022-02-02T13:14:10.857Z"
      },
      {
        "duration": -32,
        "start_time": "2022-02-02T13:14:10.863Z"
      },
      {
        "duration": -35,
        "start_time": "2022-02-02T13:14:10.868Z"
      },
      {
        "duration": -38,
        "start_time": "2022-02-02T13:14:10.872Z"
      },
      {
        "duration": -41,
        "start_time": "2022-02-02T13:14:10.876Z"
      },
      {
        "duration": -55,
        "start_time": "2022-02-02T13:14:10.892Z"
      },
      {
        "duration": -60,
        "start_time": "2022-02-02T13:14:10.898Z"
      },
      {
        "duration": -65,
        "start_time": "2022-02-02T13:14:10.904Z"
      },
      {
        "duration": -68,
        "start_time": "2022-02-02T13:14:10.909Z"
      },
      {
        "duration": -71,
        "start_time": "2022-02-02T13:14:10.914Z"
      },
      {
        "duration": -74,
        "start_time": "2022-02-02T13:14:10.918Z"
      },
      {
        "duration": -77,
        "start_time": "2022-02-02T13:14:10.923Z"
      },
      {
        "duration": -90,
        "start_time": "2022-02-02T13:14:10.937Z"
      },
      {
        "duration": -95,
        "start_time": "2022-02-02T13:14:10.943Z"
      },
      {
        "duration": -103,
        "start_time": "2022-02-02T13:14:10.953Z"
      },
      {
        "duration": -106,
        "start_time": "2022-02-02T13:14:10.957Z"
      },
      {
        "duration": -108,
        "start_time": "2022-02-02T13:14:10.961Z"
      },
      {
        "duration": -111,
        "start_time": "2022-02-02T13:14:10.965Z"
      },
      {
        "duration": -113,
        "start_time": "2022-02-02T13:14:10.969Z"
      },
      {
        "duration": -115,
        "start_time": "2022-02-02T13:14:10.973Z"
      },
      {
        "duration": 12,
        "start_time": "2022-02-02T13:15:00.266Z"
      },
      {
        "duration": 138,
        "start_time": "2022-02-02T13:18:10.722Z"
      },
      {
        "duration": 18,
        "start_time": "2022-02-02T13:37:18.601Z"
      },
      {
        "duration": 18,
        "start_time": "2022-02-02T13:37:51.765Z"
      },
      {
        "duration": 16,
        "start_time": "2022-02-02T13:38:03.857Z"
      },
      {
        "duration": 25,
        "start_time": "2022-02-02T13:42:48.937Z"
      },
      {
        "duration": 23,
        "start_time": "2022-02-02T13:43:26.265Z"
      },
      {
        "duration": 26,
        "start_time": "2022-02-02T13:44:32.770Z"
      },
      {
        "duration": 13,
        "start_time": "2022-02-02T13:54:32.830Z"
      },
      {
        "duration": 8,
        "start_time": "2022-02-02T14:01:08.426Z"
      },
      {
        "duration": 27,
        "start_time": "2022-02-02T14:01:21.674Z"
      },
      {
        "duration": 7,
        "start_time": "2022-02-02T14:01:24.530Z"
      },
      {
        "duration": 1526,
        "start_time": "2022-02-02T14:10:34.813Z"
      },
      {
        "duration": 22,
        "start_time": "2022-02-02T14:10:36.342Z"
      },
      {
        "duration": 14,
        "start_time": "2022-02-02T14:10:36.366Z"
      },
      {
        "duration": 687,
        "start_time": "2022-02-02T14:10:36.383Z"
      },
      {
        "duration": 11,
        "start_time": "2022-02-02T14:10:37.072Z"
      },
      {
        "duration": 19,
        "start_time": "2022-02-02T14:10:37.085Z"
      },
      {
        "duration": 11,
        "start_time": "2022-02-02T14:10:37.107Z"
      },
      {
        "duration": 59,
        "start_time": "2022-02-02T14:10:37.122Z"
      },
      {
        "duration": 13,
        "start_time": "2022-02-02T14:10:37.184Z"
      },
      {
        "duration": 24,
        "start_time": "2022-02-02T14:10:37.199Z"
      },
      {
        "duration": 27,
        "start_time": "2022-02-02T14:10:37.225Z"
      },
      {
        "duration": 18,
        "start_time": "2022-02-02T14:10:37.255Z"
      },
      {
        "duration": 19,
        "start_time": "2022-02-02T14:10:37.276Z"
      },
      {
        "duration": 15,
        "start_time": "2022-02-02T14:10:37.297Z"
      },
      {
        "duration": 110,
        "start_time": "2022-02-02T14:10:37.314Z"
      },
      {
        "duration": -295,
        "start_time": "2022-02-02T14:10:37.722Z"
      },
      {
        "duration": -298,
        "start_time": "2022-02-02T14:10:37.727Z"
      },
      {
        "duration": -301,
        "start_time": "2022-02-02T14:10:37.731Z"
      },
      {
        "duration": -303,
        "start_time": "2022-02-02T14:10:37.735Z"
      },
      {
        "duration": -310,
        "start_time": "2022-02-02T14:10:37.743Z"
      },
      {
        "duration": -311,
        "start_time": "2022-02-02T14:10:37.746Z"
      },
      {
        "duration": -314,
        "start_time": "2022-02-02T14:10:37.750Z"
      },
      {
        "duration": -317,
        "start_time": "2022-02-02T14:10:37.755Z"
      },
      {
        "duration": -338,
        "start_time": "2022-02-02T14:10:37.777Z"
      },
      {
        "duration": -343,
        "start_time": "2022-02-02T14:10:37.783Z"
      },
      {
        "duration": -349,
        "start_time": "2022-02-02T14:10:37.791Z"
      },
      {
        "duration": -351,
        "start_time": "2022-02-02T14:10:37.794Z"
      },
      {
        "duration": -354,
        "start_time": "2022-02-02T14:10:37.798Z"
      },
      {
        "duration": -356,
        "start_time": "2022-02-02T14:10:37.802Z"
      },
      {
        "duration": -362,
        "start_time": "2022-02-02T14:10:37.809Z"
      },
      {
        "duration": -375,
        "start_time": "2022-02-02T14:10:37.823Z"
      },
      {
        "duration": -407,
        "start_time": "2022-02-02T14:10:37.856Z"
      },
      {
        "duration": -444,
        "start_time": "2022-02-02T14:10:37.895Z"
      },
      {
        "duration": 66468,
        "start_time": "2022-02-02T14:18:07.755Z"
      },
      {
        "duration": 5,
        "start_time": "2022-02-02T14:32:53.325Z"
      },
      {
        "duration": 95,
        "start_time": "2022-02-02T14:37:26.917Z"
      },
      {
        "duration": 4365,
        "start_time": "2022-02-02T14:37:37.925Z"
      },
      {
        "duration": 653,
        "start_time": "2022-02-02T14:45:26.050Z"
      },
      {
        "duration": 6,
        "start_time": "2022-02-02T14:52:20.926Z"
      },
      {
        "duration": 538,
        "start_time": "2022-02-02T14:52:26.399Z"
      },
      {
        "duration": 679,
        "start_time": "2022-02-02T14:54:49.535Z"
      },
      {
        "duration": 5,
        "start_time": "2022-02-03T07:04:08.557Z"
      },
      {
        "duration": 1143,
        "start_time": "2022-02-03T07:04:16.258Z"
      },
      {
        "duration": 14,
        "start_time": "2022-02-03T07:04:17.403Z"
      },
      {
        "duration": 10,
        "start_time": "2022-02-03T07:04:17.418Z"
      },
      {
        "duration": 480,
        "start_time": "2022-02-03T07:04:17.430Z"
      },
      {
        "duration": 9,
        "start_time": "2022-02-03T07:04:17.912Z"
      },
      {
        "duration": 13,
        "start_time": "2022-02-03T07:04:17.923Z"
      },
      {
        "duration": 9,
        "start_time": "2022-02-03T07:04:17.938Z"
      },
      {
        "duration": 18,
        "start_time": "2022-02-03T07:04:17.950Z"
      },
      {
        "duration": 51,
        "start_time": "2022-02-03T07:04:17.970Z"
      },
      {
        "duration": 5,
        "start_time": "2022-02-03T07:04:18.023Z"
      },
      {
        "duration": 26,
        "start_time": "2022-02-03T07:04:18.030Z"
      },
      {
        "duration": 4,
        "start_time": "2022-02-03T07:04:18.058Z"
      },
      {
        "duration": 9,
        "start_time": "2022-02-03T07:04:18.063Z"
      },
      {
        "duration": 7,
        "start_time": "2022-02-03T07:04:18.074Z"
      },
      {
        "duration": 515,
        "start_time": "2022-02-03T07:04:18.083Z"
      },
      {
        "duration": -79,
        "start_time": "2022-02-03T07:04:18.680Z"
      },
      {
        "duration": -83,
        "start_time": "2022-02-03T07:04:18.685Z"
      },
      {
        "duration": -92,
        "start_time": "2022-02-03T07:04:18.694Z"
      },
      {
        "duration": -96,
        "start_time": "2022-02-03T07:04:18.699Z"
      },
      {
        "duration": -100,
        "start_time": "2022-02-03T07:04:18.704Z"
      },
      {
        "duration": -137,
        "start_time": "2022-02-03T07:04:18.741Z"
      },
      {
        "duration": -145,
        "start_time": "2022-02-03T07:04:18.750Z"
      },
      {
        "duration": -148,
        "start_time": "2022-02-03T07:04:18.754Z"
      },
      {
        "duration": -151,
        "start_time": "2022-02-03T07:04:18.758Z"
      },
      {
        "duration": -157,
        "start_time": "2022-02-03T07:04:18.765Z"
      },
      {
        "duration": -161,
        "start_time": "2022-02-03T07:04:18.770Z"
      },
      {
        "duration": -164,
        "start_time": "2022-02-03T07:04:18.774Z"
      },
      {
        "duration": -168,
        "start_time": "2022-02-03T07:04:18.778Z"
      },
      {
        "duration": -171,
        "start_time": "2022-02-03T07:04:18.782Z"
      },
      {
        "duration": -174,
        "start_time": "2022-02-03T07:04:18.786Z"
      },
      {
        "duration": -178,
        "start_time": "2022-02-03T07:04:18.791Z"
      },
      {
        "duration": -181,
        "start_time": "2022-02-03T07:04:18.795Z"
      },
      {
        "duration": -184,
        "start_time": "2022-02-03T07:04:18.799Z"
      },
      {
        "duration": 5,
        "start_time": "2022-02-03T07:07:39.410Z"
      },
      {
        "duration": 19506,
        "start_time": "2022-02-03T07:07:42.410Z"
      },
      {
        "duration": 1213,
        "start_time": "2022-02-03T07:08:33.690Z"
      },
      {
        "duration": 15,
        "start_time": "2022-02-03T07:08:34.905Z"
      },
      {
        "duration": 8,
        "start_time": "2022-02-03T07:08:34.923Z"
      },
      {
        "duration": 492,
        "start_time": "2022-02-03T07:08:34.934Z"
      },
      {
        "duration": 8,
        "start_time": "2022-02-03T07:08:35.427Z"
      },
      {
        "duration": 22,
        "start_time": "2022-02-03T07:08:35.436Z"
      },
      {
        "duration": 22,
        "start_time": "2022-02-03T07:08:35.459Z"
      },
      {
        "duration": 31,
        "start_time": "2022-02-03T07:08:35.484Z"
      },
      {
        "duration": 10,
        "start_time": "2022-02-03T07:08:35.517Z"
      },
      {
        "duration": 7,
        "start_time": "2022-02-03T07:08:35.529Z"
      },
      {
        "duration": 22,
        "start_time": "2022-02-03T07:08:35.538Z"
      },
      {
        "duration": 5,
        "start_time": "2022-02-03T07:08:35.562Z"
      },
      {
        "duration": 14,
        "start_time": "2022-02-03T07:08:35.569Z"
      },
      {
        "duration": 30,
        "start_time": "2022-02-03T07:08:35.585Z"
      },
      {
        "duration": 20211,
        "start_time": "2022-02-03T07:08:35.617Z"
      },
      {
        "duration": 7,
        "start_time": "2022-02-03T07:08:55.830Z"
      },
      {
        "duration": 5822,
        "start_time": "2022-02-03T07:08:55.839Z"
      },
      {
        "duration": 9,
        "start_time": "2022-02-03T07:09:01.663Z"
      },
      {
        "duration": 9,
        "start_time": "2022-02-03T07:09:01.673Z"
      },
      {
        "duration": 7489,
        "start_time": "2022-02-03T07:09:01.684Z"
      },
      {
        "duration": 10,
        "start_time": "2022-02-03T07:09:09.174Z"
      },
      {
        "duration": 36,
        "start_time": "2022-02-03T07:09:09.186Z"
      },
      {
        "duration": 27,
        "start_time": "2022-02-03T07:09:09.225Z"
      },
      {
        "duration": 2,
        "start_time": "2022-02-03T07:09:09.254Z"
      },
      {
        "duration": 2503,
        "start_time": "2022-02-03T07:09:09.258Z"
      },
      {
        "duration": 2811,
        "start_time": "2022-02-03T07:09:11.763Z"
      },
      {
        "duration": 49641,
        "start_time": "2022-02-03T07:09:14.575Z"
      },
      {
        "duration": 32095,
        "start_time": "2022-02-03T07:10:04.217Z"
      },
      {
        "duration": 28,
        "start_time": "2022-02-03T07:10:36.314Z"
      },
      {
        "duration": 29,
        "start_time": "2022-02-03T07:10:36.344Z"
      },
      {
        "duration": 18869,
        "start_time": "2022-02-03T07:10:36.375Z"
      },
      {
        "duration": 28,
        "start_time": "2022-02-03T07:10:55.246Z"
      },
      {
        "duration": 44,
        "start_time": "2022-02-03T07:10:55.275Z"
      },
      {
        "duration": 1171,
        "start_time": "2022-02-03T07:11:28.032Z"
      },
      {
        "duration": 15,
        "start_time": "2022-02-03T07:11:29.205Z"
      },
      {
        "duration": 7,
        "start_time": "2022-02-03T07:11:29.222Z"
      },
      {
        "duration": 467,
        "start_time": "2022-02-03T07:11:29.231Z"
      },
      {
        "duration": 13,
        "start_time": "2022-02-03T07:11:29.700Z"
      },
      {
        "duration": 12,
        "start_time": "2022-02-03T07:11:29.714Z"
      },
      {
        "duration": 7,
        "start_time": "2022-02-03T07:11:29.728Z"
      },
      {
        "duration": 16,
        "start_time": "2022-02-03T07:11:29.738Z"
      },
      {
        "duration": 10,
        "start_time": "2022-02-03T07:11:29.756Z"
      },
      {
        "duration": 5,
        "start_time": "2022-02-03T07:11:29.767Z"
      },
      {
        "duration": 51,
        "start_time": "2022-02-03T07:11:29.774Z"
      },
      {
        "duration": 4,
        "start_time": "2022-02-03T07:11:29.827Z"
      },
      {
        "duration": 12,
        "start_time": "2022-02-03T07:11:29.833Z"
      },
      {
        "duration": 3,
        "start_time": "2022-02-03T07:11:29.847Z"
      },
      {
        "duration": 19630,
        "start_time": "2022-02-03T07:11:29.852Z"
      },
      {
        "duration": 6,
        "start_time": "2022-02-03T07:11:49.484Z"
      },
      {
        "duration": 5720,
        "start_time": "2022-02-03T07:11:49.492Z"
      },
      {
        "duration": 9,
        "start_time": "2022-02-03T07:11:55.214Z"
      },
      {
        "duration": 5,
        "start_time": "2022-02-03T07:11:55.225Z"
      },
      {
        "duration": 7584,
        "start_time": "2022-02-03T07:11:55.232Z"
      },
      {
        "duration": 11,
        "start_time": "2022-02-03T07:12:02.818Z"
      },
      {
        "duration": 35,
        "start_time": "2022-02-03T07:12:02.831Z"
      },
      {
        "duration": 48,
        "start_time": "2022-02-03T07:12:02.870Z"
      },
      {
        "duration": 2,
        "start_time": "2022-02-03T07:12:02.921Z"
      },
      {
        "duration": 2502,
        "start_time": "2022-02-03T07:12:02.925Z"
      },
      {
        "duration": 2873,
        "start_time": "2022-02-03T07:12:05.429Z"
      },
      {
        "duration": 48807,
        "start_time": "2022-02-03T07:12:08.312Z"
      },
      {
        "duration": 32559,
        "start_time": "2022-02-03T07:12:57.120Z"
      },
      {
        "duration": 25,
        "start_time": "2022-02-03T07:13:29.680Z"
      },
      {
        "duration": 28,
        "start_time": "2022-02-03T07:13:29.712Z"
      },
      {
        "duration": 19111,
        "start_time": "2022-02-03T07:13:29.741Z"
      },
      {
        "duration": 26,
        "start_time": "2022-02-03T07:13:48.854Z"
      },
      {
        "duration": 41,
        "start_time": "2022-02-03T07:13:48.881Z"
      },
      {
        "duration": 5,
        "start_time": "2022-02-03T07:28:14.693Z"
      },
      {
        "duration": 4593,
        "start_time": "2022-02-03T07:30:28.746Z"
      },
      {
        "duration": 1173,
        "start_time": "2022-02-03T07:30:46.397Z"
      },
      {
        "duration": 13,
        "start_time": "2022-02-03T07:30:47.572Z"
      },
      {
        "duration": 7,
        "start_time": "2022-02-03T07:30:47.588Z"
      },
      {
        "duration": 463,
        "start_time": "2022-02-03T07:30:47.597Z"
      },
      {
        "duration": 8,
        "start_time": "2022-02-03T07:30:48.062Z"
      },
      {
        "duration": 12,
        "start_time": "2022-02-03T07:30:48.072Z"
      },
      {
        "duration": 30,
        "start_time": "2022-02-03T07:30:48.086Z"
      },
      {
        "duration": 17,
        "start_time": "2022-02-03T07:30:48.119Z"
      },
      {
        "duration": 8,
        "start_time": "2022-02-03T07:30:48.138Z"
      },
      {
        "duration": 5,
        "start_time": "2022-02-03T07:30:48.148Z"
      },
      {
        "duration": 16,
        "start_time": "2022-02-03T07:30:48.154Z"
      },
      {
        "duration": 41,
        "start_time": "2022-02-03T07:30:48.172Z"
      },
      {
        "duration": 8,
        "start_time": "2022-02-03T07:30:48.215Z"
      },
      {
        "duration": 4,
        "start_time": "2022-02-03T07:30:48.224Z"
      },
      {
        "duration": 19482,
        "start_time": "2022-02-03T07:30:48.230Z"
      },
      {
        "duration": 6,
        "start_time": "2022-02-03T07:31:07.713Z"
      },
      {
        "duration": 4,
        "start_time": "2022-02-03T07:31:07.721Z"
      },
      {
        "duration": 4363,
        "start_time": "2022-02-03T07:31:07.726Z"
      },
      {
        "duration": 9,
        "start_time": "2022-02-03T07:31:12.091Z"
      },
      {
        "duration": 5,
        "start_time": "2022-02-03T07:31:12.112Z"
      },
      {
        "duration": 7472,
        "start_time": "2022-02-03T07:31:12.118Z"
      },
      {
        "duration": 10,
        "start_time": "2022-02-03T07:31:19.591Z"
      },
      {
        "duration": 24,
        "start_time": "2022-02-03T07:31:19.612Z"
      },
      {
        "duration": 27,
        "start_time": "2022-02-03T07:31:19.638Z"
      },
      {
        "duration": 3,
        "start_time": "2022-02-03T07:31:19.666Z"
      },
      {
        "duration": 2502,
        "start_time": "2022-02-03T07:31:19.670Z"
      },
      {
        "duration": 2684,
        "start_time": "2022-02-03T07:31:22.174Z"
      },
      {
        "duration": 47970,
        "start_time": "2022-02-03T07:31:24.860Z"
      },
      {
        "duration": 31601,
        "start_time": "2022-02-03T07:32:12.832Z"
      },
      {
        "duration": 25,
        "start_time": "2022-02-03T07:32:44.435Z"
      },
      {
        "duration": 25,
        "start_time": "2022-02-03T07:32:44.462Z"
      },
      {
        "duration": 22685,
        "start_time": "2022-02-03T07:32:44.489Z"
      },
      {
        "duration": 38,
        "start_time": "2022-02-03T07:33:07.176Z"
      },
      {
        "duration": 25,
        "start_time": "2022-02-03T07:33:07.216Z"
      },
      {
        "duration": 1139,
        "start_time": "2022-02-03T07:34:18.241Z"
      },
      {
        "duration": 14,
        "start_time": "2022-02-03T07:34:19.382Z"
      },
      {
        "duration": 56,
        "start_time": "2022-02-03T07:34:19.398Z"
      },
      {
        "duration": 506,
        "start_time": "2022-02-03T07:34:19.456Z"
      },
      {
        "duration": 8,
        "start_time": "2022-02-03T07:34:19.963Z"
      },
      {
        "duration": 62,
        "start_time": "2022-02-03T07:34:19.972Z"
      },
      {
        "duration": 45,
        "start_time": "2022-02-03T07:34:20.035Z"
      },
      {
        "duration": 66,
        "start_time": "2022-02-03T07:34:20.082Z"
      },
      {
        "duration": 50,
        "start_time": "2022-02-03T07:34:20.150Z"
      },
      {
        "duration": 64,
        "start_time": "2022-02-03T07:34:20.201Z"
      },
      {
        "duration": 72,
        "start_time": "2022-02-03T07:34:20.266Z"
      },
      {
        "duration": 19,
        "start_time": "2022-02-03T07:34:20.339Z"
      },
      {
        "duration": 64,
        "start_time": "2022-02-03T07:34:20.359Z"
      },
      {
        "duration": 49,
        "start_time": "2022-02-03T07:34:20.425Z"
      },
      {
        "duration": 20527,
        "start_time": "2022-02-03T07:34:20.475Z"
      },
      {
        "duration": 15,
        "start_time": "2022-02-03T07:34:41.004Z"
      },
      {
        "duration": 5,
        "start_time": "2022-02-03T07:34:41.020Z"
      },
      {
        "duration": 4353,
        "start_time": "2022-02-03T07:34:41.027Z"
      },
      {
        "duration": 10,
        "start_time": "2022-02-03T07:34:45.383Z"
      },
      {
        "duration": 19,
        "start_time": "2022-02-03T07:34:45.395Z"
      },
      {
        "duration": 7296,
        "start_time": "2022-02-03T07:34:45.416Z"
      },
      {
        "duration": 12,
        "start_time": "2022-02-03T07:34:52.713Z"
      },
      {
        "duration": 24,
        "start_time": "2022-02-03T07:34:52.729Z"
      },
      {
        "duration": 27,
        "start_time": "2022-02-03T07:34:52.754Z"
      },
      {
        "duration": 2,
        "start_time": "2022-02-03T07:34:52.782Z"
      },
      {
        "duration": 2411,
        "start_time": "2022-02-03T07:34:52.812Z"
      },
      {
        "duration": 2650,
        "start_time": "2022-02-03T07:34:55.225Z"
      },
      {
        "duration": 48676,
        "start_time": "2022-02-03T07:34:57.877Z"
      },
      {
        "duration": 1135,
        "start_time": "2022-02-03T07:35:54.938Z"
      },
      {
        "duration": 15,
        "start_time": "2022-02-03T07:35:56.074Z"
      },
      {
        "duration": 10,
        "start_time": "2022-02-03T07:35:56.091Z"
      },
      {
        "duration": 468,
        "start_time": "2022-02-03T07:35:56.103Z"
      },
      {
        "duration": 8,
        "start_time": "2022-02-03T07:35:56.573Z"
      },
      {
        "duration": 12,
        "start_time": "2022-02-03T07:35:56.583Z"
      },
      {
        "duration": 9,
        "start_time": "2022-02-03T07:35:56.612Z"
      },
      {
        "duration": 17,
        "start_time": "2022-02-03T07:35:56.624Z"
      },
      {
        "duration": 10,
        "start_time": "2022-02-03T07:35:56.643Z"
      },
      {
        "duration": 5,
        "start_time": "2022-02-03T07:35:56.654Z"
      },
      {
        "duration": 14,
        "start_time": "2022-02-03T07:35:56.660Z"
      },
      {
        "duration": 6,
        "start_time": "2022-02-03T07:35:56.711Z"
      },
      {
        "duration": 8,
        "start_time": "2022-02-03T07:35:56.718Z"
      },
      {
        "duration": 4,
        "start_time": "2022-02-03T07:35:56.727Z"
      },
      {
        "duration": 19882,
        "start_time": "2022-02-03T07:35:56.732Z"
      },
      {
        "duration": 7,
        "start_time": "2022-02-03T07:36:16.616Z"
      },
      {
        "duration": 3,
        "start_time": "2022-02-03T07:36:16.625Z"
      },
      {
        "duration": 4076,
        "start_time": "2022-02-03T07:36:16.630Z"
      },
      {
        "duration": 8,
        "start_time": "2022-02-03T07:36:20.713Z"
      },
      {
        "duration": 5,
        "start_time": "2022-02-03T07:36:20.722Z"
      },
      {
        "duration": 7465,
        "start_time": "2022-02-03T07:36:20.729Z"
      },
      {
        "duration": 19,
        "start_time": "2022-02-03T07:36:28.196Z"
      },
      {
        "duration": 24,
        "start_time": "2022-02-03T07:36:28.218Z"
      },
      {
        "duration": 27,
        "start_time": "2022-02-03T07:36:28.244Z"
      },
      {
        "duration": 2,
        "start_time": "2022-02-03T07:36:28.273Z"
      },
      {
        "duration": 2558,
        "start_time": "2022-02-03T07:36:28.277Z"
      },
      {
        "duration": 2660,
        "start_time": "2022-02-03T07:36:30.836Z"
      },
      {
        "duration": 47670,
        "start_time": "2022-02-03T07:36:33.498Z"
      },
      {
        "duration": 31464,
        "start_time": "2022-02-03T07:37:21.170Z"
      },
      {
        "duration": 26,
        "start_time": "2022-02-03T07:37:52.636Z"
      },
      {
        "duration": 27,
        "start_time": "2022-02-03T07:37:52.663Z"
      },
      {
        "duration": 23210,
        "start_time": "2022-02-03T07:37:52.712Z"
      },
      {
        "duration": 26,
        "start_time": "2022-02-03T07:38:15.924Z"
      },
      {
        "duration": 27,
        "start_time": "2022-02-03T07:38:15.952Z"
      },
      {
        "duration": 1120,
        "start_time": "2022-02-03T07:39:02.372Z"
      },
      {
        "duration": 15,
        "start_time": "2022-02-03T07:39:03.493Z"
      },
      {
        "duration": 8,
        "start_time": "2022-02-03T07:39:03.510Z"
      },
      {
        "duration": 463,
        "start_time": "2022-02-03T07:39:03.520Z"
      },
      {
        "duration": 8,
        "start_time": "2022-02-03T07:39:03.984Z"
      },
      {
        "duration": 154,
        "start_time": "2022-02-03T07:39:03.993Z"
      },
      {
        "duration": 8,
        "start_time": "2022-02-03T07:39:04.149Z"
      },
      {
        "duration": 23,
        "start_time": "2022-02-03T07:39:04.159Z"
      },
      {
        "duration": 9,
        "start_time": "2022-02-03T07:39:04.184Z"
      },
      {
        "duration": 4,
        "start_time": "2022-02-03T07:39:04.195Z"
      },
      {
        "duration": 19,
        "start_time": "2022-02-03T07:39:04.201Z"
      },
      {
        "duration": 5,
        "start_time": "2022-02-03T07:39:04.221Z"
      },
      {
        "duration": 8,
        "start_time": "2022-02-03T07:39:04.227Z"
      },
      {
        "duration": 4,
        "start_time": "2022-02-03T07:39:04.236Z"
      },
      {
        "duration": 21351,
        "start_time": "2022-02-03T07:39:04.242Z"
      },
      {
        "duration": 18,
        "start_time": "2022-02-03T07:39:25.594Z"
      },
      {
        "duration": 3,
        "start_time": "2022-02-03T07:39:25.614Z"
      },
      {
        "duration": 4461,
        "start_time": "2022-02-03T07:39:25.619Z"
      },
      {
        "duration": 9,
        "start_time": "2022-02-03T07:39:30.081Z"
      },
      {
        "duration": 5,
        "start_time": "2022-02-03T07:39:30.092Z"
      },
      {
        "duration": 7128,
        "start_time": "2022-02-03T07:39:30.112Z"
      },
      {
        "duration": 9,
        "start_time": "2022-02-03T07:39:37.242Z"
      },
      {
        "duration": 25,
        "start_time": "2022-02-03T07:39:37.254Z"
      },
      {
        "duration": 48,
        "start_time": "2022-02-03T07:39:37.281Z"
      },
      {
        "duration": 3,
        "start_time": "2022-02-03T07:39:37.330Z"
      },
      {
        "duration": 2444,
        "start_time": "2022-02-03T07:39:37.335Z"
      },
      {
        "duration": 2619,
        "start_time": "2022-02-03T07:39:39.780Z"
      },
      {
        "duration": 47668,
        "start_time": "2022-02-03T07:39:42.400Z"
      },
      {
        "duration": 31094,
        "start_time": "2022-02-03T07:40:30.070Z"
      },
      {
        "duration": 26,
        "start_time": "2022-02-03T07:41:01.165Z"
      },
      {
        "duration": 42,
        "start_time": "2022-02-03T07:41:01.193Z"
      },
      {
        "duration": 22701,
        "start_time": "2022-02-03T07:41:01.237Z"
      },
      {
        "duration": 28,
        "start_time": "2022-02-03T07:41:23.939Z"
      },
      {
        "duration": 26,
        "start_time": "2022-02-03T07:41:23.968Z"
      },
      {
        "duration": 1155,
        "start_time": "2022-02-03T08:00:19.142Z"
      },
      {
        "duration": 15,
        "start_time": "2022-02-03T08:00:20.299Z"
      },
      {
        "duration": 9,
        "start_time": "2022-02-03T08:00:20.316Z"
      },
      {
        "duration": 526,
        "start_time": "2022-02-03T08:00:20.327Z"
      },
      {
        "duration": 7,
        "start_time": "2022-02-03T08:00:20.855Z"
      },
      {
        "duration": 11,
        "start_time": "2022-02-03T08:00:20.864Z"
      },
      {
        "duration": 7,
        "start_time": "2022-02-03T08:00:20.877Z"
      },
      {
        "duration": 41,
        "start_time": "2022-02-03T08:00:20.887Z"
      },
      {
        "duration": 10,
        "start_time": "2022-02-03T08:00:20.930Z"
      },
      {
        "duration": 6,
        "start_time": "2022-02-03T08:00:20.942Z"
      },
      {
        "duration": 24,
        "start_time": "2022-02-03T08:00:20.950Z"
      },
      {
        "duration": 5,
        "start_time": "2022-02-03T08:00:20.975Z"
      },
      {
        "duration": 35,
        "start_time": "2022-02-03T08:00:20.982Z"
      },
      {
        "duration": 6,
        "start_time": "2022-02-03T08:00:21.019Z"
      },
      {
        "duration": 20434,
        "start_time": "2022-02-03T08:00:21.026Z"
      },
      {
        "duration": 8,
        "start_time": "2022-02-03T08:00:41.462Z"
      },
      {
        "duration": 4,
        "start_time": "2022-02-03T08:00:41.471Z"
      },
      {
        "duration": 4496,
        "start_time": "2022-02-03T08:00:41.477Z"
      },
      {
        "duration": 8,
        "start_time": "2022-02-03T08:00:45.974Z"
      },
      {
        "duration": 73,
        "start_time": "2022-02-03T08:00:45.984Z"
      },
      {
        "duration": 5,
        "start_time": "2022-02-03T08:00:46.058Z"
      },
      {
        "duration": 4,
        "start_time": "2022-02-03T08:00:46.065Z"
      },
      {
        "duration": 13,
        "start_time": "2022-02-03T08:00:46.072Z"
      },
      {
        "duration": 43,
        "start_time": "2022-02-03T08:00:46.087Z"
      },
      {
        "duration": 32,
        "start_time": "2022-02-03T08:00:46.132Z"
      },
      {
        "duration": 4,
        "start_time": "2022-02-03T08:00:46.166Z"
      },
      {
        "duration": 2350,
        "start_time": "2022-02-03T08:00:46.172Z"
      },
      {
        "duration": 2589,
        "start_time": "2022-02-03T08:00:48.524Z"
      },
      {
        "duration": 43964,
        "start_time": "2022-02-03T08:00:51.116Z"
      },
      {
        "duration": 27611,
        "start_time": "2022-02-03T08:01:35.081Z"
      },
      {
        "duration": 37,
        "start_time": "2022-02-03T08:02:02.693Z"
      },
      {
        "duration": 25,
        "start_time": "2022-02-03T08:02:02.733Z"
      },
      {
        "duration": 1139,
        "start_time": "2022-02-03T08:02:25.273Z"
      },
      {
        "duration": 15,
        "start_time": "2022-02-03T08:02:26.415Z"
      },
      {
        "duration": 8,
        "start_time": "2022-02-03T08:02:26.432Z"
      },
      {
        "duration": 525,
        "start_time": "2022-02-03T08:02:26.442Z"
      },
      {
        "duration": 7,
        "start_time": "2022-02-03T08:02:26.969Z"
      },
      {
        "duration": 12,
        "start_time": "2022-02-03T08:02:26.978Z"
      },
      {
        "duration": 27,
        "start_time": "2022-02-03T08:02:26.992Z"
      },
      {
        "duration": 17,
        "start_time": "2022-02-03T08:02:27.022Z"
      },
      {
        "duration": 10,
        "start_time": "2022-02-03T08:02:27.041Z"
      },
      {
        "duration": 6,
        "start_time": "2022-02-03T08:02:27.053Z"
      },
      {
        "duration": 52,
        "start_time": "2022-02-03T08:02:27.061Z"
      },
      {
        "duration": 5,
        "start_time": "2022-02-03T08:02:27.115Z"
      },
      {
        "duration": 8,
        "start_time": "2022-02-03T08:02:27.122Z"
      },
      {
        "duration": 3,
        "start_time": "2022-02-03T08:02:27.132Z"
      },
      {
        "duration": 20277,
        "start_time": "2022-02-03T08:02:27.137Z"
      },
      {
        "duration": 8,
        "start_time": "2022-02-03T08:02:47.416Z"
      },
      {
        "duration": 6,
        "start_time": "2022-02-03T08:02:47.426Z"
      },
      {
        "duration": 4239,
        "start_time": "2022-02-03T08:02:47.433Z"
      },
      {
        "duration": 10,
        "start_time": "2022-02-03T08:02:51.674Z"
      },
      {
        "duration": 27,
        "start_time": "2022-02-03T08:02:51.686Z"
      },
      {
        "duration": 57,
        "start_time": "2022-02-03T08:02:51.714Z"
      },
      {
        "duration": 9,
        "start_time": "2022-02-03T08:02:51.773Z"
      },
      {
        "duration": 4,
        "start_time": "2022-02-03T08:02:51.785Z"
      },
      {
        "duration": 4,
        "start_time": "2022-02-03T08:02:51.813Z"
      },
      {
        "duration": 13,
        "start_time": "2022-02-03T08:02:51.819Z"
      },
      {
        "duration": 26,
        "start_time": "2022-02-03T08:02:51.833Z"
      },
      {
        "duration": 58,
        "start_time": "2022-02-03T08:02:51.860Z"
      },
      {
        "duration": 2,
        "start_time": "2022-02-03T08:02:51.920Z"
      },
      {
        "duration": 2309,
        "start_time": "2022-02-03T08:02:51.924Z"
      },
      {
        "duration": 2603,
        "start_time": "2022-02-03T08:02:54.235Z"
      },
      {
        "duration": 44178,
        "start_time": "2022-02-03T08:02:56.840Z"
      },
      {
        "duration": 27621,
        "start_time": "2022-02-03T08:03:41.019Z"
      },
      {
        "duration": 25,
        "start_time": "2022-02-03T08:04:08.642Z"
      },
      {
        "duration": 44,
        "start_time": "2022-02-03T08:04:08.668Z"
      },
      {
        "duration": 21058,
        "start_time": "2022-02-03T08:04:08.713Z"
      },
      {
        "duration": 26,
        "start_time": "2022-02-03T08:04:29.773Z"
      },
      {
        "duration": 27,
        "start_time": "2022-02-03T08:04:29.813Z"
      },
      {
        "duration": 1194,
        "start_time": "2022-02-03T08:07:14.694Z"
      },
      {
        "duration": 15,
        "start_time": "2022-02-03T08:07:15.890Z"
      },
      {
        "duration": 9,
        "start_time": "2022-02-03T08:07:15.907Z"
      },
      {
        "duration": 463,
        "start_time": "2022-02-03T08:07:15.918Z"
      },
      {
        "duration": 8,
        "start_time": "2022-02-03T08:07:16.383Z"
      },
      {
        "duration": 23,
        "start_time": "2022-02-03T08:07:16.393Z"
      },
      {
        "duration": 9,
        "start_time": "2022-02-03T08:07:16.418Z"
      },
      {
        "duration": 18,
        "start_time": "2022-02-03T08:07:16.429Z"
      },
      {
        "duration": 10,
        "start_time": "2022-02-03T08:07:16.449Z"
      },
      {
        "duration": 5,
        "start_time": "2022-02-03T08:07:16.460Z"
      },
      {
        "duration": 54,
        "start_time": "2022-02-03T08:07:16.467Z"
      },
      {
        "duration": 5,
        "start_time": "2022-02-03T08:07:16.522Z"
      },
      {
        "duration": 13,
        "start_time": "2022-02-03T08:07:16.528Z"
      },
      {
        "duration": 4,
        "start_time": "2022-02-03T08:07:16.543Z"
      },
      {
        "duration": 20562,
        "start_time": "2022-02-03T08:07:16.548Z"
      },
      {
        "duration": 7,
        "start_time": "2022-02-03T08:07:37.112Z"
      },
      {
        "duration": 6,
        "start_time": "2022-02-03T08:07:37.121Z"
      },
      {
        "duration": 4481,
        "start_time": "2022-02-03T08:07:37.128Z"
      },
      {
        "duration": 8,
        "start_time": "2022-02-03T08:07:41.610Z"
      },
      {
        "duration": 8,
        "start_time": "2022-02-03T08:07:41.620Z"
      },
      {
        "duration": 57,
        "start_time": "2022-02-03T08:07:41.630Z"
      },
      {
        "duration": 8,
        "start_time": "2022-02-03T08:07:41.712Z"
      },
      {
        "duration": 4,
        "start_time": "2022-02-03T08:07:41.723Z"
      },
      {
        "duration": 4,
        "start_time": "2022-02-03T08:07:41.729Z"
      },
      {
        "duration": 12,
        "start_time": "2022-02-03T08:07:41.735Z"
      },
      {
        "duration": 25,
        "start_time": "2022-02-03T08:07:41.749Z"
      },
      {
        "duration": 59,
        "start_time": "2022-02-03T08:07:41.775Z"
      },
      {
        "duration": 2,
        "start_time": "2022-02-03T08:07:41.836Z"
      },
      {
        "duration": 2527,
        "start_time": "2022-02-03T08:07:41.839Z"
      },
      {
        "duration": 2653,
        "start_time": "2022-02-03T08:07:44.368Z"
      },
      {
        "duration": 49024,
        "start_time": "2022-02-03T08:07:47.023Z"
      },
      {
        "duration": 32391,
        "start_time": "2022-02-03T08:08:36.049Z"
      },
      {
        "duration": 26,
        "start_time": "2022-02-03T08:09:08.442Z"
      },
      {
        "duration": 44,
        "start_time": "2022-02-03T08:09:08.469Z"
      },
      {
        "duration": 1138,
        "start_time": "2022-02-03T08:09:24.072Z"
      },
      {
        "duration": 15,
        "start_time": "2022-02-03T08:09:25.212Z"
      },
      {
        "duration": 8,
        "start_time": "2022-02-03T08:09:25.229Z"
      },
      {
        "duration": 475,
        "start_time": "2022-02-03T08:09:25.239Z"
      },
      {
        "duration": 8,
        "start_time": "2022-02-03T08:09:25.715Z"
      },
      {
        "duration": 15,
        "start_time": "2022-02-03T08:09:25.725Z"
      },
      {
        "duration": 8,
        "start_time": "2022-02-03T08:09:25.742Z"
      },
      {
        "duration": 17,
        "start_time": "2022-02-03T08:09:25.753Z"
      },
      {
        "duration": 40,
        "start_time": "2022-02-03T08:09:25.772Z"
      },
      {
        "duration": 5,
        "start_time": "2022-02-03T08:09:25.815Z"
      },
      {
        "duration": 16,
        "start_time": "2022-02-03T08:09:25.822Z"
      },
      {
        "duration": 4,
        "start_time": "2022-02-03T08:09:25.840Z"
      },
      {
        "duration": 8,
        "start_time": "2022-02-03T08:09:25.846Z"
      },
      {
        "duration": 3,
        "start_time": "2022-02-03T08:09:25.856Z"
      },
      {
        "duration": 20930,
        "start_time": "2022-02-03T08:09:25.861Z"
      },
      {
        "duration": 8,
        "start_time": "2022-02-03T08:09:46.794Z"
      },
      {
        "duration": 9,
        "start_time": "2022-02-03T08:09:46.803Z"
      },
      {
        "duration": 4365,
        "start_time": "2022-02-03T08:09:46.814Z"
      },
      {
        "duration": 9,
        "start_time": "2022-02-03T08:09:51.181Z"
      },
      {
        "duration": 73,
        "start_time": "2022-02-03T08:09:51.191Z"
      },
      {
        "duration": 4,
        "start_time": "2022-02-03T08:09:51.266Z"
      },
      {
        "duration": 6,
        "start_time": "2022-02-03T08:09:51.271Z"
      },
      {
        "duration": 11,
        "start_time": "2022-02-03T08:09:51.280Z"
      },
      {
        "duration": 28,
        "start_time": "2022-02-03T08:09:51.313Z"
      },
      {
        "duration": 29,
        "start_time": "2022-02-03T08:09:51.343Z"
      },
      {
        "duration": 3,
        "start_time": "2022-02-03T08:09:51.373Z"
      },
      {
        "duration": 2509,
        "start_time": "2022-02-03T08:09:51.377Z"
      },
      {
        "duration": 2773,
        "start_time": "2022-02-03T08:09:53.887Z"
      },
      {
        "duration": 49029,
        "start_time": "2022-02-03T08:09:56.662Z"
      },
      {
        "duration": 32863,
        "start_time": "2022-02-03T08:10:45.693Z"
      },
      {
        "duration": 26,
        "start_time": "2022-02-03T08:11:18.557Z"
      },
      {
        "duration": 42,
        "start_time": "2022-02-03T08:11:18.585Z"
      },
      {
        "duration": 23039,
        "start_time": "2022-02-03T08:11:18.628Z"
      },
      {
        "duration": 27,
        "start_time": "2022-02-03T08:11:41.669Z"
      },
      {
        "duration": 40,
        "start_time": "2022-02-03T08:11:41.698Z"
      },
      {
        "duration": 1173,
        "start_time": "2022-02-03T08:12:14.728Z"
      },
      {
        "duration": 14,
        "start_time": "2022-02-03T08:12:15.903Z"
      },
      {
        "duration": 6,
        "start_time": "2022-02-03T08:12:15.920Z"
      },
      {
        "duration": 474,
        "start_time": "2022-02-03T08:12:15.928Z"
      },
      {
        "duration": 13,
        "start_time": "2022-02-03T08:12:16.404Z"
      },
      {
        "duration": 11,
        "start_time": "2022-02-03T08:12:16.419Z"
      },
      {
        "duration": 8,
        "start_time": "2022-02-03T08:12:16.432Z"
      },
      {
        "duration": 18,
        "start_time": "2022-02-03T08:12:16.442Z"
      },
      {
        "duration": 9,
        "start_time": "2022-02-03T08:12:16.462Z"
      },
      {
        "duration": 41,
        "start_time": "2022-02-03T08:12:16.472Z"
      },
      {
        "duration": 18,
        "start_time": "2022-02-03T08:12:16.515Z"
      },
      {
        "duration": 6,
        "start_time": "2022-02-03T08:12:16.535Z"
      },
      {
        "duration": 11,
        "start_time": "2022-02-03T08:12:16.543Z"
      },
      {
        "duration": 5,
        "start_time": "2022-02-03T08:12:16.556Z"
      },
      {
        "duration": 20877,
        "start_time": "2022-02-03T08:12:16.563Z"
      },
      {
        "duration": 8,
        "start_time": "2022-02-03T08:12:37.441Z"
      },
      {
        "duration": 3,
        "start_time": "2022-02-03T08:12:37.451Z"
      },
      {
        "duration": 4546,
        "start_time": "2022-02-03T08:12:37.456Z"
      },
      {
        "duration": 16,
        "start_time": "2022-02-03T08:12:42.004Z"
      },
      {
        "duration": 263,
        "start_time": "2022-02-03T08:12:42.022Z"
      },
      {
        "duration": -38,
        "start_time": "2022-02-03T08:12:42.326Z"
      },
      {
        "duration": -41,
        "start_time": "2022-02-03T08:12:42.331Z"
      },
      {
        "duration": -44,
        "start_time": "2022-02-03T08:12:42.335Z"
      },
      {
        "duration": -47,
        "start_time": "2022-02-03T08:12:42.340Z"
      },
      {
        "duration": -53,
        "start_time": "2022-02-03T08:12:42.347Z"
      },
      {
        "duration": -55,
        "start_time": "2022-02-03T08:12:42.351Z"
      },
      {
        "duration": -58,
        "start_time": "2022-02-03T08:12:42.355Z"
      },
      {
        "duration": -62,
        "start_time": "2022-02-03T08:12:42.360Z"
      },
      {
        "duration": -68,
        "start_time": "2022-02-03T08:12:42.368Z"
      },
      {
        "duration": -71,
        "start_time": "2022-02-03T08:12:42.372Z"
      },
      {
        "duration": -74,
        "start_time": "2022-02-03T08:12:42.377Z"
      },
      {
        "duration": -77,
        "start_time": "2022-02-03T08:12:42.381Z"
      },
      {
        "duration": -80,
        "start_time": "2022-02-03T08:12:42.386Z"
      },
      {
        "duration": -83,
        "start_time": "2022-02-03T08:12:42.390Z"
      },
      {
        "duration": -85,
        "start_time": "2022-02-03T08:12:42.394Z"
      },
      {
        "duration": 1150,
        "start_time": "2022-02-03T08:13:39.665Z"
      },
      {
        "duration": 16,
        "start_time": "2022-02-03T08:13:40.817Z"
      },
      {
        "duration": 8,
        "start_time": "2022-02-03T08:13:40.836Z"
      },
      {
        "duration": 525,
        "start_time": "2022-02-03T08:13:40.846Z"
      },
      {
        "duration": 10,
        "start_time": "2022-02-03T08:13:41.373Z"
      },
      {
        "duration": 28,
        "start_time": "2022-02-03T08:13:41.385Z"
      },
      {
        "duration": 8,
        "start_time": "2022-02-03T08:13:41.415Z"
      },
      {
        "duration": 19,
        "start_time": "2022-02-03T08:13:41.426Z"
      },
      {
        "duration": 12,
        "start_time": "2022-02-03T08:13:41.447Z"
      },
      {
        "duration": 6,
        "start_time": "2022-02-03T08:13:41.461Z"
      },
      {
        "duration": 57,
        "start_time": "2022-02-03T08:13:41.469Z"
      },
      {
        "duration": 6,
        "start_time": "2022-02-03T08:13:41.528Z"
      },
      {
        "duration": 8,
        "start_time": "2022-02-03T08:13:41.536Z"
      },
      {
        "duration": 4,
        "start_time": "2022-02-03T08:13:41.546Z"
      },
      {
        "duration": 20241,
        "start_time": "2022-02-03T08:13:41.551Z"
      },
      {
        "duration": 7,
        "start_time": "2022-02-03T08:14:01.794Z"
      },
      {
        "duration": 3,
        "start_time": "2022-02-03T08:14:01.812Z"
      },
      {
        "duration": 4298,
        "start_time": "2022-02-03T08:14:01.816Z"
      },
      {
        "duration": 8,
        "start_time": "2022-02-03T08:14:06.116Z"
      },
      {
        "duration": 11,
        "start_time": "2022-02-03T08:14:06.126Z"
      },
      {
        "duration": 4,
        "start_time": "2022-02-03T08:14:06.139Z"
      },
      {
        "duration": 5,
        "start_time": "2022-02-03T08:14:06.145Z"
      },
      {
        "duration": 14,
        "start_time": "2022-02-03T08:14:06.153Z"
      },
      {
        "duration": 62,
        "start_time": "2022-02-03T08:14:06.169Z"
      },
      {
        "duration": 32,
        "start_time": "2022-02-03T08:14:06.232Z"
      },
      {
        "duration": 3,
        "start_time": "2022-02-03T08:14:06.265Z"
      },
      {
        "duration": 2521,
        "start_time": "2022-02-03T08:14:06.270Z"
      },
      {
        "duration": 2945,
        "start_time": "2022-02-03T08:14:08.793Z"
      },
      {
        "duration": 48111,
        "start_time": "2022-02-03T08:14:11.740Z"
      },
      {
        "duration": 32791,
        "start_time": "2022-02-03T08:14:59.853Z"
      },
      {
        "duration": 25,
        "start_time": "2022-02-03T08:15:32.646Z"
      },
      {
        "duration": 43,
        "start_time": "2022-02-03T08:15:32.673Z"
      },
      {
        "duration": 22896,
        "start_time": "2022-02-03T08:15:32.717Z"
      },
      {
        "duration": 26,
        "start_time": "2022-02-03T08:15:55.615Z"
      },
      {
        "duration": 26,
        "start_time": "2022-02-03T08:15:55.643Z"
      },
      {
        "duration": 1214,
        "start_time": "2022-02-03T08:22:56.185Z"
      },
      {
        "duration": 16,
        "start_time": "2022-02-03T08:22:57.401Z"
      },
      {
        "duration": 9,
        "start_time": "2022-02-03T08:22:57.422Z"
      },
      {
        "duration": 552,
        "start_time": "2022-02-03T08:22:57.433Z"
      },
      {
        "duration": 8,
        "start_time": "2022-02-03T08:22:57.988Z"
      },
      {
        "duration": 24,
        "start_time": "2022-02-03T08:22:57.997Z"
      },
      {
        "duration": 8,
        "start_time": "2022-02-03T08:22:58.024Z"
      },
      {
        "duration": 19,
        "start_time": "2022-02-03T08:22:58.034Z"
      },
      {
        "duration": 9,
        "start_time": "2022-02-03T08:22:58.055Z"
      },
      {
        "duration": 5,
        "start_time": "2022-02-03T08:22:58.066Z"
      },
      {
        "duration": 54,
        "start_time": "2022-02-03T08:22:58.073Z"
      },
      {
        "duration": 4,
        "start_time": "2022-02-03T08:22:58.129Z"
      },
      {
        "duration": 7,
        "start_time": "2022-02-03T08:22:58.135Z"
      },
      {
        "duration": 4,
        "start_time": "2022-02-03T08:22:58.143Z"
      },
      {
        "duration": 21230,
        "start_time": "2022-02-03T08:22:58.148Z"
      },
      {
        "duration": 7,
        "start_time": "2022-02-03T08:23:19.380Z"
      },
      {
        "duration": 3,
        "start_time": "2022-02-03T08:23:19.389Z"
      },
      {
        "duration": 4473,
        "start_time": "2022-02-03T08:23:19.394Z"
      },
      {
        "duration": 9,
        "start_time": "2022-02-03T08:23:23.868Z"
      },
      {
        "duration": 294,
        "start_time": "2022-02-03T08:23:23.879Z"
      },
      {
        "duration": -39,
        "start_time": "2022-02-03T08:23:24.214Z"
      },
      {
        "duration": -40,
        "start_time": "2022-02-03T08:23:24.217Z"
      },
      {
        "duration": -46,
        "start_time": "2022-02-03T08:23:24.224Z"
      },
      {
        "duration": -48,
        "start_time": "2022-02-03T08:23:24.228Z"
      },
      {
        "duration": -51,
        "start_time": "2022-02-03T08:23:24.233Z"
      },
      {
        "duration": -58,
        "start_time": "2022-02-03T08:23:24.241Z"
      },
      {
        "duration": -63,
        "start_time": "2022-02-03T08:23:24.247Z"
      },
      {
        "duration": -74,
        "start_time": "2022-02-03T08:23:24.259Z"
      },
      {
        "duration": -76,
        "start_time": "2022-02-03T08:23:24.263Z"
      },
      {
        "duration": -79,
        "start_time": "2022-02-03T08:23:24.267Z"
      },
      {
        "duration": -84,
        "start_time": "2022-02-03T08:23:24.273Z"
      },
      {
        "duration": -87,
        "start_time": "2022-02-03T08:23:24.277Z"
      },
      {
        "duration": -91,
        "start_time": "2022-02-03T08:23:24.282Z"
      },
      {
        "duration": -94,
        "start_time": "2022-02-03T08:23:24.286Z"
      },
      {
        "duration": -98,
        "start_time": "2022-02-03T08:23:24.291Z"
      },
      {
        "duration": 28,
        "start_time": "2022-02-03T08:24:14.397Z"
      },
      {
        "duration": 1147,
        "start_time": "2022-02-03T08:32:31.952Z"
      },
      {
        "duration": 16,
        "start_time": "2022-02-03T08:32:33.101Z"
      },
      {
        "duration": 14,
        "start_time": "2022-02-03T08:32:33.119Z"
      },
      {
        "duration": 490,
        "start_time": "2022-02-03T08:32:33.135Z"
      },
      {
        "duration": 8,
        "start_time": "2022-02-03T08:32:33.627Z"
      },
      {
        "duration": 11,
        "start_time": "2022-02-03T08:32:33.637Z"
      },
      {
        "duration": 8,
        "start_time": "2022-02-03T08:32:33.650Z"
      },
      {
        "duration": 16,
        "start_time": "2022-02-03T08:32:33.661Z"
      },
      {
        "duration": 11,
        "start_time": "2022-02-03T08:32:33.712Z"
      },
      {
        "duration": 5,
        "start_time": "2022-02-03T08:32:33.724Z"
      },
      {
        "duration": 17,
        "start_time": "2022-02-03T08:32:33.731Z"
      },
      {
        "duration": 5,
        "start_time": "2022-02-03T08:32:33.749Z"
      },
      {
        "duration": 8,
        "start_time": "2022-02-03T08:32:33.755Z"
      },
      {
        "duration": 4,
        "start_time": "2022-02-03T08:32:33.764Z"
      },
      {
        "duration": 20524,
        "start_time": "2022-02-03T08:32:33.769Z"
      },
      {
        "duration": 19,
        "start_time": "2022-02-03T08:32:54.295Z"
      },
      {
        "duration": 3,
        "start_time": "2022-02-03T08:32:54.316Z"
      },
      {
        "duration": 4352,
        "start_time": "2022-02-03T08:32:54.321Z"
      },
      {
        "duration": 10,
        "start_time": "2022-02-03T08:32:58.675Z"
      },
      {
        "duration": 47,
        "start_time": "2022-02-03T08:32:58.687Z"
      },
      {
        "duration": 11,
        "start_time": "2022-02-03T08:32:58.735Z"
      },
      {
        "duration": 26,
        "start_time": "2022-02-03T08:32:58.748Z"
      },
      {
        "duration": 51,
        "start_time": "2022-02-03T08:32:58.777Z"
      },
      {
        "duration": 3,
        "start_time": "2022-02-03T08:32:58.829Z"
      },
      {
        "duration": 2555,
        "start_time": "2022-02-03T08:32:58.833Z"
      },
      {
        "duration": 2813,
        "start_time": "2022-02-03T08:33:01.389Z"
      },
      {
        "duration": 50309,
        "start_time": "2022-02-03T08:33:04.212Z"
      },
      {
        "duration": 32901,
        "start_time": "2022-02-03T08:33:54.522Z"
      },
      {
        "duration": 27,
        "start_time": "2022-02-03T08:34:27.425Z"
      },
      {
        "duration": 29,
        "start_time": "2022-02-03T08:34:27.453Z"
      },
      {
        "duration": 22750,
        "start_time": "2022-02-03T08:34:27.484Z"
      },
      {
        "duration": 25,
        "start_time": "2022-02-03T08:34:50.236Z"
      },
      {
        "duration": 24,
        "start_time": "2022-02-03T08:34:50.262Z"
      },
      {
        "duration": 4,
        "start_time": "2022-02-03T08:39:46.641Z"
      },
      {
        "duration": 1160,
        "start_time": "2022-02-03T08:41:32.953Z"
      },
      {
        "duration": 14,
        "start_time": "2022-02-03T08:41:34.115Z"
      },
      {
        "duration": 33,
        "start_time": "2022-02-03T08:41:34.131Z"
      },
      {
        "duration": 521,
        "start_time": "2022-02-03T08:41:34.165Z"
      },
      {
        "duration": 8,
        "start_time": "2022-02-03T08:41:34.688Z"
      },
      {
        "duration": 39,
        "start_time": "2022-02-03T08:41:34.698Z"
      },
      {
        "duration": 34,
        "start_time": "2022-02-03T08:41:34.738Z"
      },
      {
        "duration": 25,
        "start_time": "2022-02-03T08:41:34.774Z"
      },
      {
        "duration": 14,
        "start_time": "2022-02-03T08:41:34.802Z"
      },
      {
        "duration": 19,
        "start_time": "2022-02-03T08:41:34.817Z"
      },
      {
        "duration": 31,
        "start_time": "2022-02-03T08:41:34.838Z"
      },
      {
        "duration": 26,
        "start_time": "2022-02-03T08:41:34.870Z"
      },
      {
        "duration": 32,
        "start_time": "2022-02-03T08:41:34.898Z"
      },
      {
        "duration": 46,
        "start_time": "2022-02-03T08:41:34.932Z"
      },
      {
        "duration": 20723,
        "start_time": "2022-02-03T08:41:34.980Z"
      },
      {
        "duration": 11,
        "start_time": "2022-02-03T08:41:55.705Z"
      },
      {
        "duration": 4,
        "start_time": "2022-02-03T08:41:55.718Z"
      },
      {
        "duration": 4376,
        "start_time": "2022-02-03T08:41:55.723Z"
      },
      {
        "duration": 15,
        "start_time": "2022-02-03T08:42:00.101Z"
      },
      {
        "duration": 26,
        "start_time": "2022-02-03T08:42:00.118Z"
      },
      {
        "duration": 11,
        "start_time": "2022-02-03T08:42:00.146Z"
      },
      {
        "duration": 58,
        "start_time": "2022-02-03T08:42:00.159Z"
      },
      {
        "duration": 30,
        "start_time": "2022-02-03T08:42:00.221Z"
      },
      {
        "duration": 2,
        "start_time": "2022-02-03T08:42:00.253Z"
      },
      {
        "duration": 2479,
        "start_time": "2022-02-03T08:42:00.257Z"
      },
      {
        "duration": 2641,
        "start_time": "2022-02-03T08:42:02.737Z"
      },
      {
        "duration": 4,
        "start_time": "2022-02-03T08:42:05.380Z"
      },
      {
        "duration": 506,
        "start_time": "2022-02-03T08:42:05.386Z"
      },
      {
        "duration": -55,
        "start_time": "2022-02-03T08:42:05.948Z"
      },
      {
        "duration": -67,
        "start_time": "2022-02-03T08:42:05.961Z"
      },
      {
        "duration": -73,
        "start_time": "2022-02-03T08:42:05.968Z"
      },
      {
        "duration": -77,
        "start_time": "2022-02-03T08:42:05.973Z"
      },
      {
        "duration": -81,
        "start_time": "2022-02-03T08:42:05.978Z"
      },
      {
        "duration": -88,
        "start_time": "2022-02-03T08:42:05.986Z"
      },
      {
        "duration": 4,
        "start_time": "2022-02-03T08:46:25.727Z"
      },
      {
        "duration": 1667,
        "start_time": "2022-02-03T08:46:29.290Z"
      },
      {
        "duration": 4,
        "start_time": "2022-02-03T08:47:16.288Z"
      },
      {
        "duration": 3615,
        "start_time": "2022-02-03T08:47:21.505Z"
      },
      {
        "duration": 1198,
        "start_time": "2022-02-03T08:49:02.792Z"
      },
      {
        "duration": 14,
        "start_time": "2022-02-03T08:49:03.992Z"
      },
      {
        "duration": 9,
        "start_time": "2022-02-03T08:49:04.008Z"
      },
      {
        "duration": 471,
        "start_time": "2022-02-03T08:49:04.019Z"
      },
      {
        "duration": 7,
        "start_time": "2022-02-03T08:49:04.492Z"
      },
      {
        "duration": 20,
        "start_time": "2022-02-03T08:49:04.501Z"
      },
      {
        "duration": 7,
        "start_time": "2022-02-03T08:49:04.523Z"
      },
      {
        "duration": 20,
        "start_time": "2022-02-03T08:49:04.533Z"
      },
      {
        "duration": 9,
        "start_time": "2022-02-03T08:49:04.554Z"
      },
      {
        "duration": 5,
        "start_time": "2022-02-03T08:49:04.565Z"
      },
      {
        "duration": 49,
        "start_time": "2022-02-03T08:49:04.571Z"
      },
      {
        "duration": 4,
        "start_time": "2022-02-03T08:49:04.622Z"
      },
      {
        "duration": 7,
        "start_time": "2022-02-03T08:49:04.628Z"
      },
      {
        "duration": 4,
        "start_time": "2022-02-03T08:49:04.637Z"
      },
      {
        "duration": 21078,
        "start_time": "2022-02-03T08:49:04.642Z"
      },
      {
        "duration": 8,
        "start_time": "2022-02-03T08:49:25.722Z"
      },
      {
        "duration": 3,
        "start_time": "2022-02-03T08:49:25.732Z"
      },
      {
        "duration": 4462,
        "start_time": "2022-02-03T08:49:25.737Z"
      },
      {
        "duration": 12,
        "start_time": "2022-02-03T08:49:30.201Z"
      },
      {
        "duration": 55,
        "start_time": "2022-02-03T08:49:30.214Z"
      },
      {
        "duration": 9,
        "start_time": "2022-02-03T08:49:30.271Z"
      },
      {
        "duration": 42,
        "start_time": "2022-02-03T08:49:30.282Z"
      },
      {
        "duration": 53,
        "start_time": "2022-02-03T08:49:30.327Z"
      },
      {
        "duration": 2,
        "start_time": "2022-02-03T08:49:30.382Z"
      },
      {
        "duration": 2525,
        "start_time": "2022-02-03T08:49:30.385Z"
      },
      {
        "duration": 2656,
        "start_time": "2022-02-03T08:49:32.912Z"
      },
      {
        "duration": 49707,
        "start_time": "2022-02-03T08:49:35.570Z"
      },
      {
        "duration": 33881,
        "start_time": "2022-02-03T08:50:25.279Z"
      },
      {
        "duration": 26,
        "start_time": "2022-02-03T08:50:59.161Z"
      },
      {
        "duration": 44,
        "start_time": "2022-02-03T08:50:59.189Z"
      },
      {
        "duration": 23484,
        "start_time": "2022-02-03T08:50:59.235Z"
      },
      {
        "duration": 26,
        "start_time": "2022-02-03T08:51:22.720Z"
      },
      {
        "duration": 27,
        "start_time": "2022-02-03T08:51:22.748Z"
      },
      {
        "duration": 6,
        "start_time": "2022-02-03T09:01:18.530Z"
      },
      {
        "duration": 1155,
        "start_time": "2022-02-03T09:01:25.182Z"
      },
      {
        "duration": 17,
        "start_time": "2022-02-03T09:01:26.339Z"
      },
      {
        "duration": 8,
        "start_time": "2022-02-03T09:01:26.362Z"
      },
      {
        "duration": 504,
        "start_time": "2022-02-03T09:01:26.372Z"
      },
      {
        "duration": 8,
        "start_time": "2022-02-03T09:01:26.878Z"
      },
      {
        "duration": 25,
        "start_time": "2022-02-03T09:01:26.887Z"
      },
      {
        "duration": 8,
        "start_time": "2022-02-03T09:01:26.915Z"
      },
      {
        "duration": 16,
        "start_time": "2022-02-03T09:01:26.925Z"
      },
      {
        "duration": 8,
        "start_time": "2022-02-03T09:01:26.943Z"
      },
      {
        "duration": 5,
        "start_time": "2022-02-03T09:01:26.953Z"
      },
      {
        "duration": 15,
        "start_time": "2022-02-03T09:01:26.959Z"
      },
      {
        "duration": 5,
        "start_time": "2022-02-03T09:01:27.012Z"
      },
      {
        "duration": 8,
        "start_time": "2022-02-03T09:01:27.019Z"
      },
      {
        "duration": 11,
        "start_time": "2022-02-03T09:01:27.028Z"
      },
      {
        "duration": 20346,
        "start_time": "2022-02-03T09:01:27.041Z"
      },
      {
        "duration": 8,
        "start_time": "2022-02-03T09:01:47.388Z"
      },
      {
        "duration": 4,
        "start_time": "2022-02-03T09:01:47.397Z"
      },
      {
        "duration": 4391,
        "start_time": "2022-02-03T09:01:47.412Z"
      },
      {
        "duration": 14,
        "start_time": "2022-02-03T09:01:51.805Z"
      },
      {
        "duration": 41,
        "start_time": "2022-02-03T09:01:51.821Z"
      },
      {
        "duration": 11,
        "start_time": "2022-02-03T09:01:51.864Z"
      },
      {
        "duration": 37,
        "start_time": "2022-02-03T09:01:51.878Z"
      },
      {
        "duration": 37,
        "start_time": "2022-02-03T09:01:51.917Z"
      },
      {
        "duration": 3,
        "start_time": "2022-02-03T09:01:51.956Z"
      },
      {
        "duration": 2464,
        "start_time": "2022-02-03T09:01:51.960Z"
      },
      {
        "duration": 2659,
        "start_time": "2022-02-03T09:01:54.426Z"
      },
      {
        "duration": 3,
        "start_time": "2022-02-03T09:01:57.086Z"
      },
      {
        "duration": 327,
        "start_time": "2022-02-03T09:01:57.091Z"
      },
      {
        "duration": 4895,
        "start_time": "2022-02-03T09:01:57.419Z"
      },
      {
        "duration": -42,
        "start_time": "2022-02-03T09:02:02.358Z"
      },
      {
        "duration": -47,
        "start_time": "2022-02-03T09:02:02.364Z"
      },
      {
        "duration": -50,
        "start_time": "2022-02-03T09:02:02.368Z"
      },
      {
        "duration": -55,
        "start_time": "2022-02-03T09:02:02.375Z"
      },
      {
        "duration": -59,
        "start_time": "2022-02-03T09:02:02.380Z"
      },
      {
        "duration": 37175,
        "start_time": "2022-02-03T09:03:01.669Z"
      },
      {
        "duration": 199,
        "start_time": "2022-02-03T09:09:13.691Z"
      },
      {
        "duration": 6,
        "start_time": "2022-02-03T09:09:33.986Z"
      },
      {
        "duration": 1175,
        "start_time": "2022-02-03T09:11:11.132Z"
      },
      {
        "duration": 14,
        "start_time": "2022-02-03T09:11:12.309Z"
      },
      {
        "duration": 10,
        "start_time": "2022-02-03T09:11:12.325Z"
      },
      {
        "duration": 535,
        "start_time": "2022-02-03T09:11:12.337Z"
      },
      {
        "duration": 8,
        "start_time": "2022-02-03T09:11:12.874Z"
      },
      {
        "duration": 12,
        "start_time": "2022-02-03T09:11:12.883Z"
      },
      {
        "duration": 7,
        "start_time": "2022-02-03T09:11:12.897Z"
      },
      {
        "duration": 17,
        "start_time": "2022-02-03T09:11:12.913Z"
      },
      {
        "duration": 9,
        "start_time": "2022-02-03T09:11:12.932Z"
      },
      {
        "duration": 5,
        "start_time": "2022-02-03T09:11:12.942Z"
      },
      {
        "duration": 29,
        "start_time": "2022-02-03T09:11:12.948Z"
      },
      {
        "duration": 4,
        "start_time": "2022-02-03T09:11:12.979Z"
      },
      {
        "duration": 10,
        "start_time": "2022-02-03T09:11:12.985Z"
      },
      {
        "duration": 7,
        "start_time": "2022-02-03T09:11:12.997Z"
      },
      {
        "duration": 20773,
        "start_time": "2022-02-03T09:11:13.006Z"
      },
      {
        "duration": 8,
        "start_time": "2022-02-03T09:11:33.781Z"
      },
      {
        "duration": 4,
        "start_time": "2022-02-03T09:11:33.791Z"
      },
      {
        "duration": 4402,
        "start_time": "2022-02-03T09:11:33.812Z"
      },
      {
        "duration": 9,
        "start_time": "2022-02-03T09:11:38.216Z"
      },
      {
        "duration": 28,
        "start_time": "2022-02-03T09:11:38.227Z"
      },
      {
        "duration": 10,
        "start_time": "2022-02-03T09:11:38.257Z"
      },
      {
        "duration": 59,
        "start_time": "2022-02-03T09:11:38.268Z"
      },
      {
        "duration": 30,
        "start_time": "2022-02-03T09:11:38.330Z"
      },
      {
        "duration": 3,
        "start_time": "2022-02-03T09:11:38.362Z"
      },
      {
        "duration": 2559,
        "start_time": "2022-02-03T09:11:38.366Z"
      },
      {
        "duration": 2673,
        "start_time": "2022-02-03T09:11:40.926Z"
      },
      {
        "duration": 14,
        "start_time": "2022-02-03T09:11:43.601Z"
      },
      {
        "duration": 327,
        "start_time": "2022-02-03T09:11:43.617Z"
      },
      {
        "duration": 5,
        "start_time": "2022-02-03T09:11:43.946Z"
      },
      {
        "duration": 493,
        "start_time": "2022-02-03T09:11:43.953Z"
      },
      {
        "duration": -39,
        "start_time": "2022-02-03T09:11:44.487Z"
      },
      {
        "duration": -42,
        "start_time": "2022-02-03T09:11:44.491Z"
      },
      {
        "duration": -46,
        "start_time": "2022-02-03T09:11:44.496Z"
      },
      {
        "duration": -49,
        "start_time": "2022-02-03T09:11:44.501Z"
      },
      {
        "duration": -52,
        "start_time": "2022-02-03T09:11:44.505Z"
      },
      {
        "duration": 5,
        "start_time": "2022-02-03T09:12:59.008Z"
      },
      {
        "duration": 399,
        "start_time": "2022-02-03T09:14:02.471Z"
      },
      {
        "duration": 5,
        "start_time": "2022-02-03T09:14:31.831Z"
      },
      {
        "duration": 13308,
        "start_time": "2022-02-03T09:14:34.288Z"
      },
      {
        "duration": 29,
        "start_time": "2022-02-03T09:17:21.961Z"
      },
      {
        "duration": 29,
        "start_time": "2022-02-03T09:18:41.722Z"
      },
      {
        "duration": 70,
        "start_time": "2022-02-03T09:19:41.010Z"
      },
      {
        "duration": 30,
        "start_time": "2022-02-03T09:20:16.165Z"
      },
      {
        "duration": 32,
        "start_time": "2022-02-03T09:20:40.922Z"
      },
      {
        "duration": 402,
        "start_time": "2022-02-03T09:28:00.852Z"
      },
      {
        "duration": 30,
        "start_time": "2022-02-03T09:28:30.526Z"
      },
      {
        "duration": 4940,
        "start_time": "2022-02-03T09:28:40.726Z"
      },
      {
        "duration": 30,
        "start_time": "2022-02-03T09:28:59.449Z"
      },
      {
        "duration": 1183,
        "start_time": "2022-02-03T09:39:23.425Z"
      },
      {
        "duration": 16,
        "start_time": "2022-02-03T09:39:24.610Z"
      },
      {
        "duration": 7,
        "start_time": "2022-02-03T09:39:24.629Z"
      },
      {
        "duration": 519,
        "start_time": "2022-02-03T09:39:24.638Z"
      },
      {
        "duration": 7,
        "start_time": "2022-02-03T09:39:25.159Z"
      },
      {
        "duration": 14,
        "start_time": "2022-02-03T09:39:25.168Z"
      },
      {
        "duration": 8,
        "start_time": "2022-02-03T09:39:25.183Z"
      },
      {
        "duration": 34,
        "start_time": "2022-02-03T09:39:25.194Z"
      },
      {
        "duration": 9,
        "start_time": "2022-02-03T09:39:25.230Z"
      },
      {
        "duration": 5,
        "start_time": "2022-02-03T09:39:25.241Z"
      },
      {
        "duration": 17,
        "start_time": "2022-02-03T09:39:25.248Z"
      },
      {
        "duration": 5,
        "start_time": "2022-02-03T09:39:25.266Z"
      },
      {
        "duration": 46,
        "start_time": "2022-02-03T09:39:25.272Z"
      },
      {
        "duration": 5,
        "start_time": "2022-02-03T09:39:25.320Z"
      },
      {
        "duration": 20820,
        "start_time": "2022-02-03T09:39:25.327Z"
      },
      {
        "duration": 7,
        "start_time": "2022-02-03T09:39:46.149Z"
      },
      {
        "duration": 3,
        "start_time": "2022-02-03T09:39:46.158Z"
      },
      {
        "duration": 4397,
        "start_time": "2022-02-03T09:39:46.163Z"
      },
      {
        "duration": 8,
        "start_time": "2022-02-03T09:39:50.562Z"
      },
      {
        "duration": 42,
        "start_time": "2022-02-03T09:39:50.571Z"
      },
      {
        "duration": 11,
        "start_time": "2022-02-03T09:39:50.614Z"
      },
      {
        "duration": 27,
        "start_time": "2022-02-03T09:39:50.626Z"
      },
      {
        "duration": 28,
        "start_time": "2022-02-03T09:39:50.656Z"
      },
      {
        "duration": 3,
        "start_time": "2022-02-03T09:39:50.686Z"
      },
      {
        "duration": 2606,
        "start_time": "2022-02-03T09:39:50.713Z"
      },
      {
        "duration": 2860,
        "start_time": "2022-02-03T09:39:53.320Z"
      },
      {
        "duration": 3,
        "start_time": "2022-02-03T09:39:56.182Z"
      },
      {
        "duration": 326,
        "start_time": "2022-02-03T09:39:56.187Z"
      },
      {
        "duration": 4,
        "start_time": "2022-02-03T09:39:56.514Z"
      },
      {
        "duration": 13765,
        "start_time": "2022-02-03T09:39:56.520Z"
      },
      {
        "duration": 33,
        "start_time": "2022-02-03T09:40:10.286Z"
      },
      {
        "duration": 29,
        "start_time": "2022-02-03T09:40:10.321Z"
      },
      {
        "duration": 401,
        "start_time": "2022-02-03T09:40:10.351Z"
      },
      {
        "duration": 27,
        "start_time": "2022-02-03T09:40:10.753Z"
      },
      {
        "duration": 45,
        "start_time": "2022-02-03T09:40:10.781Z"
      },
      {
        "duration": 1154,
        "start_time": "2022-02-04T07:24:01.044Z"
      },
      {
        "duration": 13,
        "start_time": "2022-02-04T07:24:02.200Z"
      },
      {
        "duration": 7,
        "start_time": "2022-02-04T07:24:02.215Z"
      },
      {
        "duration": 466,
        "start_time": "2022-02-04T07:24:02.224Z"
      },
      {
        "duration": 9,
        "start_time": "2022-02-04T07:24:02.692Z"
      },
      {
        "duration": 11,
        "start_time": "2022-02-04T07:24:02.713Z"
      },
      {
        "duration": 8,
        "start_time": "2022-02-04T07:24:02.726Z"
      },
      {
        "duration": 16,
        "start_time": "2022-02-04T07:24:02.737Z"
      },
      {
        "duration": 9,
        "start_time": "2022-02-04T07:24:02.755Z"
      },
      {
        "duration": 9,
        "start_time": "2022-02-04T07:24:02.766Z"
      },
      {
        "duration": 46,
        "start_time": "2022-02-04T07:24:02.776Z"
      },
      {
        "duration": 5,
        "start_time": "2022-02-04T07:24:02.823Z"
      },
      {
        "duration": 9,
        "start_time": "2022-02-04T07:24:02.830Z"
      },
      {
        "duration": 4,
        "start_time": "2022-02-04T07:24:02.840Z"
      },
      {
        "duration": 20320,
        "start_time": "2022-02-04T07:24:02.846Z"
      },
      {
        "duration": 7,
        "start_time": "2022-02-04T07:24:23.167Z"
      },
      {
        "duration": 4,
        "start_time": "2022-02-04T07:24:23.176Z"
      },
      {
        "duration": 4522,
        "start_time": "2022-02-04T07:24:23.181Z"
      },
      {
        "duration": 9,
        "start_time": "2022-02-04T07:24:27.712Z"
      },
      {
        "duration": 26,
        "start_time": "2022-02-04T07:24:27.723Z"
      },
      {
        "duration": 11,
        "start_time": "2022-02-04T07:24:27.750Z"
      },
      {
        "duration": 26,
        "start_time": "2022-02-04T07:24:27.762Z"
      },
      {
        "duration": 51,
        "start_time": "2022-02-04T07:24:27.791Z"
      },
      {
        "duration": 2,
        "start_time": "2022-02-04T07:24:27.844Z"
      },
      {
        "duration": 2487,
        "start_time": "2022-02-04T07:24:27.848Z"
      },
      {
        "duration": 2627,
        "start_time": "2022-02-04T07:24:30.337Z"
      },
      {
        "duration": 4,
        "start_time": "2022-02-04T07:24:32.965Z"
      },
      {
        "duration": 324,
        "start_time": "2022-02-04T07:24:32.970Z"
      },
      {
        "duration": 5,
        "start_time": "2022-02-04T07:24:33.295Z"
      },
      {
        "duration": 13369,
        "start_time": "2022-02-04T07:24:33.302Z"
      },
      {
        "duration": 25,
        "start_time": "2022-02-04T07:24:46.673Z"
      },
      {
        "duration": 39,
        "start_time": "2022-02-04T07:24:46.699Z"
      },
      {
        "duration": 403,
        "start_time": "2022-02-04T07:24:46.740Z"
      },
      {
        "duration": 26,
        "start_time": "2022-02-04T07:24:47.145Z"
      },
      {
        "duration": 26,
        "start_time": "2022-02-04T07:24:47.172Z"
      },
      {
        "duration": 416,
        "start_time": "2022-02-04T07:28:19.742Z"
      },
      {
        "duration": 317,
        "start_time": "2022-02-04T07:28:30.775Z"
      },
      {
        "duration": 321,
        "start_time": "2022-02-04T07:28:40.662Z"
      },
      {
        "duration": 48,
        "start_time": "2022-02-04T07:28:48.045Z"
      },
      {
        "duration": 323,
        "start_time": "2022-02-04T07:29:33.780Z"
      },
      {
        "duration": 48,
        "start_time": "2022-02-04T07:29:41.188Z"
      },
      {
        "duration": 54,
        "start_time": "2022-02-04T07:29:55.932Z"
      },
      {
        "duration": 338,
        "start_time": "2022-02-04T07:30:03.356Z"
      },
      {
        "duration": 66,
        "start_time": "2022-02-04T07:30:17.948Z"
      },
      {
        "duration": 61,
        "start_time": "2022-02-04T07:30:33.256Z"
      },
      {
        "duration": 56,
        "start_time": "2022-02-04T07:30:53.724Z"
      },
      {
        "duration": 57,
        "start_time": "2022-02-04T07:31:14.844Z"
      },
      {
        "duration": 62,
        "start_time": "2022-02-04T07:32:30.889Z"
      }
    ],
    "kernelspec": {
      "display_name": "Python 3 (ipykernel)",
      "language": "python",
      "name": "python3"
    },
    "language_info": {
      "codemirror_mode": {
        "name": "ipython",
        "version": 3
      },
      "file_extension": ".py",
      "mimetype": "text/x-python",
      "name": "python",
      "nbconvert_exporter": "python",
      "pygments_lexer": "ipython3",
      "version": "3.9.5"
    },
    "toc": {
      "base_numbering": 1,
      "nav_menu": {},
      "number_sections": true,
      "sideBar": true,
      "skip_h1_title": true,
      "title_cell": "Table of Contents",
      "title_sidebar": "Contents",
      "toc_cell": false,
      "toc_position": {},
      "toc_section_display": true,
      "toc_window_display": false
    },
    "colab": {
      "provenance": [],
      "include_colab_link": true
    }
  },
  "nbformat": 4,
  "nbformat_minor": 0
}