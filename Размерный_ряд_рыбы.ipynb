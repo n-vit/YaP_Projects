{
  "nbformat": 4,
  "nbformat_minor": 0,
  "metadata": {
    "colab": {
      "provenance": [],
      "mount_file_id": "1Q2Cpr9FvCH9IzTZfZKTbKJd2yGtRhttH",
      "authorship_tag": "ABX9TyMypRi9/b0P823w0uX8vEZM",
      "include_colab_link": true
    },
    "kernelspec": {
      "name": "python3",
      "display_name": "Python 3"
    },
    "language_info": {
      "name": "python"
    }
  },
  "cells": [
    {
      "cell_type": "markdown",
      "metadata": {
        "id": "view-in-github",
        "colab_type": "text"
      },
      "source": [
        "<a href=\"https://colab.research.google.com/github/n-vit/YaP_Projects/blob/main/%D0%A0%D0%B0%D0%B7%D0%BC%D0%B5%D1%80%D0%BD%D1%8B%D0%B9_%D1%80%D1%8F%D0%B4_%D1%80%D1%8B%D0%B1%D1%8B.ipynb\" target=\"_parent\"><img src=\"https://colab.research.google.com/assets/colab-badge.svg\" alt=\"Open In Colab\"/></a>"
      ]
    },
    {
      "cell_type": "markdown",
      "source": [
        "определяем распределение веса рыбы в чеках, чтобы задать стандарты.\n",
        "период 13 - 19 февраля 2023"
      ],
      "metadata": {
        "id": "FqLfPl11YnsC"
      }
    },
    {
      "cell_type": "code",
      "execution_count": 1,
      "metadata": {
        "id": "9GtdNvKAYSdf"
      },
      "outputs": [],
      "source": [
        "import pandas as pd\n",
        "import seaborn as sns\n",
        "import matplotlib.pyplot as plt"
      ]
    },
    {
      "cell_type": "code",
      "source": [
        "from google.colab import drive\n",
        "drive.mount('/content/drive')\n",
        "df = pd.read_csv('/content/drive/MyDrive/Colab Notebooks/hmlnk/full_20230213-20230219.csv', sep= ';', error_bad_lines=False)\n"
      ],
      "metadata": {
        "colab": {
          "base_uri": "https://localhost:8080/"
        },
        "id": "-L2zS0QgYthA",
        "outputId": "793320d3-8197-4323-c036-b0916d642726"
      },
      "execution_count": 2,
      "outputs": [
        {
          "output_type": "stream",
          "name": "stdout",
          "text": [
            "Drive already mounted at /content/drive; to attempt to forcibly remount, call drive.mount(\"/content/drive\", force_remount=True).\n"
          ]
        },
        {
          "output_type": "stream",
          "name": "stderr",
          "text": [
            "/usr/local/lib/python3.9/dist-packages/IPython/core/interactiveshell.py:3326: FutureWarning: The error_bad_lines argument has been deprecated and will be removed in a future version.\n",
            "\n",
            "\n",
            "  exec(code_obj, self.user_global_ns, self.user_ns)\n",
            "/usr/local/lib/python3.9/dist-packages/IPython/core/interactiveshell.py:3326: DtypeWarning: Columns (6) have mixed types.Specify dtype option on import or set low_memory=False.\n",
            "  exec(code_obj, self.user_global_ns, self.user_ns)\n"
          ]
        }
      ]
    },
    {
      "cell_type": "code",
      "source": [
        "df.head(3)"
      ],
      "metadata": {
        "colab": {
          "base_uri": "https://localhost:8080/",
          "height": 364
        },
        "id": "PIw7e4lhhH1p",
        "outputId": "65ccfa78-e3a1-4772-daaa-40b02161f90b"
      },
      "execution_count": 3,
      "outputs": [
        {
          "output_type": "execute_result",
          "data": {
            "text/plain": [
              "         Номер ДатаПокупки ВремяПокупки Подразделение Магазин  \\\n",
              "0  ИСЛА-001712  13.02.2023     07:28:05        Липецк    Л- 1   \n",
              "1  ТОРО-002033  13.02.2023     07:51:59        Липецк    Р-14   \n",
              "2  ВСВТ-000766  13.02.2023     07:54:39       Воронеж    Х-18   \n",
              "\n",
              "                              МагазинID Карта  НомерТелефона  \\\n",
              "0  d40f4953-9981-11e5-80e0-902b343145c1   NaN            NaN   \n",
              "1  48c0dd73-1dd6-11e7-80ed-001e67eceb48   NaN            NaN   \n",
              "2  d40f4964-9981-11e5-80e0-902b343145c1   NaN            NaN   \n",
              "\n",
              "                                Номенклатура  \\\n",
              "0          сиг. Филип Моррис Compact Premium   \n",
              "1                      сиг. Некст Violet SSL   \n",
              "2  к/и Кофе Joe Black капучино классик 18 гр   \n",
              "\n",
              "                         НоменклатураID    КатегорияТовара    Цена  \\\n",
              "0  d6a0bf03-d04e-11e8-80cc-00155d05030d       06. Сигареты  159.00   \n",
              "1  24a4f57f-c0de-11e5-80e4-902b343145c1       06. Сигареты  145.00   \n",
              "2  75f894f2-4044-11e7-80cd-00155dbfd901  19. Кондит.изд.РФ   26.00   \n",
              "\n",
              "   Количество ЕдиницаИзмерения   Сумма                ВидОплаты  \\\n",
              "0         1.0               шт  159.00                 Наличные   \n",
              "1         1.0               шт  145.00  Банковская карта_безнал   \n",
              "2         1.0               шт   26.00                 Наличные   \n",
              "\n",
              "   СписаноБонусов   МобильноеПриложение  \n",
              "0             NaN  Мобильное приложение  \n",
              "1             NaN  Мобильное приложение  \n",
              "2             NaN  Мобильное приложение  "
            ],
            "text/html": [
              "\n",
              "  <div id=\"df-6fd9ebdb-b98b-4b29-9a8f-cbd27e9d1060\">\n",
              "    <div class=\"colab-df-container\">\n",
              "      <div>\n",
              "<style scoped>\n",
              "    .dataframe tbody tr th:only-of-type {\n",
              "        vertical-align: middle;\n",
              "    }\n",
              "\n",
              "    .dataframe tbody tr th {\n",
              "        vertical-align: top;\n",
              "    }\n",
              "\n",
              "    .dataframe thead th {\n",
              "        text-align: right;\n",
              "    }\n",
              "</style>\n",
              "<table border=\"1\" class=\"dataframe\">\n",
              "  <thead>\n",
              "    <tr style=\"text-align: right;\">\n",
              "      <th></th>\n",
              "      <th>Номер</th>\n",
              "      <th>ДатаПокупки</th>\n",
              "      <th>ВремяПокупки</th>\n",
              "      <th>Подразделение</th>\n",
              "      <th>Магазин</th>\n",
              "      <th>МагазинID</th>\n",
              "      <th>Карта</th>\n",
              "      <th>НомерТелефона</th>\n",
              "      <th>Номенклатура</th>\n",
              "      <th>НоменклатураID</th>\n",
              "      <th>КатегорияТовара</th>\n",
              "      <th>Цена</th>\n",
              "      <th>Количество</th>\n",
              "      <th>ЕдиницаИзмерения</th>\n",
              "      <th>Сумма</th>\n",
              "      <th>ВидОплаты</th>\n",
              "      <th>СписаноБонусов</th>\n",
              "      <th>МобильноеПриложение</th>\n",
              "    </tr>\n",
              "  </thead>\n",
              "  <tbody>\n",
              "    <tr>\n",
              "      <th>0</th>\n",
              "      <td>ИСЛА-001712</td>\n",
              "      <td>13.02.2023</td>\n",
              "      <td>07:28:05</td>\n",
              "      <td>Липецк</td>\n",
              "      <td>Л- 1</td>\n",
              "      <td>d40f4953-9981-11e5-80e0-902b343145c1</td>\n",
              "      <td>NaN</td>\n",
              "      <td>NaN</td>\n",
              "      <td>сиг. Филип Моррис Compact Premium</td>\n",
              "      <td>d6a0bf03-d04e-11e8-80cc-00155d05030d</td>\n",
              "      <td>06. Сигареты</td>\n",
              "      <td>159.00</td>\n",
              "      <td>1.0</td>\n",
              "      <td>шт</td>\n",
              "      <td>159.00</td>\n",
              "      <td>Наличные</td>\n",
              "      <td>NaN</td>\n",
              "      <td>Мобильное приложение</td>\n",
              "    </tr>\n",
              "    <tr>\n",
              "      <th>1</th>\n",
              "      <td>ТОРО-002033</td>\n",
              "      <td>13.02.2023</td>\n",
              "      <td>07:51:59</td>\n",
              "      <td>Липецк</td>\n",
              "      <td>Р-14</td>\n",
              "      <td>48c0dd73-1dd6-11e7-80ed-001e67eceb48</td>\n",
              "      <td>NaN</td>\n",
              "      <td>NaN</td>\n",
              "      <td>сиг. Некст Violet SSL</td>\n",
              "      <td>24a4f57f-c0de-11e5-80e4-902b343145c1</td>\n",
              "      <td>06. Сигареты</td>\n",
              "      <td>145.00</td>\n",
              "      <td>1.0</td>\n",
              "      <td>шт</td>\n",
              "      <td>145.00</td>\n",
              "      <td>Банковская карта_безнал</td>\n",
              "      <td>NaN</td>\n",
              "      <td>Мобильное приложение</td>\n",
              "    </tr>\n",
              "    <tr>\n",
              "      <th>2</th>\n",
              "      <td>ВСВТ-000766</td>\n",
              "      <td>13.02.2023</td>\n",
              "      <td>07:54:39</td>\n",
              "      <td>Воронеж</td>\n",
              "      <td>Х-18</td>\n",
              "      <td>d40f4964-9981-11e5-80e0-902b343145c1</td>\n",
              "      <td>NaN</td>\n",
              "      <td>NaN</td>\n",
              "      <td>к/и Кофе Joe Black капучино классик 18 гр</td>\n",
              "      <td>75f894f2-4044-11e7-80cd-00155dbfd901</td>\n",
              "      <td>19. Кондит.изд.РФ</td>\n",
              "      <td>26.00</td>\n",
              "      <td>1.0</td>\n",
              "      <td>шт</td>\n",
              "      <td>26.00</td>\n",
              "      <td>Наличные</td>\n",
              "      <td>NaN</td>\n",
              "      <td>Мобильное приложение</td>\n",
              "    </tr>\n",
              "  </tbody>\n",
              "</table>\n",
              "</div>\n",
              "      <button class=\"colab-df-convert\" onclick=\"convertToInteractive('df-6fd9ebdb-b98b-4b29-9a8f-cbd27e9d1060')\"\n",
              "              title=\"Convert this dataframe to an interactive table.\"\n",
              "              style=\"display:none;\">\n",
              "        \n",
              "  <svg xmlns=\"http://www.w3.org/2000/svg\" height=\"24px\"viewBox=\"0 0 24 24\"\n",
              "       width=\"24px\">\n",
              "    <path d=\"M0 0h24v24H0V0z\" fill=\"none\"/>\n",
              "    <path d=\"M18.56 5.44l.94 2.06.94-2.06 2.06-.94-2.06-.94-.94-2.06-.94 2.06-2.06.94zm-11 1L8.5 8.5l.94-2.06 2.06-.94-2.06-.94L8.5 2.5l-.94 2.06-2.06.94zm10 10l.94 2.06.94-2.06 2.06-.94-2.06-.94-.94-2.06-.94 2.06-2.06.94z\"/><path d=\"M17.41 7.96l-1.37-1.37c-.4-.4-.92-.59-1.43-.59-.52 0-1.04.2-1.43.59L10.3 9.45l-7.72 7.72c-.78.78-.78 2.05 0 2.83L4 21.41c.39.39.9.59 1.41.59.51 0 1.02-.2 1.41-.59l7.78-7.78 2.81-2.81c.8-.78.8-2.07 0-2.86zM5.41 20L4 18.59l7.72-7.72 1.47 1.35L5.41 20z\"/>\n",
              "  </svg>\n",
              "      </button>\n",
              "      \n",
              "  <style>\n",
              "    .colab-df-container {\n",
              "      display:flex;\n",
              "      flex-wrap:wrap;\n",
              "      gap: 12px;\n",
              "    }\n",
              "\n",
              "    .colab-df-convert {\n",
              "      background-color: #E8F0FE;\n",
              "      border: none;\n",
              "      border-radius: 50%;\n",
              "      cursor: pointer;\n",
              "      display: none;\n",
              "      fill: #1967D2;\n",
              "      height: 32px;\n",
              "      padding: 0 0 0 0;\n",
              "      width: 32px;\n",
              "    }\n",
              "\n",
              "    .colab-df-convert:hover {\n",
              "      background-color: #E2EBFA;\n",
              "      box-shadow: 0px 1px 2px rgba(60, 64, 67, 0.3), 0px 1px 3px 1px rgba(60, 64, 67, 0.15);\n",
              "      fill: #174EA6;\n",
              "    }\n",
              "\n",
              "    [theme=dark] .colab-df-convert {\n",
              "      background-color: #3B4455;\n",
              "      fill: #D2E3FC;\n",
              "    }\n",
              "\n",
              "    [theme=dark] .colab-df-convert:hover {\n",
              "      background-color: #434B5C;\n",
              "      box-shadow: 0px 1px 3px 1px rgba(0, 0, 0, 0.15);\n",
              "      filter: drop-shadow(0px 1px 2px rgba(0, 0, 0, 0.3));\n",
              "      fill: #FFFFFF;\n",
              "    }\n",
              "  </style>\n",
              "\n",
              "      <script>\n",
              "        const buttonEl =\n",
              "          document.querySelector('#df-6fd9ebdb-b98b-4b29-9a8f-cbd27e9d1060 button.colab-df-convert');\n",
              "        buttonEl.style.display =\n",
              "          google.colab.kernel.accessAllowed ? 'block' : 'none';\n",
              "\n",
              "        async function convertToInteractive(key) {\n",
              "          const element = document.querySelector('#df-6fd9ebdb-b98b-4b29-9a8f-cbd27e9d1060');\n",
              "          const dataTable =\n",
              "            await google.colab.kernel.invokeFunction('convertToInteractive',\n",
              "                                                     [key], {});\n",
              "          if (!dataTable) return;\n",
              "\n",
              "          const docLinkHtml = 'Like what you see? Visit the ' +\n",
              "            '<a target=\"_blank\" href=https://colab.research.google.com/notebooks/data_table.ipynb>data table notebook</a>'\n",
              "            + ' to learn more about interactive tables.';\n",
              "          element.innerHTML = '';\n",
              "          dataTable['output_type'] = 'display_data';\n",
              "          await google.colab.output.renderOutput(dataTable, element);\n",
              "          const docLink = document.createElement('div');\n",
              "          docLink.innerHTML = docLinkHtml;\n",
              "          element.appendChild(docLink);\n",
              "        }\n",
              "      </script>\n",
              "    </div>\n",
              "  </div>\n",
              "  "
            ]
          },
          "metadata": {},
          "execution_count": 3
        }
      ]
    },
    {
      "cell_type": "markdown",
      "source": [
        "Оставим в срезе только рыбу и информацию о количестве товара в чеке"
      ],
      "metadata": {
        "id": "fFtvV4kSYmj9"
      }
    },
    {
      "cell_type": "code",
      "source": [
        "df['КатегорияТовара'].unique()"
      ],
      "metadata": {
        "colab": {
          "base_uri": "https://localhost:8080/"
        },
        "id": "rCbB0o0Ahjlj",
        "outputId": "345a4b6f-bc72-47b5-df2d-47cf943a8a19"
      },
      "execution_count": 4,
      "outputs": [
        {
          "output_type": "execute_result",
          "data": {
            "text/plain": [
              "array(['06. Сигареты', '19. Кондит.изд.РФ', '03. Напитки б/а',\n",
              "       '20. ПЭТ/Банка', '05. Пиво розлив', '21. Сопутствующие товары',\n",
              "       '04. Пиво бут.', '08. Снеки мясные', '07. Рыба',\n",
              "       '13. Сухарики, гренки', '18. Чипсы фасованные', '11. Сыр',\n",
              "       '12. Орехи вес.', '09. Снеки рыбные ', '01. Алкоголь', '17.Соусы',\n",
              "       '02. Замор.прод.', '15. Орехи фасов., семечки', '16. Сеты',\n",
              "       '10. Гастрономия', 'Прочее', 'Оборудование'], dtype=object)"
            ]
          },
          "metadata": {},
          "execution_count": 4
        }
      ]
    },
    {
      "cell_type": "code",
      "source": [
        "df = df.query('КатегорияТовара == \"07. Рыба\"')"
      ],
      "metadata": {
        "id": "SZ5y2CJvhuoF"
      },
      "execution_count": 5,
      "outputs": []
    },
    {
      "cell_type": "code",
      "source": [
        "df = df[['Номенклатура','Количество']]\n",
        "df.head(3)"
      ],
      "metadata": {
        "colab": {
          "base_uri": "https://localhost:8080/",
          "height": 143
        },
        "id": "isj0HskxuAic",
        "outputId": "cbd7fa42-cb18-4c53-82e7-9db498ba9864"
      },
      "execution_count": 6,
      "outputs": [
        {
          "output_type": "execute_result",
          "data": {
            "text/plain": [
              "          Номенклатура  Количество\n",
              "66      рыба Мойва х/к        0.07\n",
              "137    рыба Вобла вял.        0.16\n",
              "195  рыба Камбала  вял        0.07"
            ],
            "text/html": [
              "\n",
              "  <div id=\"df-6fc21f79-8ca5-4daa-a7d4-91b328e27512\">\n",
              "    <div class=\"colab-df-container\">\n",
              "      <div>\n",
              "<style scoped>\n",
              "    .dataframe tbody tr th:only-of-type {\n",
              "        vertical-align: middle;\n",
              "    }\n",
              "\n",
              "    .dataframe tbody tr th {\n",
              "        vertical-align: top;\n",
              "    }\n",
              "\n",
              "    .dataframe thead th {\n",
              "        text-align: right;\n",
              "    }\n",
              "</style>\n",
              "<table border=\"1\" class=\"dataframe\">\n",
              "  <thead>\n",
              "    <tr style=\"text-align: right;\">\n",
              "      <th></th>\n",
              "      <th>Номенклатура</th>\n",
              "      <th>Количество</th>\n",
              "    </tr>\n",
              "  </thead>\n",
              "  <tbody>\n",
              "    <tr>\n",
              "      <th>66</th>\n",
              "      <td>рыба Мойва х/к</td>\n",
              "      <td>0.07</td>\n",
              "    </tr>\n",
              "    <tr>\n",
              "      <th>137</th>\n",
              "      <td>рыба Вобла вял.</td>\n",
              "      <td>0.16</td>\n",
              "    </tr>\n",
              "    <tr>\n",
              "      <th>195</th>\n",
              "      <td>рыба Камбала  вял</td>\n",
              "      <td>0.07</td>\n",
              "    </tr>\n",
              "  </tbody>\n",
              "</table>\n",
              "</div>\n",
              "      <button class=\"colab-df-convert\" onclick=\"convertToInteractive('df-6fc21f79-8ca5-4daa-a7d4-91b328e27512')\"\n",
              "              title=\"Convert this dataframe to an interactive table.\"\n",
              "              style=\"display:none;\">\n",
              "        \n",
              "  <svg xmlns=\"http://www.w3.org/2000/svg\" height=\"24px\"viewBox=\"0 0 24 24\"\n",
              "       width=\"24px\">\n",
              "    <path d=\"M0 0h24v24H0V0z\" fill=\"none\"/>\n",
              "    <path d=\"M18.56 5.44l.94 2.06.94-2.06 2.06-.94-2.06-.94-.94-2.06-.94 2.06-2.06.94zm-11 1L8.5 8.5l.94-2.06 2.06-.94-2.06-.94L8.5 2.5l-.94 2.06-2.06.94zm10 10l.94 2.06.94-2.06 2.06-.94-2.06-.94-.94-2.06-.94 2.06-2.06.94z\"/><path d=\"M17.41 7.96l-1.37-1.37c-.4-.4-.92-.59-1.43-.59-.52 0-1.04.2-1.43.59L10.3 9.45l-7.72 7.72c-.78.78-.78 2.05 0 2.83L4 21.41c.39.39.9.59 1.41.59.51 0 1.02-.2 1.41-.59l7.78-7.78 2.81-2.81c.8-.78.8-2.07 0-2.86zM5.41 20L4 18.59l7.72-7.72 1.47 1.35L5.41 20z\"/>\n",
              "  </svg>\n",
              "      </button>\n",
              "      \n",
              "  <style>\n",
              "    .colab-df-container {\n",
              "      display:flex;\n",
              "      flex-wrap:wrap;\n",
              "      gap: 12px;\n",
              "    }\n",
              "\n",
              "    .colab-df-convert {\n",
              "      background-color: #E8F0FE;\n",
              "      border: none;\n",
              "      border-radius: 50%;\n",
              "      cursor: pointer;\n",
              "      display: none;\n",
              "      fill: #1967D2;\n",
              "      height: 32px;\n",
              "      padding: 0 0 0 0;\n",
              "      width: 32px;\n",
              "    }\n",
              "\n",
              "    .colab-df-convert:hover {\n",
              "      background-color: #E2EBFA;\n",
              "      box-shadow: 0px 1px 2px rgba(60, 64, 67, 0.3), 0px 1px 3px 1px rgba(60, 64, 67, 0.15);\n",
              "      fill: #174EA6;\n",
              "    }\n",
              "\n",
              "    [theme=dark] .colab-df-convert {\n",
              "      background-color: #3B4455;\n",
              "      fill: #D2E3FC;\n",
              "    }\n",
              "\n",
              "    [theme=dark] .colab-df-convert:hover {\n",
              "      background-color: #434B5C;\n",
              "      box-shadow: 0px 1px 3px 1px rgba(0, 0, 0, 0.15);\n",
              "      filter: drop-shadow(0px 1px 2px rgba(0, 0, 0, 0.3));\n",
              "      fill: #FFFFFF;\n",
              "    }\n",
              "  </style>\n",
              "\n",
              "      <script>\n",
              "        const buttonEl =\n",
              "          document.querySelector('#df-6fc21f79-8ca5-4daa-a7d4-91b328e27512 button.colab-df-convert');\n",
              "        buttonEl.style.display =\n",
              "          google.colab.kernel.accessAllowed ? 'block' : 'none';\n",
              "\n",
              "        async function convertToInteractive(key) {\n",
              "          const element = document.querySelector('#df-6fc21f79-8ca5-4daa-a7d4-91b328e27512');\n",
              "          const dataTable =\n",
              "            await google.colab.kernel.invokeFunction('convertToInteractive',\n",
              "                                                     [key], {});\n",
              "          if (!dataTable) return;\n",
              "\n",
              "          const docLinkHtml = 'Like what you see? Visit the ' +\n",
              "            '<a target=\"_blank\" href=https://colab.research.google.com/notebooks/data_table.ipynb>data table notebook</a>'\n",
              "            + ' to learn more about interactive tables.';\n",
              "          element.innerHTML = '';\n",
              "          dataTable['output_type'] = 'display_data';\n",
              "          await google.colab.output.renderOutput(dataTable, element);\n",
              "          const docLink = document.createElement('div');\n",
              "          docLink.innerHTML = docLinkHtml;\n",
              "          element.appendChild(docLink);\n",
              "        }\n",
              "      </script>\n",
              "    </div>\n",
              "  </div>\n",
              "  "
            ]
          },
          "metadata": {},
          "execution_count": 6
        }
      ]
    },
    {
      "cell_type": "markdown",
      "source": [
        "статистические параметры\n"
      ],
      "metadata": {
        "id": "BevwiLz1YWOU"
      }
    },
    {
      "cell_type": "code",
      "source": [
        "df['Номенклатура'].unique()"
      ],
      "metadata": {
        "colab": {
          "base_uri": "https://localhost:8080/"
        },
        "id": "wHEThb-vu3kr",
        "outputId": "c9e47297-dd0d-4cab-b2f5-a827c43319e9"
      },
      "execution_count": 7,
      "outputs": [
        {
          "output_type": "execute_result",
          "data": {
            "text/plain": [
              "array(['рыба Мойва х/к', 'рыба Вобла вял.', 'рыба Камбала  вял',\n",
              "       'рыба Камбала х/к', 'рыба Судак Астраханский вял.',\n",
              "       'рыба Скумбрия б/г х/к', 'рыба Пелядь вял.',\n",
              "       'рыба Окунь морской пласт х/к (П-к)', 'рыба Густера вял.',\n",
              "       'рыба Уклейка вял.',\n",
              "       'рыба Камбала дальневосточная с икрой вял. СиВ',\n",
              "       'рыба Камбала-ёрш вял.', 'рыба Синец вял.',\n",
              "       'рыба Чехонь Астраханская вял.', 'рыба Вомер х/к',\n",
              "       'Снек Камбала  по-мурмански', 'рыба Лещ Азовский вял.',\n",
              "       'рыба Корюшка вял. 16+', 'рыба Юкола лососевых х/к (ПР)',\n",
              "       'рыба Лещ Астраханский вял. (ПР)', 'снек филе Камбалы 50гр',\n",
              "       'рыба Теша форели х/к (П-к)', 'рыба Карп вял.',\n",
              "       'рыба Корюшка сахалинская с икрой вял. СиВ',\n",
              "       ' ! рыба Форель х/к (П-к)', 'рыба Мойва вял.', 'рыба Лещ х/к',\n",
              "       'рыба Корюшка вял. 21+', 'рыба Пелядь х/к',\n",
              "       'рыба Уклейка вял 100гр ', '! рыба Палочки кеты х/к',\n",
              "       'рыба Синец Астраханский вял. СиВ', 'рыба Горбуша пласт х/к (П-к)',\n",
              "       ' ! рыба Карась пласт х/к (П-к)', 'снек филе Камбалы 100гр',\n",
              "       'рыба Толстолоб пласт х/к', ' ! рыба Юкола горбуши х/к (П-к)',\n",
              "       'рыба Теша кижуча х/к', '!Снек Горбуша соломка х/к в/у (ПР)',\n",
              "       ' ! рыба Камбала с икрой (ДВ) вял. ассорт',\n",
              "       'рыба Камбала вял. мелкая (ПР)', ' ! рыба Корюшка вял.',\n",
              "       'рыба Вобла астраханская вял. СиВ',\n",
              "       ' ! рыба Скумбрия б/г  вял. провесная',\n",
              "       ' ! рыба Лещ вял. Цимлянский', 'рыба Корюшка сахалинская вял. СиВ',\n",
              "       'Скумбрия атлантическая филе в соусе терияки ж/б 190гр',\n",
              "       'рыба Камбала-ёрш вял. (Аляска)', 'рыба Камбала (ДВ) х/к СиВ',\n",
              "       'рыба Чехонь Астраханская вял. СиВ',\n",
              "       'Скумбрия атлантическая филе в соусе унаги ж/б 190гр'],\n",
              "      dtype=object)"
            ]
          },
          "metadata": {},
          "execution_count": 7
        }
      ]
    },
    {
      "cell_type": "code",
      "source": [
        "df.query('Номенклатура == \"рыба Камбала-ёрш вял.\"')['Количество'].describe().T"
      ],
      "metadata": {
        "colab": {
          "base_uri": "https://localhost:8080/"
        },
        "id": "575qpidkZGGm",
        "outputId": "0f611e16-3fbc-43a6-da8d-886a0fe2c388"
      },
      "execution_count": 8,
      "outputs": [
        {
          "output_type": "execute_result",
          "data": {
            "text/plain": [
              "count    765.000000\n",
              "mean       0.187229\n",
              "std        0.091482\n",
              "min        0.010000\n",
              "25%        0.130000\n",
              "50%        0.170000\n",
              "75%        0.220000\n",
              "max        0.820000\n",
              "Name: Количество, dtype: float64"
            ]
          },
          "metadata": {},
          "execution_count": 8
        }
      ]
    },
    {
      "cell_type": "markdown",
      "source": [
        "Нормальные размеры камбалы ерш укладываются в диапазхон 130-220 гр. "
      ],
      "metadata": {
        "id": "NbJd7M5ZZpE1"
      }
    },
    {
      "cell_type": "code",
      "source": [
        "df.query('Номенклатура == \"рыба Камбала-ёрш вял.\"')['Количество'].plot(y= 'Количество', kind= 'hist', bins= 30)\n",
        "plt.title('Распределение чеков по весу')\n",
        "plt.xlabel('Вес')\n",
        "plt.ylabel('Частота в чеке')\n",
        "plt.show()"
      ],
      "metadata": {
        "colab": {
          "base_uri": "https://localhost:8080/",
          "height": 295
        },
        "id": "J9sY08FhZXiS",
        "outputId": "218936df-bbcd-4539-8c55-12c80b653d78"
      },
      "execution_count": 9,
      "outputs": [
        {
          "output_type": "display_data",
          "data": {
            "text/plain": [
              "<Figure size 432x288 with 1 Axes>"
            ],
            "image/png": "[encoded data removed]"
          },
          "metadata": {
            "needs_background": "light"
          }
        }
      ]
    },
    {
      "cell_type": "markdown",
      "source": [
        "Распределение нормальное (правое плечо длиннее за счет того что в некоторые чеки берут не по одной рыбе)"
      ],
      "metadata": {
        "id": "Lo_kzV5Zzxfb"
      }
    },
    {
      "cell_type": "code",
      "source": [],
      "metadata": {
        "id": "5jHs7EqJz8mZ"
      },
      "execution_count": 9,
      "outputs": []
    }
  ]
}