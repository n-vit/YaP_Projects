{
  "cells": [
    {
      "cell_type": "markdown",
      "metadata": {
        "id": "view-in-github",
        "colab_type": "text"
      },
      "source": [
        "<a href=\"https://colab.research.google.com/github/n-vit/YaP_Projects/blob/main/4_%D0%A1%D1%82%D0%B0%D1%82%D0%B8%D1%81%D1%82%D0%B8%D1%87%D0%B5%D1%81%D0%BA%D0%B8%D0%B9_%D0%B0%D0%BD%D0%B0%D0%BB%D0%B8%D0%B7.ipynb\" target=\"_parent\"><img src=\"https://colab.research.google.com/assets/colab-badge.svg\" alt=\"Open In Colab\"/></a>"
      ]
    },
    {
      "cell_type": "markdown",
      "metadata": {
        "id": "8IvDvP6IVgcr"
      },
      "source": [
        "# 0. Цель проекта\n",
        "На основе готовой выборки провести анализ доходности тарифов и определить какой из них выгоднее:\n",
        "- для каждого из тарифов установить среднее количество, дисперсию и стандартное отклонение по объемам потребления категорий:  интернет, звонки, смс. \n",
        "- проверить гипотезу о том, что средняя выручка ползователей разных тарифов различается\n",
        "- проверить гипотезу о том что выручка пользователей из Москвы отличается от других регионов\n",
        "- дать рекомендации заказчику по итогам исследования по выбору приоритетного тарифа для продвижения"
      ]
    },
    {
      "cell_type": "markdown",
      "metadata": {
        "id": "8sPxLm8SyTjh"
      },
      "source": [
        "# 1. Общие данные и информация о проекте"
      ]
    },
    {
      "cell_type": "markdown",
      "metadata": {
        "id": "8QzPUiEmuSWV"
      },
      "source": [
        "**Таблица users (информация о пользователях):**\n",
        "\n",
        "    user_id — уникальный идентификатор пользователя\n",
        "    first_name — имя пользователя\n",
        "    last_name — фамилия пользователя\n",
        "    age — возраст пользователя (годы)\n",
        "    reg_date — дата подключения тарифа (день, месяц, год)\n",
        "    churn_date — дата прекращения пользования тарифом (если значение пропущено,\n",
        "    то тариф ещё действовал на момент выгрузки данных)\n",
        "    city — город проживания пользователя\n",
        "    tarif — название тарифного плана\n",
        "\n",
        "**Таблица calls (информация о звонках):**\n",
        "\n",
        "    id — уникальный номер звонка\n",
        "    call_date — дата звонка\n",
        "    duration — длительность звонка в минутах\n",
        "    user_id — идентификатор пользователя, сделавшего звонок\n",
        "\n",
        "**Таблица messages (информация о сообщениях):**\n",
        "\n",
        "    id — уникальный номер сообщения\n",
        "    message_date — дата сообщения\n",
        "    user_id — идентификатор пользователя, отправившего сообщение\n",
        "\n",
        "**Таблица internet (информация об интернет-сессиях):**\n",
        "\n",
        "    id — уникальный номер сессии\n",
        "    mb_used — объём потраченного за сессию интернет-трафика (в мегабайтах)\n",
        "    session_date — дата интернет-сессии\n",
        "    user_id — идентификатор пользователя\n",
        "\n",
        "**Таблица tariffs (информация о тарифах):**\n",
        "\n",
        "    tariff_name — название тарифа\n",
        "    rub_monthly_fee — ежемесячная абонентская плата в рублях\n",
        "    minutes_included — количество минут разговора в месяц, включённых в абонентскую плату\n",
        "    messages_included — количество сообщений в месяц, включённых в абонентскую плату\n",
        "    mb_per_month_included — объём интернет-трафика, включённого в абонентскую плату (в мегабайтах)\n",
        "    rub_per_minute — стоимость минуты разговора сверх тарифного пакета (например, если в тарифе 100 минут разговора в месяц, то со 101 минуты будет взиматься плата)\n",
        "    rub_per_message — стоимость отправки сообщения сверх тарифного пакета\n",
        "    rub_per_gb — стоимость дополнительного гигабайта интернет-трафика сверх тарифного пакета (1 гигабайт = 1024 мегабайта)"
      ]
    },
    {
      "cell_type": "markdown",
      "metadata": {
        "id": "M-08b9xBOwCz"
      },
      "source": [
        "##Описание тарифов\n",
        "**Тариф «Смарт»**\n",
        "\n",
        "    Ежемесячная плата: 550 рублей\n",
        "    Включено 500 минут разговора, 50 сообщений и 15 Гб интернет-трафика\n",
        "    Стоимость услуг сверх тарифного пакета:\n",
        "    минута разговора: 3 рубля\n",
        "    сообщение: 3 рубля\n",
        "    1 Гб интернет-трафика: 200 рублей\n",
        "\n",
        "**Тариф «Ультра»**\n",
        "\n",
        "    Ежемесячная плата: 1950 рублей\n",
        "    Включено 3000 минут разговора, 1000 сообщений и 30 Гб интернет-трафика\n",
        "    Стоимость услуг сверх тарифного пакета:\n",
        "    минута разговора: 1 рубль\n",
        "    сообщение: 1 рубль\n",
        "    1 Гб интернет-трафика: 150 рублей"
      ]
    },
    {
      "cell_type": "markdown",
      "metadata": {
        "id": "btrVP4uqyabc"
      },
      "source": [
        "# 2. Обзор и предобработка данных"
      ]
    },
    {
      "cell_type": "code",
      "execution_count": null,
      "metadata": {
        "id": "FXNl_K_1QYZC"
      },
      "outputs": [],
      "source": [
        "import pandas as pd\n",
        "import numpy as np\n",
        "import matplotlib.pyplot as plt\n",
        "import seaborn as sns\n",
        "import math\n",
        "from scipy.stats import ttest_ind"
      ]
    },
    {
      "cell_type": "code",
      "execution_count": null,
      "metadata": {
        "id": "p-qK1YAQxq_4"
      },
      "outputs": [],
      "source": [
        "try: # if the project is opened in Collab use a 'try' block, if it opened in simulator Yandex, or Jupiter, use an 'except' block\n",
        "    from google.colab import drive\n",
        "    drive.mount('/content/drive')\n",
        "    calls = pd.read_csv('/content/drive/MyDrive/Colab Notebooks/yap5/calls.csv',parse_dates=['call_date'])\n",
        "    internet = pd.read_csv('/content/drive/MyDrive/Colab Notebooks/yap5/internet.csv', parse_dates=['session_date'])\n",
        "    messages = pd.read_csv('/content/drive/MyDrive/Colab Notebooks/yap5/messages.csv', parse_dates=['message_date'])\n",
        "    tariffs = pd.read_csv('/content/drive/MyDrive/Colab Notebooks/yap5/tariffs.csv')\n",
        "    users = pd.read_csv('/content/drive/MyDrive/Colab Notebooks/yap5/users.csv', parse_dates=['churn_date','reg_date'])\n",
        "\n",
        "except:\n",
        "    calls = pd.read_csv('/datasets/calls.csv', parse_dates=['call_date'])\n",
        "    internet = pd.read_csv('/datasets/internet.csv', parse_dates=['session_date'])\n",
        "    messages = pd.read_csv('/datasets/messages.csv', parse_dates=['message_date'])\n",
        "    tariffs = pd.read_csv('/datasets/tariffs.csv')\n",
        "    users = pd.read_csv('/datasets/users.csv', parse_dates=['churn_date','reg_date'])"
      ]
    },
    {
      "cell_type": "markdown",
      "metadata": {
        "id": "GLB-ULrz5Hmy"
      },
      "source": [
        "## 2.1 Информация о пользователях"
      ]
    },
    {
      "cell_type": "code",
      "execution_count": null,
      "metadata": {
        "colab": {
          "base_uri": "https://localhost:8080/",
          "height": 640
        },
        "id": "RPdh3APx7dGC",
        "outputId": "a8c57f22-b89f-4adb-eae7-09c923a31191"
      },
      "outputs": [
        {
          "data": {
            "text/html": [
              "<div>\n",
              "<style scoped>\n",
              "    .dataframe tbody tr th:only-of-type {\n",
              "        vertical-align: middle;\n",
              "    }\n",
              "\n",
              "    .dataframe tbody tr th {\n",
              "        vertical-align: top;\n",
              "    }\n",
              "\n",
              "    .dataframe thead th {\n",
              "        text-align: right;\n",
              "    }\n",
              "</style>\n",
              "<table border=\"1\" class=\"dataframe\">\n",
              "  <thead>\n",
              "    <tr style=\"text-align: right;\">\n",
              "      <th></th>\n",
              "      <th>user_id</th>\n",
              "      <th>age</th>\n",
              "      <th>churn_date</th>\n",
              "      <th>city</th>\n",
              "      <th>first_name</th>\n",
              "      <th>last_name</th>\n",
              "      <th>reg_date</th>\n",
              "      <th>tariff</th>\n",
              "    </tr>\n",
              "  </thead>\n",
              "  <tbody>\n",
              "    <tr>\n",
              "      <th>0</th>\n",
              "      <td>1000</td>\n",
              "      <td>52</td>\n",
              "      <td>NaT</td>\n",
              "      <td>Краснодар</td>\n",
              "      <td>Рафаил</td>\n",
              "      <td>Верещагин</td>\n",
              "      <td>2018-05-25</td>\n",
              "      <td>ultra</td>\n",
              "    </tr>\n",
              "    <tr>\n",
              "      <th>1</th>\n",
              "      <td>1001</td>\n",
              "      <td>41</td>\n",
              "      <td>NaT</td>\n",
              "      <td>Москва</td>\n",
              "      <td>Иван</td>\n",
              "      <td>Ежов</td>\n",
              "      <td>2018-11-01</td>\n",
              "      <td>smart</td>\n",
              "    </tr>\n",
              "    <tr>\n",
              "      <th>2</th>\n",
              "      <td>1002</td>\n",
              "      <td>59</td>\n",
              "      <td>NaT</td>\n",
              "      <td>Стерлитамак</td>\n",
              "      <td>Евгений</td>\n",
              "      <td>Абрамович</td>\n",
              "      <td>2018-06-17</td>\n",
              "      <td>smart</td>\n",
              "    </tr>\n",
              "    <tr>\n",
              "      <th>3</th>\n",
              "      <td>1003</td>\n",
              "      <td>23</td>\n",
              "      <td>NaT</td>\n",
              "      <td>Москва</td>\n",
              "      <td>Белла</td>\n",
              "      <td>Белякова</td>\n",
              "      <td>2018-08-17</td>\n",
              "      <td>ultra</td>\n",
              "    </tr>\n",
              "    <tr>\n",
              "      <th>4</th>\n",
              "      <td>1004</td>\n",
              "      <td>68</td>\n",
              "      <td>NaT</td>\n",
              "      <td>Новокузнецк</td>\n",
              "      <td>Татьяна</td>\n",
              "      <td>Авдеенко</td>\n",
              "      <td>2018-05-14</td>\n",
              "      <td>ultra</td>\n",
              "    </tr>\n",
              "  </tbody>\n",
              "</table>\n",
              "</div>"
            ],
            "text/plain": [
              "   user_id  age churn_date         city first_name  last_name   reg_date  \\\n",
              "0     1000   52        NaT    Краснодар     Рафаил  Верещагин 2018-05-25   \n",
              "1     1001   41        NaT       Москва       Иван       Ежов 2018-11-01   \n",
              "2     1002   59        NaT  Стерлитамак    Евгений  Абрамович 2018-06-17   \n",
              "3     1003   23        NaT       Москва      Белла   Белякова 2018-08-17   \n",
              "4     1004   68        NaT  Новокузнецк    Татьяна   Авдеенко 2018-05-14   \n",
              "\n",
              "  tariff  \n",
              "0  ultra  \n",
              "1  smart  \n",
              "2  smart  \n",
              "3  ultra  \n",
              "4  ultra  "
            ]
          },
          "metadata": {},
          "output_type": "display_data"
        },
        {
          "name": "stdout",
          "output_type": "stream",
          "text": [
            "<class 'pandas.core.frame.DataFrame'>\n",
            "RangeIndex: 500 entries, 0 to 499\n",
            "Data columns (total 8 columns):\n",
            " #   Column      Non-Null Count  Dtype         \n",
            "---  ------      --------------  -----         \n",
            " 0   user_id     500 non-null    int64         \n",
            " 1   age         500 non-null    int64         \n",
            " 2   churn_date  38 non-null     datetime64[ns]\n",
            " 3   city        500 non-null    object        \n",
            " 4   first_name  500 non-null    object        \n",
            " 5   last_name   500 non-null    object        \n",
            " 6   reg_date    500 non-null    datetime64[ns]\n",
            " 7   tariff      500 non-null    object        \n",
            "dtypes: datetime64[ns](2), int64(2), object(4)\n",
            "memory usage: 31.4+ KB\n"
          ]
        },
        {
          "data": {
            "text/plain": [
              "None"
            ]
          },
          "metadata": {},
          "output_type": "display_data"
        },
        {
          "data": {
            "text/plain": [
              "user_id         0\n",
              "age             0\n",
              "churn_date    462\n",
              "city            0\n",
              "first_name      0\n",
              "last_name       0\n",
              "reg_date        0\n",
              "tariff          0\n",
              "dtype: int64"
            ]
          },
          "metadata": {},
          "output_type": "display_data"
        }
      ],
      "source": [
        "display(users.head(5))\n",
        "display(users.info())\n",
        "display(users.isna().sum())"
      ]
    },
    {
      "cell_type": "markdown",
      "metadata": {
        "id": "DrfxKTxXr3Da"
      },
      "source": [
        "Для дальнейшей работы оптимизируем разрядность и приведем дату в удобный формат.\n",
        "\n",
        "_я попробовал написать функцию, которая будет понижать разрядность для всех фреймов, но что-то не выходит, поэтому для каждого отдельно_"
      ]
    },
    {
      "cell_type": "code",
      "execution_count": null,
      "metadata": {
        "colab": {
          "base_uri": "https://localhost:8080/",
          "height": 87
        },
        "id": "3Z976MdewpQs",
        "outputId": "ffef749b-4e35-4e01-c265-45848a12a29e"
      },
      "outputs": [
        {
          "data": {
            "text/plain": [
              "\"\\n\\n\\ndef opti_bit(df):\\n  # this function lowers the bit depth to acceptable values and return optimized dataframe\\n  df_float = df.select_dtypes(include=['float']) # selecting 'float' data\\n  df_float = df_float.apply(pd.to_numeric,downcast='float') # lowering the bit depth to acceptable\\n\\n  df_int = df.select_dtypes(include=['int']) # repeat also for 'int'\\n  df_int = df_int.apply(pd.to_numeric,downcast='unsigned')\\n\\n  df[df_int.columns] = df_int # replacing the data in the original frame with optimized ones\\n  df[df_float.columns] = df_float\\n  return df\\n\""
            ]
          },
          "execution_count": 4,
          "metadata": {},
          "output_type": "execute_result"
        }
      ],
      "source": [
        "'''\n",
        "\n",
        "\n",
        "def opti_bit(df):\n",
        "  # this function lowers the bit depth to acceptable values and return optimized dataframe\n",
        "  df_float = df.select_dtypes(include=['float']) # selecting 'float' data\n",
        "  df_float = df_float.apply(pd.to_numeric,downcast='float') # lowering the bit depth to acceptable\n",
        "\n",
        "  df_int = df.select_dtypes(include=['int']) # repeat also for 'int'\n",
        "  df_int = df_int.apply(pd.to_numeric,downcast='unsigned')\n",
        "\n",
        "  df[df_int.columns] = df_int # replacing the data in the original frame with optimized ones\n",
        "  df[df_float.columns] = df_float\n",
        "  return df\n",
        "'''\n"
      ]
    },
    {
      "cell_type": "code",
      "execution_count": null,
      "metadata": {
        "colab": {
          "base_uri": "https://localhost:8080/"
        },
        "id": "9hbDZz5rcsga",
        "outputId": "5f3b474a-7a2a-4c87-e5c1-01e31fa69d2b"
      },
      "outputs": [
        {
          "name": "stdout",
          "output_type": "stream",
          "text": [
            "<class 'pandas.core.frame.DataFrame'>\n",
            "RangeIndex: 500 entries, 0 to 499\n",
            "Data columns (total 8 columns):\n",
            " #   Column      Non-Null Count  Dtype         \n",
            "---  ------      --------------  -----         \n",
            " 0   user_id     500 non-null    uint16        \n",
            " 1   age         500 non-null    uint8         \n",
            " 2   churn_date  38 non-null     datetime64[ns]\n",
            " 3   city        500 non-null    object        \n",
            " 4   first_name  500 non-null    object        \n",
            " 5   last_name   500 non-null    object        \n",
            " 6   reg_date    500 non-null    datetime64[ns]\n",
            " 7   tariff      500 non-null    object        \n",
            "dtypes: datetime64[ns](2), object(4), uint16(1), uint8(1)\n",
            "memory usage: 25.0+ KB\n"
          ]
        }
      ],
      "source": [
        "users_float = users.select_dtypes(include=['float']) # selecting 'float' data\n",
        "users_float = users_float.apply(pd.to_numeric,downcast='float') # lowering the bit depth to acceptable\n",
        "\n",
        "users_int = users.select_dtypes(include=['int']) # repeat also for 'int'\n",
        "users_int = users_int.apply(pd.to_numeric,downcast='unsigned')\n",
        "\n",
        "users[users_int.columns] = users_int # replacing the data in the original frame with optimized ones\n",
        "users[users_float.columns] = users_float\n",
        "\n",
        "#users['reg_date']  = pd.to_datetime(users['reg_date'], format='%Y-%m-%d')\n",
        "\n",
        "users.info() "
      ]
    },
    {
      "cell_type": "markdown",
      "metadata": {
        "id": "7ERj0O_24Wcg"
      },
      "source": [
        "## 2.2 Информация о звонках"
      ]
    },
    {
      "cell_type": "code",
      "execution_count": null,
      "metadata": {
        "colab": {
          "base_uri": "https://localhost:8080/",
          "height": 501
        },
        "id": "0hMVMV6penyz",
        "outputId": "caaf2d3d-d8b1-43d1-fbea-11ad15136c6a"
      },
      "outputs": [
        {
          "data": {
            "text/html": [
              "<div>\n",
              "<style scoped>\n",
              "    .dataframe tbody tr th:only-of-type {\n",
              "        vertical-align: middle;\n",
              "    }\n",
              "\n",
              "    .dataframe tbody tr th {\n",
              "        vertical-align: top;\n",
              "    }\n",
              "\n",
              "    .dataframe thead th {\n",
              "        text-align: right;\n",
              "    }\n",
              "</style>\n",
              "<table border=\"1\" class=\"dataframe\">\n",
              "  <thead>\n",
              "    <tr style=\"text-align: right;\">\n",
              "      <th></th>\n",
              "      <th>id</th>\n",
              "      <th>call_date</th>\n",
              "      <th>duration</th>\n",
              "      <th>user_id</th>\n",
              "    </tr>\n",
              "  </thead>\n",
              "  <tbody>\n",
              "    <tr>\n",
              "      <th>0</th>\n",
              "      <td>1000_0</td>\n",
              "      <td>2018-07-25</td>\n",
              "      <td>0.00</td>\n",
              "      <td>1000</td>\n",
              "    </tr>\n",
              "    <tr>\n",
              "      <th>1</th>\n",
              "      <td>1000_1</td>\n",
              "      <td>2018-08-17</td>\n",
              "      <td>0.00</td>\n",
              "      <td>1000</td>\n",
              "    </tr>\n",
              "    <tr>\n",
              "      <th>2</th>\n",
              "      <td>1000_2</td>\n",
              "      <td>2018-06-11</td>\n",
              "      <td>2.85</td>\n",
              "      <td>1000</td>\n",
              "    </tr>\n",
              "    <tr>\n",
              "      <th>3</th>\n",
              "      <td>1000_3</td>\n",
              "      <td>2018-09-21</td>\n",
              "      <td>13.80</td>\n",
              "      <td>1000</td>\n",
              "    </tr>\n",
              "    <tr>\n",
              "      <th>4</th>\n",
              "      <td>1000_4</td>\n",
              "      <td>2018-12-15</td>\n",
              "      <td>5.18</td>\n",
              "      <td>1000</td>\n",
              "    </tr>\n",
              "  </tbody>\n",
              "</table>\n",
              "</div>"
            ],
            "text/plain": [
              "       id  call_date  duration  user_id\n",
              "0  1000_0 2018-07-25      0.00     1000\n",
              "1  1000_1 2018-08-17      0.00     1000\n",
              "2  1000_2 2018-06-11      2.85     1000\n",
              "3  1000_3 2018-09-21     13.80     1000\n",
              "4  1000_4 2018-12-15      5.18     1000"
            ]
          },
          "metadata": {},
          "output_type": "display_data"
        },
        {
          "name": "stdout",
          "output_type": "stream",
          "text": [
            "<class 'pandas.core.frame.DataFrame'>\n",
            "RangeIndex: 202607 entries, 0 to 202606\n",
            "Data columns (total 4 columns):\n",
            " #   Column     Non-Null Count   Dtype         \n",
            "---  ------     --------------   -----         \n",
            " 0   id         202607 non-null  object        \n",
            " 1   call_date  202607 non-null  datetime64[ns]\n",
            " 2   duration   202607 non-null  float64       \n",
            " 3   user_id    202607 non-null  int64         \n",
            "dtypes: datetime64[ns](1), float64(1), int64(1), object(1)\n",
            "memory usage: 6.2+ MB\n"
          ]
        },
        {
          "data": {
            "text/plain": [
              "None"
            ]
          },
          "metadata": {},
          "output_type": "display_data"
        },
        {
          "data": {
            "text/plain": [
              "id           0\n",
              "call_date    0\n",
              "duration     0\n",
              "user_id      0\n",
              "dtype: int64"
            ]
          },
          "metadata": {},
          "output_type": "display_data"
        }
      ],
      "source": [
        "display(calls.head(5))\n",
        "display(calls.info())\n",
        "display(calls.isna().sum())"
      ]
    },
    {
      "cell_type": "markdown",
      "metadata": {
        "id": "Vjwi264Nz9z3"
      },
      "source": [
        "оптимизируем разрядность и формат даты в файле с информацией о звонках так же, как в предыдущем, округлим длительность звонков до минут и добавим столбец с месяцем"
      ]
    },
    {
      "cell_type": "code",
      "execution_count": null,
      "metadata": {
        "colab": {
          "base_uri": "https://localhost:8080/",
          "height": 143
        },
        "id": "iRQGaaeq1Yi9",
        "outputId": "f6430f40-e67e-4da5-87e2-8b3a775ceac7"
      },
      "outputs": [
        {
          "data": {
            "text/html": [
              "<div>\n",
              "<style scoped>\n",
              "    .dataframe tbody tr th:only-of-type {\n",
              "        vertical-align: middle;\n",
              "    }\n",
              "\n",
              "    .dataframe tbody tr th {\n",
              "        vertical-align: top;\n",
              "    }\n",
              "\n",
              "    .dataframe thead th {\n",
              "        text-align: right;\n",
              "    }\n",
              "</style>\n",
              "<table border=\"1\" class=\"dataframe\">\n",
              "  <thead>\n",
              "    <tr style=\"text-align: right;\">\n",
              "      <th></th>\n",
              "      <th>id</th>\n",
              "      <th>call_date</th>\n",
              "      <th>duration</th>\n",
              "      <th>user_id</th>\n",
              "      <th>month</th>\n",
              "    </tr>\n",
              "  </thead>\n",
              "  <tbody>\n",
              "    <tr>\n",
              "      <th>0</th>\n",
              "      <td>1000_0</td>\n",
              "      <td>2018-07-25</td>\n",
              "      <td>0</td>\n",
              "      <td>1000</td>\n",
              "      <td>7</td>\n",
              "    </tr>\n",
              "    <tr>\n",
              "      <th>1</th>\n",
              "      <td>1000_1</td>\n",
              "      <td>2018-08-17</td>\n",
              "      <td>0</td>\n",
              "      <td>1000</td>\n",
              "      <td>8</td>\n",
              "    </tr>\n",
              "    <tr>\n",
              "      <th>2</th>\n",
              "      <td>1000_2</td>\n",
              "      <td>2018-06-11</td>\n",
              "      <td>3</td>\n",
              "      <td>1000</td>\n",
              "      <td>6</td>\n",
              "    </tr>\n",
              "  </tbody>\n",
              "</table>\n",
              "</div>"
            ],
            "text/plain": [
              "       id  call_date  duration  user_id  month\n",
              "0  1000_0 2018-07-25         0     1000      7\n",
              "1  1000_1 2018-08-17         0     1000      8\n",
              "2  1000_2 2018-06-11         3     1000      6"
            ]
          },
          "execution_count": 7,
          "metadata": {},
          "output_type": "execute_result"
        }
      ],
      "source": [
        "\n",
        "calls['duration'] = calls.duration.apply(lambda x: math.ceil(x)) #rounding to minutes\n",
        "#calls['call_date']  = pd.to_datetime(calls['call_date'], format='%Y-%m-%d')\n",
        "calls['month'] = calls['call_date'].dt.month\n",
        "\n",
        "calls_fl = calls.select_dtypes(include=['float']) \n",
        "calls_fl = calls_fl.apply(pd.to_numeric,downcast='float') \n",
        "\n",
        "calls_int = calls.select_dtypes(include=['int']) \n",
        "calls_int = calls_int.apply(pd.to_numeric,downcast='unsigned')\n",
        "\n",
        "calls[calls_int.columns] = calls_int \n",
        "calls[calls_fl.columns] = calls_fl\n",
        "\n",
        "calls.head(3) "
      ]
    },
    {
      "cell_type": "markdown",
      "metadata": {
        "id": "g61ez9ai4FFg"
      },
      "source": [
        "Таблица с информацией о звонках готова к дальнейшей работе"
      ]
    },
    {
      "cell_type": "markdown",
      "metadata": {
        "id": "RtcgGM08eSmi"
      },
      "source": [
        "## 2.3 Информация об интернет-трафике"
      ]
    },
    {
      "cell_type": "code",
      "execution_count": null,
      "metadata": {
        "colab": {
          "base_uri": "https://localhost:8080/",
          "height": 536
        },
        "id": "Rlcek-GiefiC",
        "outputId": "c3227374-9a5a-4834-ec0c-d21f483b299f"
      },
      "outputs": [
        {
          "data": {
            "text/html": [
              "<div>\n",
              "<style scoped>\n",
              "    .dataframe tbody tr th:only-of-type {\n",
              "        vertical-align: middle;\n",
              "    }\n",
              "\n",
              "    .dataframe tbody tr th {\n",
              "        vertical-align: top;\n",
              "    }\n",
              "\n",
              "    .dataframe thead th {\n",
              "        text-align: right;\n",
              "    }\n",
              "</style>\n",
              "<table border=\"1\" class=\"dataframe\">\n",
              "  <thead>\n",
              "    <tr style=\"text-align: right;\">\n",
              "      <th></th>\n",
              "      <th>Unnamed: 0</th>\n",
              "      <th>id</th>\n",
              "      <th>mb_used</th>\n",
              "      <th>session_date</th>\n",
              "      <th>user_id</th>\n",
              "    </tr>\n",
              "  </thead>\n",
              "  <tbody>\n",
              "    <tr>\n",
              "      <th>0</th>\n",
              "      <td>0</td>\n",
              "      <td>1000_0</td>\n",
              "      <td>112.95</td>\n",
              "      <td>2018-11-25</td>\n",
              "      <td>1000</td>\n",
              "    </tr>\n",
              "    <tr>\n",
              "      <th>1</th>\n",
              "      <td>1</td>\n",
              "      <td>1000_1</td>\n",
              "      <td>1052.81</td>\n",
              "      <td>2018-09-07</td>\n",
              "      <td>1000</td>\n",
              "    </tr>\n",
              "    <tr>\n",
              "      <th>2</th>\n",
              "      <td>2</td>\n",
              "      <td>1000_2</td>\n",
              "      <td>1197.26</td>\n",
              "      <td>2018-06-25</td>\n",
              "      <td>1000</td>\n",
              "    </tr>\n",
              "    <tr>\n",
              "      <th>3</th>\n",
              "      <td>3</td>\n",
              "      <td>1000_3</td>\n",
              "      <td>550.27</td>\n",
              "      <td>2018-08-22</td>\n",
              "      <td>1000</td>\n",
              "    </tr>\n",
              "    <tr>\n",
              "      <th>4</th>\n",
              "      <td>4</td>\n",
              "      <td>1000_4</td>\n",
              "      <td>302.56</td>\n",
              "      <td>2018-09-24</td>\n",
              "      <td>1000</td>\n",
              "    </tr>\n",
              "  </tbody>\n",
              "</table>\n",
              "</div>"
            ],
            "text/plain": [
              "   Unnamed: 0      id  mb_used session_date  user_id\n",
              "0           0  1000_0   112.95   2018-11-25     1000\n",
              "1           1  1000_1  1052.81   2018-09-07     1000\n",
              "2           2  1000_2  1197.26   2018-06-25     1000\n",
              "3           3  1000_3   550.27   2018-08-22     1000\n",
              "4           4  1000_4   302.56   2018-09-24     1000"
            ]
          },
          "metadata": {},
          "output_type": "display_data"
        },
        {
          "name": "stdout",
          "output_type": "stream",
          "text": [
            "<class 'pandas.core.frame.DataFrame'>\n",
            "RangeIndex: 149396 entries, 0 to 149395\n",
            "Data columns (total 5 columns):\n",
            " #   Column        Non-Null Count   Dtype         \n",
            "---  ------        --------------   -----         \n",
            " 0   Unnamed: 0    149396 non-null  int64         \n",
            " 1   id            149396 non-null  object        \n",
            " 2   mb_used       149396 non-null  float64       \n",
            " 3   session_date  149396 non-null  datetime64[ns]\n",
            " 4   user_id       149396 non-null  int64         \n",
            "dtypes: datetime64[ns](1), float64(1), int64(2), object(1)\n",
            "memory usage: 5.7+ MB\n"
          ]
        },
        {
          "data": {
            "text/plain": [
              "None"
            ]
          },
          "metadata": {},
          "output_type": "display_data"
        },
        {
          "data": {
            "text/plain": [
              "Unnamed: 0      0\n",
              "id              0\n",
              "mb_used         0\n",
              "session_date    0\n",
              "user_id         0\n",
              "dtype: int64"
            ]
          },
          "metadata": {},
          "output_type": "display_data"
        }
      ],
      "source": [
        "display(internet.head(5))\n",
        "display(internet.info())\n",
        "display(internet.isna().sum())"
      ]
    },
    {
      "cell_type": "markdown",
      "metadata": {
        "id": "KsFCjPxEes3J"
      },
      "source": [
        "предобработка аналогичная"
      ]
    },
    {
      "cell_type": "code",
      "execution_count": null,
      "metadata": {
        "colab": {
          "base_uri": "https://localhost:8080/"
        },
        "id": "yccthfeye249",
        "outputId": "1ed28c4d-a968-43cb-9684-6d616dd86868"
      },
      "outputs": [
        {
          "name": "stdout",
          "output_type": "stream",
          "text": [
            "<class 'pandas.core.frame.DataFrame'>\n",
            "RangeIndex: 149396 entries, 0 to 149395\n",
            "Data columns (total 6 columns):\n",
            " #   Column        Non-Null Count   Dtype         \n",
            "---  ------        --------------   -----         \n",
            " 0   Unnamed: 0    149396 non-null  uint32        \n",
            " 1   id            149396 non-null  object        \n",
            " 2   mb_used       149396 non-null  float32       \n",
            " 3   session_date  149396 non-null  datetime64[ns]\n",
            " 4   user_id       149396 non-null  uint16        \n",
            " 5   month         149396 non-null  uint8         \n",
            "dtypes: datetime64[ns](1), float32(1), object(1), uint16(1), uint32(1), uint8(1)\n",
            "memory usage: 3.8+ MB\n"
          ]
        }
      ],
      "source": [
        "#internet['session_date']  = pd.to_datetime(internet['session_date'], format='%Y-%m-%d')\n",
        "internet['month'] = internet['session_date'].dt.month\n",
        "\n",
        "internet_fl = internet.select_dtypes(include=['float']) \n",
        "internet_fl = internet_fl.apply(pd.to_numeric,downcast='float') \n",
        "\n",
        "internet_int = internet.select_dtypes(include=['int']) \n",
        "internet_int = internet_int.apply(pd.to_numeric,downcast='unsigned')\n",
        "\n",
        "internet[internet_int.columns] = internet_int \n",
        "internet[internet_fl.columns] = internet_fl\n",
        "\n",
        "internet.info()"
      ]
    },
    {
      "cell_type": "markdown",
      "metadata": {
        "id": "MCCkcGNgYnqs"
      },
      "source": [
        "## 2.4 Информация о сообщениях"
      ]
    },
    {
      "cell_type": "code",
      "execution_count": null,
      "metadata": {
        "colab": {
          "base_uri": "https://localhost:8080/",
          "height": 397
        },
        "id": "kSxslEBYYxfU",
        "outputId": "af60cfd7-0cb0-48c6-9acb-d58110501c1e"
      },
      "outputs": [
        {
          "name": "stdout",
          "output_type": "stream",
          "text": [
            "<class 'pandas.core.frame.DataFrame'>\n",
            "RangeIndex: 123036 entries, 0 to 123035\n",
            "Data columns (total 3 columns):\n",
            " #   Column        Non-Null Count   Dtype         \n",
            "---  ------        --------------   -----         \n",
            " 0   id            123036 non-null  object        \n",
            " 1   message_date  123036 non-null  datetime64[ns]\n",
            " 2   user_id       123036 non-null  int64         \n",
            "dtypes: datetime64[ns](1), int64(1), object(1)\n",
            "memory usage: 2.8+ MB\n"
          ]
        },
        {
          "data": {
            "text/plain": [
              "None"
            ]
          },
          "metadata": {},
          "output_type": "display_data"
        },
        {
          "data": {
            "text/html": [
              "<div>\n",
              "<style scoped>\n",
              "    .dataframe tbody tr th:only-of-type {\n",
              "        vertical-align: middle;\n",
              "    }\n",
              "\n",
              "    .dataframe tbody tr th {\n",
              "        vertical-align: top;\n",
              "    }\n",
              "\n",
              "    .dataframe thead th {\n",
              "        text-align: right;\n",
              "    }\n",
              "</style>\n",
              "<table border=\"1\" class=\"dataframe\">\n",
              "  <thead>\n",
              "    <tr style=\"text-align: right;\">\n",
              "      <th></th>\n",
              "      <th>id</th>\n",
              "      <th>message_date</th>\n",
              "      <th>user_id</th>\n",
              "      <th>month</th>\n",
              "    </tr>\n",
              "  </thead>\n",
              "  <tbody>\n",
              "    <tr>\n",
              "      <th>0</th>\n",
              "      <td>1000_0</td>\n",
              "      <td>2018-06-27</td>\n",
              "      <td>1000</td>\n",
              "      <td>6</td>\n",
              "    </tr>\n",
              "    <tr>\n",
              "      <th>1</th>\n",
              "      <td>1000_1</td>\n",
              "      <td>2018-10-08</td>\n",
              "      <td>1000</td>\n",
              "      <td>10</td>\n",
              "    </tr>\n",
              "    <tr>\n",
              "      <th>2</th>\n",
              "      <td>1000_2</td>\n",
              "      <td>2018-08-04</td>\n",
              "      <td>1000</td>\n",
              "      <td>8</td>\n",
              "    </tr>\n",
              "    <tr>\n",
              "      <th>3</th>\n",
              "      <td>1000_3</td>\n",
              "      <td>2018-06-16</td>\n",
              "      <td>1000</td>\n",
              "      <td>6</td>\n",
              "    </tr>\n",
              "    <tr>\n",
              "      <th>4</th>\n",
              "      <td>1000_4</td>\n",
              "      <td>2018-12-05</td>\n",
              "      <td>1000</td>\n",
              "      <td>12</td>\n",
              "    </tr>\n",
              "  </tbody>\n",
              "</table>\n",
              "</div>"
            ],
            "text/plain": [
              "       id message_date  user_id  month\n",
              "0  1000_0   2018-06-27     1000      6\n",
              "1  1000_1   2018-10-08     1000     10\n",
              "2  1000_2   2018-08-04     1000      8\n",
              "3  1000_3   2018-06-16     1000      6\n",
              "4  1000_4   2018-12-05     1000     12"
            ]
          },
          "metadata": {},
          "output_type": "display_data"
        }
      ],
      "source": [
        "display(messages.info())\n",
        "\n",
        "#messages['message_date']  = pd.to_datetime(messages['message_date'], format='%Y-%m-%d')\n",
        "messages['month'] = messages['message_date'].dt.month\n",
        "\n",
        "messages_int = messages.select_dtypes(include=['int']) \n",
        "messages_int = messages_int.apply(pd.to_numeric,downcast='unsigned')\n",
        "\n",
        "messages[messages_int.columns] = messages_int \n",
        "display(messages.head(5))"
      ]
    },
    {
      "cell_type": "markdown",
      "metadata": {
        "id": "q3BG3BcKmqT6"
      },
      "source": [
        "## 2.5 Информация о тарифах"
      ]
    },
    {
      "cell_type": "code",
      "execution_count": null,
      "metadata": {
        "colab": {
          "base_uri": "https://localhost:8080/",
          "height": 390
        },
        "id": "vCvWy8rjn7rn",
        "outputId": "628744a3-936b-4c20-892a-2cedbefc1c0b"
      },
      "outputs": [
        {
          "data": {
            "text/html": [
              "<div>\n",
              "<style scoped>\n",
              "    .dataframe tbody tr th:only-of-type {\n",
              "        vertical-align: middle;\n",
              "    }\n",
              "\n",
              "    .dataframe tbody tr th {\n",
              "        vertical-align: top;\n",
              "    }\n",
              "\n",
              "    .dataframe thead th {\n",
              "        text-align: right;\n",
              "    }\n",
              "</style>\n",
              "<table border=\"1\" class=\"dataframe\">\n",
              "  <thead>\n",
              "    <tr style=\"text-align: right;\">\n",
              "      <th></th>\n",
              "      <th>messages_included</th>\n",
              "      <th>mb_per_month_included</th>\n",
              "      <th>minutes_included</th>\n",
              "      <th>rub_monthly_fee</th>\n",
              "      <th>rub_per_gb</th>\n",
              "      <th>rub_per_message</th>\n",
              "      <th>rub_per_minute</th>\n",
              "      <th>tariff_name</th>\n",
              "    </tr>\n",
              "  </thead>\n",
              "  <tbody>\n",
              "    <tr>\n",
              "      <th>0</th>\n",
              "      <td>50</td>\n",
              "      <td>15360</td>\n",
              "      <td>500</td>\n",
              "      <td>550</td>\n",
              "      <td>200</td>\n",
              "      <td>3</td>\n",
              "      <td>3</td>\n",
              "      <td>smart</td>\n",
              "    </tr>\n",
              "    <tr>\n",
              "      <th>1</th>\n",
              "      <td>1000</td>\n",
              "      <td>30720</td>\n",
              "      <td>3000</td>\n",
              "      <td>1950</td>\n",
              "      <td>150</td>\n",
              "      <td>1</td>\n",
              "      <td>1</td>\n",
              "      <td>ultra</td>\n",
              "    </tr>\n",
              "  </tbody>\n",
              "</table>\n",
              "</div>"
            ],
            "text/plain": [
              "   messages_included  mb_per_month_included  minutes_included  \\\n",
              "0                 50                  15360               500   \n",
              "1               1000                  30720              3000   \n",
              "\n",
              "   rub_monthly_fee  rub_per_gb  rub_per_message  rub_per_minute tariff_name  \n",
              "0              550         200                3               3       smart  \n",
              "1             1950         150                1               1       ultra  "
            ]
          },
          "metadata": {},
          "output_type": "display_data"
        },
        {
          "name": "stdout",
          "output_type": "stream",
          "text": [
            "<class 'pandas.core.frame.DataFrame'>\n",
            "RangeIndex: 2 entries, 0 to 1\n",
            "Data columns (total 8 columns):\n",
            " #   Column                 Non-Null Count  Dtype \n",
            "---  ------                 --------------  ----- \n",
            " 0   messages_included      2 non-null      int64 \n",
            " 1   mb_per_month_included  2 non-null      int64 \n",
            " 2   minutes_included       2 non-null      int64 \n",
            " 3   rub_monthly_fee        2 non-null      int64 \n",
            " 4   rub_per_gb             2 non-null      int64 \n",
            " 5   rub_per_message        2 non-null      int64 \n",
            " 6   rub_per_minute         2 non-null      int64 \n",
            " 7   tariff_name            2 non-null      object\n",
            "dtypes: int64(7), object(1)\n",
            "memory usage: 256.0+ bytes\n"
          ]
        },
        {
          "data": {
            "text/plain": [
              "None"
            ]
          },
          "metadata": {},
          "output_type": "display_data"
        }
      ],
      "source": [
        "display(tariffs.head(5))\n",
        "display(tariffs.info())"
      ]
    },
    {
      "cell_type": "markdown",
      "metadata": {
        "id": "IwX591Oea6tC"
      },
      "source": [
        "понизим избыточную разрядность и переименуем столбец с названиями тарифов так же как он назван в таблице с пользователями"
      ]
    },
    {
      "cell_type": "code",
      "execution_count": null,
      "metadata": {
        "id": "Ff8shBEMamM1"
      },
      "outputs": [],
      "source": [
        "tariffs_fl = tariffs.select_dtypes(include=['float']) \n",
        "tariffs_fl = tariffs_fl.apply(pd.to_numeric,downcast='float') \n",
        "\n",
        "tariffs_int = tariffs.select_dtypes(include=['int']) \n",
        "tariffs_int = tariffs_int.apply(pd.to_numeric,downcast='unsigned')\n",
        "\n",
        "tariffs[tariffs_int.columns] = tariffs_int \n",
        "tariffs[tariffs_fl.columns] = tariffs_fl\n",
        "\n",
        "tariffs = tariffs.rename(columns={'tariff_name':'tariff'})"
      ]
    },
    {
      "cell_type": "markdown",
      "metadata": {
        "id": "Jtvbpe0symc4"
      },
      "source": [
        "# 3. Подготовка данных\n",
        "\n"
      ]
    },
    {
      "cell_type": "markdown",
      "metadata": {
        "id": "CwguSdHhzRWE"
      },
      "source": [
        "## 3.1. Сгруппируем данные по звонкам, интернету и трафику по пользователям, и определим среднемесячное потребление услуг связи для каждого пользователя:\n",
        "\n"
      ]
    },
    {
      "cell_type": "code",
      "execution_count": null,
      "metadata": {
        "id": "zE2A6XvTBYFI"
      },
      "outputs": [],
      "source": [
        "null_mb = internet.query('mb_used == 0')"
      ]
    },
    {
      "cell_type": "code",
      "execution_count": null,
      "metadata": {
        "id": "yfCepeDABYFJ",
        "outputId": "f1963c01-fb96-4c20-aad1-4abb27eb815a"
      },
      "outputs": [
        {
          "data": {
            "image/png": "[encoded data removed]",
            "text/plain": [
              "<Figure size 432x288 with 1 Axes>"
            ]
          },
          "metadata": {},
          "output_type": "display_data"
        }
      ],
      "source": [
        "sns.set(style=\"darkgrid\")\n",
        "sns.histplot(data=null_mb, x= 'session_date')\n",
        "plt.show()"
      ]
    },
    {
      "cell_type": "code",
      "execution_count": null,
      "metadata": {
        "id": "85yoDFZEBYFJ",
        "outputId": "fbddfbd8-b8ec-41f2-9656-b703bcc91b73"
      },
      "outputs": [
        {
          "data": {
            "image/png": "[encoded data removed]",
            "text/plain": [
              "<Figure size 432x288 with 1 Axes>"
            ]
          },
          "metadata": {},
          "output_type": "display_data"
        }
      ],
      "source": [
        "sns.histplot(data=null_mb, x= 'user_id')\n",
        "plt.show()"
      ]
    },
    {
      "cell_type": "markdown",
      "metadata": {
        "id": "J8vIzfIQBYFK"
      },
      "source": [
        "<div class=\"alert alert-info\">\n",
        "<span style=\"color:brown\"\n",
        "      \n",
        "Количество нулевых сессий линейно растет на протяжениии всего времени датасета независимо от пользователей. \n",
        "    \n",
        "Выглядит очень странно, посмотрим в разрезе тарифов"
      ]
    },
    {
      "cell_type": "code",
      "execution_count": null,
      "metadata": {
        "id": "WxuNJA1cBYFL",
        "outputId": "23d4a440-1913-431a-a2e3-8d4b4931abe4"
      },
      "outputs": [
        {
          "data": {
            "image/png": "[encoded data removed]",
            "text/plain": [
              "<Figure size 432x288 with 1 Axes>"
            ]
          },
          "metadata": {},
          "output_type": "display_data"
        }
      ],
      "source": [
        "null_mb = null_mb.merge(users, how='inner', on='user_id')\n",
        "sns.histplot(data=null_mb, x= 'tariff')\n",
        "plt.show()"
      ]
    },
    {
      "cell_type": "markdown",
      "metadata": {
        "id": "AJzDp0JTBYFL"
      },
      "source": [
        "<div class=\"alert alert-info\">\n",
        "<span style=\"color:brown\"\n",
        "      \n",
        "А вот это уже похоже на правду:\n",
        "\n",
        "На тарифе \"Смарт\" нулевых сессий гораздо больше, чем на \"Ультра\". Вероятно, это связано с тем, что **пользователи \"Смарта\" целиком выбирают предоплаченный пакет интернета, и если на счете нет денег - попытка использования интернет отображается как сессия с нулевым траффиком.**     "
      ]
    },
    {
      "cell_type": "code",
      "execution_count": null,
      "metadata": {
        "colab": {
          "base_uri": "https://localhost:8080/",
          "height": 206
        },
        "id": "Dlw6qosbu4P3",
        "outputId": "5909580b-1864-4d8f-94dc-bf8e69c10adb"
      },
      "outputs": [
        {
          "data": {
            "text/html": [
              "<div>\n",
              "<style scoped>\n",
              "    .dataframe tbody tr th:only-of-type {\n",
              "        vertical-align: middle;\n",
              "    }\n",
              "\n",
              "    .dataframe tbody tr th {\n",
              "        vertical-align: top;\n",
              "    }\n",
              "\n",
              "    .dataframe thead th {\n",
              "        text-align: right;\n",
              "    }\n",
              "</style>\n",
              "<table border=\"1\" class=\"dataframe\">\n",
              "  <thead>\n",
              "    <tr style=\"text-align: right;\">\n",
              "      <th></th>\n",
              "      <th>user_id</th>\n",
              "      <th>month</th>\n",
              "      <th>duration</th>\n",
              "      <th>mb_used</th>\n",
              "      <th>sms</th>\n",
              "    </tr>\n",
              "  </thead>\n",
              "  <tbody>\n",
              "    <tr>\n",
              "      <th>0</th>\n",
              "      <td>1000</td>\n",
              "      <td>5</td>\n",
              "      <td>159.0</td>\n",
              "      <td>2253.489990</td>\n",
              "      <td>22.0</td>\n",
              "    </tr>\n",
              "    <tr>\n",
              "      <th>1</th>\n",
              "      <td>1000</td>\n",
              "      <td>6</td>\n",
              "      <td>172.0</td>\n",
              "      <td>23233.769531</td>\n",
              "      <td>60.0</td>\n",
              "    </tr>\n",
              "    <tr>\n",
              "      <th>2</th>\n",
              "      <td>1000</td>\n",
              "      <td>7</td>\n",
              "      <td>340.0</td>\n",
              "      <td>14003.639648</td>\n",
              "      <td>75.0</td>\n",
              "    </tr>\n",
              "    <tr>\n",
              "      <th>3</th>\n",
              "      <td>1000</td>\n",
              "      <td>8</td>\n",
              "      <td>408.0</td>\n",
              "      <td>14055.929688</td>\n",
              "      <td>81.0</td>\n",
              "    </tr>\n",
              "    <tr>\n",
              "      <th>4</th>\n",
              "      <td>1000</td>\n",
              "      <td>9</td>\n",
              "      <td>466.0</td>\n",
              "      <td>14568.910156</td>\n",
              "      <td>57.0</td>\n",
              "    </tr>\n",
              "  </tbody>\n",
              "</table>\n",
              "</div>"
            ],
            "text/plain": [
              "   user_id  month  duration       mb_used   sms\n",
              "0     1000      5     159.0   2253.489990  22.0\n",
              "1     1000      6     172.0  23233.769531  60.0\n",
              "2     1000      7     340.0  14003.639648  75.0\n",
              "3     1000      8     408.0  14055.929688  81.0\n",
              "4     1000      9     466.0  14568.910156  57.0"
            ]
          },
          "metadata": {},
          "output_type": "display_data"
        }
      ],
      "source": [
        "usercalls = calls.groupby(['user_id', 'month']).agg({'duration':'sum'}).reset_index()\n",
        "usercalls.columns = ['user_id', 'month', 'duration']\n",
        "\n",
        "usertraffic = internet.groupby(['user_id', 'month']).agg({'mb_used':'sum'}).reset_index()   \n",
        "usertraffic.columns = ['user_id', 'month', 'mb_used']\n",
        "\n",
        "usersms = messages.groupby(['user_id', 'month']).agg({'id':'count'}).reset_index()\n",
        "usersms.columns = ['user_id', 'month', 'sms']\n",
        "\n",
        "monthly = usercalls.merge(usertraffic, on=['user_id', 'month'], how='outer').merge(usersms, on=['user_id', 'month'], how='outer')\n",
        "\n",
        "display(monthly.head(5))\n"
      ]
    },
    {
      "cell_type": "markdown",
      "metadata": {
        "id": "foVfNAtlhiun"
      },
      "source": [
        "## 3.2. Посчитаем ежемесячные затраты каждого пользователя на услуги связи с учетом тарифов и локации"
      ]
    },
    {
      "cell_type": "code",
      "execution_count": null,
      "metadata": {
        "colab": {
          "base_uri": "https://localhost:8080/",
          "height": 531
        },
        "id": "Bd789S4SD4qm",
        "outputId": "a8ad70df-e72b-4232-d8fc-656a9bf5403e"
      },
      "outputs": [
        {
          "data": {
            "text/html": [
              "<div>\n",
              "<style scoped>\n",
              "    .dataframe tbody tr th:only-of-type {\n",
              "        vertical-align: middle;\n",
              "    }\n",
              "\n",
              "    .dataframe tbody tr th {\n",
              "        vertical-align: top;\n",
              "    }\n",
              "\n",
              "    .dataframe thead th {\n",
              "        text-align: right;\n",
              "    }\n",
              "</style>\n",
              "<table border=\"1\" class=\"dataframe\">\n",
              "  <thead>\n",
              "    <tr style=\"text-align: right;\">\n",
              "      <th></th>\n",
              "      <th>user_id</th>\n",
              "      <th>city</th>\n",
              "      <th>tariff</th>\n",
              "      <th>month</th>\n",
              "      <th>duration</th>\n",
              "      <th>mb_used</th>\n",
              "      <th>sms</th>\n",
              "      <th>messages_included</th>\n",
              "      <th>mb_per_month_included</th>\n",
              "      <th>minutes_included</th>\n",
              "      <th>rub_monthly_fee</th>\n",
              "      <th>rub_per_gb</th>\n",
              "      <th>rub_per_message</th>\n",
              "      <th>rub_per_minute</th>\n",
              "    </tr>\n",
              "  </thead>\n",
              "  <tbody>\n",
              "    <tr>\n",
              "      <th>0</th>\n",
              "      <td>1000</td>\n",
              "      <td>Краснодар</td>\n",
              "      <td>ultra</td>\n",
              "      <td>5</td>\n",
              "      <td>159.0</td>\n",
              "      <td>2253.489990</td>\n",
              "      <td>22.0</td>\n",
              "      <td>1000</td>\n",
              "      <td>30720</td>\n",
              "      <td>3000</td>\n",
              "      <td>1950</td>\n",
              "      <td>150</td>\n",
              "      <td>1</td>\n",
              "      <td>1</td>\n",
              "    </tr>\n",
              "    <tr>\n",
              "      <th>1</th>\n",
              "      <td>1000</td>\n",
              "      <td>Краснодар</td>\n",
              "      <td>ultra</td>\n",
              "      <td>6</td>\n",
              "      <td>172.0</td>\n",
              "      <td>23233.769531</td>\n",
              "      <td>60.0</td>\n",
              "      <td>1000</td>\n",
              "      <td>30720</td>\n",
              "      <td>3000</td>\n",
              "      <td>1950</td>\n",
              "      <td>150</td>\n",
              "      <td>1</td>\n",
              "      <td>1</td>\n",
              "    </tr>\n",
              "    <tr>\n",
              "      <th>2</th>\n",
              "      <td>1000</td>\n",
              "      <td>Краснодар</td>\n",
              "      <td>ultra</td>\n",
              "      <td>7</td>\n",
              "      <td>340.0</td>\n",
              "      <td>14003.639648</td>\n",
              "      <td>75.0</td>\n",
              "      <td>1000</td>\n",
              "      <td>30720</td>\n",
              "      <td>3000</td>\n",
              "      <td>1950</td>\n",
              "      <td>150</td>\n",
              "      <td>1</td>\n",
              "      <td>1</td>\n",
              "    </tr>\n",
              "    <tr>\n",
              "      <th>3</th>\n",
              "      <td>1000</td>\n",
              "      <td>Краснодар</td>\n",
              "      <td>ultra</td>\n",
              "      <td>8</td>\n",
              "      <td>408.0</td>\n",
              "      <td>14055.929688</td>\n",
              "      <td>81.0</td>\n",
              "      <td>1000</td>\n",
              "      <td>30720</td>\n",
              "      <td>3000</td>\n",
              "      <td>1950</td>\n",
              "      <td>150</td>\n",
              "      <td>1</td>\n",
              "      <td>1</td>\n",
              "    </tr>\n",
              "    <tr>\n",
              "      <th>4</th>\n",
              "      <td>1000</td>\n",
              "      <td>Краснодар</td>\n",
              "      <td>ultra</td>\n",
              "      <td>9</td>\n",
              "      <td>466.0</td>\n",
              "      <td>14568.910156</td>\n",
              "      <td>57.0</td>\n",
              "      <td>1000</td>\n",
              "      <td>30720</td>\n",
              "      <td>3000</td>\n",
              "      <td>1950</td>\n",
              "      <td>150</td>\n",
              "      <td>1</td>\n",
              "      <td>1</td>\n",
              "    </tr>\n",
              "  </tbody>\n",
              "</table>\n",
              "</div>"
            ],
            "text/plain": [
              "   user_id       city tariff  month  duration       mb_used   sms  \\\n",
              "0     1000  Краснодар  ultra      5     159.0   2253.489990  22.0   \n",
              "1     1000  Краснодар  ultra      6     172.0  23233.769531  60.0   \n",
              "2     1000  Краснодар  ultra      7     340.0  14003.639648  75.0   \n",
              "3     1000  Краснодар  ultra      8     408.0  14055.929688  81.0   \n",
              "4     1000  Краснодар  ultra      9     466.0  14568.910156  57.0   \n",
              "\n",
              "   messages_included  mb_per_month_included  minutes_included  \\\n",
              "0               1000                  30720              3000   \n",
              "1               1000                  30720              3000   \n",
              "2               1000                  30720              3000   \n",
              "3               1000                  30720              3000   \n",
              "4               1000                  30720              3000   \n",
              "\n",
              "   rub_monthly_fee  rub_per_gb  rub_per_message  rub_per_minute  \n",
              "0             1950         150                1               1  \n",
              "1             1950         150                1               1  \n",
              "2             1950         150                1               1  \n",
              "3             1950         150                1               1  \n",
              "4             1950         150                1               1  "
            ]
          },
          "metadata": {},
          "output_type": "display_data"
        },
        {
          "data": {
            "text/plain": [
              "user_id                    0\n",
              "city                       0\n",
              "tariff                     0\n",
              "month                      0\n",
              "duration                  40\n",
              "mb_used                   11\n",
              "sms                      497\n",
              "messages_included          0\n",
              "mb_per_month_included      0\n",
              "minutes_included           0\n",
              "rub_monthly_fee            0\n",
              "rub_per_gb                 0\n",
              "rub_per_message            0\n",
              "rub_per_minute             0\n",
              "dtype: int64"
            ]
          },
          "metadata": {},
          "output_type": "display_data"
        }
      ],
      "source": [
        "user_ttl = users.merge(monthly, on='user_id')\n",
        "user_ttl = user_ttl.drop(columns=['age', 'churn_date', 'first_name', 'last_name', 'reg_date'])\n",
        "\n",
        "user_ttl = user_ttl.merge(tariffs, on='tariff')\n",
        "display(user_ttl.head(5))\n",
        "display(user_ttl.isna().sum())"
      ]
    },
    {
      "cell_type": "markdown",
      "metadata": {
        "id": "SXzMVotwDcxJ"
      },
      "source": [
        "У нас есть информация о факте расходования услуг связи и тарифы каждого из пользователей - можно определить среднемесячную выручку оператора от каждого пользователя, появившиеся пропуски в смс и траффике заменим на нулевые значения - эти услуги не использовались"
      ]
    },
    {
      "cell_type": "code",
      "execution_count": null,
      "metadata": {
        "id": "jlXabJIYRZJh"
      },
      "outputs": [],
      "source": [
        "user_ttl = user_ttl.fillna(0)\n",
        "\n",
        "user_ttl['user_revenue'] = 0\n",
        "def revenue(row): \n",
        "# takes information about the actual use of services for each user and returns their cost according to the tariff\n",
        "  user_revenue = row['user_revenue']\n",
        "  overmin = max(row['duration'] - row['minutes_included'], 0)\n",
        "  overnet = math.ceil(max(row['mb_used'] - row['mb_per_month_included'], 0)/1024)\n",
        "  oversms = max(row['sms'] - row['messages_included'], 0)\n",
        "  user_revenue = (row['rub_monthly_fee'] \n",
        "                  + overmin * row['rub_per_minute']\n",
        "                  + overnet * row['rub_per_gb']\n",
        "                  + oversms * row['rub_per_message'])\n",
        "  return user_revenue\n",
        "\n",
        "user_ttl['user_revenue'] = user_ttl.apply(revenue, axis= 1) \n",
        "\n",
        "user_ttl = user_ttl.drop(columns=['messages_included', 'rub_monthly_fee', 'mb_per_month_included', 'minutes_included', 'rub_per_gb', 'rub_per_message', 'rub_per_minute'])"
      ]
    },
    {
      "cell_type": "code",
      "execution_count": null,
      "metadata": {
        "colab": {
          "base_uri": "https://localhost:8080/",
          "height": 206
        },
        "id": "0tEDqSiNUdkc",
        "outputId": "b3907803-3035-4025-e565-d2d2c862c8a7"
      },
      "outputs": [
        {
          "data": {
            "text/html": [
              "<div>\n",
              "<style scoped>\n",
              "    .dataframe tbody tr th:only-of-type {\n",
              "        vertical-align: middle;\n",
              "    }\n",
              "\n",
              "    .dataframe tbody tr th {\n",
              "        vertical-align: top;\n",
              "    }\n",
              "\n",
              "    .dataframe thead th {\n",
              "        text-align: right;\n",
              "    }\n",
              "</style>\n",
              "<table border=\"1\" class=\"dataframe\">\n",
              "  <thead>\n",
              "    <tr style=\"text-align: right;\">\n",
              "      <th></th>\n",
              "      <th>user_id</th>\n",
              "      <th>city</th>\n",
              "      <th>tariff</th>\n",
              "      <th>month</th>\n",
              "      <th>duration</th>\n",
              "      <th>mb_used</th>\n",
              "      <th>sms</th>\n",
              "      <th>user_revenue</th>\n",
              "    </tr>\n",
              "  </thead>\n",
              "  <tbody>\n",
              "    <tr>\n",
              "      <th>0</th>\n",
              "      <td>1000</td>\n",
              "      <td>Краснодар</td>\n",
              "      <td>ultra</td>\n",
              "      <td>5</td>\n",
              "      <td>159.0</td>\n",
              "      <td>2253.489990</td>\n",
              "      <td>22.0</td>\n",
              "      <td>1950.0</td>\n",
              "    </tr>\n",
              "    <tr>\n",
              "      <th>1</th>\n",
              "      <td>1000</td>\n",
              "      <td>Краснодар</td>\n",
              "      <td>ultra</td>\n",
              "      <td>6</td>\n",
              "      <td>172.0</td>\n",
              "      <td>23233.769531</td>\n",
              "      <td>60.0</td>\n",
              "      <td>1950.0</td>\n",
              "    </tr>\n",
              "    <tr>\n",
              "      <th>2</th>\n",
              "      <td>1000</td>\n",
              "      <td>Краснодар</td>\n",
              "      <td>ultra</td>\n",
              "      <td>7</td>\n",
              "      <td>340.0</td>\n",
              "      <td>14003.639648</td>\n",
              "      <td>75.0</td>\n",
              "      <td>1950.0</td>\n",
              "    </tr>\n",
              "    <tr>\n",
              "      <th>3</th>\n",
              "      <td>1000</td>\n",
              "      <td>Краснодар</td>\n",
              "      <td>ultra</td>\n",
              "      <td>8</td>\n",
              "      <td>408.0</td>\n",
              "      <td>14055.929688</td>\n",
              "      <td>81.0</td>\n",
              "      <td>1950.0</td>\n",
              "    </tr>\n",
              "    <tr>\n",
              "      <th>4</th>\n",
              "      <td>1000</td>\n",
              "      <td>Краснодар</td>\n",
              "      <td>ultra</td>\n",
              "      <td>9</td>\n",
              "      <td>466.0</td>\n",
              "      <td>14568.910156</td>\n",
              "      <td>57.0</td>\n",
              "      <td>1950.0</td>\n",
              "    </tr>\n",
              "  </tbody>\n",
              "</table>\n",
              "</div>"
            ],
            "text/plain": [
              "   user_id       city tariff  month  duration       mb_used   sms  \\\n",
              "0     1000  Краснодар  ultra      5     159.0   2253.489990  22.0   \n",
              "1     1000  Краснодар  ultra      6     172.0  23233.769531  60.0   \n",
              "2     1000  Краснодар  ultra      7     340.0  14003.639648  75.0   \n",
              "3     1000  Краснодар  ultra      8     408.0  14055.929688  81.0   \n",
              "4     1000  Краснодар  ultra      9     466.0  14568.910156  57.0   \n",
              "\n",
              "   user_revenue  \n",
              "0        1950.0  \n",
              "1        1950.0  \n",
              "2        1950.0  \n",
              "3        1950.0  \n",
              "4        1950.0  "
            ]
          },
          "metadata": {},
          "output_type": "display_data"
        }
      ],
      "source": [
        "display(user_ttl.head(5))"
      ]
    },
    {
      "cell_type": "markdown",
      "metadata": {
        "id": "gNGH61DhVejs"
      },
      "source": [
        "теперь все данные для анализа в одной удобной таблице, можно переходить к следующему этапу \n"
      ]
    },
    {
      "cell_type": "markdown",
      "metadata": {
        "id": "pdDftVdzYz83"
      },
      "source": [
        "# 4. Анализ данных"
      ]
    },
    {
      "cell_type": "markdown",
      "metadata": {
        "id": "GAbi0mYqZio4"
      },
      "source": [
        "4.1 Для каждого из тарифов установим среднее количество, дисперсию и стандартное отклонение по объемам потребления категорий: интернет, звонки, смс"
      ]
    },
    {
      "cell_type": "code",
      "execution_count": null,
      "metadata": {
        "colab": {
          "base_uri": "https://localhost:8080/",
          "height": 175
        },
        "id": "HvuPeSPVZuW1",
        "outputId": "19f1be34-56d7-435f-c64f-976d6cdbc604"
      },
      "outputs": [
        {
          "data": {
            "text/html": [
              "<div>\n",
              "<style scoped>\n",
              "    .dataframe tbody tr th:only-of-type {\n",
              "        vertical-align: middle;\n",
              "    }\n",
              "\n",
              "    .dataframe tbody tr th {\n",
              "        vertical-align: top;\n",
              "    }\n",
              "\n",
              "    .dataframe thead tr th {\n",
              "        text-align: left;\n",
              "    }\n",
              "\n",
              "    .dataframe thead tr:last-of-type th {\n",
              "        text-align: right;\n",
              "    }\n",
              "</style>\n",
              "<table border=\"1\" class=\"dataframe\">\n",
              "  <thead>\n",
              "    <tr>\n",
              "      <th></th>\n",
              "      <th colspan=\"3\" halign=\"left\">mean</th>\n",
              "      <th colspan=\"3\" halign=\"left\">var</th>\n",
              "      <th colspan=\"3\" halign=\"left\">std</th>\n",
              "    </tr>\n",
              "    <tr>\n",
              "      <th></th>\n",
              "      <th>duration</th>\n",
              "      <th>mb_used</th>\n",
              "      <th>sms</th>\n",
              "      <th>duration</th>\n",
              "      <th>mb_used</th>\n",
              "      <th>sms</th>\n",
              "      <th>duration</th>\n",
              "      <th>mb_used</th>\n",
              "      <th>sms</th>\n",
              "    </tr>\n",
              "    <tr>\n",
              "      <th>tariff</th>\n",
              "      <th></th>\n",
              "      <th></th>\n",
              "      <th></th>\n",
              "      <th></th>\n",
              "      <th></th>\n",
              "      <th></th>\n",
              "      <th></th>\n",
              "      <th></th>\n",
              "      <th></th>\n",
              "    </tr>\n",
              "  </thead>\n",
              "  <tbody>\n",
              "    <tr>\n",
              "      <th>smart</th>\n",
              "      <td>417.93</td>\n",
              "      <td>16,208.39</td>\n",
              "      <td>33.38</td>\n",
              "      <td>36,219.32</td>\n",
              "      <td>34,462,496.00</td>\n",
              "      <td>796.81</td>\n",
              "      <td>190.31</td>\n",
              "      <td>5,870.48</td>\n",
              "      <td>28.23</td>\n",
              "    </tr>\n",
              "    <tr>\n",
              "      <th>ultra</th>\n",
              "      <td>526.62</td>\n",
              "      <td>19,468.80</td>\n",
              "      <td>49.36</td>\n",
              "      <td>100,873.63</td>\n",
              "      <td>101,751,016.00</td>\n",
              "      <td>2,285.27</td>\n",
              "      <td>317.61</td>\n",
              "      <td>10,087.17</td>\n",
              "      <td>47.80</td>\n",
              "    </tr>\n",
              "  </tbody>\n",
              "</table>\n",
              "</div>"
            ],
            "text/plain": [
              "           mean                        var                              std  \\\n",
              "       duration   mb_used   sms   duration        mb_used      sms duration   \n",
              "tariff                                                                        \n",
              "smart    417.93 16,208.39 33.38  36,219.32  34,462,496.00   796.81   190.31   \n",
              "ultra    526.62 19,468.80 49.36 100,873.63 101,751,016.00 2,285.27   317.61   \n",
              "\n",
              "                        \n",
              "         mb_used   sms  \n",
              "tariff                  \n",
              "smart   5,870.48 28.23  \n",
              "ultra  10,087.17 47.80  "
            ]
          },
          "execution_count": 21,
          "metadata": {},
          "output_type": "execute_result"
        }
      ],
      "source": [
        "pd.options.display.float_format = '{:,.2f}'.format\n",
        "user_ttl.pivot_table(index='tariff',\n",
        "                     values=['duration', 'mb_used', 'sms'],\n",
        "                     aggfunc=['mean', 'var', 'std'])\n"
      ]
    },
    {
      "cell_type": "markdown",
      "metadata": {
        "id": "dZ0XbsbZfJVJ"
      },
      "source": [
        "Пользователи тарифа \"Ультра\" используют больше услуг, чем пользователи\"Смарт\"\n",
        "\n",
        "Дисперсия для всех услуг на тарифе \"Ультра\" значительно выше, чем на \"Смарте\", стандартное отклонение \"Ультра\" примерно вдвое выше чем на \"Смарте\" и сопоставимо с тарифным пакетом. \n",
        "\n",
        "При этом пользователи \"Ультра\" в среднем вкладываются в тариф, а пользователи \"Смарта\" в среднем используют больше интернета, чем предусмотрено пакетом"
      ]
    },
    {
      "cell_type": "markdown",
      "metadata": {
        "id": "RpAKPuDnBYFT"
      },
      "source": [
        "<div class=\"alert alert-info\">\n",
        "<span style=\"color:brown\"    \n",
        "      \n",
        "Хорошо, использую для этого матрицы корреляции: мало кода, гистограммы рядышком, заодно проверим еще раз вывод о нулевых интернет-сесссиях"
      ]
    },
    {
      "cell_type": "code",
      "execution_count": null,
      "metadata": {
        "id": "gkGDpt8QBYFT"
      },
      "outputs": [],
      "source": [
        "ultra = user_ttl.query('tariff == \"ultra\"')[['duration', 'mb_used', 'sms']]\n",
        "smart = user_ttl.query('tariff == \"smart\"')[['duration', 'mb_used', 'sms']]"
      ]
    },
    {
      "cell_type": "code",
      "execution_count": null,
      "metadata": {
        "id": "5gcNRvCSBYFU",
        "outputId": "8e69a93f-3e01-44ad-cd17-59f7494b5554"
      },
      "outputs": [
        {
          "data": {
            "image/png": "[encoded data removed]",
            "text/plain": [
              "<Figure size 720x720 with 9 Axes>"
            ]
          },
          "metadata": {},
          "output_type": "display_data"
        }
      ],
      "source": [
        "pd.plotting.scatter_matrix(ultra, figsize=(10, 10)) \n",
        "plt.suptitle('матрица корреляции услуг тарифа Ультра', size=15)\n",
        "plt.show()"
      ]
    },
    {
      "cell_type": "code",
      "execution_count": null,
      "metadata": {
        "id": "8Ix8GgpgBYFU",
        "outputId": "58021cc9-8e62-461c-d939-69400f17a1ec"
      },
      "outputs": [
        {
          "data": {
            "image/png": "[encoded data removed]",
            "text/plain": [
              "<Figure size 720x720 with 9 Axes>"
            ]
          },
          "metadata": {},
          "output_type": "display_data"
        }
      ],
      "source": [
        "pd.plotting.scatter_matrix(smart, figsize=(10, 10)) \n",
        "plt.suptitle('матрица корреляции услуг тарифа Смарт', size=15)\n",
        "plt.show()"
      ]
    },
    {
      "cell_type": "markdown",
      "metadata": {
        "id": "7emOGGyDBYFV"
      },
      "source": [
        "<div class=\"alert alert-info\">\n",
        "<span style=\"color:brown\"\n",
        "      \n",
        "**Выводы из графиков:**\n",
        "    \n",
        "- поведение пользователей Смарт более предсказуемо чем поведение Ультра: на диаграммах рассеяния четко выделяются концентрации точек, а гистограммы Смарт с более высоким колоколом, ближе к нормальному распределению \n",
        "- распределение потребления СМС не зависит от тарифа - ими одинаково мало пользуются все пользователи\n",
        "- Типичные пользователи Смарт и Ультра тратят почти одинаковое количество интернет-трафика - около 20 тыс. Мб, Это значит что пользователи Смарт регулярно доплачивают за сверхлимитный трафик (и это подтверждает наличие в этом тарифе большого количества нулевых сессий, которые отлично видны на диаграммах рассеяния)\n",
        "\n",
        "    "
      ]
    },
    {
      "cell_type": "markdown",
      "metadata": {
        "id": "rFfXK3NajIdk"
      },
      "source": [
        "## 4.2. Проверим гипотезу о том, что средняя выручка пользователей разных тарифов различается\n",
        "Для этого сформулируем нулевую гипотезу на основе равенства средней выручки в тарифах:\n",
        "\n",
        "**Нулевая гипотеза**: средняя выручка пользователей тарифов \"Ультра\" и \"Смарт\" - равна. \n",
        "\n",
        "Если нулевая гипотеза не будет доказана - значит верна альтернативная.\n",
        "\n",
        "**Альтернативная гипотеза\"**: средняя выручка пользователей тарифов \"Ультра\" и \"Смарт\" различается\n",
        "\n",
        "зададим `alpha = 0.05` , что соответствует 5% вероятности ошибки в выводе о принятии нулевой гипотезы"
      ]
    },
    {
      "cell_type": "code",
      "execution_count": null,
      "metadata": {
        "colab": {
          "base_uri": "https://localhost:8080/"
        },
        "id": "ht8bTZKuoDWj",
        "outputId": "19e993e6-d6b2-474b-af0d-4aaa9f9ab867"
      },
      "outputs": [
        {
          "name": "stdout",
          "output_type": "stream",
          "text": [
            "p-значение = 4.2606313931076085e-250\n",
            "Отвергаем нулевую гипотезу\n"
          ]
        }
      ],
      "source": [
        "alpha = 0.05\n",
        "tstat, pvalue = ttest_ind(user_ttl[user_ttl.tariff == 'ultra'].user_revenue, \n",
        "                          user_ttl[user_ttl.tariff == 'smart'].user_revenue,\n",
        "                          equal_var=False)\n",
        "print('p-значение =', pvalue)\n",
        "if pvalue < alpha:\n",
        "  print('Отвергаем нулевую гипотезу')\n",
        "else:\n",
        "  print('Не получилось отвергнуть нулевую гипотезу')"
      ]
    },
    {
      "cell_type": "markdown",
      "metadata": {
        "id": "RzpXQwxuvozr"
      },
      "source": [
        "**ВЫВОД**: Средняя выручка пользователей разных тарифов отличается"
      ]
    },
    {
      "cell_type": "markdown",
      "metadata": {
        "id": "T1BdUM1ojQjg"
      },
      "source": [
        "## 4.3 Проверим гипотезу о том что выручка пользователей из Москвы отличается от других регионов:\n",
        "Для этого сформулируем нулевую гипотезу на основе равенства средней выручки для Москвы и остальных:\n",
        "\n",
        "Нулевая гипотеза: средняя выручка пользователей из Москвы и пользователей из остальных регионов - равна.\n",
        "\n",
        "Если нулевая гипотеза не будет доказана - значит верна альтернативная.\n",
        "\n",
        "Альтернативная гипотеза\": средняя выручка пользователей из Москвы и других регионов различается\n",
        "\n",
        "зададим alpha = 0.05 , что соответствует 5% вероятности ошибки в выводе о принятии нулевой гипотезы\n"
      ]
    },
    {
      "cell_type": "code",
      "execution_count": null,
      "metadata": {
        "colab": {
          "base_uri": "https://localhost:8080/"
        },
        "id": "zS1Zs68awS5D",
        "outputId": "9d23ff33-0974-4407-bbcd-4e26aba5da41"
      },
      "outputs": [
        {
          "name": "stdout",
          "output_type": "stream",
          "text": [
            "p-значение = 0.5989670526299276\n",
            "Не получилось отвергнуть нулевую гипотезу\n"
          ]
        }
      ],
      "source": [
        "alpha = 0.05\n",
        "tstat, pvalue = ttest_ind(user_ttl[user_ttl.city == 'Москва'].user_revenue, \n",
        "                          user_ttl[user_ttl.tariff != 'Москва'].user_revenue,\n",
        "                          equal_var=False)\n",
        "print('p-значение =', pvalue)\n",
        "if pvalue < alpha:\n",
        "  print('Отвергаем нулевую гипотезу')\n",
        "else:\n",
        "  print('Не получилось отвергнуть нулевую гипотезу')"
      ]
    },
    {
      "cell_type": "markdown",
      "metadata": {
        "id": "b85FDpPmxh39"
      },
      "source": [
        "**ВЫВОД**: Средняя выручка пользователя в Москве такая же как и средняя выручка по остальным регионам"
      ]
    },
    {
      "cell_type": "markdown",
      "metadata": {
        "id": "Azg8GqONjSS5"
      },
      "source": [
        "## 4.4 Выбор приоритетного тарифа для продвижения\n"
      ]
    },
    {
      "cell_type": "code",
      "execution_count": null,
      "metadata": {
        "colab": {
          "base_uri": "https://localhost:8080/",
          "height": 279
        },
        "id": "Uv_L7xSB2UCu",
        "outputId": "228f4056-d8e5-4a5c-b3e7-49a93ba66f18"
      },
      "outputs": [
        {
          "data": {
            "image/png": "[encoded data removed]",
            "text/plain": [
              "<Figure size 432x288 with 1 Axes>"
            ]
          },
          "metadata": {},
          "output_type": "display_data"
        }
      ],
      "source": [
        "sns.histplot(data=user_ttl, x='user_revenue', hue='tariff')\n",
        "plt.show()"
      ]
    },
    {
      "cell_type": "markdown",
      "metadata": {
        "id": "fwMogfmK0KQ0"
      },
      "source": [
        "Мы выяснили следующие факты относительно тарифов:\n",
        "\n",
        "- Средняя выручка с клиента в месяц на тарифе \"Ультра\" выше, чем на \"Смарт\" на 60%\n",
        "- Разница в абоненсткой плате тарифов при этом -  почти четырехкратная \n",
        "- Большинство пользователей \"Ультра\" укладываются в тарифные пакеты, а пользователи \"Смарт\" часто пользуются сверхлимитными услугами\n",
        "- Большинство пользователей независимо от тарифа укладываются в тарифные пакеты \"Ультра\", и не укладываются в пакеты \"Смарт\"\n",
        "\n",
        "**Из предложенных тарифов выгоднее продвигать \"Ультра\"**, т.к. средний пользователь независимо от тарифа на этом тарифном плане принесет больше выручки. \n"
      ]
    },
    {
      "cell_type": "markdown",
      "metadata": {
        "id": "0a_dFuqg8QUf"
      },
      "source": [
        "# ВЫВОДЫ:\n",
        "1. Проведен анализ данных по использованию услуг связи на двух тарифах компании \"Мегалайн\". Выборка данных является корректной, на ее основе можно делать дальнейшие исследования\n",
        "2. Выручка пользователей на различных тарифных планах значительно отличается\n",
        "3. Выручка пользователей не зависит от выбранного региона\n",
        "Наиболее доходный из предложенных - тарифный план \"Ультра\"\n",
        "\n",
        "С точки зрения продвижения предложенных данных недостаточно для выводов:\n",
        "- нет информации о конкурентном рынке, поэтому выводы можно сделать только допуская что предложенные два тарифа - единственная возможность связи для абонентов. \n",
        "\n",
        "- в процессе исследований мы учитывали потребление услуг связи за календарный месяц, без учета начала и окончания договора, предполагая что оба тарифа работали в одинаковых условиях (давно на рынке, не продвигались в период выборки)\n",
        "\n",
        "- между двумя тарифами значительная разница в абонплате и гораздо меньшая разница в объемах потребления. На рынке с высокой конкуренцией вероятно потребуется промежуточный тариф, разработанный для покупателей с ежемесячными затратами на услуги связи от 800 до 1500 руб, иначе великка вероятность оттока пользователей. На рынке с низкой конкуренцией внедрение третьего тарифа наоборот может привести к потере доходности. \n",
        "\n",
        "<div class=\"alert alert-info\">\n",
        "<span style=\"color:brown\">\n",
        "    \n",
        "**Дополнительные выводы:**\n",
        "\n",
        "Пользователи Смарт регулярно используют сверхлимитный интернет-трафик, увеличив стоимость сверхлимитного трафика на них, можно повысить доходность тарифа смарт, сохранив его визуальную привлекательность. \n",
        "    \n",
        "Для конкурентного рынка сохраняется рекомендация - разработать тариф для промежуточного сегмента покупателей\n"
      ]
    }
  ],
  "metadata": {
    "ExecuteTimeLog": [
      {
        "duration": 1140,
        "start_time": "2022-03-16T15:48:02.079Z"
      },
      {
        "duration": 382,
        "start_time": "2022-03-16T15:48:03.220Z"
      },
      {
        "duration": 22,
        "start_time": "2022-03-16T15:48:03.607Z"
      },
      {
        "duration": 4,
        "start_time": "2022-03-16T15:48:03.631Z"
      },
      {
        "duration": 29,
        "start_time": "2022-03-16T15:48:03.637Z"
      },
      {
        "duration": 62,
        "start_time": "2022-03-16T15:48:03.668Z"
      },
      {
        "duration": 285,
        "start_time": "2022-03-16T15:48:03.733Z"
      },
      {
        "duration": 57,
        "start_time": "2022-03-16T15:48:04.020Z"
      },
      {
        "duration": 100,
        "start_time": "2022-03-16T15:48:04.079Z"
      },
      {
        "duration": 91,
        "start_time": "2022-03-16T15:48:04.181Z"
      },
      {
        "duration": 15,
        "start_time": "2022-03-16T15:48:04.274Z"
      },
      {
        "duration": 19,
        "start_time": "2022-03-16T15:48:04.291Z"
      },
      {
        "duration": 96,
        "start_time": "2022-03-16T15:48:04.313Z"
      },
      {
        "duration": 30,
        "start_time": "2022-03-16T15:48:04.411Z"
      },
      {
        "duration": 258,
        "start_time": "2022-03-16T15:48:04.461Z"
      },
      {
        "duration": 13,
        "start_time": "2022-03-16T15:48:04.721Z"
      },
      {
        "duration": 49,
        "start_time": "2022-03-16T15:48:04.736Z"
      },
      {
        "duration": 11,
        "start_time": "2022-03-16T15:48:04.787Z"
      },
      {
        "duration": 11,
        "start_time": "2022-03-16T15:48:04.800Z"
      },
      {
        "duration": 241,
        "start_time": "2022-03-16T15:48:04.813Z"
      },
      {
        "duration": 260,
        "start_time": "2022-03-16T15:48:18.045Z"
      },
      {
        "duration": 105136,
        "start_time": "2022-03-16T15:48:36.043Z"
      },
      {
        "duration": 18431,
        "start_time": "2022-03-16T15:57:39.620Z"
      },
      {
        "duration": 1131,
        "start_time": "2022-03-16T15:57:58.053Z"
      },
      {
        "duration": 385,
        "start_time": "2022-03-16T15:57:59.186Z"
      },
      {
        "duration": 23,
        "start_time": "2022-03-16T15:57:59.574Z"
      },
      {
        "duration": 29,
        "start_time": "2022-03-16T15:57:59.599Z"
      },
      {
        "duration": 49,
        "start_time": "2022-03-16T15:57:59.630Z"
      },
      {
        "duration": 51,
        "start_time": "2022-03-16T15:57:59.682Z"
      },
      {
        "duration": 208,
        "start_time": "2022-03-16T15:57:59.735Z"
      },
      {
        "duration": 46,
        "start_time": "2022-03-16T15:57:59.946Z"
      },
      {
        "duration": 106,
        "start_time": "2022-03-16T15:57:59.994Z"
      },
      {
        "duration": 76,
        "start_time": "2022-03-16T15:58:00.103Z"
      },
      {
        "duration": 12,
        "start_time": "2022-03-16T15:58:00.181Z"
      },
      {
        "duration": 21,
        "start_time": "2022-03-16T15:58:00.195Z"
      },
      {
        "duration": 87,
        "start_time": "2022-03-16T15:58:00.218Z"
      },
      {
        "duration": 30,
        "start_time": "2022-03-16T15:58:00.307Z"
      },
      {
        "duration": 271,
        "start_time": "2022-03-16T15:58:00.339Z"
      },
      {
        "duration": 12,
        "start_time": "2022-03-16T15:58:00.612Z"
      },
      {
        "duration": 60,
        "start_time": "2022-03-16T15:58:00.626Z"
      },
      {
        "duration": 11,
        "start_time": "2022-03-16T15:58:00.688Z"
      },
      {
        "duration": 13,
        "start_time": "2022-03-16T15:58:00.701Z"
      },
      {
        "duration": 475,
        "start_time": "2022-03-16T15:58:00.716Z"
      },
      {
        "duration": 1534,
        "start_time": "2022-03-17T06:45:16.757Z"
      },
      {
        "duration": 147,
        "start_time": "2022-03-17T06:45:18.294Z"
      },
      {
        "duration": 0,
        "start_time": "2022-03-17T06:45:18.443Z"
      },
      {
        "duration": 0,
        "start_time": "2022-03-17T06:45:18.445Z"
      },
      {
        "duration": 0,
        "start_time": "2022-03-17T06:45:18.446Z"
      },
      {
        "duration": 0,
        "start_time": "2022-03-17T06:45:18.447Z"
      },
      {
        "duration": 0,
        "start_time": "2022-03-17T06:45:18.448Z"
      },
      {
        "duration": 0,
        "start_time": "2022-03-17T06:45:18.449Z"
      },
      {
        "duration": 0,
        "start_time": "2022-03-17T06:45:18.450Z"
      },
      {
        "duration": 0,
        "start_time": "2022-03-17T06:45:18.451Z"
      },
      {
        "duration": 0,
        "start_time": "2022-03-17T06:45:18.452Z"
      },
      {
        "duration": 1,
        "start_time": "2022-03-17T06:45:18.453Z"
      },
      {
        "duration": 0,
        "start_time": "2022-03-17T06:45:18.455Z"
      },
      {
        "duration": 0,
        "start_time": "2022-03-17T06:45:18.457Z"
      },
      {
        "duration": 0,
        "start_time": "2022-03-17T06:45:18.458Z"
      },
      {
        "duration": 0,
        "start_time": "2022-03-17T06:45:18.460Z"
      },
      {
        "duration": 0,
        "start_time": "2022-03-17T06:45:18.461Z"
      },
      {
        "duration": 0,
        "start_time": "2022-03-17T06:45:18.462Z"
      },
      {
        "duration": 0,
        "start_time": "2022-03-17T06:45:18.463Z"
      },
      {
        "duration": 0,
        "start_time": "2022-03-17T06:45:18.465Z"
      },
      {
        "duration": 1341,
        "start_time": "2022-03-17T06:50:07.019Z"
      },
      {
        "duration": 135,
        "start_time": "2022-03-17T06:50:08.362Z"
      },
      {
        "duration": 0,
        "start_time": "2022-03-17T06:50:08.500Z"
      },
      {
        "duration": 0,
        "start_time": "2022-03-17T06:50:08.501Z"
      },
      {
        "duration": 0,
        "start_time": "2022-03-17T06:50:08.503Z"
      },
      {
        "duration": 0,
        "start_time": "2022-03-17T06:50:08.505Z"
      },
      {
        "duration": 0,
        "start_time": "2022-03-17T06:50:08.506Z"
      },
      {
        "duration": 0,
        "start_time": "2022-03-17T06:50:08.508Z"
      },
      {
        "duration": 0,
        "start_time": "2022-03-17T06:50:08.510Z"
      },
      {
        "duration": 0,
        "start_time": "2022-03-17T06:50:08.511Z"
      },
      {
        "duration": 0,
        "start_time": "2022-03-17T06:50:08.512Z"
      },
      {
        "duration": 0,
        "start_time": "2022-03-17T06:50:08.513Z"
      },
      {
        "duration": 0,
        "start_time": "2022-03-17T06:50:08.514Z"
      },
      {
        "duration": 0,
        "start_time": "2022-03-17T06:50:08.514Z"
      },
      {
        "duration": 0,
        "start_time": "2022-03-17T06:50:08.537Z"
      },
      {
        "duration": 0,
        "start_time": "2022-03-17T06:50:08.538Z"
      },
      {
        "duration": 0,
        "start_time": "2022-03-17T06:50:08.540Z"
      },
      {
        "duration": 0,
        "start_time": "2022-03-17T06:50:08.541Z"
      },
      {
        "duration": 0,
        "start_time": "2022-03-17T06:50:08.543Z"
      },
      {
        "duration": 0,
        "start_time": "2022-03-17T06:50:08.545Z"
      },
      {
        "duration": 1233,
        "start_time": "2022-03-17T06:51:20.423Z"
      },
      {
        "duration": 549,
        "start_time": "2022-03-17T06:51:21.659Z"
      },
      {
        "duration": 37,
        "start_time": "2022-03-17T06:51:22.210Z"
      },
      {
        "duration": 5,
        "start_time": "2022-03-17T06:51:22.249Z"
      },
      {
        "duration": 21,
        "start_time": "2022-03-17T06:51:22.256Z"
      },
      {
        "duration": 71,
        "start_time": "2022-03-17T06:51:22.279Z"
      },
      {
        "duration": 177,
        "start_time": "2022-03-17T06:51:22.352Z"
      },
      {
        "duration": 43,
        "start_time": "2022-03-17T06:51:22.531Z"
      },
      {
        "duration": 92,
        "start_time": "2022-03-17T06:51:22.576Z"
      },
      {
        "duration": 79,
        "start_time": "2022-03-17T06:51:22.671Z"
      },
      {
        "duration": 18,
        "start_time": "2022-03-17T06:51:22.752Z"
      },
      {
        "duration": 13,
        "start_time": "2022-03-17T06:51:22.772Z"
      },
      {
        "duration": 103,
        "start_time": "2022-03-17T06:51:22.787Z"
      },
      {
        "duration": 42,
        "start_time": "2022-03-17T06:51:22.892Z"
      },
      {
        "duration": 141,
        "start_time": "2022-03-17T06:51:22.937Z"
      },
      {
        "duration": 12,
        "start_time": "2022-03-17T06:51:23.080Z"
      },
      {
        "duration": 53,
        "start_time": "2022-03-17T06:51:23.094Z"
      },
      {
        "duration": 9,
        "start_time": "2022-03-17T06:51:23.149Z"
      },
      {
        "duration": 16,
        "start_time": "2022-03-17T06:51:23.160Z"
      },
      {
        "duration": 372,
        "start_time": "2022-03-17T06:51:23.178Z"
      },
      {
        "duration": 1217,
        "start_time": "2022-03-17T06:58:29.789Z"
      },
      {
        "duration": 561,
        "start_time": "2022-03-17T06:58:31.008Z"
      },
      {
        "duration": 30,
        "start_time": "2022-03-17T06:58:31.571Z"
      },
      {
        "duration": 5,
        "start_time": "2022-03-17T06:58:31.603Z"
      },
      {
        "duration": 35,
        "start_time": "2022-03-17T06:58:31.609Z"
      },
      {
        "duration": 50,
        "start_time": "2022-03-17T06:58:31.646Z"
      },
      {
        "duration": 151,
        "start_time": "2022-03-17T06:58:31.698Z"
      },
      {
        "duration": 48,
        "start_time": "2022-03-17T06:58:31.851Z"
      },
      {
        "duration": 75,
        "start_time": "2022-03-17T06:58:31.901Z"
      },
      {
        "duration": 66,
        "start_time": "2022-03-17T06:58:31.979Z"
      },
      {
        "duration": 18,
        "start_time": "2022-03-17T06:58:32.048Z"
      },
      {
        "duration": 14,
        "start_time": "2022-03-17T06:58:32.068Z"
      },
      {
        "duration": 96,
        "start_time": "2022-03-17T06:58:32.084Z"
      },
      {
        "duration": 30,
        "start_time": "2022-03-17T06:58:32.183Z"
      },
      {
        "duration": 139,
        "start_time": "2022-03-17T06:58:32.233Z"
      },
      {
        "duration": 12,
        "start_time": "2022-03-17T06:58:32.374Z"
      },
      {
        "duration": 55,
        "start_time": "2022-03-17T06:58:32.389Z"
      },
      {
        "duration": 9,
        "start_time": "2022-03-17T06:58:32.446Z"
      },
      {
        "duration": 17,
        "start_time": "2022-03-17T06:58:32.457Z"
      },
      {
        "duration": 365,
        "start_time": "2022-03-17T06:58:32.476Z"
      },
      {
        "duration": 1659,
        "start_time": "2022-03-17T09:26:54.318Z"
      },
      {
        "duration": 980,
        "start_time": "2022-03-17T09:26:55.979Z"
      },
      {
        "duration": 39,
        "start_time": "2022-03-17T09:26:56.962Z"
      },
      {
        "duration": 6,
        "start_time": "2022-03-17T09:26:57.004Z"
      },
      {
        "duration": 40,
        "start_time": "2022-03-17T09:26:57.012Z"
      },
      {
        "duration": 78,
        "start_time": "2022-03-17T09:26:57.055Z"
      },
      {
        "duration": 250,
        "start_time": "2022-03-17T09:26:57.135Z"
      },
      {
        "duration": 48,
        "start_time": "2022-03-17T09:26:57.388Z"
      },
      {
        "duration": 87,
        "start_time": "2022-03-17T09:26:57.438Z"
      },
      {
        "duration": 78,
        "start_time": "2022-03-17T09:26:57.529Z"
      },
      {
        "duration": 26,
        "start_time": "2022-03-17T09:26:57.609Z"
      },
      {
        "duration": 50,
        "start_time": "2022-03-17T09:26:57.637Z"
      },
      {
        "duration": 107,
        "start_time": "2022-03-17T09:26:57.689Z"
      },
      {
        "duration": 41,
        "start_time": "2022-03-17T09:26:57.799Z"
      },
      {
        "duration": 230,
        "start_time": "2022-03-17T09:26:57.843Z"
      },
      {
        "duration": 22,
        "start_time": "2022-03-17T09:26:58.075Z"
      },
      {
        "duration": 119,
        "start_time": "2022-03-17T09:26:58.099Z"
      },
      {
        "duration": 11,
        "start_time": "2022-03-17T09:26:58.220Z"
      },
      {
        "duration": 12,
        "start_time": "2022-03-17T09:26:58.233Z"
      },
      {
        "duration": 540,
        "start_time": "2022-03-17T09:26:58.247Z"
      },
      {
        "duration": 14,
        "start_time": "2022-03-17T09:32:02.603Z"
      },
      {
        "duration": 441,
        "start_time": "2022-03-17T10:07:37.790Z"
      },
      {
        "duration": 19,
        "start_time": "2022-03-17T10:07:45.613Z"
      },
      {
        "duration": 10,
        "start_time": "2022-03-17T10:11:30.242Z"
      },
      {
        "duration": 1131,
        "start_time": "2022-03-17T10:13:22.702Z"
      },
      {
        "duration": 34,
        "start_time": "2022-03-17T10:14:11.338Z"
      },
      {
        "duration": 695,
        "start_time": "2022-03-17T10:14:33.513Z"
      },
      {
        "duration": 1652,
        "start_time": "2022-03-17T10:15:05.831Z"
      },
      {
        "duration": 661,
        "start_time": "2022-03-17T10:15:07.487Z"
      },
      {
        "duration": 54,
        "start_time": "2022-03-17T10:15:08.152Z"
      },
      {
        "duration": 8,
        "start_time": "2022-03-17T10:15:08.210Z"
      },
      {
        "duration": 39,
        "start_time": "2022-03-17T10:15:08.221Z"
      },
      {
        "duration": 68,
        "start_time": "2022-03-17T10:15:08.286Z"
      },
      {
        "duration": 274,
        "start_time": "2022-03-17T10:15:08.357Z"
      },
      {
        "duration": 83,
        "start_time": "2022-03-17T10:15:08.634Z"
      },
      {
        "duration": 101,
        "start_time": "2022-03-17T10:15:08.719Z"
      },
      {
        "duration": 100,
        "start_time": "2022-03-17T10:15:08.826Z"
      },
      {
        "duration": 53,
        "start_time": "2022-03-17T10:15:08.929Z"
      },
      {
        "duration": 34,
        "start_time": "2022-03-17T10:15:08.986Z"
      },
      {
        "duration": 18,
        "start_time": "2022-03-17T10:15:09.025Z"
      },
      {
        "duration": 34539,
        "start_time": "2022-03-17T10:15:09.045Z"
      },
      {
        "duration": 137,
        "start_time": "2022-03-17T10:15:43.586Z"
      },
      {
        "duration": 56,
        "start_time": "2022-03-17T10:15:43.726Z"
      },
      {
        "duration": 302,
        "start_time": "2022-03-17T10:15:43.785Z"
      },
      {
        "duration": 24,
        "start_time": "2022-03-17T10:15:44.090Z"
      },
      {
        "duration": 90,
        "start_time": "2022-03-17T10:15:44.117Z"
      },
      {
        "duration": 13,
        "start_time": "2022-03-17T10:15:44.210Z"
      },
      {
        "duration": 13,
        "start_time": "2022-03-17T10:15:44.226Z"
      },
      {
        "duration": 672,
        "start_time": "2022-03-17T10:15:44.242Z"
      },
      {
        "duration": 601,
        "start_time": "2022-03-17T10:17:12.152Z"
      },
      {
        "duration": 774,
        "start_time": "2022-03-17T10:27:55.993Z"
      },
      {
        "duration": 495,
        "start_time": "2022-03-17T10:28:33.218Z"
      },
      {
        "duration": 456,
        "start_time": "2022-03-17T10:28:36.440Z"
      },
      {
        "duration": 27,
        "start_time": "2022-03-17T10:30:01.602Z"
      },
      {
        "duration": 19,
        "start_time": "2022-03-17T10:41:56.634Z"
      },
      {
        "duration": 190,
        "start_time": "2022-03-17T10:47:16.658Z"
      },
      {
        "duration": 33,
        "start_time": "2022-03-17T10:47:33.572Z"
      },
      {
        "duration": 66,
        "start_time": "2022-03-17T10:53:02.314Z"
      },
      {
        "duration": 1907,
        "start_time": "2022-03-17T10:53:50.264Z"
      },
      {
        "duration": 886,
        "start_time": "2022-03-17T10:53:52.175Z"
      },
      {
        "duration": 62,
        "start_time": "2022-03-17T10:53:53.064Z"
      },
      {
        "duration": 9,
        "start_time": "2022-03-17T10:53:53.130Z"
      },
      {
        "duration": 52,
        "start_time": "2022-03-17T10:53:53.141Z"
      },
      {
        "duration": 100,
        "start_time": "2022-03-17T10:53:53.196Z"
      },
      {
        "duration": 313,
        "start_time": "2022-03-17T10:53:53.300Z"
      },
      {
        "duration": 77,
        "start_time": "2022-03-17T10:53:53.616Z"
      },
      {
        "duration": 71,
        "start_time": "2022-03-17T10:53:53.696Z"
      },
      {
        "duration": 67,
        "start_time": "2022-03-17T10:53:53.786Z"
      },
      {
        "duration": 44,
        "start_time": "2022-03-17T10:53:53.858Z"
      },
      {
        "duration": 22,
        "start_time": "2022-03-17T10:53:53.905Z"
      },
      {
        "duration": 55,
        "start_time": "2022-03-17T10:53:53.929Z"
      },
      {
        "duration": 660,
        "start_time": "2022-03-17T10:53:53.986Z"
      },
      {
        "duration": 325,
        "start_time": "2022-03-17T10:53:54.648Z"
      },
      {
        "duration": 39,
        "start_time": "2022-03-17T10:53:54.976Z"
      },
      {
        "duration": 135,
        "start_time": "2022-03-17T10:53:55.018Z"
      },
      {
        "duration": 71,
        "start_time": "2022-03-17T10:53:55.156Z"
      },
      {
        "duration": 309,
        "start_time": "2022-03-17T10:53:55.230Z"
      },
      {
        "duration": 18,
        "start_time": "2022-03-17T10:53:55.542Z"
      },
      {
        "duration": 80,
        "start_time": "2022-03-17T10:53:55.563Z"
      },
      {
        "duration": 16,
        "start_time": "2022-03-17T10:53:55.646Z"
      },
      {
        "duration": 15,
        "start_time": "2022-03-17T10:53:55.683Z"
      },
      {
        "duration": 629,
        "start_time": "2022-03-17T10:53:55.700Z"
      },
      {
        "duration": 1912,
        "start_time": "2022-03-17T10:54:19.150Z"
      },
      {
        "duration": 779,
        "start_time": "2022-03-17T10:54:21.066Z"
      },
      {
        "duration": 53,
        "start_time": "2022-03-17T10:54:21.848Z"
      },
      {
        "duration": 14,
        "start_time": "2022-03-17T10:54:21.905Z"
      },
      {
        "duration": 51,
        "start_time": "2022-03-17T10:54:21.922Z"
      },
      {
        "duration": 87,
        "start_time": "2022-03-17T10:54:21.983Z"
      },
      {
        "duration": 252,
        "start_time": "2022-03-17T10:54:22.073Z"
      },
      {
        "duration": 83,
        "start_time": "2022-03-17T10:54:22.328Z"
      },
      {
        "duration": 105,
        "start_time": "2022-03-17T10:54:22.415Z"
      },
      {
        "duration": 93,
        "start_time": "2022-03-17T10:54:22.526Z"
      },
      {
        "duration": 40,
        "start_time": "2022-03-17T10:54:22.622Z"
      },
      {
        "duration": 29,
        "start_time": "2022-03-17T10:54:22.683Z"
      },
      {
        "duration": 47,
        "start_time": "2022-03-17T10:54:22.715Z"
      },
      {
        "duration": 686,
        "start_time": "2022-03-17T10:54:22.765Z"
      },
      {
        "duration": 331,
        "start_time": "2022-03-17T10:54:23.454Z"
      },
      {
        "duration": 38,
        "start_time": "2022-03-17T10:54:23.788Z"
      },
      {
        "duration": 134,
        "start_time": "2022-03-17T10:54:23.830Z"
      },
      {
        "duration": 73,
        "start_time": "2022-03-17T10:54:23.967Z"
      },
      {
        "duration": 261,
        "start_time": "2022-03-17T10:54:24.043Z"
      },
      {
        "duration": 19,
        "start_time": "2022-03-17T10:54:24.306Z"
      },
      {
        "duration": 71,
        "start_time": "2022-03-17T10:54:24.327Z"
      },
      {
        "duration": 16,
        "start_time": "2022-03-17T10:54:24.402Z"
      },
      {
        "duration": 23,
        "start_time": "2022-03-17T10:54:24.419Z"
      },
      {
        "duration": 612,
        "start_time": "2022-03-17T10:54:24.444Z"
      },
      {
        "duration": 190,
        "start_time": "2022-03-17T10:59:07.344Z"
      },
      {
        "duration": 1589,
        "start_time": "2022-03-17T10:59:35.755Z"
      },
      {
        "duration": 628,
        "start_time": "2022-03-17T10:59:37.347Z"
      },
      {
        "duration": 39,
        "start_time": "2022-03-17T10:59:37.977Z"
      },
      {
        "duration": 6,
        "start_time": "2022-03-17T10:59:38.020Z"
      },
      {
        "duration": 70,
        "start_time": "2022-03-17T10:59:38.028Z"
      },
      {
        "duration": 97,
        "start_time": "2022-03-17T10:59:38.101Z"
      },
      {
        "duration": 224,
        "start_time": "2022-03-17T10:59:38.200Z"
      },
      {
        "duration": 70,
        "start_time": "2022-03-17T10:59:38.427Z"
      },
      {
        "duration": 86,
        "start_time": "2022-03-17T10:59:38.500Z"
      },
      {
        "duration": 69,
        "start_time": "2022-03-17T10:59:38.590Z"
      },
      {
        "duration": 45,
        "start_time": "2022-03-17T10:59:38.662Z"
      },
      {
        "duration": 23,
        "start_time": "2022-03-17T10:59:38.710Z"
      },
      {
        "duration": 48,
        "start_time": "2022-03-17T10:59:38.736Z"
      },
      {
        "duration": 678,
        "start_time": "2022-03-17T10:59:38.786Z"
      },
      {
        "duration": 330,
        "start_time": "2022-03-17T10:59:39.467Z"
      },
      {
        "duration": 30,
        "start_time": "2022-03-17T10:59:39.800Z"
      },
      {
        "duration": 135,
        "start_time": "2022-03-17T10:59:39.833Z"
      },
      {
        "duration": 53,
        "start_time": "2022-03-17T10:59:39.971Z"
      },
      {
        "duration": 221,
        "start_time": "2022-03-17T10:59:40.027Z"
      },
      {
        "duration": 18,
        "start_time": "2022-03-17T10:59:40.251Z"
      },
      {
        "duration": 51,
        "start_time": "2022-03-17T10:59:40.283Z"
      },
      {
        "duration": 15,
        "start_time": "2022-03-17T10:59:40.336Z"
      },
      {
        "duration": 12,
        "start_time": "2022-03-17T10:59:40.382Z"
      },
      {
        "duration": 589,
        "start_time": "2022-03-17T10:59:40.396Z"
      },
      {
        "duration": 25,
        "start_time": "2022-03-17T11:02:07.381Z"
      },
      {
        "duration": 48,
        "start_time": "2022-03-17T11:06:29.945Z"
      },
      {
        "duration": 48,
        "start_time": "2022-03-17T11:07:45.354Z"
      },
      {
        "duration": 1661,
        "start_time": "2022-03-17T11:08:00.180Z"
      },
      {
        "duration": 656,
        "start_time": "2022-03-17T11:08:01.844Z"
      },
      {
        "duration": 43,
        "start_time": "2022-03-17T11:08:02.503Z"
      },
      {
        "duration": 6,
        "start_time": "2022-03-17T11:08:02.549Z"
      },
      {
        "duration": 49,
        "start_time": "2022-03-17T11:08:02.558Z"
      },
      {
        "duration": 95,
        "start_time": "2022-03-17T11:08:02.611Z"
      },
      {
        "duration": 208,
        "start_time": "2022-03-17T11:08:02.709Z"
      },
      {
        "duration": 76,
        "start_time": "2022-03-17T11:08:02.920Z"
      },
      {
        "duration": 84,
        "start_time": "2022-03-17T11:08:02.999Z"
      },
      {
        "duration": 61,
        "start_time": "2022-03-17T11:08:03.088Z"
      },
      {
        "duration": 48,
        "start_time": "2022-03-17T11:08:03.151Z"
      },
      {
        "duration": 19,
        "start_time": "2022-03-17T11:08:03.202Z"
      },
      {
        "duration": 38,
        "start_time": "2022-03-17T11:08:03.223Z"
      },
      {
        "duration": 629,
        "start_time": "2022-03-17T11:08:03.264Z"
      },
      {
        "duration": 321,
        "start_time": "2022-03-17T11:08:03.895Z"
      },
      {
        "duration": 29,
        "start_time": "2022-03-17T11:08:04.219Z"
      },
      {
        "duration": 68,
        "start_time": "2022-03-17T11:08:04.251Z"
      },
      {
        "duration": 360,
        "start_time": "2022-03-17T11:08:04.322Z"
      },
      {
        "duration": 115,
        "start_time": "2022-03-17T11:08:04.685Z"
      },
      {
        "duration": 44,
        "start_time": "2022-03-17T11:08:04.802Z"
      },
      {
        "duration": 235,
        "start_time": "2022-03-17T11:08:04.848Z"
      },
      {
        "duration": 22,
        "start_time": "2022-03-17T11:08:05.089Z"
      },
      {
        "duration": 48,
        "start_time": "2022-03-17T11:08:05.114Z"
      },
      {
        "duration": 17,
        "start_time": "2022-03-17T11:08:05.182Z"
      },
      {
        "duration": 16,
        "start_time": "2022-03-17T11:08:05.202Z"
      },
      {
        "duration": 545,
        "start_time": "2022-03-17T11:08:05.221Z"
      },
      {
        "duration": 295,
        "start_time": "2022-03-17T11:08:36.042Z"
      },
      {
        "duration": 1467,
        "start_time": "2022-03-17T11:11:30.808Z"
      },
      {
        "duration": 696,
        "start_time": "2022-03-17T11:11:32.279Z"
      },
      {
        "duration": 52,
        "start_time": "2022-03-17T11:11:32.977Z"
      },
      {
        "duration": 7,
        "start_time": "2022-03-17T11:11:33.032Z"
      },
      {
        "duration": 66,
        "start_time": "2022-03-17T11:11:33.041Z"
      },
      {
        "duration": 92,
        "start_time": "2022-03-17T11:11:33.110Z"
      },
      {
        "duration": 248,
        "start_time": "2022-03-17T11:11:33.205Z"
      },
      {
        "duration": 76,
        "start_time": "2022-03-17T11:11:33.456Z"
      },
      {
        "duration": 101,
        "start_time": "2022-03-17T11:11:33.535Z"
      },
      {
        "duration": 83,
        "start_time": "2022-03-17T11:11:33.641Z"
      },
      {
        "duration": 58,
        "start_time": "2022-03-17T11:11:33.726Z"
      },
      {
        "duration": 32,
        "start_time": "2022-03-17T11:11:33.786Z"
      },
      {
        "duration": 27,
        "start_time": "2022-03-17T11:11:33.822Z"
      },
      {
        "duration": 692,
        "start_time": "2022-03-17T11:11:33.851Z"
      },
      {
        "duration": 336,
        "start_time": "2022-03-17T11:11:34.546Z"
      },
      {
        "duration": 257,
        "start_time": "2022-03-17T11:11:34.885Z"
      },
      {
        "duration": 233,
        "start_time": "2022-03-17T11:11:35.144Z"
      },
      {
        "duration": 122,
        "start_time": "2022-03-17T11:11:35.383Z"
      },
      {
        "duration": 43,
        "start_time": "2022-03-17T11:11:35.508Z"
      },
      {
        "duration": 252,
        "start_time": "2022-03-17T11:11:35.554Z"
      },
      {
        "duration": 25,
        "start_time": "2022-03-17T11:11:35.809Z"
      },
      {
        "duration": 78,
        "start_time": "2022-03-17T11:11:35.838Z"
      },
      {
        "duration": 13,
        "start_time": "2022-03-17T11:11:35.918Z"
      },
      {
        "duration": 18,
        "start_time": "2022-03-17T11:11:35.934Z"
      },
      {
        "duration": 750,
        "start_time": "2022-03-17T11:11:35.955Z"
      },
      {
        "duration": 4087,
        "start_time": "2022-03-17T11:40:46.936Z"
      },
      {
        "duration": 194,
        "start_time": "2022-03-17T11:43:46.546Z"
      },
      {
        "duration": 13,
        "start_time": "2022-03-17T11:44:26.389Z"
      },
      {
        "duration": 3986,
        "start_time": "2022-03-17T11:44:46.141Z"
      },
      {
        "duration": 3942,
        "start_time": "2022-03-17T11:47:45.361Z"
      },
      {
        "duration": 12,
        "start_time": "2022-03-17T11:48:19.965Z"
      },
      {
        "duration": 1474,
        "start_time": "2022-03-17T11:48:23.269Z"
      },
      {
        "duration": 1372,
        "start_time": "2022-03-17T11:49:29.686Z"
      },
      {
        "duration": 4125,
        "start_time": "2022-03-17T11:53:23.434Z"
      },
      {
        "duration": 1126,
        "start_time": "2022-03-17T11:53:54.168Z"
      },
      {
        "duration": 3142,
        "start_time": "2022-03-17T11:54:01.503Z"
      },
      {
        "duration": 14,
        "start_time": "2022-03-17T11:54:34.048Z"
      },
      {
        "duration": 1277,
        "start_time": "2022-03-17T11:54:38.829Z"
      },
      {
        "duration": 1661,
        "start_time": "2022-03-17T12:39:00.442Z"
      },
      {
        "duration": 705,
        "start_time": "2022-03-17T12:39:02.106Z"
      },
      {
        "duration": 39,
        "start_time": "2022-03-17T12:39:02.813Z"
      },
      {
        "duration": 6,
        "start_time": "2022-03-17T12:39:02.855Z"
      },
      {
        "duration": 40,
        "start_time": "2022-03-17T12:39:02.863Z"
      },
      {
        "duration": 50,
        "start_time": "2022-03-17T12:39:02.905Z"
      },
      {
        "duration": 187,
        "start_time": "2022-03-17T12:39:02.981Z"
      },
      {
        "duration": 54,
        "start_time": "2022-03-17T12:39:03.170Z"
      },
      {
        "duration": 90,
        "start_time": "2022-03-17T12:39:03.226Z"
      },
      {
        "duration": 77,
        "start_time": "2022-03-17T12:39:03.320Z"
      },
      {
        "duration": 24,
        "start_time": "2022-03-17T12:39:03.399Z"
      },
      {
        "duration": 28,
        "start_time": "2022-03-17T12:39:03.426Z"
      },
      {
        "duration": 38,
        "start_time": "2022-03-17T12:39:03.457Z"
      },
      {
        "duration": 633,
        "start_time": "2022-03-17T12:39:03.497Z"
      },
      {
        "duration": 320,
        "start_time": "2022-03-17T12:39:04.132Z"
      },
      {
        "duration": 238,
        "start_time": "2022-03-17T12:39:04.455Z"
      },
      {
        "duration": 124,
        "start_time": "2022-03-17T12:39:04.697Z"
      },
      {
        "duration": 63,
        "start_time": "2022-03-17T12:39:04.823Z"
      },
      {
        "duration": 208,
        "start_time": "2022-03-17T12:39:04.889Z"
      },
      {
        "duration": 16,
        "start_time": "2022-03-17T12:39:05.100Z"
      },
      {
        "duration": 110,
        "start_time": "2022-03-17T12:39:05.118Z"
      },
      {
        "duration": 15,
        "start_time": "2022-03-17T12:39:05.231Z"
      },
      {
        "duration": 1482,
        "start_time": "2022-03-17T12:39:05.249Z"
      },
      {
        "duration": 1365,
        "start_time": "2022-03-17T12:39:06.734Z"
      },
      {
        "duration": 13,
        "start_time": "2022-03-17T12:39:08.101Z"
      },
      {
        "duration": 13,
        "start_time": "2022-03-17T12:39:08.117Z"
      },
      {
        "duration": 804,
        "start_time": "2022-03-17T12:39:08.133Z"
      }
    ],
    "colab": {
      "collapsed_sections": [],
      "provenance": [],
      "include_colab_link": true
    },
    "kernelspec": {
      "display_name": "Python 3 (ipykernel)",
      "language": "python",
      "name": "python3"
    },
    "language_info": {
      "codemirror_mode": {
        "name": "ipython",
        "version": 3
      },
      "file_extension": ".py",
      "mimetype": "text/x-python",
      "name": "python",
      "nbconvert_exporter": "python",
      "pygments_lexer": "ipython3",
      "version": "3.9.5"
    },
    "toc": {
      "base_numbering": 1,
      "nav_menu": {},
      "number_sections": true,
      "sideBar": true,
      "skip_h1_title": true,
      "title_cell": "Table of Contents",
      "title_sidebar": "Contents",
      "toc_cell": false,
      "toc_position": {},
      "toc_section_display": true,
      "toc_window_display": false
    }
  },
  "nbformat": 4,
  "nbformat_minor": 0
}