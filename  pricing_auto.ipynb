{
  "cells": [
    {
      "cell_type": "markdown",
      "metadata": {
        "id": "view-in-github",
        "colab_type": "text"
      },
      "source": [
        "<a href=\"https://colab.research.google.com/github/n-vit/YaP_Projects/blob/main/%20pricing_auto.ipynb\" target=\"_parent\"><img src=\"https://colab.research.google.com/assets/colab-badge.svg\" alt=\"Open In Colab\"/></a>"
      ]
    },
    {
      "cell_type": "markdown",
      "metadata": {
        "id": "GUk0AcE3uw4c"
      },
      "source": [
        "# Определение стоимости автомобилей"
      ]
    },
    {
      "cell_type": "markdown",
      "metadata": {
        "id": "oT4C5hy7uw4l"
      },
      "source": [
        "Сервис по продаже автомобилей с пробегом разрабатывает приложение для привлечения новых клиентов. В нём можно быстро узнать рыночную стоимость своего автомобиля. В вашем распоряжении исторические данные: технические характеристики, комплектации и цены автомобилей. Вам нужно построить модель для определения стоимости. \n",
        "\n",
        "Заказчику важны:\n",
        "\n",
        "- качество предсказания;\n",
        "- скорость предсказания;\n",
        "- время обучения."
      ]
    },
    {
      "cell_type": "code",
      "execution_count": null,
      "metadata": {
        "id": "9IU1JpJHvAXE"
      },
      "outputs": [],
      "source": [
        "# libraries and functions\n",
        "import pandas as pd\n",
        "import numpy as np\n",
        "import matplotlib.pyplot as plt\n",
        "import seaborn as sns\n",
        "from sklearn.model_selection import train_test_split\n",
        "from sklearn.preprocessing import OrdinalEncoder\n",
        "from sklearn.preprocessing import StandardScaler\n",
        "from sklearn.utils import shuffle\n",
        "from scipy.stats import ttest_ind\n",
        "import math\n",
        "from sklearn.metrics import fbeta_score, make_scorer\n",
        "from sklearn.model_selection import GridSearchCV\n",
        "from numpy import linalg as LA\n",
        "import warnings\n",
        "import datetime\n",
        "from sklearn.preprocessing import PolynomialFeatures\n",
        "from sklearn.pipeline import Pipeline\n",
        "\n",
        "\n",
        "# models\n",
        "from sklearn.tree import DecisionTreeRegressor\n",
        "from sklearn.ensemble import RandomForestRegressor\n",
        "from sklearn.linear_model import LinearRegression\n",
        "from sklearn.ensemble import RandomForestClassifier\n",
        "from sklearn.ensemble import ExtraTreesRegressor\n",
        "#from catboost import Pool, CatBoostRegressor, cv\n",
        "from lightgbm import LGBMRegressor\n",
        "\n",
        "# metrics\n",
        "from sklearn.metrics import r2_score\n",
        "from sklearn.model_selection import cross_val_score\n",
        "from sklearn.metrics import accuracy_score \n",
        "from sklearn.metrics import mean_absolute_error\n",
        "from sklearn.metrics import mean_absolute_percentage_error\n",
        "from sklearn.metrics import f1_score\n",
        "from sklearn.metrics import recall_score\n",
        "from sklearn.metrics import precision_score\n",
        "from sklearn.metrics import roc_auc_score\n",
        "from sklearn.model_selection import train_test_split\n",
        "from sklearn.metrics import mean_squared_error\n",
        "\n",
        "warnings.filterwarnings('ignore')"
      ]
    },
    {
      "cell_type": "markdown",
      "metadata": {
        "id": "CnzpoJNIuw4n"
      },
      "source": [
        "## Подготовка данных"
      ]
    },
    {
      "cell_type": "code",
      "execution_count": null,
      "metadata": {
        "id": "ZC7pfnv1uw4o"
      },
      "outputs": [],
      "source": [
        "try: # if the project is opened in Collab use a 'try' block, if it opened in simulator Yandex, or local Jupiter, use an 'except' block\n",
        "    auto = pd.read_csv('https://code.s3.yandex.net/datasets/autos.csv', parse_dates=['DateCrawled', 'DateCreated', 'LastSeen'])\n",
        "\n",
        "except:\n",
        "    auto = pd.read_csv('/datasets/autos.csv', parse_dates=['DateCrawled', 'DateCreated', 'LastSeen'])"
      ]
    },
    {
      "cell_type": "code",
      "execution_count": null,
      "metadata": {
        "colab": {
          "base_uri": "https://localhost:8080/"
        },
        "id": "b1zvKgCGvgEt",
        "outputId": "daada529-7577-4812-d387-d21bf858d71f"
      },
      "outputs": [
        {
          "name": "stdout",
          "output_type": "stream",
          "text": [
            "<class 'pandas.core.frame.DataFrame'>\n",
            "RangeIndex: 354369 entries, 0 to 354368\n",
            "Data columns (total 16 columns):\n",
            " #   Column             Non-Null Count   Dtype         \n",
            "---  ------             --------------   -----         \n",
            " 0   DateCrawled        354369 non-null  datetime64[ns]\n",
            " 1   Price              354369 non-null  int64         \n",
            " 2   VehicleType        316879 non-null  object        \n",
            " 3   RegistrationYear   354369 non-null  int64         \n",
            " 4   Gearbox            334536 non-null  object        \n",
            " 5   Power              354369 non-null  int64         \n",
            " 6   Model              334664 non-null  object        \n",
            " 7   Kilometer          354369 non-null  int64         \n",
            " 8   RegistrationMonth  354369 non-null  int64         \n",
            " 9   FuelType           321474 non-null  object        \n",
            " 10  Brand              354369 non-null  object        \n",
            " 11  NotRepaired        283215 non-null  object        \n",
            " 12  DateCreated        354369 non-null  datetime64[ns]\n",
            " 13  NumberOfPictures   354369 non-null  int64         \n",
            " 14  PostalCode         354369 non-null  int64         \n",
            " 15  LastSeen           354369 non-null  datetime64[ns]\n",
            "dtypes: datetime64[ns](3), int64(7), object(6)\n",
            "memory usage: 43.3+ MB\n"
          ]
        }
      ],
      "source": [
        "auto.info()"
      ]
    },
    {
      "cell_type": "code",
      "execution_count": null,
      "metadata": {
        "colab": {
          "base_uri": "https://localhost:8080/"
        },
        "id": "UJKwKOUo0KQO",
        "outputId": "cc5133f7-41b2-406e-e525-569e3203fa76"
      },
      "outputs": [
        {
          "data": {
            "text/plain": [
              "DateCrawled              0\n",
              "Price                    0\n",
              "VehicleType          37490\n",
              "RegistrationYear         0\n",
              "Gearbox              19833\n",
              "Power                    0\n",
              "Model                19705\n",
              "Kilometer                0\n",
              "RegistrationMonth        0\n",
              "FuelType             32895\n",
              "Brand                    0\n",
              "NotRepaired          71154\n",
              "DateCreated              0\n",
              "NumberOfPictures         0\n",
              "PostalCode               0\n",
              "LastSeen                 0\n",
              "dtype: int64"
            ]
          },
          "execution_count": 4,
          "metadata": {},
          "output_type": "execute_result"
        }
      ],
      "source": [
        "auto.isna().sum()"
      ]
    },
    {
      "cell_type": "code",
      "execution_count": null,
      "metadata": {
        "colab": {
          "base_uri": "https://localhost:8080/",
          "height": 551
        },
        "id": "QJ5z0KOKVGOZ",
        "outputId": "29cd7250-8201-41b4-9c7e-55a2d3526510"
      },
      "outputs": [
        {
          "data": {
            "text/html": [
              "<div>\n",
              "<style scoped>\n",
              "    .dataframe tbody tr th:only-of-type {\n",
              "        vertical-align: middle;\n",
              "    }\n",
              "\n",
              "    .dataframe tbody tr th {\n",
              "        vertical-align: top;\n",
              "    }\n",
              "\n",
              "    .dataframe thead th {\n",
              "        text-align: right;\n",
              "    }\n",
              "</style>\n",
              "<table border=\"1\" class=\"dataframe\">\n",
              "  <thead>\n",
              "    <tr style=\"text-align: right;\">\n",
              "      <th></th>\n",
              "      <th>count</th>\n",
              "      <th>unique</th>\n",
              "      <th>top</th>\n",
              "      <th>freq</th>\n",
              "      <th>first</th>\n",
              "      <th>last</th>\n",
              "      <th>mean</th>\n",
              "      <th>std</th>\n",
              "      <th>min</th>\n",
              "      <th>25%</th>\n",
              "      <th>50%</th>\n",
              "      <th>75%</th>\n",
              "      <th>max</th>\n",
              "    </tr>\n",
              "  </thead>\n",
              "  <tbody>\n",
              "    <tr>\n",
              "      <th>DateCrawled</th>\n",
              "      <td>354369</td>\n",
              "      <td>271174</td>\n",
              "      <td>2016-03-24 14:49:47</td>\n",
              "      <td>7</td>\n",
              "      <td>2016-03-05 14:06:22</td>\n",
              "      <td>2016-04-07 14:36:58</td>\n",
              "      <td>NaN</td>\n",
              "      <td>NaN</td>\n",
              "      <td>NaN</td>\n",
              "      <td>NaN</td>\n",
              "      <td>NaN</td>\n",
              "      <td>NaN</td>\n",
              "      <td>NaN</td>\n",
              "    </tr>\n",
              "    <tr>\n",
              "      <th>Price</th>\n",
              "      <td>354369.0</td>\n",
              "      <td>NaN</td>\n",
              "      <td>NaN</td>\n",
              "      <td>NaN</td>\n",
              "      <td>NaT</td>\n",
              "      <td>NaT</td>\n",
              "      <td>4416.656776</td>\n",
              "      <td>4514.158514</td>\n",
              "      <td>0.0</td>\n",
              "      <td>1050.0</td>\n",
              "      <td>2700.0</td>\n",
              "      <td>6400.0</td>\n",
              "      <td>20000.0</td>\n",
              "    </tr>\n",
              "    <tr>\n",
              "      <th>VehicleType</th>\n",
              "      <td>316879</td>\n",
              "      <td>8</td>\n",
              "      <td>sedan</td>\n",
              "      <td>91457</td>\n",
              "      <td>NaT</td>\n",
              "      <td>NaT</td>\n",
              "      <td>NaN</td>\n",
              "      <td>NaN</td>\n",
              "      <td>NaN</td>\n",
              "      <td>NaN</td>\n",
              "      <td>NaN</td>\n",
              "      <td>NaN</td>\n",
              "      <td>NaN</td>\n",
              "    </tr>\n",
              "    <tr>\n",
              "      <th>RegistrationYear</th>\n",
              "      <td>354369.0</td>\n",
              "      <td>NaN</td>\n",
              "      <td>NaN</td>\n",
              "      <td>NaN</td>\n",
              "      <td>NaT</td>\n",
              "      <td>NaT</td>\n",
              "      <td>2004.234448</td>\n",
              "      <td>90.227958</td>\n",
              "      <td>1000.0</td>\n",
              "      <td>1999.0</td>\n",
              "      <td>2003.0</td>\n",
              "      <td>2008.0</td>\n",
              "      <td>9999.0</td>\n",
              "    </tr>\n",
              "    <tr>\n",
              "      <th>Gearbox</th>\n",
              "      <td>334536</td>\n",
              "      <td>2</td>\n",
              "      <td>manual</td>\n",
              "      <td>268251</td>\n",
              "      <td>NaT</td>\n",
              "      <td>NaT</td>\n",
              "      <td>NaN</td>\n",
              "      <td>NaN</td>\n",
              "      <td>NaN</td>\n",
              "      <td>NaN</td>\n",
              "      <td>NaN</td>\n",
              "      <td>NaN</td>\n",
              "      <td>NaN</td>\n",
              "    </tr>\n",
              "    <tr>\n",
              "      <th>Power</th>\n",
              "      <td>354369.0</td>\n",
              "      <td>NaN</td>\n",
              "      <td>NaN</td>\n",
              "      <td>NaN</td>\n",
              "      <td>NaT</td>\n",
              "      <td>NaT</td>\n",
              "      <td>110.094337</td>\n",
              "      <td>189.850405</td>\n",
              "      <td>0.0</td>\n",
              "      <td>69.0</td>\n",
              "      <td>105.0</td>\n",
              "      <td>143.0</td>\n",
              "      <td>20000.0</td>\n",
              "    </tr>\n",
              "    <tr>\n",
              "      <th>Model</th>\n",
              "      <td>334664</td>\n",
              "      <td>250</td>\n",
              "      <td>golf</td>\n",
              "      <td>29232</td>\n",
              "      <td>NaT</td>\n",
              "      <td>NaT</td>\n",
              "      <td>NaN</td>\n",
              "      <td>NaN</td>\n",
              "      <td>NaN</td>\n",
              "      <td>NaN</td>\n",
              "      <td>NaN</td>\n",
              "      <td>NaN</td>\n",
              "      <td>NaN</td>\n",
              "    </tr>\n",
              "    <tr>\n",
              "      <th>Kilometer</th>\n",
              "      <td>354369.0</td>\n",
              "      <td>NaN</td>\n",
              "      <td>NaN</td>\n",
              "      <td>NaN</td>\n",
              "      <td>NaT</td>\n",
              "      <td>NaT</td>\n",
              "      <td>128211.172535</td>\n",
              "      <td>37905.34153</td>\n",
              "      <td>5000.0</td>\n",
              "      <td>125000.0</td>\n",
              "      <td>150000.0</td>\n",
              "      <td>150000.0</td>\n",
              "      <td>150000.0</td>\n",
              "    </tr>\n",
              "    <tr>\n",
              "      <th>RegistrationMonth</th>\n",
              "      <td>354369.0</td>\n",
              "      <td>NaN</td>\n",
              "      <td>NaN</td>\n",
              "      <td>NaN</td>\n",
              "      <td>NaT</td>\n",
              "      <td>NaT</td>\n",
              "      <td>5.714645</td>\n",
              "      <td>3.726421</td>\n",
              "      <td>0.0</td>\n",
              "      <td>3.0</td>\n",
              "      <td>6.0</td>\n",
              "      <td>9.0</td>\n",
              "      <td>12.0</td>\n",
              "    </tr>\n",
              "    <tr>\n",
              "      <th>FuelType</th>\n",
              "      <td>321474</td>\n",
              "      <td>7</td>\n",
              "      <td>petrol</td>\n",
              "      <td>216352</td>\n",
              "      <td>NaT</td>\n",
              "      <td>NaT</td>\n",
              "      <td>NaN</td>\n",
              "      <td>NaN</td>\n",
              "      <td>NaN</td>\n",
              "      <td>NaN</td>\n",
              "      <td>NaN</td>\n",
              "      <td>NaN</td>\n",
              "      <td>NaN</td>\n",
              "    </tr>\n",
              "    <tr>\n",
              "      <th>Brand</th>\n",
              "      <td>354369</td>\n",
              "      <td>40</td>\n",
              "      <td>volkswagen</td>\n",
              "      <td>77013</td>\n",
              "      <td>NaT</td>\n",
              "      <td>NaT</td>\n",
              "      <td>NaN</td>\n",
              "      <td>NaN</td>\n",
              "      <td>NaN</td>\n",
              "      <td>NaN</td>\n",
              "      <td>NaN</td>\n",
              "      <td>NaN</td>\n",
              "      <td>NaN</td>\n",
              "    </tr>\n",
              "    <tr>\n",
              "      <th>NotRepaired</th>\n",
              "      <td>283215</td>\n",
              "      <td>2</td>\n",
              "      <td>no</td>\n",
              "      <td>247161</td>\n",
              "      <td>NaT</td>\n",
              "      <td>NaT</td>\n",
              "      <td>NaN</td>\n",
              "      <td>NaN</td>\n",
              "      <td>NaN</td>\n",
              "      <td>NaN</td>\n",
              "      <td>NaN</td>\n",
              "      <td>NaN</td>\n",
              "      <td>NaN</td>\n",
              "    </tr>\n",
              "    <tr>\n",
              "      <th>DateCreated</th>\n",
              "      <td>354369</td>\n",
              "      <td>109</td>\n",
              "      <td>2016-04-03 00:00:00</td>\n",
              "      <td>13719</td>\n",
              "      <td>2014-03-10 00:00:00</td>\n",
              "      <td>2016-04-07 00:00:00</td>\n",
              "      <td>NaN</td>\n",
              "      <td>NaN</td>\n",
              "      <td>NaN</td>\n",
              "      <td>NaN</td>\n",
              "      <td>NaN</td>\n",
              "      <td>NaN</td>\n",
              "      <td>NaN</td>\n",
              "    </tr>\n",
              "    <tr>\n",
              "      <th>NumberOfPictures</th>\n",
              "      <td>354369.0</td>\n",
              "      <td>NaN</td>\n",
              "      <td>NaN</td>\n",
              "      <td>NaN</td>\n",
              "      <td>NaT</td>\n",
              "      <td>NaT</td>\n",
              "      <td>0.0</td>\n",
              "      <td>0.0</td>\n",
              "      <td>0.0</td>\n",
              "      <td>0.0</td>\n",
              "      <td>0.0</td>\n",
              "      <td>0.0</td>\n",
              "      <td>0.0</td>\n",
              "    </tr>\n",
              "    <tr>\n",
              "      <th>PostalCode</th>\n",
              "      <td>354369.0</td>\n",
              "      <td>NaN</td>\n",
              "      <td>NaN</td>\n",
              "      <td>NaN</td>\n",
              "      <td>NaT</td>\n",
              "      <td>NaT</td>\n",
              "      <td>50508.689087</td>\n",
              "      <td>25783.096248</td>\n",
              "      <td>1067.0</td>\n",
              "      <td>30165.0</td>\n",
              "      <td>49413.0</td>\n",
              "      <td>71083.0</td>\n",
              "      <td>99998.0</td>\n",
              "    </tr>\n",
              "    <tr>\n",
              "      <th>LastSeen</th>\n",
              "      <td>354369</td>\n",
              "      <td>179150</td>\n",
              "      <td>2016-04-06 13:45:54</td>\n",
              "      <td>17</td>\n",
              "      <td>2016-03-05 14:15:08</td>\n",
              "      <td>2016-04-07 14:58:51</td>\n",
              "      <td>NaN</td>\n",
              "      <td>NaN</td>\n",
              "      <td>NaN</td>\n",
              "      <td>NaN</td>\n",
              "      <td>NaN</td>\n",
              "      <td>NaN</td>\n",
              "      <td>NaN</td>\n",
              "    </tr>\n",
              "  </tbody>\n",
              "</table>\n",
              "</div>"
            ],
            "text/plain": [
              "                      count  unique                  top    freq  \\\n",
              "DateCrawled          354369  271174  2016-03-24 14:49:47       7   \n",
              "Price              354369.0     NaN                  NaN     NaN   \n",
              "VehicleType          316879       8                sedan   91457   \n",
              "RegistrationYear   354369.0     NaN                  NaN     NaN   \n",
              "Gearbox              334536       2               manual  268251   \n",
              "Power              354369.0     NaN                  NaN     NaN   \n",
              "Model                334664     250                 golf   29232   \n",
              "Kilometer          354369.0     NaN                  NaN     NaN   \n",
              "RegistrationMonth  354369.0     NaN                  NaN     NaN   \n",
              "FuelType             321474       7               petrol  216352   \n",
              "Brand                354369      40           volkswagen   77013   \n",
              "NotRepaired          283215       2                   no  247161   \n",
              "DateCreated          354369     109  2016-04-03 00:00:00   13719   \n",
              "NumberOfPictures   354369.0     NaN                  NaN     NaN   \n",
              "PostalCode         354369.0     NaN                  NaN     NaN   \n",
              "LastSeen             354369  179150  2016-04-06 13:45:54      17   \n",
              "\n",
              "                                first                last           mean  \\\n",
              "DateCrawled       2016-03-05 14:06:22 2016-04-07 14:36:58            NaN   \n",
              "Price                             NaT                 NaT    4416.656776   \n",
              "VehicleType                       NaT                 NaT            NaN   \n",
              "RegistrationYear                  NaT                 NaT    2004.234448   \n",
              "Gearbox                           NaT                 NaT            NaN   \n",
              "Power                             NaT                 NaT     110.094337   \n",
              "Model                             NaT                 NaT            NaN   \n",
              "Kilometer                         NaT                 NaT  128211.172535   \n",
              "RegistrationMonth                 NaT                 NaT       5.714645   \n",
              "FuelType                          NaT                 NaT            NaN   \n",
              "Brand                             NaT                 NaT            NaN   \n",
              "NotRepaired                       NaT                 NaT            NaN   \n",
              "DateCreated       2014-03-10 00:00:00 2016-04-07 00:00:00            NaN   \n",
              "NumberOfPictures                  NaT                 NaT            0.0   \n",
              "PostalCode                        NaT                 NaT   50508.689087   \n",
              "LastSeen          2016-03-05 14:15:08 2016-04-07 14:58:51            NaN   \n",
              "\n",
              "                            std     min       25%       50%       75%  \\\n",
              "DateCrawled                 NaN     NaN       NaN       NaN       NaN   \n",
              "Price               4514.158514     0.0    1050.0    2700.0    6400.0   \n",
              "VehicleType                 NaN     NaN       NaN       NaN       NaN   \n",
              "RegistrationYear      90.227958  1000.0    1999.0    2003.0    2008.0   \n",
              "Gearbox                     NaN     NaN       NaN       NaN       NaN   \n",
              "Power                189.850405     0.0      69.0     105.0     143.0   \n",
              "Model                       NaN     NaN       NaN       NaN       NaN   \n",
              "Kilometer           37905.34153  5000.0  125000.0  150000.0  150000.0   \n",
              "RegistrationMonth      3.726421     0.0       3.0       6.0       9.0   \n",
              "FuelType                    NaN     NaN       NaN       NaN       NaN   \n",
              "Brand                       NaN     NaN       NaN       NaN       NaN   \n",
              "NotRepaired                 NaN     NaN       NaN       NaN       NaN   \n",
              "DateCreated                 NaN     NaN       NaN       NaN       NaN   \n",
              "NumberOfPictures            0.0     0.0       0.0       0.0       0.0   \n",
              "PostalCode         25783.096248  1067.0   30165.0   49413.0   71083.0   \n",
              "LastSeen                    NaN     NaN       NaN       NaN       NaN   \n",
              "\n",
              "                        max  \n",
              "DateCrawled             NaN  \n",
              "Price               20000.0  \n",
              "VehicleType             NaN  \n",
              "RegistrationYear     9999.0  \n",
              "Gearbox                 NaN  \n",
              "Power               20000.0  \n",
              "Model                   NaN  \n",
              "Kilometer          150000.0  \n",
              "RegistrationMonth      12.0  \n",
              "FuelType                NaN  \n",
              "Brand                   NaN  \n",
              "NotRepaired             NaN  \n",
              "DateCreated             NaN  \n",
              "NumberOfPictures        0.0  \n",
              "PostalCode          99998.0  \n",
              "LastSeen                NaN  "
            ]
          },
          "execution_count": 5,
          "metadata": {},
          "output_type": "execute_result"
        }
      ],
      "source": [
        "auto.describe(include = \"all\").T"
      ]
    },
    {
      "cell_type": "code",
      "execution_count": null,
      "metadata": {
        "colab": {
          "base_uri": "https://localhost:8080/",
          "height": 143
        },
        "id": "cPEXpSgVe6Vm",
        "outputId": "b3ebba60-5e2d-44e3-ba32-da7431becfb3"
      },
      "outputs": [
        {
          "data": {
            "text/html": [
              "<div>\n",
              "<style scoped>\n",
              "    .dataframe tbody tr th:only-of-type {\n",
              "        vertical-align: middle;\n",
              "    }\n",
              "\n",
              "    .dataframe tbody tr th {\n",
              "        vertical-align: top;\n",
              "    }\n",
              "\n",
              "    .dataframe thead th {\n",
              "        text-align: right;\n",
              "    }\n",
              "</style>\n",
              "<table border=\"1\" class=\"dataframe\">\n",
              "  <thead>\n",
              "    <tr style=\"text-align: right;\">\n",
              "      <th></th>\n",
              "      <th>DateCrawled</th>\n",
              "      <th>Price</th>\n",
              "      <th>VehicleType</th>\n",
              "      <th>RegistrationYear</th>\n",
              "      <th>Gearbox</th>\n",
              "      <th>Power</th>\n",
              "      <th>Model</th>\n",
              "      <th>Kilometer</th>\n",
              "      <th>RegistrationMonth</th>\n",
              "      <th>FuelType</th>\n",
              "      <th>Brand</th>\n",
              "      <th>NotRepaired</th>\n",
              "      <th>DateCreated</th>\n",
              "      <th>NumberOfPictures</th>\n",
              "      <th>PostalCode</th>\n",
              "      <th>LastSeen</th>\n",
              "    </tr>\n",
              "  </thead>\n",
              "  <tbody>\n",
              "    <tr>\n",
              "      <th>0</th>\n",
              "      <td>2016-03-24 11:52:17</td>\n",
              "      <td>480</td>\n",
              "      <td>NaN</td>\n",
              "      <td>1993</td>\n",
              "      <td>manual</td>\n",
              "      <td>0</td>\n",
              "      <td>golf</td>\n",
              "      <td>150000</td>\n",
              "      <td>0</td>\n",
              "      <td>petrol</td>\n",
              "      <td>volkswagen</td>\n",
              "      <td>NaN</td>\n",
              "      <td>2016-03-24</td>\n",
              "      <td>0</td>\n",
              "      <td>70435</td>\n",
              "      <td>2016-04-07 03:16:57</td>\n",
              "    </tr>\n",
              "    <tr>\n",
              "      <th>1</th>\n",
              "      <td>2016-03-24 10:58:45</td>\n",
              "      <td>18300</td>\n",
              "      <td>coupe</td>\n",
              "      <td>2011</td>\n",
              "      <td>manual</td>\n",
              "      <td>190</td>\n",
              "      <td>NaN</td>\n",
              "      <td>125000</td>\n",
              "      <td>5</td>\n",
              "      <td>gasoline</td>\n",
              "      <td>audi</td>\n",
              "      <td>yes</td>\n",
              "      <td>2016-03-24</td>\n",
              "      <td>0</td>\n",
              "      <td>66954</td>\n",
              "      <td>2016-04-07 01:46:50</td>\n",
              "    </tr>\n",
              "    <tr>\n",
              "      <th>2</th>\n",
              "      <td>2016-03-14 12:52:21</td>\n",
              "      <td>9800</td>\n",
              "      <td>suv</td>\n",
              "      <td>2004</td>\n",
              "      <td>auto</td>\n",
              "      <td>163</td>\n",
              "      <td>grand</td>\n",
              "      <td>125000</td>\n",
              "      <td>8</td>\n",
              "      <td>gasoline</td>\n",
              "      <td>jeep</td>\n",
              "      <td>NaN</td>\n",
              "      <td>2016-03-14</td>\n",
              "      <td>0</td>\n",
              "      <td>90480</td>\n",
              "      <td>2016-04-05 12:47:46</td>\n",
              "    </tr>\n",
              "  </tbody>\n",
              "</table>\n",
              "</div>"
            ],
            "text/plain": [
              "          DateCrawled  Price VehicleType  RegistrationYear Gearbox  Power  \\\n",
              "0 2016-03-24 11:52:17    480         NaN              1993  manual      0   \n",
              "1 2016-03-24 10:58:45  18300       coupe              2011  manual    190   \n",
              "2 2016-03-14 12:52:21   9800         suv              2004    auto    163   \n",
              "\n",
              "   Model  Kilometer  RegistrationMonth  FuelType       Brand NotRepaired  \\\n",
              "0   golf     150000                  0    petrol  volkswagen         NaN   \n",
              "1    NaN     125000                  5  gasoline        audi         yes   \n",
              "2  grand     125000                  8  gasoline        jeep         NaN   \n",
              "\n",
              "  DateCreated  NumberOfPictures  PostalCode            LastSeen  \n",
              "0  2016-03-24                 0       70435 2016-04-07 03:16:57  \n",
              "1  2016-03-24                 0       66954 2016-04-07 01:46:50  \n",
              "2  2016-03-14                 0       90480 2016-04-05 12:47:46  "
            ]
          },
          "execution_count": 6,
          "metadata": {},
          "output_type": "execute_result"
        }
      ],
      "source": [
        "auto.head(3)"
      ]
    },
    {
      "cell_type": "code",
      "execution_count": null,
      "metadata": {
        "colab": {
          "base_uri": "https://localhost:8080/"
        },
        "id": "pBM5bvVfF9N5",
        "outputId": "7d1731d7-bb43-4c27-cbdf-6a81d06f4515"
      },
      "outputs": [
        {
          "data": {
            "text/plain": [
              "array([0])"
            ]
          },
          "execution_count": 7,
          "metadata": {},
          "output_type": "execute_result"
        }
      ],
      "source": [
        "auto['NumberOfPictures'].unique()"
      ]
    },
    {
      "cell_type": "markdown",
      "metadata": {
        "id": "yEuFM7BGziXx"
      },
      "source": [
        "### План предобработки:\n",
        "похоже придется повозиться, и не сразу понятно, в каком порядке будет правильнее работать с фичами, поэтому сделаем чеклист и будем заполнять его по ходу:\n",
        "\n",
        "\n",
        "- [x] Price - целевой признак: содержит нулевые цены в некоторых строках - изучить подробнее\n",
        "- [x]  DateCrawled / DateCreated / LastSee - даты скачивания и создания анкеты, последней активности пользователя: перевести в формат даты (можно сразу в открытии)\n",
        "- [x]  Проверить дубли в строках и дропнуть если будет что\n",
        "- [x]  VehicleType - тип кузова: восстановить медиану по выбранной модели. Часто модель различается в зависимости от кузова\n",
        "- [x]  Gearbox - тип КПП: восстановить медиану по модели\n",
        "- [x]  Model - модель: восстановить медиану по бренду\n",
        "- [x]  Power - мощность, содержит нулевые значения. Разобрать, восстановить или удалить. И еще похоже есть аномалии\n",
        "- [x]  RegistrationYear содержит выбросы, год не может быть 1000 или 9999. Разобраться с выбросами\n",
        "- [x]  NumberOfPictures - количество фото, везде только  0. Такая фича нам не нужна. Дропнуть колонку\n",
        "- [x]  RegistrationMonth - месяц регистрации. Содержит значения с 1 по 12 и 0 (,более 10%). Месяц регистрации особенно для новых авто может влиять на цену. Нули заменить на nan\n",
        "- [x]  PostalCode содержит в основном пятизначные числа, но есть и меньшее количество символов, возможно здесь ошибка. Нужно разобраться \n",
        "- [x]  FuelType - тип топлива: восстановить по мощности и бренду\n",
        "- [x]  NotRepaired - не ремонтировался. Посмотреть на влияние на целевой признак в значениях [nan, 'yes', 'no']. Принять решение по восстановлению\n",
        "\n",
        "- [x]  Повторно проверить форматы и пропуски, категоризировать object\n",
        "- [x]  Понизить разрядность числовых данных, чтобы модель работала быстрее\n",
        "- [x]  выделить таргет и фичи для обучения моделей\n",
        "- [x]  Разбить на выборки (обучение/валидация/тест). \n"
      ]
    },
    {
      "cell_type": "markdown",
      "metadata": {
        "id": "2uVel9JLAveI"
      },
      "source": [
        "Посмотрим на дубликаты, и дропнем полные повторы"
      ]
    },
    {
      "cell_type": "code",
      "execution_count": null,
      "metadata": {
        "colab": {
          "base_uri": "https://localhost:8080/"
        },
        "id": "zcOEmgl2AWu5",
        "outputId": "634d7856-80a3-49ee-aeb5-969a4ea8a5fd"
      },
      "outputs": [
        {
          "data": {
            "text/plain": [
              "4"
            ]
          },
          "execution_count": 8,
          "metadata": {},
          "output_type": "execute_result"
        }
      ],
      "source": [
        "auto.duplicated().sum()"
      ]
    },
    {
      "cell_type": "code",
      "execution_count": null,
      "metadata": {
        "id": "RS3wQc-NUuOd"
      },
      "outputs": [],
      "source": [
        "auto = auto.drop_duplicates().reset_index(drop= True)"
      ]
    },
    {
      "cell_type": "markdown",
      "metadata": {
        "id": "60IHFKHDGYwm"
      },
      "source": [
        "### Цена \n",
        "\n",
        "Сначала разберемся с целевым признаком. в нем есть нули. Возможно это ошибки, или пропуски, а возможно действительно машина в таком состоянии что ее просят забрать на металлолом. посмотрим ближе:"
      ]
    },
    {
      "cell_type": "code",
      "execution_count": null,
      "metadata": {
        "colab": {
          "base_uri": "https://localhost:8080/",
          "height": 269
        },
        "id": "eToBkLPjG4Ab",
        "outputId": "21c6b6a5-9815-4326-9fc1-081ecbc08715"
      },
      "outputs": [
        {
          "data": {
            "text/html": [
              "<div>\n",
              "<style scoped>\n",
              "    .dataframe tbody tr th:only-of-type {\n",
              "        vertical-align: middle;\n",
              "    }\n",
              "\n",
              "    .dataframe tbody tr th {\n",
              "        vertical-align: top;\n",
              "    }\n",
              "\n",
              "    .dataframe thead th {\n",
              "        text-align: right;\n",
              "    }\n",
              "</style>\n",
              "<table border=\"1\" class=\"dataframe\">\n",
              "  <thead>\n",
              "    <tr style=\"text-align: right;\">\n",
              "      <th></th>\n",
              "      <th>count</th>\n",
              "      <th>mean</th>\n",
              "      <th>std</th>\n",
              "      <th>min</th>\n",
              "      <th>25%</th>\n",
              "      <th>50%</th>\n",
              "      <th>75%</th>\n",
              "      <th>max</th>\n",
              "    </tr>\n",
              "  </thead>\n",
              "  <tbody>\n",
              "    <tr>\n",
              "      <th>Price</th>\n",
              "      <td>10772.0</td>\n",
              "      <td>0.000000</td>\n",
              "      <td>0.000000</td>\n",
              "      <td>0.0</td>\n",
              "      <td>0.00</td>\n",
              "      <td>0.0</td>\n",
              "      <td>0.00</td>\n",
              "      <td>0.0</td>\n",
              "    </tr>\n",
              "    <tr>\n",
              "      <th>RegistrationYear</th>\n",
              "      <td>10772.0</td>\n",
              "      <td>2008.848403</td>\n",
              "      <td>267.729824</td>\n",
              "      <td>1000.0</td>\n",
              "      <td>1996.00</td>\n",
              "      <td>2000.0</td>\n",
              "      <td>2005.00</td>\n",
              "      <td>9999.0</td>\n",
              "    </tr>\n",
              "    <tr>\n",
              "      <th>Power</th>\n",
              "      <td>10772.0</td>\n",
              "      <td>81.200056</td>\n",
              "      <td>235.273205</td>\n",
              "      <td>0.0</td>\n",
              "      <td>0.00</td>\n",
              "      <td>75.0</td>\n",
              "      <td>120.00</td>\n",
              "      <td>15016.0</td>\n",
              "    </tr>\n",
              "    <tr>\n",
              "      <th>Kilometer</th>\n",
              "      <td>10772.0</td>\n",
              "      <td>124177.961381</td>\n",
              "      <td>48423.379468</td>\n",
              "      <td>5000.0</td>\n",
              "      <td>125000.00</td>\n",
              "      <td>150000.0</td>\n",
              "      <td>150000.00</td>\n",
              "      <td>150000.0</td>\n",
              "    </tr>\n",
              "    <tr>\n",
              "      <th>RegistrationMonth</th>\n",
              "      <td>10772.0</td>\n",
              "      <td>3.697271</td>\n",
              "      <td>4.046864</td>\n",
              "      <td>0.0</td>\n",
              "      <td>0.00</td>\n",
              "      <td>2.0</td>\n",
              "      <td>7.00</td>\n",
              "      <td>12.0</td>\n",
              "    </tr>\n",
              "    <tr>\n",
              "      <th>NumberOfPictures</th>\n",
              "      <td>10772.0</td>\n",
              "      <td>0.000000</td>\n",
              "      <td>0.000000</td>\n",
              "      <td>0.0</td>\n",
              "      <td>0.00</td>\n",
              "      <td>0.0</td>\n",
              "      <td>0.00</td>\n",
              "      <td>0.0</td>\n",
              "    </tr>\n",
              "    <tr>\n",
              "      <th>PostalCode</th>\n",
              "      <td>10772.0</td>\n",
              "      <td>44937.204790</td>\n",
              "      <td>26395.784541</td>\n",
              "      <td>1069.0</td>\n",
              "      <td>25336.75</td>\n",
              "      <td>42855.0</td>\n",
              "      <td>63668.75</td>\n",
              "      <td>99996.0</td>\n",
              "    </tr>\n",
              "  </tbody>\n",
              "</table>\n",
              "</div>"
            ],
            "text/plain": [
              "                     count           mean           std     min        25%  \\\n",
              "Price              10772.0       0.000000      0.000000     0.0       0.00   \n",
              "RegistrationYear   10772.0    2008.848403    267.729824  1000.0    1996.00   \n",
              "Power              10772.0      81.200056    235.273205     0.0       0.00   \n",
              "Kilometer          10772.0  124177.961381  48423.379468  5000.0  125000.00   \n",
              "RegistrationMonth  10772.0       3.697271      4.046864     0.0       0.00   \n",
              "NumberOfPictures   10772.0       0.000000      0.000000     0.0       0.00   \n",
              "PostalCode         10772.0   44937.204790  26395.784541  1069.0   25336.75   \n",
              "\n",
              "                        50%        75%       max  \n",
              "Price                   0.0       0.00       0.0  \n",
              "RegistrationYear     2000.0    2005.00    9999.0  \n",
              "Power                  75.0     120.00   15016.0  \n",
              "Kilometer          150000.0  150000.00  150000.0  \n",
              "RegistrationMonth       2.0       7.00      12.0  \n",
              "NumberOfPictures        0.0       0.00       0.0  \n",
              "PostalCode          42855.0   63668.75   99996.0  "
            ]
          },
          "execution_count": 10,
          "metadata": {},
          "output_type": "execute_result"
        }
      ],
      "source": [
        "auto.query('Price == 0').describe().T"
      ]
    },
    {
      "cell_type": "markdown",
      "metadata": {
        "id": "xH9OVv_305Ec"
      },
      "source": [
        "Cтроки с нулевыми ценами содержат данные в широких диапазонах и включают ошибки и выбросы в каждом из показателей. \n",
        "Поскольку наша задача - научиться верно предсказывать таргет по остальным признакам - удалим строки с нулевым значением цены, и продолжим работу с остальным фреймом. "
      ]
    },
    {
      "cell_type": "code",
      "execution_count": null,
      "metadata": {
        "id": "aY4zZQUC1NP9"
      },
      "outputs": [],
      "source": [
        "auto = auto.query('Price != 0')"
      ]
    },
    {
      "cell_type": "markdown",
      "metadata": {
        "id": "uztM2YFPCQgL"
      },
      "source": [
        "###Выделим тестовую выборку до предобработки"
      ]
    },
    {
      "cell_type": "code",
      "execution_count": null,
      "metadata": {
        "id": "HeTZzDPq5WtD"
      },
      "outputs": [],
      "source": [
        "#df, test = train_test_split(auto, test_size=0.2, random_state=5)\n",
        "#print('Выборка для обучения и валидации:', df.shape)\n",
        "#print('Тестовая выборка:', test.shape)"
      ]
    },
    {
      "cell_type": "markdown",
      "metadata": {
        "id": "qro2oqwIIoCp"
      },
      "source": [
        "<div class=\"alert alert-info\">\n",
        "<h2> Комментарий студента<a class=\"tocSkip\"></h2>\n",
        "<hr>  \n",
        "Да, я столкнулся с этой загвоздкой при кодировании: некоторые признаки в обучающей и тестовой выборке различались (307 и 309 столбцов). \n",
        "Решил ее поиском различающихся признаков с помощью np.setdiff1d и удалением их \n",
        "    \n",
        "Имеет ли такой подход право на жизнь?\n",
        "    \n",
        "В этом проекте убираю разделение выборок на этап после предобработки:\n",
        "\n",
        "</div>"
      ]
    },
    {
      "cell_type": "code",
      "execution_count": null,
      "metadata": {
        "id": "2s5U-iLrIoCp"
      },
      "outputs": [],
      "source": [
        "df = auto"
      ]
    },
    {
      "cell_type": "markdown",
      "metadata": {
        "id": "JerPpQV5JeOM"
      },
      "source": [
        "### Мощность\n",
        "\n",
        "Посмотрим, сколько авто зарегистрировано с нулевыми значениями мощности, и что это за машины:"
      ]
    },
    {
      "cell_type": "code",
      "execution_count": null,
      "metadata": {
        "colab": {
          "base_uri": "https://localhost:8080/",
          "height": 269
        },
        "id": "nB9grHhOJoAB",
        "outputId": "55f7df82-6ae1-47bb-e97d-ab3ac148c959"
      },
      "outputs": [
        {
          "data": {
            "text/html": [
              "<div>\n",
              "<style scoped>\n",
              "    .dataframe tbody tr th:only-of-type {\n",
              "        vertical-align: middle;\n",
              "    }\n",
              "\n",
              "    .dataframe tbody tr th {\n",
              "        vertical-align: top;\n",
              "    }\n",
              "\n",
              "    .dataframe thead th {\n",
              "        text-align: right;\n",
              "    }\n",
              "</style>\n",
              "<table border=\"1\" class=\"dataframe\">\n",
              "  <thead>\n",
              "    <tr style=\"text-align: right;\">\n",
              "      <th></th>\n",
              "      <th>count</th>\n",
              "      <th>mean</th>\n",
              "      <th>std</th>\n",
              "      <th>min</th>\n",
              "      <th>25%</th>\n",
              "      <th>50%</th>\n",
              "      <th>75%</th>\n",
              "      <th>max</th>\n",
              "    </tr>\n",
              "  </thead>\n",
              "  <tbody>\n",
              "    <tr>\n",
              "      <th>Price</th>\n",
              "      <td>36360.0</td>\n",
              "      <td>2402.729703</td>\n",
              "      <td>3115.886409</td>\n",
              "      <td>1.0</td>\n",
              "      <td>550.0</td>\n",
              "      <td>1292.5</td>\n",
              "      <td>2900.0</td>\n",
              "      <td>20000.0</td>\n",
              "    </tr>\n",
              "    <tr>\n",
              "      <th>RegistrationYear</th>\n",
              "      <td>36360.0</td>\n",
              "      <td>2008.866062</td>\n",
              "      <td>220.264464</td>\n",
              "      <td>1000.0</td>\n",
              "      <td>1998.0</td>\n",
              "      <td>2001.0</td>\n",
              "      <td>2007.0</td>\n",
              "      <td>9999.0</td>\n",
              "    </tr>\n",
              "    <tr>\n",
              "      <th>Power</th>\n",
              "      <td>36360.0</td>\n",
              "      <td>0.000000</td>\n",
              "      <td>0.000000</td>\n",
              "      <td>0.0</td>\n",
              "      <td>0.0</td>\n",
              "      <td>0.0</td>\n",
              "      <td>0.0</td>\n",
              "      <td>0.0</td>\n",
              "    </tr>\n",
              "    <tr>\n",
              "      <th>Kilometer</th>\n",
              "      <td>36360.0</td>\n",
              "      <td>127778.465347</td>\n",
              "      <td>43356.971962</td>\n",
              "      <td>5000.0</td>\n",
              "      <td>125000.0</td>\n",
              "      <td>150000.0</td>\n",
              "      <td>150000.0</td>\n",
              "      <td>150000.0</td>\n",
              "    </tr>\n",
              "    <tr>\n",
              "      <th>RegistrationMonth</th>\n",
              "      <td>36360.0</td>\n",
              "      <td>4.213669</td>\n",
              "      <td>4.118534</td>\n",
              "      <td>0.0</td>\n",
              "      <td>0.0</td>\n",
              "      <td>3.0</td>\n",
              "      <td>8.0</td>\n",
              "      <td>12.0</td>\n",
              "    </tr>\n",
              "    <tr>\n",
              "      <th>NumberOfPictures</th>\n",
              "      <td>36360.0</td>\n",
              "      <td>0.000000</td>\n",
              "      <td>0.000000</td>\n",
              "      <td>0.0</td>\n",
              "      <td>0.0</td>\n",
              "      <td>0.0</td>\n",
              "      <td>0.0</td>\n",
              "      <td>0.0</td>\n",
              "    </tr>\n",
              "    <tr>\n",
              "      <th>PostalCode</th>\n",
              "      <td>36360.0</td>\n",
              "      <td>46743.643152</td>\n",
              "      <td>25197.068851</td>\n",
              "      <td>1067.0</td>\n",
              "      <td>26689.0</td>\n",
              "      <td>45665.0</td>\n",
              "      <td>65439.0</td>\n",
              "      <td>99998.0</td>\n",
              "    </tr>\n",
              "  </tbody>\n",
              "</table>\n",
              "</div>"
            ],
            "text/plain": [
              "                     count           mean           std     min       25%  \\\n",
              "Price              36360.0    2402.729703   3115.886409     1.0     550.0   \n",
              "RegistrationYear   36360.0    2008.866062    220.264464  1000.0    1998.0   \n",
              "Power              36360.0       0.000000      0.000000     0.0       0.0   \n",
              "Kilometer          36360.0  127778.465347  43356.971962  5000.0  125000.0   \n",
              "RegistrationMonth  36360.0       4.213669      4.118534     0.0       0.0   \n",
              "NumberOfPictures   36360.0       0.000000      0.000000     0.0       0.0   \n",
              "PostalCode         36360.0   46743.643152  25197.068851  1067.0   26689.0   \n",
              "\n",
              "                        50%       75%       max  \n",
              "Price                1292.5    2900.0   20000.0  \n",
              "RegistrationYear     2001.0    2007.0    9999.0  \n",
              "Power                   0.0       0.0       0.0  \n",
              "Kilometer          150000.0  150000.0  150000.0  \n",
              "RegistrationMonth       3.0       8.0      12.0  \n",
              "NumberOfPictures        0.0       0.0       0.0  \n",
              "PostalCode          45665.0   65439.0   99998.0  "
            ]
          },
          "execution_count": 14,
          "metadata": {},
          "output_type": "execute_result"
        }
      ],
      "source": [
        "df.query('Power==0').describe().T"
      ]
    },
    {
      "cell_type": "code",
      "execution_count": null,
      "metadata": {
        "colab": {
          "base_uri": "https://localhost:8080/",
          "height": 296
        },
        "id": "rQs8CRq1KmFd",
        "outputId": "41cbca6f-a2f1-4edb-aea9-1f990b06ac50"
      },
      "outputs": [
        {
          "data": {
            "text/plain": [
              "<AxesSubplot:xlabel='Kilometer', ylabel='Count'>"
            ]
          },
          "execution_count": 15,
          "metadata": {},
          "output_type": "execute_result"
        },
        {
          "data": {
            "image/png": "[encoded data removed]",
            "text/plain": [
              "<Figure size 432x288 with 1 Axes>"
            ]
          },
          "metadata": {
            "needs_background": "light"
          },
          "output_type": "display_data"
        }
      ],
      "source": [
        "sns.histplot(data=df.query('Power==0'), x=\"Kilometer\")"
      ]
    },
    {
      "cell_type": "markdown",
      "metadata": {
        "id": "bw-4nwdrjCvo"
      },
      "source": [
        "Значительная часть строк с нулями в мощности - у машин с пробегом 150 000"
      ]
    },
    {
      "cell_type": "code",
      "execution_count": null,
      "metadata": {
        "colab": {
          "base_uri": "https://localhost:8080/",
          "height": 269
        },
        "id": "FQHNypTgh8UU",
        "outputId": "6feb23bf-cac6-4282-eae8-fe96ad443934"
      },
      "outputs": [
        {
          "data": {
            "text/html": [
              "<div>\n",
              "<style scoped>\n",
              "    .dataframe tbody tr th:only-of-type {\n",
              "        vertical-align: middle;\n",
              "    }\n",
              "\n",
              "    .dataframe tbody tr th {\n",
              "        vertical-align: top;\n",
              "    }\n",
              "\n",
              "    .dataframe thead th {\n",
              "        text-align: right;\n",
              "    }\n",
              "</style>\n",
              "<table border=\"1\" class=\"dataframe\">\n",
              "  <thead>\n",
              "    <tr style=\"text-align: right;\">\n",
              "      <th></th>\n",
              "      <th>Price</th>\n",
              "      <th>RegistrationYear</th>\n",
              "      <th>Power</th>\n",
              "      <th>Kilometer</th>\n",
              "      <th>RegistrationMonth</th>\n",
              "      <th>NumberOfPictures</th>\n",
              "      <th>PostalCode</th>\n",
              "    </tr>\n",
              "  </thead>\n",
              "  <tbody>\n",
              "    <tr>\n",
              "      <th>Price</th>\n",
              "      <td>1.000000</td>\n",
              "      <td>0.088324</td>\n",
              "      <td>0.135171</td>\n",
              "      <td>-0.384265</td>\n",
              "      <td>0.071950</td>\n",
              "      <td>NaN</td>\n",
              "      <td>0.064668</td>\n",
              "    </tr>\n",
              "    <tr>\n",
              "      <th>RegistrationYear</th>\n",
              "      <td>0.088324</td>\n",
              "      <td>1.000000</td>\n",
              "      <td>0.012407</td>\n",
              "      <td>-0.074331</td>\n",
              "      <td>-0.000074</td>\n",
              "      <td>NaN</td>\n",
              "      <td>0.002217</td>\n",
              "    </tr>\n",
              "    <tr>\n",
              "      <th>Power</th>\n",
              "      <td>0.135171</td>\n",
              "      <td>0.012407</td>\n",
              "      <td>1.000000</td>\n",
              "      <td>0.022647</td>\n",
              "      <td>0.010064</td>\n",
              "      <td>NaN</td>\n",
              "      <td>0.010984</td>\n",
              "    </tr>\n",
              "    <tr>\n",
              "      <th>Kilometer</th>\n",
              "      <td>-0.384265</td>\n",
              "      <td>-0.074331</td>\n",
              "      <td>0.022647</td>\n",
              "      <td>1.000000</td>\n",
              "      <td>-0.015144</td>\n",
              "      <td>NaN</td>\n",
              "      <td>-0.010749</td>\n",
              "    </tr>\n",
              "    <tr>\n",
              "      <th>RegistrationMonth</th>\n",
              "      <td>0.071950</td>\n",
              "      <td>-0.000074</td>\n",
              "      <td>0.010064</td>\n",
              "      <td>-0.015144</td>\n",
              "      <td>1.000000</td>\n",
              "      <td>NaN</td>\n",
              "      <td>0.003177</td>\n",
              "    </tr>\n",
              "    <tr>\n",
              "      <th>NumberOfPictures</th>\n",
              "      <td>NaN</td>\n",
              "      <td>NaN</td>\n",
              "      <td>NaN</td>\n",
              "      <td>NaN</td>\n",
              "      <td>NaN</td>\n",
              "      <td>NaN</td>\n",
              "      <td>NaN</td>\n",
              "    </tr>\n",
              "    <tr>\n",
              "      <th>PostalCode</th>\n",
              "      <td>0.064668</td>\n",
              "      <td>0.002217</td>\n",
              "      <td>0.010984</td>\n",
              "      <td>-0.010749</td>\n",
              "      <td>0.003177</td>\n",
              "      <td>NaN</td>\n",
              "      <td>1.000000</td>\n",
              "    </tr>\n",
              "  </tbody>\n",
              "</table>\n",
              "</div>"
            ],
            "text/plain": [
              "                      Price  RegistrationYear     Power  Kilometer  \\\n",
              "Price              1.000000          0.088324  0.135171  -0.384265   \n",
              "RegistrationYear   0.088324          1.000000  0.012407  -0.074331   \n",
              "Power              0.135171          0.012407  1.000000   0.022647   \n",
              "Kilometer         -0.384265         -0.074331  0.022647   1.000000   \n",
              "RegistrationMonth  0.071950         -0.000074  0.010064  -0.015144   \n",
              "NumberOfPictures        NaN               NaN       NaN        NaN   \n",
              "PostalCode         0.064668          0.002217  0.010984  -0.010749   \n",
              "\n",
              "                   RegistrationMonth  NumberOfPictures  PostalCode  \n",
              "Price                       0.071950               NaN    0.064668  \n",
              "RegistrationYear           -0.000074               NaN    0.002217  \n",
              "Power                       0.010064               NaN    0.010984  \n",
              "Kilometer                  -0.015144               NaN   -0.010749  \n",
              "RegistrationMonth           1.000000               NaN    0.003177  \n",
              "NumberOfPictures                 NaN               NaN         NaN  \n",
              "PostalCode                  0.003177               NaN    1.000000  "
            ]
          },
          "execution_count": 16,
          "metadata": {},
          "output_type": "execute_result"
        }
      ],
      "source": [
        "df.query('Power!=0').corr()"
      ]
    },
    {
      "cell_type": "markdown",
      "metadata": {
        "id": "70T1icpvjTia"
      },
      "source": [
        "Корреляция ненулевой мощности с другими числовыми показателями отсутствует"
      ]
    },
    {
      "cell_type": "code",
      "execution_count": null,
      "metadata": {
        "colab": {
          "base_uri": "https://localhost:8080/"
        },
        "id": "uHdmPYG3J_9j",
        "outputId": "4e2edd16-64c0-43c9-dca8-1b074711e763",
        "scrolled": true
      },
      "outputs": [
        {
          "data": {
            "text/plain": [
              "volkswagen        7379\n",
              "opel              4563\n",
              "mercedes_benz     3293\n",
              "ford              3003\n",
              "renault           2776\n",
              "bmw               2681\n",
              "audi              2151\n",
              "fiat              1344\n",
              "peugeot           1108\n",
              "sonstige_autos     939\n",
              "nissan             623\n",
              "citroen            601\n",
              "mazda              579\n",
              "seat               567\n",
              "smart              554\n",
              "toyota             412\n",
              "skoda              377\n",
              "mitsubishi         341\n",
              "hyundai            334\n",
              "suzuki             255\n",
              "honda              248\n",
              "kia                245\n",
              "volvo              245\n",
              "trabant            200\n",
              "chevrolet          198\n",
              "alfa_romeo         191\n",
              "chrysler           169\n",
              "daihatsu           139\n",
              "mini               108\n",
              "daewoo             104\n",
              "porsche            102\n",
              "rover               76\n",
              "subaru              72\n",
              "dacia               66\n",
              "land_rover          64\n",
              "jeep                62\n",
              "lancia              56\n",
              "lada                54\n",
              "jaguar              51\n",
              "saab                30\n",
              "Name: Brand, dtype: int64"
            ]
          },
          "execution_count": 17,
          "metadata": {},
          "output_type": "execute_result"
        }
      ],
      "source": [
        "df.query('Power==0')['Brand'].value_counts()"
      ]
    },
    {
      "cell_type": "markdown",
      "metadata": {
        "id": "uU04NNyZlQAW"
      },
      "source": [
        "Все бренды будут в гости к нам... Возьмем для восстановления пропусков медиану по марке авто: как правило три-четыре версии двигателей ставятся на все модели в разных кузовах. "
      ]
    },
    {
      "cell_type": "code",
      "execution_count": null,
      "metadata": {
        "colab": {
          "base_uri": "https://localhost:8080/"
        },
        "id": "q99qBeXZZnxQ",
        "outputId": "f97b5b16-41f1-4742-a78c-c23df8d5cff9"
      },
      "outputs": [
        {
          "name": "stdout",
          "output_type": "stream",
          "text": [
            "Пропусков в мощности до восстановления: 36360\n",
            "Пропусков в мощности после восстановления по марке: 0\n"
          ]
        }
      ],
      "source": [
        "df['Power'] = df['Power'].replace(0, np.nan)\n",
        "df['Power'] = df['Power'].astype(float)\n",
        "print('Пропусков в мощности до восстановления:', df['Power'].isna().sum())\n",
        "\n",
        "df['Power'] = df['Power'].fillna(df.groupby(['Brand'])['Power'].transform('median'))\n",
        "print('Пропусков в мощности после восстановления по марке:', df['Power'].isna().sum())\n"
      ]
    },
    {
      "cell_type": "markdown",
      "metadata": {
        "id": "ROVSAGpwhsQr"
      },
      "source": [
        "Посмотрим на разброс значений мощности"
      ]
    },
    {
      "cell_type": "code",
      "execution_count": null,
      "metadata": {
        "colab": {
          "base_uri": "https://localhost:8080/",
          "height": 269
        },
        "id": "M63WkCk7iBHu",
        "outputId": "b33c7a47-3123-40c7-fb00-4b0254794a75"
      },
      "outputs": [
        {
          "data": {
            "image/png": "[encoded data removed]",
            "text/plain": [
              "<Figure size 432x288 with 1 Axes>"
            ]
          },
          "metadata": {
            "needs_background": "light"
          },
          "output_type": "display_data"
        }
      ],
      "source": [
        "plt.ylim(0, 500)\n",
        "df.boxplot(column='Power')\n",
        "plt.show()"
      ]
    },
    {
      "cell_type": "markdown",
      "metadata": {
        "id": "kVGlJaQEiPX-"
      },
      "source": [
        "есть длинный хвост ошибок, удалим строки с мощностью более 500 л.с. Таких авто немного, это нестандартные машины и на них действуют другие правила ценообразования. "
      ]
    },
    {
      "cell_type": "code",
      "execution_count": null,
      "metadata": {
        "colab": {
          "base_uri": "https://localhost:8080/"
        },
        "id": "wYY4Vgy8IH5m",
        "outputId": "cf9a9d77-8a93-4ab5-cbd8-59ebfeb95b88"
      },
      "outputs": [
        {
          "data": {
            "text/plain": [
              "429"
            ]
          },
          "execution_count": 20,
          "metadata": {},
          "output_type": "execute_result"
        }
      ],
      "source": [
        "df.query('Power > 500')['Power'].count()"
      ]
    },
    {
      "cell_type": "code",
      "execution_count": null,
      "metadata": {
        "id": "Of6zgBDQu_IK"
      },
      "outputs": [],
      "source": [
        "df = df.query('Power < 500')"
      ]
    },
    {
      "cell_type": "markdown",
      "metadata": {
        "id": "NeYzkSxt-ade"
      },
      "source": [
        "###Модель\n",
        "\n",
        "Восстановим пропуски в модели авто, выбрав наиболее частую модель для указанной марки. \n",
        "\n",
        "В процессе поисков возможного решения появлялась ошибка:\n",
        "\n",
        " *if is_scalar(key) and isna(key) and not self.hasnans:*\n",
        "\n",
        "*KeyError: 'sonstige_autos'*\n",
        "\n",
        "Это значит, что для марки 'sonstige_autos' вообще нет ни одной модели. В переводе с немецкого это означает \"другие машины\". \n",
        "Посмотрим на количество и удалим эти строки, если их немного, или поставим заглушку в данных о модели:"
      ]
    },
    {
      "cell_type": "code",
      "execution_count": null,
      "metadata": {
        "colab": {
          "base_uri": "https://localhost:8080/"
        },
        "id": "g9P9FYjhqM0x",
        "outputId": "b59482ac-e4e1-4d43-a683-8f4ee5503421"
      },
      "outputs": [
        {
          "data": {
            "text/plain": [
              "DateCrawled             0\n",
              "Price                   0\n",
              "VehicleType           647\n",
              "RegistrationYear        0\n",
              "Gearbox               697\n",
              "Power                   0\n",
              "Model                2838\n",
              "Kilometer               0\n",
              "RegistrationMonth       0\n",
              "FuelType              724\n",
              "Brand                   0\n",
              "NotRepaired           905\n",
              "DateCreated             0\n",
              "NumberOfPictures        0\n",
              "PostalCode              0\n",
              "LastSeen                0\n",
              "dtype: int64"
            ]
          },
          "execution_count": 22,
          "metadata": {},
          "output_type": "execute_result"
        }
      ],
      "source": [
        "df.loc[df['Brand'] == 'sonstige_autos',:].isna().sum()"
      ]
    },
    {
      "cell_type": "markdown",
      "metadata": {
        "id": "wQYhg3hhtHUK"
      },
      "source": [
        "Пропусков в модели довольно много, а остальные данные в основном присутствуют, поэтому просто поставим заглушку в модели - sonstige_autos"
      ]
    },
    {
      "cell_type": "code",
      "execution_count": null,
      "metadata": {
        "id": "LUPXwaSztDW_"
      },
      "outputs": [],
      "source": [
        "df.loc[df['Brand'] == 'sonstige_autos', ['Model']] = 'sonstige_autos'"
      ]
    },
    {
      "cell_type": "code",
      "execution_count": null,
      "metadata": {
        "id": "PmCr_mMgxX-1"
      },
      "outputs": [],
      "source": [
        "def by_sign_recovery(row, target_number, pivot_target, sign_number):\n",
        "# Функция восстанавливает значение целевого признака по признаку-донору\n",
        "# Принимает на входе:\n",
        "# row - строку\n",
        "# sign_number - номер столбца восстанавливаемого признака\n",
        "# pivot_target - сводную таблицу фрейма по признаку-донору\n",
        "# target_number - номер столбца признака-донора\n",
        "    brand = row[sign_number]\n",
        "    recover = row[target_number]\n",
        "    if row[target_number] == 0:\n",
        "        recover = pivot_target[brand].idxmax()\n",
        "    return recover"
      ]
    },
    {
      "cell_type": "code",
      "execution_count": null,
      "metadata": {
        "colab": {
          "base_uri": "https://localhost:8080/",
          "height": 284
        },
        "id": "d0T-a7IOlWAu",
        "outputId": "d1051ec4-eda7-493b-8da1-d6c90a5b8de0"
      },
      "outputs": [
        {
          "data": {
            "text/html": [
              "<div>\n",
              "<style scoped>\n",
              "    .dataframe tbody tr th:only-of-type {\n",
              "        vertical-align: middle;\n",
              "    }\n",
              "\n",
              "    .dataframe tbody tr th {\n",
              "        vertical-align: top;\n",
              "    }\n",
              "\n",
              "    .dataframe thead th {\n",
              "        text-align: right;\n",
              "    }\n",
              "</style>\n",
              "<table border=\"1\" class=\"dataframe\">\n",
              "  <thead>\n",
              "    <tr style=\"text-align: right;\">\n",
              "      <th>Brand</th>\n",
              "      <th>alfa_romeo</th>\n",
              "      <th>audi</th>\n",
              "      <th>bmw</th>\n",
              "      <th>chevrolet</th>\n",
              "      <th>chrysler</th>\n",
              "      <th>citroen</th>\n",
              "      <th>dacia</th>\n",
              "      <th>daewoo</th>\n",
              "      <th>daihatsu</th>\n",
              "      <th>fiat</th>\n",
              "      <th>...</th>\n",
              "      <th>seat</th>\n",
              "      <th>skoda</th>\n",
              "      <th>smart</th>\n",
              "      <th>sonstige_autos</th>\n",
              "      <th>subaru</th>\n",
              "      <th>suzuki</th>\n",
              "      <th>toyota</th>\n",
              "      <th>trabant</th>\n",
              "      <th>volkswagen</th>\n",
              "      <th>volvo</th>\n",
              "    </tr>\n",
              "    <tr>\n",
              "      <th>Model</th>\n",
              "      <th></th>\n",
              "      <th></th>\n",
              "      <th></th>\n",
              "      <th></th>\n",
              "      <th></th>\n",
              "      <th></th>\n",
              "      <th></th>\n",
              "      <th></th>\n",
              "      <th></th>\n",
              "      <th></th>\n",
              "      <th></th>\n",
              "      <th></th>\n",
              "      <th></th>\n",
              "      <th></th>\n",
              "      <th></th>\n",
              "      <th></th>\n",
              "      <th></th>\n",
              "      <th></th>\n",
              "      <th></th>\n",
              "      <th></th>\n",
              "      <th></th>\n",
              "    </tr>\n",
              "  </thead>\n",
              "  <tbody>\n",
              "    <tr>\n",
              "      <th>100</th>\n",
              "      <td>NaN</td>\n",
              "      <td>396.0</td>\n",
              "      <td>NaN</td>\n",
              "      <td>NaN</td>\n",
              "      <td>NaN</td>\n",
              "      <td>NaN</td>\n",
              "      <td>NaN</td>\n",
              "      <td>NaN</td>\n",
              "      <td>NaN</td>\n",
              "      <td>NaN</td>\n",
              "      <td>...</td>\n",
              "      <td>NaN</td>\n",
              "      <td>NaN</td>\n",
              "      <td>NaN</td>\n",
              "      <td>NaN</td>\n",
              "      <td>NaN</td>\n",
              "      <td>NaN</td>\n",
              "      <td>NaN</td>\n",
              "      <td>NaN</td>\n",
              "      <td>NaN</td>\n",
              "      <td>NaN</td>\n",
              "    </tr>\n",
              "    <tr>\n",
              "      <th>145</th>\n",
              "      <td>46.0</td>\n",
              "      <td>NaN</td>\n",
              "      <td>NaN</td>\n",
              "      <td>NaN</td>\n",
              "      <td>NaN</td>\n",
              "      <td>NaN</td>\n",
              "      <td>NaN</td>\n",
              "      <td>NaN</td>\n",
              "      <td>NaN</td>\n",
              "      <td>NaN</td>\n",
              "      <td>...</td>\n",
              "      <td>NaN</td>\n",
              "      <td>NaN</td>\n",
              "      <td>NaN</td>\n",
              "      <td>NaN</td>\n",
              "      <td>NaN</td>\n",
              "      <td>NaN</td>\n",
              "      <td>NaN</td>\n",
              "      <td>NaN</td>\n",
              "      <td>NaN</td>\n",
              "      <td>NaN</td>\n",
              "    </tr>\n",
              "    <tr>\n",
              "      <th>147</th>\n",
              "      <td>563.0</td>\n",
              "      <td>NaN</td>\n",
              "      <td>NaN</td>\n",
              "      <td>NaN</td>\n",
              "      <td>NaN</td>\n",
              "      <td>NaN</td>\n",
              "      <td>NaN</td>\n",
              "      <td>NaN</td>\n",
              "      <td>NaN</td>\n",
              "      <td>NaN</td>\n",
              "      <td>...</td>\n",
              "      <td>NaN</td>\n",
              "      <td>NaN</td>\n",
              "      <td>NaN</td>\n",
              "      <td>NaN</td>\n",
              "      <td>NaN</td>\n",
              "      <td>NaN</td>\n",
              "      <td>NaN</td>\n",
              "      <td>NaN</td>\n",
              "      <td>NaN</td>\n",
              "      <td>NaN</td>\n",
              "    </tr>\n",
              "    <tr>\n",
              "      <th>156</th>\n",
              "      <td>604.0</td>\n",
              "      <td>NaN</td>\n",
              "      <td>NaN</td>\n",
              "      <td>NaN</td>\n",
              "      <td>NaN</td>\n",
              "      <td>NaN</td>\n",
              "      <td>NaN</td>\n",
              "      <td>NaN</td>\n",
              "      <td>NaN</td>\n",
              "      <td>NaN</td>\n",
              "      <td>...</td>\n",
              "      <td>NaN</td>\n",
              "      <td>NaN</td>\n",
              "      <td>NaN</td>\n",
              "      <td>NaN</td>\n",
              "      <td>NaN</td>\n",
              "      <td>NaN</td>\n",
              "      <td>NaN</td>\n",
              "      <td>NaN</td>\n",
              "      <td>NaN</td>\n",
              "      <td>NaN</td>\n",
              "    </tr>\n",
              "    <tr>\n",
              "      <th>159</th>\n",
              "      <td>208.0</td>\n",
              "      <td>NaN</td>\n",
              "      <td>NaN</td>\n",
              "      <td>NaN</td>\n",
              "      <td>NaN</td>\n",
              "      <td>NaN</td>\n",
              "      <td>NaN</td>\n",
              "      <td>NaN</td>\n",
              "      <td>NaN</td>\n",
              "      <td>NaN</td>\n",
              "      <td>...</td>\n",
              "      <td>NaN</td>\n",
              "      <td>NaN</td>\n",
              "      <td>NaN</td>\n",
              "      <td>NaN</td>\n",
              "      <td>NaN</td>\n",
              "      <td>NaN</td>\n",
              "      <td>NaN</td>\n",
              "      <td>NaN</td>\n",
              "      <td>NaN</td>\n",
              "      <td>NaN</td>\n",
              "    </tr>\n",
              "  </tbody>\n",
              "</table>\n",
              "<p>5 rows × 40 columns</p>\n",
              "</div>"
            ],
            "text/plain": [
              "Brand  alfa_romeo   audi  bmw  chevrolet  chrysler  citroen  dacia  daewoo  \\\n",
              "Model                                                                        \n",
              "100           NaN  396.0  NaN        NaN       NaN      NaN    NaN     NaN   \n",
              "145          46.0    NaN  NaN        NaN       NaN      NaN    NaN     NaN   \n",
              "147         563.0    NaN  NaN        NaN       NaN      NaN    NaN     NaN   \n",
              "156         604.0    NaN  NaN        NaN       NaN      NaN    NaN     NaN   \n",
              "159         208.0    NaN  NaN        NaN       NaN      NaN    NaN     NaN   \n",
              "\n",
              "Brand  daihatsu  fiat  ...  seat  skoda  smart  sonstige_autos  subaru  \\\n",
              "Model                  ...                                               \n",
              "100         NaN   NaN  ...   NaN    NaN    NaN             NaN     NaN   \n",
              "145         NaN   NaN  ...   NaN    NaN    NaN             NaN     NaN   \n",
              "147         NaN   NaN  ...   NaN    NaN    NaN             NaN     NaN   \n",
              "156         NaN   NaN  ...   NaN    NaN    NaN             NaN     NaN   \n",
              "159         NaN   NaN  ...   NaN    NaN    NaN             NaN     NaN   \n",
              "\n",
              "Brand  suzuki  toyota  trabant  volkswagen  volvo  \n",
              "Model                                              \n",
              "100       NaN     NaN      NaN         NaN    NaN  \n",
              "145       NaN     NaN      NaN         NaN    NaN  \n",
              "147       NaN     NaN      NaN         NaN    NaN  \n",
              "156       NaN     NaN      NaN         NaN    NaN  \n",
              "159       NaN     NaN      NaN         NaN    NaN  \n",
              "\n",
              "[5 rows x 40 columns]"
            ]
          },
          "metadata": {},
          "output_type": "display_data"
        },
        {
          "data": {
            "text/plain": [
              "0"
            ]
          },
          "metadata": {},
          "output_type": "display_data"
        }
      ],
      "source": [
        "df['Model'].value_counts()\n",
        "pivot_model = df.pivot_table(index=['Model'],\n",
        "                             columns=['Brand'],\n",
        "                             values=['Price'],\n",
        "                             aggfunc=['count'])\n",
        "pivot_model = pivot_model['count']['Price']\n",
        "display(pivot_model.head(5))\n",
        "df.fillna({'Model':0},inplace=True)\n",
        "\n",
        "df['Model'] = df.apply(by_sign_recovery,\n",
        "                       args=[6, pivot_model,10],\n",
        "                       axis=1)\n",
        "display(df['Model'].isna().sum())"
      ]
    },
    {
      "cell_type": "markdown",
      "metadata": {
        "id": "2Mfyq-5kUaob"
      },
      "source": [
        "### Кузов\n",
        "\n",
        "Похоже шалость удалась. и теперь так же можно будет восстановить пропущенные данные о кузове, только кузов лучше определяется по модели, а не бренду:"
      ]
    },
    {
      "cell_type": "code",
      "execution_count": null,
      "metadata": {
        "colab": {
          "base_uri": "https://localhost:8080/"
        },
        "id": "tdHieIjAKarC",
        "outputId": "c9b25421-71b8-4c17-8d6a-cb6eb4fc5d84"
      },
      "outputs": [
        {
          "data": {
            "text/plain": [
              "33677"
            ]
          },
          "execution_count": 26,
          "metadata": {},
          "output_type": "execute_result"
        }
      ],
      "source": [
        "df['VehicleType'].isna().sum()"
      ]
    },
    {
      "cell_type": "code",
      "execution_count": null,
      "metadata": {
        "colab": {
          "base_uri": "https://localhost:8080/",
          "height": 361
        },
        "id": "HdDbDqxniCew",
        "outputId": "9527b730-b1d9-4d06-a9a7-a913f656752f"
      },
      "outputs": [
        {
          "data": {
            "text/html": [
              "<div>\n",
              "<style scoped>\n",
              "    .dataframe tbody tr th:only-of-type {\n",
              "        vertical-align: middle;\n",
              "    }\n",
              "\n",
              "    .dataframe tbody tr th {\n",
              "        vertical-align: top;\n",
              "    }\n",
              "\n",
              "    .dataframe thead th {\n",
              "        text-align: right;\n",
              "    }\n",
              "</style>\n",
              "<table border=\"1\" class=\"dataframe\">\n",
              "  <thead>\n",
              "    <tr style=\"text-align: right;\">\n",
              "      <th>Model</th>\n",
              "      <th>100</th>\n",
              "      <th>145</th>\n",
              "      <th>147</th>\n",
              "      <th>156</th>\n",
              "      <th>159</th>\n",
              "      <th>1_reihe</th>\n",
              "      <th>1er</th>\n",
              "      <th>200</th>\n",
              "      <th>2_reihe</th>\n",
              "      <th>300c</th>\n",
              "      <th>...</th>\n",
              "      <th>wrangler</th>\n",
              "      <th>x_reihe</th>\n",
              "      <th>x_trail</th>\n",
              "      <th>x_type</th>\n",
              "      <th>xc_reihe</th>\n",
              "      <th>yaris</th>\n",
              "      <th>yeti</th>\n",
              "      <th>ypsilon</th>\n",
              "      <th>z_reihe</th>\n",
              "      <th>zafira</th>\n",
              "    </tr>\n",
              "    <tr>\n",
              "      <th>VehicleType</th>\n",
              "      <th></th>\n",
              "      <th></th>\n",
              "      <th></th>\n",
              "      <th></th>\n",
              "      <th></th>\n",
              "      <th></th>\n",
              "      <th></th>\n",
              "      <th></th>\n",
              "      <th></th>\n",
              "      <th></th>\n",
              "      <th></th>\n",
              "      <th></th>\n",
              "      <th></th>\n",
              "      <th></th>\n",
              "      <th></th>\n",
              "      <th></th>\n",
              "      <th></th>\n",
              "      <th></th>\n",
              "      <th></th>\n",
              "      <th></th>\n",
              "      <th></th>\n",
              "    </tr>\n",
              "  </thead>\n",
              "  <tbody>\n",
              "    <tr>\n",
              "      <th>bus</th>\n",
              "      <td>NaN</td>\n",
              "      <td>NaN</td>\n",
              "      <td>NaN</td>\n",
              "      <td>NaN</td>\n",
              "      <td>NaN</td>\n",
              "      <td>5.0</td>\n",
              "      <td>NaN</td>\n",
              "      <td>NaN</td>\n",
              "      <td>35.0</td>\n",
              "      <td>NaN</td>\n",
              "      <td>...</td>\n",
              "      <td>NaN</td>\n",
              "      <td>3.0</td>\n",
              "      <td>1.0</td>\n",
              "      <td>NaN</td>\n",
              "      <td>NaN</td>\n",
              "      <td>48.0</td>\n",
              "      <td>NaN</td>\n",
              "      <td>NaN</td>\n",
              "      <td>NaN</td>\n",
              "      <td>2370.0</td>\n",
              "    </tr>\n",
              "    <tr>\n",
              "      <th>convertible</th>\n",
              "      <td>1.0</td>\n",
              "      <td>NaN</td>\n",
              "      <td>NaN</td>\n",
              "      <td>NaN</td>\n",
              "      <td>NaN</td>\n",
              "      <td>6.0</td>\n",
              "      <td>251.0</td>\n",
              "      <td>1.0</td>\n",
              "      <td>1603.0</td>\n",
              "      <td>NaN</td>\n",
              "      <td>...</td>\n",
              "      <td>NaN</td>\n",
              "      <td>NaN</td>\n",
              "      <td>NaN</td>\n",
              "      <td>NaN</td>\n",
              "      <td>NaN</td>\n",
              "      <td>5.0</td>\n",
              "      <td>NaN</td>\n",
              "      <td>1.0</td>\n",
              "      <td>646.0</td>\n",
              "      <td>1.0</td>\n",
              "    </tr>\n",
              "    <tr>\n",
              "      <th>coupe</th>\n",
              "      <td>2.0</td>\n",
              "      <td>2.0</td>\n",
              "      <td>26.0</td>\n",
              "      <td>19.0</td>\n",
              "      <td>NaN</td>\n",
              "      <td>3.0</td>\n",
              "      <td>243.0</td>\n",
              "      <td>NaN</td>\n",
              "      <td>38.0</td>\n",
              "      <td>NaN</td>\n",
              "      <td>...</td>\n",
              "      <td>NaN</td>\n",
              "      <td>NaN</td>\n",
              "      <td>NaN</td>\n",
              "      <td>NaN</td>\n",
              "      <td>NaN</td>\n",
              "      <td>11.0</td>\n",
              "      <td>NaN</td>\n",
              "      <td>NaN</td>\n",
              "      <td>50.0</td>\n",
              "      <td>1.0</td>\n",
              "    </tr>\n",
              "    <tr>\n",
              "      <th>other</th>\n",
              "      <td>NaN</td>\n",
              "      <td>1.0</td>\n",
              "      <td>7.0</td>\n",
              "      <td>2.0</td>\n",
              "      <td>NaN</td>\n",
              "      <td>1.0</td>\n",
              "      <td>20.0</td>\n",
              "      <td>NaN</td>\n",
              "      <td>20.0</td>\n",
              "      <td>NaN</td>\n",
              "      <td>...</td>\n",
              "      <td>1.0</td>\n",
              "      <td>1.0</td>\n",
              "      <td>1.0</td>\n",
              "      <td>NaN</td>\n",
              "      <td>NaN</td>\n",
              "      <td>5.0</td>\n",
              "      <td>2.0</td>\n",
              "      <td>NaN</td>\n",
              "      <td>NaN</td>\n",
              "      <td>22.0</td>\n",
              "    </tr>\n",
              "    <tr>\n",
              "      <th>sedan</th>\n",
              "      <td>264.0</td>\n",
              "      <td>12.0</td>\n",
              "      <td>358.0</td>\n",
              "      <td>307.0</td>\n",
              "      <td>55.0</td>\n",
              "      <td>30.0</td>\n",
              "      <td>2640.0</td>\n",
              "      <td>15.0</td>\n",
              "      <td>256.0</td>\n",
              "      <td>59.0</td>\n",
              "      <td>...</td>\n",
              "      <td>NaN</td>\n",
              "      <td>725.0</td>\n",
              "      <td>NaN</td>\n",
              "      <td>125.0</td>\n",
              "      <td>3.0</td>\n",
              "      <td>46.0</td>\n",
              "      <td>NaN</td>\n",
              "      <td>3.0</td>\n",
              "      <td>1.0</td>\n",
              "      <td>22.0</td>\n",
              "    </tr>\n",
              "    <tr>\n",
              "      <th>small</th>\n",
              "      <td>NaN</td>\n",
              "      <td>19.0</td>\n",
              "      <td>93.0</td>\n",
              "      <td>8.0</td>\n",
              "      <td>NaN</td>\n",
              "      <td>1064.0</td>\n",
              "      <td>138.0</td>\n",
              "      <td>NaN</td>\n",
              "      <td>2753.0</td>\n",
              "      <td>NaN</td>\n",
              "      <td>...</td>\n",
              "      <td>NaN</td>\n",
              "      <td>NaN</td>\n",
              "      <td>NaN</td>\n",
              "      <td>NaN</td>\n",
              "      <td>NaN</td>\n",
              "      <td>913.0</td>\n",
              "      <td>NaN</td>\n",
              "      <td>185.0</td>\n",
              "      <td>NaN</td>\n",
              "      <td>11.0</td>\n",
              "    </tr>\n",
              "    <tr>\n",
              "      <th>suv</th>\n",
              "      <td>NaN</td>\n",
              "      <td>NaN</td>\n",
              "      <td>NaN</td>\n",
              "      <td>NaN</td>\n",
              "      <td>NaN</td>\n",
              "      <td>NaN</td>\n",
              "      <td>NaN</td>\n",
              "      <td>NaN</td>\n",
              "      <td>7.0</td>\n",
              "      <td>NaN</td>\n",
              "      <td>...</td>\n",
              "      <td>93.0</td>\n",
              "      <td>775.0</td>\n",
              "      <td>196.0</td>\n",
              "      <td>NaN</td>\n",
              "      <td>216.0</td>\n",
              "      <td>8.0</td>\n",
              "      <td>168.0</td>\n",
              "      <td>NaN</td>\n",
              "      <td>NaN</td>\n",
              "      <td>7.0</td>\n",
              "    </tr>\n",
              "    <tr>\n",
              "      <th>wagon</th>\n",
              "      <td>104.0</td>\n",
              "      <td>NaN</td>\n",
              "      <td>2.0</td>\n",
              "      <td>299.0</td>\n",
              "      <td>144.0</td>\n",
              "      <td>53.0</td>\n",
              "      <td>20.0</td>\n",
              "      <td>1.0</td>\n",
              "      <td>347.0</td>\n",
              "      <td>69.0</td>\n",
              "      <td>...</td>\n",
              "      <td>NaN</td>\n",
              "      <td>8.0</td>\n",
              "      <td>NaN</td>\n",
              "      <td>30.0</td>\n",
              "      <td>41.0</td>\n",
              "      <td>19.0</td>\n",
              "      <td>1.0</td>\n",
              "      <td>2.0</td>\n",
              "      <td>NaN</td>\n",
              "      <td>223.0</td>\n",
              "    </tr>\n",
              "  </tbody>\n",
              "</table>\n",
              "<p>8 rows × 251 columns</p>\n",
              "</div>"
            ],
            "text/plain": [
              "Model          100   145    147    156    159  1_reihe     1er   200  2_reihe  \\\n",
              "VehicleType                                                                     \n",
              "bus            NaN   NaN    NaN    NaN    NaN      5.0     NaN   NaN     35.0   \n",
              "convertible    1.0   NaN    NaN    NaN    NaN      6.0   251.0   1.0   1603.0   \n",
              "coupe          2.0   2.0   26.0   19.0    NaN      3.0   243.0   NaN     38.0   \n",
              "other          NaN   1.0    7.0    2.0    NaN      1.0    20.0   NaN     20.0   \n",
              "sedan        264.0  12.0  358.0  307.0   55.0     30.0  2640.0  15.0    256.0   \n",
              "small          NaN  19.0   93.0    8.0    NaN   1064.0   138.0   NaN   2753.0   \n",
              "suv            NaN   NaN    NaN    NaN    NaN      NaN     NaN   NaN      7.0   \n",
              "wagon        104.0   NaN    2.0  299.0  144.0     53.0    20.0   1.0    347.0   \n",
              "\n",
              "Model        300c  ...  wrangler  x_reihe  x_trail  x_type  xc_reihe  yaris  \\\n",
              "VehicleType        ...                                                        \n",
              "bus           NaN  ...       NaN      3.0      1.0     NaN       NaN   48.0   \n",
              "convertible   NaN  ...       NaN      NaN      NaN     NaN       NaN    5.0   \n",
              "coupe         NaN  ...       NaN      NaN      NaN     NaN       NaN   11.0   \n",
              "other         NaN  ...       1.0      1.0      1.0     NaN       NaN    5.0   \n",
              "sedan        59.0  ...       NaN    725.0      NaN   125.0       3.0   46.0   \n",
              "small         NaN  ...       NaN      NaN      NaN     NaN       NaN  913.0   \n",
              "suv           NaN  ...      93.0    775.0    196.0     NaN     216.0    8.0   \n",
              "wagon        69.0  ...       NaN      8.0      NaN    30.0      41.0   19.0   \n",
              "\n",
              "Model         yeti  ypsilon  z_reihe  zafira  \n",
              "VehicleType                                   \n",
              "bus            NaN      NaN      NaN  2370.0  \n",
              "convertible    NaN      1.0    646.0     1.0  \n",
              "coupe          NaN      NaN     50.0     1.0  \n",
              "other          2.0      NaN      NaN    22.0  \n",
              "sedan          NaN      3.0      1.0    22.0  \n",
              "small          NaN    185.0      NaN    11.0  \n",
              "suv          168.0      NaN      NaN     7.0  \n",
              "wagon          1.0      2.0      NaN   223.0  \n",
              "\n",
              "[8 rows x 251 columns]"
            ]
          },
          "metadata": {},
          "output_type": "display_data"
        }
      ],
      "source": [
        "pivot_vehicle = df.pivot_table(index=['VehicleType'],\n",
        "                               columns=['Model'],\n",
        "                               values=['Price'],\n",
        "                               aggfunc=['count'])\n",
        "pivot_vehicle = pivot_vehicle['count']['Price']\n",
        "display(pivot_vehicle)"
      ]
    },
    {
      "cell_type": "code",
      "execution_count": null,
      "metadata": {
        "colab": {
          "base_uri": "https://localhost:8080/",
          "height": 34
        },
        "id": "57G0_4RSe5op",
        "outputId": "443f2f66-52ec-4fed-84e3-4a11763c6e31"
      },
      "outputs": [
        {
          "data": {
            "text/plain": [
              "0"
            ]
          },
          "metadata": {},
          "output_type": "display_data"
        }
      ],
      "source": [
        "df.fillna({'VehicleType':0},inplace=True)\n",
        "df['VehicleType'] = df.apply(by_sign_recovery,\n",
        "                             args=[2, pivot_vehicle,6],\n",
        "                             axis=1)\n",
        "display(df['VehicleType'].isna().sum())"
      ]
    },
    {
      "cell_type": "markdown",
      "metadata": {
        "id": "YzbOwUhVCLS2"
      },
      "source": [
        "###Год регистрации\n",
        "\n",
        "Разберемся с диапазоном данных о годе регистрации авто.\n",
        "\n",
        "В обзоре фрейма (describe) мы видели, что последняя запись была создана в 2016 году, значит все годы регистрации указанные позднее - ошибки. Что касается более старых машин - посмотрим на стат. погрешности и логику: первые автомобили стали выпускаться в конце 18 века, а сейчас самые старые используемые авто можно встретить 60-70 г.г. Все что старше и еще эксплуатируется -явно относится к автораритетам и оценивается по другим признакам (сохранность, аутентичность и т.п.) "
      ]
    },
    {
      "cell_type": "code",
      "execution_count": null,
      "metadata": {
        "colab": {
          "base_uri": "https://localhost:8080/",
          "height": 265
        },
        "id": "ME34tF9R73p9",
        "outputId": "0f46b993-d4ef-44f6-b29b-845e1db96a33"
      },
      "outputs": [
        {
          "data": {
            "image/png": "[encoded data removed]",
            "text/plain": [
              "<Figure size 432x288 with 1 Axes>"
            ]
          },
          "metadata": {
            "needs_background": "light"
          },
          "output_type": "display_data"
        }
      ],
      "source": [
        "plt.ylim(1900, 2016)\n",
        "df.boxplot(column='RegistrationYear')\n",
        "plt.show()"
      ]
    },
    {
      "cell_type": "code",
      "execution_count": null,
      "metadata": {
        "colab": {
          "base_uri": "https://localhost:8080/"
        },
        "id": "141a8ChH9dCY",
        "outputId": "c3a489d0-5fcb-4df2-a441-cc7677738354"
      },
      "outputs": [
        {
          "name": "stdout",
          "output_type": "stream",
          "text": [
            "13748\n"
          ]
        }
      ],
      "source": [
        "print(df.query('RegistrationYear > 2016')['RegistrationYear'].count())"
      ]
    },
    {
      "cell_type": "markdown",
      "metadata": {
        "id": "z_7zz3ND6zv5"
      },
      "source": [
        "График показывает, что статистически значимые авто зарегистрированы в 1980-х и позднее, но есть вероятность встретить и реальные машины постарше.\n",
        "Строк с ошибочной регистрацией позже создания фрейма - более 10 тыс. \n",
        "\n",
        "Посмотрим сколько строк попадают в стат. выбросы старше 1960 г:\n",
        "\n"
      ]
    },
    {
      "cell_type": "code",
      "execution_count": null,
      "metadata": {
        "colab": {
          "base_uri": "https://localhost:8080/"
        },
        "id": "2yFpVy7bFz-5",
        "outputId": "90a0cb85-385f-4cbb-d2ed-c149095284cd"
      },
      "outputs": [
        {
          "name": "stdout",
          "output_type": "stream",
          "text": [
            "284\n"
          ]
        }
      ],
      "source": [
        "print(df.query('RegistrationYear < 1960 & RegistrationYear > 1900')['RegistrationYear'].count())"
      ]
    },
    {
      "cell_type": "markdown",
      "metadata": {
        "id": "ZR8aQzpUHHpq"
      },
      "source": [
        "Явные ошибки попробуем восстановить модой для модели, а пару сотен строк со стат. выбросами от 1900 до 1960 г. (менее 1%)- удалим из фрейма. Если они и существуют - их ценность скорее коллекционная, и их слишком мало чтобы учитывать это в модели"
      ]
    },
    {
      "cell_type": "code",
      "execution_count": null,
      "metadata": {
        "colab": {
          "base_uri": "https://localhost:8080/",
          "height": 267
        },
        "id": "OYX3G2PJAEb3",
        "outputId": "fcd3e68f-de08-482c-b214-c164ed8a42b9"
      },
      "outputs": [
        {
          "data": {
            "text/html": [
              "<div>\n",
              "<style scoped>\n",
              "    .dataframe tbody tr th:only-of-type {\n",
              "        vertical-align: middle;\n",
              "    }\n",
              "\n",
              "    .dataframe tbody tr th {\n",
              "        vertical-align: top;\n",
              "    }\n",
              "\n",
              "    .dataframe thead th {\n",
              "        text-align: right;\n",
              "    }\n",
              "</style>\n",
              "<table border=\"1\" class=\"dataframe\">\n",
              "  <thead>\n",
              "    <tr style=\"text-align: right;\">\n",
              "      <th>RegistrationYear</th>\n",
              "      <th>1960</th>\n",
              "      <th>1961</th>\n",
              "      <th>1962</th>\n",
              "      <th>1963</th>\n",
              "      <th>1964</th>\n",
              "      <th>1965</th>\n",
              "      <th>1966</th>\n",
              "      <th>1967</th>\n",
              "      <th>1968</th>\n",
              "      <th>1969</th>\n",
              "      <th>...</th>\n",
              "      <th>2007</th>\n",
              "      <th>2008</th>\n",
              "      <th>2009</th>\n",
              "      <th>2010</th>\n",
              "      <th>2011</th>\n",
              "      <th>2012</th>\n",
              "      <th>2013</th>\n",
              "      <th>2014</th>\n",
              "      <th>2015</th>\n",
              "      <th>2016</th>\n",
              "    </tr>\n",
              "    <tr>\n",
              "      <th>Model</th>\n",
              "      <th></th>\n",
              "      <th></th>\n",
              "      <th></th>\n",
              "      <th></th>\n",
              "      <th></th>\n",
              "      <th></th>\n",
              "      <th></th>\n",
              "      <th></th>\n",
              "      <th></th>\n",
              "      <th></th>\n",
              "      <th></th>\n",
              "      <th></th>\n",
              "      <th></th>\n",
              "      <th></th>\n",
              "      <th></th>\n",
              "      <th></th>\n",
              "      <th></th>\n",
              "      <th></th>\n",
              "      <th></th>\n",
              "      <th></th>\n",
              "      <th></th>\n",
              "    </tr>\n",
              "  </thead>\n",
              "  <tbody>\n",
              "    <tr>\n",
              "      <th>100</th>\n",
              "      <td>NaN</td>\n",
              "      <td>NaN</td>\n",
              "      <td>NaN</td>\n",
              "      <td>NaN</td>\n",
              "      <td>NaN</td>\n",
              "      <td>NaN</td>\n",
              "      <td>NaN</td>\n",
              "      <td>NaN</td>\n",
              "      <td>NaN</td>\n",
              "      <td>NaN</td>\n",
              "      <td>...</td>\n",
              "      <td>1.0</td>\n",
              "      <td>NaN</td>\n",
              "      <td>NaN</td>\n",
              "      <td>NaN</td>\n",
              "      <td>NaN</td>\n",
              "      <td>NaN</td>\n",
              "      <td>NaN</td>\n",
              "      <td>NaN</td>\n",
              "      <td>NaN</td>\n",
              "      <td>5.0</td>\n",
              "    </tr>\n",
              "    <tr>\n",
              "      <th>145</th>\n",
              "      <td>1.0</td>\n",
              "      <td>NaN</td>\n",
              "      <td>NaN</td>\n",
              "      <td>NaN</td>\n",
              "      <td>NaN</td>\n",
              "      <td>NaN</td>\n",
              "      <td>NaN</td>\n",
              "      <td>NaN</td>\n",
              "      <td>NaN</td>\n",
              "      <td>NaN</td>\n",
              "      <td>...</td>\n",
              "      <td>NaN</td>\n",
              "      <td>NaN</td>\n",
              "      <td>NaN</td>\n",
              "      <td>NaN</td>\n",
              "      <td>NaN</td>\n",
              "      <td>NaN</td>\n",
              "      <td>NaN</td>\n",
              "      <td>NaN</td>\n",
              "      <td>NaN</td>\n",
              "      <td>1.0</td>\n",
              "    </tr>\n",
              "    <tr>\n",
              "      <th>147</th>\n",
              "      <td>NaN</td>\n",
              "      <td>NaN</td>\n",
              "      <td>NaN</td>\n",
              "      <td>NaN</td>\n",
              "      <td>NaN</td>\n",
              "      <td>NaN</td>\n",
              "      <td>NaN</td>\n",
              "      <td>NaN</td>\n",
              "      <td>NaN</td>\n",
              "      <td>NaN</td>\n",
              "      <td>...</td>\n",
              "      <td>34.0</td>\n",
              "      <td>16.0</td>\n",
              "      <td>7.0</td>\n",
              "      <td>8.0</td>\n",
              "      <td>NaN</td>\n",
              "      <td>NaN</td>\n",
              "      <td>NaN</td>\n",
              "      <td>NaN</td>\n",
              "      <td>NaN</td>\n",
              "      <td>25.0</td>\n",
              "    </tr>\n",
              "    <tr>\n",
              "      <th>156</th>\n",
              "      <td>NaN</td>\n",
              "      <td>NaN</td>\n",
              "      <td>NaN</td>\n",
              "      <td>NaN</td>\n",
              "      <td>NaN</td>\n",
              "      <td>NaN</td>\n",
              "      <td>NaN</td>\n",
              "      <td>NaN</td>\n",
              "      <td>NaN</td>\n",
              "      <td>NaN</td>\n",
              "      <td>...</td>\n",
              "      <td>3.0</td>\n",
              "      <td>1.0</td>\n",
              "      <td>2.0</td>\n",
              "      <td>2.0</td>\n",
              "      <td>1.0</td>\n",
              "      <td>NaN</td>\n",
              "      <td>NaN</td>\n",
              "      <td>NaN</td>\n",
              "      <td>1.0</td>\n",
              "      <td>28.0</td>\n",
              "    </tr>\n",
              "    <tr>\n",
              "      <th>159</th>\n",
              "      <td>NaN</td>\n",
              "      <td>NaN</td>\n",
              "      <td>NaN</td>\n",
              "      <td>NaN</td>\n",
              "      <td>NaN</td>\n",
              "      <td>NaN</td>\n",
              "      <td>NaN</td>\n",
              "      <td>NaN</td>\n",
              "      <td>NaN</td>\n",
              "      <td>NaN</td>\n",
              "      <td>...</td>\n",
              "      <td>55.0</td>\n",
              "      <td>33.0</td>\n",
              "      <td>15.0</td>\n",
              "      <td>13.0</td>\n",
              "      <td>6.0</td>\n",
              "      <td>2.0</td>\n",
              "      <td>NaN</td>\n",
              "      <td>NaN</td>\n",
              "      <td>NaN</td>\n",
              "      <td>2.0</td>\n",
              "    </tr>\n",
              "  </tbody>\n",
              "</table>\n",
              "<p>5 rows × 57 columns</p>\n",
              "</div>"
            ],
            "text/plain": [
              "RegistrationYear  1960  1961  1962  1963  1964  1965  1966  1967  1968  1969  \\\n",
              "Model                                                                          \n",
              "100                NaN   NaN   NaN   NaN   NaN   NaN   NaN   NaN   NaN   NaN   \n",
              "145                1.0   NaN   NaN   NaN   NaN   NaN   NaN   NaN   NaN   NaN   \n",
              "147                NaN   NaN   NaN   NaN   NaN   NaN   NaN   NaN   NaN   NaN   \n",
              "156                NaN   NaN   NaN   NaN   NaN   NaN   NaN   NaN   NaN   NaN   \n",
              "159                NaN   NaN   NaN   NaN   NaN   NaN   NaN   NaN   NaN   NaN   \n",
              "\n",
              "RegistrationYear  ...  2007  2008  2009  2010  2011  2012  2013  2014  2015  \\\n",
              "Model             ...                                                         \n",
              "100               ...   1.0   NaN   NaN   NaN   NaN   NaN   NaN   NaN   NaN   \n",
              "145               ...   NaN   NaN   NaN   NaN   NaN   NaN   NaN   NaN   NaN   \n",
              "147               ...  34.0  16.0   7.0   8.0   NaN   NaN   NaN   NaN   NaN   \n",
              "156               ...   3.0   1.0   2.0   2.0   1.0   NaN   NaN   NaN   1.0   \n",
              "159               ...  55.0  33.0  15.0  13.0   6.0   2.0   NaN   NaN   NaN   \n",
              "\n",
              "RegistrationYear  2016  \n",
              "Model                   \n",
              "100                5.0  \n",
              "145                1.0  \n",
              "147               25.0  \n",
              "156               28.0  \n",
              "159                2.0  \n",
              "\n",
              "[5 rows x 57 columns]"
            ]
          },
          "metadata": {},
          "output_type": "display_data"
        }
      ],
      "source": [
        "pivot_year = df.query(\n",
        "    'RegistrationYear > 1959 & RegistrationYear < 2017').pivot_table(\n",
        "        index=['RegistrationYear'],\n",
        "        columns=['Model'],\n",
        "        values=['Price'],\n",
        "        aggfunc=['count'])\n",
        "pivot_year = pivot_year['count']['Price']\n",
        "display(pivot_year.T.head(5))"
      ]
    },
    {
      "cell_type": "code",
      "execution_count": null,
      "metadata": {
        "colab": {
          "base_uri": "https://localhost:8080/",
          "height": 52
        },
        "id": "VxFt3_7AeaeF",
        "outputId": "0ef54a3c-a2be-4435-9a1c-d2480da3cb6a"
      },
      "outputs": [
        {
          "data": {
            "text/plain": [
              "RegistrationYear    0\n",
              "dtype: int64"
            ]
          },
          "metadata": {},
          "output_type": "display_data"
        }
      ],
      "source": [
        "df.loc[df['RegistrationYear'] > 2016, ['RegistrationYear']] = 0\n",
        "df.loc[df['RegistrationYear'] < 1960, ['RegistrationYear']] = 0\n",
        "\n",
        "df['RegistrationYear'] = df.apply(by_sign_recovery,\n",
        "                             args=[3, pivot_year,6],\n",
        "                             axis=1)\n",
        "display(df.loc[df['RegistrationYear'] == 0, ['RegistrationYear']].count() )"
      ]
    },
    {
      "cell_type": "code",
      "execution_count": null,
      "metadata": {
        "colab": {
          "base_uri": "https://localhost:8080/",
          "height": 621
        },
        "id": "xmTHRO4TDLsy",
        "outputId": "9ec73595-37b7-451f-f1f6-f751aa488b58"
      },
      "outputs": [
        {
          "data": {
            "image/png": "[encoded data removed]",
            "text/plain": [
              "<Figure size 1080x720 with 2 Axes>"
            ]
          },
          "metadata": {
            "needs_background": "light"
          },
          "output_type": "display_data"
        }
      ],
      "source": [
        "df.plot(x='RegistrationYear', y='Price', kind='hexbin', gridsize=40\n",
        "              , figsize=(15, 10), sharex=False, grid=True)\n",
        "plt.title('Зависимость цен на авто от года регистрации')\n",
        "plt.xlabel('Год регистрации')\n",
        "plt.ylabel('Цена авто')\n",
        "plt.show()"
      ]
    },
    {
      "cell_type": "markdown",
      "metadata": {
        "id": "65ycJVasedoI"
      },
      "source": [
        " Разброс цен в зависимости от года похож на правду: для авто каждого года есть машины с различными ценами, чем новее, тем дороже, максимум значений иприходится на конец 90-х начало нулевых, плюс заметный пик объявлений о продаже новых авто. "
      ]
    },
    {
      "cell_type": "markdown",
      "metadata": {
        "id": "AHw_ucnFJD85"
      },
      "source": [
        "### Тип коробки передач\n",
        "\n",
        "Вариантов немного: ручка или автомат. Воспользуемся уже привычным способом и поставим самый популярный вариант по модели"
      ]
    },
    {
      "cell_type": "code",
      "execution_count": null,
      "metadata": {
        "colab": {
          "base_uri": "https://localhost:8080/",
          "height": 238
        },
        "id": "eJVzRCSOJ9uc",
        "outputId": "53db26d1-985e-45f5-805b-fe1bd9870bbb"
      },
      "outputs": [
        {
          "data": {
            "text/html": [
              "<div>\n",
              "<style scoped>\n",
              "    .dataframe tbody tr th:only-of-type {\n",
              "        vertical-align: middle;\n",
              "    }\n",
              "\n",
              "    .dataframe tbody tr th {\n",
              "        vertical-align: top;\n",
              "    }\n",
              "\n",
              "    .dataframe thead th {\n",
              "        text-align: right;\n",
              "    }\n",
              "</style>\n",
              "<table border=\"1\" class=\"dataframe\">\n",
              "  <thead>\n",
              "    <tr style=\"text-align: right;\">\n",
              "      <th>Gearbox</th>\n",
              "      <th>auto</th>\n",
              "      <th>manual</th>\n",
              "    </tr>\n",
              "    <tr>\n",
              "      <th>Model</th>\n",
              "      <th></th>\n",
              "      <th></th>\n",
              "    </tr>\n",
              "  </thead>\n",
              "  <tbody>\n",
              "    <tr>\n",
              "      <th>100</th>\n",
              "      <td>59.0</td>\n",
              "      <td>320.0</td>\n",
              "    </tr>\n",
              "    <tr>\n",
              "      <th>145</th>\n",
              "      <td>NaN</td>\n",
              "      <td>39.0</td>\n",
              "    </tr>\n",
              "    <tr>\n",
              "      <th>147</th>\n",
              "      <td>26.0</td>\n",
              "      <td>516.0</td>\n",
              "    </tr>\n",
              "    <tr>\n",
              "      <th>156</th>\n",
              "      <td>50.0</td>\n",
              "      <td>629.0</td>\n",
              "    </tr>\n",
              "    <tr>\n",
              "      <th>159</th>\n",
              "      <td>26.0</td>\n",
              "      <td>182.0</td>\n",
              "    </tr>\n",
              "  </tbody>\n",
              "</table>\n",
              "</div>"
            ],
            "text/plain": [
              "Gearbox  auto  manual\n",
              "Model                \n",
              "100      59.0   320.0\n",
              "145       NaN    39.0\n",
              "147      26.0   516.0\n",
              "156      50.0   629.0\n",
              "159      26.0   182.0"
            ]
          },
          "metadata": {},
          "output_type": "display_data"
        }
      ],
      "source": [
        "pivot_gearbox = df.pivot_table(\n",
        "        index=['Gearbox'],\n",
        "        columns=['Model'],\n",
        "        values=['Price'],\n",
        "        aggfunc=['count'])\n",
        "pivot_gearbox = pivot_gearbox['count']['Price']\n",
        "display(pivot_gearbox.T.head(5))"
      ]
    },
    {
      "cell_type": "code",
      "execution_count": null,
      "metadata": {
        "colab": {
          "base_uri": "https://localhost:8080/",
          "height": 69
        },
        "id": "JP-pvnLRFsU7",
        "outputId": "aa067af5-a954-4d83-fd8b-009708c8f059"
      },
      "outputs": [
        {
          "data": {
            "text/plain": [
              "manual    276733\n",
              "auto       66395\n",
              "Name: Gearbox, dtype: int64"
            ]
          },
          "metadata": {},
          "output_type": "display_data"
        }
      ],
      "source": [
        "df.fillna({'Gearbox':0},inplace=True)\n",
        "df['Gearbox'] = df.apply(by_sign_recovery,\n",
        "                             args=[4, pivot_gearbox,6],\n",
        "                             axis=1)\n",
        "display(df['Gearbox'].value_counts())"
      ]
    },
    {
      "cell_type": "markdown",
      "metadata": {
        "id": "OD1QanDyHjRO"
      },
      "source": [
        "Отлично. У нас только ручка или авто, поэтому данные можно было бы категоризировать признак в булев тип в одном столбце, но оставим это на следующий этап, т.к. предобработка тестовой и обучающей выборки должна быть одинаковой. "
      ]
    },
    {
      "cell_type": "markdown",
      "metadata": {
        "id": "lgLIfLbAKpA9"
      },
      "source": [
        "### Тип топлива\n",
        "\n",
        "Восстановим по наиболее популярной модели авто c этим топливом"
      ]
    },
    {
      "cell_type": "code",
      "execution_count": null,
      "metadata": {
        "colab": {
          "base_uri": "https://localhost:8080/",
          "height": 330
        },
        "id": "Qsoh8WbLIiZ3",
        "outputId": "876b383a-5914-4c50-8ae3-414f6bc12502"
      },
      "outputs": [
        {
          "data": {
            "text/html": [
              "<div>\n",
              "<style scoped>\n",
              "    .dataframe tbody tr th:only-of-type {\n",
              "        vertical-align: middle;\n",
              "    }\n",
              "\n",
              "    .dataframe tbody tr th {\n",
              "        vertical-align: top;\n",
              "    }\n",
              "\n",
              "    .dataframe thead th {\n",
              "        text-align: right;\n",
              "    }\n",
              "</style>\n",
              "<table border=\"1\" class=\"dataframe\">\n",
              "  <thead>\n",
              "    <tr style=\"text-align: right;\">\n",
              "      <th>Model</th>\n",
              "      <th>100</th>\n",
              "      <th>145</th>\n",
              "      <th>147</th>\n",
              "      <th>156</th>\n",
              "      <th>159</th>\n",
              "      <th>1_reihe</th>\n",
              "      <th>1er</th>\n",
              "      <th>200</th>\n",
              "      <th>2_reihe</th>\n",
              "      <th>300c</th>\n",
              "      <th>...</th>\n",
              "      <th>wrangler</th>\n",
              "      <th>x_reihe</th>\n",
              "      <th>x_trail</th>\n",
              "      <th>x_type</th>\n",
              "      <th>xc_reihe</th>\n",
              "      <th>yaris</th>\n",
              "      <th>yeti</th>\n",
              "      <th>ypsilon</th>\n",
              "      <th>z_reihe</th>\n",
              "      <th>zafira</th>\n",
              "    </tr>\n",
              "    <tr>\n",
              "      <th>FuelType</th>\n",
              "      <th></th>\n",
              "      <th></th>\n",
              "      <th></th>\n",
              "      <th></th>\n",
              "      <th></th>\n",
              "      <th></th>\n",
              "      <th></th>\n",
              "      <th></th>\n",
              "      <th></th>\n",
              "      <th></th>\n",
              "      <th></th>\n",
              "      <th></th>\n",
              "      <th></th>\n",
              "      <th></th>\n",
              "      <th></th>\n",
              "      <th></th>\n",
              "      <th></th>\n",
              "      <th></th>\n",
              "      <th></th>\n",
              "      <th></th>\n",
              "      <th></th>\n",
              "    </tr>\n",
              "  </thead>\n",
              "  <tbody>\n",
              "    <tr>\n",
              "      <th>cng</th>\n",
              "      <td>NaN</td>\n",
              "      <td>NaN</td>\n",
              "      <td>NaN</td>\n",
              "      <td>NaN</td>\n",
              "      <td>NaN</td>\n",
              "      <td>NaN</td>\n",
              "      <td>NaN</td>\n",
              "      <td>NaN</td>\n",
              "      <td>1.0</td>\n",
              "      <td>NaN</td>\n",
              "      <td>...</td>\n",
              "      <td>NaN</td>\n",
              "      <td>NaN</td>\n",
              "      <td>NaN</td>\n",
              "      <td>NaN</td>\n",
              "      <td>NaN</td>\n",
              "      <td>NaN</td>\n",
              "      <td>NaN</td>\n",
              "      <td>NaN</td>\n",
              "      <td>NaN</td>\n",
              "      <td>112.0</td>\n",
              "    </tr>\n",
              "    <tr>\n",
              "      <th>electric</th>\n",
              "      <td>NaN</td>\n",
              "      <td>NaN</td>\n",
              "      <td>NaN</td>\n",
              "      <td>NaN</td>\n",
              "      <td>NaN</td>\n",
              "      <td>NaN</td>\n",
              "      <td>NaN</td>\n",
              "      <td>NaN</td>\n",
              "      <td>NaN</td>\n",
              "      <td>NaN</td>\n",
              "      <td>...</td>\n",
              "      <td>NaN</td>\n",
              "      <td>NaN</td>\n",
              "      <td>NaN</td>\n",
              "      <td>NaN</td>\n",
              "      <td>NaN</td>\n",
              "      <td>NaN</td>\n",
              "      <td>NaN</td>\n",
              "      <td>NaN</td>\n",
              "      <td>NaN</td>\n",
              "      <td>NaN</td>\n",
              "    </tr>\n",
              "    <tr>\n",
              "      <th>gasoline</th>\n",
              "      <td>15.0</td>\n",
              "      <td>NaN</td>\n",
              "      <td>132.0</td>\n",
              "      <td>200.0</td>\n",
              "      <td>139.0</td>\n",
              "      <td>39.0</td>\n",
              "      <td>1642.0</td>\n",
              "      <td>NaN</td>\n",
              "      <td>670.0</td>\n",
              "      <td>79.0</td>\n",
              "      <td>...</td>\n",
              "      <td>12.0</td>\n",
              "      <td>1274.0</td>\n",
              "      <td>151.0</td>\n",
              "      <td>59.0</td>\n",
              "      <td>232.0</td>\n",
              "      <td>115.0</td>\n",
              "      <td>84.0</td>\n",
              "      <td>6.0</td>\n",
              "      <td>2.0</td>\n",
              "      <td>1187.0</td>\n",
              "    </tr>\n",
              "    <tr>\n",
              "      <th>hybrid</th>\n",
              "      <td>NaN</td>\n",
              "      <td>NaN</td>\n",
              "      <td>NaN</td>\n",
              "      <td>NaN</td>\n",
              "      <td>NaN</td>\n",
              "      <td>NaN</td>\n",
              "      <td>NaN</td>\n",
              "      <td>NaN</td>\n",
              "      <td>NaN</td>\n",
              "      <td>NaN</td>\n",
              "      <td>...</td>\n",
              "      <td>NaN</td>\n",
              "      <td>NaN</td>\n",
              "      <td>NaN</td>\n",
              "      <td>NaN</td>\n",
              "      <td>NaN</td>\n",
              "      <td>20.0</td>\n",
              "      <td>NaN</td>\n",
              "      <td>NaN</td>\n",
              "      <td>NaN</td>\n",
              "      <td>1.0</td>\n",
              "    </tr>\n",
              "    <tr>\n",
              "      <th>lpg</th>\n",
              "      <td>8.0</td>\n",
              "      <td>NaN</td>\n",
              "      <td>18.0</td>\n",
              "      <td>17.0</td>\n",
              "      <td>NaN</td>\n",
              "      <td>4.0</td>\n",
              "      <td>9.0</td>\n",
              "      <td>NaN</td>\n",
              "      <td>41.0</td>\n",
              "      <td>11.0</td>\n",
              "      <td>...</td>\n",
              "      <td>4.0</td>\n",
              "      <td>32.0</td>\n",
              "      <td>1.0</td>\n",
              "      <td>8.0</td>\n",
              "      <td>4.0</td>\n",
              "      <td>1.0</td>\n",
              "      <td>NaN</td>\n",
              "      <td>1.0</td>\n",
              "      <td>10.0</td>\n",
              "      <td>82.0</td>\n",
              "    </tr>\n",
              "    <tr>\n",
              "      <th>other</th>\n",
              "      <td>NaN</td>\n",
              "      <td>NaN</td>\n",
              "      <td>NaN</td>\n",
              "      <td>NaN</td>\n",
              "      <td>NaN</td>\n",
              "      <td>NaN</td>\n",
              "      <td>NaN</td>\n",
              "      <td>NaN</td>\n",
              "      <td>1.0</td>\n",
              "      <td>NaN</td>\n",
              "      <td>...</td>\n",
              "      <td>NaN</td>\n",
              "      <td>NaN</td>\n",
              "      <td>NaN</td>\n",
              "      <td>NaN</td>\n",
              "      <td>NaN</td>\n",
              "      <td>NaN</td>\n",
              "      <td>NaN</td>\n",
              "      <td>NaN</td>\n",
              "      <td>NaN</td>\n",
              "      <td>NaN</td>\n",
              "    </tr>\n",
              "    <tr>\n",
              "      <th>petrol</th>\n",
              "      <td>341.0</td>\n",
              "      <td>41.0</td>\n",
              "      <td>384.0</td>\n",
              "      <td>396.0</td>\n",
              "      <td>58.0</td>\n",
              "      <td>1125.0</td>\n",
              "      <td>1755.0</td>\n",
              "      <td>16.0</td>\n",
              "      <td>4346.0</td>\n",
              "      <td>42.0</td>\n",
              "      <td>...</td>\n",
              "      <td>79.0</td>\n",
              "      <td>212.0</td>\n",
              "      <td>42.0</td>\n",
              "      <td>89.0</td>\n",
              "      <td>25.0</td>\n",
              "      <td>941.0</td>\n",
              "      <td>87.0</td>\n",
              "      <td>185.0</td>\n",
              "      <td>678.0</td>\n",
              "      <td>1362.0</td>\n",
              "    </tr>\n",
              "  </tbody>\n",
              "</table>\n",
              "<p>7 rows × 251 columns</p>\n",
              "</div>"
            ],
            "text/plain": [
              "Model       100   145    147    156    159  1_reihe     1er   200  2_reihe  \\\n",
              "FuelType                                                                     \n",
              "cng         NaN   NaN    NaN    NaN    NaN      NaN     NaN   NaN      1.0   \n",
              "electric    NaN   NaN    NaN    NaN    NaN      NaN     NaN   NaN      NaN   \n",
              "gasoline   15.0   NaN  132.0  200.0  139.0     39.0  1642.0   NaN    670.0   \n",
              "hybrid      NaN   NaN    NaN    NaN    NaN      NaN     NaN   NaN      NaN   \n",
              "lpg         8.0   NaN   18.0   17.0    NaN      4.0     9.0   NaN     41.0   \n",
              "other       NaN   NaN    NaN    NaN    NaN      NaN     NaN   NaN      1.0   \n",
              "petrol    341.0  41.0  384.0  396.0   58.0   1125.0  1755.0  16.0   4346.0   \n",
              "\n",
              "Model     300c  ...  wrangler  x_reihe  x_trail  x_type  xc_reihe  yaris  \\\n",
              "FuelType        ...                                                        \n",
              "cng        NaN  ...       NaN      NaN      NaN     NaN       NaN    NaN   \n",
              "electric   NaN  ...       NaN      NaN      NaN     NaN       NaN    NaN   \n",
              "gasoline  79.0  ...      12.0   1274.0    151.0    59.0     232.0  115.0   \n",
              "hybrid     NaN  ...       NaN      NaN      NaN     NaN       NaN   20.0   \n",
              "lpg       11.0  ...       4.0     32.0      1.0     8.0       4.0    1.0   \n",
              "other      NaN  ...       NaN      NaN      NaN     NaN       NaN    NaN   \n",
              "petrol    42.0  ...      79.0    212.0     42.0    89.0      25.0  941.0   \n",
              "\n",
              "Model     yeti  ypsilon  z_reihe  zafira  \n",
              "FuelType                                  \n",
              "cng        NaN      NaN      NaN   112.0  \n",
              "electric   NaN      NaN      NaN     NaN  \n",
              "gasoline  84.0      6.0      2.0  1187.0  \n",
              "hybrid     NaN      NaN      NaN     1.0  \n",
              "lpg        NaN      1.0     10.0    82.0  \n",
              "other      NaN      NaN      NaN     NaN  \n",
              "petrol    87.0    185.0    678.0  1362.0  \n",
              "\n",
              "[7 rows x 251 columns]"
            ]
          },
          "metadata": {},
          "output_type": "display_data"
        }
      ],
      "source": [
        "pivot_fueltype = df.pivot_table(\n",
        "        index=['FuelType'],\n",
        "        columns=['Model'],\n",
        "        values=['Price'],\n",
        "        aggfunc=['count'])\n",
        "pivot_fueltype = pivot_fueltype['count']['Price']\n",
        "display(pivot_fueltype)"
      ]
    },
    {
      "cell_type": "code",
      "execution_count": null,
      "metadata": {
        "colab": {
          "base_uri": "https://localhost:8080/",
          "height": 156
        },
        "id": "jzBvGGipJMLH",
        "outputId": "b34bfbc7-7e03-4625-9b2e-e27cd0b8da0f"
      },
      "outputs": [
        {
          "data": {
            "text/plain": [
              "petrol      235073\n",
              "gasoline    101860\n",
              "lpg           5160\n",
              "cng            552\n",
              "hybrid         227\n",
              "other          169\n",
              "electric        87\n",
              "Name: FuelType, dtype: int64"
            ]
          },
          "metadata": {},
          "output_type": "display_data"
        }
      ],
      "source": [
        "df.fillna({'FuelType':0},inplace=True)\n",
        "df['FuelType'] = df.apply(by_sign_recovery,\n",
        "                             args=[9, pivot_fueltype,6],\n",
        "                             axis=1)\n",
        "display(df['FuelType'].value_counts())"
      ]
    },
    {
      "cell_type": "markdown",
      "metadata": {
        "id": "Fk8lqUNLNHbj"
      },
      "source": [
        "### Информация о ремонте\n",
        "\n",
        "У нас есть значения \"нет\", \"да\" и пропуски. Пропуски могут означать как то, что машина не ремонтировалась, так и то, что во фрейме нет данных о том, был ремонт, или нет. Посмотрим, как этот признак влияет на таргет, для этого возьмем срез из современных авто:"
      ]
    },
    {
      "cell_type": "code",
      "execution_count": null,
      "metadata": {
        "colab": {
          "base_uri": "https://localhost:8080/"
        },
        "id": "QCpAnoHnN7HV",
        "outputId": "70baa346-2841-4697-ea50-86e864361909"
      },
      "outputs": [
        {
          "data": {
            "text/plain": [
              "NotRepaired\n",
              "0      2835.661366\n",
              "no     5371.223300\n",
              "yes    2021.741736\n",
              "Name: Price, dtype: float64"
            ]
          },
          "execution_count": 39,
          "metadata": {},
          "output_type": "execute_result"
        }
      ],
      "source": [
        "df['NotRepaired'] = df['NotRepaired'].fillna(0)\n",
        "df.groupby('NotRepaired')['Price'].mean()\n"
      ]
    },
    {
      "cell_type": "markdown",
      "metadata": {
        "id": "L2i_0nNYP6QZ"
      },
      "source": [
        "Машины, которые точно не ремонировали в среднем стоят вдвое дороже, чем те, что после ремонта, или с неуказанным признаком. Можно считать, что все машины, для которых не указаны значения \"не ремонтировалась\" - были в ремонте. Меняем пропуски назначение yes"
      ]
    },
    {
      "cell_type": "code",
      "execution_count": null,
      "metadata": {
        "id": "IIPgxFykQzLG"
      },
      "outputs": [],
      "source": [
        "df['NotRepaired'] = df['NotRepaired'].replace(0, 'yes')"
      ]
    },
    {
      "cell_type": "markdown",
      "metadata": {
        "id": "3D2RLPGCRE19"
      },
      "source": [
        "### Почтовый код\n",
        "\n",
        "Почтовый код говорит о месте эксплуатации машины, это может оказывать заметное влияние на цену, т.к. авто лучше сохраняется в регионах с сухим теплым климатом. Соотношение спроса и предложения так же отличается от региона к региону, что тоже влияет на цену. Посмотрим какие встречаются почтовые коды отличные от пятизначных:"
      ]
    },
    {
      "cell_type": "code",
      "execution_count": null,
      "metadata": {
        "colab": {
          "base_uri": "https://localhost:8080/"
        },
        "id": "jQ1j8OIPRiFI",
        "outputId": "7267f3a6-06e0-47fa-f381-8850c32b91a6"
      },
      "outputs": [
        {
          "data": {
            "text/plain": [
              "17079"
            ]
          },
          "execution_count": 41,
          "metadata": {},
          "output_type": "execute_result"
        }
      ],
      "source": [
        "df.query('PostalCode < 10000')['PostalCode'].value_counts().sum()"
      ]
    },
    {
      "cell_type": "code",
      "execution_count": null,
      "metadata": {
        "colab": {
          "base_uri": "https://localhost:8080/"
        },
        "id": "qtPOFuUPKh3N",
        "outputId": "54024b6b-a2f9-46e2-ee2c-ce9f19fd4289"
      },
      "outputs": [
        {
          "data": {
            "text/plain": [
              "10115    812\n",
              "65428    604\n",
              "66333    327\n",
              "32257    304\n",
              "44145    301\n",
              "        ... \n",
              "23779      1\n",
              "36169      1\n",
              "82067      1\n",
              "97780      1\n",
              "94252      1\n",
              "Name: PostalCode, Length: 8138, dtype: int64"
            ]
          },
          "execution_count": 42,
          "metadata": {},
          "output_type": "execute_result"
        }
      ],
      "source": [
        "df['PostalCode'].value_counts()"
      ]
    },
    {
      "cell_type": "markdown",
      "metadata": {
        "id": "CNCZ7ZGeUH7r"
      },
      "source": [
        "Четырехзначных около 5% от фрейма. причем во многих случаях за четырехзначным кодом скрываются десятки машин, что не походит на случайную ошибку при заполнении. \n",
        "\n",
        "Тут есть еще одна загвоздка: это не числовой признак, и для обучения модели нужно будет категоризировать. Почтовые коды не зависят друг от друга, поэтому для каждого понадобится отдельный столбец... \n",
        "\n",
        "Не будем брать этот столбец в признаки для обучения, и посмотрим что из этого выйдет. Если результат будет приемлемым - ок. \n"
      ]
    },
    {
      "cell_type": "markdown",
      "metadata": {
        "id": "VtUYuKe-xYPl"
      },
      "source": [
        "###Месяц регистрации\n",
        "\n",
        "В данных о месяце регистрации есть нулевые значения. Посмотрим, насколько отличаются средние цифровые показатели машин для которых указан нулевой месяц, от остальных. Возможно просто пропущена единица в октябре..."
      ]
    },
    {
      "cell_type": "code",
      "execution_count": null,
      "metadata": {
        "colab": {
          "base_uri": "https://localhost:8080/",
          "height": 238
        },
        "id": "m6LPnUHrb4GB",
        "outputId": "2146ae42-11cc-4720-a924-6e32769ff001"
      },
      "outputs": [
        {
          "data": {
            "text/html": [
              "<div>\n",
              "<style scoped>\n",
              "    .dataframe tbody tr th:only-of-type {\n",
              "        vertical-align: middle;\n",
              "    }\n",
              "\n",
              "    .dataframe tbody tr th {\n",
              "        vertical-align: top;\n",
              "    }\n",
              "\n",
              "    .dataframe thead th {\n",
              "        text-align: right;\n",
              "    }\n",
              "</style>\n",
              "<table border=\"1\" class=\"dataframe\">\n",
              "  <thead>\n",
              "    <tr style=\"text-align: right;\">\n",
              "      <th>RegistrationMonth</th>\n",
              "      <th>0</th>\n",
              "      <th>1</th>\n",
              "      <th>2</th>\n",
              "      <th>3</th>\n",
              "      <th>4</th>\n",
              "      <th>5</th>\n",
              "      <th>6</th>\n",
              "      <th>7</th>\n",
              "      <th>8</th>\n",
              "      <th>9</th>\n",
              "      <th>10</th>\n",
              "      <th>11</th>\n",
              "      <th>12</th>\n",
              "    </tr>\n",
              "  </thead>\n",
              "  <tbody>\n",
              "    <tr>\n",
              "      <th>Price</th>\n",
              "      <td>2163.766188</td>\n",
              "      <td>4784.621509</td>\n",
              "      <td>4681.789481</td>\n",
              "      <td>4658.960308</td>\n",
              "      <td>4838.905571</td>\n",
              "      <td>4722.964357</td>\n",
              "      <td>4804.377695</td>\n",
              "      <td>4894.544394</td>\n",
              "      <td>4768.045446</td>\n",
              "      <td>4962.875573</td>\n",
              "      <td>4898.305329</td>\n",
              "      <td>4993.112310</td>\n",
              "      <td>4712.021456</td>\n",
              "    </tr>\n",
              "    <tr>\n",
              "      <th>RegistrationYear</th>\n",
              "      <td>2000.299723</td>\n",
              "      <td>2002.612407</td>\n",
              "      <td>2003.007218</td>\n",
              "      <td>2002.739174</td>\n",
              "      <td>2002.832107</td>\n",
              "      <td>2002.846483</td>\n",
              "      <td>2002.798831</td>\n",
              "      <td>2002.289440</td>\n",
              "      <td>2003.064167</td>\n",
              "      <td>2003.108751</td>\n",
              "      <td>2003.032605</td>\n",
              "      <td>2003.123562</td>\n",
              "      <td>2002.730599</td>\n",
              "    </tr>\n",
              "    <tr>\n",
              "      <th>Power</th>\n",
              "      <td>109.697779</td>\n",
              "      <td>120.021076</td>\n",
              "      <td>117.274468</td>\n",
              "      <td>117.626846</td>\n",
              "      <td>119.765619</td>\n",
              "      <td>118.617471</td>\n",
              "      <td>120.347240</td>\n",
              "      <td>123.089875</td>\n",
              "      <td>119.209957</td>\n",
              "      <td>121.103568</td>\n",
              "      <td>121.325736</td>\n",
              "      <td>122.365418</td>\n",
              "      <td>121.680395</td>\n",
              "    </tr>\n",
              "    <tr>\n",
              "      <th>Kilometer</th>\n",
              "      <td>129649.419508</td>\n",
              "      <td>128556.689643</td>\n",
              "      <td>128039.649697</td>\n",
              "      <td>127365.546840</td>\n",
              "      <td>127673.282869</td>\n",
              "      <td>127822.487283</td>\n",
              "      <td>128236.525974</td>\n",
              "      <td>128335.522366</td>\n",
              "      <td>128061.182961</td>\n",
              "      <td>127874.030925</td>\n",
              "      <td>128695.609680</td>\n",
              "      <td>128526.908003</td>\n",
              "      <td>129796.610884</td>\n",
              "    </tr>\n",
              "    <tr>\n",
              "      <th>NumberOfPictures</th>\n",
              "      <td>0.000000</td>\n",
              "      <td>0.000000</td>\n",
              "      <td>0.000000</td>\n",
              "      <td>0.000000</td>\n",
              "      <td>0.000000</td>\n",
              "      <td>0.000000</td>\n",
              "      <td>0.000000</td>\n",
              "      <td>0.000000</td>\n",
              "      <td>0.000000</td>\n",
              "      <td>0.000000</td>\n",
              "      <td>0.000000</td>\n",
              "      <td>0.000000</td>\n",
              "      <td>0.000000</td>\n",
              "    </tr>\n",
              "    <tr>\n",
              "      <th>PostalCode</th>\n",
              "      <td>48013.367218</td>\n",
              "      <td>50604.338194</td>\n",
              "      <td>50923.398037</td>\n",
              "      <td>51513.612728</td>\n",
              "      <td>51687.534203</td>\n",
              "      <td>51048.624733</td>\n",
              "      <td>50751.032403</td>\n",
              "      <td>51515.852597</td>\n",
              "      <td>50212.511486</td>\n",
              "      <td>51293.102240</td>\n",
              "      <td>51250.956879</td>\n",
              "      <td>50589.493068</td>\n",
              "      <td>49776.699321</td>\n",
              "    </tr>\n",
              "  </tbody>\n",
              "</table>\n",
              "</div>"
            ],
            "text/plain": [
              "RegistrationMonth             0              1              2              3   \\\n",
              "Price                2163.766188    4784.621509    4681.789481    4658.960308   \n",
              "RegistrationYear     2000.299723    2002.612407    2003.007218    2002.739174   \n",
              "Power                 109.697779     120.021076     117.274468     117.626846   \n",
              "Kilometer          129649.419508  128556.689643  128039.649697  127365.546840   \n",
              "NumberOfPictures        0.000000       0.000000       0.000000       0.000000   \n",
              "PostalCode          48013.367218   50604.338194   50923.398037   51513.612728   \n",
              "\n",
              "RegistrationMonth             4              5              6              7   \\\n",
              "Price                4838.905571    4722.964357    4804.377695    4894.544394   \n",
              "RegistrationYear     2002.832107    2002.846483    2002.798831    2002.289440   \n",
              "Power                 119.765619     118.617471     120.347240     123.089875   \n",
              "Kilometer          127673.282869  127822.487283  128236.525974  128335.522366   \n",
              "NumberOfPictures        0.000000       0.000000       0.000000       0.000000   \n",
              "PostalCode          51687.534203   51048.624733   50751.032403   51515.852597   \n",
              "\n",
              "RegistrationMonth             8              9              10             11  \\\n",
              "Price                4768.045446    4962.875573    4898.305329    4993.112310   \n",
              "RegistrationYear     2003.064167    2003.108751    2003.032605    2003.123562   \n",
              "Power                 119.209957     121.103568     121.325736     122.365418   \n",
              "Kilometer          128061.182961  127874.030925  128695.609680  128526.908003   \n",
              "NumberOfPictures        0.000000       0.000000       0.000000       0.000000   \n",
              "PostalCode          50212.511486   51293.102240   51250.956879   50589.493068   \n",
              "\n",
              "RegistrationMonth             12  \n",
              "Price                4712.021456  \n",
              "RegistrationYear     2002.730599  \n",
              "Power                 121.680395  \n",
              "Kilometer          129796.610884  \n",
              "NumberOfPictures        0.000000  \n",
              "PostalCode          49776.699321  "
            ]
          },
          "execution_count": 43,
          "metadata": {},
          "output_type": "execute_result"
        }
      ],
      "source": [
        "df.groupby('RegistrationMonth').mean().T\n"
      ]
    },
    {
      "cell_type": "code",
      "execution_count": null,
      "metadata": {
        "colab": {
          "base_uri": "https://localhost:8080/"
        },
        "id": "5KbauhJBNu3P",
        "outputId": "8901eca1-796b-43bd-f48a-8f4005b43773"
      },
      "outputs": [
        {
          "data": {
            "text/plain": [
              "3     33785\n",
              "0     32817\n",
              "6     30800\n",
              "4     28667\n",
              "5     28505\n",
              "7     26648\n",
              "10    25579\n",
              "11    23729\n",
              "12    23723\n",
              "9     23347\n",
              "1     22632\n",
              "8     22114\n",
              "2     20782\n",
              "Name: RegistrationMonth, dtype: int64"
            ]
          },
          "execution_count": 44,
          "metadata": {},
          "output_type": "execute_result"
        }
      ],
      "source": [
        "df['RegistrationMonth'].value_counts()"
      ]
    },
    {
      "cell_type": "markdown",
      "metadata": {
        "id": "jXfU2suPdBEe"
      },
      "source": [
        "нет, просто добавлять эти нули в октябрь будет неправильно. средняя цена, год регистрации и мощность не характерны ни для одного из месяцев, при этом ошибочных значений почти 10% от фрейма и больше, чем в остальных месяцах. \n",
        "\n",
        "удалять их тоже вредно. Месяц регистрации может влиять на цену (например машины зарегистрированные в конце года часто оцениваются дороже, чем те, которые зарегистрированы в начале того же года, т.к. меньше эксплуатировались на момент продажи, особенно это актуально для \"свежих\" машин\n",
        "\n",
        "Стоит оставить информацию в таком виде и указать на ошибку в выводах"
      ]
    },
    {
      "cell_type": "code",
      "execution_count": null,
      "metadata": {
        "colab": {
          "base_uri": "https://localhost:8080/"
        },
        "id": "ka77u0hYhc9m",
        "outputId": "32b73f07-7545-4127-f235-5e35680149bd"
      },
      "outputs": [
        {
          "data": {
            "text/plain": [
              "DateCrawled          0\n",
              "Price                0\n",
              "VehicleType          0\n",
              "RegistrationYear     0\n",
              "Gearbox              0\n",
              "Power                0\n",
              "Model                0\n",
              "Kilometer            0\n",
              "RegistrationMonth    0\n",
              "FuelType             0\n",
              "Brand                0\n",
              "NotRepaired          0\n",
              "DateCreated          0\n",
              "NumberOfPictures     0\n",
              "PostalCode           0\n",
              "LastSeen             0\n",
              "dtype: int64"
            ]
          },
          "execution_count": 45,
          "metadata": {},
          "output_type": "execute_result"
        }
      ],
      "source": [
        "df.isna().sum()"
      ]
    },
    {
      "cell_type": "code",
      "execution_count": null,
      "metadata": {
        "colab": {
          "base_uri": "https://localhost:8080/"
        },
        "id": "nQxRUHADhmQX",
        "outputId": "06febcd6-f371-4d63-9e12-fae11ad0e1de"
      },
      "outputs": [
        {
          "data": {
            "text/plain": [
              "(343128, 16)"
            ]
          },
          "execution_count": 46,
          "metadata": {},
          "output_type": "execute_result"
        }
      ],
      "source": [
        "df.shape"
      ]
    },
    {
      "cell_type": "code",
      "execution_count": null,
      "metadata": {
        "colab": {
          "base_uri": "https://localhost:8080/",
          "height": 551
        },
        "id": "sX9TQwVphrqf",
        "outputId": "a68d7971-224e-4954-a36a-5d2adf4e62b9"
      },
      "outputs": [
        {
          "data": {
            "text/html": [
              "<div>\n",
              "<style scoped>\n",
              "    .dataframe tbody tr th:only-of-type {\n",
              "        vertical-align: middle;\n",
              "    }\n",
              "\n",
              "    .dataframe tbody tr th {\n",
              "        vertical-align: top;\n",
              "    }\n",
              "\n",
              "    .dataframe thead th {\n",
              "        text-align: right;\n",
              "    }\n",
              "</style>\n",
              "<table border=\"1\" class=\"dataframe\">\n",
              "  <thead>\n",
              "    <tr style=\"text-align: right;\">\n",
              "      <th></th>\n",
              "      <th>count</th>\n",
              "      <th>unique</th>\n",
              "      <th>top</th>\n",
              "      <th>freq</th>\n",
              "      <th>first</th>\n",
              "      <th>last</th>\n",
              "      <th>mean</th>\n",
              "      <th>std</th>\n",
              "      <th>min</th>\n",
              "      <th>25%</th>\n",
              "      <th>50%</th>\n",
              "      <th>75%</th>\n",
              "      <th>max</th>\n",
              "    </tr>\n",
              "  </thead>\n",
              "  <tbody>\n",
              "    <tr>\n",
              "      <th>DateCrawled</th>\n",
              "      <td>343128</td>\n",
              "      <td>264882</td>\n",
              "      <td>2016-03-24 14:49:47</td>\n",
              "      <td>7</td>\n",
              "      <td>2016-03-05 14:06:22</td>\n",
              "      <td>2016-04-07 14:36:58</td>\n",
              "      <td>NaN</td>\n",
              "      <td>NaN</td>\n",
              "      <td>NaN</td>\n",
              "      <td>NaN</td>\n",
              "      <td>NaN</td>\n",
              "      <td>NaN</td>\n",
              "      <td>NaN</td>\n",
              "    </tr>\n",
              "    <tr>\n",
              "      <th>Price</th>\n",
              "      <td>343128.0</td>\n",
              "      <td>NaN</td>\n",
              "      <td>NaN</td>\n",
              "      <td>NaN</td>\n",
              "      <td>NaT</td>\n",
              "      <td>NaT</td>\n",
              "      <td>4554.017338</td>\n",
              "      <td>4512.721193</td>\n",
              "      <td>1.0</td>\n",
              "      <td>1200.0</td>\n",
              "      <td>2890.0</td>\n",
              "      <td>6500.0</td>\n",
              "      <td>20000.0</td>\n",
              "    </tr>\n",
              "    <tr>\n",
              "      <th>VehicleType</th>\n",
              "      <td>343128</td>\n",
              "      <td>8</td>\n",
              "      <td>sedan</td>\n",
              "      <td>105599</td>\n",
              "      <td>NaT</td>\n",
              "      <td>NaT</td>\n",
              "      <td>NaN</td>\n",
              "      <td>NaN</td>\n",
              "      <td>NaN</td>\n",
              "      <td>NaN</td>\n",
              "      <td>NaN</td>\n",
              "      <td>NaN</td>\n",
              "      <td>NaN</td>\n",
              "    </tr>\n",
              "    <tr>\n",
              "      <th>RegistrationYear</th>\n",
              "      <td>343128.0</td>\n",
              "      <td>NaN</td>\n",
              "      <td>NaN</td>\n",
              "      <td>NaN</td>\n",
              "      <td>NaT</td>\n",
              "      <td>NaT</td>\n",
              "      <td>2002.594798</td>\n",
              "      <td>6.582391</td>\n",
              "      <td>1960.0</td>\n",
              "      <td>1999.0</td>\n",
              "      <td>2003.0</td>\n",
              "      <td>2007.0</td>\n",
              "      <td>2016.0</td>\n",
              "    </tr>\n",
              "    <tr>\n",
              "      <th>Gearbox</th>\n",
              "      <td>343128</td>\n",
              "      <td>2</td>\n",
              "      <td>manual</td>\n",
              "      <td>276733</td>\n",
              "      <td>NaT</td>\n",
              "      <td>NaT</td>\n",
              "      <td>NaN</td>\n",
              "      <td>NaN</td>\n",
              "      <td>NaN</td>\n",
              "      <td>NaN</td>\n",
              "      <td>NaN</td>\n",
              "      <td>NaN</td>\n",
              "      <td>NaN</td>\n",
              "    </tr>\n",
              "    <tr>\n",
              "      <th>Power</th>\n",
              "      <td>343128.0</td>\n",
              "      <td>NaN</td>\n",
              "      <td>NaN</td>\n",
              "      <td>NaN</td>\n",
              "      <td>NaT</td>\n",
              "      <td>NaT</td>\n",
              "      <td>119.156799</td>\n",
              "      <td>51.378624</td>\n",
              "      <td>1.0</td>\n",
              "      <td>80.0</td>\n",
              "      <td>109.0</td>\n",
              "      <td>150.0</td>\n",
              "      <td>490.0</td>\n",
              "    </tr>\n",
              "    <tr>\n",
              "      <th>Model</th>\n",
              "      <td>343128</td>\n",
              "      <td>251</td>\n",
              "      <td>golf</td>\n",
              "      <td>31321</td>\n",
              "      <td>NaT</td>\n",
              "      <td>NaT</td>\n",
              "      <td>NaN</td>\n",
              "      <td>NaN</td>\n",
              "      <td>NaN</td>\n",
              "      <td>NaN</td>\n",
              "      <td>NaN</td>\n",
              "      <td>NaN</td>\n",
              "      <td>NaN</td>\n",
              "    </tr>\n",
              "    <tr>\n",
              "      <th>Kilometer</th>\n",
              "      <td>343128.0</td>\n",
              "      <td>NaN</td>\n",
              "      <td>NaN</td>\n",
              "      <td>NaN</td>\n",
              "      <td>NaT</td>\n",
              "      <td>NaT</td>\n",
              "      <td>128347.526288</td>\n",
              "      <td>37503.980322</td>\n",
              "      <td>5000.0</td>\n",
              "      <td>125000.0</td>\n",
              "      <td>150000.0</td>\n",
              "      <td>150000.0</td>\n",
              "      <td>150000.0</td>\n",
              "    </tr>\n",
              "    <tr>\n",
              "      <th>RegistrationMonth</th>\n",
              "      <td>343128.0</td>\n",
              "      <td>NaN</td>\n",
              "      <td>NaN</td>\n",
              "      <td>NaN</td>\n",
              "      <td>NaT</td>\n",
              "      <td>NaT</td>\n",
              "      <td>5.778019</td>\n",
              "      <td>3.69779</td>\n",
              "      <td>0.0</td>\n",
              "      <td>3.0</td>\n",
              "      <td>6.0</td>\n",
              "      <td>9.0</td>\n",
              "      <td>12.0</td>\n",
              "    </tr>\n",
              "    <tr>\n",
              "      <th>FuelType</th>\n",
              "      <td>343128</td>\n",
              "      <td>7</td>\n",
              "      <td>petrol</td>\n",
              "      <td>235073</td>\n",
              "      <td>NaT</td>\n",
              "      <td>NaT</td>\n",
              "      <td>NaN</td>\n",
              "      <td>NaN</td>\n",
              "      <td>NaN</td>\n",
              "      <td>NaN</td>\n",
              "      <td>NaN</td>\n",
              "      <td>NaN</td>\n",
              "      <td>NaN</td>\n",
              "    </tr>\n",
              "    <tr>\n",
              "      <th>Brand</th>\n",
              "      <td>343128</td>\n",
              "      <td>40</td>\n",
              "      <td>volkswagen</td>\n",
              "      <td>74325</td>\n",
              "      <td>NaT</td>\n",
              "      <td>NaT</td>\n",
              "      <td>NaN</td>\n",
              "      <td>NaN</td>\n",
              "      <td>NaN</td>\n",
              "      <td>NaN</td>\n",
              "      <td>NaN</td>\n",
              "      <td>NaN</td>\n",
              "      <td>NaN</td>\n",
              "    </tr>\n",
              "    <tr>\n",
              "      <th>NotRepaired</th>\n",
              "      <td>343128</td>\n",
              "      <td>2</td>\n",
              "      <td>no</td>\n",
              "      <td>243444</td>\n",
              "      <td>NaT</td>\n",
              "      <td>NaT</td>\n",
              "      <td>NaN</td>\n",
              "      <td>NaN</td>\n",
              "      <td>NaN</td>\n",
              "      <td>NaN</td>\n",
              "      <td>NaN</td>\n",
              "      <td>NaN</td>\n",
              "      <td>NaN</td>\n",
              "    </tr>\n",
              "    <tr>\n",
              "      <th>DateCreated</th>\n",
              "      <td>343128</td>\n",
              "      <td>109</td>\n",
              "      <td>2016-04-03 00:00:00</td>\n",
              "      <td>13325</td>\n",
              "      <td>2014-03-10 00:00:00</td>\n",
              "      <td>2016-04-07 00:00:00</td>\n",
              "      <td>NaN</td>\n",
              "      <td>NaN</td>\n",
              "      <td>NaN</td>\n",
              "      <td>NaN</td>\n",
              "      <td>NaN</td>\n",
              "      <td>NaN</td>\n",
              "      <td>NaN</td>\n",
              "    </tr>\n",
              "    <tr>\n",
              "      <th>NumberOfPictures</th>\n",
              "      <td>343128.0</td>\n",
              "      <td>NaN</td>\n",
              "      <td>NaN</td>\n",
              "      <td>NaN</td>\n",
              "      <td>NaT</td>\n",
              "      <td>NaT</td>\n",
              "      <td>0.0</td>\n",
              "      <td>0.0</td>\n",
              "      <td>0.0</td>\n",
              "      <td>0.0</td>\n",
              "      <td>0.0</td>\n",
              "      <td>0.0</td>\n",
              "      <td>0.0</td>\n",
              "    </tr>\n",
              "    <tr>\n",
              "      <th>PostalCode</th>\n",
              "      <td>343128.0</td>\n",
              "      <td>NaN</td>\n",
              "      <td>NaN</td>\n",
              "      <td>NaN</td>\n",
              "      <td>NaT</td>\n",
              "      <td>NaT</td>\n",
              "      <td>50688.319895</td>\n",
              "      <td>25744.384678</td>\n",
              "      <td>1067.0</td>\n",
              "      <td>30449.0</td>\n",
              "      <td>49525.0</td>\n",
              "      <td>71229.0</td>\n",
              "      <td>99998.0</td>\n",
              "    </tr>\n",
              "    <tr>\n",
              "      <th>LastSeen</th>\n",
              "      <td>343128</td>\n",
              "      <td>174352</td>\n",
              "      <td>2016-04-07 05:44:30</td>\n",
              "      <td>16</td>\n",
              "      <td>2016-03-05 14:15:08</td>\n",
              "      <td>2016-04-07 14:58:51</td>\n",
              "      <td>NaN</td>\n",
              "      <td>NaN</td>\n",
              "      <td>NaN</td>\n",
              "      <td>NaN</td>\n",
              "      <td>NaN</td>\n",
              "      <td>NaN</td>\n",
              "      <td>NaN</td>\n",
              "    </tr>\n",
              "  </tbody>\n",
              "</table>\n",
              "</div>"
            ],
            "text/plain": [
              "                      count  unique                  top    freq  \\\n",
              "DateCrawled          343128  264882  2016-03-24 14:49:47       7   \n",
              "Price              343128.0     NaN                  NaN     NaN   \n",
              "VehicleType          343128       8                sedan  105599   \n",
              "RegistrationYear   343128.0     NaN                  NaN     NaN   \n",
              "Gearbox              343128       2               manual  276733   \n",
              "Power              343128.0     NaN                  NaN     NaN   \n",
              "Model                343128     251                 golf   31321   \n",
              "Kilometer          343128.0     NaN                  NaN     NaN   \n",
              "RegistrationMonth  343128.0     NaN                  NaN     NaN   \n",
              "FuelType             343128       7               petrol  235073   \n",
              "Brand                343128      40           volkswagen   74325   \n",
              "NotRepaired          343128       2                   no  243444   \n",
              "DateCreated          343128     109  2016-04-03 00:00:00   13325   \n",
              "NumberOfPictures   343128.0     NaN                  NaN     NaN   \n",
              "PostalCode         343128.0     NaN                  NaN     NaN   \n",
              "LastSeen             343128  174352  2016-04-07 05:44:30      16   \n",
              "\n",
              "                                first                last           mean  \\\n",
              "DateCrawled       2016-03-05 14:06:22 2016-04-07 14:36:58            NaN   \n",
              "Price                             NaT                 NaT    4554.017338   \n",
              "VehicleType                       NaT                 NaT            NaN   \n",
              "RegistrationYear                  NaT                 NaT    2002.594798   \n",
              "Gearbox                           NaT                 NaT            NaN   \n",
              "Power                             NaT                 NaT     119.156799   \n",
              "Model                             NaT                 NaT            NaN   \n",
              "Kilometer                         NaT                 NaT  128347.526288   \n",
              "RegistrationMonth                 NaT                 NaT       5.778019   \n",
              "FuelType                          NaT                 NaT            NaN   \n",
              "Brand                             NaT                 NaT            NaN   \n",
              "NotRepaired                       NaT                 NaT            NaN   \n",
              "DateCreated       2014-03-10 00:00:00 2016-04-07 00:00:00            NaN   \n",
              "NumberOfPictures                  NaT                 NaT            0.0   \n",
              "PostalCode                        NaT                 NaT   50688.319895   \n",
              "LastSeen          2016-03-05 14:15:08 2016-04-07 14:58:51            NaN   \n",
              "\n",
              "                            std     min       25%       50%       75%  \\\n",
              "DateCrawled                 NaN     NaN       NaN       NaN       NaN   \n",
              "Price               4512.721193     1.0    1200.0    2890.0    6500.0   \n",
              "VehicleType                 NaN     NaN       NaN       NaN       NaN   \n",
              "RegistrationYear       6.582391  1960.0    1999.0    2003.0    2007.0   \n",
              "Gearbox                     NaN     NaN       NaN       NaN       NaN   \n",
              "Power                 51.378624     1.0      80.0     109.0     150.0   \n",
              "Model                       NaN     NaN       NaN       NaN       NaN   \n",
              "Kilometer          37503.980322  5000.0  125000.0  150000.0  150000.0   \n",
              "RegistrationMonth       3.69779     0.0       3.0       6.0       9.0   \n",
              "FuelType                    NaN     NaN       NaN       NaN       NaN   \n",
              "Brand                       NaN     NaN       NaN       NaN       NaN   \n",
              "NotRepaired                 NaN     NaN       NaN       NaN       NaN   \n",
              "DateCreated                 NaN     NaN       NaN       NaN       NaN   \n",
              "NumberOfPictures            0.0     0.0       0.0       0.0       0.0   \n",
              "PostalCode         25744.384678  1067.0   30449.0   49525.0   71229.0   \n",
              "LastSeen                    NaN     NaN       NaN       NaN       NaN   \n",
              "\n",
              "                        max  \n",
              "DateCrawled             NaN  \n",
              "Price               20000.0  \n",
              "VehicleType             NaN  \n",
              "RegistrationYear     2016.0  \n",
              "Gearbox                 NaN  \n",
              "Power                 490.0  \n",
              "Model                   NaN  \n",
              "Kilometer          150000.0  \n",
              "RegistrationMonth      12.0  \n",
              "FuelType                NaN  \n",
              "Brand                   NaN  \n",
              "NotRepaired             NaN  \n",
              "DateCreated             NaN  \n",
              "NumberOfPictures        0.0  \n",
              "PostalCode          99998.0  \n",
              "LastSeen                NaN  "
            ]
          },
          "execution_count": 47,
          "metadata": {},
          "output_type": "execute_result"
        }
      ],
      "source": [
        "df.describe(include = \"all\").T"
      ]
    },
    {
      "cell_type": "markdown",
      "metadata": {
        "id": "fDqdbrQEhTHe"
      },
      "source": [
        "### Результаты предобработки:\n",
        "\n"
      ]
    },
    {
      "cell_type": "markdown",
      "metadata": {
        "id": "SC3gdQViiAKs"
      },
      "source": [
        "В результате предобработки исправлены ошибочно указанные данные в годе регистрации, восстановлены пропуски в информации о модели, кузове, типе кпп и топлива, информации о ремонте. \n",
        "\n",
        "В информации о месяцах содержатся нулевые значения, вероятнее всего это незаполненная информация, т.к. отнести эти строки к любому из месяцев оснований нет\n",
        "\n",
        "В информации о почтовых индексах содержится более 13 тыс. строк с четырехзначными кодами, отличающимися от основной массы, в которой пять знаков. \n",
        "\n"
      ]
    },
    {
      "cell_type": "markdown",
      "metadata": {
        "id": "kldeclcOFVuA"
      },
      "source": [
        "## Подготовка к работе с моделями:\n",
        "- Выберем из фрейма нужные для обучения признаки\n",
        "- Категоризируем признаки\n",
        "- Уменьшим разрядность данных\n",
        "\n",
        "Поскольку тестовая и учебная выборки должны быть предобработаны одинаково - решим эту задачу через функцию, принимающую \"сырой\" фрейм, и возвращающую набор фич и таргет для обучения\n"
      ]
    },
    {
      "cell_type": "markdown",
      "metadata": {
        "id": "k2dce_8Jkpc8"
      },
      "source": [
        "Из обучающей выборки можно удалить данные, которые не влияют на цену: \n",
        "- о дате выгрузки информации\n",
        "- о последнем визите \n",
        "- о количестве фотографий (этот столбец пустой)\n",
        "\n",
        "дату подачи объявления можно категоризировать до месяца, но внутри функции почему-то не работает (закомментил). сделаем отдельно до функции в учебной и тестовой выборке:"
      ]
    },
    {
      "cell_type": "code",
      "execution_count": null,
      "metadata": {
        "id": "naSuzOBrMf7b"
      },
      "outputs": [],
      "source": [
        "def optimize_for_train(data):\n",
        "#удаляем лишние колонки\n",
        "    data = data.drop(['DateCrawled', 'LastSeen', 'NumberOfPictures', 'PostalCode'], axis=1)\n",
        "\n",
        "# даты категоризируем до месяцев\n",
        "    data['DateCreated'] = data['DateCreated'].dt.month\n",
        "\n",
        "#бинарные данные заменяем вручную на единицы и нули\n",
        "    data['NotRepaired'] = data['NotRepaired'].replace('yes', 1)\n",
        "    data['NotRepaired'] = data['NotRepaired'].replace('no', 0)\n",
        "    data['Gearbox'] = data['Gearbox'].replace('auto', 1)\n",
        "    data['Gearbox'] = data['Gearbox'].replace('manual', 0)\n",
        "\n",
        "#категоризируем небинарные object данные\n",
        "    data = pd.get_dummies(data, drop_first=True)\n",
        "\n",
        "#понижаем разрядность числовых данных\n",
        "    df_float = data.select_dtypes(include=['float']) \n",
        "    df_float = df_float.apply(pd.to_numeric,downcast='float')\n",
        "    data[df_float.columns] = df_float\n",
        "\n",
        "    df_int = data.select_dtypes(include=['int']) \n",
        "    df_int = df_int.apply(pd.to_numeric,downcast='unsigned') \n",
        "    data[df_int.columns] = df_int\n",
        "\n",
        "# разделяем целевой признак и фичи\n",
        "    target = data['Price']\n",
        "    features = data.drop('Price', axis=1)\n",
        "    return target, features"
      ]
    },
    {
      "cell_type": "code",
      "execution_count": null,
      "metadata": {
        "id": "RFKu1ip7tIhK"
      },
      "outputs": [],
      "source": [
        "target, features = optimize_for_train(df)\n",
        "#test_target, test_features = optimize_for_train(test)"
      ]
    },
    {
      "cell_type": "code",
      "execution_count": null,
      "metadata": {
        "id": "fCbHDUliw8gz"
      },
      "outputs": [],
      "source": [
        "#test_features.info()"
      ]
    },
    {
      "cell_type": "code",
      "execution_count": null,
      "metadata": {
        "colab": {
          "base_uri": "https://localhost:8080/"
        },
        "id": "TAL328V0Kzib",
        "outputId": "3ec3ee4c-8c6b-4923-9ac4-b380c15f808a"
      },
      "outputs": [
        {
          "name": "stdout",
          "output_type": "stream",
          "text": [
            "<class 'pandas.core.frame.DataFrame'>\n",
            "Int64Index: 343128 entries, 0 to 354364\n",
            "Columns: 309 entries, RegistrationYear to Brand_volvo\n",
            "dtypes: float32(1), uint16(1), uint32(1), uint8(306)\n",
            "memory usage: 106.0 MB\n"
          ]
        }
      ],
      "source": [
        "features.info()"
      ]
    },
    {
      "cell_type": "markdown",
      "metadata": {
        "id": "6XARAPA8K5YT"
      },
      "source": [
        "~Вот незадача. тестовая выборка в итоге отличается от обучающей. Выясним что это за признаки~"
      ]
    },
    {
      "cell_type": "code",
      "execution_count": null,
      "metadata": {
        "id": "7VhaYS0wov9h"
      },
      "outputs": [],
      "source": [
        "#np.setdiff1d(features.columns, test_features.columns)"
      ]
    },
    {
      "cell_type": "markdown",
      "metadata": {
        "id": "Q4FL4kCDLM1M"
      },
      "source": [
        "Удалим несовпадающие признаки"
      ]
    },
    {
      "cell_type": "code",
      "execution_count": null,
      "metadata": {
        "id": "ShgQvF8zLPSV"
      },
      "outputs": [],
      "source": [
        "#features = features.drop(['Model_serie_1', 'Model_serie_3', 'Model_sonstige_autos'], axis=1)"
      ]
    },
    {
      "cell_type": "code",
      "execution_count": null,
      "metadata": {
        "id": "au6_3AEqLqoN"
      },
      "outputs": [],
      "source": [
        "#test_features = test_features.drop(['Model_range_rover_evoque'], axis=1)"
      ]
    },
    {
      "cell_type": "code",
      "execution_count": null,
      "metadata": {
        "colab": {
          "base_uri": "https://localhost:8080/"
        },
        "id": "xIRfTRi2VR6j",
        "outputId": "394c606b-0011-4e87-fb86-44e62c93c613"
      },
      "outputs": [
        {
          "data": {
            "text/plain": [
              "309"
            ]
          },
          "execution_count": 55,
          "metadata": {},
          "output_type": "execute_result"
        }
      ],
      "source": [
        "len(features.axes[1])"
      ]
    },
    {
      "cell_type": "code",
      "execution_count": null,
      "metadata": {
        "id": "3ysBqxh9VvJC"
      },
      "outputs": [],
      "source": [
        "#len(test_features.axes[1])"
      ]
    },
    {
      "cell_type": "code",
      "execution_count": null,
      "metadata": {
        "id": "pA1HseLLV2bM"
      },
      "outputs": [],
      "source": [
        "#pd.set_option('display.max_columns', None)\n",
        "#test_features.head(3)"
      ]
    },
    {
      "cell_type": "code",
      "execution_count": null,
      "metadata": {
        "id": "vo3PR9FiWCWl"
      },
      "outputs": [],
      "source": [
        "#pd.set_option('display.max_columns', None)\n",
        "#features.head(3)"
      ]
    },
    {
      "cell_type": "markdown",
      "metadata": {
        "id": "GxfUMYyVyypt"
      },
      "source": [
        "Выделим тестовую, тренировочную и валидационную выборки:"
      ]
    },
    {
      "cell_type": "code",
      "execution_count": null,
      "metadata": {
        "id": "cpC9ZFbY1uL9"
      },
      "outputs": [],
      "source": [
        "features_train, features_valid, \\\n",
        "target_train, target_valid = train_test_split(features, target, \n",
        "                                              test_size=0.4, random_state=5)\n",
        "\n",
        "features_test, features_valid, \\\n",
        "target_test, target_valid = train_test_split(features_valid, target_valid, \n",
        "                                              test_size=0.4, random_state=5)"
      ]
    },
    {
      "cell_type": "markdown",
      "metadata": {
        "id": "AmYgE0Lquw4p"
      },
      "source": [
        "## Обучение моделей и подбор параметров"
      ]
    },
    {
      "cell_type": "markdown",
      "metadata": {
        "id": "qp1V-8EByJXd"
      },
      "source": [
        "### Линейная регрессия"
      ]
    },
    {
      "cell_type": "code",
      "execution_count": null,
      "metadata": {
        "colab": {
          "base_uri": "https://localhost:8080/",
          "height": 53
        },
        "id": "Ns9atGssuw4p",
        "outputId": "5f02037d-3655-4477-f297-c3b05defaa84"
      },
      "outputs": [
        {
          "data": {
            "text/plain": [
              "\"\\n%%time\\nregressor = LinearRegression()\\nlr_rmse = (cross_val_score(\\n    regressor,\\n    features_train,\\n    target_train,\\n    cv=5,\\n    scoring='neg_mean_squared_error').mean() * -1) ** 0.5\\nprint('RMSE в линейной регрессии =', lr_rmse)\\n\""
            ]
          },
          "execution_count": 60,
          "metadata": {},
          "output_type": "execute_result"
        }
      ],
      "source": [
        "'''\n",
        "%%time\n",
        "regressor = LinearRegression()\n",
        "lr_rmse = (cross_val_score(\n",
        "    regressor,\n",
        "    features_train,\n",
        "    target_train,\n",
        "    cv=5,\n",
        "    scoring='neg_mean_squared_error').mean() * -1) ** 0.5\n",
        "print('RMSE в линейной регрессии =', lr_rmse)\n",
        "'''"
      ]
    },
    {
      "cell_type": "markdown",
      "metadata": {
        "id": "5Vg-varc4A2o"
      },
      "source": [
        "Полученный результат:\n",
        "\n",
        "*RMSE в линейной регрессии = 2706.3574661629973*\n",
        "\n",
        "*CPU times: user 45.8 s, sys: 2.86 s, total: 48.6 s*\n",
        "\n",
        "*Wall time: 28.3 s*\n",
        "\n",
        "В задании нужно получить RMSE менее 2500. Линейная регрессия дает на 200 больше"
      ]
    },
    {
      "cell_type": "markdown",
      "metadata": {
        "id": "7Hq5FKzP0gPO"
      },
      "source": [
        "### Решающее дерево"
      ]
    },
    {
      "cell_type": "code",
      "execution_count": null,
      "metadata": {
        "colab": {
          "base_uri": "https://localhost:8080/",
          "height": 87
        },
        "id": "_MOqvVJQ0ovh",
        "outputId": "489bbe46-dd25-4bea-ee49-f100aeeef3d6"
      },
      "outputs": [
        {
          "data": {
            "text/plain": [
              "'\\n%%time\\n\\nregressor = DecisionTreeRegressor() \\nmax_depth_list = [x for x in range(2, 31)]\\nhyperparams = [{\\'criterion\\':[\\'mse\\'], \\n                \\'max_depth\\':max_depth_list, \\n                \\'random_state\\':[12345]}]\\n\\nclf = GridSearchCV(regressor, hyperparams, scoring=\\'neg_mean_squared_error\\')\\nclf.fit(features_train, target_train)\\nprint(\"Лучшие параметры решающего дерева:\")\\nprint()\\nprint(clf.best_params_)\\nprint()\\nmeans = clf.cv_results_[\\'mean_test_score\\']\\nstds = clf.cv_results_[\\'std_test_score\\']\\nfor mean, std, params in zip(means, stds, clf.cv_results_[\\'params\\']):\\n    print(\"%0.6f for %r\"% ((mean*-1)** 0.5, params))\\nprint()\\n\\ndtr_rmse = (max(means)*-1) ** 0.5\\n'"
            ]
          },
          "execution_count": 61,
          "metadata": {},
          "output_type": "execute_result"
        }
      ],
      "source": [
        "'''\n",
        "%%time\n",
        "\n",
        "regressor = DecisionTreeRegressor() \n",
        "max_depth_list = [x for x in range(2, 31)]\n",
        "hyperparams = [{'criterion':['mse'], \n",
        "                'max_depth':max_depth_list, \n",
        "                'random_state':[12345]}]\n",
        "\n",
        "clf = GridSearchCV(regressor, hyperparams, scoring='neg_mean_squared_error')\n",
        "clf.fit(features_train, target_train)\n",
        "print(\"Лучшие параметры решающего дерева:\")\n",
        "print()\n",
        "print(clf.best_params_)\n",
        "print()\n",
        "means = clf.cv_results_['mean_test_score']\n",
        "stds = clf.cv_results_['std_test_score']\n",
        "for mean, std, params in zip(means, stds, clf.cv_results_['params']):\n",
        "    print(\"%0.6f for %r\"% ((mean*-1)** 0.5, params))\n",
        "print()\n",
        "\n",
        "dtr_rmse = (max(means)*-1) ** 0.5\n",
        "'''"
      ]
    },
    {
      "cell_type": "markdown",
      "metadata": {
        "id": "dFiII7Rz62NV"
      },
      "source": [
        "Лучшие параметры решающего дерева (выполняется долго, поэтому закомментил):\n",
        "\n",
        "*{'criterion': 'mse', 'max_depth': 14, 'random_state': 12345}*\n",
        "\n",
        "*CPU times: user 8min 57s, sys: 34.2 s, total: 9min 32s\n",
        "Wall time: 9min 32s*\n",
        "\n",
        "Наименьший RMSE с максимальной глубиной 14 вписывается в критерии задания. \n",
        "\n",
        "Попробуем бустинг. "
      ]
    },
    {
      "cell_type": "markdown",
      "metadata": {
        "id": "uRr8Pjy43NaL"
      },
      "source": [
        "### LightGBM модель"
      ]
    },
    {
      "cell_type": "code",
      "execution_count": null,
      "metadata": {
        "colab": {
          "base_uri": "https://localhost:8080/",
          "height": 70
        },
        "id": "64ZVhloG3Uvq",
        "outputId": "889934df-ec11-45db-f66c-0bc2f8a7a91a"
      },
      "outputs": [
        {
          "data": {
            "text/plain": [
              "'\\n%%time\\n\\nregressor = LGBMRegressor() \\nhyperparams = [{\\'num_leaves\\':[31, 100, 200], \\n                \\'learning_rate\\':[0.1, 0.3, 0.5],\\n                \\'random_state\\':[12345]}]\\n\\nclf = GridSearchCV(regressor, hyperparams, scoring=\\'neg_mean_squared_error\\')\\nclf.fit(features_train, target_train)\\nprint(\"Лучшие параметры модели LightGBM:\")\\nprint()\\nprint(clf.best_params_)\\nprint()\\nmeans = clf.cv_results_[\\'mean_test_score\\']\\nstds = clf.cv_results_[\\'std_test_score\\']\\nfor mean, std, params in zip(means, stds, clf.cv_results_[\\'params\\']):\\n    print(\"%0.6f for %r\"% ((mean*-1)** 0.5, params))\\nprint()\\n\\nlgbm_rmse = (max(means)*-1) ** 0.5\\n'"
            ]
          },
          "execution_count": 62,
          "metadata": {},
          "output_type": "execute_result"
        }
      ],
      "source": [
        "'''\n",
        "%%time\n",
        "\n",
        "regressor = LGBMRegressor() \n",
        "hyperparams = [{'num_leaves':[31, 100, 200], \n",
        "                'learning_rate':[0.1, 0.3, 0.5],\n",
        "                'random_state':[12345]}]\n",
        "\n",
        "clf = GridSearchCV(regressor, hyperparams, scoring='neg_mean_squared_error')\n",
        "clf.fit(features_train, target_train)\n",
        "print(\"Лучшие параметры модели LightGBM:\")\n",
        "print()\n",
        "print(clf.best_params_)\n",
        "print()\n",
        "means = clf.cv_results_['mean_test_score']\n",
        "stds = clf.cv_results_['std_test_score']\n",
        "for mean, std, params in zip(means, stds, clf.cv_results_['params']):\n",
        "    print(\"%0.6f for %r\"% ((mean*-1)** 0.5, params))\n",
        "print()\n",
        "\n",
        "lgbm_rmse = (max(means)*-1) ** 0.5\n",
        "'''"
      ]
    },
    {
      "cell_type": "markdown",
      "metadata": {
        "id": "Dy0EIoo18Arc"
      },
      "source": [
        "*Лучшие параметры модели LightGBM:*\n",
        "\n",
        "*{'learning_rate': 0.3, 'num_leaves': 200, 'random_state': 12345}*\n",
        "\n",
        "*CPU times: user 8min 23s, sys: 15.5 s, total: 8min 38s\n",
        "Wall time: 8min 45s*\n",
        "\n",
        "rmse всего 1695, что соответствует ожиданиям заказчика"
      ]
    },
    {
      "cell_type": "markdown",
      "metadata": {
        "id": "5VkRRCoNuw4q"
      },
      "source": [
        "## Анализ моделей\n",
        "\n",
        "Оценим время и среднеквадратичную ошибку моделей на валидационной выборке и определим лучшую модель"
      ]
    },
    {
      "cell_type": "markdown",
      "metadata": {
        "id": "eqKs12tt5mLn"
      },
      "source": [
        "### Линейная регрессия"
      ]
    },
    {
      "cell_type": "code",
      "execution_count": null,
      "metadata": {
        "colab": {
          "base_uri": "https://localhost:8080/"
        },
        "id": "y9wcQf_-73Xh",
        "outputId": "13019107-7b5b-41b0-a1ee-106e836d28d4"
      },
      "outputs": [
        {
          "name": "stdout",
          "output_type": "stream",
          "text": [
            "CPU times: user 15.1 s, sys: 4.18 s, total: 19.2 s\n",
            "Wall time: 19.2 s\n"
          ]
        },
        {
          "data": {
            "text/plain": [
              "LinearRegression()"
            ]
          },
          "execution_count": 63,
          "metadata": {},
          "output_type": "execute_result"
        }
      ],
      "source": [
        "%%time\n",
        "model_lr = LinearRegression()\n",
        "model_lr.fit(features_train, target_train)"
      ]
    },
    {
      "cell_type": "code",
      "execution_count": null,
      "metadata": {
        "colab": {
          "base_uri": "https://localhost:8080/"
        },
        "id": "LkOBBUye_N0N",
        "outputId": "20912a11-9aef-41c4-a4eb-217f455f459c"
      },
      "outputs": [
        {
          "name": "stdout",
          "output_type": "stream",
          "text": [
            "CPU times: user 77 ms, sys: 61.3 ms, total: 138 ms\n",
            "Wall time: 104 ms\n"
          ]
        }
      ],
      "source": [
        "%%time\n",
        "target_predict = model_lr.predict(features_valid)"
      ]
    },
    {
      "cell_type": "code",
      "execution_count": null,
      "metadata": {
        "colab": {
          "base_uri": "https://localhost:8080/"
        },
        "id": "zddIdL9G_TgP",
        "outputId": "25a73208-5a29-48ce-fe58-5a41b599362c"
      },
      "outputs": [
        {
          "name": "stdout",
          "output_type": "stream",
          "text": [
            "2731.0144972843286\n"
          ]
        }
      ],
      "source": [
        "valid_rmse_lr = mean_squared_error(target_valid, target_predict) ** 0.5\n",
        "print(valid_rmse_lr)"
      ]
    },
    {
      "cell_type": "markdown",
      "metadata": {
        "id": "1qwFUecD5q5n"
      },
      "source": [
        "### Решающее дерево"
      ]
    },
    {
      "cell_type": "code",
      "execution_count": null,
      "metadata": {
        "colab": {
          "base_uri": "https://localhost:8080/"
        },
        "id": "DBUiCCc-7326",
        "outputId": "06366f43-72ad-448c-d0ee-12e4b1d02cf6"
      },
      "outputs": [
        {
          "name": "stdout",
          "output_type": "stream",
          "text": [
            "CPU times: user 4.62 s, sys: 204 ms, total: 4.83 s\n",
            "Wall time: 4.83 s\n"
          ]
        },
        {
          "data": {
            "text/plain": [
              "DecisionTreeRegressor(max_depth=13, random_state=12345)"
            ]
          },
          "execution_count": 66,
          "metadata": {},
          "output_type": "execute_result"
        }
      ],
      "source": [
        "%%time\n",
        "\n",
        "model_dtr = DecisionTreeRegressor(criterion='mse', \n",
        "                              max_depth=13, \n",
        "                              random_state=12345) \n",
        "model_dtr.fit(features_train, target_train)"
      ]
    },
    {
      "cell_type": "code",
      "execution_count": null,
      "metadata": {
        "colab": {
          "base_uri": "https://localhost:8080/"
        },
        "id": "0vsfF-rBA2ou",
        "outputId": "a4eaff84-5cb2-47a3-fb79-fefb8dcdc62c"
      },
      "outputs": [
        {
          "name": "stdout",
          "output_type": "stream",
          "text": [
            "CPU times: user 48.9 ms, sys: 57.7 ms, total: 107 ms\n",
            "Wall time: 108 ms\n"
          ]
        }
      ],
      "source": [
        "%%time\n",
        "\n",
        "target_predict = model_dtr.predict(features_valid)"
      ]
    },
    {
      "cell_type": "code",
      "execution_count": null,
      "metadata": {
        "colab": {
          "base_uri": "https://localhost:8080/"
        },
        "id": "_co8yOKrBFKR",
        "outputId": "0718a680-7a42-4b06-bdcf-2041c82dfcd1"
      },
      "outputs": [
        {
          "name": "stdout",
          "output_type": "stream",
          "text": [
            "2041.6311268848103\n"
          ]
        }
      ],
      "source": [
        "valid_rmse_dtr = mean_squared_error(target_valid, target_predict) ** 0.5  \n",
        "print(valid_rmse_dtr)"
      ]
    },
    {
      "cell_type": "markdown",
      "metadata": {
        "id": "zW4oRPIl5vnF"
      },
      "source": [
        "### LightGBM модель"
      ]
    },
    {
      "cell_type": "code",
      "execution_count": null,
      "metadata": {
        "colab": {
          "base_uri": "https://localhost:8080/"
        },
        "id": "15qsfRnc74g9",
        "outputId": "3aff85ea-f643-4233-85b2-eab417aa3b8b"
      },
      "outputs": [
        {
          "name": "stdout",
          "output_type": "stream",
          "text": [
            "CPU times: user 14.1 s, sys: 331 ms, total: 14.4 s\n",
            "Wall time: 14.5 s\n"
          ]
        },
        {
          "data": {
            "text/plain": [
              "LGBMRegressor(num_leaves=200, random_state=12345)"
            ]
          },
          "execution_count": 69,
          "metadata": {},
          "output_type": "execute_result"
        }
      ],
      "source": [
        "%%time\n",
        "\n",
        "model_lgbm = LGBMRegressor(learning_rate=0.1, \n",
        "                      num_leaves=200, \n",
        "                      random_state=12345)\n",
        "model_lgbm.fit(features_train, target_train)"
      ]
    },
    {
      "cell_type": "code",
      "execution_count": null,
      "metadata": {
        "colab": {
          "base_uri": "https://localhost:8080/"
        },
        "id": "OmIR049iBt63",
        "outputId": "7a6e56be-9906-4f5f-eac0-1e7a2f69543f"
      },
      "outputs": [
        {
          "name": "stdout",
          "output_type": "stream",
          "text": [
            "CPU times: user 902 ms, sys: 71.7 ms, total: 974 ms\n",
            "Wall time: 913 ms\n"
          ]
        }
      ],
      "source": [
        "%%time\n",
        "\n",
        "target_predict = model_lgbm.predict(features_valid)"
      ]
    },
    {
      "cell_type": "code",
      "execution_count": null,
      "metadata": {
        "colab": {
          "base_uri": "https://localhost:8080/"
        },
        "id": "1nHyeDV-B1VZ",
        "outputId": "143dc87b-bf69-4185-d441-b298fbed4f09"
      },
      "outputs": [
        {
          "name": "stdout",
          "output_type": "stream",
          "text": [
            "1707.990862338068\n"
          ]
        }
      ],
      "source": [
        "valid_rmse_lgbm = mean_squared_error(target_valid, target_predict) ** 0.5\n",
        "print(valid_rmse_lgbm)"
      ]
    },
    {
      "cell_type": "markdown",
      "metadata": {
        "id": "FP6V7T0NCDe8"
      },
      "source": [
        "### Сравним результаты моделей"
      ]
    },
    {
      "cell_type": "code",
      "execution_count": null,
      "metadata": {
        "colab": {
          "base_uri": "https://localhost:8080/",
          "height": 143
        },
        "id": "9qU-yoF-uw4r",
        "outputId": "30099193-2f15-4c16-8866-8d91e550570b"
      },
      "outputs": [
        {
          "data": {
            "text/html": [
              "<div>\n",
              "<style scoped>\n",
              "    .dataframe tbody tr th:only-of-type {\n",
              "        vertical-align: middle;\n",
              "    }\n",
              "\n",
              "    .dataframe tbody tr th {\n",
              "        vertical-align: top;\n",
              "    }\n",
              "\n",
              "    .dataframe thead th {\n",
              "        text-align: right;\n",
              "    }\n",
              "</style>\n",
              "<table border=\"1\" class=\"dataframe\">\n",
              "  <thead>\n",
              "    <tr style=\"text-align: right;\">\n",
              "      <th></th>\n",
              "      <th>RMSE на валидации</th>\n",
              "      <th>Время обучения, сек</th>\n",
              "      <th>Время предсказания, сек</th>\n",
              "    </tr>\n",
              "  </thead>\n",
              "  <tbody>\n",
              "    <tr>\n",
              "      <th>LinearRegression</th>\n",
              "      <td>2731.014497</td>\n",
              "      <td>17.90</td>\n",
              "      <td>0.141</td>\n",
              "    </tr>\n",
              "    <tr>\n",
              "      <th>DecisionTreeRegressor</th>\n",
              "      <td>2041.631127</td>\n",
              "      <td>4.78</td>\n",
              "      <td>0.108</td>\n",
              "    </tr>\n",
              "    <tr>\n",
              "      <th>LGBMRegressor</th>\n",
              "      <td>1707.990862</td>\n",
              "      <td>14.10</td>\n",
              "      <td>0.998</td>\n",
              "    </tr>\n",
              "  </tbody>\n",
              "</table>\n",
              "</div>"
            ],
            "text/plain": [
              "                       RMSE на валидации  Время обучения, сек  \\\n",
              "LinearRegression             2731.014497                17.90   \n",
              "DecisionTreeRegressor        2041.631127                 4.78   \n",
              "LGBMRegressor                1707.990862                14.10   \n",
              "\n",
              "                       Время предсказания, сек  \n",
              "LinearRegression                         0.141  \n",
              "DecisionTreeRegressor                    0.108  \n",
              "LGBMRegressor                            0.998  "
            ]
          },
          "execution_count": 72,
          "metadata": {},
          "output_type": "execute_result"
        }
      ],
      "source": [
        "index = ['LinearRegression',\n",
        "         'DecisionTreeRegressor',\n",
        "         'LGBMRegressor']\n",
        "data = {'RMSE на валидации':[valid_rmse_lr,\n",
        "                            valid_rmse_dtr,\n",
        "                            valid_rmse_lgbm],\n",
        "        'Время обучения, сек':[17.9,\n",
        "                               4.78,\n",
        "                               14.1],\n",
        "        'Время предсказания, сек':[0.141,\n",
        "                                   0.108,\n",
        "                                   0.998]}\n",
        "\n",
        "scores_data = pd.DataFrame(data=data, index=index)\n",
        "scores_data"
      ]
    },
    {
      "cell_type": "markdown",
      "metadata": {
        "id": "-DIyWDjUHbRN"
      },
      "source": [
        "Дерево учится немного быстрее, но градиентрый бустинг работает лучше всех и по времени предсказания, и по итоговому результату - менее 1700 евро на валидационной выборке\n",
        "\n",
        "**Лучшая модель из протестированных - градиентный бустинг LightGBM**"
      ]
    },
    {
      "cell_type": "markdown",
      "metadata": {
        "id": "Ja2C77lvDff8"
      },
      "source": [
        "## Проверим лучшую модель на тестовой выборке:\n",
        "\n",
        "Обучим модель на полной выборке и предскажем цену тестовой выборки"
      ]
    },
    {
      "cell_type": "code",
      "execution_count": null,
      "metadata": {
        "colab": {
          "base_uri": "https://localhost:8080/"
        },
        "id": "YcrBDHdZDj5u",
        "outputId": "b869f186-08ef-474c-f660-db4a8c7228b0"
      },
      "outputs": [
        {
          "name": "stdout",
          "output_type": "stream",
          "text": [
            "1665.6512254588552\n",
            "CPU times: user 19.3 s, sys: 438 ms, total: 19.7 s\n",
            "Wall time: 20 s\n"
          ]
        }
      ],
      "source": [
        "%%time\n",
        "model_lgbm.fit(features_train, target_train)\n",
        "test_predict = model_lgbm.predict(features_test)\n",
        "test_rmsem = mean_squared_error(target_test, test_predict) ** 0.5\n",
        "print(test_rmsem)"
      ]
    },
    {
      "cell_type": "markdown",
      "metadata": {
        "id": "cTzX7GdYO3PB"
      },
      "source": [
        "**Модель, полученная в результате отбора и обучения - соответствует заявленным критериям заказчика и может быть применена на необработанных данных**"
      ]
    },
    {
      "cell_type": "markdown",
      "metadata": {
        "id": "dSit2-EGuw4s"
      },
      "source": [
        "## Чек-лист проверки"
      ]
    },
    {
      "cell_type": "markdown",
      "metadata": {
        "id": "T9SLKWHUuw4s"
      },
      "source": [
        "Поставьте 'x' в выполненных пунктах. Далее нажмите Shift+Enter."
      ]
    },
    {
      "cell_type": "markdown",
      "metadata": {
        "id": "U1PcEY6kuw4t"
      },
      "source": [
        "- [x]  Jupyter Notebook открыт\n",
        "- [x]  Весь код выполняется без ошибок\n",
        "- [x]  Ячейки с кодом расположены в порядке исполнения\n",
        "- [x]  Выполнена загрузка и подготовка данных\n",
        "- [x]  Выполнено обучение моделей\n",
        "- [x]  Есть анализ скорости работы и качества моделей"
      ]
    },
    {
      "cell_type": "code",
      "execution_count": null,
      "metadata": {
        "id": "iatR-t-Xuw4u"
      },
      "outputs": [],
      "source": []
    }
  ],
  "metadata": {
    "ExecuteTimeLog": [
      {
        "duration": 1602,
        "start_time": "2022-07-25T03:33:22.749Z"
      },
      {
        "duration": 1583,
        "start_time": "2022-07-25T03:33:25.299Z"
      },
      {
        "duration": 103,
        "start_time": "2022-07-25T03:33:26.883Z"
      },
      {
        "duration": 85,
        "start_time": "2022-07-25T03:33:27.745Z"
      },
      {
        "duration": 386,
        "start_time": "2022-07-25T03:33:30.446Z"
      },
      {
        "duration": 13,
        "start_time": "2022-07-25T03:33:34.892Z"
      },
      {
        "duration": 5,
        "start_time": "2022-07-25T03:33:35.846Z"
      },
      {
        "duration": 290,
        "start_time": "2022-07-25T03:34:34.021Z"
      },
      {
        "duration": 352,
        "start_time": "2022-07-25T03:34:35.311Z"
      },
      {
        "duration": 281,
        "start_time": "2022-07-25T03:35:21.807Z"
      },
      {
        "duration": 337,
        "start_time": "2022-07-25T03:35:22.644Z"
      },
      {
        "duration": 41,
        "start_time": "2022-07-25T03:35:38.916Z"
      },
      {
        "duration": 29,
        "start_time": "2022-07-25T03:36:02.204Z"
      },
      {
        "duration": 95,
        "start_time": "2022-07-25T03:36:28.078Z"
      },
      {
        "duration": 41,
        "start_time": "2022-07-25T03:36:52.508Z"
      },
      {
        "duration": 250,
        "start_time": "2022-07-25T03:36:56.308Z"
      },
      {
        "duration": 97,
        "start_time": "2022-07-25T03:37:01.548Z"
      },
      {
        "duration": 81,
        "start_time": "2022-07-25T03:38:09.571Z"
      },
      {
        "duration": 32,
        "start_time": "2022-07-25T03:38:55.446Z"
      },
      {
        "duration": 20,
        "start_time": "2022-07-25T03:40:08.210Z"
      },
      {
        "duration": 3,
        "start_time": "2022-07-25T03:40:43.262Z"
      },
      {
        "duration": 5890,
        "start_time": "2022-07-25T03:40:44.755Z"
      },
      {
        "duration": 4,
        "start_time": "2022-07-25T03:43:40.370Z"
      },
      {
        "duration": 73,
        "start_time": "2022-07-25T03:44:20.034Z"
      },
      {
        "duration": 15,
        "start_time": "2022-07-25T03:44:34.687Z"
      },
      {
        "duration": 78,
        "start_time": "2022-07-25T03:44:45.751Z"
      },
      {
        "duration": 6377,
        "start_time": "2022-07-25T03:45:20.156Z"
      },
      {
        "duration": 22,
        "start_time": "2022-07-25T03:45:39.795Z"
      },
      {
        "duration": 87,
        "start_time": "2022-07-25T03:47:08.781Z"
      },
      {
        "duration": 5224,
        "start_time": "2022-07-25T03:47:10.601Z"
      },
      {
        "duration": 408,
        "start_time": "2022-07-25T03:47:17.948Z"
      },
      {
        "duration": 58,
        "start_time": "2022-07-25T03:49:13.989Z"
      },
      {
        "duration": 5503,
        "start_time": "2022-07-25T03:49:19.464Z"
      },
      {
        "duration": 84,
        "start_time": "2022-07-25T03:49:40.309Z"
      },
      {
        "duration": 6512,
        "start_time": "2022-07-25T03:49:45.298Z"
      },
      {
        "duration": 35,
        "start_time": "2022-07-25T03:50:07.575Z"
      },
      {
        "duration": 12,
        "start_time": "2022-07-25T03:50:36.669Z"
      },
      {
        "duration": 14,
        "start_time": "2022-07-25T03:51:15.492Z"
      },
      {
        "duration": 9,
        "start_time": "2022-07-25T03:51:17.368Z"
      },
      {
        "duration": 46,
        "start_time": "2022-07-25T03:52:10.397Z"
      },
      {
        "duration": 64,
        "start_time": "2022-07-25T03:52:47.026Z"
      },
      {
        "duration": 5,
        "start_time": "2022-07-25T03:52:49.175Z"
      },
      {
        "duration": 332,
        "start_time": "2022-07-25T03:52:49.547Z"
      },
      {
        "duration": 6,
        "start_time": "2022-07-25T03:56:26.893Z"
      },
      {
        "duration": 1147,
        "start_time": "2022-07-25T03:56:27.725Z"
      },
      {
        "duration": 17,
        "start_time": "2022-07-25T04:02:27.584Z"
      },
      {
        "duration": 16,
        "start_time": "2022-07-25T04:02:29.549Z"
      },
      {
        "duration": 23,
        "start_time": "2022-07-25T04:02:49.065Z"
      },
      {
        "duration": 27,
        "start_time": "2022-07-25T04:02:59.992Z"
      },
      {
        "duration": 25,
        "start_time": "2022-07-25T04:06:29.833Z"
      },
      {
        "duration": 7,
        "start_time": "2022-07-25T04:07:09.578Z"
      },
      {
        "duration": 99,
        "start_time": "2022-07-25T04:07:13.424Z"
      },
      {
        "duration": 28,
        "start_time": "2022-07-25T04:07:18.500Z"
      },
      {
        "duration": 211,
        "start_time": "2022-07-25T04:08:09.548Z"
      },
      {
        "duration": 238,
        "start_time": "2022-07-25T04:08:15.049Z"
      },
      {
        "duration": 68186,
        "start_time": "2022-07-25T04:08:17.826Z"
      },
      {
        "duration": 1515,
        "start_time": "2022-07-25T07:21:33.604Z"
      },
      {
        "duration": 2207,
        "start_time": "2022-07-25T07:21:38.493Z"
      },
      {
        "duration": 99,
        "start_time": "2022-07-25T07:21:42.252Z"
      },
      {
        "duration": 86,
        "start_time": "2022-07-25T07:21:45.942Z"
      },
      {
        "duration": 390,
        "start_time": "2022-07-25T07:21:49.213Z"
      },
      {
        "duration": 13,
        "start_time": "2022-07-25T07:21:52.894Z"
      },
      {
        "duration": 7,
        "start_time": "2022-07-25T07:21:55.445Z"
      },
      {
        "duration": 281,
        "start_time": "2022-07-25T07:22:01.661Z"
      },
      {
        "duration": 356,
        "start_time": "2022-07-25T07:22:04.448Z"
      },
      {
        "duration": 38,
        "start_time": "2022-07-25T07:22:07.085Z"
      },
      {
        "duration": 40,
        "start_time": "2022-07-25T07:22:11.549Z"
      },
      {
        "duration": 2,
        "start_time": "2022-07-25T07:22:14.822Z"
      },
      {
        "duration": 3,
        "start_time": "2022-07-25T07:22:22.061Z"
      },
      {
        "duration": 43,
        "start_time": "2022-07-25T07:22:25.085Z"
      },
      {
        "duration": 260,
        "start_time": "2022-07-25T07:23:13.759Z"
      },
      {
        "duration": 103,
        "start_time": "2022-07-25T07:23:18.013Z"
      },
      {
        "duration": 20,
        "start_time": "2022-07-25T07:23:21.094Z"
      },
      {
        "duration": 104,
        "start_time": "2022-07-25T07:23:25.616Z"
      },
      {
        "duration": 1528,
        "start_time": "2022-07-25T07:34:46.440Z"
      },
      {
        "duration": 2062,
        "start_time": "2022-07-25T07:34:47.971Z"
      },
      {
        "duration": 107,
        "start_time": "2022-07-25T07:34:50.035Z"
      },
      {
        "duration": 101,
        "start_time": "2022-07-25T07:34:50.144Z"
      },
      {
        "duration": 458,
        "start_time": "2022-07-25T07:34:50.247Z"
      },
      {
        "duration": 14,
        "start_time": "2022-07-25T07:34:50.707Z"
      },
      {
        "duration": 14,
        "start_time": "2022-07-25T07:34:50.723Z"
      },
      {
        "duration": 338,
        "start_time": "2022-07-25T07:34:50.739Z"
      },
      {
        "duration": 396,
        "start_time": "2022-07-25T07:34:51.079Z"
      },
      {
        "duration": 37,
        "start_time": "2022-07-25T07:34:51.479Z"
      },
      {
        "duration": 48,
        "start_time": "2022-07-25T07:34:51.517Z"
      },
      {
        "duration": 2,
        "start_time": "2022-07-25T07:34:51.567Z"
      },
      {
        "duration": 22,
        "start_time": "2022-07-25T07:34:51.571Z"
      },
      {
        "duration": 49,
        "start_time": "2022-07-25T07:34:51.594Z"
      },
      {
        "duration": 276,
        "start_time": "2022-07-25T07:34:51.645Z"
      },
      {
        "duration": 116,
        "start_time": "2022-07-25T07:34:51.922Z"
      },
      {
        "duration": 32,
        "start_time": "2022-07-25T07:34:52.040Z"
      },
      {
        "duration": 121,
        "start_time": "2022-07-25T07:34:52.074Z"
      },
      {
        "duration": 411,
        "start_time": "2022-07-25T07:34:52.197Z"
      },
      {
        "duration": 12,
        "start_time": "2022-07-25T07:34:52.611Z"
      },
      {
        "duration": 48,
        "start_time": "2022-07-25T07:34:52.625Z"
      },
      {
        "duration": 36,
        "start_time": "2022-07-25T07:34:52.675Z"
      },
      {
        "duration": 32,
        "start_time": "2022-07-25T07:34:52.713Z"
      },
      {
        "duration": 37,
        "start_time": "2022-07-25T07:34:52.747Z"
      },
      {
        "duration": 7337,
        "start_time": "2022-07-25T07:34:52.786Z"
      },
      {
        "duration": 17,
        "start_time": "2022-07-25T07:35:00.125Z"
      },
      {
        "duration": 110,
        "start_time": "2022-07-25T07:35:00.144Z"
      },
      {
        "duration": 8086,
        "start_time": "2022-07-25T07:35:00.264Z"
      },
      {
        "duration": 439,
        "start_time": "2022-07-25T07:35:08.352Z"
      },
      {
        "duration": 13,
        "start_time": "2022-07-25T07:35:08.793Z"
      },
      {
        "duration": 8,
        "start_time": "2022-07-25T07:35:08.808Z"
      },
      {
        "duration": 251,
        "start_time": "2022-07-25T07:35:08.818Z"
      },
      {
        "duration": 7510,
        "start_time": "2022-07-25T07:35:09.072Z"
      },
      {
        "duration": 472,
        "start_time": "2022-07-25T07:35:16.584Z"
      },
      {
        "duration": 93,
        "start_time": "2022-07-25T07:35:17.057Z"
      },
      {
        "duration": 7297,
        "start_time": "2022-07-25T07:35:17.151Z"
      },
      {
        "duration": 101,
        "start_time": "2022-07-25T07:35:24.450Z"
      },
      {
        "duration": 7653,
        "start_time": "2022-07-25T07:35:24.553Z"
      },
      {
        "duration": 39,
        "start_time": "2022-07-25T07:35:32.208Z"
      },
      {
        "duration": 22,
        "start_time": "2022-07-25T07:35:32.248Z"
      },
      {
        "duration": 23,
        "start_time": "2022-07-25T07:35:32.272Z"
      },
      {
        "duration": 15,
        "start_time": "2022-07-25T07:35:32.297Z"
      },
      {
        "duration": 73,
        "start_time": "2022-07-25T07:35:32.313Z"
      },
      {
        "duration": 8,
        "start_time": "2022-07-25T07:35:32.387Z"
      },
      {
        "duration": 98,
        "start_time": "2022-07-25T07:35:32.397Z"
      },
      {
        "duration": 4,
        "start_time": "2022-07-25T07:35:32.496Z"
      },
      {
        "duration": 513,
        "start_time": "2022-07-25T07:35:32.502Z"
      },
      {
        "duration": 5,
        "start_time": "2022-07-25T07:35:33.016Z"
      },
      {
        "duration": 1559,
        "start_time": "2022-07-25T07:35:33.023Z"
      },
      {
        "duration": 0,
        "start_time": "2022-07-25T07:35:34.583Z"
      },
      {
        "duration": 0,
        "start_time": "2022-07-25T07:35:34.585Z"
      },
      {
        "duration": 0,
        "start_time": "2022-07-25T07:35:34.587Z"
      },
      {
        "duration": 0,
        "start_time": "2022-07-25T07:35:34.588Z"
      },
      {
        "duration": 0,
        "start_time": "2022-07-25T07:35:34.589Z"
      },
      {
        "duration": 0,
        "start_time": "2022-07-25T07:35:34.590Z"
      },
      {
        "duration": 0,
        "start_time": "2022-07-25T07:35:34.592Z"
      },
      {
        "duration": 0,
        "start_time": "2022-07-25T07:35:34.593Z"
      },
      {
        "duration": 0,
        "start_time": "2022-07-25T07:35:34.594Z"
      },
      {
        "duration": 0,
        "start_time": "2022-07-25T07:35:34.596Z"
      },
      {
        "duration": 0,
        "start_time": "2022-07-25T07:35:34.597Z"
      },
      {
        "duration": 0,
        "start_time": "2022-07-25T07:35:34.598Z"
      },
      {
        "duration": 0,
        "start_time": "2022-07-25T07:35:34.599Z"
      },
      {
        "duration": 0,
        "start_time": "2022-07-25T07:35:34.600Z"
      },
      {
        "duration": 0,
        "start_time": "2022-07-25T07:35:34.601Z"
      },
      {
        "duration": 0,
        "start_time": "2022-07-25T07:35:34.602Z"
      },
      {
        "duration": 0,
        "start_time": "2022-07-25T07:35:34.604Z"
      },
      {
        "duration": 0,
        "start_time": "2022-07-25T07:35:34.605Z"
      },
      {
        "duration": 0,
        "start_time": "2022-07-25T07:35:34.606Z"
      },
      {
        "duration": 0,
        "start_time": "2022-07-25T07:35:34.607Z"
      },
      {
        "duration": 0,
        "start_time": "2022-07-25T07:35:34.609Z"
      },
      {
        "duration": 0,
        "start_time": "2022-07-25T07:35:34.610Z"
      },
      {
        "duration": 0,
        "start_time": "2022-07-25T07:35:34.611Z"
      },
      {
        "duration": 0,
        "start_time": "2022-07-25T07:35:34.612Z"
      },
      {
        "duration": 1490,
        "start_time": "2022-07-25T07:36:10.287Z"
      },
      {
        "duration": 1610,
        "start_time": "2022-07-25T07:36:20.082Z"
      },
      {
        "duration": 1816,
        "start_time": "2022-07-25T07:36:21.694Z"
      },
      {
        "duration": 94,
        "start_time": "2022-07-25T07:36:23.512Z"
      },
      {
        "duration": 95,
        "start_time": "2022-07-25T07:36:23.608Z"
      },
      {
        "duration": 414,
        "start_time": "2022-07-25T07:36:23.704Z"
      },
      {
        "duration": 12,
        "start_time": "2022-07-25T07:36:24.121Z"
      },
      {
        "duration": 10,
        "start_time": "2022-07-25T07:36:24.135Z"
      },
      {
        "duration": 334,
        "start_time": "2022-07-25T07:36:24.147Z"
      },
      {
        "duration": 378,
        "start_time": "2022-07-25T07:36:24.483Z"
      },
      {
        "duration": 40,
        "start_time": "2022-07-25T07:36:24.864Z"
      },
      {
        "duration": 59,
        "start_time": "2022-07-25T07:36:24.905Z"
      },
      {
        "duration": 2,
        "start_time": "2022-07-25T07:36:24.965Z"
      },
      {
        "duration": 7,
        "start_time": "2022-07-25T07:36:24.969Z"
      },
      {
        "duration": 47,
        "start_time": "2022-07-25T07:36:24.978Z"
      },
      {
        "duration": 314,
        "start_time": "2022-07-25T07:36:25.028Z"
      },
      {
        "duration": 122,
        "start_time": "2022-07-25T07:36:25.343Z"
      },
      {
        "duration": 18,
        "start_time": "2022-07-25T07:36:25.468Z"
      },
      {
        "duration": 126,
        "start_time": "2022-07-25T07:36:25.487Z"
      },
      {
        "duration": 393,
        "start_time": "2022-07-25T07:36:25.615Z"
      },
      {
        "duration": 10,
        "start_time": "2022-07-25T07:36:26.009Z"
      },
      {
        "duration": 59,
        "start_time": "2022-07-25T07:36:26.020Z"
      },
      {
        "duration": 37,
        "start_time": "2022-07-25T07:36:26.081Z"
      },
      {
        "duration": 26,
        "start_time": "2022-07-25T07:36:26.120Z"
      },
      {
        "duration": 18,
        "start_time": "2022-07-25T07:36:26.147Z"
      },
      {
        "duration": 7627,
        "start_time": "2022-07-25T07:36:26.167Z"
      },
      {
        "duration": 17,
        "start_time": "2022-07-25T07:36:33.796Z"
      },
      {
        "duration": 107,
        "start_time": "2022-07-25T07:36:33.815Z"
      },
      {
        "duration": 7773,
        "start_time": "2022-07-25T07:36:33.927Z"
      },
      {
        "duration": 393,
        "start_time": "2022-07-25T07:36:41.702Z"
      },
      {
        "duration": 14,
        "start_time": "2022-07-25T07:36:42.097Z"
      },
      {
        "duration": 9,
        "start_time": "2022-07-25T07:36:42.113Z"
      },
      {
        "duration": 217,
        "start_time": "2022-07-25T07:36:42.124Z"
      },
      {
        "duration": 7200,
        "start_time": "2022-07-25T07:36:42.343Z"
      },
      {
        "duration": 475,
        "start_time": "2022-07-25T07:36:49.545Z"
      },
      {
        "duration": 90,
        "start_time": "2022-07-25T07:36:50.022Z"
      },
      {
        "duration": 7039,
        "start_time": "2022-07-25T07:36:50.114Z"
      },
      {
        "duration": 97,
        "start_time": "2022-07-25T07:36:57.155Z"
      },
      {
        "duration": 7988,
        "start_time": "2022-07-25T07:36:57.254Z"
      },
      {
        "duration": 57,
        "start_time": "2022-07-25T07:37:05.245Z"
      },
      {
        "duration": 14,
        "start_time": "2022-07-25T07:37:05.304Z"
      },
      {
        "duration": 19,
        "start_time": "2022-07-25T07:37:05.320Z"
      },
      {
        "duration": 32,
        "start_time": "2022-07-25T07:37:05.341Z"
      },
      {
        "duration": 90,
        "start_time": "2022-07-25T07:37:05.375Z"
      },
      {
        "duration": 7,
        "start_time": "2022-07-25T07:37:05.466Z"
      },
      {
        "duration": 100,
        "start_time": "2022-07-25T07:37:05.475Z"
      },
      {
        "duration": 5,
        "start_time": "2022-07-25T07:37:05.577Z"
      },
      {
        "duration": 425,
        "start_time": "2022-07-25T07:37:05.584Z"
      },
      {
        "duration": 6,
        "start_time": "2022-07-25T07:37:06.011Z"
      },
      {
        "duration": 1480,
        "start_time": "2022-07-25T07:37:06.021Z"
      },
      {
        "duration": 114,
        "start_time": "2022-07-25T07:37:07.503Z"
      },
      {
        "duration": 0,
        "start_time": "2022-07-25T07:37:07.619Z"
      },
      {
        "duration": 0,
        "start_time": "2022-07-25T07:37:07.620Z"
      },
      {
        "duration": 0,
        "start_time": "2022-07-25T07:37:07.621Z"
      },
      {
        "duration": 0,
        "start_time": "2022-07-25T07:37:07.622Z"
      },
      {
        "duration": 0,
        "start_time": "2022-07-25T07:37:07.624Z"
      },
      {
        "duration": 0,
        "start_time": "2022-07-25T07:37:07.639Z"
      },
      {
        "duration": 0,
        "start_time": "2022-07-25T07:37:07.640Z"
      },
      {
        "duration": 0,
        "start_time": "2022-07-25T07:37:07.642Z"
      },
      {
        "duration": 0,
        "start_time": "2022-07-25T07:37:07.643Z"
      },
      {
        "duration": 0,
        "start_time": "2022-07-25T07:37:07.644Z"
      },
      {
        "duration": 0,
        "start_time": "2022-07-25T07:37:07.645Z"
      },
      {
        "duration": 0,
        "start_time": "2022-07-25T07:37:07.647Z"
      },
      {
        "duration": 0,
        "start_time": "2022-07-25T07:37:07.663Z"
      },
      {
        "duration": 0,
        "start_time": "2022-07-25T07:37:07.664Z"
      },
      {
        "duration": 0,
        "start_time": "2022-07-25T07:37:07.665Z"
      },
      {
        "duration": 0,
        "start_time": "2022-07-25T07:37:07.666Z"
      },
      {
        "duration": 0,
        "start_time": "2022-07-25T07:37:07.667Z"
      },
      {
        "duration": 0,
        "start_time": "2022-07-25T07:37:07.668Z"
      },
      {
        "duration": 0,
        "start_time": "2022-07-25T07:37:07.669Z"
      },
      {
        "duration": 0,
        "start_time": "2022-07-25T07:37:07.670Z"
      },
      {
        "duration": 0,
        "start_time": "2022-07-25T07:37:07.671Z"
      },
      {
        "duration": 0,
        "start_time": "2022-07-25T07:37:07.672Z"
      },
      {
        "duration": 0,
        "start_time": "2022-07-25T07:37:07.673Z"
      },
      {
        "duration": 1456,
        "start_time": "2022-07-25T07:41:12.384Z"
      },
      {
        "duration": 1768,
        "start_time": "2022-07-25T07:41:13.842Z"
      },
      {
        "duration": 98,
        "start_time": "2022-07-25T07:41:15.612Z"
      },
      {
        "duration": 97,
        "start_time": "2022-07-25T07:41:15.713Z"
      },
      {
        "duration": 436,
        "start_time": "2022-07-25T07:41:15.812Z"
      },
      {
        "duration": 18,
        "start_time": "2022-07-25T07:41:16.250Z"
      },
      {
        "duration": 14,
        "start_time": "2022-07-25T07:41:16.269Z"
      },
      {
        "duration": 321,
        "start_time": "2022-07-25T07:41:16.285Z"
      },
      {
        "duration": 357,
        "start_time": "2022-07-25T07:41:16.608Z"
      },
      {
        "duration": 42,
        "start_time": "2022-07-25T07:41:16.967Z"
      },
      {
        "duration": 56,
        "start_time": "2022-07-25T07:41:17.011Z"
      },
      {
        "duration": 3,
        "start_time": "2022-07-25T07:41:17.069Z"
      },
      {
        "duration": 19,
        "start_time": "2022-07-25T07:41:17.074Z"
      },
      {
        "duration": 83,
        "start_time": "2022-07-25T07:41:17.095Z"
      },
      {
        "duration": 272,
        "start_time": "2022-07-25T07:41:17.180Z"
      },
      {
        "duration": 124,
        "start_time": "2022-07-25T07:41:17.454Z"
      },
      {
        "duration": 19,
        "start_time": "2022-07-25T07:41:17.581Z"
      },
      {
        "duration": 134,
        "start_time": "2022-07-25T07:41:17.602Z"
      },
      {
        "duration": 411,
        "start_time": "2022-07-25T07:41:17.739Z"
      },
      {
        "duration": 16,
        "start_time": "2022-07-25T07:41:18.152Z"
      },
      {
        "duration": 46,
        "start_time": "2022-07-25T07:41:18.170Z"
      },
      {
        "duration": 47,
        "start_time": "2022-07-25T07:41:18.217Z"
      },
      {
        "duration": 24,
        "start_time": "2022-07-25T07:41:18.266Z"
      },
      {
        "duration": 22,
        "start_time": "2022-07-25T07:41:18.292Z"
      },
      {
        "duration": 7167,
        "start_time": "2022-07-25T07:41:18.316Z"
      },
      {
        "duration": 16,
        "start_time": "2022-07-25T07:41:25.484Z"
      },
      {
        "duration": 98,
        "start_time": "2022-07-25T07:41:25.502Z"
      },
      {
        "duration": 7663,
        "start_time": "2022-07-25T07:41:25.605Z"
      },
      {
        "duration": 391,
        "start_time": "2022-07-25T07:41:33.270Z"
      },
      {
        "duration": 12,
        "start_time": "2022-07-25T07:41:33.663Z"
      },
      {
        "duration": 8,
        "start_time": "2022-07-25T07:41:33.677Z"
      },
      {
        "duration": 207,
        "start_time": "2022-07-25T07:41:33.687Z"
      },
      {
        "duration": 6994,
        "start_time": "2022-07-25T07:41:33.896Z"
      },
      {
        "duration": 485,
        "start_time": "2022-07-25T07:41:40.892Z"
      },
      {
        "duration": 108,
        "start_time": "2022-07-25T07:41:41.379Z"
      },
      {
        "duration": 6969,
        "start_time": "2022-07-25T07:41:41.489Z"
      },
      {
        "duration": 91,
        "start_time": "2022-07-25T07:41:48.464Z"
      },
      {
        "duration": 7959,
        "start_time": "2022-07-25T07:41:48.564Z"
      },
      {
        "duration": 53,
        "start_time": "2022-07-25T07:41:56.525Z"
      },
      {
        "duration": 15,
        "start_time": "2022-07-25T07:41:56.580Z"
      },
      {
        "duration": 16,
        "start_time": "2022-07-25T07:41:56.597Z"
      },
      {
        "duration": 12,
        "start_time": "2022-07-25T07:41:56.614Z"
      },
      {
        "duration": 92,
        "start_time": "2022-07-25T07:41:56.629Z"
      },
      {
        "duration": 9,
        "start_time": "2022-07-25T07:41:56.723Z"
      },
      {
        "duration": 103,
        "start_time": "2022-07-25T07:41:56.733Z"
      },
      {
        "duration": 4,
        "start_time": "2022-07-25T07:41:56.838Z"
      },
      {
        "duration": 441,
        "start_time": "2022-07-25T07:41:56.844Z"
      },
      {
        "duration": 6,
        "start_time": "2022-07-25T07:41:57.287Z"
      },
      {
        "duration": 1527,
        "start_time": "2022-07-25T07:41:57.294Z"
      },
      {
        "duration": 3,
        "start_time": "2022-07-25T07:41:58.823Z"
      },
      {
        "duration": 29,
        "start_time": "2022-07-25T07:41:58.828Z"
      },
      {
        "duration": 3,
        "start_time": "2022-07-25T07:41:58.864Z"
      },
      {
        "duration": 7,
        "start_time": "2022-07-25T07:41:58.868Z"
      },
      {
        "duration": 6,
        "start_time": "2022-07-25T07:41:58.877Z"
      },
      {
        "duration": 10,
        "start_time": "2022-07-25T07:41:58.885Z"
      },
      {
        "duration": 9,
        "start_time": "2022-07-25T07:41:58.897Z"
      },
      {
        "duration": 6,
        "start_time": "2022-07-25T07:41:58.907Z"
      },
      {
        "duration": 10,
        "start_time": "2022-07-25T07:41:58.915Z"
      },
      {
        "duration": 500,
        "start_time": "2022-07-25T07:41:58.927Z"
      },
      {
        "duration": 86840,
        "start_time": "2022-07-25T07:41:59.429Z"
      },
      {
        "duration": 58068,
        "start_time": "2022-07-25T07:43:26.271Z"
      },
      {
        "duration": 525338,
        "start_time": "2022-07-25T07:44:24.341Z"
      },
      {
        "duration": 17990,
        "start_time": "2022-07-25T07:53:09.681Z"
      },
      {
        "duration": 190,
        "start_time": "2022-07-25T07:53:27.674Z"
      },
      {
        "duration": 7,
        "start_time": "2022-07-25T07:53:27.866Z"
      },
      {
        "duration": 416,
        "start_time": "2022-07-25T07:53:27.964Z"
      },
      {
        "duration": 159,
        "start_time": "2022-07-25T07:53:28.382Z"
      },
      {
        "duration": 4,
        "start_time": "2022-07-25T07:53:28.543Z"
      },
      {
        "duration": 14322,
        "start_time": "2022-07-25T07:53:28.549Z"
      },
      {
        "duration": 1003,
        "start_time": "2022-07-25T07:53:42.872Z"
      },
      {
        "duration": 5,
        "start_time": "2022-07-25T07:53:43.876Z"
      },
      {
        "duration": 18,
        "start_time": "2022-07-25T07:53:43.882Z"
      },
      {
        "duration": 16674,
        "start_time": "2022-07-25T07:53:43.902Z"
      },
      {
        "duration": 572963,
        "start_time": "2022-07-25T07:54:00.581Z"
      },
      {
        "duration": 4801,
        "start_time": "2022-07-25T08:03:33.547Z"
      },
      {
        "duration": 110,
        "start_time": "2022-07-25T08:59:53.688Z"
      },
      {
        "duration": 11,
        "start_time": "2022-07-25T09:01:13.884Z"
      },
      {
        "duration": 1479,
        "start_time": "2022-07-25T09:01:51.768Z"
      },
      {
        "duration": 2209,
        "start_time": "2022-07-25T09:01:53.249Z"
      },
      {
        "duration": 99,
        "start_time": "2022-07-25T09:01:55.460Z"
      },
      {
        "duration": 89,
        "start_time": "2022-07-25T09:01:55.564Z"
      },
      {
        "duration": 441,
        "start_time": "2022-07-25T09:01:55.663Z"
      },
      {
        "duration": 14,
        "start_time": "2022-07-25T09:01:56.105Z"
      },
      {
        "duration": 17,
        "start_time": "2022-07-25T09:01:56.121Z"
      },
      {
        "duration": 325,
        "start_time": "2022-07-25T09:01:56.139Z"
      },
      {
        "duration": 410,
        "start_time": "2022-07-25T09:01:56.466Z"
      },
      {
        "duration": 40,
        "start_time": "2022-07-25T09:01:56.879Z"
      },
      {
        "duration": 57,
        "start_time": "2022-07-25T09:01:56.921Z"
      },
      {
        "duration": 2,
        "start_time": "2022-07-25T09:01:56.980Z"
      },
      {
        "duration": 13,
        "start_time": "2022-07-25T09:01:56.983Z"
      },
      {
        "duration": 63,
        "start_time": "2022-07-25T09:01:56.998Z"
      },
      {
        "duration": 263,
        "start_time": "2022-07-25T09:01:57.063Z"
      },
      {
        "duration": 137,
        "start_time": "2022-07-25T09:01:57.328Z"
      },
      {
        "duration": 22,
        "start_time": "2022-07-25T09:01:57.466Z"
      },
      {
        "duration": 121,
        "start_time": "2022-07-25T09:01:57.490Z"
      },
      {
        "duration": 421,
        "start_time": "2022-07-25T09:01:57.613Z"
      },
      {
        "duration": 10,
        "start_time": "2022-07-25T09:01:58.036Z"
      },
      {
        "duration": 47,
        "start_time": "2022-07-25T09:01:58.048Z"
      },
      {
        "duration": 27,
        "start_time": "2022-07-25T09:01:58.097Z"
      },
      {
        "duration": 43,
        "start_time": "2022-07-25T09:01:58.126Z"
      },
      {
        "duration": 4,
        "start_time": "2022-07-25T09:01:58.171Z"
      },
      {
        "duration": 7460,
        "start_time": "2022-07-25T09:01:58.177Z"
      },
      {
        "duration": 26,
        "start_time": "2022-07-25T09:02:05.639Z"
      },
      {
        "duration": 106,
        "start_time": "2022-07-25T09:02:05.667Z"
      },
      {
        "duration": 7721,
        "start_time": "2022-07-25T09:02:05.779Z"
      },
      {
        "duration": 407,
        "start_time": "2022-07-25T09:02:13.502Z"
      },
      {
        "duration": 15,
        "start_time": "2022-07-25T09:02:13.911Z"
      },
      {
        "duration": 9,
        "start_time": "2022-07-25T09:02:13.928Z"
      },
      {
        "duration": 238,
        "start_time": "2022-07-25T09:02:13.939Z"
      },
      {
        "duration": 7014,
        "start_time": "2022-07-25T09:02:14.178Z"
      },
      {
        "duration": 493,
        "start_time": "2022-07-25T09:02:21.195Z"
      },
      {
        "duration": 90,
        "start_time": "2022-07-25T09:02:21.690Z"
      },
      {
        "duration": 7078,
        "start_time": "2022-07-25T09:02:21.782Z"
      },
      {
        "duration": 100,
        "start_time": "2022-07-25T09:02:28.863Z"
      },
      {
        "duration": 7957,
        "start_time": "2022-07-25T09:02:28.965Z"
      },
      {
        "duration": 46,
        "start_time": "2022-07-25T09:02:36.924Z"
      },
      {
        "duration": 14,
        "start_time": "2022-07-25T09:02:36.972Z"
      },
      {
        "duration": 18,
        "start_time": "2022-07-25T09:02:36.987Z"
      },
      {
        "duration": 10,
        "start_time": "2022-07-25T09:02:37.006Z"
      },
      {
        "duration": 85,
        "start_time": "2022-07-25T09:02:37.018Z"
      },
      {
        "duration": 6,
        "start_time": "2022-07-25T09:02:37.105Z"
      },
      {
        "duration": 92,
        "start_time": "2022-07-25T09:02:37.113Z"
      },
      {
        "duration": 3,
        "start_time": "2022-07-25T09:02:37.207Z"
      },
      {
        "duration": 420,
        "start_time": "2022-07-25T09:02:37.212Z"
      },
      {
        "duration": 5,
        "start_time": "2022-07-25T09:02:37.634Z"
      },
      {
        "duration": 1354,
        "start_time": "2022-07-25T09:02:37.641Z"
      },
      {
        "duration": 2,
        "start_time": "2022-07-25T09:02:38.997Z"
      },
      {
        "duration": 35,
        "start_time": "2022-07-25T09:02:39.000Z"
      },
      {
        "duration": 6,
        "start_time": "2022-07-25T09:02:39.037Z"
      },
      {
        "duration": 6,
        "start_time": "2022-07-25T09:02:39.045Z"
      },
      {
        "duration": 5,
        "start_time": "2022-07-25T09:02:39.052Z"
      },
      {
        "duration": 9,
        "start_time": "2022-07-25T09:02:39.059Z"
      },
      {
        "duration": 6,
        "start_time": "2022-07-25T09:02:39.069Z"
      },
      {
        "duration": 6,
        "start_time": "2022-07-25T09:02:39.077Z"
      },
      {
        "duration": 7,
        "start_time": "2022-07-25T09:02:39.084Z"
      },
      {
        "duration": 427,
        "start_time": "2022-07-25T09:02:39.093Z"
      },
      {
        "duration": 4,
        "start_time": "2022-07-25T09:02:39.522Z"
      },
      {
        "duration": 7,
        "start_time": "2022-07-25T09:02:39.527Z"
      },
      {
        "duration": 5,
        "start_time": "2022-07-25T09:02:39.535Z"
      },
      {
        "duration": 19324,
        "start_time": "2022-07-25T09:02:39.541Z"
      },
      {
        "duration": 108,
        "start_time": "2022-07-25T09:02:58.867Z"
      },
      {
        "duration": 92,
        "start_time": "2022-07-25T09:02:58.977Z"
      },
      {
        "duration": 4930,
        "start_time": "2022-07-25T09:02:59.071Z"
      },
      {
        "duration": 111,
        "start_time": "2022-07-25T09:03:04.003Z"
      },
      {
        "duration": 5,
        "start_time": "2022-07-25T09:03:04.116Z"
      },
      {
        "duration": 14642,
        "start_time": "2022-07-25T09:03:04.123Z"
      },
      {
        "duration": 916,
        "start_time": "2022-07-25T09:03:18.766Z"
      },
      {
        "duration": 5,
        "start_time": "2022-07-25T09:03:19.765Z"
      },
      {
        "duration": 15,
        "start_time": "2022-07-25T09:03:19.771Z"
      },
      {
        "duration": 19983,
        "start_time": "2022-07-25T09:03:19.788Z"
      }
    ],
    "colab": {
      "collapsed_sections": [],
      "provenance": [],
      "include_colab_link": true
    },
    "kernelspec": {
      "display_name": "Python 3 (ipykernel)",
      "language": "python",
      "name": "python3"
    },
    "language_info": {
      "codemirror_mode": {
        "name": "ipython",
        "version": 3
      },
      "file_extension": ".py",
      "mimetype": "text/x-python",
      "name": "python",
      "nbconvert_exporter": "python",
      "pygments_lexer": "ipython3",
      "version": "3.9.5"
    },
    "toc": {
      "base_numbering": 1,
      "nav_menu": {},
      "number_sections": true,
      "sideBar": true,
      "skip_h1_title": true,
      "title_cell": "Table of Contents",
      "title_sidebar": "Contents",
      "toc_cell": false,
      "toc_position": {
        "height": "calc(100% - 180px)",
        "left": "10px",
        "top": "150px",
        "width": "287.195px"
      },
      "toc_section_display": true,
      "toc_window_display": true
    }
  },
  "nbformat": 4,
  "nbformat_minor": 0
}